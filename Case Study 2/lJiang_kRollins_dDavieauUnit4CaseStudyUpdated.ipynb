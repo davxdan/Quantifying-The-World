{
 "cells": [
  {
   "cell_type": "markdown",
   "metadata": {},
   "source": [
    "### Q.7 \n",
    "Follow the approach developed in Section 2.2 to read the files for the female runners\n",
    "and then process them using the functions in Section 2.3 to create a data frame for analysis.\n",
    "You may need to generalize the createDF() and extractVariables() functions to handle\n",
    "additional oddities in the raw text files.\n",
    "### Q.10\n",
    "We have seen that the 1999 runners were typically older than the 2012 runners.\n",
    "Compare the age distribution of the [female] runners across all 14 years of the races. Use\n",
    "quantile–quantile plots, boxplots, and density curves to make your comparisons. How do\n",
    "the distributions change over the years? Was it a gradual change?"
   ]
  },
  {
   "cell_type": "code",
   "execution_count": 19,
   "metadata": {},
   "outputs": [],
   "source": [
    "#setwd('C:/Users/danie/Documents/GitHub/Quantifying-The-World/Case Study 2')\n",
    "setwd(\"C:/Users/N1110/Desktop/QTW/Jan30\")\n",
    "library(XML)\n",
    "ubase = \"http://www.cherryblossom.org/\""
   ]
  },
  {
   "cell_type": "code",
   "execution_count": 20,
   "metadata": {},
   "outputs": [],
   "source": [
    "\n",
    "womenURLs = \n",
    "  c(\"results/1999/cb99f.html\", \n",
    "    \"results/2000/Cb003f.htm\", \n",
    "    \"results/2001/oof_f.html\",\n",
    "    \"results/2002/ooff.htm\", \n",
    "    \"results/2003/CB03-F.HTM\",\n",
    "    \"results/2004/womennet.htm\", \n",
    "    \"results/2005/womennet.htm\", \n",
    "    \"results/2006/womennet.htm\", \n",
    "    \"results/2007/women.htm\", \n",
    "    \"results/2008/women.htm\", \n",
    "    \"results/2009/09cucb-F.htm\",\n",
    "    \"results/2010/2010cucb10m-f.htm\", \n",
    "    \"results/2011/2011cucb10m-f.htm\",\n",
    "    \"results/2012/2012cucb10m-f.htm\")\n",
    "\n",
    "urls = paste(ubase, womenURLs, sep=\"\")"
   ]
  },
  {
   "cell_type": "code",
   "execution_count": 21,
   "metadata": {},
   "outputs": [
    {
     "data": {
      "text/html": [
       "<dl class=dl-horizontal>\n",
       "\t<dt>1999</dt>\n",
       "\t\t<dd>2359</dd>\n",
       "\t<dt>2000</dt>\n",
       "\t\t<dd>2169</dd>\n",
       "\t<dt>2001</dt>\n",
       "\t\t<dd>2976</dd>\n",
       "\t<dt>2002</dt>\n",
       "\t\t<dd>3338</dd>\n",
       "\t<dt>2003</dt>\n",
       "\t\t<dd>3547</dd>\n",
       "\t<dt>2004</dt>\n",
       "\t\t<dd>3907</dd>\n",
       "\t<dt>2005</dt>\n",
       "\t\t<dd>4342</dd>\n",
       "\t<dt>2006</dt>\n",
       "\t\t<dd>5445</dd>\n",
       "\t<dt>2007</dt>\n",
       "\t\t<dd>5699</dd>\n",
       "\t<dt>2008</dt>\n",
       "\t\t<dd>6405</dd>\n",
       "\t<dt>2009</dt>\n",
       "\t\t<dd>8333</dd>\n",
       "\t<dt>2010</dt>\n",
       "\t\t<dd>8863</dd>\n",
       "\t<dt>2011</dt>\n",
       "\t\t<dd>9038</dd>\n",
       "\t<dt>2012</dt>\n",
       "\t\t<dd>9737</dd>\n",
       "</dl>\n"
      ],
      "text/latex": [
       "\\begin{description*}\n",
       "\\item[1999] 2359\n",
       "\\item[2000] 2169\n",
       "\\item[2001] 2976\n",
       "\\item[2002] 3338\n",
       "\\item[2003] 3547\n",
       "\\item[2004] 3907\n",
       "\\item[2005] 4342\n",
       "\\item[2006] 5445\n",
       "\\item[2007] 5699\n",
       "\\item[2008] 6405\n",
       "\\item[2009] 8333\n",
       "\\item[2010] 8863\n",
       "\\item[2011] 9038\n",
       "\\item[2012] 9737\n",
       "\\end{description*}\n"
      ],
      "text/markdown": [
       "1999\n",
       ":   23592000\n",
       ":   21692001\n",
       ":   29762002\n",
       ":   33382003\n",
       ":   35472004\n",
       ":   39072005\n",
       ":   43422006\n",
       ":   54452007\n",
       ":   56992008\n",
       ":   64052009\n",
       ":   83332010\n",
       ":   88632011\n",
       ":   90382012\n",
       ":   9737\n",
       "\n"
      ],
      "text/plain": [
       "1999 2000 2001 2002 2003 2004 2005 2006 2007 2008 2009 2010 2011 2012 \n",
       "2359 2169 2976 3338 3547 3907 4342 5445 5699 6405 8333 8863 9038 9737 "
      ]
     },
     "metadata": {},
     "output_type": "display_data"
    },
    {
     "data": {
      "text/html": [
       "<ol class=list-inline>\n",
       "\t<li>''</li>\n",
       "\t<li><span style=white-space:pre-wrap>'PLACE DIV /TOT  NAME                  AG HOMETOWN           TIME    PACE  '</span></li>\n",
       "\t<li>'===== ========= ===================== == ================== ======= ===== '</li>\n",
       "\t<li><span style=white-space:pre-wrap>'    1    1/1683 Jane Omoro            26 Kenya                53:37  5:22 '</span></li>\n",
       "\t<li><span style=white-space:pre-wrap>'    2    2/1683 Jane Ngotho           29 Kenya                53:38  5:22 '</span></li>\n",
       "\t<li><span style=white-space:pre-wrap>'    3           Lidiya Grigoryeva        Russia               53:40  5:22 '</span></li>\n",
       "\t<li><span style=white-space:pre-wrap>'    4    3/1683 Eunice Sagero         20 Kenya                53:55  5:24 '</span></li>\n",
       "\t<li><span style=white-space:pre-wrap>'    5    4/1683 Alla Zhilyayeva       29 Russia               54:08  5:25 '</span></li>\n",
       "\t<li><span style=white-space:pre-wrap>'    6    5/1683 Teresa Wanjiku        24 Kenya                54:10  5:25 '</span></li>\n",
       "\t<li><span style=white-space:pre-wrap>'    7    6/1683 Elana Viazova         38 Ukraine              54:29  5:27 '</span></li>\n",
       "</ol>\n"
      ],
      "text/latex": [
       "\\begin{enumerate*}\n",
       "\\item ''\n",
       "\\item 'PLACE DIV /TOT  NAME                  AG HOMETOWN           TIME    PACE  '\n",
       "\\item '===== ========= ===================== == ================== ======= ===== '\n",
       "\\item '    1    1/1683 Jane Omoro            26 Kenya                53:37  5:22 '\n",
       "\\item '    2    2/1683 Jane Ngotho           29 Kenya                53:38  5:22 '\n",
       "\\item '    3           Lidiya Grigoryeva        Russia               53:40  5:22 '\n",
       "\\item '    4    3/1683 Eunice Sagero         20 Kenya                53:55  5:24 '\n",
       "\\item '    5    4/1683 Alla Zhilyayeva       29 Russia               54:08  5:25 '\n",
       "\\item '    6    5/1683 Teresa Wanjiku        24 Kenya                54:10  5:25 '\n",
       "\\item '    7    6/1683 Elana Viazova         38 Ukraine              54:29  5:27 '\n",
       "\\end{enumerate*}\n"
      ],
      "text/markdown": [
       "1. ''\n",
       "2. <span style=white-space:pre-wrap>'PLACE DIV /TOT  NAME                  AG HOMETOWN           TIME    PACE  '</span>\n",
       "3. '===== ========= ===================== == ================== ======= ===== '\n",
       "4. <span style=white-space:pre-wrap>'    1    1/1683 Jane Omoro            26 Kenya                53:37  5:22 '</span>\n",
       "5. <span style=white-space:pre-wrap>'    2    2/1683 Jane Ngotho           29 Kenya                53:38  5:22 '</span>\n",
       "6. <span style=white-space:pre-wrap>'    3           Lidiya Grigoryeva        Russia               53:40  5:22 '</span>\n",
       "7. <span style=white-space:pre-wrap>'    4    3/1683 Eunice Sagero         20 Kenya                53:55  5:24 '</span>\n",
       "8. <span style=white-space:pre-wrap>'    5    4/1683 Alla Zhilyayeva       29 Russia               54:08  5:25 '</span>\n",
       "9. <span style=white-space:pre-wrap>'    6    5/1683 Teresa Wanjiku        24 Kenya                54:10  5:25 '</span>\n",
       "10. <span style=white-space:pre-wrap>'    7    6/1683 Elana Viazova         38 Ukraine              54:29  5:27 '</span>\n",
       "\n",
       "\n"
      ],
      "text/plain": [
       " [1] \"\"                                                                          \n",
       " [2] \"PLACE DIV /TOT  NAME                  AG HOMETOWN           TIME    PACE  \"\n",
       " [3] \"===== ========= ===================== == ================== ======= ===== \"\n",
       " [4] \"    1    1/1683 Jane Omoro            26 Kenya                53:37  5:22 \"\n",
       " [5] \"    2    2/1683 Jane Ngotho           29 Kenya                53:38  5:22 \"\n",
       " [6] \"    3           Lidiya Grigoryeva        Russia               53:40  5:22 \"\n",
       " [7] \"    4    3/1683 Eunice Sagero         20 Kenya                53:55  5:24 \"\n",
       " [8] \"    5    4/1683 Alla Zhilyayeva       29 Russia               54:08  5:25 \"\n",
       " [9] \"    6    5/1683 Teresa Wanjiku        24 Kenya                54:10  5:25 \"\n",
       "[10] \"    7    6/1683 Elana Viazova         38 Ukraine              54:29  5:27 \""
      ]
     },
     "metadata": {},
     "output_type": "display_data"
    },
    {
     "data": {
      "text/html": [
       "<ol class=list-inline>\n",
       "\t<li><span style=white-space:pre-wrap>'PLACE DIV /TOT  NUM   NAME                  AG HOMETOWN           GUN TIM  NET TIM '</span></li>\n",
       "\t<li><span style=white-space:pre-wrap>'===== ========= ===== ===================== == ================== =======  ======= '</span></li>\n",
       "\t<li><span style=white-space:pre-wrap>'    1    1/1503  7005 Teresa Wanjiku        25 Kenya                55:53#   55:50 '</span></li>\n",
       "\t<li><span style=white-space:pre-wrap>'    2    2/1503  7001 Jane Omoro            27 Kenya                55:58#   55:56 '</span></li>\n",
       "\t<li><span style=white-space:pre-wrap>'    3    3/1503  7008 Jane Ngotho           32 Kenya                56:04#   56:01 '</span></li>\n",
       "\t<li><span style=white-space:pre-wrap>'    4    4/1503  7007 Nuta Olaru            29 Romania              56:07#   56:06 '</span></li>\n",
       "\t<li><span style=white-space:pre-wrap>'    5    5/1503  7014 Salena Chirchir       31 Kenya                57:34#   57:31 '</span></li>\n",
       "\t<li><span style=white-space:pre-wrap>'    6    6/1503  7010 Alisa Harvey          34 Manassas VA          58:06    58:03 '</span></li>\n",
       "\t<li><span style=white-space:pre-wrap>'    7    7/1503  7061 Martha Merz           37 Mystic CT            59:55*   59:51 '</span></li>\n",
       "\t<li><span style=white-space:pre-wrap>'    8    8/1503  7011 Lori Stich            29 Stanwood MI        1:00:22  1:00:20 '</span></li>\n",
       "</ol>\n"
      ],
      "text/latex": [
       "\\begin{enumerate*}\n",
       "\\item 'PLACE DIV /TOT  NUM   NAME                  AG HOMETOWN           GUN TIM  NET TIM '\n",
       "\\item '===== ========= ===== ===================== == ================== =======  ======= '\n",
       "\\item '    1    1/1503  7005 Teresa Wanjiku        25 Kenya                55:53\\#   55:50 '\n",
       "\\item '    2    2/1503  7001 Jane Omoro            27 Kenya                55:58\\#   55:56 '\n",
       "\\item '    3    3/1503  7008 Jane Ngotho           32 Kenya                56:04\\#   56:01 '\n",
       "\\item '    4    4/1503  7007 Nuta Olaru            29 Romania              56:07\\#   56:06 '\n",
       "\\item '    5    5/1503  7014 Salena Chirchir       31 Kenya                57:34\\#   57:31 '\n",
       "\\item '    6    6/1503  7010 Alisa Harvey          34 Manassas VA          58:06    58:03 '\n",
       "\\item '    7    7/1503  7061 Martha Merz           37 Mystic CT            59:55*   59:51 '\n",
       "\\item '    8    8/1503  7011 Lori Stich            29 Stanwood MI        1:00:22  1:00:20 '\n",
       "\\end{enumerate*}\n"
      ],
      "text/markdown": [
       "1. <span style=white-space:pre-wrap>'PLACE DIV /TOT  NUM   NAME                  AG HOMETOWN           GUN TIM  NET TIM '</span>\n",
       "2. <span style=white-space:pre-wrap>'===== ========= ===== ===================== == ================== =======  ======= '</span>\n",
       "3. <span style=white-space:pre-wrap>'    1    1/1503  7005 Teresa Wanjiku        25 Kenya                55:53#   55:50 '</span>\n",
       "4. <span style=white-space:pre-wrap>'    2    2/1503  7001 Jane Omoro            27 Kenya                55:58#   55:56 '</span>\n",
       "5. <span style=white-space:pre-wrap>'    3    3/1503  7008 Jane Ngotho           32 Kenya                56:04#   56:01 '</span>\n",
       "6. <span style=white-space:pre-wrap>'    4    4/1503  7007 Nuta Olaru            29 Romania              56:07#   56:06 '</span>\n",
       "7. <span style=white-space:pre-wrap>'    5    5/1503  7014 Salena Chirchir       31 Kenya                57:34#   57:31 '</span>\n",
       "8. <span style=white-space:pre-wrap>'    6    6/1503  7010 Alisa Harvey          34 Manassas VA          58:06    58:03 '</span>\n",
       "9. <span style=white-space:pre-wrap>'    7    7/1503  7061 Martha Merz           37 Mystic CT            59:55*   59:51 '</span>\n",
       "10. <span style=white-space:pre-wrap>'    8    8/1503  7011 Lori Stich            29 Stanwood MI        1:00:22  1:00:20 '</span>\n",
       "\n",
       "\n"
      ],
      "text/plain": [
       " [1] \"PLACE DIV /TOT  NUM   NAME                  AG HOMETOWN           GUN TIM  NET TIM \"\n",
       " [2] \"===== ========= ===== ===================== == ================== =======  ======= \"\n",
       " [3] \"    1    1/1503  7005 Teresa Wanjiku        25 Kenya                55:53#   55:50 \"\n",
       " [4] \"    2    2/1503  7001 Jane Omoro            27 Kenya                55:58#   55:56 \"\n",
       " [5] \"    3    3/1503  7008 Jane Ngotho           32 Kenya                56:04#   56:01 \"\n",
       " [6] \"    4    4/1503  7007 Nuta Olaru            29 Romania              56:07#   56:06 \"\n",
       " [7] \"    5    5/1503  7014 Salena Chirchir       31 Kenya                57:34#   57:31 \"\n",
       " [8] \"    6    6/1503  7010 Alisa Harvey          34 Manassas VA          58:06    58:03 \"\n",
       " [9] \"    7    7/1503  7061 Martha Merz           37 Mystic CT            59:55*   59:51 \"\n",
       "[10] \"    8    8/1503  7011 Lori Stich            29 Stanwood MI        1:00:22  1:00:20 \""
      ]
     },
     "metadata": {},
     "output_type": "display_data"
    }
   ],
   "source": [
    "extractResTable =\n",
    "\n",
    "  function(url = \"http://www.cherryblossom.org/results/2009/09cucb-F.htm\",\n",
    "           year = 1999, sex = \"female\", file = NULL)\n",
    "  {\n",
    "    doc = htmlParse(url, encoding=\"UTF-8\")\n",
    "    \n",
    "    if (year == 2000) {\n",
    "      ff = getNodeSet(doc, \"//font\")\n",
    "      txt = xmlValue(ff[[4]])\n",
    "      els = strsplit(txt, \"\\r\\n\")[[1]]\n",
    "    }\n",
    "    \n",
    "    else if (year == 1999 & sex == \"female\") {\n",
    "      pres = getNodeSet(doc, \"//pre\")\n",
    "      txt = xmlValue(pres[[1]])\n",
    "      els = strsplit(txt, \"\\n\")[[1]]   \n",
    "    }\n",
    "    else {\n",
    "      pres = getNodeSet(doc, \"//pre\")\n",
    "      txt = xmlValue(pres[[1]])\n",
    "      els = strsplit(txt, \"\\r\\n\")[[1]]   \n",
    "    } \n",
    "    \n",
    "    if (is.null(file)) return(els)\n",
    "    # Write the lines as a text file.\n",
    "    writeLines(els, con = file)\n",
    "  }\n",
    "\n",
    "years = 1999:2012\n",
    "womenTables = mapply(extractResTable, url = urls, year = years)\n",
    "\n",
    "# womenTables <- list()\n",
    "# for(i in 1:length(years)){\n",
    "#   womenTables[[i]] <- try(extractResTable(url=urls[i], year=years[i]))\n",
    "# }\n",
    "\n",
    "womenTables = mapply(extractResTable, url = urls, year = years)\n",
    "names(womenTables) = years\n",
    "sapply(womenTables, length)\n",
    "\n",
    "\n",
    "#### Confirmation that the 1999 and other years have consistent formatting\n",
    "womenTables$'1999'[1:10]\n",
    "womenTables[[2]][1:10]\n",
    "\n",
    "#### Save the outputs to R data\n",
    "save(womenTables, file = \"CBWomenTextTables.rda\")"
   ]
  },
  {
   "cell_type": "code",
   "execution_count": 22,
   "metadata": {},
   "outputs": [
    {
     "data": {
      "text/html": [
       "<ol class=list-inline>\n",
       "\t<li>''</li>\n",
       "\t<li><span style=white-space:pre-wrap>'PLACE DIV /TOT  NAME                  AG HOMETOWN           TIME    PACE  '</span></li>\n",
       "\t<li>'===== ========= ===================== == ================== ======= ===== '</li>\n",
       "\t<li><span style=white-space:pre-wrap>'    1    1/1683 Jane Omoro            26 Kenya                53:37  5:22 '</span></li>\n",
       "\t<li><span style=white-space:pre-wrap>'    2    2/1683 Jane Ngotho           29 Kenya                53:38  5:22 '</span></li>\n",
       "</ol>\n"
      ],
      "text/latex": [
       "\\begin{enumerate*}\n",
       "\\item ''\n",
       "\\item 'PLACE DIV /TOT  NAME                  AG HOMETOWN           TIME    PACE  '\n",
       "\\item '===== ========= ===================== == ================== ======= ===== '\n",
       "\\item '    1    1/1683 Jane Omoro            26 Kenya                53:37  5:22 '\n",
       "\\item '    2    2/1683 Jane Ngotho           29 Kenya                53:38  5:22 '\n",
       "\\end{enumerate*}\n"
      ],
      "text/markdown": [
       "1. ''\n",
       "2. <span style=white-space:pre-wrap>'PLACE DIV /TOT  NAME                  AG HOMETOWN           TIME    PACE  '</span>\n",
       "3. '===== ========= ===================== == ================== ======= ===== '\n",
       "4. <span style=white-space:pre-wrap>'    1    1/1683 Jane Omoro            26 Kenya                53:37  5:22 '</span>\n",
       "5. <span style=white-space:pre-wrap>'    2    2/1683 Jane Ngotho           29 Kenya                53:38  5:22 '</span>\n",
       "\n",
       "\n"
      ],
      "text/plain": [
       "[1] \"\"                                                                          \n",
       "[2] \"PLACE DIV /TOT  NAME                  AG HOMETOWN           TIME    PACE  \"\n",
       "[3] \"===== ========= ===================== == ================== ======= ===== \"\n",
       "[4] \"    1    1/1683 Jane Omoro            26 Kenya                53:37  5:22 \"\n",
       "[5] \"    2    2/1683 Jane Ngotho           29 Kenya                53:38  5:22 \""
      ]
     },
     "metadata": {},
     "output_type": "display_data"
    },
    {
     "data": {
      "text/html": [
       "<ol class=list-inline>\n",
       "\t<li><span style=white-space:pre-wrap>'PLACE DIV /TOT  NUM   NAME                  AG HOMETOWN           GUN TIM  NET TIM '</span></li>\n",
       "\t<li><span style=white-space:pre-wrap>'===== ========= ===== ===================== == ================== =======  ======= '</span></li>\n",
       "\t<li><span style=white-space:pre-wrap>'    1    1/1503  7005 Teresa Wanjiku        25 Kenya                55:53#   55:50 '</span></li>\n",
       "\t<li><span style=white-space:pre-wrap>'    2    2/1503  7001 Jane Omoro            27 Kenya                55:58#   55:56 '</span></li>\n",
       "\t<li><span style=white-space:pre-wrap>'    3    3/1503  7008 Jane Ngotho           32 Kenya                56:04#   56:01 '</span></li>\n",
       "</ol>\n"
      ],
      "text/latex": [
       "\\begin{enumerate*}\n",
       "\\item 'PLACE DIV /TOT  NUM   NAME                  AG HOMETOWN           GUN TIM  NET TIM '\n",
       "\\item '===== ========= ===== ===================== == ================== =======  ======= '\n",
       "\\item '    1    1/1503  7005 Teresa Wanjiku        25 Kenya                55:53\\#   55:50 '\n",
       "\\item '    2    2/1503  7001 Jane Omoro            27 Kenya                55:58\\#   55:56 '\n",
       "\\item '    3    3/1503  7008 Jane Ngotho           32 Kenya                56:04\\#   56:01 '\n",
       "\\end{enumerate*}\n"
      ],
      "text/markdown": [
       "1. <span style=white-space:pre-wrap>'PLACE DIV /TOT  NUM   NAME                  AG HOMETOWN           GUN TIM  NET TIM '</span>\n",
       "2. <span style=white-space:pre-wrap>'===== ========= ===== ===================== == ================== =======  ======= '</span>\n",
       "3. <span style=white-space:pre-wrap>'    1    1/1503  7005 Teresa Wanjiku        25 Kenya                55:53#   55:50 '</span>\n",
       "4. <span style=white-space:pre-wrap>'    2    2/1503  7001 Jane Omoro            27 Kenya                55:58#   55:56 '</span>\n",
       "5. <span style=white-space:pre-wrap>'    3    3/1503  7008 Jane Ngotho           32 Kenya                56:04#   56:01 '</span>\n",
       "\n",
       "\n"
      ],
      "text/plain": [
       "[1] \"PLACE DIV /TOT  NUM   NAME                  AG HOMETOWN           GUN TIM  NET TIM \"\n",
       "[2] \"===== ========= ===== ===================== == ================== =======  ======= \"\n",
       "[3] \"    1    1/1503  7005 Teresa Wanjiku        25 Kenya                55:53#   55:50 \"\n",
       "[4] \"    2    2/1503  7001 Jane Omoro            27 Kenya                55:58#   55:56 \"\n",
       "[5] \"    3    3/1503  7008 Jane Ngotho           32 Kenya                56:04#   56:01 \""
      ]
     },
     "metadata": {},
     "output_type": "display_data"
    },
    {
     "data": {
      "text/html": [
       "<ol class=list-inline>\n",
       "\t<li>''</li>\n",
       "\t<li><span style=white-space:pre-wrap>'                                                                 '</span></li>\n",
       "\t<li><span style=white-space:pre-wrap>'                      '</span></li>\n",
       "\t<li><span style=white-space:pre-wrap>'    1  6002 Elana MEYER           34 Rep Of S.africa      52:15   52:16#'</span></li>\n",
       "\t<li><span style=white-space:pre-wrap>'    2  6004 Lydia GRIGORIEVA      27 Russia               53:12   53:15#'</span></li>\n",
       "\t<li><span style=white-space:pre-wrap>'    3  6019 Eyerusalem KUMA       20 Ethiopia             53:16   53:19#'</span></li>\n",
       "\t<li><span style=white-space:pre-wrap>'    4  6007 Milena GLUSAC         25 Usa                  53:33   53:34#'</span></li>\n",
       "\t<li><span style=white-space:pre-wrap>'    5  6012 Olga KOVPOTINA        31 Russia               54:01   54:03#'</span></li>\n",
       "\t<li><span style=white-space:pre-wrap>'    6  6020 Merima HASHIM         20 Ethiopia             54:29   54:31#'</span></li>\n",
       "\t<li><span style=white-space:pre-wrap>'    7  6005 Jane OMORO            27 Kenya                55:05   55:08#'</span></li>\n",
       "</ol>\n"
      ],
      "text/latex": [
       "\\begin{enumerate*}\n",
       "\\item ''\n",
       "\\item '                                                                 '\n",
       "\\item '                      '\n",
       "\\item '    1  6002 Elana MEYER           34 Rep Of S.africa      52:15   52:16\\#'\n",
       "\\item '    2  6004 Lydia GRIGORIEVA      27 Russia               53:12   53:15\\#'\n",
       "\\item '    3  6019 Eyerusalem KUMA       20 Ethiopia             53:16   53:19\\#'\n",
       "\\item '    4  6007 Milena GLUSAC         25 Usa                  53:33   53:34\\#'\n",
       "\\item '    5  6012 Olga KOVPOTINA        31 Russia               54:01   54:03\\#'\n",
       "\\item '    6  6020 Merima HASHIM         20 Ethiopia             54:29   54:31\\#'\n",
       "\\item '    7  6005 Jane OMORO            27 Kenya                55:05   55:08\\#'\n",
       "\\end{enumerate*}\n"
      ],
      "text/markdown": [
       "1. ''\n",
       "2. <span style=white-space:pre-wrap>'                                                                 '</span>\n",
       "3. <span style=white-space:pre-wrap>'                      '</span>\n",
       "4. <span style=white-space:pre-wrap>'    1  6002 Elana MEYER           34 Rep Of S.africa      52:15   52:16#'</span>\n",
       "5. <span style=white-space:pre-wrap>'    2  6004 Lydia GRIGORIEVA      27 Russia               53:12   53:15#'</span>\n",
       "6. <span style=white-space:pre-wrap>'    3  6019 Eyerusalem KUMA       20 Ethiopia             53:16   53:19#'</span>\n",
       "7. <span style=white-space:pre-wrap>'    4  6007 Milena GLUSAC         25 Usa                  53:33   53:34#'</span>\n",
       "8. <span style=white-space:pre-wrap>'    5  6012 Olga KOVPOTINA        31 Russia               54:01   54:03#'</span>\n",
       "9. <span style=white-space:pre-wrap>'    6  6020 Merima HASHIM         20 Ethiopia             54:29   54:31#'</span>\n",
       "10. <span style=white-space:pre-wrap>'    7  6005 Jane OMORO            27 Kenya                55:05   55:08#'</span>\n",
       "\n",
       "\n"
      ],
      "text/plain": [
       " [1] \"\"                                                                        \n",
       " [2] \"                                                                 \"       \n",
       " [3] \"                      \"                                                  \n",
       " [4] \"    1  6002 Elana MEYER           34 Rep Of S.africa      52:15   52:16#\"\n",
       " [5] \"    2  6004 Lydia GRIGORIEVA      27 Russia               53:12   53:15#\"\n",
       " [6] \"    3  6019 Eyerusalem KUMA       20 Ethiopia             53:16   53:19#\"\n",
       " [7] \"    4  6007 Milena GLUSAC         25 Usa                  53:33   53:34#\"\n",
       " [8] \"    5  6012 Olga KOVPOTINA        31 Russia               54:01   54:03#\"\n",
       " [9] \"    6  6020 Merima HASHIM         20 Ethiopia             54:29   54:31#\"\n",
       "[10] \"    7  6005 Jane OMORO            27 Kenya                55:05   55:08#\""
      ]
     },
     "metadata": {},
     "output_type": "display_data"
    },
    {
     "data": {
      "text/html": [
       "<ol class=list-inline>\n",
       "\t<li>''</li>\n",
       "\t<li><span style=white-space:pre-wrap>'Place Num   Name                  Ag Hometown           Net     Gun     '</span></li>\n",
       "\t<li>'===== ===== ===================== == ================== ======= ======= '</li>\n",
       "\t<li><span style=white-space:pre-wrap>'    1  6005 Luminita TALPOS       29 Rom                  52:50   52:50 '</span></li>\n",
       "\t<li><span style=white-space:pre-wrap>'    2  6003 Teyba ERKASSO         20 Eth                  52:53   52:55 '</span></li>\n",
       "</ol>\n"
      ],
      "text/latex": [
       "\\begin{enumerate*}\n",
       "\\item ''\n",
       "\\item 'Place Num   Name                  Ag Hometown           Net     Gun     '\n",
       "\\item '===== ===== ===================== == ================== ======= ======= '\n",
       "\\item '    1  6005 Luminita TALPOS       29 Rom                  52:50   52:50 '\n",
       "\\item '    2  6003 Teyba ERKASSO         20 Eth                  52:53   52:55 '\n",
       "\\end{enumerate*}\n"
      ],
      "text/markdown": [
       "1. ''\n",
       "2. <span style=white-space:pre-wrap>'Place Num   Name                  Ag Hometown           Net     Gun     '</span>\n",
       "3. '===== ===== ===================== == ================== ======= ======= '\n",
       "4. <span style=white-space:pre-wrap>'    1  6005 Luminita TALPOS       29 Rom                  52:50   52:50 '</span>\n",
       "5. <span style=white-space:pre-wrap>'    2  6003 Teyba ERKASSO         20 Eth                  52:53   52:55 '</span>\n",
       "\n",
       "\n"
      ],
      "text/plain": [
       "[1] \"\"                                                                        \n",
       "[2] \"Place Num   Name                  Ag Hometown           Net     Gun     \"\n",
       "[3] \"===== ===== ===================== == ================== ======= ======= \"\n",
       "[4] \"    1  6005 Luminita TALPOS       29 Rom                  52:50   52:50 \"\n",
       "[5] \"    2  6003 Teyba ERKASSO         20 Eth                  52:53   52:55 \""
      ]
     },
     "metadata": {},
     "output_type": "display_data"
    },
    {
     "data": {
      "text/html": [
       "<ol class=list-inline>\n",
       "\t<li>''</li>\n",
       "\t<li><span style=white-space:pre-wrap>'Place Div /Tot  Num    Name                          Ag Hometown            Gun Tim  Net Tim '</span></li>\n",
       "\t<li><span style=white-space:pre-wrap>'===== ========= ===== ============================= == =================== =======  ======= '</span></li>\n",
       "\t<li><span style=white-space:pre-wrap>'    1    1/2510  6014  Olga Romanova                 22  RUS                  53:43#   53:42 '</span></li>\n",
       "\t<li><span style=white-space:pre-wrap>'    2    2/2510  6004  Asha Gigi                     30  ETH                  53:49#   53:49 '</span></li>\n",
       "</ol>\n"
      ],
      "text/latex": [
       "\\begin{enumerate*}\n",
       "\\item ''\n",
       "\\item 'Place Div /Tot  Num    Name                          Ag Hometown            Gun Tim  Net Tim '\n",
       "\\item '===== ========= ===== ============================= == =================== =======  ======= '\n",
       "\\item '    1    1/2510  6014  Olga Romanova                 22  RUS                  53:43\\#   53:42 '\n",
       "\\item '    2    2/2510  6004  Asha Gigi                     30  ETH                  53:49\\#   53:49 '\n",
       "\\end{enumerate*}\n"
      ],
      "text/markdown": [
       "1. ''\n",
       "2. <span style=white-space:pre-wrap>'Place Div /Tot  Num    Name                          Ag Hometown            Gun Tim  Net Tim '</span>\n",
       "3. <span style=white-space:pre-wrap>'===== ========= ===== ============================= == =================== =======  ======= '</span>\n",
       "4. <span style=white-space:pre-wrap>'    1    1/2510  6014  Olga Romanova                 22  RUS                  53:43#   53:42 '</span>\n",
       "5. <span style=white-space:pre-wrap>'    2    2/2510  6004  Asha Gigi                     30  ETH                  53:49#   53:49 '</span>\n",
       "\n",
       "\n"
      ],
      "text/plain": [
       "[1] \"\"                                                                                             \n",
       "[2] \"Place Div /Tot  Num    Name                          Ag Hometown            Gun Tim  Net Tim \"\n",
       "[3] \"===== ========= ===== ============================= == =================== =======  ======= \" \n",
       "[4] \"    1    1/2510  6014  Olga Romanova                 22  RUS                  53:43#   53:42 \"\n",
       "[5] \"    2    2/2510  6004  Asha Gigi                     30  ETH                  53:49#   53:49 \""
      ]
     },
     "metadata": {},
     "output_type": "display_data"
    },
    {
     "data": {
      "text/html": [
       "<ol class=list-inline>\n",
       "\t<li><span style=white-space:pre-wrap>'                                                                   '</span></li>\n",
       "\t<li><span style=white-space:pre-wrap>'               Credit Union Cherry Blossom 10 Mile Road Race'</span></li>\n",
       "\t<li><span style=white-space:pre-wrap>'                              Washington, DC'</span></li>\n",
       "\t<li><span style=white-space:pre-wrap>'                           Sunday, April 4, 2004'</span></li>\n",
       "\t<li><span style=white-space:pre-wrap>'                         Official Women\\'s Results '</span></li>\n",
       "\t<li>''</li>\n",
       "\t<li><span style=white-space:pre-wrap>'Place Div /Tot  Num   Name                          Ag Hometown            Net     Gun     '</span></li>\n",
       "\t<li>'===== ========= ===== ============================= == =================== ======= ======= '</li>\n",
       "\t<li><span style=white-space:pre-wrap>'    1    1/2902     4 Isabella Ochichi              24  KEN                  52:06   52:07 '</span></li>\n",
       "\t<li><span style=white-space:pre-wrap>'    2    2/2902    36 Catherine Ndereba             31  KEN                  52:58   53:00 '</span></li>\n",
       "</ol>\n"
      ],
      "text/latex": [
       "\\begin{enumerate*}\n",
       "\\item '                                                                   '\n",
       "\\item '               Credit Union Cherry Blossom 10 Mile Road Race'\n",
       "\\item '                              Washington, DC'\n",
       "\\item '                           Sunday, April 4, 2004'\n",
       "\\item '                         Official Women\\textbackslash{}'s Results '\n",
       "\\item ''\n",
       "\\item 'Place Div /Tot  Num   Name                          Ag Hometown            Net     Gun     '\n",
       "\\item '===== ========= ===== ============================= == =================== ======= ======= '\n",
       "\\item '    1    1/2902     4 Isabella Ochichi              24  KEN                  52:06   52:07 '\n",
       "\\item '    2    2/2902    36 Catherine Ndereba             31  KEN                  52:58   53:00 '\n",
       "\\end{enumerate*}\n"
      ],
      "text/markdown": [
       "1. <span style=white-space:pre-wrap>'                                                                   '</span>\n",
       "2. <span style=white-space:pre-wrap>'               Credit Union Cherry Blossom 10 Mile Road Race'</span>\n",
       "3. <span style=white-space:pre-wrap>'                              Washington, DC'</span>\n",
       "4. <span style=white-space:pre-wrap>'                           Sunday, April 4, 2004'</span>\n",
       "5. <span style=white-space:pre-wrap>'                         Official Women\\'s Results '</span>\n",
       "6. ''\n",
       "7. <span style=white-space:pre-wrap>'Place Div /Tot  Num   Name                          Ag Hometown            Net     Gun     '</span>\n",
       "8. '===== ========= ===== ============================= == =================== ======= ======= '\n",
       "9. <span style=white-space:pre-wrap>'    1    1/2902     4 Isabella Ochichi              24  KEN                  52:06   52:07 '</span>\n",
       "10. <span style=white-space:pre-wrap>'    2    2/2902    36 Catherine Ndereba             31  KEN                  52:58   53:00 '</span>\n",
       "\n",
       "\n"
      ],
      "text/plain": [
       " [1] \"                                                                   \"                        \n",
       " [2] \"               Credit Union Cherry Blossom 10 Mile Road Race\"                               \n",
       " [3] \"                              Washington, DC\"                                               \n",
       " [4] \"                           Sunday, April 4, 2004\"                                           \n",
       " [5] \"                         Official Women's Results \"                                         \n",
       " [6] \"\"                                                                                           \n",
       " [7] \"Place Div /Tot  Num   Name                          Ag Hometown            Net     Gun     \"\n",
       " [8] \"===== ========= ===== ============================= == =================== ======= ======= \"\n",
       " [9] \"    1    1/2902     4 Isabella Ochichi              24  KEN                  52:06   52:07 \"\n",
       "[10] \"    2    2/2902    36 Catherine Ndereba             31  KEN                  52:58   53:00 \""
      ]
     },
     "metadata": {},
     "output_type": "display_data"
    },
    {
     "data": {
      "text/html": [
       "<ol class=list-inline>\n",
       "\t<li><span style=white-space:pre-wrap>'                                                                      '</span></li>\n",
       "\t<li><span style=white-space:pre-wrap>'               Credit Union Cherry Blossom 10 Mile Road Race'</span></li>\n",
       "\t<li><span style=white-space:pre-wrap>'                              Washington, DC'</span></li>\n",
       "\t<li><span style=white-space:pre-wrap>'                           Sunday, April 3, 2005'</span></li>\n",
       "\t<li><span style=white-space:pre-wrap>'                         Official Women\\'s Results '</span></li>\n",
       "\t<li>''</li>\n",
       "\t<li><span style=white-space:pre-wrap>'Place Div /Tot  Name                   Ag Hometown           Net     Gun     Pace  '</span></li>\n",
       "\t<li>'===== ========= ====================== == ================== ======= ======= ===== '</li>\n",
       "\t<li><span style=white-space:pre-wrap>'    1    1/3146 Nuta Olaru             34 Romania              52:01   52:01  5:13 '</span></li>\n",
       "\t<li><span style=white-space:pre-wrap>'    2    2/3146 Alvetina Ivanova       29 Russia               53:17   53:17  5:20 '</span></li>\n",
       "</ol>\n"
      ],
      "text/latex": [
       "\\begin{enumerate*}\n",
       "\\item '                                                                      '\n",
       "\\item '               Credit Union Cherry Blossom 10 Mile Road Race'\n",
       "\\item '                              Washington, DC'\n",
       "\\item '                           Sunday, April 3, 2005'\n",
       "\\item '                         Official Women\\textbackslash{}'s Results '\n",
       "\\item ''\n",
       "\\item 'Place Div /Tot  Name                   Ag Hometown           Net     Gun     Pace  '\n",
       "\\item '===== ========= ====================== == ================== ======= ======= ===== '\n",
       "\\item '    1    1/3146 Nuta Olaru             34 Romania              52:01   52:01  5:13 '\n",
       "\\item '    2    2/3146 Alvetina Ivanova       29 Russia               53:17   53:17  5:20 '\n",
       "\\end{enumerate*}\n"
      ],
      "text/markdown": [
       "1. <span style=white-space:pre-wrap>'                                                                      '</span>\n",
       "2. <span style=white-space:pre-wrap>'               Credit Union Cherry Blossom 10 Mile Road Race'</span>\n",
       "3. <span style=white-space:pre-wrap>'                              Washington, DC'</span>\n",
       "4. <span style=white-space:pre-wrap>'                           Sunday, April 3, 2005'</span>\n",
       "5. <span style=white-space:pre-wrap>'                         Official Women\\'s Results '</span>\n",
       "6. ''\n",
       "7. <span style=white-space:pre-wrap>'Place Div /Tot  Name                   Ag Hometown           Net     Gun     Pace  '</span>\n",
       "8. '===== ========= ====================== == ================== ======= ======= ===== '\n",
       "9. <span style=white-space:pre-wrap>'    1    1/3146 Nuta Olaru             34 Romania              52:01   52:01  5:13 '</span>\n",
       "10. <span style=white-space:pre-wrap>'    2    2/3146 Alvetina Ivanova       29 Russia               53:17   53:17  5:20 '</span>\n",
       "\n",
       "\n"
      ],
      "text/plain": [
       " [1] \"                                                                      \"             \n",
       " [2] \"               Credit Union Cherry Blossom 10 Mile Road Race\"                       \n",
       " [3] \"                              Washington, DC\"                                       \n",
       " [4] \"                           Sunday, April 3, 2005\"                                   \n",
       " [5] \"                         Official Women's Results \"                                 \n",
       " [6] \"\"                                                                                   \n",
       " [7] \"Place Div /Tot  Name                   Ag Hometown           Net     Gun     Pace  \"\n",
       " [8] \"===== ========= ====================== == ================== ======= ======= ===== \"\n",
       " [9] \"    1    1/3146 Nuta Olaru             34 Romania              52:01   52:01  5:13 \"\n",
       "[10] \"    2    2/3146 Alvetina Ivanova       29 Russia               53:17   53:17  5:20 \""
      ]
     },
     "metadata": {},
     "output_type": "display_data"
    },
    {
     "data": {
      "text/html": [
       "<ol class=list-inline>\n",
       "\t<li>''</li>\n",
       "\t<li><span style=white-space:pre-wrap>'               Credit Union Cherry Blossom 10 Mile Road Race'</span></li>\n",
       "\t<li><span style=white-space:pre-wrap>'                              Washington, DC'</span></li>\n",
       "\t<li><span style=white-space:pre-wrap>'                           Sunday, April 2, 2006'</span></li>\n",
       "\t<li><span style=white-space:pre-wrap>'                Women\\'s Official Results Sorted By Gun Time'</span></li>\n",
       "\t<li>''</li>\n",
       "\t<li><span style=white-space:pre-wrap>'Place Div/Tot  Num    Name                   Ag Hometown        Net Tim Gun Tim  Pace  S '</span></li>\n",
       "\t<li><span style=white-space:pre-wrap>'===== ======== ====== ====================== == ======================= =======  ===== = '</span></li>\n",
       "\t<li><span style=white-space:pre-wrap>'    1   1/4069      4 Lidiya Grigoryeva      32 Russia            52:11   52:11#  5:14 ! '</span></li>\n",
       "\t<li><span style=white-space:pre-wrap>'    2   2/4069      6 Alevtina Ivanova       30 Russia            52:39   52:39#  5:16 ! '</span></li>\n",
       "</ol>\n"
      ],
      "text/latex": [
       "\\begin{enumerate*}\n",
       "\\item ''\n",
       "\\item '               Credit Union Cherry Blossom 10 Mile Road Race'\n",
       "\\item '                              Washington, DC'\n",
       "\\item '                           Sunday, April 2, 2006'\n",
       "\\item '                Women\\textbackslash{}'s Official Results Sorted By Gun Time'\n",
       "\\item ''\n",
       "\\item 'Place Div/Tot  Num    Name                   Ag Hometown        Net Tim Gun Tim  Pace  S '\n",
       "\\item '===== ======== ====== ====================== == ======================= =======  ===== = '\n",
       "\\item '    1   1/4069      4 Lidiya Grigoryeva      32 Russia            52:11   52:11\\#  5:14 ! '\n",
       "\\item '    2   2/4069      6 Alevtina Ivanova       30 Russia            52:39   52:39\\#  5:16 ! '\n",
       "\\end{enumerate*}\n"
      ],
      "text/markdown": [
       "1. ''\n",
       "2. <span style=white-space:pre-wrap>'               Credit Union Cherry Blossom 10 Mile Road Race'</span>\n",
       "3. <span style=white-space:pre-wrap>'                              Washington, DC'</span>\n",
       "4. <span style=white-space:pre-wrap>'                           Sunday, April 2, 2006'</span>\n",
       "5. <span style=white-space:pre-wrap>'                Women\\'s Official Results Sorted By Gun Time'</span>\n",
       "6. ''\n",
       "7. <span style=white-space:pre-wrap>'Place Div/Tot  Num    Name                   Ag Hometown        Net Tim Gun Tim  Pace  S '</span>\n",
       "8. <span style=white-space:pre-wrap>'===== ======== ====== ====================== == ======================= =======  ===== = '</span>\n",
       "9. <span style=white-space:pre-wrap>'    1   1/4069      4 Lidiya Grigoryeva      32 Russia            52:11   52:11#  5:14 ! '</span>\n",
       "10. <span style=white-space:pre-wrap>'    2   2/4069      6 Alevtina Ivanova       30 Russia            52:39   52:39#  5:16 ! '</span>\n",
       "\n",
       "\n"
      ],
      "text/plain": [
       " [1] \"\"                                                                                         \n",
       " [2] \"               Credit Union Cherry Blossom 10 Mile Road Race\"                             \n",
       " [3] \"                              Washington, DC\"                                             \n",
       " [4] \"                           Sunday, April 2, 2006\"                                         \n",
       " [5] \"                Women's Official Results Sorted By Gun Time\"                              \n",
       " [6] \"\"                                                                                         \n",
       " [7] \"Place Div/Tot  Num    Name                   Ag Hometown        Net Tim Gun Tim  Pace  S \"\n",
       " [8] \"===== ======== ====== ====================== == ======================= =======  ===== = \"\n",
       " [9] \"    1   1/4069      4 Lidiya Grigoryeva      32 Russia            52:11   52:11#  5:14 ! \"\n",
       "[10] \"    2   2/4069      6 Alevtina Ivanova       30 Russia            52:39   52:39#  5:16 ! \""
      ]
     },
     "metadata": {},
     "output_type": "display_data"
    },
    {
     "data": {
      "text/html": [
       "<ol class=list-inline>\n",
       "\t<li><span style=white-space:pre-wrap>'               Credit Union Cherry Blossom 10 Mile Road Race'</span></li>\n",
       "\t<li><span style=white-space:pre-wrap>'                              Washington, DC'</span></li>\n",
       "\t<li><span style=white-space:pre-wrap>'                           Sunday, April 1, 2007'</span></li>\n",
       "\t<li><span style=white-space:pre-wrap>'                  Official Female Results With 10km Split'</span></li>\n",
       "\t<li>''</li>\n",
       "\t<li><span style=white-space:pre-wrap>'Place Div  /Tot   Num    Name                   Ag Hometown           Time     Pace  S Split   '</span></li>\n",
       "\t<li><span style=white-space:pre-wrap>'===== =========== ====== ====================== == ================== =======  ===== = ======= '</span></li>\n",
       "\t<li><span style=white-space:pre-wrap>'    1     1/728        4 Teyba Erkesso          24 Ethiopia             51:44#  5:11 !   32:06 '</span></li>\n",
       "\t<li><span style=white-space:pre-wrap>'    2     2/728       16 Tatyana Petrova        23 Russia Germant.      52:58#  5:18 !   32:47 '</span></li>\n",
       "\t<li><span style=white-space:pre-wrap>'    3     1/1083       8 Kathy Butler           33 United Kingdom       53:26#  5:21 !   33:02 '</span></li>\n",
       "</ol>\n"
      ],
      "text/latex": [
       "\\begin{enumerate*}\n",
       "\\item '               Credit Union Cherry Blossom 10 Mile Road Race'\n",
       "\\item '                              Washington, DC'\n",
       "\\item '                           Sunday, April 1, 2007'\n",
       "\\item '                  Official Female Results With 10km Split'\n",
       "\\item ''\n",
       "\\item 'Place Div  /Tot   Num    Name                   Ag Hometown           Time     Pace  S Split   '\n",
       "\\item '===== =========== ====== ====================== == ================== =======  ===== = ======= '\n",
       "\\item '    1     1/728        4 Teyba Erkesso          24 Ethiopia             51:44\\#  5:11 !   32:06 '\n",
       "\\item '    2     2/728       16 Tatyana Petrova        23 Russia Germant.      52:58\\#  5:18 !   32:47 '\n",
       "\\item '    3     1/1083       8 Kathy Butler           33 United Kingdom       53:26\\#  5:21 !   33:02 '\n",
       "\\end{enumerate*}\n"
      ],
      "text/markdown": [
       "1. <span style=white-space:pre-wrap>'               Credit Union Cherry Blossom 10 Mile Road Race'</span>\n",
       "2. <span style=white-space:pre-wrap>'                              Washington, DC'</span>\n",
       "3. <span style=white-space:pre-wrap>'                           Sunday, April 1, 2007'</span>\n",
       "4. <span style=white-space:pre-wrap>'                  Official Female Results With 10km Split'</span>\n",
       "5. ''\n",
       "6. <span style=white-space:pre-wrap>'Place Div  /Tot   Num    Name                   Ag Hometown           Time     Pace  S Split   '</span>\n",
       "7. <span style=white-space:pre-wrap>'===== =========== ====== ====================== == ================== =======  ===== = ======= '</span>\n",
       "8. <span style=white-space:pre-wrap>'    1     1/728        4 Teyba Erkesso          24 Ethiopia             51:44#  5:11 !   32:06 '</span>\n",
       "9. <span style=white-space:pre-wrap>'    2     2/728       16 Tatyana Petrova        23 Russia Germant.      52:58#  5:18 !   32:47 '</span>\n",
       "10. <span style=white-space:pre-wrap>'    3     1/1083       8 Kathy Butler           33 United Kingdom       53:26#  5:21 !   33:02 '</span>\n",
       "\n",
       "\n"
      ],
      "text/plain": [
       " [1] \"               Credit Union Cherry Blossom 10 Mile Road Race\"                                   \n",
       " [2] \"                              Washington, DC\"                                                   \n",
       " [3] \"                           Sunday, April 1, 2007\"                                               \n",
       " [4] \"                  Official Female Results With 10km Split\"                                      \n",
       " [5] \"\"                                                                                               \n",
       " [6] \"Place Div  /Tot   Num    Name                   Ag Hometown           Time     Pace  S Split   \"\n",
       " [7] \"===== =========== ====== ====================== == ================== =======  ===== = ======= \"\n",
       " [8] \"    1     1/728        4 Teyba Erkesso          24 Ethiopia             51:44#  5:11 !   32:06 \"\n",
       " [9] \"    2     2/728       16 Tatyana Petrova        23 Russia Germant.      52:58#  5:18 !   32:47 \"\n",
       "[10] \"    3     1/1083       8 Kathy Butler           33 United Kingdom       53:26#  5:21 !   33:02 \""
      ]
     },
     "metadata": {},
     "output_type": "display_data"
    },
    {
     "data": {
      "text/html": [
       "<ol class=list-inline>\n",
       "\t<li>''</li>\n",
       "\t<li><span style=white-space:pre-wrap>'                 Credit Union Cherry Blossom Ten Mile Run'</span></li>\n",
       "\t<li><span style=white-space:pre-wrap>'                 Washington, DC     Sunday, April 6, 2008'</span></li>\n",
       "\t<li>''</li>\n",
       "\t<li><span style=white-space:pre-wrap>'                          Official Female Results'</span></li>\n",
       "\t<li>''</li>\n",
       "\t<li><span style=white-space:pre-wrap>'Place Div  /Tot   Num    Name                   Ag Hometown           5 Mi    Pace  10 Km   Pace  Time    Pace  '</span></li>\n",
       "\t<li>'===== =========== ====== ====================== == ================== ======= ===== ======= ===== ======= ===== '</li>\n",
       "\t<li><span style=white-space:pre-wrap>'    1     1/783       10 Lineth Chepkurui       20 Kenya                27:49  5:34   34:21  5:32   54:21  5:27 '</span></li>\n",
       "\t<li><span style=white-space:pre-wrap>'    2     1/1994      18 Angelina Mutuku        25 Kenya                27:50  5:34   34:22  5:32   54:39  5:28 '</span></li>\n",
       "</ol>\n"
      ],
      "text/latex": [
       "\\begin{enumerate*}\n",
       "\\item ''\n",
       "\\item '                 Credit Union Cherry Blossom Ten Mile Run'\n",
       "\\item '                 Washington, DC     Sunday, April 6, 2008'\n",
       "\\item ''\n",
       "\\item '                          Official Female Results'\n",
       "\\item ''\n",
       "\\item 'Place Div  /Tot   Num    Name                   Ag Hometown           5 Mi    Pace  10 Km   Pace  Time    Pace  '\n",
       "\\item '===== =========== ====== ====================== == ================== ======= ===== ======= ===== ======= ===== '\n",
       "\\item '    1     1/783       10 Lineth Chepkurui       20 Kenya                27:49  5:34   34:21  5:32   54:21  5:27 '\n",
       "\\item '    2     1/1994      18 Angelina Mutuku        25 Kenya                27:50  5:34   34:22  5:32   54:39  5:28 '\n",
       "\\end{enumerate*}\n"
      ],
      "text/markdown": [
       "1. ''\n",
       "2. <span style=white-space:pre-wrap>'                 Credit Union Cherry Blossom Ten Mile Run'</span>\n",
       "3. <span style=white-space:pre-wrap>'                 Washington, DC     Sunday, April 6, 2008'</span>\n",
       "4. ''\n",
       "5. <span style=white-space:pre-wrap>'                          Official Female Results'</span>\n",
       "6. ''\n",
       "7. <span style=white-space:pre-wrap>'Place Div  /Tot   Num    Name                   Ag Hometown           5 Mi    Pace  10 Km   Pace  Time    Pace  '</span>\n",
       "8. '===== =========== ====== ====================== == ================== ======= ===== ======= ===== ======= ===== '\n",
       "9. <span style=white-space:pre-wrap>'    1     1/783       10 Lineth Chepkurui       20 Kenya                27:49  5:34   34:21  5:32   54:21  5:27 '</span>\n",
       "10. <span style=white-space:pre-wrap>'    2     1/1994      18 Angelina Mutuku        25 Kenya                27:50  5:34   34:22  5:32   54:39  5:28 '</span>\n",
       "\n",
       "\n"
      ],
      "text/plain": [
       " [1] \"\"                                                                                                                \n",
       " [2] \"                 Credit Union Cherry Blossom Ten Mile Run\"                                                       \n",
       " [3] \"                 Washington, DC     Sunday, April 6, 2008\"                                                       \n",
       " [4] \"\"                                                                                                                \n",
       " [5] \"                          Official Female Results\"                                                               \n",
       " [6] \"\"                                                                                                                \n",
       " [7] \"Place Div  /Tot   Num    Name                   Ag Hometown           5 Mi    Pace  10 Km   Pace  Time    Pace  \"\n",
       " [8] \"===== =========== ====== ====================== == ================== ======= ===== ======= ===== ======= ===== \"\n",
       " [9] \"    1     1/783       10 Lineth Chepkurui       20 Kenya                27:49  5:34   34:21  5:32   54:21  5:27 \"\n",
       "[10] \"    2     1/1994      18 Angelina Mutuku        25 Kenya                27:50  5:34   34:22  5:32   54:39  5:28 \""
      ]
     },
     "metadata": {},
     "output_type": "display_data"
    },
    {
     "data": {
      "text/html": [
       "<ol class=list-inline>\n",
       "\t<li>''</li>\n",
       "\t<li><span style=white-space:pre-wrap>'                 Credit Union Cherry Blossom Ten Mile Run'</span></li>\n",
       "\t<li><span style=white-space:pre-wrap>'                 Washington, DC     Sunday, April 5, 2009'</span></li>\n",
       "\t<li>''</li>\n",
       "\t<li><span style=white-space:pre-wrap>'               Female Official Results (Sorted By Net Time)'</span></li>\n",
       "\t<li>''</li>\n",
       "\t<li><span style=white-space:pre-wrap>'Place Div  /Tot   Num    Name                   Ag Hometown             Gun Tim Net Tim  Pace  S '</span></li>\n",
       "\t<li><span style=white-space:pre-wrap>'===== =========== ====== ====================== == ==================== ======= =======  ===== = '</span></li>\n",
       "\t<li><span style=white-space:pre-wrap>'    1     1/953        2 Lineth Chepkurui       21 Kenya                  53:32   53:32#  5:22 ! '</span></li>\n",
       "\t<li><span style=white-space:pre-wrap>'    2     2/953       22 Belianesh Zemed Gebre  21 Ethiopia               53:55   53:55#  5:24 ! '</span></li>\n",
       "</ol>\n"
      ],
      "text/latex": [
       "\\begin{enumerate*}\n",
       "\\item ''\n",
       "\\item '                 Credit Union Cherry Blossom Ten Mile Run'\n",
       "\\item '                 Washington, DC     Sunday, April 5, 2009'\n",
       "\\item ''\n",
       "\\item '               Female Official Results (Sorted By Net Time)'\n",
       "\\item ''\n",
       "\\item 'Place Div  /Tot   Num    Name                   Ag Hometown             Gun Tim Net Tim  Pace  S '\n",
       "\\item '===== =========== ====== ====================== == ==================== ======= =======  ===== = '\n",
       "\\item '    1     1/953        2 Lineth Chepkurui       21 Kenya                  53:32   53:32\\#  5:22 ! '\n",
       "\\item '    2     2/953       22 Belianesh Zemed Gebre  21 Ethiopia               53:55   53:55\\#  5:24 ! '\n",
       "\\end{enumerate*}\n"
      ],
      "text/markdown": [
       "1. ''\n",
       "2. <span style=white-space:pre-wrap>'                 Credit Union Cherry Blossom Ten Mile Run'</span>\n",
       "3. <span style=white-space:pre-wrap>'                 Washington, DC     Sunday, April 5, 2009'</span>\n",
       "4. ''\n",
       "5. <span style=white-space:pre-wrap>'               Female Official Results (Sorted By Net Time)'</span>\n",
       "6. ''\n",
       "7. <span style=white-space:pre-wrap>'Place Div  /Tot   Num    Name                   Ag Hometown             Gun Tim Net Tim  Pace  S '</span>\n",
       "8. <span style=white-space:pre-wrap>'===== =========== ====== ====================== == ==================== ======= =======  ===== = '</span>\n",
       "9. <span style=white-space:pre-wrap>'    1     1/953        2 Lineth Chepkurui       21 Kenya                  53:32   53:32#  5:22 ! '</span>\n",
       "10. <span style=white-space:pre-wrap>'    2     2/953       22 Belianesh Zemed Gebre  21 Ethiopia               53:55   53:55#  5:24 ! '</span>\n",
       "\n",
       "\n"
      ],
      "text/plain": [
       " [1] \"\"                                                                                                 \n",
       " [2] \"                 Credit Union Cherry Blossom Ten Mile Run\"                                        \n",
       " [3] \"                 Washington, DC     Sunday, April 5, 2009\"                                        \n",
       " [4] \"\"                                                                                                 \n",
       " [5] \"               Female Official Results (Sorted By Net Time)\"                                      \n",
       " [6] \"\"                                                                                                 \n",
       " [7] \"Place Div  /Tot   Num    Name                   Ag Hometown             Gun Tim Net Tim  Pace  S \"\n",
       " [8] \"===== =========== ====== ====================== == ==================== ======= =======  ===== = \"\n",
       " [9] \"    1     1/953        2 Lineth Chepkurui       21 Kenya                  53:32   53:32#  5:22 ! \"\n",
       "[10] \"    2     2/953       22 Belianesh Zemed Gebre  21 Ethiopia               53:55   53:55#  5:24 ! \""
      ]
     },
     "metadata": {},
     "output_type": "display_data"
    },
    {
     "data": {
      "text/html": [
       "<ol class=list-inline>\n",
       "\t<li>''</li>\n",
       "\t<li><span style=white-space:pre-wrap>'                 Credit Union Cherry Blossom Ten Mile Run'</span></li>\n",
       "\t<li><span style=white-space:pre-wrap>'                 Washington, DC     Sunday, April 11, 2010'</span></li>\n",
       "\t<li>''</li>\n",
       "\t<li><span style=white-space:pre-wrap>'               Female Official Results (Sorted By Net Time)'</span></li>\n",
       "\t<li>''</li>\n",
       "\t<li><span style=white-space:pre-wrap>'Place Div  /Tot   Num    Name                   Ag Hometown             5 Mile  Gun Tim Net Tim  Pace  S '</span></li>\n",
       "\t<li><span style=white-space:pre-wrap>'===== =========== ====== ====================== == ==================== ======= ======= =======  ===== = '</span></li>\n",
       "\t<li><span style=white-space:pre-wrap>'    1     1/971        2 Lineth Chepkurui       23 Kenya                  25:38   51:51   51:51#  5:12 ! '</span></li>\n",
       "\t<li><span style=white-space:pre-wrap>'    2     2/971       28 Julliah Tinega         24 Kenya                  25:41   52:40   52:39#  5:16 ! '</span></li>\n",
       "</ol>\n"
      ],
      "text/latex": [
       "\\begin{enumerate*}\n",
       "\\item ''\n",
       "\\item '                 Credit Union Cherry Blossom Ten Mile Run'\n",
       "\\item '                 Washington, DC     Sunday, April 11, 2010'\n",
       "\\item ''\n",
       "\\item '               Female Official Results (Sorted By Net Time)'\n",
       "\\item ''\n",
       "\\item 'Place Div  /Tot   Num    Name                   Ag Hometown             5 Mile  Gun Tim Net Tim  Pace  S '\n",
       "\\item '===== =========== ====== ====================== == ==================== ======= ======= =======  ===== = '\n",
       "\\item '    1     1/971        2 Lineth Chepkurui       23 Kenya                  25:38   51:51   51:51\\#  5:12 ! '\n",
       "\\item '    2     2/971       28 Julliah Tinega         24 Kenya                  25:41   52:40   52:39\\#  5:16 ! '\n",
       "\\end{enumerate*}\n"
      ],
      "text/markdown": [
       "1. ''\n",
       "2. <span style=white-space:pre-wrap>'                 Credit Union Cherry Blossom Ten Mile Run'</span>\n",
       "3. <span style=white-space:pre-wrap>'                 Washington, DC     Sunday, April 11, 2010'</span>\n",
       "4. ''\n",
       "5. <span style=white-space:pre-wrap>'               Female Official Results (Sorted By Net Time)'</span>\n",
       "6. ''\n",
       "7. <span style=white-space:pre-wrap>'Place Div  /Tot   Num    Name                   Ag Hometown             5 Mile  Gun Tim Net Tim  Pace  S '</span>\n",
       "8. <span style=white-space:pre-wrap>'===== =========== ====== ====================== == ==================== ======= ======= =======  ===== = '</span>\n",
       "9. <span style=white-space:pre-wrap>'    1     1/971        2 Lineth Chepkurui       23 Kenya                  25:38   51:51   51:51#  5:12 ! '</span>\n",
       "10. <span style=white-space:pre-wrap>'    2     2/971       28 Julliah Tinega         24 Kenya                  25:41   52:40   52:39#  5:16 ! '</span>\n",
       "\n",
       "\n"
      ],
      "text/plain": [
       " [1] \"\"                                                                                                         \n",
       " [2] \"                 Credit Union Cherry Blossom Ten Mile Run\"                                                \n",
       " [3] \"                 Washington, DC     Sunday, April 11, 2010\"                                               \n",
       " [4] \"\"                                                                                                         \n",
       " [5] \"               Female Official Results (Sorted By Net Time)\"                                              \n",
       " [6] \"\"                                                                                                         \n",
       " [7] \"Place Div  /Tot   Num    Name                   Ag Hometown             5 Mile  Gun Tim Net Tim  Pace  S \"\n",
       " [8] \"===== =========== ====== ====================== == ==================== ======= ======= =======  ===== = \"\n",
       " [9] \"    1     1/971        2 Lineth Chepkurui       23 Kenya                  25:38   51:51   51:51#  5:12 ! \"\n",
       "[10] \"    2     2/971       28 Julliah Tinega         24 Kenya                  25:41   52:40   52:39#  5:16 ! \""
      ]
     },
     "metadata": {},
     "output_type": "display_data"
    },
    {
     "data": {
      "text/html": [
       "<ol class=list-inline>\n",
       "\t<li>''</li>\n",
       "\t<li><span style=white-space:pre-wrap>'                 Credit Union Cherry Blossom Ten Mile Run'</span></li>\n",
       "\t<li><span style=white-space:pre-wrap>'                 Washington, DC     Sunday, April 3, 2011'</span></li>\n",
       "\t<li>''</li>\n",
       "\t<li><span style=white-space:pre-wrap>'               Female Official Results (Sorted By Net Time)'</span></li>\n",
       "\t<li>''</li>\n",
       "\t<li><span style=white-space:pre-wrap>'Place Div  /Tot   Num    Name                   Ag Hometown             5 Mile  Time    Net Tim Pace  S '</span></li>\n",
       "\t<li>'===== =========== ====== ====================== == ==================== ======= ======= ======= ===== = '</li>\n",
       "\t<li><span style=white-space:pre-wrap>'    1     1/2706      14 Julliah Tinega         25 Kenya                          54:02   54:02  5:25 ! '</span></li>\n",
       "\t<li><span style=white-space:pre-wrap>'    2     1/937       16 Risper Gesabwa         22 Kenya                  27:17   54:03   54:03  5:25 ! '</span></li>\n",
       "</ol>\n"
      ],
      "text/latex": [
       "\\begin{enumerate*}\n",
       "\\item ''\n",
       "\\item '                 Credit Union Cherry Blossom Ten Mile Run'\n",
       "\\item '                 Washington, DC     Sunday, April 3, 2011'\n",
       "\\item ''\n",
       "\\item '               Female Official Results (Sorted By Net Time)'\n",
       "\\item ''\n",
       "\\item 'Place Div  /Tot   Num    Name                   Ag Hometown             5 Mile  Time    Net Tim Pace  S '\n",
       "\\item '===== =========== ====== ====================== == ==================== ======= ======= ======= ===== = '\n",
       "\\item '    1     1/2706      14 Julliah Tinega         25 Kenya                          54:02   54:02  5:25 ! '\n",
       "\\item '    2     1/937       16 Risper Gesabwa         22 Kenya                  27:17   54:03   54:03  5:25 ! '\n",
       "\\end{enumerate*}\n"
      ],
      "text/markdown": [
       "1. ''\n",
       "2. <span style=white-space:pre-wrap>'                 Credit Union Cherry Blossom Ten Mile Run'</span>\n",
       "3. <span style=white-space:pre-wrap>'                 Washington, DC     Sunday, April 3, 2011'</span>\n",
       "4. ''\n",
       "5. <span style=white-space:pre-wrap>'               Female Official Results (Sorted By Net Time)'</span>\n",
       "6. ''\n",
       "7. <span style=white-space:pre-wrap>'Place Div  /Tot   Num    Name                   Ag Hometown             5 Mile  Time    Net Tim Pace  S '</span>\n",
       "8. '===== =========== ====== ====================== == ==================== ======= ======= ======= ===== = '\n",
       "9. <span style=white-space:pre-wrap>'    1     1/2706      14 Julliah Tinega         25 Kenya                          54:02   54:02  5:25 ! '</span>\n",
       "10. <span style=white-space:pre-wrap>'    2     1/937       16 Risper Gesabwa         22 Kenya                  27:17   54:03   54:03  5:25 ! '</span>\n",
       "\n",
       "\n"
      ],
      "text/plain": [
       " [1] \"\"                                                                                                        \n",
       " [2] \"                 Credit Union Cherry Blossom Ten Mile Run\"                                               \n",
       " [3] \"                 Washington, DC     Sunday, April 3, 2011\"                                               \n",
       " [4] \"\"                                                                                                        \n",
       " [5] \"               Female Official Results (Sorted By Net Time)\"                                             \n",
       " [6] \"\"                                                                                                        \n",
       " [7] \"Place Div  /Tot   Num    Name                   Ag Hometown             5 Mile  Time    Net Tim Pace  S \"\n",
       " [8] \"===== =========== ====== ====================== == ==================== ======= ======= ======= ===== = \"\n",
       " [9] \"    1     1/2706      14 Julliah Tinega         25 Kenya                          54:02   54:02  5:25 ! \"\n",
       "[10] \"    2     1/937       16 Risper Gesabwa         22 Kenya                  27:17   54:03   54:03  5:25 ! \""
      ]
     },
     "metadata": {},
     "output_type": "display_data"
    },
    {
     "data": {
      "text/html": [
       "<ol class=list-inline>\n",
       "\t<li>''</li>\n",
       "\t<li><span style=white-space:pre-wrap>'                 Credit Union Cherry Blossom Ten Mile Run'</span></li>\n",
       "\t<li><span style=white-space:pre-wrap>'                 Washington, DC     Sunday, April 1, 2012'</span></li>\n",
       "\t<li>''</li>\n",
       "\t<li><span style=white-space:pre-wrap>'               Female Official Results (Sorted By Net Time)'</span></li>\n",
       "\t<li>''</li>\n",
       "\t<li><span style=white-space:pre-wrap>'Place Div  /Tot   Num    Name                   Ag Hometown             5 Mile  Time    Pace  S '</span></li>\n",
       "\t<li>'===== =========== ====== ====================== == ==================== ======= ======= ===== = '</li>\n",
       "\t<li><span style=white-space:pre-wrap>'    1     1/2781       2 Jelliah Tinega         26 Kenya                  26:48   54:02  5:25 ! '</span></li>\n",
       "\t<li><span style=white-space:pre-wrap>'    2     2/2781      24 Malika Mejdoub         29 Ethiopia               27:09   54:24  5:27 ! '</span></li>\n",
       "</ol>\n"
      ],
      "text/latex": [
       "\\begin{enumerate*}\n",
       "\\item ''\n",
       "\\item '                 Credit Union Cherry Blossom Ten Mile Run'\n",
       "\\item '                 Washington, DC     Sunday, April 1, 2012'\n",
       "\\item ''\n",
       "\\item '               Female Official Results (Sorted By Net Time)'\n",
       "\\item ''\n",
       "\\item 'Place Div  /Tot   Num    Name                   Ag Hometown             5 Mile  Time    Pace  S '\n",
       "\\item '===== =========== ====== ====================== == ==================== ======= ======= ===== = '\n",
       "\\item '    1     1/2781       2 Jelliah Tinega         26 Kenya                  26:48   54:02  5:25 ! '\n",
       "\\item '    2     2/2781      24 Malika Mejdoub         29 Ethiopia               27:09   54:24  5:27 ! '\n",
       "\\end{enumerate*}\n"
      ],
      "text/markdown": [
       "1. ''\n",
       "2. <span style=white-space:pre-wrap>'                 Credit Union Cherry Blossom Ten Mile Run'</span>\n",
       "3. <span style=white-space:pre-wrap>'                 Washington, DC     Sunday, April 1, 2012'</span>\n",
       "4. ''\n",
       "5. <span style=white-space:pre-wrap>'               Female Official Results (Sorted By Net Time)'</span>\n",
       "6. ''\n",
       "7. <span style=white-space:pre-wrap>'Place Div  /Tot   Num    Name                   Ag Hometown             5 Mile  Time    Pace  S '</span>\n",
       "8. '===== =========== ====== ====================== == ==================== ======= ======= ===== = '\n",
       "9. <span style=white-space:pre-wrap>'    1     1/2781       2 Jelliah Tinega         26 Kenya                  26:48   54:02  5:25 ! '</span>\n",
       "10. <span style=white-space:pre-wrap>'    2     2/2781      24 Malika Mejdoub         29 Ethiopia               27:09   54:24  5:27 ! '</span>\n",
       "\n",
       "\n"
      ],
      "text/plain": [
       " [1] \"\"                                                                                                \n",
       " [2] \"                 Credit Union Cherry Blossom Ten Mile Run\"                                       \n",
       " [3] \"                 Washington, DC     Sunday, April 1, 2012\"                                       \n",
       " [4] \"\"                                                                                                \n",
       " [5] \"               Female Official Results (Sorted By Net Time)\"                                     \n",
       " [6] \"\"                                                                                                \n",
       " [7] \"Place Div  /Tot   Num    Name                   Ag Hometown             5 Mile  Time    Pace  S \"\n",
       " [8] \"===== =========== ====== ====================== == ==================== ======= ======= ===== = \"\n",
       " [9] \"    1     1/2781       2 Jelliah Tinega         26 Kenya                  26:48   54:02  5:25 ! \"\n",
       "[10] \"    2     2/2781      24 Malika Mejdoub         29 Ethiopia               27:09   54:24  5:27 ! \""
      ]
     },
     "metadata": {},
     "output_type": "display_data"
    },
    {
     "name": "stderr",
     "output_type": "stream",
     "text": [
      "Warning message in data.frame(year = rep(year, nrow(Res)), sex = rep(sex, nrow(Res)), :\n",
      "\"NAs introduced by coercion\"\n",
      "Warning message in data.frame(year = rep(year, nrow(Res)), sex = rep(sex, nrow(Res)), :\n",
      "\"NAs introduced by coercion\"\n",
      "Warning message in data.frame(year = rep(year, nrow(Res)), sex = rep(sex, nrow(Res)), :\n",
      "\"NAs introduced by coercion\"\n"
     ]
    }
   ],
   "source": [
    "#### Save the outputs to text files to stay in sync with the book\n",
    "# first3 = substr(womenTables[[14]], 1,3)\n",
    "#  which(first3 == \"===\")\n",
    "\n",
    "els=womenTables[[14]]\n",
    "eqIndex = grep(\"^===\", els)\n",
    "\n",
    "spacerRow = els[eqIndex]\n",
    "headerRow = els[eqIndex - 1]\n",
    "headerRow = tolower(headerRow)\n",
    "ageStart = regexpr(\"ag\", headerRow)\n",
    "body = els[ -(1:eqIndex) ]\n",
    "age = substr(body, start = ageStart, stop = ageStart + 1)\n",
    "blankLocs = gregexpr(\" \", spacerRow)\n",
    "searchLocs = c(0, blankLocs[[1]])\n",
    "\n",
    "Values = mapply(substr, list(body),\n",
    "                start = searchLocs[ -length(searchLocs)] + 1,\n",
    "                stop = searchLocs[ -1 ] - 1)\n",
    "\n",
    "findColLocs = function(spacerRow) {\n",
    "  spaceLocs = gregexpr(\" \", spacerRow)[[1]]\n",
    "  rowLength = nchar(spacerRow)\n",
    "  \n",
    "  if (substring(spacerRow, rowLength, rowLength) != \" \")\n",
    "    return( c(0, spaceLocs, rowLength + 1))\n",
    "  else return(c(0, spaceLocs))\n",
    "}\n",
    "\n",
    "selectCols = function(colNames, headerRow, searchLocs)\n",
    "  {\n",
    "  sapply(colNames,\n",
    "         function(name, headerRow, searchLocs)\n",
    "           {\n",
    "           startPos = regexpr(name, headerRow)[[1]]\n",
    "           if (startPos == -1)\n",
    "             return( c(NA, NA) )\n",
    "           \n",
    "           index = sum(startPos >= searchLocs)\n",
    "           c(searchLocs[index] + 1, searchLocs[index + 1])\n",
    "           #c(searchLocs[index] + 1, searchLocs[index + 1] - 1)\n",
    "           },\n",
    "         headerRow = headerRow, searchLocs = searchLocs )\n",
    "  } \n",
    "\n",
    "\n",
    "searchLocs = findColLocs(spacerRow)\n",
    "ageLoc = selectCols(\"ag\", headerRow, searchLocs)\n",
    "ages = mapply(substr, list(body),\n",
    "              start = ageLoc[1,], stop = ageLoc[2, ])\n",
    "\n",
    "#summary(as.numeric(ages))\n",
    "\n",
    "shortColNames = c(\"name\", \"home\", \"ag\", \"gun\", \"net\", \"time\")\n",
    "#Verify that age is consistent in all files\n",
    "womenTables[[1]][1:5]\n",
    "womenTables[[2]][1:5]\n",
    "####WomenTables[[3]] has no header row####\n",
    "womenTables[[3]][1:10]\n",
    "womenTables[[4]][1:5]\n",
    "womenTables[[5]][1:5]\n",
    "womenTables[[6]][1:10]\n",
    "womenTables[[7]][1:10]\n",
    "womenTables[[8]][1:10]\n",
    "womenTables[[9]][1:10]\n",
    "womenTables[[10]][1:10]\n",
    "womenTables[[11]][1:10]\n",
    "womenTables[[12]][1:10]\n",
    "womenTables[[13]][1:10]\n",
    "womenTables[[14]][1:10]\n",
    "\n",
    "locCols = selectCols(shortColNames, headerRow, searchLocs)\n",
    "\n",
    "Values = mapply(substr, list(body), start = locCols[1, ],\n",
    "                stop = locCols[2, ])\n",
    "\n",
    "#class(Values)\n",
    "colnames(Values) = shortColNames\n",
    "\n",
    "extractVariables =\n",
    "  function(file, varNames =c(\"name\", \"home\", \"ag\", \"gun\",\n",
    "                             \"net\", \"time\"))\n",
    "    {\n",
    "  \n",
    "    eqIndex = grep(\"^===\", file)\n",
    "    spacerRow = file[eqIndex]\n",
    "    headerRow = tolower(file[ eqIndex - 1 ])\n",
    "    blanks = grep(\"^[[:blank:]]*$\", womenTables[['2005']])\n",
    "    body = file[ -(1 : eqIndex) ]\n",
    "    searchLocs = findColLocs(spacerRow)\n",
    "    locCols = selectCols(varNames, headerRow, searchLocs)\n",
    "    Values = mapply(substr, list(body), start = locCols[1, ],\n",
    "                    stop = locCols[2, ])\n",
    "    colnames(Values) = varNames\n",
    "    \n",
    "    invisible(Values) #Use invisible in place of return in a function when the returned output should not be printed.\n",
    "  }\n",
    "\n",
    "##Tee hee lets be clever\n",
    "womenTables[[3]][1:3]<-womenTables[[4]][1:3]\n",
    "womenResMat = lapply(womenTables[1:14], extractVariables)\n",
    "#length(womenResMat)\n",
    "#sapply(womenResMat, nrow)\n",
    "\n",
    "#########################Data Cleansing#######################################\n",
    "#age = sapply(womenResMat, function(x) as.numeric(x[ , 'ag']))\n",
    "#boxplot(age, ylab = \"Age\", xlab = \"Year\")\n",
    "#age<-as.numeric(womenResMat[['2012']][ , 'ag'])\n",
    "#unique(age)\n",
    "#boxplot(age, ylab = \"Age\", xlab = \"Year\")\n",
    "#sapply(age, function(x) sum(is.na(x)))\n",
    "\n",
    "###########Found that women data ages are not as terrible as the men's were.\n",
    "###########We may want to lok at NAs in 2005 and a youngster in 2001\n",
    "#i.e.\n",
    "# sapply(age, function(x) sum(is.na(x)))\n",
    "# 1999 2000 2001 2002 2003 2004 2005 2006 2007 \n",
    "# 4    1    1    5    2    2   11    3    4 \n",
    "# 2008 2009 2010 2011 2012 \n",
    "# 0    4    2    0    0 \n",
    "\n",
    "createDF =\n",
    "  function(Res, year, sex)\n",
    "  {\n",
    "    # Determine which time to use\n",
    "    # useTime = if( !is.na(Res[1, 'net']) )\n",
    "    #   Res[ , 'net']\n",
    "    # else if( !is.na(Res[1, 'gun']) )\n",
    "    #   Res[ , 'gun']\n",
    "    # else\n",
    "    #   Res[ , 'time']\n",
    "    #runTime = convertTime(useTime)\n",
    "    Results = data.frame(year = rep(year, nrow(Res)),\n",
    "                         sex = rep(sex, nrow(Res)),\n",
    "                         name = Res[ , 'name'],\n",
    "                         home = Res[ , 'home'],\n",
    "                         age = as.numeric(Res[, 'ag']),\n",
    "                         #runTime = runTime,\n",
    "                         stringsAsFactors = FALSE)\n",
    "    invisible(Results)\n",
    "  }\n",
    "\n",
    "womenDF = mapply(createDF, womenResMat, year = 1999:2012,\n",
    "               sex = rep(\"F\", 14), SIMPLIFY = FALSE)\n",
    "\n",
    "#sapply(womenDF, function(x) sum(is.na(x$age)))\n",
    "cbWomenDF = do.call(rbind, womenDF)\n",
    "\n",
    "\n",
    "#document records with missing ages\n",
    "missingAges<-cbWomenDF[is.na(cbWomenDF$age),]\n",
    "#missingAges\n",
    "\n",
    "#Remove records with missing ages\n",
    "cbWomenDF=cbWomenDF[! is.na(cbWomenDF[,5]),]\n",
    "\n",
    "save(cbWomenDF, file = \"cbWomen.rda\")"
   ]
  },
  {
   "cell_type": "code",
   "execution_count": 23,
   "metadata": {},
   "outputs": [
    {
     "name": "stderr",
     "output_type": "stream",
     "text": [
      "Warning message in write.csv(cbWomenDF, file = \"cbWomenDF.csv\", col.names = TRUE):\n",
      "\"attempt to set 'col.names' ignored\"\n"
     ]
    }
   ],
   "source": [
    "write.csv(cbWomenDF, file=\"cbWomenDF.csv\", col.names=TRUE)"
   ]
  },
  {
   "cell_type": "code",
   "execution_count": 24,
   "metadata": {},
   "outputs": [
    {
     "data": {
      "text/html": [
       "<table>\n",
       "<caption>A data.frame: 6 × 5</caption>\n",
       "<thead>\n",
       "\t<tr><th></th><th scope=col>year</th><th scope=col>sex</th><th scope=col>name</th><th scope=col>home</th><th scope=col>age</th></tr>\n",
       "\t<tr><th></th><th scope=col>&lt;int&gt;</th><th scope=col>&lt;chr&gt;</th><th scope=col>&lt;chr&gt;</th><th scope=col>&lt;chr&gt;</th><th scope=col>&lt;dbl&gt;</th></tr>\n",
       "</thead>\n",
       "<tbody>\n",
       "\t<tr><th scope=row>1999.1</th><td>1999</td><td>F</td><td>Jane Omoro            </td><td>Kenya              </td><td>26</td></tr>\n",
       "\t<tr><th scope=row>1999.2</th><td>1999</td><td>F</td><td>Jane Ngotho           </td><td>Kenya              </td><td>29</td></tr>\n",
       "\t<tr><th scope=row>1999.4</th><td>1999</td><td>F</td><td>Eunice Sagero         </td><td>Kenya              </td><td>20</td></tr>\n",
       "\t<tr><th scope=row>1999.5</th><td>1999</td><td>F</td><td>Alla Zhilyayeva       </td><td>Russia             </td><td>29</td></tr>\n",
       "\t<tr><th scope=row>1999.6</th><td>1999</td><td>F</td><td>Teresa Wanjiku        </td><td>Kenya              </td><td>24</td></tr>\n",
       "\t<tr><th scope=row>1999.7</th><td>1999</td><td>F</td><td>Elana Viazova         </td><td>Ukraine            </td><td>38</td></tr>\n",
       "</tbody>\n",
       "</table>\n"
      ],
      "text/latex": [
       "A data.frame: 6 × 5\n",
       "\\begin{tabular}{r|lllll}\n",
       "  & year & sex & name & home & age\\\\\n",
       "  & <int> & <chr> & <chr> & <chr> & <dbl>\\\\\n",
       "\\hline\n",
       "\t1999.1 & 1999 & F & Jane Omoro             & Kenya               & 26\\\\\n",
       "\t1999.2 & 1999 & F & Jane Ngotho            & Kenya               & 29\\\\\n",
       "\t1999.4 & 1999 & F & Eunice Sagero          & Kenya               & 20\\\\\n",
       "\t1999.5 & 1999 & F & Alla Zhilyayeva        & Russia              & 29\\\\\n",
       "\t1999.6 & 1999 & F & Teresa Wanjiku         & Kenya               & 24\\\\\n",
       "\t1999.7 & 1999 & F & Elana Viazova          & Ukraine             & 38\\\\\n",
       "\\end{tabular}\n"
      ],
      "text/markdown": [
       "\n",
       "A data.frame: 6 × 5\n",
       "\n",
       "| <!--/--> | year &lt;int&gt; | sex &lt;chr&gt; | name &lt;chr&gt; | home &lt;chr&gt; | age &lt;dbl&gt; |\n",
       "|---|---|---|---|---|---|\n",
       "| 1999.1 | 1999 | F | Jane Omoro             | Kenya               | 26 |\n",
       "| 1999.2 | 1999 | F | Jane Ngotho            | Kenya               | 29 |\n",
       "| 1999.4 | 1999 | F | Eunice Sagero          | Kenya               | 20 |\n",
       "| 1999.5 | 1999 | F | Alla Zhilyayeva        | Russia              | 29 |\n",
       "| 1999.6 | 1999 | F | Teresa Wanjiku         | Kenya               | 24 |\n",
       "| 1999.7 | 1999 | F | Elana Viazova          | Ukraine             | 38 |\n",
       "\n"
      ],
      "text/plain": [
       "       year sex name                   home                age\n",
       "1999.1 1999 F   Jane Omoro             Kenya               26 \n",
       "1999.2 1999 F   Jane Ngotho            Kenya               29 \n",
       "1999.4 1999 F   Eunice Sagero          Kenya               20 \n",
       "1999.5 1999 F   Alla Zhilyayeva        Russia              29 \n",
       "1999.6 1999 F   Teresa Wanjiku         Kenya               24 \n",
       "1999.7 1999 F   Elana Viazova          Ukraine             38 "
      ]
     },
     "metadata": {},
     "output_type": "display_data"
    }
   ],
   "source": [
    "head(cbWomenDF)"
   ]
  },
  {
   "cell_type": "code",
   "execution_count": 27,
   "metadata": {},
   "outputs": [
    {
     "name": "stdout",
     "output_type": "stream",
     "text": [
      "'data.frame':\t76038 obs. of  5 variables:\n",
      " $ year: int  1999 1999 1999 1999 1999 1999 1999 1999 1999 1999 ...\n",
      " $ sex : chr  \"F\" \"F\" \"F\" \"F\" ...\n",
      " $ name: chr  \"Jane Omoro            \" \"Jane Ngotho           \" \"Eunice Sagero         \" \"Alla Zhilyayeva       \" ...\n",
      " $ home: chr  \"Kenya              \" \"Kenya              \" \"Kenya              \" \"Russia             \" ...\n",
      " $ age : num  26 29 20 29 24 38 27 30 30 37 ...\n"
     ]
    }
   ],
   "source": [
    "str(cbWomenDF)"
   ]
  },
  {
   "cell_type": "code",
   "execution_count": 28,
   "metadata": {},
   "outputs": [
    {
     "data": {
      "text/plain": [
       "      year          sex                name               home          \n",
       " Min.   :1999   Length:76038       Length:76038       Length:76038      \n",
       " 1st Qu.:2005   Class :character   Class :character   Class :character  \n",
       " Median :2008   Mode  :character   Mode  :character   Mode  :character  \n",
       " Mean   :2007                                                           \n",
       " 3rd Qu.:2010                                                           \n",
       " Max.   :2012                                                           \n",
       "      age       \n",
       " Min.   : 0.00  \n",
       " 1st Qu.:27.00  \n",
       " Median :32.00  \n",
       " Mean   :33.85  \n",
       " 3rd Qu.:39.00  \n",
       " Max.   :87.00  "
      ]
     },
     "metadata": {},
     "output_type": "display_data"
    }
   ],
   "source": [
    "summary((cbWomenDF)) #Summary Statistics"
   ]
  },
  {
   "cell_type": "code",
   "execution_count": 29,
   "metadata": {},
   "outputs": [
    {
     "data": {
      "text/html": [
       "<ol class=list-inline>\n",
       "\t<li>'brewer.pal'</li>\n",
       "\t<li>'brewer.pal.info'</li>\n",
       "\t<li>'display.brewer.all'</li>\n",
       "\t<li>'display.brewer.pal'</li>\n",
       "</ol>\n"
      ],
      "text/latex": [
       "\\begin{enumerate*}\n",
       "\\item 'brewer.pal'\n",
       "\\item 'brewer.pal.info'\n",
       "\\item 'display.brewer.all'\n",
       "\\item 'display.brewer.pal'\n",
       "\\end{enumerate*}\n"
      ],
      "text/markdown": [
       "1. 'brewer.pal'\n",
       "2. 'brewer.pal.info'\n",
       "3. 'display.brewer.all'\n",
       "4. 'display.brewer.pal'\n",
       "\n",
       "\n"
      ],
      "text/plain": [
       "[1] \"brewer.pal\"         \"brewer.pal.info\"    \"display.brewer.all\"\n",
       "[4] \"display.brewer.pal\""
      ]
     },
     "metadata": {},
     "output_type": "display_data"
    },
    {
     "data": {
      "image/png": "[encoded data removed]",
      "text/plain": [
       "plot without title"
      ]
     },
     "metadata": {
      "image/png": {
       "height": 420,
       "width": 420
      },
      "text/plain": {
       "height": 420,
       "width": 420
      }
     },
     "output_type": "display_data"
    },
    {
     "data": {
      "image/png": "[encoded data removed]",
      "text/plain": [
       "plot without title"
      ]
     },
     "metadata": {
      "image/png": {
       "height": 420,
       "width": 420
      },
      "text/plain": {
       "height": 420,
       "width": 420
      }
     },
     "output_type": "display_data"
    },
    {
     "data": {
      "image/png": "[encoded data removed]",
      "text/plain": [
       "plot without title"
      ]
     },
     "metadata": {
      "image/png": {
       "height": 420,
       "width": 420
      },
      "text/plain": {
       "height": 420,
       "width": 420
      }
     },
     "output_type": "display_data"
    }
   ],
   "source": [
    "library(RColorBrewer) \n",
    "ls(\"package:RColorBrewer\")\n",
    "Purples8 = brewer.pal(9, \"Purples\")[8] \n",
    "Purples8A = paste(Purples8, \"14\", sep = \"\") \n",
    "\n",
    "#Jitter amount = .5 will randomly add/subtract to make ages not overlap so much\n",
    "plot(jitter(cbWomenDF$age, amount = 0.5) ~ year, data = cbWomenDF, xlab = \"Year\", ylab = \"Age\",col=Purples8A )\n",
    "\n",
    "smoothScatter(y = cbWomenDF$age, x = cbWomenDF$year,\n",
    "               xlab = \"Year\", ylab = \"Age\")\n",
    "\n",
    "boxplot(cbWomenDF$age~cbWomenDF$year, ylab = \"Age\", xlab = \"Year\")"
   ]
  },
  {
   "cell_type": "code",
   "execution_count": 30,
   "metadata": {},
   "outputs": [
    {
     "data": {
      "text/html": [
       "<dl class=dl-horizontal>\n",
       "\t<dt>(Intercept)</dt>\n",
       "\t\t<dd>2008.06401909507</dd>\n",
       "\t<dt>cbWomenDF$age</dt>\n",
       "\t\t<dd>-0.0213482891867739</dd>\n",
       "</dl>\n"
      ],
      "text/latex": [
       "\\begin{description*}\n",
       "\\item[(Intercept)] 2008.06401909507\n",
       "\\item[cbWomenDF\\textbackslash{}\\$age] -0.0213482891867739\n",
       "\\end{description*}\n"
      ],
      "text/markdown": [
       "(Intercept)\n",
       ":   2008.06401909507cbWomenDF$age\n",
       ":   -0.0213482891867739\n",
       "\n"
      ],
      "text/plain": [
       "  (Intercept) cbWomenDF$age \n",
       "2008.06401910   -0.02134829 "
      ]
     },
     "metadata": {},
     "output_type": "display_data"
    },
    {
     "data": {
      "text/plain": [
       "\n",
       "Call:\n",
       "lm(formula = cbWomenDF$year ~ cbWomenDF$age, data = cbWomenDF)\n",
       "\n",
       "Residuals:\n",
       "    Min      1Q  Median      3Q     Max \n",
       "-8.8078 -2.5303  0.7045  3.1101  5.5371 \n",
       "\n",
       "Coefficients:\n",
       "                Estimate Std. Error  t value Pr(>|t|)    \n",
       "(Intercept)    2.008e+03  5.143e-02 39044.61   <2e-16 ***\n",
       "cbWomenDF$age -2.135e-02  1.466e-03   -14.56   <2e-16 ***\n",
       "---\n",
       "Signif. codes:  0 '***' 0.001 '**' 0.01 '*' 0.05 '.' 0.1 ' ' 1\n",
       "\n",
       "Residual standard error: 3.728 on 76036 degrees of freedom\n",
       "Multiple R-squared:  0.002782,\tAdjusted R-squared:  0.002769 \n",
       "F-statistic: 212.1 on 1 and 76036 DF,  p-value: < 2.2e-16\n"
      ]
     },
     "metadata": {},
     "output_type": "display_data"
    }
   ],
   "source": [
    "#To see how well the simple linear model captures the relationship (or not)\n",
    "lmAge = lm(cbWomenDF$year ~ cbWomenDF$age, data = cbWomenDF) \n",
    "lmAge$coefficients\n",
    "summary(lmAge)"
   ]
  },
  {
   "cell_type": "code",
   "execution_count": 12,
   "metadata": {},
   "outputs": [],
   "source": [
    "#LEI \n",
    "#this unit changepoint (of mean, variance), loess (yr, age; LOESS curve, each with a different span), qq plot in R (1999 vs 2012)\n",
    "#### Quantile-Quantile Plot. The quantile-quantile (q-q) plot is a graphical technique for determining if two data sets come from populations \n",
    "#violin plot\n",
    "#density plot in py(can plot all in one), year as group, age distribution all in one plot\n",
    "#### year int need to as string\n",
    "\n",
    "#ANOVA each year as a group?\n"
   ]
  },
  {
   "cell_type": "code",
   "execution_count": 34,
   "metadata": {},
   "outputs": [
    {
     "data": {
      "image/png": "[encoded data removed]",
      "text/plain": [
       "plot without title"
      ]
     },
     "metadata": {
      "image/png": {
       "height": 420,
       "width": 420
      },
      "text/plain": {
       "height": 420,
       "width": 420
      }
     },
     "output_type": "display_data"
    }
   ],
   "source": [
    "library(ggplot2)\n",
    "ggplot(data=cbWomenDF, aes(age, group=year, fill=year, colour=year)) +\n",
    "  geom_density(alpha = 0.5) +\n",
    "  theme_dark() + \n",
    "  facet_wrap(~year, ncol=3) +\n",
    "  labs(title=\"Density Distributions of Ages per Year\", x=\"Age\", y=\"Density\")"
   ]
  },
  {
   "cell_type": "code",
   "execution_count": 15,
   "metadata": {},
   "outputs": [
    {
     "data": {
      "text/html": [
       "<table>\n",
       "<caption>A data.frame: 6 × 5</caption>\n",
       "<thead>\n",
       "\t<tr><th></th><th scope=col>year</th><th scope=col>sex</th><th scope=col>name</th><th scope=col>home</th><th scope=col>age</th></tr>\n",
       "\t<tr><th></th><th scope=col>&lt;int&gt;</th><th scope=col>&lt;chr&gt;</th><th scope=col>&lt;chr&gt;</th><th scope=col>&lt;chr&gt;</th><th scope=col>&lt;dbl&gt;</th></tr>\n",
       "</thead>\n",
       "<tbody>\n",
       "\t<tr><th scope=row>1999.1</th><td>1999</td><td>F</td><td>Jane Omoro            </td><td>Kenya              </td><td>26</td></tr>\n",
       "\t<tr><th scope=row>1999.2</th><td>1999</td><td>F</td><td>Jane Ngotho           </td><td>Kenya              </td><td>29</td></tr>\n",
       "\t<tr><th scope=row>1999.4</th><td>1999</td><td>F</td><td>Eunice Sagero         </td><td>Kenya              </td><td>20</td></tr>\n",
       "\t<tr><th scope=row>1999.5</th><td>1999</td><td>F</td><td>Alla Zhilyayeva       </td><td>Russia             </td><td>29</td></tr>\n",
       "\t<tr><th scope=row>1999.6</th><td>1999</td><td>F</td><td>Teresa Wanjiku        </td><td>Kenya              </td><td>24</td></tr>\n",
       "\t<tr><th scope=row>1999.7</th><td>1999</td><td>F</td><td>Elana Viazova         </td><td>Ukraine            </td><td>38</td></tr>\n",
       "</tbody>\n",
       "</table>\n"
      ],
      "text/latex": [
       "A data.frame: 6 × 5\n",
       "\\begin{tabular}{r|lllll}\n",
       "  & year & sex & name & home & age\\\\\n",
       "  & <int> & <chr> & <chr> & <chr> & <dbl>\\\\\n",
       "\\hline\n",
       "\t1999.1 & 1999 & F & Jane Omoro             & Kenya               & 26\\\\\n",
       "\t1999.2 & 1999 & F & Jane Ngotho            & Kenya               & 29\\\\\n",
       "\t1999.4 & 1999 & F & Eunice Sagero          & Kenya               & 20\\\\\n",
       "\t1999.5 & 1999 & F & Alla Zhilyayeva        & Russia              & 29\\\\\n",
       "\t1999.6 & 1999 & F & Teresa Wanjiku         & Kenya               & 24\\\\\n",
       "\t1999.7 & 1999 & F & Elana Viazova          & Ukraine             & 38\\\\\n",
       "\\end{tabular}\n"
      ],
      "text/markdown": [
       "\n",
       "A data.frame: 6 × 5\n",
       "\n",
       "| <!--/--> | year &lt;int&gt; | sex &lt;chr&gt; | name &lt;chr&gt; | home &lt;chr&gt; | age &lt;dbl&gt; |\n",
       "|---|---|---|---|---|---|\n",
       "| 1999.1 | 1999 | F | Jane Omoro             | Kenya               | 26 |\n",
       "| 1999.2 | 1999 | F | Jane Ngotho            | Kenya               | 29 |\n",
       "| 1999.4 | 1999 | F | Eunice Sagero          | Kenya               | 20 |\n",
       "| 1999.5 | 1999 | F | Alla Zhilyayeva        | Russia              | 29 |\n",
       "| 1999.6 | 1999 | F | Teresa Wanjiku         | Kenya               | 24 |\n",
       "| 1999.7 | 1999 | F | Elana Viazova          | Ukraine             | 38 |\n",
       "\n"
      ],
      "text/plain": [
       "       year sex name                   home                age\n",
       "1999.1 1999 F   Jane Omoro             Kenya               26 \n",
       "1999.2 1999 F   Jane Ngotho            Kenya               29 \n",
       "1999.4 1999 F   Eunice Sagero          Kenya               20 \n",
       "1999.5 1999 F   Alla Zhilyayeva        Russia              29 \n",
       "1999.6 1999 F   Teresa Wanjiku         Kenya               24 \n",
       "1999.7 1999 F   Elana Viazova          Ukraine             38 "
      ]
     },
     "metadata": {},
     "output_type": "display_data"
    },
    {
     "data": {
      "text/html": [
       "<ol class=list-inline>\n",
       "\t<li>76038</li>\n",
       "\t<li>5</li>\n",
       "</ol>\n"
      ],
      "text/latex": [
       "\\begin{enumerate*}\n",
       "\\item 76038\n",
       "\\item 5\n",
       "\\end{enumerate*}\n"
      ],
      "text/markdown": [
       "1. 76038\n",
       "2. 5\n",
       "\n",
       "\n"
      ],
      "text/plain": [
       "[1] 76038     5"
      ]
     },
     "metadata": {},
     "output_type": "display_data"
    }
   ],
   "source": [
    "head(cbWomenDF)\n",
    "dim(cbWomenDF)"
   ]
  },
  {
   "cell_type": "code",
   "execution_count": 47,
   "metadata": {},
   "outputs": [
    {
     "data": {
      "text/html": [
       "<table>\n",
       "<caption>A data.frame: 6 × 5</caption>\n",
       "<thead>\n",
       "\t<tr><th></th><th scope=col>year</th><th scope=col>sex</th><th scope=col>name</th><th scope=col>home</th><th scope=col>age</th></tr>\n",
       "\t<tr><th></th><th scope=col>&lt;fct&gt;</th><th scope=col>&lt;chr&gt;</th><th scope=col>&lt;chr&gt;</th><th scope=col>&lt;chr&gt;</th><th scope=col>&lt;dbl&gt;</th></tr>\n",
       "</thead>\n",
       "<tbody>\n",
       "\t<tr><th scope=row>1999.1</th><td>1999</td><td>F</td><td>Jane Omoro            </td><td>Kenya              </td><td>26</td></tr>\n",
       "\t<tr><th scope=row>1999.2</th><td>1999</td><td>F</td><td>Jane Ngotho           </td><td>Kenya              </td><td>29</td></tr>\n",
       "\t<tr><th scope=row>1999.4</th><td>1999</td><td>F</td><td>Eunice Sagero         </td><td>Kenya              </td><td>20</td></tr>\n",
       "\t<tr><th scope=row>1999.5</th><td>1999</td><td>F</td><td>Alla Zhilyayeva       </td><td>Russia             </td><td>29</td></tr>\n",
       "\t<tr><th scope=row>1999.6</th><td>1999</td><td>F</td><td>Teresa Wanjiku        </td><td>Kenya              </td><td>24</td></tr>\n",
       "\t<tr><th scope=row>1999.7</th><td>1999</td><td>F</td><td>Elana Viazova         </td><td>Ukraine            </td><td>38</td></tr>\n",
       "</tbody>\n",
       "</table>\n"
      ],
      "text/latex": [
       "A data.frame: 6 × 5\n",
       "\\begin{tabular}{r|lllll}\n",
       "  & year & sex & name & home & age\\\\\n",
       "  & <fct> & <chr> & <chr> & <chr> & <dbl>\\\\\n",
       "\\hline\n",
       "\t1999.1 & 1999 & F & Jane Omoro             & Kenya               & 26\\\\\n",
       "\t1999.2 & 1999 & F & Jane Ngotho            & Kenya               & 29\\\\\n",
       "\t1999.4 & 1999 & F & Eunice Sagero          & Kenya               & 20\\\\\n",
       "\t1999.5 & 1999 & F & Alla Zhilyayeva        & Russia              & 29\\\\\n",
       "\t1999.6 & 1999 & F & Teresa Wanjiku         & Kenya               & 24\\\\\n",
       "\t1999.7 & 1999 & F & Elana Viazova          & Ukraine             & 38\\\\\n",
       "\\end{tabular}\n"
      ],
      "text/markdown": [
       "\n",
       "A data.frame: 6 × 5\n",
       "\n",
       "| <!--/--> | year &lt;fct&gt; | sex &lt;chr&gt; | name &lt;chr&gt; | home &lt;chr&gt; | age &lt;dbl&gt; |\n",
       "|---|---|---|---|---|---|\n",
       "| 1999.1 | 1999 | F | Jane Omoro             | Kenya               | 26 |\n",
       "| 1999.2 | 1999 | F | Jane Ngotho            | Kenya               | 29 |\n",
       "| 1999.4 | 1999 | F | Eunice Sagero          | Kenya               | 20 |\n",
       "| 1999.5 | 1999 | F | Alla Zhilyayeva        | Russia              | 29 |\n",
       "| 1999.6 | 1999 | F | Teresa Wanjiku         | Kenya               | 24 |\n",
       "| 1999.7 | 1999 | F | Elana Viazova          | Ukraine             | 38 |\n",
       "\n"
      ],
      "text/plain": [
       "       year sex name                   home                age\n",
       "1999.1 1999 F   Jane Omoro             Kenya               26 \n",
       "1999.2 1999 F   Jane Ngotho            Kenya               29 \n",
       "1999.4 1999 F   Eunice Sagero          Kenya               20 \n",
       "1999.5 1999 F   Alla Zhilyayeva        Russia              29 \n",
       "1999.6 1999 F   Teresa Wanjiku         Kenya               24 \n",
       "1999.7 1999 F   Elana Viazova          Ukraine             38 "
      ]
     },
     "metadata": {},
     "output_type": "display_data"
    }
   ],
   "source": [
    "cbWomenDF2=cbWomenDF\n",
    "#change year to factor\n",
    "cbWomenDF2[,'year']<-factor(cbWomenDF2[,'year'])\n",
    "head(cbWomenDF2)"
   ]
  },
  {
   "cell_type": "code",
   "execution_count": 97,
   "metadata": {},
   "outputs": [
    {
     "name": "stderr",
     "output_type": "stream",
     "text": [
      "Warning message in write.csv(cbWomenDF2, file = \"cbWomenDF2.csv\", col.names = TRUE):\n",
      "\"attempt to set 'col.names' ignored\"\n"
     ]
    }
   ],
   "source": [
    "# write.csv(cbWomenDF2, file=\"cbWomenDF2.csv\", col.names=TRUE)"
   ]
  },
  {
   "cell_type": "code",
   "execution_count": 41,
   "metadata": {},
   "outputs": [
    {
     "name": "stderr",
     "output_type": "stream",
     "text": [
      "Warning message:\n",
      "\"package 'dplyr' was built under R version 3.5.2\"\n",
      "\n",
      "Attaching package: 'dplyr'\n",
      "\n",
      "\n",
      "The following object is masked from 'package:GGally':\n",
      "\n",
      "    nasa\n",
      "\n",
      "\n",
      "The following objects are masked from 'package:stats':\n",
      "\n",
      "    filter, lag\n",
      "\n",
      "\n",
      "The following objects are masked from 'package:base':\n",
      "\n",
      "    intersect, setdiff, setequal, union\n",
      "\n",
      "\n"
     ]
    }
   ],
   "source": [
    "library(GGally)\n",
    "library(dplyr) \n"
   ]
  },
  {
   "cell_type": "code",
   "execution_count": 48,
   "metadata": {},
   "outputs": [
    {
     "data": {
      "image/png": "[encoded data removed]",
      "text/plain": [
       "plot without title"
      ]
     },
     "metadata": {
      "image/png": {
       "height": 420,
       "width": 420
      },
      "text/plain": {
       "height": 420,
       "width": 420
      }
     },
     "output_type": "display_data"
    }
   ],
   "source": [
    "#chooses the columns \n",
    "cbWomenDF%>%select(age, year)%>%ggpairs"
   ]
  },
  {
   "cell_type": "code",
   "execution_count": 51,
   "metadata": {},
   "outputs": [
    {
     "name": "stderr",
     "output_type": "stream",
     "text": [
      "`stat_bin()` using `bins = 30`. Pick better value with `binwidth`.\n",
      "\n"
     ]
    },
    {
     "data": {
      "image/png": "[encoded data removed]",
      "text/plain": [
       "plot without title"
      ]
     },
     "metadata": {
      "image/png": {
       "height": 420,
       "width": 420
      },
      "text/plain": {
       "height": 420,
       "width": 420
      }
     },
     "output_type": "display_data"
    }
   ],
   "source": [
    "cbWomenDF2%>%select(age, year)%>%ggpairs(aes(color = year))"
   ]
  },
  {
   "cell_type": "markdown",
   "metadata": {},
   "source": [
    "## If we focus on comparsion of year 1999 and 2012\n",
    "#### it seems age distribution in females does not change drammatically. \n",
    "#### The phenomena \"the 1999 runners were typically older than the 2012 runners\" \n",
    "#### may caused by male runners since it describes the total population in the question."
   ]
  },
  {
   "cell_type": "markdown",
   "metadata": {},
   "source": [
    "## Quantile-Quantile Plot\n",
    "### If age distributions of both years came from the same distribution, we should see the points forming a line that's roughly straight."
   ]
  },
  {
   "cell_type": "code",
   "execution_count": 58,
   "metadata": {},
   "outputs": [
    {
     "data": {
      "image/png": "[encoded data removed]",
      "text/plain": [
       "Plot with title \"Figure. Q-Q plot of female runner's age for year 1999 and 2012\""
      ]
     },
     "metadata": {
      "image/png": {
       "height": 420,
       "width": 420
      },
      "text/plain": {
       "height": 420,
       "width": 420
      }
     },
     "output_type": "display_data"
    }
   ],
   "source": [
    "age1999 = cbWomenDF[ cbWomenDF$year == 1999, \"age\" ]\n",
    "age2012 = cbWomenDF[ cbWomenDF$year == 2012, \"age\" ]\n",
    "qqplot(age1999, age2012, pch = 19, cex = 0.5, \n",
    "       ylim = c(10,90), xlim = c(10,90), \n",
    "       xlab = \"Age in 1999 Race\",\n",
    "       ylab = \"Age in 2012 Race\", \n",
    "       main = \"Figure. Q-Q plot of female runner's age for year 1999 and 2012\"\n",
    "      )\n",
    "abline(a =0, b = 1, col=\"red\", lwd = 2)"
   ]
  },
  {
   "cell_type": "code",
   "execution_count": 69,
   "metadata": {},
   "outputs": [
    {
     "data": {
      "image/png": "[encoded data removed]",
      "text/plain": [
       "Plot with title \"\""
      ]
     },
     "metadata": {
      "image/png": {
       "height": 420,
       "width": 420
      },
      "text/plain": {
       "height": 420,
       "width": 420
      }
     },
     "output_type": "display_data"
    }
   ],
   "source": [
    "#focus on year 1999 and 2012\n",
    "plot(density(age1999, na.rm = TRUE), \n",
    "     ylim = c(0, 0.07), col = \"blue\",\n",
    "     lwd = 3,  xlab = \"Age (years)\",  main = \"\")\n",
    "lines(density(age2012, na.rm = TRUE), \n",
    "      lwd = 3, lty = 2, col=\"green\")\n",
    "legend(\"topleft\", col = c(\"blue\", \"green\"), lty= 1:2, lwd = 3,\n",
    "       legend = c(\"1999\", \"2012\"), bty = \"n\")\n"
   ]
  },
  {
   "cell_type": "markdown",
   "metadata": {},
   "source": [
    "## From the test results of One Way Anova of all year groups\n",
    "#### which reports <2e-16\n",
    "#### and stat significant\n",
    "#### can reject the idea that all the populations have identical means.\n",
    "\n",
    "### we can see there must be some change over the years. We will do a changepoint test to find out.\n"
   ]
  },
  {
   "cell_type": "code",
   "execution_count": 71,
   "metadata": {},
   "outputs": [
    {
     "data": {
      "image/png": "[encoded data removed]",
      "text/plain": [
       "Plot with title \"\""
      ]
     },
     "metadata": {
      "image/png": {
       "height": 420,
       "width": 420
      },
      "text/plain": {
       "height": 420,
       "width": 420
      }
     },
     "output_type": "display_data"
    },
    {
     "data": {
      "image/png": "[encoded data removed]",
      "text/plain": [
       "Plot with title \"\""
      ]
     },
     "metadata": {
      "image/png": {
       "height": 420,
       "width": 420
      },
      "text/plain": {
       "height": 420,
       "width": 420
      }
     },
     "output_type": "display_data"
    },
    {
     "data": {
      "image/png": "[encoded data removed]",
      "text/plain": [
       "Plot with title \"\""
      ]
     },
     "metadata": {
      "image/png": {
       "height": 420,
       "width": 420
      },
      "text/plain": {
       "height": 420,
       "width": 420
      }
     },
     "output_type": "display_data"
    },
    {
     "data": {
      "image/png": "[encoded data removed]",
      "text/plain": [
       "Plot with title \"\""
      ]
     },
     "metadata": {
      "image/png": {
       "height": 420,
       "width": 420
      },
      "text/plain": {
       "height": 420,
       "width": 420
      }
     },
     "output_type": "display_data"
    }
   ],
   "source": [
    "# all year group\n",
    "# notice use DF2 where Year is factor\n",
    "\n",
    "# One Way Anova (Completely Randomized Design)\n",
    "fit <- aov(age ~ year, data=cbWomenDF2)\n",
    "plot(fit)"
   ]
  },
  {
   "cell_type": "code",
   "execution_count": 72,
   "metadata": {},
   "outputs": [
    {
     "data": {
      "text/plain": [
       "               Df  Sum Sq Mean Sq F value Pr(>F)    \n",
       "year           13   33934  2610.3   30.84 <2e-16 ***\n",
       "Residuals   76024 6433840    84.6                   \n",
       "---\n",
       "Signif. codes:  0 '***' 0.001 '**' 0.01 '*' 0.05 '.' 0.1 ' ' 1"
      ]
     },
     "metadata": {},
     "output_type": "display_data"
    }
   ],
   "source": [
    "summary(fit)"
   ]
  },
  {
   "cell_type": "code",
   "execution_count": 94,
   "metadata": {},
   "outputs": [],
   "source": [
    "# in order to do a changepoint test, need to caculate the age mean for each yr using DF2\n",
    "# create a year vs ageMean dataframe\n",
    "# library(plyr)\n",
    "\n",
    "# data points may not be enough\n"
   ]
  },
  {
   "cell_type": "code",
   "execution_count": 77,
   "metadata": {},
   "outputs": [
    {
     "name": "stderr",
     "output_type": "stream",
     "text": [
      "Warning message:\n",
      "\"package 'data.table' was built under R version 3.5.2\"\n",
      "\n",
      "Attaching package: 'data.table'\n",
      "\n",
      "\n",
      "The following objects are masked from 'package:dplyr':\n",
      "\n",
      "    between, first, last\n",
      "\n",
      "\n"
     ]
    }
   ],
   "source": [
    "# ageMean<-ddply(cbWomenDF2, .(year), summarize, mean=mean(value))\n",
    "# ageMean\n",
    "\n",
    "# attach(cbWomenDF2)\n",
    "# # aggregate(age~year, FUN=mean)\n",
    "\n",
    "# ageMean <- by(age, year, mean)\n",
    "\n",
    "\n",
    "library(data.table) \n"
   ]
  },
  {
   "cell_type": "code",
   "execution_count": 88,
   "metadata": {},
   "outputs": [],
   "source": [
    "df=cbWomenDF2\n",
    "ageMean1999 <- setDT(df[df$year == \"1999\", ])[, mean(age)]\n",
    "ageMean2000 <- setDT(df[df$year == \"2000\", ])[, mean(age)]\n",
    "ageMean2001 <- setDT(df[df$year == \"2001\", ])[, mean(age)]\n",
    "ageMean2002 <- setDT(df[df$year == \"2002\", ])[, mean(age)]\n",
    "ageMean2003 <- setDT(df[df$year == \"2003\", ])[, mean(age)]\n",
    "ageMean2004 <- setDT(df[df$year == \"2004\", ])[, mean(age)]\n",
    "ageMean2005 <- setDT(df[df$year == \"2005\", ])[, mean(age)]\n",
    "ageMean2006 <- setDT(df[df$year == \"2006\", ])[, mean(age)]\n",
    "ageMean2007 <- setDT(df[df$year == \"2007\", ])[, mean(age)]\n",
    "ageMean2008 <- setDT(df[df$year == \"2008\", ])[, mean(age)]\n",
    "ageMean2009 <- setDT(df[df$year == \"2009\", ])[, mean(age)]\n",
    "ageMean2010 <- setDT(df[df$year == \"2010\", ])[, mean(age)]\n",
    "ageMean2011 <- setDT(df[df$year == \"2011\", ])[, mean(age)]\n",
    "ageMean2012 <- setDT(df[df$year == \"2012\", ])[, mean(age)]\n"
   ]
  },
  {
   "cell_type": "code",
   "execution_count": 89,
   "metadata": {},
   "outputs": [
    {
     "data": {
      "text/html": [
       "<ol class=list-inline>\n",
       "\t<li>34.9009353741497</li>\n",
       "\t<li>35.5535549399815</li>\n",
       "\t<li>34.8061911170929</li>\n",
       "\t<li>35.1378378378378</li>\n",
       "\t<li>35.0513833992095</li>\n",
       "\t<li>33.9325468068736</li>\n",
       "\t<li>34.1692485549133</li>\n",
       "\t<li>33.6534781008465</li>\n",
       "\t<li>33.5214486638537</li>\n",
       "\t<li>33.2102548069408</li>\n",
       "\t<li>33.0775147217882</li>\n",
       "\t<li>33.2970744380436</li>\n",
       "\t<li>33.7401993355482</li>\n",
       "\t<li>33.8779936272998</li>\n",
       "</ol>\n"
      ],
      "text/latex": [
       "\\begin{enumerate*}\n",
       "\\item 34.9009353741497\n",
       "\\item 35.5535549399815\n",
       "\\item 34.8061911170929\n",
       "\\item 35.1378378378378\n",
       "\\item 35.0513833992095\n",
       "\\item 33.9325468068736\n",
       "\\item 34.1692485549133\n",
       "\\item 33.6534781008465\n",
       "\\item 33.5214486638537\n",
       "\\item 33.2102548069408\n",
       "\\item 33.0775147217882\n",
       "\\item 33.2970744380436\n",
       "\\item 33.7401993355482\n",
       "\\item 33.8779936272998\n",
       "\\end{enumerate*}\n"
      ],
      "text/markdown": [
       "1. 34.9009353741497\n",
       "2. 35.5535549399815\n",
       "3. 34.8061911170929\n",
       "4. 35.1378378378378\n",
       "5. 35.0513833992095\n",
       "6. 33.9325468068736\n",
       "7. 34.1692485549133\n",
       "8. 33.6534781008465\n",
       "9. 33.5214486638537\n",
       "10. 33.2102548069408\n",
       "11. 33.0775147217882\n",
       "12. 33.2970744380436\n",
       "13. 33.7401993355482\n",
       "14. 33.8779936272998\n",
       "\n",
       "\n"
      ],
      "text/plain": [
       " [1] 34.90094 35.55355 34.80619 35.13784 35.05138 33.93255 34.16925 33.65348\n",
       " [9] 33.52145 33.21025 33.07751 33.29707 33.74020 33.87799"
      ]
     },
     "metadata": {},
     "output_type": "display_data"
    }
   ],
   "source": [
    "ageMean=c(ageMean1999,ageMean2000, ageMean2001, ageMean2002, ageMean2003, ageMean2004, ageMean2005, ageMean2006, ageMean2007, ageMean2008, ageMean2009, ageMean2010, ageMean2011, ageMean2012)\n",
    "ageMean"
   ]
  },
  {
   "cell_type": "code",
   "execution_count": 95,
   "metadata": {},
   "outputs": [],
   "source": [
    "agemedian1999 <- setDT(df[df$year == \"1999\", ])[, median(age)]\n",
    "agemedian2000 <- setDT(df[df$year == \"2000\", ])[, median(age)]\n",
    "agemedian2001 <- setDT(df[df$year == \"2001\", ])[, median(age)]\n",
    "agemedian2002 <- setDT(df[df$year == \"2002\", ])[, median(age)]\n",
    "agemedian2003 <- setDT(df[df$year == \"2003\", ])[, median(age)]\n",
    "agemedian2004 <- setDT(df[df$year == \"2004\", ])[, median(age)]\n",
    "agemedian2005 <- setDT(df[df$year == \"2005\", ])[, median(age)]\n",
    "agemedian2006 <- setDT(df[df$year == \"2006\", ])[, median(age)]\n",
    "agemedian2007 <- setDT(df[df$year == \"2007\", ])[, median(age)]\n",
    "agemedian2008 <- setDT(df[df$year == \"2008\", ])[, median(age)]\n",
    "agemedian2009 <- setDT(df[df$year == \"2009\", ])[, median(age)]\n",
    "agemedian2010 <- setDT(df[df$year == \"2010\", ])[, median(age)]\n",
    "agemedian2011 <- setDT(df[df$year == \"2011\", ])[, median(age)]\n",
    "agemedian2012 <- setDT(df[df$year == \"2012\", ])[, median(age)]"
   ]
  },
  {
   "cell_type": "code",
   "execution_count": 96,
   "metadata": {},
   "outputs": [
    {
     "data": {
      "text/html": [
       "<ol class=list-inline>\n",
       "\t<li>33</li>\n",
       "\t<li>34</li>\n",
       "\t<li>33</li>\n",
       "\t<li>33</li>\n",
       "\t<li>33</li>\n",
       "\t<li>32</li>\n",
       "\t<li>32</li>\n",
       "\t<li>31</li>\n",
       "\t<li>31</li>\n",
       "\t<li>31</li>\n",
       "\t<li>31</li>\n",
       "\t<li>31</li>\n",
       "\t<li>31</li>\n",
       "\t<li>32</li>\n",
       "</ol>\n"
      ],
      "text/latex": [
       "\\begin{enumerate*}\n",
       "\\item 33\n",
       "\\item 34\n",
       "\\item 33\n",
       "\\item 33\n",
       "\\item 33\n",
       "\\item 32\n",
       "\\item 32\n",
       "\\item 31\n",
       "\\item 31\n",
       "\\item 31\n",
       "\\item 31\n",
       "\\item 31\n",
       "\\item 31\n",
       "\\item 32\n",
       "\\end{enumerate*}\n"
      ],
      "text/markdown": [
       "1. 33\n",
       "2. 34\n",
       "3. 33\n",
       "4. 33\n",
       "5. 33\n",
       "6. 32\n",
       "7. 32\n",
       "8. 31\n",
       "9. 31\n",
       "10. 31\n",
       "11. 31\n",
       "12. 31\n",
       "13. 31\n",
       "14. 32\n",
       "\n",
       "\n"
      ],
      "text/plain": [
       " [1] 33 34 33 33 33 32 32 31 31 31 31 31 31 32"
      ]
     },
     "metadata": {},
     "output_type": "display_data"
    }
   ],
   "source": [
    "agemedian=c(agemedian1999,agemedian2000, agemedian2001, agemedian2002, agemedian2003, agemedian2004, agemedian2005, agemedian2006, agemedian2007, agemedian2008, agemedian2009, agemedian2010, agemedian2011, agemedian2012)\n",
    "agemedian"
   ]
  },
  {
   "cell_type": "code",
   "execution_count": 3,
   "metadata": {},
   "outputs": [],
   "source": [
    "\n",
    "\n",
    "v1=c(34.9009353741497,35.5535549399815,34.8061911170929,35.1378378378378,35.0513833992095,33.9325468068736,34.1692485549133,33.6534781008465,33.5214486638537,33.2102548069408,33.0775147217882,33.2970744380436,33.7401993355482,33.8779936272998)"
   ]
  },
  {
   "cell_type": "code",
   "execution_count": 4,
   "metadata": {},
   "outputs": [],
   "source": [
    "\n",
    "\n",
    "v2=c(33,34,33,33,33,32,32,31,31,31,31,31,31,32)"
   ]
  },
  {
   "cell_type": "code",
   "execution_count": 5,
   "metadata": {},
   "outputs": [
    {
     "data": {
      "text/html": [
       "<ol class=list-inline>\n",
       "\t<li>1.9009353741497</li>\n",
       "\t<li>1.5535549399815</li>\n",
       "\t<li>1.8061911170929</li>\n",
       "\t<li>2.1378378378378</li>\n",
       "\t<li>2.0513833992095</li>\n",
       "\t<li>1.9325468068736</li>\n",
       "\t<li>2.1692485549133</li>\n",
       "\t<li>2.6534781008465</li>\n",
       "\t<li>2.5214486638537</li>\n",
       "\t<li>2.2102548069408</li>\n",
       "\t<li>2.0775147217882</li>\n",
       "\t<li>2.2970744380436</li>\n",
       "\t<li>2.7401993355482</li>\n",
       "\t<li>1.8779936272998</li>\n",
       "</ol>\n"
      ],
      "text/latex": [
       "\\begin{enumerate*}\n",
       "\\item 1.9009353741497\n",
       "\\item 1.5535549399815\n",
       "\\item 1.8061911170929\n",
       "\\item 2.1378378378378\n",
       "\\item 2.0513833992095\n",
       "\\item 1.9325468068736\n",
       "\\item 2.1692485549133\n",
       "\\item 2.6534781008465\n",
       "\\item 2.5214486638537\n",
       "\\item 2.2102548069408\n",
       "\\item 2.0775147217882\n",
       "\\item 2.2970744380436\n",
       "\\item 2.7401993355482\n",
       "\\item 1.8779936272998\n",
       "\\end{enumerate*}\n"
      ],
      "text/markdown": [
       "1. 1.9009353741497\n",
       "2. 1.5535549399815\n",
       "3. 1.8061911170929\n",
       "4. 2.1378378378378\n",
       "5. 2.0513833992095\n",
       "6. 1.9325468068736\n",
       "7. 2.1692485549133\n",
       "8. 2.6534781008465\n",
       "9. 2.5214486638537\n",
       "10. 2.2102548069408\n",
       "11. 2.0775147217882\n",
       "12. 2.2970744380436\n",
       "13. 2.7401993355482\n",
       "14. 1.8779936272998\n",
       "\n",
       "\n"
      ],
      "text/plain": [
       " [1] 1.900935 1.553555 1.806191 2.137838 2.051383 1.932547 2.169249 2.653478\n",
       " [9] 2.521449 2.210255 2.077515 2.297074 2.740199 1.877994"
      ]
     },
     "metadata": {},
     "output_type": "display_data"
    }
   ],
   "source": [
    "v1-v2\n",
    "# mean always greater than median\n",
    "# all yrs left skewed"
   ]
  },
  {
   "cell_type": "code",
   "execution_count": 91,
   "metadata": {},
   "outputs": [
    {
     "name": "stderr",
     "output_type": "stream",
     "text": [
      "Warning message:\n",
      "\"package 'changepoint' was built under R version 3.5.3\"\n",
      "Loading required package: zoo\n",
      "\n",
      "\n",
      "Attaching package: 'zoo'\n",
      "\n",
      "\n",
      "The following objects are masked from 'package:base':\n",
      "\n",
      "    as.Date, as.Date.numeric\n",
      "\n",
      "\n",
      "Successfully loaded changepoint package version 2.2.2\n",
      " NOTE: Predefined penalty values changed in version 2.2.  Previous penalty values with a postfix 1 i.e. SIC1 are now without i.e. SIC and previous penalties without a postfix i.e. SIC are now with a postfix 0 i.e. SIC0. See NEWS and help files for further details.\n",
      "\n"
     ]
    },
    {
     "name": "stdout",
     "output_type": "stream",
     "text": [
      "Class 'cpt' : Changepoint Object\n",
      "       ~~   : S4 class containing 12 slots with names\n",
      "              cpttype date version data.set method test.stat pen.type pen.value minseglen cpts ncpts.max param.est \n",
      "\n",
      "Created on  : Sun Jan 26 05:21:12 2020 \n",
      "\n",
      "summary(.)  :\n",
      "----------\n",
      "Created Using changepoint version 2.2.2 \n",
      "Changepoint type      : Change in variance \n",
      "Method of analysis    : AMOC \n",
      "Test Statistic  : Normal \n",
      "Type of penalty       : MBIC with value, 7.917172 \n",
      "Minimum Segment Length : 2 \n",
      "Maximum no. of cpts   : 1 \n",
      "Changepoint Locations :  \n"
     ]
    },
    {
     "data": {
      "image/png": "[encoded data removed]",
      "text/plain": [
       "plot without title"
      ]
     },
     "metadata": {
      "image/png": {
       "height": 420,
       "width": 420
      },
      "text/plain": {
       "height": 420,
       "width": 420
      }
     },
     "output_type": "display_data"
    }
   ],
   "source": [
    "library(changepoint)\n",
    "ansvar=cpt.var(ageMean)\n",
    "plot(ansvar)\n",
    "print(ansvar)"
   ]
  },
  {
   "cell_type": "code",
   "execution_count": null,
   "metadata": {},
   "outputs": [],
   "source": [
    "# seems 2009 has the lowest meanAge"
   ]
  },
  {
   "cell_type": "code",
   "execution_count": 92,
   "metadata": {},
   "outputs": [
    {
     "name": "stdout",
     "output_type": "stream",
     "text": [
      "Class 'cpt' : Changepoint Object\n",
      "       ~~   : S4 class containing 12 slots with names\n",
      "              cpttype date version data.set method test.stat pen.type pen.value minseglen cpts ncpts.max param.est \n",
      "\n",
      "Created on  : Sun Jan 26 05:21:12 2020 \n",
      "\n",
      "summary(.)  :\n",
      "----------\n",
      "Created Using changepoint version 2.2.2 \n",
      "Changepoint type      : Change in mean \n",
      "Method of analysis    : AMOC \n",
      "Test Statistic  : Normal \n",
      "Type of penalty       : MBIC with value, 7.917172 \n",
      "Minimum Segment Length : 1 \n",
      "Maximum no. of cpts   : 1 \n",
      "Changepoint Locations :  \n"
     ]
    },
    {
     "data": {
      "image/png": "[encoded data removed]",
      "text/plain": [
       "plot without title"
      ]
     },
     "metadata": {
      "image/png": {
       "height": 420,
       "width": 420
      },
      "text/plain": {
       "height": 420,
       "width": 420
      }
     },
     "output_type": "display_data"
    }
   ],
   "source": [
    "ansmean=cpt.mean(ageMean)\n",
    "plot(ansmean,cpt.col='blue')\n",
    "print(ansmean)"
   ]
  },
  {
   "cell_type": "code",
   "execution_count": 93,
   "metadata": {},
   "outputs": [
    {
     "name": "stdout",
     "output_type": "stream",
     "text": [
      "Class 'cpt' : Changepoint Object\n",
      "       ~~   : S4 class containing 12 slots with names\n",
      "              cpttype date version data.set method test.stat pen.type pen.value minseglen cpts ncpts.max param.est \n",
      "\n",
      "Created on  : Sun Jan 26 05:21:12 2020 \n",
      "\n",
      "summary(.)  :\n",
      "----------\n",
      "Created Using changepoint version 2.2.2 \n",
      "Changepoint type      : Change in mean and variance \n",
      "Method of analysis    : AMOC \n",
      "Test Statistic  : Normal \n",
      "Type of penalty       : MBIC with value, 7.917172 \n",
      "Minimum Segment Length : 2 \n",
      "Maximum no. of cpts   : 1 \n",
      "Changepoint Locations : 13 \n"
     ]
    },
    {
     "data": {
      "image/png": "[encoded data removed]",
      "text/plain": [
       "plot without title"
      ]
     },
     "metadata": {
      "image/png": {
       "height": 420,
       "width": 420
      },
      "text/plain": {
       "height": 420,
       "width": 420
      }
     },
     "output_type": "display_data"
    }
   ],
   "source": [
    "ansmeanvar=cpt.meanvar(ageMean)\n",
    "plot(ansmeanvar,cpt.width=3)\n",
    "print(ansmeanvar)"
   ]
  },
  {
   "cell_type": "code",
   "execution_count": 32,
   "metadata": {},
   "outputs": [
    {
     "name": "stderr",
     "output_type": "stream",
     "text": [
      "Warning message in simpleLoess(y, x, w, span, degree = degree, parametric = parametric, :\n",
      "\"at  2012.1\"\n",
      "Warning message in simpleLoess(y, x, w, span, degree = degree, parametric = parametric, :\n",
      "\"radius  0.004225\"\n",
      "Warning message in simpleLoess(y, x, w, span, degree = degree, parametric = parametric, :\n",
      "\"all data on boundary of neighborhood. make span bigger\"\n",
      "Warning message in simpleLoess(y, x, w, span, degree = degree, parametric = parametric, :\n",
      "\"pseudoinverse used at 2012.1\"\n",
      "Warning message in simpleLoess(y, x, w, span, degree = degree, parametric = parametric, :\n",
      "\"neighborhood radius 0.065\"\n",
      "Warning message in simpleLoess(y, x, w, span, degree = degree, parametric = parametric, :\n",
      "\"reciprocal condition number  0.096465\"\n",
      "Warning message in simpleLoess(y, x, w, span, degree = degree, parametric = parametric, :\n",
      "\"There are other near singularities as well. 1\"\n",
      "Warning message in simpleLoess(y, x, w, span, degree = degree, parametric = parametric, :\n",
      "\"zero-width neighborhood. make span bigger\"\n",
      "Warning message in simpleLoess(y, x, w, span, degree = degree, parametric = parametric, :\n",
      "\"zero-width neighborhood. make span bigger\"\n",
      "Warning message in simpleLoess(y, x, w, span, degree = degree, parametric = parametric, :\n",
      "\"zero-width neighborhood. make span bigger\"\n",
      "Warning message in simpleLoess(y, x, w, span, degree = degree, parametric = parametric, :\n",
      "\"zero-width neighborhood. make span bigger\"\n",
      "Warning message in simpleLoess(y, x, w, span, degree = degree, parametric = parametric, :\n",
      "\"pseudoinverse used at 2008\"\n",
      "Warning message in simpleLoess(y, x, w, span, degree = degree, parametric = parametric, :\n",
      "\"neighborhood radius 1\"\n",
      "Warning message in simpleLoess(y, x, w, span, degree = degree, parametric = parametric, :\n",
      "\"reciprocal condition number  0\"\n",
      "Warning message in simpleLoess(y, x, w, span, degree = degree, parametric = parametric, :\n",
      "\"There are other near singularities as well. 1\"\n"
     ]
    },
    {
     "data": {
      "image/png": "[encoded data removed]",
      "text/plain": [
       "Plot with title \"Loess Smoothing and Prediction\""
      ]
     },
     "metadata": {
      "image/png": {
       "height": 420,
       "width": 420
      },
      "text/plain": {
       "height": 420,
       "width": 420
      }
     },
     "output_type": "display_data"
    }
   ],
   "source": [
    "loessMod10 <- loess(age ~ year, data=cbWomenDF, span=0.10) # 10% smoothing span\n",
    "loessMod25 <- loess(age ~ year, data=cbWomenDF, span=0.25) # 25% smoothing span\n",
    "loessMod75 <- loess(age ~ year, data=cbWomenDF, span=0.75) # 75% smoothing span\n",
    "\n",
    "smoothed10 <- predict(loessMod10) \n",
    "smoothed25 <- predict(loessMod25) \n",
    "smoothed75 <- predict(loessMod50)\n",
    "\n",
    "# ref for code http://r-statistics.co/Loess-Regression-With-R.html\n",
    "\n",
    "plot(cbWomenDF$age, x=cbWomenDF$year, type=\"l\", main=\"Loess Smoothing and Prediction\", xlab=\"year\", ylab=\"age\")\n",
    "lines(smoothed10, x=cbWomenDF$year, col=\"red\")\n",
    "lines(smoothed25, x=cbWomenDF$year, col=\"green\")\n",
    "lines(smoothed75, x=cbWomenDF$year, col=\"blue\")\n",
    "\n",
    "\n",
    "legend(\"topleft\", legend=c(\"10% \", \"25%\",\"75% \"), col=c(\"red\", \"green\",\"blue\"),lty=1:2, cex=0.8 )\n",
    "#ref http://www.sthda.com/english/wiki/add-legends-to-plots-in-r-software-the-easiest-way"
   ]
  },
  {
   "cell_type": "code",
   "execution_count": 8,
   "metadata": {},
   "outputs": [],
   "source": [
    "setwd(\"C:/Users/N1110/Desktop/QTW/Jan30\")\n"
   ]
  },
  {
   "cell_type": "code",
   "execution_count": 9,
   "metadata": {},
   "outputs": [],
   "source": [
    "load(\"cbWomen.rda\")"
   ]
  },
  {
   "cell_type": "code",
   "execution_count": 10,
   "metadata": {},
   "outputs": [
    {
     "data": {
      "text/html": [
       "<table>\n",
       "<caption>A data.frame: 6 × 5</caption>\n",
       "<thead>\n",
       "\t<tr><th></th><th scope=col>year</th><th scope=col>sex</th><th scope=col>name</th><th scope=col>home</th><th scope=col>age</th></tr>\n",
       "\t<tr><th></th><th scope=col>&lt;int&gt;</th><th scope=col>&lt;chr&gt;</th><th scope=col>&lt;chr&gt;</th><th scope=col>&lt;chr&gt;</th><th scope=col>&lt;dbl&gt;</th></tr>\n",
       "</thead>\n",
       "<tbody>\n",
       "\t<tr><th scope=row>1999.1</th><td>1999</td><td>F</td><td>Jane Omoro            </td><td>Kenya              </td><td>26</td></tr>\n",
       "\t<tr><th scope=row>1999.2</th><td>1999</td><td>F</td><td>Jane Ngotho           </td><td>Kenya              </td><td>29</td></tr>\n",
       "\t<tr><th scope=row>1999.4</th><td>1999</td><td>F</td><td>Eunice Sagero         </td><td>Kenya              </td><td>20</td></tr>\n",
       "\t<tr><th scope=row>1999.5</th><td>1999</td><td>F</td><td>Alla Zhilyayeva       </td><td>Russia             </td><td>29</td></tr>\n",
       "\t<tr><th scope=row>1999.6</th><td>1999</td><td>F</td><td>Teresa Wanjiku        </td><td>Kenya              </td><td>24</td></tr>\n",
       "\t<tr><th scope=row>1999.7</th><td>1999</td><td>F</td><td>Elana Viazova         </td><td>Ukraine            </td><td>38</td></tr>\n",
       "</tbody>\n",
       "</table>\n"
      ],
      "text/latex": [
       "A data.frame: 6 × 5\n",
       "\\begin{tabular}{r|lllll}\n",
       "  & year & sex & name & home & age\\\\\n",
       "  & <int> & <chr> & <chr> & <chr> & <dbl>\\\\\n",
       "\\hline\n",
       "\t1999.1 & 1999 & F & Jane Omoro             & Kenya               & 26\\\\\n",
       "\t1999.2 & 1999 & F & Jane Ngotho            & Kenya               & 29\\\\\n",
       "\t1999.4 & 1999 & F & Eunice Sagero          & Kenya               & 20\\\\\n",
       "\t1999.5 & 1999 & F & Alla Zhilyayeva        & Russia              & 29\\\\\n",
       "\t1999.6 & 1999 & F & Teresa Wanjiku         & Kenya               & 24\\\\\n",
       "\t1999.7 & 1999 & F & Elana Viazova          & Ukraine             & 38\\\\\n",
       "\\end{tabular}\n"
      ],
      "text/markdown": [
       "\n",
       "A data.frame: 6 × 5\n",
       "\n",
       "| <!--/--> | year &lt;int&gt; | sex &lt;chr&gt; | name &lt;chr&gt; | home &lt;chr&gt; | age &lt;dbl&gt; |\n",
       "|---|---|---|---|---|---|\n",
       "| 1999.1 | 1999 | F | Jane Omoro             | Kenya               | 26 |\n",
       "| 1999.2 | 1999 | F | Jane Ngotho            | Kenya               | 29 |\n",
       "| 1999.4 | 1999 | F | Eunice Sagero          | Kenya               | 20 |\n",
       "| 1999.5 | 1999 | F | Alla Zhilyayeva        | Russia              | 29 |\n",
       "| 1999.6 | 1999 | F | Teresa Wanjiku         | Kenya               | 24 |\n",
       "| 1999.7 | 1999 | F | Elana Viazova          | Ukraine             | 38 |\n",
       "\n"
      ],
      "text/plain": [
       "       year sex name                   home                age\n",
       "1999.1 1999 F   Jane Omoro             Kenya               26 \n",
       "1999.2 1999 F   Jane Ngotho            Kenya               29 \n",
       "1999.4 1999 F   Eunice Sagero          Kenya               20 \n",
       "1999.5 1999 F   Alla Zhilyayeva        Russia              29 \n",
       "1999.6 1999 F   Teresa Wanjiku         Kenya               24 \n",
       "1999.7 1999 F   Elana Viazova          Ukraine             38 "
      ]
     },
     "metadata": {},
     "output_type": "display_data"
    }
   ],
   "source": [
    "head(cbWomenDF)"
   ]
  },
  {
   "cell_type": "code",
   "execution_count": 19,
   "metadata": {},
   "outputs": [],
   "source": [
    "age1999 = cbWomenDF[ cbWomenDF$year == 1999, \"age\" ]\n",
    "age2000 = cbWomenDF[ cbWomenDF$year == 2000, \"age\" ]\n",
    "age2001 = cbWomenDF[ cbWomenDF$year == 2001, \"age\" ]\n",
    "age2005 = cbWomenDF[ cbWomenDF$year == 2005, \"age\" ]\n",
    "age2009 = cbWomenDF[ cbWomenDF$year == 2009, \"age\" ]\n",
    "age2010 = cbWomenDF[ cbWomenDF$year == 2010, \"age\" ]\n",
    "age2011 = cbWomenDF[ cbWomenDF$year == 2011, \"age\" ]\n",
    "age2012 = cbWomenDF[ cbWomenDF$year == 2012, \"age\" ]"
   ]
  },
  {
   "cell_type": "code",
   "execution_count": 25,
   "metadata": {},
   "outputs": [
    {
     "data": {
      "image/png": "[encoded data removed]",
      "text/plain": [
       "Plot with title \"\""
      ]
     },
     "metadata": {
      "image/png": {
       "height": 420,
       "width": 420
      },
      "text/plain": {
       "height": 420,
       "width": 420
      }
     },
     "output_type": "display_data"
    }
   ],
   "source": [
    "plot(density(age1999, na.rm = TRUE), \n",
    "     ylim = c(0, 0.07), col = \"blue\",\n",
    "     lwd = 3,  xlab = \"Age (years)\",  main = \"\")\n",
    "lines(density(age2001, na.rm = TRUE), \n",
    "      lwd = 3, lty = 2, col=\"orange\")\n",
    "lines(density(age2005, na.rm = TRUE), \n",
    "      lwd = 3, lty = 2, col=\"red\")\n",
    "lines(density(age2009, na.rm = TRUE), \n",
    "      lwd = 3, lty = 2, col=\"purple\")\n",
    "lines(density(age2010, na.rm = TRUE), \n",
    "      lwd = 3, lty = 2, col=\"black\")\n",
    "lines(density(age2011, na.rm = TRUE), \n",
    "      lwd = 3, lty = 2, col=\"grey\")\n",
    "lines(density(age2012, na.rm = TRUE), \n",
    "      lwd = 3, lty = 2, col=\"green\")\n",
    "legend(\"topleft\", col = c(\"blue\",\"orange\",\"red\",\"purple\", \"black\",\"grey\",\"green\"), lty= 1:2, lwd = 3,\n",
    "       legend = c(\"1999\",\"2001\",\"2005\",\"2009\", \"2010\",\"2011\",\"2012\"), bty = \"n\")"
   ]
  },
  {
   "cell_type": "code",
   "execution_count": null,
   "metadata": {},
   "outputs": [],
   "source": [
    "# peak move to left, peak age decrease from 1999 to 2005 to 2009, \n",
    "# start to increase from 2010 to 2011 to 2012"
   ]
  }
 ],
 "metadata": {
  "kernelspec": {
   "display_name": "R",
   "language": "R",
   "name": "ir"
  },
  "language_info": {
   "codemirror_mode": "r",
   "file_extension": ".r",
   "mimetype": "text/x-r-source",
   "name": "R",
   "pygments_lexer": "r",
   "version": "3.5.1"
  }
 },
 "nbformat": 4,
 "nbformat_minor": 2
}
