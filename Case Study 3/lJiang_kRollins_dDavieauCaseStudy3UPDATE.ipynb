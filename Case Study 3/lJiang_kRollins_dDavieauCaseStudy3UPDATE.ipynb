{
 "cells": [
  {
   "cell_type": "markdown",
   "metadata": {},
   "source": [
    "### Q.19 \n",
    "Consider the other parameters that can be used to control the recursive partitioning\n",
    "process. Read the documentation for them in the rpart.control() documentation. Also,\n",
    "carry out an Internet search for more information on how to tweak the rpart() tuning\n",
    "parameters. Experiment with values for these parameters. Do the trees that result make\n",
    "sense with your understanding of how the parameters are used? Can you improve the\n",
    "prediction using them?\n",
    "\n",
    "### Q.20 \n",
    "__Textbook question 20__  \n",
    "In Section 3.6.3 we used the test set that we had put aside to both select τ, the threshold for the log odds, and to evaluate the Type I and II errors incurred when we use this threshold. Ideally, we choose τ from another set of messages that is both independent of our training data and our test data. The method of cross-validation is designed to use the training set for training and validating the model. Implement 5-fold cross-validation to choose τ and assess the error rate with our training data. To do this, follow the steps:  \n",
    "__(a)__ Use the sample() function to permute the indices of the training set, and organize these permuted indices into 5 equal-size sets, called folds.  \n",
    "__(b)__ Foreachfold,takethecorrespondingsubsetfromthetrainingdatatouseasa‘test’ set. Use the remaining messages in the training data as the training set. Apply the functions developed in Section 3.6 to estimate the probabilities that a word occurs in a message given it is spam or ham, and use these probabilities to compute the log likelihood ratio for the messages in the training set.  \n",
    "__(c)__ Pool all of the LLR values from the messages in all of the folds, i.e., from all of the training data, and use these values and the typeIErrorRate() function to select a threshold that achieves a 1% Type I error.  \n",
    "__(d)__ Apply this threshold to our original/real test set and ﬁnd its Type I and Type II errors.\n"
   ]
  },
  {
   "cell_type": "markdown",
   "metadata": {},
   "source": [
    "__Dan: Need to install packages__\n",
    "\n",
    "install.packages(\"tm\")  \n",
    "install.packages(\"rpart\")  \n",
    "install.packages(\"rpart.plot\")  \n",
    "install.packages(\"caret\")  \n",
    "install.packages(\"MLmetrics\")  \n",
    "install.packages(\"naivebayes\")  \n",
    "install.packages(\"e1071\")"
   ]
  },
  {
   "cell_type": "markdown",
   "metadata": {},
   "source": [
    "__Dan: Edit this to your local file system:__"
   ]
  },
  {
   "cell_type": "code",
   "execution_count": 1,
   "metadata": {},
   "outputs": [
    {
     "name": "stderr",
     "output_type": "stream",
     "text": [
      "Warning message:\n",
      "\"package 'rpart' was built under R version 3.5.3\"\n",
      "Warning message:\n",
      "\"package 'rpart.plot' was built under R version 3.5.3\"\n",
      "Warning message:\n",
      "\"package 'RColorBrewer' was built under R version 3.5.2\"\n"
     ]
    }
   ],
   "source": [
    "library(rpart)\n",
    "library(rpart.plot)\n",
    "library(RColorBrewer)\n",
    "library(MLmetrics)\n"
   ]
  },
  {
   "cell_type": "code",
   "execution_count": 2,
   "metadata": {},
   "outputs": [],
   "source": [
    "setwd('C:/Users/N1110/Desktop/QTW/Case Study 3 3')"
   ]
  },
  {
   "cell_type": "code",
   "execution_count": 3,
   "metadata": {},
   "outputs": [],
   "source": [
    "\n",
    "#spamPath = system.file(package = \"RSpamData\")\n",
    "#spamPath = \"/Users/nolan/RPackages/RSpamData\"spamPath = \".\"\n",
    "spamPath = \"./From 2ds\"\n",
    "#list.dirs(spamPath, full.names = FALSE)\n",
    "\n"
   ]
  },
  {
   "cell_type": "markdown",
   "metadata": {},
   "source": [
    "__Dan: Everything Else Below Should Run__"
   ]
  },
  {
   "cell_type": "code",
   "execution_count": 4,
   "metadata": {},
   "outputs": [
    {
     "data": {
      "text/html": [
       "<ol class=list-inline>\n",
       "\t<li>'easy_ham'</li>\n",
       "\t<li>'easy_ham_2'</li>\n",
       "\t<li>'hard_ham'</li>\n",
       "\t<li>'spam'</li>\n",
       "\t<li>'spam_2'</li>\n",
       "</ol>\n"
      ],
      "text/latex": [
       "\\begin{enumerate*}\n",
       "\\item 'easy\\_ham'\n",
       "\\item 'easy\\_ham\\_2'\n",
       "\\item 'hard\\_ham'\n",
       "\\item 'spam'\n",
       "\\item 'spam\\_2'\n",
       "\\end{enumerate*}\n"
      ],
      "text/markdown": [
       "1. 'easy_ham'\n",
       "2. 'easy_ham_2'\n",
       "3. 'hard_ham'\n",
       "4. 'spam'\n",
       "5. 'spam_2'\n",
       "\n",
       "\n"
      ],
      "text/plain": [
       "[1] \"easy_ham\"   \"easy_ham_2\" \"hard_ham\"   \"spam\"       \"spam_2\"    "
      ]
     },
     "metadata": {},
     "output_type": "display_data"
    }
   ],
   "source": [
    "list.files(path = paste(spamPath, \"messages\", \n",
    "                        sep = .Platform$file.sep))\n",
    "\n"
   ]
  },
  {
   "cell_type": "code",
   "execution_count": 5,
   "metadata": {},
   "outputs": [],
   "source": [
    "f=list.files(path = paste(spamPath,'messages/spam', sep=.Platform$file.sep))"
   ]
  },
  {
   "cell_type": "code",
   "execution_count": 6,
   "metadata": {},
   "outputs": [
    {
     "data": {
      "text/html": [
       "1001"
      ],
      "text/latex": [
       "1001"
      ],
      "text/markdown": [
       "1001"
      ],
      "text/plain": [
       "[1] 1001"
      ]
     },
     "metadata": {},
     "output_type": "display_data"
    }
   ],
   "source": [
    "############Gettign different counts than Nolan. His showed 1001\n",
    "length(f)"
   ]
  },
  {
   "cell_type": "code",
   "execution_count": 7,
   "metadata": {},
   "outputs": [
    {
     "data": {
      "text/html": [
       "<ol class=list-inline>\n",
       "\t<li>'00001.317e78fa8ee2f54cd4890fdc09ba8176'</li>\n",
       "\t<li>'00002.9438920e9a55591b18e60d1ed37d992b'</li>\n",
       "\t<li>'00003.590eff932f8704d8b0fcbe69d023b54d'</li>\n",
       "\t<li>'00004.bdcc075fa4beb5157b5dd6cd41d8887b'</li>\n",
       "\t<li>'00005.ed0aba4d386c5e62bc737cf3f0ed9589'</li>\n",
       "\t<li>'00006.3ca1f399ccda5d897fecb8c57669a283'</li>\n",
       "</ol>\n"
      ],
      "text/latex": [
       "\\begin{enumerate*}\n",
       "\\item '00001.317e78fa8ee2f54cd4890fdc09ba8176'\n",
       "\\item '00002.9438920e9a55591b18e60d1ed37d992b'\n",
       "\\item '00003.590eff932f8704d8b0fcbe69d023b54d'\n",
       "\\item '00004.bdcc075fa4beb5157b5dd6cd41d8887b'\n",
       "\\item '00005.ed0aba4d386c5e62bc737cf3f0ed9589'\n",
       "\\item '00006.3ca1f399ccda5d897fecb8c57669a283'\n",
       "\\end{enumerate*}\n"
      ],
      "text/markdown": [
       "1. '00001.317e78fa8ee2f54cd4890fdc09ba8176'\n",
       "2. '00002.9438920e9a55591b18e60d1ed37d992b'\n",
       "3. '00003.590eff932f8704d8b0fcbe69d023b54d'\n",
       "4. '00004.bdcc075fa4beb5157b5dd6cd41d8887b'\n",
       "5. '00005.ed0aba4d386c5e62bc737cf3f0ed9589'\n",
       "6. '00006.3ca1f399ccda5d897fecb8c57669a283'\n",
       "\n",
       "\n"
      ],
      "text/plain": [
       "[1] \"00001.317e78fa8ee2f54cd4890fdc09ba8176\"\n",
       "[2] \"00002.9438920e9a55591b18e60d1ed37d992b\"\n",
       "[3] \"00003.590eff932f8704d8b0fcbe69d023b54d\"\n",
       "[4] \"00004.bdcc075fa4beb5157b5dd6cd41d8887b\"\n",
       "[5] \"00005.ed0aba4d386c5e62bc737cf3f0ed9589\"\n",
       "[6] \"00006.3ca1f399ccda5d897fecb8c57669a283\""
      ]
     },
     "metadata": {},
     "output_type": "display_data"
    },
    {
     "data": {
      "text/html": [
       "9353"
      ],
      "text/latex": [
       "9353"
      ],
      "text/markdown": [
       "9353"
      ],
      "text/plain": [
       "[1] 9353"
      ]
     },
     "metadata": {},
     "output_type": "display_data"
    },
    {
     "data": {
      "text/html": [
       "<dl class=dl-horizontal>\n",
       "\t<dt>./From 2ds/messages/easy_ham</dt>\n",
       "\t\t<dd>5052</dd>\n",
       "\t<dt>./From 2ds/messages/easy_ham_2</dt>\n",
       "\t\t<dd>1401</dd>\n",
       "\t<dt>./From 2ds/messages/hard_ham</dt>\n",
       "\t\t<dd>501</dd>\n",
       "\t<dt>./From 2ds/messages/spam</dt>\n",
       "\t\t<dd>1001</dd>\n",
       "\t<dt>./From 2ds/messages/spam_2</dt>\n",
       "\t\t<dd>1398</dd>\n",
       "</dl>\n"
      ],
      "text/latex": [
       "\\begin{description*}\n",
       "\\item[./From 2ds/messages/easy\\textbackslash{}\\_ham] 5052\n",
       "\\item[./From 2ds/messages/easy\\textbackslash{}\\_ham\\textbackslash{}\\_2] 1401\n",
       "\\item[./From 2ds/messages/hard\\textbackslash{}\\_ham] 501\n",
       "\\item[./From 2ds/messages/spam] 1001\n",
       "\\item[./From 2ds/messages/spam\\textbackslash{}\\_2] 1398\n",
       "\\end{description*}\n"
      ],
      "text/markdown": [
       "./From 2ds/messages/easy_ham\n",
       ":   5052./From 2ds/messages/easy_ham_2\n",
       ":   1401./From 2ds/messages/hard_ham\n",
       ":   501./From 2ds/messages/spam\n",
       ":   1001./From 2ds/messages/spam_2\n",
       ":   1398\n",
       "\n"
      ],
      "text/plain": [
       "  ./From 2ds/messages/easy_ham ./From 2ds/messages/easy_ham_2 \n",
       "                          5052                           1401 \n",
       "  ./From 2ds/messages/hard_ham       ./From 2ds/messages/spam \n",
       "                           501                           1001 \n",
       "    ./From 2ds/messages/spam_2 \n",
       "                          1398 "
      ]
     },
     "metadata": {},
     "output_type": "display_data"
    }
   ],
   "source": [
    "############Gettign different counts than Nolan.\n",
    "head(list.files(path = paste(spamPath, \"messages\", \"spam_2\",\n",
    "                             sep = .Platform$file.sep)))\n",
    "\n",
    "dirNames = list.files(path = paste(spamPath, \"messages\", \n",
    "                      sep = .Platform$file.sep))\n",
    "length(list.files(paste(spamPath, \"messages\", dirNames, \n",
    "                        sep = .Platform$file.sep)))\n",
    "\n",
    "sapply(paste(spamPath, \"messages\", dirNames, \n",
    "             sep = .Platform$file.sep), \n",
    "       function(dir) length(list.files(dir)) )\n",
    "\n",
    "fullDirNames = paste(spamPath, \"messages\", dirNames, \n",
    "                     sep = .Platform$file.sep)"
   ]
  },
  {
   "cell_type": "code",
   "execution_count": 8,
   "metadata": {},
   "outputs": [
    {
     "data": {
      "text/html": [
       "'./From 2ds/messages/easy_ham/00001.7c53336b37003a9286aba55d2945844c'"
      ],
      "text/latex": [
       "'./From 2ds/messages/easy\\_ham/00001.7c53336b37003a9286aba55d2945844c'"
      ],
      "text/markdown": [
       "'./From 2ds/messages/easy_ham/00001.7c53336b37003a9286aba55d2945844c'"
      ],
      "text/plain": [
       "[1] \"./From 2ds/messages/easy_ham/00001.7c53336b37003a9286aba55d2945844c\""
      ]
     },
     "metadata": {},
     "output_type": "display_data"
    },
    {
     "data": {
      "text/html": [
       "<ol class=list-inline>\n",
       "\t<li><span style=white-space:pre-wrap>'From exmh-workers-admin@redhat.com  Thu Aug 22 12:36:23 2002'</span></li>\n",
       "\t<li>'Return-Path: &lt;exmh-workers-admin@spamassassin.taint.org&gt;'</li>\n",
       "\t<li>'Delivered-To: zzzz@localhost.netnoteinc.com'</li>\n",
       "\t<li>'Received: from localhost (localhost [127.0.0.1])'</li>\n",
       "\t<li>'\\tby phobos.labs.netnoteinc.com (Postfix) with ESMTP id D03E543C36'</li>\n",
       "\t<li>'\\tfor &lt;zzzz@localhost&gt;; Thu, 22 Aug 2002 07:36:16 -0400 (EDT)'</li>\n",
       "</ol>\n"
      ],
      "text/latex": [
       "\\begin{enumerate*}\n",
       "\\item 'From exmh-workers-admin@redhat.com  Thu Aug 22 12:36:23 2002'\n",
       "\\item 'Return-Path: <exmh-workers-admin@spamassassin.taint.org>'\n",
       "\\item 'Delivered-To: zzzz@localhost.netnoteinc.com'\n",
       "\\item 'Received: from localhost (localhost {[}127.0.0.1{]})'\n",
       "\\item '\\textbackslash{}tby phobos.labs.netnoteinc.com (Postfix) with ESMTP id D03E543C36'\n",
       "\\item '\\textbackslash{}tfor <zzzz@localhost>; Thu, 22 Aug 2002 07:36:16 -0400 (EDT)'\n",
       "\\end{enumerate*}\n"
      ],
      "text/markdown": [
       "1. <span style=white-space:pre-wrap>'From exmh-workers-admin@redhat.com  Thu Aug 22 12:36:23 2002'</span>\n",
       "2. 'Return-Path: &lt;exmh-workers-admin@spamassassin.taint.org&gt;'\n",
       "3. 'Delivered-To: zzzz@localhost.netnoteinc.com'\n",
       "4. 'Received: from localhost (localhost [127.0.0.1])'\n",
       "5. '\\tby phobos.labs.netnoteinc.com (Postfix) with ESMTP id D03E543C36'\n",
       "6. '\\tfor &lt;zzzz@localhost&gt;; Thu, 22 Aug 2002 07:36:16 -0400 (EDT)'\n",
       "\n",
       "\n"
      ],
      "text/plain": [
       "[1] \"From exmh-workers-admin@redhat.com  Thu Aug 22 12:36:23 2002\"     \n",
       "[2] \"Return-Path: <exmh-workers-admin@spamassassin.taint.org>\"         \n",
       "[3] \"Delivered-To: zzzz@localhost.netnoteinc.com\"                      \n",
       "[4] \"Received: from localhost (localhost [127.0.0.1])\"                 \n",
       "[5] \"\\tby phobos.labs.netnoteinc.com (Postfix) with ESMTP id D03E543C36\"\n",
       "[6] \"\\tfor <zzzz@localhost>; Thu, 22 Aug 2002 07:36:16 -0400 (EDT)\"     "
      ]
     },
     "metadata": {},
     "output_type": "display_data"
    },
    {
     "data": {
      "text/html": [
       "63"
      ],
      "text/latex": [
       "63"
      ],
      "text/markdown": [
       "63"
      ],
      "text/plain": [
       "[1] 63"
      ]
     },
     "metadata": {},
     "output_type": "display_data"
    },
    {
     "data": {
      "text/html": [
       "63"
      ],
      "text/latex": [
       "63"
      ],
      "text/markdown": [
       "63"
      ],
      "text/plain": [
       "[1] 63"
      ]
     },
     "metadata": {},
     "output_type": "display_data"
    },
    {
     "data": {
      "text/html": [
       "<ol class=list-inline>\n",
       "\t<li>'List-Archive: &lt;https://listman.spamassassin.taint.org/mailman/private/exmh-workers/&gt;'</li>\n",
       "\t<li>'Date: Thu, 22 Aug 2002 18:26:25 +0700'</li>\n",
       "\t<li>''</li>\n",
       "\t<li><span style=white-space:pre-wrap>'    Date:        Wed, 21 Aug 2002 10:54:46 -0500'</span></li>\n",
       "\t<li><span style=white-space:pre-wrap>'    From:        Chris Garrigues &lt;cwg-dated-1030377287.06fa6d@DeepEddy.Com&gt;'</span></li>\n",
       "\t<li><span style=white-space:pre-wrap>'    Message-ID:  &lt;1029945287.4797.TMDA@deepeddy.vircio.com&gt;'</span></li>\n",
       "\t<li>''</li>\n",
       "\t<li>''</li>\n",
       "\t<li><span style=white-space:pre-wrap>'  | I can\\'t reproduce this error.'</span></li>\n",
       "</ol>\n"
      ],
      "text/latex": [
       "\\begin{enumerate*}\n",
       "\\item 'List-Archive: <https://listman.spamassassin.taint.org/mailman/private/exmh-workers/>'\n",
       "\\item 'Date: Thu, 22 Aug 2002 18:26:25 +0700'\n",
       "\\item ''\n",
       "\\item '    Date:        Wed, 21 Aug 2002 10:54:46 -0500'\n",
       "\\item '    From:        Chris Garrigues <cwg-dated-1030377287.06fa6d@DeepEddy.Com>'\n",
       "\\item '    Message-ID:  <1029945287.4797.TMDA@deepeddy.vircio.com>'\n",
       "\\item ''\n",
       "\\item ''\n",
       "\\item '  \\textbar{} I can\\textbackslash{}'t reproduce this error.'\n",
       "\\end{enumerate*}\n"
      ],
      "text/markdown": [
       "1. 'List-Archive: &lt;https://listman.spamassassin.taint.org/mailman/private/exmh-workers/&gt;'\n",
       "2. 'Date: Thu, 22 Aug 2002 18:26:25 +0700'\n",
       "3. ''\n",
       "4. <span style=white-space:pre-wrap>'    Date:        Wed, 21 Aug 2002 10:54:46 -0500'</span>\n",
       "5. <span style=white-space:pre-wrap>'    From:        Chris Garrigues &lt;cwg-dated-1030377287.06fa6d@DeepEddy.Com&gt;'</span>\n",
       "6. <span style=white-space:pre-wrap>'    Message-ID:  &lt;1029945287.4797.TMDA@deepeddy.vircio.com&gt;'</span>\n",
       "7. ''\n",
       "8. ''\n",
       "9. <span style=white-space:pre-wrap>'  | I can\\'t reproduce this error.'</span>\n",
       "\n",
       "\n"
      ],
      "text/plain": [
       "[1] \"List-Archive: <https://listman.spamassassin.taint.org/mailman/private/exmh-workers/>\"\n",
       "[2] \"Date: Thu, 22 Aug 2002 18:26:25 +0700\"                                               \n",
       "[3] \"\"                                                                                    \n",
       "[4] \"    Date:        Wed, 21 Aug 2002 10:54:46 -0500\"                                    \n",
       "[5] \"    From:        Chris Garrigues <cwg-dated-1030377287.06fa6d@DeepEddy.Com>\"         \n",
       "[6] \"    Message-ID:  <1029945287.4797.TMDA@deepeddy.vircio.com>\"                         \n",
       "[7] \"\"                                                                                    \n",
       "[8] \"\"                                                                                    \n",
       "[9] \"  | I can't reproduce this error.\"                                                   "
      ]
     },
     "metadata": {},
     "output_type": "display_data"
    }
   ],
   "source": [
    "fileNames = list.files(fullDirNames[1], full.names = TRUE)\n",
    "fileNames[1]\n",
    "\n",
    "msg = readLines(fileNames[1])\n",
    "head(msg)\n",
    "\n",
    "indx = c(1:5, 15, 27, 68, 69, 329, 404, 427, 516, 852, 971)\n",
    "fn = list.files(fullDirNames[1], full.names = TRUE)[indx]\n",
    "sampleEmail = sapply(fn, readLines)        \n",
    "\n",
    "msg = sampleEmail[[1]]\n",
    "which(msg == \"\")[1]\n",
    "\n",
    "match(\"\", msg)\n",
    "\n",
    "splitPoint = match(\"\", msg)\n",
    "\n",
    "msg[ (splitPoint - 2):(splitPoint + 6) ]\n",
    "\n",
    "header = msg[1:(splitPoint-1)]\n",
    "body = msg[ -(1:splitPoint) ]\n",
    "\n",
    "splitMessage = function(msg) {\n",
    "  splitPoint = match(\"\", msg)\n",
    "  header = msg[1:(splitPoint-1)]\n",
    "  body = msg[ -(1:splitPoint) ]\n",
    "  return(list(header = header, body = body))\n",
    "}\n",
    "\n",
    "sampleSplit = lapply(sampleEmail, splitMessage)"
   ]
  },
  {
   "cell_type": "code",
   "execution_count": 9,
   "metadata": {},
   "outputs": [
    {
     "data": {
      "text/html": [
       "46"
      ],
      "text/latex": [
       "46"
      ],
      "text/markdown": [
       "46"
      ],
      "text/plain": [
       "[1] 46"
      ]
     },
     "metadata": {},
     "output_type": "display_data"
    },
    {
     "data": {
      "text/html": [],
      "text/latex": [],
      "text/markdown": [],
      "text/plain": [
       "integer(0)"
      ]
     },
     "metadata": {},
     "output_type": "display_data"
    },
    {
     "data": {
      "text/html": [
       "'Content-Type: text/plain; charset=us-ascii'"
      ],
      "text/latex": [
       "'Content-Type: text/plain; charset=us-ascii'"
      ],
      "text/markdown": [
       "'Content-Type: text/plain; charset=us-ascii'"
      ],
      "text/plain": [
       "[1] \"Content-Type: text/plain; charset=us-ascii\""
      ]
     },
     "metadata": {},
     "output_type": "display_data"
    },
    {
     "data": {
      "text/html": [
       "<dl>\n",
       "\t<dt>$`./From 2ds/messages/easy_ham/00001.7c53336b37003a9286aba55d2945844c`</dt>\n",
       "\t\t<dd>46</dd>\n",
       "\t<dt>$`./From 2ds/messages/easy_ham/00002.9c4069e25e1ef370c078db7ee85ff9ac`</dt>\n",
       "\t\t<dd>45</dd>\n",
       "\t<dt>$`./From 2ds/messages/easy_ham/00003.860e3c3cee1b42ead714c5c874fe25f7`</dt>\n",
       "\t\t<dd>42</dd>\n",
       "\t<dt>$`./From 2ds/messages/easy_ham/00004.864220c5b6930b209cc287c361c99af1`</dt>\n",
       "\t\t<dd>30</dd>\n",
       "\t<dt>$`./From 2ds/messages/easy_ham/00005.bf27cdeaf0b8c4647ecd61b1d09da613`</dt>\n",
       "\t\t<dd>44</dd>\n",
       "\t<dt>$`./From 2ds/messages/easy_ham/00014.cb20e10b2bfcb8210a1c310798532a57`</dt>\n",
       "\t\t<dd>54</dd>\n",
       "\t<dt>$`./From 2ds/messages/easy_ham/00025.d685245bdc4444f44fa091e6620b20b3`</dt>\n",
       "\t\t<dd></dd>\n",
       "\t<dt>$`./From 2ds/messages/easy_ham/00062.009f5a1a8fa88f0b38299ad01562bb37`</dt>\n",
       "\t\t<dd>21</dd>\n",
       "\t<dt>$`./From 2ds/messages/easy_ham/00063.0acbc484a73f0e0b727e06c100d8df7b`</dt>\n",
       "\t\t<dd>17</dd>\n",
       "\t<dt>$`./From 2ds/messages/easy_ham/0030.77828e31de08ebb58b583688b87524cc`</dt>\n",
       "\t\t<dd>52</dd>\n",
       "\t<dt>$`./From 2ds/messages/easy_ham/00368.f86324a03e7ae7070cc40f302385f5d3`</dt>\n",
       "\t\t<dd>31</dd>\n",
       "\t<dt>$`./From 2ds/messages/easy_ham/00389.8606961eaeef7b921ce1c53773248d69`</dt>\n",
       "\t\t<dd>52</dd>\n",
       "\t<dt>$`./From 2ds/messages/easy_ham/0047.5c3e049737a2813d4ac6f13f02362fb1`</dt>\n",
       "\t\t<dd>52</dd>\n",
       "\t<dt>$`./From 2ds/messages/easy_ham/00775.0e012f373467846510d9db297e99a008`</dt>\n",
       "\t\t<dd>27</dd>\n",
       "\t<dt>$`./From 2ds/messages/easy_ham/00883.c44a035e7589e83076b7f1fed8fa97d5`</dt>\n",
       "\t\t<dd>31</dd>\n",
       "</dl>\n"
      ],
      "text/latex": [
       "\\begin{description}\n",
       "\\item[\\$`./From 2ds/messages/easy\\_ham/00001.7c53336b37003a9286aba55d2945844c`] 46\n",
       "\\item[\\$`./From 2ds/messages/easy\\_ham/00002.9c4069e25e1ef370c078db7ee85ff9ac`] 45\n",
       "\\item[\\$`./From 2ds/messages/easy\\_ham/00003.860e3c3cee1b42ead714c5c874fe25f7`] 42\n",
       "\\item[\\$`./From 2ds/messages/easy\\_ham/00004.864220c5b6930b209cc287c361c99af1`] 30\n",
       "\\item[\\$`./From 2ds/messages/easy\\_ham/00005.bf27cdeaf0b8c4647ecd61b1d09da613`] 44\n",
       "\\item[\\$`./From 2ds/messages/easy\\_ham/00014.cb20e10b2bfcb8210a1c310798532a57`] 54\n",
       "\\item[\\$`./From 2ds/messages/easy\\_ham/00025.d685245bdc4444f44fa091e6620b20b3`] \n",
       "\\item[\\$`./From 2ds/messages/easy\\_ham/00062.009f5a1a8fa88f0b38299ad01562bb37`] 21\n",
       "\\item[\\$`./From 2ds/messages/easy\\_ham/00063.0acbc484a73f0e0b727e06c100d8df7b`] 17\n",
       "\\item[\\$`./From 2ds/messages/easy\\_ham/0030.77828e31de08ebb58b583688b87524cc`] 52\n",
       "\\item[\\$`./From 2ds/messages/easy\\_ham/00368.f86324a03e7ae7070cc40f302385f5d3`] 31\n",
       "\\item[\\$`./From 2ds/messages/easy\\_ham/00389.8606961eaeef7b921ce1c53773248d69`] 52\n",
       "\\item[\\$`./From 2ds/messages/easy\\_ham/0047.5c3e049737a2813d4ac6f13f02362fb1`] 52\n",
       "\\item[\\$`./From 2ds/messages/easy\\_ham/00775.0e012f373467846510d9db297e99a008`] 27\n",
       "\\item[\\$`./From 2ds/messages/easy\\_ham/00883.c44a035e7589e83076b7f1fed8fa97d5`] 31\n",
       "\\end{description}\n"
      ],
      "text/markdown": [
       "$`./From 2ds/messages/easy_ham/00001.7c53336b37003a9286aba55d2945844c`\n",
       ":   46\n",
       "$`./From 2ds/messages/easy_ham/00002.9c4069e25e1ef370c078db7ee85ff9ac`\n",
       ":   45\n",
       "$`./From 2ds/messages/easy_ham/00003.860e3c3cee1b42ead714c5c874fe25f7`\n",
       ":   42\n",
       "$`./From 2ds/messages/easy_ham/00004.864220c5b6930b209cc287c361c99af1`\n",
       ":   30\n",
       "$`./From 2ds/messages/easy_ham/00005.bf27cdeaf0b8c4647ecd61b1d09da613`\n",
       ":   44\n",
       "$`./From 2ds/messages/easy_ham/00014.cb20e10b2bfcb8210a1c310798532a57`\n",
       ":   54\n",
       "$`./From 2ds/messages/easy_ham/00025.d685245bdc4444f44fa091e6620b20b3`\n",
       ":   \n",
       "$`./From 2ds/messages/easy_ham/00062.009f5a1a8fa88f0b38299ad01562bb37`\n",
       ":   21\n",
       "$`./From 2ds/messages/easy_ham/00063.0acbc484a73f0e0b727e06c100d8df7b`\n",
       ":   17\n",
       "$`./From 2ds/messages/easy_ham/0030.77828e31de08ebb58b583688b87524cc`\n",
       ":   52\n",
       "$`./From 2ds/messages/easy_ham/00368.f86324a03e7ae7070cc40f302385f5d3`\n",
       ":   31\n",
       "$`./From 2ds/messages/easy_ham/00389.8606961eaeef7b921ce1c53773248d69`\n",
       ":   52\n",
       "$`./From 2ds/messages/easy_ham/0047.5c3e049737a2813d4ac6f13f02362fb1`\n",
       ":   52\n",
       "$`./From 2ds/messages/easy_ham/00775.0e012f373467846510d9db297e99a008`\n",
       ":   27\n",
       "$`./From 2ds/messages/easy_ham/00883.c44a035e7589e83076b7f1fed8fa97d5`\n",
       ":   31\n",
       "\n",
       "\n"
      ],
      "text/plain": [
       "$`./From 2ds/messages/easy_ham/00001.7c53336b37003a9286aba55d2945844c`\n",
       "[1] 46\n",
       "\n",
       "$`./From 2ds/messages/easy_ham/00002.9c4069e25e1ef370c078db7ee85ff9ac`\n",
       "[1] 45\n",
       "\n",
       "$`./From 2ds/messages/easy_ham/00003.860e3c3cee1b42ead714c5c874fe25f7`\n",
       "[1] 42\n",
       "\n",
       "$`./From 2ds/messages/easy_ham/00004.864220c5b6930b209cc287c361c99af1`\n",
       "[1] 30\n",
       "\n",
       "$`./From 2ds/messages/easy_ham/00005.bf27cdeaf0b8c4647ecd61b1d09da613`\n",
       "[1] 44\n",
       "\n",
       "$`./From 2ds/messages/easy_ham/00014.cb20e10b2bfcb8210a1c310798532a57`\n",
       "[1] 54\n",
       "\n",
       "$`./From 2ds/messages/easy_ham/00025.d685245bdc4444f44fa091e6620b20b3`\n",
       "integer(0)\n",
       "\n",
       "$`./From 2ds/messages/easy_ham/00062.009f5a1a8fa88f0b38299ad01562bb37`\n",
       "[1] 21\n",
       "\n",
       "$`./From 2ds/messages/easy_ham/00063.0acbc484a73f0e0b727e06c100d8df7b`\n",
       "[1] 17\n",
       "\n",
       "$`./From 2ds/messages/easy_ham/0030.77828e31de08ebb58b583688b87524cc`\n",
       "[1] 52\n",
       "\n",
       "$`./From 2ds/messages/easy_ham/00368.f86324a03e7ae7070cc40f302385f5d3`\n",
       "[1] 31\n",
       "\n",
       "$`./From 2ds/messages/easy_ham/00389.8606961eaeef7b921ce1c53773248d69`\n",
       "[1] 52\n",
       "\n",
       "$`./From 2ds/messages/easy_ham/0047.5c3e049737a2813d4ac6f13f02362fb1`\n",
       "[1] 52\n",
       "\n",
       "$`./From 2ds/messages/easy_ham/00775.0e012f373467846510d9db297e99a008`\n",
       "[1] 27\n",
       "\n",
       "$`./From 2ds/messages/easy_ham/00883.c44a035e7589e83076b7f1fed8fa97d5`\n",
       "[1] 31\n"
      ]
     },
     "metadata": {},
     "output_type": "display_data"
    },
    {
     "data": {
      "text/html": [
       "<dl class=dl-horizontal>\n",
       "\t<dt>./From 2ds/messages/easy_ham/00001.7c53336b37003a9286aba55d2945844c</dt>\n",
       "\t\t<dd>46</dd>\n",
       "\t<dt>./From 2ds/messages/easy_ham/00002.9c4069e25e1ef370c078db7ee85ff9ac</dt>\n",
       "\t\t<dd>45</dd>\n",
       "\t<dt>./From 2ds/messages/easy_ham/00003.860e3c3cee1b42ead714c5c874fe25f7</dt>\n",
       "\t\t<dd>42</dd>\n",
       "\t<dt>./From 2ds/messages/easy_ham/00004.864220c5b6930b209cc287c361c99af1</dt>\n",
       "\t\t<dd>30</dd>\n",
       "\t<dt>./From 2ds/messages/easy_ham/00005.bf27cdeaf0b8c4647ecd61b1d09da613</dt>\n",
       "\t\t<dd>44</dd>\n",
       "\t<dt>./From 2ds/messages/easy_ham/00014.cb20e10b2bfcb8210a1c310798532a57</dt>\n",
       "\t\t<dd>54</dd>\n",
       "\t<dt>./From 2ds/messages/easy_ham/00025.d685245bdc4444f44fa091e6620b20b3</dt>\n",
       "\t\t<dd>&lt;NA&gt;</dd>\n",
       "\t<dt>./From 2ds/messages/easy_ham/00062.009f5a1a8fa88f0b38299ad01562bb37</dt>\n",
       "\t\t<dd>21</dd>\n",
       "\t<dt>./From 2ds/messages/easy_ham/00063.0acbc484a73f0e0b727e06c100d8df7b</dt>\n",
       "\t\t<dd>17</dd>\n",
       "\t<dt>./From 2ds/messages/easy_ham/0030.77828e31de08ebb58b583688b87524cc</dt>\n",
       "\t\t<dd>52</dd>\n",
       "\t<dt>./From 2ds/messages/easy_ham/00368.f86324a03e7ae7070cc40f302385f5d3</dt>\n",
       "\t\t<dd>31</dd>\n",
       "\t<dt>./From 2ds/messages/easy_ham/00389.8606961eaeef7b921ce1c53773248d69</dt>\n",
       "\t\t<dd>52</dd>\n",
       "\t<dt>./From 2ds/messages/easy_ham/0047.5c3e049737a2813d4ac6f13f02362fb1</dt>\n",
       "\t\t<dd>52</dd>\n",
       "\t<dt>./From 2ds/messages/easy_ham/00775.0e012f373467846510d9db297e99a008</dt>\n",
       "\t\t<dd>27</dd>\n",
       "\t<dt>./From 2ds/messages/easy_ham/00883.c44a035e7589e83076b7f1fed8fa97d5</dt>\n",
       "\t\t<dd>31</dd>\n",
       "</dl>\n"
      ],
      "text/latex": [
       "\\begin{description*}\n",
       "\\item[./From 2ds/messages/easy\\textbackslash{}\\_ham/00001.7c53336b37003a9286aba55d2945844c] 46\n",
       "\\item[./From 2ds/messages/easy\\textbackslash{}\\_ham/00002.9c4069e25e1ef370c078db7ee85ff9ac] 45\n",
       "\\item[./From 2ds/messages/easy\\textbackslash{}\\_ham/00003.860e3c3cee1b42ead714c5c874fe25f7] 42\n",
       "\\item[./From 2ds/messages/easy\\textbackslash{}\\_ham/00004.864220c5b6930b209cc287c361c99af1] 30\n",
       "\\item[./From 2ds/messages/easy\\textbackslash{}\\_ham/00005.bf27cdeaf0b8c4647ecd61b1d09da613] 44\n",
       "\\item[./From 2ds/messages/easy\\textbackslash{}\\_ham/00014.cb20e10b2bfcb8210a1c310798532a57] 54\n",
       "\\item[./From 2ds/messages/easy\\textbackslash{}\\_ham/00025.d685245bdc4444f44fa091e6620b20b3] <NA>\n",
       "\\item[./From 2ds/messages/easy\\textbackslash{}\\_ham/00062.009f5a1a8fa88f0b38299ad01562bb37] 21\n",
       "\\item[./From 2ds/messages/easy\\textbackslash{}\\_ham/00063.0acbc484a73f0e0b727e06c100d8df7b] 17\n",
       "\\item[./From 2ds/messages/easy\\textbackslash{}\\_ham/0030.77828e31de08ebb58b583688b87524cc] 52\n",
       "\\item[./From 2ds/messages/easy\\textbackslash{}\\_ham/00368.f86324a03e7ae7070cc40f302385f5d3] 31\n",
       "\\item[./From 2ds/messages/easy\\textbackslash{}\\_ham/00389.8606961eaeef7b921ce1c53773248d69] 52\n",
       "\\item[./From 2ds/messages/easy\\textbackslash{}\\_ham/0047.5c3e049737a2813d4ac6f13f02362fb1] 52\n",
       "\\item[./From 2ds/messages/easy\\textbackslash{}\\_ham/00775.0e012f373467846510d9db297e99a008] 27\n",
       "\\item[./From 2ds/messages/easy\\textbackslash{}\\_ham/00883.c44a035e7589e83076b7f1fed8fa97d5] 31\n",
       "\\end{description*}\n"
      ],
      "text/markdown": [
       "./From 2ds/messages/easy_ham/00001.7c53336b37003a9286aba55d2945844c\n",
       ":   46./From 2ds/messages/easy_ham/00002.9c4069e25e1ef370c078db7ee85ff9ac\n",
       ":   45./From 2ds/messages/easy_ham/00003.860e3c3cee1b42ead714c5c874fe25f7\n",
       ":   42./From 2ds/messages/easy_ham/00004.864220c5b6930b209cc287c361c99af1\n",
       ":   30./From 2ds/messages/easy_ham/00005.bf27cdeaf0b8c4647ecd61b1d09da613\n",
       ":   44./From 2ds/messages/easy_ham/00014.cb20e10b2bfcb8210a1c310798532a57\n",
       ":   54./From 2ds/messages/easy_ham/00025.d685245bdc4444f44fa091e6620b20b3\n",
       ":   &lt;NA&gt;./From 2ds/messages/easy_ham/00062.009f5a1a8fa88f0b38299ad01562bb37\n",
       ":   21./From 2ds/messages/easy_ham/00063.0acbc484a73f0e0b727e06c100d8df7b\n",
       ":   17./From 2ds/messages/easy_ham/0030.77828e31de08ebb58b583688b87524cc\n",
       ":   52./From 2ds/messages/easy_ham/00368.f86324a03e7ae7070cc40f302385f5d3\n",
       ":   31./From 2ds/messages/easy_ham/00389.8606961eaeef7b921ce1c53773248d69\n",
       ":   52./From 2ds/messages/easy_ham/0047.5c3e049737a2813d4ac6f13f02362fb1\n",
       ":   52./From 2ds/messages/easy_ham/00775.0e012f373467846510d9db297e99a008\n",
       ":   27./From 2ds/messages/easy_ham/00883.c44a035e7589e83076b7f1fed8fa97d5\n",
       ":   31\n",
       "\n"
      ],
      "text/plain": [
       "./From 2ds/messages/easy_ham/00001.7c53336b37003a9286aba55d2945844c \n",
       "                                                                 46 \n",
       "./From 2ds/messages/easy_ham/00002.9c4069e25e1ef370c078db7ee85ff9ac \n",
       "                                                                 45 \n",
       "./From 2ds/messages/easy_ham/00003.860e3c3cee1b42ead714c5c874fe25f7 \n",
       "                                                                 42 \n",
       "./From 2ds/messages/easy_ham/00004.864220c5b6930b209cc287c361c99af1 \n",
       "                                                                 30 \n",
       "./From 2ds/messages/easy_ham/00005.bf27cdeaf0b8c4647ecd61b1d09da613 \n",
       "                                                                 44 \n",
       "./From 2ds/messages/easy_ham/00014.cb20e10b2bfcb8210a1c310798532a57 \n",
       "                                                                 54 \n",
       "./From 2ds/messages/easy_ham/00025.d685245bdc4444f44fa091e6620b20b3 \n",
       "                                                                 NA \n",
       "./From 2ds/messages/easy_ham/00062.009f5a1a8fa88f0b38299ad01562bb37 \n",
       "                                                                 21 \n",
       "./From 2ds/messages/easy_ham/00063.0acbc484a73f0e0b727e06c100d8df7b \n",
       "                                                                 17 \n",
       " ./From 2ds/messages/easy_ham/0030.77828e31de08ebb58b583688b87524cc \n",
       "                                                                 52 \n",
       "./From 2ds/messages/easy_ham/00368.f86324a03e7ae7070cc40f302385f5d3 \n",
       "                                                                 31 \n",
       "./From 2ds/messages/easy_ham/00389.8606961eaeef7b921ce1c53773248d69 \n",
       "                                                                 52 \n",
       " ./From 2ds/messages/easy_ham/0047.5c3e049737a2813d4ac6f13f02362fb1 \n",
       "                                                                 52 \n",
       "./From 2ds/messages/easy_ham/00775.0e012f373467846510d9db297e99a008 \n",
       "                                                                 27 \n",
       "./From 2ds/messages/easy_ham/00883.c44a035e7589e83076b7f1fed8fa97d5 \n",
       "                                                                 31 "
      ]
     },
     "metadata": {},
     "output_type": "display_data"
    },
    {
     "data": {
      "text/html": [
       "<dl class=dl-horizontal>\n",
       "\t<dt>./From 2ds/messages/easy_ham/00001.7c53336b37003a9286aba55d2945844c</dt>\n",
       "\t\t<dd>FALSE</dd>\n",
       "\t<dt>./From 2ds/messages/easy_ham/00002.9c4069e25e1ef370c078db7ee85ff9ac</dt>\n",
       "\t\t<dd>FALSE</dd>\n",
       "\t<dt>./From 2ds/messages/easy_ham/00003.860e3c3cee1b42ead714c5c874fe25f7</dt>\n",
       "\t\t<dd>FALSE</dd>\n",
       "\t<dt>./From 2ds/messages/easy_ham/00004.864220c5b6930b209cc287c361c99af1</dt>\n",
       "\t\t<dd>FALSE</dd>\n",
       "\t<dt>./From 2ds/messages/easy_ham/00005.bf27cdeaf0b8c4647ecd61b1d09da613</dt>\n",
       "\t\t<dd>FALSE</dd>\n",
       "\t<dt>./From 2ds/messages/easy_ham/00014.cb20e10b2bfcb8210a1c310798532a57</dt>\n",
       "\t\t<dd>TRUE</dd>\n",
       "\t<dt>./From 2ds/messages/easy_ham/00025.d685245bdc4444f44fa091e6620b20b3</dt>\n",
       "\t\t<dd>FALSE</dd>\n",
       "\t<dt>./From 2ds/messages/easy_ham/00062.009f5a1a8fa88f0b38299ad01562bb37</dt>\n",
       "\t\t<dd>TRUE</dd>\n",
       "\t<dt>./From 2ds/messages/easy_ham/00063.0acbc484a73f0e0b727e06c100d8df7b</dt>\n",
       "\t\t<dd>TRUE</dd>\n",
       "\t<dt>./From 2ds/messages/easy_ham/0030.77828e31de08ebb58b583688b87524cc</dt>\n",
       "\t\t<dd>TRUE</dd>\n",
       "\t<dt>./From 2ds/messages/easy_ham/00368.f86324a03e7ae7070cc40f302385f5d3</dt>\n",
       "\t\t<dd>TRUE</dd>\n",
       "\t<dt>./From 2ds/messages/easy_ham/00389.8606961eaeef7b921ce1c53773248d69</dt>\n",
       "\t\t<dd>TRUE</dd>\n",
       "\t<dt>./From 2ds/messages/easy_ham/0047.5c3e049737a2813d4ac6f13f02362fb1</dt>\n",
       "\t\t<dd>TRUE</dd>\n",
       "\t<dt>./From 2ds/messages/easy_ham/00775.0e012f373467846510d9db297e99a008</dt>\n",
       "\t\t<dd>TRUE</dd>\n",
       "\t<dt>./From 2ds/messages/easy_ham/00883.c44a035e7589e83076b7f1fed8fa97d5</dt>\n",
       "\t\t<dd>TRUE</dd>\n",
       "</dl>\n"
      ],
      "text/latex": [
       "\\begin{description*}\n",
       "\\item[./From 2ds/messages/easy\\textbackslash{}\\_ham/00001.7c53336b37003a9286aba55d2945844c] FALSE\n",
       "\\item[./From 2ds/messages/easy\\textbackslash{}\\_ham/00002.9c4069e25e1ef370c078db7ee85ff9ac] FALSE\n",
       "\\item[./From 2ds/messages/easy\\textbackslash{}\\_ham/00003.860e3c3cee1b42ead714c5c874fe25f7] FALSE\n",
       "\\item[./From 2ds/messages/easy\\textbackslash{}\\_ham/00004.864220c5b6930b209cc287c361c99af1] FALSE\n",
       "\\item[./From 2ds/messages/easy\\textbackslash{}\\_ham/00005.bf27cdeaf0b8c4647ecd61b1d09da613] FALSE\n",
       "\\item[./From 2ds/messages/easy\\textbackslash{}\\_ham/00014.cb20e10b2bfcb8210a1c310798532a57] TRUE\n",
       "\\item[./From 2ds/messages/easy\\textbackslash{}\\_ham/00025.d685245bdc4444f44fa091e6620b20b3] FALSE\n",
       "\\item[./From 2ds/messages/easy\\textbackslash{}\\_ham/00062.009f5a1a8fa88f0b38299ad01562bb37] TRUE\n",
       "\\item[./From 2ds/messages/easy\\textbackslash{}\\_ham/00063.0acbc484a73f0e0b727e06c100d8df7b] TRUE\n",
       "\\item[./From 2ds/messages/easy\\textbackslash{}\\_ham/0030.77828e31de08ebb58b583688b87524cc] TRUE\n",
       "\\item[./From 2ds/messages/easy\\textbackslash{}\\_ham/00368.f86324a03e7ae7070cc40f302385f5d3] TRUE\n",
       "\\item[./From 2ds/messages/easy\\textbackslash{}\\_ham/00389.8606961eaeef7b921ce1c53773248d69] TRUE\n",
       "\\item[./From 2ds/messages/easy\\textbackslash{}\\_ham/0047.5c3e049737a2813d4ac6f13f02362fb1] TRUE\n",
       "\\item[./From 2ds/messages/easy\\textbackslash{}\\_ham/00775.0e012f373467846510d9db297e99a008] TRUE\n",
       "\\item[./From 2ds/messages/easy\\textbackslash{}\\_ham/00883.c44a035e7589e83076b7f1fed8fa97d5] TRUE\n",
       "\\end{description*}\n"
      ],
      "text/markdown": [
       "./From 2ds/messages/easy_ham/00001.7c53336b37003a9286aba55d2945844c\n",
       ":   FALSE./From 2ds/messages/easy_ham/00002.9c4069e25e1ef370c078db7ee85ff9ac\n",
       ":   FALSE./From 2ds/messages/easy_ham/00003.860e3c3cee1b42ead714c5c874fe25f7\n",
       ":   FALSE./From 2ds/messages/easy_ham/00004.864220c5b6930b209cc287c361c99af1\n",
       ":   FALSE./From 2ds/messages/easy_ham/00005.bf27cdeaf0b8c4647ecd61b1d09da613\n",
       ":   FALSE./From 2ds/messages/easy_ham/00014.cb20e10b2bfcb8210a1c310798532a57\n",
       ":   TRUE./From 2ds/messages/easy_ham/00025.d685245bdc4444f44fa091e6620b20b3\n",
       ":   FALSE./From 2ds/messages/easy_ham/00062.009f5a1a8fa88f0b38299ad01562bb37\n",
       ":   TRUE./From 2ds/messages/easy_ham/00063.0acbc484a73f0e0b727e06c100d8df7b\n",
       ":   TRUE./From 2ds/messages/easy_ham/0030.77828e31de08ebb58b583688b87524cc\n",
       ":   TRUE./From 2ds/messages/easy_ham/00368.f86324a03e7ae7070cc40f302385f5d3\n",
       ":   TRUE./From 2ds/messages/easy_ham/00389.8606961eaeef7b921ce1c53773248d69\n",
       ":   TRUE./From 2ds/messages/easy_ham/0047.5c3e049737a2813d4ac6f13f02362fb1\n",
       ":   TRUE./From 2ds/messages/easy_ham/00775.0e012f373467846510d9db297e99a008\n",
       ":   TRUE./From 2ds/messages/easy_ham/00883.c44a035e7589e83076b7f1fed8fa97d5\n",
       ":   TRUE\n",
       "\n"
      ],
      "text/plain": [
       "./From 2ds/messages/easy_ham/00001.7c53336b37003a9286aba55d2945844c \n",
       "                                                              FALSE \n",
       "./From 2ds/messages/easy_ham/00002.9c4069e25e1ef370c078db7ee85ff9ac \n",
       "                                                              FALSE \n",
       "./From 2ds/messages/easy_ham/00003.860e3c3cee1b42ead714c5c874fe25f7 \n",
       "                                                              FALSE \n",
       "./From 2ds/messages/easy_ham/00004.864220c5b6930b209cc287c361c99af1 \n",
       "                                                              FALSE \n",
       "./From 2ds/messages/easy_ham/00005.bf27cdeaf0b8c4647ecd61b1d09da613 \n",
       "                                                              FALSE \n",
       "./From 2ds/messages/easy_ham/00014.cb20e10b2bfcb8210a1c310798532a57 \n",
       "                                                               TRUE \n",
       "./From 2ds/messages/easy_ham/00025.d685245bdc4444f44fa091e6620b20b3 \n",
       "                                                              FALSE \n",
       "./From 2ds/messages/easy_ham/00062.009f5a1a8fa88f0b38299ad01562bb37 \n",
       "                                                               TRUE \n",
       "./From 2ds/messages/easy_ham/00063.0acbc484a73f0e0b727e06c100d8df7b \n",
       "                                                               TRUE \n",
       " ./From 2ds/messages/easy_ham/0030.77828e31de08ebb58b583688b87524cc \n",
       "                                                               TRUE \n",
       "./From 2ds/messages/easy_ham/00368.f86324a03e7ae7070cc40f302385f5d3 \n",
       "                                                               TRUE \n",
       "./From 2ds/messages/easy_ham/00389.8606961eaeef7b921ce1c53773248d69 \n",
       "                                                               TRUE \n",
       " ./From 2ds/messages/easy_ham/0047.5c3e049737a2813d4ac6f13f02362fb1 \n",
       "                                                               TRUE \n",
       "./From 2ds/messages/easy_ham/00775.0e012f373467846510d9db297e99a008 \n",
       "                                                               TRUE \n",
       "./From 2ds/messages/easy_ham/00883.c44a035e7589e83076b7f1fed8fa97d5 \n",
       "                                                               TRUE "
      ]
     },
     "metadata": {},
     "output_type": "display_data"
    },
    {
     "data": {
      "text/html": [
       "<span style=white-space:pre-wrap>'    boundary=\"==_Exmh_-1317289252P\";'</span>"
      ],
      "text/latex": [
       "'    boundary=\"==\\_Exmh\\_-1317289252P\";'"
      ],
      "text/markdown": [
       "<span style=white-space:pre-wrap>'    boundary=\"==_Exmh_-1317289252P\";'</span>"
      ],
      "text/plain": [
       "[1] \"    boundary=\\\"==_Exmh_-1317289252P\\\";\""
      ]
     },
     "metadata": {},
     "output_type": "display_data"
    },
    {
     "data": {
      "text/html": [
       "'==_Exmh_-1317289252P'"
      ],
      "text/latex": [
       "'==\\_Exmh\\_-1317289252P'"
      ],
      "text/markdown": [
       "'==_Exmh_-1317289252P'"
      ],
      "text/plain": [
       "[1] \"==_Exmh_-1317289252P\""
      ]
     },
     "metadata": {},
     "output_type": "display_data"
    },
    {
     "data": {
      "text/html": [
       "'Content-Type: multipart/alternative; boundary=Apple-Mail-2-874629474'"
      ],
      "text/latex": [
       "'Content-Type: multipart/alternative; boundary=Apple-Mail-2-874629474'"
      ],
      "text/markdown": [
       "'Content-Type: multipart/alternative; boundary=Apple-Mail-2-874629474'"
      ],
      "text/plain": [
       "[1] \"Content-Type: multipart/alternative; boundary=Apple-Mail-2-874629474\""
      ]
     },
     "metadata": {},
     "output_type": "display_data"
    }
   ],
   "source": [
    "header = sampleSplit[[1]]$header\n",
    "grep(\"Content-Type\", header)\n",
    "\n",
    "grep(\"multi\", tolower(header[46]))\n",
    "\n",
    "header[46]\n",
    "\n",
    "headerList = lapply(sampleSplit, function(msg) msg$header)\n",
    "CTloc = sapply(headerList, grep, pattern = \"Content-Type\")\n",
    "CTloc\n",
    "\n",
    "sapply(headerList, function(header) {\n",
    "                       CTloc = grep(\"Content-Type\", header)\n",
    "                       if (length(CTloc) == 0) return(NA)\n",
    "                       CTloc\n",
    "                   })\n",
    "\n",
    "hasAttach = sapply(headerList, function(header) {\n",
    "  CTloc = grep(\"Content-Type\", header)\n",
    "  if (length(CTloc) == 0) return(FALSE)\n",
    "  grepl(\"multi\", tolower(header[CTloc])) \n",
    "})\n",
    "\n",
    "hasAttach\n",
    "\n",
    "header = sampleSplit[[6]]$header\n",
    "boundaryIdx = grep(\"boundary=\", header)\n",
    "header[boundaryIdx]\n",
    "\n",
    "sub(\".*boundary=\\\"(.*)\\\";.*\", \"\\\\1\", header[boundaryIdx])\n",
    "\n",
    "header2 = headerList[[9]]\n",
    "boundaryIdx2 = grep(\"boundary=\", header2)\n",
    "header2[boundaryIdx2]"
   ]
  },
  {
   "cell_type": "code",
   "execution_count": 10,
   "metadata": {},
   "outputs": [
    {
     "data": {
      "text/html": [
       "'Content-Type: multipart/alternative; boundary=Apple-Mail-2-874629474'"
      ],
      "text/latex": [
       "'Content-Type: multipart/alternative; boundary=Apple-Mail-2-874629474'"
      ],
      "text/markdown": [
       "'Content-Type: multipart/alternative; boundary=Apple-Mail-2-874629474'"
      ],
      "text/plain": [
       "[1] \"Content-Type: multipart/alternative; boundary=Apple-Mail-2-874629474\""
      ]
     },
     "metadata": {},
     "output_type": "display_data"
    },
    {
     "data": {
      "text/html": [
       "'Apple-Mail-2-874629474'"
      ],
      "text/latex": [
       "'Apple-Mail-2-874629474'"
      ],
      "text/markdown": [
       "'Apple-Mail-2-874629474'"
      ],
      "text/plain": [
       "[1] \"Apple-Mail-2-874629474\""
      ]
     },
     "metadata": {},
     "output_type": "display_data"
    },
    {
     "data": {
      "text/html": [
       "'==_Exmh_-1317289252P;'"
      ],
      "text/latex": [
       "'==\\_Exmh\\_-1317289252P;'"
      ],
      "text/markdown": [
       "'==_Exmh_-1317289252P;'"
      ],
      "text/plain": [
       "[1] \"==_Exmh_-1317289252P;\""
      ]
     },
     "metadata": {},
     "output_type": "display_data"
    },
    {
     "data": {
      "text/html": [
       "'==_Exmh_-1317289252P'"
      ],
      "text/latex": [
       "'==\\_Exmh\\_-1317289252P'"
      ],
      "text/markdown": [
       "'==_Exmh_-1317289252P'"
      ],
      "text/plain": [
       "[1] \"==_Exmh_-1317289252P\""
      ]
     },
     "metadata": {},
     "output_type": "display_data"
    },
    {
     "data": {
      "text/html": [
       "<ol class=list-inline>\n",
       "\t<li>'--==_Exmh_-1317289252P'</li>\n",
       "\t<li>'Content-Type: text/plain; charset=us-ascii'</li>\n",
       "\t<li>''</li>\n",
       "\t<li><span style=white-space:pre-wrap>'&gt; From:  Chris Garrigues &lt;cwg-exmh@DeepEddy.Com&gt;'</span></li>\n",
       "\t<li><span style=white-space:pre-wrap>'&gt; Date:  Wed, 21 Aug 2002 10:40:39 -0500'</span></li>\n",
       "\t<li>'&gt;'</li>\n",
       "\t<li><span style=white-space:pre-wrap>'&gt; &gt; From:  Chris Garrigues &lt;cwg-exmh@DeepEddy.Com&gt;'</span></li>\n",
       "\t<li><span style=white-space:pre-wrap>'&gt; &gt; Date:  Wed, 21 Aug 2002 10:17:45 -0500'</span></li>\n",
       "\t<li>'&gt; &gt;'</li>\n",
       "\t<li>'&gt; &gt; Ouch...I\\'ll get right on it.'</li>\n",
       "\t<li>'&gt; &gt; '</li>\n",
       "\t<li><span style=white-space:pre-wrap>'&gt; &gt; &gt; From:  Robert Elz &lt;kre@munnari.OZ.AU&gt;'</span></li>\n",
       "\t<li><span style=white-space:pre-wrap>'&gt; &gt; &gt; Date:  Wed, 21 Aug 2002 19:30:01 +0700'</span></li>\n",
       "\t<li>'&gt; &gt; &gt;'</li>\n",
       "\t<li><span style=white-space:pre-wrap>'&gt; &gt; &gt; Any chance of having that lengthen instead?   I like all my exmh stuff'</span></li>\n",
       "\t<li><span style=white-space:pre-wrap>'&gt; &gt; &gt; in nice columns (fits the display better).   That is, I use the detache'</span></li>\n",
       "\t<li>'&gt; d'</li>\n",
       "\t<li><span style=white-space:pre-wrap>'&gt; &gt; &gt; folder list, one column.   The main exmh window takes up full screen,'</span></li>\n",
       "\t<li>'&gt; &gt; &gt; top to bottom, but less than half the width, etc...'</li>\n",
       "\t<li>'&gt; '</li>\n",
       "\t<li><span style=white-space:pre-wrap>'&gt; I thought about that.  The first order approximation would be to just add '</span></li>\n",
       "\t<li>'&gt; using pack .... -side top instead of pack ... -side left, however, since their '</li>\n",
       "\t<li>'&gt; each a different width, it would look funny.'</li>\n",
       "\t<li>''</li>\n",
       "\t<li><span style=white-space:pre-wrap>'I\\'ve done this.  It\\'s not as pretty as I think it should be, but it works.  '</span></li>\n",
       "\t<li><span style=white-space:pre-wrap>'I\\'m going to leave the cosmetic issues to others.  When I update the '</span></li>\n",
       "\t<li>'documentation, I\\'ll add this to the exmh.TODO file.'</li>\n",
       "\t<li>''</li>\n",
       "\t<li>'I\\'m leaving for a 2 1/2 week vacation in a week, so this is the last new '</li>\n",
       "\t<li><span style=white-space:pre-wrap>'functionality I\\'m going to add for a while.  Also, I now have pretty much '</span></li>\n",
       "\t<li>'everything in there that I want for my own use, so I\\'m probably pretty much '</li>\n",
       "\t<li><span style=white-space:pre-wrap>'done.  I\\'ll work on bug fixes and documentation before my vacation, and '</span></li>\n",
       "\t<li>'hopefully do nothing more afterwards.'</li>\n",
       "\t<li>''</li>\n",
       "\t<li>'Chris'</li>\n",
       "\t<li>''</li>\n",
       "\t<li>'-- '</li>\n",
       "\t<li><span style=white-space:pre-wrap>'Chris Garrigues                 http://www.DeepEddy.Com/~cwg/'</span></li>\n",
       "\t<li><span style=white-space:pre-wrap>'virCIO                          http://www.virCIO.Com'</span></li>\n",
       "\t<li>'716 Congress, Suite 200'</li>\n",
       "\t<li><span style=white-space:pre-wrap>'Austin, TX  78701\\t\\t+1 512 374 0500'</span></li>\n",
       "\t<li>''</li>\n",
       "\t<li><span style=white-space:pre-wrap>'  World War III:  The Wrong-Doers Vs. the Evil-Doers.'</span></li>\n",
       "\t<li>''</li>\n",
       "\t<li>''</li>\n",
       "\t<li>''</li>\n",
       "\t<li>''</li>\n",
       "\t<li>'--==_Exmh_-1317289252P'</li>\n",
       "\t<li>'Content-Type: application/pgp-signature'</li>\n",
       "\t<li>''</li>\n",
       "\t<li>'-----BEGIN PGP SIGNATURE-----'</li>\n",
       "\t<li>'Version: GnuPG v1.0.6 (GNU/Linux)'</li>\n",
       "\t<li>'Comment: Exmh version 2.2_20000822 06/23/2000'</li>\n",
       "\t<li>''</li>\n",
       "\t<li>'iD8DBQE9ZQJ/K9b4h5R0IUIRAiPuAJwL4mUus5whLNQZC8MsDlGpEdKNrACcDfZH'</li>\n",
       "\t<li>'PcGgN9frLIM+C5Z3vagi2wE='</li>\n",
       "\t<li>'=qJoJ'</li>\n",
       "\t<li>'-----END PGP SIGNATURE-----'</li>\n",
       "\t<li>''</li>\n",
       "\t<li>'--==_Exmh_-1317289252P--'</li>\n",
       "\t<li>''</li>\n",
       "\t<li>''</li>\n",
       "\t<li>''</li>\n",
       "\t<li>'_______________________________________________'</li>\n",
       "\t<li>'Exmh-workers mailing list'</li>\n",
       "\t<li>'Exmh-workers@redhat.com'</li>\n",
       "\t<li>'https://listman.redhat.com/mailman/listinfo/exmh-workers'</li>\n",
       "\t<li>''</li>\n",
       "</ol>\n"
      ],
      "text/latex": [
       "\\begin{enumerate*}\n",
       "\\item '--==\\_Exmh\\_-1317289252P'\n",
       "\\item 'Content-Type: text/plain; charset=us-ascii'\n",
       "\\item ''\n",
       "\\item '> From:  Chris Garrigues <cwg-exmh@DeepEddy.Com>'\n",
       "\\item '> Date:  Wed, 21 Aug 2002 10:40:39 -0500'\n",
       "\\item '>'\n",
       "\\item '> > From:  Chris Garrigues <cwg-exmh@DeepEddy.Com>'\n",
       "\\item '> > Date:  Wed, 21 Aug 2002 10:17:45 -0500'\n",
       "\\item '> >'\n",
       "\\item '> > Ouch...I\\textbackslash{}'ll get right on it.'\n",
       "\\item '> > '\n",
       "\\item '> > > From:  Robert Elz <kre@munnari.OZ.AU>'\n",
       "\\item '> > > Date:  Wed, 21 Aug 2002 19:30:01 +0700'\n",
       "\\item '> > >'\n",
       "\\item '> > > Any chance of having that lengthen instead?   I like all my exmh stuff'\n",
       "\\item '> > > in nice columns (fits the display better).   That is, I use the detache'\n",
       "\\item '> d'\n",
       "\\item '> > > folder list, one column.   The main exmh window takes up full screen,'\n",
       "\\item '> > > top to bottom, but less than half the width, etc...'\n",
       "\\item '> '\n",
       "\\item '> I thought about that.  The first order approximation would be to just add '\n",
       "\\item '> using pack .... -side top instead of pack ... -side left, however, since their '\n",
       "\\item '> each a different width, it would look funny.'\n",
       "\\item ''\n",
       "\\item 'I\\textbackslash{}'ve done this.  It\\textbackslash{}'s not as pretty as I think it should be, but it works.  '\n",
       "\\item 'I\\textbackslash{}'m going to leave the cosmetic issues to others.  When I update the '\n",
       "\\item 'documentation, I\\textbackslash{}'ll add this to the exmh.TODO file.'\n",
       "\\item ''\n",
       "\\item 'I\\textbackslash{}'m leaving for a 2 1/2 week vacation in a week, so this is the last new '\n",
       "\\item 'functionality I\\textbackslash{}'m going to add for a while.  Also, I now have pretty much '\n",
       "\\item 'everything in there that I want for my own use, so I\\textbackslash{}'m probably pretty much '\n",
       "\\item 'done.  I\\textbackslash{}'ll work on bug fixes and documentation before my vacation, and '\n",
       "\\item 'hopefully do nothing more afterwards.'\n",
       "\\item ''\n",
       "\\item 'Chris'\n",
       "\\item ''\n",
       "\\item '-- '\n",
       "\\item 'Chris Garrigues                 http://www.DeepEddy.Com/\\textasciitilde{}cwg/'\n",
       "\\item 'virCIO                          http://www.virCIO.Com'\n",
       "\\item '716 Congress, Suite 200'\n",
       "\\item 'Austin, TX  78701\\textbackslash{}t\\textbackslash{}t+1 512 374 0500'\n",
       "\\item ''\n",
       "\\item '  World War III:  The Wrong-Doers Vs. the Evil-Doers.'\n",
       "\\item ''\n",
       "\\item ''\n",
       "\\item ''\n",
       "\\item ''\n",
       "\\item '--==\\_Exmh\\_-1317289252P'\n",
       "\\item 'Content-Type: application/pgp-signature'\n",
       "\\item ''\n",
       "\\item '-----BEGIN PGP SIGNATURE-----'\n",
       "\\item 'Version: GnuPG v1.0.6 (GNU/Linux)'\n",
       "\\item 'Comment: Exmh version 2.2\\_20000822 06/23/2000'\n",
       "\\item ''\n",
       "\\item 'iD8DBQE9ZQJ/K9b4h5R0IUIRAiPuAJwL4mUus5whLNQZC8MsDlGpEdKNrACcDfZH'\n",
       "\\item 'PcGgN9frLIM+C5Z3vagi2wE='\n",
       "\\item '=qJoJ'\n",
       "\\item '-----END PGP SIGNATURE-----'\n",
       "\\item ''\n",
       "\\item '--==\\_Exmh\\_-1317289252P--'\n",
       "\\item ''\n",
       "\\item ''\n",
       "\\item ''\n",
       "\\item '\\_\\_\\_\\_\\_\\_\\_\\_\\_\\_\\_\\_\\_\\_\\_\\_\\_\\_\\_\\_\\_\\_\\_\\_\\_\\_\\_\\_\\_\\_\\_\\_\\_\\_\\_\\_\\_\\_\\_\\_\\_\\_\\_\\_\\_\\_\\_'\n",
       "\\item 'Exmh-workers mailing list'\n",
       "\\item 'Exmh-workers@redhat.com'\n",
       "\\item 'https://listman.redhat.com/mailman/listinfo/exmh-workers'\n",
       "\\item ''\n",
       "\\end{enumerate*}\n"
      ],
      "text/markdown": [
       "1. '--==_Exmh_-1317289252P'\n",
       "2. 'Content-Type: text/plain; charset=us-ascii'\n",
       "3. ''\n",
       "4. <span style=white-space:pre-wrap>'&gt; From:  Chris Garrigues &lt;cwg-exmh@DeepEddy.Com&gt;'</span>\n",
       "5. <span style=white-space:pre-wrap>'&gt; Date:  Wed, 21 Aug 2002 10:40:39 -0500'</span>\n",
       "6. '&gt;'\n",
       "7. <span style=white-space:pre-wrap>'&gt; &gt; From:  Chris Garrigues &lt;cwg-exmh@DeepEddy.Com&gt;'</span>\n",
       "8. <span style=white-space:pre-wrap>'&gt; &gt; Date:  Wed, 21 Aug 2002 10:17:45 -0500'</span>\n",
       "9. '&gt; &gt;'\n",
       "10. '&gt; &gt; Ouch...I\\'ll get right on it.'\n",
       "11. '&gt; &gt; '\n",
       "12. <span style=white-space:pre-wrap>'&gt; &gt; &gt; From:  Robert Elz &lt;kre@munnari.OZ.AU&gt;'</span>\n",
       "13. <span style=white-space:pre-wrap>'&gt; &gt; &gt; Date:  Wed, 21 Aug 2002 19:30:01 +0700'</span>\n",
       "14. '&gt; &gt; &gt;'\n",
       "15. <span style=white-space:pre-wrap>'&gt; &gt; &gt; Any chance of having that lengthen instead?   I like all my exmh stuff'</span>\n",
       "16. <span style=white-space:pre-wrap>'&gt; &gt; &gt; in nice columns (fits the display better).   That is, I use the detache'</span>\n",
       "17. '&gt; d'\n",
       "18. <span style=white-space:pre-wrap>'&gt; &gt; &gt; folder list, one column.   The main exmh window takes up full screen,'</span>\n",
       "19. '&gt; &gt; &gt; top to bottom, but less than half the width, etc...'\n",
       "20. '&gt; '\n",
       "21. <span style=white-space:pre-wrap>'&gt; I thought about that.  The first order approximation would be to just add '</span>\n",
       "22. '&gt; using pack .... -side top instead of pack ... -side left, however, since their '\n",
       "23. '&gt; each a different width, it would look funny.'\n",
       "24. ''\n",
       "25. <span style=white-space:pre-wrap>'I\\'ve done this.  It\\'s not as pretty as I think it should be, but it works.  '</span>\n",
       "26. <span style=white-space:pre-wrap>'I\\'m going to leave the cosmetic issues to others.  When I update the '</span>\n",
       "27. 'documentation, I\\'ll add this to the exmh.TODO file.'\n",
       "28. ''\n",
       "29. 'I\\'m leaving for a 2 1/2 week vacation in a week, so this is the last new '\n",
       "30. <span style=white-space:pre-wrap>'functionality I\\'m going to add for a while.  Also, I now have pretty much '</span>\n",
       "31. 'everything in there that I want for my own use, so I\\'m probably pretty much '\n",
       "32. <span style=white-space:pre-wrap>'done.  I\\'ll work on bug fixes and documentation before my vacation, and '</span>\n",
       "33. 'hopefully do nothing more afterwards.'\n",
       "34. ''\n",
       "35. 'Chris'\n",
       "36. ''\n",
       "37. '-- '\n",
       "38. <span style=white-space:pre-wrap>'Chris Garrigues                 http://www.DeepEddy.Com/~cwg/'</span>\n",
       "39. <span style=white-space:pre-wrap>'virCIO                          http://www.virCIO.Com'</span>\n",
       "40. '716 Congress, Suite 200'\n",
       "41. <span style=white-space:pre-wrap>'Austin, TX  78701\\t\\t+1 512 374 0500'</span>\n",
       "42. ''\n",
       "43. <span style=white-space:pre-wrap>'  World War III:  The Wrong-Doers Vs. the Evil-Doers.'</span>\n",
       "44. ''\n",
       "45. ''\n",
       "46. ''\n",
       "47. ''\n",
       "48. '--==_Exmh_-1317289252P'\n",
       "49. 'Content-Type: application/pgp-signature'\n",
       "50. ''\n",
       "51. '-----BEGIN PGP SIGNATURE-----'\n",
       "52. 'Version: GnuPG v1.0.6 (GNU/Linux)'\n",
       "53. 'Comment: Exmh version 2.2_20000822 06/23/2000'\n",
       "54. ''\n",
       "55. 'iD8DBQE9ZQJ/K9b4h5R0IUIRAiPuAJwL4mUus5whLNQZC8MsDlGpEdKNrACcDfZH'\n",
       "56. 'PcGgN9frLIM+C5Z3vagi2wE='\n",
       "57. '=qJoJ'\n",
       "58. '-----END PGP SIGNATURE-----'\n",
       "59. ''\n",
       "60. '--==_Exmh_-1317289252P--'\n",
       "61. ''\n",
       "62. ''\n",
       "63. ''\n",
       "64. '_______________________________________________'\n",
       "65. 'Exmh-workers mailing list'\n",
       "66. 'Exmh-workers@redhat.com'\n",
       "67. 'https://listman.redhat.com/mailman/listinfo/exmh-workers'\n",
       "68. ''\n",
       "\n",
       "\n"
      ],
      "text/plain": [
       " [1] \"--==_Exmh_-1317289252P\"                                                           \n",
       " [2] \"Content-Type: text/plain; charset=us-ascii\"                                       \n",
       " [3] \"\"                                                                                 \n",
       " [4] \"> From:  Chris Garrigues <cwg-exmh@DeepEddy.Com>\"                                 \n",
       " [5] \"> Date:  Wed, 21 Aug 2002 10:40:39 -0500\"                                         \n",
       " [6] \">\"                                                                                \n",
       " [7] \"> > From:  Chris Garrigues <cwg-exmh@DeepEddy.Com>\"                               \n",
       " [8] \"> > Date:  Wed, 21 Aug 2002 10:17:45 -0500\"                                       \n",
       " [9] \"> >\"                                                                              \n",
       "[10] \"> > Ouch...I'll get right on it.\"                                                 \n",
       "[11] \"> > \"                                                                             \n",
       "[12] \"> > > From:  Robert Elz <kre@munnari.OZ.AU>\"                                      \n",
       "[13] \"> > > Date:  Wed, 21 Aug 2002 19:30:01 +0700\"                                     \n",
       "[14] \"> > >\"                                                                            \n",
       "[15] \"> > > Any chance of having that lengthen instead?   I like all my exmh stuff\"     \n",
       "[16] \"> > > in nice columns (fits the display better).   That is, I use the detache\"    \n",
       "[17] \"> d\"                                                                              \n",
       "[18] \"> > > folder list, one column.   The main exmh window takes up full screen,\"      \n",
       "[19] \"> > > top to bottom, but less than half the width, etc...\"                        \n",
       "[20] \"> \"                                                                               \n",
       "[21] \"> I thought about that.  The first order approximation would be to just add \"     \n",
       "[22] \"> using pack .... -side top instead of pack ... -side left, however, since their \"\n",
       "[23] \"> each a different width, it would look funny.\"                                   \n",
       "[24] \"\"                                                                                 \n",
       "[25] \"I've done this.  It's not as pretty as I think it should be, but it works.  \"     \n",
       "[26] \"I'm going to leave the cosmetic issues to others.  When I update the \"            \n",
       "[27] \"documentation, I'll add this to the exmh.TODO file.\"                              \n",
       "[28] \"\"                                                                                 \n",
       "[29] \"I'm leaving for a 2 1/2 week vacation in a week, so this is the last new \"        \n",
       "[30] \"functionality I'm going to add for a while.  Also, I now have pretty much \"       \n",
       "[31] \"everything in there that I want for my own use, so I'm probably pretty much \"     \n",
       "[32] \"done.  I'll work on bug fixes and documentation before my vacation, and \"         \n",
       "[33] \"hopefully do nothing more afterwards.\"                                            \n",
       "[34] \"\"                                                                                 \n",
       "[35] \"Chris\"                                                                            \n",
       "[36] \"\"                                                                                 \n",
       "[37] \"-- \"                                                                              \n",
       "[38] \"Chris Garrigues                 http://www.DeepEddy.Com/~cwg/\"                    \n",
       "[39] \"virCIO                          http://www.virCIO.Com\"                            \n",
       "[40] \"716 Congress, Suite 200\"                                                          \n",
       "[41] \"Austin, TX  78701\\t\\t+1 512 374 0500\"                                               \n",
       "[42] \"\"                                                                                 \n",
       "[43] \"  World War III:  The Wrong-Doers Vs. the Evil-Doers.\"                            \n",
       "[44] \"\"                                                                                 \n",
       "[45] \"\"                                                                                 \n",
       "[46] \"\"                                                                                 \n",
       "[47] \"\"                                                                                 \n",
       "[48] \"--==_Exmh_-1317289252P\"                                                           \n",
       "[49] \"Content-Type: application/pgp-signature\"                                          \n",
       "[50] \"\"                                                                                 \n",
       "[51] \"-----BEGIN PGP SIGNATURE-----\"                                                    \n",
       "[52] \"Version: GnuPG v1.0.6 (GNU/Linux)\"                                                \n",
       "[53] \"Comment: Exmh version 2.2_20000822 06/23/2000\"                                    \n",
       "[54] \"\"                                                                                 \n",
       "[55] \"iD8DBQE9ZQJ/K9b4h5R0IUIRAiPuAJwL4mUus5whLNQZC8MsDlGpEdKNrACcDfZH\"                 \n",
       "[56] \"PcGgN9frLIM+C5Z3vagi2wE=\"                                                         \n",
       "[57] \"=qJoJ\"                                                                            \n",
       "[58] \"-----END PGP SIGNATURE-----\"                                                      \n",
       "[59] \"\"                                                                                 \n",
       "[60] \"--==_Exmh_-1317289252P--\"                                                         \n",
       "[61] \"\"                                                                                 \n",
       "[62] \"\"                                                                                 \n",
       "[63] \"\"                                                                                 \n",
       "[64] \"_______________________________________________\"                                  \n",
       "[65] \"Exmh-workers mailing list\"                                                        \n",
       "[66] \"Exmh-workers@redhat.com\"                                                          \n",
       "[67] \"https://listman.redhat.com/mailman/listinfo/exmh-workers\"                         \n",
       "[68] \"\"                                                                                 "
      ]
     },
     "metadata": {},
     "output_type": "display_data"
    },
    {
     "data": {
      "text/html": [
       "<ol class=list-inline>\n",
       "\t<li>2</li>\n",
       "\t<li>35</li>\n",
       "</ol>\n"
      ],
      "text/latex": [
       "\\begin{enumerate*}\n",
       "\\item 2\n",
       "\\item 35\n",
       "\\end{enumerate*}\n"
      ],
      "text/markdown": [
       "1. 2\n",
       "2. 35\n",
       "\n",
       "\n"
      ],
      "text/plain": [
       "[1]  2 35"
      ]
     },
     "metadata": {},
     "output_type": "display_data"
    },
    {
     "data": {
      "text/html": [
       "77"
      ],
      "text/latex": [
       "77"
      ],
      "text/markdown": [
       "77"
      ],
      "text/plain": [
       "[1] 77"
      ]
     },
     "metadata": {},
     "output_type": "display_data"
    },
    {
     "data": {
      "text/html": [
       "<ol class=list-inline>\n",
       "\t<li>'&gt;'</li>\n",
       "\t<li>'&gt;Yuck'</li>\n",
       "\t<li><span style=white-space:pre-wrap>'&gt;  '</span></li>\n",
       "\t<li>'&gt;'</li>\n",
       "\t<li>''</li>\n",
       "\t<li>''</li>\n",
       "</ol>\n"
      ],
      "text/latex": [
       "\\begin{enumerate*}\n",
       "\\item '>'\n",
       "\\item '>Yuck'\n",
       "\\item '>  '\n",
       "\\item '>'\n",
       "\\item ''\n",
       "\\item ''\n",
       "\\end{enumerate*}\n"
      ],
      "text/markdown": [
       "1. '&gt;'\n",
       "2. '&gt;Yuck'\n",
       "3. <span style=white-space:pre-wrap>'&gt;  '</span>\n",
       "4. '&gt;'\n",
       "5. ''\n",
       "6. ''\n",
       "\n",
       "\n"
      ],
      "text/plain": [
       "[1] \">\"     \">Yuck\" \">  \"   \">\"     \"\"      \"\"     "
      ]
     },
     "metadata": {},
     "output_type": "display_data"
    },
    {
     "data": {
      "text/html": [
       "<ol class=list-inline>\n",
       "\t<li><span style=white-space:pre-wrap>'&gt;  '</span></li>\n",
       "\t<li>'&gt;'</li>\n",
       "\t<li>''</li>\n",
       "\t<li>''</li>\n",
       "\t<li>''</li>\n",
       "\t<li>''</li>\n",
       "</ol>\n"
      ],
      "text/latex": [
       "\\begin{enumerate*}\n",
       "\\item '>  '\n",
       "\\item '>'\n",
       "\\item ''\n",
       "\\item ''\n",
       "\\item ''\n",
       "\\item ''\n",
       "\\end{enumerate*}\n"
      ],
      "text/markdown": [
       "1. <span style=white-space:pre-wrap>'&gt;  '</span>\n",
       "2. '&gt;'\n",
       "3. ''\n",
       "4. ''\n",
       "5. ''\n",
       "6. ''\n",
       "\n",
       "\n"
      ],
      "text/plain": [
       "[1] \">  \" \">\"   \"\"    \"\"    \"\"    \"\"   "
      ]
     },
     "metadata": {},
     "output_type": "display_data"
    }
   ],
   "source": [
    "sub('.*boundary=\"(.*)\";.*', \"\\\\1\", header2[boundaryIdx2])\n",
    "\n",
    "boundary2 = gsub('\"', \"\", header2[boundaryIdx2])\n",
    "\n",
    "sub(\".*boundary= *(.*);?.*\", \"\\\\1\", boundary2)\n",
    "\n",
    "boundary = gsub('\"', \"\", header[boundaryIdx])\n",
    "sub(\".*boundary= *(.*);?.*\", \"\\\\1\", boundary)\n",
    "\n",
    "sub(\".*boundary= *([^;]*);?.*\", \"\\\\1\", boundary)\n",
    "\n",
    "getBoundary = function(header) {\n",
    "  boundaryIdx = grep(\"boundary=\", header)\n",
    "  boundary = gsub('\"', \"\", header[boundaryIdx])\n",
    "  gsub(\".*boundary= *([^;]*);?.*\", \"\\\\1\", boundary)\n",
    "}\n",
    "\n",
    "sampleSplit[[6]]$body\n",
    "\n",
    "boundary = getBoundary(headerList[[15]]) \n",
    "body = sampleSplit[[15]]$body\n",
    "\n",
    "bString = paste(\"--\", boundary, sep = \"\")\n",
    "bStringLocs = which(bString == body)\n",
    "bStringLocs\n",
    "\n",
    "eString = paste(\"--\", boundary, \"--\", sep = \"\")\n",
    "eStringLoc = which(eString == body)\n",
    "eStringLoc\n",
    "\n",
    "msg = body[ (bStringLocs[1] + 1) : (bStringLocs[2] - 1)]\n",
    "tail(msg)\n",
    "\n",
    "msg = c(msg, body[ (eStringLoc + 1) : length(body) ])\n",
    "tail(msg)"
   ]
  },
  {
   "cell_type": "code",
   "execution_count": 11,
   "metadata": {},
   "outputs": [
    {
     "data": {
      "text/html": [
       "<ol class=list-inline>\n",
       "\t<li><span style=white-space:pre-wrap>'    Date:        Wed, 21 Aug 2002 10:54:46 -0500'</span></li>\n",
       "\t<li><span style=white-space:pre-wrap>'    From:        Chris Garrigues &lt;cwg-dated-1030377287.06fa6d@DeepEddy.Com&gt;'</span></li>\n",
       "\t<li><span style=white-space:pre-wrap>'    Message-ID:  &lt;1029945287.4797.TMDA@deepeddy.vircio.com&gt;'</span></li>\n",
       "\t<li>''</li>\n",
       "\t<li>''</li>\n",
       "\t<li><span style=white-space:pre-wrap>'  | I can\\'t reproduce this error.'</span></li>\n",
       "</ol>\n"
      ],
      "text/latex": [
       "\\begin{enumerate*}\n",
       "\\item '    Date:        Wed, 21 Aug 2002 10:54:46 -0500'\n",
       "\\item '    From:        Chris Garrigues <cwg-dated-1030377287.06fa6d@DeepEddy.Com>'\n",
       "\\item '    Message-ID:  <1029945287.4797.TMDA@deepeddy.vircio.com>'\n",
       "\\item ''\n",
       "\\item ''\n",
       "\\item '  \\textbar{} I can\\textbackslash{}'t reproduce this error.'\n",
       "\\end{enumerate*}\n"
      ],
      "text/markdown": [
       "1. <span style=white-space:pre-wrap>'    Date:        Wed, 21 Aug 2002 10:54:46 -0500'</span>\n",
       "2. <span style=white-space:pre-wrap>'    From:        Chris Garrigues &lt;cwg-dated-1030377287.06fa6d@DeepEddy.Com&gt;'</span>\n",
       "3. <span style=white-space:pre-wrap>'    Message-ID:  &lt;1029945287.4797.TMDA@deepeddy.vircio.com&gt;'</span>\n",
       "4. ''\n",
       "5. ''\n",
       "6. <span style=white-space:pre-wrap>'  | I can\\'t reproduce this error.'</span>\n",
       "\n",
       "\n"
      ],
      "text/plain": [
       "[1] \"    Date:        Wed, 21 Aug 2002 10:54:46 -0500\"                           \n",
       "[2] \"    From:        Chris Garrigues <cwg-dated-1030377287.06fa6d@DeepEddy.Com>\"\n",
       "[3] \"    Message-ID:  <1029945287.4797.TMDA@deepeddy.vircio.com>\"                \n",
       "[4] \"\"                                                                           \n",
       "[5] \"\"                                                                           \n",
       "[6] \"  | I can't reproduce this error.\"                                          "
      ]
     },
     "metadata": {},
     "output_type": "display_data"
    },
    {
     "data": {
      "text/html": [
       "<ol class=list-inline>\n",
       "\t<li>'Man Threatens Explosion In Moscow '</li>\n",
       "\t<li>''</li>\n",
       "\t<li>'Thursday August 22, 2002 1:40 PM'</li>\n",
       "\t<li>'MOSCOW (AP) - Security officers on Thursday seized an unidentified man who'</li>\n",
       "\t<li>'said he was armed with explosives and threatened to blow up his truck in'</li>\n",
       "\t<li>'front of Russia\\'s Federal Security Services headquarters in Moscow, NTV'</li>\n",
       "</ol>\n"
      ],
      "text/latex": [
       "\\begin{enumerate*}\n",
       "\\item 'Man Threatens Explosion In Moscow '\n",
       "\\item ''\n",
       "\\item 'Thursday August 22, 2002 1:40 PM'\n",
       "\\item 'MOSCOW (AP) - Security officers on Thursday seized an unidentified man who'\n",
       "\\item 'said he was armed with explosives and threatened to blow up his truck in'\n",
       "\\item 'front of Russia\\textbackslash{}'s Federal Security Services headquarters in Moscow, NTV'\n",
       "\\end{enumerate*}\n"
      ],
      "text/markdown": [
       "1. 'Man Threatens Explosion In Moscow '\n",
       "2. ''\n",
       "3. 'Thursday August 22, 2002 1:40 PM'\n",
       "4. 'MOSCOW (AP) - Security officers on Thursday seized an unidentified man who'\n",
       "5. 'said he was armed with explosives and threatened to blow up his truck in'\n",
       "6. 'front of Russia\\'s Federal Security Services headquarters in Moscow, NTV'\n",
       "\n",
       "\n"
      ],
      "text/plain": [
       "[1] \"Man Threatens Explosion In Moscow \"                                        \n",
       "[2] \"\"                                                                          \n",
       "[3] \"Thursday August 22, 2002 1:40 PM\"                                          \n",
       "[4] \"MOSCOW (AP) - Security officers on Thursday seized an unidentified man who\"\n",
       "[5] \"said he was armed with explosives and threatened to blow up his truck in\"  \n",
       "[6] \"front of Russia's Federal Security Services headquarters in Moscow, NTV\"   "
      ]
     },
     "metadata": {},
     "output_type": "display_data"
    },
    {
     "data": {
      "text/html": [
       "<ol class=list-inline>\n",
       "\t<li>'Man Threatens Explosion In Moscow '</li>\n",
       "\t<li>'Thursday August 22, 2002 1:40 PM'</li>\n",
       "\t<li>'4 DVDs Free +s&amp;p Join Now'</li>\n",
       "\t<li>'http://us.click.yahoo.com/pt6YBB/NXiEAA/mG3HAA/7gSolB/TM'</li>\n",
       "</ol>\n"
      ],
      "text/latex": [
       "\\begin{enumerate*}\n",
       "\\item 'Man Threatens Explosion In Moscow '\n",
       "\\item 'Thursday August 22, 2002 1:40 PM'\n",
       "\\item '4 DVDs Free +s\\&p Join Now'\n",
       "\\item 'http://us.click.yahoo.com/pt6YBB/NXiEAA/mG3HAA/7gSolB/TM'\n",
       "\\end{enumerate*}\n"
      ],
      "text/markdown": [
       "1. 'Man Threatens Explosion In Moscow '\n",
       "2. 'Thursday August 22, 2002 1:40 PM'\n",
       "3. '4 DVDs Free +s&amp;p Join Now'\n",
       "4. 'http://us.click.yahoo.com/pt6YBB/NXiEAA/mG3HAA/7gSolB/TM'\n",
       "\n",
       "\n"
      ],
      "text/plain": [
       "[1] \"Man Threatens Explosion In Moscow \"                      \n",
       "[2] \"Thursday August 22, 2002 1:40 PM\"                        \n",
       "[3] \"4 DVDs Free +s&p Join Now\"                               \n",
       "[4] \"http://us.click.yahoo.com/pt6YBB/NXiEAA/mG3HAA/7gSolB/TM\""
      ]
     },
     "metadata": {},
     "output_type": "display_data"
    },
    {
     "data": {
      "text/html": [
       "<ol class=list-inline>\n",
       "\t<li>'man threatens explosion in moscow '</li>\n",
       "\t<li>'thursday august pm'</li>\n",
       "\t<li>' dvds free s p join now'</li>\n",
       "\t<li>'http us click yahoo com pt ybb nxieaa mg haa gsolb tm'</li>\n",
       "</ol>\n"
      ],
      "text/latex": [
       "\\begin{enumerate*}\n",
       "\\item 'man threatens explosion in moscow '\n",
       "\\item 'thursday august pm'\n",
       "\\item ' dvds free s p join now'\n",
       "\\item 'http us click yahoo com pt ybb nxieaa mg haa gsolb tm'\n",
       "\\end{enumerate*}\n"
      ],
      "text/markdown": [
       "1. 'man threatens explosion in moscow '\n",
       "2. 'thursday august pm'\n",
       "3. ' dvds free s p join now'\n",
       "4. 'http us click yahoo com pt ybb nxieaa mg haa gsolb tm'\n",
       "\n",
       "\n"
      ],
      "text/plain": [
       "[1] \"man threatens explosion in moscow \"                   \n",
       "[2] \"thursday august pm\"                                   \n",
       "[3] \" dvds free s p join now\"                              \n",
       "[4] \"http us click yahoo com pt ybb nxieaa mg haa gsolb tm\""
      ]
     },
     "metadata": {},
     "output_type": "display_data"
    },
    {
     "name": "stderr",
     "output_type": "stream",
     "text": [
      "Warning message:\n",
      "\"package 'tm' was built under R version 3.5.3\"\n",
      "Loading required package: NLP\n",
      "\n"
     ]
    }
   ],
   "source": [
    "dropAttach = function(body, boundary){\n",
    "  \n",
    "  bString = paste(\"--\", boundary, sep = \"\")\n",
    "  bStringLocs = which(bString == body)\n",
    "  \n",
    "  if (length(bStringLocs) <= 1) return(body)\n",
    "  \n",
    "  eString = paste(\"--\", boundary, \"--\", sep = \"\")\n",
    "  eStringLoc = which(eString == body)\n",
    "  if (length(eStringLoc) == 0) \n",
    "    return(body[ (bStringLocs[1] + 1) : (bStringLocs[2] - 1)])\n",
    "  \n",
    "  n = length(body)\n",
    "  if (eStringLoc < n) \n",
    "     return( body[ c( (bStringLocs[1] + 1) : (bStringLocs[2] - 1), \n",
    "                    ( (eStringLoc + 1) : n )) ] )\n",
    "  \n",
    "  return( body[ (bStringLocs[1] + 1) : (bStringLocs[2] - 1) ])\n",
    "}\n",
    "\n",
    "head(sampleSplit[[1]]$body)\n",
    "\n",
    "msg = sampleSplit[[3]]$body\n",
    "head(msg)\n",
    "\n",
    "msg[ c(1, 3, 26, 27) ]\n",
    "\n",
    "cleanMsg = tolower(gsub(\"[[:punct:]0-9[:blank:]]+\", \" \", msg))\n",
    "cleanMsg[ c(1, 3, 26, 27) ]\n",
    "\n",
    "library(tm)\n",
    "stopWords = stopwords()\n",
    "cleanSW = tolower(gsub(\"[[:punct:]0-9[:blank:]]+\", \" \", stopWords))\n",
    "SWords = unlist(strsplit(cleanSW, \"[[:blank:]]+\"))\n",
    "SWords = SWords[ nchar(SWords) > 1 ]\n",
    "stopWords = unique(SWords)"
   ]
  },
  {
   "cell_type": "code",
   "execution_count": 12,
   "metadata": {},
   "outputs": [
    {
     "data": {
      "text/html": [
       "<ol class=list-inline>\n",
       "\t<li>'man'</li>\n",
       "\t<li>'threatens'</li>\n",
       "\t<li>'explosion'</li>\n",
       "\t<li>'moscow'</li>\n",
       "\t<li>'thursday'</li>\n",
       "\t<li>'august'</li>\n",
       "</ol>\n"
      ],
      "text/latex": [
       "\\begin{enumerate*}\n",
       "\\item 'man'\n",
       "\\item 'threatens'\n",
       "\\item 'explosion'\n",
       "\\item 'moscow'\n",
       "\\item 'thursday'\n",
       "\\item 'august'\n",
       "\\end{enumerate*}\n"
      ],
      "text/markdown": [
       "1. 'man'\n",
       "2. 'threatens'\n",
       "3. 'explosion'\n",
       "4. 'moscow'\n",
       "5. 'thursday'\n",
       "6. 'august'\n",
       "\n",
       "\n"
      ],
      "text/plain": [
       "[1] \"man\"       \"threatens\" \"explosion\" \"moscow\"    \"thursday\"  \"august\"   "
      ]
     },
     "metadata": {},
     "output_type": "display_data"
    }
   ],
   "source": [
    "words = unlist(strsplit(cleanMsg, \"[[:blank:]]+\"))\n",
    "\n",
    "words = words[ nchar(words) > 1 ]\n",
    "\n",
    "words = words[ !( words %in% stopWords) ]\n",
    "head(words)\n",
    "\n",
    "cleanText =\n",
    "function(msg)   {\n",
    "  tolower(gsub(\"[[:punct:]0-9[:space:][:blank:]]+\", \" \", msg))\n",
    "}\n",
    "\n",
    "findMsgWords = \n",
    "function(msg, stopWords) {\n",
    " if(is.null(msg))\n",
    "  return(character())\n",
    "\n",
    " words = unique(unlist(strsplit(cleanText(msg), \"[[:blank:]\\t]+\")))\n",
    " \n",
    " # drop empty and 1 letter words\n",
    " words = words[ nchar(words) > 1]\n",
    " words = words[ !( words %in% stopWords) ]\n",
    " invisible(words)\n",
    "}"
   ]
  },
  {
   "cell_type": "code",
   "execution_count": 13,
   "metadata": {},
   "outputs": [],
   "source": [
    "processAllWords = function(dirName, stopWords)\n",
    "{\n",
    "       # read all files in the directory\n",
    "  fileNames = list.files(dirName, full.names = TRUE)\n",
    "       # drop files that are not email, i.e., cmds\n",
    "  notEmail = grep(\"cmds$\", fileNames)\n",
    "  if ( length(notEmail) > 0) fileNames = fileNames[ - notEmail ]\n",
    "\n",
    "  messages = lapply(fileNames, readLines, encoding = \"utf-8\")\n",
    "  \n",
    "       # split header and body\n",
    "  emailSplit = lapply(messages, splitMessage)\n",
    "       # put body and header in own lists\n",
    "  bodyList = lapply(emailSplit, function(msg) msg$body)\n",
    "  headerList = lapply(emailSplit, function(msg) msg$header)\n",
    "  rm(emailSplit)\n",
    "  \n",
    "       # determine which messages have attachments\n",
    "  hasAttach = sapply(headerList, function(header) {\n",
    "    CTloc = grep(\"Content-Type\", header)\n",
    "    if (length(CTloc) == 0) return(0)\n",
    "    multi = grep(\"multi\", tolower(header[CTloc])) \n",
    "    if (length(multi) == 0) return(0)\n",
    "    multi\n",
    "  })\n",
    "  \n",
    "  hasAttach = which(hasAttach > 0)\n",
    "  \n",
    "       # find boundary strings for messages with attachments\n",
    "  boundaries = sapply(headerList[hasAttach], getBoundary)\n",
    "  \n",
    "       # drop attachments from message body\n",
    "  bodyList[hasAttach] = mapply(dropAttach, bodyList[hasAttach], \n",
    "                               boundaries, SIMPLIFY = FALSE)\n",
    "  \n",
    "       # extract words from body\n",
    "  msgWordsList = lapply(bodyList, findMsgWords, stopWords)\n",
    "  \n",
    "  invisible(msgWordsList)\n",
    "}\n",
    "\n"
   ]
  },
  {
   "cell_type": "code",
   "execution_count": 14,
   "metadata": {},
   "outputs": [
    {
     "name": "stderr",
     "output_type": "stream",
     "text": [
      "Warning message in FUN(X[[i]], ...):\n",
      "\"incomplete final line found on './From 2ds/messages/hard_ham/00228.0eaef7857bbbf3ebf5edbbdae2b30493'\"\n",
      "Warning message in FUN(X[[i]], ...):\n",
      "\"incomplete final line found on './From 2ds/messages/hard_ham/0231.7c6cc716ce3f3bfad7130dd3c8d7b072'\"\n",
      "Warning message in FUN(X[[i]], ...):\n",
      "\"incomplete final line found on './From 2ds/messages/hard_ham/0250.7c6cc716ce3f3bfad7130dd3c8d7b072'\"\n",
      "Warning message in FUN(X[[i]], ...):\n",
      "\"incomplete final line found on './From 2ds/messages/spam/00136.faa39d8e816c70f23b4bb8758d8a74f0'\"\n",
      "Warning message in FUN(X[[i]], ...):\n",
      "\"incomplete final line found on './From 2ds/messages/spam/0143.260a940290dcb61f9327b224a368d4af'\"\n"
     ]
    }
   ],
   "source": [
    "msgWordsList = lapply(fullDirNames, processAllWords, \n",
    "                      stopWords = stopWords) \n",
    "\n"
   ]
  },
  {
   "cell_type": "code",
   "execution_count": 15,
   "metadata": {},
   "outputs": [
    {
     "data": {
      "text/html": [
       "<ol class=list-inline>\n",
       "\t<li>5051</li>\n",
       "\t<li>1400</li>\n",
       "\t<li>500</li>\n",
       "\t<li>1000</li>\n",
       "\t<li>1397</li>\n",
       "</ol>\n"
      ],
      "text/latex": [
       "\\begin{enumerate*}\n",
       "\\item 5051\n",
       "\\item 1400\n",
       "\\item 500\n",
       "\\item 1000\n",
       "\\item 1397\n",
       "\\end{enumerate*}\n"
      ],
      "text/markdown": [
       "1. 5051\n",
       "2. 1400\n",
       "3. 500\n",
       "4. 1000\n",
       "5. 1397\n",
       "\n",
       "\n"
      ],
      "text/plain": [
       "[1] 5051 1400  500 1000 1397"
      ]
     },
     "metadata": {},
     "output_type": "display_data"
    }
   ],
   "source": [
    "numMsgs = sapply(msgWordsList, length)\n",
    "numMsgs"
   ]
  },
  {
   "cell_type": "code",
   "execution_count": 16,
   "metadata": {},
   "outputs": [
    {
     "data": {
      "text/html": [
       "80059"
      ],
      "text/latex": [
       "80059"
      ],
      "text/markdown": [
       "80059"
      ],
      "text/plain": [
       "[1] 80059"
      ]
     },
     "metadata": {},
     "output_type": "display_data"
    }
   ],
   "source": [
    "isSpam = rep(c(FALSE, FALSE, FALSE, TRUE, TRUE), numMsgs)\n",
    "\n",
    "msgWordsList = unlist(msgWordsList, recursive = FALSE)\n",
    "\n",
    "numEmail = length(isSpam)\n",
    "numSpam = sum(isSpam)\n",
    "numHam = numEmail - numSpam\n",
    "\n",
    "set.seed(418910)\n",
    "\n",
    "testSpamIdx = sample(numSpam, size = floor(numSpam/3))\n",
    "testHamIdx = sample(numHam, size = floor(numHam/3))\n",
    "\n",
    "testMsgWords = c((msgWordsList[isSpam])[testSpamIdx],\n",
    "                 (msgWordsList[!isSpam])[testHamIdx] )\n",
    "trainMsgWords = c((msgWordsList[isSpam])[ - testSpamIdx], \n",
    "                  (msgWordsList[!isSpam])[ - testHamIdx])\n",
    "\n",
    "testIsSpam = rep(c(TRUE, FALSE), \n",
    "                 c(length(testSpamIdx), length(testHamIdx)))\n",
    "trainIsSpam = rep(c(TRUE, FALSE), \n",
    "                 c(numSpam - length(testSpamIdx), \n",
    "                   numHam - length(testHamIdx)))\n",
    "\n",
    "bow = unique(unlist(trainMsgWords))\n",
    "\n",
    "length(bow)\n",
    "\n",
    "spamWordCounts = rep(0, length(bow))\n",
    "\n",
    "names(spamWordCounts) = bow\n",
    "\n",
    "tmp = lapply(trainMsgWords[trainIsSpam], unique)\n",
    "tt = table( unlist(tmp) )\n",
    "spamWordCounts[ names(tt) ] = tt"
   ]
  },
  {
   "cell_type": "code",
   "execution_count": 17,
   "metadata": {},
   "outputs": [],
   "source": [
    "computeFreqs =\n",
    "function(wordsList, spam, bow = unique(unlist(wordsList)))\n",
    "{\n",
    "   # create a matrix for spam, ham, and log odds\n",
    "  wordTable = matrix(0.5, nrow = 4, ncol = length(bow), \n",
    "                     dimnames = list(c(\"spam\", \"ham\", \n",
    "                                        \"presentLogOdds\", \n",
    "                                        \"absentLogOdds\"),  bow))\n",
    "\n",
    "   # For each spam message, add 1 to counts for words in message\n",
    "  counts.spam = table(unlist(lapply(wordsList[spam], unique)))\n",
    "  wordTable[\"spam\", names(counts.spam)] = counts.spam + .5\n",
    "\n",
    "   # Similarly for ham messages\n",
    "  counts.ham = table(unlist(lapply(wordsList[!spam], unique)))  \n",
    "  wordTable[\"ham\", names(counts.ham)] = counts.ham + .5  \n",
    "\n",
    "\n",
    "   # Find the total number of spam and ham\n",
    "  numSpam = sum(spam)\n",
    "  numHam = length(spam) - numSpam\n",
    "\n",
    "   # Prob(word|spam) and Prob(word | ham)\n",
    "  wordTable[\"spam\", ] = wordTable[\"spam\", ]/(numSpam + .5)\n",
    "  wordTable[\"ham\", ] = wordTable[\"ham\", ]/(numHam + .5)\n",
    "  \n",
    "   # log odds\n",
    "  wordTable[\"presentLogOdds\", ] = \n",
    "     log(wordTable[\"spam\",]) - log(wordTable[\"ham\", ])\n",
    "  wordTable[\"absentLogOdds\", ] = \n",
    "     log((1 - wordTable[\"spam\", ])) - log((1 -wordTable[\"ham\", ]))\n",
    "\n",
    "  invisible(wordTable)\n",
    "}"
   ]
  },
  {
   "cell_type": "code",
   "execution_count": 18,
   "metadata": {},
   "outputs": [
    {
     "data": {
      "text/html": [
       "255.047582176991"
      ],
      "text/latex": [
       "255.047582176991"
      ],
      "text/markdown": [
       "255.047582176991"
      ],
      "text/plain": [
       "[1] 255.0476"
      ]
     },
     "metadata": {},
     "output_type": "display_data"
    },
    {
     "data": {
      "text/html": [
       "-124.327460041106"
      ],
      "text/latex": [
       "-124.327460041106"
      ],
      "text/markdown": [
       "-124.327460041106"
      ],
      "text/plain": [
       "[1] -124.3275"
      ]
     },
     "metadata": {},
     "output_type": "display_data"
    },
    {
     "data": {
      "text/plain": [
       "$`FALSE`\n",
       "    Min.  1st Qu.   Median     Mean  3rd Qu.     Max. \n",
       "-1361.89  -127.06  -101.18  -116.25   -81.26   700.23 \n",
       "\n",
       "$`TRUE`\n",
       "     Min.   1st Qu.    Median      Mean   3rd Qu.      Max. \n",
       "  -60.574     6.369    49.837   137.546   131.719 23518.028 \n"
      ]
     },
     "metadata": {},
     "output_type": "display_data"
    }
   ],
   "source": [
    "#run for long\n",
    "trainTable = computeFreqs(trainMsgWords, trainIsSpam)\n",
    "\n",
    "newMsg = testMsgWords[[1]]\n",
    "\n",
    "newMsg = newMsg[!is.na(match(newMsg, colnames(trainTable)))]\n",
    "\n",
    "present = colnames(trainTable) %in% newMsg\n",
    "\n",
    "sum(trainTable[\"presentLogOdds\", present]) + \n",
    "  sum(trainTable[\"absentLogOdds\", !present])\n",
    "\n",
    "newMsg = testMsgWords[[ which(!testIsSpam)[1] ]]\n",
    "newMsg = newMsg[!is.na(match(newMsg, colnames(trainTable)))]\n",
    "present = (colnames(trainTable) %in% newMsg)\n",
    "sum(trainTable[\"presentLogOdds\", present]) + \n",
    "     sum(trainTable[\"absentLogOdds\", !present])\n",
    "\n",
    "computeMsgLLR = function(words, freqTable) \n",
    "{\n",
    "       # Discards words not in training data.\n",
    "  words = words[!is.na(match(words, colnames(freqTable)))]\n",
    "\n",
    "       # Find which words are present\n",
    "  present = colnames(freqTable) %in% words\n",
    "\n",
    "  sum(freqTable[\"presentLogOdds\", present]) +\n",
    "    sum(freqTable[\"absentLogOdds\", !present])\n",
    "}\n",
    "\n",
    "testLLR = sapply(testMsgWords, computeMsgLLR, trainTable)\n",
    "\n",
    "tapply(testLLR, testIsSpam, summary)\n"
   ]
  },
  {
   "cell_type": "code",
   "execution_count": 19,
   "metadata": {},
   "outputs": [
    {
     "data": {
      "image/png": "[encoded data removed]",
      "text/plain": [
       "plot without title"
      ]
     },
     "metadata": {
      "image/png": {
       "height": 420,
       "width": 420
      },
      "text/plain": {
       "height": 420,
       "width": 420
      }
     },
     "output_type": "display_data"
    }
   ],
   "source": [
    "#pdf(\"SP_Boxplot.pdf\", width = 6, height = 6)\n",
    "spamLab = c(\"ham\", \"spam\")[1 + testIsSpam]\n",
    "boxplot(testLLR ~ spamLab, ylab = \"Log Likelihood Ratio\",\n",
    "      #  main = \"Log Likelihood Ratio for Randomly Chosen Test Messages\",\n",
    "        ylim=c(-500, 500))\n",
    "#dev.off()\n"
   ]
  },
  {
   "cell_type": "code",
   "execution_count": 20,
   "metadata": {},
   "outputs": [
    {
     "data": {
      "text/html": [
       "0.00345274061286146"
      ],
      "text/latex": [
       "0.00345274061286146"
      ],
      "text/markdown": [
       "0.00345274061286146"
      ],
      "text/plain": [
       "[1] 0.003452741"
      ]
     },
     "metadata": {},
     "output_type": "display_data"
    },
    {
     "data": {
      "text/html": [
       "0.00561070349589987"
      ],
      "text/latex": [
       "0.00561070349589987"
      ],
      "text/markdown": [
       "0.00561070349589987"
      ],
      "text/plain": [
       "[1] 0.005610703"
      ]
     },
     "metadata": {},
     "output_type": "display_data"
    }
   ],
   "source": [
    "typeIErrorRate = \n",
    "function(tau, llrVals, spam)\n",
    "{\n",
    "  classify = llrVals > tau\n",
    "  sum(classify & !spam)/sum(!spam)\n",
    "}\n",
    "\n",
    "typeIErrorRate(0, testLLR,testIsSpam)\n",
    "\n",
    "typeIErrorRate(-20, testLLR,testIsSpam)\n",
    "\n",
    "typeIErrorRates = \n",
    "function(llrVals, isSpam) \n",
    "{\n",
    "  o = order(llrVals)\n",
    "  llrVals =  llrVals[o]\n",
    "  isSpam = isSpam[o]\n",
    "\n",
    "  idx = which(!isSpam)\n",
    "  N = length(idx)\n",
    "  list(error = (N:1)/N, values = llrVals[idx])\n",
    "}"
   ]
  },
  {
   "cell_type": "code",
   "execution_count": 21,
   "metadata": {},
   "outputs": [],
   "source": [
    "typeIIErrorRates = function(llrVals, isSpam) {\n",
    "    \n",
    "  o = order(llrVals)\n",
    "  llrVals =  llrVals[o]\n",
    "  isSpam = isSpam[o]\n",
    "    \n",
    "    \n",
    "  idx = which(isSpam)\n",
    "  N = length(idx)\n",
    "  list(error = (1:(N))/N, values = llrVals[idx])\n",
    "  }  \n",
    "\n",
    "xI = typeIErrorRates(testLLR, testIsSpam)\n",
    "xII = typeIIErrorRates(testLLR, testIsSpam)\n",
    "tau01 = round(min(xI$values[xI$error <= 0.01]))\n",
    "t2 = max(xII$error[ xII$values < tau01 ])"
   ]
  },
  {
   "cell_type": "code",
   "execution_count": 22,
   "metadata": {},
   "outputs": [
    {
     "data": {
      "image/png": "[encoded data removed]",
      "text/plain": [
       "plot without title"
      ]
     },
     "metadata": {
      "image/png": {
       "height": 420,
       "width": 420
      },
      "text/plain": {
       "height": 420,
       "width": 420
      }
     },
     "output_type": "display_data"
    }
   ],
   "source": [
    "#pdf(\"LinePlotTypeI+IIErrors.pdf\", width = 8, height = 6)\n",
    "\n",
    "library(RColorBrewer)\n",
    "cols = brewer.pal(9, \"Set1\")[c(3, 4, 5)]\n",
    "plot(xII$error ~ xII$values,  type = \"l\", col = cols[1], lwd = 3,\n",
    "     xlim = c(-300, 250), ylim = c(0, 1),\n",
    "     xlab = \"Log Likelihood Ratio Values\", ylab=\"Error Rate\")\n",
    "points(xI$error ~ xI$values, type = \"l\", col = cols[2], lwd = 3)\n",
    "legend(x = 50, y = 0.4, fill = c(cols[2], cols[1]),\n",
    "       legend = c(\"Classify Ham as Spam\", \n",
    "                  \"Classify Spam as Ham\"), cex = 0.8,\n",
    "       bty = \"n\")\n",
    "abline(h=0.01, col =\"grey\", lwd = 3, lty = 2)\n",
    "text(-250, 0.05, pos = 4, \"Type I Error = 0.01\", col = cols[2])\n",
    "\n",
    "mtext(tau01, side = 1, line = 0.5, at = tau01, col = cols[3])\n",
    "segments(x0 = tau01, y0 = -.50, x1 = tau01, y1 = t2, \n",
    "         lwd = 2, col = \"grey\")\n",
    "text(tau01 + 20, 0.05, pos = 4,\n",
    "     paste(\"Type II Error = \", round(t2, digits = 2)), \n",
    "     col = cols[1])\n",
    "\n",
    "#dev.off()"
   ]
  },
  {
   "cell_type": "code",
   "execution_count": 23,
   "metadata": {},
   "outputs": [],
   "source": [
    "k = 5\n",
    "numTrain = length(trainMsgWords)\n",
    "partK = sample(numTrain)\n",
    "tot = k * floor(numTrain/k)\n",
    "partK = matrix(partK[1:tot], ncol = k)\n",
    "\n",
    "testFoldOdds = NULL\n",
    "for (i in 1:k) {\n",
    "  foldIdx = partK[ , i]\n",
    "  trainTabFold = computeFreqs(trainMsgWords[-foldIdx], trainIsSpam[-foldIdx])\n",
    "  testFoldOdds = c(testFoldOdds, \n",
    "               sapply(trainMsgWords[ foldIdx ], computeMsgLLR, trainTabFold))\n",
    "}\n",
    "\n",
    "testFoldSpam = NULL\n",
    "for (i in 1:k) {\n",
    "  foldIdx = partK[ , i]\n",
    "  testFoldSpam = c(testFoldSpam, trainIsSpam[foldIdx])\n",
    "}\n",
    "\n",
    "xFoldI = typeIErrorRates(testFoldOdds, testFoldSpam)\n",
    "xFoldII = typeIIErrorRates(testFoldOdds, testFoldSpam)\n",
    "tauFoldI = round(min(xFoldI$values[xFoldI$error <= 0.01]))\n",
    "tFold2 = xFoldII$error[ xFoldII$values < tauFoldI ]\n",
    "\n",
    "smallNums = rep((1/2)^40, 2000000)"
   ]
  },
  {
   "cell_type": "code",
   "execution_count": 24,
   "metadata": {},
   "outputs": [
    {
     "name": "stdout",
     "output_type": "stream",
     "text": [
      "[1] 1.8189894035458565e-06\n",
      "[1] 10000.000001818989\n",
      "[1] 10000\n"
     ]
    },
    {
     "data": {
      "text/html": [
       "<ol class=list-inline>\n",
       "\t<li><span style=white-space:pre-wrap>'From exmh-workers-admin@redhat.com  Thu Aug 22 12:36:23 2002'</span></li>\n",
       "\t<li>'Return-Path: &lt;exmh-workers-admin@spamassassin.taint.org&gt;'</li>\n",
       "\t<li>'Delivered-To: zzzz@localhost.netnoteinc.com'</li>\n",
       "\t<li>'Received: from localhost (localhost [127.0.0.1])'</li>\n",
       "\t<li>'\\tby phobos.labs.netnoteinc.com (Postfix) with ESMTP id D03E543C36'</li>\n",
       "\t<li>'\\tfor &lt;zzzz@localhost&gt;; Thu, 22 Aug 2002 07:36:16 -0400 (EDT)'</li>\n",
       "\t<li>'Received: from phobos [127.0.0.1]'</li>\n",
       "\t<li>'\\tby localhost with IMAP (fetchmail-5.9.0)'</li>\n",
       "\t<li>'\\tfor zzzz@localhost (single-drop); Thu, 22 Aug 2002 12:36:16 +0100 (IST)'</li>\n",
       "\t<li>'Received: from listman.spamassassin.taint.org (listman.spamassassin.taint.org [66.187.233.211]) by'</li>\n",
       "\t<li><span style=white-space:pre-wrap>'    dogma.slashnull.org (8.11.6/8.11.6) with ESMTP id g7MBYrZ04811 for'</span></li>\n",
       "\t<li><span style=white-space:pre-wrap>'    &lt;zzzz-exmh@spamassassin.taint.org&gt;; Thu, 22 Aug 2002 12:34:53 +0100'</span></li>\n",
       "</ol>\n"
      ],
      "text/latex": [
       "\\begin{enumerate*}\n",
       "\\item 'From exmh-workers-admin@redhat.com  Thu Aug 22 12:36:23 2002'\n",
       "\\item 'Return-Path: <exmh-workers-admin@spamassassin.taint.org>'\n",
       "\\item 'Delivered-To: zzzz@localhost.netnoteinc.com'\n",
       "\\item 'Received: from localhost (localhost {[}127.0.0.1{]})'\n",
       "\\item '\\textbackslash{}tby phobos.labs.netnoteinc.com (Postfix) with ESMTP id D03E543C36'\n",
       "\\item '\\textbackslash{}tfor <zzzz@localhost>; Thu, 22 Aug 2002 07:36:16 -0400 (EDT)'\n",
       "\\item 'Received: from phobos {[}127.0.0.1{]}'\n",
       "\\item '\\textbackslash{}tby localhost with IMAP (fetchmail-5.9.0)'\n",
       "\\item '\\textbackslash{}tfor zzzz@localhost (single-drop); Thu, 22 Aug 2002 12:36:16 +0100 (IST)'\n",
       "\\item 'Received: from listman.spamassassin.taint.org (listman.spamassassin.taint.org {[}66.187.233.211{]}) by'\n",
       "\\item '    dogma.slashnull.org (8.11.6/8.11.6) with ESMTP id g7MBYrZ04811 for'\n",
       "\\item '    <zzzz-exmh@spamassassin.taint.org>; Thu, 22 Aug 2002 12:34:53 +0100'\n",
       "\\end{enumerate*}\n"
      ],
      "text/markdown": [
       "1. <span style=white-space:pre-wrap>'From exmh-workers-admin@redhat.com  Thu Aug 22 12:36:23 2002'</span>\n",
       "2. 'Return-Path: &lt;exmh-workers-admin@spamassassin.taint.org&gt;'\n",
       "3. 'Delivered-To: zzzz@localhost.netnoteinc.com'\n",
       "4. 'Received: from localhost (localhost [127.0.0.1])'\n",
       "5. '\\tby phobos.labs.netnoteinc.com (Postfix) with ESMTP id D03E543C36'\n",
       "6. '\\tfor &lt;zzzz@localhost&gt;; Thu, 22 Aug 2002 07:36:16 -0400 (EDT)'\n",
       "7. 'Received: from phobos [127.0.0.1]'\n",
       "8. '\\tby localhost with IMAP (fetchmail-5.9.0)'\n",
       "9. '\\tfor zzzz@localhost (single-drop); Thu, 22 Aug 2002 12:36:16 +0100 (IST)'\n",
       "10. 'Received: from listman.spamassassin.taint.org (listman.spamassassin.taint.org [66.187.233.211]) by'\n",
       "11. <span style=white-space:pre-wrap>'    dogma.slashnull.org (8.11.6/8.11.6) with ESMTP id g7MBYrZ04811 for'</span>\n",
       "12. <span style=white-space:pre-wrap>'    &lt;zzzz-exmh@spamassassin.taint.org&gt;; Thu, 22 Aug 2002 12:34:53 +0100'</span>\n",
       "\n",
       "\n"
      ],
      "text/plain": [
       " [1] \"From exmh-workers-admin@redhat.com  Thu Aug 22 12:36:23 2002\"                                      \n",
       " [2] \"Return-Path: <exmh-workers-admin@spamassassin.taint.org>\"                                          \n",
       " [3] \"Delivered-To: zzzz@localhost.netnoteinc.com\"                                                       \n",
       " [4] \"Received: from localhost (localhost [127.0.0.1])\"                                                  \n",
       " [5] \"\\tby phobos.labs.netnoteinc.com (Postfix) with ESMTP id D03E543C36\"                                 \n",
       " [6] \"\\tfor <zzzz@localhost>; Thu, 22 Aug 2002 07:36:16 -0400 (EDT)\"                                      \n",
       " [7] \"Received: from phobos [127.0.0.1]\"                                                                 \n",
       " [8] \"\\tby localhost with IMAP (fetchmail-5.9.0)\"                                                         \n",
       " [9] \"\\tfor zzzz@localhost (single-drop); Thu, 22 Aug 2002 12:36:16 +0100 (IST)\"                          \n",
       "[10] \"Received: from listman.spamassassin.taint.org (listman.spamassassin.taint.org [66.187.233.211]) by\"\n",
       "[11] \"    dogma.slashnull.org (8.11.6/8.11.6) with ESMTP id g7MBYrZ04811 for\"                            \n",
       "[12] \"    <zzzz-exmh@spamassassin.taint.org>; Thu, 22 Aug 2002 12:34:53 +0100\"                           "
      ]
     },
     "metadata": {},
     "output_type": "display_data"
    },
    {
     "data": {
      "text/html": [
       "<span style=white-space:pre-wrap>'Top-From: exmh-workers-admin@redhat.com  Thu Aug 22 12:36:23 2002'</span>"
      ],
      "text/latex": [
       "'Top-From: exmh-workers-admin@redhat.com  Thu Aug 22 12:36:23 2002'"
      ],
      "text/markdown": [
       "<span style=white-space:pre-wrap>'Top-From: exmh-workers-admin@redhat.com  Thu Aug 22 12:36:23 2002'</span>"
      ],
      "text/plain": [
       "[1] \"Top-From: exmh-workers-admin@redhat.com  Thu Aug 22 12:36:23 2002\""
      ]
     },
     "metadata": {},
     "output_type": "display_data"
    }
   ],
   "source": [
    "largeNum = 10000\n",
    "\n",
    "print(sum(smallNums), digits = 20)\n",
    "\n",
    "print(largeNum + sum(smallNums), digits = 20)\n",
    "\n",
    "for (i in 1:length(smallNums)) {\n",
    "  largeNum = largeNum + smallNums[i]\n",
    "}\n",
    "print(largeNum, digits = 20)\n",
    "\n",
    "sampleSplit = lapply(sampleEmail, splitMessage)\n",
    "\n",
    "header = sampleSplit[[1]]$header\n",
    "header[1:12]\n",
    "\n",
    "header[1] = sub(\"^From\", \"Top-From:\", header[1])\n",
    "header[1]"
   ]
  },
  {
   "cell_type": "code",
   "execution_count": 25,
   "metadata": {},
   "outputs": [
    {
     "data": {
      "text/html": [
       "<ol>\n",
       "\t<li><ol class=list-inline>\n",
       "\t<li>'zzzz@localhost.netnoteinc.com'</li>\n",
       "\t<li>'exmh-workers@listman.spamassassin.taint.org'</li>\n",
       "</ol>\n",
       "</li>\n",
       "</ol>\n"
      ],
      "text/latex": [
       "\\begin{enumerate}\n",
       "\\item \\begin{enumerate*}\n",
       "\\item 'zzzz@localhost.netnoteinc.com'\n",
       "\\item 'exmh-workers@listman.spamassassin.taint.org'\n",
       "\\end{enumerate*}\n",
       "\n",
       "\\end{enumerate}\n"
      ],
      "text/markdown": [
       "1. 1. 'zzzz@localhost.netnoteinc.com'\n",
       "2. 'exmh-workers@listman.spamassassin.taint.org'\n",
       "\n",
       "\n",
       "\n",
       "\n",
       "\n"
      ],
      "text/plain": [
       "[[1]]\n",
       "[1] \"zzzz@localhost.netnoteinc.com\"              \n",
       "[2] \"exmh-workers@listman.spamassassin.taint.org\"\n"
      ]
     },
     "metadata": {},
     "output_type": "display_data"
    },
    {
     "data": {
      "text/html": [
       "<dl class=dl-horizontal>\n",
       "\t<dt>Delivered-To</dt>\n",
       "\t\t<dd>'zzzz@localhost.netnoteinc.com'</dd>\n",
       "\t<dt>Delivered-To</dt>\n",
       "\t\t<dd>'exmh-workers@listman.spamassassin.taint.org'</dd>\n",
       "</dl>\n"
      ],
      "text/latex": [
       "\\begin{description*}\n",
       "\\item[Delivered-To] 'zzzz@localhost.netnoteinc.com'\n",
       "\\item[Delivered-To] 'exmh-workers@listman.spamassassin.taint.org'\n",
       "\\end{description*}\n"
      ],
      "text/markdown": [
       "Delivered-To\n",
       ":   'zzzz@localhost.netnoteinc.com'Delivered-To\n",
       ":   'exmh-workers@listman.spamassassin.taint.org'\n",
       "\n"
      ],
      "text/plain": [
       "                                 Delivered-To \n",
       "              \"zzzz@localhost.netnoteinc.com\" \n",
       "                                 Delivered-To \n",
       "\"exmh-workers@listman.spamassassin.taint.org\" "
      ]
     },
     "metadata": {},
     "output_type": "display_data"
    },
    {
     "data": {
      "text/html": [
       "36"
      ],
      "text/latex": [
       "36"
      ],
      "text/markdown": [
       "36"
      ],
      "text/plain": [
       "[1] 36"
      ]
     },
     "metadata": {},
     "output_type": "display_data"
    },
    {
     "data": {
      "text/html": [
       "26"
      ],
      "text/latex": [
       "26"
      ],
      "text/markdown": [
       "26"
      ],
      "text/plain": [
       "[1] 26"
      ]
     },
     "metadata": {},
     "output_type": "display_data"
    }
   ],
   "source": [
    "headerPieces = read.dcf(textConnection(header), all = TRUE)\n",
    "\n",
    "headerPieces[, \"Delivered-To\"]\n",
    "\n",
    "\n",
    "headerVec = unlist(headerPieces)\n",
    "dupKeys = sapply(headerPieces, function(x) length(unlist(x)))\n",
    "names(headerVec) = rep(colnames(headerPieces), dupKeys)\n",
    "\n",
    "headerVec[ which(names(headerVec) == \"Delivered-To\") ]\n",
    "\n",
    "length(headerVec)\n",
    "\n",
    "length(unique(names(headerVec)))\n",
    "\n",
    "processHeader = function(header)\n",
    "{\n",
    "       # modify the first line to create a key:value pair\n",
    "  header[1] = sub(\"^From\", \"Top-From:\", header[1])\n",
    "  \n",
    "  headerMat = read.dcf(textConnection(header), all = TRUE)\n",
    "  headerVec = unlist(headerMat)\n",
    "  \n",
    "  dupKeys = sapply(headerMat, function(x) length(unlist(x)))\n",
    "  names(headerVec) = rep(colnames(headerMat), dupKeys)\n",
    "  \n",
    "  return(headerVec)\n",
    "}\n"
   ]
  },
  {
   "cell_type": "code",
   "execution_count": 26,
   "metadata": {},
   "outputs": [
    {
     "data": {
      "text/html": [
       "<ol class=list-inline>\n",
       "\t<li>'text/plain; charset=us-ascii'</li>\n",
       "\t<li>'text/plain; charset=US-ASCII'</li>\n",
       "\t<li>'text/plain; charset=US-ASCII'</li>\n",
       "\t<li>'text/plain; charset=\"us-ascii\"'</li>\n",
       "\t<li>'text/plain; charset=US-ASCII'</li>\n",
       "\t<li>'multipart/signed;\\nboundary=\"==_Exmh_-1317289252P\";\\nmicalg=pgp-sha1;\\nprotocol=\"application/pgp-signature\"'</li>\n",
       "\t<li>NA</li>\n",
       "\t<li>'multipart/alternative;\\nboundary=\"----=_NextPart_000_00C1_01C25017.F2F04E20\"'</li>\n",
       "\t<li>'multipart/alternative; boundary=Apple-Mail-2-874629474'</li>\n",
       "\t<li>'multipart/signed;\\nboundary=\"==_Exmh_-518574644P\";\\nmicalg=pgp-sha1;\\nprotocol=\"application/pgp-signature\"'</li>\n",
       "\t<li>'multipart/related;\\nboundary=\"------------090602010909000705010009\"'</li>\n",
       "\t<li>'multipart/signed;\\nboundary=\"==_Exmh_-451422450P\";\\nmicalg=pgp-sha1;\\nprotocol=\"application/pgp-signature\"'</li>\n",
       "\t<li>'multipart/signed;\\nboundary=\"==_Exmh_267413022P\";\\nmicalg=pgp-sha1;\\nprotocol=\"application/pgp-signature\"'</li>\n",
       "\t<li>'multipart/mixed;\\nboundary=\"----=_NextPart_000_0005_01C26412.7545C1D0\"'</li>\n",
       "\t<li>'multipart/alternative;\\nboundary=\"------------080209060700030309080805\"'</li>\n",
       "</ol>\n"
      ],
      "text/latex": [
       "\\begin{enumerate*}\n",
       "\\item 'text/plain; charset=us-ascii'\n",
       "\\item 'text/plain; charset=US-ASCII'\n",
       "\\item 'text/plain; charset=US-ASCII'\n",
       "\\item 'text/plain; charset=\"us-ascii\"'\n",
       "\\item 'text/plain; charset=US-ASCII'\n",
       "\\item 'multipart/signed;\\textbackslash{}nboundary=\"==\\_Exmh\\_-1317289252P\";\\textbackslash{}nmicalg=pgp-sha1;\\textbackslash{}nprotocol=\"application/pgp-signature\"'\n",
       "\\item NA\n",
       "\\item 'multipart/alternative;\\textbackslash{}nboundary=\"----=\\_NextPart\\_000\\_00C1\\_01C25017.F2F04E20\"'\n",
       "\\item 'multipart/alternative; boundary=Apple-Mail-2-874629474'\n",
       "\\item 'multipart/signed;\\textbackslash{}nboundary=\"==\\_Exmh\\_-518574644P\";\\textbackslash{}nmicalg=pgp-sha1;\\textbackslash{}nprotocol=\"application/pgp-signature\"'\n",
       "\\item 'multipart/related;\\textbackslash{}nboundary=\"------------090602010909000705010009\"'\n",
       "\\item 'multipart/signed;\\textbackslash{}nboundary=\"==\\_Exmh\\_-451422450P\";\\textbackslash{}nmicalg=pgp-sha1;\\textbackslash{}nprotocol=\"application/pgp-signature\"'\n",
       "\\item 'multipart/signed;\\textbackslash{}nboundary=\"==\\_Exmh\\_267413022P\";\\textbackslash{}nmicalg=pgp-sha1;\\textbackslash{}nprotocol=\"application/pgp-signature\"'\n",
       "\\item 'multipart/mixed;\\textbackslash{}nboundary=\"----=\\_NextPart\\_000\\_0005\\_01C26412.7545C1D0\"'\n",
       "\\item 'multipart/alternative;\\textbackslash{}nboundary=\"------------080209060700030309080805\"'\n",
       "\\end{enumerate*}\n"
      ],
      "text/markdown": [
       "1. 'text/plain; charset=us-ascii'\n",
       "2. 'text/plain; charset=US-ASCII'\n",
       "3. 'text/plain; charset=US-ASCII'\n",
       "4. 'text/plain; charset=\"us-ascii\"'\n",
       "5. 'text/plain; charset=US-ASCII'\n",
       "6. 'multipart/signed;\\nboundary=\"==_Exmh_-1317289252P\";\\nmicalg=pgp-sha1;\\nprotocol=\"application/pgp-signature\"'\n",
       "7. NA\n",
       "8. 'multipart/alternative;\\nboundary=\"----=_NextPart_000_00C1_01C25017.F2F04E20\"'\n",
       "9. 'multipart/alternative; boundary=Apple-Mail-2-874629474'\n",
       "10. 'multipart/signed;\\nboundary=\"==_Exmh_-518574644P\";\\nmicalg=pgp-sha1;\\nprotocol=\"application/pgp-signature\"'\n",
       "11. 'multipart/related;\\nboundary=\"------------090602010909000705010009\"'\n",
       "12. 'multipart/signed;\\nboundary=\"==_Exmh_-451422450P\";\\nmicalg=pgp-sha1;\\nprotocol=\"application/pgp-signature\"'\n",
       "13. 'multipart/signed;\\nboundary=\"==_Exmh_267413022P\";\\nmicalg=pgp-sha1;\\nprotocol=\"application/pgp-signature\"'\n",
       "14. 'multipart/mixed;\\nboundary=\"----=_NextPart_000_0005_01C26412.7545C1D0\"'\n",
       "15. 'multipart/alternative;\\nboundary=\"------------080209060700030309080805\"'\n",
       "\n",
       "\n"
      ],
      "text/plain": [
       " [1] \"text/plain; charset=us-ascii\"                                                                                   \n",
       " [2] \"text/plain; charset=US-ASCII\"                                                                                   \n",
       " [3] \"text/plain; charset=US-ASCII\"                                                                                   \n",
       " [4] \"text/plain; charset=\\\"us-ascii\\\"\"                                                                               \n",
       " [5] \"text/plain; charset=US-ASCII\"                                                                                   \n",
       " [6] \"multipart/signed;\\nboundary=\\\"==_Exmh_-1317289252P\\\";\\nmicalg=pgp-sha1;\\nprotocol=\\\"application/pgp-signature\\\"\"\n",
       " [7] NA                                                                                                               \n",
       " [8] \"multipart/alternative;\\nboundary=\\\"----=_NextPart_000_00C1_01C25017.F2F04E20\\\"\"                                 \n",
       " [9] \"multipart/alternative; boundary=Apple-Mail-2-874629474\"                                                         \n",
       "[10] \"multipart/signed;\\nboundary=\\\"==_Exmh_-518574644P\\\";\\nmicalg=pgp-sha1;\\nprotocol=\\\"application/pgp-signature\\\"\" \n",
       "[11] \"multipart/related;\\nboundary=\\\"------------090602010909000705010009\\\"\"                                          \n",
       "[12] \"multipart/signed;\\nboundary=\\\"==_Exmh_-451422450P\\\";\\nmicalg=pgp-sha1;\\nprotocol=\\\"application/pgp-signature\\\"\" \n",
       "[13] \"multipart/signed;\\nboundary=\\\"==_Exmh_267413022P\\\";\\nmicalg=pgp-sha1;\\nprotocol=\\\"application/pgp-signature\\\"\"  \n",
       "[14] \"multipart/mixed;\\nboundary=\\\"----=_NextPart_000_0005_01C26412.7545C1D0\\\"\"                                       \n",
       "[15] \"multipart/alternative;\\nboundary=\\\"------------080209060700030309080805\\\"\"                                      "
      ]
     },
     "metadata": {},
     "output_type": "display_data"
    },
    {
     "data": {
      "text/html": [
       "<ol class=list-inline>\n",
       "\t<li>6</li>\n",
       "\t<li>8</li>\n",
       "\t<li>9</li>\n",
       "\t<li>10</li>\n",
       "\t<li>11</li>\n",
       "\t<li>12</li>\n",
       "\t<li>13</li>\n",
       "\t<li>14</li>\n",
       "\t<li>15</li>\n",
       "</ol>\n"
      ],
      "text/latex": [
       "\\begin{enumerate*}\n",
       "\\item 6\n",
       "\\item 8\n",
       "\\item 9\n",
       "\\item 10\n",
       "\\item 11\n",
       "\\item 12\n",
       "\\item 13\n",
       "\\item 14\n",
       "\\item 15\n",
       "\\end{enumerate*}\n"
      ],
      "text/markdown": [
       "1. 6\n",
       "2. 8\n",
       "3. 9\n",
       "4. 10\n",
       "5. 11\n",
       "6. 12\n",
       "7. 13\n",
       "8. 14\n",
       "9. 15\n",
       "\n",
       "\n"
      ],
      "text/plain": [
       "[1]  6  8  9 10 11 12 13 14 15"
      ]
     },
     "metadata": {},
     "output_type": "display_data"
    },
    {
     "data": {
      "text/html": [
       "<ol class=list-inline>\n",
       "\t<li>'==_Exmh_-1317289252P'</li>\n",
       "\t<li>'----=_NextPart_000_00C1_01C25017.F2F04E20'</li>\n",
       "\t<li>'Apple-Mail-2-874629474'</li>\n",
       "\t<li>'==_Exmh_-518574644P'</li>\n",
       "\t<li>'------------090602010909000705010009'</li>\n",
       "\t<li>'==_Exmh_-451422450P'</li>\n",
       "\t<li>'==_Exmh_267413022P'</li>\n",
       "\t<li>'----=_NextPart_000_0005_01C26412.7545C1D0'</li>\n",
       "\t<li>'------------080209060700030309080805'</li>\n",
       "</ol>\n"
      ],
      "text/latex": [
       "\\begin{enumerate*}\n",
       "\\item '==\\_Exmh\\_-1317289252P'\n",
       "\\item '----=\\_NextPart\\_000\\_00C1\\_01C25017.F2F04E20'\n",
       "\\item 'Apple-Mail-2-874629474'\n",
       "\\item '==\\_Exmh\\_-518574644P'\n",
       "\\item '------------090602010909000705010009'\n",
       "\\item '==\\_Exmh\\_-451422450P'\n",
       "\\item '==\\_Exmh\\_267413022P'\n",
       "\\item '----=\\_NextPart\\_000\\_0005\\_01C26412.7545C1D0'\n",
       "\\item '------------080209060700030309080805'\n",
       "\\end{enumerate*}\n"
      ],
      "text/markdown": [
       "1. '==_Exmh_-1317289252P'\n",
       "2. '----=_NextPart_000_00C1_01C25017.F2F04E20'\n",
       "3. 'Apple-Mail-2-874629474'\n",
       "4. '==_Exmh_-518574644P'\n",
       "5. '------------090602010909000705010009'\n",
       "6. '==_Exmh_-451422450P'\n",
       "7. '==_Exmh_267413022P'\n",
       "8. '----=_NextPart_000_0005_01C26412.7545C1D0'\n",
       "9. '------------080209060700030309080805'\n",
       "\n",
       "\n"
      ],
      "text/plain": [
       "[1] \"==_Exmh_-1317289252P\"                     \n",
       "[2] \"----=_NextPart_000_00C1_01C25017.F2F04E20\"\n",
       "[3] \"Apple-Mail-2-874629474\"                   \n",
       "[4] \"==_Exmh_-518574644P\"                      \n",
       "[5] \"------------090602010909000705010009\"     \n",
       "[6] \"==_Exmh_-451422450P\"                      \n",
       "[7] \"==_Exmh_267413022P\"                       \n",
       "[8] \"----=_NextPart_000_0005_01C26412.7545C1D0\"\n",
       "[9] \"------------080209060700030309080805\"     "
      ]
     },
     "metadata": {},
     "output_type": "display_data"
    },
    {
     "data": {
      "text/html": [
       "<ol class=list-inline>\n",
       "\t<li>2</li>\n",
       "\t<li>35</li>\n",
       "</ol>\n"
      ],
      "text/latex": [
       "\\begin{enumerate*}\n",
       "\\item 2\n",
       "\\item 35\n",
       "\\end{enumerate*}\n"
      ],
      "text/markdown": [
       "1. 2\n",
       "2. 35\n",
       "\n",
       "\n"
      ],
      "text/plain": [
       "[1]  2 35"
      ]
     },
     "metadata": {},
     "output_type": "display_data"
    },
    {
     "data": {
      "text/html": [
       "77"
      ],
      "text/latex": [
       "77"
      ],
      "text/markdown": [
       "77"
      ],
      "text/plain": [
       "[1] 77"
      ]
     },
     "metadata": {},
     "output_type": "display_data"
    },
    {
     "data": {
      "text/html": [
       "42"
      ],
      "text/latex": [
       "42"
      ],
      "text/markdown": [
       "42"
      ],
      "text/plain": [
       "[1] 42"
      ]
     },
     "metadata": {},
     "output_type": "display_data"
    }
   ],
   "source": [
    "headerList = lapply(sampleSplit, \n",
    "                    function(msg) {\n",
    "                      processHeader(msg$header)} )\n",
    "\n",
    "contentTypes = sapply(headerList, function(header) \n",
    "                                        header[\"Content-Type\"])\n",
    "names(contentTypes) = NULL\n",
    "contentTypes\n",
    "\n",
    "hasAttach = grep(\"^ *multi\", tolower(contentTypes))\n",
    "hasAttach\n",
    "\n",
    "boundaries = getBoundary(contentTypes[ hasAttach ])\n",
    "boundaries\n",
    "\n",
    "boundary = boundaries[9]\n",
    "body = sampleSplit[[15]]$body\n",
    "\n",
    "bString = paste(\"--\", boundary, sep = \"\")\n",
    "bStringLocs = which(bString == body)\n",
    "bStringLocs\n",
    "\n",
    "eString = paste(\"--\", boundary, \"--\", sep = \"\")\n",
    "eStringLoc = which(eString == body)\n",
    "eStringLoc\n",
    "\n",
    "diff(c(bStringLocs[-1], eStringLoc))"
   ]
  },
  {
   "cell_type": "code",
   "execution_count": 27,
   "metadata": {},
   "outputs": [],
   "source": [
    "### This code has mistakes in it - and we fix them later!\n",
    "processAttach = function(body, contentType){\n",
    "  \n",
    "  boundary = getBoundary(contentType)\n",
    "  \n",
    "  bString = paste(\"--\", boundary, \"$\", sep = \"\")\n",
    "  bStringLocs = grep(bString, body)\n",
    "  \n",
    "  eString = paste(\"--\", boundary, \"--$\", sep = \"\")\n",
    "  eStringLoc = grep(eString, body)\n",
    "  \n",
    "  n = length(body)\n",
    "  \n",
    "  if (length(eStringLoc) == 0) eStringLoc = n + 1\n",
    "  if (length(bStringLocs) == 1) attachLocs = NULL\n",
    "  else attachLocs = c(bStringLocs[-1],  eStringLoc)\n",
    "  \n",
    "  msg = body[ (bStringLocs[1] + 1) : min(n, (bStringLocs[2] - 1), \n",
    "                                         na.rm = TRUE)]\n",
    "  \n",
    "  if ( eStringLoc < n )\n",
    "    msg = c(msg, body[ (eStringLoc + 1) : n ])\n",
    "  \n",
    "  if ( !is.null(attachLocs) ) {\n",
    "    attachLens = diff(attachLocs, lag = 1) \n",
    "    attachTypes = mapply(function(begL, endL) {\n",
    "      contentTypeLoc = grep(\"[Cc]ontent-[Tt]ype\", body[ (begL + 1) : (endL - 1)])\n",
    "      contentType = body[ begL + contentTypeLoc]\n",
    "      contentType = gsub('\"', \"\", contentType )\n",
    "      MIMEType = sub(\" *Content-Type: *([^;]*);?.*\", \"\\\\1\", contentType)\n",
    "      return(MIMEType)\n",
    "    }, attachLocs[-length(attachLocs)], attachLocs[-1])\n",
    "  }\n",
    "  \n",
    "  if (is.null(attachLocs)) return(list(body = msg, attachInfo = NULL) )\n",
    "  else return(list(body = msg, \n",
    "                   attachDF = data.frame(aLen = attachLens, \n",
    "                                         aType = attachTypes,\n",
    "                                         stringsAsFactors = FALSE)))                                \n",
    "}\n"
   ]
  },
  {
   "cell_type": "code",
   "execution_count": 28,
   "metadata": {},
   "outputs": [
    {
     "data": {
      "text/html": [
       "<dl>\n",
       "\t<dt>$`./From 2ds/messages/easy_ham/00014.cb20e10b2bfcb8210a1c310798532a57`</dt>\n",
       "\t\t<dd>12</dd>\n",
       "\t<dt>$`./From 2ds/messages/easy_ham/00062.009f5a1a8fa88f0b38299ad01562bb37`</dt>\n",
       "\t\t<dd><ol class=list-inline>\n",
       "\t<li>44</li>\n",
       "\t<li>44</li>\n",
       "</ol>\n",
       "</dd>\n",
       "\t<dt>$`./From 2ds/messages/easy_ham/00063.0acbc484a73f0e0b727e06c100d8df7b`</dt>\n",
       "\t\t<dd>83</dd>\n",
       "\t<dt>$`./From 2ds/messages/easy_ham/0030.77828e31de08ebb58b583688b87524cc`</dt>\n",
       "\t\t<dd>12</dd>\n",
       "\t<dt>$`./From 2ds/messages/easy_ham/00368.f86324a03e7ae7070cc40f302385f5d3`</dt>\n",
       "\t\t<dd>NULL</dd>\n",
       "\t<dt>$`./From 2ds/messages/easy_ham/00389.8606961eaeef7b921ce1c53773248d69`</dt>\n",
       "\t\t<dd>12</dd>\n",
       "</dl>\n"
      ],
      "text/latex": [
       "\\begin{description}\n",
       "\\item[\\$`./From 2ds/messages/easy\\_ham/00014.cb20e10b2bfcb8210a1c310798532a57`] 12\n",
       "\\item[\\$`./From 2ds/messages/easy\\_ham/00062.009f5a1a8fa88f0b38299ad01562bb37`] \\begin{enumerate*}\n",
       "\\item 44\n",
       "\\item 44\n",
       "\\end{enumerate*}\n",
       "\n",
       "\\item[\\$`./From 2ds/messages/easy\\_ham/00063.0acbc484a73f0e0b727e06c100d8df7b`] 83\n",
       "\\item[\\$`./From 2ds/messages/easy\\_ham/0030.77828e31de08ebb58b583688b87524cc`] 12\n",
       "\\item[\\$`./From 2ds/messages/easy\\_ham/00368.f86324a03e7ae7070cc40f302385f5d3`] NULL\n",
       "\\item[\\$`./From 2ds/messages/easy\\_ham/00389.8606961eaeef7b921ce1c53773248d69`] 12\n",
       "\\end{description}\n"
      ],
      "text/markdown": [
       "$`./From 2ds/messages/easy_ham/00014.cb20e10b2bfcb8210a1c310798532a57`\n",
       ":   12\n",
       "$`./From 2ds/messages/easy_ham/00062.009f5a1a8fa88f0b38299ad01562bb37`\n",
       ":   1. 44\n",
       "2. 44\n",
       "\n",
       "\n",
       "\n",
       "$`./From 2ds/messages/easy_ham/00063.0acbc484a73f0e0b727e06c100d8df7b`\n",
       ":   83\n",
       "$`./From 2ds/messages/easy_ham/0030.77828e31de08ebb58b583688b87524cc`\n",
       ":   12\n",
       "$`./From 2ds/messages/easy_ham/00368.f86324a03e7ae7070cc40f302385f5d3`\n",
       ":   NULL\n",
       "$`./From 2ds/messages/easy_ham/00389.8606961eaeef7b921ce1c53773248d69`\n",
       ":   12\n",
       "\n",
       "\n"
      ],
      "text/plain": [
       "$`./From 2ds/messages/easy_ham/00014.cb20e10b2bfcb8210a1c310798532a57`\n",
       "[1] 12\n",
       "\n",
       "$`./From 2ds/messages/easy_ham/00062.009f5a1a8fa88f0b38299ad01562bb37`\n",
       "[1] 44 44\n",
       "\n",
       "$`./From 2ds/messages/easy_ham/00063.0acbc484a73f0e0b727e06c100d8df7b`\n",
       "[1] 83\n",
       "\n",
       "$`./From 2ds/messages/easy_ham/0030.77828e31de08ebb58b583688b87524cc`\n",
       "[1] 12\n",
       "\n",
       "$`./From 2ds/messages/easy_ham/00368.f86324a03e7ae7070cc40f302385f5d3`\n",
       "NULL\n",
       "\n",
       "$`./From 2ds/messages/easy_ham/00389.8606961eaeef7b921ce1c53773248d69`\n",
       "[1] 12\n"
      ]
     },
     "metadata": {},
     "output_type": "display_data"
    },
    {
     "data": {
      "text/html": [
       "<table>\n",
       "<caption>A data.frame: 2 × 2</caption>\n",
       "<thead>\n",
       "\t<tr><th scope=col>aLen</th><th scope=col>aType</th></tr>\n",
       "\t<tr><th scope=col>&lt;int&gt;</th><th scope=col>&lt;chr&gt;</th></tr>\n",
       "</thead>\n",
       "<tbody>\n",
       "\t<tr><td>44</td><td>text/html                                             </td></tr>\n",
       "\t<tr><td>44</td><td>&lt;META http-equiv=3DContent-Type content=3Dtext/html; =</td></tr>\n",
       "</tbody>\n",
       "</table>\n"
      ],
      "text/latex": [
       "A data.frame: 2 × 2\n",
       "\\begin{tabular}{ll}\n",
       " aLen & aType\\\\\n",
       " <int> & <chr>\\\\\n",
       "\\hline\n",
       "\t 44 & text/html                                             \\\\\n",
       "\t 44 & <META http-equiv=3DContent-Type content=3Dtext/html; =\\\\\n",
       "\\end{tabular}\n"
      ],
      "text/markdown": [
       "\n",
       "A data.frame: 2 × 2\n",
       "\n",
       "| aLen &lt;int&gt; | aType &lt;chr&gt; |\n",
       "|---|---|\n",
       "| 44 | text/html                                              |\n",
       "| 44 | &lt;META http-equiv=3DContent-Type content=3Dtext/html; = |\n",
       "\n"
      ],
      "text/plain": [
       "  aLen aType                                                 \n",
       "1 44   text/html                                             \n",
       "2 44   <META http-equiv=3DContent-Type content=3Dtext/html; ="
      ]
     },
     "metadata": {},
     "output_type": "display_data"
    },
    {
     "data": {
      "text/html": [
       "86"
      ],
      "text/latex": [
       "86"
      ],
      "text/markdown": [
       "86"
      ],
      "text/plain": [
       "[1] 86"
      ]
     },
     "metadata": {},
     "output_type": "display_data"
    },
    {
     "data": {
      "text/html": [
       "<ol class=list-inline>\n",
       "\t<li>''</li>\n",
       "\t<li>'------=_NextPart_000_00C1_01C25017.F2F04E20'</li>\n",
       "\t<li>'Content-Type: text/html;'</li>\n",
       "\t<li>'\\tcharset=\"Windows-1252\"'</li>\n",
       "\t<li>'Content-Transfer-Encoding: quoted-printable'</li>\n",
       "\t<li>''</li>\n",
       "\t<li>'&lt;!DOCTYPE HTML PUBLIC \"-//W3C//DTD HTML 4.0 Transitional//EN\"&gt;'</li>\n",
       "\t<li>'&lt;HTML&gt;&lt;HEAD&gt;'</li>\n",
       "\t<li>'&lt;META http-equiv=3DContent-Type content=3D\"text/html; ='</li>\n",
       "\t<li>'charset=3Dwindows-1252\"&gt;'</li>\n",
       "\t<li>'&lt;META content=3D\"MSHTML 6.00.2716.2200\" name=3DGENERATOR&gt;'</li>\n",
       "</ol>\n"
      ],
      "text/latex": [
       "\\begin{enumerate*}\n",
       "\\item ''\n",
       "\\item '------=\\_NextPart\\_000\\_00C1\\_01C25017.F2F04E20'\n",
       "\\item 'Content-Type: text/html;'\n",
       "\\item '\\textbackslash{}tcharset=\"Windows-1252\"'\n",
       "\\item 'Content-Transfer-Encoding: quoted-printable'\n",
       "\\item ''\n",
       "\\item '<!DOCTYPE HTML PUBLIC \"-//W3C//DTD HTML 4.0 Transitional//EN\">'\n",
       "\\item '<HTML><HEAD>'\n",
       "\\item '<META http-equiv=3DContent-Type content=3D\"text/html; ='\n",
       "\\item 'charset=3Dwindows-1252\">'\n",
       "\\item '<META content=3D\"MSHTML 6.00.2716.2200\" name=3DGENERATOR>'\n",
       "\\end{enumerate*}\n"
      ],
      "text/markdown": [
       "1. ''\n",
       "2. '------=_NextPart_000_00C1_01C25017.F2F04E20'\n",
       "3. 'Content-Type: text/html;'\n",
       "4. '\\tcharset=\"Windows-1252\"'\n",
       "5. 'Content-Transfer-Encoding: quoted-printable'\n",
       "6. ''\n",
       "7. '&lt;!DOCTYPE HTML PUBLIC \"-//W3C//DTD HTML 4.0 Transitional//EN\"&gt;'\n",
       "8. '&lt;HTML&gt;&lt;HEAD&gt;'\n",
       "9. '&lt;META http-equiv=3DContent-Type content=3D\"text/html; ='\n",
       "10. 'charset=3Dwindows-1252\"&gt;'\n",
       "11. '&lt;META content=3D\"MSHTML 6.00.2716.2200\" name=3DGENERATOR&gt;'\n",
       "\n",
       "\n"
      ],
      "text/plain": [
       " [1] \"\"                                                                \n",
       " [2] \"------=_NextPart_000_00C1_01C25017.F2F04E20\"                     \n",
       " [3] \"Content-Type: text/html;\"                                        \n",
       " [4] \"\\tcharset=\\\"Windows-1252\\\"\"                                       \n",
       " [5] \"Content-Transfer-Encoding: quoted-printable\"                     \n",
       " [6] \"\"                                                                \n",
       " [7] \"<!DOCTYPE HTML PUBLIC \\\"-//W3C//DTD HTML 4.0 Transitional//EN\\\">\"\n",
       " [8] \"<HTML><HEAD>\"                                                    \n",
       " [9] \"<META http-equiv=3DContent-Type content=3D\\\"text/html; =\"        \n",
       "[10] \"charset=3Dwindows-1252\\\">\"                                       \n",
       "[11] \"<META content=3D\\\"MSHTML 6.00.2716.2200\\\" name=3DGENERATOR>\"     "
      ]
     },
     "metadata": {},
     "output_type": "display_data"
    }
   ],
   "source": [
    "bodyList = lapply(sampleSplit, function(msg) msg$body)\n",
    "attList = mapply(processAttach, bodyList[hasAttach], \n",
    "                 contentTypes[hasAttach], \n",
    "                 SIMPLIFY = FALSE)\n",
    "\n",
    "lens = sapply(attList, function(processedA) \n",
    "                           processedA$attachDF$aLen)\n",
    "head(lens)  # will cause an error with the first message. its ok.\n",
    "attList[[2]]$attachDF\n",
    "\n",
    "body = bodyList[hasAttach][[2]]\n",
    "length(body)\n",
    "\n",
    "body[35:45]"
   ]
  },
  {
   "cell_type": "code",
   "execution_count": 29,
   "metadata": {},
   "outputs": [],
   "source": [
    "processAttach = function(body, contentType){\n",
    "\n",
    "  n = length(body)\n",
    "  boundary = getBoundary(contentType)\n",
    " \n",
    "  bString = paste(\"--\", boundary, sep = \"\")\n",
    "  bStringLocs = which(bString == body)\n",
    "  eString = paste(\"--\", boundary, \"--\", sep = \"\")\n",
    "  eStringLoc = which(eString == body)\n",
    "  \n",
    "  if (length(eStringLoc) == 0) eStringLoc = n\n",
    "  if (length(bStringLocs) <= 1) {\n",
    "    attachLocs = NULL\n",
    "    msgLastLine = n\n",
    "    if (length(bStringLocs) == 0) bStringLocs = 0\n",
    "  } else {\n",
    "    attachLocs = c(bStringLocs[ -1 ],  eStringLoc)\n",
    "    msgLastLine = bStringLocs[2] - 1\n",
    "  }\n",
    "  \n",
    "  msg = body[ (bStringLocs[1] + 1) : msgLastLine] \n",
    "  if ( eStringLoc < n )\n",
    "    msg = c(msg, body[ (eStringLoc + 1) : n ])\n",
    "  \n",
    "  if ( !is.null(attachLocs) ) {\n",
    "    attachLens = diff(attachLocs, lag = 1) \n",
    "    attachTypes = mapply(function(begL, endL) {\n",
    "      CTloc = grep(\"^[Cc]ontent-[Tt]ype\", body[ (begL + 1) : (endL - 1)])\n",
    "      if ( length(CTloc) == 0 ) {\n",
    "        MIMEType = NA\n",
    "      } else {\n",
    "        CTval = body[ begL + CTloc[1] ]\n",
    "        CTval = gsub('\"', \"\", CTval )\n",
    "        MIMEType = sub(\" *[Cc]ontent-[Tt]ype: *([^;]*);?.*\", \"\\\\1\", CTval)   \n",
    "      }\n",
    "      return(MIMEType)\n",
    "    }, attachLocs[-length(attachLocs)], attachLocs[-1])\n",
    "  }\n",
    "  \n",
    "  if (is.null(attachLocs)) return(list(body = msg, attachDF = NULL) )\n",
    "  return(list(body = msg, \n",
    "             attachDF = data.frame(aLen = attachLens, \n",
    "                                     aType = unlist(attachTypes),\n",
    "                                     stringsAsFactors = FALSE)))                                \n",
    "}                       \n",
    "\n",
    "readEmail = function(dirName) {\n",
    "       # retrieve the names of files in directory\n",
    "  fileNames = list.files(dirName, full.names = TRUE)\n",
    "       # drop files that are not email\n",
    "  notEmail = grep(\"cmds$\", fileNames)\n",
    "  if ( length(notEmail) > 0) fileNames = fileNames[ - notEmail ]\n",
    "\n",
    "       # read all files in the directory\n",
    "  lapply(fileNames, readLines, encoding = \"latin1\")\n",
    "}\n",
    "\n"
   ]
  },
  {
   "cell_type": "code",
   "execution_count": 30,
   "metadata": {},
   "outputs": [],
   "source": [
    "processAllEmail = function(dirName, isSpam = FALSE)\n",
    "{\n",
    "       # read all files in the directory\n",
    "  messages = readEmail(dirName)\n",
    "  fileNames = names(messages)\n",
    "  n = length(messages)\n",
    "  \n",
    "       # split header from body\n",
    "  eSplit = lapply(messages, splitMessage)\n",
    "  rm(messages)\n",
    "\n",
    "       # process header as named character vector\n",
    "  headerList = lapply(eSplit, function(msg) \n",
    "                                 processHeader(msg$header))\n",
    "  \n",
    "       # extract content-type key\n",
    "  contentTypes = sapply(headerList, function(header) \n",
    "                                       header[\"Content-Type\"])\n",
    "  \n",
    "       # extract the body\n",
    "  bodyList = lapply(eSplit, function(msg) msg$body)\n",
    "  rm(eSplit)\n",
    "\n",
    "       # which email have attachments\n",
    "  hasAttach = grep(\"^ *multi\", tolower(contentTypes))\n",
    "\n",
    "       # get summary stats for attachments and the shorter body\n",
    "  attList = mapply(processAttach, bodyList[hasAttach], \n",
    "                   contentTypes[hasAttach], SIMPLIFY = FALSE)\n",
    "  \n",
    "  bodyList[hasAttach] = lapply(attList, function(attEl) \n",
    "                                           attEl$body)\n",
    " \n",
    "  attachInfo = vector(\"list\", length = n )\n",
    "  attachInfo[ hasAttach ] = lapply(attList, \n",
    "                                  function(attEl) attEl$attachDF)\n",
    " \n",
    "       # prepare return structure\n",
    "  emailList = mapply(function(header, body, attach, isSpam) {\n",
    "                       list(isSpam = isSpam, header = header, \n",
    "                            body = body, attach = attach)\n",
    "                     },\n",
    "                     headerList, bodyList, attachInfo, \n",
    "                     rep(isSpam, n), SIMPLIFY = FALSE )\n",
    "  names(emailList) = fileNames\n",
    "  \n",
    "  invisible(emailList)\n",
    "}"
   ]
  },
  {
   "cell_type": "code",
   "execution_count": 31,
   "metadata": {},
   "outputs": [
    {
     "name": "stderr",
     "output_type": "stream",
     "text": [
      "Warning message in FUN(X[[i]], ...):\n",
      "\"incomplete final line found on './From 2ds/messages/hard_ham/00228.0eaef7857bbbf3ebf5edbbdae2b30493'\"\n",
      "Warning message in FUN(X[[i]], ...):\n",
      "\"incomplete final line found on './From 2ds/messages/hard_ham/0231.7c6cc716ce3f3bfad7130dd3c8d7b072'\"\n",
      "Warning message in FUN(X[[i]], ...):\n",
      "\"incomplete final line found on './From 2ds/messages/hard_ham/0250.7c6cc716ce3f3bfad7130dd3c8d7b072'\"\n",
      "Warning message in FUN(X[[i]], ...):\n",
      "\"incomplete final line found on './From 2ds/messages/spam/00136.faa39d8e816c70f23b4bb8758d8a74f0'\"\n",
      "Warning message in FUN(X[[i]], ...):\n",
      "\"incomplete final line found on './From 2ds/messages/spam/0143.260a940290dcb61f9327b224a368d4af'\"\n"
     ]
    },
    {
     "data": {
      "text/html": [
       "FALSE"
      ],
      "text/latex": [
       "FALSE"
      ],
      "text/markdown": [
       "FALSE"
      ],
      "text/plain": [
       "[1] FALSE"
      ]
     },
     "metadata": {},
     "output_type": "display_data"
    },
    {
     "data": {
      "text/html": [
       "<ol class=list-inline>\n",
       "\t<li>FALSE</li>\n",
       "\t<li>FALSE</li>\n",
       "\t<li>TRUE</li>\n",
       "</ol>\n"
      ],
      "text/latex": [
       "\\begin{enumerate*}\n",
       "\\item FALSE\n",
       "\\item FALSE\n",
       "\\item TRUE\n",
       "\\end{enumerate*}\n"
      ],
      "text/markdown": [
       "1. FALSE\n",
       "2. FALSE\n",
       "3. TRUE\n",
       "\n",
       "\n"
      ],
      "text/plain": [
       "[1] FALSE FALSE  TRUE"
      ]
     },
     "metadata": {},
     "output_type": "display_data"
    },
    {
     "data": {
      "text/html": [
       "<ol class=list-inline>\n",
       "\t<li>'DEARMADAME'</li>\n",
       "\t<li>'WINNER'</li>\n",
       "\t<li>''</li>\n",
       "</ol>\n"
      ],
      "text/latex": [
       "\\begin{enumerate*}\n",
       "\\item 'DEARMADAME'\n",
       "\\item 'WINNER'\n",
       "\\item ''\n",
       "\\end{enumerate*}\n"
      ],
      "text/markdown": [
       "1. 'DEARMADAME'\n",
       "2. 'WINNER'\n",
       "3. ''\n",
       "\n",
       "\n"
      ],
      "text/plain": [
       "[1] \"DEARMADAME\" \"WINNER\"     \"\"          "
      ]
     },
     "metadata": {},
     "output_type": "display_data"
    },
    {
     "data": {
      "text/html": [
       "<ol class=list-inline>\n",
       "\t<li>'DEARMADAME'</li>\n",
       "\t<li>'WINNER'</li>\n",
       "\t<li>''</li>\n",
       "</ol>\n"
      ],
      "text/latex": [
       "\\begin{enumerate*}\n",
       "\\item 'DEARMADAME'\n",
       "\\item 'WINNER'\n",
       "\\item ''\n",
       "\\end{enumerate*}\n"
      ],
      "text/markdown": [
       "1. 'DEARMADAME'\n",
       "2. 'WINNER'\n",
       "3. ''\n",
       "\n",
       "\n"
      ],
      "text/plain": [
       "[1] \"DEARMADAME\" \"WINNER\"     \"\"          "
      ]
     },
     "metadata": {},
     "output_type": "display_data"
    }
   ],
   "source": [
    "emailStruct = mapply(processAllEmail, fullDirNames,\n",
    "                     isSpam = rep( c(FALSE, TRUE), 3:2))      \n",
    "emailStruct = unlist(emailStruct, recursive = FALSE)\n",
    "\n",
    "sampleStruct = emailStruct[ indx ]\n",
    "\n",
    "save(emailStruct, file=\"emailXX.rda\")\n",
    "\n",
    "header = sampleStruct[[1]]$header\n",
    "subject = header[\"Subject\"]\n",
    "els = strsplit(subject, \"\")\n",
    "all(els %in% LETTERS)\n",
    "\n",
    "testSubject = c(\"DEAR MADAME\", \"WINNER!\", \"\")\n",
    "\n",
    "els = strsplit(testSubject, \"\")\n",
    "sapply(els, function(subject) all(subject %in% LETTERS))\n",
    "\n",
    "\n",
    "gsub(\"[[:punct:] ]\", \"\", testSubject)\n",
    "\n",
    "gsub(\"[^[:alpha:]]\", \"\", testSubject)\n"
   ]
  },
  {
   "cell_type": "code",
   "execution_count": 32,
   "metadata": {},
   "outputs": [],
   "source": [
    "isYelling = function(msg) {\n",
    "  if ( \"Subject\" %in% names(msg$header) ) {\n",
    "     el = gsub(\"[^[:alpha:]]\", \"\", msg$header[\"Subject\"])\n",
    "     if (nchar(el) > 0) \n",
    "        nchar(gsub(\"[A-Z]\", \"\", el)) < 1\n",
    "     else \n",
    "        FALSE\n",
    "  } else \n",
    "    NA\n",
    "}\n",
    "\n",
    "perCaps =\n",
    "function(msg)\n",
    "{\n",
    "  body = paste(msg$body, collapse = \"\")\n",
    "\n",
    "       # Return NA if the body of the message is \"empty\"\n",
    "  if(length(body) == 0 || nchar(body) == 0) return(NA)\n",
    "\n",
    "       # Eliminate non-alpha characters\n",
    "  body = gsub(\"[^[:alpha:]]\", \"\", body)\n",
    "  capText = gsub(\"[^A-Z]\", \"\", body)\n",
    "  100 * nchar(capText)/nchar(body)\n",
    "}\n"
   ]
  },
  {
   "cell_type": "code",
   "execution_count": 33,
   "metadata": {},
   "outputs": [
    {
     "data": {
      "text/html": [
       "<dl class=dl-horizontal>\n",
       "\t<dt>./From 2ds/messages/easy_ham1</dt>\n",
       "\t\t<dd>4.45103857566766</dd>\n",
       "\t<dt>./From 2ds/messages/easy_ham2</dt>\n",
       "\t\t<dd>7.49128919860627</dd>\n",
       "\t<dt>./From 2ds/messages/easy_ham3</dt>\n",
       "\t\t<dd>7.43609604957397</dd>\n",
       "\t<dt>./From 2ds/messages/easy_ham4</dt>\n",
       "\t\t<dd>5.09090909090909</dd>\n",
       "\t<dt>./From 2ds/messages/easy_ham5</dt>\n",
       "\t\t<dd>6.11664295874822</dd>\n",
       "\t<dt>./From 2ds/messages/easy_ham15</dt>\n",
       "\t\t<dd>7.73286467486819</dd>\n",
       "\t<dt>./From 2ds/messages/easy_ham27</dt>\n",
       "\t\t<dd>5.52325581395349</dd>\n",
       "\t<dt>./From 2ds/messages/easy_ham68</dt>\n",
       "\t\t<dd>10.0591715976331</dd>\n",
       "\t<dt>./From 2ds/messages/easy_ham69</dt>\n",
       "\t\t<dd>10.8858057630736</dd>\n",
       "\t<dt>./From 2ds/messages/easy_ham329</dt>\n",
       "\t\t<dd>6.47249190938511</dd>\n",
       "\t<dt>./From 2ds/messages/easy_ham404</dt>\n",
       "\t\t<dd>9.59725792630677</dd>\n",
       "\t<dt>./From 2ds/messages/easy_ham427</dt>\n",
       "\t\t<dd>11.9700748129676</dd>\n",
       "\t<dt>./From 2ds/messages/easy_ham516</dt>\n",
       "\t\t<dd>9.23379174852652</dd>\n",
       "\t<dt>./From 2ds/messages/easy_ham852</dt>\n",
       "\t\t<dd>1.65562913907285</dd>\n",
       "\t<dt>./From 2ds/messages/easy_ham971</dt>\n",
       "\t\t<dd>6.41791044776119</dd>\n",
       "</dl>\n"
      ],
      "text/latex": [
       "\\begin{description*}\n",
       "\\item[./From 2ds/messages/easy\\textbackslash{}\\_ham1] 4.45103857566766\n",
       "\\item[./From 2ds/messages/easy\\textbackslash{}\\_ham2] 7.49128919860627\n",
       "\\item[./From 2ds/messages/easy\\textbackslash{}\\_ham3] 7.43609604957397\n",
       "\\item[./From 2ds/messages/easy\\textbackslash{}\\_ham4] 5.09090909090909\n",
       "\\item[./From 2ds/messages/easy\\textbackslash{}\\_ham5] 6.11664295874822\n",
       "\\item[./From 2ds/messages/easy\\textbackslash{}\\_ham15] 7.73286467486819\n",
       "\\item[./From 2ds/messages/easy\\textbackslash{}\\_ham27] 5.52325581395349\n",
       "\\item[./From 2ds/messages/easy\\textbackslash{}\\_ham68] 10.0591715976331\n",
       "\\item[./From 2ds/messages/easy\\textbackslash{}\\_ham69] 10.8858057630736\n",
       "\\item[./From 2ds/messages/easy\\textbackslash{}\\_ham329] 6.47249190938511\n",
       "\\item[./From 2ds/messages/easy\\textbackslash{}\\_ham404] 9.59725792630677\n",
       "\\item[./From 2ds/messages/easy\\textbackslash{}\\_ham427] 11.9700748129676\n",
       "\\item[./From 2ds/messages/easy\\textbackslash{}\\_ham516] 9.23379174852652\n",
       "\\item[./From 2ds/messages/easy\\textbackslash{}\\_ham852] 1.65562913907285\n",
       "\\item[./From 2ds/messages/easy\\textbackslash{}\\_ham971] 6.41791044776119\n",
       "\\end{description*}\n"
      ],
      "text/markdown": [
       "./From 2ds/messages/easy_ham1\n",
       ":   4.45103857566766./From 2ds/messages/easy_ham2\n",
       ":   7.49128919860627./From 2ds/messages/easy_ham3\n",
       ":   7.43609604957397./From 2ds/messages/easy_ham4\n",
       ":   5.09090909090909./From 2ds/messages/easy_ham5\n",
       ":   6.11664295874822./From 2ds/messages/easy_ham15\n",
       ":   7.73286467486819./From 2ds/messages/easy_ham27\n",
       ":   5.52325581395349./From 2ds/messages/easy_ham68\n",
       ":   10.0591715976331./From 2ds/messages/easy_ham69\n",
       ":   10.8858057630736./From 2ds/messages/easy_ham329\n",
       ":   6.47249190938511./From 2ds/messages/easy_ham404\n",
       ":   9.59725792630677./From 2ds/messages/easy_ham427\n",
       ":   11.9700748129676./From 2ds/messages/easy_ham516\n",
       ":   9.23379174852652./From 2ds/messages/easy_ham852\n",
       ":   1.65562913907285./From 2ds/messages/easy_ham971\n",
       ":   6.41791044776119\n",
       "\n"
      ],
      "text/plain": [
       "  ./From 2ds/messages/easy_ham1   ./From 2ds/messages/easy_ham2 \n",
       "                       4.451039                        7.491289 \n",
       "  ./From 2ds/messages/easy_ham3   ./From 2ds/messages/easy_ham4 \n",
       "                       7.436096                        5.090909 \n",
       "  ./From 2ds/messages/easy_ham5  ./From 2ds/messages/easy_ham15 \n",
       "                       6.116643                        7.732865 \n",
       " ./From 2ds/messages/easy_ham27  ./From 2ds/messages/easy_ham68 \n",
       "                       5.523256                       10.059172 \n",
       " ./From 2ds/messages/easy_ham69 ./From 2ds/messages/easy_ham329 \n",
       "                      10.885806                        6.472492 \n",
       "./From 2ds/messages/easy_ham404 ./From 2ds/messages/easy_ham427 \n",
       "                       9.597258                       11.970075 \n",
       "./From 2ds/messages/easy_ham516 ./From 2ds/messages/easy_ham852 \n",
       "                       9.233792                        1.655629 \n",
       "./From 2ds/messages/easy_ham971 \n",
       "                       6.417910 "
      ]
     },
     "metadata": {},
     "output_type": "display_data"
    }
   ],
   "source": [
    "sapply(sampleStruct, perCaps)\n",
    "\n",
    "funcList = list( \n",
    " isRe = function(msg) {\n",
    "       \"Subject\" %in% names(msg$header) &&\n",
    "         length(grep(\"^[ \\t]*Re:\", msg$header[[\"Subject\"]])) > 0\n",
    "  },\n",
    "  numLines = function(msg) \n",
    "                length(msg$body),\n",
    "  isYelling = function(msg) {\n",
    "    if ( \"Subject\" %in% names(msg$header) ) {\n",
    "       el = gsub(\"[^[:alpha:]]\", \"\", msg$header[\"Subject\"])\n",
    "       if (nchar(el) > 0) \n",
    "         nchar(gsub(\"[A-Z]\", \"\", el)) < 1\n",
    "       else \n",
    "         FALSE\n",
    "    }\n",
    "    else NA\n",
    "  },\n",
    "  perCaps = function(msg) {\n",
    "    body = paste(msg$body, collapse = \"\")\n",
    "\n",
    "         # Return NA if the body of the message is \"empty\"\n",
    "    if(length(body) == 0 || nchar(body) == 0) return(NA)\n",
    "\n",
    "         # Eliminate non-alpha characters\n",
    "    body = gsub(\"[^[:alpha:]]\", \"\", body)\n",
    "    capText = gsub(\"[^A-Z]\", \"\", body)\n",
    "    100 * nchar(capText)/nchar(body)\n",
    "  }\n",
    ")"
   ]
  },
  {
   "cell_type": "code",
   "execution_count": 34,
   "metadata": {
    "scrolled": true
   },
   "outputs": [
    {
     "data": {
      "text/html": [
       "<dl>\n",
       "\t<dt>$isRe</dt>\n",
       "\t\t<dd><dl class=dl-horizontal>\n",
       "\t<dt>./From 2ds/messages/easy_ham1</dt>\n",
       "\t\t<dd>TRUE</dd>\n",
       "\t<dt>./From 2ds/messages/easy_ham2</dt>\n",
       "\t\t<dd>FALSE</dd>\n",
       "\t<dt>./From 2ds/messages/easy_ham3</dt>\n",
       "\t\t<dd>FALSE</dd>\n",
       "\t<dt>./From 2ds/messages/easy_ham4</dt>\n",
       "\t\t<dd>FALSE</dd>\n",
       "\t<dt>./From 2ds/messages/easy_ham5</dt>\n",
       "\t\t<dd>TRUE</dd>\n",
       "\t<dt>./From 2ds/messages/easy_ham15</dt>\n",
       "\t\t<dd>TRUE</dd>\n",
       "\t<dt>./From 2ds/messages/easy_ham27</dt>\n",
       "\t\t<dd>TRUE</dd>\n",
       "\t<dt>./From 2ds/messages/easy_ham68</dt>\n",
       "\t\t<dd>FALSE</dd>\n",
       "\t<dt>./From 2ds/messages/easy_ham69</dt>\n",
       "\t\t<dd>TRUE</dd>\n",
       "\t<dt>./From 2ds/messages/easy_ham329</dt>\n",
       "\t\t<dd>TRUE</dd>\n",
       "\t<dt>./From 2ds/messages/easy_ham404</dt>\n",
       "\t\t<dd>TRUE</dd>\n",
       "\t<dt>./From 2ds/messages/easy_ham427</dt>\n",
       "\t\t<dd>TRUE</dd>\n",
       "\t<dt>./From 2ds/messages/easy_ham516</dt>\n",
       "\t\t<dd>TRUE</dd>\n",
       "\t<dt>./From 2ds/messages/easy_ham852</dt>\n",
       "\t\t<dd>FALSE</dd>\n",
       "\t<dt>./From 2ds/messages/easy_ham971</dt>\n",
       "\t\t<dd>TRUE</dd>\n",
       "</dl>\n",
       "</dd>\n",
       "\t<dt>$numLines</dt>\n",
       "\t\t<dd><dl class=dl-horizontal>\n",
       "\t<dt>./From 2ds/messages/easy_ham1</dt>\n",
       "\t\t<dd>50</dd>\n",
       "\t<dt>./From 2ds/messages/easy_ham2</dt>\n",
       "\t\t<dd>26</dd>\n",
       "\t<dt>./From 2ds/messages/easy_ham3</dt>\n",
       "\t\t<dd>38</dd>\n",
       "\t<dt>./From 2ds/messages/easy_ham4</dt>\n",
       "\t\t<dd>32</dd>\n",
       "\t<dt>./From 2ds/messages/easy_ham5</dt>\n",
       "\t\t<dd>31</dd>\n",
       "\t<dt>./From 2ds/messages/easy_ham15</dt>\n",
       "\t\t<dd>54</dd>\n",
       "\t<dt>./From 2ds/messages/easy_ham27</dt>\n",
       "\t\t<dd>35</dd>\n",
       "\t<dt>./From 2ds/messages/easy_ham68</dt>\n",
       "\t\t<dd>36</dd>\n",
       "\t<dt>./From 2ds/messages/easy_ham69</dt>\n",
       "\t\t<dd>65</dd>\n",
       "\t<dt>./From 2ds/messages/easy_ham329</dt>\n",
       "\t\t<dd>58</dd>\n",
       "\t<dt>./From 2ds/messages/easy_ham404</dt>\n",
       "\t\t<dd>70</dd>\n",
       "\t<dt>./From 2ds/messages/easy_ham427</dt>\n",
       "\t\t<dd>31</dd>\n",
       "\t<dt>./From 2ds/messages/easy_ham516</dt>\n",
       "\t\t<dd>38</dd>\n",
       "\t<dt>./From 2ds/messages/easy_ham852</dt>\n",
       "\t\t<dd>28</dd>\n",
       "\t<dt>./From 2ds/messages/easy_ham971</dt>\n",
       "\t\t<dd>34</dd>\n",
       "</dl>\n",
       "</dd>\n",
       "\t<dt>$isYelling</dt>\n",
       "\t\t<dd><dl class=dl-horizontal>\n",
       "\t<dt>./From 2ds/messages/easy_ham1.Subject</dt>\n",
       "\t\t<dd>FALSE</dd>\n",
       "\t<dt>./From 2ds/messages/easy_ham2.Subject</dt>\n",
       "\t\t<dd>FALSE</dd>\n",
       "\t<dt>./From 2ds/messages/easy_ham3.Subject</dt>\n",
       "\t\t<dd>FALSE</dd>\n",
       "\t<dt>./From 2ds/messages/easy_ham4.Subject</dt>\n",
       "\t\t<dd>FALSE</dd>\n",
       "\t<dt>./From 2ds/messages/easy_ham5.Subject</dt>\n",
       "\t\t<dd>FALSE</dd>\n",
       "\t<dt>./From 2ds/messages/easy_ham15.Subject</dt>\n",
       "\t\t<dd>FALSE</dd>\n",
       "\t<dt>./From 2ds/messages/easy_ham27.Subject</dt>\n",
       "\t\t<dd>FALSE</dd>\n",
       "\t<dt>./From 2ds/messages/easy_ham68.Subject</dt>\n",
       "\t\t<dd>FALSE</dd>\n",
       "\t<dt>./From 2ds/messages/easy_ham69.Subject</dt>\n",
       "\t\t<dd>FALSE</dd>\n",
       "\t<dt>./From 2ds/messages/easy_ham329.Subject</dt>\n",
       "\t\t<dd>FALSE</dd>\n",
       "\t<dt>./From 2ds/messages/easy_ham404.Subject</dt>\n",
       "\t\t<dd>FALSE</dd>\n",
       "\t<dt>./From 2ds/messages/easy_ham427.Subject</dt>\n",
       "\t\t<dd>FALSE</dd>\n",
       "\t<dt>./From 2ds/messages/easy_ham516.Subject</dt>\n",
       "\t\t<dd>FALSE</dd>\n",
       "\t<dt>./From 2ds/messages/easy_ham852.Subject</dt>\n",
       "\t\t<dd>FALSE</dd>\n",
       "\t<dt>./From 2ds/messages/easy_ham971.Subject</dt>\n",
       "\t\t<dd>FALSE</dd>\n",
       "</dl>\n",
       "</dd>\n",
       "\t<dt>$perCaps</dt>\n",
       "\t\t<dd><dl class=dl-horizontal>\n",
       "\t<dt>./From 2ds/messages/easy_ham1</dt>\n",
       "\t\t<dd>4.45103857566766</dd>\n",
       "\t<dt>./From 2ds/messages/easy_ham2</dt>\n",
       "\t\t<dd>7.49128919860627</dd>\n",
       "\t<dt>./From 2ds/messages/easy_ham3</dt>\n",
       "\t\t<dd>7.43609604957397</dd>\n",
       "\t<dt>./From 2ds/messages/easy_ham4</dt>\n",
       "\t\t<dd>5.09090909090909</dd>\n",
       "\t<dt>./From 2ds/messages/easy_ham5</dt>\n",
       "\t\t<dd>6.11664295874822</dd>\n",
       "\t<dt>./From 2ds/messages/easy_ham15</dt>\n",
       "\t\t<dd>7.73286467486819</dd>\n",
       "\t<dt>./From 2ds/messages/easy_ham27</dt>\n",
       "\t\t<dd>5.52325581395349</dd>\n",
       "\t<dt>./From 2ds/messages/easy_ham68</dt>\n",
       "\t\t<dd>10.0591715976331</dd>\n",
       "\t<dt>./From 2ds/messages/easy_ham69</dt>\n",
       "\t\t<dd>10.8858057630736</dd>\n",
       "\t<dt>./From 2ds/messages/easy_ham329</dt>\n",
       "\t\t<dd>6.47249190938511</dd>\n",
       "\t<dt>./From 2ds/messages/easy_ham404</dt>\n",
       "\t\t<dd>9.59725792630677</dd>\n",
       "\t<dt>./From 2ds/messages/easy_ham427</dt>\n",
       "\t\t<dd>11.9700748129676</dd>\n",
       "\t<dt>./From 2ds/messages/easy_ham516</dt>\n",
       "\t\t<dd>9.23379174852652</dd>\n",
       "\t<dt>./From 2ds/messages/easy_ham852</dt>\n",
       "\t\t<dd>1.65562913907285</dd>\n",
       "\t<dt>./From 2ds/messages/easy_ham971</dt>\n",
       "\t\t<dd>6.41791044776119</dd>\n",
       "</dl>\n",
       "</dd>\n",
       "</dl>\n"
      ],
      "text/latex": [
       "\\begin{description}\n",
       "\\item[\\$isRe] \\begin{description*}\n",
       "\\item[./From 2ds/messages/easy\\textbackslash{}\\_ham1] TRUE\n",
       "\\item[./From 2ds/messages/easy\\textbackslash{}\\_ham2] FALSE\n",
       "\\item[./From 2ds/messages/easy\\textbackslash{}\\_ham3] FALSE\n",
       "\\item[./From 2ds/messages/easy\\textbackslash{}\\_ham4] FALSE\n",
       "\\item[./From 2ds/messages/easy\\textbackslash{}\\_ham5] TRUE\n",
       "\\item[./From 2ds/messages/easy\\textbackslash{}\\_ham15] TRUE\n",
       "\\item[./From 2ds/messages/easy\\textbackslash{}\\_ham27] TRUE\n",
       "\\item[./From 2ds/messages/easy\\textbackslash{}\\_ham68] FALSE\n",
       "\\item[./From 2ds/messages/easy\\textbackslash{}\\_ham69] TRUE\n",
       "\\item[./From 2ds/messages/easy\\textbackslash{}\\_ham329] TRUE\n",
       "\\item[./From 2ds/messages/easy\\textbackslash{}\\_ham404] TRUE\n",
       "\\item[./From 2ds/messages/easy\\textbackslash{}\\_ham427] TRUE\n",
       "\\item[./From 2ds/messages/easy\\textbackslash{}\\_ham516] TRUE\n",
       "\\item[./From 2ds/messages/easy\\textbackslash{}\\_ham852] FALSE\n",
       "\\item[./From 2ds/messages/easy\\textbackslash{}\\_ham971] TRUE\n",
       "\\end{description*}\n",
       "\n",
       "\\item[\\$numLines] \\begin{description*}\n",
       "\\item[./From 2ds/messages/easy\\textbackslash{}\\_ham1] 50\n",
       "\\item[./From 2ds/messages/easy\\textbackslash{}\\_ham2] 26\n",
       "\\item[./From 2ds/messages/easy\\textbackslash{}\\_ham3] 38\n",
       "\\item[./From 2ds/messages/easy\\textbackslash{}\\_ham4] 32\n",
       "\\item[./From 2ds/messages/easy\\textbackslash{}\\_ham5] 31\n",
       "\\item[./From 2ds/messages/easy\\textbackslash{}\\_ham15] 54\n",
       "\\item[./From 2ds/messages/easy\\textbackslash{}\\_ham27] 35\n",
       "\\item[./From 2ds/messages/easy\\textbackslash{}\\_ham68] 36\n",
       "\\item[./From 2ds/messages/easy\\textbackslash{}\\_ham69] 65\n",
       "\\item[./From 2ds/messages/easy\\textbackslash{}\\_ham329] 58\n",
       "\\item[./From 2ds/messages/easy\\textbackslash{}\\_ham404] 70\n",
       "\\item[./From 2ds/messages/easy\\textbackslash{}\\_ham427] 31\n",
       "\\item[./From 2ds/messages/easy\\textbackslash{}\\_ham516] 38\n",
       "\\item[./From 2ds/messages/easy\\textbackslash{}\\_ham852] 28\n",
       "\\item[./From 2ds/messages/easy\\textbackslash{}\\_ham971] 34\n",
       "\\end{description*}\n",
       "\n",
       "\\item[\\$isYelling] \\begin{description*}\n",
       "\\item[./From 2ds/messages/easy\\textbackslash{}\\_ham1.Subject] FALSE\n",
       "\\item[./From 2ds/messages/easy\\textbackslash{}\\_ham2.Subject] FALSE\n",
       "\\item[./From 2ds/messages/easy\\textbackslash{}\\_ham3.Subject] FALSE\n",
       "\\item[./From 2ds/messages/easy\\textbackslash{}\\_ham4.Subject] FALSE\n",
       "\\item[./From 2ds/messages/easy\\textbackslash{}\\_ham5.Subject] FALSE\n",
       "\\item[./From 2ds/messages/easy\\textbackslash{}\\_ham15.Subject] FALSE\n",
       "\\item[./From 2ds/messages/easy\\textbackslash{}\\_ham27.Subject] FALSE\n",
       "\\item[./From 2ds/messages/easy\\textbackslash{}\\_ham68.Subject] FALSE\n",
       "\\item[./From 2ds/messages/easy\\textbackslash{}\\_ham69.Subject] FALSE\n",
       "\\item[./From 2ds/messages/easy\\textbackslash{}\\_ham329.Subject] FALSE\n",
       "\\item[./From 2ds/messages/easy\\textbackslash{}\\_ham404.Subject] FALSE\n",
       "\\item[./From 2ds/messages/easy\\textbackslash{}\\_ham427.Subject] FALSE\n",
       "\\item[./From 2ds/messages/easy\\textbackslash{}\\_ham516.Subject] FALSE\n",
       "\\item[./From 2ds/messages/easy\\textbackslash{}\\_ham852.Subject] FALSE\n",
       "\\item[./From 2ds/messages/easy\\textbackslash{}\\_ham971.Subject] FALSE\n",
       "\\end{description*}\n",
       "\n",
       "\\item[\\$perCaps] \\begin{description*}\n",
       "\\item[./From 2ds/messages/easy\\textbackslash{}\\_ham1] 4.45103857566766\n",
       "\\item[./From 2ds/messages/easy\\textbackslash{}\\_ham2] 7.49128919860627\n",
       "\\item[./From 2ds/messages/easy\\textbackslash{}\\_ham3] 7.43609604957397\n",
       "\\item[./From 2ds/messages/easy\\textbackslash{}\\_ham4] 5.09090909090909\n",
       "\\item[./From 2ds/messages/easy\\textbackslash{}\\_ham5] 6.11664295874822\n",
       "\\item[./From 2ds/messages/easy\\textbackslash{}\\_ham15] 7.73286467486819\n",
       "\\item[./From 2ds/messages/easy\\textbackslash{}\\_ham27] 5.52325581395349\n",
       "\\item[./From 2ds/messages/easy\\textbackslash{}\\_ham68] 10.0591715976331\n",
       "\\item[./From 2ds/messages/easy\\textbackslash{}\\_ham69] 10.8858057630736\n",
       "\\item[./From 2ds/messages/easy\\textbackslash{}\\_ham329] 6.47249190938511\n",
       "\\item[./From 2ds/messages/easy\\textbackslash{}\\_ham404] 9.59725792630677\n",
       "\\item[./From 2ds/messages/easy\\textbackslash{}\\_ham427] 11.9700748129676\n",
       "\\item[./From 2ds/messages/easy\\textbackslash{}\\_ham516] 9.23379174852652\n",
       "\\item[./From 2ds/messages/easy\\textbackslash{}\\_ham852] 1.65562913907285\n",
       "\\item[./From 2ds/messages/easy\\textbackslash{}\\_ham971] 6.41791044776119\n",
       "\\end{description*}\n",
       "\n",
       "\\end{description}\n"
      ],
      "text/markdown": [
       "$isRe\n",
       ":   ./From 2ds/messages/easy_ham1\n",
       ":   TRUE./From 2ds/messages/easy_ham2\n",
       ":   FALSE./From 2ds/messages/easy_ham3\n",
       ":   FALSE./From 2ds/messages/easy_ham4\n",
       ":   FALSE./From 2ds/messages/easy_ham5\n",
       ":   TRUE./From 2ds/messages/easy_ham15\n",
       ":   TRUE./From 2ds/messages/easy_ham27\n",
       ":   TRUE./From 2ds/messages/easy_ham68\n",
       ":   FALSE./From 2ds/messages/easy_ham69\n",
       ":   TRUE./From 2ds/messages/easy_ham329\n",
       ":   TRUE./From 2ds/messages/easy_ham404\n",
       ":   TRUE./From 2ds/messages/easy_ham427\n",
       ":   TRUE./From 2ds/messages/easy_ham516\n",
       ":   TRUE./From 2ds/messages/easy_ham852\n",
       ":   FALSE./From 2ds/messages/easy_ham971\n",
       ":   TRUE\n",
       "\n",
       "\n",
       "$numLines\n",
       ":   ./From 2ds/messages/easy_ham1\n",
       ":   50./From 2ds/messages/easy_ham2\n",
       ":   26./From 2ds/messages/easy_ham3\n",
       ":   38./From 2ds/messages/easy_ham4\n",
       ":   32./From 2ds/messages/easy_ham5\n",
       ":   31./From 2ds/messages/easy_ham15\n",
       ":   54./From 2ds/messages/easy_ham27\n",
       ":   35./From 2ds/messages/easy_ham68\n",
       ":   36./From 2ds/messages/easy_ham69\n",
       ":   65./From 2ds/messages/easy_ham329\n",
       ":   58./From 2ds/messages/easy_ham404\n",
       ":   70./From 2ds/messages/easy_ham427\n",
       ":   31./From 2ds/messages/easy_ham516\n",
       ":   38./From 2ds/messages/easy_ham852\n",
       ":   28./From 2ds/messages/easy_ham971\n",
       ":   34\n",
       "\n",
       "\n",
       "$isYelling\n",
       ":   ./From 2ds/messages/easy_ham1.Subject\n",
       ":   FALSE./From 2ds/messages/easy_ham2.Subject\n",
       ":   FALSE./From 2ds/messages/easy_ham3.Subject\n",
       ":   FALSE./From 2ds/messages/easy_ham4.Subject\n",
       ":   FALSE./From 2ds/messages/easy_ham5.Subject\n",
       ":   FALSE./From 2ds/messages/easy_ham15.Subject\n",
       ":   FALSE./From 2ds/messages/easy_ham27.Subject\n",
       ":   FALSE./From 2ds/messages/easy_ham68.Subject\n",
       ":   FALSE./From 2ds/messages/easy_ham69.Subject\n",
       ":   FALSE./From 2ds/messages/easy_ham329.Subject\n",
       ":   FALSE./From 2ds/messages/easy_ham404.Subject\n",
       ":   FALSE./From 2ds/messages/easy_ham427.Subject\n",
       ":   FALSE./From 2ds/messages/easy_ham516.Subject\n",
       ":   FALSE./From 2ds/messages/easy_ham852.Subject\n",
       ":   FALSE./From 2ds/messages/easy_ham971.Subject\n",
       ":   FALSE\n",
       "\n",
       "\n",
       "$perCaps\n",
       ":   ./From 2ds/messages/easy_ham1\n",
       ":   4.45103857566766./From 2ds/messages/easy_ham2\n",
       ":   7.49128919860627./From 2ds/messages/easy_ham3\n",
       ":   7.43609604957397./From 2ds/messages/easy_ham4\n",
       ":   5.09090909090909./From 2ds/messages/easy_ham5\n",
       ":   6.11664295874822./From 2ds/messages/easy_ham15\n",
       ":   7.73286467486819./From 2ds/messages/easy_ham27\n",
       ":   5.52325581395349./From 2ds/messages/easy_ham68\n",
       ":   10.0591715976331./From 2ds/messages/easy_ham69\n",
       ":   10.8858057630736./From 2ds/messages/easy_ham329\n",
       ":   6.47249190938511./From 2ds/messages/easy_ham404\n",
       ":   9.59725792630677./From 2ds/messages/easy_ham427\n",
       ":   11.9700748129676./From 2ds/messages/easy_ham516\n",
       ":   9.23379174852652./From 2ds/messages/easy_ham852\n",
       ":   1.65562913907285./From 2ds/messages/easy_ham971\n",
       ":   6.41791044776119\n",
       "\n",
       "\n",
       "\n",
       "\n"
      ],
      "text/plain": [
       "$isRe\n",
       "  ./From 2ds/messages/easy_ham1   ./From 2ds/messages/easy_ham2 \n",
       "                           TRUE                           FALSE \n",
       "  ./From 2ds/messages/easy_ham3   ./From 2ds/messages/easy_ham4 \n",
       "                          FALSE                           FALSE \n",
       "  ./From 2ds/messages/easy_ham5  ./From 2ds/messages/easy_ham15 \n",
       "                           TRUE                            TRUE \n",
       " ./From 2ds/messages/easy_ham27  ./From 2ds/messages/easy_ham68 \n",
       "                           TRUE                           FALSE \n",
       " ./From 2ds/messages/easy_ham69 ./From 2ds/messages/easy_ham329 \n",
       "                           TRUE                            TRUE \n",
       "./From 2ds/messages/easy_ham404 ./From 2ds/messages/easy_ham427 \n",
       "                           TRUE                            TRUE \n",
       "./From 2ds/messages/easy_ham516 ./From 2ds/messages/easy_ham852 \n",
       "                           TRUE                           FALSE \n",
       "./From 2ds/messages/easy_ham971 \n",
       "                           TRUE \n",
       "\n",
       "$numLines\n",
       "  ./From 2ds/messages/easy_ham1   ./From 2ds/messages/easy_ham2 \n",
       "                             50                              26 \n",
       "  ./From 2ds/messages/easy_ham3   ./From 2ds/messages/easy_ham4 \n",
       "                             38                              32 \n",
       "  ./From 2ds/messages/easy_ham5  ./From 2ds/messages/easy_ham15 \n",
       "                             31                              54 \n",
       " ./From 2ds/messages/easy_ham27  ./From 2ds/messages/easy_ham68 \n",
       "                             35                              36 \n",
       " ./From 2ds/messages/easy_ham69 ./From 2ds/messages/easy_ham329 \n",
       "                             65                              58 \n",
       "./From 2ds/messages/easy_ham404 ./From 2ds/messages/easy_ham427 \n",
       "                             70                              31 \n",
       "./From 2ds/messages/easy_ham516 ./From 2ds/messages/easy_ham852 \n",
       "                             38                              28 \n",
       "./From 2ds/messages/easy_ham971 \n",
       "                             34 \n",
       "\n",
       "$isYelling\n",
       "  ./From 2ds/messages/easy_ham1.Subject   ./From 2ds/messages/easy_ham2.Subject \n",
       "                                  FALSE                                   FALSE \n",
       "  ./From 2ds/messages/easy_ham3.Subject   ./From 2ds/messages/easy_ham4.Subject \n",
       "                                  FALSE                                   FALSE \n",
       "  ./From 2ds/messages/easy_ham5.Subject  ./From 2ds/messages/easy_ham15.Subject \n",
       "                                  FALSE                                   FALSE \n",
       " ./From 2ds/messages/easy_ham27.Subject  ./From 2ds/messages/easy_ham68.Subject \n",
       "                                  FALSE                                   FALSE \n",
       " ./From 2ds/messages/easy_ham69.Subject ./From 2ds/messages/easy_ham329.Subject \n",
       "                                  FALSE                                   FALSE \n",
       "./From 2ds/messages/easy_ham404.Subject ./From 2ds/messages/easy_ham427.Subject \n",
       "                                  FALSE                                   FALSE \n",
       "./From 2ds/messages/easy_ham516.Subject ./From 2ds/messages/easy_ham852.Subject \n",
       "                                  FALSE                                   FALSE \n",
       "./From 2ds/messages/easy_ham971.Subject \n",
       "                                  FALSE \n",
       "\n",
       "$perCaps\n",
       "  ./From 2ds/messages/easy_ham1   ./From 2ds/messages/easy_ham2 \n",
       "                       4.451039                        7.491289 \n",
       "  ./From 2ds/messages/easy_ham3   ./From 2ds/messages/easy_ham4 \n",
       "                       7.436096                        5.090909 \n",
       "  ./From 2ds/messages/easy_ham5  ./From 2ds/messages/easy_ham15 \n",
       "                       6.116643                        7.732865 \n",
       " ./From 2ds/messages/easy_ham27  ./From 2ds/messages/easy_ham68 \n",
       "                       5.523256                       10.059172 \n",
       " ./From 2ds/messages/easy_ham69 ./From 2ds/messages/easy_ham329 \n",
       "                      10.885806                        6.472492 \n",
       "./From 2ds/messages/easy_ham404 ./From 2ds/messages/easy_ham427 \n",
       "                       9.597258                       11.970075 \n",
       "./From 2ds/messages/easy_ham516 ./From 2ds/messages/easy_ham852 \n",
       "                       9.233792                        1.655629 \n",
       "./From 2ds/messages/easy_ham971 \n",
       "                       6.417910 \n"
      ]
     },
     "metadata": {},
     "output_type": "display_data"
    },
    {
     "data": {
      "text/html": [
       "<table>\n",
       "<caption>A data.frame: 6 × 4</caption>\n",
       "<thead>\n",
       "\t<tr><th></th><th scope=col>isRe</th><th scope=col>numLines</th><th scope=col>isYelling</th><th scope=col>perCaps</th></tr>\n",
       "\t<tr><th></th><th scope=col>&lt;lgl&gt;</th><th scope=col>&lt;int&gt;</th><th scope=col>&lt;lgl&gt;</th><th scope=col>&lt;dbl&gt;</th></tr>\n",
       "</thead>\n",
       "<tbody>\n",
       "\t<tr><th scope=row>./From 2ds/messages/easy_ham1</th><td> TRUE</td><td>50</td><td>FALSE</td><td>4.451039</td></tr>\n",
       "\t<tr><th scope=row>./From 2ds/messages/easy_ham2</th><td>FALSE</td><td>26</td><td>FALSE</td><td>7.491289</td></tr>\n",
       "\t<tr><th scope=row>./From 2ds/messages/easy_ham3</th><td>FALSE</td><td>38</td><td>FALSE</td><td>7.436096</td></tr>\n",
       "\t<tr><th scope=row>./From 2ds/messages/easy_ham4</th><td>FALSE</td><td>32</td><td>FALSE</td><td>5.090909</td></tr>\n",
       "\t<tr><th scope=row>./From 2ds/messages/easy_ham5</th><td> TRUE</td><td>31</td><td>FALSE</td><td>6.116643</td></tr>\n",
       "\t<tr><th scope=row>./From 2ds/messages/easy_ham15</th><td> TRUE</td><td>54</td><td>FALSE</td><td>7.732865</td></tr>\n",
       "</tbody>\n",
       "</table>\n"
      ],
      "text/latex": [
       "A data.frame: 6 × 4\n",
       "\\begin{tabular}{r|llll}\n",
       "  & isRe & numLines & isYelling & perCaps\\\\\n",
       "  & <lgl> & <int> & <lgl> & <dbl>\\\\\n",
       "\\hline\n",
       "\t./From 2ds/messages/easy\\_ham1 &  TRUE & 50 & FALSE & 4.451039\\\\\n",
       "\t./From 2ds/messages/easy\\_ham2 & FALSE & 26 & FALSE & 7.491289\\\\\n",
       "\t./From 2ds/messages/easy\\_ham3 & FALSE & 38 & FALSE & 7.436096\\\\\n",
       "\t./From 2ds/messages/easy\\_ham4 & FALSE & 32 & FALSE & 5.090909\\\\\n",
       "\t./From 2ds/messages/easy\\_ham5 &  TRUE & 31 & FALSE & 6.116643\\\\\n",
       "\t./From 2ds/messages/easy\\_ham15 &  TRUE & 54 & FALSE & 7.732865\\\\\n",
       "\\end{tabular}\n"
      ],
      "text/markdown": [
       "\n",
       "A data.frame: 6 × 4\n",
       "\n",
       "| <!--/--> | isRe &lt;lgl&gt; | numLines &lt;int&gt; | isYelling &lt;lgl&gt; | perCaps &lt;dbl&gt; |\n",
       "|---|---|---|---|---|\n",
       "| ./From 2ds/messages/easy_ham1 |  TRUE | 50 | FALSE | 4.451039 |\n",
       "| ./From 2ds/messages/easy_ham2 | FALSE | 26 | FALSE | 7.491289 |\n",
       "| ./From 2ds/messages/easy_ham3 | FALSE | 38 | FALSE | 7.436096 |\n",
       "| ./From 2ds/messages/easy_ham4 | FALSE | 32 | FALSE | 5.090909 |\n",
       "| ./From 2ds/messages/easy_ham5 |  TRUE | 31 | FALSE | 6.116643 |\n",
       "| ./From 2ds/messages/easy_ham15 |  TRUE | 54 | FALSE | 7.732865 |\n",
       "\n"
      ],
      "text/plain": [
       "                               isRe  numLines isYelling perCaps \n",
       "./From 2ds/messages/easy_ham1   TRUE 50       FALSE     4.451039\n",
       "./From 2ds/messages/easy_ham2  FALSE 26       FALSE     7.491289\n",
       "./From 2ds/messages/easy_ham3  FALSE 38       FALSE     7.436096\n",
       "./From 2ds/messages/easy_ham4  FALSE 32       FALSE     5.090909\n",
       "./From 2ds/messages/easy_ham5   TRUE 31       FALSE     6.116643\n",
       "./From 2ds/messages/easy_ham15  TRUE 54       FALSE     7.732865"
      ]
     },
     "metadata": {},
     "output_type": "display_data"
    }
   ],
   "source": [
    "lapply(funcList, function(func) \n",
    "                   sapply(sampleStruct, function(msg) func(msg)))\n",
    "\n",
    "createDerivedDF =\n",
    "function(email = emailStruct, operations = funcList, \n",
    "         verbose = FALSE)\n",
    "{\n",
    "  els = lapply(names(operations),\n",
    "               function(id) {\n",
    "                 if(verbose) print(id)\n",
    "                 e = operations[[id]]\n",
    "                 v = if(is.function(e)) \n",
    "                        sapply(email, e)\n",
    "                      else \n",
    "                        sapply(email, function(msg) eval(e))\n",
    "                 v\n",
    "         })\n",
    "\n",
    "   df = as.data.frame(els)\n",
    "   names(df) = names(operations)\n",
    "   invisible(df)\n",
    "}\n",
    "\n",
    "sampleDF = createDerivedDF(sampleStruct)\n",
    "head(sampleDF)"
   ]
  },
  {
   "cell_type": "code",
   "execution_count": 35,
   "metadata": {},
   "outputs": [],
   "source": [
    "funcList = list(\n",
    "  isSpam =\n",
    "    expression(msg$isSpam)\n",
    "  ,\n",
    "  isRe =\n",
    "    function(msg) {\n",
    "      # Can have a Fwd: Re:  ... but we are not looking for this here.\n",
    "      # We may want to look at In-Reply-To field.\n",
    "      \"Subject\" %in% names(msg$header) && \n",
    "        length(grep(\"^[ \\t]*Re:\", msg$header[[\"Subject\"]])) > 0\n",
    "    }\n",
    "  ,\n",
    "  numLines =\n",
    "    function(msg) length(msg$body)\n",
    "  ,\n",
    "  bodyCharCt =\n",
    "    function(msg)\n",
    "      sum(nchar(msg$body))\n",
    "  ,\n",
    "  underscore =\n",
    "    function(msg) {\n",
    "      if(!\"Reply-To\" %in% names(msg$header))\n",
    "        return(FALSE)\n",
    "      \n",
    "      txt <- msg$header[[\"Reply-To\"]]\n",
    "      length(grep(\"_\", txt)) > 0  && \n",
    "        length(grep(\"[0-9A-Za-z]+\", txt)) > 0\n",
    "    }\n",
    "  ,\n",
    "  subExcCt = \n",
    "    function(msg) {\n",
    "      x = msg$header[\"Subject\"]\n",
    "      if(length(x) == 0 || sum(nchar(x)) == 0 || is.na(x))\n",
    "        return(NA)\n",
    "      \n",
    "      sum(nchar(gsub(\"[^!]\",\"\", x)))\n",
    "    }\n",
    "  ,\n",
    "  subQuesCt =\n",
    "    function(msg) {\n",
    "      x = msg$header[\"Subject\"]\n",
    "      if(length(x) == 0 || sum(nchar(x)) == 0 || is.na(x))\n",
    "        return(NA)\n",
    "      \n",
    "      sum(nchar(gsub(\"[^?]\",\"\", x)))\n",
    "    }\n",
    "  ,\n",
    "  numAtt = \n",
    "    function(msg) {\n",
    "      if (is.null(msg$attach)) return(0)\n",
    "      else nrow(msg$attach)\n",
    "    }\n",
    "   \n",
    "  ,\n",
    "  priority =\n",
    "    function(msg) {\n",
    "      ans <- FALSE\n",
    "      # Look for names X-Priority, Priority, X-Msmail-Priority\n",
    "      # Look for high any where in the value\n",
    "      ind = grep(\"priority\", tolower(names(msg$header)))\n",
    "      if (length(ind) > 0)  {\n",
    "        ans <- length(grep(\"high\", tolower(msg$header[ind]))) >0\n",
    "      }\n",
    "      ans\n",
    "    }\n",
    "  ,\n",
    "  numRec =\n",
    "    function(msg) {\n",
    "      # unique or not.\n",
    "      els = getMessageRecipients(msg$header)\n",
    "      \n",
    "      if(length(els) == 0)\n",
    "        return(NA)\n",
    "      \n",
    "      # Split each line by \",\"  and in each of these elements, look for\n",
    "      # the @ sign. This handles\n",
    "      tmp = sapply(strsplit(els, \",\"), function(x) grep(\"@\", x))\n",
    "      sum(sapply(tmp, length))\n",
    "    }\n",
    "  ,\n",
    "  perCaps =\n",
    "    function(msg)\n",
    "    {\n",
    "      body = paste(msg$body, collapse = \"\")\n",
    "      \n",
    "      # Return NA if the body of the message is \"empty\"\n",
    "      if(length(body) == 0 || nchar(body) == 0) return(NA)\n",
    "      \n",
    "      # Eliminate non-alpha characters and empty lines \n",
    "      body = gsub(\"[^[:alpha:]]\", \"\", body)\n",
    "      els = unlist(strsplit(body, \"\"))\n",
    "      ctCap = sum(els %in% LETTERS)\n",
    "      100 * ctCap / length(els)\n",
    "    }\n",
    "  ,\n",
    "  isInReplyTo =\n",
    "    function(msg)\n",
    "    {\n",
    "      \"In-Reply-To\" %in% names(msg$header)\n",
    "    }\n",
    "  ,\n",
    "  sortedRec =\n",
    "    function(msg)\n",
    "    {\n",
    "      ids = getMessageRecipients(msg$header)\n",
    "      all(sort(ids) == ids)\n",
    "    }\n",
    "  ,\n",
    "  subPunc =\n",
    "    function(msg)\n",
    "    {\n",
    "      if(\"Subject\" %in% names(msg$header)) {\n",
    "        el = gsub(\"['/.:@-]\", \"\", msg$header[\"Subject\"])\n",
    "        length(grep(\"[A-Za-z][[:punct:]]+[A-Za-z]\", el)) > 0\n",
    "      }\n",
    "      else\n",
    "        FALSE\n",
    "    },\n",
    "  hour =\n",
    "    function(msg)\n",
    "    {\n",
    "      date = msg$header[\"Date\"]\n",
    "      if ( is.null(date) ) return(NA)\n",
    "      # Need to handle that there may be only one digit in the hour\n",
    "      locate = regexpr(\"[0-2]?[0-9]:[0-5][0-9]:[0-5][0-9]\", date)\n",
    "      \n",
    "      if (locate < 0)\n",
    "        locate = regexpr(\"[0-2]?[0-9]:[0-5][0-9]\", date)\n",
    "      if (locate < 0) return(NA)\n",
    "      \n",
    "      hour = substring(date, locate, locate+1)\n",
    "      hour = as.numeric(gsub(\":\", \"\", hour))\n",
    "      \n",
    "      locate = regexpr(\"PM\", date)\n",
    "      if (locate > 0) hour = hour + 12\n",
    "      \n",
    "      locate = regexpr(\"[+-][0-2][0-9]00\", date)\n",
    "      if (locate < 0) offset = 0\n",
    "      else offset = as.numeric(substring(date, locate, locate + 2))\n",
    "      (hour - offset) %% 24\n",
    "    }\n",
    "  ,\n",
    "  multipartText =\n",
    "    function(msg)\n",
    "    {\n",
    "      if (is.null(msg$attach)) return(FALSE)\n",
    "      numAtt = nrow(msg$attach)\n",
    "      \n",
    "      types = \n",
    "        length(grep(\"(html|plain|text)\", msg$attach$aType)) > (numAtt/2)\n",
    "    }\n",
    "  ,\n",
    "  hasImages =\n",
    "    function(msg)\n",
    "    {\n",
    "      if (is.null(msg$attach)) return(FALSE)\n",
    "      \n",
    "      length(grep(\"^ *image\", tolower(msg$attach$aType))) > 0\n",
    "    }\n",
    "  ,\n",
    "  isPGPsigned =\n",
    "    function(msg)\n",
    "    {\n",
    "      if (is.null(msg$attach)) return(FALSE)\n",
    "      \n",
    "      length(grep(\"pgp\", tolower(msg$attach$aType))) > 0\n",
    "    },\n",
    "  perHTML =\n",
    "    function(msg)\n",
    "    {\n",
    "      if(! (\"Content-Type\" %in% names(msg$header))) return(0)\n",
    "      \n",
    "      el = tolower(msg$header[\"Content-Type\"]) \n",
    "      if (length(grep(\"html\", el)) == 0) return(0)\n",
    "      \n",
    "      els = gsub(\"[[:space:]]\", \"\", msg$body)\n",
    "      totchar = sum(nchar(els))\n",
    "      totplain = sum(nchar(gsub(\"<[^<]+>\", \"\", els )))\n",
    "      100 * (totchar - totplain)/totchar\n",
    "    },\n",
    "  subSpamWords =\n",
    "    function(msg)\n",
    "    {\n",
    "      if(\"Subject\" %in% names(msg$header))\n",
    "        length(grep(paste(SpamCheckWords, collapse = \"|\"), \n",
    "                    tolower(msg$header[\"Subject\"]))) > 0\n",
    "      else\n",
    "        NA\n",
    "    }\n",
    "  ,\n",
    "  subBlanks =\n",
    "    function(msg)\n",
    "    {\n",
    "      if(\"Subject\" %in% names(msg$header)) {\n",
    "        x = msg$header[\"Subject\"]\n",
    "        # should we count blank subject line as 0 or 1 or NA?\n",
    "        if (nchar(x) == 1) return(0)\n",
    "        else 100 *(1 - (nchar(gsub(\"[[:blank:]]\", \"\", x))/nchar(x)))\n",
    "      } else NA\n",
    "    }\n",
    "  ,\n",
    "  noHost =\n",
    "    function(msg)\n",
    "    {\n",
    "      # Or use partial matching.\n",
    "      idx = pmatch(\"Message-\", names(msg$header))\n",
    "      \n",
    "      if(is.na(idx)) return(NA)\n",
    "      \n",
    "      tmp = msg$header[idx]\n",
    "      return(length(grep(\".*@[^[:space:]]+\", tmp)) ==  0)\n",
    "    }\n",
    "  ,\n",
    "  numEnd =\n",
    "    function(msg)\n",
    "    {\n",
    "      # If we just do a grep(\"[0-9]@\",  )\n",
    "      # we get matches on messages that have a From something like\n",
    "      # \" \\\"marty66@aol.com\\\" <synjan@ecis.com>\"\n",
    "      # and the marty66 is the \"user's name\" not the login\n",
    "      # So we can be more precise if we want.\n",
    "      x = names(msg$header)\n",
    "      if ( !( \"From\" %in% x) ) return(NA)\n",
    "      login = gsub(\"^.*<\", \"\", msg$header[\"From\"])\n",
    "      if ( is.null(login) ) \n",
    "        login = gsub(\"^.*<\", \"\", msg$header[\"X-From\"])\n",
    "      if ( is.null(login) ) return(NA)\n",
    "      login = strsplit(login, \"@\")[[1]][1]\n",
    "      length(grep(\"[0-9]+$\", login)) > 0\n",
    "    },\n",
    "  isYelling =\n",
    "    function(msg)\n",
    "    {\n",
    "      if ( \"Subject\" %in% names(msg$header) ) {\n",
    "        el = gsub(\"[^[:alpha:]]\", \"\", msg$header[\"Subject\"])\n",
    "        if (nchar(el) > 0) nchar(gsub(\"[A-Z]\", \"\", el)) < 1\n",
    "        else FALSE\n",
    "      }\n",
    "      else\n",
    "        NA\n",
    "    },\n",
    "  forwards =\n",
    "    function(msg)\n",
    "    {\n",
    "      x = msg$body\n",
    "      if(length(x) == 0 || sum(nchar(x)) == 0)\n",
    "        return(NA)\n",
    "      \n",
    "      ans = length(grep(\"^[[:space:]]*>\", x))\n",
    "      100 * ans / length(x)\n",
    "    },\n",
    "  isOrigMsg =\n",
    "    function(msg)\n",
    "    {\n",
    "      x = msg$body\n",
    "      if(length(x) == 0) return(NA)\n",
    "      \n",
    "      length(grep(\"^[^[:alpha:]]*original[^[:alpha:]]+message[^[:alpha:]]*$\", \n",
    "                  tolower(x) ) ) > 0\n",
    "    },\n",
    "  isDear =\n",
    "    function(msg)\n",
    "    {\n",
    "      x = msg$body\n",
    "      if(length(x) == 0) return(NA)\n",
    "      \n",
    "      length(grep(\"^[[:blank:]]*dear +(sir|madam)\\\\>\", \n",
    "                  tolower(x))) > 0\n",
    "    },\n",
    "  isWrote =\n",
    "    function(msg)\n",
    "    {\n",
    "      x = msg$body\n",
    "      if(length(x) == 0) return(NA)\n",
    "      \n",
    "      length(grep(\"(wrote|schrieb|ecrit|escribe):\", tolower(x) )) > 0\n",
    "    },\n",
    "  avgWordLen =\n",
    "    function(msg)\n",
    "    {\n",
    "      txt = paste(msg$body, collapse = \" \")\n",
    "      if(length(txt) == 0 || sum(nchar(txt)) == 0) return(0)\n",
    "      \n",
    "      txt = gsub(\"[^[:alpha:]]\", \" \", txt)\n",
    "      words = unlist(strsplit(txt, \"[[:blank:]]+\"))\n",
    "      wordLens = nchar(words)\n",
    "      mean(wordLens[ wordLens > 0 ])\n",
    "    }\n",
    "  ,\n",
    "  numDlr =\n",
    "    function(msg)\n",
    "    {\n",
    "      x = paste(msg$body, collapse = \"\")\n",
    "      if(length(x) == 0 || sum(nchar(x)) == 0)\n",
    "        return(NA)\n",
    "      \n",
    "      nchar(gsub(\"[^$]\",\"\", x))\n",
    "    }\n",
    ")\n",
    "\n"
   ]
  },
  {
   "cell_type": "code",
   "execution_count": 36,
   "metadata": {},
   "outputs": [
    {
     "data": {
      "text/html": [
       "<ol class=list-inline>\n",
       "\t<li>9348</li>\n",
       "\t<li>30</li>\n",
       "</ol>\n"
      ],
      "text/latex": [
       "\\begin{enumerate*}\n",
       "\\item 9348\n",
       "\\item 30\n",
       "\\end{enumerate*}\n"
      ],
      "text/markdown": [
       "1. 9348\n",
       "2. 30\n",
       "\n",
       "\n"
      ],
      "text/plain": [
       "[1] 9348   30"
      ]
     },
     "metadata": {},
     "output_type": "display_data"
    }
   ],
   "source": [
    "SpamCheckWords =\n",
    "  c(\"viagra\", \"pounds\", \"free\", \"weight\", \"guarantee\", \"million\", \n",
    "    \"dollars\", \"credit\", \"risk\", \"prescription\", \"generic\", \"drug\",\n",
    "    \"financial\", \"save\", \"dollar\", \"erotic\", \"million\", \"barrister\",\n",
    "    \"beneficiary\", \"easy\", \n",
    "    \"money back\", \"money\", \"credit card\")\n",
    "\n",
    "\n",
    "getMessageRecipients =\n",
    "  function(header)\n",
    "  {\n",
    "    c(if(\"To\" %in% names(header))  header[[\"To\"]] else character(0),\n",
    "      if(\"Cc\" %in% names(header))  header[[\"Cc\"]] else character(0),\n",
    "      if(\"Bcc\" %in% names(header)) header[[\"Bcc\"]] else character(0)\n",
    "    )\n",
    "  }\n",
    "\n",
    "emailDF = createDerivedDF(emailStruct)\n",
    "dim(emailDF)\n",
    "save(emailDF, file = \"spamAssassinDerivedDF.rda\")"
   ]
  },
  {
   "cell_type": "code",
   "execution_count": 37,
   "metadata": {},
   "outputs": [
    {
     "data": {
      "text/html": [
       "<ol class=list-inline>\n",
       "\t<li>9348</li>\n",
       "\t<li>30</li>\n",
       "</ol>\n"
      ],
      "text/latex": [
       "\\begin{enumerate*}\n",
       "\\item 9348\n",
       "\\item 30\n",
       "\\end{enumerate*}\n"
      ],
      "text/markdown": [
       "1. 9348\n",
       "2. 30\n",
       "\n",
       "\n"
      ],
      "text/plain": [
       "[1] 9348   30"
      ]
     },
     "metadata": {},
     "output_type": "display_data"
    }
   ],
   "source": [
    "################################\n",
    "load(\"spamAssassinDerivedDF.rda\")\n",
    "dim(emailDF)\n",
    "\n",
    "perCaps2 =\n",
    "function(msg)\n",
    "{\n",
    "  body = paste(msg$body, collapse = \"\")\n",
    "\n",
    "       # Return NA if the body of the message is \"empty\"\n",
    "  if(length(body) == 0 || nchar(body) == 0) return(NA)\n",
    "\n",
    "       # Eliminate non-alpha characters and empty lines \n",
    "  body = gsub(\"[^[:alpha:]]\", \"\", body)\n",
    "  els = unlist(strsplit(body, \"\"))\n",
    "  ctCap = sum(els %in% LETTERS)\n",
    "  100 * ctCap / length(els)\n",
    "}\n"
   ]
  },
  {
   "cell_type": "code",
   "execution_count": 38,
   "metadata": {},
   "outputs": [
    {
     "data": {
      "text/html": [
       "TRUE"
      ],
      "text/latex": [
       "TRUE"
      ],
      "text/markdown": [
       "TRUE"
      ],
      "text/plain": [
       "[1] TRUE"
      ]
     },
     "metadata": {},
     "output_type": "display_data"
    },
    {
     "name": "stderr",
     "output_type": "stream",
     "text": [
      "Warning message in indNA == indNoSubject:\n",
      "\"longer object length is not a multiple of shorter object length\"\n"
     ]
    },
    {
     "data": {
      "text/html": [
       "FALSE"
      ],
      "text/latex": [
       "FALSE"
      ],
      "text/markdown": [
       "FALSE"
      ],
      "text/plain": [
       "[1] FALSE"
      ]
     },
     "metadata": {},
     "output_type": "display_data"
    },
    {
     "data": {
      "text/html": [
       "TRUE"
      ],
      "text/latex": [
       "TRUE"
      ],
      "text/markdown": [
       "TRUE"
      ],
      "text/plain": [
       "[1] TRUE"
      ]
     },
     "metadata": {},
     "output_type": "display_data"
    }
   ],
   "source": [
    "pC = sapply(emailStruct, perCaps)\n",
    "pC2 = sapply(emailStruct, perCaps2)\n",
    "identical(pC, pC2)\n",
    "\n",
    "indNA = which(is.na(emailDF$subExcCt))\n",
    "\n",
    "indNoSubject = which(sapply(emailStruct, \n",
    "                            function(msg) \n",
    "                              !(\"Subject\" %in% names(msg$header))))\n",
    "\n",
    "all(indNA == indNoSubject)\n",
    "\n",
    "all(emailDF$bodyCharCt > emailDF$numLines)\n",
    "\n",
    "\n",
    "x.at = c(1,10,100,1000,10000,100000)\n",
    "y.at = c(1, 5, 10, 50, 100, 500, 5000)\n",
    "nL = 1 + emailDF$numLines\n",
    "nC = 1 + emailDF$bodyCharCt"
   ]
  },
  {
   "cell_type": "code",
   "execution_count": 39,
   "metadata": {},
   "outputs": [
    {
     "data": {
      "text/html": [
       "<strong>null device:</strong> 1"
      ],
      "text/latex": [
       "\\textbf{null device:} 1"
      ],
      "text/markdown": [
       "**null device:** 1"
      ],
      "text/plain": [
       "null device \n",
       "          1 "
      ]
     },
     "metadata": {},
     "output_type": "display_data"
    },
    {
     "data": {
      "image/png": "[encoded data removed]",
      "text/plain": [
       "plot without title"
      ]
     },
     "metadata": {
      "image/png": {
       "height": 420,
       "width": 420
      },
      "text/plain": {
       "height": 420,
       "width": 420
      }
     },
     "output_type": "display_data"
    }
   ],
   "source": [
    "#pdf(\"ScatterPlotNumLinesNumChars.pdf\", width = 6, height = 4.5)\n",
    "plot(nL ~ nC, log = \"xy\", pch=\".\", xlim=c(1,100000), axes = FALSE,\n",
    "     xlab = \"Number of Characters\", ylab = \"Number of Lines\")\n",
    "box() \n",
    "axis(1, at = x.at, labels = formatC(x.at, digits = 0, format=\"d\"))\n",
    "axis(2, at = y.at, labels = formatC(y.at, digits = 0, format=\"d\")) \n",
    "abline(a=0, b=1, col=\"red\", lwd = 2)\n",
    "dev.off()\n",
    "\n",
    "#pdf(\"SPAM_boxplotsPercentCaps.pdf\", width = 5, height = 5)\n",
    "\n",
    "percent = emailDF$perCaps\n",
    "isSpamLabs = factor(emailDF$isSpam, labels = c(\"ham\", \"spam\"))\n",
    "boxplot(log(1 + percent) ~ isSpamLabs,\n",
    "        ylab = \"Percent Capitals (log)\")\n",
    "\n",
    "#dev.off()"
   ]
  },
  {
   "cell_type": "code",
   "execution_count": 40,
   "metadata": {
    "scrolled": true
   },
   "outputs": [
    {
     "data": {
      "image/png": "[encoded data removed]",
      "text/plain": [
       "Plot with title \"Percentage of Capital Letters (log scale)\""
      ]
     },
     "metadata": {
      "image/png": {
       "height": 420,
       "width": 420
      },
      "text/plain": {
       "height": 420,
       "width": 420
      }
     },
     "output_type": "display_data"
    }
   ],
   "source": [
    "logPerCapsSpam = log(1 + emailDF$perCaps[ emailDF$isSpam ])\n",
    "logPerCapsHam = log(1 + emailDF$perCaps[ !emailDF$isSpam ])\n",
    "\n",
    "qqplot(logPerCapsSpam, logPerCapsHam, \n",
    "       xlab = \"Regular Email\", ylab = \"Spam Email\", \n",
    "       main = \"Percentage of Capital Letters (log scale)\",\n",
    "       pch = 19, cex = 0.3)"
   ]
  },
  {
   "cell_type": "code",
   "execution_count": 41,
   "metadata": {},
   "outputs": [
    {
     "data": {
      "text/plain": [
       "    isSpamLabs\n",
       "      ham spam\n",
       "  0  6624 2158\n",
       "  1   314  230\n",
       "  2    11    6\n",
       "  4     0    1\n",
       "  5     1    2\n",
       "  18    1    0"
      ]
     },
     "metadata": {},
     "output_type": "display_data"
    },
    {
     "data": {
      "image/png": "[encoded data removed]",
      "text/plain": [
       "plot without title"
      ]
     },
     "metadata": {
      "image/png": {
       "height": 420,
       "width": 420
      },
      "text/plain": {
       "height": 420,
       "width": 420
      }
     },
     "output_type": "display_data"
    },
    {
     "data": {
      "image/png": "[encoded data removed]",
      "text/plain": [
       "Plot with title \"\""
      ]
     },
     "metadata": {
      "image/png": {
       "height": 420,
       "width": 420
      },
      "text/plain": {
       "height": 420,
       "width": 420
      }
     },
     "output_type": "display_data"
    }
   ],
   "source": [
    "#pdf(\"SPAM_scatterplotPercentCapsTotChars.pdf\", width = 8, height = 6)\n",
    " \n",
    "colI = c(\"#4DAF4A80\", \"#984EA380\")\n",
    "logBodyCharCt = log(1 + emailDF$bodyCharCt)\n",
    "logPerCaps = log(1 + emailDF$perCaps)\n",
    "plot(logPerCaps ~ logBodyCharCt, xlab = \"Total Characters (log)\",\n",
    "     ylab = \"Percent Capitals (log)\",\n",
    "     col = colI[1 + emailDF$isSpam],\n",
    "     xlim = c(2,12), pch = 19, cex = 0.5)\n",
    "\n",
    "#dev.off()\n",
    "\n",
    "table(emailDF$numAtt, isSpamLabs)\n",
    "#pdf(\"SPAM_mosaicPlots.pdf\", width = 8, height = 4)\n",
    "\n",
    "oldPar = par(mfrow = c(1, 2), mar = c(1,1,1,1))\n",
    "\n",
    "colM = c(\"#E41A1C80\", \"#377EB880\")\n",
    "isRe = factor(emailDF$isRe, labels = c(\"no Re:\", \"Re:\"))\n",
    "mosaicplot(table(isSpamLabs, isRe), main = \"\",\n",
    "           xlab = \"\", ylab = \"\", color = colM)\n",
    "\n",
    "fromNE = factor(emailDF$numEnd, labels = c(\"No #\", \"#\"))\n",
    "mosaicplot(table(isSpamLabs, fromNE), color = colM,\n",
    "           main = \"\", xlab=\"\", ylab = \"\")\n",
    "\n",
    "par(oldPar)\n",
    "\n",
    "#dev.off()\n",
    "\n",
    "library(rpart)\n",
    "\n",
    "setupRpart = function(data) {\n",
    "  logicalVars = which(sapply(data, is.logical))\n",
    "  facVars = lapply(data[ , logicalVars], \n",
    "                   function(x) {\n",
    "                      x = as.factor(x)\n",
    "                      levels(x) = c(\"F\", \"T\")\n",
    "                      x\n",
    "                   })\n",
    "  cbind(facVars, data[ , - logicalVars])\n",
    "}\n",
    "\n",
    "emailDFrp = setupRpart(emailDF)"
   ]
  },
  {
   "cell_type": "markdown",
   "metadata": {},
   "source": [
    "__Textbook question 19__  \n",
    "Consider the other parameters that can be used to control the recursive partitioning process. Read the documentation for them in the rpart.control() documentation. Also, carry out an Internet search for more information on how to tweak the rpart() tuning parameters. Experiment with values for these parameters.Do the trees that result make sense with your understanding of how the parameters are used? Can you improve the prediction using them?"
   ]
  },
  {
   "cell_type": "markdown",
   "metadata": {},
   "source": [
    "__Dan:__ Captured this (below) from the documentation so we can refer to it as we experiment."
   ]
  },
  {
   "cell_type": "markdown",
   "metadata": {},
   "source": [
    "<img src=\"./Plots/rpartControl.PNG\">"
   ]
  },
  {
   "cell_type": "markdown",
   "metadata": {},
   "source": [
    "__Dan:__ We assume that it is preferable to classify spam as not-spam rather than not-spam as spam therefore we want to keep type 1 error low."
   ]
  },
  {
   "cell_type": "code",
   "execution_count": 42,
   "metadata": {},
   "outputs": [],
   "source": [
    "set.seed(418910)\n",
    "testSpamIdx = sample(numSpam, size = floor(numSpam/3))\n",
    "testHamIdx = sample(numHam, size = floor(numHam/3))\n",
    "\n",
    "testDF = \n",
    "  rbind( emailDFrp[emailDFrp$isSpam == \"T\", ][testSpamIdx, ],\n",
    "         emailDFrp[emailDFrp$isSpam == \"F\", ][testHamIdx, ] )\n",
    "trainDF =\n",
    "  rbind( emailDFrp[emailDFrp$isSpam == \"T\", ][-testSpamIdx, ], \n",
    "         emailDFrp[emailDFrp$isSpam == \"F\", ][-testHamIdx, ])"
   ]
  },
  {
   "cell_type": "markdown",
   "metadata": {},
   "source": [
    "__Dan:__ We will set cp to -1 (do not stop growing trees) which will over fit but we will prune the tree later."
   ]
  },
  {
   "cell_type": "code",
   "execution_count": 43,
   "metadata": {},
   "outputs": [
    {
     "data": {
      "text/html": [
       "<table>\n",
       "<caption>A data.frame: 6 × 30</caption>\n",
       "<thead>\n",
       "\t<tr><th></th><th scope=col>isSpam</th><th scope=col>isRe</th><th scope=col>underscore</th><th scope=col>priority</th><th scope=col>isInReplyTo</th><th scope=col>sortedRec</th><th scope=col>subPunc</th><th scope=col>multipartText</th><th scope=col>hasImages</th><th scope=col>isPGPsigned</th><th scope=col>...</th><th scope=col>subQuesCt</th><th scope=col>numAtt</th><th scope=col>numRec</th><th scope=col>perCaps</th><th scope=col>hour</th><th scope=col>perHTML</th><th scope=col>subBlanks</th><th scope=col>forwards</th><th scope=col>avgWordLen</th><th scope=col>numDlr</th></tr>\n",
       "\t<tr><th></th><th scope=col>&lt;fct&gt;</th><th scope=col>&lt;fct&gt;</th><th scope=col>&lt;fct&gt;</th><th scope=col>&lt;fct&gt;</th><th scope=col>&lt;fct&gt;</th><th scope=col>&lt;fct&gt;</th><th scope=col>&lt;fct&gt;</th><th scope=col>&lt;fct&gt;</th><th scope=col>&lt;fct&gt;</th><th scope=col>&lt;fct&gt;</th><th scope=col>...</th><th scope=col>&lt;int&gt;</th><th scope=col>&lt;dbl&gt;</th><th scope=col>&lt;int&gt;</th><th scope=col>&lt;dbl&gt;</th><th scope=col>&lt;dbl&gt;</th><th scope=col>&lt;dbl&gt;</th><th scope=col>&lt;dbl&gt;</th><th scope=col>&lt;dbl&gt;</th><th scope=col>&lt;dbl&gt;</th><th scope=col>&lt;int&gt;</th></tr>\n",
       "</thead>\n",
       "<tbody>\n",
       "\t<tr><th scope=row>./From 2ds/messages/spam1</th><td>T</td><td>F</td><td>F</td><td>F</td><td>F</td><td>T</td><td>F</td><td>F</td><td>F</td><td>F</td><td>...</td><td>1</td><td>0</td><td>1</td><td>38.478648</td><td>12</td><td>42.38749</td><td>16.66667</td><td>1.980198</td><td>3.862543</td><td>0</td></tr>\n",
       "\t<tr><th scope=row>./From 2ds/messages/spam2</th><td>T</td><td>F</td><td>F</td><td>F</td><td>F</td><td>T</td><td>F</td><td>F</td><td>F</td><td>F</td><td>...</td><td>0</td><td>0</td><td>1</td><td> 7.984791</td><td>12</td><td> 0.00000</td><td>16.98113</td><td>0.000000</td><td>3.954887</td><td>0</td></tr>\n",
       "\t<tr><th scope=row>./From 2ds/messages/spam3</th><td>T</td><td>F</td><td>F</td><td>F</td><td>F</td><td>T</td><td>F</td><td>F</td><td>F</td><td>F</td><td>...</td><td>0</td><td>0</td><td>1</td><td> 8.894231</td><td>13</td><td> 0.00000</td><td>46.47887</td><td>0.000000</td><td>3.747748</td><td>0</td></tr>\n",
       "\t<tr><th scope=row>./From 2ds/messages/spam4</th><td>T</td><td>T</td><td>F</td><td>F</td><td>F</td><td>F</td><td>F</td><td>F</td><td>F</td><td>F</td><td>...</td><td>0</td><td>0</td><td>1</td><td>11.123788</td><td>15</td><td> 0.00000</td><td>13.79310</td><td>4.444444</td><td>4.449239</td><td>0</td></tr>\n",
       "\t<tr><th scope=row>./From 2ds/messages/spam7</th><td>T</td><td>F</td><td>F</td><td>F</td><td>F</td><td>T</td><td>F</td><td>F</td><td>F</td><td>F</td><td>...</td><td>0</td><td>0</td><td>1</td><td> 4.669261</td><td>17</td><td> 0.00000</td><td>14.63415</td><td>0.000000</td><td>4.283333</td><td>0</td></tr>\n",
       "\t<tr><th scope=row>./From 2ds/messages/spam8</th><td>T</td><td>F</td><td>F</td><td>F</td><td>F</td><td>T</td><td>F</td><td>F</td><td>F</td><td>F</td><td>...</td><td>1</td><td>0</td><td>1</td><td> 5.911814</td><td>15</td><td>63.26719</td><td>12.00000</td><td>0.000000</td><td>5.166413</td><td>0</td></tr>\n",
       "</tbody>\n",
       "</table>\n"
      ],
      "text/latex": [
       "A data.frame: 6 × 30\n",
       "\\begin{tabular}{r|lllllllllllllllllllll}\n",
       "  & isSpam & isRe & underscore & priority & isInReplyTo & sortedRec & subPunc & multipartText & hasImages & isPGPsigned & ... & subQuesCt & numAtt & numRec & perCaps & hour & perHTML & subBlanks & forwards & avgWordLen & numDlr\\\\\n",
       "  & <fct> & <fct> & <fct> & <fct> & <fct> & <fct> & <fct> & <fct> & <fct> & <fct> & ... & <int> & <dbl> & <int> & <dbl> & <dbl> & <dbl> & <dbl> & <dbl> & <dbl> & <int>\\\\\n",
       "\\hline\n",
       "\t./From 2ds/messages/spam1 & T & F & F & F & F & T & F & F & F & F & ... & 1 & 0 & 1 & 38.478648 & 12 & 42.38749 & 16.66667 & 1.980198 & 3.862543 & 0\\\\\n",
       "\t./From 2ds/messages/spam2 & T & F & F & F & F & T & F & F & F & F & ... & 0 & 0 & 1 &  7.984791 & 12 &  0.00000 & 16.98113 & 0.000000 & 3.954887 & 0\\\\\n",
       "\t./From 2ds/messages/spam3 & T & F & F & F & F & T & F & F & F & F & ... & 0 & 0 & 1 &  8.894231 & 13 &  0.00000 & 46.47887 & 0.000000 & 3.747748 & 0\\\\\n",
       "\t./From 2ds/messages/spam4 & T & T & F & F & F & F & F & F & F & F & ... & 0 & 0 & 1 & 11.123788 & 15 &  0.00000 & 13.79310 & 4.444444 & 4.449239 & 0\\\\\n",
       "\t./From 2ds/messages/spam7 & T & F & F & F & F & T & F & F & F & F & ... & 0 & 0 & 1 &  4.669261 & 17 &  0.00000 & 14.63415 & 0.000000 & 4.283333 & 0\\\\\n",
       "\t./From 2ds/messages/spam8 & T & F & F & F & F & T & F & F & F & F & ... & 1 & 0 & 1 &  5.911814 & 15 & 63.26719 & 12.00000 & 0.000000 & 5.166413 & 0\\\\\n",
       "\\end{tabular}\n"
      ],
      "text/markdown": [
       "\n",
       "A data.frame: 6 × 30\n",
       "\n",
       "| <!--/--> | isSpam &lt;fct&gt; | isRe &lt;fct&gt; | underscore &lt;fct&gt; | priority &lt;fct&gt; | isInReplyTo &lt;fct&gt; | sortedRec &lt;fct&gt; | subPunc &lt;fct&gt; | multipartText &lt;fct&gt; | hasImages &lt;fct&gt; | isPGPsigned &lt;fct&gt; | ... ... | subQuesCt &lt;int&gt; | numAtt &lt;dbl&gt; | numRec &lt;int&gt; | perCaps &lt;dbl&gt; | hour &lt;dbl&gt; | perHTML &lt;dbl&gt; | subBlanks &lt;dbl&gt; | forwards &lt;dbl&gt; | avgWordLen &lt;dbl&gt; | numDlr &lt;int&gt; |\n",
       "|---|---|---|---|---|---|---|---|---|---|---|---|---|---|---|---|---|---|---|---|---|---|\n",
       "| ./From 2ds/messages/spam1 | T | F | F | F | F | T | F | F | F | F | ... | 1 | 0 | 1 | 38.478648 | 12 | 42.38749 | 16.66667 | 1.980198 | 3.862543 | 0 |\n",
       "| ./From 2ds/messages/spam2 | T | F | F | F | F | T | F | F | F | F | ... | 0 | 0 | 1 |  7.984791 | 12 |  0.00000 | 16.98113 | 0.000000 | 3.954887 | 0 |\n",
       "| ./From 2ds/messages/spam3 | T | F | F | F | F | T | F | F | F | F | ... | 0 | 0 | 1 |  8.894231 | 13 |  0.00000 | 46.47887 | 0.000000 | 3.747748 | 0 |\n",
       "| ./From 2ds/messages/spam4 | T | T | F | F | F | F | F | F | F | F | ... | 0 | 0 | 1 | 11.123788 | 15 |  0.00000 | 13.79310 | 4.444444 | 4.449239 | 0 |\n",
       "| ./From 2ds/messages/spam7 | T | F | F | F | F | T | F | F | F | F | ... | 0 | 0 | 1 |  4.669261 | 17 |  0.00000 | 14.63415 | 0.000000 | 4.283333 | 0 |\n",
       "| ./From 2ds/messages/spam8 | T | F | F | F | F | T | F | F | F | F | ... | 1 | 0 | 1 |  5.911814 | 15 | 63.26719 | 12.00000 | 0.000000 | 5.166413 | 0 |\n",
       "\n"
      ],
      "text/plain": [
       "                          isSpam isRe underscore priority isInReplyTo sortedRec\n",
       "./From 2ds/messages/spam1 T      F    F          F        F           T        \n",
       "./From 2ds/messages/spam2 T      F    F          F        F           T        \n",
       "./From 2ds/messages/spam3 T      F    F          F        F           T        \n",
       "./From 2ds/messages/spam4 T      T    F          F        F           F        \n",
       "./From 2ds/messages/spam7 T      F    F          F        F           T        \n",
       "./From 2ds/messages/spam8 T      F    F          F        F           T        \n",
       "                          subPunc multipartText hasImages isPGPsigned ...\n",
       "./From 2ds/messages/spam1 F       F             F         F           ...\n",
       "./From 2ds/messages/spam2 F       F             F         F           ...\n",
       "./From 2ds/messages/spam3 F       F             F         F           ...\n",
       "./From 2ds/messages/spam4 F       F             F         F           ...\n",
       "./From 2ds/messages/spam7 F       F             F         F           ...\n",
       "./From 2ds/messages/spam8 F       F             F         F           ...\n",
       "                          subQuesCt numAtt numRec perCaps   hour perHTML \n",
       "./From 2ds/messages/spam1 1         0      1      38.478648 12   42.38749\n",
       "./From 2ds/messages/spam2 0         0      1       7.984791 12    0.00000\n",
       "./From 2ds/messages/spam3 0         0      1       8.894231 13    0.00000\n",
       "./From 2ds/messages/spam4 0         0      1      11.123788 15    0.00000\n",
       "./From 2ds/messages/spam7 0         0      1       4.669261 17    0.00000\n",
       "./From 2ds/messages/spam8 1         0      1       5.911814 15   63.26719\n",
       "                          subBlanks forwards avgWordLen numDlr\n",
       "./From 2ds/messages/spam1 16.66667  1.980198 3.862543   0     \n",
       "./From 2ds/messages/spam2 16.98113  0.000000 3.954887   0     \n",
       "./From 2ds/messages/spam3 46.47887  0.000000 3.747748   0     \n",
       "./From 2ds/messages/spam4 13.79310  4.444444 4.449239   0     \n",
       "./From 2ds/messages/spam7 14.63415  0.000000 4.283333   0     \n",
       "./From 2ds/messages/spam8 12.00000  0.000000 5.166413   0     "
      ]
     },
     "metadata": {},
     "output_type": "display_data"
    }
   ],
   "source": [
    "head(trainDF)"
   ]
  },
  {
   "cell_type": "code",
   "execution_count": 44,
   "metadata": {},
   "outputs": [
    {
     "name": "stdout",
     "output_type": "stream",
     "text": [
      "'data.frame':\t6232 obs. of  30 variables:\n",
      " $ isSpam       : Factor w/ 2 levels \"F\",\"T\": 2 2 2 2 2 2 2 2 2 2 ...\n",
      " $ isRe         : Factor w/ 2 levels \"F\",\"T\": 1 1 1 2 1 1 1 1 1 1 ...\n",
      " $ underscore   : Factor w/ 2 levels \"F\",\"T\": 1 1 1 1 1 1 1 1 1 1 ...\n",
      " $ priority     : Factor w/ 2 levels \"F\",\"T\": 1 1 1 1 1 1 1 1 1 1 ...\n",
      " $ isInReplyTo  : Factor w/ 2 levels \"F\",\"T\": 1 1 1 1 1 1 1 1 1 1 ...\n",
      " $ sortedRec    : Factor w/ 2 levels \"F\",\"T\": 2 2 2 1 2 2 2 1 2 2 ...\n",
      " $ subPunc      : Factor w/ 2 levels \"F\",\"T\": 1 1 1 1 1 1 1 1 1 1 ...\n",
      " $ multipartText: Factor w/ 2 levels \"F\",\"T\": 1 1 1 1 1 1 1 1 1 1 ...\n",
      " $ hasImages    : Factor w/ 2 levels \"F\",\"T\": 1 1 1 1 1 1 1 1 1 1 ...\n",
      " $ isPGPsigned  : Factor w/ 2 levels \"F\",\"T\": 1 1 1 1 1 1 1 1 1 1 ...\n",
      " $ subSpamWords : Factor w/ 2 levels \"F\",\"T\": 1 2 2 1 1 1 1 1 1 1 ...\n",
      " $ noHost       : Factor w/ 2 levels \"F\",\"T\": 1 1 1 1 1 1 1 1 1 1 ...\n",
      " $ numEnd       : Factor w/ 2 levels \"F\",\"T\": 2 1 1 1 1 1 2 2 1 1 ...\n",
      " $ isYelling    : Factor w/ 2 levels \"F\",\"T\": 1 1 1 1 2 1 1 2 1 1 ...\n",
      " $ isOrigMsg    : Factor w/ 2 levels \"F\",\"T\": 1 1 1 1 1 1 1 1 1 1 ...\n",
      " $ isDear       : Factor w/ 2 levels \"F\",\"T\": 1 1 1 1 1 1 1 1 1 1 ...\n",
      " $ isWrote      : Factor w/ 2 levels \"F\",\"T\": 1 1 1 1 1 1 1 1 1 1 ...\n",
      " $ numLines     : int  101 40 34 90 23 604 101 39 28 17 ...\n",
      " $ bodyCharCt   : int  3765 741 602 2825 669 29059 3765 2199 732 787 ...\n",
      " $ subExcCt     : int  0 0 0 0 0 0 0 1 0 0 ...\n",
      " $ subQuesCt    : int  1 0 0 0 0 1 1 0 0 0 ...\n",
      " $ numAtt       : num  0 0 0 0 0 0 0 0 0 0 ...\n",
      " $ numRec       : int  1 1 1 1 1 1 1 11 1 1 ...\n",
      " $ perCaps      : num  38.48 7.98 8.89 11.12 4.67 ...\n",
      " $ hour         : num  12 12 13 15 17 15 12 18 21 8 ...\n",
      " $ perHTML      : num  42.4 0 0 0 0 ...\n",
      " $ subBlanks    : num  16.7 17 46.5 13.8 14.6 ...\n",
      " $ forwards     : num  1.98 0 0 4.44 0 ...\n",
      " $ avgWordLen   : num  3.86 3.95 3.75 4.45 4.28 ...\n",
      " $ numDlr       : int  0 0 0 0 0 0 0 1 1 0 ...\n"
     ]
    }
   ],
   "source": [
    "str(trainDF)"
   ]
  },
  {
   "cell_type": "code",
   "execution_count": 45,
   "metadata": {},
   "outputs": [
    {
     "data": {
      "text/html": [
       "<ol class=list-inline>\n",
       "\t<li>6232</li>\n",
       "\t<li>30</li>\n",
       "</ol>\n"
      ],
      "text/latex": [
       "\\begin{enumerate*}\n",
       "\\item 6232\n",
       "\\item 30\n",
       "\\end{enumerate*}\n"
      ],
      "text/markdown": [
       "1. 6232\n",
       "2. 30\n",
       "\n",
       "\n"
      ],
      "text/plain": [
       "[1] 6232   30"
      ]
     },
     "metadata": {},
     "output_type": "display_data"
    }
   ],
   "source": [
    "dim(trainDF)"
   ]
  },
  {
   "cell_type": "code",
   "execution_count": 46,
   "metadata": {},
   "outputs": [],
   "source": [
    "rpartFit = rpart(isSpam ~ ., data = trainDF, method = \"class\",cp = -1)"
   ]
  },
  {
   "cell_type": "markdown",
   "metadata": {},
   "source": [
    "__Dan:__ Note to self, try without pruning. Maybe crossfolds account for o verfitting."
   ]
  },
  {
   "cell_type": "markdown",
   "metadata": {},
   "source": [
    "__Dan:__ Now to prune our overfit tree\n",
    "\n",
    "_Sourced from https://www.gormanalysis.com/blog/decision-trees-in-r-using-rpart/\n",
    "\"As a rule of thumb, it’s best to prune a decision tree using the cp of smallest tree that is within one standard deviation of the tree with the smallest xerror.\"_\n",
    "\n",
    "__Dan:__  Using printcp to see our results from overfit tree."
   ]
  },
  {
   "cell_type": "code",
   "execution_count": 47,
   "metadata": {
    "scrolled": false
   },
   "outputs": [
    {
     "name": "stdout",
     "output_type": "stream",
     "text": [
      "\n",
      "Classification tree:\n",
      "rpart(formula = isSpam ~ ., data = trainDF, method = \"class\", \n",
      "    cp = -1)\n",
      "\n",
      "Variables actually used in tree construction:\n",
      " [1] avgWordLen    bodyCharCt    forwards      hour          isDear       \n",
      " [6] isInReplyTo   isRe          isWrote       isYelling     multipartText\n",
      "[11] numAtt        numDlr        numEnd        numLines      numRec       \n",
      "[16] perCaps       perHTML       sortedRec     subBlanks     subExcCt     \n",
      "[21] subQuesCt     subSpamWords  underscore   \n",
      "\n",
      "Root node error: 1598/6232 = 0.25642\n",
      "\n",
      "n= 6232 \n",
      "\n",
      "            CP nsplit rel error  xerror     xstd\n",
      "1   0.29036295      0   1.00000 1.00000 0.021571\n",
      "2   0.09011264      1   0.70964 0.71652 0.019131\n",
      "3   0.07509387      2   0.61952 0.65645 0.018484\n",
      "4   0.04380476      3   0.54443 0.57509 0.017516\n",
      "5   0.02659574      4   0.50063 0.50688 0.016612\n",
      "6   0.02628285      7   0.39862 0.44368 0.015686\n",
      "7   0.02565707      8   0.37234 0.43116 0.015491\n",
      "8   0.02252816      9   0.34668 0.38611 0.014755\n",
      "9   0.01939925     10   0.32416 0.37171 0.014507\n",
      "10  0.01439299     11   0.30476 0.34043 0.013944\n",
      "11  0.01251564     12   0.29036 0.33041 0.013757\n",
      "12  0.00938673     13   0.27785 0.30038 0.013172\n",
      "13  0.00750939     14   0.26846 0.28849 0.012930\n",
      "14  0.00688360     15   0.26095 0.27284 0.012601\n",
      "15  0.00625782     17   0.24718 0.26345 0.012399\n",
      "16  0.00594493     18   0.24093 0.25845 0.012289\n",
      "17  0.00563204     20   0.22904 0.25720 0.012261\n",
      "18  0.00438048     21   0.22340 0.25282 0.012164\n",
      "19  0.00344180     24   0.21026 0.24468 0.011980\n",
      "20  0.00312891     26   0.20338 0.24093 0.011893\n",
      "21  0.00219024     27   0.20025 0.23404 0.011733\n",
      "22  0.00187735     31   0.19149 0.23029 0.011645\n",
      "23  0.00150188     42   0.17084 0.22778 0.011585\n",
      "24  0.00135586     47   0.16333 0.22090 0.011420\n",
      "25  0.00125156     56   0.14956 0.22215 0.011450\n",
      "26  0.00093867     58   0.14706 0.21965 0.011389\n",
      "27  0.00062578     64   0.14143 0.22466 0.011510\n",
      "28  0.00041719     66   0.14018 0.22466 0.011510\n",
      "29  0.00000000     69   0.13892 0.22591 0.011540\n",
      "30 -1.00000000    133   0.13892 0.22591 0.011540\n"
     ]
    }
   ],
   "source": [
    "printcp(rpartFit)"
   ]
  },
  {
   "cell_type": "markdown",
   "metadata": {},
   "source": [
    "__Dan:__ In our case the best xerror is .24906 with standard deviation .012079. So we use CP = 0.00229453 from #17 above."
   ]
  },
  {
   "cell_type": "code",
   "execution_count": 48,
   "metadata": {},
   "outputs": [],
   "source": [
    "rpartFitCpExperiment = rpart(isSpam ~ ., data = trainDF, method = \"class\",cp = 0.00229453)"
   ]
  },
  {
   "cell_type": "code",
   "execution_count": 130,
   "metadata": {},
   "outputs": [
    {
     "name": "stdout",
     "output_type": "stream",
     "text": [
      "[1] \"Metrics for rpartFitCpExperiment:\"\n"
     ]
    },
    {
     "data": {
      "text/html": [
       "<dl class=dl-horizontal>\n",
       "\t<dt>F1-Score</dt>\n",
       "\t\t<dd>0.867972204674668</dd>\n",
       "\t<dt>Precision</dt>\n",
       "\t\t<dd>0.876275510204082</dd>\n",
       "\t<dt>Recall</dt>\n",
       "\t\t<dd>0.85982478097622</dd>\n",
       "</dl>\n"
      ],
      "text/latex": [
       "\\begin{description*}\n",
       "\\item[F1-Score] 0.867972204674668\n",
       "\\item[Precision] 0.876275510204082\n",
       "\\item[Recall] 0.85982478097622\n",
       "\\end{description*}\n"
      ],
      "text/markdown": [
       "F1-Score\n",
       ":   0.867972204674668Precision\n",
       ":   0.876275510204082Recall\n",
       ":   0.85982478097622\n",
       "\n"
      ],
      "text/plain": [
       " F1-Score Precision    Recall \n",
       "0.8679722 0.8762755 0.8598248 "
      ]
     },
     "metadata": {},
     "output_type": "display_data"
    }
   ],
   "source": [
    "# Metric for rpartFitCpExperiment\n",
    "\n",
    "predicted13<- predict(rpartFitCpExperiment, newdata = testDF, type = \"class\")\n",
    "\n",
    "\n",
    "f1_val_rpartFit13 <- F1_Score(y_pred = predicted13, y_true = testDF$isSpam, positive = \"T\")\n",
    "precision_rpartFit13 <- Precision(y_pred = predicted13, y_true = testDF$isSpam, positive = \"T\")\n",
    "recall_rpartFit13  <- Recall(y_pred = predicted13, y_true = testDF$isSpam, positive = \"T\")\n",
    "\n",
    "result <- c( f1_val_rpartFit13, precision_rpartFit13, recall_rpartFit13)\n",
    "\n",
    "names(result) <- c(\"F1-Score\",\"Precision\", \"Recall\")\n",
    "print(\"Metrics for rpartFitCpExperiment:\")\n",
    "return(result)"
   ]
  },
  {
   "cell_type": "code",
   "execution_count": 49,
   "metadata": {},
   "outputs": [
    {
     "data": {
      "text/html": [
       "<dl class=dl-horizontal>\n",
       "\t<dt>perCaps</dt>\n",
       "\t\t<dd>548.355946812969</dd>\n",
       "\t<dt>bodyCharCt</dt>\n",
       "\t\t<dd>344.574025800202</dd>\n",
       "\t<dt>numLines</dt>\n",
       "\t\t<dd>311.352682262048</dd>\n",
       "\t<dt>perHTML</dt>\n",
       "\t\t<dd>252.618398826645</dd>\n",
       "\t<dt>forwards</dt>\n",
       "\t\t<dd>151.119659814878</dd>\n",
       "\t<dt>isInReplyTo</dt>\n",
       "\t\t<dd>123.86203496183</dd>\n",
       "\t<dt>multipartText</dt>\n",
       "\t\t<dd>119.945577129821</dd>\n",
       "\t<dt>avgWordLen</dt>\n",
       "\t\t<dd>108.13425576735</dd>\n",
       "\t<dt>numAtt</dt>\n",
       "\t\t<dd>106.041371210298</dd>\n",
       "\t<dt>numEnd</dt>\n",
       "\t\t<dd>98.9422114125703</dd>\n",
       "\t<dt>isRe</dt>\n",
       "\t\t<dd>93.6498752047643</dd>\n",
       "\t<dt>isWrote</dt>\n",
       "\t\t<dd>92.7026213424074</dd>\n",
       "\t<dt>numDlr</dt>\n",
       "\t\t<dd>82.9164002181664</dd>\n",
       "\t<dt>subExcCt</dt>\n",
       "\t\t<dd>69.1569139345115</dd>\n",
       "\t<dt>numRec</dt>\n",
       "\t\t<dd>68.0541032680715</dd>\n",
       "\t<dt>isDear</dt>\n",
       "\t\t<dd>62.8890558802456</dd>\n",
       "\t<dt>subBlanks</dt>\n",
       "\t\t<dd>61.1712779040744</dd>\n",
       "\t<dt>isYelling</dt>\n",
       "\t\t<dd>35.2104594630728</dd>\n",
       "\t<dt>underscore</dt>\n",
       "\t\t<dd>28.5945124358827</dd>\n",
       "\t<dt>hour</dt>\n",
       "\t\t<dd>24.4966468060806</dd>\n",
       "\t<dt>priority</dt>\n",
       "\t\t<dd>10.077805476165</dd>\n",
       "\t<dt>subQuesCt</dt>\n",
       "\t\t<dd>5.88453109242177</dd>\n",
       "\t<dt>isPGPsigned</dt>\n",
       "\t\t<dd>4.0782334699265</dd>\n",
       "\t<dt>subSpamWords</dt>\n",
       "\t\t<dd>2.48935064140789</dd>\n",
       "\t<dt>isOrigMsg</dt>\n",
       "\t\t<dd>2.03911673496324</dd>\n",
       "</dl>\n"
      ],
      "text/latex": [
       "\\begin{description*}\n",
       "\\item[perCaps] 548.355946812969\n",
       "\\item[bodyCharCt] 344.574025800202\n",
       "\\item[numLines] 311.352682262048\n",
       "\\item[perHTML] 252.618398826645\n",
       "\\item[forwards] 151.119659814878\n",
       "\\item[isInReplyTo] 123.86203496183\n",
       "\\item[multipartText] 119.945577129821\n",
       "\\item[avgWordLen] 108.13425576735\n",
       "\\item[numAtt] 106.041371210298\n",
       "\\item[numEnd] 98.9422114125703\n",
       "\\item[isRe] 93.6498752047643\n",
       "\\item[isWrote] 92.7026213424074\n",
       "\\item[numDlr] 82.9164002181664\n",
       "\\item[subExcCt] 69.1569139345115\n",
       "\\item[numRec] 68.0541032680715\n",
       "\\item[isDear] 62.8890558802456\n",
       "\\item[subBlanks] 61.1712779040744\n",
       "\\item[isYelling] 35.2104594630728\n",
       "\\item[underscore] 28.5945124358827\n",
       "\\item[hour] 24.4966468060806\n",
       "\\item[priority] 10.077805476165\n",
       "\\item[subQuesCt] 5.88453109242177\n",
       "\\item[isPGPsigned] 4.0782334699265\n",
       "\\item[subSpamWords] 2.48935064140789\n",
       "\\item[isOrigMsg] 2.03911673496324\n",
       "\\end{description*}\n"
      ],
      "text/markdown": [
       "perCaps\n",
       ":   548.355946812969bodyCharCt\n",
       ":   344.574025800202numLines\n",
       ":   311.352682262048perHTML\n",
       ":   252.618398826645forwards\n",
       ":   151.119659814878isInReplyTo\n",
       ":   123.86203496183multipartText\n",
       ":   119.945577129821avgWordLen\n",
       ":   108.13425576735numAtt\n",
       ":   106.041371210298numEnd\n",
       ":   98.9422114125703isRe\n",
       ":   93.6498752047643isWrote\n",
       ":   92.7026213424074numDlr\n",
       ":   82.9164002181664subExcCt\n",
       ":   69.1569139345115numRec\n",
       ":   68.0541032680715isDear\n",
       ":   62.8890558802456subBlanks\n",
       ":   61.1712779040744isYelling\n",
       ":   35.2104594630728underscore\n",
       ":   28.5945124358827hour\n",
       ":   24.4966468060806priority\n",
       ":   10.077805476165subQuesCt\n",
       ":   5.88453109242177isPGPsigned\n",
       ":   4.0782334699265subSpamWords\n",
       ":   2.48935064140789isOrigMsg\n",
       ":   2.03911673496324\n",
       "\n"
      ],
      "text/plain": [
       "      perCaps    bodyCharCt      numLines       perHTML      forwards \n",
       "   548.355947    344.574026    311.352682    252.618399    151.119660 \n",
       "  isInReplyTo multipartText    avgWordLen        numAtt        numEnd \n",
       "   123.862035    119.945577    108.134256    106.041371     98.942211 \n",
       "         isRe       isWrote        numDlr      subExcCt        numRec \n",
       "    93.649875     92.702621     82.916400     69.156914     68.054103 \n",
       "       isDear     subBlanks     isYelling    underscore          hour \n",
       "    62.889056     61.171278     35.210459     28.594512     24.496647 \n",
       "     priority     subQuesCt   isPGPsigned  subSpamWords     isOrigMsg \n",
       "    10.077805      5.884531      4.078233      2.489351      2.039117 "
      ]
     },
     "metadata": {},
     "output_type": "display_data"
    }
   ],
   "source": [
    "rpartFitCpExperiment$variable.importance"
   ]
  },
  {
   "cell_type": "markdown",
   "metadata": {},
   "source": [
    "__DD:__ Plot our pruned tree"
   ]
  },
  {
   "cell_type": "code",
   "execution_count": 50,
   "metadata": {},
   "outputs": [
    {
     "data": {
      "text/html": [
       "<dl class=dl-horizontal>\n",
       "\t<dt>F</dt>\n",
       "\t\t<dd>2220</dd>\n",
       "\t<dt>T</dt>\n",
       "\t\t<dd>97</dd>\n",
       "</dl>\n"
      ],
      "text/latex": [
       "\\begin{description*}\n",
       "\\item[F] 2220\n",
       "\\item[T] 97\n",
       "\\end{description*}\n"
      ],
      "text/markdown": [
       "F\n",
       ":   2220T\n",
       ":   97\n",
       "\n"
      ],
      "text/plain": [
       "   F    T \n",
       "2220   97 "
      ]
     },
     "metadata": {},
     "output_type": "display_data"
    },
    {
     "data": {
      "image/png": "[encoded data removed]",
      "text/plain": [
       "plot without title"
      ]
     },
     "metadata": {
      "image/png": {
       "height": 420,
       "width": 420
      },
      "text/plain": {
       "height": 420,
       "width": 420
      }
     },
     "output_type": "display_data"
    }
   ],
   "source": [
    "library(rpart.plot)\n",
    "library(RColorBrewer)\n",
    "\n",
    "rpart.plot(rpartFitCpExperiment, extra = 1)\n",
    "predictions = predict(rpartFitCpExperiment, \n",
    "       newdata = testDF[, names(testDF) != \"isSpam\"],\n",
    "       type = \"class\")\n",
    "\n",
    "predsForHam = predictions[ testDF$isSpam == \"F\" ]\n",
    "summary(predsForHam)\n",
    "\n",
    "predsForSpam = predictions[ testDF$isSpam == \"T\" ]\n"
   ]
  },
  {
   "cell_type": "code",
   "execution_count": 51,
   "metadata": {},
   "outputs": [
    {
     "data": {
      "text/html": [
       "<span style=white-space:pre-wrap>'Type 1 Error =  0.0418644799309452'</span>"
      ],
      "text/latex": [
       "'Type 1 Error =  0.0418644799309452'"
      ],
      "text/markdown": [
       "<span style=white-space:pre-wrap>'Type 1 Error =  0.0418644799309452'</span>"
      ],
      "text/plain": [
       "[1] \"Type 1 Error =  0.0418644799309452\""
      ]
     },
     "metadata": {},
     "output_type": "display_data"
    },
    {
     "data": {
      "text/html": [
       "<span style=white-space:pre-wrap>'Type 2 Error =  0.14017521902378'</span>"
      ],
      "text/latex": [
       "'Type 2 Error =  0.14017521902378'"
      ],
      "text/markdown": [
       "<span style=white-space:pre-wrap>'Type 2 Error =  0.14017521902378'</span>"
      ],
      "text/plain": [
       "[1] \"Type 2 Error =  0.14017521902378\""
      ]
     },
     "metadata": {},
     "output_type": "display_data"
    }
   ],
   "source": [
    "paste(\"Type 1 Error = \",(sum(predsForHam == \"T\") / length(predsForHam)))\n",
    "paste(\"Type 2 Error = \",(sum(predsForSpam == \"F\") / length(predsForSpam)))"
   ]
  },
  {
   "cell_type": "markdown",
   "metadata": {},
   "source": [
    "We did not improve on the original Type 1 Error _.038_ achieved by the code Dr. Slater's provided. How ever it is interesting to demonstrate that the \"rule of thumb\" produced comparable results."
   ]
  },
  {
   "cell_type": "markdown",
   "metadata": {},
   "source": [
    "Now we try adjusting the \"minsplit\" using fancy fits function"
   ]
  },
  {
   "cell_type": "code",
   "execution_count": 52,
   "metadata": {},
   "outputs": [],
   "source": [
    "minsplitvals = c(10:30)"
   ]
  },
  {
   "cell_type": "code",
   "execution_count": 53,
   "metadata": {},
   "outputs": [
    {
     "data": {
      "text/html": [
       "<ol class=list-inline>\n",
       "\t<li>10</li>\n",
       "\t<li>11</li>\n",
       "\t<li>12</li>\n",
       "\t<li>13</li>\n",
       "\t<li>14</li>\n",
       "\t<li>15</li>\n",
       "\t<li>16</li>\n",
       "\t<li>17</li>\n",
       "\t<li>18</li>\n",
       "\t<li>19</li>\n",
       "\t<li>20</li>\n",
       "\t<li>21</li>\n",
       "\t<li>22</li>\n",
       "\t<li>23</li>\n",
       "\t<li>24</li>\n",
       "\t<li>25</li>\n",
       "\t<li>26</li>\n",
       "\t<li>27</li>\n",
       "\t<li>28</li>\n",
       "\t<li>29</li>\n",
       "\t<li>30</li>\n",
       "</ol>\n"
      ],
      "text/latex": [
       "\\begin{enumerate*}\n",
       "\\item 10\n",
       "\\item 11\n",
       "\\item 12\n",
       "\\item 13\n",
       "\\item 14\n",
       "\\item 15\n",
       "\\item 16\n",
       "\\item 17\n",
       "\\item 18\n",
       "\\item 19\n",
       "\\item 20\n",
       "\\item 21\n",
       "\\item 22\n",
       "\\item 23\n",
       "\\item 24\n",
       "\\item 25\n",
       "\\item 26\n",
       "\\item 27\n",
       "\\item 28\n",
       "\\item 29\n",
       "\\item 30\n",
       "\\end{enumerate*}\n"
      ],
      "text/markdown": [
       "1. 10\n",
       "2. 11\n",
       "3. 12\n",
       "4. 13\n",
       "5. 14\n",
       "6. 15\n",
       "7. 16\n",
       "8. 17\n",
       "9. 18\n",
       "10. 19\n",
       "11. 20\n",
       "12. 21\n",
       "13. 22\n",
       "14. 23\n",
       "15. 24\n",
       "16. 25\n",
       "17. 26\n",
       "18. 27\n",
       "19. 28\n",
       "20. 29\n",
       "21. 30\n",
       "\n",
       "\n"
      ],
      "text/plain": [
       " [1] 10 11 12 13 14 15 16 17 18 19 20 21 22 23 24 25 26 27 28 29 30"
      ]
     },
     "metadata": {},
     "output_type": "display_data"
    }
   ],
   "source": [
    "# minsplitvals "
   ]
  },
  {
   "cell_type": "code",
   "execution_count": 54,
   "metadata": {},
   "outputs": [],
   "source": [
    "minbucket = c(10:30)"
   ]
  },
  {
   "cell_type": "code",
   "execution_count": 55,
   "metadata": {},
   "outputs": [],
   "source": [
    "fits = lapply(minbucket, function(x) {\n",
    "         rpartObj = rpart(isSpam ~ ., data = trainDF,\n",
    "                          method=\"class\", \n",
    "                          control = rpart.control(minbucket=x) )\n",
    "           \n",
    "         predict(rpartObj, \n",
    "                 newdata = testDF[ , names(testDF) != \"isSpam\"],\n",
    "                 type = \"class\")\n",
    "        })\n",
    "\n",
    "spam = testDF$isSpam == \"T\"\n",
    "numSpam = sum(spam)\n",
    "numHam = sum(!spam)\n",
    "errs = sapply(fits, function(preds) {\n",
    "                      typeI = sum(preds[ !spam ] == \"T\") / numHam\n",
    "                      typeII = sum(preds[ spam ] == \"F\") / numSpam\n",
    "                      c(typeI = typeI, typeII = typeII)\n",
    "                     })"
   ]
  },
  {
   "cell_type": "code",
   "execution_count": 56,
   "metadata": {},
   "outputs": [
    {
     "data": {
      "text/html": [
       "<table>\n",
       "<caption>A matrix: 2 × 21 of type dbl</caption>\n",
       "<tbody>\n",
       "\t<tr><th scope=row>typeI</th><td>0.05394907</td><td>0.05394907</td><td>0.05394907</td><td>0.05394907</td><td>0.05394907</td><td>0.05394907</td><td>0.05394907</td><td>0.05394907</td><td>0.05394907</td><td>0.05394907</td><td>...</td><td>0.05394907</td><td>0.05394907</td><td>0.05394907</td><td>0.05394907</td><td>0.05394907</td><td>0.05394907</td><td>0.05394907</td><td>0.05394907</td><td>0.05394907</td><td>0.05394907</td></tr>\n",
       "\t<tr><th scope=row>typeII</th><td>0.15644556</td><td>0.15644556</td><td>0.15644556</td><td>0.15644556</td><td>0.15644556</td><td>0.15644556</td><td>0.15644556</td><td>0.15644556</td><td>0.15644556</td><td>0.15644556</td><td>...</td><td>0.15644556</td><td>0.15644556</td><td>0.15644556</td><td>0.15644556</td><td>0.15644556</td><td>0.15644556</td><td>0.15644556</td><td>0.15644556</td><td>0.15644556</td><td>0.15644556</td></tr>\n",
       "</tbody>\n",
       "</table>\n"
      ],
      "text/latex": [
       "A matrix: 2 × 21 of type dbl\n",
       "\\begin{tabular}{r|lllllllllllllllllllll}\n",
       "\ttypeI & 0.05394907 & 0.05394907 & 0.05394907 & 0.05394907 & 0.05394907 & 0.05394907 & 0.05394907 & 0.05394907 & 0.05394907 & 0.05394907 & ... & 0.05394907 & 0.05394907 & 0.05394907 & 0.05394907 & 0.05394907 & 0.05394907 & 0.05394907 & 0.05394907 & 0.05394907 & 0.05394907\\\\\n",
       "\ttypeII & 0.15644556 & 0.15644556 & 0.15644556 & 0.15644556 & 0.15644556 & 0.15644556 & 0.15644556 & 0.15644556 & 0.15644556 & 0.15644556 & ... & 0.15644556 & 0.15644556 & 0.15644556 & 0.15644556 & 0.15644556 & 0.15644556 & 0.15644556 & 0.15644556 & 0.15644556 & 0.15644556\\\\\n",
       "\\end{tabular}\n"
      ],
      "text/markdown": [
       "\n",
       "A matrix: 2 × 21 of type dbl\n",
       "\n",
       "| typeI | 0.05394907 | 0.05394907 | 0.05394907 | 0.05394907 | 0.05394907 | 0.05394907 | 0.05394907 | 0.05394907 | 0.05394907 | 0.05394907 | ... | 0.05394907 | 0.05394907 | 0.05394907 | 0.05394907 | 0.05394907 | 0.05394907 | 0.05394907 | 0.05394907 | 0.05394907 | 0.05394907 |\n",
       "| typeII | 0.15644556 | 0.15644556 | 0.15644556 | 0.15644556 | 0.15644556 | 0.15644556 | 0.15644556 | 0.15644556 | 0.15644556 | 0.15644556 | ... | 0.15644556 | 0.15644556 | 0.15644556 | 0.15644556 | 0.15644556 | 0.15644556 | 0.15644556 | 0.15644556 | 0.15644556 | 0.15644556 |\n",
       "\n"
      ],
      "text/plain": [
       "       [,1]       [,2]       [,3]       [,4]       [,5]       [,6]      \n",
       "typeI  0.05394907 0.05394907 0.05394907 0.05394907 0.05394907 0.05394907\n",
       "typeII 0.15644556 0.15644556 0.15644556 0.15644556 0.15644556 0.15644556\n",
       "       [,7]       [,8]       [,9]       [,10]      [,11] [,12]      [,13]     \n",
       "typeI  0.05394907 0.05394907 0.05394907 0.05394907 ...   0.05394907 0.05394907\n",
       "typeII 0.15644556 0.15644556 0.15644556 0.15644556 ...   0.15644556 0.15644556\n",
       "       [,14]      [,15]      [,16]      [,17]      [,18]      [,19]     \n",
       "typeI  0.05394907 0.05394907 0.05394907 0.05394907 0.05394907 0.05394907\n",
       "typeII 0.15644556 0.15644556 0.15644556 0.15644556 0.15644556 0.15644556\n",
       "       [,20]      [,21]     \n",
       "typeI  0.05394907 0.05394907\n",
       "typeII 0.15644556 0.15644556"
      ]
     },
     "metadata": {},
     "output_type": "display_data"
    }
   ],
   "source": [
    "errs"
   ]
  },
  {
   "cell_type": "code",
   "execution_count": 57,
   "metadata": {},
   "outputs": [
    {
     "data": {
      "image/png": "[encoded data removed]",
      "text/plain": [
       "plot without title"
      ]
     },
     "metadata": {
      "image/png": {
       "height": 420,
       "width": 420
      },
      "text/plain": {
       "height": 420,
       "width": 420
      }
     },
     "output_type": "display_data"
    }
   ],
   "source": [
    "\n",
    "#pdf(\"SPAM_rpartTypeIandII.pdf\", width = 8, height = 7)\n",
    "library(RColorBrewer)\n",
    "cols = brewer.pal(9, \"Set1\")[c(3, 4, 5)]\n",
    "plot(errs[1,] ~ minbucket, type=\"l\", col=cols[2], \n",
    "     lwd = 2, ylim = c(0,0.2), xlim = c(0,0.01), \n",
    "     ylab=\"Error\", xlab=\"Minbucket parameter values\")\n",
    "points(errs[2,] ~ minbucket, type=\"l\", col=cols[1], lwd = 2)\n",
    "\n",
    "text(x =c(0.003, 0.0035), y = c(0.12, 0.05), \n",
    "     labels=c(\"Type II Error\", \"Type I Error\"))\n",
    "\n",
    "minI = which(errs[1,] == min(errs[1,]))[1]\n",
    "abline(v = minbucket[minI], col =\"grey\", lty =3, lwd=2)\n",
    "\n",
    "text(0.0007, errs[1, minI]+0.01, \n",
    "     formatC(errs[1, minI], digits = 2))\n",
    "text(0.0007, errs[2, minI]+0.01, \n",
    "     formatC(errs[2, minI], digits = 3))\n",
    "\n",
    "#dev.off()"
   ]
  },
  {
   "cell_type": "code",
   "execution_count": 58,
   "metadata": {},
   "outputs": [],
   "source": [
    "#save(emailDFrp,file=\"data.Rda\")\n",
    "load(file=\"./From 2ds/data.Rda\")"
   ]
  },
  {
   "cell_type": "markdown",
   "metadata": {},
   "source": [
    "__Textbook question 20__  \n",
    "In Section 3.6.3 we used the test set that we had put aside to both select τ, the threshold for the log odds, and to evaluate the Type I and II errors incurred when we use this threshold. Ideally, we choose τ from another set of messages that is both independent of our training data and our test data. The method of cross-validation is designed to use the training set for training and validating the model. Implement 5-fold cross-validation to choose τ and assess the error rate with our training data. To do this, follow the steps:  \n",
    "__(a)__ Use the sample() function to permute the indices of the training set, and organize these permuted indices into 5 equal-size sets, called folds.  \n",
    "__(b)__ Foreachfold,takethecorrespondingsubsetfromthetrainingdatatouseasa‘test’ set. Use the remaining messages in the training data as the training set. Apply the functions developed in Section 3.6 to estimate the probabilities that a word occurs in a message given it is spam or ham, and use these probabilities to compute the log likelihood ratio for the messages in the training set.  \n",
    "__(c)__ Pool all of the LLR values from the messages in all of the folds, i.e., from all of the training data, and use these values and the typeIErrorRate() function to select a threshold that achieves a 1% Type I error.  \n",
    "__(d)__ Apply this threshold to our original/real test set and ﬁnd its Type I and Type II errors."
   ]
  },
  {
   "cell_type": "markdown",
   "metadata": {},
   "source": [
    "### LJ note:\n",
    "### plan to do these things:\n",
    "\n",
    "#### 1. see how the cp will affect on the tree while holding others constant using rpart\n",
    "\n",
    "#### 2. set cp small and find optimal cp, then prune tree based on cp\n",
    "prune fit0\n",
    "#### see how pruning affect the model performance\n",
    "\n",
    "#### 3. focus on tune cp and MaxDepth and keep other values constant.\n",
    "(rpartFit 0-10. combination of 9, plus rpartFit0 - vanilla model.)\n",
    "cp 0.0001  0.002  0.01\n",
    "\n",
    "MaxDepth 4,6,10 \n",
    "\n",
    "cp-- prevent overfitting. higher, less split. too low underfit; too high overfit. max value is 1\n",
    "\n",
    "MaxDepth -- of the final tree\n",
    "\n",
    "minsplit --any node with number of n will not get further split.\n",
    " the number of required classified observations in a node before a split can happen. seems default 20. set it to 10? or just keep 20.\n",
    "\n",
    "xval -- the number (x) of cross validations to be carried out on the data. default 10. repeat 5 fold cross validation for 10 times.\n",
    "\n",
    "did not test on other parameters like maxcomplete.\n",
    "\n",
    "\n",
    "\n",
    "#### 4. use rpart package see how the cp will affect on the tree while holding others constant\n",
    "#### caret package can grid search cp, also print F1, prec, rec"
   ]
  },
  {
   "cell_type": "markdown",
   "metadata": {},
   "source": [
    "## Task 1\n",
    "### use rpart package see how the cp will affect on the tree while holding others constant"
   ]
  },
  {
   "cell_type": "code",
   "execution_count": 59,
   "metadata": {},
   "outputs": [],
   "source": [
    "# function to fit the given model\n",
    "rpartFitFunc = function(rpartFit,fileNamePostfix) {\n",
    "    print(rpartFit)\n",
    "    prp(rpartFit, extra = 1)\n",
    "    \n",
    "    fileName = paste('SPAM__rpartTree',fileNamePostfix,'.png',sep=\"\")\n",
    "    dev.copy(png,fileName)\n",
    "    dev.off()\n",
    "\n",
    "    predictions = predict(rpartFit, \n",
    "           newdata = testDF[, names(testDF) != \"isSpam\"],\n",
    "           type = \"class\")\n",
    "\n",
    "    predsForHam = predictions[ testDF$isSpam == \"F\" ]\n",
    "    summary(predsForHam)\n",
    "\n",
    "    sum(predsForHam == \"T\") / length(predsForHam)\n",
    "\n",
    "    predsForSpam = predictions[ testDF$isSpam == \"T\" ]\n",
    "    sum(predsForSpam == \"F\") / length(predsForSpam)\n",
    "\n",
    "    complexityVals = c(seq(0.00001, 0.0001, length=19),\n",
    "                       seq(0.0001, 0.001, length=19), \n",
    "                       seq(0.001, 0.005, length=9),\n",
    "                       seq(0.005, 0.01, length=9))\n",
    "    \n",
    "    fits = lapply(complexityVals, function(x) {\n",
    "         rpartObj = rpart(isSpam ~ ., data = trainDF,\n",
    "                          method=\"class\", \n",
    "                          control = rpart.control(cp=x) )\n",
    "           \n",
    "         predict(rpartObj, \n",
    "                 newdata = testDF[ , names(testDF) != \"isSpam\"],\n",
    "                 type = \"class\")\n",
    "        })\n",
    "\n",
    "    spam = testDF$isSpam == \"T\"\n",
    "    numSpam = sum(spam)\n",
    "    numHam = sum(!spam)\n",
    "    errs = sapply(fits, function(preds) {\n",
    "                          typeI = sum(preds[ !spam ] == \"T\") / numHam\n",
    "                          typeII = sum(preds[ spam ] == \"F\") / numSpam\n",
    "                          c(typeI = typeI, typeII = typeII)\n",
    "                         })\n",
    "    \n",
    "    cols = brewer.pal(9, \"Set1\")[c(3, 4, 5)]\n",
    "    plot(errs[1,] ~ complexityVals, type=\"l\", col=cols[2], \n",
    "         lwd = 2, ylim = c(0,0.2), xlim = c(0,0.01), \n",
    "         ylab=\"Error\", xlab=\"complexity parameter values\")\n",
    "    points(errs[2,] ~ complexityVals, type=\"l\", col=cols[1], lwd = 2)\n",
    "\n",
    "    text(x =c(0.003, 0.0035), y = c(0.12, 0.05), \n",
    "         labels=c(\"Type II Error\", \"Type I Error\"))\n",
    "\n",
    "    minI = which(errs[1,] == min(errs[1,]))[1]\n",
    "    abline(v = complexityVals[minI], col =\"grey\", lty =3, lwd=2)\n",
    "\n",
    "    text(0.0007, errs[1, minI]+0.01, \n",
    "         formatC(errs[1, minI], digits = 2))\n",
    "    text(0.0007, errs[2, minI]+0.01, \n",
    "         formatC(errs[2, minI], digits = 3))\n",
    "\n",
    "    }"
   ]
  },
  {
   "cell_type": "code",
   "execution_count": 60,
   "metadata": {
    "scrolled": false
   },
   "outputs": [
    {
     "name": "stdout",
     "output_type": "stream",
     "text": [
      "n= 6232 \n",
      "\n",
      "node), split, n, loss, yval, (yprob)\n",
      "      * denotes terminal node\n",
      "\n",
      "      1) root 6232 1598 F (0.7435815148 0.2564184852)  \n",
      "        2) perCaps< 13.05174 5396  948 F (0.8243143069 0.1756856931)  \n",
      "          4) perHTML< 3.926441 4952  654 F (0.8679321486 0.1320678514)  \n",
      "            8) forwards>=1.240008 2258   18 F (0.9920283437 0.0079716563)  \n",
      "             16) forwards>=5.81474 2025    2 F (0.9990123457 0.0009876543) *\n",
      "             17) forwards< 5.81474 233   16 F (0.9313304721 0.0686695279)  \n",
      "               34) perCaps< 9.477678 205    6 F (0.9707317073 0.0292682927)  \n",
      "                 68) numDlr< 1.5 184    0 F (1.0000000000 0.0000000000) *\n",
      "                 69) numDlr>=1.5 21    6 F (0.7142857143 0.2857142857)  \n",
      "                  138) isRe=T 13    0 F (1.0000000000 0.0000000000) *\n",
      "                  139) isRe=F 8    2 T (0.2500000000 0.7500000000) *\n",
      "               35) perCaps>=9.477678 28   10 F (0.6428571429 0.3571428571)  \n",
      "                 70) avgWordLen>=4.464674 17    0 F (1.0000000000 0.0000000000) *\n",
      "                 71) avgWordLen< 4.464674 11    1 T (0.0909090909 0.9090909091) *\n",
      "            9) forwards< 1.240008 2694  636 F (0.7639198218 0.2360801782)  \n",
      "             18) numEnd=F 2485  489 F (0.8032193159 0.1967806841)  \n",
      "               36) multipartText=F 2339  377 F (0.8388200086 0.1611799914)  \n",
      "                 72) subExcCt< 0.5 2213  293 F (0.8676005423 0.1323994577)  \n",
      "                  144) isDear=F 2172  252 F (0.8839779006 0.1160220994)  \n",
      "                    288) subBlanks< 25.03193 2136  216 F (0.8988764045 0.1011235955)  \n",
      "                      576) isYelling=F 2104  190 F (0.9096958175 0.0903041825)  \n",
      "                       1152) underscore=F 2089  175 F (0.9162278602 0.0837721398)  \n",
      "                         2304) avgWordLen>=2.76982 2078  164 F (0.9210779596 0.0789220404)  \n",
      "                           4608) numRec>=0.5 2059  150 F (0.9271491015 0.0728508985)  \n",
      "                             9216) numRec< 4.5 2044  139 F (0.9319960861 0.0680039139)  \n",
      "                              18432) numDlr< 11.5 2012  124 F (0.9383697813 0.0616302187)  \n",
      "                                36864) subSpamWords=F 1944  102 F (0.9475308642 0.0524691358)  \n",
      "                                  73728) avgWordLen< 5.265122 1825   78 F (0.9572602740 0.0427397260)  \n",
      "                                   147456) numDlr< 0.5 1651   55 F (0.9666868565 0.0333131435)  \n",
      "                                     294912) numLines< 155 1613   48 F (0.9702417855 0.0297582145)  \n",
      "                                       589824) sortedRec=T 1554   39 F (0.9749034749 0.0250965251)  \n",
      "                                        1179648) hour< 22.5 1510   33 F (0.9781456954 0.0218543046)  \n",
      "                                          2359296) perCaps< 10.09911 1371   23 F (0.9832239241 0.0167760759) *\n",
      "                                          2359297) perCaps>=10.09911 139   10 F (0.9280575540 0.0719424460)  \n",
      "                                            4718594) perCaps>=10.38204 131    5 F (0.9618320611 0.0381679389) *\n",
      "                                            4718595) perCaps< 10.38204 8    3 T (0.3750000000 0.6250000000) *\n",
      "                                        1179649) hour>=22.5 44    6 F (0.8636363636 0.1363636364) *\n",
      "                                       589825) sortedRec=F 59    9 F (0.8474576271 0.1525423729)  \n",
      "                                        1179650) numRec>=1.5 50    0 F (1.0000000000 0.0000000000) *\n",
      "                                        1179651) numRec< 1.5 9    0 T (0.0000000000 1.0000000000) *\n",
      "                                     294913) numLines>=155 38    7 F (0.8157894737 0.1842105263)  \n",
      "                                       589826) numLines>=175 31    2 F (0.9354838710 0.0645161290) *\n",
      "                                       589827) numLines< 175 7    2 T (0.2857142857 0.7142857143) *\n",
      "                                   147457) numDlr>=0.5 174   23 F (0.8678160920 0.1321839080)  \n",
      "                                     294914) numDlr>=1.5 92    6 F (0.9347826087 0.0652173913) *\n",
      "                                     294915) numDlr< 1.5 82   17 F (0.7926829268 0.2073170732)  \n",
      "                                       589830) numLines>=62 35    2 F (0.9428571429 0.0571428571) *\n",
      "                                       589831) numLines< 62 47   15 F (0.6808510638 0.3191489362)  \n",
      "                                        1179662) bodyCharCt< 600.5 9    0 F (1.0000000000 0.0000000000) *\n",
      "                                        1179663) bodyCharCt>=600.5 38   15 F (0.6052631579 0.3947368421)  \n",
      "                                          2359326) perCaps< 5.679857 24    5 F (0.7916666667 0.2083333333) *\n",
      "                                          2359327) perCaps>=5.679857 14    4 T (0.2857142857 0.7142857143) *\n",
      "                                  73729) avgWordLen>=5.265122 119   24 F (0.7983193277 0.2016806723)  \n",
      "                                   147458) bodyCharCt< 973 74    6 F (0.9189189189 0.0810810811) *\n",
      "                                   147459) bodyCharCt>=973 45   18 F (0.6000000000 0.4000000000)  \n",
      "                                     294918) perCaps< 8.164823 34    8 F (0.7647058824 0.2352941176) *\n",
      "                                     294919) perCaps>=8.164823 11    1 T (0.0909090909 0.9090909091) *\n",
      "                                36865) subSpamWords=T 68   22 F (0.6764705882 0.3235294118)  \n",
      "                                  73730) bodyCharCt< 410.5 25    0 F (1.0000000000 0.0000000000) *\n",
      "                                  73731) bodyCharCt>=410.5 43   21 T (0.4883720930 0.5116279070)  \n",
      "                                   147462) bodyCharCt>=2766 10    1 F (0.9000000000 0.1000000000) *\n",
      "                                   147463) bodyCharCt< 2766 33   12 T (0.3636363636 0.6363636364)  \n",
      "                                     294926) subBlanks>=11.95554 23   11 T (0.4782608696 0.5217391304)  \n",
      "                                       589852) perCaps< 6.23812 14    4 F (0.7142857143 0.2857142857) *\n",
      "                                       589853) perCaps>=6.23812 9    1 T (0.1111111111 0.8888888889) *\n",
      "                                     294927) subBlanks< 11.95554 10    1 T (0.1000000000 0.9000000000) *\n",
      "                              18433) numDlr>=11.5 32   15 F (0.5312500000 0.4687500000)  \n",
      "                                36866) bodyCharCt< 8035 17    2 F (0.8823529412 0.1176470588) *\n",
      "                                36867) bodyCharCt>=8035 15    2 T (0.1333333333 0.8666666667) *\n",
      "                             9217) numRec>=4.5 15    4 T (0.2666666667 0.7333333333) *\n",
      "                           4609) numRec< 0.5 19    5 T (0.2631578947 0.7368421053) *\n",
      "                         2305) avgWordLen< 2.76982 11    0 T (0.0000000000 1.0000000000) *\n",
      "                       1153) underscore=T 15    0 T (0.0000000000 1.0000000000) *\n",
      "                      577) isYelling=T 32    6 T (0.1875000000 0.8125000000) *\n",
      "                    289) subBlanks>=25.03193 36    0 T (0.0000000000 1.0000000000) *\n",
      "                  145) isDear=T 41    0 T (0.0000000000 1.0000000000) *\n",
      "                 73) subExcCt>=0.5 126   42 T (0.3333333333 0.6666666667)  \n",
      "                  146) hour>=7.5 82   41 F (0.5000000000 0.5000000000)  \n",
      "                    292) numLines< 25.5 43   12 F (0.7209302326 0.2790697674)  \n",
      "                      584) hour< 8.5 16    0 F (1.0000000000 0.0000000000) *\n",
      "                      585) hour>=8.5 27   12 F (0.5555555556 0.4444444444)  \n",
      "                       1170) numRec>=1.5 10    2 F (0.8000000000 0.2000000000) *\n",
      "                       1171) numRec< 1.5 17    7 T (0.4117647059 0.5882352941) *\n",
      "                    293) numLines>=25.5 39   10 T (0.2564102564 0.7435897436)  \n",
      "                      586) bodyCharCt>=1317 26   10 T (0.3846153846 0.6153846154)  \n",
      "                       1172) numDlr< 0.5 18    8 F (0.5555555556 0.4444444444) *\n",
      "                       1173) numDlr>=0.5 8    0 T (0.0000000000 1.0000000000) *\n",
      "                      587) bodyCharCt< 1317 13    0 T (0.0000000000 1.0000000000) *\n",
      "                  147) hour< 7.5 44    1 T (0.0227272727 0.9772727273) *\n",
      "               37) multipartText=T 146   34 T (0.2328767123 0.7671232877)  \n",
      "                 74) numLines>=114.5 12    0 F (1.0000000000 0.0000000000) *\n",
      "                 75) numLines< 114.5 134   22 T (0.1641791045 0.8358208955)  \n",
      "                  150) numLines< 27 15    4 F (0.7333333333 0.2666666667) *\n",
      "                  151) numLines>=27 119   11 T (0.0924369748 0.9075630252) *\n",
      "             19) numEnd=T 209   62 T (0.2966507177 0.7033492823)  \n",
      "               38) numAtt>=0.5 35    6 F (0.8285714286 0.1714285714)  \n",
      "                 76) avgWordLen>=4.628732 28    0 F (1.0000000000 0.0000000000) *\n",
      "                 77) avgWordLen< 4.628732 7    1 T (0.1428571429 0.8571428571) *\n",
      "               39) numAtt< 0.5 174   33 T (0.1896551724 0.8103448276)  \n",
      "                 78) numLines< 19.5 33   15 T (0.4545454545 0.5454545455)  \n",
      "                  156) perCaps>=7.163383 7    0 F (1.0000000000 0.0000000000) *\n",
      "                  157) perCaps< 7.163383 26    8 T (0.3076923077 0.6923076923) *\n",
      "                 79) numLines>=19.5 141   18 T (0.1276595745 0.8723404255) *\n",
      "          5) perHTML>=3.926441 444  150 T (0.3378378378 0.6621621622)  \n",
      "           10) bodyCharCt>=18129 146   13 F (0.9109589041 0.0890410959)  \n",
      "             20) avgWordLen< 4.679784 135    2 F (0.9851851852 0.0148148148) *\n",
      "             21) avgWordLen>=4.679784 11    0 T (0.0000000000 1.0000000000) *\n",
      "           11) bodyCharCt< 18129 298   17 T (0.0570469799 0.9429530201)  \n",
      "             22) bodyCharCt>=12241.5 27   11 T (0.4074074074 0.5925925926)  \n",
      "               44) numEnd=T 11    2 F (0.8181818182 0.1818181818) *\n",
      "               45) numEnd=F 16    2 T (0.1250000000 0.8750000000) *\n",
      "             23) bodyCharCt< 12241.5 271    6 T (0.0221402214 0.9778597786) *\n",
      "        3) perCaps>=13.05174 836  186 T (0.2224880383 0.7775119617)  \n",
      "          6) bodyCharCt< 289 86    8 F (0.9069767442 0.0930232558) *\n",
      "          7) bodyCharCt>=289 750  108 T (0.1440000000 0.8560000000)  \n",
      "           14) isInReplyTo=T 31    0 F (1.0000000000 0.0000000000) *\n",
      "           15) isInReplyTo=F 719   77 T (0.1070931850 0.8929068150)  \n",
      "             30) isWrote=T 10    0 F (1.0000000000 0.0000000000) *\n",
      "             31) isWrote=F 709   67 T (0.0944992948 0.9055007052)  \n",
      "               62) bodyCharCt>=24110.5 17    5 F (0.7058823529 0.2941176471) *\n",
      "               63) bodyCharCt< 24110.5 692   55 T (0.0794797688 0.9205202312)  \n",
      "                126) perCaps< 23.86893 350   49 T (0.1400000000 0.8600000000)  \n",
      "                  252) perHTML< 5.922865 197   46 T (0.2335025381 0.7664974619)  \n",
      "                    504) subBlanks< 15.10264 117   41 T (0.3504273504 0.6495726496)  \n",
      "                     1008) numDlr< 0.5 66   31 T (0.4696969697 0.5303030303)  \n",
      "                       2016) numEnd=F 55   25 F (0.5454545455 0.4545454545)  \n",
      "                         4032) numAtt< 0.5 39   13 F (0.6666666667 0.3333333333)  \n",
      "                           8064) subBlanks< 13.18841 25    4 F (0.8400000000 0.1600000000) *\n",
      "                           8065) subBlanks>=13.18841 14    5 T (0.3571428571 0.6428571429) *\n",
      "                         4033) numAtt>=0.5 16    4 T (0.2500000000 0.7500000000) *\n",
      "                       2017) numEnd=T 11    1 T (0.0909090909 0.9090909091) *\n",
      "                     1009) numDlr>=0.5 51   10 T (0.1960784314 0.8039215686)  \n",
      "                       2018) perCaps< 15.27471 22   10 T (0.4545454545 0.5454545455)  \n",
      "                         4036) bodyCharCt>=1487 15    5 F (0.6666666667 0.3333333333) *\n",
      "                         4037) bodyCharCt< 1487 7    0 T (0.0000000000 1.0000000000) *\n",
      "                       2019) perCaps>=15.27471 29    0 T (0.0000000000 1.0000000000) *\n",
      "                    505) subBlanks>=15.10264 80    5 T (0.0625000000 0.9375000000) *\n",
      "                  253) perHTML>=5.922865 153    3 T (0.0196078431 0.9803921569) *\n",
      "                127) perCaps>=23.86893 342    6 T (0.0175438596 0.9824561404) *\n"
     ]
    },
    {
     "data": {
      "image/png": "[encoded data removed]",
      "text/plain": [
       "plot without title"
      ]
     },
     "metadata": {
      "image/png": {
       "height": 420,
       "width": 420
      },
      "text/plain": {
       "height": 420,
       "width": 420
      }
     },
     "output_type": "display_data"
    },
    {
     "name": "stdout",
     "output_type": "stream",
     "text": [
      "n= 6232 \n",
      "\n",
      "node), split, n, loss, yval, (yprob)\n",
      "      * denotes terminal node\n",
      "\n",
      "    1) root 6232 1598 F (0.743581515 0.256418485)  \n",
      "      2) perCaps< 13.05174 5396  948 F (0.824314307 0.175685693)  \n",
      "        4) perHTML< 3.926441 4952  654 F (0.867932149 0.132067851)  \n",
      "          8) forwards>=1.240008 2258   18 F (0.992028344 0.007971656) *\n",
      "          9) forwards< 1.240008 2694  636 F (0.763919822 0.236080178)  \n",
      "           18) numEnd=F 2485  489 F (0.803219316 0.196780684)  \n",
      "             36) multipartText=F 2339  377 F (0.838820009 0.161179991)  \n",
      "               72) subExcCt< 0.5 2213  293 F (0.867600542 0.132399458)  \n",
      "                144) isDear=F 2172  252 F (0.883977901 0.116022099)  \n",
      "                  288) subBlanks< 25.03193 2136  216 F (0.898876404 0.101123596)  \n",
      "                    576) isYelling=F 2104  190 F (0.909695817 0.090304183)  \n",
      "                     1152) underscore=F 2089  175 F (0.916227860 0.083772140)  \n",
      "                       2304) avgWordLen>=2.76982 2078  164 F (0.921077960 0.078922040)  \n",
      "                         4608) numRec>=0.5 2059  150 F (0.927149102 0.072850898)  \n",
      "                           9216) numRec< 4.5 2044  139 F (0.931996086 0.068003914)  \n",
      "                            18432) numDlr< 11.5 2012  124 F (0.938369781 0.061630219) *\n",
      "                            18433) numDlr>=11.5 32   15 F (0.531250000 0.468750000)  \n",
      "                              36866) bodyCharCt< 8035 17    2 F (0.882352941 0.117647059) *\n",
      "                              36867) bodyCharCt>=8035 15    2 T (0.133333333 0.866666667) *\n",
      "                           9217) numRec>=4.5 15    4 T (0.266666667 0.733333333) *\n",
      "                         4609) numRec< 0.5 19    5 T (0.263157895 0.736842105) *\n",
      "                       2305) avgWordLen< 2.76982 11    0 T (0.000000000 1.000000000) *\n",
      "                     1153) underscore=T 15    0 T (0.000000000 1.000000000) *\n",
      "                    577) isYelling=T 32    6 T (0.187500000 0.812500000) *\n",
      "                  289) subBlanks>=25.03193 36    0 T (0.000000000 1.000000000) *\n",
      "                145) isDear=T 41    0 T (0.000000000 1.000000000) *\n",
      "               73) subExcCt>=0.5 126   42 T (0.333333333 0.666666667)  \n",
      "                146) hour>=7.5 82   41 F (0.500000000 0.500000000)  \n",
      "                  292) numLines< 25.5 43   12 F (0.720930233 0.279069767) *\n",
      "                  293) numLines>=25.5 39   10 T (0.256410256 0.743589744) *\n",
      "                147) hour< 7.5 44    1 T (0.022727273 0.977272727) *\n",
      "             37) multipartText=T 146   34 T (0.232876712 0.767123288)  \n",
      "               74) numLines>=114.5 12    0 F (1.000000000 0.000000000) *\n",
      "               75) numLines< 114.5 134   22 T (0.164179104 0.835820896)  \n",
      "                150) numLines< 27 15    4 F (0.733333333 0.266666667) *\n",
      "                151) numLines>=27 119   11 T (0.092436975 0.907563025) *\n",
      "           19) numEnd=T 209   62 T (0.296650718 0.703349282)  \n",
      "             38) numAtt>=0.5 35    6 F (0.828571429 0.171428571)  \n",
      "               76) avgWordLen>=4.628732 28    0 F (1.000000000 0.000000000) *\n",
      "               77) avgWordLen< 4.628732 7    1 T (0.142857143 0.857142857) *\n",
      "             39) numAtt< 0.5 174   33 T (0.189655172 0.810344828)  \n",
      "               78) numLines< 19.5 33   15 T (0.454545455 0.545454545)  \n",
      "                156) perCaps>=7.163383 7    0 F (1.000000000 0.000000000) *\n",
      "                157) perCaps< 7.163383 26    8 T (0.307692308 0.692307692) *\n",
      "               79) numLines>=19.5 141   18 T (0.127659574 0.872340426) *\n",
      "        5) perHTML>=3.926441 444  150 T (0.337837838 0.662162162)  \n",
      "         10) bodyCharCt>=18129 146   13 F (0.910958904 0.089041096)  \n",
      "           20) avgWordLen< 4.679784 135    2 F (0.985185185 0.014814815) *\n",
      "           21) avgWordLen>=4.679784 11    0 T (0.000000000 1.000000000) *\n",
      "         11) bodyCharCt< 18129 298   17 T (0.057046980 0.942953020)  \n",
      "           22) bodyCharCt>=12241.5 27   11 T (0.407407407 0.592592593)  \n",
      "             44) numEnd=T 11    2 F (0.818181818 0.181818182) *\n",
      "             45) numEnd=F 16    2 T (0.125000000 0.875000000) *\n",
      "           23) bodyCharCt< 12241.5 271    6 T (0.022140221 0.977859779) *\n",
      "      3) perCaps>=13.05174 836  186 T (0.222488038 0.777511962)  \n",
      "        6) bodyCharCt< 289 86    8 F (0.906976744 0.093023256) *\n",
      "        7) bodyCharCt>=289 750  108 T (0.144000000 0.856000000)  \n",
      "         14) isInReplyTo=T 31    0 F (1.000000000 0.000000000) *\n",
      "         15) isInReplyTo=F 719   77 T (0.107093185 0.892906815)  \n",
      "           30) isWrote=T 10    0 F (1.000000000 0.000000000) *\n",
      "           31) isWrote=F 709   67 T (0.094499295 0.905500705)  \n",
      "             62) bodyCharCt>=24110.5 17    5 F (0.705882353 0.294117647) *\n",
      "             63) bodyCharCt< 24110.5 692   55 T (0.079479769 0.920520231) *\n"
     ]
    },
    {
     "data": {
      "image/png": "[encoded data removed]",
      "text/plain": [
       "plot without title"
      ]
     },
     "metadata": {
      "image/png": {
       "height": 420,
       "width": 420
      },
      "text/plain": {
       "height": 420,
       "width": 420
      }
     },
     "output_type": "display_data"
    },
    {
     "data": {
      "image/png": "[encoded data removed]",
      "text/plain": [
       "plot without title"
      ]
     },
     "metadata": {
      "image/png": {
       "height": 420,
       "width": 420
      },
      "text/plain": {
       "height": 420,
       "width": 420
      }
     },
     "output_type": "display_data"
    },
    {
     "name": "stdout",
     "output_type": "stream",
     "text": [
      "n= 6232 \n",
      "\n",
      "node), split, n, loss, yval, (yprob)\n",
      "      * denotes terminal node\n",
      "\n",
      "  1) root 6232 1598 F (0.743581515 0.256418485)  \n",
      "    2) perCaps< 13.05174 5396  948 F (0.824314307 0.175685693)  \n",
      "      4) perHTML< 3.926441 4952  654 F (0.867932149 0.132067851)  \n",
      "        8) forwards>=1.240008 2258   18 F (0.992028344 0.007971656) *\n",
      "        9) forwards< 1.240008 2694  636 F (0.763919822 0.236080178)  \n",
      "         18) numEnd=F 2485  489 F (0.803219316 0.196780684)  \n",
      "           36) multipartText=F 2339  377 F (0.838820009 0.161179991)  \n",
      "             72) subExcCt< 0.5 2213  293 F (0.867600542 0.132399458)  \n",
      "              144) isDear=F 2172  252 F (0.883977901 0.116022099)  \n",
      "                288) subBlanks< 25.03193 2136  216 F (0.898876404 0.101123596)  \n",
      "                  576) isYelling=F 2104  190 F (0.909695817 0.090304183) *\n",
      "                  577) isYelling=T 32    6 T (0.187500000 0.812500000) *\n",
      "                289) subBlanks>=25.03193 36    0 T (0.000000000 1.000000000) *\n",
      "              145) isDear=T 41    0 T (0.000000000 1.000000000) *\n",
      "             73) subExcCt>=0.5 126   42 T (0.333333333 0.666666667) *\n",
      "           37) multipartText=T 146   34 T (0.232876712 0.767123288) *\n",
      "         19) numEnd=T 209   62 T (0.296650718 0.703349282)  \n",
      "           38) numAtt>=0.5 35    6 F (0.828571429 0.171428571) *\n",
      "           39) numAtt< 0.5 174   33 T (0.189655172 0.810344828) *\n",
      "      5) perHTML>=3.926441 444  150 T (0.337837838 0.662162162)  \n",
      "       10) bodyCharCt>=18129 146   13 F (0.910958904 0.089041096) *\n",
      "       11) bodyCharCt< 18129 298   17 T (0.057046980 0.942953020) *\n",
      "    3) perCaps>=13.05174 836  186 T (0.222488038 0.777511962)  \n",
      "      6) bodyCharCt< 289 86    8 F (0.906976744 0.093023256) *\n",
      "      7) bodyCharCt>=289 750  108 T (0.144000000 0.856000000)  \n",
      "       14) isInReplyTo=T 31    0 F (1.000000000 0.000000000) *\n",
      "       15) isInReplyTo=F 719   77 T (0.107093185 0.892906815) *\n"
     ]
    },
    {
     "data": {
      "image/png": "[encoded data removed]",
      "text/plain": [
       "plot without title"
      ]
     },
     "metadata": {
      "image/png": {
       "height": 420,
       "width": 420
      },
      "text/plain": {
       "height": 420,
       "width": 420
      }
     },
     "output_type": "display_data"
    },
    {
     "data": {
      "image/png": "[encoded data removed]",
      "text/plain": [
       "plot without title"
      ]
     },
     "metadata": {
      "image/png": {
       "height": 420,
       "width": 420
      },
      "text/plain": {
       "height": 420,
       "width": 420
      }
     },
     "output_type": "display_data"
    },
    {
     "data": {
      "image/png": "[encoded data removed]",
      "text/plain": [
       "plot without title"
      ]
     },
     "metadata": {
      "image/png": {
       "height": 420,
       "width": 420
      },
      "text/plain": {
       "height": 420,
       "width": 420
      }
     },
     "output_type": "display_data"
    }
   ],
   "source": [
    "# this is to see how the cp will affect on the tree while holding others constant\n",
    "rpartFit_cp_tweak1 = rpart(isSpam ~ ., data = trainDF, method = \"class\",control = rpart.control(cp = 0.0001))\n",
    "rpartFitFunc(rpartFit_cp_tweak1,\"rpartFit_cp_tweak1\")\n",
    "rpartFit_cp_tweak2 = rpart(isSpam ~ ., data = trainDF, method = \"class\",control = rpart.control(cp = 0.002))\n",
    "rpartFitFunc(rpartFit_cp_tweak2,\"rpartFit_cp_tweak2\")\n",
    "rpartFit_cp_tweak3 = rpart(isSpam ~ ., data = trainDF, method = \"class\",control = rpart.control(cp = 0.01))\n",
    "rpartFitFunc(rpartFit_cp_tweak3,\"rpartFit_cp_tweak3\")"
   ]
  },
  {
   "cell_type": "markdown",
   "metadata": {},
   "source": [
    "## Task 2\n",
    "### rpartFit0 vanilla model without parameters tuning and compare performance of unpruned and pruned models\n",
    "### set cp small and find optimal cp, then prune tree based on cp\n",
    "prune fit0"
   ]
  },
  {
   "cell_type": "code",
   "execution_count": 64,
   "metadata": {},
   "outputs": [],
   "source": [
    "#rpartFit0 vanilla model without parameters tuning\n",
    "rpartFit0 = rpart(isSpam ~ ., data = trainDF, method = \"class\",control = rpart.control(cp = 0.0001, maxdepth=10, xval= 5, minsplit=20))"
   ]
  },
  {
   "cell_type": "code",
   "execution_count": 71,
   "metadata": {},
   "outputs": [
    {
     "name": "stderr",
     "output_type": "stream",
     "text": [
      "Warning message:\n",
      "\"labs do not fit even at cex 0.15, there may be some overplotting\"\n"
     ]
    },
    {
     "data": {
      "image/png": "[encoded data removed]",
      "text/plain": [
       "plot without title"
      ]
     },
     "metadata": {
      "image/png": {
       "height": 420,
       "width": 420
      },
      "text/plain": {
       "height": 420,
       "width": 420
      }
     },
     "output_type": "display_data"
    }
   ],
   "source": [
    "rpart.plot(rpartFit0  , extra = 3)"
   ]
  },
  {
   "cell_type": "code",
   "execution_count": 79,
   "metadata": {},
   "outputs": [
    {
     "name": "stdout",
     "output_type": "stream",
     "text": [
      "n= 6232 \n",
      "\n",
      "node), split, n, loss, yval, (yprob)\n",
      "      * denotes terminal node\n",
      "\n",
      "   1) root 6232 1598 F (0.7435815148 0.2564184852)  \n",
      "     2) perCaps< 13.05174 5396  948 F (0.8243143069 0.1756856931)  \n",
      "       4) perHTML< 3.926441 4952  654 F (0.8679321486 0.1320678514)  \n",
      "         8) forwards>=1.240008 2258   18 F (0.9920283437 0.0079716563)  \n",
      "          16) forwards>=5.81474 2025    2 F (0.9990123457 0.0009876543) *\n",
      "          17) forwards< 5.81474 233   16 F (0.9313304721 0.0686695279)  \n",
      "            34) perCaps< 9.477678 205    6 F (0.9707317073 0.0292682927)  \n",
      "              68) numDlr< 1.5 184    0 F (1.0000000000 0.0000000000) *\n",
      "              69) numDlr>=1.5 21    6 F (0.7142857143 0.2857142857)  \n",
      "               138) isRe=T 13    0 F (1.0000000000 0.0000000000) *\n",
      "               139) isRe=F 8    2 T (0.2500000000 0.7500000000) *\n",
      "            35) perCaps>=9.477678 28   10 F (0.6428571429 0.3571428571)  \n",
      "              70) avgWordLen>=4.464674 17    0 F (1.0000000000 0.0000000000) *\n",
      "              71) avgWordLen< 4.464674 11    1 T (0.0909090909 0.9090909091) *\n",
      "         9) forwards< 1.240008 2694  636 F (0.7639198218 0.2360801782)  \n",
      "          18) numEnd=F 2485  489 F (0.8032193159 0.1967806841)  \n",
      "            36) multipartText=F 2339  377 F (0.8388200086 0.1611799914)  \n",
      "              72) subExcCt< 0.5 2213  293 F (0.8676005423 0.1323994577)  \n",
      "               144) isDear=F 2172  252 F (0.8839779006 0.1160220994)  \n",
      "                 288) subBlanks< 25.03193 2136  216 F (0.8988764045 0.1011235955)  \n",
      "                   576) isYelling=F 2104  190 F (0.9096958175 0.0903041825)  \n",
      "                    1152) underscore=F 2089  175 F (0.9162278602 0.0837721398) *\n",
      "                    1153) underscore=T 15    0 T (0.0000000000 1.0000000000) *\n",
      "                   577) isYelling=T 32    6 T (0.1875000000 0.8125000000) *\n",
      "                 289) subBlanks>=25.03193 36    0 T (0.0000000000 1.0000000000) *\n",
      "               145) isDear=T 41    0 T (0.0000000000 1.0000000000) *\n",
      "              73) subExcCt>=0.5 126   42 T (0.3333333333 0.6666666667)  \n",
      "               146) hour>=7.5 82   41 F (0.5000000000 0.5000000000)  \n",
      "                 292) numLines< 25.5 43   12 F (0.7209302326 0.2790697674)  \n",
      "                   584) hour< 8.5 16    0 F (1.0000000000 0.0000000000) *\n",
      "                   585) hour>=8.5 27   12 F (0.5555555556 0.4444444444)  \n",
      "                    1170) numRec>=1.5 10    2 F (0.8000000000 0.2000000000) *\n",
      "                    1171) numRec< 1.5 17    7 T (0.4117647059 0.5882352941) *\n",
      "                 293) numLines>=25.5 39   10 T (0.2564102564 0.7435897436)  \n",
      "                   586) bodyCharCt>=1317 26   10 T (0.3846153846 0.6153846154)  \n",
      "                    1172) numDlr< 0.5 18    8 F (0.5555555556 0.4444444444) *\n",
      "                    1173) numDlr>=0.5 8    0 T (0.0000000000 1.0000000000) *\n",
      "                   587) bodyCharCt< 1317 13    0 T (0.0000000000 1.0000000000) *\n",
      "               147) hour< 7.5 44    1 T (0.0227272727 0.9772727273) *\n",
      "            37) multipartText=T 146   34 T (0.2328767123 0.7671232877)  \n",
      "              74) numLines>=114.5 12    0 F (1.0000000000 0.0000000000) *\n",
      "              75) numLines< 114.5 134   22 T (0.1641791045 0.8358208955)  \n",
      "               150) numLines< 27 15    4 F (0.7333333333 0.2666666667) *\n",
      "               151) numLines>=27 119   11 T (0.0924369748 0.9075630252) *\n",
      "          19) numEnd=T 209   62 T (0.2966507177 0.7033492823)  \n",
      "            38) numAtt>=0.5 35    6 F (0.8285714286 0.1714285714)  \n",
      "              76) avgWordLen>=4.628732 28    0 F (1.0000000000 0.0000000000) *\n",
      "              77) avgWordLen< 4.628732 7    1 T (0.1428571429 0.8571428571) *\n",
      "            39) numAtt< 0.5 174   33 T (0.1896551724 0.8103448276)  \n",
      "              78) numLines< 19.5 33   15 T (0.4545454545 0.5454545455)  \n",
      "               156) perCaps>=7.163383 7    0 F (1.0000000000 0.0000000000) *\n",
      "               157) perCaps< 7.163383 26    8 T (0.3076923077 0.6923076923) *\n",
      "              79) numLines>=19.5 141   18 T (0.1276595745 0.8723404255) *\n",
      "       5) perHTML>=3.926441 444  150 T (0.3378378378 0.6621621622)  \n",
      "        10) bodyCharCt>=18129 146   13 F (0.9109589041 0.0890410959)  \n",
      "          20) avgWordLen< 4.679784 135    2 F (0.9851851852 0.0148148148) *\n",
      "          21) avgWordLen>=4.679784 11    0 T (0.0000000000 1.0000000000) *\n",
      "        11) bodyCharCt< 18129 298   17 T (0.0570469799 0.9429530201)  \n",
      "          22) bodyCharCt>=12241.5 27   11 T (0.4074074074 0.5925925926)  \n",
      "            44) numEnd=T 11    2 F (0.8181818182 0.1818181818) *\n",
      "            45) numEnd=F 16    2 T (0.1250000000 0.8750000000) *\n",
      "          23) bodyCharCt< 12241.5 271    6 T (0.0221402214 0.9778597786) *\n",
      "     3) perCaps>=13.05174 836  186 T (0.2224880383 0.7775119617)  \n",
      "       6) bodyCharCt< 289 86    8 F (0.9069767442 0.0930232558) *\n",
      "       7) bodyCharCt>=289 750  108 T (0.1440000000 0.8560000000)  \n",
      "        14) isInReplyTo=T 31    0 F (1.0000000000 0.0000000000) *\n",
      "        15) isInReplyTo=F 719   77 T (0.1070931850 0.8929068150)  \n",
      "          30) isWrote=T 10    0 F (1.0000000000 0.0000000000) *\n",
      "          31) isWrote=F 709   67 T (0.0944992948 0.9055007052)  \n",
      "            62) bodyCharCt>=24110.5 17    5 F (0.7058823529 0.2941176471) *\n",
      "            63) bodyCharCt< 24110.5 692   55 T (0.0794797688 0.9205202312)  \n",
      "             126) perCaps< 23.86893 350   49 T (0.1400000000 0.8600000000)  \n",
      "               252) perHTML< 5.922865 197   46 T (0.2335025381 0.7664974619)  \n",
      "                 504) subBlanks< 15.10264 117   41 T (0.3504273504 0.6495726496)  \n",
      "                  1008) numDlr< 0.5 66   31 T (0.4696969697 0.5303030303)  \n",
      "                    2016) numEnd=F 55   25 F (0.5454545455 0.4545454545) *\n",
      "                    2017) numEnd=T 11    1 T (0.0909090909 0.9090909091) *\n",
      "                  1009) numDlr>=0.5 51   10 T (0.1960784314 0.8039215686) *\n",
      "                 505) subBlanks>=15.10264 80    5 T (0.0625000000 0.9375000000) *\n",
      "               253) perHTML>=5.922865 153    3 T (0.0196078431 0.9803921569) *\n",
      "             127) perCaps>=23.86893 342    6 T (0.0175438596 0.9824561404) *\n"
     ]
    },
    {
     "data": {
      "image/png": "[encoded data removed]",
      "text/plain": [
       "plot without title"
      ]
     },
     "metadata": {
      "image/png": {
       "height": 420,
       "width": 420
      },
      "text/plain": {
       "height": 420,
       "width": 420
      }
     },
     "output_type": "display_data"
    },
    {
     "data": {
      "image/png": "[encoded data removed]",
      "text/plain": [
       "plot without title"
      ]
     },
     "metadata": {
      "image/png": {
       "height": 420,
       "width": 420
      },
      "text/plain": {
       "height": 420,
       "width": 420
      }
     },
     "output_type": "display_data"
    }
   ],
   "source": [
    "model0=rpartFitFunc(rpartFit0,'_0')"
   ]
  },
  {
   "cell_type": "code",
   "execution_count": 86,
   "metadata": {},
   "outputs": [
    {
     "name": "stdout",
     "output_type": "stream",
     "text": [
      "[1] \"Metrics for rpartFit0:\"\n"
     ]
    },
    {
     "data": {
      "text/html": [
       "<dl class=dl-horizontal>\n",
       "\t<dt>F1-Score</dt>\n",
       "\t\t<dd>0.868217054263566</dd>\n",
       "\t<dt>Precision</dt>\n",
       "\t\t<dd>0.897196261682243</dd>\n",
       "\t<dt>Recall</dt>\n",
       "\t\t<dd>0.841051314142678</dd>\n",
       "</dl>\n"
      ],
      "text/latex": [
       "\\begin{description*}\n",
       "\\item[F1-Score] 0.868217054263566\n",
       "\\item[Precision] 0.897196261682243\n",
       "\\item[Recall] 0.841051314142678\n",
       "\\end{description*}\n"
      ],
      "text/markdown": [
       "F1-Score\n",
       ":   0.868217054263566Precision\n",
       ":   0.897196261682243Recall\n",
       ":   0.841051314142678\n",
       "\n"
      ],
      "text/plain": [
       " F1-Score Precision    Recall \n",
       "0.8682171 0.8971963 0.8410513 "
      ]
     },
     "metadata": {},
     "output_type": "display_data"
    }
   ],
   "source": [
    "# Metric for rpartFit0\n",
    "# testDF$isSpam\n",
    "\n",
    "predicted0 <- predict(rpartFit0, newdata = testDF, type = \"class\")\n",
    "\n",
    "#library(MLmetrics)\n",
    "\n",
    "\n",
    "f1_val_rpartFit0 <- F1_Score(y_pred = predicted0 , y_true = testDF$isSpam, positive = \"T\")\n",
    "precision_rpartFit0 <- Precision(y_pred = predicted0, y_true = testDF$isSpam, positive = \"T\")\n",
    "recall_rpartFit0  <- Recall(y_pred = predicted0, y_true = testDF$isSpam, positive = \"T\")\n",
    "\n",
    "result <- c( f1_val_rpartFit0, precision_rpartFit0, recall_rpartFit0)\n",
    "\n",
    "names(result) <- c(\"F1-Score\",\"Precision\", \"Recall\")\n",
    "print(\"Metrics for rpartFit0:\")\n",
    "return(result)\n",
    "\n",
    "# f1_val_rpartFit0"
   ]
  },
  {
   "cell_type": "code",
   "execution_count": 65,
   "metadata": {},
   "outputs": [
    {
     "data": {
      "image/png": "[encoded data removed]",
      "text/plain": [
       "plot without title"
      ]
     },
     "metadata": {
      "image/png": {
       "height": 420,
       "width": 420
      },
      "text/plain": {
       "height": 420,
       "width": 420
      }
     },
     "output_type": "display_data"
    }
   ],
   "source": [
    "plotcp(rpartFit0)"
   ]
  },
  {
   "cell_type": "code",
   "execution_count": 66,
   "metadata": {},
   "outputs": [
    {
     "name": "stdout",
     "output_type": "stream",
     "text": [
      "\n",
      "Classification tree:\n",
      "rpart(formula = isSpam ~ ., data = trainDF, method = \"class\", \n",
      "    control = rpart.control(cp = 1e-04, maxdepth = 10, xval = 5, \n",
      "        minsplit = 20))\n",
      "\n",
      "Variables actually used in tree construction:\n",
      " [1] avgWordLen    bodyCharCt    forwards      hour          isDear       \n",
      " [6] isInReplyTo   isRe          isWrote       isYelling     multipartText\n",
      "[11] numAtt        numDlr        numEnd        numLines      numRec       \n",
      "[16] perCaps       perHTML       subBlanks     subExcCt      underscore   \n",
      "\n",
      "Root node error: 1598/6232 = 0.25642\n",
      "\n",
      "n= 6232 \n",
      "\n",
      "           CP nsplit rel error  xerror     xstd\n",
      "1  0.29036295      0   1.00000 1.00000 0.021571\n",
      "2  0.09011264      1   0.70964 0.71589 0.019125\n",
      "3  0.07509387      2   0.61952 0.64643 0.018370\n",
      "4  0.04380476      3   0.54443 0.54819 0.017170\n",
      "5  0.02659574      4   0.50063 0.50939 0.016647\n",
      "6  0.02628285      7   0.39862 0.42929 0.015462\n",
      "7  0.02565707      8   0.37234 0.42929 0.015462\n",
      "8  0.02252816      9   0.34668 0.40426 0.015058\n",
      "9  0.01939925     10   0.32416 0.38486 0.014733\n",
      "10 0.01439299     11   0.30476 0.33855 0.013909\n",
      "11 0.01251564     12   0.29036 0.31665 0.013493\n",
      "12 0.00938673     13   0.27785 0.30288 0.013222\n",
      "13 0.00750939     14   0.26846 0.28223 0.012800\n",
      "14 0.00688360     15   0.26095 0.28223 0.012800\n",
      "15 0.00625782     16   0.25407 0.26909 0.012521\n",
      "16 0.00594493     17   0.24781 0.26408 0.012412\n",
      "17 0.00438048     19   0.23592 0.26220 0.012371\n",
      "18 0.00312891     21   0.22716 0.25407 0.012192\n",
      "19 0.00219024     22   0.22403 0.25282 0.012164\n",
      "20 0.00187735     26   0.21527 0.25344 0.012178\n",
      "21 0.00125156     29   0.20964 0.25407 0.012192\n",
      "22 0.00093867     31   0.20713 0.25407 0.012192\n",
      "23 0.00062578     33   0.20526 0.25594 0.012233\n",
      "24 0.00010000     40   0.20088 0.25970 0.012316\n"
     ]
    }
   ],
   "source": [
    "printcp(rpartFit0) #rule of thumb to determine optimal cp value"
   ]
  },
  {
   "cell_type": "code",
   "execution_count": 67,
   "metadata": {},
   "outputs": [
    {
     "data": {
      "text/html": [
       "0.264984"
      ],
      "text/latex": [
       "0.264984"
      ],
      "text/markdown": [
       "0.264984"
      ],
      "text/plain": [
       "[1] 0.264984"
      ]
     },
     "metadata": {},
     "output_type": "display_data"
    }
   ],
   "source": [
    "#19 0.00219024     22   0.22403 0.25282 0.012164\n",
    "\n",
    "0.25282+0.012164  #= 0.264984; so choose 16 0.00594493     17   0.24781 0.26408 0.012412\n",
    "#good_cp=0.00594493 "
   ]
  },
  {
   "cell_type": "code",
   "execution_count": 68,
   "metadata": {},
   "outputs": [],
   "source": [
    "good_cp=0.00594493 "
   ]
  },
  {
   "cell_type": "code",
   "execution_count": 69,
   "metadata": {},
   "outputs": [],
   "source": [
    "tree.fit0=prune(rpartFit0, cp= good_cp) # for vanilla model, prune tree based on cp"
   ]
  },
  {
   "cell_type": "code",
   "execution_count": 152,
   "metadata": {
    "scrolled": false
   },
   "outputs": [
    {
     "name": "stdout",
     "output_type": "stream",
     "text": [
      "Call:\n",
      "rpart(formula = isSpam ~ ., data = trainDF, method = \"class\", \n",
      "    control = rpart.control(cp = 1e-04, maxdepth = 10, xval = 5, \n",
      "        minsplit = 20))\n",
      "  n= 6232 \n",
      "\n",
      "            CP nsplit rel error    xerror       xstd\n",
      "1  0.290362954      0 1.0000000 1.0000000 0.02157128\n",
      "2  0.090112641      1 0.7096370 0.7158949 0.01912476\n",
      "3  0.075093867      2 0.6195244 0.6464330 0.01837044\n",
      "4  0.043804756      3 0.5444305 0.5481852 0.01717046\n",
      "5  0.026595745      4 0.5006258 0.5093867 0.01664720\n",
      "6  0.026282854      7 0.3986233 0.4292866 0.01546185\n",
      "7  0.025657071      8 0.3723404 0.4292866 0.01546185\n",
      "8  0.022528160      9 0.3466834 0.4042553 0.01505831\n",
      "9  0.019399249     10 0.3241552 0.3848561 0.01473327\n",
      "10 0.014392991     11 0.3047559 0.3385482 0.01390921\n",
      "11 0.012515645     12 0.2903630 0.3166458 0.01349306\n",
      "12 0.009386733     13 0.2778473 0.3028786 0.01322180\n",
      "13 0.007509387     14 0.2684606 0.2822278 0.01279968\n",
      "14 0.006883605     15 0.2609512 0.2822278 0.01279968\n",
      "15 0.006257822     16 0.2540676 0.2690864 0.01252081\n",
      "16 0.005944931     17 0.2478098 0.2640801 0.01241234\n",
      "17 0.005944930     19 0.2359199 0.2622028 0.01237134\n",
      "\n",
      "Variable importance\n",
      "      perCaps    bodyCharCt      numLines       perHTML      forwards \n",
      "           20            12            11            10             6 \n",
      "  isInReplyTo multipartText        numAtt        numEnd          isRe \n",
      "            5             5             4             4             4 \n",
      "      isWrote    avgWordLen      subExcCt        numDlr        isDear \n",
      "            3             3             3             3             2 \n",
      "    subBlanks        numRec     isYelling    underscore          hour \n",
      "            2             1             1             1             1 \n",
      "\n",
      "Node number 1: 6232 observations,    complexity param=0.290363\n",
      "  predicted class=F  expected loss=0.2564185  P(node) =1\n",
      "    class counts:  4634  1598\n",
      "   probabilities: 0.744 0.256 \n",
      "  left son=2 (5396 obs) right son=3 (836 obs)\n",
      "  Primary splits:\n",
      "      perCaps     < 13.05174 to the left,  improve=524.3521, (0 missing)\n",
      "      perHTML     < 3.926441 to the left,  improve=477.3466, (0 missing)\n",
      "      forwards    < 3.112888 to the right, improve=399.9639, (0 missing)\n",
      "      isInReplyTo splits as  RL,           improve=348.6494, (0 missing)\n",
      "      numEnd      splits as  LR,           improve=313.0184, (0 missing)\n",
      "  Surrogate splits:\n",
      "      avgWordLen < 6.093866 to the left,  agree=0.874, adj=0.060, (0 split)\n",
      "      numDlr     < 42.5     to the left,  agree=0.870, adj=0.029, (0 split)\n",
      "      bodyCharCt < 110.5    to the right, agree=0.867, adj=0.008, (0 split)\n",
      "      priority   splits as  LR,           agree=0.866, adj=0.005, (0 split)\n",
      "      subQuesCt  < 3.5      to the left,  agree=0.866, adj=0.005, (0 split)\n",
      "\n",
      "Node number 2: 5396 observations,    complexity param=0.09011264\n",
      "  predicted class=F  expected loss=0.1756857  P(node) =0.8658537\n",
      "    class counts:  4448   948\n",
      "   probabilities: 0.824 0.176 \n",
      "  left son=4 (4952 obs) right son=5 (444 obs)\n",
      "  Primary splits:\n",
      "      perHTML     < 3.926441 to the left,  improve=228.9960, (0 missing)\n",
      "      forwards    < 3.27957  to the right, improve=209.7584, (0 missing)\n",
      "      subBlanks   < 24.78083 to the left,  improve=178.4455, (10 missing)\n",
      "      isInReplyTo splits as  RL,           improve=170.5166, (0 missing)\n",
      "      isRe        splits as  RL,           improve=162.0273, (0 missing)\n",
      "  Surrogate splits:\n",
      "      bodyCharCt < 18633    to the left,  agree=0.937, adj=0.232, (0 split)\n",
      "      numLines   < 333      to the left,  agree=0.936, adj=0.225, (0 split)\n",
      "\n",
      "Node number 3: 836 observations,    complexity param=0.04380476\n",
      "  predicted class=T  expected loss=0.222488  P(node) =0.1341463\n",
      "    class counts:   186   650\n",
      "   probabilities: 0.222 0.778 \n",
      "  left son=6 (86 obs) right son=7 (750 obs)\n",
      "  Primary splits:\n",
      "      bodyCharCt  < 289      to the left,  improve=89.82682, (0 missing)\n",
      "      numLines    < 9.5      to the left,  improve=85.36403, (0 missing)\n",
      "      perCaps     < 22.52742 to the left,  improve=43.80691, (0 missing)\n",
      "      isInReplyTo splits as  RL,           improve=41.53831, (0 missing)\n",
      "      isWrote     splits as  RL,           improve=40.22947, (0 missing)\n",
      "  Surrogate splits:\n",
      "      numLines < 8.5      to the left,  agree=0.982, adj=0.826, (0 split)\n",
      "      perHTML  < 97.02797 to the right, agree=0.900, adj=0.023, (0 split)\n",
      "\n",
      "Node number 4: 4952 observations,    complexity param=0.02659574\n",
      "  predicted class=F  expected loss=0.1320679  P(node) =0.7946085\n",
      "    class counts:  4298   654\n",
      "   probabilities: 0.868 0.132 \n",
      "  left son=8 (2258 obs) right son=9 (2694 obs)\n",
      "  Primary splits:\n",
      "      forwards      < 1.240008 to the right, improve=127.83620, (0 missing)\n",
      "      multipartText splits as  LR,           improve=103.38940, (0 missing)\n",
      "      isInReplyTo   splits as  RL,           improve=100.99350, (0 missing)\n",
      "      isRe          splits as  RL,           improve= 98.26859, (0 missing)\n",
      "      subBlanks     < 24.79624 to the left,  improve= 97.81609, (9 missing)\n",
      "  Surrogate splits:\n",
      "      isRe        splits as  RL,           agree=0.839, adj=0.648, (0 split)\n",
      "      isInReplyTo splits as  RL,           agree=0.812, adj=0.587, (0 split)\n",
      "      isWrote     splits as  RL,           agree=0.758, adj=0.470, (0 split)\n",
      "      numRec      < 1.5      to the right, agree=0.664, adj=0.263, (0 split)\n",
      "      avgWordLen  < 4.480934 to the left,  agree=0.629, adj=0.186, (0 split)\n",
      "\n",
      "Node number 5: 444 observations,    complexity param=0.07509387\n",
      "  predicted class=T  expected loss=0.3378378  P(node) =0.07124519\n",
      "    class counts:   150   294\n",
      "   probabilities: 0.338 0.662 \n",
      "  left son=10 (146 obs) right son=11 (298 obs)\n",
      "  Primary splits:\n",
      "      bodyCharCt < 18129    to the right, improve=142.90330, (0 missing)\n",
      "      numLines   < 339      to the right, improve=131.86370, (0 missing)\n",
      "      numDlr     < 0.5      to the right, improve= 32.66022, (0 missing)\n",
      "      perHTML    < 80.16314 to the right, improve= 30.69085, (0 missing)\n",
      "      numRec     < 1.5      to the left,  improve= 26.89901, (3 missing)\n",
      "  Surrogate splits:\n",
      "      numLines   < 336      to the right, agree=0.973, adj=0.918, (0 split)\n",
      "      numDlr     < 2.5      to the right, agree=0.748, adj=0.233, (0 split)\n",
      "      perHTML    < 80.16314 to the right, agree=0.721, adj=0.151, (0 split)\n",
      "      hour       < 0.5      to the left,  agree=0.689, adj=0.055, (0 split)\n",
      "      avgWordLen < 4.732993 to the right, agree=0.678, adj=0.021, (0 split)\n",
      "\n",
      "Node number 6: 86 observations\n",
      "  predicted class=F  expected loss=0.09302326  P(node) =0.01379974\n",
      "    class counts:    78     8\n",
      "   probabilities: 0.907 0.093 \n",
      "\n",
      "Node number 7: 750 observations,    complexity param=0.01939925\n",
      "  predicted class=T  expected loss=0.144  P(node) =0.1203466\n",
      "    class counts:   108   642\n",
      "   probabilities: 0.144 0.856 \n",
      "  left son=14 (31 obs) right son=15 (719 obs)\n",
      "  Primary splits:\n",
      "      isInReplyTo splits as  RL,           improve=47.38835, (0 missing)\n",
      "      forwards    < 7.757758 to the right, improve=46.70667, (0 missing)\n",
      "      isWrote     splits as  RL,           improve=42.62453, (0 missing)\n",
      "      isRe        splits as  RL,           improve=24.63223, (0 missing)\n",
      "      perCaps     < 25.10149 to the left,  improve=15.94897, (0 missing)\n",
      "  Surrogate splits:\n",
      "      forwards < 7.757758 to the right, agree=0.973, adj=0.355, (0 split)\n",
      "      isWrote  splits as  RL,           agree=0.969, adj=0.258, (0 split)\n",
      "\n",
      "Node number 8: 2258 observations\n",
      "  predicted class=F  expected loss=0.007971656  P(node) =0.3623235\n",
      "    class counts:  2240    18\n",
      "   probabilities: 0.992 0.008 \n",
      "\n",
      "Node number 9: 2694 observations,    complexity param=0.02659574\n",
      "  predicted class=F  expected loss=0.2360802  P(node) =0.432285\n",
      "    class counts:  2058   636\n",
      "   probabilities: 0.764 0.236 \n",
      "  left son=18 (2485 obs) right son=19 (209 obs)\n",
      "  Primary splits:\n",
      "      numEnd    splits as  LR,           improve=98.94221, (0 missing)\n",
      "      numDlr    < 0.5      to the left,  improve=96.07553, (0 missing)\n",
      "      numLines  < 18.5     to the left,  improve=84.22101, (0 missing)\n",
      "      subExcCt  < 0.5      to the left,  improve=81.27323, (9 missing)\n",
      "      subBlanks < 24.79624 to the left,  improve=75.43475, (9 missing)\n",
      "  Surrogate splits:\n",
      "      numLines < 2.5      to the right, agree=0.923, adj=0.01, (0 split)\n",
      "\n",
      "Node number 10: 146 observations,    complexity param=0.006883605\n",
      "  predicted class=F  expected loss=0.0890411  P(node) =0.02342747\n",
      "    class counts:   133    13\n",
      "   probabilities: 0.911 0.089 \n",
      "  left son=20 (135 obs) right son=21 (11 obs)\n",
      "  Primary splits:\n",
      "      avgWordLen < 4.679784 to the left,  improve=19.744190, (0 missing)\n",
      "      perCaps    < 6.100061 to the right, improve=16.900200, (0 missing)\n",
      "      numDlr     < 16       to the left,  improve=15.918510, (0 missing)\n",
      "      subExcCt   < 0.5      to the left,  improve= 4.526390, (1 missing)\n",
      "      perHTML    < 44.59695 to the right, improve= 4.506771, (0 missing)\n",
      "  Surrogate splits:\n",
      "      numDlr     < 16       to the left,  agree=0.986, adj=0.818, (0 split)\n",
      "      perCaps    < 6.100061 to the right, agree=0.973, adj=0.636, (0 split)\n",
      "      isRe       splits as  LR,           agree=0.945, adj=0.273, (0 split)\n",
      "      underscore splits as  LR,           agree=0.938, adj=0.182, (0 split)\n",
      "      numRec     < 1.5      to the left,  agree=0.932, adj=0.091, (0 split)\n",
      "\n",
      "Node number 11: 298 observations\n",
      "  predicted class=T  expected loss=0.05704698  P(node) =0.04781772\n",
      "    class counts:    17   281\n",
      "   probabilities: 0.057 0.943 \n",
      "\n",
      "Node number 14: 31 observations\n",
      "  predicted class=F  expected loss=0  P(node) =0.004974326\n",
      "    class counts:    31     0\n",
      "   probabilities: 1.000 0.000 \n",
      "\n",
      "Node number 15: 719 observations,    complexity param=0.006257822\n",
      "  predicted class=T  expected loss=0.1070932  P(node) =0.1153723\n",
      "    class counts:    77   642\n",
      "   probabilities: 0.107 0.893 \n",
      "  left son=30 (10 obs) right son=31 (709 obs)\n",
      "  Primary splits:\n",
      "      isWrote    splits as  RL,           improve=16.170560, (0 missing)\n",
      "      bodyCharCt < 22449    to the right, improve=14.463870, (0 missing)\n",
      "      forwards   < 11.38298 to the right, improve=12.873040, (0 missing)\n",
      "      numLines   < 275.5    to the right, improve= 8.989796, (0 missing)\n",
      "      perCaps    < 25.10149 to the left,  improve= 7.712871, (0 missing)\n",
      "  Surrogate splits:\n",
      "      forwards < 11.38298 to the right, agree=0.992, adj=0.4, (0 split)\n",
      "\n",
      "Node number 18: 2485 observations,    complexity param=0.02659574\n",
      "  predicted class=F  expected loss=0.1967807  P(node) =0.3987484\n",
      "    class counts:  1996   489\n",
      "   probabilities: 0.803 0.197 \n",
      "  left son=36 (2339 obs) right son=37 (146 obs)\n",
      "  Primary splits:\n",
      "      multipartText splits as  LR,           improve=100.91380, (0 missing)\n",
      "      numAtt        < 0.5      to the left,  improve= 87.58620, (0 missing)\n",
      "      subExcCt      < 0.5      to the left,  improve= 69.61811, (8 missing)\n",
      "      subBlanks     < 25.03193 to the left,  improve= 65.93967, (8 missing)\n",
      "      numDlr        < 0.5      to the left,  improve= 61.23348, (0 missing)\n",
      "  Surrogate splits:\n",
      "      numAtt     < 0.5      to the left,  agree=0.989, adj=0.815, (0 split)\n",
      "      bodyCharCt < 51.5     to the right, agree=0.942, adj=0.007, (0 split)\n",
      "\n",
      "Node number 19: 209 observations,    complexity param=0.01439299\n",
      "  predicted class=T  expected loss=0.2966507  P(node) =0.03353659\n",
      "    class counts:    62   147\n",
      "   probabilities: 0.297 0.703 \n",
      "  left son=38 (35 obs) right son=39 (174 obs)\n",
      "  Primary splits:\n",
      "      numAtt        < 0.5      to the right, improve=23.789700, (0 missing)\n",
      "      multipartText splits as  RL,           improve=17.807660, (0 missing)\n",
      "      numLines      < 24.5     to the left,  improve=14.859410, (0 missing)\n",
      "      avgWordLen    < 4.765141 to the right, improve=11.167790, (0 missing)\n",
      "      numDlr        < 0.5      to the left,  improve= 8.749146, (0 missing)\n",
      "  Surrogate splits:\n",
      "      multipartText splits as  RL, agree=0.967, adj=0.800, (0 split)\n",
      "      isRe          splits as  RL, agree=0.871, adj=0.229, (0 split)\n",
      "      isPGPsigned   splits as  RL, agree=0.861, adj=0.171, (0 split)\n",
      "      isWrote       splits as  RL, agree=0.852, adj=0.114, (0 split)\n",
      "      isOrigMsg     splits as  RL, agree=0.847, adj=0.086, (0 split)\n",
      "\n",
      "Node number 20: 135 observations\n",
      "  predicted class=F  expected loss=0.01481481  P(node) =0.02166239\n",
      "    class counts:   133     2\n",
      "   probabilities: 0.985 0.015 \n",
      "\n",
      "Node number 21: 11 observations\n",
      "  predicted class=T  expected loss=0  P(node) =0.001765083\n",
      "    class counts:     0    11\n",
      "   probabilities: 0.000 1.000 \n",
      "\n",
      "Node number 30: 10 observations\n",
      "  predicted class=F  expected loss=0  P(node) =0.001604621\n",
      "    class counts:    10     0\n",
      "   probabilities: 1.000 0.000 \n",
      "\n",
      "Node number 31: 709 observations\n",
      "  predicted class=T  expected loss=0.09449929  P(node) =0.1137677\n",
      "    class counts:    67   642\n",
      "   probabilities: 0.094 0.906 \n",
      "\n",
      "Node number 36: 2339 observations,    complexity param=0.02628285\n",
      "  predicted class=F  expected loss=0.16118  P(node) =0.3753209\n",
      "    class counts:  1962   377\n",
      "   probabilities: 0.839 0.161 \n",
      "  left son=72 (2213 obs) right son=73 (126 obs)\n",
      "  Primary splits:\n",
      "      subExcCt     < 0.5      to the left,  improve=68.26745, (8 missing)\n",
      "      subBlanks    < 25.03193 to the left,  improve=67.61937, (8 missing)\n",
      "      isDear       splits as  LR,           improve=58.72616, (0 missing)\n",
      "      isYelling    splits as  LR,           improve=47.04876, (5 missing)\n",
      "      subSpamWords splits as  LR,           improve=43.38799, (5 missing)\n",
      "\n",
      "Node number 37: 146 observations,    complexity param=0.007509387\n",
      "  predicted class=T  expected loss=0.2328767  P(node) =0.02342747\n",
      "    class counts:    34   112\n",
      "   probabilities: 0.233 0.767 \n",
      "  left son=74 (12 obs) right son=75 (134 obs)\n",
      "  Primary splits:\n",
      "      numLines   < 114.5    to the right, improve=15.388260, (0 missing)\n",
      "      bodyCharCt < 4965     to the right, improve=13.596430, (0 missing)\n",
      "      hour       < 21.5     to the left,  improve= 6.336832, (0 missing)\n",
      "      perCaps    < 8.763628 to the left,  improve= 3.554384, (0 missing)\n",
      "      avgWordLen < 4.940776 to the left,  improve= 3.223945, (0 missing)\n",
      "  Surrogate splits:\n",
      "      bodyCharCt < 4965     to the right, agree=0.993, adj=0.917, (0 split)\n",
      "\n",
      "Node number 38: 35 observations\n",
      "  predicted class=F  expected loss=0.1714286  P(node) =0.005616175\n",
      "    class counts:    29     6\n",
      "   probabilities: 0.829 0.171 \n",
      "\n",
      "Node number 39: 174 observations\n",
      "  predicted class=T  expected loss=0.1896552  P(node) =0.02792041\n",
      "    class counts:    33   141\n",
      "   probabilities: 0.190 0.810 \n",
      "\n",
      "Node number 72: 2213 observations,    complexity param=0.02565707\n",
      "  predicted class=F  expected loss=0.1323995  P(node) =0.3551027\n",
      "    class counts:  1920   293\n",
      "   probabilities: 0.868 0.132 \n",
      "  left son=144 (2172 obs) right son=145 (41 obs)\n",
      "  Primary splits:\n",
      "      isDear     splits as  LR,           improve=62.88906, (0 missing)\n",
      "      subBlanks  < 25.03193 to the left,  improve=55.20799, (8 missing)\n",
      "      isYelling  splits as  LR,           improve=40.41725, (5 missing)\n",
      "      underscore splits as  LR,           improve=38.06657, (0 missing)\n",
      "      numDlr     < 0.5      to the left,  improve=26.91353, (0 missing)\n",
      "\n",
      "Node number 73: 126 observations,    complexity param=0.005944931\n",
      "  predicted class=T  expected loss=0.3333333  P(node) =0.02021823\n",
      "    class counts:    42    84\n",
      "   probabilities: 0.333 0.667 \n",
      "  left son=146 (82 obs) right son=147 (44 obs)\n",
      "  Primary splits:\n",
      "      hour       < 7.5      to the right, improve=13.045450, (0 missing)\n",
      "      numLines   < 25.5     to the left,  improve=12.231810, (0 missing)\n",
      "      bodyCharCt < 600      to the left,  improve=12.035160, (0 missing)\n",
      "      avgWordLen < 4.210657 to the left,  improve=10.354720, (0 missing)\n",
      "      numDlr     < 0.5      to the left,  improve= 7.828457, (0 missing)\n",
      "  Surrogate splits:\n",
      "      perCaps    < 2.792043 to the right, agree=0.706, adj=0.159, (0 split)\n",
      "      numDlr     < 0.5      to the left,  agree=0.698, adj=0.136, (0 split)\n",
      "      subBlanks  < 19.92458 to the left,  agree=0.690, adj=0.114, (0 split)\n",
      "      bodyCharCt < 1766.5   to the left,  agree=0.683, adj=0.091, (0 split)\n",
      "      subExcCt   < 1.5      to the left,  agree=0.675, adj=0.068, (0 split)\n",
      "\n",
      "Node number 74: 12 observations\n",
      "  predicted class=F  expected loss=0  P(node) =0.001925546\n",
      "    class counts:    12     0\n",
      "   probabilities: 1.000 0.000 \n",
      "\n",
      "Node number 75: 134 observations\n",
      "  predicted class=T  expected loss=0.1641791  P(node) =0.02150193\n",
      "    class counts:    22   112\n",
      "   probabilities: 0.164 0.836 \n",
      "\n",
      "Node number 144: 2172 observations,    complexity param=0.02252816\n",
      "  predicted class=F  expected loss=0.1160221  P(node) =0.3485237\n",
      "    class counts:  1920   252\n",
      "   probabilities: 0.884 0.116 \n",
      "  left son=288 (2136 obs) right son=289 (36 obs)\n",
      "  Primary splits:\n",
      "      subBlanks    < 25.03193 to the left,  improve=57.33782, (8 missing)\n",
      "      isYelling    splits as  LR,           improve=31.48631, (5 missing)\n",
      "      underscore   splits as  LR,           improve=26.77776, (0 missing)\n",
      "      numRec       < 4.5      to the left,  improve=24.82380, (41 missing)\n",
      "      subSpamWords splits as  LR,           improve=20.76031, (5 missing)\n",
      "\n",
      "Node number 145: 41 observations\n",
      "  predicted class=T  expected loss=0  P(node) =0.006578947\n",
      "    class counts:     0    41\n",
      "   probabilities: 0.000 1.000 \n",
      "\n",
      "Node number 146: 82 observations,    complexity param=0.005944931\n",
      "  predicted class=F  expected loss=0.5  P(node) =0.01315789\n",
      "    class counts:    41    41\n",
      "   probabilities: 0.500 0.500 \n",
      "  left son=292 (43 obs) right son=293 (39 obs)\n",
      "  Primary splits:\n",
      "      numLines   < 25.5     to the left,  improve=8.825880, (0 missing)\n",
      "      bodyCharCt < 600      to the left,  improve=7.494624, (0 missing)\n",
      "      hour       < 8.5      to the left,  improve=6.975694, (0 missing)\n",
      "      perCaps    < 9.162963 to the left,  improve=6.894527, (0 missing)\n",
      "      subExcCt   < 1.5      to the left,  improve=5.530658, (0 missing)\n",
      "  Surrogate splits:\n",
      "      bodyCharCt   < 807      to the left,  agree=0.927, adj=0.846, (0 split)\n",
      "      hour         < 13.5     to the left,  agree=0.720, adj=0.410, (0 split)\n",
      "      subSpamWords splits as  LR,           agree=0.659, adj=0.282, (0 split)\n",
      "      numDlr       < 0.5      to the left,  agree=0.634, adj=0.231, (0 split)\n",
      "      perCaps      < 9.318539 to the left,  agree=0.622, adj=0.205, (0 split)\n",
      "\n",
      "Node number 147: 44 observations\n",
      "  predicted class=T  expected loss=0.02272727  P(node) =0.007060334\n",
      "    class counts:     1    43\n",
      "   probabilities: 0.023 0.977 \n",
      "\n",
      "Node number 288: 2136 observations,    complexity param=0.01251564\n",
      "  predicted class=F  expected loss=0.1011236  P(node) =0.3427471\n",
      "    class counts:  1920   216\n",
      "   probabilities: 0.899 0.101 \n",
      "  left son=576 (2104 obs) right son=577 (32 obs)\n",
      "  Primary splits:\n",
      "      isYelling    splits as  LR,           improve=32.85944, (5 missing)\n",
      "      underscore   splits as  LR,           improve=26.05046, (0 missing)\n",
      "      numDlr       < 0.5      to the left,  improve=18.87418, (0 missing)\n",
      "      avgWordLen   < 2.76982  to the right, improve=17.86755, (0 missing)\n",
      "      subSpamWords splits as  LR,           improve=15.45049, (5 missing)\n",
      "\n",
      "Node number 289: 36 observations\n",
      "  predicted class=T  expected loss=0  P(node) =0.005776637\n",
      "    class counts:     0    36\n",
      "   probabilities: 0.000 1.000 \n",
      "\n",
      "Node number 292: 43 observations\n",
      "  predicted class=F  expected loss=0.2790698  P(node) =0.006899872\n",
      "    class counts:    31    12\n",
      "   probabilities: 0.721 0.279 \n",
      "\n",
      "Node number 293: 39 observations\n",
      "  predicted class=T  expected loss=0.2564103  P(node) =0.006258023\n",
      "    class counts:    10    29\n",
      "   probabilities: 0.256 0.744 \n",
      "\n",
      "Node number 576: 2104 observations,    complexity param=0.009386733\n",
      "  predicted class=F  expected loss=0.09030418  P(node) =0.3376123\n",
      "    class counts:  1914   190\n",
      "   probabilities: 0.910 0.090 \n",
      "  left son=1152 (2089 obs) right son=1153 (15 obs)\n",
      "  Primary splits:\n",
      "      underscore splits as  LR,           improve=25.00466, (0 missing)\n",
      "      avgWordLen < 2.76982  to the right, improve=18.30171, (0 missing)\n",
      "      numDlr     < 0.5      to the left,  improve=17.38241, (0 missing)\n",
      "      numRec     < 0.5      to the right, improve=15.94320, (41 missing)\n",
      "      subQuesCt  < 3.5      to the left,  improve=14.86625, (8 missing)\n",
      "\n",
      "Node number 577: 32 observations\n",
      "  predicted class=T  expected loss=0.1875  P(node) =0.005134788\n",
      "    class counts:     6    26\n",
      "   probabilities: 0.188 0.812 \n",
      "\n",
      "Node number 1152: 2089 observations\n",
      "  predicted class=F  expected loss=0.08377214  P(node) =0.3352054\n",
      "    class counts:  1914   175\n",
      "   probabilities: 0.916 0.084 \n",
      "\n",
      "Node number 1153: 15 observations\n",
      "  predicted class=T  expected loss=0  P(node) =0.002406932\n",
      "    class counts:     0    15\n",
      "   probabilities: 0.000 1.000 \n",
      "\n"
     ]
    }
   ],
   "source": [
    "summary(tree.fit0)"
   ]
  },
  {
   "cell_type": "code",
   "execution_count": 70,
   "metadata": {},
   "outputs": [
    {
     "data": {
      "image/png": "[encoded data removed]",
      "text/plain": [
       "plot without title"
      ]
     },
     "metadata": {
      "image/png": {
       "height": 420,
       "width": 420
      },
      "text/plain": {
       "height": 420,
       "width": 420
      }
     },
     "output_type": "display_data"
    }
   ],
   "source": [
    "rpart.plot(tree.fit0, extra = 3)  #how to fix plot labels, can not see #maxdepth change from 10 to 4 after pruning"
   ]
  },
  {
   "cell_type": "code",
   "execution_count": 110,
   "metadata": {},
   "outputs": [
    {
     "name": "stderr",
     "output_type": "stream",
     "text": [
      "Warning message:\n",
      "\"labs do not fit even at cex 0.15, there may be some overplotting\"\n"
     ]
    },
    {
     "data": {
      "image/png": "[encoded data removed]",
      "text/plain": [
       "plot without title"
      ]
     },
     "metadata": {
      "image/png": {
       "height": 420,
       "width": 420
      },
      "text/plain": {
       "height": 420,
       "width": 420
      }
     },
     "output_type": "display_data"
    }
   ],
   "source": [
    "rpart.plot(rpartFit0  , extra = 3)"
   ]
  },
  {
   "cell_type": "code",
   "execution_count": 88,
   "metadata": {},
   "outputs": [
    {
     "name": "stdout",
     "output_type": "stream",
     "text": [
      "[1] \"Metrics for pruned rpartFit0:\"\n"
     ]
    },
    {
     "data": {
      "text/html": [
       "<dl class=dl-horizontal>\n",
       "\t<dt>F1-Score</dt>\n",
       "\t\t<dd>0.860952380952381</dd>\n",
       "\t<dt>Precision</dt>\n",
       "\t\t<dd>0.873711340206186</dd>\n",
       "\t<dt>Recall</dt>\n",
       "\t\t<dd>0.848560700876095</dd>\n",
       "</dl>\n"
      ],
      "text/latex": [
       "\\begin{description*}\n",
       "\\item[F1-Score] 0.860952380952381\n",
       "\\item[Precision] 0.873711340206186\n",
       "\\item[Recall] 0.848560700876095\n",
       "\\end{description*}\n"
      ],
      "text/markdown": [
       "F1-Score\n",
       ":   0.860952380952381Precision\n",
       ":   0.873711340206186Recall\n",
       ":   0.848560700876095\n",
       "\n"
      ],
      "text/plain": [
       " F1-Score Precision    Recall \n",
       "0.8609524 0.8737113 0.8485607 "
      ]
     },
     "metadata": {},
     "output_type": "display_data"
    }
   ],
   "source": [
    "# Metric for tree.fit0 which is pruned rpartFit0\n",
    "\n",
    "predicted0p <- predict(tree.fit0, newdata = testDF, type = \"class\")\n",
    "\n",
    "#library(MLmetrics)\n",
    "\n",
    "\n",
    "f1_val_rpartFit0p <- F1_Score(y_pred = predicted0p , y_true = testDF$isSpam, positive = \"T\")\n",
    "precision_rpartFit0p <- Precision(y_pred = predicted0p, y_true = testDF$isSpam, positive = \"T\")\n",
    "recall_rpartFit0p  <- Recall(y_pred = predicted0p, y_true = testDF$isSpam, positive = \"T\")\n",
    "\n",
    "result <- c( f1_val_rpartFit0p, precision_rpartFit0p, recall_rpartFit0p)\n",
    "\n",
    "names(result) <- c(\"F1-Score\",\"Precision\", \"Recall\")\n",
    "print(\"Metrics for pruned rpartFit0:\")\n",
    "return(result)"
   ]
  },
  {
   "cell_type": "markdown",
   "metadata": {},
   "source": [
    "[1] \"Metrics for rpartFit0:\"\n",
    "\n",
    "F1-Score\n",
    "0.868217054263566\n",
    "Precision\n",
    "0.897196261682243\n",
    "Recall\n",
    "0.841051314142678\n",
    "\n",
    "\n",
    "[1] \"Metrics for pruned rpartFit0:\"\n",
    "\n",
    "F1-Score\n",
    "0.860952380952381\n",
    "Precision\n",
    "0.873711340206186\n",
    "Recall\n",
    "0.848560700876095\n",
    "\n",
    "\n",
    "### from the results above, pruned model F1-Score and Precision decreased, Recall increase --reason?\n",
    "#### the reason is cp value increased from 0.0001 to good_cp=0.00594493 \n",
    "\n",
    "#### I prefer the pruned tree although the scores are little bit lower cause its easier to interpret and be able to see the labels easier."
   ]
  },
  {
   "cell_type": "markdown",
   "metadata": {},
   "source": [
    "## Task 3\n",
    "#### focus on tuning cp and MaxDepth and keep other values constant.\n",
    "(rpartFit 0-10. combination of 9, plus rpartFit0 - vanilla model.)\n",
    "\n",
    "#### cp 0.0001  0.002  0.01\n",
    "\n",
    "#### MaxDepth 4,6,10 \n",
    "\n",
    "cp-- prevent overfitting. higher, less split. too low underfit; too high overfit. max value is 1\n",
    "\n",
    "MaxDepth -- of the final tree\n",
    "\n",
    "minsplit --any node with number of n will not get further split.\n",
    " the number of required classified observations in a node before a split can happen. seems default 20. set it to 10? or just keep 20.\n",
    "\n",
    "xval -- the number (x) of cross validations to be carried out on the data. default 10. repeat 5 fold cross validation for 10 times.\n",
    "\n",
    "did not test on other parameters like maxcomplete."
   ]
  },
  {
   "cell_type": "code",
   "execution_count": 72,
   "metadata": {},
   "outputs": [],
   "source": [
    "rpartFit1 = rpart(isSpam ~ ., data = trainDF, method = \"class\",control = rpart.control(cp = 0.0001, maxdepth=10, xval= 5, minsplit=20))\n",
    "rpartFit2 = rpart(isSpam ~ ., data = trainDF, method = \"class\",control = rpart.control(cp = 0.002, maxdepth=10, xval= 5, minsplit=20))\n",
    "rpartFit3 = rpart(isSpam ~ ., data = trainDF, method = \"class\",control = rpart.control(cp = 0.01, maxdepth=10, xval= 5, minsplit=20))\n",
    "rpartFit4 = rpart(isSpam ~ ., data = trainDF, method = \"class\",control = rpart.control(cp = 0.0001, maxdepth=6, xval= 5, minsplit=20))\n",
    "rpartFit5 = rpart(isSpam ~ ., data = trainDF, method = \"class\",control = rpart.control(cp = 0.002, maxdepth=6, xval= 5, minsplit=20))\n",
    "rpartFit6 = rpart(isSpam ~ ., data = trainDF, method = \"class\",control = rpart.control(cp = 0.01, maxdepth=6, xval= 5, minsplit=20))\n",
    "rpartFit7 = rpart(isSpam ~ ., data = trainDF, method = \"class\",control = rpart.control(cp = 0.0001, maxdepth=4, xval= 5, minsplit=20))\n",
    "rpartFit8 = rpart(isSpam ~ ., data = trainDF, method = \"class\",control = rpart.control(cp = 0.002, maxdepth=4, xval= 5, minsplit=20))\n",
    "rpartFit9 = rpart(isSpam ~ ., data = trainDF, method = \"class\",control = rpart.control(cp = 0.01, maxdepth=4, xval= 5, minsplit=20))"
   ]
  },
  {
   "cell_type": "code",
   "execution_count": 92,
   "metadata": {
    "scrolled": false
   },
   "outputs": [],
   "source": [
    "# model1=rpartFitFunc(rpartFit1,'_1')"
   ]
  },
  {
   "cell_type": "code",
   "execution_count": 90,
   "metadata": {},
   "outputs": [
    {
     "name": "stdout",
     "output_type": "stream",
     "text": [
      "[1] \"Metrics for rpartFit1:\"\n"
     ]
    },
    {
     "data": {
      "text/html": [
       "<dl class=dl-horizontal>\n",
       "\t<dt>F1-Score</dt>\n",
       "\t\t<dd>0.868217054263566</dd>\n",
       "\t<dt>Precision</dt>\n",
       "\t\t<dd>0.897196261682243</dd>\n",
       "\t<dt>Recall</dt>\n",
       "\t\t<dd>0.841051314142678</dd>\n",
       "</dl>\n"
      ],
      "text/latex": [
       "\\begin{description*}\n",
       "\\item[F1-Score] 0.868217054263566\n",
       "\\item[Precision] 0.897196261682243\n",
       "\\item[Recall] 0.841051314142678\n",
       "\\end{description*}\n"
      ],
      "text/markdown": [
       "F1-Score\n",
       ":   0.868217054263566Precision\n",
       ":   0.897196261682243Recall\n",
       ":   0.841051314142678\n",
       "\n"
      ],
      "text/plain": [
       " F1-Score Precision    Recall \n",
       "0.8682171 0.8971963 0.8410513 "
      ]
     },
     "metadata": {},
     "output_type": "display_data"
    }
   ],
   "source": [
    "# Metric for rpartFit1 (rpartFit1 is the same as rpartFit0)\n",
    "\n",
    "predicted1<- predict(rpartFit1, newdata = testDF, type = \"class\")\n",
    "\n",
    "f1_val_rpartFit1 <- F1_Score(y_pred = predicted1, y_true = testDF$isSpam, positive = \"T\")\n",
    "precision_rpartFit1 <- Precision(y_pred = predicted1, y_true = testDF$isSpam, positive = \"T\")\n",
    "recall_rpartFit1  <- Recall(y_pred = predicted1, y_true = testDF$isSpam, positive = \"T\")\n",
    "\n",
    "result <- c( f1_val_rpartFit1, precision_rpartFit1, recall_rpartFit1)\n",
    "\n",
    "names(result) <- c(\"F1-Score\",\"Precision\", \"Recall\")\n",
    "print(\"Metrics for rpartFit1:\")\n",
    "return(result)\n"
   ]
  },
  {
   "cell_type": "code",
   "execution_count": 93,
   "metadata": {},
   "outputs": [
    {
     "name": "stdout",
     "output_type": "stream",
     "text": [
      "[1] \"Metrics for rpartFit2:\"\n"
     ]
    },
    {
     "data": {
      "text/html": [
       "<dl class=dl-horizontal>\n",
       "\t<dt>F1-Score</dt>\n",
       "\t\t<dd>0.866151866151866</dd>\n",
       "\t<dt>Precision</dt>\n",
       "\t\t<dd>0.891390728476821</dd>\n",
       "\t<dt>Recall</dt>\n",
       "\t\t<dd>0.842302878598248</dd>\n",
       "</dl>\n"
      ],
      "text/latex": [
       "\\begin{description*}\n",
       "\\item[F1-Score] 0.866151866151866\n",
       "\\item[Precision] 0.891390728476821\n",
       "\\item[Recall] 0.842302878598248\n",
       "\\end{description*}\n"
      ],
      "text/markdown": [
       "F1-Score\n",
       ":   0.866151866151866Precision\n",
       ":   0.891390728476821Recall\n",
       ":   0.842302878598248\n",
       "\n"
      ],
      "text/plain": [
       " F1-Score Precision    Recall \n",
       "0.8661519 0.8913907 0.8423029 "
      ]
     },
     "metadata": {},
     "output_type": "display_data"
    }
   ],
   "source": [
    "# Metric for rpartFit2\n",
    "\n",
    "predicted2<- predict(rpartFit2, newdata = testDF, type = \"class\")\n",
    "\n",
    "f1_val_rpartFit2 <- F1_Score(y_pred = predicted2, y_true = testDF$isSpam, positive = \"T\")\n",
    "precision_rpartFit2 <- Precision(y_pred = predicted2, y_true = testDF$isSpam, positive = \"T\")\n",
    "recall_rpartFit2  <- Recall(y_pred = predicted2, y_true = testDF$isSpam, positive = \"T\")\n",
    "\n",
    "result <- c( f1_val_rpartFit2, precision_rpartFit2, recall_rpartFit2)\n",
    "\n",
    "names(result) <- c(\"F1-Score\",\"Precision\", \"Recall\")\n",
    "print(\"Metrics for rpartFit2:\")\n",
    "return(result)"
   ]
  },
  {
   "cell_type": "code",
   "execution_count": 94,
   "metadata": {},
   "outputs": [
    {
     "name": "stdout",
     "output_type": "stream",
     "text": [
      "[1] \"Metrics for rpartFit3:\"\n"
     ]
    },
    {
     "data": {
      "text/html": [
       "<dl class=dl-horizontal>\n",
       "\t<dt>F1-Score</dt>\n",
       "\t\t<dd>0.843554443053817</dd>\n",
       "\t<dt>Precision</dt>\n",
       "\t\t<dd>0.843554443053817</dd>\n",
       "\t<dt>Recall</dt>\n",
       "\t\t<dd>0.843554443053817</dd>\n",
       "</dl>\n"
      ],
      "text/latex": [
       "\\begin{description*}\n",
       "\\item[F1-Score] 0.843554443053817\n",
       "\\item[Precision] 0.843554443053817\n",
       "\\item[Recall] 0.843554443053817\n",
       "\\end{description*}\n"
      ],
      "text/markdown": [
       "F1-Score\n",
       ":   0.843554443053817Precision\n",
       ":   0.843554443053817Recall\n",
       ":   0.843554443053817\n",
       "\n"
      ],
      "text/plain": [
       " F1-Score Precision    Recall \n",
       "0.8435544 0.8435544 0.8435544 "
      ]
     },
     "metadata": {},
     "output_type": "display_data"
    }
   ],
   "source": [
    "# Metric for rpartFit3\n",
    "\n",
    "predicted3<- predict(rpartFit3, newdata = testDF, type = \"class\")\n",
    "\n",
    "f1_val_rpartFit3 <- F1_Score(y_pred = predicted3, y_true = testDF$isSpam, positive = \"T\")\n",
    "precision_rpartFit3 <- Precision(y_pred = predicted3, y_true = testDF$isSpam, positive = \"T\")\n",
    "recall_rpartFit3  <- Recall(y_pred = predicted3, y_true = testDF$isSpam, positive = \"T\")\n",
    "\n",
    "result <- c( f1_val_rpartFit3, precision_rpartFit3, recall_rpartFit3)\n",
    "\n",
    "names(result) <- c(\"F1-Score\",\"Precision\", \"Recall\")\n",
    "print(\"Metrics for rpartFit3:\")\n",
    "return(result)"
   ]
  },
  {
   "cell_type": "code",
   "execution_count": 95,
   "metadata": {},
   "outputs": [
    {
     "name": "stdout",
     "output_type": "stream",
     "text": [
      "[1] \"Metrics for rpartFit4:\"\n"
     ]
    },
    {
     "data": {
      "text/html": [
       "<dl class=dl-horizontal>\n",
       "\t<dt>F1-Score</dt>\n",
       "\t\t<dd>0.816808929743926</dd>\n",
       "\t<dt>Precision</dt>\n",
       "\t\t<dd>0.859116022099447</dd>\n",
       "\t<dt>Recall</dt>\n",
       "\t\t<dd>0.778473091364205</dd>\n",
       "</dl>\n"
      ],
      "text/latex": [
       "\\begin{description*}\n",
       "\\item[F1-Score] 0.816808929743926\n",
       "\\item[Precision] 0.859116022099447\n",
       "\\item[Recall] 0.778473091364205\n",
       "\\end{description*}\n"
      ],
      "text/markdown": [
       "F1-Score\n",
       ":   0.816808929743926Precision\n",
       ":   0.859116022099447Recall\n",
       ":   0.778473091364205\n",
       "\n"
      ],
      "text/plain": [
       " F1-Score Precision    Recall \n",
       "0.8168089 0.8591160 0.7784731 "
      ]
     },
     "metadata": {},
     "output_type": "display_data"
    }
   ],
   "source": [
    "# Metric for rpartFit4\n",
    "\n",
    "predicted4<- predict(rpartFit4, newdata = testDF, type = \"class\")\n",
    "\n",
    "\n",
    "f1_val_rpartFit4 <- F1_Score(y_pred = predicted4, y_true = testDF$isSpam, positive = \"T\")\n",
    "precision_rpartFit4 <- Precision(y_pred = predicted4, y_true = testDF$isSpam, positive = \"T\")\n",
    "recall_rpartFit4  <- Recall(y_pred = predicted4, y_true = testDF$isSpam, positive = \"T\")\n",
    "\n",
    "result <- c( f1_val_rpartFit4, precision_rpartFit4, recall_rpartFit4)\n",
    "\n",
    "names(result) <- c(\"F1-Score\",\"Precision\", \"Recall\")\n",
    "print(\"Metrics for rpartFit4:\")\n",
    "return(result)\n"
   ]
  },
  {
   "cell_type": "code",
   "execution_count": 96,
   "metadata": {},
   "outputs": [
    {
     "name": "stdout",
     "output_type": "stream",
     "text": [
      "[1] \"Metrics for rpartFit5:\"\n"
     ]
    },
    {
     "data": {
      "text/html": [
       "<dl class=dl-horizontal>\n",
       "\t<dt>F1-Score</dt>\n",
       "\t\t<dd>0.817105263157895</dd>\n",
       "\t<dt>Precision</dt>\n",
       "\t\t<dd>0.86130374479889</dd>\n",
       "\t<dt>Recall</dt>\n",
       "\t\t<dd>0.777221526908636</dd>\n",
       "</dl>\n"
      ],
      "text/latex": [
       "\\begin{description*}\n",
       "\\item[F1-Score] 0.817105263157895\n",
       "\\item[Precision] 0.86130374479889\n",
       "\\item[Recall] 0.777221526908636\n",
       "\\end{description*}\n"
      ],
      "text/markdown": [
       "F1-Score\n",
       ":   0.817105263157895Precision\n",
       ":   0.86130374479889Recall\n",
       ":   0.777221526908636\n",
       "\n"
      ],
      "text/plain": [
       " F1-Score Precision    Recall \n",
       "0.8171053 0.8613037 0.7772215 "
      ]
     },
     "metadata": {},
     "output_type": "display_data"
    }
   ],
   "source": [
    "# Metric for rpartFit5\n",
    "\n",
    "predicted5<- predict(rpartFit5, newdata = testDF, type = \"class\")\n",
    "\n",
    "\n",
    "f1_val_rpartFit5 <- F1_Score(y_pred = predicted5, y_true = testDF$isSpam, positive = \"T\")\n",
    "precision_rpartFit5 <- Precision(y_pred = predicted5, y_true = testDF$isSpam, positive = \"T\")\n",
    "recall_rpartFit5  <- Recall(y_pred = predicted5, y_true = testDF$isSpam, positive = \"T\")\n",
    "\n",
    "result <- c( f1_val_rpartFit5, precision_rpartFit5, recall_rpartFit5)\n",
    "\n",
    "names(result) <- c(\"F1-Score\",\"Precision\", \"Recall\")\n",
    "print(\"Metrics for rpartFit5:\")\n",
    "return(result)\n"
   ]
  },
  {
   "cell_type": "code",
   "execution_count": 97,
   "metadata": {},
   "outputs": [
    {
     "name": "stdout",
     "output_type": "stream",
     "text": [
      "[1] \"Metrics for rpartFit6:\"\n"
     ]
    },
    {
     "data": {
      "text/html": [
       "<dl class=dl-horizontal>\n",
       "\t<dt>F1-Score</dt>\n",
       "\t\t<dd>0.805177993527508</dd>\n",
       "\t<dt>Precision</dt>\n",
       "\t\t<dd>0.833780160857909</dd>\n",
       "\t<dt>Recall</dt>\n",
       "\t\t<dd>0.778473091364205</dd>\n",
       "</dl>\n"
      ],
      "text/latex": [
       "\\begin{description*}\n",
       "\\item[F1-Score] 0.805177993527508\n",
       "\\item[Precision] 0.833780160857909\n",
       "\\item[Recall] 0.778473091364205\n",
       "\\end{description*}\n"
      ],
      "text/markdown": [
       "F1-Score\n",
       ":   0.805177993527508Precision\n",
       ":   0.833780160857909Recall\n",
       ":   0.778473091364205\n",
       "\n"
      ],
      "text/plain": [
       " F1-Score Precision    Recall \n",
       "0.8051780 0.8337802 0.7784731 "
      ]
     },
     "metadata": {},
     "output_type": "display_data"
    }
   ],
   "source": [
    "# Metric for rpartFit6\n",
    "\n",
    "predicted6<- predict(rpartFit6, newdata = testDF, type = \"class\")\n",
    "\n",
    "\n",
    "f1_val_rpartFit6 <- F1_Score(y_pred = predicted6, y_true = testDF$isSpam, positive = \"T\")\n",
    "precision_rpartFit6 <- Precision(y_pred = predicted6, y_true = testDF$isSpam, positive = \"T\")\n",
    "recall_rpartFit6  <- Recall(y_pred = predicted6, y_true = testDF$isSpam, positive = \"T\")\n",
    "\n",
    "result <- c( f1_val_rpartFit6, precision_rpartFit6, recall_rpartFit6)\n",
    "\n",
    "names(result) <- c(\"F1-Score\",\"Precision\", \"Recall\")\n",
    "print(\"Metrics for rpartFit6:\")\n",
    "return(result)\n"
   ]
  },
  {
   "cell_type": "code",
   "execution_count": 98,
   "metadata": {},
   "outputs": [
    {
     "name": "stdout",
     "output_type": "stream",
     "text": [
      "[1] \"Metrics for rpartFit7:\"\n"
     ]
    },
    {
     "data": {
      "text/html": [
       "<dl class=dl-horizontal>\n",
       "\t<dt>F1-Score</dt>\n",
       "\t\t<dd>0.752990851513019</dd>\n",
       "\t<dt>Precision</dt>\n",
       "\t\t<dd>0.860128617363344</dd>\n",
       "\t<dt>Recall</dt>\n",
       "\t\t<dd>0.669586983729662</dd>\n",
       "</dl>\n"
      ],
      "text/latex": [
       "\\begin{description*}\n",
       "\\item[F1-Score] 0.752990851513019\n",
       "\\item[Precision] 0.860128617363344\n",
       "\\item[Recall] 0.669586983729662\n",
       "\\end{description*}\n"
      ],
      "text/markdown": [
       "F1-Score\n",
       ":   0.752990851513019Precision\n",
       ":   0.860128617363344Recall\n",
       ":   0.669586983729662\n",
       "\n"
      ],
      "text/plain": [
       " F1-Score Precision    Recall \n",
       "0.7529909 0.8601286 0.6695870 "
      ]
     },
     "metadata": {},
     "output_type": "display_data"
    }
   ],
   "source": [
    "# Metric for rpartFit7\n",
    "\n",
    "predicted7<- predict(rpartFit7, newdata = testDF, type = \"class\")\n",
    "\n",
    "\n",
    "f1_val_rpartFit7 <- F1_Score(y_pred = predicted7, y_true = testDF$isSpam, positive = \"T\")\n",
    "precision_rpartFit7 <- Precision(y_pred = predicted7, y_true = testDF$isSpam, positive = \"T\")\n",
    "recall_rpartFit7  <- Recall(y_pred = predicted7, y_true = testDF$isSpam, positive = \"T\")\n",
    "\n",
    "result <- c( f1_val_rpartFit7, precision_rpartFit7, recall_rpartFit7)\n",
    "\n",
    "names(result) <- c(\"F1-Score\",\"Precision\", \"Recall\")\n",
    "print(\"Metrics for rpartFit7:\")\n",
    "return(result)\n"
   ]
  },
  {
   "cell_type": "code",
   "execution_count": 99,
   "metadata": {},
   "outputs": [
    {
     "name": "stdout",
     "output_type": "stream",
     "text": [
      "[1] \"Metrics for rpartFit8:\"\n"
     ]
    },
    {
     "data": {
      "text/html": [
       "<dl class=dl-horizontal>\n",
       "\t<dt>F1-Score</dt>\n",
       "\t\t<dd>0.752990851513019</dd>\n",
       "\t<dt>Precision</dt>\n",
       "\t\t<dd>0.860128617363344</dd>\n",
       "\t<dt>Recall</dt>\n",
       "\t\t<dd>0.669586983729662</dd>\n",
       "</dl>\n"
      ],
      "text/latex": [
       "\\begin{description*}\n",
       "\\item[F1-Score] 0.752990851513019\n",
       "\\item[Precision] 0.860128617363344\n",
       "\\item[Recall] 0.669586983729662\n",
       "\\end{description*}\n"
      ],
      "text/markdown": [
       "F1-Score\n",
       ":   0.752990851513019Precision\n",
       ":   0.860128617363344Recall\n",
       ":   0.669586983729662\n",
       "\n"
      ],
      "text/plain": [
       " F1-Score Precision    Recall \n",
       "0.7529909 0.8601286 0.6695870 "
      ]
     },
     "metadata": {},
     "output_type": "display_data"
    }
   ],
   "source": [
    "# Metric for rpartFit8\n",
    "\n",
    "predicted8<- predict(rpartFit8, newdata = testDF, type = \"class\")\n",
    "\n",
    "\n",
    "f1_val_rpartFit8 <- F1_Score(y_pred = predicted8, y_true = testDF$isSpam, positive = \"T\")\n",
    "precision_rpartFit8 <- Precision(y_pred = predicted8, y_true = testDF$isSpam, positive = \"T\")\n",
    "recall_rpartFit8  <- Recall(y_pred = predicted8, y_true = testDF$isSpam, positive = \"T\")\n",
    "\n",
    "result <- c( f1_val_rpartFit8, precision_rpartFit8, recall_rpartFit8)\n",
    "\n",
    "names(result) <- c(\"F1-Score\",\"Precision\", \"Recall\")\n",
    "print(\"Metrics for rpartFit8:\")\n",
    "return(result)\n"
   ]
  },
  {
   "cell_type": "code",
   "execution_count": 100,
   "metadata": {},
   "outputs": [
    {
     "name": "stdout",
     "output_type": "stream",
     "text": [
      "[1] \"Metrics for rpartFit9:\"\n"
     ]
    },
    {
     "data": {
      "text/html": [
       "<dl class=dl-horizontal>\n",
       "\t<dt>F1-Score</dt>\n",
       "\t\t<dd>0.748241912798875</dd>\n",
       "\t<dt>Precision</dt>\n",
       "\t\t<dd>0.853932584269663</dd>\n",
       "\t<dt>Recall</dt>\n",
       "\t\t<dd>0.665832290362954</dd>\n",
       "</dl>\n"
      ],
      "text/latex": [
       "\\begin{description*}\n",
       "\\item[F1-Score] 0.748241912798875\n",
       "\\item[Precision] 0.853932584269663\n",
       "\\item[Recall] 0.665832290362954\n",
       "\\end{description*}\n"
      ],
      "text/markdown": [
       "F1-Score\n",
       ":   0.748241912798875Precision\n",
       ":   0.853932584269663Recall\n",
       ":   0.665832290362954\n",
       "\n"
      ],
      "text/plain": [
       " F1-Score Precision    Recall \n",
       "0.7482419 0.8539326 0.6658323 "
      ]
     },
     "metadata": {},
     "output_type": "display_data"
    }
   ],
   "source": [
    "# Metric for rpartFit9\n",
    "\n",
    "predicted9<- predict(rpartFit9, newdata = testDF, type = \"class\")\n",
    "\n",
    "\n",
    "f1_val_rpartFit9 <- F1_Score(y_pred = predicted9, y_true = testDF$isSpam, positive = \"T\")\n",
    "precision_rpartFit9 <- Precision(y_pred = predicted9, y_true = testDF$isSpam, positive = \"T\")\n",
    "recall_rpartFit9  <- Recall(y_pred = predicted9, y_true = testDF$isSpam, positive = \"T\")\n",
    "\n",
    "result <- c( f1_val_rpartFit9, precision_rpartFit9, recall_rpartFit9)\n",
    "\n",
    "names(result) <- c(\"F1-Score\",\"Precision\", \"Recall\")\n",
    "print(\"Metrics for rpartFit9:\")\n",
    "return(result)\n"
   ]
  },
  {
   "cell_type": "markdown",
   "metadata": {},
   "source": [
    "### Summary of results\n",
    "[1] \"Metrics for rpartFit1:\"\n",
    "\n",
    "F1-Score\n",
    "0.868217054263566\n",
    "Precision\n",
    "0.897196261682243\n",
    "Recall\n",
    "0.841051314142678\n",
    "\n",
    "\n",
    "[1] \"Metrics for rpartFit2:\"\n",
    "\n",
    "F1-Score\n",
    "0.866151866151866\n",
    "Precision\n",
    "0.891390728476821\n",
    "Recall\n",
    "0.842302878598248\n",
    "\n",
    "[1] \"Metrics for rpartFit3:\"\n",
    "\n",
    "F1-Score\n",
    "0.843554443053817\n",
    "Precision\n",
    "0.843554443053817\n",
    "Recall\n",
    "0.843554443053817\n",
    "\n",
    "\n",
    "[1] \"Metrics for rpartFit4:\"\n",
    "\n",
    "F1-Score\n",
    "0.816808929743926\n",
    "Precision\n",
    "0.859116022099447\n",
    "Recall\n",
    "0.778473091364205\n",
    "\n",
    "\n",
    "\n",
    "[1] \"Metrics for rpartFit5:\"\n",
    "\n",
    "F1-Score\n",
    "0.817105263157895\n",
    "Precision\n",
    "0.86130374479889\n",
    "Recall\n",
    "0.777221526908636\n",
    "\n",
    "\n",
    "[1] \"Metrics for rpartFit6:\"\n",
    "\n",
    "F1-Score\n",
    "0.805177993527508\n",
    "Precision\n",
    "0.833780160857909\n",
    "Recall\n",
    "0.778473091364205\n",
    "\n",
    "[1] \"Metrics for rpartFit7:\"\n",
    "\n",
    "F1-Score\n",
    "0.752990851513019\n",
    "Precision\n",
    "0.860128617363344\n",
    "Recall\n",
    "0.669586983729662\n",
    "\n",
    "[1] \"Metrics for rpartFit8:\"\n",
    "\n",
    "F1-Score\n",
    "0.752990851513019\n",
    "Precision\n",
    "0.860128617363344\n",
    "Recall\n",
    "0.669586983729662\n",
    "\n",
    "\n",
    "\n",
    "[1] \"Metrics for rpartFit9:\"\n",
    "\n",
    "F1-Score\n",
    "0.748241912798875\n",
    "Precision\n",
    "0.853932584269663\n",
    "Recall\n",
    "0.665832290362954\n",
    "\n",
    "### impact of change the parameters on models !!!!!!!!!!!!!!!!!!!!!!!  \n",
    "#### From the results (better create table with columns: modelName, cp, maxdepth,F1-Score, Precision,Recall ), we can see the trend:\n",
    "###  with the cp value increase, model performance decrease;\n",
    "###  with maxdepth decrease, model performance decrease.\n"
   ]
  },
  {
   "cell_type": "code",
   "execution_count": 101,
   "metadata": {},
   "outputs": [],
   "source": [
    "#try a higher maxdepth,  see if performance increase\n",
    "rpartFit10 = rpart(isSpam ~ ., data = trainDF, method = \"class\",control = rpart.control(cp = 0.0001, maxdepth=14, xval= 5, minsplit=20))"
   ]
  },
  {
   "cell_type": "code",
   "execution_count": 102,
   "metadata": {},
   "outputs": [
    {
     "name": "stdout",
     "output_type": "stream",
     "text": [
      "[1] \"Metrics for rpartFit10:\"\n"
     ]
    },
    {
     "data": {
      "text/html": [
       "<dl class=dl-horizontal>\n",
       "\t<dt>F1-Score</dt>\n",
       "\t\t<dd>0.869009584664537</dd>\n",
       "\t<dt>Precision</dt>\n",
       "\t\t<dd>0.887728459530026</dd>\n",
       "\t<dt>Recall</dt>\n",
       "\t\t<dd>0.851063829787234</dd>\n",
       "</dl>\n"
      ],
      "text/latex": [
       "\\begin{description*}\n",
       "\\item[F1-Score] 0.869009584664537\n",
       "\\item[Precision] 0.887728459530026\n",
       "\\item[Recall] 0.851063829787234\n",
       "\\end{description*}\n"
      ],
      "text/markdown": [
       "F1-Score\n",
       ":   0.869009584664537Precision\n",
       ":   0.887728459530026Recall\n",
       ":   0.851063829787234\n",
       "\n"
      ],
      "text/plain": [
       " F1-Score Precision    Recall \n",
       "0.8690096 0.8877285 0.8510638 "
      ]
     },
     "metadata": {},
     "output_type": "display_data"
    }
   ],
   "source": [
    "# Metric for rpartFit10\n",
    "\n",
    "predicted10<- predict(rpartFit10, newdata = testDF, type = \"class\")\n",
    "\n",
    "\n",
    "f1_val_rpartFit10 <- F1_Score(y_pred = predicted10, y_true = testDF$isSpam, positive = \"T\")\n",
    "precision_rpartFit10 <- Precision(y_pred = predicted10, y_true = testDF$isSpam, positive = \"T\")\n",
    "recall_rpartFit10  <- Recall(y_pred = predicted10, y_true = testDF$isSpam, positive = \"T\")\n",
    "\n",
    "result <- c( f1_val_rpartFit10, precision_rpartFit10, recall_rpartFit10)\n",
    "\n",
    "names(result) <- c(\"F1-Score\",\"Precision\", \"Recall\")\n",
    "print(\"Metrics for rpartFit10:\")\n",
    "return(result)\n",
    "\n",
    "#compare with Fit1, performance increase: F1 and Recall incease, Precision decrease a bit"
   ]
  },
  {
   "cell_type": "code",
   "execution_count": 103,
   "metadata": {},
   "outputs": [],
   "source": [
    "#try a smaller cp,  see if performance increase\n",
    "rpartFit11= rpart(isSpam ~ ., data = trainDF, method = \"class\",control = rpart.control(cp = 0.00005, maxdepth=10, xval= 5, minsplit=20))"
   ]
  },
  {
   "cell_type": "code",
   "execution_count": 104,
   "metadata": {},
   "outputs": [
    {
     "name": "stdout",
     "output_type": "stream",
     "text": [
      "[1] \"Metrics for rpartFit11:\"\n"
     ]
    },
    {
     "data": {
      "text/html": [
       "<dl class=dl-horizontal>\n",
       "\t<dt>F1-Score</dt>\n",
       "\t\t<dd>0.868217054263566</dd>\n",
       "\t<dt>Precision</dt>\n",
       "\t\t<dd>0.897196261682243</dd>\n",
       "\t<dt>Recall</dt>\n",
       "\t\t<dd>0.841051314142678</dd>\n",
       "</dl>\n"
      ],
      "text/latex": [
       "\\begin{description*}\n",
       "\\item[F1-Score] 0.868217054263566\n",
       "\\item[Precision] 0.897196261682243\n",
       "\\item[Recall] 0.841051314142678\n",
       "\\end{description*}\n"
      ],
      "text/markdown": [
       "F1-Score\n",
       ":   0.868217054263566Precision\n",
       ":   0.897196261682243Recall\n",
       ":   0.841051314142678\n",
       "\n"
      ],
      "text/plain": [
       " F1-Score Precision    Recall \n",
       "0.8682171 0.8971963 0.8410513 "
      ]
     },
     "metadata": {},
     "output_type": "display_data"
    }
   ],
   "source": [
    "# Metric for rpartFit11\n",
    "\n",
    "predicted11<- predict(rpartFit11, newdata = testDF, type = \"class\")\n",
    "\n",
    "\n",
    "f1_val_rpartFit11 <- F1_Score(y_pred = predicted11, y_true = testDF$isSpam, positive = \"T\")\n",
    "precision_rpartFit11 <- Precision(y_pred = predicted11, y_true = testDF$isSpam, positive = \"T\")\n",
    "recall_rpartFit11  <- Recall(y_pred = predicted11, y_true = testDF$isSpam, positive = \"T\")\n",
    "\n",
    "result <- c( f1_val_rpartFit11, precision_rpartFit11, recall_rpartFit11)\n",
    "\n",
    "names(result) <- c(\"F1-Score\",\"Precision\", \"Recall\")\n",
    "print(\"Metrics for rpartFit11:\")\n",
    "return(result)\n",
    "\n",
    "##performance stay the same\n",
    "# [1] \"Metrics for rpartFit1:\"\n",
    "# F1-Score 0.868217054263566 Precision 0.897196261682243 Recall 0.841051314142678"
   ]
  },
  {
   "cell_type": "code",
   "execution_count": 124,
   "metadata": {
    "scrolled": false
   },
   "outputs": [],
   "source": [
    "# model10=rpartFitFunc(rpartFit10 ,'_10')"
   ]
  },
  {
   "cell_type": "markdown",
   "metadata": {},
   "source": [
    "### rpartFit10 with maxdepth =14 is the best model we got so far. however, we can not increase maxdepth infinitely since it cause overfitting.\n",
    "\n",
    "### let's compare the trees of rpartFit1 and rpartFit10 which are the best models we got so far to make a final decision on which model to choose.\n"
   ]
  },
  {
   "cell_type": "code",
   "execution_count": 111,
   "metadata": {},
   "outputs": [
    {
     "name": "stderr",
     "output_type": "stream",
     "text": [
      "Warning message:\n",
      "\"labs do not fit even at cex 0.15, there may be some overplotting\"\n"
     ]
    },
    {
     "data": {
      "image/png": "[encoded data removed]",
      "text/plain": [
       "plot without title"
      ]
     },
     "metadata": {
      "image/png": {
       "height": 420,
       "width": 420
      },
      "text/plain": {
       "height": 420,
       "width": 420
      }
     },
     "output_type": "display_data"
    }
   ],
   "source": [
    "rpart.plot(rpartFit1  , extra = 3)"
   ]
  },
  {
   "cell_type": "code",
   "execution_count": 109,
   "metadata": {},
   "outputs": [
    {
     "name": "stderr",
     "output_type": "stream",
     "text": [
      "Warning message:\n",
      "\"labs do not fit even at cex 0.15, there may be some overplotting\"\n"
     ]
    },
    {
     "data": {
      "image/png": "[encoded data removed]",
      "text/plain": [
       "plot without title"
      ]
     },
     "metadata": {
      "image/png": {
       "height": 420,
       "width": 420
      },
      "text/plain": {
       "height": 420,
       "width": 420
      }
     },
     "output_type": "display_data"
    }
   ],
   "source": [
    "rpart.plot(rpartFit10  , extra = 3)"
   ]
  },
  {
   "cell_type": "code",
   "execution_count": 112,
   "metadata": {},
   "outputs": [
    {
     "data": {
      "image/png": "[encoded data removed]",
      "text/plain": [
       "plot without title"
      ]
     },
     "metadata": {
      "image/png": {
       "height": 420,
       "width": 420
      },
      "text/plain": {
       "height": 420,
       "width": 420
      }
     },
     "output_type": "display_data"
    }
   ],
   "source": [
    "# let's prune rpartFit10 and compare with pruned rpartFit1\n",
    "\n",
    "plotcp(rpartFit10)"
   ]
  },
  {
   "cell_type": "code",
   "execution_count": 113,
   "metadata": {},
   "outputs": [
    {
     "name": "stdout",
     "output_type": "stream",
     "text": [
      "\n",
      "Classification tree:\n",
      "rpart(formula = isSpam ~ ., data = trainDF, method = \"class\", \n",
      "    control = rpart.control(cp = 1e-04, maxdepth = 14, xval = 5, \n",
      "        minsplit = 20))\n",
      "\n",
      "Variables actually used in tree construction:\n",
      " [1] avgWordLen    bodyCharCt    forwards      hour          isDear       \n",
      " [6] isInReplyTo   isRe          isWrote       isYelling     multipartText\n",
      "[11] numAtt        numDlr        numEnd        numLines      numRec       \n",
      "[16] perCaps       perHTML       subBlanks     subExcCt      underscore   \n",
      "\n",
      "Root node error: 1598/6232 = 0.25642\n",
      "\n",
      "n= 6232 \n",
      "\n",
      "           CP nsplit rel error  xerror     xstd\n",
      "1  0.29036295      0   1.00000 1.00000 0.021571\n",
      "2  0.09011264      1   0.70964 0.71589 0.019125\n",
      "3  0.07509387      2   0.61952 0.65394 0.018455\n",
      "4  0.04380476      3   0.54443 0.59825 0.017803\n",
      "5  0.02659574      4   0.50063 0.49312 0.016418\n",
      "6  0.02628285      7   0.39862 0.46245 0.015971\n",
      "7  0.02565707      8   0.37234 0.44431 0.015696\n",
      "8  0.02252816      9   0.34668 0.38360 0.014712\n",
      "9  0.01939925     10   0.32416 0.36546 0.014397\n",
      "10 0.01439299     11   0.30476 0.33730 0.013886\n",
      "11 0.01251564     12   0.29036 0.32979 0.013745\n",
      "12 0.00938673     13   0.27785 0.31414 0.013444\n",
      "13 0.00750939     14   0.26846 0.29725 0.013109\n",
      "14 0.00688360     15   0.26095 0.28974 0.012955\n",
      "15 0.00625782     17   0.24718 0.28160 0.012787\n",
      "16 0.00594493     18   0.24093 0.27785 0.012708\n",
      "17 0.00563204     20   0.22904 0.27785 0.012708\n",
      "18 0.00438048     21   0.22340 0.27409 0.012628\n",
      "19 0.00312891     24   0.21026 0.26283 0.012385\n",
      "20 0.00219024     25   0.20713 0.24906 0.012079\n",
      "21 0.00187735     29   0.19837 0.24593 0.012008\n",
      "22 0.00135586     32   0.19274 0.24468 0.011980\n",
      "23 0.00125156     41   0.17897 0.24155 0.011908\n",
      "24 0.00093867     43   0.17647 0.24093 0.011893\n",
      "25 0.00062578     45   0.17459 0.24656 0.012022\n",
      "26 0.00010000     47   0.17334 0.24593 0.012008\n"
     ]
    }
   ],
   "source": [
    "printcp(rpartFit10) #rule of thumb to determine optimal cp value"
   ]
  },
  {
   "cell_type": "code",
   "execution_count": 114,
   "metadata": {},
   "outputs": [
    {
     "data": {
      "text/html": [
       "0.252823"
      ],
      "text/latex": [
       "0.252823"
      ],
      "text/markdown": [
       "0.252823"
      ],
      "text/plain": [
       "[1] 0.252823"
      ]
     },
     "metadata": {},
     "output_type": "display_data"
    }
   ],
   "source": [
    "# 24 0.00093867     43   0.17647 0.24093 0.011893\n",
    "0.24093+0.011893 #=0.252823, so choose 20 0.00219024     25   0.20713 0.24906 0.012079\n",
    "\n",
    "#good_cp10=0.00219024"
   ]
  },
  {
   "cell_type": "code",
   "execution_count": 115,
   "metadata": {},
   "outputs": [],
   "source": [
    "good_cp10=0.00219024"
   ]
  },
  {
   "cell_type": "code",
   "execution_count": 117,
   "metadata": {},
   "outputs": [
    {
     "data": {
      "image/png": "[encoded data removed]",
      "text/plain": [
       "plot without title"
      ]
     },
     "metadata": {
      "image/png": {
       "height": 420,
       "width": 420
      },
      "text/plain": {
       "height": 420,
       "width": 420
      }
     },
     "output_type": "display_data"
    }
   ],
   "source": [
    "tree.fit10=prune(rpartFit10, cp= good_cp10)\n",
    "\n",
    "rpart.plot(tree.fit10, extra = 3)"
   ]
  },
  {
   "cell_type": "code",
   "execution_count": null,
   "metadata": {},
   "outputs": [],
   "source": [
    "png(\"treefit10.png\", width=1000, height=800, antialias=\"cleartype\")\n",
    "rpart.plot(tree.fit10, extra = 3)\n",
    "dev.off()"
   ]
  },
  {
   "cell_type": "code",
   "execution_count": 118,
   "metadata": {},
   "outputs": [
    {
     "data": {
      "image/png": "[encoded data removed]",
      "text/plain": [
       "plot without title"
      ]
     },
     "metadata": {
      "image/png": {
       "height": 420,
       "width": 420
      },
      "text/plain": {
       "height": 420,
       "width": 420
      }
     },
     "output_type": "display_data"
    }
   ],
   "source": [
    "rpart.plot(tree.fit0, extra = 3)"
   ]
  },
  {
   "cell_type": "code",
   "execution_count": 138,
   "metadata": {},
   "outputs": [
    {
     "data": {
      "text/html": [
       "<strong>png:</strong> 2"
      ],
      "text/latex": [
       "\\textbf{png:} 2"
      ],
      "text/markdown": [
       "**png:** 2"
      ],
      "text/plain": [
       "png \n",
       "  2 "
      ]
     },
     "metadata": {},
     "output_type": "display_data"
    }
   ],
   "source": [
    "png(\"treefit1.png\", width=1000, height=800, antialias=\"cleartype\")\n",
    "rpart.plot(tree.fit0, extra = 3)\n",
    "dev.off()  #save the tree plot in png. so can zoom in and see the labels"
   ]
  },
  {
   "cell_type": "code",
   "execution_count": 144,
   "metadata": {
    "scrolled": false
   },
   "outputs": [],
   "source": [
    "# summary(rpartFit10)"
   ]
  },
  {
   "cell_type": "code",
   "execution_count": 150,
   "metadata": {
    "scrolled": false
   },
   "outputs": [],
   "source": [
    "# summary(tree.fit10)\n"
   ]
  },
  {
   "cell_type": "code",
   "execution_count": 119,
   "metadata": {},
   "outputs": [
    {
     "name": "stdout",
     "output_type": "stream",
     "text": [
      "[1] \"Metrics for pruned rpartFit10:\"\n"
     ]
    },
    {
     "data": {
      "text/html": [
       "<dl class=dl-horizontal>\n",
       "\t<dt>F1-Score</dt>\n",
       "\t\t<dd>0.867637745408486</dd>\n",
       "\t<dt>Precision</dt>\n",
       "\t\t<dd>0.878205128205128</dd>\n",
       "\t<dt>Recall</dt>\n",
       "\t\t<dd>0.857321652065081</dd>\n",
       "</dl>\n"
      ],
      "text/latex": [
       "\\begin{description*}\n",
       "\\item[F1-Score] 0.867637745408486\n",
       "\\item[Precision] 0.878205128205128\n",
       "\\item[Recall] 0.857321652065081\n",
       "\\end{description*}\n"
      ],
      "text/markdown": [
       "F1-Score\n",
       ":   0.867637745408486Precision\n",
       ":   0.878205128205128Recall\n",
       ":   0.857321652065081\n",
       "\n"
      ],
      "text/plain": [
       " F1-Score Precision    Recall \n",
       "0.8676377 0.8782051 0.8573217 "
      ]
     },
     "metadata": {},
     "output_type": "display_data"
    }
   ],
   "source": [
    "# Metric for tree.fit10 which is pruned rpartFit10\n",
    "\n",
    "predicted10p <- predict(tree.fit10, newdata = testDF, type = \"class\")\n",
    "\n",
    "f1_val_rpartFit10p <- F1_Score(y_pred = predicted10p , y_true = testDF$isSpam, positive = \"T\")\n",
    "precision_rpartFit10p <- Precision(y_pred = predicted10p, y_true = testDF$isSpam, positive = \"T\")\n",
    "recall_rpartFit10p  <- Recall(y_pred = predicted10p, y_true = testDF$isSpam, positive = \"T\")\n",
    "\n",
    "result <- c( f1_val_rpartFit10p, precision_rpartFit10p, recall_rpartFit10p)\n",
    "\n",
    "names(result) <- c(\"F1-Score\",\"Precision\", \"Recall\")\n",
    "print(\"Metrics for pruned rpartFit10:\")\n",
    "return(result)\n",
    "\n"
   ]
  },
  {
   "cell_type": "code",
   "execution_count": 120,
   "metadata": {},
   "outputs": [],
   "source": [
    "# compare results:\n",
    "\n",
    "# [1] \"Metrics for pruned rpartFit1:\"\n",
    "\n",
    "# F1-Score\n",
    "# 0.860952380952381\n",
    "# Precision\n",
    "# 0.873711340206186\n",
    "# Recall\n",
    "# 0.848560700876095\n",
    "\n",
    "# [1] \"Metrics for pruned rpartFit10:\"\n",
    "\n",
    "# F1-Score\n",
    "# 0.867637745408486\n",
    "# Precision\n",
    "# 0.878205128205128\n",
    "# Recall\n",
    "# 0.857321652065081\n",
    "\n"
   ]
  },
  {
   "cell_type": "markdown",
   "metadata": {},
   "source": [
    "## Conclusion for task 3\n",
    "### pruned rpartFit10 outperformed pruned rpartFit1\n",
    "### so parameter tuning improved the prediction\n",
    "\n",
    "### however, pruned rpartFit1 is easier to interpret based on the plot.\n",
    "-------------------------------------------------------"
   ]
  },
  {
   "cell_type": "markdown",
   "metadata": {},
   "source": [
    "## Task 4 Alternative method to find optimal cp value\n",
    "### use rpart package see how the cp will affect on the tree while holding others constant\n",
    "#### caret package can grid search cp, also print F1, prec, rec"
   ]
  },
  {
   "cell_type": "code",
   "execution_count": 121,
   "metadata": {},
   "outputs": [
    {
     "name": "stderr",
     "output_type": "stream",
     "text": [
      "Loading required package: lattice\n",
      "\n",
      "Loading required package: ggplot2\n",
      "\n",
      "\n",
      "Attaching package: 'ggplot2'\n",
      "\n",
      "\n",
      "The following object is masked from 'package:NLP':\n",
      "\n",
      "    annotate\n",
      "\n",
      "\n",
      "\n",
      "Attaching package: 'caret'\n",
      "\n",
      "\n",
      "The following objects are masked from 'package:MLmetrics':\n",
      "\n",
      "    MAE, RMSE\n",
      "\n",
      "\n",
      "Warning message in train.default(x, y, weights = w, ...):\n",
      "\"The metric \"Accuracy\" was not in the result set. F1 will be used instead.\"\n"
     ]
    },
    {
     "data": {
      "text/plain": [
       "CART \n",
       "\n",
       "9348 samples\n",
       "  29 predictor\n",
       "   2 classes: '0', '1' \n",
       "\n",
       "No pre-processing\n",
       "Resampling: Cross-Validated (5 fold) \n",
       "Summary of sample sizes: 7479, 7479, 7477, 7478, 7479 \n",
       "Resampling results across tuning parameters:\n",
       "\n",
       "  cp       F1         prec       rec        Type_I_err  Type_II_err\n",
       "  0.00000  0.9621734  0.9566502  0.9677746  0.03262679  0.02396209 \n",
       "  0.00005  0.9621734  0.9566502  0.9677746  0.03262679  0.02396209 \n",
       "  0.00010  0.9620349  0.9563749  0.9677746  0.03284070  0.02396209 \n",
       "  0.00015  0.9619608  0.9563684  0.9676308  0.03284070  0.02406910 \n",
       "  0.00020  0.9620459  0.9561199  0.9680623  0.03305471  0.02374813 \n",
       "  0.00025  0.9620568  0.9558648  0.9683501  0.03326873  0.02353411 \n",
       "  0.00030  0.9621983  0.9560033  0.9684940  0.03316189  0.02342710 \n",
       "  0.00035  0.9617683  0.9555822  0.9680623  0.03348292  0.02374813 \n",
       "  0.00040  0.9619066  0.9558584  0.9680623  0.03326890  0.02374813 \n",
       "  0.00045  0.9619066  0.9558584  0.9680623  0.03326890  0.02374813 \n",
       "  0.00050  0.9619066  0.9558584  0.9680623  0.03326890  0.02374813 \n",
       "  0.00055  0.9627691  0.9567121  0.9689252  0.03262576  0.02310670 \n",
       "  0.00060  0.9627691  0.9567121  0.9689252  0.03262576  0.02310670 \n",
       "  0.00065  0.9627691  0.9567121  0.9689252  0.03262576  0.02310670 \n",
       "  0.00070  0.9628968  0.9572506  0.9686374  0.03219773  0.02332072 \n",
       "  0.00075  0.9628968  0.9572506  0.9686374  0.03219773  0.02332072 \n",
       "  0.00080  0.9626162  0.9568434  0.9684936  0.03251875  0.02342756 \n",
       "  0.00085  0.9626162  0.9568434  0.9684936  0.03251875  0.02342756 \n",
       "  0.00090  0.9627599  0.9569868  0.9686374  0.03241174  0.02332055 \n",
       "  0.00095  0.9627599  0.9569868  0.9686374  0.03241174  0.02332055 \n",
       "  0.00100  0.9627599  0.9569868  0.9686374  0.03241174  0.02332055 \n",
       "  0.00105  0.9622000  0.9561648  0.9683497  0.03305357  0.02353456 \n",
       "  0.00110  0.9622000  0.9561648  0.9683497  0.03305357  0.02353456 \n",
       "  0.00115  0.9622000  0.9561648  0.9683497  0.03305357  0.02353456 \n",
       "  0.00120  0.9622000  0.9561648  0.9683497  0.03305357  0.02353456 \n",
       "  0.00125  0.9618148  0.9563938  0.9673427  0.03284001  0.02428300 \n",
       "  0.00130  0.9618148  0.9563938  0.9673427  0.03284001  0.02428300 \n",
       "  0.00135  0.9618121  0.9565449  0.9671988  0.03273300  0.02439001 \n",
       "  0.00140  0.9618121  0.9565449  0.9671988  0.03273300  0.02439001 \n",
       "  0.00145  0.9618121  0.9565449  0.9671988  0.03273300  0.02439001 \n",
       "  0.00150  0.9618121  0.9565449  0.9671988  0.03273300  0.02439001 \n",
       "  0.00155  0.9618121  0.9565449  0.9671988  0.03273300  0.02439001 \n",
       "  0.00160  0.9617206  0.9569152  0.9666234  0.03241232  0.02481787 \n",
       "  0.00165  0.9617206  0.9569152  0.9666234  0.03241232  0.02481787 \n",
       "  0.00170  0.9611905  0.9571196  0.9653284  0.03219830  0.02578095 \n",
       "  0.00175  0.9610779  0.9563459  0.9659039  0.03284035  0.02535292 \n",
       "  0.00180  0.9604699  0.9565747  0.9644651  0.03262633  0.02642301 \n",
       "  0.00185  0.9604699  0.9565747  0.9644651  0.03262633  0.02642301 \n",
       "  0.00190  0.9604699  0.9565747  0.9644651  0.03262633  0.02642301 \n",
       "  0.00195  0.9604699  0.9565747  0.9644651  0.03262633  0.02642301 \n",
       "  0.00200  0.9599732  0.9575580  0.9624521  0.03177118  0.02791954 \n",
       "\n",
       "F1 was used to select the optimal model using the largest value.\n",
       "The final value used for the model was cp = 0.00075."
      ]
     },
     "metadata": {},
     "output_type": "display_data"
    }
   ],
   "source": [
    "\n",
    "\n",
    "setupRnum = function(data) {\n",
    "  logicalVars = which(sapply(data, is.logical))\n",
    "  facVars = lapply(data[ , logicalVars], \n",
    "                   function(x) {\n",
    "                      x = as.numeric(x)\n",
    "                   })\n",
    "  cbind(facVars, data[ , - logicalVars])\n",
    "}\n",
    "\n",
    "emailDFnum = setupRnum(emailDF)\n",
    "\n",
    "emailDFnum[is.na(emailDFnum)]<-0\n",
    "\n",
    "library(caret)\n",
    "val<-seq(from = 0, to=0.002, by=0.00005)\n",
    "cart_grid<-expand.grid(cp=val)\n",
    "train_control<-trainControl(method=\"cv\", number =5, savePredictions = 'final',summaryFunction = f1)\n",
    "model_rpart<-caret::train(as.factor(isSpam) ~ .,data=emailDFnum, trControl = train_control, method='rpart',tuneGrid = cart_grid)\n",
    "model_rpart"
   ]
  },
  {
   "cell_type": "markdown",
   "metadata": {},
   "source": [
    "### since we want typeI error to be low, \n",
    "#### lowest  type I error occur around cp=0.00075 \n",
    "#### lowest  type II error occur around cp=0.00100 \n",
    "\n",
    "#### if we want best F1 score, it also happens around cp=0.00100 \n"
   ]
  },
  {
   "cell_type": "code",
   "execution_count": 125,
   "metadata": {},
   "outputs": [],
   "source": [
    "# parameter  different from the best model what we found above\n",
    "# rpartFit10 = rpart(isSpam ~ ., data = trainDF, method = \"class\",control = rpart.control(cp = 0.0001, maxdepth=14, xval= 5, minsplit=20))\n",
    "rpartFit12= rpart(isSpam ~ ., data = trainDF, method = \"class\",control = rpart.control(cp = 0.00075, maxdepth=14, xval= 5, minsplit=20))"
   ]
  },
  {
   "cell_type": "code",
   "execution_count": 126,
   "metadata": {},
   "outputs": [
    {
     "name": "stdout",
     "output_type": "stream",
     "text": [
      "[1] \"Metrics for rpartFit12:\"\n"
     ]
    },
    {
     "data": {
      "text/html": [
       "<dl class=dl-horizontal>\n",
       "\t<dt>F1-Score</dt>\n",
       "\t\t<dd>0.870782940802037</dd>\n",
       "\t<dt>Precision</dt>\n",
       "\t\t<dd>0.886010362694301</dd>\n",
       "\t<dt>Recall</dt>\n",
       "\t\t<dd>0.856070087609512</dd>\n",
       "</dl>\n"
      ],
      "text/latex": [
       "\\begin{description*}\n",
       "\\item[F1-Score] 0.870782940802037\n",
       "\\item[Precision] 0.886010362694301\n",
       "\\item[Recall] 0.856070087609512\n",
       "\\end{description*}\n"
      ],
      "text/markdown": [
       "F1-Score\n",
       ":   0.870782940802037Precision\n",
       ":   0.886010362694301Recall\n",
       ":   0.856070087609512\n",
       "\n"
      ],
      "text/plain": [
       " F1-Score Precision    Recall \n",
       "0.8707829 0.8860104 0.8560701 "
      ]
     },
     "metadata": {},
     "output_type": "display_data"
    }
   ],
   "source": [
    "# Metric for rpartFit12\n",
    "\n",
    "predicted12<- predict(rpartFit12, newdata = testDF, type = \"class\")\n",
    "\n",
    "\n",
    "f1_val_rpartFit12 <- F1_Score(y_pred = predicted12, y_true = testDF$isSpam, positive = \"T\")\n",
    "precision_rpartFit12 <- Precision(y_pred = predicted12, y_true = testDF$isSpam, positive = \"T\")\n",
    "recall_rpartFit12  <- Recall(y_pred = predicted12, y_true = testDF$isSpam, positive = \"T\")\n",
    "\n",
    "result <- c( f1_val_rpartFit12, precision_rpartFit12, recall_rpartFit12)\n",
    "\n",
    "names(result) <- c(\"F1-Score\",\"Precision\", \"Recall\")\n",
    "print(\"Metrics for rpartFit12:\")\n",
    "return(result)"
   ]
  },
  {
   "cell_type": "markdown",
   "metadata": {},
   "source": [
    "### performance increased after parameters tuning\n",
    "\n",
    "### create table to compare!!!!!!!!!!!!!!!!!!!!!!!!  (table with columns: modelName, cp, maxdepth,F1-Score, Precision,Recall )\n",
    "\n",
    "### Summary of results\n",
    "first model\n",
    "[1] \"Metrics for rpartFitCpExperiment:\"\n",
    "\n",
    "F1-Score\n",
    "0.867972204674668\n",
    "Precision\n",
    "0.876275510204082\n",
    "Recall\n",
    "0.85982478097622\n",
    "\n",
    "\n",
    "[1] \"Metrics for rpartFit0:\"  #treefit1.png\n",
    "\n",
    "F1-Score\n",
    "0.868217054263566\n",
    "Precision\n",
    "0.897196261682243\n",
    "Recall\n",
    "0.841051314142678\n",
    "\n",
    "\n",
    "[1] \"Metrics for rpartFit10:\" #treefit10.png\n",
    "\n",
    "F1-Score\n",
    "0.869009584664537\n",
    "Precision\n",
    "0.887728459530026\n",
    "Recall\n",
    "0.851063829787234\n",
    "\n",
    "\n",
    "[1] \"Metrics for rpartFit12:\"\n",
    "\n",
    "F1-Score\n",
    "0.870782940802037\n",
    "Precision\n",
    "0.886010362694301\n",
    "Recall\n",
    "0.856070087609512"
   ]
  },
  {
   "cell_type": "code",
   "execution_count": 128,
   "metadata": {},
   "outputs": [],
   "source": [
    "# first model\n",
    "# [1] \"Metrics for rpartFitCpExperiment:\"\n",
    "\n",
    "# F1-Score\n",
    "# 0.867972204674668\n",
    "# Precision\n",
    "# 0.876275510204082\n",
    "# Recall\n",
    "# 0.85982478097622\n",
    "\n",
    "\n",
    "# [1] \"Metrics for rpartFit0:\"  #treefit1.png\n",
    "\n",
    "# F1-Score\n",
    "# 0.868217054263566\n",
    "# Precision\n",
    "# 0.897196261682243\n",
    "# Recall\n",
    "# 0.841051314142678\n",
    "\n",
    "\n",
    "# [1] \"Metrics for rpartFit10:\" #treefit10.png\n",
    "\n",
    "# F1-Score\n",
    "# 0.869009584664537\n",
    "# Precision\n",
    "# 0.887728459530026\n",
    "# Recall\n",
    "# 0.851063829787234\n",
    "\n",
    "\n",
    "# [1] \"Metrics for rpartFit12:\"\n",
    "\n",
    "# F1-Score\n",
    "# 0.870782940802037\n",
    "# Precision\n",
    "# 0.886010362694301\n",
    "# Recall\n",
    "# 0.856070087609512"
   ]
  },
  {
   "cell_type": "code",
   "execution_count": 129,
   "metadata": {},
   "outputs": [
    {
     "name": "stderr",
     "output_type": "stream",
     "text": [
      "Warning message:\n",
      "\"labs do not fit even at cex 0.15, there may be some overplotting\"\n"
     ]
    },
    {
     "data": {
      "image/png": "[encoded data removed]",
      "text/plain": [
       "plot without title"
      ]
     },
     "metadata": {
      "image/png": {
       "height": 420,
       "width": 420
      },
      "text/plain": {
       "height": 420,
       "width": 420
      }
     },
     "output_type": "display_data"
    }
   ],
   "source": [
    "rpart.plot(rpartFit12  , extra = 3)"
   ]
  },
  {
   "cell_type": "code",
   "execution_count": 140,
   "metadata": {},
   "outputs": [
    {
     "data": {
      "text/html": [
       "<strong>png:</strong> 2"
      ],
      "text/latex": [
       "\\textbf{png:} 2"
      ],
      "text/markdown": [
       "**png:** 2"
      ],
      "text/plain": [
       "png \n",
       "  2 "
      ]
     },
     "metadata": {},
     "output_type": "display_data"
    }
   ],
   "source": [
    "png(\"treefit12.png\", width=1000, height=800, antialias=\"cleartype\")\n",
    "rpart.plot(rpartFit12, extra = 3)\n",
    "dev.off()  #save the tree plot in png. so can zoom in and see the labels"
   ]
  },
  {
   "cell_type": "code",
   "execution_count": 145,
   "metadata": {
    "scrolled": false
   },
   "outputs": [],
   "source": [
    "# summary(rpartFit12)"
   ]
  },
  {
   "cell_type": "code",
   "execution_count": 131,
   "metadata": {},
   "outputs": [
    {
     "data": {
      "text/html": [
       "<dl class=dl-horizontal>\n",
       "\t<dt>perCaps</dt>\n",
       "\t\t<dd>573.276331977386</dd>\n",
       "\t<dt>bodyCharCt</dt>\n",
       "\t\t<dd>364.573878977772</dd>\n",
       "\t<dt>numLines</dt>\n",
       "\t\t<dd>331.356497603043</dd>\n",
       "\t<dt>perHTML</dt>\n",
       "\t\t<dd>262.206727505546</dd>\n",
       "\t<dt>forwards</dt>\n",
       "\t\t<dd>154.733637778739</dd>\n",
       "\t<dt>avgWordLen</dt>\n",
       "\t\t<dd>134.807770159056</dd>\n",
       "\t<dt>isInReplyTo</dt>\n",
       "\t\t<dd>128.236882398466</dd>\n",
       "\t<dt>multipartText</dt>\n",
       "\t\t<dd>123.160299515449</dd>\n",
       "\t<dt>numEnd</dt>\n",
       "\t\t<dd>110.476146797325</dd>\n",
       "\t<dt>numAtt</dt>\n",
       "\t\t<dd>110.420386852032</dd>\n",
       "\t<dt>isRe</dt>\n",
       "\t\t<dd>100.153697248465</dd>\n",
       "\t<dt>isWrote</dt>\n",
       "\t\t<dd>95.361318821399</dd>\n",
       "\t<dt>subBlanks</dt>\n",
       "\t\t<dd>85.9941577475845</dd>\n",
       "\t<dt>numDlr</dt>\n",
       "\t\t<dd>79.9705492878563</dd>\n",
       "\t<dt>subExcCt</dt>\n",
       "\t\t<dd>71.9992301417394</dd>\n",
       "\t<dt>numRec</dt>\n",
       "\t\t<dd>69.4588131425937</dd>\n",
       "\t<dt>isDear</dt>\n",
       "\t\t<dd>63.0864383059542</dd>\n",
       "\t<dt>isYelling</dt>\n",
       "\t\t<dd>35.2186757544119</dd>\n",
       "\t<dt>hour</dt>\n",
       "\t\t<dd>34.0620578858556</dd>\n",
       "\t<dt>underscore</dt>\n",
       "\t\t<dd>28.5945124358827</dd>\n",
       "\t<dt>priority</dt>\n",
       "\t\t<dd>10.4221580932449</dd>\n",
       "\t<dt>sortedRec</dt>\n",
       "\t\t<dd>7.56985485136914</dd>\n",
       "\t<dt>subQuesCt</dt>\n",
       "\t\t<dd>6.78126578629932</dd>\n",
       "\t<dt>subSpamWords</dt>\n",
       "\t\t<dd>6.03696968902693</dd>\n",
       "\t<dt>isPGPsigned</dt>\n",
       "\t\t<dd>4.51785517226598</dd>\n",
       "\t<dt>isOrigMsg</dt>\n",
       "\t\t<dd>3.04265864759607</dd>\n",
       "\t<dt>hasImages</dt>\n",
       "\t\t<dd>0.492424242424242</dd>\n",
       "\t<dt>subPunc</dt>\n",
       "\t\t<dd>0.246212121212121</dd>\n",
       "</dl>\n"
      ],
      "text/latex": [
       "\\begin{description*}\n",
       "\\item[perCaps] 573.276331977386\n",
       "\\item[bodyCharCt] 364.573878977772\n",
       "\\item[numLines] 331.356497603043\n",
       "\\item[perHTML] 262.206727505546\n",
       "\\item[forwards] 154.733637778739\n",
       "\\item[avgWordLen] 134.807770159056\n",
       "\\item[isInReplyTo] 128.236882398466\n",
       "\\item[multipartText] 123.160299515449\n",
       "\\item[numEnd] 110.476146797325\n",
       "\\item[numAtt] 110.420386852032\n",
       "\\item[isRe] 100.153697248465\n",
       "\\item[isWrote] 95.361318821399\n",
       "\\item[subBlanks] 85.9941577475845\n",
       "\\item[numDlr] 79.9705492878563\n",
       "\\item[subExcCt] 71.9992301417394\n",
       "\\item[numRec] 69.4588131425937\n",
       "\\item[isDear] 63.0864383059542\n",
       "\\item[isYelling] 35.2186757544119\n",
       "\\item[hour] 34.0620578858556\n",
       "\\item[underscore] 28.5945124358827\n",
       "\\item[priority] 10.4221580932449\n",
       "\\item[sortedRec] 7.56985485136914\n",
       "\\item[subQuesCt] 6.78126578629932\n",
       "\\item[subSpamWords] 6.03696968902693\n",
       "\\item[isPGPsigned] 4.51785517226598\n",
       "\\item[isOrigMsg] 3.04265864759607\n",
       "\\item[hasImages] 0.492424242424242\n",
       "\\item[subPunc] 0.246212121212121\n",
       "\\end{description*}\n"
      ],
      "text/markdown": [
       "perCaps\n",
       ":   573.276331977386bodyCharCt\n",
       ":   364.573878977772numLines\n",
       ":   331.356497603043perHTML\n",
       ":   262.206727505546forwards\n",
       ":   154.733637778739avgWordLen\n",
       ":   134.807770159056isInReplyTo\n",
       ":   128.236882398466multipartText\n",
       ":   123.160299515449numEnd\n",
       ":   110.476146797325numAtt\n",
       ":   110.420386852032isRe\n",
       ":   100.153697248465isWrote\n",
       ":   95.361318821399subBlanks\n",
       ":   85.9941577475845numDlr\n",
       ":   79.9705492878563subExcCt\n",
       ":   71.9992301417394numRec\n",
       ":   69.4588131425937isDear\n",
       ":   63.0864383059542isYelling\n",
       ":   35.2186757544119hour\n",
       ":   34.0620578858556underscore\n",
       ":   28.5945124358827priority\n",
       ":   10.4221580932449sortedRec\n",
       ":   7.56985485136914subQuesCt\n",
       ":   6.78126578629932subSpamWords\n",
       ":   6.03696968902693isPGPsigned\n",
       ":   4.51785517226598isOrigMsg\n",
       ":   3.04265864759607hasImages\n",
       ":   0.492424242424242subPunc\n",
       ":   0.246212121212121\n",
       "\n"
      ],
      "text/plain": [
       "      perCaps    bodyCharCt      numLines       perHTML      forwards \n",
       "  573.2763320   364.5738790   331.3564976   262.2067275   154.7336378 \n",
       "   avgWordLen   isInReplyTo multipartText        numEnd        numAtt \n",
       "  134.8077702   128.2368824   123.1602995   110.4761468   110.4203869 \n",
       "         isRe       isWrote     subBlanks        numDlr      subExcCt \n",
       "  100.1536972    95.3613188    85.9941577    79.9705493    71.9992301 \n",
       "       numRec        isDear     isYelling          hour    underscore \n",
       "   69.4588131    63.0864383    35.2186758    34.0620579    28.5945124 \n",
       "     priority     sortedRec     subQuesCt  subSpamWords   isPGPsigned \n",
       "   10.4221581     7.5698549     6.7812658     6.0369697     4.5178552 \n",
       "    isOrigMsg     hasImages       subPunc \n",
       "    3.0426586     0.4924242     0.2462121 "
      ]
     },
     "metadata": {},
     "output_type": "display_data"
    }
   ],
   "source": [
    "rpartFit10$variable.importance"
   ]
  },
  {
   "cell_type": "code",
   "execution_count": 132,
   "metadata": {},
   "outputs": [
    {
     "data": {
      "text/html": [
       "<dl class=dl-horizontal>\n",
       "\t<dt>perCaps</dt>\n",
       "\t\t<dd>571.59980337778</dd>\n",
       "\t<dt>bodyCharCt</dt>\n",
       "\t\t<dd>360.300374704268</dd>\n",
       "\t<dt>numLines</dt>\n",
       "\t\t<dd>327.444597537297</dd>\n",
       "\t<dt>perHTML</dt>\n",
       "\t\t<dd>262.206727505546</dd>\n",
       "\t<dt>forwards</dt>\n",
       "\t\t<dd>154.733637778739</dd>\n",
       "\t<dt>avgWordLen</dt>\n",
       "\t\t<dd>133.361353328024</dd>\n",
       "\t<dt>isInReplyTo</dt>\n",
       "\t\t<dd>128.236882398466</dd>\n",
       "\t<dt>multipartText</dt>\n",
       "\t\t<dd>123.160299515449</dd>\n",
       "\t<dt>numEnd</dt>\n",
       "\t\t<dd>110.476146797325</dd>\n",
       "\t<dt>numAtt</dt>\n",
       "\t\t<dd>110.420386852032</dd>\n",
       "\t<dt>isRe</dt>\n",
       "\t\t<dd>100.153697248465</dd>\n",
       "\t<dt>isWrote</dt>\n",
       "\t\t<dd>95.361318821399</dd>\n",
       "\t<dt>subBlanks</dt>\n",
       "\t\t<dd>84.2847560381828</dd>\n",
       "\t<dt>numDlr</dt>\n",
       "\t\t<dd>76.5517458690529</dd>\n",
       "\t<dt>subExcCt</dt>\n",
       "\t\t<dd>71.6047528241852</dd>\n",
       "\t<dt>numRec</dt>\n",
       "\t\t<dd>69.4588131425937</dd>\n",
       "\t<dt>isDear</dt>\n",
       "\t\t<dd>63.0864383059542</dd>\n",
       "\t<dt>isYelling</dt>\n",
       "\t\t<dd>35.2186757544119</dd>\n",
       "\t<dt>hour</dt>\n",
       "\t\t<dd>34.0620578858556</dd>\n",
       "\t<dt>underscore</dt>\n",
       "\t\t<dd>28.5945124358827</dd>\n",
       "\t<dt>priority</dt>\n",
       "\t\t<dd>10.4221580932449</dd>\n",
       "\t<dt>sortedRec</dt>\n",
       "\t\t<dd>7.17537753381489</dd>\n",
       "\t<dt>subQuesCt</dt>\n",
       "\t\t<dd>6.78126578629932</dd>\n",
       "\t<dt>subSpamWords</dt>\n",
       "\t\t<dd>6.03696968902693</dd>\n",
       "\t<dt>isPGPsigned</dt>\n",
       "\t\t<dd>4.51785517226598</dd>\n",
       "\t<dt>isOrigMsg</dt>\n",
       "\t\t<dd>3.04265864759607</dd>\n",
       "\t<dt>hasImages</dt>\n",
       "\t\t<dd>0.492424242424242</dd>\n",
       "\t<dt>subPunc</dt>\n",
       "\t\t<dd>0.246212121212121</dd>\n",
       "</dl>\n"
      ],
      "text/latex": [
       "\\begin{description*}\n",
       "\\item[perCaps] 571.59980337778\n",
       "\\item[bodyCharCt] 360.300374704268\n",
       "\\item[numLines] 327.444597537297\n",
       "\\item[perHTML] 262.206727505546\n",
       "\\item[forwards] 154.733637778739\n",
       "\\item[avgWordLen] 133.361353328024\n",
       "\\item[isInReplyTo] 128.236882398466\n",
       "\\item[multipartText] 123.160299515449\n",
       "\\item[numEnd] 110.476146797325\n",
       "\\item[numAtt] 110.420386852032\n",
       "\\item[isRe] 100.153697248465\n",
       "\\item[isWrote] 95.361318821399\n",
       "\\item[subBlanks] 84.2847560381828\n",
       "\\item[numDlr] 76.5517458690529\n",
       "\\item[subExcCt] 71.6047528241852\n",
       "\\item[numRec] 69.4588131425937\n",
       "\\item[isDear] 63.0864383059542\n",
       "\\item[isYelling] 35.2186757544119\n",
       "\\item[hour] 34.0620578858556\n",
       "\\item[underscore] 28.5945124358827\n",
       "\\item[priority] 10.4221580932449\n",
       "\\item[sortedRec] 7.17537753381489\n",
       "\\item[subQuesCt] 6.78126578629932\n",
       "\\item[subSpamWords] 6.03696968902693\n",
       "\\item[isPGPsigned] 4.51785517226598\n",
       "\\item[isOrigMsg] 3.04265864759607\n",
       "\\item[hasImages] 0.492424242424242\n",
       "\\item[subPunc] 0.246212121212121\n",
       "\\end{description*}\n"
      ],
      "text/markdown": [
       "perCaps\n",
       ":   571.59980337778bodyCharCt\n",
       ":   360.300374704268numLines\n",
       ":   327.444597537297perHTML\n",
       ":   262.206727505546forwards\n",
       ":   154.733637778739avgWordLen\n",
       ":   133.361353328024isInReplyTo\n",
       ":   128.236882398466multipartText\n",
       ":   123.160299515449numEnd\n",
       ":   110.476146797325numAtt\n",
       ":   110.420386852032isRe\n",
       ":   100.153697248465isWrote\n",
       ":   95.361318821399subBlanks\n",
       ":   84.2847560381828numDlr\n",
       ":   76.5517458690529subExcCt\n",
       ":   71.6047528241852numRec\n",
       ":   69.4588131425937isDear\n",
       ":   63.0864383059542isYelling\n",
       ":   35.2186757544119hour\n",
       ":   34.0620578858556underscore\n",
       ":   28.5945124358827priority\n",
       ":   10.4221580932449sortedRec\n",
       ":   7.17537753381489subQuesCt\n",
       ":   6.78126578629932subSpamWords\n",
       ":   6.03696968902693isPGPsigned\n",
       ":   4.51785517226598isOrigMsg\n",
       ":   3.04265864759607hasImages\n",
       ":   0.492424242424242subPunc\n",
       ":   0.246212121212121\n",
       "\n"
      ],
      "text/plain": [
       "      perCaps    bodyCharCt      numLines       perHTML      forwards \n",
       "  571.5998034   360.3003747   327.4445975   262.2067275   154.7336378 \n",
       "   avgWordLen   isInReplyTo multipartText        numEnd        numAtt \n",
       "  133.3613533   128.2368824   123.1602995   110.4761468   110.4203869 \n",
       "         isRe       isWrote     subBlanks        numDlr      subExcCt \n",
       "  100.1536972    95.3613188    84.2847560    76.5517459    71.6047528 \n",
       "       numRec        isDear     isYelling          hour    underscore \n",
       "   69.4588131    63.0864383    35.2186758    34.0620579    28.5945124 \n",
       "     priority     sortedRec     subQuesCt  subSpamWords   isPGPsigned \n",
       "   10.4221581     7.1753775     6.7812658     6.0369697     4.5178552 \n",
       "    isOrigMsg     hasImages       subPunc \n",
       "    3.0426586     0.4924242     0.2462121 "
      ]
     },
     "metadata": {},
     "output_type": "display_data"
    }
   ],
   "source": [
    "rpartFit12$variable.importance"
   ]
  },
  {
   "cell_type": "code",
   "execution_count": 133,
   "metadata": {},
   "outputs": [
    {
     "data": {
      "text/html": [
       "<dl class=dl-horizontal>\n",
       "\t<dt>perCaps</dt>\n",
       "\t\t<dd>548.355946812969</dd>\n",
       "\t<dt>bodyCharCt</dt>\n",
       "\t\t<dd>344.574025800202</dd>\n",
       "\t<dt>numLines</dt>\n",
       "\t\t<dd>311.352682262048</dd>\n",
       "\t<dt>perHTML</dt>\n",
       "\t\t<dd>252.618398826645</dd>\n",
       "\t<dt>forwards</dt>\n",
       "\t\t<dd>151.119659814878</dd>\n",
       "\t<dt>isInReplyTo</dt>\n",
       "\t\t<dd>123.86203496183</dd>\n",
       "\t<dt>multipartText</dt>\n",
       "\t\t<dd>119.945577129821</dd>\n",
       "\t<dt>avgWordLen</dt>\n",
       "\t\t<dd>108.13425576735</dd>\n",
       "\t<dt>numAtt</dt>\n",
       "\t\t<dd>106.041371210298</dd>\n",
       "\t<dt>numEnd</dt>\n",
       "\t\t<dd>98.9422114125703</dd>\n",
       "\t<dt>isRe</dt>\n",
       "\t\t<dd>93.6498752047643</dd>\n",
       "\t<dt>isWrote</dt>\n",
       "\t\t<dd>92.7026213424074</dd>\n",
       "\t<dt>numDlr</dt>\n",
       "\t\t<dd>82.9164002181664</dd>\n",
       "\t<dt>subExcCt</dt>\n",
       "\t\t<dd>69.1569139345115</dd>\n",
       "\t<dt>numRec</dt>\n",
       "\t\t<dd>68.0541032680715</dd>\n",
       "\t<dt>isDear</dt>\n",
       "\t\t<dd>62.8890558802456</dd>\n",
       "\t<dt>subBlanks</dt>\n",
       "\t\t<dd>61.1712779040744</dd>\n",
       "\t<dt>isYelling</dt>\n",
       "\t\t<dd>35.2104594630728</dd>\n",
       "\t<dt>underscore</dt>\n",
       "\t\t<dd>28.5945124358827</dd>\n",
       "\t<dt>hour</dt>\n",
       "\t\t<dd>24.4966468060806</dd>\n",
       "\t<dt>priority</dt>\n",
       "\t\t<dd>10.077805476165</dd>\n",
       "\t<dt>subQuesCt</dt>\n",
       "\t\t<dd>5.88453109242177</dd>\n",
       "\t<dt>isPGPsigned</dt>\n",
       "\t\t<dd>4.0782334699265</dd>\n",
       "\t<dt>subSpamWords</dt>\n",
       "\t\t<dd>2.48935064140789</dd>\n",
       "\t<dt>isOrigMsg</dt>\n",
       "\t\t<dd>2.03911673496324</dd>\n",
       "</dl>\n"
      ],
      "text/latex": [
       "\\begin{description*}\n",
       "\\item[perCaps] 548.355946812969\n",
       "\\item[bodyCharCt] 344.574025800202\n",
       "\\item[numLines] 311.352682262048\n",
       "\\item[perHTML] 252.618398826645\n",
       "\\item[forwards] 151.119659814878\n",
       "\\item[isInReplyTo] 123.86203496183\n",
       "\\item[multipartText] 119.945577129821\n",
       "\\item[avgWordLen] 108.13425576735\n",
       "\\item[numAtt] 106.041371210298\n",
       "\\item[numEnd] 98.9422114125703\n",
       "\\item[isRe] 93.6498752047643\n",
       "\\item[isWrote] 92.7026213424074\n",
       "\\item[numDlr] 82.9164002181664\n",
       "\\item[subExcCt] 69.1569139345115\n",
       "\\item[numRec] 68.0541032680715\n",
       "\\item[isDear] 62.8890558802456\n",
       "\\item[subBlanks] 61.1712779040744\n",
       "\\item[isYelling] 35.2104594630728\n",
       "\\item[underscore] 28.5945124358827\n",
       "\\item[hour] 24.4966468060806\n",
       "\\item[priority] 10.077805476165\n",
       "\\item[subQuesCt] 5.88453109242177\n",
       "\\item[isPGPsigned] 4.0782334699265\n",
       "\\item[subSpamWords] 2.48935064140789\n",
       "\\item[isOrigMsg] 2.03911673496324\n",
       "\\end{description*}\n"
      ],
      "text/markdown": [
       "perCaps\n",
       ":   548.355946812969bodyCharCt\n",
       ":   344.574025800202numLines\n",
       ":   311.352682262048perHTML\n",
       ":   252.618398826645forwards\n",
       ":   151.119659814878isInReplyTo\n",
       ":   123.86203496183multipartText\n",
       ":   119.945577129821avgWordLen\n",
       ":   108.13425576735numAtt\n",
       ":   106.041371210298numEnd\n",
       ":   98.9422114125703isRe\n",
       ":   93.6498752047643isWrote\n",
       ":   92.7026213424074numDlr\n",
       ":   82.9164002181664subExcCt\n",
       ":   69.1569139345115numRec\n",
       ":   68.0541032680715isDear\n",
       ":   62.8890558802456subBlanks\n",
       ":   61.1712779040744isYelling\n",
       ":   35.2104594630728underscore\n",
       ":   28.5945124358827hour\n",
       ":   24.4966468060806priority\n",
       ":   10.077805476165subQuesCt\n",
       ":   5.88453109242177isPGPsigned\n",
       ":   4.0782334699265subSpamWords\n",
       ":   2.48935064140789isOrigMsg\n",
       ":   2.03911673496324\n",
       "\n"
      ],
      "text/plain": [
       "      perCaps    bodyCharCt      numLines       perHTML      forwards \n",
       "   548.355947    344.574026    311.352682    252.618399    151.119660 \n",
       "  isInReplyTo multipartText    avgWordLen        numAtt        numEnd \n",
       "   123.862035    119.945577    108.134256    106.041371     98.942211 \n",
       "         isRe       isWrote        numDlr      subExcCt        numRec \n",
       "    93.649875     92.702621     82.916400     69.156914     68.054103 \n",
       "       isDear     subBlanks     isYelling    underscore          hour \n",
       "    62.889056     61.171278     35.210459     28.594512     24.496647 \n",
       "     priority     subQuesCt   isPGPsigned  subSpamWords     isOrigMsg \n",
       "    10.077805      5.884531      4.078233      2.489351      2.039117 "
      ]
     },
     "metadata": {},
     "output_type": "display_data"
    }
   ],
   "source": [
    "rpartFitCpExperiment$variable.importance"
   ]
  },
  {
   "cell_type": "code",
   "execution_count": null,
   "metadata": {},
   "outputs": [],
   "source": [
    "#model 10 and 12 very similar feature importance\n",
    "\n",
    "# NEED TO WRITE : intepret a tree based on plot and feature importance\n",
    "# only tree fit 1 is able to see labels."
   ]
  },
  {
   "cell_type": "code",
   "execution_count": 151,
   "metadata": {
    "scrolled": false
   },
   "outputs": [],
   "source": [
    "# rpartFitFunc(rpartFit12,'_12')"
   ]
  },
  {
   "cell_type": "code",
   "execution_count": 148,
   "metadata": {
    "scrolled": false
   },
   "outputs": [
    {
     "name": "stderr",
     "output_type": "stream",
     "text": [
      "Warning message in train.default(x, y, weights = w, ...):\n",
      "\"The metric \"Accuracy\" was not in the result set. F1 will be used instead.\"\n",
      "Warning message:\n",
      "\"model fit failed for Fold1: laplace=0.0, usekernel= TRUE, adjust=FALSE Error in density.default(x, na.rm = TRUE, ...) : 'bw' is not positive.\n",
      "\"\n",
      "Warning message:\n",
      "\"model fit failed for Fold1: laplace=0.1, usekernel= TRUE, adjust=FALSE Error in density.default(x, na.rm = TRUE, ...) : 'bw' is not positive.\n",
      "\"\n",
      "Warning message:\n",
      "\"model fit failed for Fold1: laplace=0.3, usekernel= TRUE, adjust=FALSE Error in density.default(x, na.rm = TRUE, ...) : 'bw' is not positive.\n",
      "\"\n",
      "Warning message:\n",
      "\"model fit failed for Fold1: laplace=0.5, usekernel= TRUE, adjust=FALSE Error in density.default(x, na.rm = TRUE, ...) : 'bw' is not positive.\n",
      "\"\n",
      "Warning message:\n",
      "\"model fit failed for Fold1: laplace=1.0, usekernel= TRUE, adjust=FALSE Error in density.default(x, na.rm = TRUE, ...) : 'bw' is not positive.\n",
      "\"\n",
      "Warning message:\n",
      "\"model fit failed for Fold2: laplace=0.0, usekernel= TRUE, adjust=FALSE Error in density.default(x, na.rm = TRUE, ...) : 'bw' is not positive.\n",
      "\"\n",
      "Warning message:\n",
      "\"model fit failed for Fold2: laplace=0.1, usekernel= TRUE, adjust=FALSE Error in density.default(x, na.rm = TRUE, ...) : 'bw' is not positive.\n",
      "\"\n",
      "Warning message:\n",
      "\"model fit failed for Fold2: laplace=0.3, usekernel= TRUE, adjust=FALSE Error in density.default(x, na.rm = TRUE, ...) : 'bw' is not positive.\n",
      "\"\n",
      "Warning message:\n",
      "\"model fit failed for Fold2: laplace=0.5, usekernel= TRUE, adjust=FALSE Error in density.default(x, na.rm = TRUE, ...) : 'bw' is not positive.\n",
      "\"\n",
      "Warning message:\n",
      "\"model fit failed for Fold2: laplace=1.0, usekernel= TRUE, adjust=FALSE Error in density.default(x, na.rm = TRUE, ...) : 'bw' is not positive.\n",
      "\"\n",
      "Warning message:\n",
      "\"model fit failed for Fold3: laplace=0.0, usekernel= TRUE, adjust=FALSE Error in density.default(x, na.rm = TRUE, ...) : 'bw' is not positive.\n",
      "\"\n",
      "Warning message:\n",
      "\"model fit failed for Fold3: laplace=0.1, usekernel= TRUE, adjust=FALSE Error in density.default(x, na.rm = TRUE, ...) : 'bw' is not positive.\n",
      "\"\n",
      "Warning message:\n",
      "\"model fit failed for Fold3: laplace=0.3, usekernel= TRUE, adjust=FALSE Error in density.default(x, na.rm = TRUE, ...) : 'bw' is not positive.\n",
      "\"\n",
      "Warning message:\n",
      "\"model fit failed for Fold3: laplace=0.5, usekernel= TRUE, adjust=FALSE Error in density.default(x, na.rm = TRUE, ...) : 'bw' is not positive.\n",
      "\"\n",
      "Warning message:\n",
      "\"model fit failed for Fold3: laplace=1.0, usekernel= TRUE, adjust=FALSE Error in density.default(x, na.rm = TRUE, ...) : 'bw' is not positive.\n",
      "\"\n",
      "Warning message in nominalTrainWorkflow(x = x, y = y, wts = weights, info = trainInfo, :\n",
      "\"There were missing values in resampled performance measures.\"\n",
      "Warning message in train.default(x, y, weights = w, ...):\n",
      "\"missing values found in aggregated results\"\n"
     ]
    },
    {
     "data": {
      "text/plain": [
       "Naive Bayes \n",
       "\n",
       "9348 samples\n",
       "  29 predictor\n",
       "   2 classes: '0', '1' \n",
       "\n",
       "No pre-processing\n",
       "Resampling: Cross-Validated (3 fold) \n",
       "Summary of sample sizes: 6232, 6232, 6232 \n",
       "Resampling results across tuning parameters:\n",
       "\n",
       "  laplace  usekernel  adjust  F1         prec       rec        Type_I_err\n",
       "  0.0      FALSE      FALSE   0.9100201  0.9347404  0.8885053  0.04685494\n",
       "  0.0      FALSE       TRUE   0.9100201  0.9347404  0.8885053  0.04685494\n",
       "  0.0       TRUE      FALSE         NaN        NaN        NaN         NaN\n",
       "  0.0       TRUE       TRUE   0.8929104  0.8080207  0.9979859  0.17672229\n",
       "  0.1      FALSE      FALSE   0.9100201  0.9347404  0.8885053  0.04685494\n",
       "  0.1      FALSE       TRUE   0.9100201  0.9347404  0.8885053  0.04685494\n",
       "  0.1       TRUE      FALSE         NaN        NaN        NaN         NaN\n",
       "  0.1       TRUE       TRUE   0.8929104  0.8080207  0.9979859  0.17672229\n",
       "  0.3      FALSE      FALSE   0.9100201  0.9347404  0.8885053  0.04685494\n",
       "  0.3      FALSE       TRUE   0.9100201  0.9347404  0.8885053  0.04685494\n",
       "  0.3       TRUE      FALSE         NaN        NaN        NaN         NaN\n",
       "  0.3       TRUE       TRUE   0.8929104  0.8080207  0.9979859  0.17672229\n",
       "  0.5      FALSE      FALSE   0.9100201  0.9347404  0.8885053  0.04685494\n",
       "  0.5      FALSE       TRUE   0.9100201  0.9347404  0.8885053  0.04685494\n",
       "  0.5       TRUE      FALSE         NaN        NaN        NaN         NaN\n",
       "  0.5       TRUE       TRUE   0.8929104  0.8080207  0.9979859  0.17672229\n",
       "  1.0      FALSE      FALSE   0.9100201  0.9347404  0.8885053  0.04685494\n",
       "  1.0      FALSE       TRUE   0.9100201  0.9347404  0.8885053  0.04685494\n",
       "  1.0       TRUE      FALSE         NaN        NaN        NaN         NaN\n",
       "  1.0       TRUE       TRUE   0.8929104  0.8080207  0.9979859  0.17672229\n",
       "  Type_II_err\n",
       "  0.082905434\n",
       "  0.082905434\n",
       "          NaN\n",
       "  0.001497647\n",
       "  0.082905434\n",
       "  0.082905434\n",
       "          NaN\n",
       "  0.001497647\n",
       "  0.082905434\n",
       "  0.082905434\n",
       "          NaN\n",
       "  0.001497647\n",
       "  0.082905434\n",
       "  0.082905434\n",
       "          NaN\n",
       "  0.001497647\n",
       "  0.082905434\n",
       "  0.082905434\n",
       "          NaN\n",
       "  0.001497647\n",
       "\n",
       "F1 was used to select the optimal model using the largest value.\n",
       "The final values used for the model were laplace = 0, usekernel = FALSE\n",
       " and adjust = FALSE."
      ]
     },
     "metadata": {},
     "output_type": "display_data"
    }
   ],
   "source": [
    "# library(MLmetrics)\n",
    "# f1 <- function(data, lev = NULL, model = NULL) {\n",
    "#   f1_val <- F1_Score(y_pred = data$pred, y_true = data$obs, positive = lev[1])\n",
    "#   p <- Precision(y_pred = data$pred, y_true = data$obs, positive = lev[1])\n",
    "#   r <- Recall(y_pred = data$pred, y_true = data$obs, positive = lev[1])\n",
    "#   fp <-sum(data$pred==0 & data$obs==1)/length(data$pred)  \n",
    " \n",
    "#   fn <-sum(data$pred==1 & data$obs==0)/length(data$pred)\n",
    "#     c(F1 = f1_val,\n",
    "#     prec = p,\n",
    "#     rec = r,\n",
    "#     Type_I_err=fp,\n",
    "#     Type_II_err=fn\n",
    "#    )\n",
    "# }\n",
    "library(naivebayes)\n",
    "library(e1071)\n",
    "nb_grid<-expand.grid(laplace=c(0,0.1,0.3,0.5,1), usekernel=c(T,F), adjust=c(T,F))\n",
    "train_control<-trainControl(method=\"cv\", number=3, savePredictions = 'final',summaryFunction = f1)\n",
    "model_nb<-caret::train(as.factor(isSpam) ~ .,data=emailDFnum, trControl = train_control, method='naive_bayes',tuneGrid = nb_grid)\n",
    "model_nb"
   ]
  },
  {
   "cell_type": "code",
   "execution_count": 147,
   "metadata": {},
   "outputs": [
    {
     "data": {
      "text/plain": [
       "\n",
       "Fold1 Fold2 Fold3 \n",
       " 3116  3116  3116 "
      ]
     },
     "metadata": {},
     "output_type": "display_data"
    }
   ],
   "source": [
    "#Did the boss fool us with the folds?  Nope.\n",
    "table(model_nb$pred['Resample'])"
   ]
  },
  {
   "cell_type": "code",
   "execution_count": null,
   "metadata": {},
   "outputs": [],
   "source": []
  }
 ],
 "metadata": {
  "kernelspec": {
   "display_name": "R",
   "language": "R",
   "name": "ir"
  },
  "language_info": {
   "codemirror_mode": "r",
   "file_extension": ".r",
   "mimetype": "text/x-r-source",
   "name": "R",
   "pygments_lexer": "r",
   "version": "3.6.2"
  }
 },
 "nbformat": 4,
 "nbformat_minor": 1
}
