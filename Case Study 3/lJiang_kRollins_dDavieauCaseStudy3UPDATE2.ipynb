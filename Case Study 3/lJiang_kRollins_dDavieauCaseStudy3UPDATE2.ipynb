{
 "cells": [
  {
   "cell_type": "markdown",
   "metadata": {},
   "source": [
    "### Q.19 \n",
    "Consider the other parameters that can be used to control the recursive partitioning\n",
    "process. Read the documentation for them in the rpart.control() documentation. Also,\n",
    "carry out an Internet search for more information on how to tweak the rpart() tuning\n",
    "parameters. Experiment with values for these parameters. Do the trees that result make\n",
    "sense with your understanding of how the parameters are used? Can you improve the\n",
    "prediction using them?"
   ]
  },
  {
   "cell_type": "markdown",
   "metadata": {},
   "source": [
    "__Dan: Need to install packages__\n",
    "\n",
    "install.packages(\"tm\")  \n",
    "install.packages(\"rpart\")  \n",
    "install.packages(\"rpart.plot\")  \n",
    "install.packages(\"caret\")  \n",
    "install.packages(\"MLmetrics\")  \n",
    "install.packages(\"naivebayes\")  \n",
    "install.packages(\"e1071\")"
   ]
  },
  {
   "cell_type": "markdown",
   "metadata": {},
   "source": [
    "__Dan: Edit this to your local file system:__"
   ]
  },
  {
   "cell_type": "code",
   "execution_count": 1,
   "metadata": {
    "scrolled": true
   },
   "outputs": [
    {
     "name": "stderr",
     "output_type": "stream",
     "text": [
      "\n",
      "Attaching package: 'MLmetrics'\n",
      "\n",
      "\n",
      "The following object is masked from 'package:base':\n",
      "\n",
      "    Recall\n",
      "\n",
      "\n",
      "Loading required package: lattice\n",
      "\n",
      "Loading required package: ggplot2\n",
      "\n",
      "\n",
      "Attaching package: 'caret'\n",
      "\n",
      "\n",
      "The following objects are masked from 'package:MLmetrics':\n",
      "\n",
      "    MAE, RMSE\n",
      "\n",
      "\n"
     ]
    }
   ],
   "source": [
    "library(rpart)\n",
    "library(rpart.plot)\n",
    "library(RColorBrewer)\n",
    "library(MLmetrics)\n",
    "library(caret)\n"
   ]
  },
  {
   "cell_type": "code",
   "execution_count": 2,
   "metadata": {
    "scrolled": true
   },
   "outputs": [],
   "source": [
    "setwd('C:/Users/danie/Documents/GitHub/Quantifying-The-World/Case Study 3')"
   ]
  },
  {
   "cell_type": "code",
   "execution_count": 3,
   "metadata": {
    "scrolled": true
   },
   "outputs": [],
   "source": [
    "\n",
    "#spamPath = system.file(package = \"RSpamData\")\n",
    "#spamPath = \"/Users/nolan/RPackages/RSpamData\"spamPath = \".\"\n",
    "spamPath = \"./From 2ds\"\n",
    "#list.dirs(spamPath, full.names = FALSE)\n",
    "\n"
   ]
  },
  {
   "cell_type": "markdown",
   "metadata": {},
   "source": [
    "__Dan: Everything Else Below Should Run__"
   ]
  },
  {
   "cell_type": "code",
   "execution_count": 4,
   "metadata": {
    "scrolled": true
   },
   "outputs": [
    {
     "data": {
      "text/html": [
       "<style>\n",
       ".list-inline {list-style: none; margin:0; padding: 0}\n",
       ".list-inline>li {display: inline-block}\n",
       ".list-inline>li:not(:last-child)::after {content: \"\\00b7\"; padding: 0 .5ex}\n",
       "</style>\n",
       "<ol class=list-inline><li>'easy_ham'</li><li>'easy_ham_2'</li><li>'hard_ham'</li><li>'spam'</li><li>'spam_2'</li></ol>\n"
      ],
      "text/latex": [
       "\\begin{enumerate*}\n",
       "\\item 'easy\\_ham'\n",
       "\\item 'easy\\_ham\\_2'\n",
       "\\item 'hard\\_ham'\n",
       "\\item 'spam'\n",
       "\\item 'spam\\_2'\n",
       "\\end{enumerate*}\n"
      ],
      "text/markdown": [
       "1. 'easy_ham'\n",
       "2. 'easy_ham_2'\n",
       "3. 'hard_ham'\n",
       "4. 'spam'\n",
       "5. 'spam_2'\n",
       "\n",
       "\n"
      ],
      "text/plain": [
       "[1] \"easy_ham\"   \"easy_ham_2\" \"hard_ham\"   \"spam\"       \"spam_2\"    "
      ]
     },
     "metadata": {},
     "output_type": "display_data"
    }
   ],
   "source": [
    "list.files(path = paste(spamPath, \"messages\", \n",
    "                        sep = .Platform$file.sep))\n",
    "\n"
   ]
  },
  {
   "cell_type": "code",
   "execution_count": 5,
   "metadata": {
    "scrolled": true
   },
   "outputs": [],
   "source": [
    "f=list.files(path = paste(spamPath,'messages/spam', sep=.Platform$file.sep))"
   ]
  },
  {
   "cell_type": "code",
   "execution_count": 6,
   "metadata": {
    "scrolled": true
   },
   "outputs": [
    {
     "data": {
      "text/html": [
       "1001"
      ],
      "text/latex": [
       "1001"
      ],
      "text/markdown": [
       "1001"
      ],
      "text/plain": [
       "[1] 1001"
      ]
     },
     "metadata": {},
     "output_type": "display_data"
    }
   ],
   "source": [
    "############Gettign different counts than Nolan. His showed 1001\n",
    "length(f)"
   ]
  },
  {
   "cell_type": "code",
   "execution_count": 7,
   "metadata": {
    "scrolled": true
   },
   "outputs": [
    {
     "data": {
      "text/html": [
       "<style>\n",
       ".list-inline {list-style: none; margin:0; padding: 0}\n",
       ".list-inline>li {display: inline-block}\n",
       ".list-inline>li:not(:last-child)::after {content: \"\\00b7\"; padding: 0 .5ex}\n",
       "</style>\n",
       "<ol class=list-inline><li>'00001.317e78fa8ee2f54cd4890fdc09ba8176'</li><li>'00002.9438920e9a55591b18e60d1ed37d992b'</li><li>'00003.590eff932f8704d8b0fcbe69d023b54d'</li><li>'00004.bdcc075fa4beb5157b5dd6cd41d8887b'</li><li>'00005.ed0aba4d386c5e62bc737cf3f0ed9589'</li><li>'00006.3ca1f399ccda5d897fecb8c57669a283'</li></ol>\n"
      ],
      "text/latex": [
       "\\begin{enumerate*}\n",
       "\\item '00001.317e78fa8ee2f54cd4890fdc09ba8176'\n",
       "\\item '00002.9438920e9a55591b18e60d1ed37d992b'\n",
       "\\item '00003.590eff932f8704d8b0fcbe69d023b54d'\n",
       "\\item '00004.bdcc075fa4beb5157b5dd6cd41d8887b'\n",
       "\\item '00005.ed0aba4d386c5e62bc737cf3f0ed9589'\n",
       "\\item '00006.3ca1f399ccda5d897fecb8c57669a283'\n",
       "\\end{enumerate*}\n"
      ],
      "text/markdown": [
       "1. '00001.317e78fa8ee2f54cd4890fdc09ba8176'\n",
       "2. '00002.9438920e9a55591b18e60d1ed37d992b'\n",
       "3. '00003.590eff932f8704d8b0fcbe69d023b54d'\n",
       "4. '00004.bdcc075fa4beb5157b5dd6cd41d8887b'\n",
       "5. '00005.ed0aba4d386c5e62bc737cf3f0ed9589'\n",
       "6. '00006.3ca1f399ccda5d897fecb8c57669a283'\n",
       "\n",
       "\n"
      ],
      "text/plain": [
       "[1] \"00001.317e78fa8ee2f54cd4890fdc09ba8176\"\n",
       "[2] \"00002.9438920e9a55591b18e60d1ed37d992b\"\n",
       "[3] \"00003.590eff932f8704d8b0fcbe69d023b54d\"\n",
       "[4] \"00004.bdcc075fa4beb5157b5dd6cd41d8887b\"\n",
       "[5] \"00005.ed0aba4d386c5e62bc737cf3f0ed9589\"\n",
       "[6] \"00006.3ca1f399ccda5d897fecb8c57669a283\""
      ]
     },
     "metadata": {},
     "output_type": "display_data"
    },
    {
     "data": {
      "text/html": [
       "9353"
      ],
      "text/latex": [
       "9353"
      ],
      "text/markdown": [
       "9353"
      ],
      "text/plain": [
       "[1] 9353"
      ]
     },
     "metadata": {},
     "output_type": "display_data"
    },
    {
     "data": {
      "text/html": [
       "<style>\n",
       ".dl-inline {width: auto; margin:0; padding: 0}\n",
       ".dl-inline>dt, .dl-inline>dd {float: none; width: auto; display: inline-block}\n",
       ".dl-inline>dt::after {content: \":\\0020\"; padding-right: .5ex}\n",
       ".dl-inline>dt:not(:first-of-type) {padding-left: .5ex}\n",
       "</style><dl class=dl-inline><dt>./From 2ds/messages/easy_ham</dt><dd>5052</dd><dt>./From 2ds/messages/easy_ham_2</dt><dd>1401</dd><dt>./From 2ds/messages/hard_ham</dt><dd>501</dd><dt>./From 2ds/messages/spam</dt><dd>1001</dd><dt>./From 2ds/messages/spam_2</dt><dd>1398</dd></dl>\n"
      ],
      "text/latex": [
       "\\begin{description*}\n",
       "\\item[./From 2ds/messages/easy\\textbackslash{}\\_ham] 5052\n",
       "\\item[./From 2ds/messages/easy\\textbackslash{}\\_ham\\textbackslash{}\\_2] 1401\n",
       "\\item[./From 2ds/messages/hard\\textbackslash{}\\_ham] 501\n",
       "\\item[./From 2ds/messages/spam] 1001\n",
       "\\item[./From 2ds/messages/spam\\textbackslash{}\\_2] 1398\n",
       "\\end{description*}\n"
      ],
      "text/markdown": [
       "./From 2ds/messages/easy_ham\n",
       ":   5052./From 2ds/messages/easy_ham_2\n",
       ":   1401./From 2ds/messages/hard_ham\n",
       ":   501./From 2ds/messages/spam\n",
       ":   1001./From 2ds/messages/spam_2\n",
       ":   1398\n",
       "\n"
      ],
      "text/plain": [
       "  ./From 2ds/messages/easy_ham ./From 2ds/messages/easy_ham_2 \n",
       "                          5052                           1401 \n",
       "  ./From 2ds/messages/hard_ham       ./From 2ds/messages/spam \n",
       "                           501                           1001 \n",
       "    ./From 2ds/messages/spam_2 \n",
       "                          1398 "
      ]
     },
     "metadata": {},
     "output_type": "display_data"
    }
   ],
   "source": [
    "############Gettign different counts than Nolan.\n",
    "head(list.files(path = paste(spamPath, \"messages\", \"spam_2\",\n",
    "                             sep = .Platform$file.sep)))\n",
    "\n",
    "dirNames = list.files(path = paste(spamPath, \"messages\", \n",
    "                      sep = .Platform$file.sep))\n",
    "length(list.files(paste(spamPath, \"messages\", dirNames, \n",
    "                        sep = .Platform$file.sep)))\n",
    "\n",
    "sapply(paste(spamPath, \"messages\", dirNames, \n",
    "             sep = .Platform$file.sep), \n",
    "       function(dir) length(list.files(dir)) )\n",
    "\n",
    "fullDirNames = paste(spamPath, \"messages\", dirNames, \n",
    "                     sep = .Platform$file.sep)"
   ]
  },
  {
   "cell_type": "code",
   "execution_count": 8,
   "metadata": {
    "scrolled": true
   },
   "outputs": [
    {
     "data": {
      "text/html": [
       "'./From 2ds/messages/easy_ham/00001.7c53336b37003a9286aba55d2945844c'"
      ],
      "text/latex": [
       "'./From 2ds/messages/easy\\_ham/00001.7c53336b37003a9286aba55d2945844c'"
      ],
      "text/markdown": [
       "'./From 2ds/messages/easy_ham/00001.7c53336b37003a9286aba55d2945844c'"
      ],
      "text/plain": [
       "[1] \"./From 2ds/messages/easy_ham/00001.7c53336b37003a9286aba55d2945844c\""
      ]
     },
     "metadata": {},
     "output_type": "display_data"
    },
    {
     "data": {
      "text/html": [
       "<style>\n",
       ".list-inline {list-style: none; margin:0; padding: 0}\n",
       ".list-inline>li {display: inline-block}\n",
       ".list-inline>li:not(:last-child)::after {content: \"\\00b7\"; padding: 0 .5ex}\n",
       "</style>\n",
       "<ol class=list-inline><li><span style=white-space:pre-wrap>'From exmh-workers-admin@redhat.com  Thu Aug 22 12:36:23 2002'</span></li><li>'Return-Path: &lt;exmh-workers-admin@spamassassin.taint.org&gt;'</li><li>'Delivered-To: zzzz@localhost.netnoteinc.com'</li><li>'Received: from localhost (localhost [127.0.0.1])'</li><li>'\\tby phobos.labs.netnoteinc.com (Postfix) with ESMTP id D03E543C36'</li><li>'\\tfor &lt;zzzz@localhost&gt;; Thu, 22 Aug 2002 07:36:16 -0400 (EDT)'</li></ol>\n"
      ],
      "text/latex": [
       "\\begin{enumerate*}\n",
       "\\item 'From exmh-workers-admin@redhat.com  Thu Aug 22 12:36:23 2002'\n",
       "\\item 'Return-Path: <exmh-workers-admin@spamassassin.taint.org>'\n",
       "\\item 'Delivered-To: zzzz@localhost.netnoteinc.com'\n",
       "\\item 'Received: from localhost (localhost {[}127.0.0.1{]})'\n",
       "\\item '\\textbackslash{}tby phobos.labs.netnoteinc.com (Postfix) with ESMTP id D03E543C36'\n",
       "\\item '\\textbackslash{}tfor <zzzz@localhost>; Thu, 22 Aug 2002 07:36:16 -0400 (EDT)'\n",
       "\\end{enumerate*}\n"
      ],
      "text/markdown": [
       "1. <span style=white-space:pre-wrap>'From exmh-workers-admin@redhat.com  Thu Aug 22 12:36:23 2002'</span>\n",
       "2. 'Return-Path: &lt;exmh-workers-admin@spamassassin.taint.org&gt;'\n",
       "3. 'Delivered-To: zzzz@localhost.netnoteinc.com'\n",
       "4. 'Received: from localhost (localhost [127.0.0.1])'\n",
       "5. '\\tby phobos.labs.netnoteinc.com (Postfix) with ESMTP id D03E543C36'\n",
       "6. '\\tfor &lt;zzzz@localhost&gt;; Thu, 22 Aug 2002 07:36:16 -0400 (EDT)'\n",
       "\n",
       "\n"
      ],
      "text/plain": [
       "[1] \"From exmh-workers-admin@redhat.com  Thu Aug 22 12:36:23 2002\"     \n",
       "[2] \"Return-Path: <exmh-workers-admin@spamassassin.taint.org>\"         \n",
       "[3] \"Delivered-To: zzzz@localhost.netnoteinc.com\"                      \n",
       "[4] \"Received: from localhost (localhost [127.0.0.1])\"                 \n",
       "[5] \"\\tby phobos.labs.netnoteinc.com (Postfix) with ESMTP id D03E543C36\"\n",
       "[6] \"\\tfor <zzzz@localhost>; Thu, 22 Aug 2002 07:36:16 -0400 (EDT)\"     "
      ]
     },
     "metadata": {},
     "output_type": "display_data"
    },
    {
     "data": {
      "text/html": [
       "63"
      ],
      "text/latex": [
       "63"
      ],
      "text/markdown": [
       "63"
      ],
      "text/plain": [
       "[1] 63"
      ]
     },
     "metadata": {},
     "output_type": "display_data"
    },
    {
     "data": {
      "text/html": [
       "63"
      ],
      "text/latex": [
       "63"
      ],
      "text/markdown": [
       "63"
      ],
      "text/plain": [
       "[1] 63"
      ]
     },
     "metadata": {},
     "output_type": "display_data"
    },
    {
     "data": {
      "text/html": [
       "<style>\n",
       ".list-inline {list-style: none; margin:0; padding: 0}\n",
       ".list-inline>li {display: inline-block}\n",
       ".list-inline>li:not(:last-child)::after {content: \"\\00b7\"; padding: 0 .5ex}\n",
       "</style>\n",
       "<ol class=list-inline><li>'List-Archive: &lt;https://listman.spamassassin.taint.org/mailman/private/exmh-workers/&gt;'</li><li>'Date: Thu, 22 Aug 2002 18:26:25 +0700'</li><li>''</li><li><span style=white-space:pre-wrap>'    Date:        Wed, 21 Aug 2002 10:54:46 -0500'</span></li><li><span style=white-space:pre-wrap>'    From:        Chris Garrigues &lt;cwg-dated-1030377287.06fa6d@DeepEddy.Com&gt;'</span></li><li><span style=white-space:pre-wrap>'    Message-ID:  &lt;1029945287.4797.TMDA@deepeddy.vircio.com&gt;'</span></li><li>''</li><li>''</li><li><span style=white-space:pre-wrap>'  | I can\\'t reproduce this error.'</span></li></ol>\n"
      ],
      "text/latex": [
       "\\begin{enumerate*}\n",
       "\\item 'List-Archive: <https://listman.spamassassin.taint.org/mailman/private/exmh-workers/>'\n",
       "\\item 'Date: Thu, 22 Aug 2002 18:26:25 +0700'\n",
       "\\item ''\n",
       "\\item '    Date:        Wed, 21 Aug 2002 10:54:46 -0500'\n",
       "\\item '    From:        Chris Garrigues <cwg-dated-1030377287.06fa6d@DeepEddy.Com>'\n",
       "\\item '    Message-ID:  <1029945287.4797.TMDA@deepeddy.vircio.com>'\n",
       "\\item ''\n",
       "\\item ''\n",
       "\\item '  \\textbar{} I can\\textbackslash{}'t reproduce this error.'\n",
       "\\end{enumerate*}\n"
      ],
      "text/markdown": [
       "1. 'List-Archive: &lt;https://listman.spamassassin.taint.org/mailman/private/exmh-workers/&gt;'\n",
       "2. 'Date: Thu, 22 Aug 2002 18:26:25 +0700'\n",
       "3. ''\n",
       "4. <span style=white-space:pre-wrap>'    Date:        Wed, 21 Aug 2002 10:54:46 -0500'</span>\n",
       "5. <span style=white-space:pre-wrap>'    From:        Chris Garrigues &lt;cwg-dated-1030377287.06fa6d@DeepEddy.Com&gt;'</span>\n",
       "6. <span style=white-space:pre-wrap>'    Message-ID:  &lt;1029945287.4797.TMDA@deepeddy.vircio.com&gt;'</span>\n",
       "7. ''\n",
       "8. ''\n",
       "9. <span style=white-space:pre-wrap>'  | I can\\'t reproduce this error.'</span>\n",
       "\n",
       "\n"
      ],
      "text/plain": [
       "[1] \"List-Archive: <https://listman.spamassassin.taint.org/mailman/private/exmh-workers/>\"\n",
       "[2] \"Date: Thu, 22 Aug 2002 18:26:25 +0700\"                                               \n",
       "[3] \"\"                                                                                    \n",
       "[4] \"    Date:        Wed, 21 Aug 2002 10:54:46 -0500\"                                    \n",
       "[5] \"    From:        Chris Garrigues <cwg-dated-1030377287.06fa6d@DeepEddy.Com>\"         \n",
       "[6] \"    Message-ID:  <1029945287.4797.TMDA@deepeddy.vircio.com>\"                         \n",
       "[7] \"\"                                                                                    \n",
       "[8] \"\"                                                                                    \n",
       "[9] \"  | I can't reproduce this error.\"                                                   "
      ]
     },
     "metadata": {},
     "output_type": "display_data"
    }
   ],
   "source": [
    "fileNames = list.files(fullDirNames[1], full.names = TRUE)\n",
    "fileNames[1]\n",
    "\n",
    "msg = readLines(fileNames[1])\n",
    "head(msg)\n",
    "\n",
    "indx = c(1:5, 15, 27, 68, 69, 329, 404, 427, 516, 852, 971)\n",
    "fn = list.files(fullDirNames[1], full.names = TRUE)[indx]\n",
    "sampleEmail = sapply(fn, readLines)        \n",
    "\n",
    "msg = sampleEmail[[1]]\n",
    "which(msg == \"\")[1]\n",
    "\n",
    "match(\"\", msg)\n",
    "\n",
    "splitPoint = match(\"\", msg)\n",
    "\n",
    "msg[ (splitPoint - 2):(splitPoint + 6) ]\n",
    "\n",
    "header = msg[1:(splitPoint-1)]\n",
    "body = msg[ -(1:splitPoint) ]\n",
    "\n",
    "splitMessage = function(msg) {\n",
    "  splitPoint = match(\"\", msg)\n",
    "  header = msg[1:(splitPoint-1)]\n",
    "  body = msg[ -(1:splitPoint) ]\n",
    "  return(list(header = header, body = body))\n",
    "}\n",
    "\n",
    "sampleSplit = lapply(sampleEmail, splitMessage)"
   ]
  },
  {
   "cell_type": "code",
   "execution_count": 9,
   "metadata": {
    "scrolled": true
   },
   "outputs": [
    {
     "data": {
      "text/html": [
       "46"
      ],
      "text/latex": [
       "46"
      ],
      "text/markdown": [
       "46"
      ],
      "text/plain": [
       "[1] 46"
      ]
     },
     "metadata": {},
     "output_type": "display_data"
    },
    {
     "data": {
      "text/html": [],
      "text/latex": [],
      "text/markdown": [],
      "text/plain": [
       "integer(0)"
      ]
     },
     "metadata": {},
     "output_type": "display_data"
    },
    {
     "data": {
      "text/html": [
       "'Content-Type: text/plain; charset=us-ascii'"
      ],
      "text/latex": [
       "'Content-Type: text/plain; charset=us-ascii'"
      ],
      "text/markdown": [
       "'Content-Type: text/plain; charset=us-ascii'"
      ],
      "text/plain": [
       "[1] \"Content-Type: text/plain; charset=us-ascii\""
      ]
     },
     "metadata": {},
     "output_type": "display_data"
    },
    {
     "data": {
      "text/html": [
       "<dl>\n",
       "\t<dt>$`./From 2ds/messages/easy_ham/00001.7c53336b37003a9286aba55d2945844c`</dt>\n",
       "\t\t<dd>46</dd>\n",
       "\t<dt>$`./From 2ds/messages/easy_ham/00002.9c4069e25e1ef370c078db7ee85ff9ac`</dt>\n",
       "\t\t<dd>45</dd>\n",
       "\t<dt>$`./From 2ds/messages/easy_ham/00003.860e3c3cee1b42ead714c5c874fe25f7`</dt>\n",
       "\t\t<dd>42</dd>\n",
       "\t<dt>$`./From 2ds/messages/easy_ham/00004.864220c5b6930b209cc287c361c99af1`</dt>\n",
       "\t\t<dd>30</dd>\n",
       "\t<dt>$`./From 2ds/messages/easy_ham/00005.bf27cdeaf0b8c4647ecd61b1d09da613`</dt>\n",
       "\t\t<dd>44</dd>\n",
       "\t<dt>$`./From 2ds/messages/easy_ham/00014.cb20e10b2bfcb8210a1c310798532a57`</dt>\n",
       "\t\t<dd>54</dd>\n",
       "\t<dt>$`./From 2ds/messages/easy_ham/00025.d685245bdc4444f44fa091e6620b20b3`</dt>\n",
       "\t\t<dd></dd>\n",
       "\t<dt>$`./From 2ds/messages/easy_ham/00062.009f5a1a8fa88f0b38299ad01562bb37`</dt>\n",
       "\t\t<dd>21</dd>\n",
       "\t<dt>$`./From 2ds/messages/easy_ham/00063.0acbc484a73f0e0b727e06c100d8df7b`</dt>\n",
       "\t\t<dd>17</dd>\n",
       "\t<dt>$`./From 2ds/messages/easy_ham/0030.77828e31de08ebb58b583688b87524cc`</dt>\n",
       "\t\t<dd>52</dd>\n",
       "\t<dt>$`./From 2ds/messages/easy_ham/00368.f86324a03e7ae7070cc40f302385f5d3`</dt>\n",
       "\t\t<dd>31</dd>\n",
       "\t<dt>$`./From 2ds/messages/easy_ham/00389.8606961eaeef7b921ce1c53773248d69`</dt>\n",
       "\t\t<dd>52</dd>\n",
       "\t<dt>$`./From 2ds/messages/easy_ham/0047.5c3e049737a2813d4ac6f13f02362fb1`</dt>\n",
       "\t\t<dd>52</dd>\n",
       "\t<dt>$`./From 2ds/messages/easy_ham/00775.0e012f373467846510d9db297e99a008`</dt>\n",
       "\t\t<dd>27</dd>\n",
       "\t<dt>$`./From 2ds/messages/easy_ham/00883.c44a035e7589e83076b7f1fed8fa97d5`</dt>\n",
       "\t\t<dd>31</dd>\n",
       "</dl>\n"
      ],
      "text/latex": [
       "\\begin{description}\n",
       "\\item[\\$`./From 2ds/messages/easy\\_ham/00001.7c53336b37003a9286aba55d2945844c`] 46\n",
       "\\item[\\$`./From 2ds/messages/easy\\_ham/00002.9c4069e25e1ef370c078db7ee85ff9ac`] 45\n",
       "\\item[\\$`./From 2ds/messages/easy\\_ham/00003.860e3c3cee1b42ead714c5c874fe25f7`] 42\n",
       "\\item[\\$`./From 2ds/messages/easy\\_ham/00004.864220c5b6930b209cc287c361c99af1`] 30\n",
       "\\item[\\$`./From 2ds/messages/easy\\_ham/00005.bf27cdeaf0b8c4647ecd61b1d09da613`] 44\n",
       "\\item[\\$`./From 2ds/messages/easy\\_ham/00014.cb20e10b2bfcb8210a1c310798532a57`] 54\n",
       "\\item[\\$`./From 2ds/messages/easy\\_ham/00025.d685245bdc4444f44fa091e6620b20b3`] \n",
       "\\item[\\$`./From 2ds/messages/easy\\_ham/00062.009f5a1a8fa88f0b38299ad01562bb37`] 21\n",
       "\\item[\\$`./From 2ds/messages/easy\\_ham/00063.0acbc484a73f0e0b727e06c100d8df7b`] 17\n",
       "\\item[\\$`./From 2ds/messages/easy\\_ham/0030.77828e31de08ebb58b583688b87524cc`] 52\n",
       "\\item[\\$`./From 2ds/messages/easy\\_ham/00368.f86324a03e7ae7070cc40f302385f5d3`] 31\n",
       "\\item[\\$`./From 2ds/messages/easy\\_ham/00389.8606961eaeef7b921ce1c53773248d69`] 52\n",
       "\\item[\\$`./From 2ds/messages/easy\\_ham/0047.5c3e049737a2813d4ac6f13f02362fb1`] 52\n",
       "\\item[\\$`./From 2ds/messages/easy\\_ham/00775.0e012f373467846510d9db297e99a008`] 27\n",
       "\\item[\\$`./From 2ds/messages/easy\\_ham/00883.c44a035e7589e83076b7f1fed8fa97d5`] 31\n",
       "\\end{description}\n"
      ],
      "text/markdown": [
       "$`./From 2ds/messages/easy_ham/00001.7c53336b37003a9286aba55d2945844c`\n",
       ":   46\n",
       "$`./From 2ds/messages/easy_ham/00002.9c4069e25e1ef370c078db7ee85ff9ac`\n",
       ":   45\n",
       "$`./From 2ds/messages/easy_ham/00003.860e3c3cee1b42ead714c5c874fe25f7`\n",
       ":   42\n",
       "$`./From 2ds/messages/easy_ham/00004.864220c5b6930b209cc287c361c99af1`\n",
       ":   30\n",
       "$`./From 2ds/messages/easy_ham/00005.bf27cdeaf0b8c4647ecd61b1d09da613`\n",
       ":   44\n",
       "$`./From 2ds/messages/easy_ham/00014.cb20e10b2bfcb8210a1c310798532a57`\n",
       ":   54\n",
       "$`./From 2ds/messages/easy_ham/00025.d685245bdc4444f44fa091e6620b20b3`\n",
       ":   \n",
       "$`./From 2ds/messages/easy_ham/00062.009f5a1a8fa88f0b38299ad01562bb37`\n",
       ":   21\n",
       "$`./From 2ds/messages/easy_ham/00063.0acbc484a73f0e0b727e06c100d8df7b`\n",
       ":   17\n",
       "$`./From 2ds/messages/easy_ham/0030.77828e31de08ebb58b583688b87524cc`\n",
       ":   52\n",
       "$`./From 2ds/messages/easy_ham/00368.f86324a03e7ae7070cc40f302385f5d3`\n",
       ":   31\n",
       "$`./From 2ds/messages/easy_ham/00389.8606961eaeef7b921ce1c53773248d69`\n",
       ":   52\n",
       "$`./From 2ds/messages/easy_ham/0047.5c3e049737a2813d4ac6f13f02362fb1`\n",
       ":   52\n",
       "$`./From 2ds/messages/easy_ham/00775.0e012f373467846510d9db297e99a008`\n",
       ":   27\n",
       "$`./From 2ds/messages/easy_ham/00883.c44a035e7589e83076b7f1fed8fa97d5`\n",
       ":   31\n",
       "\n",
       "\n"
      ],
      "text/plain": [
       "$`./From 2ds/messages/easy_ham/00001.7c53336b37003a9286aba55d2945844c`\n",
       "[1] 46\n",
       "\n",
       "$`./From 2ds/messages/easy_ham/00002.9c4069e25e1ef370c078db7ee85ff9ac`\n",
       "[1] 45\n",
       "\n",
       "$`./From 2ds/messages/easy_ham/00003.860e3c3cee1b42ead714c5c874fe25f7`\n",
       "[1] 42\n",
       "\n",
       "$`./From 2ds/messages/easy_ham/00004.864220c5b6930b209cc287c361c99af1`\n",
       "[1] 30\n",
       "\n",
       "$`./From 2ds/messages/easy_ham/00005.bf27cdeaf0b8c4647ecd61b1d09da613`\n",
       "[1] 44\n",
       "\n",
       "$`./From 2ds/messages/easy_ham/00014.cb20e10b2bfcb8210a1c310798532a57`\n",
       "[1] 54\n",
       "\n",
       "$`./From 2ds/messages/easy_ham/00025.d685245bdc4444f44fa091e6620b20b3`\n",
       "integer(0)\n",
       "\n",
       "$`./From 2ds/messages/easy_ham/00062.009f5a1a8fa88f0b38299ad01562bb37`\n",
       "[1] 21\n",
       "\n",
       "$`./From 2ds/messages/easy_ham/00063.0acbc484a73f0e0b727e06c100d8df7b`\n",
       "[1] 17\n",
       "\n",
       "$`./From 2ds/messages/easy_ham/0030.77828e31de08ebb58b583688b87524cc`\n",
       "[1] 52\n",
       "\n",
       "$`./From 2ds/messages/easy_ham/00368.f86324a03e7ae7070cc40f302385f5d3`\n",
       "[1] 31\n",
       "\n",
       "$`./From 2ds/messages/easy_ham/00389.8606961eaeef7b921ce1c53773248d69`\n",
       "[1] 52\n",
       "\n",
       "$`./From 2ds/messages/easy_ham/0047.5c3e049737a2813d4ac6f13f02362fb1`\n",
       "[1] 52\n",
       "\n",
       "$`./From 2ds/messages/easy_ham/00775.0e012f373467846510d9db297e99a008`\n",
       "[1] 27\n",
       "\n",
       "$`./From 2ds/messages/easy_ham/00883.c44a035e7589e83076b7f1fed8fa97d5`\n",
       "[1] 31\n"
      ]
     },
     "metadata": {},
     "output_type": "display_data"
    },
    {
     "data": {
      "text/html": [
       "<style>\n",
       ".dl-inline {width: auto; margin:0; padding: 0}\n",
       ".dl-inline>dt, .dl-inline>dd {float: none; width: auto; display: inline-block}\n",
       ".dl-inline>dt::after {content: \":\\0020\"; padding-right: .5ex}\n",
       ".dl-inline>dt:not(:first-of-type) {padding-left: .5ex}\n",
       "</style><dl class=dl-inline><dt>./From 2ds/messages/easy_ham/00001.7c53336b37003a9286aba55d2945844c</dt><dd>46</dd><dt>./From 2ds/messages/easy_ham/00002.9c4069e25e1ef370c078db7ee85ff9ac</dt><dd>45</dd><dt>./From 2ds/messages/easy_ham/00003.860e3c3cee1b42ead714c5c874fe25f7</dt><dd>42</dd><dt>./From 2ds/messages/easy_ham/00004.864220c5b6930b209cc287c361c99af1</dt><dd>30</dd><dt>./From 2ds/messages/easy_ham/00005.bf27cdeaf0b8c4647ecd61b1d09da613</dt><dd>44</dd><dt>./From 2ds/messages/easy_ham/00014.cb20e10b2bfcb8210a1c310798532a57</dt><dd>54</dd><dt>./From 2ds/messages/easy_ham/00025.d685245bdc4444f44fa091e6620b20b3</dt><dd>&lt;NA&gt;</dd><dt>./From 2ds/messages/easy_ham/00062.009f5a1a8fa88f0b38299ad01562bb37</dt><dd>21</dd><dt>./From 2ds/messages/easy_ham/00063.0acbc484a73f0e0b727e06c100d8df7b</dt><dd>17</dd><dt>./From 2ds/messages/easy_ham/0030.77828e31de08ebb58b583688b87524cc</dt><dd>52</dd><dt>./From 2ds/messages/easy_ham/00368.f86324a03e7ae7070cc40f302385f5d3</dt><dd>31</dd><dt>./From 2ds/messages/easy_ham/00389.8606961eaeef7b921ce1c53773248d69</dt><dd>52</dd><dt>./From 2ds/messages/easy_ham/0047.5c3e049737a2813d4ac6f13f02362fb1</dt><dd>52</dd><dt>./From 2ds/messages/easy_ham/00775.0e012f373467846510d9db297e99a008</dt><dd>27</dd><dt>./From 2ds/messages/easy_ham/00883.c44a035e7589e83076b7f1fed8fa97d5</dt><dd>31</dd></dl>\n"
      ],
      "text/latex": [
       "\\begin{description*}\n",
       "\\item[./From 2ds/messages/easy\\textbackslash{}\\_ham/00001.7c53336b37003a9286aba55d2945844c] 46\n",
       "\\item[./From 2ds/messages/easy\\textbackslash{}\\_ham/00002.9c4069e25e1ef370c078db7ee85ff9ac] 45\n",
       "\\item[./From 2ds/messages/easy\\textbackslash{}\\_ham/00003.860e3c3cee1b42ead714c5c874fe25f7] 42\n",
       "\\item[./From 2ds/messages/easy\\textbackslash{}\\_ham/00004.864220c5b6930b209cc287c361c99af1] 30\n",
       "\\item[./From 2ds/messages/easy\\textbackslash{}\\_ham/00005.bf27cdeaf0b8c4647ecd61b1d09da613] 44\n",
       "\\item[./From 2ds/messages/easy\\textbackslash{}\\_ham/00014.cb20e10b2bfcb8210a1c310798532a57] 54\n",
       "\\item[./From 2ds/messages/easy\\textbackslash{}\\_ham/00025.d685245bdc4444f44fa091e6620b20b3] <NA>\n",
       "\\item[./From 2ds/messages/easy\\textbackslash{}\\_ham/00062.009f5a1a8fa88f0b38299ad01562bb37] 21\n",
       "\\item[./From 2ds/messages/easy\\textbackslash{}\\_ham/00063.0acbc484a73f0e0b727e06c100d8df7b] 17\n",
       "\\item[./From 2ds/messages/easy\\textbackslash{}\\_ham/0030.77828e31de08ebb58b583688b87524cc] 52\n",
       "\\item[./From 2ds/messages/easy\\textbackslash{}\\_ham/00368.f86324a03e7ae7070cc40f302385f5d3] 31\n",
       "\\item[./From 2ds/messages/easy\\textbackslash{}\\_ham/00389.8606961eaeef7b921ce1c53773248d69] 52\n",
       "\\item[./From 2ds/messages/easy\\textbackslash{}\\_ham/0047.5c3e049737a2813d4ac6f13f02362fb1] 52\n",
       "\\item[./From 2ds/messages/easy\\textbackslash{}\\_ham/00775.0e012f373467846510d9db297e99a008] 27\n",
       "\\item[./From 2ds/messages/easy\\textbackslash{}\\_ham/00883.c44a035e7589e83076b7f1fed8fa97d5] 31\n",
       "\\end{description*}\n"
      ],
      "text/markdown": [
       "./From 2ds/messages/easy_ham/00001.7c53336b37003a9286aba55d2945844c\n",
       ":   46./From 2ds/messages/easy_ham/00002.9c4069e25e1ef370c078db7ee85ff9ac\n",
       ":   45./From 2ds/messages/easy_ham/00003.860e3c3cee1b42ead714c5c874fe25f7\n",
       ":   42./From 2ds/messages/easy_ham/00004.864220c5b6930b209cc287c361c99af1\n",
       ":   30./From 2ds/messages/easy_ham/00005.bf27cdeaf0b8c4647ecd61b1d09da613\n",
       ":   44./From 2ds/messages/easy_ham/00014.cb20e10b2bfcb8210a1c310798532a57\n",
       ":   54./From 2ds/messages/easy_ham/00025.d685245bdc4444f44fa091e6620b20b3\n",
       ":   &lt;NA&gt;./From 2ds/messages/easy_ham/00062.009f5a1a8fa88f0b38299ad01562bb37\n",
       ":   21./From 2ds/messages/easy_ham/00063.0acbc484a73f0e0b727e06c100d8df7b\n",
       ":   17./From 2ds/messages/easy_ham/0030.77828e31de08ebb58b583688b87524cc\n",
       ":   52./From 2ds/messages/easy_ham/00368.f86324a03e7ae7070cc40f302385f5d3\n",
       ":   31./From 2ds/messages/easy_ham/00389.8606961eaeef7b921ce1c53773248d69\n",
       ":   52./From 2ds/messages/easy_ham/0047.5c3e049737a2813d4ac6f13f02362fb1\n",
       ":   52./From 2ds/messages/easy_ham/00775.0e012f373467846510d9db297e99a008\n",
       ":   27./From 2ds/messages/easy_ham/00883.c44a035e7589e83076b7f1fed8fa97d5\n",
       ":   31\n",
       "\n"
      ],
      "text/plain": [
       "./From 2ds/messages/easy_ham/00001.7c53336b37003a9286aba55d2945844c \n",
       "                                                                 46 \n",
       "./From 2ds/messages/easy_ham/00002.9c4069e25e1ef370c078db7ee85ff9ac \n",
       "                                                                 45 \n",
       "./From 2ds/messages/easy_ham/00003.860e3c3cee1b42ead714c5c874fe25f7 \n",
       "                                                                 42 \n",
       "./From 2ds/messages/easy_ham/00004.864220c5b6930b209cc287c361c99af1 \n",
       "                                                                 30 \n",
       "./From 2ds/messages/easy_ham/00005.bf27cdeaf0b8c4647ecd61b1d09da613 \n",
       "                                                                 44 \n",
       "./From 2ds/messages/easy_ham/00014.cb20e10b2bfcb8210a1c310798532a57 \n",
       "                                                                 54 \n",
       "./From 2ds/messages/easy_ham/00025.d685245bdc4444f44fa091e6620b20b3 \n",
       "                                                                 NA \n",
       "./From 2ds/messages/easy_ham/00062.009f5a1a8fa88f0b38299ad01562bb37 \n",
       "                                                                 21 \n",
       "./From 2ds/messages/easy_ham/00063.0acbc484a73f0e0b727e06c100d8df7b \n",
       "                                                                 17 \n",
       " ./From 2ds/messages/easy_ham/0030.77828e31de08ebb58b583688b87524cc \n",
       "                                                                 52 \n",
       "./From 2ds/messages/easy_ham/00368.f86324a03e7ae7070cc40f302385f5d3 \n",
       "                                                                 31 \n",
       "./From 2ds/messages/easy_ham/00389.8606961eaeef7b921ce1c53773248d69 \n",
       "                                                                 52 \n",
       " ./From 2ds/messages/easy_ham/0047.5c3e049737a2813d4ac6f13f02362fb1 \n",
       "                                                                 52 \n",
       "./From 2ds/messages/easy_ham/00775.0e012f373467846510d9db297e99a008 \n",
       "                                                                 27 \n",
       "./From 2ds/messages/easy_ham/00883.c44a035e7589e83076b7f1fed8fa97d5 \n",
       "                                                                 31 "
      ]
     },
     "metadata": {},
     "output_type": "display_data"
    },
    {
     "data": {
      "text/html": [
       "<style>\n",
       ".dl-inline {width: auto; margin:0; padding: 0}\n",
       ".dl-inline>dt, .dl-inline>dd {float: none; width: auto; display: inline-block}\n",
       ".dl-inline>dt::after {content: \":\\0020\"; padding-right: .5ex}\n",
       ".dl-inline>dt:not(:first-of-type) {padding-left: .5ex}\n",
       "</style><dl class=dl-inline><dt>./From 2ds/messages/easy_ham/00001.7c53336b37003a9286aba55d2945844c</dt><dd>FALSE</dd><dt>./From 2ds/messages/easy_ham/00002.9c4069e25e1ef370c078db7ee85ff9ac</dt><dd>FALSE</dd><dt>./From 2ds/messages/easy_ham/00003.860e3c3cee1b42ead714c5c874fe25f7</dt><dd>FALSE</dd><dt>./From 2ds/messages/easy_ham/00004.864220c5b6930b209cc287c361c99af1</dt><dd>FALSE</dd><dt>./From 2ds/messages/easy_ham/00005.bf27cdeaf0b8c4647ecd61b1d09da613</dt><dd>FALSE</dd><dt>./From 2ds/messages/easy_ham/00014.cb20e10b2bfcb8210a1c310798532a57</dt><dd>TRUE</dd><dt>./From 2ds/messages/easy_ham/00025.d685245bdc4444f44fa091e6620b20b3</dt><dd>FALSE</dd><dt>./From 2ds/messages/easy_ham/00062.009f5a1a8fa88f0b38299ad01562bb37</dt><dd>TRUE</dd><dt>./From 2ds/messages/easy_ham/00063.0acbc484a73f0e0b727e06c100d8df7b</dt><dd>TRUE</dd><dt>./From 2ds/messages/easy_ham/0030.77828e31de08ebb58b583688b87524cc</dt><dd>TRUE</dd><dt>./From 2ds/messages/easy_ham/00368.f86324a03e7ae7070cc40f302385f5d3</dt><dd>TRUE</dd><dt>./From 2ds/messages/easy_ham/00389.8606961eaeef7b921ce1c53773248d69</dt><dd>TRUE</dd><dt>./From 2ds/messages/easy_ham/0047.5c3e049737a2813d4ac6f13f02362fb1</dt><dd>TRUE</dd><dt>./From 2ds/messages/easy_ham/00775.0e012f373467846510d9db297e99a008</dt><dd>TRUE</dd><dt>./From 2ds/messages/easy_ham/00883.c44a035e7589e83076b7f1fed8fa97d5</dt><dd>TRUE</dd></dl>\n"
      ],
      "text/latex": [
       "\\begin{description*}\n",
       "\\item[./From 2ds/messages/easy\\textbackslash{}\\_ham/00001.7c53336b37003a9286aba55d2945844c] FALSE\n",
       "\\item[./From 2ds/messages/easy\\textbackslash{}\\_ham/00002.9c4069e25e1ef370c078db7ee85ff9ac] FALSE\n",
       "\\item[./From 2ds/messages/easy\\textbackslash{}\\_ham/00003.860e3c3cee1b42ead714c5c874fe25f7] FALSE\n",
       "\\item[./From 2ds/messages/easy\\textbackslash{}\\_ham/00004.864220c5b6930b209cc287c361c99af1] FALSE\n",
       "\\item[./From 2ds/messages/easy\\textbackslash{}\\_ham/00005.bf27cdeaf0b8c4647ecd61b1d09da613] FALSE\n",
       "\\item[./From 2ds/messages/easy\\textbackslash{}\\_ham/00014.cb20e10b2bfcb8210a1c310798532a57] TRUE\n",
       "\\item[./From 2ds/messages/easy\\textbackslash{}\\_ham/00025.d685245bdc4444f44fa091e6620b20b3] FALSE\n",
       "\\item[./From 2ds/messages/easy\\textbackslash{}\\_ham/00062.009f5a1a8fa88f0b38299ad01562bb37] TRUE\n",
       "\\item[./From 2ds/messages/easy\\textbackslash{}\\_ham/00063.0acbc484a73f0e0b727e06c100d8df7b] TRUE\n",
       "\\item[./From 2ds/messages/easy\\textbackslash{}\\_ham/0030.77828e31de08ebb58b583688b87524cc] TRUE\n",
       "\\item[./From 2ds/messages/easy\\textbackslash{}\\_ham/00368.f86324a03e7ae7070cc40f302385f5d3] TRUE\n",
       "\\item[./From 2ds/messages/easy\\textbackslash{}\\_ham/00389.8606961eaeef7b921ce1c53773248d69] TRUE\n",
       "\\item[./From 2ds/messages/easy\\textbackslash{}\\_ham/0047.5c3e049737a2813d4ac6f13f02362fb1] TRUE\n",
       "\\item[./From 2ds/messages/easy\\textbackslash{}\\_ham/00775.0e012f373467846510d9db297e99a008] TRUE\n",
       "\\item[./From 2ds/messages/easy\\textbackslash{}\\_ham/00883.c44a035e7589e83076b7f1fed8fa97d5] TRUE\n",
       "\\end{description*}\n"
      ],
      "text/markdown": [
       "./From 2ds/messages/easy_ham/00001.7c53336b37003a9286aba55d2945844c\n",
       ":   FALSE./From 2ds/messages/easy_ham/00002.9c4069e25e1ef370c078db7ee85ff9ac\n",
       ":   FALSE./From 2ds/messages/easy_ham/00003.860e3c3cee1b42ead714c5c874fe25f7\n",
       ":   FALSE./From 2ds/messages/easy_ham/00004.864220c5b6930b209cc287c361c99af1\n",
       ":   FALSE./From 2ds/messages/easy_ham/00005.bf27cdeaf0b8c4647ecd61b1d09da613\n",
       ":   FALSE./From 2ds/messages/easy_ham/00014.cb20e10b2bfcb8210a1c310798532a57\n",
       ":   TRUE./From 2ds/messages/easy_ham/00025.d685245bdc4444f44fa091e6620b20b3\n",
       ":   FALSE./From 2ds/messages/easy_ham/00062.009f5a1a8fa88f0b38299ad01562bb37\n",
       ":   TRUE./From 2ds/messages/easy_ham/00063.0acbc484a73f0e0b727e06c100d8df7b\n",
       ":   TRUE./From 2ds/messages/easy_ham/0030.77828e31de08ebb58b583688b87524cc\n",
       ":   TRUE./From 2ds/messages/easy_ham/00368.f86324a03e7ae7070cc40f302385f5d3\n",
       ":   TRUE./From 2ds/messages/easy_ham/00389.8606961eaeef7b921ce1c53773248d69\n",
       ":   TRUE./From 2ds/messages/easy_ham/0047.5c3e049737a2813d4ac6f13f02362fb1\n",
       ":   TRUE./From 2ds/messages/easy_ham/00775.0e012f373467846510d9db297e99a008\n",
       ":   TRUE./From 2ds/messages/easy_ham/00883.c44a035e7589e83076b7f1fed8fa97d5\n",
       ":   TRUE\n",
       "\n"
      ],
      "text/plain": [
       "./From 2ds/messages/easy_ham/00001.7c53336b37003a9286aba55d2945844c \n",
       "                                                              FALSE \n",
       "./From 2ds/messages/easy_ham/00002.9c4069e25e1ef370c078db7ee85ff9ac \n",
       "                                                              FALSE \n",
       "./From 2ds/messages/easy_ham/00003.860e3c3cee1b42ead714c5c874fe25f7 \n",
       "                                                              FALSE \n",
       "./From 2ds/messages/easy_ham/00004.864220c5b6930b209cc287c361c99af1 \n",
       "                                                              FALSE \n",
       "./From 2ds/messages/easy_ham/00005.bf27cdeaf0b8c4647ecd61b1d09da613 \n",
       "                                                              FALSE \n",
       "./From 2ds/messages/easy_ham/00014.cb20e10b2bfcb8210a1c310798532a57 \n",
       "                                                               TRUE \n",
       "./From 2ds/messages/easy_ham/00025.d685245bdc4444f44fa091e6620b20b3 \n",
       "                                                              FALSE \n",
       "./From 2ds/messages/easy_ham/00062.009f5a1a8fa88f0b38299ad01562bb37 \n",
       "                                                               TRUE \n",
       "./From 2ds/messages/easy_ham/00063.0acbc484a73f0e0b727e06c100d8df7b \n",
       "                                                               TRUE \n",
       " ./From 2ds/messages/easy_ham/0030.77828e31de08ebb58b583688b87524cc \n",
       "                                                               TRUE \n",
       "./From 2ds/messages/easy_ham/00368.f86324a03e7ae7070cc40f302385f5d3 \n",
       "                                                               TRUE \n",
       "./From 2ds/messages/easy_ham/00389.8606961eaeef7b921ce1c53773248d69 \n",
       "                                                               TRUE \n",
       " ./From 2ds/messages/easy_ham/0047.5c3e049737a2813d4ac6f13f02362fb1 \n",
       "                                                               TRUE \n",
       "./From 2ds/messages/easy_ham/00775.0e012f373467846510d9db297e99a008 \n",
       "                                                               TRUE \n",
       "./From 2ds/messages/easy_ham/00883.c44a035e7589e83076b7f1fed8fa97d5 \n",
       "                                                               TRUE "
      ]
     },
     "metadata": {},
     "output_type": "display_data"
    },
    {
     "data": {
      "text/html": [
       "<span style=white-space:pre-wrap>'    boundary=\"==_Exmh_-1317289252P\";'</span>"
      ],
      "text/latex": [
       "'    boundary=\"==\\_Exmh\\_-1317289252P\";'"
      ],
      "text/markdown": [
       "<span style=white-space:pre-wrap>'    boundary=\"==_Exmh_-1317289252P\";'</span>"
      ],
      "text/plain": [
       "[1] \"    boundary=\\\"==_Exmh_-1317289252P\\\";\""
      ]
     },
     "metadata": {},
     "output_type": "display_data"
    },
    {
     "data": {
      "text/html": [
       "'==_Exmh_-1317289252P'"
      ],
      "text/latex": [
       "'==\\_Exmh\\_-1317289252P'"
      ],
      "text/markdown": [
       "'==_Exmh_-1317289252P'"
      ],
      "text/plain": [
       "[1] \"==_Exmh_-1317289252P\""
      ]
     },
     "metadata": {},
     "output_type": "display_data"
    },
    {
     "data": {
      "text/html": [
       "'Content-Type: multipart/alternative; boundary=Apple-Mail-2-874629474'"
      ],
      "text/latex": [
       "'Content-Type: multipart/alternative; boundary=Apple-Mail-2-874629474'"
      ],
      "text/markdown": [
       "'Content-Type: multipart/alternative; boundary=Apple-Mail-2-874629474'"
      ],
      "text/plain": [
       "[1] \"Content-Type: multipart/alternative; boundary=Apple-Mail-2-874629474\""
      ]
     },
     "metadata": {},
     "output_type": "display_data"
    }
   ],
   "source": [
    "header = sampleSplit[[1]]$header\n",
    "grep(\"Content-Type\", header)\n",
    "\n",
    "grep(\"multi\", tolower(header[46]))\n",
    "\n",
    "header[46]\n",
    "\n",
    "headerList = lapply(sampleSplit, function(msg) msg$header)\n",
    "CTloc = sapply(headerList, grep, pattern = \"Content-Type\")\n",
    "CTloc\n",
    "\n",
    "sapply(headerList, function(header) {\n",
    "                       CTloc = grep(\"Content-Type\", header)\n",
    "                       if (length(CTloc) == 0) return(NA)\n",
    "                       CTloc\n",
    "                   })\n",
    "\n",
    "hasAttach = sapply(headerList, function(header) {\n",
    "  CTloc = grep(\"Content-Type\", header)\n",
    "  if (length(CTloc) == 0) return(FALSE)\n",
    "  grepl(\"multi\", tolower(header[CTloc])) \n",
    "})\n",
    "\n",
    "hasAttach\n",
    "\n",
    "header = sampleSplit[[6]]$header\n",
    "boundaryIdx = grep(\"boundary=\", header)\n",
    "header[boundaryIdx]\n",
    "\n",
    "sub(\".*boundary=\\\"(.*)\\\";.*\", \"\\\\1\", header[boundaryIdx])\n",
    "\n",
    "header2 = headerList[[9]]\n",
    "boundaryIdx2 = grep(\"boundary=\", header2)\n",
    "header2[boundaryIdx2]"
   ]
  },
  {
   "cell_type": "code",
   "execution_count": 10,
   "metadata": {
    "scrolled": true
   },
   "outputs": [
    {
     "data": {
      "text/html": [
       "'Content-Type: multipart/alternative; boundary=Apple-Mail-2-874629474'"
      ],
      "text/latex": [
       "'Content-Type: multipart/alternative; boundary=Apple-Mail-2-874629474'"
      ],
      "text/markdown": [
       "'Content-Type: multipart/alternative; boundary=Apple-Mail-2-874629474'"
      ],
      "text/plain": [
       "[1] \"Content-Type: multipart/alternative; boundary=Apple-Mail-2-874629474\""
      ]
     },
     "metadata": {},
     "output_type": "display_data"
    },
    {
     "data": {
      "text/html": [
       "'Apple-Mail-2-874629474'"
      ],
      "text/latex": [
       "'Apple-Mail-2-874629474'"
      ],
      "text/markdown": [
       "'Apple-Mail-2-874629474'"
      ],
      "text/plain": [
       "[1] \"Apple-Mail-2-874629474\""
      ]
     },
     "metadata": {},
     "output_type": "display_data"
    },
    {
     "data": {
      "text/html": [
       "'==_Exmh_-1317289252P;'"
      ],
      "text/latex": [
       "'==\\_Exmh\\_-1317289252P;'"
      ],
      "text/markdown": [
       "'==_Exmh_-1317289252P;'"
      ],
      "text/plain": [
       "[1] \"==_Exmh_-1317289252P;\""
      ]
     },
     "metadata": {},
     "output_type": "display_data"
    },
    {
     "data": {
      "text/html": [
       "'==_Exmh_-1317289252P'"
      ],
      "text/latex": [
       "'==\\_Exmh\\_-1317289252P'"
      ],
      "text/markdown": [
       "'==_Exmh_-1317289252P'"
      ],
      "text/plain": [
       "[1] \"==_Exmh_-1317289252P\""
      ]
     },
     "metadata": {},
     "output_type": "display_data"
    },
    {
     "data": {
      "text/html": [
       "<style>\n",
       ".list-inline {list-style: none; margin:0; padding: 0}\n",
       ".list-inline>li {display: inline-block}\n",
       ".list-inline>li:not(:last-child)::after {content: \"\\00b7\"; padding: 0 .5ex}\n",
       "</style>\n",
       "<ol class=list-inline><li>'--==_Exmh_-1317289252P'</li><li>'Content-Type: text/plain; charset=us-ascii'</li><li>''</li><li><span style=white-space:pre-wrap>'&gt; From:  Chris Garrigues &lt;cwg-exmh@DeepEddy.Com&gt;'</span></li><li><span style=white-space:pre-wrap>'&gt; Date:  Wed, 21 Aug 2002 10:40:39 -0500'</span></li><li>'&gt;'</li><li><span style=white-space:pre-wrap>'&gt; &gt; From:  Chris Garrigues &lt;cwg-exmh@DeepEddy.Com&gt;'</span></li><li><span style=white-space:pre-wrap>'&gt; &gt; Date:  Wed, 21 Aug 2002 10:17:45 -0500'</span></li><li>'&gt; &gt;'</li><li>'&gt; &gt; Ouch...I\\'ll get right on it.'</li><li>'&gt; &gt; '</li><li><span style=white-space:pre-wrap>'&gt; &gt; &gt; From:  Robert Elz &lt;kre@munnari.OZ.AU&gt;'</span></li><li><span style=white-space:pre-wrap>'&gt; &gt; &gt; Date:  Wed, 21 Aug 2002 19:30:01 +0700'</span></li><li>'&gt; &gt; &gt;'</li><li><span style=white-space:pre-wrap>'&gt; &gt; &gt; Any chance of having that lengthen instead?   I like all my exmh stuff'</span></li><li><span style=white-space:pre-wrap>'&gt; &gt; &gt; in nice columns (fits the display better).   That is, I use the detache'</span></li><li>'&gt; d'</li><li><span style=white-space:pre-wrap>'&gt; &gt; &gt; folder list, one column.   The main exmh window takes up full screen,'</span></li><li>'&gt; &gt; &gt; top to bottom, but less than half the width, etc...'</li><li>'&gt; '</li><li><span style=white-space:pre-wrap>'&gt; I thought about that.  The first order approximation would be to just add '</span></li><li>'&gt; using pack .... -side top instead of pack ... -side left, however, since their '</li><li>'&gt; each a different width, it would look funny.'</li><li>''</li><li><span style=white-space:pre-wrap>'I\\'ve done this.  It\\'s not as pretty as I think it should be, but it works.  '</span></li><li><span style=white-space:pre-wrap>'I\\'m going to leave the cosmetic issues to others.  When I update the '</span></li><li>'documentation, I\\'ll add this to the exmh.TODO file.'</li><li>''</li><li>'I\\'m leaving for a 2 1/2 week vacation in a week, so this is the last new '</li><li><span style=white-space:pre-wrap>'functionality I\\'m going to add for a while.  Also, I now have pretty much '</span></li><li>'everything in there that I want for my own use, so I\\'m probably pretty much '</li><li><span style=white-space:pre-wrap>'done.  I\\'ll work on bug fixes and documentation before my vacation, and '</span></li><li>'hopefully do nothing more afterwards.'</li><li>''</li><li>'Chris'</li><li>''</li><li>'-- '</li><li><span style=white-space:pre-wrap>'Chris Garrigues                 http://www.DeepEddy.Com/~cwg/'</span></li><li><span style=white-space:pre-wrap>'virCIO                          http://www.virCIO.Com'</span></li><li>'716 Congress, Suite 200'</li><li><span style=white-space:pre-wrap>'Austin, TX  78701\\t\\t+1 512 374 0500'</span></li><li>''</li><li><span style=white-space:pre-wrap>'  World War III:  The Wrong-Doers Vs. the Evil-Doers.'</span></li><li>''</li><li>''</li><li>''</li><li>''</li><li>'--==_Exmh_-1317289252P'</li><li>'Content-Type: application/pgp-signature'</li><li>''</li><li>'-----BEGIN PGP SIGNATURE-----'</li><li>'Version: GnuPG v1.0.6 (GNU/Linux)'</li><li>'Comment: Exmh version 2.2_20000822 06/23/2000'</li><li>''</li><li>'iD8DBQE9ZQJ/K9b4h5R0IUIRAiPuAJwL4mUus5whLNQZC8MsDlGpEdKNrACcDfZH'</li><li>'PcGgN9frLIM+C5Z3vagi2wE='</li><li>'=qJoJ'</li><li>'-----END PGP SIGNATURE-----'</li><li>''</li><li>'--==_Exmh_-1317289252P--'</li><li>''</li><li>''</li><li>''</li><li>'_______________________________________________'</li><li>'Exmh-workers mailing list'</li><li>'Exmh-workers@redhat.com'</li><li>'https://listman.redhat.com/mailman/listinfo/exmh-workers'</li><li>''</li></ol>\n"
      ],
      "text/latex": [
       "\\begin{enumerate*}\n",
       "\\item '--==\\_Exmh\\_-1317289252P'\n",
       "\\item 'Content-Type: text/plain; charset=us-ascii'\n",
       "\\item ''\n",
       "\\item '> From:  Chris Garrigues <cwg-exmh@DeepEddy.Com>'\n",
       "\\item '> Date:  Wed, 21 Aug 2002 10:40:39 -0500'\n",
       "\\item '>'\n",
       "\\item '> > From:  Chris Garrigues <cwg-exmh@DeepEddy.Com>'\n",
       "\\item '> > Date:  Wed, 21 Aug 2002 10:17:45 -0500'\n",
       "\\item '> >'\n",
       "\\item '> > Ouch...I\\textbackslash{}'ll get right on it.'\n",
       "\\item '> > '\n",
       "\\item '> > > From:  Robert Elz <kre@munnari.OZ.AU>'\n",
       "\\item '> > > Date:  Wed, 21 Aug 2002 19:30:01 +0700'\n",
       "\\item '> > >'\n",
       "\\item '> > > Any chance of having that lengthen instead?   I like all my exmh stuff'\n",
       "\\item '> > > in nice columns (fits the display better).   That is, I use the detache'\n",
       "\\item '> d'\n",
       "\\item '> > > folder list, one column.   The main exmh window takes up full screen,'\n",
       "\\item '> > > top to bottom, but less than half the width, etc...'\n",
       "\\item '> '\n",
       "\\item '> I thought about that.  The first order approximation would be to just add '\n",
       "\\item '> using pack .... -side top instead of pack ... -side left, however, since their '\n",
       "\\item '> each a different width, it would look funny.'\n",
       "\\item ''\n",
       "\\item 'I\\textbackslash{}'ve done this.  It\\textbackslash{}'s not as pretty as I think it should be, but it works.  '\n",
       "\\item 'I\\textbackslash{}'m going to leave the cosmetic issues to others.  When I update the '\n",
       "\\item 'documentation, I\\textbackslash{}'ll add this to the exmh.TODO file.'\n",
       "\\item ''\n",
       "\\item 'I\\textbackslash{}'m leaving for a 2 1/2 week vacation in a week, so this is the last new '\n",
       "\\item 'functionality I\\textbackslash{}'m going to add for a while.  Also, I now have pretty much '\n",
       "\\item 'everything in there that I want for my own use, so I\\textbackslash{}'m probably pretty much '\n",
       "\\item 'done.  I\\textbackslash{}'ll work on bug fixes and documentation before my vacation, and '\n",
       "\\item 'hopefully do nothing more afterwards.'\n",
       "\\item ''\n",
       "\\item 'Chris'\n",
       "\\item ''\n",
       "\\item '-- '\n",
       "\\item 'Chris Garrigues                 http://www.DeepEddy.Com/\\textasciitilde{}cwg/'\n",
       "\\item 'virCIO                          http://www.virCIO.Com'\n",
       "\\item '716 Congress, Suite 200'\n",
       "\\item 'Austin, TX  78701\\textbackslash{}t\\textbackslash{}t+1 512 374 0500'\n",
       "\\item ''\n",
       "\\item '  World War III:  The Wrong-Doers Vs. the Evil-Doers.'\n",
       "\\item ''\n",
       "\\item ''\n",
       "\\item ''\n",
       "\\item ''\n",
       "\\item '--==\\_Exmh\\_-1317289252P'\n",
       "\\item 'Content-Type: application/pgp-signature'\n",
       "\\item ''\n",
       "\\item '-----BEGIN PGP SIGNATURE-----'\n",
       "\\item 'Version: GnuPG v1.0.6 (GNU/Linux)'\n",
       "\\item 'Comment: Exmh version 2.2\\_20000822 06/23/2000'\n",
       "\\item ''\n",
       "\\item 'iD8DBQE9ZQJ/K9b4h5R0IUIRAiPuAJwL4mUus5whLNQZC8MsDlGpEdKNrACcDfZH'\n",
       "\\item 'PcGgN9frLIM+C5Z3vagi2wE='\n",
       "\\item '=qJoJ'\n",
       "\\item '-----END PGP SIGNATURE-----'\n",
       "\\item ''\n",
       "\\item '--==\\_Exmh\\_-1317289252P--'\n",
       "\\item ''\n",
       "\\item ''\n",
       "\\item ''\n",
       "\\item '\\_\\_\\_\\_\\_\\_\\_\\_\\_\\_\\_\\_\\_\\_\\_\\_\\_\\_\\_\\_\\_\\_\\_\\_\\_\\_\\_\\_\\_\\_\\_\\_\\_\\_\\_\\_\\_\\_\\_\\_\\_\\_\\_\\_\\_\\_\\_'\n",
       "\\item 'Exmh-workers mailing list'\n",
       "\\item 'Exmh-workers@redhat.com'\n",
       "\\item 'https://listman.redhat.com/mailman/listinfo/exmh-workers'\n",
       "\\item ''\n",
       "\\end{enumerate*}\n"
      ],
      "text/markdown": [
       "1. '--==_Exmh_-1317289252P'\n",
       "2. 'Content-Type: text/plain; charset=us-ascii'\n",
       "3. ''\n",
       "4. <span style=white-space:pre-wrap>'&gt; From:  Chris Garrigues &lt;cwg-exmh@DeepEddy.Com&gt;'</span>\n",
       "5. <span style=white-space:pre-wrap>'&gt; Date:  Wed, 21 Aug 2002 10:40:39 -0500'</span>\n",
       "6. '&gt;'\n",
       "7. <span style=white-space:pre-wrap>'&gt; &gt; From:  Chris Garrigues &lt;cwg-exmh@DeepEddy.Com&gt;'</span>\n",
       "8. <span style=white-space:pre-wrap>'&gt; &gt; Date:  Wed, 21 Aug 2002 10:17:45 -0500'</span>\n",
       "9. '&gt; &gt;'\n",
       "10. '&gt; &gt; Ouch...I\\'ll get right on it.'\n",
       "11. '&gt; &gt; '\n",
       "12. <span style=white-space:pre-wrap>'&gt; &gt; &gt; From:  Robert Elz &lt;kre@munnari.OZ.AU&gt;'</span>\n",
       "13. <span style=white-space:pre-wrap>'&gt; &gt; &gt; Date:  Wed, 21 Aug 2002 19:30:01 +0700'</span>\n",
       "14. '&gt; &gt; &gt;'\n",
       "15. <span style=white-space:pre-wrap>'&gt; &gt; &gt; Any chance of having that lengthen instead?   I like all my exmh stuff'</span>\n",
       "16. <span style=white-space:pre-wrap>'&gt; &gt; &gt; in nice columns (fits the display better).   That is, I use the detache'</span>\n",
       "17. '&gt; d'\n",
       "18. <span style=white-space:pre-wrap>'&gt; &gt; &gt; folder list, one column.   The main exmh window takes up full screen,'</span>\n",
       "19. '&gt; &gt; &gt; top to bottom, but less than half the width, etc...'\n",
       "20. '&gt; '\n",
       "21. <span style=white-space:pre-wrap>'&gt; I thought about that.  The first order approximation would be to just add '</span>\n",
       "22. '&gt; using pack .... -side top instead of pack ... -side left, however, since their '\n",
       "23. '&gt; each a different width, it would look funny.'\n",
       "24. ''\n",
       "25. <span style=white-space:pre-wrap>'I\\'ve done this.  It\\'s not as pretty as I think it should be, but it works.  '</span>\n",
       "26. <span style=white-space:pre-wrap>'I\\'m going to leave the cosmetic issues to others.  When I update the '</span>\n",
       "27. 'documentation, I\\'ll add this to the exmh.TODO file.'\n",
       "28. ''\n",
       "29. 'I\\'m leaving for a 2 1/2 week vacation in a week, so this is the last new '\n",
       "30. <span style=white-space:pre-wrap>'functionality I\\'m going to add for a while.  Also, I now have pretty much '</span>\n",
       "31. 'everything in there that I want for my own use, so I\\'m probably pretty much '\n",
       "32. <span style=white-space:pre-wrap>'done.  I\\'ll work on bug fixes and documentation before my vacation, and '</span>\n",
       "33. 'hopefully do nothing more afterwards.'\n",
       "34. ''\n",
       "35. 'Chris'\n",
       "36. ''\n",
       "37. '-- '\n",
       "38. <span style=white-space:pre-wrap>'Chris Garrigues                 http://www.DeepEddy.Com/~cwg/'</span>\n",
       "39. <span style=white-space:pre-wrap>'virCIO                          http://www.virCIO.Com'</span>\n",
       "40. '716 Congress, Suite 200'\n",
       "41. <span style=white-space:pre-wrap>'Austin, TX  78701\\t\\t+1 512 374 0500'</span>\n",
       "42. ''\n",
       "43. <span style=white-space:pre-wrap>'  World War III:  The Wrong-Doers Vs. the Evil-Doers.'</span>\n",
       "44. ''\n",
       "45. ''\n",
       "46. ''\n",
       "47. ''\n",
       "48. '--==_Exmh_-1317289252P'\n",
       "49. 'Content-Type: application/pgp-signature'\n",
       "50. ''\n",
       "51. '-----BEGIN PGP SIGNATURE-----'\n",
       "52. 'Version: GnuPG v1.0.6 (GNU/Linux)'\n",
       "53. 'Comment: Exmh version 2.2_20000822 06/23/2000'\n",
       "54. ''\n",
       "55. 'iD8DBQE9ZQJ/K9b4h5R0IUIRAiPuAJwL4mUus5whLNQZC8MsDlGpEdKNrACcDfZH'\n",
       "56. 'PcGgN9frLIM+C5Z3vagi2wE='\n",
       "57. '=qJoJ'\n",
       "58. '-----END PGP SIGNATURE-----'\n",
       "59. ''\n",
       "60. '--==_Exmh_-1317289252P--'\n",
       "61. ''\n",
       "62. ''\n",
       "63. ''\n",
       "64. '_______________________________________________'\n",
       "65. 'Exmh-workers mailing list'\n",
       "66. 'Exmh-workers@redhat.com'\n",
       "67. 'https://listman.redhat.com/mailman/listinfo/exmh-workers'\n",
       "68. ''\n",
       "\n",
       "\n"
      ],
      "text/plain": [
       " [1] \"--==_Exmh_-1317289252P\"                                                           \n",
       " [2] \"Content-Type: text/plain; charset=us-ascii\"                                       \n",
       " [3] \"\"                                                                                 \n",
       " [4] \"> From:  Chris Garrigues <cwg-exmh@DeepEddy.Com>\"                                 \n",
       " [5] \"> Date:  Wed, 21 Aug 2002 10:40:39 -0500\"                                         \n",
       " [6] \">\"                                                                                \n",
       " [7] \"> > From:  Chris Garrigues <cwg-exmh@DeepEddy.Com>\"                               \n",
       " [8] \"> > Date:  Wed, 21 Aug 2002 10:17:45 -0500\"                                       \n",
       " [9] \"> >\"                                                                              \n",
       "[10] \"> > Ouch...I'll get right on it.\"                                                 \n",
       "[11] \"> > \"                                                                             \n",
       "[12] \"> > > From:  Robert Elz <kre@munnari.OZ.AU>\"                                      \n",
       "[13] \"> > > Date:  Wed, 21 Aug 2002 19:30:01 +0700\"                                     \n",
       "[14] \"> > >\"                                                                            \n",
       "[15] \"> > > Any chance of having that lengthen instead?   I like all my exmh stuff\"     \n",
       "[16] \"> > > in nice columns (fits the display better).   That is, I use the detache\"    \n",
       "[17] \"> d\"                                                                              \n",
       "[18] \"> > > folder list, one column.   The main exmh window takes up full screen,\"      \n",
       "[19] \"> > > top to bottom, but less than half the width, etc...\"                        \n",
       "[20] \"> \"                                                                               \n",
       "[21] \"> I thought about that.  The first order approximation would be to just add \"     \n",
       "[22] \"> using pack .... -side top instead of pack ... -side left, however, since their \"\n",
       "[23] \"> each a different width, it would look funny.\"                                   \n",
       "[24] \"\"                                                                                 \n",
       "[25] \"I've done this.  It's not as pretty as I think it should be, but it works.  \"     \n",
       "[26] \"I'm going to leave the cosmetic issues to others.  When I update the \"            \n",
       "[27] \"documentation, I'll add this to the exmh.TODO file.\"                              \n",
       "[28] \"\"                                                                                 \n",
       "[29] \"I'm leaving for a 2 1/2 week vacation in a week, so this is the last new \"        \n",
       "[30] \"functionality I'm going to add for a while.  Also, I now have pretty much \"       \n",
       "[31] \"everything in there that I want for my own use, so I'm probably pretty much \"     \n",
       "[32] \"done.  I'll work on bug fixes and documentation before my vacation, and \"         \n",
       "[33] \"hopefully do nothing more afterwards.\"                                            \n",
       "[34] \"\"                                                                                 \n",
       "[35] \"Chris\"                                                                            \n",
       "[36] \"\"                                                                                 \n",
       "[37] \"-- \"                                                                              \n",
       "[38] \"Chris Garrigues                 http://www.DeepEddy.Com/~cwg/\"                    \n",
       "[39] \"virCIO                          http://www.virCIO.Com\"                            \n",
       "[40] \"716 Congress, Suite 200\"                                                          \n",
       "[41] \"Austin, TX  78701\\t\\t+1 512 374 0500\"                                               \n",
       "[42] \"\"                                                                                 \n",
       "[43] \"  World War III:  The Wrong-Doers Vs. the Evil-Doers.\"                            \n",
       "[44] \"\"                                                                                 \n",
       "[45] \"\"                                                                                 \n",
       "[46] \"\"                                                                                 \n",
       "[47] \"\"                                                                                 \n",
       "[48] \"--==_Exmh_-1317289252P\"                                                           \n",
       "[49] \"Content-Type: application/pgp-signature\"                                          \n",
       "[50] \"\"                                                                                 \n",
       "[51] \"-----BEGIN PGP SIGNATURE-----\"                                                    \n",
       "[52] \"Version: GnuPG v1.0.6 (GNU/Linux)\"                                                \n",
       "[53] \"Comment: Exmh version 2.2_20000822 06/23/2000\"                                    \n",
       "[54] \"\"                                                                                 \n",
       "[55] \"iD8DBQE9ZQJ/K9b4h5R0IUIRAiPuAJwL4mUus5whLNQZC8MsDlGpEdKNrACcDfZH\"                 \n",
       "[56] \"PcGgN9frLIM+C5Z3vagi2wE=\"                                                         \n",
       "[57] \"=qJoJ\"                                                                            \n",
       "[58] \"-----END PGP SIGNATURE-----\"                                                      \n",
       "[59] \"\"                                                                                 \n",
       "[60] \"--==_Exmh_-1317289252P--\"                                                         \n",
       "[61] \"\"                                                                                 \n",
       "[62] \"\"                                                                                 \n",
       "[63] \"\"                                                                                 \n",
       "[64] \"_______________________________________________\"                                  \n",
       "[65] \"Exmh-workers mailing list\"                                                        \n",
       "[66] \"Exmh-workers@redhat.com\"                                                          \n",
       "[67] \"https://listman.redhat.com/mailman/listinfo/exmh-workers\"                         \n",
       "[68] \"\"                                                                                 "
      ]
     },
     "metadata": {},
     "output_type": "display_data"
    },
    {
     "data": {
      "text/html": [
       "<style>\n",
       ".list-inline {list-style: none; margin:0; padding: 0}\n",
       ".list-inline>li {display: inline-block}\n",
       ".list-inline>li:not(:last-child)::after {content: \"\\00b7\"; padding: 0 .5ex}\n",
       "</style>\n",
       "<ol class=list-inline><li>2</li><li>35</li></ol>\n"
      ],
      "text/latex": [
       "\\begin{enumerate*}\n",
       "\\item 2\n",
       "\\item 35\n",
       "\\end{enumerate*}\n"
      ],
      "text/markdown": [
       "1. 2\n",
       "2. 35\n",
       "\n",
       "\n"
      ],
      "text/plain": [
       "[1]  2 35"
      ]
     },
     "metadata": {},
     "output_type": "display_data"
    },
    {
     "data": {
      "text/html": [
       "77"
      ],
      "text/latex": [
       "77"
      ],
      "text/markdown": [
       "77"
      ],
      "text/plain": [
       "[1] 77"
      ]
     },
     "metadata": {},
     "output_type": "display_data"
    },
    {
     "data": {
      "text/html": [
       "<style>\n",
       ".list-inline {list-style: none; margin:0; padding: 0}\n",
       ".list-inline>li {display: inline-block}\n",
       ".list-inline>li:not(:last-child)::after {content: \"\\00b7\"; padding: 0 .5ex}\n",
       "</style>\n",
       "<ol class=list-inline><li>'&gt;'</li><li>'&gt;Yuck'</li><li><span style=white-space:pre-wrap>'&gt;  '</span></li><li>'&gt;'</li><li>''</li><li>''</li></ol>\n"
      ],
      "text/latex": [
       "\\begin{enumerate*}\n",
       "\\item '>'\n",
       "\\item '>Yuck'\n",
       "\\item '>  '\n",
       "\\item '>'\n",
       "\\item ''\n",
       "\\item ''\n",
       "\\end{enumerate*}\n"
      ],
      "text/markdown": [
       "1. '&gt;'\n",
       "2. '&gt;Yuck'\n",
       "3. <span style=white-space:pre-wrap>'&gt;  '</span>\n",
       "4. '&gt;'\n",
       "5. ''\n",
       "6. ''\n",
       "\n",
       "\n"
      ],
      "text/plain": [
       "[1] \">\"     \">Yuck\" \">  \"   \">\"     \"\"      \"\"     "
      ]
     },
     "metadata": {},
     "output_type": "display_data"
    },
    {
     "data": {
      "text/html": [
       "<style>\n",
       ".list-inline {list-style: none; margin:0; padding: 0}\n",
       ".list-inline>li {display: inline-block}\n",
       ".list-inline>li:not(:last-child)::after {content: \"\\00b7\"; padding: 0 .5ex}\n",
       "</style>\n",
       "<ol class=list-inline><li><span style=white-space:pre-wrap>'&gt;  '</span></li><li>'&gt;'</li><li>''</li><li>''</li><li>''</li><li>''</li></ol>\n"
      ],
      "text/latex": [
       "\\begin{enumerate*}\n",
       "\\item '>  '\n",
       "\\item '>'\n",
       "\\item ''\n",
       "\\item ''\n",
       "\\item ''\n",
       "\\item ''\n",
       "\\end{enumerate*}\n"
      ],
      "text/markdown": [
       "1. <span style=white-space:pre-wrap>'&gt;  '</span>\n",
       "2. '&gt;'\n",
       "3. ''\n",
       "4. ''\n",
       "5. ''\n",
       "6. ''\n",
       "\n",
       "\n"
      ],
      "text/plain": [
       "[1] \">  \" \">\"   \"\"    \"\"    \"\"    \"\"   "
      ]
     },
     "metadata": {},
     "output_type": "display_data"
    }
   ],
   "source": [
    "sub('.*boundary=\"(.*)\";.*', \"\\\\1\", header2[boundaryIdx2])\n",
    "\n",
    "boundary2 = gsub('\"', \"\", header2[boundaryIdx2])\n",
    "\n",
    "sub(\".*boundary= *(.*);?.*\", \"\\\\1\", boundary2)\n",
    "\n",
    "boundary = gsub('\"', \"\", header[boundaryIdx])\n",
    "sub(\".*boundary= *(.*);?.*\", \"\\\\1\", boundary)\n",
    "\n",
    "sub(\".*boundary= *([^;]*);?.*\", \"\\\\1\", boundary)\n",
    "\n",
    "getBoundary = function(header) {\n",
    "  boundaryIdx = grep(\"boundary=\", header)\n",
    "  boundary = gsub('\"', \"\", header[boundaryIdx])\n",
    "  gsub(\".*boundary= *([^;]*);?.*\", \"\\\\1\", boundary)\n",
    "}\n",
    "\n",
    "sampleSplit[[6]]$body\n",
    "\n",
    "boundary = getBoundary(headerList[[15]]) \n",
    "body = sampleSplit[[15]]$body\n",
    "\n",
    "bString = paste(\"--\", boundary, sep = \"\")\n",
    "bStringLocs = which(bString == body)\n",
    "bStringLocs\n",
    "\n",
    "eString = paste(\"--\", boundary, \"--\", sep = \"\")\n",
    "eStringLoc = which(eString == body)\n",
    "eStringLoc\n",
    "\n",
    "msg = body[ (bStringLocs[1] + 1) : (bStringLocs[2] - 1)]\n",
    "tail(msg)\n",
    "\n",
    "msg = c(msg, body[ (eStringLoc + 1) : length(body) ])\n",
    "tail(msg)"
   ]
  },
  {
   "cell_type": "code",
   "execution_count": 11,
   "metadata": {
    "scrolled": true
   },
   "outputs": [
    {
     "data": {
      "text/html": [
       "<style>\n",
       ".list-inline {list-style: none; margin:0; padding: 0}\n",
       ".list-inline>li {display: inline-block}\n",
       ".list-inline>li:not(:last-child)::after {content: \"\\00b7\"; padding: 0 .5ex}\n",
       "</style>\n",
       "<ol class=list-inline><li><span style=white-space:pre-wrap>'    Date:        Wed, 21 Aug 2002 10:54:46 -0500'</span></li><li><span style=white-space:pre-wrap>'    From:        Chris Garrigues &lt;cwg-dated-1030377287.06fa6d@DeepEddy.Com&gt;'</span></li><li><span style=white-space:pre-wrap>'    Message-ID:  &lt;1029945287.4797.TMDA@deepeddy.vircio.com&gt;'</span></li><li>''</li><li>''</li><li><span style=white-space:pre-wrap>'  | I can\\'t reproduce this error.'</span></li></ol>\n"
      ],
      "text/latex": [
       "\\begin{enumerate*}\n",
       "\\item '    Date:        Wed, 21 Aug 2002 10:54:46 -0500'\n",
       "\\item '    From:        Chris Garrigues <cwg-dated-1030377287.06fa6d@DeepEddy.Com>'\n",
       "\\item '    Message-ID:  <1029945287.4797.TMDA@deepeddy.vircio.com>'\n",
       "\\item ''\n",
       "\\item ''\n",
       "\\item '  \\textbar{} I can\\textbackslash{}'t reproduce this error.'\n",
       "\\end{enumerate*}\n"
      ],
      "text/markdown": [
       "1. <span style=white-space:pre-wrap>'    Date:        Wed, 21 Aug 2002 10:54:46 -0500'</span>\n",
       "2. <span style=white-space:pre-wrap>'    From:        Chris Garrigues &lt;cwg-dated-1030377287.06fa6d@DeepEddy.Com&gt;'</span>\n",
       "3. <span style=white-space:pre-wrap>'    Message-ID:  &lt;1029945287.4797.TMDA@deepeddy.vircio.com&gt;'</span>\n",
       "4. ''\n",
       "5. ''\n",
       "6. <span style=white-space:pre-wrap>'  | I can\\'t reproduce this error.'</span>\n",
       "\n",
       "\n"
      ],
      "text/plain": [
       "[1] \"    Date:        Wed, 21 Aug 2002 10:54:46 -0500\"                           \n",
       "[2] \"    From:        Chris Garrigues <cwg-dated-1030377287.06fa6d@DeepEddy.Com>\"\n",
       "[3] \"    Message-ID:  <1029945287.4797.TMDA@deepeddy.vircio.com>\"                \n",
       "[4] \"\"                                                                           \n",
       "[5] \"\"                                                                           \n",
       "[6] \"  | I can't reproduce this error.\"                                          "
      ]
     },
     "metadata": {},
     "output_type": "display_data"
    },
    {
     "data": {
      "text/html": [
       "<style>\n",
       ".list-inline {list-style: none; margin:0; padding: 0}\n",
       ".list-inline>li {display: inline-block}\n",
       ".list-inline>li:not(:last-child)::after {content: \"\\00b7\"; padding: 0 .5ex}\n",
       "</style>\n",
       "<ol class=list-inline><li>'Man Threatens Explosion In Moscow '</li><li>''</li><li>'Thursday August 22, 2002 1:40 PM'</li><li>'MOSCOW (AP) - Security officers on Thursday seized an unidentified man who'</li><li>'said he was armed with explosives and threatened to blow up his truck in'</li><li>'front of Russia\\'s Federal Security Services headquarters in Moscow, NTV'</li></ol>\n"
      ],
      "text/latex": [
       "\\begin{enumerate*}\n",
       "\\item 'Man Threatens Explosion In Moscow '\n",
       "\\item ''\n",
       "\\item 'Thursday August 22, 2002 1:40 PM'\n",
       "\\item 'MOSCOW (AP) - Security officers on Thursday seized an unidentified man who'\n",
       "\\item 'said he was armed with explosives and threatened to blow up his truck in'\n",
       "\\item 'front of Russia\\textbackslash{}'s Federal Security Services headquarters in Moscow, NTV'\n",
       "\\end{enumerate*}\n"
      ],
      "text/markdown": [
       "1. 'Man Threatens Explosion In Moscow '\n",
       "2. ''\n",
       "3. 'Thursday August 22, 2002 1:40 PM'\n",
       "4. 'MOSCOW (AP) - Security officers on Thursday seized an unidentified man who'\n",
       "5. 'said he was armed with explosives and threatened to blow up his truck in'\n",
       "6. 'front of Russia\\'s Federal Security Services headquarters in Moscow, NTV'\n",
       "\n",
       "\n"
      ],
      "text/plain": [
       "[1] \"Man Threatens Explosion In Moscow \"                                        \n",
       "[2] \"\"                                                                          \n",
       "[3] \"Thursday August 22, 2002 1:40 PM\"                                          \n",
       "[4] \"MOSCOW (AP) - Security officers on Thursday seized an unidentified man who\"\n",
       "[5] \"said he was armed with explosives and threatened to blow up his truck in\"  \n",
       "[6] \"front of Russia's Federal Security Services headquarters in Moscow, NTV\"   "
      ]
     },
     "metadata": {},
     "output_type": "display_data"
    },
    {
     "data": {
      "text/html": [
       "<style>\n",
       ".list-inline {list-style: none; margin:0; padding: 0}\n",
       ".list-inline>li {display: inline-block}\n",
       ".list-inline>li:not(:last-child)::after {content: \"\\00b7\"; padding: 0 .5ex}\n",
       "</style>\n",
       "<ol class=list-inline><li>'Man Threatens Explosion In Moscow '</li><li>'Thursday August 22, 2002 1:40 PM'</li><li>'4 DVDs Free +s&amp;p Join Now'</li><li>'http://us.click.yahoo.com/pt6YBB/NXiEAA/mG3HAA/7gSolB/TM'</li></ol>\n"
      ],
      "text/latex": [
       "\\begin{enumerate*}\n",
       "\\item 'Man Threatens Explosion In Moscow '\n",
       "\\item 'Thursday August 22, 2002 1:40 PM'\n",
       "\\item '4 DVDs Free +s\\&p Join Now'\n",
       "\\item 'http://us.click.yahoo.com/pt6YBB/NXiEAA/mG3HAA/7gSolB/TM'\n",
       "\\end{enumerate*}\n"
      ],
      "text/markdown": [
       "1. 'Man Threatens Explosion In Moscow '\n",
       "2. 'Thursday August 22, 2002 1:40 PM'\n",
       "3. '4 DVDs Free +s&amp;p Join Now'\n",
       "4. 'http://us.click.yahoo.com/pt6YBB/NXiEAA/mG3HAA/7gSolB/TM'\n",
       "\n",
       "\n"
      ],
      "text/plain": [
       "[1] \"Man Threatens Explosion In Moscow \"                      \n",
       "[2] \"Thursday August 22, 2002 1:40 PM\"                        \n",
       "[3] \"4 DVDs Free +s&p Join Now\"                               \n",
       "[4] \"http://us.click.yahoo.com/pt6YBB/NXiEAA/mG3HAA/7gSolB/TM\""
      ]
     },
     "metadata": {},
     "output_type": "display_data"
    },
    {
     "data": {
      "text/html": [
       "<style>\n",
       ".list-inline {list-style: none; margin:0; padding: 0}\n",
       ".list-inline>li {display: inline-block}\n",
       ".list-inline>li:not(:last-child)::after {content: \"\\00b7\"; padding: 0 .5ex}\n",
       "</style>\n",
       "<ol class=list-inline><li>'man threatens explosion in moscow '</li><li>'thursday august pm'</li><li>' dvds free s p join now'</li><li>'http us click yahoo com pt ybb nxieaa mg haa gsolb tm'</li></ol>\n"
      ],
      "text/latex": [
       "\\begin{enumerate*}\n",
       "\\item 'man threatens explosion in moscow '\n",
       "\\item 'thursday august pm'\n",
       "\\item ' dvds free s p join now'\n",
       "\\item 'http us click yahoo com pt ybb nxieaa mg haa gsolb tm'\n",
       "\\end{enumerate*}\n"
      ],
      "text/markdown": [
       "1. 'man threatens explosion in moscow '\n",
       "2. 'thursday august pm'\n",
       "3. ' dvds free s p join now'\n",
       "4. 'http us click yahoo com pt ybb nxieaa mg haa gsolb tm'\n",
       "\n",
       "\n"
      ],
      "text/plain": [
       "[1] \"man threatens explosion in moscow \"                   \n",
       "[2] \"thursday august pm\"                                   \n",
       "[3] \" dvds free s p join now\"                              \n",
       "[4] \"http us click yahoo com pt ybb nxieaa mg haa gsolb tm\""
      ]
     },
     "metadata": {},
     "output_type": "display_data"
    },
    {
     "name": "stderr",
     "output_type": "stream",
     "text": [
      "Loading required package: NLP\n",
      "\n",
      "\n",
      "Attaching package: 'NLP'\n",
      "\n",
      "\n",
      "The following object is masked from 'package:ggplot2':\n",
      "\n",
      "    annotate\n",
      "\n",
      "\n"
     ]
    }
   ],
   "source": [
    "dropAttach = function(body, boundary){\n",
    "  \n",
    "  bString = paste(\"--\", boundary, sep = \"\")\n",
    "  bStringLocs = which(bString == body)\n",
    "  \n",
    "  if (length(bStringLocs) <= 1) return(body)\n",
    "  \n",
    "  eString = paste(\"--\", boundary, \"--\", sep = \"\")\n",
    "  eStringLoc = which(eString == body)\n",
    "  if (length(eStringLoc) == 0) \n",
    "    return(body[ (bStringLocs[1] + 1) : (bStringLocs[2] - 1)])\n",
    "  \n",
    "  n = length(body)\n",
    "  if (eStringLoc < n) \n",
    "     return( body[ c( (bStringLocs[1] + 1) : (bStringLocs[2] - 1), \n",
    "                    ( (eStringLoc + 1) : n )) ] )\n",
    "  \n",
    "  return( body[ (bStringLocs[1] + 1) : (bStringLocs[2] - 1) ])\n",
    "}\n",
    "\n",
    "head(sampleSplit[[1]]$body)\n",
    "\n",
    "msg = sampleSplit[[3]]$body\n",
    "head(msg)\n",
    "\n",
    "msg[ c(1, 3, 26, 27) ]\n",
    "\n",
    "cleanMsg = tolower(gsub(\"[[:punct:]0-9[:blank:]]+\", \" \", msg))\n",
    "cleanMsg[ c(1, 3, 26, 27) ]\n",
    "\n",
    "library(tm)\n",
    "stopWords = stopwords()\n",
    "cleanSW = tolower(gsub(\"[[:punct:]0-9[:blank:]]+\", \" \", stopWords))\n",
    "SWords = unlist(strsplit(cleanSW, \"[[:blank:]]+\"))\n",
    "SWords = SWords[ nchar(SWords) > 1 ]\n",
    "stopWords = unique(SWords)"
   ]
  },
  {
   "cell_type": "code",
   "execution_count": 12,
   "metadata": {
    "scrolled": true
   },
   "outputs": [
    {
     "data": {
      "text/html": [
       "<style>\n",
       ".list-inline {list-style: none; margin:0; padding: 0}\n",
       ".list-inline>li {display: inline-block}\n",
       ".list-inline>li:not(:last-child)::after {content: \"\\00b7\"; padding: 0 .5ex}\n",
       "</style>\n",
       "<ol class=list-inline><li>'man'</li><li>'threatens'</li><li>'explosion'</li><li>'moscow'</li><li>'thursday'</li><li>'august'</li></ol>\n"
      ],
      "text/latex": [
       "\\begin{enumerate*}\n",
       "\\item 'man'\n",
       "\\item 'threatens'\n",
       "\\item 'explosion'\n",
       "\\item 'moscow'\n",
       "\\item 'thursday'\n",
       "\\item 'august'\n",
       "\\end{enumerate*}\n"
      ],
      "text/markdown": [
       "1. 'man'\n",
       "2. 'threatens'\n",
       "3. 'explosion'\n",
       "4. 'moscow'\n",
       "5. 'thursday'\n",
       "6. 'august'\n",
       "\n",
       "\n"
      ],
      "text/plain": [
       "[1] \"man\"       \"threatens\" \"explosion\" \"moscow\"    \"thursday\"  \"august\"   "
      ]
     },
     "metadata": {},
     "output_type": "display_data"
    }
   ],
   "source": [
    "words = unlist(strsplit(cleanMsg, \"[[:blank:]]+\"))\n",
    "\n",
    "words = words[ nchar(words) > 1 ]\n",
    "\n",
    "words = words[ !( words %in% stopWords) ]\n",
    "head(words)\n",
    "\n",
    "cleanText =\n",
    "function(msg)   {\n",
    "  tolower(gsub(\"[[:punct:]0-9[:space:][:blank:]]+\", \" \", msg))\n",
    "}\n",
    "\n",
    "findMsgWords = \n",
    "function(msg, stopWords) {\n",
    " if(is.null(msg))\n",
    "  return(character())\n",
    "\n",
    " words = unique(unlist(strsplit(cleanText(msg), \"[[:blank:]\\t]+\")))\n",
    " \n",
    " # drop empty and 1 letter words\n",
    " words = words[ nchar(words) > 1]\n",
    " words = words[ !( words %in% stopWords) ]\n",
    " invisible(words)\n",
    "}"
   ]
  },
  {
   "cell_type": "code",
   "execution_count": 13,
   "metadata": {
    "scrolled": true
   },
   "outputs": [],
   "source": [
    "processAllWords = function(dirName, stopWords)\n",
    "{\n",
    "       # read all files in the directory\n",
    "  fileNames = list.files(dirName, full.names = TRUE)\n",
    "       # drop files that are not email, i.e., cmds\n",
    "  notEmail = grep(\"cmds$\", fileNames)\n",
    "  if ( length(notEmail) > 0) fileNames = fileNames[ - notEmail ]\n",
    "\n",
    "  messages = lapply(fileNames, readLines, encoding = \"utf-8\")\n",
    "  \n",
    "       # split header and body\n",
    "  emailSplit = lapply(messages, splitMessage)\n",
    "       # put body and header in own lists\n",
    "  bodyList = lapply(emailSplit, function(msg) msg$body)\n",
    "  headerList = lapply(emailSplit, function(msg) msg$header)\n",
    "  rm(emailSplit)\n",
    "  \n",
    "       # determine which messages have attachments\n",
    "  hasAttach = sapply(headerList, function(header) {\n",
    "    CTloc = grep(\"Content-Type\", header)\n",
    "    if (length(CTloc) == 0) return(0)\n",
    "    multi = grep(\"multi\", tolower(header[CTloc])) \n",
    "    if (length(multi) == 0) return(0)\n",
    "    multi\n",
    "  })\n",
    "  \n",
    "  hasAttach = which(hasAttach > 0)\n",
    "  \n",
    "       # find boundary strings for messages with attachments\n",
    "  boundaries = sapply(headerList[hasAttach], getBoundary)\n",
    "  \n",
    "       # drop attachments from message body\n",
    "  bodyList[hasAttach] = mapply(dropAttach, bodyList[hasAttach], \n",
    "                               boundaries, SIMPLIFY = FALSE)\n",
    "  \n",
    "       # extract words from body\n",
    "  msgWordsList = lapply(bodyList, findMsgWords, stopWords)\n",
    "  \n",
    "  invisible(msgWordsList)\n",
    "}\n",
    "\n"
   ]
  },
  {
   "cell_type": "code",
   "execution_count": 14,
   "metadata": {
    "scrolled": true
   },
   "outputs": [
    {
     "name": "stderr",
     "output_type": "stream",
     "text": [
      "Warning message in FUN(X[[i]], ...):\n",
      "\"incomplete final line found on './From 2ds/messages/hard_ham/00228.0eaef7857bbbf3ebf5edbbdae2b30493'\"\n",
      "Warning message in FUN(X[[i]], ...):\n",
      "\"incomplete final line found on './From 2ds/messages/hard_ham/0231.7c6cc716ce3f3bfad7130dd3c8d7b072'\"\n",
      "Warning message in FUN(X[[i]], ...):\n",
      "\"incomplete final line found on './From 2ds/messages/hard_ham/0250.7c6cc716ce3f3bfad7130dd3c8d7b072'\"\n",
      "Warning message in FUN(X[[i]], ...):\n",
      "\"incomplete final line found on './From 2ds/messages/spam/00136.faa39d8e816c70f23b4bb8758d8a74f0'\"\n",
      "Warning message in FUN(X[[i]], ...):\n",
      "\"incomplete final line found on './From 2ds/messages/spam/0143.260a940290dcb61f9327b224a368d4af'\"\n"
     ]
    }
   ],
   "source": [
    "msgWordsList = lapply(fullDirNames, processAllWords, \n",
    "                      stopWords = stopWords) \n",
    "\n"
   ]
  },
  {
   "cell_type": "code",
   "execution_count": 15,
   "metadata": {
    "scrolled": true
   },
   "outputs": [
    {
     "data": {
      "text/html": [
       "<style>\n",
       ".list-inline {list-style: none; margin:0; padding: 0}\n",
       ".list-inline>li {display: inline-block}\n",
       ".list-inline>li:not(:last-child)::after {content: \"\\00b7\"; padding: 0 .5ex}\n",
       "</style>\n",
       "<ol class=list-inline><li>5051</li><li>1400</li><li>500</li><li>1000</li><li>1397</li></ol>\n"
      ],
      "text/latex": [
       "\\begin{enumerate*}\n",
       "\\item 5051\n",
       "\\item 1400\n",
       "\\item 500\n",
       "\\item 1000\n",
       "\\item 1397\n",
       "\\end{enumerate*}\n"
      ],
      "text/markdown": [
       "1. 5051\n",
       "2. 1400\n",
       "3. 500\n",
       "4. 1000\n",
       "5. 1397\n",
       "\n",
       "\n"
      ],
      "text/plain": [
       "[1] 5051 1400  500 1000 1397"
      ]
     },
     "metadata": {},
     "output_type": "display_data"
    }
   ],
   "source": [
    "numMsgs = sapply(msgWordsList, length)\n",
    "numMsgs"
   ]
  },
  {
   "cell_type": "code",
   "execution_count": 16,
   "metadata": {
    "scrolled": true
   },
   "outputs": [
    {
     "data": {
      "text/html": [
       "80050"
      ],
      "text/latex": [
       "80050"
      ],
      "text/markdown": [
       "80050"
      ],
      "text/plain": [
       "[1] 80050"
      ]
     },
     "metadata": {},
     "output_type": "display_data"
    }
   ],
   "source": [
    "isSpam = rep(c(FALSE, FALSE, FALSE, TRUE, TRUE), numMsgs)\n",
    "\n",
    "msgWordsList = unlist(msgWordsList, recursive = FALSE)\n",
    "\n",
    "numEmail = length(isSpam)\n",
    "numSpam = sum(isSpam)\n",
    "numHam = numEmail - numSpam\n",
    "\n",
    "set.seed(418910)\n",
    "\n",
    "testSpamIdx = sample(numSpam, size = floor(numSpam/3))\n",
    "testHamIdx = sample(numHam, size = floor(numHam/3))\n",
    "\n",
    "testMsgWords = c((msgWordsList[isSpam])[testSpamIdx],\n",
    "                 (msgWordsList[!isSpam])[testHamIdx] )\n",
    "trainMsgWords = c((msgWordsList[isSpam])[ - testSpamIdx], \n",
    "                  (msgWordsList[!isSpam])[ - testHamIdx])\n",
    "\n",
    "testIsSpam = rep(c(TRUE, FALSE), \n",
    "                 c(length(testSpamIdx), length(testHamIdx)))\n",
    "trainIsSpam = rep(c(TRUE, FALSE), \n",
    "                 c(numSpam - length(testSpamIdx), \n",
    "                   numHam - length(testHamIdx)))\n",
    "\n",
    "bow = unique(unlist(trainMsgWords))\n",
    "\n",
    "length(bow)\n",
    "\n",
    "spamWordCounts = rep(0, length(bow))\n",
    "\n",
    "names(spamWordCounts) = bow\n",
    "\n",
    "tmp = lapply(trainMsgWords[trainIsSpam], unique)\n",
    "tt = table( unlist(tmp) )\n",
    "spamWordCounts[ names(tt) ] = tt"
   ]
  },
  {
   "cell_type": "code",
   "execution_count": 17,
   "metadata": {
    "scrolled": true
   },
   "outputs": [],
   "source": [
    "computeFreqs =\n",
    "function(wordsList, spam, bow = unique(unlist(wordsList)))\n",
    "{\n",
    "   # create a matrix for spam, ham, and log odds\n",
    "  wordTable = matrix(0.5, nrow = 4, ncol = length(bow), \n",
    "                     dimnames = list(c(\"spam\", \"ham\", \n",
    "                                        \"presentLogOdds\", \n",
    "                                        \"absentLogOdds\"),  bow))\n",
    "\n",
    "   # For each spam message, add 1 to counts for words in message\n",
    "  counts.spam = table(unlist(lapply(wordsList[spam], unique)))\n",
    "  wordTable[\"spam\", names(counts.spam)] = counts.spam + .5\n",
    "\n",
    "   # Similarly for ham messages\n",
    "  counts.ham = table(unlist(lapply(wordsList[!spam], unique)))  \n",
    "  wordTable[\"ham\", names(counts.ham)] = counts.ham + .5  \n",
    "\n",
    "\n",
    "   # Find the total number of spam and ham\n",
    "  numSpam = sum(spam)\n",
    "  numHam = length(spam) - numSpam\n",
    "\n",
    "   # Prob(word|spam) and Prob(word | ham)\n",
    "  wordTable[\"spam\", ] = wordTable[\"spam\", ]/(numSpam + .5)\n",
    "  wordTable[\"ham\", ] = wordTable[\"ham\", ]/(numHam + .5)\n",
    "  \n",
    "   # log odds\n",
    "  wordTable[\"presentLogOdds\", ] = \n",
    "     log(wordTable[\"spam\",]) - log(wordTable[\"ham\", ])\n",
    "  wordTable[\"absentLogOdds\", ] = \n",
    "     log((1 - wordTable[\"spam\", ])) - log((1 -wordTable[\"ham\", ]))\n",
    "\n",
    "  invisible(wordTable)\n",
    "}"
   ]
  },
  {
   "cell_type": "code",
   "execution_count": 18,
   "metadata": {
    "scrolled": true
   },
   "outputs": [
    {
     "data": {
      "text/html": [
       "15.024062974935"
      ],
      "text/latex": [
       "15.024062974935"
      ],
      "text/markdown": [
       "15.024062974935"
      ],
      "text/plain": [
       "[1] 15.02406"
      ]
     },
     "metadata": {},
     "output_type": "display_data"
    },
    {
     "data": {
      "text/html": [
       "-161.661420087411"
      ],
      "text/latex": [
       "-161.661420087411"
      ],
      "text/markdown": [
       "-161.661420087411"
      ],
      "text/plain": [
       "[1] -161.6614"
      ]
     },
     "metadata": {},
     "output_type": "display_data"
    },
    {
     "data": {
      "text/plain": [
       "$`FALSE`\n",
       "   Min. 1st Qu.  Median    Mean 3rd Qu.    Max. \n",
       "-1076.8  -137.2  -108.3  -125.6   -88.6   753.5 \n",
       "\n",
       "$`TRUE`\n",
       "    Min.  1st Qu.   Median     Mean  3rd Qu.     Max. \n",
       " -85.759   -7.506   36.431   84.980  111.270 1457.719 \n"
      ]
     },
     "metadata": {},
     "output_type": "display_data"
    }
   ],
   "source": [
    "#run for long\n",
    "trainTable = computeFreqs(trainMsgWords, trainIsSpam)\n",
    "\n",
    "newMsg = testMsgWords[[1]]\n",
    "\n",
    "newMsg = newMsg[!is.na(match(newMsg, colnames(trainTable)))]\n",
    "\n",
    "present = colnames(trainTable) %in% newMsg\n",
    "\n",
    "sum(trainTable[\"presentLogOdds\", present]) + \n",
    "  sum(trainTable[\"absentLogOdds\", !present])\n",
    "\n",
    "newMsg = testMsgWords[[ which(!testIsSpam)[1] ]]\n",
    "newMsg = newMsg[!is.na(match(newMsg, colnames(trainTable)))]\n",
    "present = (colnames(trainTable) %in% newMsg)\n",
    "sum(trainTable[\"presentLogOdds\", present]) + \n",
    "     sum(trainTable[\"absentLogOdds\", !present])\n",
    "\n",
    "computeMsgLLR = function(words, freqTable) \n",
    "{\n",
    "       # Discards words not in training data.\n",
    "  words = words[!is.na(match(words, colnames(freqTable)))]\n",
    "\n",
    "       # Find which words are present\n",
    "  present = colnames(freqTable) %in% words\n",
    "\n",
    "  sum(freqTable[\"presentLogOdds\", present]) +\n",
    "    sum(freqTable[\"absentLogOdds\", !present])\n",
    "}\n",
    "\n",
    "testLLR = sapply(testMsgWords, computeMsgLLR, trainTable)\n",
    "\n",
    "tapply(testLLR, testIsSpam, summary)\n"
   ]
  },
  {
   "cell_type": "code",
   "execution_count": 19,
   "metadata": {
    "scrolled": true
   },
   "outputs": [
    {
     "data": {
      "image/png": "[encoded data removed]",
      "text/plain": [
       "plot without title"
      ]
     },
     "metadata": {
      "image/png": {
       "height": 420,
       "width": 420
      },
      "text/plain": {
       "height": 420,
       "width": 420
      }
     },
     "output_type": "display_data"
    }
   ],
   "source": [
    "#pdf(\"SP_Boxplot.pdf\", width = 6, height = 6)\n",
    "spamLab = c(\"ham\", \"spam\")[1 + testIsSpam]\n",
    "boxplot(testLLR ~ spamLab, ylab = \"Log Likelihood Ratio\",\n",
    "      #  main = \"Log Likelihood Ratio for Randomly Chosen Test Messages\",\n",
    "        ylim=c(-500, 500))\n",
    "#dev.off()\n"
   ]
  },
  {
   "cell_type": "code",
   "execution_count": 20,
   "metadata": {
    "scrolled": true
   },
   "outputs": [
    {
     "data": {
      "text/html": [
       "0.00388433318946914"
      ],
      "text/latex": [
       "0.00388433318946914"
      ],
      "text/markdown": [
       "0.00388433318946914"
      ],
      "text/plain": [
       "[1] 0.003884333"
      ]
     },
     "metadata": {},
     "output_type": "display_data"
    },
    {
     "data": {
      "text/html": [
       "0.00604229607250755"
      ],
      "text/latex": [
       "0.00604229607250755"
      ],
      "text/markdown": [
       "0.00604229607250755"
      ],
      "text/plain": [
       "[1] 0.006042296"
      ]
     },
     "metadata": {},
     "output_type": "display_data"
    }
   ],
   "source": [
    "typeIErrorRate = \n",
    "function(tau, llrVals, spam)\n",
    "{\n",
    "  classify = llrVals > tau\n",
    "  sum(classify & !spam)/sum(!spam)\n",
    "}\n",
    "\n",
    "typeIErrorRate(0, testLLR,testIsSpam)\n",
    "\n",
    "typeIErrorRate(-20, testLLR,testIsSpam)\n",
    "\n",
    "typeIErrorRates = \n",
    "function(llrVals, isSpam) \n",
    "{\n",
    "  o = order(llrVals)\n",
    "  llrVals =  llrVals[o]\n",
    "  isSpam = isSpam[o]\n",
    "\n",
    "  idx = which(!isSpam)\n",
    "  N = length(idx)\n",
    "  list(error = (N:1)/N, values = llrVals[idx])\n",
    "}"
   ]
  },
  {
   "cell_type": "code",
   "execution_count": 21,
   "metadata": {
    "scrolled": true
   },
   "outputs": [],
   "source": [
    "typeIIErrorRates = function(llrVals, isSpam) {\n",
    "    \n",
    "  o = order(llrVals)\n",
    "  llrVals =  llrVals[o]\n",
    "  isSpam = isSpam[o]\n",
    "    \n",
    "    \n",
    "  idx = which(isSpam)\n",
    "  N = length(idx)\n",
    "  list(error = (1:(N))/N, values = llrVals[idx])\n",
    "  }  \n",
    "\n",
    "xI = typeIErrorRates(testLLR, testIsSpam)\n",
    "xII = typeIIErrorRates(testLLR, testIsSpam)\n",
    "tau01 = round(min(xI$values[xI$error <= 0.01]))\n",
    "t2 = max(xII$error[ xII$values < tau01 ])"
   ]
  },
  {
   "cell_type": "code",
   "execution_count": 22,
   "metadata": {
    "scrolled": true
   },
   "outputs": [
    {
     "data": {
      "image/png": "[encoded data removed]",
      "text/plain": [
       "plot without title"
      ]
     },
     "metadata": {
      "image/png": {
       "height": 420,
       "width": 420
      },
      "text/plain": {
       "height": 420,
       "width": 420
      }
     },
     "output_type": "display_data"
    }
   ],
   "source": [
    "#pdf(\"LinePlotTypeI+IIErrors.pdf\", width = 8, height = 6)\n",
    "\n",
    "library(RColorBrewer)\n",
    "cols = brewer.pal(9, \"Set1\")[c(3, 4, 5)]\n",
    "plot(xII$error ~ xII$values,  type = \"l\", col = cols[1], lwd = 3,\n",
    "     xlim = c(-300, 250), ylim = c(0, 1),\n",
    "     xlab = \"Log Likelihood Ratio Values\", ylab=\"Error Rate\")\n",
    "points(xI$error ~ xI$values, type = \"l\", col = cols[2], lwd = 3)\n",
    "legend(x = 50, y = 0.4, fill = c(cols[2], cols[1]),\n",
    "       legend = c(\"Classify Ham as Spam\", \n",
    "                  \"Classify Spam as Ham\"), cex = 0.8,\n",
    "       bty = \"n\")\n",
    "abline(h=0.01, col =\"grey\", lwd = 3, lty = 2)\n",
    "text(-250, 0.05, pos = 4, \"Type I Error = 0.01\", col = cols[2])\n",
    "\n",
    "mtext(tau01, side = 1, line = 0.5, at = tau01, col = cols[3])\n",
    "segments(x0 = tau01, y0 = -.50, x1 = tau01, y1 = t2, \n",
    "         lwd = 2, col = \"grey\")\n",
    "text(tau01 + 20, 0.05, pos = 4,\n",
    "     paste(\"Type II Error = \", round(t2, digits = 2)), \n",
    "     col = cols[1])\n",
    "\n",
    "#dev.off()"
   ]
  },
  {
   "cell_type": "code",
   "execution_count": 23,
   "metadata": {
    "scrolled": true
   },
   "outputs": [],
   "source": [
    "k = 5\n",
    "numTrain = length(trainMsgWords)\n",
    "partK = sample(numTrain)\n",
    "tot = k * floor(numTrain/k)\n",
    "partK = matrix(partK[1:tot], ncol = k)\n",
    "\n",
    "testFoldOdds = NULL\n",
    "for (i in 1:k) {\n",
    "  foldIdx = partK[ , i]\n",
    "  trainTabFold = computeFreqs(trainMsgWords[-foldIdx], trainIsSpam[-foldIdx])\n",
    "  testFoldOdds = c(testFoldOdds, \n",
    "               sapply(trainMsgWords[ foldIdx ], computeMsgLLR, trainTabFold))\n",
    "}\n",
    "\n",
    "testFoldSpam = NULL\n",
    "for (i in 1:k) {\n",
    "  foldIdx = partK[ , i]\n",
    "  testFoldSpam = c(testFoldSpam, trainIsSpam[foldIdx])\n",
    "}\n",
    "\n",
    "xFoldI = typeIErrorRates(testFoldOdds, testFoldSpam)\n",
    "xFoldII = typeIIErrorRates(testFoldOdds, testFoldSpam)\n",
    "tauFoldI = round(min(xFoldI$values[xFoldI$error <= 0.01]))\n",
    "tFold2 = xFoldII$error[ xFoldII$values < tauFoldI ]\n",
    "\n",
    "smallNums = rep((1/2)^40, 2000000)"
   ]
  },
  {
   "cell_type": "code",
   "execution_count": 24,
   "metadata": {
    "scrolled": true
   },
   "outputs": [
    {
     "name": "stdout",
     "output_type": "stream",
     "text": [
      "[1] 1.8189894035458565e-06\n",
      "[1] 10000.000001818989\n",
      "[1] 10000\n"
     ]
    },
    {
     "data": {
      "text/html": [
       "<style>\n",
       ".list-inline {list-style: none; margin:0; padding: 0}\n",
       ".list-inline>li {display: inline-block}\n",
       ".list-inline>li:not(:last-child)::after {content: \"\\00b7\"; padding: 0 .5ex}\n",
       "</style>\n",
       "<ol class=list-inline><li><span style=white-space:pre-wrap>'From exmh-workers-admin@redhat.com  Thu Aug 22 12:36:23 2002'</span></li><li>'Return-Path: &lt;exmh-workers-admin@spamassassin.taint.org&gt;'</li><li>'Delivered-To: zzzz@localhost.netnoteinc.com'</li><li>'Received: from localhost (localhost [127.0.0.1])'</li><li>'\\tby phobos.labs.netnoteinc.com (Postfix) with ESMTP id D03E543C36'</li><li>'\\tfor &lt;zzzz@localhost&gt;; Thu, 22 Aug 2002 07:36:16 -0400 (EDT)'</li><li>'Received: from phobos [127.0.0.1]'</li><li>'\\tby localhost with IMAP (fetchmail-5.9.0)'</li><li>'\\tfor zzzz@localhost (single-drop); Thu, 22 Aug 2002 12:36:16 +0100 (IST)'</li><li>'Received: from listman.spamassassin.taint.org (listman.spamassassin.taint.org [66.187.233.211]) by'</li><li><span style=white-space:pre-wrap>'    dogma.slashnull.org (8.11.6/8.11.6) with ESMTP id g7MBYrZ04811 for'</span></li><li><span style=white-space:pre-wrap>'    &lt;zzzz-exmh@spamassassin.taint.org&gt;; Thu, 22 Aug 2002 12:34:53 +0100'</span></li></ol>\n"
      ],
      "text/latex": [
       "\\begin{enumerate*}\n",
       "\\item 'From exmh-workers-admin@redhat.com  Thu Aug 22 12:36:23 2002'\n",
       "\\item 'Return-Path: <exmh-workers-admin@spamassassin.taint.org>'\n",
       "\\item 'Delivered-To: zzzz@localhost.netnoteinc.com'\n",
       "\\item 'Received: from localhost (localhost {[}127.0.0.1{]})'\n",
       "\\item '\\textbackslash{}tby phobos.labs.netnoteinc.com (Postfix) with ESMTP id D03E543C36'\n",
       "\\item '\\textbackslash{}tfor <zzzz@localhost>; Thu, 22 Aug 2002 07:36:16 -0400 (EDT)'\n",
       "\\item 'Received: from phobos {[}127.0.0.1{]}'\n",
       "\\item '\\textbackslash{}tby localhost with IMAP (fetchmail-5.9.0)'\n",
       "\\item '\\textbackslash{}tfor zzzz@localhost (single-drop); Thu, 22 Aug 2002 12:36:16 +0100 (IST)'\n",
       "\\item 'Received: from listman.spamassassin.taint.org (listman.spamassassin.taint.org {[}66.187.233.211{]}) by'\n",
       "\\item '    dogma.slashnull.org (8.11.6/8.11.6) with ESMTP id g7MBYrZ04811 for'\n",
       "\\item '    <zzzz-exmh@spamassassin.taint.org>; Thu, 22 Aug 2002 12:34:53 +0100'\n",
       "\\end{enumerate*}\n"
      ],
      "text/markdown": [
       "1. <span style=white-space:pre-wrap>'From exmh-workers-admin@redhat.com  Thu Aug 22 12:36:23 2002'</span>\n",
       "2. 'Return-Path: &lt;exmh-workers-admin@spamassassin.taint.org&gt;'\n",
       "3. 'Delivered-To: zzzz@localhost.netnoteinc.com'\n",
       "4. 'Received: from localhost (localhost [127.0.0.1])'\n",
       "5. '\\tby phobos.labs.netnoteinc.com (Postfix) with ESMTP id D03E543C36'\n",
       "6. '\\tfor &lt;zzzz@localhost&gt;; Thu, 22 Aug 2002 07:36:16 -0400 (EDT)'\n",
       "7. 'Received: from phobos [127.0.0.1]'\n",
       "8. '\\tby localhost with IMAP (fetchmail-5.9.0)'\n",
       "9. '\\tfor zzzz@localhost (single-drop); Thu, 22 Aug 2002 12:36:16 +0100 (IST)'\n",
       "10. 'Received: from listman.spamassassin.taint.org (listman.spamassassin.taint.org [66.187.233.211]) by'\n",
       "11. <span style=white-space:pre-wrap>'    dogma.slashnull.org (8.11.6/8.11.6) with ESMTP id g7MBYrZ04811 for'</span>\n",
       "12. <span style=white-space:pre-wrap>'    &lt;zzzz-exmh@spamassassin.taint.org&gt;; Thu, 22 Aug 2002 12:34:53 +0100'</span>\n",
       "\n",
       "\n"
      ],
      "text/plain": [
       " [1] \"From exmh-workers-admin@redhat.com  Thu Aug 22 12:36:23 2002\"                                      \n",
       " [2] \"Return-Path: <exmh-workers-admin@spamassassin.taint.org>\"                                          \n",
       " [3] \"Delivered-To: zzzz@localhost.netnoteinc.com\"                                                       \n",
       " [4] \"Received: from localhost (localhost [127.0.0.1])\"                                                  \n",
       " [5] \"\\tby phobos.labs.netnoteinc.com (Postfix) with ESMTP id D03E543C36\"                                 \n",
       " [6] \"\\tfor <zzzz@localhost>; Thu, 22 Aug 2002 07:36:16 -0400 (EDT)\"                                      \n",
       " [7] \"Received: from phobos [127.0.0.1]\"                                                                 \n",
       " [8] \"\\tby localhost with IMAP (fetchmail-5.9.0)\"                                                         \n",
       " [9] \"\\tfor zzzz@localhost (single-drop); Thu, 22 Aug 2002 12:36:16 +0100 (IST)\"                          \n",
       "[10] \"Received: from listman.spamassassin.taint.org (listman.spamassassin.taint.org [66.187.233.211]) by\"\n",
       "[11] \"    dogma.slashnull.org (8.11.6/8.11.6) with ESMTP id g7MBYrZ04811 for\"                            \n",
       "[12] \"    <zzzz-exmh@spamassassin.taint.org>; Thu, 22 Aug 2002 12:34:53 +0100\"                           "
      ]
     },
     "metadata": {},
     "output_type": "display_data"
    },
    {
     "data": {
      "text/html": [
       "<span style=white-space:pre-wrap>'Top-From: exmh-workers-admin@redhat.com  Thu Aug 22 12:36:23 2002'</span>"
      ],
      "text/latex": [
       "'Top-From: exmh-workers-admin@redhat.com  Thu Aug 22 12:36:23 2002'"
      ],
      "text/markdown": [
       "<span style=white-space:pre-wrap>'Top-From: exmh-workers-admin@redhat.com  Thu Aug 22 12:36:23 2002'</span>"
      ],
      "text/plain": [
       "[1] \"Top-From: exmh-workers-admin@redhat.com  Thu Aug 22 12:36:23 2002\""
      ]
     },
     "metadata": {},
     "output_type": "display_data"
    }
   ],
   "source": [
    "largeNum = 10000\n",
    "\n",
    "print(sum(smallNums), digits = 20)\n",
    "\n",
    "print(largeNum + sum(smallNums), digits = 20)\n",
    "\n",
    "for (i in 1:length(smallNums)) {\n",
    "  largeNum = largeNum + smallNums[i]\n",
    "}\n",
    "print(largeNum, digits = 20)\n",
    "\n",
    "sampleSplit = lapply(sampleEmail, splitMessage)\n",
    "\n",
    "header = sampleSplit[[1]]$header\n",
    "header[1:12]\n",
    "\n",
    "header[1] = sub(\"^From\", \"Top-From:\", header[1])\n",
    "header[1]"
   ]
  },
  {
   "cell_type": "code",
   "execution_count": 25,
   "metadata": {
    "scrolled": true
   },
   "outputs": [
    {
     "data": {
      "text/html": [
       "<ol>\n",
       "\t<li><style>\n",
       ".list-inline {list-style: none; margin:0; padding: 0}\n",
       ".list-inline>li {display: inline-block}\n",
       ".list-inline>li:not(:last-child)::after {content: \"\\00b7\"; padding: 0 .5ex}\n",
       "</style>\n",
       "<ol class=list-inline><li>'zzzz@localhost.netnoteinc.com'</li><li>'exmh-workers@listman.spamassassin.taint.org'</li></ol>\n",
       "</li>\n",
       "</ol>\n"
      ],
      "text/latex": [
       "\\begin{enumerate}\n",
       "\\item \\begin{enumerate*}\n",
       "\\item 'zzzz@localhost.netnoteinc.com'\n",
       "\\item 'exmh-workers@listman.spamassassin.taint.org'\n",
       "\\end{enumerate*}\n",
       "\n",
       "\\end{enumerate}\n"
      ],
      "text/markdown": [
       "1. 1. 'zzzz@localhost.netnoteinc.com'\n",
       "2. 'exmh-workers@listman.spamassassin.taint.org'\n",
       "\n",
       "\n",
       "\n",
       "\n",
       "\n"
      ],
      "text/plain": [
       "[[1]]\n",
       "[1] \"zzzz@localhost.netnoteinc.com\"              \n",
       "[2] \"exmh-workers@listman.spamassassin.taint.org\"\n"
      ]
     },
     "metadata": {},
     "output_type": "display_data"
    },
    {
     "data": {
      "text/html": [
       "<style>\n",
       ".dl-inline {width: auto; margin:0; padding: 0}\n",
       ".dl-inline>dt, .dl-inline>dd {float: none; width: auto; display: inline-block}\n",
       ".dl-inline>dt::after {content: \":\\0020\"; padding-right: .5ex}\n",
       ".dl-inline>dt:not(:first-of-type) {padding-left: .5ex}\n",
       "</style><dl class=dl-inline><dt>Delivered-To</dt><dd>'zzzz@localhost.netnoteinc.com'</dd><dt>Delivered-To</dt><dd>'exmh-workers@listman.spamassassin.taint.org'</dd></dl>\n"
      ],
      "text/latex": [
       "\\begin{description*}\n",
       "\\item[Delivered-To] 'zzzz@localhost.netnoteinc.com'\n",
       "\\item[Delivered-To] 'exmh-workers@listman.spamassassin.taint.org'\n",
       "\\end{description*}\n"
      ],
      "text/markdown": [
       "Delivered-To\n",
       ":   'zzzz@localhost.netnoteinc.com'Delivered-To\n",
       ":   'exmh-workers@listman.spamassassin.taint.org'\n",
       "\n"
      ],
      "text/plain": [
       "                                 Delivered-To \n",
       "              \"zzzz@localhost.netnoteinc.com\" \n",
       "                                 Delivered-To \n",
       "\"exmh-workers@listman.spamassassin.taint.org\" "
      ]
     },
     "metadata": {},
     "output_type": "display_data"
    },
    {
     "data": {
      "text/html": [
       "36"
      ],
      "text/latex": [
       "36"
      ],
      "text/markdown": [
       "36"
      ],
      "text/plain": [
       "[1] 36"
      ]
     },
     "metadata": {},
     "output_type": "display_data"
    },
    {
     "data": {
      "text/html": [
       "26"
      ],
      "text/latex": [
       "26"
      ],
      "text/markdown": [
       "26"
      ],
      "text/plain": [
       "[1] 26"
      ]
     },
     "metadata": {},
     "output_type": "display_data"
    }
   ],
   "source": [
    "headerPieces = read.dcf(textConnection(header), all = TRUE)\n",
    "\n",
    "headerPieces[, \"Delivered-To\"]\n",
    "\n",
    "\n",
    "headerVec = unlist(headerPieces)\n",
    "dupKeys = sapply(headerPieces, function(x) length(unlist(x)))\n",
    "names(headerVec) = rep(colnames(headerPieces), dupKeys)\n",
    "\n",
    "headerVec[ which(names(headerVec) == \"Delivered-To\") ]\n",
    "\n",
    "length(headerVec)\n",
    "\n",
    "length(unique(names(headerVec)))\n",
    "\n",
    "processHeader = function(header)\n",
    "{\n",
    "       # modify the first line to create a key:value pair\n",
    "  header[1] = sub(\"^From\", \"Top-From:\", header[1])\n",
    "  \n",
    "  headerMat = read.dcf(textConnection(header), all = TRUE)\n",
    "  headerVec = unlist(headerMat)\n",
    "  \n",
    "  dupKeys = sapply(headerMat, function(x) length(unlist(x)))\n",
    "  names(headerVec) = rep(colnames(headerMat), dupKeys)\n",
    "  \n",
    "  return(headerVec)\n",
    "}\n"
   ]
  },
  {
   "cell_type": "code",
   "execution_count": 26,
   "metadata": {
    "scrolled": true
   },
   "outputs": [
    {
     "data": {
      "text/html": [
       "<style>\n",
       ".list-inline {list-style: none; margin:0; padding: 0}\n",
       ".list-inline>li {display: inline-block}\n",
       ".list-inline>li:not(:last-child)::after {content: \"\\00b7\"; padding: 0 .5ex}\n",
       "</style>\n",
       "<ol class=list-inline><li>'text/plain; charset=us-ascii'</li><li>'text/plain; charset=US-ASCII'</li><li>'text/plain; charset=US-ASCII'</li><li>'text/plain; charset=\"us-ascii\"'</li><li>'text/plain; charset=US-ASCII'</li><li>'multipart/signed;\\nboundary=\"==_Exmh_-1317289252P\";\\nmicalg=pgp-sha1;\\nprotocol=\"application/pgp-signature\"'</li><li>NA</li><li>'multipart/alternative;\\nboundary=\"----=_NextPart_000_00C1_01C25017.F2F04E20\"'</li><li>'multipart/alternative; boundary=Apple-Mail-2-874629474'</li><li>'multipart/signed;\\nboundary=\"==_Exmh_-518574644P\";\\nmicalg=pgp-sha1;\\nprotocol=\"application/pgp-signature\"'</li><li>'multipart/related;\\nboundary=\"------------090602010909000705010009\"'</li><li>'multipart/signed;\\nboundary=\"==_Exmh_-451422450P\";\\nmicalg=pgp-sha1;\\nprotocol=\"application/pgp-signature\"'</li><li>'multipart/signed;\\nboundary=\"==_Exmh_267413022P\";\\nmicalg=pgp-sha1;\\nprotocol=\"application/pgp-signature\"'</li><li>'multipart/mixed;\\nboundary=\"----=_NextPart_000_0005_01C26412.7545C1D0\"'</li><li>'multipart/alternative;\\nboundary=\"------------080209060700030309080805\"'</li></ol>\n"
      ],
      "text/latex": [
       "\\begin{enumerate*}\n",
       "\\item 'text/plain; charset=us-ascii'\n",
       "\\item 'text/plain; charset=US-ASCII'\n",
       "\\item 'text/plain; charset=US-ASCII'\n",
       "\\item 'text/plain; charset=\"us-ascii\"'\n",
       "\\item 'text/plain; charset=US-ASCII'\n",
       "\\item 'multipart/signed;\\textbackslash{}nboundary=\"==\\_Exmh\\_-1317289252P\";\\textbackslash{}nmicalg=pgp-sha1;\\textbackslash{}nprotocol=\"application/pgp-signature\"'\n",
       "\\item NA\n",
       "\\item 'multipart/alternative;\\textbackslash{}nboundary=\"----=\\_NextPart\\_000\\_00C1\\_01C25017.F2F04E20\"'\n",
       "\\item 'multipart/alternative; boundary=Apple-Mail-2-874629474'\n",
       "\\item 'multipart/signed;\\textbackslash{}nboundary=\"==\\_Exmh\\_-518574644P\";\\textbackslash{}nmicalg=pgp-sha1;\\textbackslash{}nprotocol=\"application/pgp-signature\"'\n",
       "\\item 'multipart/related;\\textbackslash{}nboundary=\"------------090602010909000705010009\"'\n",
       "\\item 'multipart/signed;\\textbackslash{}nboundary=\"==\\_Exmh\\_-451422450P\";\\textbackslash{}nmicalg=pgp-sha1;\\textbackslash{}nprotocol=\"application/pgp-signature\"'\n",
       "\\item 'multipart/signed;\\textbackslash{}nboundary=\"==\\_Exmh\\_267413022P\";\\textbackslash{}nmicalg=pgp-sha1;\\textbackslash{}nprotocol=\"application/pgp-signature\"'\n",
       "\\item 'multipart/mixed;\\textbackslash{}nboundary=\"----=\\_NextPart\\_000\\_0005\\_01C26412.7545C1D0\"'\n",
       "\\item 'multipart/alternative;\\textbackslash{}nboundary=\"------------080209060700030309080805\"'\n",
       "\\end{enumerate*}\n"
      ],
      "text/markdown": [
       "1. 'text/plain; charset=us-ascii'\n",
       "2. 'text/plain; charset=US-ASCII'\n",
       "3. 'text/plain; charset=US-ASCII'\n",
       "4. 'text/plain; charset=\"us-ascii\"'\n",
       "5. 'text/plain; charset=US-ASCII'\n",
       "6. 'multipart/signed;\\nboundary=\"==_Exmh_-1317289252P\";\\nmicalg=pgp-sha1;\\nprotocol=\"application/pgp-signature\"'\n",
       "7. NA\n",
       "8. 'multipart/alternative;\\nboundary=\"----=_NextPart_000_00C1_01C25017.F2F04E20\"'\n",
       "9. 'multipart/alternative; boundary=Apple-Mail-2-874629474'\n",
       "10. 'multipart/signed;\\nboundary=\"==_Exmh_-518574644P\";\\nmicalg=pgp-sha1;\\nprotocol=\"application/pgp-signature\"'\n",
       "11. 'multipart/related;\\nboundary=\"------------090602010909000705010009\"'\n",
       "12. 'multipart/signed;\\nboundary=\"==_Exmh_-451422450P\";\\nmicalg=pgp-sha1;\\nprotocol=\"application/pgp-signature\"'\n",
       "13. 'multipart/signed;\\nboundary=\"==_Exmh_267413022P\";\\nmicalg=pgp-sha1;\\nprotocol=\"application/pgp-signature\"'\n",
       "14. 'multipart/mixed;\\nboundary=\"----=_NextPart_000_0005_01C26412.7545C1D0\"'\n",
       "15. 'multipart/alternative;\\nboundary=\"------------080209060700030309080805\"'\n",
       "\n",
       "\n"
      ],
      "text/plain": [
       " [1] \"text/plain; charset=us-ascii\"                                                                                   \n",
       " [2] \"text/plain; charset=US-ASCII\"                                                                                   \n",
       " [3] \"text/plain; charset=US-ASCII\"                                                                                   \n",
       " [4] \"text/plain; charset=\\\"us-ascii\\\"\"                                                                               \n",
       " [5] \"text/plain; charset=US-ASCII\"                                                                                   \n",
       " [6] \"multipart/signed;\\nboundary=\\\"==_Exmh_-1317289252P\\\";\\nmicalg=pgp-sha1;\\nprotocol=\\\"application/pgp-signature\\\"\"\n",
       " [7] NA                                                                                                               \n",
       " [8] \"multipart/alternative;\\nboundary=\\\"----=_NextPart_000_00C1_01C25017.F2F04E20\\\"\"                                 \n",
       " [9] \"multipart/alternative; boundary=Apple-Mail-2-874629474\"                                                         \n",
       "[10] \"multipart/signed;\\nboundary=\\\"==_Exmh_-518574644P\\\";\\nmicalg=pgp-sha1;\\nprotocol=\\\"application/pgp-signature\\\"\" \n",
       "[11] \"multipart/related;\\nboundary=\\\"------------090602010909000705010009\\\"\"                                          \n",
       "[12] \"multipart/signed;\\nboundary=\\\"==_Exmh_-451422450P\\\";\\nmicalg=pgp-sha1;\\nprotocol=\\\"application/pgp-signature\\\"\" \n",
       "[13] \"multipart/signed;\\nboundary=\\\"==_Exmh_267413022P\\\";\\nmicalg=pgp-sha1;\\nprotocol=\\\"application/pgp-signature\\\"\"  \n",
       "[14] \"multipart/mixed;\\nboundary=\\\"----=_NextPart_000_0005_01C26412.7545C1D0\\\"\"                                       \n",
       "[15] \"multipart/alternative;\\nboundary=\\\"------------080209060700030309080805\\\"\"                                      "
      ]
     },
     "metadata": {},
     "output_type": "display_data"
    },
    {
     "data": {
      "text/html": [
       "<style>\n",
       ".list-inline {list-style: none; margin:0; padding: 0}\n",
       ".list-inline>li {display: inline-block}\n",
       ".list-inline>li:not(:last-child)::after {content: \"\\00b7\"; padding: 0 .5ex}\n",
       "</style>\n",
       "<ol class=list-inline><li>6</li><li>8</li><li>9</li><li>10</li><li>11</li><li>12</li><li>13</li><li>14</li><li>15</li></ol>\n"
      ],
      "text/latex": [
       "\\begin{enumerate*}\n",
       "\\item 6\n",
       "\\item 8\n",
       "\\item 9\n",
       "\\item 10\n",
       "\\item 11\n",
       "\\item 12\n",
       "\\item 13\n",
       "\\item 14\n",
       "\\item 15\n",
       "\\end{enumerate*}\n"
      ],
      "text/markdown": [
       "1. 6\n",
       "2. 8\n",
       "3. 9\n",
       "4. 10\n",
       "5. 11\n",
       "6. 12\n",
       "7. 13\n",
       "8. 14\n",
       "9. 15\n",
       "\n",
       "\n"
      ],
      "text/plain": [
       "[1]  6  8  9 10 11 12 13 14 15"
      ]
     },
     "metadata": {},
     "output_type": "display_data"
    },
    {
     "data": {
      "text/html": [
       "<style>\n",
       ".list-inline {list-style: none; margin:0; padding: 0}\n",
       ".list-inline>li {display: inline-block}\n",
       ".list-inline>li:not(:last-child)::after {content: \"\\00b7\"; padding: 0 .5ex}\n",
       "</style>\n",
       "<ol class=list-inline><li>'==_Exmh_-1317289252P'</li><li>'----=_NextPart_000_00C1_01C25017.F2F04E20'</li><li>'Apple-Mail-2-874629474'</li><li>'==_Exmh_-518574644P'</li><li>'------------090602010909000705010009'</li><li>'==_Exmh_-451422450P'</li><li>'==_Exmh_267413022P'</li><li>'----=_NextPart_000_0005_01C26412.7545C1D0'</li><li>'------------080209060700030309080805'</li></ol>\n"
      ],
      "text/latex": [
       "\\begin{enumerate*}\n",
       "\\item '==\\_Exmh\\_-1317289252P'\n",
       "\\item '----=\\_NextPart\\_000\\_00C1\\_01C25017.F2F04E20'\n",
       "\\item 'Apple-Mail-2-874629474'\n",
       "\\item '==\\_Exmh\\_-518574644P'\n",
       "\\item '------------090602010909000705010009'\n",
       "\\item '==\\_Exmh\\_-451422450P'\n",
       "\\item '==\\_Exmh\\_267413022P'\n",
       "\\item '----=\\_NextPart\\_000\\_0005\\_01C26412.7545C1D0'\n",
       "\\item '------------080209060700030309080805'\n",
       "\\end{enumerate*}\n"
      ],
      "text/markdown": [
       "1. '==_Exmh_-1317289252P'\n",
       "2. '----=_NextPart_000_00C1_01C25017.F2F04E20'\n",
       "3. 'Apple-Mail-2-874629474'\n",
       "4. '==_Exmh_-518574644P'\n",
       "5. '------------090602010909000705010009'\n",
       "6. '==_Exmh_-451422450P'\n",
       "7. '==_Exmh_267413022P'\n",
       "8. '----=_NextPart_000_0005_01C26412.7545C1D0'\n",
       "9. '------------080209060700030309080805'\n",
       "\n",
       "\n"
      ],
      "text/plain": [
       "[1] \"==_Exmh_-1317289252P\"                     \n",
       "[2] \"----=_NextPart_000_00C1_01C25017.F2F04E20\"\n",
       "[3] \"Apple-Mail-2-874629474\"                   \n",
       "[4] \"==_Exmh_-518574644P\"                      \n",
       "[5] \"------------090602010909000705010009\"     \n",
       "[6] \"==_Exmh_-451422450P\"                      \n",
       "[7] \"==_Exmh_267413022P\"                       \n",
       "[8] \"----=_NextPart_000_0005_01C26412.7545C1D0\"\n",
       "[9] \"------------080209060700030309080805\"     "
      ]
     },
     "metadata": {},
     "output_type": "display_data"
    },
    {
     "data": {
      "text/html": [
       "<style>\n",
       ".list-inline {list-style: none; margin:0; padding: 0}\n",
       ".list-inline>li {display: inline-block}\n",
       ".list-inline>li:not(:last-child)::after {content: \"\\00b7\"; padding: 0 .5ex}\n",
       "</style>\n",
       "<ol class=list-inline><li>2</li><li>35</li></ol>\n"
      ],
      "text/latex": [
       "\\begin{enumerate*}\n",
       "\\item 2\n",
       "\\item 35\n",
       "\\end{enumerate*}\n"
      ],
      "text/markdown": [
       "1. 2\n",
       "2. 35\n",
       "\n",
       "\n"
      ],
      "text/plain": [
       "[1]  2 35"
      ]
     },
     "metadata": {},
     "output_type": "display_data"
    },
    {
     "data": {
      "text/html": [
       "77"
      ],
      "text/latex": [
       "77"
      ],
      "text/markdown": [
       "77"
      ],
      "text/plain": [
       "[1] 77"
      ]
     },
     "metadata": {},
     "output_type": "display_data"
    },
    {
     "data": {
      "text/html": [
       "42"
      ],
      "text/latex": [
       "42"
      ],
      "text/markdown": [
       "42"
      ],
      "text/plain": [
       "[1] 42"
      ]
     },
     "metadata": {},
     "output_type": "display_data"
    }
   ],
   "source": [
    "headerList = lapply(sampleSplit, \n",
    "                    function(msg) {\n",
    "                      processHeader(msg$header)} )\n",
    "\n",
    "contentTypes = sapply(headerList, function(header) \n",
    "                                        header[\"Content-Type\"])\n",
    "names(contentTypes) = NULL\n",
    "contentTypes\n",
    "\n",
    "hasAttach = grep(\"^ *multi\", tolower(contentTypes))\n",
    "hasAttach\n",
    "\n",
    "boundaries = getBoundary(contentTypes[ hasAttach ])\n",
    "boundaries\n",
    "\n",
    "boundary = boundaries[9]\n",
    "body = sampleSplit[[15]]$body\n",
    "\n",
    "bString = paste(\"--\", boundary, sep = \"\")\n",
    "bStringLocs = which(bString == body)\n",
    "bStringLocs\n",
    "\n",
    "eString = paste(\"--\", boundary, \"--\", sep = \"\")\n",
    "eStringLoc = which(eString == body)\n",
    "eStringLoc\n",
    "\n",
    "diff(c(bStringLocs[-1], eStringLoc))"
   ]
  },
  {
   "cell_type": "code",
   "execution_count": 27,
   "metadata": {
    "scrolled": true
   },
   "outputs": [],
   "source": [
    "### This code has mistakes in it - and we fix them later!\n",
    "processAttach = function(body, contentType){\n",
    "  \n",
    "  boundary = getBoundary(contentType)\n",
    "  \n",
    "  bString = paste(\"--\", boundary, \"$\", sep = \"\")\n",
    "  bStringLocs = grep(bString, body)\n",
    "  \n",
    "  eString = paste(\"--\", boundary, \"--$\", sep = \"\")\n",
    "  eStringLoc = grep(eString, body)\n",
    "  \n",
    "  n = length(body)\n",
    "  \n",
    "  if (length(eStringLoc) == 0) eStringLoc = n + 1\n",
    "  if (length(bStringLocs) == 1) attachLocs = NULL\n",
    "  else attachLocs = c(bStringLocs[-1],  eStringLoc)\n",
    "  \n",
    "  msg = body[ (bStringLocs[1] + 1) : min(n, (bStringLocs[2] - 1), \n",
    "                                         na.rm = TRUE)]\n",
    "  \n",
    "  if ( eStringLoc < n )\n",
    "    msg = c(msg, body[ (eStringLoc + 1) : n ])\n",
    "  \n",
    "  if ( !is.null(attachLocs) ) {\n",
    "    attachLens = diff(attachLocs, lag = 1) \n",
    "    attachTypes = mapply(function(begL, endL) {\n",
    "      contentTypeLoc = grep(\"[Cc]ontent-[Tt]ype\", body[ (begL + 1) : (endL - 1)])\n",
    "      contentType = body[ begL + contentTypeLoc]\n",
    "      contentType = gsub('\"', \"\", contentType )\n",
    "      MIMEType = sub(\" *Content-Type: *([^;]*);?.*\", \"\\\\1\", contentType)\n",
    "      return(MIMEType)\n",
    "    }, attachLocs[-length(attachLocs)], attachLocs[-1])\n",
    "  }\n",
    "  \n",
    "  if (is.null(attachLocs)) return(list(body = msg, attachInfo = NULL) )\n",
    "  else return(list(body = msg, \n",
    "                   attachDF = data.frame(aLen = attachLens, \n",
    "                                         aType = attachTypes,\n",
    "                                         stringsAsFactors = FALSE)))                                \n",
    "}\n"
   ]
  },
  {
   "cell_type": "code",
   "execution_count": 28,
   "metadata": {
    "scrolled": true
   },
   "outputs": [
    {
     "data": {
      "text/html": [
       "<dl>\n",
       "\t<dt>$`./From 2ds/messages/easy_ham/00014.cb20e10b2bfcb8210a1c310798532a57`</dt>\n",
       "\t\t<dd>12</dd>\n",
       "\t<dt>$`./From 2ds/messages/easy_ham/00062.009f5a1a8fa88f0b38299ad01562bb37`</dt>\n",
       "\t\t<dd><style>\n",
       ".list-inline {list-style: none; margin:0; padding: 0}\n",
       ".list-inline>li {display: inline-block}\n",
       ".list-inline>li:not(:last-child)::after {content: \"\\00b7\"; padding: 0 .5ex}\n",
       "</style>\n",
       "<ol class=list-inline><li>44</li><li>44</li></ol>\n",
       "</dd>\n",
       "\t<dt>$`./From 2ds/messages/easy_ham/00063.0acbc484a73f0e0b727e06c100d8df7b`</dt>\n",
       "\t\t<dd>83</dd>\n",
       "\t<dt>$`./From 2ds/messages/easy_ham/0030.77828e31de08ebb58b583688b87524cc`</dt>\n",
       "\t\t<dd>12</dd>\n",
       "\t<dt>$`./From 2ds/messages/easy_ham/00368.f86324a03e7ae7070cc40f302385f5d3`</dt>\n",
       "\t\t<dd>NULL</dd>\n",
       "\t<dt>$`./From 2ds/messages/easy_ham/00389.8606961eaeef7b921ce1c53773248d69`</dt>\n",
       "\t\t<dd>12</dd>\n",
       "</dl>\n"
      ],
      "text/latex": [
       "\\begin{description}\n",
       "\\item[\\$`./From 2ds/messages/easy\\_ham/00014.cb20e10b2bfcb8210a1c310798532a57`] 12\n",
       "\\item[\\$`./From 2ds/messages/easy\\_ham/00062.009f5a1a8fa88f0b38299ad01562bb37`] \\begin{enumerate*}\n",
       "\\item 44\n",
       "\\item 44\n",
       "\\end{enumerate*}\n",
       "\n",
       "\\item[\\$`./From 2ds/messages/easy\\_ham/00063.0acbc484a73f0e0b727e06c100d8df7b`] 83\n",
       "\\item[\\$`./From 2ds/messages/easy\\_ham/0030.77828e31de08ebb58b583688b87524cc`] 12\n",
       "\\item[\\$`./From 2ds/messages/easy\\_ham/00368.f86324a03e7ae7070cc40f302385f5d3`] NULL\n",
       "\\item[\\$`./From 2ds/messages/easy\\_ham/00389.8606961eaeef7b921ce1c53773248d69`] 12\n",
       "\\end{description}\n"
      ],
      "text/markdown": [
       "$`./From 2ds/messages/easy_ham/00014.cb20e10b2bfcb8210a1c310798532a57`\n",
       ":   12\n",
       "$`./From 2ds/messages/easy_ham/00062.009f5a1a8fa88f0b38299ad01562bb37`\n",
       ":   1. 44\n",
       "2. 44\n",
       "\n",
       "\n",
       "\n",
       "$`./From 2ds/messages/easy_ham/00063.0acbc484a73f0e0b727e06c100d8df7b`\n",
       ":   83\n",
       "$`./From 2ds/messages/easy_ham/0030.77828e31de08ebb58b583688b87524cc`\n",
       ":   12\n",
       "$`./From 2ds/messages/easy_ham/00368.f86324a03e7ae7070cc40f302385f5d3`\n",
       ":   NULL\n",
       "$`./From 2ds/messages/easy_ham/00389.8606961eaeef7b921ce1c53773248d69`\n",
       ":   12\n",
       "\n",
       "\n"
      ],
      "text/plain": [
       "$`./From 2ds/messages/easy_ham/00014.cb20e10b2bfcb8210a1c310798532a57`\n",
       "[1] 12\n",
       "\n",
       "$`./From 2ds/messages/easy_ham/00062.009f5a1a8fa88f0b38299ad01562bb37`\n",
       "[1] 44 44\n",
       "\n",
       "$`./From 2ds/messages/easy_ham/00063.0acbc484a73f0e0b727e06c100d8df7b`\n",
       "[1] 83\n",
       "\n",
       "$`./From 2ds/messages/easy_ham/0030.77828e31de08ebb58b583688b87524cc`\n",
       "[1] 12\n",
       "\n",
       "$`./From 2ds/messages/easy_ham/00368.f86324a03e7ae7070cc40f302385f5d3`\n",
       "NULL\n",
       "\n",
       "$`./From 2ds/messages/easy_ham/00389.8606961eaeef7b921ce1c53773248d69`\n",
       "[1] 12\n"
      ]
     },
     "metadata": {},
     "output_type": "display_data"
    },
    {
     "data": {
      "text/html": [
       "<table>\n",
       "<caption>A data.frame: 2 × 2</caption>\n",
       "<thead>\n",
       "\t<tr><th scope=col>aLen</th><th scope=col>aType</th></tr>\n",
       "\t<tr><th scope=col>&lt;int&gt;</th><th scope=col>&lt;chr&gt;</th></tr>\n",
       "</thead>\n",
       "<tbody>\n",
       "\t<tr><td>44</td><td>text/html                                             </td></tr>\n",
       "\t<tr><td>44</td><td>&lt;META http-equiv=3DContent-Type content=3Dtext/html; =</td></tr>\n",
       "</tbody>\n",
       "</table>\n"
      ],
      "text/latex": [
       "A data.frame: 2 × 2\n",
       "\\begin{tabular}{ll}\n",
       " aLen & aType\\\\\n",
       " <int> & <chr>\\\\\n",
       "\\hline\n",
       "\t 44 & text/html                                             \\\\\n",
       "\t 44 & <META http-equiv=3DContent-Type content=3Dtext/html; =\\\\\n",
       "\\end{tabular}\n"
      ],
      "text/markdown": [
       "\n",
       "A data.frame: 2 × 2\n",
       "\n",
       "| aLen &lt;int&gt; | aType &lt;chr&gt; |\n",
       "|---|---|\n",
       "| 44 | text/html                                              |\n",
       "| 44 | &lt;META http-equiv=3DContent-Type content=3Dtext/html; = |\n",
       "\n"
      ],
      "text/plain": [
       "  aLen aType                                                 \n",
       "1 44   text/html                                             \n",
       "2 44   <META http-equiv=3DContent-Type content=3Dtext/html; ="
      ]
     },
     "metadata": {},
     "output_type": "display_data"
    },
    {
     "data": {
      "text/html": [
       "86"
      ],
      "text/latex": [
       "86"
      ],
      "text/markdown": [
       "86"
      ],
      "text/plain": [
       "[1] 86"
      ]
     },
     "metadata": {},
     "output_type": "display_data"
    },
    {
     "data": {
      "text/html": [
       "<style>\n",
       ".list-inline {list-style: none; margin:0; padding: 0}\n",
       ".list-inline>li {display: inline-block}\n",
       ".list-inline>li:not(:last-child)::after {content: \"\\00b7\"; padding: 0 .5ex}\n",
       "</style>\n",
       "<ol class=list-inline><li>''</li><li>'------=_NextPart_000_00C1_01C25017.F2F04E20'</li><li>'Content-Type: text/html;'</li><li>'\\tcharset=\"Windows-1252\"'</li><li>'Content-Transfer-Encoding: quoted-printable'</li><li>''</li><li>'&lt;!DOCTYPE HTML PUBLIC \"-//W3C//DTD HTML 4.0 Transitional//EN\"&gt;'</li><li>'&lt;HTML&gt;&lt;HEAD&gt;'</li><li>'&lt;META http-equiv=3DContent-Type content=3D\"text/html; ='</li><li>'charset=3Dwindows-1252\"&gt;'</li><li>'&lt;META content=3D\"MSHTML 6.00.2716.2200\" name=3DGENERATOR&gt;'</li></ol>\n"
      ],
      "text/latex": [
       "\\begin{enumerate*}\n",
       "\\item ''\n",
       "\\item '------=\\_NextPart\\_000\\_00C1\\_01C25017.F2F04E20'\n",
       "\\item 'Content-Type: text/html;'\n",
       "\\item '\\textbackslash{}tcharset=\"Windows-1252\"'\n",
       "\\item 'Content-Transfer-Encoding: quoted-printable'\n",
       "\\item ''\n",
       "\\item '<!DOCTYPE HTML PUBLIC \"-//W3C//DTD HTML 4.0 Transitional//EN\">'\n",
       "\\item '<HTML><HEAD>'\n",
       "\\item '<META http-equiv=3DContent-Type content=3D\"text/html; ='\n",
       "\\item 'charset=3Dwindows-1252\">'\n",
       "\\item '<META content=3D\"MSHTML 6.00.2716.2200\" name=3DGENERATOR>'\n",
       "\\end{enumerate*}\n"
      ],
      "text/markdown": [
       "1. ''\n",
       "2. '------=_NextPart_000_00C1_01C25017.F2F04E20'\n",
       "3. 'Content-Type: text/html;'\n",
       "4. '\\tcharset=\"Windows-1252\"'\n",
       "5. 'Content-Transfer-Encoding: quoted-printable'\n",
       "6. ''\n",
       "7. '&lt;!DOCTYPE HTML PUBLIC \"-//W3C//DTD HTML 4.0 Transitional//EN\"&gt;'\n",
       "8. '&lt;HTML&gt;&lt;HEAD&gt;'\n",
       "9. '&lt;META http-equiv=3DContent-Type content=3D\"text/html; ='\n",
       "10. 'charset=3Dwindows-1252\"&gt;'\n",
       "11. '&lt;META content=3D\"MSHTML 6.00.2716.2200\" name=3DGENERATOR&gt;'\n",
       "\n",
       "\n"
      ],
      "text/plain": [
       " [1] \"\"                                                                \n",
       " [2] \"------=_NextPart_000_00C1_01C25017.F2F04E20\"                     \n",
       " [3] \"Content-Type: text/html;\"                                        \n",
       " [4] \"\\tcharset=\\\"Windows-1252\\\"\"                                       \n",
       " [5] \"Content-Transfer-Encoding: quoted-printable\"                     \n",
       " [6] \"\"                                                                \n",
       " [7] \"<!DOCTYPE HTML PUBLIC \\\"-//W3C//DTD HTML 4.0 Transitional//EN\\\">\"\n",
       " [8] \"<HTML><HEAD>\"                                                    \n",
       " [9] \"<META http-equiv=3DContent-Type content=3D\\\"text/html; =\"        \n",
       "[10] \"charset=3Dwindows-1252\\\">\"                                       \n",
       "[11] \"<META content=3D\\\"MSHTML 6.00.2716.2200\\\" name=3DGENERATOR>\"     "
      ]
     },
     "metadata": {},
     "output_type": "display_data"
    }
   ],
   "source": [
    "bodyList = lapply(sampleSplit, function(msg) msg$body)\n",
    "attList = mapply(processAttach, bodyList[hasAttach], \n",
    "                 contentTypes[hasAttach], \n",
    "                 SIMPLIFY = FALSE)\n",
    "\n",
    "lens = sapply(attList, function(processedA) \n",
    "                           processedA$attachDF$aLen)\n",
    "head(lens)  # will cause an error with the first message. its ok.\n",
    "attList[[2]]$attachDF\n",
    "\n",
    "body = bodyList[hasAttach][[2]]\n",
    "length(body)\n",
    "\n",
    "body[35:45]"
   ]
  },
  {
   "cell_type": "code",
   "execution_count": 29,
   "metadata": {
    "scrolled": true
   },
   "outputs": [],
   "source": [
    "processAttach = function(body, contentType){\n",
    "\n",
    "  n = length(body)\n",
    "  boundary = getBoundary(contentType)\n",
    " \n",
    "  bString = paste(\"--\", boundary, sep = \"\")\n",
    "  bStringLocs = which(bString == body)\n",
    "  eString = paste(\"--\", boundary, \"--\", sep = \"\")\n",
    "  eStringLoc = which(eString == body)\n",
    "  \n",
    "  if (length(eStringLoc) == 0) eStringLoc = n\n",
    "  if (length(bStringLocs) <= 1) {\n",
    "    attachLocs = NULL\n",
    "    msgLastLine = n\n",
    "    if (length(bStringLocs) == 0) bStringLocs = 0\n",
    "  } else {\n",
    "    attachLocs = c(bStringLocs[ -1 ],  eStringLoc)\n",
    "    msgLastLine = bStringLocs[2] - 1\n",
    "  }\n",
    "  \n",
    "  msg = body[ (bStringLocs[1] + 1) : msgLastLine] \n",
    "  if ( eStringLoc < n )\n",
    "    msg = c(msg, body[ (eStringLoc + 1) : n ])\n",
    "  \n",
    "  if ( !is.null(attachLocs) ) {\n",
    "    attachLens = diff(attachLocs, lag = 1) \n",
    "    attachTypes = mapply(function(begL, endL) {\n",
    "      CTloc = grep(\"^[Cc]ontent-[Tt]ype\", body[ (begL + 1) : (endL - 1)])\n",
    "      if ( length(CTloc) == 0 ) {\n",
    "        MIMEType = NA\n",
    "      } else {\n",
    "        CTval = body[ begL + CTloc[1] ]\n",
    "        CTval = gsub('\"', \"\", CTval )\n",
    "        MIMEType = sub(\" *[Cc]ontent-[Tt]ype: *([^;]*);?.*\", \"\\\\1\", CTval)   \n",
    "      }\n",
    "      return(MIMEType)\n",
    "    }, attachLocs[-length(attachLocs)], attachLocs[-1])\n",
    "  }\n",
    "  \n",
    "  if (is.null(attachLocs)) return(list(body = msg, attachDF = NULL) )\n",
    "  return(list(body = msg, \n",
    "             attachDF = data.frame(aLen = attachLens, \n",
    "                                     aType = unlist(attachTypes),\n",
    "                                     stringsAsFactors = FALSE)))                                \n",
    "}                       \n",
    "\n",
    "readEmail = function(dirName) {\n",
    "       # retrieve the names of files in directory\n",
    "  fileNames = list.files(dirName, full.names = TRUE)\n",
    "       # drop files that are not email\n",
    "  notEmail = grep(\"cmds$\", fileNames)\n",
    "  if ( length(notEmail) > 0) fileNames = fileNames[ - notEmail ]\n",
    "\n",
    "       # read all files in the directory\n",
    "  lapply(fileNames, readLines, encoding = \"latin1\")\n",
    "}\n",
    "\n"
   ]
  },
  {
   "cell_type": "code",
   "execution_count": 30,
   "metadata": {
    "scrolled": true
   },
   "outputs": [],
   "source": [
    "processAllEmail = function(dirName, isSpam = FALSE)\n",
    "{\n",
    "       # read all files in the directory\n",
    "  messages = readEmail(dirName)\n",
    "  fileNames = names(messages)\n",
    "  n = length(messages)\n",
    "  \n",
    "       # split header from body\n",
    "  eSplit = lapply(messages, splitMessage)\n",
    "  rm(messages)\n",
    "\n",
    "       # process header as named character vector\n",
    "  headerList = lapply(eSplit, function(msg) \n",
    "                                 processHeader(msg$header))\n",
    "  \n",
    "       # extract content-type key\n",
    "  contentTypes = sapply(headerList, function(header) \n",
    "                                       header[\"Content-Type\"])\n",
    "  \n",
    "       # extract the body\n",
    "  bodyList = lapply(eSplit, function(msg) msg$body)\n",
    "  rm(eSplit)\n",
    "\n",
    "       # which email have attachments\n",
    "  hasAttach = grep(\"^ *multi\", tolower(contentTypes))\n",
    "\n",
    "       # get summary stats for attachments and the shorter body\n",
    "  attList = mapply(processAttach, bodyList[hasAttach], \n",
    "                   contentTypes[hasAttach], SIMPLIFY = FALSE)\n",
    "  \n",
    "  bodyList[hasAttach] = lapply(attList, function(attEl) \n",
    "                                           attEl$body)\n",
    " \n",
    "  attachInfo = vector(\"list\", length = n )\n",
    "  attachInfo[ hasAttach ] = lapply(attList, \n",
    "                                  function(attEl) attEl$attachDF)\n",
    " \n",
    "       # prepare return structure\n",
    "  emailList = mapply(function(header, body, attach, isSpam) {\n",
    "                       list(isSpam = isSpam, header = header, \n",
    "                            body = body, attach = attach)\n",
    "                     },\n",
    "                     headerList, bodyList, attachInfo, \n",
    "                     rep(isSpam, n), SIMPLIFY = FALSE )\n",
    "  names(emailList) = fileNames\n",
    "  \n",
    "  invisible(emailList)\n",
    "}"
   ]
  },
  {
   "cell_type": "code",
   "execution_count": 31,
   "metadata": {
    "scrolled": true
   },
   "outputs": [
    {
     "name": "stderr",
     "output_type": "stream",
     "text": [
      "Warning message in FUN(X[[i]], ...):\n",
      "\"incomplete final line found on './From 2ds/messages/hard_ham/00228.0eaef7857bbbf3ebf5edbbdae2b30493'\"\n",
      "Warning message in FUN(X[[i]], ...):\n",
      "\"incomplete final line found on './From 2ds/messages/hard_ham/0231.7c6cc716ce3f3bfad7130dd3c8d7b072'\"\n",
      "Warning message in FUN(X[[i]], ...):\n",
      "\"incomplete final line found on './From 2ds/messages/hard_ham/0250.7c6cc716ce3f3bfad7130dd3c8d7b072'\"\n",
      "Warning message in FUN(X[[i]], ...):\n",
      "\"incomplete final line found on './From 2ds/messages/spam/00136.faa39d8e816c70f23b4bb8758d8a74f0'\"\n",
      "Warning message in FUN(X[[i]], ...):\n",
      "\"incomplete final line found on './From 2ds/messages/spam/0143.260a940290dcb61f9327b224a368d4af'\"\n"
     ]
    },
    {
     "data": {
      "text/html": [
       "FALSE"
      ],
      "text/latex": [
       "FALSE"
      ],
      "text/markdown": [
       "FALSE"
      ],
      "text/plain": [
       "[1] FALSE"
      ]
     },
     "metadata": {},
     "output_type": "display_data"
    },
    {
     "data": {
      "text/html": [
       "<style>\n",
       ".list-inline {list-style: none; margin:0; padding: 0}\n",
       ".list-inline>li {display: inline-block}\n",
       ".list-inline>li:not(:last-child)::after {content: \"\\00b7\"; padding: 0 .5ex}\n",
       "</style>\n",
       "<ol class=list-inline><li>FALSE</li><li>FALSE</li><li>TRUE</li></ol>\n"
      ],
      "text/latex": [
       "\\begin{enumerate*}\n",
       "\\item FALSE\n",
       "\\item FALSE\n",
       "\\item TRUE\n",
       "\\end{enumerate*}\n"
      ],
      "text/markdown": [
       "1. FALSE\n",
       "2. FALSE\n",
       "3. TRUE\n",
       "\n",
       "\n"
      ],
      "text/plain": [
       "[1] FALSE FALSE  TRUE"
      ]
     },
     "metadata": {},
     "output_type": "display_data"
    },
    {
     "data": {
      "text/html": [
       "<style>\n",
       ".list-inline {list-style: none; margin:0; padding: 0}\n",
       ".list-inline>li {display: inline-block}\n",
       ".list-inline>li:not(:last-child)::after {content: \"\\00b7\"; padding: 0 .5ex}\n",
       "</style>\n",
       "<ol class=list-inline><li>'DEARMADAME'</li><li>'WINNER'</li><li>''</li></ol>\n"
      ],
      "text/latex": [
       "\\begin{enumerate*}\n",
       "\\item 'DEARMADAME'\n",
       "\\item 'WINNER'\n",
       "\\item ''\n",
       "\\end{enumerate*}\n"
      ],
      "text/markdown": [
       "1. 'DEARMADAME'\n",
       "2. 'WINNER'\n",
       "3. ''\n",
       "\n",
       "\n"
      ],
      "text/plain": [
       "[1] \"DEARMADAME\" \"WINNER\"     \"\"          "
      ]
     },
     "metadata": {},
     "output_type": "display_data"
    },
    {
     "data": {
      "text/html": [
       "<style>\n",
       ".list-inline {list-style: none; margin:0; padding: 0}\n",
       ".list-inline>li {display: inline-block}\n",
       ".list-inline>li:not(:last-child)::after {content: \"\\00b7\"; padding: 0 .5ex}\n",
       "</style>\n",
       "<ol class=list-inline><li>'DEARMADAME'</li><li>'WINNER'</li><li>''</li></ol>\n"
      ],
      "text/latex": [
       "\\begin{enumerate*}\n",
       "\\item 'DEARMADAME'\n",
       "\\item 'WINNER'\n",
       "\\item ''\n",
       "\\end{enumerate*}\n"
      ],
      "text/markdown": [
       "1. 'DEARMADAME'\n",
       "2. 'WINNER'\n",
       "3. ''\n",
       "\n",
       "\n"
      ],
      "text/plain": [
       "[1] \"DEARMADAME\" \"WINNER\"     \"\"          "
      ]
     },
     "metadata": {},
     "output_type": "display_data"
    }
   ],
   "source": [
    "emailStruct = mapply(processAllEmail, fullDirNames,\n",
    "                     isSpam = rep( c(FALSE, TRUE), 3:2))      \n",
    "emailStruct = unlist(emailStruct, recursive = FALSE)\n",
    "\n",
    "sampleStruct = emailStruct[ indx ]\n",
    "\n",
    "save(emailStruct, file=\"emailXX.rda\")\n",
    "\n",
    "header = sampleStruct[[1]]$header\n",
    "subject = header[\"Subject\"]\n",
    "els = strsplit(subject, \"\")\n",
    "all(els %in% LETTERS)\n",
    "\n",
    "testSubject = c(\"DEAR MADAME\", \"WINNER!\", \"\")\n",
    "\n",
    "els = strsplit(testSubject, \"\")\n",
    "sapply(els, function(subject) all(subject %in% LETTERS))\n",
    "\n",
    "\n",
    "gsub(\"[[:punct:] ]\", \"\", testSubject)\n",
    "\n",
    "gsub(\"[^[:alpha:]]\", \"\", testSubject)\n"
   ]
  },
  {
   "cell_type": "code",
   "execution_count": 32,
   "metadata": {
    "scrolled": true
   },
   "outputs": [],
   "source": [
    "isYelling = function(msg) {\n",
    "  if ( \"Subject\" %in% names(msg$header) ) {\n",
    "     el = gsub(\"[^[:alpha:]]\", \"\", msg$header[\"Subject\"])\n",
    "     if (nchar(el) > 0) \n",
    "        nchar(gsub(\"[A-Z]\", \"\", el)) < 1\n",
    "     else \n",
    "        FALSE\n",
    "  } else \n",
    "    NA\n",
    "}\n",
    "\n",
    "perCaps =\n",
    "function(msg)\n",
    "{\n",
    "  body = paste(msg$body, collapse = \"\")\n",
    "\n",
    "       # Return NA if the body of the message is \"empty\"\n",
    "  if(length(body) == 0 || nchar(body) == 0) return(NA)\n",
    "\n",
    "       # Eliminate non-alpha characters\n",
    "  body = gsub(\"[^[:alpha:]]\", \"\", body)\n",
    "  capText = gsub(\"[^A-Z]\", \"\", body)\n",
    "  100 * nchar(capText)/nchar(body)\n",
    "}\n"
   ]
  },
  {
   "cell_type": "code",
   "execution_count": 33,
   "metadata": {
    "scrolled": true
   },
   "outputs": [
    {
     "data": {
      "text/html": [
       "<style>\n",
       ".dl-inline {width: auto; margin:0; padding: 0}\n",
       ".dl-inline>dt, .dl-inline>dd {float: none; width: auto; display: inline-block}\n",
       ".dl-inline>dt::after {content: \":\\0020\"; padding-right: .5ex}\n",
       ".dl-inline>dt:not(:first-of-type) {padding-left: .5ex}\n",
       "</style><dl class=dl-inline><dt>./From 2ds/messages/easy_ham1</dt><dd>4.45103857566766</dd><dt>./From 2ds/messages/easy_ham2</dt><dd>7.49128919860627</dd><dt>./From 2ds/messages/easy_ham3</dt><dd>7.43609604957397</dd><dt>./From 2ds/messages/easy_ham4</dt><dd>5.09090909090909</dd><dt>./From 2ds/messages/easy_ham5</dt><dd>6.11664295874822</dd><dt>./From 2ds/messages/easy_ham15</dt><dd>7.73286467486819</dd><dt>./From 2ds/messages/easy_ham27</dt><dd>5.52325581395349</dd><dt>./From 2ds/messages/easy_ham68</dt><dd>10.0591715976331</dd><dt>./From 2ds/messages/easy_ham69</dt><dd>10.8858057630736</dd><dt>./From 2ds/messages/easy_ham329</dt><dd>6.47249190938511</dd><dt>./From 2ds/messages/easy_ham404</dt><dd>9.59725792630677</dd><dt>./From 2ds/messages/easy_ham427</dt><dd>11.9700748129676</dd><dt>./From 2ds/messages/easy_ham516</dt><dd>9.23379174852652</dd><dt>./From 2ds/messages/easy_ham852</dt><dd>1.65562913907285</dd><dt>./From 2ds/messages/easy_ham971</dt><dd>6.41791044776119</dd></dl>\n"
      ],
      "text/latex": [
       "\\begin{description*}\n",
       "\\item[./From 2ds/messages/easy\\textbackslash{}\\_ham1] 4.45103857566766\n",
       "\\item[./From 2ds/messages/easy\\textbackslash{}\\_ham2] 7.49128919860627\n",
       "\\item[./From 2ds/messages/easy\\textbackslash{}\\_ham3] 7.43609604957397\n",
       "\\item[./From 2ds/messages/easy\\textbackslash{}\\_ham4] 5.09090909090909\n",
       "\\item[./From 2ds/messages/easy\\textbackslash{}\\_ham5] 6.11664295874822\n",
       "\\item[./From 2ds/messages/easy\\textbackslash{}\\_ham15] 7.73286467486819\n",
       "\\item[./From 2ds/messages/easy\\textbackslash{}\\_ham27] 5.52325581395349\n",
       "\\item[./From 2ds/messages/easy\\textbackslash{}\\_ham68] 10.0591715976331\n",
       "\\item[./From 2ds/messages/easy\\textbackslash{}\\_ham69] 10.8858057630736\n",
       "\\item[./From 2ds/messages/easy\\textbackslash{}\\_ham329] 6.47249190938511\n",
       "\\item[./From 2ds/messages/easy\\textbackslash{}\\_ham404] 9.59725792630677\n",
       "\\item[./From 2ds/messages/easy\\textbackslash{}\\_ham427] 11.9700748129676\n",
       "\\item[./From 2ds/messages/easy\\textbackslash{}\\_ham516] 9.23379174852652\n",
       "\\item[./From 2ds/messages/easy\\textbackslash{}\\_ham852] 1.65562913907285\n",
       "\\item[./From 2ds/messages/easy\\textbackslash{}\\_ham971] 6.41791044776119\n",
       "\\end{description*}\n"
      ],
      "text/markdown": [
       "./From 2ds/messages/easy_ham1\n",
       ":   4.45103857566766./From 2ds/messages/easy_ham2\n",
       ":   7.49128919860627./From 2ds/messages/easy_ham3\n",
       ":   7.43609604957397./From 2ds/messages/easy_ham4\n",
       ":   5.09090909090909./From 2ds/messages/easy_ham5\n",
       ":   6.11664295874822./From 2ds/messages/easy_ham15\n",
       ":   7.73286467486819./From 2ds/messages/easy_ham27\n",
       ":   5.52325581395349./From 2ds/messages/easy_ham68\n",
       ":   10.0591715976331./From 2ds/messages/easy_ham69\n",
       ":   10.8858057630736./From 2ds/messages/easy_ham329\n",
       ":   6.47249190938511./From 2ds/messages/easy_ham404\n",
       ":   9.59725792630677./From 2ds/messages/easy_ham427\n",
       ":   11.9700748129676./From 2ds/messages/easy_ham516\n",
       ":   9.23379174852652./From 2ds/messages/easy_ham852\n",
       ":   1.65562913907285./From 2ds/messages/easy_ham971\n",
       ":   6.41791044776119\n",
       "\n"
      ],
      "text/plain": [
       "  ./From 2ds/messages/easy_ham1   ./From 2ds/messages/easy_ham2 \n",
       "                       4.451039                        7.491289 \n",
       "  ./From 2ds/messages/easy_ham3   ./From 2ds/messages/easy_ham4 \n",
       "                       7.436096                        5.090909 \n",
       "  ./From 2ds/messages/easy_ham5  ./From 2ds/messages/easy_ham15 \n",
       "                       6.116643                        7.732865 \n",
       " ./From 2ds/messages/easy_ham27  ./From 2ds/messages/easy_ham68 \n",
       "                       5.523256                       10.059172 \n",
       " ./From 2ds/messages/easy_ham69 ./From 2ds/messages/easy_ham329 \n",
       "                      10.885806                        6.472492 \n",
       "./From 2ds/messages/easy_ham404 ./From 2ds/messages/easy_ham427 \n",
       "                       9.597258                       11.970075 \n",
       "./From 2ds/messages/easy_ham516 ./From 2ds/messages/easy_ham852 \n",
       "                       9.233792                        1.655629 \n",
       "./From 2ds/messages/easy_ham971 \n",
       "                       6.417910 "
      ]
     },
     "metadata": {},
     "output_type": "display_data"
    }
   ],
   "source": [
    "sapply(sampleStruct, perCaps)\n",
    "\n",
    "funcList = list( \n",
    " isRe = function(msg) {\n",
    "       \"Subject\" %in% names(msg$header) &&\n",
    "         length(grep(\"^[ \\t]*Re:\", msg$header[[\"Subject\"]])) > 0\n",
    "  },\n",
    "  numLines = function(msg) \n",
    "                length(msg$body),\n",
    "  isYelling = function(msg) {\n",
    "    if ( \"Subject\" %in% names(msg$header) ) {\n",
    "       el = gsub(\"[^[:alpha:]]\", \"\", msg$header[\"Subject\"])\n",
    "       if (nchar(el) > 0) \n",
    "         nchar(gsub(\"[A-Z]\", \"\", el)) < 1\n",
    "       else \n",
    "         FALSE\n",
    "    }\n",
    "    else NA\n",
    "  },\n",
    "  perCaps = function(msg) {\n",
    "    body = paste(msg$body, collapse = \"\")\n",
    "\n",
    "         # Return NA if the body of the message is \"empty\"\n",
    "    if(length(body) == 0 || nchar(body) == 0) return(NA)\n",
    "\n",
    "         # Eliminate non-alpha characters\n",
    "    body = gsub(\"[^[:alpha:]]\", \"\", body)\n",
    "    capText = gsub(\"[^A-Z]\", \"\", body)\n",
    "    100 * nchar(capText)/nchar(body)\n",
    "  }\n",
    ")"
   ]
  },
  {
   "cell_type": "code",
   "execution_count": 34,
   "metadata": {
    "scrolled": false
   },
   "outputs": [
    {
     "data": {
      "text/html": [
       "<dl>\n",
       "\t<dt>$isRe</dt>\n",
       "\t\t<dd><style>\n",
       ".dl-inline {width: auto; margin:0; padding: 0}\n",
       ".dl-inline>dt, .dl-inline>dd {float: none; width: auto; display: inline-block}\n",
       ".dl-inline>dt::after {content: \":\\0020\"; padding-right: .5ex}\n",
       ".dl-inline>dt:not(:first-of-type) {padding-left: .5ex}\n",
       "</style><dl class=dl-inline><dt>./From 2ds/messages/easy_ham1</dt><dd>TRUE</dd><dt>./From 2ds/messages/easy_ham2</dt><dd>FALSE</dd><dt>./From 2ds/messages/easy_ham3</dt><dd>FALSE</dd><dt>./From 2ds/messages/easy_ham4</dt><dd>FALSE</dd><dt>./From 2ds/messages/easy_ham5</dt><dd>TRUE</dd><dt>./From 2ds/messages/easy_ham15</dt><dd>TRUE</dd><dt>./From 2ds/messages/easy_ham27</dt><dd>TRUE</dd><dt>./From 2ds/messages/easy_ham68</dt><dd>FALSE</dd><dt>./From 2ds/messages/easy_ham69</dt><dd>TRUE</dd><dt>./From 2ds/messages/easy_ham329</dt><dd>TRUE</dd><dt>./From 2ds/messages/easy_ham404</dt><dd>TRUE</dd><dt>./From 2ds/messages/easy_ham427</dt><dd>TRUE</dd><dt>./From 2ds/messages/easy_ham516</dt><dd>TRUE</dd><dt>./From 2ds/messages/easy_ham852</dt><dd>FALSE</dd><dt>./From 2ds/messages/easy_ham971</dt><dd>TRUE</dd></dl>\n",
       "</dd>\n",
       "\t<dt>$numLines</dt>\n",
       "\t\t<dd><style>\n",
       ".dl-inline {width: auto; margin:0; padding: 0}\n",
       ".dl-inline>dt, .dl-inline>dd {float: none; width: auto; display: inline-block}\n",
       ".dl-inline>dt::after {content: \":\\0020\"; padding-right: .5ex}\n",
       ".dl-inline>dt:not(:first-of-type) {padding-left: .5ex}\n",
       "</style><dl class=dl-inline><dt>./From 2ds/messages/easy_ham1</dt><dd>50</dd><dt>./From 2ds/messages/easy_ham2</dt><dd>26</dd><dt>./From 2ds/messages/easy_ham3</dt><dd>38</dd><dt>./From 2ds/messages/easy_ham4</dt><dd>32</dd><dt>./From 2ds/messages/easy_ham5</dt><dd>31</dd><dt>./From 2ds/messages/easy_ham15</dt><dd>54</dd><dt>./From 2ds/messages/easy_ham27</dt><dd>35</dd><dt>./From 2ds/messages/easy_ham68</dt><dd>36</dd><dt>./From 2ds/messages/easy_ham69</dt><dd>65</dd><dt>./From 2ds/messages/easy_ham329</dt><dd>58</dd><dt>./From 2ds/messages/easy_ham404</dt><dd>70</dd><dt>./From 2ds/messages/easy_ham427</dt><dd>31</dd><dt>./From 2ds/messages/easy_ham516</dt><dd>38</dd><dt>./From 2ds/messages/easy_ham852</dt><dd>28</dd><dt>./From 2ds/messages/easy_ham971</dt><dd>34</dd></dl>\n",
       "</dd>\n",
       "\t<dt>$isYelling</dt>\n",
       "\t\t<dd><style>\n",
       ".dl-inline {width: auto; margin:0; padding: 0}\n",
       ".dl-inline>dt, .dl-inline>dd {float: none; width: auto; display: inline-block}\n",
       ".dl-inline>dt::after {content: \":\\0020\"; padding-right: .5ex}\n",
       ".dl-inline>dt:not(:first-of-type) {padding-left: .5ex}\n",
       "</style><dl class=dl-inline><dt>./From 2ds/messages/easy_ham1.Subject</dt><dd>FALSE</dd><dt>./From 2ds/messages/easy_ham2.Subject</dt><dd>FALSE</dd><dt>./From 2ds/messages/easy_ham3.Subject</dt><dd>FALSE</dd><dt>./From 2ds/messages/easy_ham4.Subject</dt><dd>FALSE</dd><dt>./From 2ds/messages/easy_ham5.Subject</dt><dd>FALSE</dd><dt>./From 2ds/messages/easy_ham15.Subject</dt><dd>FALSE</dd><dt>./From 2ds/messages/easy_ham27.Subject</dt><dd>FALSE</dd><dt>./From 2ds/messages/easy_ham68.Subject</dt><dd>FALSE</dd><dt>./From 2ds/messages/easy_ham69.Subject</dt><dd>FALSE</dd><dt>./From 2ds/messages/easy_ham329.Subject</dt><dd>FALSE</dd><dt>./From 2ds/messages/easy_ham404.Subject</dt><dd>FALSE</dd><dt>./From 2ds/messages/easy_ham427.Subject</dt><dd>FALSE</dd><dt>./From 2ds/messages/easy_ham516.Subject</dt><dd>FALSE</dd><dt>./From 2ds/messages/easy_ham852.Subject</dt><dd>FALSE</dd><dt>./From 2ds/messages/easy_ham971.Subject</dt><dd>FALSE</dd></dl>\n",
       "</dd>\n",
       "\t<dt>$perCaps</dt>\n",
       "\t\t<dd><style>\n",
       ".dl-inline {width: auto; margin:0; padding: 0}\n",
       ".dl-inline>dt, .dl-inline>dd {float: none; width: auto; display: inline-block}\n",
       ".dl-inline>dt::after {content: \":\\0020\"; padding-right: .5ex}\n",
       ".dl-inline>dt:not(:first-of-type) {padding-left: .5ex}\n",
       "</style><dl class=dl-inline><dt>./From 2ds/messages/easy_ham1</dt><dd>4.45103857566766</dd><dt>./From 2ds/messages/easy_ham2</dt><dd>7.49128919860627</dd><dt>./From 2ds/messages/easy_ham3</dt><dd>7.43609604957397</dd><dt>./From 2ds/messages/easy_ham4</dt><dd>5.09090909090909</dd><dt>./From 2ds/messages/easy_ham5</dt><dd>6.11664295874822</dd><dt>./From 2ds/messages/easy_ham15</dt><dd>7.73286467486819</dd><dt>./From 2ds/messages/easy_ham27</dt><dd>5.52325581395349</dd><dt>./From 2ds/messages/easy_ham68</dt><dd>10.0591715976331</dd><dt>./From 2ds/messages/easy_ham69</dt><dd>10.8858057630736</dd><dt>./From 2ds/messages/easy_ham329</dt><dd>6.47249190938511</dd><dt>./From 2ds/messages/easy_ham404</dt><dd>9.59725792630677</dd><dt>./From 2ds/messages/easy_ham427</dt><dd>11.9700748129676</dd><dt>./From 2ds/messages/easy_ham516</dt><dd>9.23379174852652</dd><dt>./From 2ds/messages/easy_ham852</dt><dd>1.65562913907285</dd><dt>./From 2ds/messages/easy_ham971</dt><dd>6.41791044776119</dd></dl>\n",
       "</dd>\n",
       "</dl>\n"
      ],
      "text/latex": [
       "\\begin{description}\n",
       "\\item[\\$isRe] \\begin{description*}\n",
       "\\item[./From 2ds/messages/easy\\textbackslash{}\\_ham1] TRUE\n",
       "\\item[./From 2ds/messages/easy\\textbackslash{}\\_ham2] FALSE\n",
       "\\item[./From 2ds/messages/easy\\textbackslash{}\\_ham3] FALSE\n",
       "\\item[./From 2ds/messages/easy\\textbackslash{}\\_ham4] FALSE\n",
       "\\item[./From 2ds/messages/easy\\textbackslash{}\\_ham5] TRUE\n",
       "\\item[./From 2ds/messages/easy\\textbackslash{}\\_ham15] TRUE\n",
       "\\item[./From 2ds/messages/easy\\textbackslash{}\\_ham27] TRUE\n",
       "\\item[./From 2ds/messages/easy\\textbackslash{}\\_ham68] FALSE\n",
       "\\item[./From 2ds/messages/easy\\textbackslash{}\\_ham69] TRUE\n",
       "\\item[./From 2ds/messages/easy\\textbackslash{}\\_ham329] TRUE\n",
       "\\item[./From 2ds/messages/easy\\textbackslash{}\\_ham404] TRUE\n",
       "\\item[./From 2ds/messages/easy\\textbackslash{}\\_ham427] TRUE\n",
       "\\item[./From 2ds/messages/easy\\textbackslash{}\\_ham516] TRUE\n",
       "\\item[./From 2ds/messages/easy\\textbackslash{}\\_ham852] FALSE\n",
       "\\item[./From 2ds/messages/easy\\textbackslash{}\\_ham971] TRUE\n",
       "\\end{description*}\n",
       "\n",
       "\\item[\\$numLines] \\begin{description*}\n",
       "\\item[./From 2ds/messages/easy\\textbackslash{}\\_ham1] 50\n",
       "\\item[./From 2ds/messages/easy\\textbackslash{}\\_ham2] 26\n",
       "\\item[./From 2ds/messages/easy\\textbackslash{}\\_ham3] 38\n",
       "\\item[./From 2ds/messages/easy\\textbackslash{}\\_ham4] 32\n",
       "\\item[./From 2ds/messages/easy\\textbackslash{}\\_ham5] 31\n",
       "\\item[./From 2ds/messages/easy\\textbackslash{}\\_ham15] 54\n",
       "\\item[./From 2ds/messages/easy\\textbackslash{}\\_ham27] 35\n",
       "\\item[./From 2ds/messages/easy\\textbackslash{}\\_ham68] 36\n",
       "\\item[./From 2ds/messages/easy\\textbackslash{}\\_ham69] 65\n",
       "\\item[./From 2ds/messages/easy\\textbackslash{}\\_ham329] 58\n",
       "\\item[./From 2ds/messages/easy\\textbackslash{}\\_ham404] 70\n",
       "\\item[./From 2ds/messages/easy\\textbackslash{}\\_ham427] 31\n",
       "\\item[./From 2ds/messages/easy\\textbackslash{}\\_ham516] 38\n",
       "\\item[./From 2ds/messages/easy\\textbackslash{}\\_ham852] 28\n",
       "\\item[./From 2ds/messages/easy\\textbackslash{}\\_ham971] 34\n",
       "\\end{description*}\n",
       "\n",
       "\\item[\\$isYelling] \\begin{description*}\n",
       "\\item[./From 2ds/messages/easy\\textbackslash{}\\_ham1.Subject] FALSE\n",
       "\\item[./From 2ds/messages/easy\\textbackslash{}\\_ham2.Subject] FALSE\n",
       "\\item[./From 2ds/messages/easy\\textbackslash{}\\_ham3.Subject] FALSE\n",
       "\\item[./From 2ds/messages/easy\\textbackslash{}\\_ham4.Subject] FALSE\n",
       "\\item[./From 2ds/messages/easy\\textbackslash{}\\_ham5.Subject] FALSE\n",
       "\\item[./From 2ds/messages/easy\\textbackslash{}\\_ham15.Subject] FALSE\n",
       "\\item[./From 2ds/messages/easy\\textbackslash{}\\_ham27.Subject] FALSE\n",
       "\\item[./From 2ds/messages/easy\\textbackslash{}\\_ham68.Subject] FALSE\n",
       "\\item[./From 2ds/messages/easy\\textbackslash{}\\_ham69.Subject] FALSE\n",
       "\\item[./From 2ds/messages/easy\\textbackslash{}\\_ham329.Subject] FALSE\n",
       "\\item[./From 2ds/messages/easy\\textbackslash{}\\_ham404.Subject] FALSE\n",
       "\\item[./From 2ds/messages/easy\\textbackslash{}\\_ham427.Subject] FALSE\n",
       "\\item[./From 2ds/messages/easy\\textbackslash{}\\_ham516.Subject] FALSE\n",
       "\\item[./From 2ds/messages/easy\\textbackslash{}\\_ham852.Subject] FALSE\n",
       "\\item[./From 2ds/messages/easy\\textbackslash{}\\_ham971.Subject] FALSE\n",
       "\\end{description*}\n",
       "\n",
       "\\item[\\$perCaps] \\begin{description*}\n",
       "\\item[./From 2ds/messages/easy\\textbackslash{}\\_ham1] 4.45103857566766\n",
       "\\item[./From 2ds/messages/easy\\textbackslash{}\\_ham2] 7.49128919860627\n",
       "\\item[./From 2ds/messages/easy\\textbackslash{}\\_ham3] 7.43609604957397\n",
       "\\item[./From 2ds/messages/easy\\textbackslash{}\\_ham4] 5.09090909090909\n",
       "\\item[./From 2ds/messages/easy\\textbackslash{}\\_ham5] 6.11664295874822\n",
       "\\item[./From 2ds/messages/easy\\textbackslash{}\\_ham15] 7.73286467486819\n",
       "\\item[./From 2ds/messages/easy\\textbackslash{}\\_ham27] 5.52325581395349\n",
       "\\item[./From 2ds/messages/easy\\textbackslash{}\\_ham68] 10.0591715976331\n",
       "\\item[./From 2ds/messages/easy\\textbackslash{}\\_ham69] 10.8858057630736\n",
       "\\item[./From 2ds/messages/easy\\textbackslash{}\\_ham329] 6.47249190938511\n",
       "\\item[./From 2ds/messages/easy\\textbackslash{}\\_ham404] 9.59725792630677\n",
       "\\item[./From 2ds/messages/easy\\textbackslash{}\\_ham427] 11.9700748129676\n",
       "\\item[./From 2ds/messages/easy\\textbackslash{}\\_ham516] 9.23379174852652\n",
       "\\item[./From 2ds/messages/easy\\textbackslash{}\\_ham852] 1.65562913907285\n",
       "\\item[./From 2ds/messages/easy\\textbackslash{}\\_ham971] 6.41791044776119\n",
       "\\end{description*}\n",
       "\n",
       "\\end{description}\n"
      ],
      "text/markdown": [
       "$isRe\n",
       ":   ./From 2ds/messages/easy_ham1\n",
       ":   TRUE./From 2ds/messages/easy_ham2\n",
       ":   FALSE./From 2ds/messages/easy_ham3\n",
       ":   FALSE./From 2ds/messages/easy_ham4\n",
       ":   FALSE./From 2ds/messages/easy_ham5\n",
       ":   TRUE./From 2ds/messages/easy_ham15\n",
       ":   TRUE./From 2ds/messages/easy_ham27\n",
       ":   TRUE./From 2ds/messages/easy_ham68\n",
       ":   FALSE./From 2ds/messages/easy_ham69\n",
       ":   TRUE./From 2ds/messages/easy_ham329\n",
       ":   TRUE./From 2ds/messages/easy_ham404\n",
       ":   TRUE./From 2ds/messages/easy_ham427\n",
       ":   TRUE./From 2ds/messages/easy_ham516\n",
       ":   TRUE./From 2ds/messages/easy_ham852\n",
       ":   FALSE./From 2ds/messages/easy_ham971\n",
       ":   TRUE\n",
       "\n",
       "\n",
       "$numLines\n",
       ":   ./From 2ds/messages/easy_ham1\n",
       ":   50./From 2ds/messages/easy_ham2\n",
       ":   26./From 2ds/messages/easy_ham3\n",
       ":   38./From 2ds/messages/easy_ham4\n",
       ":   32./From 2ds/messages/easy_ham5\n",
       ":   31./From 2ds/messages/easy_ham15\n",
       ":   54./From 2ds/messages/easy_ham27\n",
       ":   35./From 2ds/messages/easy_ham68\n",
       ":   36./From 2ds/messages/easy_ham69\n",
       ":   65./From 2ds/messages/easy_ham329\n",
       ":   58./From 2ds/messages/easy_ham404\n",
       ":   70./From 2ds/messages/easy_ham427\n",
       ":   31./From 2ds/messages/easy_ham516\n",
       ":   38./From 2ds/messages/easy_ham852\n",
       ":   28./From 2ds/messages/easy_ham971\n",
       ":   34\n",
       "\n",
       "\n",
       "$isYelling\n",
       ":   ./From 2ds/messages/easy_ham1.Subject\n",
       ":   FALSE./From 2ds/messages/easy_ham2.Subject\n",
       ":   FALSE./From 2ds/messages/easy_ham3.Subject\n",
       ":   FALSE./From 2ds/messages/easy_ham4.Subject\n",
       ":   FALSE./From 2ds/messages/easy_ham5.Subject\n",
       ":   FALSE./From 2ds/messages/easy_ham15.Subject\n",
       ":   FALSE./From 2ds/messages/easy_ham27.Subject\n",
       ":   FALSE./From 2ds/messages/easy_ham68.Subject\n",
       ":   FALSE./From 2ds/messages/easy_ham69.Subject\n",
       ":   FALSE./From 2ds/messages/easy_ham329.Subject\n",
       ":   FALSE./From 2ds/messages/easy_ham404.Subject\n",
       ":   FALSE./From 2ds/messages/easy_ham427.Subject\n",
       ":   FALSE./From 2ds/messages/easy_ham516.Subject\n",
       ":   FALSE./From 2ds/messages/easy_ham852.Subject\n",
       ":   FALSE./From 2ds/messages/easy_ham971.Subject\n",
       ":   FALSE\n",
       "\n",
       "\n",
       "$perCaps\n",
       ":   ./From 2ds/messages/easy_ham1\n",
       ":   4.45103857566766./From 2ds/messages/easy_ham2\n",
       ":   7.49128919860627./From 2ds/messages/easy_ham3\n",
       ":   7.43609604957397./From 2ds/messages/easy_ham4\n",
       ":   5.09090909090909./From 2ds/messages/easy_ham5\n",
       ":   6.11664295874822./From 2ds/messages/easy_ham15\n",
       ":   7.73286467486819./From 2ds/messages/easy_ham27\n",
       ":   5.52325581395349./From 2ds/messages/easy_ham68\n",
       ":   10.0591715976331./From 2ds/messages/easy_ham69\n",
       ":   10.8858057630736./From 2ds/messages/easy_ham329\n",
       ":   6.47249190938511./From 2ds/messages/easy_ham404\n",
       ":   9.59725792630677./From 2ds/messages/easy_ham427\n",
       ":   11.9700748129676./From 2ds/messages/easy_ham516\n",
       ":   9.23379174852652./From 2ds/messages/easy_ham852\n",
       ":   1.65562913907285./From 2ds/messages/easy_ham971\n",
       ":   6.41791044776119\n",
       "\n",
       "\n",
       "\n",
       "\n"
      ],
      "text/plain": [
       "$isRe\n",
       "  ./From 2ds/messages/easy_ham1   ./From 2ds/messages/easy_ham2 \n",
       "                           TRUE                           FALSE \n",
       "  ./From 2ds/messages/easy_ham3   ./From 2ds/messages/easy_ham4 \n",
       "                          FALSE                           FALSE \n",
       "  ./From 2ds/messages/easy_ham5  ./From 2ds/messages/easy_ham15 \n",
       "                           TRUE                            TRUE \n",
       " ./From 2ds/messages/easy_ham27  ./From 2ds/messages/easy_ham68 \n",
       "                           TRUE                           FALSE \n",
       " ./From 2ds/messages/easy_ham69 ./From 2ds/messages/easy_ham329 \n",
       "                           TRUE                            TRUE \n",
       "./From 2ds/messages/easy_ham404 ./From 2ds/messages/easy_ham427 \n",
       "                           TRUE                            TRUE \n",
       "./From 2ds/messages/easy_ham516 ./From 2ds/messages/easy_ham852 \n",
       "                           TRUE                           FALSE \n",
       "./From 2ds/messages/easy_ham971 \n",
       "                           TRUE \n",
       "\n",
       "$numLines\n",
       "  ./From 2ds/messages/easy_ham1   ./From 2ds/messages/easy_ham2 \n",
       "                             50                              26 \n",
       "  ./From 2ds/messages/easy_ham3   ./From 2ds/messages/easy_ham4 \n",
       "                             38                              32 \n",
       "  ./From 2ds/messages/easy_ham5  ./From 2ds/messages/easy_ham15 \n",
       "                             31                              54 \n",
       " ./From 2ds/messages/easy_ham27  ./From 2ds/messages/easy_ham68 \n",
       "                             35                              36 \n",
       " ./From 2ds/messages/easy_ham69 ./From 2ds/messages/easy_ham329 \n",
       "                             65                              58 \n",
       "./From 2ds/messages/easy_ham404 ./From 2ds/messages/easy_ham427 \n",
       "                             70                              31 \n",
       "./From 2ds/messages/easy_ham516 ./From 2ds/messages/easy_ham852 \n",
       "                             38                              28 \n",
       "./From 2ds/messages/easy_ham971 \n",
       "                             34 \n",
       "\n",
       "$isYelling\n",
       "  ./From 2ds/messages/easy_ham1.Subject   ./From 2ds/messages/easy_ham2.Subject \n",
       "                                  FALSE                                   FALSE \n",
       "  ./From 2ds/messages/easy_ham3.Subject   ./From 2ds/messages/easy_ham4.Subject \n",
       "                                  FALSE                                   FALSE \n",
       "  ./From 2ds/messages/easy_ham5.Subject  ./From 2ds/messages/easy_ham15.Subject \n",
       "                                  FALSE                                   FALSE \n",
       " ./From 2ds/messages/easy_ham27.Subject  ./From 2ds/messages/easy_ham68.Subject \n",
       "                                  FALSE                                   FALSE \n",
       " ./From 2ds/messages/easy_ham69.Subject ./From 2ds/messages/easy_ham329.Subject \n",
       "                                  FALSE                                   FALSE \n",
       "./From 2ds/messages/easy_ham404.Subject ./From 2ds/messages/easy_ham427.Subject \n",
       "                                  FALSE                                   FALSE \n",
       "./From 2ds/messages/easy_ham516.Subject ./From 2ds/messages/easy_ham852.Subject \n",
       "                                  FALSE                                   FALSE \n",
       "./From 2ds/messages/easy_ham971.Subject \n",
       "                                  FALSE \n",
       "\n",
       "$perCaps\n",
       "  ./From 2ds/messages/easy_ham1   ./From 2ds/messages/easy_ham2 \n",
       "                       4.451039                        7.491289 \n",
       "  ./From 2ds/messages/easy_ham3   ./From 2ds/messages/easy_ham4 \n",
       "                       7.436096                        5.090909 \n",
       "  ./From 2ds/messages/easy_ham5  ./From 2ds/messages/easy_ham15 \n",
       "                       6.116643                        7.732865 \n",
       " ./From 2ds/messages/easy_ham27  ./From 2ds/messages/easy_ham68 \n",
       "                       5.523256                       10.059172 \n",
       " ./From 2ds/messages/easy_ham69 ./From 2ds/messages/easy_ham329 \n",
       "                      10.885806                        6.472492 \n",
       "./From 2ds/messages/easy_ham404 ./From 2ds/messages/easy_ham427 \n",
       "                       9.597258                       11.970075 \n",
       "./From 2ds/messages/easy_ham516 ./From 2ds/messages/easy_ham852 \n",
       "                       9.233792                        1.655629 \n",
       "./From 2ds/messages/easy_ham971 \n",
       "                       6.417910 \n"
      ]
     },
     "metadata": {},
     "output_type": "display_data"
    },
    {
     "data": {
      "text/html": [
       "<table>\n",
       "<caption>A data.frame: 6 × 4</caption>\n",
       "<thead>\n",
       "\t<tr><th></th><th scope=col>isRe</th><th scope=col>numLines</th><th scope=col>isYelling</th><th scope=col>perCaps</th></tr>\n",
       "\t<tr><th></th><th scope=col>&lt;lgl&gt;</th><th scope=col>&lt;int&gt;</th><th scope=col>&lt;lgl&gt;</th><th scope=col>&lt;dbl&gt;</th></tr>\n",
       "</thead>\n",
       "<tbody>\n",
       "\t<tr><th scope=row>./From 2ds/messages/easy_ham1</th><td> TRUE</td><td>50</td><td>FALSE</td><td>4.451039</td></tr>\n",
       "\t<tr><th scope=row>./From 2ds/messages/easy_ham2</th><td>FALSE</td><td>26</td><td>FALSE</td><td>7.491289</td></tr>\n",
       "\t<tr><th scope=row>./From 2ds/messages/easy_ham3</th><td>FALSE</td><td>38</td><td>FALSE</td><td>7.436096</td></tr>\n",
       "\t<tr><th scope=row>./From 2ds/messages/easy_ham4</th><td>FALSE</td><td>32</td><td>FALSE</td><td>5.090909</td></tr>\n",
       "\t<tr><th scope=row>./From 2ds/messages/easy_ham5</th><td> TRUE</td><td>31</td><td>FALSE</td><td>6.116643</td></tr>\n",
       "\t<tr><th scope=row>./From 2ds/messages/easy_ham15</th><td> TRUE</td><td>54</td><td>FALSE</td><td>7.732865</td></tr>\n",
       "</tbody>\n",
       "</table>\n"
      ],
      "text/latex": [
       "A data.frame: 6 × 4\n",
       "\\begin{tabular}{r|llll}\n",
       "  & isRe & numLines & isYelling & perCaps\\\\\n",
       "  & <lgl> & <int> & <lgl> & <dbl>\\\\\n",
       "\\hline\n",
       "\t./From 2ds/messages/easy\\_ham1 &  TRUE & 50 & FALSE & 4.451039\\\\\n",
       "\t./From 2ds/messages/easy\\_ham2 & FALSE & 26 & FALSE & 7.491289\\\\\n",
       "\t./From 2ds/messages/easy\\_ham3 & FALSE & 38 & FALSE & 7.436096\\\\\n",
       "\t./From 2ds/messages/easy\\_ham4 & FALSE & 32 & FALSE & 5.090909\\\\\n",
       "\t./From 2ds/messages/easy\\_ham5 &  TRUE & 31 & FALSE & 6.116643\\\\\n",
       "\t./From 2ds/messages/easy\\_ham15 &  TRUE & 54 & FALSE & 7.732865\\\\\n",
       "\\end{tabular}\n"
      ],
      "text/markdown": [
       "\n",
       "A data.frame: 6 × 4\n",
       "\n",
       "| <!--/--> | isRe &lt;lgl&gt; | numLines &lt;int&gt; | isYelling &lt;lgl&gt; | perCaps &lt;dbl&gt; |\n",
       "|---|---|---|---|---|\n",
       "| ./From 2ds/messages/easy_ham1 |  TRUE | 50 | FALSE | 4.451039 |\n",
       "| ./From 2ds/messages/easy_ham2 | FALSE | 26 | FALSE | 7.491289 |\n",
       "| ./From 2ds/messages/easy_ham3 | FALSE | 38 | FALSE | 7.436096 |\n",
       "| ./From 2ds/messages/easy_ham4 | FALSE | 32 | FALSE | 5.090909 |\n",
       "| ./From 2ds/messages/easy_ham5 |  TRUE | 31 | FALSE | 6.116643 |\n",
       "| ./From 2ds/messages/easy_ham15 |  TRUE | 54 | FALSE | 7.732865 |\n",
       "\n"
      ],
      "text/plain": [
       "                               isRe  numLines isYelling perCaps \n",
       "./From 2ds/messages/easy_ham1   TRUE 50       FALSE     4.451039\n",
       "./From 2ds/messages/easy_ham2  FALSE 26       FALSE     7.491289\n",
       "./From 2ds/messages/easy_ham3  FALSE 38       FALSE     7.436096\n",
       "./From 2ds/messages/easy_ham4  FALSE 32       FALSE     5.090909\n",
       "./From 2ds/messages/easy_ham5   TRUE 31       FALSE     6.116643\n",
       "./From 2ds/messages/easy_ham15  TRUE 54       FALSE     7.732865"
      ]
     },
     "metadata": {},
     "output_type": "display_data"
    }
   ],
   "source": [
    "lapply(funcList, function(func) \n",
    "                   sapply(sampleStruct, function(msg) func(msg)))\n",
    "\n",
    "createDerivedDF =\n",
    "function(email = emailStruct, operations = funcList, \n",
    "         verbose = FALSE)\n",
    "{\n",
    "  els = lapply(names(operations),\n",
    "               function(id) {\n",
    "                 if(verbose) print(id)\n",
    "                 e = operations[[id]]\n",
    "                 v = if(is.function(e)) \n",
    "                        sapply(email, e)\n",
    "                      else \n",
    "                        sapply(email, function(msg) eval(e))\n",
    "                 v\n",
    "         })\n",
    "\n",
    "   df = as.data.frame(els)\n",
    "   names(df) = names(operations)\n",
    "   invisible(df)\n",
    "}\n",
    "\n",
    "sampleDF = createDerivedDF(sampleStruct)\n",
    "head(sampleDF)"
   ]
  },
  {
   "cell_type": "code",
   "execution_count": 35,
   "metadata": {
    "scrolled": true
   },
   "outputs": [],
   "source": [
    "funcList = list(\n",
    "  isSpam =\n",
    "    expression(msg$isSpam)\n",
    "  ,\n",
    "  isRe =\n",
    "    function(msg) {\n",
    "      # Can have a Fwd: Re:  ... but we are not looking for this here.\n",
    "      # We may want to look at In-Reply-To field.\n",
    "      \"Subject\" %in% names(msg$header) && \n",
    "        length(grep(\"^[ \\t]*Re:\", msg$header[[\"Subject\"]])) > 0\n",
    "    }\n",
    "  ,\n",
    "  numLines =\n",
    "    function(msg) length(msg$body)\n",
    "  ,\n",
    "  bodyCharCt =\n",
    "    function(msg)\n",
    "      sum(nchar(msg$body))\n",
    "  ,\n",
    "  underscore =\n",
    "    function(msg) {\n",
    "      if(!\"Reply-To\" %in% names(msg$header))\n",
    "        return(FALSE)\n",
    "      \n",
    "      txt <- msg$header[[\"Reply-To\"]]\n",
    "      length(grep(\"_\", txt)) > 0  && \n",
    "        length(grep(\"[0-9A-Za-z]+\", txt)) > 0\n",
    "    }\n",
    "  ,\n",
    "  subExcCt = \n",
    "    function(msg) {\n",
    "      x = msg$header[\"Subject\"]\n",
    "      if(length(x) == 0 || sum(nchar(x)) == 0 || is.na(x))\n",
    "        return(NA)\n",
    "      \n",
    "      sum(nchar(gsub(\"[^!]\",\"\", x)))\n",
    "    }\n",
    "  ,\n",
    "  subQuesCt =\n",
    "    function(msg) {\n",
    "      x = msg$header[\"Subject\"]\n",
    "      if(length(x) == 0 || sum(nchar(x)) == 0 || is.na(x))\n",
    "        return(NA)\n",
    "      \n",
    "      sum(nchar(gsub(\"[^?]\",\"\", x)))\n",
    "    }\n",
    "  ,\n",
    "  numAtt = \n",
    "    function(msg) {\n",
    "      if (is.null(msg$attach)) return(0)\n",
    "      else nrow(msg$attach)\n",
    "    }\n",
    "   \n",
    "  ,\n",
    "  priority =\n",
    "    function(msg) {\n",
    "      ans <- FALSE\n",
    "      # Look for names X-Priority, Priority, X-Msmail-Priority\n",
    "      # Look for high any where in the value\n",
    "      ind = grep(\"priority\", tolower(names(msg$header)))\n",
    "      if (length(ind) > 0)  {\n",
    "        ans <- length(grep(\"high\", tolower(msg$header[ind]))) >0\n",
    "      }\n",
    "      ans\n",
    "    }\n",
    "  ,\n",
    "  numRec =\n",
    "    function(msg) {\n",
    "      # unique or not.\n",
    "      els = getMessageRecipients(msg$header)\n",
    "      \n",
    "      if(length(els) == 0)\n",
    "        return(NA)\n",
    "      \n",
    "      # Split each line by \",\"  and in each of these elements, look for\n",
    "      # the @ sign. This handles\n",
    "      tmp = sapply(strsplit(els, \",\"), function(x) grep(\"@\", x))\n",
    "      sum(sapply(tmp, length))\n",
    "    }\n",
    "  ,\n",
    "  perCaps =\n",
    "    function(msg)\n",
    "    {\n",
    "      body = paste(msg$body, collapse = \"\")\n",
    "      \n",
    "      # Return NA if the body of the message is \"empty\"\n",
    "      if(length(body) == 0 || nchar(body) == 0) return(NA)\n",
    "      \n",
    "      # Eliminate non-alpha characters and empty lines \n",
    "      body = gsub(\"[^[:alpha:]]\", \"\", body)\n",
    "      els = unlist(strsplit(body, \"\"))\n",
    "      ctCap = sum(els %in% LETTERS)\n",
    "      100 * ctCap / length(els)\n",
    "    }\n",
    "  ,\n",
    "  isInReplyTo =\n",
    "    function(msg)\n",
    "    {\n",
    "      \"In-Reply-To\" %in% names(msg$header)\n",
    "    }\n",
    "  ,\n",
    "  sortedRec =\n",
    "    function(msg)\n",
    "    {\n",
    "      ids = getMessageRecipients(msg$header)\n",
    "      all(sort(ids) == ids)\n",
    "    }\n",
    "  ,\n",
    "  subPunc =\n",
    "    function(msg)\n",
    "    {\n",
    "      if(\"Subject\" %in% names(msg$header)) {\n",
    "        el = gsub(\"['/.:@-]\", \"\", msg$header[\"Subject\"])\n",
    "        length(grep(\"[A-Za-z][[:punct:]]+[A-Za-z]\", el)) > 0\n",
    "      }\n",
    "      else\n",
    "        FALSE\n",
    "    },\n",
    "  hour =\n",
    "    function(msg)\n",
    "    {\n",
    "      date = msg$header[\"Date\"]\n",
    "      if ( is.null(date) ) return(NA)\n",
    "      # Need to handle that there may be only one digit in the hour\n",
    "      locate = regexpr(\"[0-2]?[0-9]:[0-5][0-9]:[0-5][0-9]\", date)\n",
    "      \n",
    "      if (locate < 0)\n",
    "        locate = regexpr(\"[0-2]?[0-9]:[0-5][0-9]\", date)\n",
    "      if (locate < 0) return(NA)\n",
    "      \n",
    "      hour = substring(date, locate, locate+1)\n",
    "      hour = as.numeric(gsub(\":\", \"\", hour))\n",
    "      \n",
    "      locate = regexpr(\"PM\", date)\n",
    "      if (locate > 0) hour = hour + 12\n",
    "      \n",
    "      locate = regexpr(\"[+-][0-2][0-9]00\", date)\n",
    "      if (locate < 0) offset = 0\n",
    "      else offset = as.numeric(substring(date, locate, locate + 2))\n",
    "      (hour - offset) %% 24\n",
    "    }\n",
    "  ,\n",
    "  multipartText =\n",
    "    function(msg)\n",
    "    {\n",
    "      if (is.null(msg$attach)) return(FALSE)\n",
    "      numAtt = nrow(msg$attach)\n",
    "      \n",
    "      types = \n",
    "        length(grep(\"(html|plain|text)\", msg$attach$aType)) > (numAtt/2)\n",
    "    }\n",
    "  ,\n",
    "  hasImages =\n",
    "    function(msg)\n",
    "    {\n",
    "      if (is.null(msg$attach)) return(FALSE)\n",
    "      \n",
    "      length(grep(\"^ *image\", tolower(msg$attach$aType))) > 0\n",
    "    }\n",
    "  ,\n",
    "  isPGPsigned =\n",
    "    function(msg)\n",
    "    {\n",
    "      if (is.null(msg$attach)) return(FALSE)\n",
    "      \n",
    "      length(grep(\"pgp\", tolower(msg$attach$aType))) > 0\n",
    "    },\n",
    "  perHTML =\n",
    "    function(msg)\n",
    "    {\n",
    "      if(! (\"Content-Type\" %in% names(msg$header))) return(0)\n",
    "      \n",
    "      el = tolower(msg$header[\"Content-Type\"]) \n",
    "      if (length(grep(\"html\", el)) == 0) return(0)\n",
    "      \n",
    "      els = gsub(\"[[:space:]]\", \"\", msg$body)\n",
    "      totchar = sum(nchar(els))\n",
    "      totplain = sum(nchar(gsub(\"<[^<]+>\", \"\", els )))\n",
    "      100 * (totchar - totplain)/totchar\n",
    "    },\n",
    "  subSpamWords =\n",
    "    function(msg)\n",
    "    {\n",
    "      if(\"Subject\" %in% names(msg$header))\n",
    "        length(grep(paste(SpamCheckWords, collapse = \"|\"), \n",
    "                    tolower(msg$header[\"Subject\"]))) > 0\n",
    "      else\n",
    "        NA\n",
    "    }\n",
    "  ,\n",
    "  subBlanks =\n",
    "    function(msg)\n",
    "    {\n",
    "      if(\"Subject\" %in% names(msg$header)) {\n",
    "        x = msg$header[\"Subject\"]\n",
    "        # should we count blank subject line as 0 or 1 or NA?\n",
    "        if (nchar(x) == 1) return(0)\n",
    "        else 100 *(1 - (nchar(gsub(\"[[:blank:]]\", \"\", x))/nchar(x)))\n",
    "      } else NA\n",
    "    }\n",
    "  ,\n",
    "  noHost =\n",
    "    function(msg)\n",
    "    {\n",
    "      # Or use partial matching.\n",
    "      idx = pmatch(\"Message-\", names(msg$header))\n",
    "      \n",
    "      if(is.na(idx)) return(NA)\n",
    "      \n",
    "      tmp = msg$header[idx]\n",
    "      return(length(grep(\".*@[^[:space:]]+\", tmp)) ==  0)\n",
    "    }\n",
    "  ,\n",
    "  numEnd =\n",
    "    function(msg)\n",
    "    {\n",
    "      # If we just do a grep(\"[0-9]@\",  )\n",
    "      # we get matches on messages that have a From something like\n",
    "      # \" \\\"marty66@aol.com\\\" <synjan@ecis.com>\"\n",
    "      # and the marty66 is the \"user's name\" not the login\n",
    "      # So we can be more precise if we want.\n",
    "      x = names(msg$header)\n",
    "      if ( !( \"From\" %in% x) ) return(NA)\n",
    "      login = gsub(\"^.*<\", \"\", msg$header[\"From\"])\n",
    "      if ( is.null(login) ) \n",
    "        login = gsub(\"^.*<\", \"\", msg$header[\"X-From\"])\n",
    "      if ( is.null(login) ) return(NA)\n",
    "      login = strsplit(login, \"@\")[[1]][1]\n",
    "      length(grep(\"[0-9]+$\", login)) > 0\n",
    "    },\n",
    "  isYelling =\n",
    "    function(msg)\n",
    "    {\n",
    "      if ( \"Subject\" %in% names(msg$header) ) {\n",
    "        el = gsub(\"[^[:alpha:]]\", \"\", msg$header[\"Subject\"])\n",
    "        if (nchar(el) > 0) nchar(gsub(\"[A-Z]\", \"\", el)) < 1\n",
    "        else FALSE\n",
    "      }\n",
    "      else\n",
    "        NA\n",
    "    },\n",
    "  forwards =\n",
    "    function(msg)\n",
    "    {\n",
    "      x = msg$body\n",
    "      if(length(x) == 0 || sum(nchar(x)) == 0)\n",
    "        return(NA)\n",
    "      \n",
    "      ans = length(grep(\"^[[:space:]]*>\", x))\n",
    "      100 * ans / length(x)\n",
    "    },\n",
    "  isOrigMsg =\n",
    "    function(msg)\n",
    "    {\n",
    "      x = msg$body\n",
    "      if(length(x) == 0) return(NA)\n",
    "      \n",
    "      length(grep(\"^[^[:alpha:]]*original[^[:alpha:]]+message[^[:alpha:]]*$\", \n",
    "                  tolower(x) ) ) > 0\n",
    "    },\n",
    "  isDear =\n",
    "    function(msg)\n",
    "    {\n",
    "      x = msg$body\n",
    "      if(length(x) == 0) return(NA)\n",
    "      \n",
    "      length(grep(\"^[[:blank:]]*dear +(sir|madam)\\\\>\", \n",
    "                  tolower(x))) > 0\n",
    "    },\n",
    "  isWrote =\n",
    "    function(msg)\n",
    "    {\n",
    "      x = msg$body\n",
    "      if(length(x) == 0) return(NA)\n",
    "      \n",
    "      length(grep(\"(wrote|schrieb|ecrit|escribe):\", tolower(x) )) > 0\n",
    "    },\n",
    "  avgWordLen =\n",
    "    function(msg)\n",
    "    {\n",
    "      txt = paste(msg$body, collapse = \" \")\n",
    "      if(length(txt) == 0 || sum(nchar(txt)) == 0) return(0)\n",
    "      \n",
    "      txt = gsub(\"[^[:alpha:]]\", \" \", txt)\n",
    "      words = unlist(strsplit(txt, \"[[:blank:]]+\"))\n",
    "      wordLens = nchar(words)\n",
    "      mean(wordLens[ wordLens > 0 ])\n",
    "    }\n",
    "  ,\n",
    "  numDlr =\n",
    "    function(msg)\n",
    "    {\n",
    "      x = paste(msg$body, collapse = \"\")\n",
    "      if(length(x) == 0 || sum(nchar(x)) == 0)\n",
    "        return(NA)\n",
    "      \n",
    "      nchar(gsub(\"[^$]\",\"\", x))\n",
    "    }\n",
    ")\n",
    "\n"
   ]
  },
  {
   "cell_type": "code",
   "execution_count": 36,
   "metadata": {
    "scrolled": true
   },
   "outputs": [
    {
     "data": {
      "text/html": [
       "<style>\n",
       ".list-inline {list-style: none; margin:0; padding: 0}\n",
       ".list-inline>li {display: inline-block}\n",
       ".list-inline>li:not(:last-child)::after {content: \"\\00b7\"; padding: 0 .5ex}\n",
       "</style>\n",
       "<ol class=list-inline><li>9348</li><li>30</li></ol>\n"
      ],
      "text/latex": [
       "\\begin{enumerate*}\n",
       "\\item 9348\n",
       "\\item 30\n",
       "\\end{enumerate*}\n"
      ],
      "text/markdown": [
       "1. 9348\n",
       "2. 30\n",
       "\n",
       "\n"
      ],
      "text/plain": [
       "[1] 9348   30"
      ]
     },
     "metadata": {},
     "output_type": "display_data"
    }
   ],
   "source": [
    "SpamCheckWords =\n",
    "  c(\"viagra\", \"pounds\", \"free\", \"weight\", \"guarantee\", \"million\", \n",
    "    \"dollars\", \"credit\", \"risk\", \"prescription\", \"generic\", \"drug\",\n",
    "    \"financial\", \"save\", \"dollar\", \"erotic\", \"million\", \"barrister\",\n",
    "    \"beneficiary\", \"easy\", \n",
    "    \"money back\", \"money\", \"credit card\")\n",
    "\n",
    "\n",
    "getMessageRecipients =\n",
    "  function(header)\n",
    "  {\n",
    "    c(if(\"To\" %in% names(header))  header[[\"To\"]] else character(0),\n",
    "      if(\"Cc\" %in% names(header))  header[[\"Cc\"]] else character(0),\n",
    "      if(\"Bcc\" %in% names(header)) header[[\"Bcc\"]] else character(0)\n",
    "    )\n",
    "  }\n",
    "\n",
    "emailDF = createDerivedDF(emailStruct)\n",
    "dim(emailDF)\n",
    "save(emailDF, file = \"spamAssassinDerivedDF.rda\")"
   ]
  },
  {
   "cell_type": "code",
   "execution_count": 37,
   "metadata": {
    "scrolled": true
   },
   "outputs": [
    {
     "data": {
      "text/html": [
       "<style>\n",
       ".list-inline {list-style: none; margin:0; padding: 0}\n",
       ".list-inline>li {display: inline-block}\n",
       ".list-inline>li:not(:last-child)::after {content: \"\\00b7\"; padding: 0 .5ex}\n",
       "</style>\n",
       "<ol class=list-inline><li>9348</li><li>30</li></ol>\n"
      ],
      "text/latex": [
       "\\begin{enumerate*}\n",
       "\\item 9348\n",
       "\\item 30\n",
       "\\end{enumerate*}\n"
      ],
      "text/markdown": [
       "1. 9348\n",
       "2. 30\n",
       "\n",
       "\n"
      ],
      "text/plain": [
       "[1] 9348   30"
      ]
     },
     "metadata": {},
     "output_type": "display_data"
    }
   ],
   "source": [
    "################################\n",
    "load(\"spamAssassinDerivedDF.rda\")\n",
    "dim(emailDF)\n",
    "\n",
    "perCaps2 =\n",
    "function(msg)\n",
    "{\n",
    "  body = paste(msg$body, collapse = \"\")\n",
    "\n",
    "       # Return NA if the body of the message is \"empty\"\n",
    "  if(length(body) == 0 || nchar(body) == 0) return(NA)\n",
    "\n",
    "       # Eliminate non-alpha characters and empty lines \n",
    "  body = gsub(\"[^[:alpha:]]\", \"\", body)\n",
    "  els = unlist(strsplit(body, \"\"))\n",
    "  ctCap = sum(els %in% LETTERS)\n",
    "  100 * ctCap / length(els)\n",
    "}\n"
   ]
  },
  {
   "cell_type": "code",
   "execution_count": 38,
   "metadata": {
    "scrolled": true
   },
   "outputs": [
    {
     "data": {
      "text/html": [
       "TRUE"
      ],
      "text/latex": [
       "TRUE"
      ],
      "text/markdown": [
       "TRUE"
      ],
      "text/plain": [
       "[1] TRUE"
      ]
     },
     "metadata": {},
     "output_type": "display_data"
    },
    {
     "name": "stderr",
     "output_type": "stream",
     "text": [
      "Warning message in indNA == indNoSubject:\n",
      "\"longer object length is not a multiple of shorter object length\"\n"
     ]
    },
    {
     "data": {
      "text/html": [
       "FALSE"
      ],
      "text/latex": [
       "FALSE"
      ],
      "text/markdown": [
       "FALSE"
      ],
      "text/plain": [
       "[1] FALSE"
      ]
     },
     "metadata": {},
     "output_type": "display_data"
    },
    {
     "data": {
      "text/html": [
       "TRUE"
      ],
      "text/latex": [
       "TRUE"
      ],
      "text/markdown": [
       "TRUE"
      ],
      "text/plain": [
       "[1] TRUE"
      ]
     },
     "metadata": {},
     "output_type": "display_data"
    }
   ],
   "source": [
    "pC = sapply(emailStruct, perCaps)\n",
    "pC2 = sapply(emailStruct, perCaps2)\n",
    "identical(pC, pC2)\n",
    "\n",
    "indNA = which(is.na(emailDF$subExcCt))\n",
    "\n",
    "indNoSubject = which(sapply(emailStruct, \n",
    "                            function(msg) \n",
    "                              !(\"Subject\" %in% names(msg$header))))\n",
    "\n",
    "all(indNA == indNoSubject)\n",
    "\n",
    "all(emailDF$bodyCharCt > emailDF$numLines)\n",
    "\n",
    "\n",
    "x.at = c(1,10,100,1000,10000,100000)\n",
    "y.at = c(1, 5, 10, 50, 100, 500, 5000)\n",
    "nL = 1 + emailDF$numLines\n",
    "nC = 1 + emailDF$bodyCharCt"
   ]
  },
  {
   "cell_type": "code",
   "execution_count": 39,
   "metadata": {
    "scrolled": true
   },
   "outputs": [
    {
     "data": {
      "text/html": [
       "<strong>null device:</strong> 1"
      ],
      "text/latex": [
       "\\textbf{null device:} 1"
      ],
      "text/markdown": [
       "**null device:** 1"
      ],
      "text/plain": [
       "null device \n",
       "          1 "
      ]
     },
     "metadata": {},
     "output_type": "display_data"
    },
    {
     "data": {
      "image/png": "[encoded data removed]",
      "text/plain": [
       "plot without title"
      ]
     },
     "metadata": {
      "image/png": {
       "height": 420,
       "width": 420
      },
      "text/plain": {
       "height": 420,
       "width": 420
      }
     },
     "output_type": "display_data"
    }
   ],
   "source": [
    "#pdf(\"ScatterPlotNumLinesNumChars.pdf\", width = 6, height = 4.5)\n",
    "plot(nL ~ nC, log = \"xy\", pch=\".\", xlim=c(1,100000), axes = FALSE,\n",
    "     xlab = \"Number of Characters\", ylab = \"Number of Lines\")\n",
    "box() \n",
    "axis(1, at = x.at, labels = formatC(x.at, digits = 0, format=\"d\"))\n",
    "axis(2, at = y.at, labels = formatC(y.at, digits = 0, format=\"d\")) \n",
    "abline(a=0, b=1, col=\"red\", lwd = 2)\n",
    "dev.off()\n",
    "\n",
    "#pdf(\"SPAM_boxplotsPercentCaps.pdf\", width = 5, height = 5)\n",
    "\n",
    "percent = emailDF$perCaps\n",
    "isSpamLabs = factor(emailDF$isSpam, labels = c(\"ham\", \"spam\"))\n",
    "boxplot(log(1 + percent) ~ isSpamLabs,\n",
    "        ylab = \"Percent Capitals (log)\")\n",
    "\n",
    "#dev.off()"
   ]
  },
  {
   "cell_type": "code",
   "execution_count": 40,
   "metadata": {
    "scrolled": false
   },
   "outputs": [
    {
     "data": {
      "image/png": "[encoded data removed]",
      "text/plain": [
       "Plot with title \"Percentage of Capital Letters (log scale)\""
      ]
     },
     "metadata": {
      "image/png": {
       "height": 420,
       "width": 420
      },
      "text/plain": {
       "height": 420,
       "width": 420
      }
     },
     "output_type": "display_data"
    }
   ],
   "source": [
    "logPerCapsSpam = log(1 + emailDF$perCaps[ emailDF$isSpam ])\n",
    "logPerCapsHam = log(1 + emailDF$perCaps[ !emailDF$isSpam ])\n",
    "\n",
    "qqplot(logPerCapsSpam, logPerCapsHam, \n",
    "       xlab = \"Regular Email\", ylab = \"Spam Email\", \n",
    "       main = \"Percentage of Capital Letters (log scale)\",\n",
    "       pch = 19, cex = 0.3)"
   ]
  },
  {
   "cell_type": "code",
   "execution_count": 41,
   "metadata": {
    "scrolled": true
   },
   "outputs": [
    {
     "data": {
      "text/plain": [
       "    isSpamLabs\n",
       "      ham spam\n",
       "  0  6624 2158\n",
       "  1   314  230\n",
       "  2    11    6\n",
       "  4     0    1\n",
       "  5     1    2\n",
       "  18    1    0"
      ]
     },
     "metadata": {},
     "output_type": "display_data"
    },
    {
     "data": {
      "image/png": "[encoded data removed]",
      "text/plain": [
       "plot without title"
      ]
     },
     "metadata": {
      "image/png": {
       "height": 420,
       "width": 420
      },
      "text/plain": {
       "height": 420,
       "width": 420
      }
     },
     "output_type": "display_data"
    },
    {
     "data": {
      "image/png": "[encoded data removed]",
      "text/plain": [
       "Plot with title \"\""
      ]
     },
     "metadata": {
      "image/png": {
       "height": 420,
       "width": 420
      },
      "text/plain": {
       "height": 420,
       "width": 420
      }
     },
     "output_type": "display_data"
    }
   ],
   "source": [
    "#pdf(\"SPAM_scatterplotPercentCapsTotChars.pdf\", width = 8, height = 6)\n",
    " \n",
    "colI = c(\"#4DAF4A80\", \"#984EA380\")\n",
    "logBodyCharCt = log(1 + emailDF$bodyCharCt)\n",
    "logPerCaps = log(1 + emailDF$perCaps)\n",
    "plot(logPerCaps ~ logBodyCharCt, xlab = \"Total Characters (log)\",\n",
    "     ylab = \"Percent Capitals (log)\",\n",
    "     col = colI[1 + emailDF$isSpam],\n",
    "     xlim = c(2,12), pch = 19, cex = 0.5)\n",
    "\n",
    "#dev.off()\n",
    "\n",
    "table(emailDF$numAtt, isSpamLabs)\n",
    "#pdf(\"SPAM_mosaicPlots.pdf\", width = 8, height = 4)\n",
    "\n",
    "oldPar = par(mfrow = c(1, 2), mar = c(1,1,1,1))\n",
    "\n",
    "colM = c(\"#E41A1C80\", \"#377EB880\")\n",
    "isRe = factor(emailDF$isRe, labels = c(\"no Re:\", \"Re:\"))\n",
    "mosaicplot(table(isSpamLabs, isRe), main = \"\",\n",
    "           xlab = \"\", ylab = \"\", color = colM)\n",
    "\n",
    "fromNE = factor(emailDF$numEnd, labels = c(\"No #\", \"#\"))\n",
    "mosaicplot(table(isSpamLabs, fromNE), color = colM,\n",
    "           main = \"\", xlab=\"\", ylab = \"\")\n",
    "\n",
    "par(oldPar)\n",
    "\n",
    "#dev.off()\n",
    "\n",
    "library(rpart)\n",
    "\n",
    "setupRpart = function(data) {\n",
    "  logicalVars = which(sapply(data, is.logical))\n",
    "  facVars = lapply(data[ , logicalVars], \n",
    "                   function(x) {\n",
    "                      x = as.factor(x)\n",
    "                      levels(x) = c(\"F\", \"T\")\n",
    "                      x\n",
    "                   })\n",
    "  cbind(facVars, data[ , - logicalVars])\n",
    "}\n",
    "\n",
    "emailDFrp = setupRpart(emailDF)"
   ]
  },
  {
   "cell_type": "markdown",
   "metadata": {},
   "source": [
    "__Textbook question 19__  \n",
    "Consider the other parameters that can be used to control the recursive partitioning process. Read the documentation for them in the rpart.control() documentation. Also, carry out an Internet search for more information on how to tweak the rpart() tuning parameters. Experiment with values for these parameters.Do the trees that result make sense with your understanding of how the parameters are used? Can you improve the prediction using them?"
   ]
  },
  {
   "cell_type": "markdown",
   "metadata": {},
   "source": [
    "__Dan:__ Captured this (below) from the documentation so we can refer to it as we experiment."
   ]
  },
  {
   "cell_type": "markdown",
   "metadata": {},
   "source": [
    "<img src=\"./Plots/rpartControl.PNG\">"
   ]
  },
  {
   "cell_type": "markdown",
   "metadata": {},
   "source": [
    "__Dan:__ We assume that it is preferable to classify spam as not-spam rather than not-spam as spam therefore we want to keep type 1 error low."
   ]
  },
  {
   "cell_type": "code",
   "execution_count": 42,
   "metadata": {
    "scrolled": true
   },
   "outputs": [],
   "source": [
    "set.seed(418910)\n",
    "testSpamIdx = sample(numSpam, size = floor(numSpam/3))\n",
    "testHamIdx = sample(numHam, size = floor(numHam/3))\n",
    "\n",
    "testDF = \n",
    "  rbind( emailDFrp[emailDFrp$isSpam == \"T\", ][testSpamIdx, ],\n",
    "         emailDFrp[emailDFrp$isSpam == \"F\", ][testHamIdx, ] )\n",
    "trainDF =\n",
    "  rbind( emailDFrp[emailDFrp$isSpam == \"T\", ][-testSpamIdx, ], \n",
    "         emailDFrp[emailDFrp$isSpam == \"F\", ][-testHamIdx, ])"
   ]
  },
  {
   "cell_type": "markdown",
   "metadata": {},
   "source": [
    "__Dan:__ We will set cp to -1 (do not stop growing trees) which will over fit but we will prune the tree later."
   ]
  },
  {
   "cell_type": "code",
   "execution_count": 43,
   "metadata": {
    "scrolled": true
   },
   "outputs": [
    {
     "data": {
      "text/html": [
       "<table>\n",
       "<caption>A data.frame: 6 × 30</caption>\n",
       "<thead>\n",
       "\t<tr><th></th><th scope=col>isSpam</th><th scope=col>isRe</th><th scope=col>underscore</th><th scope=col>priority</th><th scope=col>isInReplyTo</th><th scope=col>sortedRec</th><th scope=col>subPunc</th><th scope=col>multipartText</th><th scope=col>hasImages</th><th scope=col>isPGPsigned</th><th scope=col>...</th><th scope=col>subQuesCt</th><th scope=col>numAtt</th><th scope=col>numRec</th><th scope=col>perCaps</th><th scope=col>hour</th><th scope=col>perHTML</th><th scope=col>subBlanks</th><th scope=col>forwards</th><th scope=col>avgWordLen</th><th scope=col>numDlr</th></tr>\n",
       "\t<tr><th></th><th scope=col>&lt;fct&gt;</th><th scope=col>&lt;fct&gt;</th><th scope=col>&lt;fct&gt;</th><th scope=col>&lt;fct&gt;</th><th scope=col>&lt;fct&gt;</th><th scope=col>&lt;fct&gt;</th><th scope=col>&lt;fct&gt;</th><th scope=col>&lt;fct&gt;</th><th scope=col>&lt;fct&gt;</th><th scope=col>&lt;fct&gt;</th><th scope=col>...</th><th scope=col>&lt;int&gt;</th><th scope=col>&lt;dbl&gt;</th><th scope=col>&lt;int&gt;</th><th scope=col>&lt;dbl&gt;</th><th scope=col>&lt;dbl&gt;</th><th scope=col>&lt;dbl&gt;</th><th scope=col>&lt;dbl&gt;</th><th scope=col>&lt;dbl&gt;</th><th scope=col>&lt;dbl&gt;</th><th scope=col>&lt;int&gt;</th></tr>\n",
       "</thead>\n",
       "<tbody>\n",
       "\t<tr><th scope=row>./From 2ds/messages/spam2</th><td>T</td><td>F</td><td>F</td><td>F</td><td>F</td><td>T</td><td>F</td><td>F</td><td>F</td><td>F</td><td>...</td><td>0</td><td>0</td><td>1</td><td> 7.984791</td><td>12</td><td>0</td><td>16.98113</td><td>0.000000</td><td>3.954887</td><td> 0</td></tr>\n",
       "\t<tr><th scope=row>./From 2ds/messages/spam3</th><td>T</td><td>F</td><td>F</td><td>F</td><td>F</td><td>T</td><td>F</td><td>F</td><td>F</td><td>F</td><td>...</td><td>0</td><td>0</td><td>1</td><td> 8.894231</td><td>13</td><td>0</td><td>46.47887</td><td>0.000000</td><td>3.747748</td><td> 0</td></tr>\n",
       "\t<tr><th scope=row>./From 2ds/messages/spam4</th><td>T</td><td>T</td><td>F</td><td>F</td><td>F</td><td>F</td><td>F</td><td>F</td><td>F</td><td>F</td><td>...</td><td>0</td><td>0</td><td>1</td><td>11.123788</td><td>15</td><td>0</td><td>13.79310</td><td>4.444444</td><td>4.449239</td><td> 0</td></tr>\n",
       "\t<tr><th scope=row>./From 2ds/messages/spam5</th><td>T</td><td>F</td><td>F</td><td>F</td><td>F</td><td>T</td><td>F</td><td>F</td><td>F</td><td>F</td><td>...</td><td>0</td><td>0</td><td>1</td><td> 6.479482</td><td>15</td><td>0</td><td>15.62500</td><td>0.000000</td><td>4.247706</td><td> 0</td></tr>\n",
       "\t<tr><th scope=row>./From 2ds/messages/spam6</th><td>T</td><td>F</td><td>F</td><td>F</td><td>F</td><td>T</td><td>F</td><td>F</td><td>F</td><td>F</td><td>...</td><td>0</td><td>0</td><td>1</td><td>24.920331</td><td>15</td><td>0</td><td>12.12121</td><td>0.000000</td><td>3.912718</td><td>10</td></tr>\n",
       "\t<tr><th scope=row>./From 2ds/messages/spam7</th><td>T</td><td>F</td><td>F</td><td>F</td><td>F</td><td>T</td><td>F</td><td>F</td><td>F</td><td>F</td><td>...</td><td>0</td><td>0</td><td>1</td><td> 4.669261</td><td>17</td><td>0</td><td>14.63415</td><td>0.000000</td><td>4.283333</td><td> 0</td></tr>\n",
       "</tbody>\n",
       "</table>\n"
      ],
      "text/latex": [
       "A data.frame: 6 × 30\n",
       "\\begin{tabular}{r|lllllllllllllllllllll}\n",
       "  & isSpam & isRe & underscore & priority & isInReplyTo & sortedRec & subPunc & multipartText & hasImages & isPGPsigned & ... & subQuesCt & numAtt & numRec & perCaps & hour & perHTML & subBlanks & forwards & avgWordLen & numDlr\\\\\n",
       "  & <fct> & <fct> & <fct> & <fct> & <fct> & <fct> & <fct> & <fct> & <fct> & <fct> & ... & <int> & <dbl> & <int> & <dbl> & <dbl> & <dbl> & <dbl> & <dbl> & <dbl> & <int>\\\\\n",
       "\\hline\n",
       "\t./From 2ds/messages/spam2 & T & F & F & F & F & T & F & F & F & F & ... & 0 & 0 & 1 &  7.984791 & 12 & 0 & 16.98113 & 0.000000 & 3.954887 &  0\\\\\n",
       "\t./From 2ds/messages/spam3 & T & F & F & F & F & T & F & F & F & F & ... & 0 & 0 & 1 &  8.894231 & 13 & 0 & 46.47887 & 0.000000 & 3.747748 &  0\\\\\n",
       "\t./From 2ds/messages/spam4 & T & T & F & F & F & F & F & F & F & F & ... & 0 & 0 & 1 & 11.123788 & 15 & 0 & 13.79310 & 4.444444 & 4.449239 &  0\\\\\n",
       "\t./From 2ds/messages/spam5 & T & F & F & F & F & T & F & F & F & F & ... & 0 & 0 & 1 &  6.479482 & 15 & 0 & 15.62500 & 0.000000 & 4.247706 &  0\\\\\n",
       "\t./From 2ds/messages/spam6 & T & F & F & F & F & T & F & F & F & F & ... & 0 & 0 & 1 & 24.920331 & 15 & 0 & 12.12121 & 0.000000 & 3.912718 & 10\\\\\n",
       "\t./From 2ds/messages/spam7 & T & F & F & F & F & T & F & F & F & F & ... & 0 & 0 & 1 &  4.669261 & 17 & 0 & 14.63415 & 0.000000 & 4.283333 &  0\\\\\n",
       "\\end{tabular}\n"
      ],
      "text/markdown": [
       "\n",
       "A data.frame: 6 × 30\n",
       "\n",
       "| <!--/--> | isSpam &lt;fct&gt; | isRe &lt;fct&gt; | underscore &lt;fct&gt; | priority &lt;fct&gt; | isInReplyTo &lt;fct&gt; | sortedRec &lt;fct&gt; | subPunc &lt;fct&gt; | multipartText &lt;fct&gt; | hasImages &lt;fct&gt; | isPGPsigned &lt;fct&gt; | ... ... | subQuesCt &lt;int&gt; | numAtt &lt;dbl&gt; | numRec &lt;int&gt; | perCaps &lt;dbl&gt; | hour &lt;dbl&gt; | perHTML &lt;dbl&gt; | subBlanks &lt;dbl&gt; | forwards &lt;dbl&gt; | avgWordLen &lt;dbl&gt; | numDlr &lt;int&gt; |\n",
       "|---|---|---|---|---|---|---|---|---|---|---|---|---|---|---|---|---|---|---|---|---|---|\n",
       "| ./From 2ds/messages/spam2 | T | F | F | F | F | T | F | F | F | F | ... | 0 | 0 | 1 |  7.984791 | 12 | 0 | 16.98113 | 0.000000 | 3.954887 |  0 |\n",
       "| ./From 2ds/messages/spam3 | T | F | F | F | F | T | F | F | F | F | ... | 0 | 0 | 1 |  8.894231 | 13 | 0 | 46.47887 | 0.000000 | 3.747748 |  0 |\n",
       "| ./From 2ds/messages/spam4 | T | T | F | F | F | F | F | F | F | F | ... | 0 | 0 | 1 | 11.123788 | 15 | 0 | 13.79310 | 4.444444 | 4.449239 |  0 |\n",
       "| ./From 2ds/messages/spam5 | T | F | F | F | F | T | F | F | F | F | ... | 0 | 0 | 1 |  6.479482 | 15 | 0 | 15.62500 | 0.000000 | 4.247706 |  0 |\n",
       "| ./From 2ds/messages/spam6 | T | F | F | F | F | T | F | F | F | F | ... | 0 | 0 | 1 | 24.920331 | 15 | 0 | 12.12121 | 0.000000 | 3.912718 | 10 |\n",
       "| ./From 2ds/messages/spam7 | T | F | F | F | F | T | F | F | F | F | ... | 0 | 0 | 1 |  4.669261 | 17 | 0 | 14.63415 | 0.000000 | 4.283333 |  0 |\n",
       "\n"
      ],
      "text/plain": [
       "                          isSpam isRe underscore priority isInReplyTo sortedRec\n",
       "./From 2ds/messages/spam2 T      F    F          F        F           T        \n",
       "./From 2ds/messages/spam3 T      F    F          F        F           T        \n",
       "./From 2ds/messages/spam4 T      T    F          F        F           F        \n",
       "./From 2ds/messages/spam5 T      F    F          F        F           T        \n",
       "./From 2ds/messages/spam6 T      F    F          F        F           T        \n",
       "./From 2ds/messages/spam7 T      F    F          F        F           T        \n",
       "                          subPunc multipartText hasImages isPGPsigned ...\n",
       "./From 2ds/messages/spam2 F       F             F         F           ...\n",
       "./From 2ds/messages/spam3 F       F             F         F           ...\n",
       "./From 2ds/messages/spam4 F       F             F         F           ...\n",
       "./From 2ds/messages/spam5 F       F             F         F           ...\n",
       "./From 2ds/messages/spam6 F       F             F         F           ...\n",
       "./From 2ds/messages/spam7 F       F             F         F           ...\n",
       "                          subQuesCt numAtt numRec perCaps   hour perHTML\n",
       "./From 2ds/messages/spam2 0         0      1       7.984791 12   0      \n",
       "./From 2ds/messages/spam3 0         0      1       8.894231 13   0      \n",
       "./From 2ds/messages/spam4 0         0      1      11.123788 15   0      \n",
       "./From 2ds/messages/spam5 0         0      1       6.479482 15   0      \n",
       "./From 2ds/messages/spam6 0         0      1      24.920331 15   0      \n",
       "./From 2ds/messages/spam7 0         0      1       4.669261 17   0      \n",
       "                          subBlanks forwards avgWordLen numDlr\n",
       "./From 2ds/messages/spam2 16.98113  0.000000 3.954887    0    \n",
       "./From 2ds/messages/spam3 46.47887  0.000000 3.747748    0    \n",
       "./From 2ds/messages/spam4 13.79310  4.444444 4.449239    0    \n",
       "./From 2ds/messages/spam5 15.62500  0.000000 4.247706    0    \n",
       "./From 2ds/messages/spam6 12.12121  0.000000 3.912718   10    \n",
       "./From 2ds/messages/spam7 14.63415  0.000000 4.283333    0    "
      ]
     },
     "metadata": {},
     "output_type": "display_data"
    }
   ],
   "source": [
    "head(trainDF)"
   ]
  },
  {
   "cell_type": "code",
   "execution_count": 44,
   "metadata": {
    "scrolled": true
   },
   "outputs": [
    {
     "name": "stdout",
     "output_type": "stream",
     "text": [
      "'data.frame':\t6232 obs. of  30 variables:\n",
      " $ isSpam       : Factor w/ 2 levels \"F\",\"T\": 2 2 2 2 2 2 2 2 2 2 ...\n",
      " $ isRe         : Factor w/ 2 levels \"F\",\"T\": 1 1 2 1 1 1 1 1 1 1 ...\n",
      " $ underscore   : Factor w/ 2 levels \"F\",\"T\": 1 1 1 1 1 1 1 1 1 1 ...\n",
      " $ priority     : Factor w/ 2 levels \"F\",\"T\": 1 1 1 1 1 1 1 1 1 1 ...\n",
      " $ isInReplyTo  : Factor w/ 2 levels \"F\",\"T\": 1 1 1 1 1 1 1 1 1 1 ...\n",
      " $ sortedRec    : Factor w/ 2 levels \"F\",\"T\": 2 2 1 2 2 2 2 2 1 2 ...\n",
      " $ subPunc      : Factor w/ 2 levels \"F\",\"T\": 1 1 1 1 1 1 1 1 1 1 ...\n",
      " $ multipartText: Factor w/ 2 levels \"F\",\"T\": 1 1 1 1 1 1 1 1 1 1 ...\n",
      " $ hasImages    : Factor w/ 2 levels \"F\",\"T\": 1 1 1 1 1 1 1 1 1 1 ...\n",
      " $ isPGPsigned  : Factor w/ 2 levels \"F\",\"T\": 1 1 1 1 1 1 1 1 1 1 ...\n",
      " $ subSpamWords : Factor w/ 2 levels \"F\",\"T\": 2 2 1 2 1 1 1 1 1 1 ...\n",
      " $ noHost       : Factor w/ 2 levels \"F\",\"T\": 1 1 1 1 1 1 1 1 1 1 ...\n",
      " $ numEnd       : Factor w/ 2 levels \"F\",\"T\": 1 1 1 1 1 1 1 2 2 1 ...\n",
      " $ isYelling    : Factor w/ 2 levels \"F\",\"T\": 1 1 1 1 1 2 1 1 2 1 ...\n",
      " $ isOrigMsg    : Factor w/ 2 levels \"F\",\"T\": 1 1 1 1 1 1 1 1 1 1 ...\n",
      " $ isDear       : Factor w/ 2 levels \"F\",\"T\": 1 1 1 1 1 1 1 1 1 1 ...\n",
      " $ isWrote      : Factor w/ 2 levels \"F\",\"T\": 1 1 1 1 1 1 1 1 1 1 ...\n",
      " $ numLines     : int  40 34 90 29 46 23 604 101 39 34 ...\n",
      " $ bodyCharCt   : int  741 602 2825 630 2365 669 29059 3765 2199 602 ...\n",
      " $ subExcCt     : int  0 0 0 0 0 0 0 0 1 0 ...\n",
      " $ subQuesCt    : int  0 0 0 0 0 0 1 1 0 0 ...\n",
      " $ numAtt       : num  0 0 0 0 0 0 0 0 0 0 ...\n",
      " $ numRec       : int  1 1 1 1 1 1 1 1 11 1 ...\n",
      " $ perCaps      : num  7.98 8.89 11.12 6.48 24.92 ...\n",
      " $ hour         : num  12 13 15 15 15 17 15 12 18 21 ...\n",
      " $ perHTML      : num  0 0 0 0 0 ...\n",
      " $ subBlanks    : num  17 46.5 13.8 15.6 12.1 ...\n",
      " $ forwards     : num  0 0 4.44 0 0 ...\n",
      " $ avgWordLen   : num  3.95 3.75 4.45 4.25 3.91 ...\n",
      " $ numDlr       : int  0 0 0 0 10 0 0 0 1 0 ...\n"
     ]
    }
   ],
   "source": [
    "str(trainDF)"
   ]
  },
  {
   "cell_type": "code",
   "execution_count": 45,
   "metadata": {
    "scrolled": true
   },
   "outputs": [
    {
     "data": {
      "text/html": [
       "<style>\n",
       ".list-inline {list-style: none; margin:0; padding: 0}\n",
       ".list-inline>li {display: inline-block}\n",
       ".list-inline>li:not(:last-child)::after {content: \"\\00b7\"; padding: 0 .5ex}\n",
       "</style>\n",
       "<ol class=list-inline><li>6232</li><li>30</li></ol>\n"
      ],
      "text/latex": [
       "\\begin{enumerate*}\n",
       "\\item 6232\n",
       "\\item 30\n",
       "\\end{enumerate*}\n"
      ],
      "text/markdown": [
       "1. 6232\n",
       "2. 30\n",
       "\n",
       "\n"
      ],
      "text/plain": [
       "[1] 6232   30"
      ]
     },
     "metadata": {},
     "output_type": "display_data"
    }
   ],
   "source": [
    "dim(trainDF)"
   ]
  },
  {
   "cell_type": "code",
   "execution_count": 46,
   "metadata": {
    "scrolled": true
   },
   "outputs": [],
   "source": [
    "rpartFit = rpart(isSpam ~ ., data = trainDF, method = \"class\",cp = -1)"
   ]
  },
  {
   "cell_type": "markdown",
   "metadata": {},
   "source": [
    "__Dan:__ Note to self, try without pruning. Maybe crossfolds account for o verfitting."
   ]
  },
  {
   "cell_type": "markdown",
   "metadata": {},
   "source": [
    "__Dan:__ Now to prune our overfit tree\n",
    "\n",
    "_Sourced from https://www.gormanalysis.com/blog/decision-trees-in-r-using-rpart/\n",
    "\"As a rule of thumb, it’s best to prune a decision tree using the cp of smallest tree that is within one standard deviation of the tree with the smallest xerror.\"_\n",
    "\n",
    "__Dan:__  Using printcp to see our results from overfit tree."
   ]
  },
  {
   "cell_type": "code",
   "execution_count": 47,
   "metadata": {
    "scrolled": true
   },
   "outputs": [
    {
     "name": "stdout",
     "output_type": "stream",
     "text": [
      "\n",
      "Classification tree:\n",
      "rpart(formula = isSpam ~ ., data = trainDF, method = \"class\", \n",
      "    cp = -1)\n",
      "\n",
      "Variables actually used in tree construction:\n",
      " [1] avgWordLen    bodyCharCt    forwards      hour          isDear       \n",
      " [6] isInReplyTo   isRe          isWrote       isYelling     multipartText\n",
      "[11] numAtt        numDlr        numEnd        numLines      numRec       \n",
      "[16] perCaps       perHTML       subBlanks     subExcCt      subSpamWords \n",
      "[21] underscore   \n",
      "\n",
      "Root node error: 1598/6232 = 0.25642\n",
      "\n",
      "n= 6232 \n",
      "\n",
      "            CP nsplit rel error  xerror     xstd\n",
      "1   0.31163955      0   1.00000 1.00000 0.021571\n",
      "2   0.09386733      1   0.68836 0.69337 0.018888\n",
      "3   0.07008761      2   0.59449 0.59950 0.017818\n",
      "4   0.04443054      3   0.52441 0.53317 0.016972\n",
      "5   0.02346683      4   0.47997 0.48936 0.016365\n",
      "6   0.01960784      6   0.43304 0.46934 0.016073\n",
      "7   0.01877347      9   0.37422 0.44243 0.015667\n",
      "8   0.01627034     10   0.35544 0.40676 0.015099\n",
      "9   0.01251564     11   0.33917 0.36984 0.014474\n",
      "10  0.00813517     14   0.30163 0.32854 0.013721\n",
      "11  0.00750939     15   0.29349 0.31977 0.013554\n",
      "12  0.00500626     16   0.28598 0.31352 0.013432\n",
      "13  0.00438048     21   0.26033 0.29537 0.013070\n",
      "14  0.00354610     22   0.25594 0.27972 0.012747\n",
      "15  0.00312891     28   0.22528 0.27284 0.012601\n",
      "16  0.00250313     32   0.21277 0.27034 0.012548\n",
      "17  0.00229453     38   0.19712 0.25970 0.012316\n",
      "18  0.00187735     41   0.19024 0.25782 0.012275\n",
      "19  0.00175219     44   0.18461 0.25782 0.012275\n",
      "20  0.00146016     51   0.16458 0.25156 0.012135\n",
      "21  0.00125156     54   0.16020 0.25094 0.012121\n",
      "22  0.00093867     58   0.15519 0.25282 0.012164\n",
      "23  0.00062578     62   0.15144 0.25282 0.012164\n",
      "24  0.00050063     67   0.14831 0.24718 0.012037\n",
      "25  0.00000000     72   0.14581 0.24906 0.012079\n",
      "26 -1.00000000    140   0.14581 0.24906 0.012079\n"
     ]
    }
   ],
   "source": [
    "printcp(rpartFit)"
   ]
  },
  {
   "cell_type": "markdown",
   "metadata": {},
   "source": [
    "__Dan:__ In our case the best xerror is .24906 with standard deviation .012079. So we use CP = 0.00229453 from #17 above."
   ]
  },
  {
   "cell_type": "code",
   "execution_count": 48,
   "metadata": {
    "scrolled": true
   },
   "outputs": [],
   "source": [
    "rpartFitCpExperiment = rpart(isSpam ~ ., data = trainDF, method = \"class\",cp = 0.00229453)"
   ]
  },
  {
   "cell_type": "code",
   "execution_count": 49,
   "metadata": {
    "scrolled": true
   },
   "outputs": [
    {
     "name": "stdout",
     "output_type": "stream",
     "text": [
      "[1] \"Metrics for rpartFitCpExperiment:\"\n"
     ]
    },
    {
     "data": {
      "text/html": [
       "<style>\n",
       ".dl-inline {width: auto; margin:0; padding: 0}\n",
       ".dl-inline>dt, .dl-inline>dd {float: none; width: auto; display: inline-block}\n",
       ".dl-inline>dt::after {content: \":\\0020\"; padding-right: .5ex}\n",
       ".dl-inline>dt:not(:first-of-type) {padding-left: .5ex}\n",
       "</style><dl class=dl-inline><dt>F1-Score</dt><dd>0.862944162436548</dd><dt>Precision</dt><dd>0.875160875160875</dd><dt>Recall</dt><dd>0.851063829787234</dd></dl>\n"
      ],
      "text/latex": [
       "\\begin{description*}\n",
       "\\item[F1-Score] 0.862944162436548\n",
       "\\item[Precision] 0.875160875160875\n",
       "\\item[Recall] 0.851063829787234\n",
       "\\end{description*}\n"
      ],
      "text/markdown": [
       "F1-Score\n",
       ":   0.862944162436548Precision\n",
       ":   0.875160875160875Recall\n",
       ":   0.851063829787234\n",
       "\n"
      ],
      "text/plain": [
       " F1-Score Precision    Recall \n",
       "0.8629442 0.8751609 0.8510638 "
      ]
     },
     "metadata": {},
     "output_type": "display_data"
    }
   ],
   "source": [
    "# Metric for rpartFitCpExperiment\n",
    "\n",
    "predicted13<- predict(rpartFitCpExperiment, newdata = testDF, type = \"class\")\n",
    "\n",
    "\n",
    "f1_val_rpartFit13 <- F1_Score(y_pred = predicted13, y_true = testDF$isSpam, positive = \"T\")\n",
    "precision_rpartFit13 <- Precision(y_pred = predicted13, y_true = testDF$isSpam, positive = \"T\")\n",
    "recall_rpartFit13  <- Recall(y_pred = predicted13, y_true = testDF$isSpam, positive = \"T\")\n",
    "\n",
    "result <- c( f1_val_rpartFit13, precision_rpartFit13, recall_rpartFit13)\n",
    "\n",
    "names(result) <- c(\"F1-Score\",\"Precision\", \"Recall\")\n",
    "print(\"Metrics for rpartFitCpExperiment:\")\n",
    "return(result)"
   ]
  },
  {
   "cell_type": "code",
   "execution_count": 50,
   "metadata": {
    "scrolled": true
   },
   "outputs": [
    {
     "data": {
      "text/html": [
       "<style>\n",
       ".dl-inline {width: auto; margin:0; padding: 0}\n",
       ".dl-inline>dt, .dl-inline>dd {float: none; width: auto; display: inline-block}\n",
       ".dl-inline>dt::after {content: \":\\0020\"; padding-right: .5ex}\n",
       ".dl-inline>dt:not(:first-of-type) {padding-left: .5ex}\n",
       "</style><dl class=dl-inline><dt>perCaps</dt><dd>603.448223004819</dd><dt>bodyCharCt</dt><dd>393.725471117543</dd><dt>numLines</dt><dd>344.159079457559</dd><dt>perHTML</dt><dd>271.404267698051</dd><dt>numDlr</dt><dd>159.28968362399</dd><dt>isInReplyTo</dt><dd>141.260168243689</dd><dt>avgWordLen</dt><dd>139.761882596422</dd><dt>forwards</dt><dd>139.411008668621</dd><dt>isRe</dt><dd>110.530625824373</dd><dt>isWrote</dt><dd>88.5781493036977</dd><dt>subExcCt</dt><dd>87.2118090958787</dd><dt>subBlanks</dt><dd>71.0587370189948</dd><dt>multipartText</dt><dd>49.3549745714207</dd><dt>numEnd</dt><dd>48.5059495502636</dd><dt>numAtt</dt><dd>42.7912353005105</dd><dt>numRec</dt><dd>41.0907466959702</dd><dt>isDear</dt><dd>39.1225585534336</dd><dt>isYelling</dt><dd>32.5346503801538</dd><dt>underscore</dt><dd>25.1621733509081</dd><dt>hour</dt><dd>23.9239845031672</dd><dt>subSpamWords</dt><dd>20.4888231324237</dd><dt>subQuesCt</dt><dd>12.4759143816475</dd><dt>priority</dt><dd>5.03219764515186</dd><dt>isPGPsigned</dt><dd>4.56096791800321</dd><dt>noHost</dt><dd>2.61862080925503</dd><dt>isOrigMsg</dt><dd>1.94639667489933</dd><dt>subPunc</dt><dd>1.0181126677524</dd><dt>hasImages</dt><dd>0.801261636937488</dd></dl>\n"
      ],
      "text/latex": [
       "\\begin{description*}\n",
       "\\item[perCaps] 603.448223004819\n",
       "\\item[bodyCharCt] 393.725471117543\n",
       "\\item[numLines] 344.159079457559\n",
       "\\item[perHTML] 271.404267698051\n",
       "\\item[numDlr] 159.28968362399\n",
       "\\item[isInReplyTo] 141.260168243689\n",
       "\\item[avgWordLen] 139.761882596422\n",
       "\\item[forwards] 139.411008668621\n",
       "\\item[isRe] 110.530625824373\n",
       "\\item[isWrote] 88.5781493036977\n",
       "\\item[subExcCt] 87.2118090958787\n",
       "\\item[subBlanks] 71.0587370189948\n",
       "\\item[multipartText] 49.3549745714207\n",
       "\\item[numEnd] 48.5059495502636\n",
       "\\item[numAtt] 42.7912353005105\n",
       "\\item[numRec] 41.0907466959702\n",
       "\\item[isDear] 39.1225585534336\n",
       "\\item[isYelling] 32.5346503801538\n",
       "\\item[underscore] 25.1621733509081\n",
       "\\item[hour] 23.9239845031672\n",
       "\\item[subSpamWords] 20.4888231324237\n",
       "\\item[subQuesCt] 12.4759143816475\n",
       "\\item[priority] 5.03219764515186\n",
       "\\item[isPGPsigned] 4.56096791800321\n",
       "\\item[noHost] 2.61862080925503\n",
       "\\item[isOrigMsg] 1.94639667489933\n",
       "\\item[subPunc] 1.0181126677524\n",
       "\\item[hasImages] 0.801261636937488\n",
       "\\end{description*}\n"
      ],
      "text/markdown": [
       "perCaps\n",
       ":   603.448223004819bodyCharCt\n",
       ":   393.725471117543numLines\n",
       ":   344.159079457559perHTML\n",
       ":   271.404267698051numDlr\n",
       ":   159.28968362399isInReplyTo\n",
       ":   141.260168243689avgWordLen\n",
       ":   139.761882596422forwards\n",
       ":   139.411008668621isRe\n",
       ":   110.530625824373isWrote\n",
       ":   88.5781493036977subExcCt\n",
       ":   87.2118090958787subBlanks\n",
       ":   71.0587370189948multipartText\n",
       ":   49.3549745714207numEnd\n",
       ":   48.5059495502636numAtt\n",
       ":   42.7912353005105numRec\n",
       ":   41.0907466959702isDear\n",
       ":   39.1225585534336isYelling\n",
       ":   32.5346503801538underscore\n",
       ":   25.1621733509081hour\n",
       ":   23.9239845031672subSpamWords\n",
       ":   20.4888231324237subQuesCt\n",
       ":   12.4759143816475priority\n",
       ":   5.03219764515186isPGPsigned\n",
       ":   4.56096791800321noHost\n",
       ":   2.61862080925503isOrigMsg\n",
       ":   1.94639667489933subPunc\n",
       ":   1.0181126677524hasImages\n",
       ":   0.801261636937488\n",
       "\n"
      ],
      "text/plain": [
       "      perCaps    bodyCharCt      numLines       perHTML        numDlr \n",
       "  603.4482230   393.7254711   344.1590795   271.4042677   159.2896836 \n",
       "  isInReplyTo    avgWordLen      forwards          isRe       isWrote \n",
       "  141.2601682   139.7618826   139.4110087   110.5306258    88.5781493 \n",
       "     subExcCt     subBlanks multipartText        numEnd        numAtt \n",
       "   87.2118091    71.0587370    49.3549746    48.5059496    42.7912353 \n",
       "       numRec        isDear     isYelling    underscore          hour \n",
       "   41.0907467    39.1225586    32.5346504    25.1621734    23.9239845 \n",
       " subSpamWords     subQuesCt      priority   isPGPsigned        noHost \n",
       "   20.4888231    12.4759144     5.0321976     4.5609679     2.6186208 \n",
       "    isOrigMsg       subPunc     hasImages \n",
       "    1.9463967     1.0181127     0.8012616 "
      ]
     },
     "metadata": {},
     "output_type": "display_data"
    }
   ],
   "source": [
    "rpartFitCpExperiment$variable.importance"
   ]
  },
  {
   "cell_type": "markdown",
   "metadata": {},
   "source": [
    "__DD:__ Plot our pruned tree"
   ]
  },
  {
   "cell_type": "code",
   "execution_count": 51,
   "metadata": {
    "scrolled": true
   },
   "outputs": [
    {
     "name": "stderr",
     "output_type": "stream",
     "text": [
      "Warning message:\n",
      "\"labs do not fit even at cex 0.15, there may be some overplotting\"\n"
     ]
    },
    {
     "data": {
      "text/html": [
       "<style>\n",
       ".dl-inline {width: auto; margin:0; padding: 0}\n",
       ".dl-inline>dt, .dl-inline>dd {float: none; width: auto; display: inline-block}\n",
       ".dl-inline>dt::after {content: \":\\0020\"; padding-right: .5ex}\n",
       ".dl-inline>dt:not(:first-of-type) {padding-left: .5ex}\n",
       "</style><dl class=dl-inline><dt>F</dt><dd>2220</dd><dt>T</dt><dd>97</dd></dl>\n"
      ],
      "text/latex": [
       "\\begin{description*}\n",
       "\\item[F] 2220\n",
       "\\item[T] 97\n",
       "\\end{description*}\n"
      ],
      "text/markdown": [
       "F\n",
       ":   2220T\n",
       ":   97\n",
       "\n"
      ],
      "text/plain": [
       "   F    T \n",
       "2220   97 "
      ]
     },
     "metadata": {},
     "output_type": "display_data"
    },
    {
     "data": {
      "image/png": "[encoded data removed]",
      "text/plain": [
       "plot without title"
      ]
     },
     "metadata": {
      "image/png": {
       "height": 420,
       "width": 420
      },
      "text/plain": {
       "height": 420,
       "width": 420
      }
     },
     "output_type": "display_data"
    }
   ],
   "source": [
    "library(rpart.plot)\n",
    "library(RColorBrewer)\n",
    "\n",
    "rpart.plot(rpartFitCpExperiment, extra = 1)\n",
    "predictions = predict(rpartFitCpExperiment, \n",
    "       newdata = testDF[, names(testDF) != \"isSpam\"],\n",
    "       type = \"class\")\n",
    "\n",
    "predsForHam = predictions[ testDF$isSpam == \"F\" ]\n",
    "summary(predsForHam)\n",
    "\n",
    "predsForSpam = predictions[ testDF$isSpam == \"T\" ]\n"
   ]
  },
  {
   "cell_type": "code",
   "execution_count": 52,
   "metadata": {
    "scrolled": true
   },
   "outputs": [
    {
     "data": {
      "text/html": [
       "<span style=white-space:pre-wrap>'Type 1 Error =  0.0418644799309452'</span>"
      ],
      "text/latex": [
       "'Type 1 Error =  0.0418644799309452'"
      ],
      "text/markdown": [
       "<span style=white-space:pre-wrap>'Type 1 Error =  0.0418644799309452'</span>"
      ],
      "text/plain": [
       "[1] \"Type 1 Error =  0.0418644799309452\""
      ]
     },
     "metadata": {},
     "output_type": "display_data"
    },
    {
     "data": {
      "text/html": [
       "<span style=white-space:pre-wrap>'Type 2 Error =  0.148936170212766'</span>"
      ],
      "text/latex": [
       "'Type 2 Error =  0.148936170212766'"
      ],
      "text/markdown": [
       "<span style=white-space:pre-wrap>'Type 2 Error =  0.148936170212766'</span>"
      ],
      "text/plain": [
       "[1] \"Type 2 Error =  0.148936170212766\""
      ]
     },
     "metadata": {},
     "output_type": "display_data"
    }
   ],
   "source": [
    "paste(\"Type 1 Error = \",(sum(predsForHam == \"T\") / length(predsForHam)))\n",
    "paste(\"Type 2 Error = \",(sum(predsForSpam == \"F\") / length(predsForSpam)))"
   ]
  },
  {
   "cell_type": "markdown",
   "metadata": {},
   "source": [
    "We did not improve on the original Type 1 Error _.038_ achieved by the code Dr. Slater's provided. How ever it is interesting to demonstrate that the \"rule of thumb\" produced comparable results."
   ]
  },
  {
   "cell_type": "markdown",
   "metadata": {},
   "source": [
    "Now we try adjusting the \"minsplit\" using fancy fits function"
   ]
  },
  {
   "cell_type": "code",
   "execution_count": 53,
   "metadata": {
    "scrolled": true
   },
   "outputs": [],
   "source": [
    "minsplitvals = c(10:30)"
   ]
  },
  {
   "cell_type": "code",
   "execution_count": 54,
   "metadata": {
    "scrolled": true
   },
   "outputs": [],
   "source": [
    "# minsplitvals "
   ]
  },
  {
   "cell_type": "code",
   "execution_count": 55,
   "metadata": {
    "scrolled": true
   },
   "outputs": [],
   "source": [
    "minbucket = c(10:30)"
   ]
  },
  {
   "cell_type": "code",
   "execution_count": 56,
   "metadata": {
    "scrolled": true
   },
   "outputs": [],
   "source": [
    "fits = lapply(minbucket, function(x) {\n",
    "         rpartObj = rpart(isSpam ~ ., data = trainDF,\n",
    "                          method=\"class\", \n",
    "                          control = rpart.control(minbucket=x) )\n",
    "           \n",
    "         predict(rpartObj, \n",
    "                 newdata = testDF[ , names(testDF) != \"isSpam\"],\n",
    "                 type = \"class\")\n",
    "        })\n",
    "\n",
    "spam = testDF$isSpam == \"T\"\n",
    "numSpam = sum(spam)\n",
    "numHam = sum(!spam)\n",
    "errs = sapply(fits, function(preds) {\n",
    "                      typeI = sum(preds[ !spam ] == \"T\") / numHam\n",
    "                      typeII = sum(preds[ spam ] == \"F\") / numSpam\n",
    "                      c(typeI = typeI, typeII = typeII)\n",
    "                     })"
   ]
  },
  {
   "cell_type": "code",
   "execution_count": 57,
   "metadata": {
    "scrolled": true
   },
   "outputs": [
    {
     "data": {
      "text/html": [
       "<table>\n",
       "<caption>A matrix: 2 × 21 of type dbl</caption>\n",
       "<tbody>\n",
       "\t<tr><th scope=row>typeI</th><td>0.06473889</td><td>0.06473889</td><td>0.06473889</td><td>0.06473889</td><td>0.06473889</td><td>0.06473889</td><td>0.06473889</td><td>0.06473889</td><td>0.06473889</td><td>0.06473889</td><td>...</td><td>0.06473889</td><td>0.06473889</td><td>0.06473889</td><td>0.06473889</td><td>0.06473889</td><td>0.06473889</td><td>0.07078118</td><td>0.07078118</td><td>0.0699180</td><td>0.0699180</td></tr>\n",
       "\t<tr><th scope=row>typeII</th><td>0.18648310</td><td>0.18648310</td><td>0.18648310</td><td>0.18648310</td><td>0.18648310</td><td>0.18648310</td><td>0.18648310</td><td>0.18648310</td><td>0.18648310</td><td>0.18648310</td><td>...</td><td>0.18648310</td><td>0.18648310</td><td>0.18648310</td><td>0.18648310</td><td>0.20400501</td><td>0.20400501</td><td>0.20275344</td><td>0.20275344</td><td>0.2027534</td><td>0.2027534</td></tr>\n",
       "</tbody>\n",
       "</table>\n"
      ],
      "text/latex": [
       "A matrix: 2 × 21 of type dbl\n",
       "\\begin{tabular}{r|lllllllllllllllllllll}\n",
       "\ttypeI & 0.06473889 & 0.06473889 & 0.06473889 & 0.06473889 & 0.06473889 & 0.06473889 & 0.06473889 & 0.06473889 & 0.06473889 & 0.06473889 & ... & 0.06473889 & 0.06473889 & 0.06473889 & 0.06473889 & 0.06473889 & 0.06473889 & 0.07078118 & 0.07078118 & 0.0699180 & 0.0699180\\\\\n",
       "\ttypeII & 0.18648310 & 0.18648310 & 0.18648310 & 0.18648310 & 0.18648310 & 0.18648310 & 0.18648310 & 0.18648310 & 0.18648310 & 0.18648310 & ... & 0.18648310 & 0.18648310 & 0.18648310 & 0.18648310 & 0.20400501 & 0.20400501 & 0.20275344 & 0.20275344 & 0.2027534 & 0.2027534\\\\\n",
       "\\end{tabular}\n"
      ],
      "text/markdown": [
       "\n",
       "A matrix: 2 × 21 of type dbl\n",
       "\n",
       "| typeI | 0.06473889 | 0.06473889 | 0.06473889 | 0.06473889 | 0.06473889 | 0.06473889 | 0.06473889 | 0.06473889 | 0.06473889 | 0.06473889 | ... | 0.06473889 | 0.06473889 | 0.06473889 | 0.06473889 | 0.06473889 | 0.06473889 | 0.07078118 | 0.07078118 | 0.0699180 | 0.0699180 |\n",
       "| typeII | 0.18648310 | 0.18648310 | 0.18648310 | 0.18648310 | 0.18648310 | 0.18648310 | 0.18648310 | 0.18648310 | 0.18648310 | 0.18648310 | ... | 0.18648310 | 0.18648310 | 0.18648310 | 0.18648310 | 0.20400501 | 0.20400501 | 0.20275344 | 0.20275344 | 0.2027534 | 0.2027534 |\n",
       "\n"
      ],
      "text/plain": [
       "       [,1]       [,2]       [,3]       [,4]       [,5]       [,6]      \n",
       "typeI  0.06473889 0.06473889 0.06473889 0.06473889 0.06473889 0.06473889\n",
       "typeII 0.18648310 0.18648310 0.18648310 0.18648310 0.18648310 0.18648310\n",
       "       [,7]       [,8]       [,9]       [,10]      [,11] [,12]      [,13]     \n",
       "typeI  0.06473889 0.06473889 0.06473889 0.06473889 ...   0.06473889 0.06473889\n",
       "typeII 0.18648310 0.18648310 0.18648310 0.18648310 ...   0.18648310 0.18648310\n",
       "       [,14]      [,15]      [,16]      [,17]      [,18]      [,19]     \n",
       "typeI  0.06473889 0.06473889 0.06473889 0.06473889 0.07078118 0.07078118\n",
       "typeII 0.18648310 0.18648310 0.20400501 0.20400501 0.20275344 0.20275344\n",
       "       [,20]     [,21]    \n",
       "typeI  0.0699180 0.0699180\n",
       "typeII 0.2027534 0.2027534"
      ]
     },
     "metadata": {},
     "output_type": "display_data"
    }
   ],
   "source": [
    "errs"
   ]
  },
  {
   "cell_type": "code",
   "execution_count": 58,
   "metadata": {
    "scrolled": true
   },
   "outputs": [
    {
     "data": {
      "image/png": "[encoded data removed]",
      "text/plain": [
       "plot without title"
      ]
     },
     "metadata": {
      "image/png": {
       "height": 420,
       "width": 420
      },
      "text/plain": {
       "height": 420,
       "width": 420
      }
     },
     "output_type": "display_data"
    }
   ],
   "source": [
    "\n",
    "#pdf(\"SPAM_rpartTypeIandII.pdf\", width = 8, height = 7)\n",
    "library(RColorBrewer)\n",
    "cols = brewer.pal(9, \"Set1\")[c(3, 4, 5)]\n",
    "plot(errs[1,] ~ minbucket, type=\"l\", col=cols[2], \n",
    "     lwd = 2, ylim = c(0,0.2), xlim = c(0,0.01), \n",
    "     ylab=\"Error\", xlab=\"Minbucket parameter values\")\n",
    "points(errs[2,] ~ minbucket, type=\"l\", col=cols[1], lwd = 2)\n",
    "\n",
    "text(x =c(0.003, 0.0035), y = c(0.12, 0.05), \n",
    "     labels=c(\"Type II Error\", \"Type I Error\"))\n",
    "\n",
    "minI = which(errs[1,] == min(errs[1,]))[1]\n",
    "abline(v = minbucket[minI], col =\"grey\", lty =3, lwd=2)\n",
    "\n",
    "text(0.0007, errs[1, minI]+0.01, \n",
    "     formatC(errs[1, minI], digits = 2))\n",
    "text(0.0007, errs[2, minI]+0.01, \n",
    "     formatC(errs[2, minI], digits = 3))\n",
    "\n",
    "#dev.off()"
   ]
  },
  {
   "cell_type": "code",
   "execution_count": 59,
   "metadata": {
    "scrolled": true
   },
   "outputs": [],
   "source": [
    "#save(emailDFrp,file=\"data.Rda\")\n",
    "load(file=\"./From 2ds/data.Rda\")"
   ]
  },
  {
   "cell_type": "markdown",
   "metadata": {},
   "source": [
    "__Textbook question 20__  \n",
    "In Section 3.6.3 we used the test set that we had put aside to both select τ, the threshold for the log odds, and to evaluate the Type I and II errors incurred when we use this threshold. Ideally, we choose τ from another set of messages that is both independent of our training data and our test data. The method of cross-validation is designed to use the training set for training and validating the model. Implement 5-fold cross-validation to choose τ and assess the error rate with our training data. To do this, follow the steps:  \n",
    "__(a)__ Use the sample() function to permute the indices of the training set, and organize these permuted indices into 5 equal-size sets, called folds.  \n",
    "__(b)__ Foreachfold,takethecorrespondingsubsetfromthetrainingdatatouseasa‘test’ set. Use the remaining messages in the training data as the training set. Apply the functions developed in Section 3.6 to estimate the probabilities that a word occurs in a message given it is spam or ham, and use these probabilities to compute the log likelihood ratio for the messages in the training set.  \n",
    "__(c)__ Pool all of the LLR values from the messages in all of the folds, i.e., from all of the training data, and use these values and the typeIErrorRate() function to select a threshold that achieves a 1% Type I error.  \n",
    "__(d)__ Apply this threshold to our original/real test set and ﬁnd its Type I and Type II errors."
   ]
  },
  {
   "cell_type": "markdown",
   "metadata": {},
   "source": [
    "### LJ note:\n",
    "### plan to do these things:\n",
    "\n",
    "#### 1. see how the cp will affect on the tree while holding others constant using rpart\n",
    "\n",
    "#### 2. set cp small and find optimal cp, then prune tree based on cp\n",
    "prune fit0\n",
    "#### see how pruning affect the model performance\n",
    "\n",
    "#### 3. focus on tune cp and MaxDepth and keep other values constant.\n",
    "(rpartFit 0-10. combination of 9, plus rpartFit0 - vanilla model.)\n",
    "cp 0.0001  0.002  0.01\n",
    "\n",
    "MaxDepth 4,6,10 \n",
    "\n",
    "cp-- prevent overfitting. higher, less split. too low underfit; too high overfit. max value is 1\n",
    "\n",
    "MaxDepth -- of the final tree\n",
    "\n",
    "minsplit --any node with number of n will not get further split.\n",
    " the number of required classified observations in a node before a split can happen. seems default 20. set it to 10? or just keep 20.\n",
    "\n",
    "xval -- the number (x) of cross validations to be carried out on the data. default 10. repeat 5 fold cross validation for 10 times.\n",
    "\n",
    "did not test on other parameters like maxcomplete.\n",
    "\n",
    "\n",
    "\n",
    "#### 4. use rpart package see how the cp will affect on the tree while holding others constant\n",
    "#### caret package can grid search cp, also print F1, prec, rec"
   ]
  },
  {
   "cell_type": "markdown",
   "metadata": {},
   "source": [
    "## Task 1\n",
    "### use rpart package see how the cp will affect on the tree while holding others constant"
   ]
  },
  {
   "cell_type": "code",
   "execution_count": 60,
   "metadata": {
    "scrolled": true
   },
   "outputs": [],
   "source": [
    "# function to fit the given model\n",
    "rpartFitFunc = function(rpartFit,fileNamePostfix) {\n",
    "    print(rpartFit)\n",
    "    prp(rpartFit, extra = 1)\n",
    "    \n",
    "    fileName = paste('SPAM__rpartTree',fileNamePostfix,'.png',sep=\"\")\n",
    "    dev.copy(png,fileName)\n",
    "    dev.off()\n",
    "\n",
    "    predictions = predict(rpartFit, \n",
    "           newdata = testDF[, names(testDF) != \"isSpam\"],\n",
    "           type = \"class\")\n",
    "\n",
    "    predsForHam = predictions[ testDF$isSpam == \"F\" ]\n",
    "    summary(predsForHam)\n",
    "\n",
    "    sum(predsForHam == \"T\") / length(predsForHam)\n",
    "\n",
    "    predsForSpam = predictions[ testDF$isSpam == \"T\" ]\n",
    "    sum(predsForSpam == \"F\") / length(predsForSpam)\n",
    "\n",
    "    complexityVals = c(seq(0.00001, 0.0001, length=19),\n",
    "                       seq(0.0001, 0.001, length=19), \n",
    "                       seq(0.001, 0.005, length=9),\n",
    "                       seq(0.005, 0.01, length=9))\n",
    "    \n",
    "    fits = lapply(complexityVals, function(x) {\n",
    "         rpartObj = rpart(isSpam ~ ., data = trainDF,\n",
    "                          method=\"class\", \n",
    "                          control = rpart.control(cp=x) )\n",
    "           \n",
    "         predict(rpartObj, \n",
    "                 newdata = testDF[ , names(testDF) != \"isSpam\"],\n",
    "                 type = \"class\")\n",
    "        })\n",
    "\n",
    "    spam = testDF$isSpam == \"T\"\n",
    "    numSpam = sum(spam)\n",
    "    numHam = sum(!spam)\n",
    "    errs = sapply(fits, function(preds) {\n",
    "                          typeI = sum(preds[ !spam ] == \"T\") / numHam\n",
    "                          typeII = sum(preds[ spam ] == \"F\") / numSpam\n",
    "                          c(typeI = typeI, typeII = typeII)\n",
    "                         })\n",
    "    \n",
    "    cols = brewer.pal(9, \"Set1\")[c(3, 4, 5)]\n",
    "    plot(errs[1,] ~ complexityVals, type=\"l\", col=cols[2], \n",
    "         lwd = 2, ylim = c(0,0.2), xlim = c(0,0.01), \n",
    "         ylab=\"Error\", xlab=\"complexity parameter values\")\n",
    "    points(errs[2,] ~ complexityVals, type=\"l\", col=cols[1], lwd = 2)\n",
    "\n",
    "    text(x =c(0.003, 0.0035), y = c(0.12, 0.05), \n",
    "         labels=c(\"Type II Error\", \"Type I Error\"))\n",
    "\n",
    "    minI = which(errs[1,] == min(errs[1,]))[1]\n",
    "    abline(v = complexityVals[minI], col =\"grey\", lty =3, lwd=2)\n",
    "\n",
    "    text(0.0007, errs[1, minI]+0.01, \n",
    "         formatC(errs[1, minI], digits = 2))\n",
    "    text(0.0007, errs[2, minI]+0.01, \n",
    "         formatC(errs[2, minI], digits = 3))\n",
    "\n",
    "    }"
   ]
  },
  {
   "cell_type": "code",
   "execution_count": 61,
   "metadata": {
    "scrolled": true
   },
   "outputs": [
    {
     "name": "stdout",
     "output_type": "stream",
     "text": [
      "n= 6232 \n",
      "\n",
      "node), split, n, loss, yval, (yprob)\n",
      "      * denotes terminal node\n",
      "\n",
      "     1) root 6232 1598 F (0.743581515 0.256418485)  \n",
      "       2) perCaps< 12.86122 5342  904 F (0.830774991 0.169225009)  \n",
      "         4) perHTML< 3.926441 4912  614 F (0.875000000 0.125000000)  \n",
      "           8) forwards>=0.2055889 2305   15 F (0.993492408 0.006507592)  \n",
      "            16) forwards>=4.494949 2131    3 F (0.998592210 0.001407790) *\n",
      "            17) forwards< 4.494949 174   12 F (0.931034483 0.068965517)  \n",
      "              34) perCaps< 10.68646 164    8 F (0.951219512 0.048780488)  \n",
      "                68) numDlr< 0.5 129    0 F (1.000000000 0.000000000) *\n",
      "                69) numDlr>=0.5 35    8 F (0.771428571 0.228571429)  \n",
      "                 138) isInReplyTo=T 14    0 F (1.000000000 0.000000000) *\n",
      "                 139) isInReplyTo=F 21    8 F (0.619047619 0.380952381)  \n",
      "                   278) avgWordLen>=4.725079 11    1 F (0.909090909 0.090909091) *\n",
      "                   279) avgWordLen< 4.725079 10    3 T (0.300000000 0.700000000) *\n",
      "              35) perCaps>=10.68646 10    4 F (0.600000000 0.400000000) *\n",
      "           9) forwards< 0.2055889 2607  599 F (0.770233985 0.229766015)  \n",
      "            18) subExcCt< 0.5 2444  480 F (0.803600655 0.196399345)  \n",
      "              36) numDlr< 0.5 2053  292 F (0.857769118 0.142230882)  \n",
      "                72) subBlanks< 24.72727 2013  252 F (0.874813711 0.125186289)  \n",
      "                 144) multipartText=F 1915  197 F (0.897127937 0.102872063)  \n",
      "                   288) isDear=F 1891  173 F (0.908514014 0.091485986)  \n",
      "                     576) numEnd=F 1815  134 F (0.926170799 0.073829201)  \n",
      "                      1152) isYelling=F 1796  119 F (0.933741648 0.066258352)  \n",
      "                        2304) avgWordLen>=2.76982 1787  110 F (0.938444320 0.061555680)  \n",
      "                          4608) subSpamWords=F 1731   88 F (0.949162334 0.050837666)  \n",
      "                            9216) numRec>=0.5 1719   80 F (0.953461315 0.046538685)  \n",
      "                             18432) avgWordLen< 5.265122 1616   59 F (0.963490099 0.036509901)  \n",
      "                               36864) numRec< 4.5 1608   54 F (0.966417910 0.033582090)  \n",
      "                                 73728) hour< 22.5 1562   47 F (0.969910371 0.030089629)  \n",
      "                                  147456) perCaps< 10.09911 1435   34 F (0.976306620 0.023693380) *\n",
      "                                  147457) perCaps>=10.09911 127   13 F (0.897637795 0.102362205)  \n",
      "                                    294914) bodyCharCt< 547.5 95    0 F (1.000000000 0.000000000) *\n",
      "                                    294915) bodyCharCt>=547.5 32   13 F (0.593750000 0.406250000)  \n",
      "                                      589830) avgWordLen< 4.547033 18    3 F (0.833333333 0.166666667) *\n",
      "                                      589831) avgWordLen>=4.547033 14    4 T (0.285714286 0.714285714) *\n",
      "                                 73729) hour>=22.5 46    7 F (0.847826087 0.152173913) *\n",
      "                               36865) numRec>=4.5 8    3 T (0.375000000 0.625000000) *\n",
      "                             18433) avgWordLen>=5.265122 103   21 F (0.796116505 0.203883495)  \n",
      "                               36866) perCaps< 8.470071 82    9 F (0.890243902 0.109756098) *\n",
      "                               36867) perCaps>=8.470071 21    9 T (0.428571429 0.571428571)  \n",
      "                                 73734) numLines< 31.5 8    0 F (1.000000000 0.000000000) *\n",
      "                                 73735) numLines>=31.5 13    1 T (0.076923077 0.923076923) *\n",
      "                            9217) numRec< 0.5 12    4 T (0.333333333 0.666666667) *\n",
      "                          4609) subSpamWords=T 56   22 F (0.607142857 0.392857143)  \n",
      "                            9218) bodyCharCt< 515.5 20    0 F (1.000000000 0.000000000) *\n",
      "                            9219) bodyCharCt>=515.5 36   14 T (0.388888889 0.611111111)  \n",
      "                             18438) avgWordLen>=4.487988 19    7 F (0.631578947 0.368421053) *\n",
      "                             18439) avgWordLen< 4.487988 17    2 T (0.117647059 0.882352941) *\n",
      "                        2305) avgWordLen< 2.76982 9    0 T (0.000000000 1.000000000) *\n",
      "                      1153) isYelling=T 19    4 T (0.210526316 0.789473684) *\n",
      "                     577) numEnd=T 76   37 T (0.486842105 0.513157895)  \n",
      "                      1154) isInReplyTo=T 11    0 F (1.000000000 0.000000000) *\n",
      "                      1155) isInReplyTo=F 65   26 T (0.400000000 0.600000000)  \n",
      "                        2310) numLines< 18.5 11    2 F (0.818181818 0.181818182) *\n",
      "                        2311) numLines>=18.5 54   17 T (0.314814815 0.685185185)  \n",
      "                          4622) avgWordLen< 4.248252 11    4 F (0.636363636 0.363636364) *\n",
      "                          4623) avgWordLen>=4.248252 43   10 T (0.232558140 0.767441860)  \n",
      "                            9246) bodyCharCt>=2922 7    2 F (0.714285714 0.285714286) *\n",
      "                            9247) bodyCharCt< 2922 36    5 T (0.138888889 0.861111111) *\n",
      "                   289) isDear=T 24    0 T (0.000000000 1.000000000) *\n",
      "                 145) multipartText=T 98   43 T (0.438775510 0.561224490)  \n",
      "                   290) bodyCharCt< 640.5 28    2 F (0.928571429 0.071428571) *\n",
      "                   291) bodyCharCt>=640.5 70   17 T (0.242857143 0.757142857)  \n",
      "                     582) avgWordLen< 4.624445 21    9 F (0.571428571 0.428571429)  \n",
      "                      1164) hour>=11.5 14    2 F (0.857142857 0.142857143) *\n",
      "                      1165) hour< 11.5 7    0 T (0.000000000 1.000000000) *\n",
      "                     583) avgWordLen>=4.624445 49    5 T (0.102040816 0.897959184)  \n",
      "                      1166) avgWordLen>=5.084898 20    5 T (0.250000000 0.750000000)  \n",
      "                        2332) hour< 18.5 8    3 F (0.625000000 0.375000000) *\n",
      "                        2333) hour>=18.5 12    0 T (0.000000000 1.000000000) *\n",
      "                      1167) avgWordLen< 5.084898 29    0 T (0.000000000 1.000000000) *\n",
      "                73) subBlanks>=24.72727 40    0 T (0.000000000 1.000000000) *\n",
      "              37) numDlr>=0.5 391  188 F (0.519181586 0.480818414)  \n",
      "                74) bodyCharCt>=3948 111   21 F (0.810810811 0.189189189)  \n",
      "                 148) numDlr< 9 86    6 F (0.930232558 0.069767442) *\n",
      "                 149) numDlr>=9 25   10 T (0.400000000 0.600000000)  \n",
      "                   298) bodyCharCt< 16552.5 16    6 F (0.625000000 0.375000000) *\n",
      "                   299) bodyCharCt>=16552.5 9    0 T (0.000000000 1.000000000) *\n",
      "                75) bodyCharCt< 3948 280  113 T (0.403571429 0.596428571)  \n",
      "                 150) isRe=T 26    0 F (1.000000000 0.000000000) *\n",
      "                 151) isRe=F 254   87 T (0.342519685 0.657480315)  \n",
      "                   302) numEnd=F 203   84 T (0.413793103 0.586206897)  \n",
      "                     604) numAtt< 0.5 160   80 F (0.500000000 0.500000000)  \n",
      "                      1208) isYelling=F 143   63 F (0.559440559 0.440559441)  \n",
      "                        2416) underscore=F 128   48 F (0.625000000 0.375000000)  \n",
      "                          4832) perCaps>=3.716025 102   30 F (0.705882353 0.294117647)  \n",
      "                            9664) subSpamWords=F 93   22 F (0.763440860 0.236559140)  \n",
      "                             19328) hour< 19.5 74   12 F (0.837837838 0.162162162)  \n",
      "                               38656) subBlanks< 12.97335 50    3 F (0.940000000 0.060000000) *\n",
      "                               38657) subBlanks>=12.97335 24    9 F (0.625000000 0.375000000)  \n",
      "                                 77314) subBlanks>=15.69231 16    2 F (0.875000000 0.125000000) *\n",
      "                                 77315) subBlanks< 15.69231 8    1 T (0.125000000 0.875000000) *\n",
      "                             19329) hour>=19.5 19    9 T (0.473684211 0.526315789) *\n",
      "                            9665) subSpamWords=T 9    1 T (0.111111111 0.888888889) *\n",
      "                          4833) perCaps< 3.716025 26    8 T (0.307692308 0.692307692)  \n",
      "                            9666) subBlanks< 6.458333 7    1 F (0.857142857 0.142857143) *\n",
      "                            9667) subBlanks>=6.458333 19    2 T (0.105263158 0.894736842) *\n",
      "                        2417) underscore=T 15    0 T (0.000000000 1.000000000) *\n",
      "                      1209) isYelling=T 17    0 T (0.000000000 1.000000000) *\n",
      "                     605) numAtt>=0.5 43    4 T (0.093023256 0.906976744) *\n",
      "                   303) numEnd=T 51    3 T (0.058823529 0.941176471) *\n",
      "            19) subExcCt>=0.5 163   44 T (0.269938650 0.730061350)  \n",
      "              38) bodyCharCt< 409 15    1 F (0.933333333 0.066666667) *\n",
      "              39) bodyCharCt>=409 148   30 T (0.202702703 0.797297297)  \n",
      "                78) avgWordLen< 4.092066 12    4 F (0.666666667 0.333333333) *\n",
      "                79) avgWordLen>=4.092066 136   22 T (0.161764706 0.838235294)  \n",
      "                 158) subBlanks< 13.48485 47   15 T (0.319148936 0.680851064)  \n",
      "                   316) avgWordLen< 4.363759 8    2 F (0.750000000 0.250000000) *\n",
      "                   317) avgWordLen>=4.363759 39    9 T (0.230769231 0.769230769)  \n",
      "                     634) numLines< 22 8    3 F (0.625000000 0.375000000) *\n",
      "                     635) numLines>=22 31    4 T (0.129032258 0.870967742) *\n",
      "                 159) subBlanks>=13.48485 89    7 T (0.078651685 0.921348315) *\n",
      "         5) perHTML>=3.926441 430  140 T (0.325581395 0.674418605)  \n",
      "          10) bodyCharCt>=14523.5 154   21 F (0.863636364 0.136363636)  \n",
      "            20) numDlr< 12.5 142    9 F (0.936619718 0.063380282)  \n",
      "              40) avgWordLen< 4.585525 135    5 F (0.962962963 0.037037037) *\n",
      "              41) avgWordLen>=4.585525 7    3 T (0.428571429 0.571428571) *\n",
      "            21) numDlr>=12.5 12    0 T (0.000000000 1.000000000) *\n",
      "          11) bodyCharCt< 14523.5 276    7 T (0.025362319 0.974637681) *\n",
      "       3) perCaps>=12.86122 890  196 T (0.220224719 0.779775281)  \n",
      "         6) bodyCharCt< 277.5 93   11 F (0.881720430 0.118279570)  \n",
      "          12) subExcCt< 0.5 86    6 F (0.930232558 0.069767442)  \n",
      "            24) bodyCharCt< 177 65    0 F (1.000000000 0.000000000) *\n",
      "            25) bodyCharCt>=177 21    6 F (0.714285714 0.285714286)  \n",
      "              50) bodyCharCt>=208.5 11    0 F (1.000000000 0.000000000) *\n",
      "              51) bodyCharCt< 208.5 10    4 T (0.400000000 0.600000000) *\n",
      "          13) subExcCt>=0.5 7    2 T (0.285714286 0.714285714) *\n",
      "         7) bodyCharCt>=277.5 797  114 T (0.143036386 0.856963614)  \n",
      "          14) isInReplyTo=T 30    0 F (1.000000000 0.000000000) *\n",
      "          15) isInReplyTo=F 767   84 T (0.109517601 0.890482399)  \n",
      "            30) isWrote=T 8    0 F (1.000000000 0.000000000) *\n",
      "            31) isWrote=F 759   76 T (0.100131752 0.899868248)  \n",
      "              62) perCaps< 22.25712 359   63 T (0.175487465 0.824512535)  \n",
      "               124) subBlanks< 16.06452 224   61 T (0.272321429 0.727678571)  \n",
      "                 248) avgWordLen>=4.139308 151   57 T (0.377483444 0.622516556)  \n",
      "                   496) numRec< 1.5 130   57 T (0.438461538 0.561538462)  \n",
      "                     992) numDlr< 0.5 72   29 F (0.597222222 0.402777778)  \n",
      "                      1984) perHTML< 9.566407 55   14 F (0.745454545 0.254545455) *\n",
      "                      1985) perHTML>=9.566407 17    2 T (0.117647059 0.882352941) *\n",
      "                     993) numDlr>=0.5 58   14 T (0.241379310 0.758620690)  \n",
      "                      1986) numLines>=269 13    4 F (0.692307692 0.307692308) *\n",
      "                      1987) numLines< 269 45    5 T (0.111111111 0.888888889) *\n",
      "                   497) numRec>=1.5 21    0 T (0.000000000 1.000000000) *\n",
      "                 249) avgWordLen< 4.139308 73    4 T (0.054794521 0.945205479) *\n",
      "               125) subBlanks>=16.06452 135    2 T (0.014814815 0.985185185) *\n",
      "              63) perCaps>=22.25712 400   13 T (0.032500000 0.967500000) *\n"
     ]
    },
    {
     "data": {
      "image/png": "[encoded data removed]",
      "text/plain": [
       "plot without title"
      ]
     },
     "metadata": {
      "image/png": {
       "height": 420,
       "width": 420
      },
      "text/plain": {
       "height": 420,
       "width": 420
      }
     },
     "output_type": "display_data"
    },
    {
     "name": "stdout",
     "output_type": "stream",
     "text": [
      "n= 6232 \n",
      "\n",
      "node), split, n, loss, yval, (yprob)\n",
      "      * denotes terminal node\n",
      "\n",
      "    1) root 6232 1598 F (0.743581515 0.256418485)  \n",
      "      2) perCaps< 12.86122 5342  904 F (0.830774991 0.169225009)  \n",
      "        4) perHTML< 3.926441 4912  614 F (0.875000000 0.125000000)  \n",
      "          8) forwards>=0.2055889 2305   15 F (0.993492408 0.006507592) *\n",
      "          9) forwards< 0.2055889 2607  599 F (0.770233985 0.229766015)  \n",
      "           18) subExcCt< 0.5 2444  480 F (0.803600655 0.196399345)  \n",
      "             36) numDlr< 0.5 2053  292 F (0.857769118 0.142230882)  \n",
      "               72) subBlanks< 24.72727 2013  252 F (0.874813711 0.125186289)  \n",
      "                144) multipartText=F 1915  197 F (0.897127937 0.102872063)  \n",
      "                  288) isDear=F 1891  173 F (0.908514014 0.091485986)  \n",
      "                    576) numEnd=F 1815  134 F (0.926170799 0.073829201)  \n",
      "                     1152) isYelling=F 1796  119 F (0.933741648 0.066258352)  \n",
      "                       2304) avgWordLen>=2.76982 1787  110 F (0.938444320 0.061555680)  \n",
      "                         4608) subSpamWords=F 1731   88 F (0.949162334 0.050837666)  \n",
      "                           9216) numRec>=0.5 1719   80 F (0.953461315 0.046538685)  \n",
      "                            18432) avgWordLen< 5.265122 1616   59 F (0.963490099 0.036509901) *\n",
      "                            18433) avgWordLen>=5.265122 103   21 F (0.796116505 0.203883495)  \n",
      "                              36866) perCaps< 8.470071 82    9 F (0.890243902 0.109756098) *\n",
      "                              36867) perCaps>=8.470071 21    9 T (0.428571429 0.571428571)  \n",
      "                                73734) numLines< 31.5 8    0 F (1.000000000 0.000000000) *\n",
      "                                73735) numLines>=31.5 13    1 T (0.076923077 0.923076923) *\n",
      "                           9217) numRec< 0.5 12    4 T (0.333333333 0.666666667) *\n",
      "                         4609) subSpamWords=T 56   22 F (0.607142857 0.392857143)  \n",
      "                           9218) bodyCharCt< 515.5 20    0 F (1.000000000 0.000000000) *\n",
      "                           9219) bodyCharCt>=515.5 36   14 T (0.388888889 0.611111111)  \n",
      "                            18438) avgWordLen>=4.487988 19    7 F (0.631578947 0.368421053) *\n",
      "                            18439) avgWordLen< 4.487988 17    2 T (0.117647059 0.882352941) *\n",
      "                       2305) avgWordLen< 2.76982 9    0 T (0.000000000 1.000000000) *\n",
      "                     1153) isYelling=T 19    4 T (0.210526316 0.789473684) *\n",
      "                    577) numEnd=T 76   37 T (0.486842105 0.513157895)  \n",
      "                     1154) isInReplyTo=T 11    0 F (1.000000000 0.000000000) *\n",
      "                     1155) isInReplyTo=F 65   26 T (0.400000000 0.600000000)  \n",
      "                       2310) numLines< 18.5 11    2 F (0.818181818 0.181818182) *\n",
      "                       2311) numLines>=18.5 54   17 T (0.314814815 0.685185185) *\n",
      "                  289) isDear=T 24    0 T (0.000000000 1.000000000) *\n",
      "                145) multipartText=T 98   43 T (0.438775510 0.561224490)  \n",
      "                  290) bodyCharCt< 640.5 28    2 F (0.928571429 0.071428571) *\n",
      "                  291) bodyCharCt>=640.5 70   17 T (0.242857143 0.757142857)  \n",
      "                    582) avgWordLen< 4.624445 21    9 F (0.571428571 0.428571429)  \n",
      "                     1164) hour>=11.5 14    2 F (0.857142857 0.142857143) *\n",
      "                     1165) hour< 11.5 7    0 T (0.000000000 1.000000000) *\n",
      "                    583) avgWordLen>=4.624445 49    5 T (0.102040816 0.897959184) *\n",
      "               73) subBlanks>=24.72727 40    0 T (0.000000000 1.000000000) *\n",
      "             37) numDlr>=0.5 391  188 F (0.519181586 0.480818414)  \n",
      "               74) bodyCharCt>=3948 111   21 F (0.810810811 0.189189189)  \n",
      "                148) numDlr< 9 86    6 F (0.930232558 0.069767442) *\n",
      "                149) numDlr>=9 25   10 T (0.400000000 0.600000000)  \n",
      "                  298) bodyCharCt< 16552.5 16    6 F (0.625000000 0.375000000) *\n",
      "                  299) bodyCharCt>=16552.5 9    0 T (0.000000000 1.000000000) *\n",
      "               75) bodyCharCt< 3948 280  113 T (0.403571429 0.596428571)  \n",
      "                150) isRe=T 26    0 F (1.000000000 0.000000000) *\n",
      "                151) isRe=F 254   87 T (0.342519685 0.657480315)  \n",
      "                  302) numEnd=F 203   84 T (0.413793103 0.586206897)  \n",
      "                    604) numAtt< 0.5 160   80 F (0.500000000 0.500000000)  \n",
      "                     1208) isYelling=F 143   63 F (0.559440559 0.440559441)  \n",
      "                       2416) underscore=F 128   48 F (0.625000000 0.375000000)  \n",
      "                         4832) perCaps>=3.716025 102   30 F (0.705882353 0.294117647)  \n",
      "                           9664) subSpamWords=F 93   22 F (0.763440860 0.236559140) *\n",
      "                           9665) subSpamWords=T 9    1 T (0.111111111 0.888888889) *\n",
      "                         4833) perCaps< 3.716025 26    8 T (0.307692308 0.692307692)  \n",
      "                           9666) subBlanks< 6.458333 7    1 F (0.857142857 0.142857143) *\n",
      "                           9667) subBlanks>=6.458333 19    2 T (0.105263158 0.894736842) *\n",
      "                       2417) underscore=T 15    0 T (0.000000000 1.000000000) *\n",
      "                     1209) isYelling=T 17    0 T (0.000000000 1.000000000) *\n",
      "                    605) numAtt>=0.5 43    4 T (0.093023256 0.906976744) *\n",
      "                  303) numEnd=T 51    3 T (0.058823529 0.941176471) *\n",
      "           19) subExcCt>=0.5 163   44 T (0.269938650 0.730061350)  \n",
      "             38) bodyCharCt< 409 15    1 F (0.933333333 0.066666667) *\n",
      "             39) bodyCharCt>=409 148   30 T (0.202702703 0.797297297)  \n",
      "               78) avgWordLen< 4.092066 12    4 F (0.666666667 0.333333333) *\n",
      "               79) avgWordLen>=4.092066 136   22 T (0.161764706 0.838235294) *\n",
      "        5) perHTML>=3.926441 430  140 T (0.325581395 0.674418605)  \n",
      "         10) bodyCharCt>=14523.5 154   21 F (0.863636364 0.136363636)  \n",
      "           20) numDlr< 12.5 142    9 F (0.936619718 0.063380282) *\n",
      "           21) numDlr>=12.5 12    0 T (0.000000000 1.000000000) *\n",
      "         11) bodyCharCt< 14523.5 276    7 T (0.025362319 0.974637681) *\n",
      "      3) perCaps>=12.86122 890  196 T (0.220224719 0.779775281)  \n",
      "        6) bodyCharCt< 277.5 93   11 F (0.881720430 0.118279570) *\n",
      "        7) bodyCharCt>=277.5 797  114 T (0.143036386 0.856963614)  \n",
      "         14) isInReplyTo=T 30    0 F (1.000000000 0.000000000) *\n",
      "         15) isInReplyTo=F 767   84 T (0.109517601 0.890482399)  \n",
      "           30) isWrote=T 8    0 F (1.000000000 0.000000000) *\n",
      "           31) isWrote=F 759   76 T (0.100131752 0.899868248) *\n"
     ]
    },
    {
     "data": {
      "image/png": "[encoded data removed]",
      "text/plain": [
       "plot without title"
      ]
     },
     "metadata": {
      "image/png": {
       "height": 420,
       "width": 420
      },
      "text/plain": {
       "height": 420,
       "width": 420
      }
     },
     "output_type": "display_data"
    },
    {
     "data": {
      "image/png": "[encoded data removed]",
      "text/plain": [
       "plot without title"
      ]
     },
     "metadata": {
      "image/png": {
       "height": 420,
       "width": 420
      },
      "text/plain": {
       "height": 420,
       "width": 420
      }
     },
     "output_type": "display_data"
    },
    {
     "name": "stdout",
     "output_type": "stream",
     "text": [
      "n= 6232 \n",
      "\n",
      "node), split, n, loss, yval, (yprob)\n",
      "      * denotes terminal node\n",
      "\n",
      "  1) root 6232 1598 F (0.743581515 0.256418485)  \n",
      "    2) perCaps< 12.86122 5342  904 F (0.830774991 0.169225009)  \n",
      "      4) perHTML< 3.926441 4912  614 F (0.875000000 0.125000000)  \n",
      "        8) forwards>=0.2055889 2305   15 F (0.993492408 0.006507592) *\n",
      "        9) forwards< 0.2055889 2607  599 F (0.770233985 0.229766015)  \n",
      "         18) subExcCt< 0.5 2444  480 F (0.803600655 0.196399345)  \n",
      "           36) numDlr< 0.5 2053  292 F (0.857769118 0.142230882)  \n",
      "             72) subBlanks< 24.72727 2013  252 F (0.874813711 0.125186289)  \n",
      "              144) multipartText=F 1915  197 F (0.897127937 0.102872063)  \n",
      "                288) isDear=F 1891  173 F (0.908514014 0.091485986) *\n",
      "                289) isDear=T 24    0 T (0.000000000 1.000000000) *\n",
      "              145) multipartText=T 98   43 T (0.438775510 0.561224490)  \n",
      "                290) bodyCharCt< 640.5 28    2 F (0.928571429 0.071428571) *\n",
      "                291) bodyCharCt>=640.5 70   17 T (0.242857143 0.757142857) *\n",
      "             73) subBlanks>=24.72727 40    0 T (0.000000000 1.000000000) *\n",
      "           37) numDlr>=0.5 391  188 F (0.519181586 0.480818414)  \n",
      "             74) bodyCharCt>=3948 111   21 F (0.810810811 0.189189189) *\n",
      "             75) bodyCharCt< 3948 280  113 T (0.403571429 0.596428571)  \n",
      "              150) isRe=T 26    0 F (1.000000000 0.000000000) *\n",
      "              151) isRe=F 254   87 T (0.342519685 0.657480315) *\n",
      "         19) subExcCt>=0.5 163   44 T (0.269938650 0.730061350) *\n",
      "      5) perHTML>=3.926441 430  140 T (0.325581395 0.674418605)  \n",
      "       10) bodyCharCt>=14523.5 154   21 F (0.863636364 0.136363636) *\n",
      "       11) bodyCharCt< 14523.5 276    7 T (0.025362319 0.974637681) *\n",
      "    3) perCaps>=12.86122 890  196 T (0.220224719 0.779775281)  \n",
      "      6) bodyCharCt< 277.5 93   11 F (0.881720430 0.118279570) *\n",
      "      7) bodyCharCt>=277.5 797  114 T (0.143036386 0.856963614)  \n",
      "       14) isInReplyTo=T 30    0 F (1.000000000 0.000000000) *\n",
      "       15) isInReplyTo=F 767   84 T (0.109517601 0.890482399) *\n"
     ]
    },
    {
     "data": {
      "image/png": "[encoded data removed]",
      "text/plain": [
       "plot without title"
      ]
     },
     "metadata": {
      "image/png": {
       "height": 420,
       "width": 420
      },
      "text/plain": {
       "height": 420,
       "width": 420
      }
     },
     "output_type": "display_data"
    },
    {
     "data": {
      "image/png": "[encoded data removed]",
      "text/plain": [
       "plot without title"
      ]
     },
     "metadata": {
      "image/png": {
       "height": 420,
       "width": 420
      },
      "text/plain": {
       "height": 420,
       "width": 420
      }
     },
     "output_type": "display_data"
    },
    {
     "data": {
      "image/png": "[encoded data removed]",
      "text/plain": [
       "plot without title"
      ]
     },
     "metadata": {
      "image/png": {
       "height": 420,
       "width": 420
      },
      "text/plain": {
       "height": 420,
       "width": 420
      }
     },
     "output_type": "display_data"
    }
   ],
   "source": [
    "# this is to see how the cp will affect on the tree while holding others constant\n",
    "rpartFit_cp_tweak1 = rpart(isSpam ~ ., data = trainDF, method = \"class\",control = rpart.control(cp = 0.0001))\n",
    "rpartFitFunc(rpartFit_cp_tweak1,\"rpartFit_cp_tweak1\")\n",
    "rpartFit_cp_tweak2 = rpart(isSpam ~ ., data = trainDF, method = \"class\",control = rpart.control(cp = 0.002))\n",
    "rpartFitFunc(rpartFit_cp_tweak2,\"rpartFit_cp_tweak2\")\n",
    "rpartFit_cp_tweak3 = rpart(isSpam ~ ., data = trainDF, method = \"class\",control = rpart.control(cp = 0.01))\n",
    "rpartFitFunc(rpartFit_cp_tweak3,\"rpartFit_cp_tweak3\")"
   ]
  },
  {
   "cell_type": "markdown",
   "metadata": {},
   "source": [
    "## Task 2\n",
    "### rpartFit0 vanilla model without parameters tuning and compare performance of unpruned and pruned models\n",
    "### set cp small and find optimal cp, then prune tree based on cp\n",
    "prune fit0"
   ]
  },
  {
   "cell_type": "code",
   "execution_count": 62,
   "metadata": {
    "scrolled": true
   },
   "outputs": [],
   "source": [
    "#rpartFit0 vanilla model without parameters tuning\n",
    "rpartFit0 = rpart(isSpam ~ ., data = trainDF, method = \"class\",control = rpart.control(cp = 0.0001, maxdepth=10, xval= 5, minsplit=20))"
   ]
  },
  {
   "cell_type": "code",
   "execution_count": 63,
   "metadata": {
    "scrolled": true
   },
   "outputs": [
    {
     "name": "stderr",
     "output_type": "stream",
     "text": [
      "Warning message:\n",
      "\"labs do not fit even at cex 0.15, there may be some overplotting\"\n"
     ]
    },
    {
     "data": {
      "image/png": "[encoded data removed]",
      "text/plain": [
       "plot without title"
      ]
     },
     "metadata": {
      "image/png": {
       "height": 420,
       "width": 420
      },
      "text/plain": {
       "height": 420,
       "width": 420
      }
     },
     "output_type": "display_data"
    }
   ],
   "source": [
    "rpart.plot(rpartFit0  , extra = 3)"
   ]
  },
  {
   "cell_type": "code",
   "execution_count": 64,
   "metadata": {
    "scrolled": false
   },
   "outputs": [
    {
     "name": "stdout",
     "output_type": "stream",
     "text": [
      "n= 6232 \n",
      "\n",
      "node), split, n, loss, yval, (yprob)\n",
      "      * denotes terminal node\n",
      "\n",
      "   1) root 6232 1598 F (0.743581515 0.256418485)  \n",
      "     2) perCaps< 12.86122 5342  904 F (0.830774991 0.169225009)  \n",
      "       4) perHTML< 3.926441 4912  614 F (0.875000000 0.125000000)  \n",
      "         8) forwards>=0.2055889 2305   15 F (0.993492408 0.006507592)  \n",
      "          16) forwards>=4.494949 2131    3 F (0.998592210 0.001407790) *\n",
      "          17) forwards< 4.494949 174   12 F (0.931034483 0.068965517)  \n",
      "            34) perCaps< 10.68646 164    8 F (0.951219512 0.048780488)  \n",
      "              68) numDlr< 0.5 129    0 F (1.000000000 0.000000000) *\n",
      "              69) numDlr>=0.5 35    8 F (0.771428571 0.228571429)  \n",
      "               138) isInReplyTo=T 14    0 F (1.000000000 0.000000000) *\n",
      "               139) isInReplyTo=F 21    8 F (0.619047619 0.380952381)  \n",
      "                 278) avgWordLen>=4.725079 11    1 F (0.909090909 0.090909091) *\n",
      "                 279) avgWordLen< 4.725079 10    3 T (0.300000000 0.700000000) *\n",
      "            35) perCaps>=10.68646 10    4 F (0.600000000 0.400000000) *\n",
      "         9) forwards< 0.2055889 2607  599 F (0.770233985 0.229766015)  \n",
      "          18) subExcCt< 0.5 2444  480 F (0.803600655 0.196399345)  \n",
      "            36) numDlr< 0.5 2053  292 F (0.857769118 0.142230882)  \n",
      "              72) subBlanks< 24.72727 2013  252 F (0.874813711 0.125186289)  \n",
      "               144) multipartText=F 1915  197 F (0.897127937 0.102872063)  \n",
      "                 288) isDear=F 1891  173 F (0.908514014 0.091485986)  \n",
      "                   576) numEnd=F 1815  134 F (0.926170799 0.073829201)  \n",
      "                    1152) isYelling=F 1796  119 F (0.933741648 0.066258352) *\n",
      "                    1153) isYelling=T 19    4 T (0.210526316 0.789473684) *\n",
      "                   577) numEnd=T 76   37 T (0.486842105 0.513157895)  \n",
      "                    1154) isInReplyTo=T 11    0 F (1.000000000 0.000000000) *\n",
      "                    1155) isInReplyTo=F 65   26 T (0.400000000 0.600000000) *\n",
      "                 289) isDear=T 24    0 T (0.000000000 1.000000000) *\n",
      "               145) multipartText=T 98   43 T (0.438775510 0.561224490)  \n",
      "                 290) bodyCharCt< 640.5 28    2 F (0.928571429 0.071428571) *\n",
      "                 291) bodyCharCt>=640.5 70   17 T (0.242857143 0.757142857)  \n",
      "                   582) avgWordLen< 4.624445 21    9 F (0.571428571 0.428571429)  \n",
      "                    1164) hour>=11.5 14    2 F (0.857142857 0.142857143) *\n",
      "                    1165) hour< 11.5 7    0 T (0.000000000 1.000000000) *\n",
      "                   583) avgWordLen>=4.624445 49    5 T (0.102040816 0.897959184) *\n",
      "              73) subBlanks>=24.72727 40    0 T (0.000000000 1.000000000) *\n",
      "            37) numDlr>=0.5 391  188 F (0.519181586 0.480818414)  \n",
      "              74) bodyCharCt>=3948 111   21 F (0.810810811 0.189189189)  \n",
      "               148) numDlr< 9 86    6 F (0.930232558 0.069767442) *\n",
      "               149) numDlr>=9 25   10 T (0.400000000 0.600000000)  \n",
      "                 298) bodyCharCt< 16552.5 16    6 F (0.625000000 0.375000000) *\n",
      "                 299) bodyCharCt>=16552.5 9    0 T (0.000000000 1.000000000) *\n",
      "              75) bodyCharCt< 3948 280  113 T (0.403571429 0.596428571)  \n",
      "               150) isRe=T 26    0 F (1.000000000 0.000000000) *\n",
      "               151) isRe=F 254   87 T (0.342519685 0.657480315)  \n",
      "                 302) numEnd=F 203   84 T (0.413793103 0.586206897)  \n",
      "                   604) numAtt< 0.5 160   80 F (0.500000000 0.500000000)  \n",
      "                    1208) isYelling=F 143   63 F (0.559440559 0.440559441) *\n",
      "                    1209) isYelling=T 17    0 T (0.000000000 1.000000000) *\n",
      "                   605) numAtt>=0.5 43    4 T (0.093023256 0.906976744) *\n",
      "                 303) numEnd=T 51    3 T (0.058823529 0.941176471) *\n",
      "          19) subExcCt>=0.5 163   44 T (0.269938650 0.730061350)  \n",
      "            38) bodyCharCt< 409 15    1 F (0.933333333 0.066666667) *\n",
      "            39) bodyCharCt>=409 148   30 T (0.202702703 0.797297297)  \n",
      "              78) avgWordLen< 4.092066 12    4 F (0.666666667 0.333333333) *\n",
      "              79) avgWordLen>=4.092066 136   22 T (0.161764706 0.838235294)  \n",
      "               158) subBlanks< 13.48485 47   15 T (0.319148936 0.680851064)  \n",
      "                 316) avgWordLen< 4.363759 8    2 F (0.750000000 0.250000000) *\n",
      "                 317) avgWordLen>=4.363759 39    9 T (0.230769231 0.769230769)  \n",
      "                   634) numLines< 22 8    3 F (0.625000000 0.375000000) *\n",
      "                   635) numLines>=22 31    4 T (0.129032258 0.870967742) *\n",
      "               159) subBlanks>=13.48485 89    7 T (0.078651685 0.921348315) *\n",
      "       5) perHTML>=3.926441 430  140 T (0.325581395 0.674418605)  \n",
      "        10) bodyCharCt>=14523.5 154   21 F (0.863636364 0.136363636)  \n",
      "          20) numDlr< 12.5 142    9 F (0.936619718 0.063380282)  \n",
      "            40) avgWordLen< 4.585525 135    5 F (0.962962963 0.037037037) *\n",
      "            41) avgWordLen>=4.585525 7    3 T (0.428571429 0.571428571) *\n",
      "          21) numDlr>=12.5 12    0 T (0.000000000 1.000000000) *\n",
      "        11) bodyCharCt< 14523.5 276    7 T (0.025362319 0.974637681) *\n",
      "     3) perCaps>=12.86122 890  196 T (0.220224719 0.779775281)  \n",
      "       6) bodyCharCt< 277.5 93   11 F (0.881720430 0.118279570)  \n",
      "        12) subExcCt< 0.5 86    6 F (0.930232558 0.069767442)  \n",
      "          24) bodyCharCt< 177 65    0 F (1.000000000 0.000000000) *\n",
      "          25) bodyCharCt>=177 21    6 F (0.714285714 0.285714286)  \n",
      "            50) bodyCharCt>=208.5 11    0 F (1.000000000 0.000000000) *\n",
      "            51) bodyCharCt< 208.5 10    4 T (0.400000000 0.600000000) *\n",
      "        13) subExcCt>=0.5 7    2 T (0.285714286 0.714285714) *\n",
      "       7) bodyCharCt>=277.5 797  114 T (0.143036386 0.856963614)  \n",
      "        14) isInReplyTo=T 30    0 F (1.000000000 0.000000000) *\n",
      "        15) isInReplyTo=F 767   84 T (0.109517601 0.890482399)  \n",
      "          30) isWrote=T 8    0 F (1.000000000 0.000000000) *\n",
      "          31) isWrote=F 759   76 T (0.100131752 0.899868248)  \n",
      "            62) perCaps< 22.25712 359   63 T (0.175487465 0.824512535)  \n",
      "             124) subBlanks< 16.06452 224   61 T (0.272321429 0.727678571)  \n",
      "               248) avgWordLen>=4.139308 151   57 T (0.377483444 0.622516556)  \n",
      "                 496) numRec< 1.5 130   57 T (0.438461538 0.561538462)  \n",
      "                   992) numDlr< 0.5 72   29 F (0.597222222 0.402777778)  \n",
      "                    1984) perHTML< 9.566407 55   14 F (0.745454545 0.254545455) *\n",
      "                    1985) perHTML>=9.566407 17    2 T (0.117647059 0.882352941) *\n",
      "                   993) numDlr>=0.5 58   14 T (0.241379310 0.758620690)  \n",
      "                    1986) numLines>=269 13    4 F (0.692307692 0.307692308) *\n",
      "                    1987) numLines< 269 45    5 T (0.111111111 0.888888889) *\n",
      "                 497) numRec>=1.5 21    0 T (0.000000000 1.000000000) *\n",
      "               249) avgWordLen< 4.139308 73    4 T (0.054794521 0.945205479) *\n",
      "             125) subBlanks>=16.06452 135    2 T (0.014814815 0.985185185) *\n",
      "            63) perCaps>=22.25712 400   13 T (0.032500000 0.967500000) *\n"
     ]
    },
    {
     "data": {
      "image/png": "[encoded data removed]",
      "text/plain": [
       "plot without title"
      ]
     },
     "metadata": {
      "image/png": {
       "height": 420,
       "width": 420
      },
      "text/plain": {
       "height": 420,
       "width": 420
      }
     },
     "output_type": "display_data"
    },
    {
     "data": {
      "image/png": "[encoded data removed]",
      "text/plain": [
       "plot without title"
      ]
     },
     "metadata": {
      "image/png": {
       "height": 420,
       "width": 420
      },
      "text/plain": {
       "height": 420,
       "width": 420
      }
     },
     "output_type": "display_data"
    }
   ],
   "source": [
    "model0=rpartFitFunc(rpartFit0,'_0')"
   ]
  },
  {
   "cell_type": "code",
   "execution_count": 65,
   "metadata": {
    "scrolled": true
   },
   "outputs": [
    {
     "name": "stdout",
     "output_type": "stream",
     "text": [
      "[1] \"Metrics for rpartFit0:\"\n"
     ]
    },
    {
     "data": {
      "text/html": [
       "<style>\n",
       ".dl-inline {width: auto; margin:0; padding: 0}\n",
       ".dl-inline>dt, .dl-inline>dd {float: none; width: auto; display: inline-block}\n",
       ".dl-inline>dt::after {content: \":\\0020\"; padding-right: .5ex}\n",
       ".dl-inline>dt:not(:first-of-type) {padding-left: .5ex}\n",
       "</style><dl class=dl-inline><dt>F1-Score</dt><dd>0.843150231634679</dd><dt>Precision</dt><dd>0.894662921348315</dd><dt>Recall</dt><dd>0.797246558197747</dd></dl>\n"
      ],
      "text/latex": [
       "\\begin{description*}\n",
       "\\item[F1-Score] 0.843150231634679\n",
       "\\item[Precision] 0.894662921348315\n",
       "\\item[Recall] 0.797246558197747\n",
       "\\end{description*}\n"
      ],
      "text/markdown": [
       "F1-Score\n",
       ":   0.843150231634679Precision\n",
       ":   0.894662921348315Recall\n",
       ":   0.797246558197747\n",
       "\n"
      ],
      "text/plain": [
       " F1-Score Precision    Recall \n",
       "0.8431502 0.8946629 0.7972466 "
      ]
     },
     "metadata": {},
     "output_type": "display_data"
    }
   ],
   "source": [
    "# Metric for rpartFit0\n",
    "# testDF$isSpam\n",
    "\n",
    "predicted0 <- predict(rpartFit0, newdata = testDF, type = \"class\")\n",
    "\n",
    "#library(MLmetrics)\n",
    "\n",
    "\n",
    "f1_val_rpartFit0 <- F1_Score(y_pred = predicted0 , y_true = testDF$isSpam, positive = \"T\")\n",
    "precision_rpartFit0 <- Precision(y_pred = predicted0, y_true = testDF$isSpam, positive = \"T\")\n",
    "recall_rpartFit0  <- Recall(y_pred = predicted0, y_true = testDF$isSpam, positive = \"T\")\n",
    "\n",
    "result <- c( f1_val_rpartFit0, precision_rpartFit0, recall_rpartFit0)\n",
    "\n",
    "names(result) <- c(\"F1-Score\",\"Precision\", \"Recall\")\n",
    "print(\"Metrics for rpartFit0:\")\n",
    "return(result)\n",
    "\n",
    "# f1_val_rpartFit0"
   ]
  },
  {
   "cell_type": "code",
   "execution_count": 66,
   "metadata": {
    "scrolled": true
   },
   "outputs": [
    {
     "data": {
      "image/png": "[encoded data removed]",
      "text/plain": [
       "plot without title"
      ]
     },
     "metadata": {
      "image/png": {
       "height": 420,
       "width": 420
      },
      "text/plain": {
       "height": 420,
       "width": 420
      }
     },
     "output_type": "display_data"
    }
   ],
   "source": [
    "plotcp(rpartFit0)"
   ]
  },
  {
   "cell_type": "code",
   "execution_count": 67,
   "metadata": {
    "scrolled": true
   },
   "outputs": [
    {
     "name": "stdout",
     "output_type": "stream",
     "text": [
      "\n",
      "Classification tree:\n",
      "rpart(formula = isSpam ~ ., data = trainDF, method = \"class\", \n",
      "    control = rpart.control(cp = 1e-04, maxdepth = 10, xval = 5, \n",
      "        minsplit = 20))\n",
      "\n",
      "Variables actually used in tree construction:\n",
      " [1] avgWordLen    bodyCharCt    forwards      hour          isDear       \n",
      " [6] isInReplyTo   isRe          isWrote       isYelling     multipartText\n",
      "[11] numAtt        numDlr        numEnd        numLines      numRec       \n",
      "[16] perCaps       perHTML       subBlanks     subExcCt     \n",
      "\n",
      "Root node error: 1598/6232 = 0.25642\n",
      "\n",
      "n= 6232 \n",
      "\n",
      "           CP nsplit rel error  xerror     xstd\n",
      "1  0.31163955      0   1.00000 1.00000 0.021571\n",
      "2  0.09386733      1   0.68836 0.69086 0.018861\n",
      "3  0.07008761      2   0.59449 0.59825 0.017803\n",
      "4  0.04443054      3   0.52441 0.53317 0.016972\n",
      "5  0.02346683      4   0.47997 0.48999 0.016374\n",
      "6  0.01960784      6   0.43304 0.45807 0.015905\n",
      "7  0.01877347      9   0.37422 0.44431 0.015696\n",
      "8  0.01627034     10   0.35544 0.42365 0.015373\n",
      "9  0.01251564     11   0.33917 0.38110 0.014669\n",
      "10 0.00813517     14   0.30163 0.34481 0.014025\n",
      "11 0.00750939     15   0.29349 0.32416 0.013638\n",
      "12 0.00500626     16   0.28598 0.30851 0.013334\n",
      "13 0.00354610     20   0.26596 0.28974 0.012955\n",
      "14 0.00312891     23   0.25532 0.28661 0.012891\n",
      "15 0.00250313     26   0.24593 0.28473 0.012852\n",
      "16 0.00187735     28   0.24093 0.27972 0.012747\n",
      "17 0.00175219     29   0.23905 0.27910 0.012734\n",
      "18 0.00125156     36   0.21902 0.27785 0.012708\n",
      "19 0.00062578     39   0.21527 0.27597 0.012668\n",
      "20 0.00050063     42   0.21339 0.27534 0.012655\n",
      "21 0.00010000     47   0.21089 0.27347 0.012615\n"
     ]
    }
   ],
   "source": [
    "printcp(rpartFit0) #rule of thumb to determine optimal cp value"
   ]
  },
  {
   "cell_type": "code",
   "execution_count": 68,
   "metadata": {
    "scrolled": true
   },
   "outputs": [
    {
     "data": {
      "text/html": [
       "0.264984"
      ],
      "text/latex": [
       "0.264984"
      ],
      "text/markdown": [
       "0.264984"
      ],
      "text/plain": [
       "[1] 0.264984"
      ]
     },
     "metadata": {},
     "output_type": "display_data"
    }
   ],
   "source": [
    "#19 0.00219024     22   0.22403 0.25282 0.012164\n",
    "\n",
    "0.25282+0.012164  #= 0.264984; so choose 16 0.00594493     17   0.24781 0.26408 0.012412\n",
    "#good_cp=0.00594493 "
   ]
  },
  {
   "cell_type": "code",
   "execution_count": 69,
   "metadata": {
    "scrolled": true
   },
   "outputs": [],
   "source": [
    "good_cp=0.00594493 "
   ]
  },
  {
   "cell_type": "code",
   "execution_count": 70,
   "metadata": {
    "scrolled": true
   },
   "outputs": [],
   "source": [
    "tree.fit0=prune(rpartFit0, cp= good_cp) # for vanilla model, prune tree based on cp"
   ]
  },
  {
   "cell_type": "code",
   "execution_count": 71,
   "metadata": {
    "scrolled": true
   },
   "outputs": [
    {
     "name": "stdout",
     "output_type": "stream",
     "text": [
      "Call:\n",
      "rpart(formula = isSpam ~ ., data = trainDF, method = \"class\", \n",
      "    control = rpart.control(cp = 1e-04, maxdepth = 10, xval = 5, \n",
      "        minsplit = 20))\n",
      "  n= 6232 \n",
      "\n",
      "            CP nsplit rel error    xerror       xstd\n",
      "1  0.311639549      0 1.0000000 1.0000000 0.02157128\n",
      "2  0.093867334      1 0.6883605 0.6908636 0.01886114\n",
      "3  0.070087610      2 0.5944931 0.5982478 0.01780290\n",
      "4  0.044430538      3 0.5244055 0.5331665 0.01697151\n",
      "5  0.023466834      4 0.4799750 0.4899875 0.01637377\n",
      "6  0.019607843      6 0.4330413 0.4580726 0.01590547\n",
      "7  0.018773467      9 0.3742178 0.4443054 0.01569592\n",
      "8  0.016270338     10 0.3554443 0.4236546 0.01537255\n",
      "9  0.012515645     11 0.3391740 0.3811014 0.01466906\n",
      "10 0.008135169     14 0.3016270 0.3448060 0.01402483\n",
      "11 0.007509387     15 0.2934919 0.3241552 0.01363781\n",
      "12 0.005944930     16 0.2859825 0.3085106 0.01333371\n",
      "\n",
      "Variable importance\n",
      "      perCaps    bodyCharCt      numLines       perHTML        numDlr \n",
      "           23            14            12            11             6 \n",
      "     forwards   isInReplyTo          isRe      subExcCt    avgWordLen \n",
      "            6             5             4             3             3 \n",
      "      isWrote     subBlanks multipartText        isDear        numRec \n",
      "            3             2             2             2             1 \n",
      "       numAtt    underscore \n",
      "            1             1 \n",
      "\n",
      "Node number 1: 6232 observations,    complexity param=0.3116395\n",
      "  predicted class=F  expected loss=0.2564185  P(node) =1\n",
      "    class counts:  4634  1598\n",
      "   probabilities: 0.744 0.256 \n",
      "  left son=2 (5342 obs) right son=3 (890 obs)\n",
      "  Primary splits:\n",
      "      perCaps     < 12.86122    to the left,  improve=568.7734, (0 missing)\n",
      "      perHTML     < 3.926441    to the left,  improve=540.7585, (0 missing)\n",
      "      forwards    < 3.390805    to the right, improve=418.6697, (0 missing)\n",
      "      isInReplyTo splits as  RL, improve=359.1637, (0 missing)\n",
      "      isRe        splits as  RL, improve=323.7513, (0 missing)\n",
      "  Surrogate splits:\n",
      "      avgWordLen < 5.83129     to the left,  agree=0.867, adj=0.067, (0 split)\n",
      "      numDlr     < 42.5        to the left,  agree=0.861, adj=0.029, (0 split)\n",
      "      bodyCharCt < 100.5       to the right, agree=0.859, adj=0.012, (0 split)\n",
      "      subQuesCt  < 3.5         to the left,  agree=0.859, adj=0.012, (0 split)\n",
      "      noHost     splits as  LR, agree=0.858, adj=0.003, (0 split)\n",
      "\n",
      "Node number 2: 5342 observations,    complexity param=0.09386733\n",
      "  predicted class=F  expected loss=0.169225  P(node) =0.8571887\n",
      "    class counts:  4438   904\n",
      "   probabilities: 0.831 0.169 \n",
      "  left son=4 (4912 obs) right son=5 (430 obs)\n",
      "  Primary splits:\n",
      "      perHTML     < 3.926441    to the left,  improve=238.7040, (0 missing)\n",
      "      forwards    < 1.739262    to the right, improve=206.7251, (0 missing)\n",
      "      subBlanks   < 24.56897    to the left,  improve=171.0940, (9 missing)\n",
      "      isInReplyTo splits as  RL, improve=164.5167, (0 missing)\n",
      "      isRe        splits as  RL, improve=159.4158, (0 missing)\n",
      "  Surrogate splits:\n",
      "      bodyCharCt < 14229.5     to the left,  agree=0.938, adj=0.235, (0 split)\n",
      "      numLines   < 333         to the left,  agree=0.937, adj=0.214, (0 split)\n",
      "      avgWordLen < 3.665248    to the right, agree=0.922, adj=0.028, (0 split)\n",
      "      numDlr     < 62.5        to the left,  agree=0.920, adj=0.005, (0 split)\n",
      "\n",
      "Node number 3: 890 observations,    complexity param=0.04443054\n",
      "  predicted class=T  expected loss=0.2202247  P(node) =0.1428113\n",
      "    class counts:   196   694\n",
      "   probabilities: 0.220 0.780 \n",
      "  left son=6 (93 obs) right son=7 (797 obs)\n",
      "  Primary splits:\n",
      "      bodyCharCt  < 277.5       to the left,  improve=90.88636, (0 missing)\n",
      "      numLines    < 9.5         to the left,  improve=87.91743, (0 missing)\n",
      "      perCaps     < 22.25712    to the left,  improve=48.31172, (0 missing)\n",
      "      perHTML     < 4.237288    to the left,  improve=39.81655, (0 missing)\n",
      "      isInReplyTo splits as  RL, improve=39.05957, (0 missing)\n",
      "  Surrogate splits:\n",
      "      numLines < 8.5         to the left,  agree=0.983, adj=0.839, (0 split)\n",
      "      perHTML  < 96.44444    to the right, agree=0.899, adj=0.032, (0 split)\n",
      "\n",
      "Node number 4: 4912 observations,    complexity param=0.02346683\n",
      "  predicted class=F  expected loss=0.125  P(node) =0.78819\n",
      "    class counts:  4298   614\n",
      "   probabilities: 0.875 0.125 \n",
      "  left son=8 (2305 obs) right son=9 (2607 obs)\n",
      "  Primary splits:\n",
      "      forwards    < 0.2055889   to the right, improve=121.95490, (0 missing)\n",
      "      subBlanks   < 24.79624    to the left,  improve= 96.24279, (8 missing)\n",
      "      isInReplyTo splits as  RL, improve= 94.19777, (0 missing)\n",
      "      isRe        splits as  RL, improve= 91.47141, (0 missing)\n",
      "      isYelling   splits as  LR, improve= 82.23310, (5 missing)\n",
      "  Surrogate splits:\n",
      "      isRe        splits as  RL, agree=0.836, adj=0.651, (0 split)\n",
      "      isInReplyTo splits as  RL, agree=0.812, adj=0.599, (0 split)\n",
      "      isWrote     splits as  RL, agree=0.758, adj=0.485, (0 split)\n",
      "      numRec      < 1.5         to the right, agree=0.654, adj=0.262, (0 split)\n",
      "      avgWordLen  < 4.504906    to the left,  agree=0.630, adj=0.211, (0 split)\n",
      "\n",
      "Node number 5: 430 observations,    complexity param=0.07008761\n",
      "  predicted class=T  expected loss=0.3255814  P(node) =0.06899872\n",
      "    class counts:   140   290\n",
      "   probabilities: 0.326 0.674 \n",
      "  left son=10 (154 obs) right son=11 (276 obs)\n",
      "  Primary splits:\n",
      "      bodyCharCt < 14523.5     to the right, improve=138.91960, (0 missing)\n",
      "      numLines   < 296.5       to the right, improve=127.69690, (0 missing)\n",
      "      perHTML    < 79.08527    to the right, improve= 34.58587, (0 missing)\n",
      "      numDlr     < 0.5         to the right, improve= 24.55324, (0 missing)\n",
      "      numRec     < 1.5         to the left,  improve= 23.58072, (1 missing)\n",
      "  Surrogate splits:\n",
      "      numLines   < 226.5       to the right, agree=0.972, adj=0.922, (0 split)\n",
      "      numDlr     < 1.5         to the right, agree=0.723, adj=0.227, (0 split)\n",
      "      perHTML    < 79.08527    to the right, agree=0.719, adj=0.214, (0 split)\n",
      "      hour       < 0.5         to the left,  agree=0.663, adj=0.058, (0 split)\n",
      "      avgWordLen < 4.732993    to the right, agree=0.651, adj=0.026, (0 split)\n",
      "\n",
      "Node number 6: 93 observations\n",
      "  predicted class=F  expected loss=0.1182796  P(node) =0.01492298\n",
      "    class counts:    82    11\n",
      "   probabilities: 0.882 0.118 \n",
      "\n",
      "Node number 7: 797 observations,    complexity param=0.01877347\n",
      "  predicted class=T  expected loss=0.1430364  P(node) =0.1278883\n",
      "    class counts:   114   683\n",
      "   probabilities: 0.143 0.857 \n",
      "  left son=14 (30 obs) right son=15 (767 obs)\n",
      "  Primary splits:\n",
      "      isInReplyTo splits as  RL, improve=45.78666, (0 missing)\n",
      "      forwards    < 10.76255    to the right, improve=37.37450, (0 missing)\n",
      "      isWrote     splits as  RL, improve=33.23028, (0 missing)\n",
      "      isRe        splits as  RL, improve=19.42941, (0 missing)\n",
      "      perCaps     < 22.25712    to the left,  improve=16.70135, (0 missing)\n",
      "  Surrogate splits:\n",
      "      forwards < 10.76255    to the right, agree=0.976, adj=0.367, (0 split)\n",
      "      isWrote  splits as  RL, agree=0.970, adj=0.200, (0 split)\n",
      "\n",
      "Node number 8: 2305 observations\n",
      "  predicted class=F  expected loss=0.006507592  P(node) =0.3698652\n",
      "    class counts:  2290    15\n",
      "   probabilities: 0.993 0.007 \n",
      "\n",
      "Node number 9: 2607 observations,    complexity param=0.02346683\n",
      "  predicted class=F  expected loss=0.229766  P(node) =0.4183248\n",
      "    class counts:  2008   599\n",
      "   probabilities: 0.770 0.230 \n",
      "  left son=18 (2444 obs) right son=19 (163 obs)\n",
      "  Primary splits:\n",
      "      subExcCt  < 0.5         to the left,  improve=87.21181, (8 missing)\n",
      "      numDlr    < 0.5         to the left,  improve=85.82368, (0 missing)\n",
      "      subBlanks < 24.72727    to the left,  improve=75.44958, (8 missing)\n",
      "      numEnd    splits as  LR, improve=73.84680, (0 missing)\n",
      "      numLines  < 19.5        to the left,  improve=72.18877, (0 missing)\n",
      "\n",
      "Node number 10: 154 observations,    complexity param=0.007509387\n",
      "  predicted class=F  expected loss=0.1363636  P(node) =0.02471117\n",
      "    class counts:   133    21\n",
      "   probabilities: 0.864 0.136 \n",
      "  left son=20 (142 obs) right son=21 (12 obs)\n",
      "  Primary splits:\n",
      "      numDlr     < 12.5        to the left,  improve=19.413570, (0 missing)\n",
      "      avgWordLen < 4.622264    to the left,  improve=17.671330, (0 missing)\n",
      "      perCaps    < 6.100061    to the right, improve=11.844910, (0 missing)\n",
      "      subExcCt   < 0.5         to the left,  improve=10.884360, (1 missing)\n",
      "      bodyCharCt < 18151       to the right, improve= 7.300296, (0 missing)\n",
      "  Surrogate splits:\n",
      "      avgWordLen < 4.685711    to the left,  agree=0.948, adj=0.333, (0 split)\n",
      "      isRe       splits as  LR, agree=0.935, adj=0.167, (0 split)\n",
      "      underscore splits as  LR, agree=0.929, adj=0.083, (0 split)\n",
      "      isYelling  splits as  LR, agree=0.929, adj=0.083, (0 split)\n",
      "      perCaps    < 5.673979    to the right, agree=0.929, adj=0.083, (0 split)\n",
      "\n",
      "Node number 11: 276 observations\n",
      "  predicted class=T  expected loss=0.02536232  P(node) =0.04428755\n",
      "    class counts:     7   269\n",
      "   probabilities: 0.025 0.975 \n",
      "\n",
      "Node number 14: 30 observations\n",
      "  predicted class=F  expected loss=0  P(node) =0.004813864\n",
      "    class counts:    30     0\n",
      "   probabilities: 1.000 0.000 \n",
      "\n",
      "Node number 15: 767 observations\n",
      "  predicted class=T  expected loss=0.1095176  P(node) =0.1230745\n",
      "    class counts:    84   683\n",
      "   probabilities: 0.110 0.890 \n",
      "\n",
      "Node number 18: 2444 observations,    complexity param=0.01960784\n",
      "  predicted class=F  expected loss=0.1963993  P(node) =0.3921694\n",
      "    class counts:  1964   480\n",
      "   probabilities: 0.804 0.196 \n",
      "  left son=36 (2053 obs) right son=37 (391 obs)\n",
      "  Primary splits:\n",
      "      numDlr        < 0.5         to the left,  improve=75.30719, (0 missing)\n",
      "      numEnd        splits as  LR, improve=64.77984, (0 missing)\n",
      "      subBlanks     < 24.72727    to the left,  improve=61.98738, (8 missing)\n",
      "      isDear        splits as  LR, improve=60.55087, (0 missing)\n",
      "      multipartText splits as  LR, improve=57.51834, (0 missing)\n",
      "  Surrogate splits:\n",
      "      numLines   < 137         to the left,  agree=0.861, adj=0.130, (0 split)\n",
      "      bodyCharCt < 6971        to the left,  agree=0.857, adj=0.107, (0 split)\n",
      "      underscore splits as  LR, agree=0.847, adj=0.043, (0 split)\n",
      "      isYelling  splits as  LR, agree=0.841, adj=0.008, (0 split)\n",
      "      forwards   < 0.007912644 to the left,  agree=0.840, adj=0.003, (0 split)\n",
      "\n",
      "Node number 19: 163 observations,    complexity param=0.008135169\n",
      "  predicted class=T  expected loss=0.2699387  P(node) =0.02615533\n",
      "    class counts:    44   119\n",
      "   probabilities: 0.270 0.730 \n",
      "  left son=38 (15 obs) right son=39 (148 obs)\n",
      "  Primary splits:\n",
      "      bodyCharCt < 409         to the left,  improve=14.540890, (0 missing)\n",
      "      numLines   < 16.5        to the left,  improve=12.219860, (0 missing)\n",
      "      isRe       splits as  RL, improve=10.154490, (0 missing)\n",
      "      avgWordLen < 4.259632    to the left,  improve= 8.087718, (0 missing)\n",
      "      hour       < 7.5         to the right, improve= 6.829405, (0 missing)\n",
      "  Surrogate splits:\n",
      "      numLines < 10.5        to the left,  agree=0.951, adj=0.467, (0 split)\n",
      "      isRe     splits as  RL, agree=0.914, adj=0.067, (0 split)\n",
      "\n",
      "Node number 20: 142 observations\n",
      "  predicted class=F  expected loss=0.06338028  P(node) =0.02278562\n",
      "    class counts:   133     9\n",
      "   probabilities: 0.937 0.063 \n",
      "\n",
      "Node number 21: 12 observations\n",
      "  predicted class=T  expected loss=0  P(node) =0.001925546\n",
      "    class counts:     0    12\n",
      "   probabilities: 0.000 1.000 \n",
      "\n",
      "Node number 36: 2053 observations,    complexity param=0.01960784\n",
      "  predicted class=F  expected loss=0.1422309  P(node) =0.3294288\n",
      "    class counts:  1761   292\n",
      "   probabilities: 0.858 0.142 \n",
      "  left son=72 (2013 obs) right son=73 (40 obs)\n",
      "  Primary splits:\n",
      "      subBlanks     < 24.72727    to the left,  improve=60.10387, (7 missing)\n",
      "      multipartText splits as  LR, improve=39.65349, (0 missing)\n",
      "      isDear        splits as  LR, improve=35.73460, (0 missing)\n",
      "      subSpamWords  splits as  LR, improve=33.49511, (5 missing)\n",
      "      numLines      < 28.5        to the left,  improve=33.42842, (0 missing)\n",
      "\n",
      "Node number 37: 391 observations,    complexity param=0.01960784\n",
      "  predicted class=F  expected loss=0.4808184  P(node) =0.06274069\n",
      "    class counts:   203   188\n",
      "   probabilities: 0.519 0.481 \n",
      "  left son=74 (111 obs) right son=75 (280 obs)\n",
      "  Primary splits:\n",
      "      bodyCharCt  < 3948        to the right, improve=26.36537, (0 missing)\n",
      "      numLines    < 102.5       to the right, improve=26.08258, (0 missing)\n",
      "      numEnd      splits as  LR, improve=24.90774, (0 missing)\n",
      "      isInReplyTo splits as  RL, improve=18.33340, (0 missing)\n",
      "      isRe        splits as  RL, improve=17.21788, (0 missing)\n",
      "  Surrogate splits:\n",
      "      numLines   < 103.5       to the right, agree=0.982, adj=0.937, (0 split)\n",
      "      numDlr     < 10.5        to the right, agree=0.737, adj=0.072, (0 split)\n",
      "      isOrigMsg  splits as  RL, agree=0.724, adj=0.027, (0 split)\n",
      "      avgWordLen < 5.447073    to the right, agree=0.724, adj=0.027, (0 split)\n",
      "      forwards   < 0.007912644 to the right, agree=0.721, adj=0.018, (0 split)\n",
      "\n",
      "Node number 38: 15 observations\n",
      "  predicted class=F  expected loss=0.06666667  P(node) =0.002406932\n",
      "    class counts:    14     1\n",
      "   probabilities: 0.933 0.067 \n",
      "\n",
      "Node number 39: 148 observations\n",
      "  predicted class=T  expected loss=0.2027027  P(node) =0.0237484\n",
      "    class counts:    30   118\n",
      "   probabilities: 0.203 0.797 \n",
      "\n",
      "Node number 72: 2013 observations,    complexity param=0.01251564\n",
      "  predicted class=F  expected loss=0.1251863  P(node) =0.3230103\n",
      "    class counts:  1761   252\n",
      "   probabilities: 0.875 0.125 \n",
      "  left son=144 (1915 obs) right son=145 (98 obs)\n",
      "  Primary splits:\n",
      "      multipartText splits as  LR, improve=39.17240, (0 missing)\n",
      "      isDear        splits as  LR, improve=37.17760, (0 missing)\n",
      "      numAtt        < 0.5         to the left,  improve=29.17083, (0 missing)\n",
      "      subSpamWords  splits as  LR, improve=28.82223, (5 missing)\n",
      "      numLines      < 14.5        to the left,  improve=22.48612, (0 missing)\n",
      "  Surrogate splits:\n",
      "      numAtt     < 0.5         to the left,  agree=0.987, adj=0.724, (0 split)\n",
      "      bodyCharCt < 51.5        to the right, agree=0.952, adj=0.020, (0 split)\n",
      "\n",
      "Node number 73: 40 observations\n",
      "  predicted class=T  expected loss=0  P(node) =0.006418485\n",
      "    class counts:     0    40\n",
      "   probabilities: 0.000 1.000 \n",
      "\n",
      "Node number 74: 111 observations\n",
      "  predicted class=F  expected loss=0.1891892  P(node) =0.0178113\n",
      "    class counts:    90    21\n",
      "   probabilities: 0.811 0.189 \n",
      "\n",
      "Node number 75: 280 observations,    complexity param=0.01627034\n",
      "  predicted class=T  expected loss=0.4035714  P(node) =0.0449294\n",
      "    class counts:   113   167\n",
      "   probabilities: 0.404 0.596 \n",
      "  left son=150 (26 obs) right son=151 (254 obs)\n",
      "  Primary splits:\n",
      "      isRe        splits as  RL, improve=20.39128, (0 missing)\n",
      "      isInReplyTo splits as  RL, improve=20.39128, (0 missing)\n",
      "      numEnd      splits as  LR, improve=14.82265, (0 missing)\n",
      "      perCaps     < 7.265546    to the left,  improve=12.89286, (0 missing)\n",
      "      numAtt      < 0.5         to the left,  improve=11.45654, (0 missing)\n",
      "  Surrogate splits:\n",
      "      isInReplyTo splits as  RL, agree=0.979, adj=0.769, (0 split)\n",
      "      isWrote     splits as  RL, agree=0.921, adj=0.154, (0 split)\n",
      "      avgWordLen  < 3.923668    to the left,  agree=0.918, adj=0.115, (0 split)\n",
      "\n",
      "Node number 144: 1915 observations,    complexity param=0.01251564\n",
      "  predicted class=F  expected loss=0.1028721  P(node) =0.307285\n",
      "    class counts:  1718   197\n",
      "   probabilities: 0.897 0.103 \n",
      "  left son=288 (1891 obs) right son=289 (24 obs)\n",
      "  Primary splits:\n",
      "      isDear       splits as  LR, improve=39.12256, (0 missing)\n",
      "      numEnd       splits as  LR, improve=26.64426, (0 missing)\n",
      "      subSpamWords splits as  LR, improve=23.38014, (5 missing)\n",
      "      isYelling    splits as  LR, improve=18.07983, (5 missing)\n",
      "      numLines     < 13.5        to the left,  improve=15.19307, (0 missing)\n",
      "  Surrogate splits:\n",
      "      underscore splits as  LR, agree=0.991, adj=0.25, (0 split)\n",
      "\n",
      "Node number 145: 98 observations,    complexity param=0.01251564\n",
      "  predicted class=T  expected loss=0.4387755  P(node) =0.01572529\n",
      "    class counts:    43    55\n",
      "   probabilities: 0.439 0.561 \n",
      "  left son=290 (28 obs) right son=291 (70 obs)\n",
      "  Primary splits:\n",
      "      bodyCharCt < 640.5       to the left,  improve=18.808160, (0 missing)\n",
      "      numLines   < 27          to the left,  improve=18.083490, (0 missing)\n",
      "      hour       < 21          to the left,  improve=13.464710, (0 missing)\n",
      "      numEnd     splits as  RL, improve=11.607300, (0 missing)\n",
      "      perCaps    < 7.540838    to the left,  improve= 8.700549, (0 missing)\n",
      "  Surrogate splits:\n",
      "      numLines  < 24.5        to the left,  agree=0.969, adj=0.893, (0 split)\n",
      "      numEnd    splits as  RL, agree=0.867, adj=0.536, (0 split)\n",
      "      hour      < 10.5        to the left,  agree=0.735, adj=0.071, (0 split)\n",
      "      isYelling splits as  RL, agree=0.724, adj=0.036, (0 split)\n",
      "      perCaps   < 3.020506    to the left,  agree=0.724, adj=0.036, (0 split)\n",
      "\n",
      "Node number 150: 26 observations\n",
      "  predicted class=F  expected loss=0  P(node) =0.004172015\n",
      "    class counts:    26     0\n",
      "   probabilities: 1.000 0.000 \n",
      "\n",
      "Node number 151: 254 observations\n",
      "  predicted class=T  expected loss=0.3425197  P(node) =0.04075738\n",
      "    class counts:    87   167\n",
      "   probabilities: 0.343 0.657 \n",
      "\n",
      "Node number 288: 1891 observations\n",
      "  predicted class=F  expected loss=0.09148599  P(node) =0.3034339\n",
      "    class counts:  1718   173\n",
      "   probabilities: 0.909 0.091 \n",
      "\n",
      "Node number 289: 24 observations\n",
      "  predicted class=T  expected loss=0  P(node) =0.003851091\n",
      "    class counts:     0    24\n",
      "   probabilities: 0.000 1.000 \n",
      "\n",
      "Node number 290: 28 observations\n",
      "  predicted class=F  expected loss=0.07142857  P(node) =0.00449294\n",
      "    class counts:    26     2\n",
      "   probabilities: 0.929 0.071 \n",
      "\n",
      "Node number 291: 70 observations\n",
      "  predicted class=T  expected loss=0.2428571  P(node) =0.01123235\n",
      "    class counts:    17    53\n",
      "   probabilities: 0.243 0.757 \n",
      "\n"
     ]
    }
   ],
   "source": [
    "summary(tree.fit0)"
   ]
  },
  {
   "cell_type": "code",
   "execution_count": 72,
   "metadata": {
    "scrolled": true
   },
   "outputs": [
    {
     "data": {
      "image/png": "[encoded data removed]",
      "text/plain": [
       "plot without title"
      ]
     },
     "metadata": {
      "image/png": {
       "height": 420,
       "width": 420
      },
      "text/plain": {
       "height": 420,
       "width": 420
      }
     },
     "output_type": "display_data"
    }
   ],
   "source": [
    "rpart.plot(tree.fit0, extra = 3)  #how to fix plot labels, can not see #maxdepth change from 10 to 4 after pruning"
   ]
  },
  {
   "cell_type": "code",
   "execution_count": 73,
   "metadata": {
    "scrolled": true
   },
   "outputs": [
    {
     "name": "stderr",
     "output_type": "stream",
     "text": [
      "Warning message:\n",
      "\"labs do not fit even at cex 0.15, there may be some overplotting\"\n"
     ]
    },
    {
     "data": {
      "image/png": "[encoded data removed]",
      "text/plain": [
       "plot without title"
      ]
     },
     "metadata": {
      "image/png": {
       "height": 420,
       "width": 420
      },
      "text/plain": {
       "height": 420,
       "width": 420
      }
     },
     "output_type": "display_data"
    }
   ],
   "source": [
    "rpart.plot(rpartFit0  , extra = 3)"
   ]
  },
  {
   "cell_type": "code",
   "execution_count": 74,
   "metadata": {
    "scrolled": true
   },
   "outputs": [
    {
     "name": "stdout",
     "output_type": "stream",
     "text": [
      "[1] \"Metrics for pruned rpartFit0:\"\n"
     ]
    },
    {
     "data": {
      "text/html": [
       "<style>\n",
       ".dl-inline {width: auto; margin:0; padding: 0}\n",
       ".dl-inline>dt, .dl-inline>dd {float: none; width: auto; display: inline-block}\n",
       ".dl-inline>dt::after {content: \":\\0020\"; padding-right: .5ex}\n",
       ".dl-inline>dt:not(:first-of-type) {padding-left: .5ex}\n",
       "</style><dl class=dl-inline><dt>F1-Score</dt><dd>0.820577164366374</dd><dt>Precision</dt><dd>0.822641509433962</dd><dt>Recall</dt><dd>0.818523153942428</dd></dl>\n"
      ],
      "text/latex": [
       "\\begin{description*}\n",
       "\\item[F1-Score] 0.820577164366374\n",
       "\\item[Precision] 0.822641509433962\n",
       "\\item[Recall] 0.818523153942428\n",
       "\\end{description*}\n"
      ],
      "text/markdown": [
       "F1-Score\n",
       ":   0.820577164366374Precision\n",
       ":   0.822641509433962Recall\n",
       ":   0.818523153942428\n",
       "\n"
      ],
      "text/plain": [
       " F1-Score Precision    Recall \n",
       "0.8205772 0.8226415 0.8185232 "
      ]
     },
     "metadata": {},
     "output_type": "display_data"
    }
   ],
   "source": [
    "# Metric for tree.fit0 which is pruned rpartFit0\n",
    "\n",
    "predicted0p <- predict(tree.fit0, newdata = testDF, type = \"class\")\n",
    "\n",
    "#library(MLmetrics)\n",
    "\n",
    "\n",
    "f1_val_rpartFit0p <- F1_Score(y_pred = predicted0p , y_true = testDF$isSpam, positive = \"T\")\n",
    "precision_rpartFit0p <- Precision(y_pred = predicted0p, y_true = testDF$isSpam, positive = \"T\")\n",
    "recall_rpartFit0p  <- Recall(y_pred = predicted0p, y_true = testDF$isSpam, positive = \"T\")\n",
    "\n",
    "result <- c( f1_val_rpartFit0p, precision_rpartFit0p, recall_rpartFit0p)\n",
    "\n",
    "names(result) <- c(\"F1-Score\",\"Precision\", \"Recall\")\n",
    "print(\"Metrics for pruned rpartFit0:\")\n",
    "return(result)"
   ]
  },
  {
   "cell_type": "markdown",
   "metadata": {},
   "source": [
    "[1] \"Metrics for rpartFit0:\"\n",
    "\n",
    "F1-Score\n",
    "0.868217054263566\n",
    "Precision\n",
    "0.897196261682243\n",
    "Recall\n",
    "0.841051314142678\n",
    "\n",
    "\n",
    "[1] \"Metrics for pruned rpartFit0:\"\n",
    "\n",
    "F1-Score\n",
    "0.860952380952381\n",
    "Precision\n",
    "0.873711340206186\n",
    "Recall\n",
    "0.848560700876095\n",
    "\n",
    "\n",
    "### from the results above, pruned model F1-Score and Precision decreased, Recall increase --reason?\n",
    "#### the reason is cp value increased from 0.0001 to good_cp=0.00594493 \n",
    "\n",
    "#### I prefer the pruned tree although the scores are little bit lower cause its easier to interpret and be able to see the labels easier."
   ]
  },
  {
   "cell_type": "markdown",
   "metadata": {},
   "source": [
    "## Task 3\n",
    "#### focus on tuning cp and MaxDepth and keep other values constant.\n",
    "(rpartFit 0-10. combination of 9, plus rpartFit0 - vanilla model.)\n",
    "\n",
    "#### cp 0.0001  0.002  0.01\n",
    "\n",
    "#### MaxDepth 4,6,10 \n",
    "\n",
    "cp-- prevent overfitting. higher, less split. too low underfit; too high overfit. max value is 1\n",
    "\n",
    "MaxDepth -- of the final tree\n",
    "\n",
    "minsplit --any node with number of n will not get further split.\n",
    " the number of required classified observations in a node before a split can happen. seems default 20. set it to 10? or just keep 20.\n",
    "\n",
    "xval -- the number (x) of cross validations to be carried out on the data. default 10. repeat 5 fold cross validation for 10 times.\n",
    "\n",
    "did not test on other parameters like maxcomplete."
   ]
  },
  {
   "cell_type": "code",
   "execution_count": 75,
   "metadata": {
    "scrolled": true
   },
   "outputs": [],
   "source": [
    "rpartFit1 = rpart(isSpam ~ ., data = trainDF, method = \"class\",control = rpart.control(cp = 0.0001, maxdepth=10, xval= 5, minsplit=20))\n",
    "rpartFit2 = rpart(isSpam ~ ., data = trainDF, method = \"class\",control = rpart.control(cp = 0.002, maxdepth=10, xval= 5, minsplit=20))\n",
    "rpartFit3 = rpart(isSpam ~ ., data = trainDF, method = \"class\",control = rpart.control(cp = 0.01, maxdepth=10, xval= 5, minsplit=20))\n",
    "rpartFit4 = rpart(isSpam ~ ., data = trainDF, method = \"class\",control = rpart.control(cp = 0.0001, maxdepth=6, xval= 5, minsplit=20))\n",
    "rpartFit5 = rpart(isSpam ~ ., data = trainDF, method = \"class\",control = rpart.control(cp = 0.002, maxdepth=6, xval= 5, minsplit=20))\n",
    "rpartFit6 = rpart(isSpam ~ ., data = trainDF, method = \"class\",control = rpart.control(cp = 0.01, maxdepth=6, xval= 5, minsplit=20))\n",
    "rpartFit7 = rpart(isSpam ~ ., data = trainDF, method = \"class\",control = rpart.control(cp = 0.0001, maxdepth=4, xval= 5, minsplit=20))\n",
    "rpartFit8 = rpart(isSpam ~ ., data = trainDF, method = \"class\",control = rpart.control(cp = 0.002, maxdepth=4, xval= 5, minsplit=20))\n",
    "rpartFit9 = rpart(isSpam ~ ., data = trainDF, method = \"class\",control = rpart.control(cp = 0.01, maxdepth=4, xval= 5, minsplit=20))"
   ]
  },
  {
   "cell_type": "code",
   "execution_count": 76,
   "metadata": {
    "scrolled": true
   },
   "outputs": [],
   "source": [
    "# model1=rpartFitFunc(rpartFit1,'_1')"
   ]
  },
  {
   "cell_type": "code",
   "execution_count": 77,
   "metadata": {
    "scrolled": true
   },
   "outputs": [
    {
     "name": "stdout",
     "output_type": "stream",
     "text": [
      "[1] \"Metrics for rpartFit1:\"\n"
     ]
    },
    {
     "data": {
      "text/html": [
       "<style>\n",
       ".dl-inline {width: auto; margin:0; padding: 0}\n",
       ".dl-inline>dt, .dl-inline>dd {float: none; width: auto; display: inline-block}\n",
       ".dl-inline>dt::after {content: \":\\0020\"; padding-right: .5ex}\n",
       ".dl-inline>dt:not(:first-of-type) {padding-left: .5ex}\n",
       "</style><dl class=dl-inline><dt>F1-Score</dt><dd>0.843150231634679</dd><dt>Precision</dt><dd>0.894662921348315</dd><dt>Recall</dt><dd>0.797246558197747</dd></dl>\n"
      ],
      "text/latex": [
       "\\begin{description*}\n",
       "\\item[F1-Score] 0.843150231634679\n",
       "\\item[Precision] 0.894662921348315\n",
       "\\item[Recall] 0.797246558197747\n",
       "\\end{description*}\n"
      ],
      "text/markdown": [
       "F1-Score\n",
       ":   0.843150231634679Precision\n",
       ":   0.894662921348315Recall\n",
       ":   0.797246558197747\n",
       "\n"
      ],
      "text/plain": [
       " F1-Score Precision    Recall \n",
       "0.8431502 0.8946629 0.7972466 "
      ]
     },
     "metadata": {},
     "output_type": "display_data"
    }
   ],
   "source": [
    "# Metric for rpartFit1 (rpartFit1 is the same as rpartFit0)\n",
    "\n",
    "predicted1<- predict(rpartFit1, newdata = testDF, type = \"class\")\n",
    "\n",
    "f1_val_rpartFit1 <- F1_Score(y_pred = predicted1, y_true = testDF$isSpam, positive = \"T\")\n",
    "precision_rpartFit1 <- Precision(y_pred = predicted1, y_true = testDF$isSpam, positive = \"T\")\n",
    "recall_rpartFit1  <- Recall(y_pred = predicted1, y_true = testDF$isSpam, positive = \"T\")\n",
    "\n",
    "result <- c( f1_val_rpartFit1, precision_rpartFit1, recall_rpartFit1)\n",
    "\n",
    "names(result) <- c(\"F1-Score\",\"Precision\", \"Recall\")\n",
    "print(\"Metrics for rpartFit1:\")\n",
    "return(result)\n"
   ]
  },
  {
   "cell_type": "code",
   "execution_count": 78,
   "metadata": {
    "scrolled": true
   },
   "outputs": [
    {
     "name": "stdout",
     "output_type": "stream",
     "text": [
      "[1] \"Metrics for rpartFit2:\"\n"
     ]
    },
    {
     "data": {
      "text/html": [
       "<style>\n",
       ".dl-inline {width: auto; margin:0; padding: 0}\n",
       ".dl-inline>dt, .dl-inline>dd {float: none; width: auto; display: inline-block}\n",
       ".dl-inline>dt::after {content: \":\\0020\"; padding-right: .5ex}\n",
       ".dl-inline>dt:not(:first-of-type) {padding-left: .5ex}\n",
       "</style><dl class=dl-inline><dt>F1-Score</dt><dd>0.846203763789747</dd><dt>Precision</dt><dd>0.878706199460916</dd><dt>Recall</dt><dd>0.816020025031289</dd></dl>\n"
      ],
      "text/latex": [
       "\\begin{description*}\n",
       "\\item[F1-Score] 0.846203763789747\n",
       "\\item[Precision] 0.878706199460916\n",
       "\\item[Recall] 0.816020025031289\n",
       "\\end{description*}\n"
      ],
      "text/markdown": [
       "F1-Score\n",
       ":   0.846203763789747Precision\n",
       ":   0.878706199460916Recall\n",
       ":   0.816020025031289\n",
       "\n"
      ],
      "text/plain": [
       " F1-Score Precision    Recall \n",
       "0.8462038 0.8787062 0.8160200 "
      ]
     },
     "metadata": {},
     "output_type": "display_data"
    }
   ],
   "source": [
    "# Metric for rpartFit2\n",
    "\n",
    "predicted2<- predict(rpartFit2, newdata = testDF, type = \"class\")\n",
    "\n",
    "f1_val_rpartFit2 <- F1_Score(y_pred = predicted2, y_true = testDF$isSpam, positive = \"T\")\n",
    "precision_rpartFit2 <- Precision(y_pred = predicted2, y_true = testDF$isSpam, positive = \"T\")\n",
    "recall_rpartFit2  <- Recall(y_pred = predicted2, y_true = testDF$isSpam, positive = \"T\")\n",
    "\n",
    "result <- c( f1_val_rpartFit2, precision_rpartFit2, recall_rpartFit2)\n",
    "\n",
    "names(result) <- c(\"F1-Score\",\"Precision\", \"Recall\")\n",
    "print(\"Metrics for rpartFit2:\")\n",
    "return(result)"
   ]
  },
  {
   "cell_type": "code",
   "execution_count": 79,
   "metadata": {
    "scrolled": true
   },
   "outputs": [
    {
     "name": "stdout",
     "output_type": "stream",
     "text": [
      "[1] \"Metrics for rpartFit3:\"\n"
     ]
    },
    {
     "data": {
      "text/html": [
       "<style>\n",
       ".dl-inline {width: auto; margin:0; padding: 0}\n",
       ".dl-inline>dt, .dl-inline>dd {float: none; width: auto; display: inline-block}\n",
       ".dl-inline>dt::after {content: \":\\0020\"; padding-right: .5ex}\n",
       ".dl-inline>dt:not(:first-of-type) {padding-left: .5ex}\n",
       "</style><dl class=dl-inline><dt>F1-Score</dt><dd>0.813008130081301</dd><dt>Precision</dt><dd>0.8125</dd><dt>Recall</dt><dd>0.81351689612015</dd></dl>\n"
      ],
      "text/latex": [
       "\\begin{description*}\n",
       "\\item[F1-Score] 0.813008130081301\n",
       "\\item[Precision] 0.8125\n",
       "\\item[Recall] 0.81351689612015\n",
       "\\end{description*}\n"
      ],
      "text/markdown": [
       "F1-Score\n",
       ":   0.813008130081301Precision\n",
       ":   0.8125Recall\n",
       ":   0.81351689612015\n",
       "\n"
      ],
      "text/plain": [
       " F1-Score Precision    Recall \n",
       "0.8130081 0.8125000 0.8135169 "
      ]
     },
     "metadata": {},
     "output_type": "display_data"
    }
   ],
   "source": [
    "# Metric for rpartFit3\n",
    "\n",
    "predicted3<- predict(rpartFit3, newdata = testDF, type = \"class\")\n",
    "\n",
    "f1_val_rpartFit3 <- F1_Score(y_pred = predicted3, y_true = testDF$isSpam, positive = \"T\")\n",
    "precision_rpartFit3 <- Precision(y_pred = predicted3, y_true = testDF$isSpam, positive = \"T\")\n",
    "recall_rpartFit3  <- Recall(y_pred = predicted3, y_true = testDF$isSpam, positive = \"T\")\n",
    "\n",
    "result <- c( f1_val_rpartFit3, precision_rpartFit3, recall_rpartFit3)\n",
    "\n",
    "names(result) <- c(\"F1-Score\",\"Precision\", \"Recall\")\n",
    "print(\"Metrics for rpartFit3:\")\n",
    "return(result)"
   ]
  },
  {
   "cell_type": "code",
   "execution_count": 80,
   "metadata": {
    "scrolled": true
   },
   "outputs": [
    {
     "name": "stdout",
     "output_type": "stream",
     "text": [
      "[1] \"Metrics for rpartFit4:\"\n"
     ]
    },
    {
     "data": {
      "text/html": [
       "<style>\n",
       ".dl-inline {width: auto; margin:0; padding: 0}\n",
       ".dl-inline>dt, .dl-inline>dd {float: none; width: auto; display: inline-block}\n",
       ".dl-inline>dt::after {content: \":\\0020\"; padding-right: .5ex}\n",
       ".dl-inline>dt:not(:first-of-type) {padding-left: .5ex}\n",
       "</style><dl class=dl-inline><dt>F1-Score</dt><dd>0.794362588084561</dd><dt>Precision</dt><dd>0.813648293963255</dd><dt>Recall</dt><dd>0.775969962453066</dd></dl>\n"
      ],
      "text/latex": [
       "\\begin{description*}\n",
       "\\item[F1-Score] 0.794362588084561\n",
       "\\item[Precision] 0.813648293963255\n",
       "\\item[Recall] 0.775969962453066\n",
       "\\end{description*}\n"
      ],
      "text/markdown": [
       "F1-Score\n",
       ":   0.794362588084561Precision\n",
       ":   0.813648293963255Recall\n",
       ":   0.775969962453066\n",
       "\n"
      ],
      "text/plain": [
       " F1-Score Precision    Recall \n",
       "0.7943626 0.8136483 0.7759700 "
      ]
     },
     "metadata": {},
     "output_type": "display_data"
    }
   ],
   "source": [
    "# Metric for rpartFit4\n",
    "\n",
    "predicted4<- predict(rpartFit4, newdata = testDF, type = \"class\")\n",
    "\n",
    "\n",
    "f1_val_rpartFit4 <- F1_Score(y_pred = predicted4, y_true = testDF$isSpam, positive = \"T\")\n",
    "precision_rpartFit4 <- Precision(y_pred = predicted4, y_true = testDF$isSpam, positive = \"T\")\n",
    "recall_rpartFit4  <- Recall(y_pred = predicted4, y_true = testDF$isSpam, positive = \"T\")\n",
    "\n",
    "result <- c( f1_val_rpartFit4, precision_rpartFit4, recall_rpartFit4)\n",
    "\n",
    "names(result) <- c(\"F1-Score\",\"Precision\", \"Recall\")\n",
    "print(\"Metrics for rpartFit4:\")\n",
    "return(result)\n"
   ]
  },
  {
   "cell_type": "code",
   "execution_count": 81,
   "metadata": {
    "scrolled": true
   },
   "outputs": [
    {
     "name": "stdout",
     "output_type": "stream",
     "text": [
      "[1] \"Metrics for rpartFit5:\"\n"
     ]
    },
    {
     "data": {
      "text/html": [
       "<style>\n",
       ".dl-inline {width: auto; margin:0; padding: 0}\n",
       ".dl-inline>dt, .dl-inline>dd {float: none; width: auto; display: inline-block}\n",
       ".dl-inline>dt::after {content: \":\\0020\"; padding-right: .5ex}\n",
       ".dl-inline>dt:not(:first-of-type) {padding-left: .5ex}\n",
       "</style><dl class=dl-inline><dt>F1-Score</dt><dd>0.794041450777202</dd><dt>Precision</dt><dd>0.822818791946309</dd><dt>Recall</dt><dd>0.76720901126408</dd></dl>\n"
      ],
      "text/latex": [
       "\\begin{description*}\n",
       "\\item[F1-Score] 0.794041450777202\n",
       "\\item[Precision] 0.822818791946309\n",
       "\\item[Recall] 0.76720901126408\n",
       "\\end{description*}\n"
      ],
      "text/markdown": [
       "F1-Score\n",
       ":   0.794041450777202Precision\n",
       ":   0.822818791946309Recall\n",
       ":   0.76720901126408\n",
       "\n"
      ],
      "text/plain": [
       " F1-Score Precision    Recall \n",
       "0.7940415 0.8228188 0.7672090 "
      ]
     },
     "metadata": {},
     "output_type": "display_data"
    }
   ],
   "source": [
    "# Metric for rpartFit5\n",
    "\n",
    "predicted5<- predict(rpartFit5, newdata = testDF, type = \"class\")\n",
    "\n",
    "\n",
    "f1_val_rpartFit5 <- F1_Score(y_pred = predicted5, y_true = testDF$isSpam, positive = \"T\")\n",
    "precision_rpartFit5 <- Precision(y_pred = predicted5, y_true = testDF$isSpam, positive = \"T\")\n",
    "recall_rpartFit5  <- Recall(y_pred = predicted5, y_true = testDF$isSpam, positive = \"T\")\n",
    "\n",
    "result <- c( f1_val_rpartFit5, precision_rpartFit5, recall_rpartFit5)\n",
    "\n",
    "names(result) <- c(\"F1-Score\",\"Precision\", \"Recall\")\n",
    "print(\"Metrics for rpartFit5:\")\n",
    "return(result)\n"
   ]
  },
  {
   "cell_type": "code",
   "execution_count": 82,
   "metadata": {
    "scrolled": true
   },
   "outputs": [
    {
     "name": "stdout",
     "output_type": "stream",
     "text": [
      "[1] \"Metrics for rpartFit6:\"\n"
     ]
    },
    {
     "data": {
      "text/html": [
       "<style>\n",
       ".dl-inline {width: auto; margin:0; padding: 0}\n",
       ".dl-inline>dt, .dl-inline>dd {float: none; width: auto; display: inline-block}\n",
       ".dl-inline>dt::after {content: \":\\0020\"; padding-right: .5ex}\n",
       ".dl-inline>dt:not(:first-of-type) {padding-left: .5ex}\n",
       "</style><dl class=dl-inline><dt>F1-Score</dt><dd>0.781609195402299</dd><dt>Precision</dt><dd>0.797913950456323</dd><dt>Recall</dt><dd>0.765957446808511</dd></dl>\n"
      ],
      "text/latex": [
       "\\begin{description*}\n",
       "\\item[F1-Score] 0.781609195402299\n",
       "\\item[Precision] 0.797913950456323\n",
       "\\item[Recall] 0.765957446808511\n",
       "\\end{description*}\n"
      ],
      "text/markdown": [
       "F1-Score\n",
       ":   0.781609195402299Precision\n",
       ":   0.797913950456323Recall\n",
       ":   0.765957446808511\n",
       "\n"
      ],
      "text/plain": [
       " F1-Score Precision    Recall \n",
       "0.7816092 0.7979140 0.7659574 "
      ]
     },
     "metadata": {},
     "output_type": "display_data"
    }
   ],
   "source": [
    "# Metric for rpartFit6\n",
    "\n",
    "predicted6<- predict(rpartFit6, newdata = testDF, type = \"class\")\n",
    "\n",
    "\n",
    "f1_val_rpartFit6 <- F1_Score(y_pred = predicted6, y_true = testDF$isSpam, positive = \"T\")\n",
    "precision_rpartFit6 <- Precision(y_pred = predicted6, y_true = testDF$isSpam, positive = \"T\")\n",
    "recall_rpartFit6  <- Recall(y_pred = predicted6, y_true = testDF$isSpam, positive = \"T\")\n",
    "\n",
    "result <- c( f1_val_rpartFit6, precision_rpartFit6, recall_rpartFit6)\n",
    "\n",
    "names(result) <- c(\"F1-Score\",\"Precision\", \"Recall\")\n",
    "print(\"Metrics for rpartFit6:\")\n",
    "return(result)\n"
   ]
  },
  {
   "cell_type": "code",
   "execution_count": 83,
   "metadata": {
    "scrolled": true
   },
   "outputs": [
    {
     "name": "stdout",
     "output_type": "stream",
     "text": [
      "[1] \"Metrics for rpartFit7:\"\n"
     ]
    },
    {
     "data": {
      "text/html": [
       "<style>\n",
       ".dl-inline {width: auto; margin:0; padding: 0}\n",
       ".dl-inline>dt, .dl-inline>dd {float: none; width: auto; display: inline-block}\n",
       ".dl-inline>dt::after {content: \":\\0020\"; padding-right: .5ex}\n",
       ".dl-inline>dt:not(:first-of-type) {padding-left: .5ex}\n",
       "</style><dl class=dl-inline><dt>F1-Score</dt><dd>0.722302158273381</dd><dt>Precision</dt><dd>0.849407783417936</dd><dt>Recall</dt><dd>0.62828535669587</dd></dl>\n"
      ],
      "text/latex": [
       "\\begin{description*}\n",
       "\\item[F1-Score] 0.722302158273381\n",
       "\\item[Precision] 0.849407783417936\n",
       "\\item[Recall] 0.62828535669587\n",
       "\\end{description*}\n"
      ],
      "text/markdown": [
       "F1-Score\n",
       ":   0.722302158273381Precision\n",
       ":   0.849407783417936Recall\n",
       ":   0.62828535669587\n",
       "\n"
      ],
      "text/plain": [
       " F1-Score Precision    Recall \n",
       "0.7223022 0.8494078 0.6282854 "
      ]
     },
     "metadata": {},
     "output_type": "display_data"
    }
   ],
   "source": [
    "# Metric for rpartFit7\n",
    "\n",
    "predicted7<- predict(rpartFit7, newdata = testDF, type = \"class\")\n",
    "\n",
    "\n",
    "f1_val_rpartFit7 <- F1_Score(y_pred = predicted7, y_true = testDF$isSpam, positive = \"T\")\n",
    "precision_rpartFit7 <- Precision(y_pred = predicted7, y_true = testDF$isSpam, positive = \"T\")\n",
    "recall_rpartFit7  <- Recall(y_pred = predicted7, y_true = testDF$isSpam, positive = \"T\")\n",
    "\n",
    "result <- c( f1_val_rpartFit7, precision_rpartFit7, recall_rpartFit7)\n",
    "\n",
    "names(result) <- c(\"F1-Score\",\"Precision\", \"Recall\")\n",
    "print(\"Metrics for rpartFit7:\")\n",
    "return(result)\n"
   ]
  },
  {
   "cell_type": "code",
   "execution_count": 84,
   "metadata": {
    "scrolled": true
   },
   "outputs": [
    {
     "name": "stdout",
     "output_type": "stream",
     "text": [
      "[1] \"Metrics for rpartFit8:\"\n"
     ]
    },
    {
     "data": {
      "text/html": [
       "<style>\n",
       ".dl-inline {width: auto; margin:0; padding: 0}\n",
       ".dl-inline>dt, .dl-inline>dd {float: none; width: auto; display: inline-block}\n",
       ".dl-inline>dt::after {content: \":\\0020\"; padding-right: .5ex}\n",
       ".dl-inline>dt:not(:first-of-type) {padding-left: .5ex}\n",
       "</style><dl class=dl-inline><dt>F1-Score</dt><dd>0.723465703971119</dd><dt>Precision</dt><dd>0.854948805460751</dd><dt>Recall</dt><dd>0.6270337922403</dd></dl>\n"
      ],
      "text/latex": [
       "\\begin{description*}\n",
       "\\item[F1-Score] 0.723465703971119\n",
       "\\item[Precision] 0.854948805460751\n",
       "\\item[Recall] 0.6270337922403\n",
       "\\end{description*}\n"
      ],
      "text/markdown": [
       "F1-Score\n",
       ":   0.723465703971119Precision\n",
       ":   0.854948805460751Recall\n",
       ":   0.6270337922403\n",
       "\n"
      ],
      "text/plain": [
       " F1-Score Precision    Recall \n",
       "0.7234657 0.8549488 0.6270338 "
      ]
     },
     "metadata": {},
     "output_type": "display_data"
    }
   ],
   "source": [
    "# Metric for rpartFit8\n",
    "\n",
    "predicted8<- predict(rpartFit8, newdata = testDF, type = \"class\")\n",
    "\n",
    "\n",
    "f1_val_rpartFit8 <- F1_Score(y_pred = predicted8, y_true = testDF$isSpam, positive = \"T\")\n",
    "precision_rpartFit8 <- Precision(y_pred = predicted8, y_true = testDF$isSpam, positive = \"T\")\n",
    "recall_rpartFit8  <- Recall(y_pred = predicted8, y_true = testDF$isSpam, positive = \"T\")\n",
    "\n",
    "result <- c( f1_val_rpartFit8, precision_rpartFit8, recall_rpartFit8)\n",
    "\n",
    "names(result) <- c(\"F1-Score\",\"Precision\", \"Recall\")\n",
    "print(\"Metrics for rpartFit8:\")\n",
    "return(result)\n"
   ]
  },
  {
   "cell_type": "code",
   "execution_count": 85,
   "metadata": {
    "scrolled": true
   },
   "outputs": [
    {
     "name": "stdout",
     "output_type": "stream",
     "text": [
      "[1] \"Metrics for rpartFit9:\"\n"
     ]
    },
    {
     "data": {
      "text/html": [
       "<style>\n",
       ".dl-inline {width: auto; margin:0; padding: 0}\n",
       ".dl-inline>dt, .dl-inline>dd {float: none; width: auto; display: inline-block}\n",
       ".dl-inline>dt::after {content: \":\\0020\"; padding-right: .5ex}\n",
       ".dl-inline>dt:not(:first-of-type) {padding-left: .5ex}\n",
       "</style><dl class=dl-inline><dt>F1-Score</dt><dd>0.714905933429812</dd><dt>Precision</dt><dd>0.847341337907376</dd><dt>Recall</dt><dd>0.618272841051314</dd></dl>\n"
      ],
      "text/latex": [
       "\\begin{description*}\n",
       "\\item[F1-Score] 0.714905933429812\n",
       "\\item[Precision] 0.847341337907376\n",
       "\\item[Recall] 0.618272841051314\n",
       "\\end{description*}\n"
      ],
      "text/markdown": [
       "F1-Score\n",
       ":   0.714905933429812Precision\n",
       ":   0.847341337907376Recall\n",
       ":   0.618272841051314\n",
       "\n"
      ],
      "text/plain": [
       " F1-Score Precision    Recall \n",
       "0.7149059 0.8473413 0.6182728 "
      ]
     },
     "metadata": {},
     "output_type": "display_data"
    }
   ],
   "source": [
    "# Metric for rpartFit9\n",
    "\n",
    "predicted9<- predict(rpartFit9, newdata = testDF, type = \"class\")\n",
    "\n",
    "\n",
    "f1_val_rpartFit9 <- F1_Score(y_pred = predicted9, y_true = testDF$isSpam, positive = \"T\")\n",
    "precision_rpartFit9 <- Precision(y_pred = predicted9, y_true = testDF$isSpam, positive = \"T\")\n",
    "recall_rpartFit9  <- Recall(y_pred = predicted9, y_true = testDF$isSpam, positive = \"T\")\n",
    "\n",
    "result <- c( f1_val_rpartFit9, precision_rpartFit9, recall_rpartFit9)\n",
    "\n",
    "names(result) <- c(\"F1-Score\",\"Precision\", \"Recall\")\n",
    "print(\"Metrics for rpartFit9:\")\n",
    "return(result)\n"
   ]
  },
  {
   "cell_type": "markdown",
   "metadata": {},
   "source": [
    "### Summary of results\n",
    "[1] \"Metrics for rpartFit1:\"\n",
    "\n",
    "F1-Score\n",
    "0.868217054263566\n",
    "Precision\n",
    "0.897196261682243\n",
    "Recall\n",
    "0.841051314142678\n",
    "\n",
    "\n",
    "[1] \"Metrics for rpartFit2:\"\n",
    "\n",
    "F1-Score\n",
    "0.866151866151866\n",
    "Precision\n",
    "0.891390728476821\n",
    "Recall\n",
    "0.842302878598248\n",
    "\n",
    "[1] \"Metrics for rpartFit3:\"\n",
    "\n",
    "F1-Score\n",
    "0.843554443053817\n",
    "Precision\n",
    "0.843554443053817\n",
    "Recall\n",
    "0.843554443053817\n",
    "\n",
    "\n",
    "[1] \"Metrics for rpartFit4:\"\n",
    "\n",
    "F1-Score\n",
    "0.816808929743926\n",
    "Precision\n",
    "0.859116022099447\n",
    "Recall\n",
    "0.778473091364205\n",
    "\n",
    "\n",
    "\n",
    "[1] \"Metrics for rpartFit5:\"\n",
    "\n",
    "F1-Score\n",
    "0.817105263157895\n",
    "Precision\n",
    "0.86130374479889\n",
    "Recall\n",
    "0.777221526908636\n",
    "\n",
    "\n",
    "[1] \"Metrics for rpartFit6:\"\n",
    "\n",
    "F1-Score\n",
    "0.805177993527508\n",
    "Precision\n",
    "0.833780160857909\n",
    "Recall\n",
    "0.778473091364205\n",
    "\n",
    "[1] \"Metrics for rpartFit7:\"\n",
    "\n",
    "F1-Score\n",
    "0.752990851513019\n",
    "Precision\n",
    "0.860128617363344\n",
    "Recall\n",
    "0.669586983729662\n",
    "\n",
    "[1] \"Metrics for rpartFit8:\"\n",
    "\n",
    "F1-Score\n",
    "0.752990851513019\n",
    "Precision\n",
    "0.860128617363344\n",
    "Recall\n",
    "0.669586983729662\n",
    "\n",
    "\n",
    "\n",
    "[1] \"Metrics for rpartFit9:\"\n",
    "\n",
    "F1-Score\n",
    "0.748241912798875\n",
    "Precision\n",
    "0.853932584269663\n",
    "Recall\n",
    "0.665832290362954\n",
    "\n",
    "### impact of change the parameters on models !!!!!!!!!!!!!!!!!!!!!!!  \n",
    "#### From the results (better create table with columns: modelName, cp, maxdepth,F1-Score, Precision,Recall ), we can see the trend:\n",
    "###  with the cp value increase, model performance decrease;\n",
    "###  with maxdepth decrease, model performance decrease.\n"
   ]
  },
  {
   "cell_type": "code",
   "execution_count": 86,
   "metadata": {
    "scrolled": true
   },
   "outputs": [],
   "source": [
    "#try a higher maxdepth,  see if performance increase\n",
    "rpartFit10 = rpart(isSpam ~ ., data = trainDF, method = \"class\",control = rpart.control(cp = 0.0001, maxdepth=14, xval= 5, minsplit=20))"
   ]
  },
  {
   "cell_type": "code",
   "execution_count": 87,
   "metadata": {
    "scrolled": true
   },
   "outputs": [
    {
     "name": "stdout",
     "output_type": "stream",
     "text": [
      "[1] \"Metrics for rpartFit10:\"\n"
     ]
    },
    {
     "data": {
      "text/html": [
       "<style>\n",
       ".dl-inline {width: auto; margin:0; padding: 0}\n",
       ".dl-inline>dt, .dl-inline>dd {float: none; width: auto; display: inline-block}\n",
       ".dl-inline>dt::after {content: \":\\0020\"; padding-right: .5ex}\n",
       ".dl-inline>dt:not(:first-of-type) {padding-left: .5ex}\n",
       "</style><dl class=dl-inline><dt>F1-Score</dt><dd>0.856400259909032</dd><dt>Precision</dt><dd>0.890540540540541</dd><dt>Recall</dt><dd>0.824780976220275</dd></dl>\n"
      ],
      "text/latex": [
       "\\begin{description*}\n",
       "\\item[F1-Score] 0.856400259909032\n",
       "\\item[Precision] 0.890540540540541\n",
       "\\item[Recall] 0.824780976220275\n",
       "\\end{description*}\n"
      ],
      "text/markdown": [
       "F1-Score\n",
       ":   0.856400259909032Precision\n",
       ":   0.890540540540541Recall\n",
       ":   0.824780976220275\n",
       "\n"
      ],
      "text/plain": [
       " F1-Score Precision    Recall \n",
       "0.8564003 0.8905405 0.8247810 "
      ]
     },
     "metadata": {},
     "output_type": "display_data"
    }
   ],
   "source": [
    "# Metric for rpartFit10\n",
    "\n",
    "predicted10<- predict(rpartFit10, newdata = testDF, type = \"class\")\n",
    "\n",
    "\n",
    "f1_val_rpartFit10 <- F1_Score(y_pred = predicted10, y_true = testDF$isSpam, positive = \"T\")\n",
    "precision_rpartFit10 <- Precision(y_pred = predicted10, y_true = testDF$isSpam, positive = \"T\")\n",
    "recall_rpartFit10  <- Recall(y_pred = predicted10, y_true = testDF$isSpam, positive = \"T\")\n",
    "\n",
    "result <- c( f1_val_rpartFit10, precision_rpartFit10, recall_rpartFit10)\n",
    "\n",
    "names(result) <- c(\"F1-Score\",\"Precision\", \"Recall\")\n",
    "print(\"Metrics for rpartFit10:\")\n",
    "return(result)\n",
    "\n",
    "#compare with Fit1, performance increase: F1 and Recall incease, Precision decrease a bit"
   ]
  },
  {
   "cell_type": "code",
   "execution_count": 88,
   "metadata": {
    "scrolled": true
   },
   "outputs": [],
   "source": [
    "#try a smaller cp,  see if performance increase\n",
    "rpartFit11= rpart(isSpam ~ ., data = trainDF, method = \"class\",control = rpart.control(cp = 0.00005, maxdepth=10, xval= 5, minsplit=20))"
   ]
  },
  {
   "cell_type": "code",
   "execution_count": 89,
   "metadata": {
    "scrolled": true
   },
   "outputs": [
    {
     "name": "stdout",
     "output_type": "stream",
     "text": [
      "[1] \"Metrics for rpartFit11:\"\n"
     ]
    },
    {
     "data": {
      "text/html": [
       "<style>\n",
       ".dl-inline {width: auto; margin:0; padding: 0}\n",
       ".dl-inline>dt, .dl-inline>dd {float: none; width: auto; display: inline-block}\n",
       ".dl-inline>dt::after {content: \":\\0020\"; padding-right: .5ex}\n",
       ".dl-inline>dt:not(:first-of-type) {padding-left: .5ex}\n",
       "</style><dl class=dl-inline><dt>F1-Score</dt><dd>0.843150231634679</dd><dt>Precision</dt><dd>0.894662921348315</dd><dt>Recall</dt><dd>0.797246558197747</dd></dl>\n"
      ],
      "text/latex": [
       "\\begin{description*}\n",
       "\\item[F1-Score] 0.843150231634679\n",
       "\\item[Precision] 0.894662921348315\n",
       "\\item[Recall] 0.797246558197747\n",
       "\\end{description*}\n"
      ],
      "text/markdown": [
       "F1-Score\n",
       ":   0.843150231634679Precision\n",
       ":   0.894662921348315Recall\n",
       ":   0.797246558197747\n",
       "\n"
      ],
      "text/plain": [
       " F1-Score Precision    Recall \n",
       "0.8431502 0.8946629 0.7972466 "
      ]
     },
     "metadata": {},
     "output_type": "display_data"
    }
   ],
   "source": [
    "# Metric for rpartFit11\n",
    "\n",
    "predicted11<- predict(rpartFit11, newdata = testDF, type = \"class\")\n",
    "\n",
    "\n",
    "f1_val_rpartFit11 <- F1_Score(y_pred = predicted11, y_true = testDF$isSpam, positive = \"T\")\n",
    "precision_rpartFit11 <- Precision(y_pred = predicted11, y_true = testDF$isSpam, positive = \"T\")\n",
    "recall_rpartFit11  <- Recall(y_pred = predicted11, y_true = testDF$isSpam, positive = \"T\")\n",
    "\n",
    "result <- c( f1_val_rpartFit11, precision_rpartFit11, recall_rpartFit11)\n",
    "\n",
    "names(result) <- c(\"F1-Score\",\"Precision\", \"Recall\")\n",
    "print(\"Metrics for rpartFit11:\")\n",
    "return(result)\n",
    "\n",
    "##performance stay the same\n",
    "# [1] \"Metrics for rpartFit1:\"\n",
    "# F1-Score 0.868217054263566 Precision 0.897196261682243 Recall 0.841051314142678"
   ]
  },
  {
   "cell_type": "code",
   "execution_count": 90,
   "metadata": {
    "scrolled": true
   },
   "outputs": [],
   "source": [
    "# model10=rpartFitFunc(rpartFit10 ,'_10')"
   ]
  },
  {
   "cell_type": "markdown",
   "metadata": {},
   "source": [
    "### rpartFit10 with maxdepth =14 is the best model we got so far. however, we can not increase maxdepth infinitely since it cause overfitting.\n",
    "\n",
    "### let's compare the trees of rpartFit1 and rpartFit10 which are the best models we got so far to make a final decision on which model to choose.\n"
   ]
  },
  {
   "cell_type": "code",
   "execution_count": 91,
   "metadata": {
    "scrolled": true
   },
   "outputs": [
    {
     "name": "stderr",
     "output_type": "stream",
     "text": [
      "Warning message:\n",
      "\"labs do not fit even at cex 0.15, there may be some overplotting\"\n"
     ]
    },
    {
     "data": {
      "image/png": "[encoded data removed]",
      "text/plain": [
       "plot without title"
      ]
     },
     "metadata": {
      "image/png": {
       "height": 420,
       "width": 420
      },
      "text/plain": {
       "height": 420,
       "width": 420
      }
     },
     "output_type": "display_data"
    }
   ],
   "source": [
    "rpart.plot(rpartFit1  , extra = 3)"
   ]
  },
  {
   "cell_type": "code",
   "execution_count": 92,
   "metadata": {
    "scrolled": true
   },
   "outputs": [
    {
     "name": "stderr",
     "output_type": "stream",
     "text": [
      "Warning message:\n",
      "\"labs do not fit even at cex 0.15, there may be some overplotting\"\n"
     ]
    },
    {
     "data": {
      "image/png": "[encoded data removed]",
      "text/plain": [
       "plot without title"
      ]
     },
     "metadata": {
      "image/png": {
       "height": 420,
       "width": 420
      },
      "text/plain": {
       "height": 420,
       "width": 420
      }
     },
     "output_type": "display_data"
    }
   ],
   "source": [
    "rpart.plot(rpartFit10  , extra = 3)"
   ]
  },
  {
   "cell_type": "code",
   "execution_count": 93,
   "metadata": {
    "scrolled": true
   },
   "outputs": [
    {
     "data": {
      "image/png": "[encoded data removed]",
      "text/plain": [
       "plot without title"
      ]
     },
     "metadata": {
      "image/png": {
       "height": 420,
       "width": 420
      },
      "text/plain": {
       "height": 420,
       "width": 420
      }
     },
     "output_type": "display_data"
    }
   ],
   "source": [
    "# let's prune rpartFit10 and compare with pruned rpartFit1\n",
    "\n",
    "plotcp(rpartFit10)"
   ]
  },
  {
   "cell_type": "code",
   "execution_count": 94,
   "metadata": {
    "scrolled": true
   },
   "outputs": [
    {
     "name": "stdout",
     "output_type": "stream",
     "text": [
      "\n",
      "Classification tree:\n",
      "rpart(formula = isSpam ~ ., data = trainDF, method = \"class\", \n",
      "    control = rpart.control(cp = 1e-04, maxdepth = 14, xval = 5, \n",
      "        minsplit = 20))\n",
      "\n",
      "Variables actually used in tree construction:\n",
      " [1] avgWordLen    bodyCharCt    forwards      hour          isDear       \n",
      " [6] isInReplyTo   isRe          isWrote       isYelling     multipartText\n",
      "[11] numAtt        numDlr        numEnd        numLines      numRec       \n",
      "[16] perCaps       perHTML       subBlanks     subExcCt      subSpamWords \n",
      "[21] underscore   \n",
      "\n",
      "Root node error: 1598/6232 = 0.25642\n",
      "\n",
      "n= 6232 \n",
      "\n",
      "           CP nsplit rel error  xerror     xstd\n",
      "1  0.31163955      0   1.00000 1.00000 0.021571\n",
      "2  0.09386733      1   0.68836 0.71464 0.019112\n",
      "3  0.07008761      2   0.59449 0.59950 0.017818\n",
      "4  0.04443054      3   0.52441 0.53504 0.016997\n",
      "5  0.02346683      4   0.47997 0.49687 0.016472\n",
      "6  0.01960784      6   0.43304 0.45119 0.015801\n",
      "7  0.01877347      9   0.37422 0.40363 0.015048\n",
      "8  0.01627034     10   0.35544 0.38798 0.014786\n",
      "9  0.01251564     11   0.33917 0.37046 0.014485\n",
      "10 0.00813517     14   0.30163 0.32728 0.013697\n",
      "11 0.00750939     15   0.29349 0.31227 0.013408\n",
      "12 0.00500626     16   0.28598 0.30663 0.013297\n",
      "13 0.00438048     21   0.26033 0.28473 0.012852\n",
      "14 0.00354610     22   0.25594 0.27910 0.012734\n",
      "15 0.00312891     28   0.22528 0.27597 0.012668\n",
      "16 0.00250313     32   0.21277 0.27472 0.012641\n",
      "17 0.00187735     38   0.19712 0.27284 0.012601\n",
      "18 0.00175219     41   0.19149 0.26971 0.012534\n",
      "19 0.00125156     48   0.17146 0.26408 0.012412\n",
      "20 0.00062578     51   0.16771 0.26158 0.012358\n",
      "21 0.00050063     57   0.16395 0.25782 0.012275\n",
      "22 0.00010000     62   0.16145 0.25970 0.012316\n"
     ]
    }
   ],
   "source": [
    "printcp(rpartFit10) #rule of thumb to determine optimal cp value"
   ]
  },
  {
   "cell_type": "code",
   "execution_count": 95,
   "metadata": {
    "scrolled": true
   },
   "outputs": [
    {
     "data": {
      "text/html": [
       "0.252823"
      ],
      "text/latex": [
       "0.252823"
      ],
      "text/markdown": [
       "0.252823"
      ],
      "text/plain": [
       "[1] 0.252823"
      ]
     },
     "metadata": {},
     "output_type": "display_data"
    }
   ],
   "source": [
    "# 24 0.00093867     43   0.17647 0.24093 0.011893\n",
    "0.24093+0.011893 #=0.252823, so choose 20 0.00219024     25   0.20713 0.24906 0.012079\n",
    "\n",
    "#good_cp10=0.00219024"
   ]
  },
  {
   "cell_type": "code",
   "execution_count": 96,
   "metadata": {
    "scrolled": true
   },
   "outputs": [],
   "source": [
    "good_cp10=0.00219024"
   ]
  },
  {
   "cell_type": "code",
   "execution_count": 97,
   "metadata": {
    "scrolled": true
   },
   "outputs": [
    {
     "name": "stderr",
     "output_type": "stream",
     "text": [
      "Warning message:\n",
      "\"labs do not fit even at cex 0.15, there may be some overplotting\"\n"
     ]
    },
    {
     "data": {
      "image/png": "[encoded data removed]",
      "text/plain": [
       "plot without title"
      ]
     },
     "metadata": {
      "image/png": {
       "height": 420,
       "width": 420
      },
      "text/plain": {
       "height": 420,
       "width": 420
      }
     },
     "output_type": "display_data"
    }
   ],
   "source": [
    "tree.fit10=prune(rpartFit10, cp= good_cp10)\n",
    "\n",
    "rpart.plot(tree.fit10, extra = 3)"
   ]
  },
  {
   "cell_type": "code",
   "execution_count": 98,
   "metadata": {
    "scrolled": true
   },
   "outputs": [
    {
     "data": {
      "text/html": [
       "<strong>png:</strong> 2"
      ],
      "text/latex": [
       "\\textbf{png:} 2"
      ],
      "text/markdown": [
       "**png:** 2"
      ],
      "text/plain": [
       "png \n",
       "  2 "
      ]
     },
     "metadata": {},
     "output_type": "display_data"
    }
   ],
   "source": [
    "png(\"treefit10.png\", width=1000, height=800, antialias=\"cleartype\")\n",
    "rpart.plot(tree.fit10, extra = 3)\n",
    "dev.off()"
   ]
  },
  {
   "cell_type": "code",
   "execution_count": 99,
   "metadata": {
    "scrolled": true
   },
   "outputs": [
    {
     "data": {
      "image/png": "[encoded data removed]",
      "text/plain": [
       "plot without title"
      ]
     },
     "metadata": {
      "image/png": {
       "height": 420,
       "width": 420
      },
      "text/plain": {
       "height": 420,
       "width": 420
      }
     },
     "output_type": "display_data"
    }
   ],
   "source": [
    "rpart.plot(tree.fit0, extra = 3)"
   ]
  },
  {
   "cell_type": "code",
   "execution_count": 100,
   "metadata": {
    "scrolled": true
   },
   "outputs": [
    {
     "data": {
      "text/html": [
       "<strong>png:</strong> 2"
      ],
      "text/latex": [
       "\\textbf{png:} 2"
      ],
      "text/markdown": [
       "**png:** 2"
      ],
      "text/plain": [
       "png \n",
       "  2 "
      ]
     },
     "metadata": {},
     "output_type": "display_data"
    }
   ],
   "source": [
    "png(\"treefit1.png\", width=1000, height=800, antialias=\"cleartype\")\n",
    "rpart.plot(tree.fit0, extra = 3)\n",
    "dev.off()  #save the tree plot in png. so can zoom in and see the labels"
   ]
  },
  {
   "cell_type": "code",
   "execution_count": 101,
   "metadata": {
    "scrolled": true
   },
   "outputs": [],
   "source": [
    "# summary(rpartFit10)"
   ]
  },
  {
   "cell_type": "code",
   "execution_count": 102,
   "metadata": {
    "scrolled": true
   },
   "outputs": [],
   "source": [
    "# summary(tree.fit10)\n"
   ]
  },
  {
   "cell_type": "code",
   "execution_count": 103,
   "metadata": {
    "scrolled": true
   },
   "outputs": [
    {
     "name": "stdout",
     "output_type": "stream",
     "text": [
      "[1] \"Metrics for pruned rpartFit10:\"\n"
     ]
    },
    {
     "data": {
      "text/html": [
       "<style>\n",
       ".dl-inline {width: auto; margin:0; padding: 0}\n",
       ".dl-inline>dt, .dl-inline>dd {float: none; width: auto; display: inline-block}\n",
       ".dl-inline>dt::after {content: \":\\0020\"; padding-right: .5ex}\n",
       ".dl-inline>dt:not(:first-of-type) {padding-left: .5ex}\n",
       "</style><dl class=dl-inline><dt>F1-Score</dt><dd>0.85859872611465</dd><dt>Precision</dt><dd>0.874189364461738</dd><dt>Recall</dt><dd>0.843554443053817</dd></dl>\n"
      ],
      "text/latex": [
       "\\begin{description*}\n",
       "\\item[F1-Score] 0.85859872611465\n",
       "\\item[Precision] 0.874189364461738\n",
       "\\item[Recall] 0.843554443053817\n",
       "\\end{description*}\n"
      ],
      "text/markdown": [
       "F1-Score\n",
       ":   0.85859872611465Precision\n",
       ":   0.874189364461738Recall\n",
       ":   0.843554443053817\n",
       "\n"
      ],
      "text/plain": [
       " F1-Score Precision    Recall \n",
       "0.8585987 0.8741894 0.8435544 "
      ]
     },
     "metadata": {},
     "output_type": "display_data"
    }
   ],
   "source": [
    "# Metric for tree.fit10 which is pruned rpartFit10\n",
    "\n",
    "predicted10p <- predict(tree.fit10, newdata = testDF, type = \"class\")\n",
    "\n",
    "f1_val_rpartFit10p <- F1_Score(y_pred = predicted10p , y_true = testDF$isSpam, positive = \"T\")\n",
    "precision_rpartFit10p <- Precision(y_pred = predicted10p, y_true = testDF$isSpam, positive = \"T\")\n",
    "recall_rpartFit10p  <- Recall(y_pred = predicted10p, y_true = testDF$isSpam, positive = \"T\")\n",
    "\n",
    "result <- c( f1_val_rpartFit10p, precision_rpartFit10p, recall_rpartFit10p)\n",
    "\n",
    "names(result) <- c(\"F1-Score\",\"Precision\", \"Recall\")\n",
    "print(\"Metrics for pruned rpartFit10:\")\n",
    "return(result)\n",
    "\n"
   ]
  },
  {
   "cell_type": "code",
   "execution_count": 104,
   "metadata": {
    "scrolled": true
   },
   "outputs": [],
   "source": [
    "# compare results:\n",
    "\n",
    "# [1] \"Metrics for pruned rpartFit1:\"\n",
    "\n",
    "# F1-Score\n",
    "# 0.860952380952381\n",
    "# Precision\n",
    "# 0.873711340206186\n",
    "# Recall\n",
    "# 0.848560700876095\n",
    "\n",
    "# [1] \"Metrics for pruned rpartFit10:\"\n",
    "\n",
    "# F1-Score\n",
    "# 0.867637745408486\n",
    "# Precision\n",
    "# 0.878205128205128\n",
    "# Recall\n",
    "# 0.857321652065081\n",
    "\n"
   ]
  },
  {
   "cell_type": "markdown",
   "metadata": {},
   "source": [
    "## Conclusion for task 3\n",
    "### pruned rpartFit10 outperformed pruned rpartFit1\n",
    "### so parameter tuning improved the prediction\n",
    "\n",
    "### however, pruned rpartFit1 is easier to interpret based on the plot.\n",
    "-------------------------------------------------------"
   ]
  },
  {
   "cell_type": "markdown",
   "metadata": {},
   "source": [
    "## Task 4 Alternative method to find optimal cp value\n",
    "### use rpart package see how the cp will affect on the tree while holding others constant\n",
    "#### caret package can grid search cp, also print F1, prec, rec"
   ]
  },
  {
   "cell_type": "markdown",
   "metadata": {},
   "source": [
    "__DD:__ I was getting error _\"object f1 not found\"_ so added the function provided by Dr. Slater to run prior to the next cell"
   ]
  },
  {
   "cell_type": "code",
   "execution_count": 106,
   "metadata": {},
   "outputs": [],
   "source": [
    "#Function from Dr. Slater\n",
    "library(MLmetrics)\n",
    "f1 <- function(data, lev = NULL, model = NULL) {\n",
    "  f1_val <- F1_Score(y_pred = data$pred, y_true = data$obs, positive = lev[1])\n",
    "  p <- Precision(y_pred = data$pred, y_true = data$obs, positive = lev[1])\n",
    "  r <- Recall(y_pred = data$pred, y_true = data$obs, positive = lev[1])\n",
    "  fp <-sum(data$pred==0 & data$obs==1)/length(data$pred)  \n",
    " \n",
    "  fn <-sum(data$pred==1 & data$obs==0)/length(data$pred)\n",
    "    c(F1 = f1_val,\n",
    "    prec = p,\n",
    "    rec = r,\n",
    "    Type_I_err=fp,\n",
    "    Type_II_err=fn\n",
    "   )\n",
    "}"
   ]
  },
  {
   "cell_type": "code",
   "execution_count": 107,
   "metadata": {
    "scrolled": true
   },
   "outputs": [
    {
     "name": "stderr",
     "output_type": "stream",
     "text": [
      "Warning message in train.default(x, y, weights = w, ...):\n",
      "\"The metric \"Accuracy\" was not in the result set. F1 will be used instead.\"\n"
     ]
    },
    {
     "data": {
      "text/plain": [
       "CART \n",
       "\n",
       "9348 samples\n",
       "  29 predictor\n",
       "   2 classes: '0', '1' \n",
       "\n",
       "No pre-processing\n",
       "Resampling: Cross-Validated (5 fold) \n",
       "Summary of sample sizes: 7478, 7478, 7479, 7478, 7479 \n",
       "Resampling results across tuning parameters:\n",
       "\n",
       "  cp       F1         prec       rec        Type_I_err  Type_II_err\n",
       "  0.00000  0.9597044  0.9551641  0.9643212  0.03369608  0.02652996 \n",
       "  0.00005  0.9597044  0.9551641  0.9643212  0.03369608  0.02652996 \n",
       "  0.00010  0.9597099  0.9550331  0.9644651  0.03380309  0.02642295 \n",
       "  0.00015  0.9597846  0.9550384  0.9646090  0.03380309  0.02631594 \n",
       "  0.00020  0.9599280  0.9551849  0.9647528  0.03369613  0.02620887 \n",
       "  0.00025  0.9599339  0.9550587  0.9648965  0.03380309  0.02610192 \n",
       "  0.00030  0.9600160  0.9549511  0.9651841  0.03390998  0.02588802 \n",
       "  0.00035  0.9600057  0.9552189  0.9648963  0.03369596  0.02610204 \n",
       "  0.00040  0.9599377  0.9550864  0.9648963  0.03380291  0.02610204 \n",
       "  0.00045  0.9599377  0.9550864  0.9648963  0.03380291  0.02610204 \n",
       "  0.00050  0.9599377  0.9550864  0.9648963  0.03380291  0.02610204 \n",
       "  0.00055  0.9608932  0.9552517  0.9666232  0.03369619  0.02481781 \n",
       "  0.00060  0.9608932  0.9552517  0.9666232  0.03369619  0.02481781 \n",
       "  0.00065  0.9612087  0.9548977  0.9676303  0.03401705  0.02406915 \n",
       "  0.00070  0.9609427  0.9559201  0.9660476  0.03316109  0.02524614 \n",
       "  0.00075  0.9609427  0.9559201  0.9660476  0.03316109  0.02524614 \n",
       "  0.00080  0.9605262  0.9550984  0.9660476  0.03380337  0.02524619 \n",
       "  0.00085  0.9605262  0.9550984  0.9660476  0.03380337  0.02524619 \n",
       "  0.00090  0.9604573  0.9549616  0.9660476  0.03391038  0.02524619 \n",
       "  0.00095  0.9604573  0.9549616  0.9660476  0.03391038  0.02524619 \n",
       "  0.00100  0.9604573  0.9549616  0.9660476  0.03391038  0.02524619 \n",
       "  0.00105  0.9606948  0.9547376  0.9667671  0.03412446  0.02471138 \n",
       "  0.00110  0.9606948  0.9547376  0.9667671  0.03412446  0.02471138 \n",
       "  0.00115  0.9606948  0.9547376  0.9667671  0.03412446  0.02471138 \n",
       "  0.00120  0.9606948  0.9547376  0.9667671  0.03412446  0.02471138 \n",
       "  0.00125  0.9602406  0.9548363  0.9657599  0.03401745  0.02546044 \n",
       "  0.00130  0.9602406  0.9548363  0.9657599  0.03401745  0.02546044 \n",
       "  0.00135  0.9600153  0.9564949  0.9636024  0.03262679  0.02706518 \n",
       "  0.00140  0.9604951  0.9576059  0.9634585  0.03177071  0.02717218 \n",
       "  0.00145  0.9604951  0.9576059  0.9634585  0.03177071  0.02717218 \n",
       "  0.00150  0.9604951  0.9576059  0.9634585  0.03177071  0.02717218 \n",
       "  0.00155  0.9604951  0.9576059  0.9634585  0.03177071  0.02717218 \n",
       "  0.00160  0.9600033  0.9584490  0.9615887  0.03102245  0.02856222 \n",
       "  0.00165  0.9600033  0.9584490  0.9615887  0.03102245  0.02856222 \n",
       "  0.00170  0.9600033  0.9584490  0.9615887  0.03102245  0.02856222 \n",
       "  0.00175  0.9592903  0.9576029  0.9610134  0.03166416  0.02899002 \n",
       "  0.00180  0.9592903  0.9576029  0.9610134  0.03166416  0.02899002 \n",
       "  0.00185  0.9589477  0.9569180  0.9610133  0.03219892  0.02899002 \n",
       "  0.00190  0.9589477  0.9569180  0.9610133  0.03219892  0.02899002 \n",
       "  0.00195  0.9587490  0.9563814  0.9611571  0.03262673  0.02888307 \n",
       "  0.00200  0.9584953  0.9570207  0.9600060  0.03209197  0.02973869 \n",
       "\n",
       "F1 was used to select the optimal model using the largest value.\n",
       "The final value used for the model was cp = 0.00065."
      ]
     },
     "metadata": {},
     "output_type": "display_data"
    }
   ],
   "source": [
    "\n",
    "\n",
    "setupRnum = function(data) {\n",
    "  logicalVars = which(sapply(data, is.logical))\n",
    "  facVars = lapply(data[ , logicalVars], \n",
    "                   function(x) {\n",
    "                      x = as.numeric(x)\n",
    "                   })\n",
    "  cbind(facVars, data[ , - logicalVars])\n",
    "}\n",
    "\n",
    "emailDFnum = setupRnum(emailDF)\n",
    "\n",
    "emailDFnum[is.na(emailDFnum)]<-0\n",
    "\n",
    "library(caret)\n",
    "val<-seq(from = 0, to=0.002, by=0.00005)\n",
    "cart_grid<-expand.grid(cp=val)\n",
    "train_control<-trainControl(method=\"cv\", number =5, savePredictions = 'final',summaryFunction = f1)\n",
    "model_rpart<-caret::train(as.factor(isSpam) ~ .,data=emailDFnum, trControl = train_control, method='rpart',tuneGrid = cart_grid)\n",
    "model_rpart"
   ]
  },
  {
   "cell_type": "markdown",
   "metadata": {},
   "source": [
    "### since we want typeI error to be low, \n",
    "#### lowest  type I error occur around cp=0.00075 \n",
    "#### lowest  type II error occur around cp=0.00100 \n",
    "\n",
    "#### if we want best F1 score, it also happens around cp=0.00100 \n"
   ]
  },
  {
   "cell_type": "code",
   "execution_count": 108,
   "metadata": {
    "scrolled": true
   },
   "outputs": [],
   "source": [
    "# parameter  different from the best model what we found above\n",
    "# rpartFit10 = rpart(isSpam ~ ., data = trainDF, method = \"class\",control = rpart.control(cp = 0.0001, maxdepth=14, xval= 5, minsplit=20))\n",
    "rpartFit12= rpart(isSpam ~ ., data = trainDF, method = \"class\",control = rpart.control(cp = 0.00075, maxdepth=14, xval= 5, minsplit=20))"
   ]
  },
  {
   "cell_type": "code",
   "execution_count": 109,
   "metadata": {
    "scrolled": true
   },
   "outputs": [
    {
     "name": "stdout",
     "output_type": "stream",
     "text": [
      "[1] \"Metrics for rpartFit12:\"\n"
     ]
    },
    {
     "data": {
      "text/html": [
       "<style>\n",
       ".dl-inline {width: auto; margin:0; padding: 0}\n",
       ".dl-inline>dt, .dl-inline>dd {float: none; width: auto; display: inline-block}\n",
       ".dl-inline>dt::after {content: \":\\0020\"; padding-right: .5ex}\n",
       ".dl-inline>dt:not(:first-of-type) {padding-left: .5ex}\n",
       "</style><dl class=dl-inline><dt>F1-Score</dt><dd>0.851315789473684</dd><dt>Precision</dt><dd>0.897364771151179</dd><dt>Recall</dt><dd>0.809762202753442</dd></dl>\n"
      ],
      "text/latex": [
       "\\begin{description*}\n",
       "\\item[F1-Score] 0.851315789473684\n",
       "\\item[Precision] 0.897364771151179\n",
       "\\item[Recall] 0.809762202753442\n",
       "\\end{description*}\n"
      ],
      "text/markdown": [
       "F1-Score\n",
       ":   0.851315789473684Precision\n",
       ":   0.897364771151179Recall\n",
       ":   0.809762202753442\n",
       "\n"
      ],
      "text/plain": [
       " F1-Score Precision    Recall \n",
       "0.8513158 0.8973648 0.8097622 "
      ]
     },
     "metadata": {},
     "output_type": "display_data"
    }
   ],
   "source": [
    "# Metric for rpartFit12\n",
    "\n",
    "predicted12<- predict(rpartFit12, newdata = testDF, type = \"class\")\n",
    "\n",
    "\n",
    "f1_val_rpartFit12 <- F1_Score(y_pred = predicted12, y_true = testDF$isSpam, positive = \"T\")\n",
    "precision_rpartFit12 <- Precision(y_pred = predicted12, y_true = testDF$isSpam, positive = \"T\")\n",
    "recall_rpartFit12  <- Recall(y_pred = predicted12, y_true = testDF$isSpam, positive = \"T\")\n",
    "\n",
    "result <- c( f1_val_rpartFit12, precision_rpartFit12, recall_rpartFit12)\n",
    "\n",
    "names(result) <- c(\"F1-Score\",\"Precision\", \"Recall\")\n",
    "print(\"Metrics for rpartFit12:\")\n",
    "return(result)"
   ]
  },
  {
   "cell_type": "markdown",
   "metadata": {},
   "source": [
    "### performance increased after parameters tuning\n",
    "\n",
    "### create table to compare!!!!!!!!!!!!!!!!!!!!!!!!  (table with columns: modelName, cp, maxdepth,F1-Score, Precision,Recall )\n",
    "\n",
    "### Summary of results\n",
    "first model\n",
    "[1] \"Metrics for rpartFitCpExperiment:\"\n",
    "\n",
    "F1-Score\n",
    "0.867972204674668\n",
    "Precision\n",
    "0.876275510204082\n",
    "Recall\n",
    "0.85982478097622\n",
    "\n",
    "\n",
    "[1] \"Metrics for rpartFit0:\"  #treefit1.png\n",
    "\n",
    "F1-Score\n",
    "0.868217054263566\n",
    "Precision\n",
    "0.897196261682243\n",
    "Recall\n",
    "0.841051314142678\n",
    "\n",
    "\n",
    "[1] \"Metrics for rpartFit10:\" #treefit10.png\n",
    "\n",
    "F1-Score\n",
    "0.869009584664537\n",
    "Precision\n",
    "0.887728459530026\n",
    "Recall\n",
    "0.851063829787234\n",
    "\n",
    "\n",
    "[1] \"Metrics for rpartFit12:\"\n",
    "\n",
    "F1-Score\n",
    "0.870782940802037\n",
    "Precision\n",
    "0.886010362694301\n",
    "Recall\n",
    "0.856070087609512"
   ]
  },
  {
   "cell_type": "code",
   "execution_count": 110,
   "metadata": {
    "scrolled": true
   },
   "outputs": [],
   "source": [
    "# first model\n",
    "# [1] \"Metrics for rpartFitCpExperiment:\"\n",
    "\n",
    "# F1-Score\n",
    "# 0.867972204674668\n",
    "# Precision\n",
    "# 0.876275510204082\n",
    "# Recall\n",
    "# 0.85982478097622\n",
    "\n",
    "\n",
    "# [1] \"Metrics for rpartFit0:\"  #treefit1.png\n",
    "\n",
    "# F1-Score\n",
    "# 0.868217054263566\n",
    "# Precision\n",
    "# 0.897196261682243\n",
    "# Recall\n",
    "# 0.841051314142678\n",
    "\n",
    "\n",
    "# [1] \"Metrics for rpartFit10:\" #treefit10.png\n",
    "\n",
    "# F1-Score\n",
    "# 0.869009584664537\n",
    "# Precision\n",
    "# 0.887728459530026\n",
    "# Recall\n",
    "# 0.851063829787234\n",
    "\n",
    "\n",
    "# [1] \"Metrics for rpartFit12:\"\n",
    "\n",
    "# F1-Score\n",
    "# 0.870782940802037\n",
    "# Precision\n",
    "# 0.886010362694301\n",
    "# Recall\n",
    "# 0.856070087609512"
   ]
  },
  {
   "cell_type": "code",
   "execution_count": 111,
   "metadata": {
    "scrolled": true
   },
   "outputs": [
    {
     "name": "stderr",
     "output_type": "stream",
     "text": [
      "Warning message:\n",
      "\"labs do not fit even at cex 0.15, there may be some overplotting\"\n"
     ]
    },
    {
     "data": {
      "image/png": "[encoded data removed]",
      "text/plain": [
       "plot without title"
      ]
     },
     "metadata": {
      "image/png": {
       "height": 420,
       "width": 420
      },
      "text/plain": {
       "height": 420,
       "width": 420
      }
     },
     "output_type": "display_data"
    }
   ],
   "source": [
    "rpart.plot(rpartFit12  , extra = 3)"
   ]
  },
  {
   "cell_type": "code",
   "execution_count": 112,
   "metadata": {
    "scrolled": true
   },
   "outputs": [
    {
     "data": {
      "text/html": [
       "<strong>png:</strong> 2"
      ],
      "text/latex": [
       "\\textbf{png:} 2"
      ],
      "text/markdown": [
       "**png:** 2"
      ],
      "text/plain": [
       "png \n",
       "  2 "
      ]
     },
     "metadata": {},
     "output_type": "display_data"
    }
   ],
   "source": [
    "png(\"treefit12.png\", width=1000, height=800, antialias=\"cleartype\")\n",
    "rpart.plot(rpartFit12, extra = 3)\n",
    "dev.off()  #save the tree plot in png. so can zoom in and see the labels"
   ]
  },
  {
   "cell_type": "code",
   "execution_count": 113,
   "metadata": {
    "scrolled": true
   },
   "outputs": [],
   "source": [
    "# summary(rpartFit12)"
   ]
  },
  {
   "cell_type": "code",
   "execution_count": 114,
   "metadata": {
    "scrolled": true
   },
   "outputs": [
    {
     "data": {
      "text/html": [
       "<style>\n",
       ".dl-inline {width: auto; margin:0; padding: 0}\n",
       ".dl-inline>dt, .dl-inline>dd {float: none; width: auto; display: inline-block}\n",
       ".dl-inline>dt::after {content: \":\\0020\"; padding-right: .5ex}\n",
       ".dl-inline>dt:not(:first-of-type) {padding-left: .5ex}\n",
       "</style><dl class=dl-inline><dt>perCaps</dt><dd>608.716769054207</dd><dt>bodyCharCt</dt><dd>411.136339962744</dd><dt>numLines</dt><dd>362.005021566207</dd><dt>perHTML</dt><dd>286.628499205123</dd><dt>numDlr</dt><dd>174.865118057827</dd><dt>avgWordLen</dt><dd>172.474437108657</dd><dt>forwards</dt><dd>147.451708308655</dd><dt>isInReplyTo</dt><dd>143.925366329984</dd><dt>isRe</dt><dd>112.312346538159</dd><dt>subBlanks</dt><dd>95.0167112277891</dd><dt>subExcCt</dt><dd>92.589725003427</dd><dt>isWrote</dt><dd>91.2758985398686</dd><dt>numEnd</dt><dd>54.2745321385329</dd><dt>numRec</dt><dd>52.855150893034</dd><dt>multipartText</dt><dd>49.3549745714207</dd><dt>numAtt</dt><dd>43.7946319039871</dd><dt>isDear</dt><dd>39.5615003554367</dd><dt>isYelling</dt><dd>37.4476654694961</dd><dt>hour</dt><dd>36.6604837564982</dd><dt>underscore</dt><dd>25.1621733509081</dd><dt>subSpamWords</dt><dd>22.290025600107</dd><dt>subQuesCt</dt><dd>10.3660242717574</dd><dt>isPGPsigned</dt><dd>5.66970598687417</dd><dt>priority</dt><dd>5.03219764515186</dd><dt>sortedRec</dt><dd>3.75524194585819</dd><dt>isOrigMsg</dt><dd>3.05513474377029</dd><dt>noHost</dt><dd>2.77002270805454</dd><dt>hasImages</dt><dd>1.92306635077382</dd><dt>subPunc</dt><dd>0.695852848199265</dd></dl>\n"
      ],
      "text/latex": [
       "\\begin{description*}\n",
       "\\item[perCaps] 608.716769054207\n",
       "\\item[bodyCharCt] 411.136339962744\n",
       "\\item[numLines] 362.005021566207\n",
       "\\item[perHTML] 286.628499205123\n",
       "\\item[numDlr] 174.865118057827\n",
       "\\item[avgWordLen] 172.474437108657\n",
       "\\item[forwards] 147.451708308655\n",
       "\\item[isInReplyTo] 143.925366329984\n",
       "\\item[isRe] 112.312346538159\n",
       "\\item[subBlanks] 95.0167112277891\n",
       "\\item[subExcCt] 92.589725003427\n",
       "\\item[isWrote] 91.2758985398686\n",
       "\\item[numEnd] 54.2745321385329\n",
       "\\item[numRec] 52.855150893034\n",
       "\\item[multipartText] 49.3549745714207\n",
       "\\item[numAtt] 43.7946319039871\n",
       "\\item[isDear] 39.5615003554367\n",
       "\\item[isYelling] 37.4476654694961\n",
       "\\item[hour] 36.6604837564982\n",
       "\\item[underscore] 25.1621733509081\n",
       "\\item[subSpamWords] 22.290025600107\n",
       "\\item[subQuesCt] 10.3660242717574\n",
       "\\item[isPGPsigned] 5.66970598687417\n",
       "\\item[priority] 5.03219764515186\n",
       "\\item[sortedRec] 3.75524194585819\n",
       "\\item[isOrigMsg] 3.05513474377029\n",
       "\\item[noHost] 2.77002270805454\n",
       "\\item[hasImages] 1.92306635077382\n",
       "\\item[subPunc] 0.695852848199265\n",
       "\\end{description*}\n"
      ],
      "text/markdown": [
       "perCaps\n",
       ":   608.716769054207bodyCharCt\n",
       ":   411.136339962744numLines\n",
       ":   362.005021566207perHTML\n",
       ":   286.628499205123numDlr\n",
       ":   174.865118057827avgWordLen\n",
       ":   172.474437108657forwards\n",
       ":   147.451708308655isInReplyTo\n",
       ":   143.925366329984isRe\n",
       ":   112.312346538159subBlanks\n",
       ":   95.0167112277891subExcCt\n",
       ":   92.589725003427isWrote\n",
       ":   91.2758985398686numEnd\n",
       ":   54.2745321385329numRec\n",
       ":   52.855150893034multipartText\n",
       ":   49.3549745714207numAtt\n",
       ":   43.7946319039871isDear\n",
       ":   39.5615003554367isYelling\n",
       ":   37.4476654694961hour\n",
       ":   36.6604837564982underscore\n",
       ":   25.1621733509081subSpamWords\n",
       ":   22.290025600107subQuesCt\n",
       ":   10.3660242717574isPGPsigned\n",
       ":   5.66970598687417priority\n",
       ":   5.03219764515186sortedRec\n",
       ":   3.75524194585819isOrigMsg\n",
       ":   3.05513474377029noHost\n",
       ":   2.77002270805454hasImages\n",
       ":   1.92306635077382subPunc\n",
       ":   0.695852848199265\n",
       "\n"
      ],
      "text/plain": [
       "      perCaps    bodyCharCt      numLines       perHTML        numDlr \n",
       "  608.7167691   411.1363400   362.0050216   286.6284992   174.8651181 \n",
       "   avgWordLen      forwards   isInReplyTo          isRe     subBlanks \n",
       "  172.4744371   147.4517083   143.9253663   112.3123465    95.0167112 \n",
       "     subExcCt       isWrote        numEnd        numRec multipartText \n",
       "   92.5897250    91.2758985    54.2745321    52.8551509    49.3549746 \n",
       "       numAtt        isDear     isYelling          hour    underscore \n",
       "   43.7946319    39.5615004    37.4476655    36.6604838    25.1621734 \n",
       " subSpamWords     subQuesCt   isPGPsigned      priority     sortedRec \n",
       "   22.2900256    10.3660243     5.6697060     5.0321976     3.7552419 \n",
       "    isOrigMsg        noHost     hasImages       subPunc \n",
       "    3.0551347     2.7700227     1.9230664     0.6958528 "
      ]
     },
     "metadata": {},
     "output_type": "display_data"
    }
   ],
   "source": [
    "rpartFit10$variable.importance"
   ]
  },
  {
   "cell_type": "code",
   "execution_count": 115,
   "metadata": {
    "scrolled": true
   },
   "outputs": [
    {
     "data": {
      "text/html": [
       "<style>\n",
       ".dl-inline {width: auto; margin:0; padding: 0}\n",
       ".dl-inline>dt, .dl-inline>dd {float: none; width: auto; display: inline-block}\n",
       ".dl-inline>dt::after {content: \":\\0020\"; padding-right: .5ex}\n",
       ".dl-inline>dt:not(:first-of-type) {padding-left: .5ex}\n",
       "</style><dl class=dl-inline><dt>perCaps</dt><dd>605.00951251457</dd><dt>bodyCharCt</dt><dd>399.382843993777</dd><dt>numLines</dt><dd>353.339681101147</dd><dt>perHTML</dt><dd>285.497070633695</dd><dt>numDlr</dt><dd>170.363441648182</dd><dt>avgWordLen</dt><dd>159.549059754124</dd><dt>isInReplyTo</dt><dd>141.487271091888</dd><dt>forwards</dt><dd>141.303951943161</dd><dt>isRe</dt><dd>110.744999599383</dd><dt>subExcCt</dt><dd>92.589725003427</dd><dt>subBlanks</dt><dd>91.2505797010589</dd><dt>isWrote</dt><dd>89.3602522813652</dd><dt>numEnd</dt><dd>54.2745321385329</dd><dt>numRec</dt><dd>52.855150893034</dd><dt>multipartText</dt><dd>49.3549745714207</dd><dt>numAtt</dt><dd>43.7946319039871</dd><dt>isDear</dt><dd>39.1225585534336</dd><dt>isYelling</dt><dd>37.4476654694961</dd><dt>hour</dt><dd>25.4605319053239</dd><dt>underscore</dt><dd>25.1621733509081</dd><dt>subSpamWords</dt><dd>20.4888231324237</dd><dt>subQuesCt</dt><dd>10.3660242717574</dd><dt>isPGPsigned</dt><dd>5.66970598687417</dd><dt>priority</dt><dd>5.03219764515186</dd><dt>sortedRec</dt><dd>3.75524194585819</dd><dt>isOrigMsg</dt><dd>3.05513474377029</dd><dt>noHost</dt><dd>2.77002270805454</dd><dt>hasImages</dt><dd>1.68209578070735</dd><dt>subPunc</dt><dd>0.227102848199264</dd></dl>\n"
      ],
      "text/latex": [
       "\\begin{description*}\n",
       "\\item[perCaps] 605.00951251457\n",
       "\\item[bodyCharCt] 399.382843993777\n",
       "\\item[numLines] 353.339681101147\n",
       "\\item[perHTML] 285.497070633695\n",
       "\\item[numDlr] 170.363441648182\n",
       "\\item[avgWordLen] 159.549059754124\n",
       "\\item[isInReplyTo] 141.487271091888\n",
       "\\item[forwards] 141.303951943161\n",
       "\\item[isRe] 110.744999599383\n",
       "\\item[subExcCt] 92.589725003427\n",
       "\\item[subBlanks] 91.2505797010589\n",
       "\\item[isWrote] 89.3602522813652\n",
       "\\item[numEnd] 54.2745321385329\n",
       "\\item[numRec] 52.855150893034\n",
       "\\item[multipartText] 49.3549745714207\n",
       "\\item[numAtt] 43.7946319039871\n",
       "\\item[isDear] 39.1225585534336\n",
       "\\item[isYelling] 37.4476654694961\n",
       "\\item[hour] 25.4605319053239\n",
       "\\item[underscore] 25.1621733509081\n",
       "\\item[subSpamWords] 20.4888231324237\n",
       "\\item[subQuesCt] 10.3660242717574\n",
       "\\item[isPGPsigned] 5.66970598687417\n",
       "\\item[priority] 5.03219764515186\n",
       "\\item[sortedRec] 3.75524194585819\n",
       "\\item[isOrigMsg] 3.05513474377029\n",
       "\\item[noHost] 2.77002270805454\n",
       "\\item[hasImages] 1.68209578070735\n",
       "\\item[subPunc] 0.227102848199264\n",
       "\\end{description*}\n"
      ],
      "text/markdown": [
       "perCaps\n",
       ":   605.00951251457bodyCharCt\n",
       ":   399.382843993777numLines\n",
       ":   353.339681101147perHTML\n",
       ":   285.497070633695numDlr\n",
       ":   170.363441648182avgWordLen\n",
       ":   159.549059754124isInReplyTo\n",
       ":   141.487271091888forwards\n",
       ":   141.303951943161isRe\n",
       ":   110.744999599383subExcCt\n",
       ":   92.589725003427subBlanks\n",
       ":   91.2505797010589isWrote\n",
       ":   89.3602522813652numEnd\n",
       ":   54.2745321385329numRec\n",
       ":   52.855150893034multipartText\n",
       ":   49.3549745714207numAtt\n",
       ":   43.7946319039871isDear\n",
       ":   39.1225585534336isYelling\n",
       ":   37.4476654694961hour\n",
       ":   25.4605319053239underscore\n",
       ":   25.1621733509081subSpamWords\n",
       ":   20.4888231324237subQuesCt\n",
       ":   10.3660242717574isPGPsigned\n",
       ":   5.66970598687417priority\n",
       ":   5.03219764515186sortedRec\n",
       ":   3.75524194585819isOrigMsg\n",
       ":   3.05513474377029noHost\n",
       ":   2.77002270805454hasImages\n",
       ":   1.68209578070735subPunc\n",
       ":   0.227102848199264\n",
       "\n"
      ],
      "text/plain": [
       "      perCaps    bodyCharCt      numLines       perHTML        numDlr \n",
       "  605.0095125   399.3828440   353.3396811   285.4970706   170.3634416 \n",
       "   avgWordLen   isInReplyTo      forwards          isRe      subExcCt \n",
       "  159.5490598   141.4872711   141.3039519   110.7449996    92.5897250 \n",
       "    subBlanks       isWrote        numEnd        numRec multipartText \n",
       "   91.2505797    89.3602523    54.2745321    52.8551509    49.3549746 \n",
       "       numAtt        isDear     isYelling          hour    underscore \n",
       "   43.7946319    39.1225586    37.4476655    25.4605319    25.1621734 \n",
       " subSpamWords     subQuesCt   isPGPsigned      priority     sortedRec \n",
       "   20.4888231    10.3660243     5.6697060     5.0321976     3.7552419 \n",
       "    isOrigMsg        noHost     hasImages       subPunc \n",
       "    3.0551347     2.7700227     1.6820958     0.2271028 "
      ]
     },
     "metadata": {},
     "output_type": "display_data"
    }
   ],
   "source": [
    "rpartFit12$variable.importance"
   ]
  },
  {
   "cell_type": "code",
   "execution_count": 116,
   "metadata": {
    "scrolled": false
   },
   "outputs": [
    {
     "data": {
      "text/html": [
       "<style>\n",
       ".dl-inline {width: auto; margin:0; padding: 0}\n",
       ".dl-inline>dt, .dl-inline>dd {float: none; width: auto; display: inline-block}\n",
       ".dl-inline>dt::after {content: \":\\0020\"; padding-right: .5ex}\n",
       ".dl-inline>dt:not(:first-of-type) {padding-left: .5ex}\n",
       "</style><dl class=dl-inline><dt>perCaps</dt><dd>603.448223004819</dd><dt>bodyCharCt</dt><dd>393.725471117543</dd><dt>numLines</dt><dd>344.159079457559</dd><dt>perHTML</dt><dd>271.404267698051</dd><dt>numDlr</dt><dd>159.28968362399</dd><dt>isInReplyTo</dt><dd>141.260168243689</dd><dt>avgWordLen</dt><dd>139.761882596422</dd><dt>forwards</dt><dd>139.411008668621</dd><dt>isRe</dt><dd>110.530625824373</dd><dt>isWrote</dt><dd>88.5781493036977</dd><dt>subExcCt</dt><dd>87.2118090958787</dd><dt>subBlanks</dt><dd>71.0587370189948</dd><dt>multipartText</dt><dd>49.3549745714207</dd><dt>numEnd</dt><dd>48.5059495502636</dd><dt>numAtt</dt><dd>42.7912353005105</dd><dt>numRec</dt><dd>41.0907466959702</dd><dt>isDear</dt><dd>39.1225585534336</dd><dt>isYelling</dt><dd>32.5346503801538</dd><dt>underscore</dt><dd>25.1621733509081</dd><dt>hour</dt><dd>23.9239845031672</dd><dt>subSpamWords</dt><dd>20.4888231324237</dd><dt>subQuesCt</dt><dd>12.4759143816475</dd><dt>priority</dt><dd>5.03219764515186</dd><dt>isPGPsigned</dt><dd>4.56096791800321</dd><dt>noHost</dt><dd>2.61862080925503</dd><dt>isOrigMsg</dt><dd>1.94639667489933</dd><dt>subPunc</dt><dd>1.0181126677524</dd><dt>hasImages</dt><dd>0.801261636937488</dd></dl>\n"
      ],
      "text/latex": [
       "\\begin{description*}\n",
       "\\item[perCaps] 603.448223004819\n",
       "\\item[bodyCharCt] 393.725471117543\n",
       "\\item[numLines] 344.159079457559\n",
       "\\item[perHTML] 271.404267698051\n",
       "\\item[numDlr] 159.28968362399\n",
       "\\item[isInReplyTo] 141.260168243689\n",
       "\\item[avgWordLen] 139.761882596422\n",
       "\\item[forwards] 139.411008668621\n",
       "\\item[isRe] 110.530625824373\n",
       "\\item[isWrote] 88.5781493036977\n",
       "\\item[subExcCt] 87.2118090958787\n",
       "\\item[subBlanks] 71.0587370189948\n",
       "\\item[multipartText] 49.3549745714207\n",
       "\\item[numEnd] 48.5059495502636\n",
       "\\item[numAtt] 42.7912353005105\n",
       "\\item[numRec] 41.0907466959702\n",
       "\\item[isDear] 39.1225585534336\n",
       "\\item[isYelling] 32.5346503801538\n",
       "\\item[underscore] 25.1621733509081\n",
       "\\item[hour] 23.9239845031672\n",
       "\\item[subSpamWords] 20.4888231324237\n",
       "\\item[subQuesCt] 12.4759143816475\n",
       "\\item[priority] 5.03219764515186\n",
       "\\item[isPGPsigned] 4.56096791800321\n",
       "\\item[noHost] 2.61862080925503\n",
       "\\item[isOrigMsg] 1.94639667489933\n",
       "\\item[subPunc] 1.0181126677524\n",
       "\\item[hasImages] 0.801261636937488\n",
       "\\end{description*}\n"
      ],
      "text/markdown": [
       "perCaps\n",
       ":   603.448223004819bodyCharCt\n",
       ":   393.725471117543numLines\n",
       ":   344.159079457559perHTML\n",
       ":   271.404267698051numDlr\n",
       ":   159.28968362399isInReplyTo\n",
       ":   141.260168243689avgWordLen\n",
       ":   139.761882596422forwards\n",
       ":   139.411008668621isRe\n",
       ":   110.530625824373isWrote\n",
       ":   88.5781493036977subExcCt\n",
       ":   87.2118090958787subBlanks\n",
       ":   71.0587370189948multipartText\n",
       ":   49.3549745714207numEnd\n",
       ":   48.5059495502636numAtt\n",
       ":   42.7912353005105numRec\n",
       ":   41.0907466959702isDear\n",
       ":   39.1225585534336isYelling\n",
       ":   32.5346503801538underscore\n",
       ":   25.1621733509081hour\n",
       ":   23.9239845031672subSpamWords\n",
       ":   20.4888231324237subQuesCt\n",
       ":   12.4759143816475priority\n",
       ":   5.03219764515186isPGPsigned\n",
       ":   4.56096791800321noHost\n",
       ":   2.61862080925503isOrigMsg\n",
       ":   1.94639667489933subPunc\n",
       ":   1.0181126677524hasImages\n",
       ":   0.801261636937488\n",
       "\n"
      ],
      "text/plain": [
       "      perCaps    bodyCharCt      numLines       perHTML        numDlr \n",
       "  603.4482230   393.7254711   344.1590795   271.4042677   159.2896836 \n",
       "  isInReplyTo    avgWordLen      forwards          isRe       isWrote \n",
       "  141.2601682   139.7618826   139.4110087   110.5306258    88.5781493 \n",
       "     subExcCt     subBlanks multipartText        numEnd        numAtt \n",
       "   87.2118091    71.0587370    49.3549746    48.5059496    42.7912353 \n",
       "       numRec        isDear     isYelling    underscore          hour \n",
       "   41.0907467    39.1225586    32.5346504    25.1621734    23.9239845 \n",
       " subSpamWords     subQuesCt      priority   isPGPsigned        noHost \n",
       "   20.4888231    12.4759144     5.0321976     4.5609679     2.6186208 \n",
       "    isOrigMsg       subPunc     hasImages \n",
       "    1.9463967     1.0181127     0.8012616 "
      ]
     },
     "metadata": {},
     "output_type": "display_data"
    }
   ],
   "source": [
    "rpartFitCpExperiment$variable.importance"
   ]
  },
  {
   "cell_type": "code",
   "execution_count": 117,
   "metadata": {
    "scrolled": true
   },
   "outputs": [],
   "source": [
    "#model 10 and 12 very similar feature importance\n",
    "\n",
    "# NEED TO WRITE : intepret a tree based on plot and feature importance\n",
    "# only tree fit 1 is able to see labels."
   ]
  },
  {
   "cell_type": "code",
   "execution_count": 118,
   "metadata": {
    "scrolled": true
   },
   "outputs": [],
   "source": [
    "# rpartFitFunc(rpartFit12,'_12')"
   ]
  },
  {
   "cell_type": "markdown",
   "metadata": {},
   "source": [
    "__Dan:__ Question 20 begins here. Dr. Slater did most of the work for us. I marked each portion of the code where as it relates to the question in the book."
   ]
  },
  {
   "cell_type": "markdown",
   "metadata": {},
   "source": [
    "### Q.20 \n",
    "__Textbook question 20__  \n",
    " In Section 3.6.3 we used the test set that we had put aside to both select τ, the threshold for the log odds, and to evaluate the Type I and II errors incurred when we use this threshold. Ideally, we choose τ from another set of messages that is both independent of our training data and our test data. The method of cross-validation is designed to use the training set for training and validating the model. Implement 5-fold cross-validation to choose τ and assess the error rate with our training data. To do this, follow the steps:  \n",
    " __(a)__ Use the sample() function to permute the indices of the training set, and organize these permuted indices into 5 equal-size sets, called folds.  \n",
    " __(b)__ For each fold, take the corresponding subset from the training data to use as a ‘test’ set. Use the remaining messages in the training data as the training set. Apply the functions developed in Section 3.6 to estimate the probabilities that a word occurs in a message given it is spam or ham, and use these probabilities to compute the log likelihood ratio for the messages in the training set.  \n",
    " __(c)__ Pool all of the LLR values from the messages in all of the folds, i.e., from all of the training data, and use these values and the typeIErrorRate() function to select a threshold that achieves a 1% Type I error.  \n",
    " __(d)__ Apply this threshold to our original/real test set and ﬁnd its Type I and Type II errors. \n"
   ]
  },
  {
   "cell_type": "markdown",
   "metadata": {},
   "source": [
    "__Dr. Slater:__ Ok so first of all our data is in T/F 'factors'.  \n",
    "We need to change it to numbers.  And as it turns out, there are quite a few NANs as well.  Let's set those to zero because imputation was 9 weeks ago"
   ]
  },
  {
   "cell_type": "code",
   "execution_count": 119,
   "metadata": {
    "scrolled": true
   },
   "outputs": [],
   "source": [
    "setupRnum = function(data) {\n",
    "  logicalVars = which(sapply(data, is.logical))\n",
    "  facVars = lapply(data[ , logicalVars], \n",
    "                   function(x) {\n",
    "                      x = as.numeric(x)\n",
    "                   })\n",
    "  cbind(facVars, data[ , - logicalVars])\n",
    "}\n",
    "\n",
    "emailDFnum = setupRnum(emailDF)\n",
    "\n",
    "emailDFnum[is.na(emailDFnum)]<-0"
   ]
  },
  {
   "cell_type": "markdown",
   "metadata": {},
   "source": [
    "__Dr Slater:__ I think i may skip this and see if I can get the folds to work internally to caret\n",
    "However, one way to define your folds is to set a seed, and have your folds in a list that you can pass on to others to get the same splits."
   ]
  },
  {
   "cell_type": "markdown",
   "metadata": {},
   "source": [
    "__Textbook question 20 (a)__ _Use the sample() function to permute the indices of the training set, and organize these permuted indices into 5 equal-size sets, called folds._  \n",
    "\n",
    "__Dan:__ This code below provded by Dr. Slater does just that."
   ]
  },
  {
   "cell_type": "code",
   "execution_count": 120,
   "metadata": {
    "scrolled": true
   },
   "outputs": [
    {
     "data": {
      "text/html": [
       "<style>\n",
       ".dl-inline {width: auto; margin:0; padding: 0}\n",
       ".dl-inline>dt, .dl-inline>dd {float: none; width: auto; display: inline-block}\n",
       ".dl-inline>dt::after {content: \":\\0020\"; padding-right: .5ex}\n",
       ".dl-inline>dt:not(:first-of-type) {padding-left: .5ex}\n",
       "</style><dl class=dl-inline><dt>Fold1</dt><dd>7478</dd><dt>Fold2</dt><dd>7478</dd><dt>Fold3</dt><dd>7479</dd><dt>Fold4</dt><dd>7479</dd><dt>Fold5</dt><dd>7478</dd></dl>\n"
      ],
      "text/latex": [
       "\\begin{description*}\n",
       "\\item[Fold1] 7478\n",
       "\\item[Fold2] 7478\n",
       "\\item[Fold3] 7479\n",
       "\\item[Fold4] 7479\n",
       "\\item[Fold5] 7478\n",
       "\\end{description*}\n"
      ],
      "text/markdown": [
       "Fold1\n",
       ":   7478Fold2\n",
       ":   7478Fold3\n",
       ":   7479Fold4\n",
       ":   7479Fold5\n",
       ":   7478\n",
       "\n"
      ],
      "text/plain": [
       "Fold1 Fold2 Fold3 Fold4 Fold5 \n",
       " 7478  7478  7479  7479  7478 "
      ]
     },
     "metadata": {},
     "output_type": "display_data"
    }
   ],
   "source": [
    "cv_folds <- createFolds(emailDFnum$isSpam, k=5, list=TRUE, returnTrain = TRUE)\n",
    "lengths(cv_folds)"
   ]
  },
  {
   "cell_type": "markdown",
   "metadata": {},
   "source": [
    "__Textbook question 20 (b)__\n",
    "_For each fold, take the corresponding subset from the training data to use as a ‘test’ set. Use the remaining messages in the training data as the training set. Apply the functions developed in Section 3.6 to estimate the probabilities that a word occurs in a message given it is spam or ham, and use these probabilities to compute the log likelihood ratio for the messages in the training set._"
   ]
  },
  {
   "cell_type": "markdown",
   "metadata": {},
   "source": [
    "__Dan:__ The caret package can does this for us using resampling. https://cran.csiro.au/web/packages/caret/vignettes/caret.html  \n",
    "See below excerpt from the documentation:"
   ]
  },
  {
   "cell_type": "markdown",
   "metadata": {},
   "source": [
    "<img src=\"./Plots/WhatCaretDoes.PNG\">"
   ]
  },
  {
   "cell_type": "code",
   "execution_count": 121,
   "metadata": {},
   "outputs": [],
   "source": [
    "library(caret)"
   ]
  },
  {
   "cell_type": "markdown",
   "metadata": {},
   "source": [
    "__Dan:__ I noted that Caret documentation says  _\"By default, createDataPartition does a stratified random split of the data.\"_  \n",
    "__Dan:__ We already did stratification when we ran the following code:"
   ]
  },
  {
   "cell_type": "code",
   "execution_count": 122,
   "metadata": {},
   "outputs": [],
   "source": [
    "# set.seed(418910)\n",
    "# testSpamIdx = sample(numSpam, size = floor(numSpam/3))\n",
    "# testHamIdx = sample(numHam, size = floor(numHam/3))\n",
    "\n",
    "# testDF = \n",
    "#   rbind( emailDFrp[emailDFrp$isSpam == \"T\", ][testSpamIdx, ],\n",
    "#          emailDFrp[emailDFrp$isSpam == \"F\", ][testHamIdx, ] )\n",
    "# trainDF =\n",
    "#   rbind( emailDFrp[emailDFrp$isSpam == \"T\", ][-testSpamIdx, ], \n",
    "#          emailDFrp[emailDFrp$isSpam == \"F\", ][-testHamIdx, ])"
   ]
  },
  {
   "cell_type": "markdown",
   "metadata": {},
   "source": [
    "__Dr. Slater:__ Finally Metric Stuff\n",
    "Because our authors prefer Type I/II errors, but the cool kids know that precision/recall/F1 is where its at, while the default of caret is accuracy and kappa.  To get us all on the same page, I create a function that returns the metrics we want.  However, rather than re-invent the wheel, I just install a package.  I am not sure if it had Type I/II errors so those I made my self.  \\#MLSwag"
   ]
  },
  {
   "cell_type": "code",
   "execution_count": 123,
   "metadata": {
    "scrolled": true
   },
   "outputs": [],
   "source": [
    "library(MLmetrics)\n",
    "f1 <- function(data, lev = NULL, model = NULL) {\n",
    "  f1_val <- F1_Score(y_pred = data$pred, y_true = data$obs, positive = lev[1])\n",
    "  p <- Precision(y_pred = data$pred, y_true = data$obs, positive = lev[1])\n",
    "  r <- Recall(y_pred = data$pred, y_true = data$obs, positive = lev[1])\n",
    "  fp <-sum(data$pred==0 & data$obs==1)/length(data$pred)  \n",
    " \n",
    "  fn <-sum(data$pred==1 & data$obs==0)/length(data$pred)\n",
    "    c(F1 = f1_val,\n",
    "    prec = p,\n",
    "    rec = r,\n",
    "    Type_I_err=fp,\n",
    "    Type_II_err=fn\n",
    "   )\n",
    "}"
   ]
  },
  {
   "cell_type": "markdown",
   "metadata": {},
   "source": [
    "__Dr. Slater:__ ok so lets get the naive bayes packages installed. (first 2 lines)\n",
    "The next line makes a dataframe of all the parameters to check.  \n",
    "If you don't know what they are, look them up\n",
    "https://topepo.github.io/caret/available-models.html\n",
    "\n",
    "Then we create a trainControl object.  It tells caret how to train--using a cross-validation ('cv') with 3 folds in this case (number = 3).  We want the final predictions of the best model and our summary is the custom function from above.\n",
    "\n",
    "Then we create our model: \"model_nb\".  We user the caret::train method.  We make 'isSpam' a factor because R is dumb and can't figure out that 1 and 0 are classes.  \n",
    "*as.factor(isSpam) ~ .*  means Y=as.factor(isSpam), X=everything else.\n",
    "    \n",
    "*method* is the package we are using, and we pass our tuning grid."
   ]
  },
  {
   "cell_type": "markdown",
   "metadata": {},
   "source": [
    "__Dan__: I comment out the original line of code provided by Dr. Slater that had # of folds = 3 and replace it with a new line with folds = 5 as per the instructions for Q20.  Dr. Slater has a comment about this at the end. _\"Did the boss fool us with the folds?  Nope.\"_\n",
    "\n",
    "We get errors \"bw is not positive\" whenever we have usekernal=true and adjust=false. I can't seem to figure out why. I think this is ok and will not have a significant affect the output ."
   ]
  },
  {
   "cell_type": "code",
   "execution_count": 124,
   "metadata": {
    "scrolled": true
   },
   "outputs": [
    {
     "name": "stderr",
     "output_type": "stream",
     "text": [
      "naivebayes 0.9.6 loaded\n",
      "\n",
      "Warning message in train.default(x, y, weights = w, ...):\n",
      "\"The metric \"Accuracy\" was not in the result set. F1 will be used instead.\"\n",
      "Warning message:\n",
      "\"model fit failed for Fold1: laplace=0.0, usekernel= TRUE, adjust=FALSE Error in density.default(x, na.rm = TRUE, ...) : 'bw' is not positive.\n",
      "\"\n",
      "Warning message:\n",
      "\"model fit failed for Fold1: laplace=0.1, usekernel= TRUE, adjust=FALSE Error in density.default(x, na.rm = TRUE, ...) : 'bw' is not positive.\n",
      "\"\n",
      "Warning message:\n",
      "\"model fit failed for Fold1: laplace=0.3, usekernel= TRUE, adjust=FALSE Error in density.default(x, na.rm = TRUE, ...) : 'bw' is not positive.\n",
      "\"\n",
      "Warning message:\n",
      "\"model fit failed for Fold1: laplace=0.5, usekernel= TRUE, adjust=FALSE Error in density.default(x, na.rm = TRUE, ...) : 'bw' is not positive.\n",
      "\"\n",
      "Warning message:\n",
      "\"model fit failed for Fold1: laplace=1.0, usekernel= TRUE, adjust=FALSE Error in density.default(x, na.rm = TRUE, ...) : 'bw' is not positive.\n",
      "\"\n",
      "Warning message:\n",
      "\"model fit failed for Fold2: laplace=0.0, usekernel= TRUE, adjust=FALSE Error in density.default(x, na.rm = TRUE, ...) : 'bw' is not positive.\n",
      "\"\n",
      "Warning message:\n",
      "\"model fit failed for Fold2: laplace=0.1, usekernel= TRUE, adjust=FALSE Error in density.default(x, na.rm = TRUE, ...) : 'bw' is not positive.\n",
      "\"\n",
      "Warning message:\n",
      "\"model fit failed for Fold2: laplace=0.3, usekernel= TRUE, adjust=FALSE Error in density.default(x, na.rm = TRUE, ...) : 'bw' is not positive.\n",
      "\"\n",
      "Warning message:\n",
      "\"model fit failed for Fold2: laplace=0.5, usekernel= TRUE, adjust=FALSE Error in density.default(x, na.rm = TRUE, ...) : 'bw' is not positive.\n",
      "\"\n",
      "Warning message:\n",
      "\"model fit failed for Fold2: laplace=1.0, usekernel= TRUE, adjust=FALSE Error in density.default(x, na.rm = TRUE, ...) : 'bw' is not positive.\n",
      "\"\n",
      "Warning message:\n",
      "\"model fit failed for Fold3: laplace=0.0, usekernel= TRUE, adjust=FALSE Error in density.default(x, na.rm = TRUE, ...) : 'bw' is not positive.\n",
      "\"\n",
      "Warning message:\n",
      "\"model fit failed for Fold3: laplace=0.1, usekernel= TRUE, adjust=FALSE Error in density.default(x, na.rm = TRUE, ...) : 'bw' is not positive.\n",
      "\"\n",
      "Warning message:\n",
      "\"model fit failed for Fold3: laplace=0.3, usekernel= TRUE, adjust=FALSE Error in density.default(x, na.rm = TRUE, ...) : 'bw' is not positive.\n",
      "\"\n",
      "Warning message:\n",
      "\"model fit failed for Fold3: laplace=0.5, usekernel= TRUE, adjust=FALSE Error in density.default(x, na.rm = TRUE, ...) : 'bw' is not positive.\n",
      "\"\n",
      "Warning message:\n",
      "\"model fit failed for Fold3: laplace=1.0, usekernel= TRUE, adjust=FALSE Error in density.default(x, na.rm = TRUE, ...) : 'bw' is not positive.\n",
      "\"\n",
      "Warning message:\n",
      "\"model fit failed for Fold4: laplace=0.0, usekernel= TRUE, adjust=FALSE Error in density.default(x, na.rm = TRUE, ...) : 'bw' is not positive.\n",
      "\"\n",
      "Warning message:\n",
      "\"model fit failed for Fold4: laplace=0.1, usekernel= TRUE, adjust=FALSE Error in density.default(x, na.rm = TRUE, ...) : 'bw' is not positive.\n",
      "\"\n",
      "Warning message:\n",
      "\"model fit failed for Fold4: laplace=0.3, usekernel= TRUE, adjust=FALSE Error in density.default(x, na.rm = TRUE, ...) : 'bw' is not positive.\n",
      "\"\n",
      "Warning message:\n",
      "\"model fit failed for Fold4: laplace=0.5, usekernel= TRUE, adjust=FALSE Error in density.default(x, na.rm = TRUE, ...) : 'bw' is not positive.\n",
      "\"\n",
      "Warning message:\n",
      "\"model fit failed for Fold4: laplace=1.0, usekernel= TRUE, adjust=FALSE Error in density.default(x, na.rm = TRUE, ...) : 'bw' is not positive.\n",
      "\"\n",
      "Warning message:\n",
      "\"model fit failed for Fold5: laplace=0.0, usekernel= TRUE, adjust=FALSE Error in density.default(x, na.rm = TRUE, ...) : 'bw' is not positive.\n",
      "\"\n",
      "Warning message:\n",
      "\"model fit failed for Fold5: laplace=0.1, usekernel= TRUE, adjust=FALSE Error in density.default(x, na.rm = TRUE, ...) : 'bw' is not positive.\n",
      "\"\n",
      "Warning message:\n",
      "\"model fit failed for Fold5: laplace=0.3, usekernel= TRUE, adjust=FALSE Error in density.default(x, na.rm = TRUE, ...) : 'bw' is not positive.\n",
      "\"\n",
      "Warning message:\n",
      "\"model fit failed for Fold5: laplace=0.5, usekernel= TRUE, adjust=FALSE Error in density.default(x, na.rm = TRUE, ...) : 'bw' is not positive.\n",
      "\"\n",
      "Warning message:\n",
      "\"model fit failed for Fold5: laplace=1.0, usekernel= TRUE, adjust=FALSE Error in density.default(x, na.rm = TRUE, ...) : 'bw' is not positive.\n",
      "\"\n",
      "Warning message in nominalTrainWorkflow(x = x, y = y, wts = weights, info = trainInfo, :\n",
      "\"There were missing values in resampled performance measures.\"\n",
      "Warning message in train.default(x, y, weights = w, ...):\n",
      "\"missing values found in aggregated results\"\n"
     ]
    },
    {
     "data": {
      "text/plain": [
       "Naive Bayes \n",
       "\n",
       "9348 samples\n",
       "  29 predictor\n",
       "   2 classes: '0', '1' \n",
       "\n",
       "No pre-processing\n",
       "Resampling: Cross-Validated (5 fold) \n",
       "Summary of sample sizes: 7478, 7478, 7479, 7478, 7479 \n",
       "Resampling results across tuning parameters:\n",
       "\n",
       "  laplace  usekernel  adjust  F1         prec       rec        Type_I_err\n",
       "  0.0      FALSE      FALSE   0.9243525  0.9337951  0.9154099  0.04845933\n",
       "  0.0      FALSE       TRUE   0.9243525  0.9337951  0.9154099  0.04845933\n",
       "  0.0       TRUE      FALSE         NaN        NaN        NaN         NaN\n",
       "  0.0       TRUE       TRUE   0.8970192  0.8142110  0.9987052  0.16966218\n",
       "  0.1      FALSE      FALSE   0.9243525  0.9337951  0.9154099  0.04845933\n",
       "  0.1      FALSE       TRUE   0.9243525  0.9337951  0.9154099  0.04845933\n",
       "  0.1       TRUE      FALSE         NaN        NaN        NaN         NaN\n",
       "  0.1       TRUE       TRUE   0.8970192  0.8142110  0.9987052  0.16966218\n",
       "  0.3      FALSE      FALSE   0.9243525  0.9337951  0.9154099  0.04845933\n",
       "  0.3      FALSE       TRUE   0.9243525  0.9337951  0.9154099  0.04845933\n",
       "  0.3       TRUE      FALSE         NaN        NaN        NaN         NaN\n",
       "  0.3       TRUE       TRUE   0.8970192  0.8142110  0.9987052  0.16966218\n",
       "  0.5      FALSE      FALSE   0.9243525  0.9337951  0.9154099  0.04845933\n",
       "  0.5      FALSE       TRUE   0.9243525  0.9337951  0.9154099  0.04845933\n",
       "  0.5       TRUE      FALSE         NaN        NaN        NaN         NaN\n",
       "  0.5       TRUE       TRUE   0.8970192  0.8142110  0.9987052  0.16966218\n",
       "  1.0      FALSE      FALSE   0.9243525  0.9337951  0.9154099  0.04845933\n",
       "  1.0      FALSE       TRUE   0.9243525  0.9337951  0.9154099  0.04845933\n",
       "  1.0       TRUE      FALSE         NaN        NaN        NaN         NaN\n",
       "  1.0       TRUE       TRUE   0.8970192  0.8142110  0.9987052  0.16966218\n",
       "  Type_II_err \n",
       "  0.0629018349\n",
       "  0.0629018349\n",
       "           NaN\n",
       "  0.0009626241\n",
       "  0.0629018349\n",
       "  0.0629018349\n",
       "           NaN\n",
       "  0.0009626241\n",
       "  0.0629018349\n",
       "  0.0629018349\n",
       "           NaN\n",
       "  0.0009626241\n",
       "  0.0629018349\n",
       "  0.0629018349\n",
       "           NaN\n",
       "  0.0009626241\n",
       "  0.0629018349\n",
       "  0.0629018349\n",
       "           NaN\n",
       "  0.0009626241\n",
       "\n",
       "F1 was used to select the optimal model using the largest value.\n",
       "The final values used for the model were laplace = 0, usekernel = FALSE\n",
       " and adjust = FALSE."
      ]
     },
     "metadata": {},
     "output_type": "display_data"
    }
   ],
   "source": [
    "library(naivebayes)\n",
    "library(e1071)\n",
    "nb_grid<-expand.grid(laplace=c(0,0.1,0.3,0.5,1), usekernel=c(T,F), adjust=c(T,F))\n",
    "#train_control<-trainControl(method=\"cv\", number=3, savePredictions = 'final',summaryFunction = f1)\n",
    "train_control<-trainControl(method=\"cv\", number=5, savePredictions = 'final',summaryFunction = f1)\n",
    "model_nb<-caret::train(as.factor(isSpam) ~ .,data=emailDFnum, trControl = train_control, method='naive_bayes',tuneGrid = nb_grid)\n",
    "model_nb"
   ]
  },
  {
   "cell_type": "code",
   "execution_count": 125,
   "metadata": {
    "scrolled": false
   },
   "outputs": [
    {
     "data": {
      "text/plain": [
       "\n",
       "Fold1 Fold2 Fold3 Fold4 Fold5 \n",
       " 1870  1870  1869  1870  1869 "
      ]
     },
     "metadata": {},
     "output_type": "display_data"
    }
   ],
   "source": [
    "#Did the boss fool us with the folds?  Nope.\n",
    "table(model_nb$pred['Resample'])"
   ]
  }
 ],
 "metadata": {
  "kernelspec": {
   "display_name": "R",
   "language": "R",
   "name": "ir"
  },
  "language_info": {
   "codemirror_mode": "r",
   "file_extension": ".r",
   "mimetype": "text/x-r-source",
   "name": "R",
   "pygments_lexer": "r",
   "version": "3.6.2"
  }
 },
 "nbformat": 4,
 "nbformat_minor": 1
}
