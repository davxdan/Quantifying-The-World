{
 "cells": [
  {
   "cell_type": "code",
   "execution_count": 1,
   "metadata": {
    "scrolled": true
   },
   "outputs": [
    {
     "name": "stderr",
     "output_type": "stream",
     "text": [
      "\n",
      "Attaching package: 'MLmetrics'\n",
      "\n",
      "\n",
      "The following object is masked from 'package:base':\n",
      "\n",
      "    Recall\n",
      "\n",
      "\n",
      "Loading required package: lattice\n",
      "\n",
      "Loading required package: ggplot2\n",
      "\n",
      "\n",
      "Attaching package: 'caret'\n",
      "\n",
      "\n",
      "The following objects are masked from 'package:MLmetrics':\n",
      "\n",
      "    MAE, RMSE\n",
      "\n",
      "\n"
     ]
    }
   ],
   "source": [
    "library(rpart)\n",
    "library(rpart.plot)\n",
    "library(RColorBrewer)\n",
    "library(MLmetrics)\n",
    "library(caret)"
   ]
  },
  {
   "cell_type": "code",
   "execution_count": 2,
   "metadata": {},
   "outputs": [],
   "source": [
    "setwd('C:/Users/danie/Documents/GitHub/Quantifying-The-World/Case Study 3')\n",
    "spamPath = \"./From 2ds\""
   ]
  },
  {
   "cell_type": "code",
   "execution_count": 3,
   "metadata": {},
   "outputs": [
    {
     "data": {
      "text/html": [
       "9353"
      ],
      "text/latex": [
       "9353"
      ],
      "text/markdown": [
       "9353"
      ],
      "text/plain": [
       "[1] 9353"
      ]
     },
     "metadata": {},
     "output_type": "display_data"
    },
    {
     "data": {
      "text/html": [
       "<style>\n",
       ".list-inline {list-style: none; margin:0; padding: 0}\n",
       ".list-inline>li {display: inline-block}\n",
       ".list-inline>li:not(:last-child)::after {content: \"\\00b7\"; padding: 0 .5ex}\n",
       "</style>\n",
       "<ol class=list-inline><li><span style=white-space:pre-wrap>'From exmh-workers-admin@redhat.com  Thu Aug 22 12:36:23 2002'</span></li><li>'Return-Path: &lt;exmh-workers-admin@spamassassin.taint.org&gt;'</li><li>'Delivered-To: zzzz@localhost.netnoteinc.com'</li><li>'Received: from localhost (localhost [127.0.0.1])'</li><li>'\\tby phobos.labs.netnoteinc.com (Postfix) with ESMTP id D03E543C36'</li><li>'\\tfor &lt;zzzz@localhost&gt;; Thu, 22 Aug 2002 07:36:16 -0400 (EDT)'</li></ol>\n"
      ],
      "text/latex": [
       "\\begin{enumerate*}\n",
       "\\item 'From exmh-workers-admin@redhat.com  Thu Aug 22 12:36:23 2002'\n",
       "\\item 'Return-Path: <exmh-workers-admin@spamassassin.taint.org>'\n",
       "\\item 'Delivered-To: zzzz@localhost.netnoteinc.com'\n",
       "\\item 'Received: from localhost (localhost {[}127.0.0.1{]})'\n",
       "\\item '\\textbackslash{}tby phobos.labs.netnoteinc.com (Postfix) with ESMTP id D03E543C36'\n",
       "\\item '\\textbackslash{}tfor <zzzz@localhost>; Thu, 22 Aug 2002 07:36:16 -0400 (EDT)'\n",
       "\\end{enumerate*}\n"
      ],
      "text/markdown": [
       "1. <span style=white-space:pre-wrap>'From exmh-workers-admin@redhat.com  Thu Aug 22 12:36:23 2002'</span>\n",
       "2. 'Return-Path: &lt;exmh-workers-admin@spamassassin.taint.org&gt;'\n",
       "3. 'Delivered-To: zzzz@localhost.netnoteinc.com'\n",
       "4. 'Received: from localhost (localhost [127.0.0.1])'\n",
       "5. '\\tby phobos.labs.netnoteinc.com (Postfix) with ESMTP id D03E543C36'\n",
       "6. '\\tfor &lt;zzzz@localhost&gt;; Thu, 22 Aug 2002 07:36:16 -0400 (EDT)'\n",
       "\n",
       "\n"
      ],
      "text/plain": [
       "[1] \"From exmh-workers-admin@redhat.com  Thu Aug 22 12:36:23 2002\"     \n",
       "[2] \"Return-Path: <exmh-workers-admin@spamassassin.taint.org>\"         \n",
       "[3] \"Delivered-To: zzzz@localhost.netnoteinc.com\"                      \n",
       "[4] \"Received: from localhost (localhost [127.0.0.1])\"                 \n",
       "[5] \"\\tby phobos.labs.netnoteinc.com (Postfix) with ESMTP id D03E543C36\"\n",
       "[6] \"\\tfor <zzzz@localhost>; Thu, 22 Aug 2002 07:36:16 -0400 (EDT)\"     "
      ]
     },
     "metadata": {},
     "output_type": "display_data"
    }
   ],
   "source": [
    "dirNames = list.files(path = paste(spamPath, \"messages\", \n",
    "                      sep = .Platform$file.sep))\n",
    "length(list.files(paste(spamPath, \"messages\", dirNames, sep = .Platform$file.sep)))\n",
    "\n",
    "fullDirNames = paste(spamPath, \"messages\", dirNames, \n",
    "                     sep = .Platform$file.sep)\n",
    "       \n",
    "fileNames = list.files(fullDirNames[1], full.names = TRUE)\n",
    "\n",
    "msg = readLines(fileNames[1])\n",
    "\n",
    "head(msg)"
   ]
  },
  {
   "cell_type": "code",
   "execution_count": 4,
   "metadata": {},
   "outputs": [],
   "source": [
    "indx = c(1:5, 15, 27, 68, 69, 329, 404, 427, 516, 852, 971)\n",
    "fn = list.files(fullDirNames[1], full.names = TRUE)[indx]\n",
    "sampleEmail = sapply(fn, readLines)"
   ]
  },
  {
   "cell_type": "code",
   "execution_count": 5,
   "metadata": {},
   "outputs": [],
   "source": [
    "splitMessage = function(msg) {\n",
    "    splitPoint = match(\"\", msg)\n",
    "    header = msg[1:(splitPoint-1)]\n",
    "    body = msg[ -(1:splitPoint) ]\n",
    "    return(list(header = header, body = body)) \n",
    "}\n",
    "sampleSplit = lapply(sampleEmail, splitMessage)"
   ]
  },
  {
   "cell_type": "code",
   "execution_count": 6,
   "metadata": {},
   "outputs": [],
   "source": [
    "header = sampleSplit[[1]]$header\n",
    "headerList = lapply(sampleSplit, function(msg) msg$header)\n",
    "CTloc = sapply(headerList, grep, pattern = \"Content-Type\")\n",
    "\n",
    "hasAttach = sapply(headerList, function(header) {\n",
    "  CTloc = grep(\"Content-Type\", header)\n",
    "  if (length(CTloc) == 0) return(FALSE)\n",
    "  grepl(\"multi\", tolower(header[CTloc])) \n",
    "})\n",
    "\n",
    "header = sampleSplit[[6]]$header\n",
    "boundaryIdx = grep(\"boundary=\", header)\n",
    "\n",
    "\n",
    "header2 = headerList[[9]]\n",
    "boundaryIdx2 = grep(\"boundary=\", header2)"
   ]
  },
  {
   "cell_type": "code",
   "execution_count": 7,
   "metadata": {},
   "outputs": [],
   "source": [
    "getBoundary = function(header) {\n",
    "  boundaryIdx = grep(\"boundary=\", header)\n",
    "  boundary = gsub('\"', \"\", header[boundaryIdx])\n",
    "  gsub(\".*boundary= *([^;]*);?.*\", \"\\\\1\", boundary)\n",
    "}"
   ]
  },
  {
   "cell_type": "code",
   "execution_count": 8,
   "metadata": {
    "scrolled": true
   },
   "outputs": [],
   "source": [
    "dropAttach = function(body, boundary){\n",
    "  \n",
    "  bString = paste(\"--\", boundary, sep = \"\")\n",
    "  bStringLocs = which(bString == body)\n",
    "  \n",
    "  if (length(bStringLocs) <= 1) return(body)\n",
    "  \n",
    "  eString = paste(\"--\", boundary, \"--\", sep = \"\")\n",
    "  eStringLoc = which(eString == body)\n",
    "  if (length(eStringLoc) == 0) \n",
    "    return(body[ (bStringLocs[1] + 1) : (bStringLocs[2] - 1)])\n",
    "  \n",
    "  n = length(body)\n",
    "  if (eStringLoc < n) \n",
    "     return( body[ c( (bStringLocs[1] + 1) : (bStringLocs[2] - 1), \n",
    "                    ( (eStringLoc + 1) : n )) ] )\n",
    "  \n",
    "  return( body[ (bStringLocs[1] + 1) : (bStringLocs[2] - 1) ])\n",
    "}\n",
    "\n",
    "cleanMsg = tolower(gsub(\"[[:punct:]0-9[:blank:]]+\", \" \", msg))"
   ]
  },
  {
   "cell_type": "code",
   "execution_count": 9,
   "metadata": {
    "scrolled": true
   },
   "outputs": [
    {
     "name": "stderr",
     "output_type": "stream",
     "text": [
      "Loading required package: NLP\n",
      "\n",
      "\n",
      "Attaching package: 'NLP'\n",
      "\n",
      "\n",
      "The following object is masked from 'package:ggplot2':\n",
      "\n",
      "    annotate\n",
      "\n",
      "\n"
     ]
    }
   ],
   "source": [
    "library(tm)\n",
    "stopWords = stopwords()\n",
    "cleanSW = tolower(gsub(\"[[:punct:]0-9[:blank:]]+\", \" \", stopWords))\n",
    "SWords = unlist(strsplit(cleanSW, \"[[:blank:]]+\"))\n",
    "SWords = SWords[ nchar(SWords) > 1 ]\n",
    "stopWords = unique(SWords)"
   ]
  },
  {
   "cell_type": "code",
   "execution_count": 10,
   "metadata": {},
   "outputs": [],
   "source": [
    "words = unlist(strsplit(cleanMsg, \"[[:blank:]]+\"))\n",
    "\n",
    "words = words[ nchar(words) > 1 ]\n",
    "\n",
    "words = words[ !( words %in% stopWords) ]\n",
    "\n",
    "cleanText =\n",
    "function(msg)   {\n",
    "  tolower(gsub(\"[[:punct:]0-9[:space:][:blank:]]+\", \" \", msg))\n",
    "}\n",
    "\n",
    "findMsgWords = \n",
    "function(msg, stopWords) {\n",
    " if(is.null(msg))\n",
    "  return(character())\n",
    "\n",
    " words = unique(unlist(strsplit(cleanText(msg), \"[[:blank:]\\t]+\")))\n",
    " \n",
    " # drop empty and 1 letter words\n",
    " words = words[ nchar(words) > 1]\n",
    " words = words[ !( words %in% stopWords) ]\n",
    " invisible(words)\n",
    "}"
   ]
  },
  {
   "cell_type": "code",
   "execution_count": 11,
   "metadata": {},
   "outputs": [],
   "source": [
    "processAllWords = function(dirName, stopWords)\n",
    "{\n",
    "       # read all files in the directory\n",
    "  fileNames = list.files(dirName, full.names = TRUE)\n",
    "       # drop files that are not email, i.e., cmds\n",
    "  notEmail = grep(\"cmds$\", fileNames)\n",
    "  if ( length(notEmail) > 0) fileNames = fileNames[ - notEmail ]\n",
    "\n",
    "  messages = lapply(fileNames, readLines, encoding = \"utf-8\")\n",
    "  \n",
    "       # split header and body\n",
    "  emailSplit = lapply(messages, splitMessage)\n",
    "       # put body and header in own lists\n",
    "  bodyList = lapply(emailSplit, function(msg) msg$body)\n",
    "  headerList = lapply(emailSplit, function(msg) msg$header)\n",
    "  rm(emailSplit)\n",
    "  \n",
    "       # determine which messages have attachments\n",
    "  hasAttach = sapply(headerList, function(header) {\n",
    "    CTloc = grep(\"Content-Type\", header)\n",
    "    if (length(CTloc) == 0) return(0)\n",
    "    multi = grep(\"multi\", tolower(header[CTloc])) \n",
    "    if (length(multi) == 0) return(0)\n",
    "    multi\n",
    "  })\n",
    "  \n",
    "  hasAttach = which(hasAttach > 0)\n",
    "  \n",
    "       # find boundary strings for messages with attachments\n",
    "  boundaries = sapply(headerList[hasAttach], getBoundary)\n",
    "  \n",
    "       # drop attachments from message body\n",
    "  bodyList[hasAttach] = mapply(dropAttach, bodyList[hasAttach], \n",
    "                               boundaries, SIMPLIFY = FALSE)\n",
    "  \n",
    "       # extract words from body\n",
    "  msgWordsList = lapply(bodyList, findMsgWords, stopWords)\n",
    "  \n",
    "  invisible(msgWordsList)\n",
    "}"
   ]
  },
  {
   "cell_type": "code",
   "execution_count": 12,
   "metadata": {
    "scrolled": false
   },
   "outputs": [
    {
     "name": "stderr",
     "output_type": "stream",
     "text": [
      "Warning message in FUN(X[[i]], ...):\n",
      "\"incomplete final line found on './From 2ds/messages/hard_ham/00228.0eaef7857bbbf3ebf5edbbdae2b30493'\"\n",
      "Warning message in FUN(X[[i]], ...):\n",
      "\"incomplete final line found on './From 2ds/messages/hard_ham/0231.7c6cc716ce3f3bfad7130dd3c8d7b072'\"\n",
      "Warning message in FUN(X[[i]], ...):\n",
      "\"incomplete final line found on './From 2ds/messages/hard_ham/0250.7c6cc716ce3f3bfad7130dd3c8d7b072'\"\n",
      "Warning message in FUN(X[[i]], ...):\n",
      "\"incomplete final line found on './From 2ds/messages/spam/00136.faa39d8e816c70f23b4bb8758d8a74f0'\"\n",
      "Warning message in FUN(X[[i]], ...):\n",
      "\"incomplete final line found on './From 2ds/messages/spam/0143.260a940290dcb61f9327b224a368d4af'\"\n"
     ]
    }
   ],
   "source": [
    "msgWordsList = lapply(fullDirNames, processAllWords, \n",
    "                      stopWords = stopWords)"
   ]
  },
  {
   "cell_type": "code",
   "execution_count": 13,
   "metadata": {},
   "outputs": [],
   "source": [
    "numMsgs = sapply(msgWordsList, length)"
   ]
  },
  {
   "cell_type": "code",
   "execution_count": 14,
   "metadata": {},
   "outputs": [],
   "source": [
    "isSpam = rep(c(FALSE, FALSE, FALSE, TRUE, TRUE), numMsgs)\n",
    "\n",
    "msgWordsList = unlist(msgWordsList, recursive = FALSE)\n",
    "\n",
    "numEmail = length(isSpam)\n",
    "numSpam = sum(isSpam)\n",
    "numHam = numEmail - numSpam\n",
    "\n",
    "set.seed(418910)\n",
    "#determine the indices of test spam and ham messages with\n",
    "testSpamIdx = sample(numSpam, size = floor(numSpam/3))\n",
    "testHamIdx = sample(numHam, size = floor(numHam/3))\n",
    "# use these indices to select the word vectors from msgWordsList with\n",
    "testMsgWords = c((msgWordsList[isSpam])[testSpamIdx],\n",
    "                 (msgWordsList[!isSpam])[testHamIdx] )\n",
    "trainMsgWords = c((msgWordsList[isSpam])[ - testSpamIdx], \n",
    "                  (msgWordsList[!isSpam])[ - testHamIdx])\n",
    "\n",
    "testIsSpam = rep(c(TRUE, FALSE), \n",
    "                 c(length(testSpamIdx), length(testHamIdx)))\n",
    "trainIsSpam = rep(c(TRUE, FALSE), \n",
    "                 c(numSpam - length(testSpamIdx), \n",
    "                   numHam - length(testHamIdx)))\n",
    "\n",
    "bow = unique(unlist(trainMsgWords))\n",
    "\n",
    "\n",
    "\n",
    "spamWordCounts = rep(0, length(bow))\n",
    "\n",
    "names(spamWordCounts) = bow\n",
    "\n",
    "tmp = lapply(trainMsgWords[trainIsSpam], unique)\n",
    "tt = table( unlist(tmp) )\n",
    "spamWordCounts[ names(tt) ] = tt"
   ]
  },
  {
   "cell_type": "code",
   "execution_count": 15,
   "metadata": {},
   "outputs": [],
   "source": [
    "#For each word in bag of words (bow), we compute the number of\n",
    "#spam messages in our training set that contain that word.\n",
    "computeFreqs =\n",
    "function(wordsList, spam, bow = unique(unlist(wordsList)))\n",
    "{\n",
    "   # create a matrix for spam, ham, and log odds\n",
    "  wordTable = matrix(0.5, nrow = 4, ncol = length(bow), \n",
    "                     dimnames = list(c(\"spam\", \"ham\", \n",
    "                                        \"presentLogOdds\", \n",
    "                                        \"absentLogOdds\"),  bow))\n",
    "\n",
    "   # For each spam message, add 1 to counts for words in message\n",
    "  counts.spam = table(unlist(lapply(wordsList[spam], unique)))\n",
    "  wordTable[\"spam\", names(counts.spam)] = counts.spam + .5\n",
    "  counts.ham = table(unlist(lapply(wordsList[!spam], unique)))  \n",
    "  wordTable[\"ham\", names(counts.ham)] = counts.ham + .5  \n",
    "  numSpam = sum(spam)\n",
    "  numHam = length(spam) - numSpam\n",
    "\n",
    "   # Probabilities\n",
    "  wordTable[\"spam\", ] = wordTable[\"spam\", ]/(numSpam + .5)\n",
    "  wordTable[\"ham\", ] = wordTable[\"ham\", ]/(numHam + .5)\n",
    "  \n",
    "   # log odds\n",
    "  wordTable[\"presentLogOdds\", ] = \n",
    "     log(wordTable[\"spam\",]) - log(wordTable[\"ham\", ])\n",
    "  wordTable[\"absentLogOdds\", ] = \n",
    "     log((1 - wordTable[\"spam\", ])) - log((1 -wordTable[\"ham\", ]))\n",
    "\n",
    "  invisible(wordTable)\n",
    "}"
   ]
  },
  {
   "cell_type": "code",
   "execution_count": 16,
   "metadata": {},
   "outputs": [],
   "source": [
    "trainTable = computeFreqs(trainMsgWords, trainIsSpam)"
   ]
  },
  {
   "cell_type": "markdown",
   "metadata": {},
   "source": [
    "Now, trainTable can be used to construct the log likelihood ratio for a new message. That is, we select values from the matrix trainTable that correspond to the words that appear in a new message and the words that are absent from the message, and we use these to compute the log likelihood ratio for the message. This value is then used to classify the message as spam or ham."
   ]
  },
  {
   "cell_type": "code",
   "execution_count": 17,
   "metadata": {
    "scrolled": true
   },
   "outputs": [
    {
     "data": {
      "text/html": [
       "<table>\n",
       "<caption>A matrix: 4 × 80050 of type dbl</caption>\n",
       "<thead>\n",
       "\t<tr><th></th><th scope=col>fight</th><th scope=col>risk</th><th scope=col>cancer</th><th scope=col>http</th><th scope=col>www</th><th scope=col>adclick</th><th scope=col>ws</th><th scope=col>cfm</th><th scope=col>pk</th><th scope=col>slim</th><th scope=col>...</th><th scope=col>outdata</th><th scope=col>allocates</th><th scope=col>initialize</th><th scope=col>constants</th><th scope=col>generality</th><th scope=col>stringlist</th><th scope=col>toarray</th><th scope=col>newinstance</th><th scope=col>nulls</th><th scope=col>bloch</th></tr>\n",
       "</thead>\n",
       "<tbody>\n",
       "\t<tr><th scope=row>spam</th><td> 0.0109477635</td><td> 0.09352518</td><td> 0.016578042</td><td> 0.81420081</td><td> 0.5045355</td><td> 0.0147012825</td><td> 0.02408508</td><td> 0.016578042</td><td> 0.0172036284</td><td> 0.014075696</td><td>...</td><td> 3.127932e-04</td><td> 3.127932e-04</td><td> 3.127932e-04</td><td> 3.127932e-04</td><td> 3.127932e-04</td><td> 3.127932e-04</td><td> 3.127932e-04</td><td> 3.127932e-04</td><td> 3.127932e-04</td><td> 3.127932e-04</td></tr>\n",
       "\t<tr><th scope=row>ham</th><td> 0.0106807638</td><td> 0.01434890</td><td> 0.005070666</td><td> 0.78811091</td><td> 0.5811846</td><td> 0.0003236595</td><td> 0.01219117</td><td> 0.014780451</td><td> 0.0007552055</td><td> 0.005286439</td><td>...</td><td> 3.236595e-04</td><td> 3.236595e-04</td><td> 3.236595e-04</td><td> 3.236595e-04</td><td> 3.236595e-04</td><td> 3.236595e-04</td><td> 3.236595e-04</td><td> 3.236595e-04</td><td> 3.236595e-04</td><td> 3.236595e-04</td></tr>\n",
       "\t<tr><th scope=row>presentLogOdds</th><td> 0.0246908402</td><td> 1.87455707</td><td> 1.184606941</td><td> 0.03256821</td><td>-0.1414302</td><td> 3.8159979419</td><td> 0.68088023</td><td> 0.114773617</td><td> 3.1258856650</td><td> 0.979304820</td><td>...</td><td>-3.414966e-02</td><td>-3.414966e-02</td><td>-3.414966e-02</td><td>-3.414966e-02</td><td>-3.414966e-02</td><td>-3.414966e-02</td><td>-3.414966e-02</td><td>-3.414966e-02</td><td>-3.414966e-02</td><td>-3.414966e-02</td></tr>\n",
       "\t<tr><th scope=row>absentLogOdds</th><td>-0.0002699187</td><td>-0.08373918</td><td>-0.011633430</td><td>-0.13139654</td><td> 0.1680654</td><td>-0.0144867053</td><td>-0.01211377</td><td>-0.001826225</td><td>-0.0165978394</td><td>-0.008875237</td><td>...</td><td> 1.086973e-05</td><td> 1.086973e-05</td><td> 1.086973e-05</td><td> 1.086973e-05</td><td> 1.086973e-05</td><td> 1.086973e-05</td><td> 1.086973e-05</td><td> 1.086973e-05</td><td> 1.086973e-05</td><td> 1.086973e-05</td></tr>\n",
       "</tbody>\n",
       "</table>\n"
      ],
      "text/latex": [
       "A matrix: 4 × 80050 of type dbl\n",
       "\\begin{tabular}{r|lllllllllllllllllllll}\n",
       "  & fight & risk & cancer & http & www & adclick & ws & cfm & pk & slim & ... & outdata & allocates & initialize & constants & generality & stringlist & toarray & newinstance & nulls & bloch\\\\\n",
       "\\hline\n",
       "\tspam &  0.0109477635 &  0.09352518 &  0.016578042 &  0.81420081 &  0.5045355 &  0.0147012825 &  0.02408508 &  0.016578042 &  0.0172036284 &  0.014075696 & ... &  3.127932e-04 &  3.127932e-04 &  3.127932e-04 &  3.127932e-04 &  3.127932e-04 &  3.127932e-04 &  3.127932e-04 &  3.127932e-04 &  3.127932e-04 &  3.127932e-04\\\\\n",
       "\tham &  0.0106807638 &  0.01434890 &  0.005070666 &  0.78811091 &  0.5811846 &  0.0003236595 &  0.01219117 &  0.014780451 &  0.0007552055 &  0.005286439 & ... &  3.236595e-04 &  3.236595e-04 &  3.236595e-04 &  3.236595e-04 &  3.236595e-04 &  3.236595e-04 &  3.236595e-04 &  3.236595e-04 &  3.236595e-04 &  3.236595e-04\\\\\n",
       "\tpresentLogOdds &  0.0246908402 &  1.87455707 &  1.184606941 &  0.03256821 & -0.1414302 &  3.8159979419 &  0.68088023 &  0.114773617 &  3.1258856650 &  0.979304820 & ... & -3.414966e-02 & -3.414966e-02 & -3.414966e-02 & -3.414966e-02 & -3.414966e-02 & -3.414966e-02 & -3.414966e-02 & -3.414966e-02 & -3.414966e-02 & -3.414966e-02\\\\\n",
       "\tabsentLogOdds & -0.0002699187 & -0.08373918 & -0.011633430 & -0.13139654 &  0.1680654 & -0.0144867053 & -0.01211377 & -0.001826225 & -0.0165978394 & -0.008875237 & ... &  1.086973e-05 &  1.086973e-05 &  1.086973e-05 &  1.086973e-05 &  1.086973e-05 &  1.086973e-05 &  1.086973e-05 &  1.086973e-05 &  1.086973e-05 &  1.086973e-05\\\\\n",
       "\\end{tabular}\n"
      ],
      "text/markdown": [
       "\n",
       "A matrix: 4 × 80050 of type dbl\n",
       "\n",
       "| <!--/--> | fight | risk | cancer | http | www | adclick | ws | cfm | pk | slim | ... | outdata | allocates | initialize | constants | generality | stringlist | toarray | newinstance | nulls | bloch |\n",
       "|---|---|---|---|---|---|---|---|---|---|---|---|---|---|---|---|---|---|---|---|---|---|\n",
       "| spam |  0.0109477635 |  0.09352518 |  0.016578042 |  0.81420081 |  0.5045355 |  0.0147012825 |  0.02408508 |  0.016578042 |  0.0172036284 |  0.014075696 | ... |  3.127932e-04 |  3.127932e-04 |  3.127932e-04 |  3.127932e-04 |  3.127932e-04 |  3.127932e-04 |  3.127932e-04 |  3.127932e-04 |  3.127932e-04 |  3.127932e-04 |\n",
       "| ham |  0.0106807638 |  0.01434890 |  0.005070666 |  0.78811091 |  0.5811846 |  0.0003236595 |  0.01219117 |  0.014780451 |  0.0007552055 |  0.005286439 | ... |  3.236595e-04 |  3.236595e-04 |  3.236595e-04 |  3.236595e-04 |  3.236595e-04 |  3.236595e-04 |  3.236595e-04 |  3.236595e-04 |  3.236595e-04 |  3.236595e-04 |\n",
       "| presentLogOdds |  0.0246908402 |  1.87455707 |  1.184606941 |  0.03256821 | -0.1414302 |  3.8159979419 |  0.68088023 |  0.114773617 |  3.1258856650 |  0.979304820 | ... | -3.414966e-02 | -3.414966e-02 | -3.414966e-02 | -3.414966e-02 | -3.414966e-02 | -3.414966e-02 | -3.414966e-02 | -3.414966e-02 | -3.414966e-02 | -3.414966e-02 |\n",
       "| absentLogOdds | -0.0002699187 | -0.08373918 | -0.011633430 | -0.13139654 |  0.1680654 | -0.0144867053 | -0.01211377 | -0.001826225 | -0.0165978394 | -0.008875237 | ... |  1.086973e-05 |  1.086973e-05 |  1.086973e-05 |  1.086973e-05 |  1.086973e-05 |  1.086973e-05 |  1.086973e-05 |  1.086973e-05 |  1.086973e-05 |  1.086973e-05 |\n",
       "\n"
      ],
      "text/plain": [
       "               fight         risk        cancer       http        www       \n",
       "spam            0.0109477635  0.09352518  0.016578042  0.81420081  0.5045355\n",
       "ham             0.0106807638  0.01434890  0.005070666  0.78811091  0.5811846\n",
       "presentLogOdds  0.0246908402  1.87455707  1.184606941  0.03256821 -0.1414302\n",
       "absentLogOdds  -0.0002699187 -0.08373918 -0.011633430 -0.13139654  0.1680654\n",
       "               adclick       ws          cfm          pk           \n",
       "spam            0.0147012825  0.02408508  0.016578042  0.0172036284\n",
       "ham             0.0003236595  0.01219117  0.014780451  0.0007552055\n",
       "presentLogOdds  3.8159979419  0.68088023  0.114773617  3.1258856650\n",
       "absentLogOdds  -0.0144867053 -0.01211377 -0.001826225 -0.0165978394\n",
       "               slim         ... outdata       allocates     initialize   \n",
       "spam            0.014075696 ...  3.127932e-04  3.127932e-04  3.127932e-04\n",
       "ham             0.005286439 ...  3.236595e-04  3.236595e-04  3.236595e-04\n",
       "presentLogOdds  0.979304820 ... -3.414966e-02 -3.414966e-02 -3.414966e-02\n",
       "absentLogOdds  -0.008875237 ...  1.086973e-05  1.086973e-05  1.086973e-05\n",
       "               constants     generality    stringlist    toarray      \n",
       "spam            3.127932e-04  3.127932e-04  3.127932e-04  3.127932e-04\n",
       "ham             3.236595e-04  3.236595e-04  3.236595e-04  3.236595e-04\n",
       "presentLogOdds -3.414966e-02 -3.414966e-02 -3.414966e-02 -3.414966e-02\n",
       "absentLogOdds   1.086973e-05  1.086973e-05  1.086973e-05  1.086973e-05\n",
       "               newinstance   nulls         bloch        \n",
       "spam            3.127932e-04  3.127932e-04  3.127932e-04\n",
       "ham             3.236595e-04  3.236595e-04  3.236595e-04\n",
       "presentLogOdds -3.414966e-02 -3.414966e-02 -3.414966e-02\n",
       "absentLogOdds   1.086973e-05  1.086973e-05  1.086973e-05"
      ]
     },
     "metadata": {},
     "output_type": "display_data"
    }
   ],
   "source": [
    "trainTable"
   ]
  },
  {
   "cell_type": "markdown",
   "metadata": {},
   "source": [
    "Calculate the log likelihood ratio (LLR) for all of the test messages"
   ]
  },
  {
   "cell_type": "code",
   "execution_count": 18,
   "metadata": {},
   "outputs": [],
   "source": [
    "computeMsgLLR = function(words, freqTable) \n",
    "{\n",
    "       # Discards words not in training data.\n",
    "  words = words[!is.na(match(words, colnames(freqTable)))]\n",
    "\n",
    "       # Find which words are present\n",
    "  present = colnames(freqTable) %in% words\n",
    "\n",
    "  sum(freqTable[\"presentLogOdds\", present]) +\n",
    "    sum(freqTable[\"absentLogOdds\", !present])\n",
    "}"
   ]
  },
  {
   "cell_type": "code",
   "execution_count": 19,
   "metadata": {},
   "outputs": [],
   "source": [
    "testLLR = sapply(testMsgWords, computeMsgLLR, trainTable)"
   ]
  },
  {
   "cell_type": "markdown",
   "metadata": {},
   "source": [
    "Compare the summary statistics of the LLR values for the ham and spam in the test data"
   ]
  },
  {
   "cell_type": "code",
   "execution_count": 20,
   "metadata": {},
   "outputs": [
    {
     "data": {
      "text/plain": [
       "$`FALSE`\n",
       "   Min. 1st Qu.  Median    Mean 3rd Qu.    Max. \n",
       "-1076.8  -137.2  -108.3  -125.6   -88.6   753.5 \n",
       "\n",
       "$`TRUE`\n",
       "    Min.  1st Qu.   Median     Mean  3rd Qu.     Max. \n",
       " -85.759   -7.506   36.431   84.980  111.270 1457.719 \n"
      ]
     },
     "metadata": {},
     "output_type": "display_data"
    }
   ],
   "source": [
    "tapply(testLLR, testIsSpam, summary)"
   ]
  },
  {
   "cell_type": "markdown",
   "metadata": {},
   "source": [
    "We need to decide on a cut-oﬀ τ, where we classify a message as spam or ham according to whether or not the LLR exceeds this threshold. We assess the choice of τ using our test data."
   ]
  },
  {
   "cell_type": "code",
   "execution_count": 21,
   "metadata": {},
   "outputs": [],
   "source": [
    "typeIErrorRate = \n",
    "function(tau, llrVals, spam)\n",
    "{\n",
    "  classify = llrVals > tau\n",
    "  sum(classify & !spam)/sum(!spam)\n",
    "}\n",
    "\n",
    "typeIErrorRates = \n",
    "function(llrVals, isSpam) \n",
    "{\n",
    "  o = order(llrVals)\n",
    "  llrVals =  llrVals[o]\n",
    "  isSpam = isSpam[o]\n",
    "\n",
    "  idx = which(!isSpam)\n",
    "  N = length(idx)\n",
    "  list(error = (N:1)/N, values = llrVals[idx])\n",
    "}"
   ]
  },
  {
   "cell_type": "code",
   "execution_count": 22,
   "metadata": {},
   "outputs": [
    {
     "data": {
      "text/html": [
       "0.0103582218385844"
      ],
      "text/latex": [
       "0.0103582218385844"
      ],
      "text/markdown": [
       "0.0103582218385844"
      ],
      "text/plain": [
       "[1] 0.01035822"
      ]
     },
     "metadata": {},
     "output_type": "display_data"
    }
   ],
   "source": [
    "typeIErrorRate(-43, testLLR,testIsSpam)"
   ]
  },
  {
   "cell_type": "code",
   "execution_count": 23,
   "metadata": {},
   "outputs": [],
   "source": [
    "typeIIErrorRates = function(llrVals, isSpam) {\n",
    "    \n",
    "  o = order(llrVals)\n",
    "  llrVals =  llrVals[o]\n",
    "  isSpam = isSpam[o]\n",
    "    \n",
    "    \n",
    "  idx = which(isSpam)\n",
    "  N = length(idx)\n",
    "  list(error = (1:(N))/N, values = llrVals[idx])\n",
    "  }  \n",
    "\n",
    "xI = typeIErrorRates(testLLR, testIsSpam)\n",
    "xII = typeIIErrorRates(testLLR, testIsSpam)\n",
    "tau01 = round(min(xI$values[xI$error <= 0.01]))\n",
    "t2 = max(xII$error[ xII$values < tau01 ])"
   ]
  },
  {
   "cell_type": "code",
   "execution_count": 24,
   "metadata": {
    "scrolled": false
   },
   "outputs": [
    {
     "data": {
      "image/png": "[encoded data removed]",
      "text/plain": [
       "plot without title"
      ]
     },
     "metadata": {
      "image/png": {
       "height": 420,
       "width": 420
      },
      "text/plain": {
       "height": 420,
       "width": 420
      }
     },
     "output_type": "display_data"
    }
   ],
   "source": [
    "library(RColorBrewer)\n",
    "cols = brewer.pal(9, \"Set1\")[c(3, 4, 5)]\n",
    "plot(xII$error ~ xII$values,  type = \"l\", col = cols[1], lwd = 3,\n",
    "     xlim = c(-300, 250), ylim = c(0, 1),\n",
    "     xlab = \"Log Likelihood Ratio Values\", ylab=\"Error Rate\")\n",
    "points(xI$error ~ xI$values, type = \"l\", col = cols[2], lwd = 3)\n",
    "legend(x = 50, y = 0.4, fill = c(cols[2], cols[1]),\n",
    "       legend = c(\"Classify Ham as Spam\", \n",
    "                  \"Classify Spam as Ham\"), cex = 0.8,\n",
    "       bty = \"n\")\n",
    "abline(h=0.01, col =\"grey\", lwd = 3, lty = 2)\n",
    "text(-250, 0.05, pos = 4, \"Type I Error = 0.01\", col = cols[2])\n",
    "\n",
    "mtext(tau01, side = 1, line = 0.5, at = tau01, col = cols[3])\n",
    "segments(x0 = tau01, y0 = -.50, x1 = tau01, y1 = t2, \n",
    "         lwd = 2, col = \"grey\")\n",
    "text(tau01 + 20, 0.05, pos = 4,\n",
    "     paste(\"Type II Error = \", round(t2, digits = 2)), \n",
    "     col = cols[1])"
   ]
  },
  {
   "cell_type": "code",
   "execution_count": null,
   "metadata": {},
   "outputs": [],
   "source": []
  }
 ],
 "metadata": {
  "kernelspec": {
   "display_name": "R",
   "language": "R",
   "name": "ir"
  },
  "language_info": {
   "codemirror_mode": "r",
   "file_extension": ".r",
   "mimetype": "text/x-r-source",
   "name": "R",
   "pygments_lexer": "r",
   "version": "3.6.2"
  }
 },
 "nbformat": 4,
 "nbformat_minor": 2
}
