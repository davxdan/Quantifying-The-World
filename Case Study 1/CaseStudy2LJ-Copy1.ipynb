{
 "cells": [
  {
   "cell_type": "markdown",
   "metadata": {},
   "source": [
    "#                      Real-Time Location System Case Study\n",
    "\n",
    "##                          Lei Jiang, Kristen Rollins, Daniel Davieau\n",
    "\n",
    "### requirement:\n",
    "Include an introduction to explain the case study, explain the approach used to complete the case study and explain the output achieved.  Explanations of output should be included as close to the output or figures as possible.\n",
    "\n",
    "List all references used, including the book by Nolan and Lang.\n",
    "\n",
    "\n",
    "### write abstract, intro, ...\n",
    "t=\"Timestamp\" \n",
    "\n",
    "__id=\"MACofScanDevice\"__ A unique ID of a network device.  The ﬁrst of these 3 sets of pairs of digits, i.e., mm:mm:mm, identiﬁes the manufacturer of the equipment. The second set of 3 pairs (the ss) identiﬁes the particular piece of equipment, both the model and the unique d\n",
    "evice. \n",
    "\n",
    "__pos=\"RealPosition\"__ the physical coordinate of the scanning device \n",
    "\n",
    "__degree=\"orientation\"__ the orientation of the user carrying the scanning device in degrees\n",
    "\n",
    "__MACofResponse1=\"SignalStrengthValue,Frequency,Mode\"__ MACaddressofarespondingpeer(e.g.,anaccesspointoradevice in adhoc mode) with the corresponding values for signal strength in dBm (Decibel-milliwatts), the channel frequency and its mode (access point = 3, device in adhoc mode = 1)\n",
    "\n",
    "__MACofResponseN=\"SignalStrengthValue,Frequency,Mode\"__ \"...\"\n",
    "\n",
    "__See formula on Question 12 for weighting for final question.__\n",
    "\n",
    "### rephrase the questions\n",
    "#### Conduct a more thorough data analysis into these two MAC addresses including determining locations by using data corresponding to both MAC addresses.  Which of these two MAC addresses should be used and which should not be used for RTLS? Which MAC address yields the best prediction of location?  Does using data for both MAC addresses simultaneously yield more, or less, accurate prediction of location? (Note: this portion is derived from Exercise Q.9 in Nolan and Lang.)\n",
    "\n",
    "\n",
    "#### weighted kNN\n",
    "\n",
    "\n"
   ]
  },
  {
   "cell_type": "code",
   "execution_count": 1,
   "metadata": {},
   "outputs": [],
   "source": [
    "#setwd(\"C:/Users/N1110/Desktop/QTW\")\n",
    "options(digits = 2)\n",
    "# read in the entire file into a variable txt\n",
    "# each line will be its own element\n",
    "# txt = readLines(\"offline.final.trace.txt\")\n",
    "\n",
    "setwd('C:/Users/danie/Documents/GitHub/Quantifying-The-World/Case Study 2')\n",
    "txt = readLines(\"offline.final.trace.txt\") "
   ]
  },
  {
   "cell_type": "code",
   "execution_count": 2,
   "metadata": {},
   "outputs": [],
   "source": [
    "processLine = function(x)\n",
    "{\n",
    "  tokens = strsplit(x, \"[;=,]\")[[1]]\n",
    "if (length(tokens) == 10)\n",
    "  return(NULL)\n",
    "tmp = matrix(tokens[ - (1:10) ], , 4, byrow = TRUE)\n",
    "cbind(matrix(tokens[c(2, 4, 6:8, 10)], nrow(tmp), 6,\n",
    "byrow = TRUE), tmp)\n",
    "}\n",
    "\n",
    "\n",
    "# create a function that will round off to the nearest major angle\n",
    "roundOrientation = function(angles) {\n",
    "  refs = seq(0, by = 45, length  = 9)\n",
    "  q = sapply(angles, function(o) which.min(abs(o - refs)))\n",
    "  c(refs[1:8], 0)[q]\n",
    "}\n",
    "\n"
   ]
  },
  {
   "cell_type": "code",
   "execution_count": 3,
   "metadata": {},
   "outputs": [],
   "source": [
    "# re do our data read combining all the anlysis we did here there are 7 SEVEN macids\n",
    "readData = \n",
    "  function(filename = 'offline.final.trace.txt', \n",
    "           subMacs = c(\"00:0f:a3:39:e1:c0\", \"00:0f:a3:39:dd:cd\", \"00:14:bf:b1:97:8a\",\n",
    "                       \"00:14:bf:3b:c7:c6\", \"00:14:bf:b1:97:90\", \"00:14:bf:b1:97:8d\",\n",
    "                       \"00:14:bf:b1:97:81\"))\n",
    "  {\n",
    "    txt = readLines(filename)\n",
    "    lines = txt[ substr(txt, 1, 1) != \"#\" ]\n",
    "    tmp = lapply(lines, processLine)\n",
    "    offline = as.data.frame(do.call(\"rbind\", tmp), \n",
    "                            stringsAsFactors= FALSE) \n",
    "    \n",
    "    names(offline) = c(\"time\", \"scanMac\", \n",
    "                       \"posX\", \"posY\", \"posZ\", \"orientation\", \n",
    "                       \"mac\", \"signal\", \"channel\", \"type\")\n",
    "    \n",
    "     # keep only signals from access points\n",
    "    offline = offline[ offline$type == \"3\", ]\n",
    "    \n",
    "    # drop scanMac, posZ, channel, and type - no info in them\n",
    "    dropVars = c(\"scanMac\", \"posZ\", \"channel\", \"type\")\n",
    "    offline = offline[ , !( names(offline) %in% dropVars ) ]\n",
    "    \n",
    "    # drop more unwanted access points\n",
    "    offline = offline[ offline$mac %in% subMacs, ]\n",
    "    \n",
    "    # convert numeric values\n",
    "    numVars = c(\"time\", \"posX\", \"posY\", \"orientation\", \"signal\")\n",
    "    offline[ numVars ] = lapply(offline[ numVars ], as.numeric)\n",
    "\n",
    "    # convert time to POSIX\n",
    "    offline$rawTime = offline$time\n",
    "    offline$time = offline$time/1000\n",
    "    class(offline$time) = c(\"POSIXt\", \"POSIXct\")\n",
    "    \n",
    "    # round orientations to nearest 45\n",
    "    offline$angle = roundOrientation(offline$orientation)\n",
    "      \n",
    "    return(offline)\n",
    "  }"
   ]
  },
  {
   "cell_type": "code",
   "execution_count": 4,
   "metadata": {},
   "outputs": [],
   "source": [
    "offline = readData()"
   ]
  },
  {
   "cell_type": "code",
   "execution_count": null,
   "metadata": {},
   "outputs": [],
   "source": [
    "head(offline)"
   ]
  },
  {
   "cell_type": "code",
   "execution_count": 5,
   "metadata": {},
   "outputs": [
    {
     "data": {
      "image/png": "[encoded data removed]",
      "text/plain": [
       "plot without title"
      ]
     },
     "metadata": {
      "image/png": {
       "height": 420,
       "width": 420
      },
      "text/plain": {
       "height": 420,
       "width": 420
      }
     },
     "output_type": "display_data"
    }
   ],
   "source": [
    "# plot signal strength for each device\n",
    "# poor mac id 7.  he gets dropped\n",
    "library(lattice)\n",
    "bwplot(signal ~ factor(angle) | mac, data = offline, \n",
    "       subset = posX == 2 & posY == 12 \n",
    "                & mac != \"00:0f:a3:39:dd:cd\", \n",
    "       layout = c(2,3))"
   ]
  },
  {
   "cell_type": "code",
   "execution_count": null,
   "metadata": {},
   "outputs": [],
   "source": [
    "# examine signal strength overall\n",
    "summary(offline$signal)"
   ]
  },
  {
   "cell_type": "code",
   "execution_count": null,
   "metadata": {},
   "outputs": [],
   "source": [
    "# density plots for SIX of the seven mac ids at X=24, Y=4\n",
    "densityplot( ~ signal | mac + factor(angle), data = offline,\n",
    "             subset = posX == 24 & posY == 4 & \n",
    "                         mac != \"00:0f:a3:39:dd:cd\",\n",
    "             bw = 0.5, plot.points = FALSE)"
   ]
  },
  {
   "cell_type": "code",
   "execution_count": null,
   "metadata": {},
   "outputs": [],
   "source": [
    "# density plots for the seventh mac ids at X=24, Y=4\n",
    "# he was lonely\n",
    "densityplot( ~ signal | mac + factor(angle), data = offline,\n",
    "             subset = posX == 24 & posY == 4 & \n",
    "                         mac == \"00:0f:a3:39:dd:cd\",\n",
    "             bw = 0.5, plot.points = FALSE)"
   ]
  },
  {
   "cell_type": "code",
   "execution_count": 6,
   "metadata": {},
   "outputs": [],
   "source": [
    "#Setup all the data using the data summary\n",
    "offline$posXY = paste(offline$posX, offline$posY, sep = \"-\")\n",
    "\n",
    "byLocAngleAP = with(offline, \n",
    "                    by(offline, list(posXY, angle, mac), \n",
    "                       function(x) x))\n",
    "\n",
    "signalSummary = \n",
    "  lapply(byLocAngleAP,            \n",
    "         function(oneLoc) {\n",
    "           ans = oneLoc[1, ]\n",
    "           ans$medSignal = median(oneLoc$signal)\n",
    "           ans$avgSignal = mean(oneLoc$signal)\n",
    "           ans$num = length(oneLoc$signal)\n",
    "           ans$sdSignal = sd(oneLoc$signal)\n",
    "           ans$iqrSignal = IQR(oneLoc$signal)\n",
    "           ans\n",
    "           })\n",
    "\n",
    "offlineSummary = do.call(\"rbind\", signalSummary)  "
   ]
  },
  {
   "cell_type": "code",
   "execution_count": null,
   "metadata": {},
   "outputs": [],
   "source": [
    "# # look at the distribution of signal strength\n",
    "# breaks = seq(-90, -30, by = 5)\n",
    "# bwplot(sdSignal ~ cut(avgSignal, breaks = breaks),\n",
    "#        data = offlineSummary, \n",
    "#        subset = mac != \"00:0f:a3:39:dd:cd\",\n",
    "#        xlab = \"Mean Signal\", ylab = \"SD Signal\")"
   ]
  },
  {
   "cell_type": "code",
   "execution_count": 7,
   "metadata": {},
   "outputs": [],
   "source": [
    "subMacs = c(\"00:0f:a3:39:e1:c0\", \"00:0f:a3:39:dd:cd\", \"00:14:bf:b1:97:8a\",\n",
    "                       \"00:14:bf:3b:c7:c6\", \"00:14:bf:b1:97:90\", \"00:14:bf:b1:97:8d\",\n",
    "                       \"00:14:bf:b1:97:81\")"
   ]
  },
  {
   "cell_type": "code",
   "execution_count": null,
   "metadata": {},
   "outputs": [],
   "source": [
    "unique(offlineSummary$mac)"
   ]
  },
  {
   "cell_type": "code",
   "execution_count": null,
   "metadata": {},
   "outputs": [],
   "source": [
    "# here is where we drop a macid\n",
    "# offlineSummary0 = subset(offlineSummary, mac != subMacs[2])\n",
    "# offlineSummary1 = subset(offlineSummary, mac != subMacs[1])\n"
   ]
  },
  {
   "cell_type": "code",
   "execution_count": null,
   "metadata": {},
   "outputs": [],
   "source": [
    "head(offlineSummary)"
   ]
  },
  {
   "cell_type": "markdown",
   "metadata": {},
   "source": [
    "We will have errors because we don't know the location of the 7th IP address"
   ]
  },
  {
   "cell_type": "code",
   "execution_count": 21,
   "metadata": {},
   "outputs": [
    {
     "data": {
      "text/html": [
       "<table>\n",
       "<caption>A matrix: 6 × 2 of type dbl</caption>\n",
       "<thead>\n",
       "\t<tr><th></th><th scope=col>x</th><th scope=col>y</th></tr>\n",
       "</thead>\n",
       "<tbody>\n",
       "\t<tr><th scope=row>00:0f:a3:39:e1:c0</th><td> 7.5</td><td> 6.3</td></tr>\n",
       "\t<tr><th scope=row>00:14:bf:b1:97:8a</th><td> 2.5</td><td>-0.8</td></tr>\n",
       "\t<tr><th scope=row>00:14:bf:3b:c7:c6</th><td>12.8</td><td>-2.8</td></tr>\n",
       "\t<tr><th scope=row>00:14:bf:b1:97:90</th><td> 1.0</td><td>14.0</td></tr>\n",
       "\t<tr><th scope=row>00:14:bf:b1:97:8d</th><td>33.5</td><td> 9.3</td></tr>\n",
       "\t<tr><th scope=row>00:14:bf:b1:97:81</th><td>33.5</td><td> 2.8</td></tr>\n",
       "</tbody>\n",
       "</table>\n"
      ],
      "text/latex": [
       "A matrix: 6 × 2 of type dbl\n",
       "\\begin{tabular}{r|ll}\n",
       "  & x & y\\\\\n",
       "\\hline\n",
       "\t00:0f:a3:39:e1:c0 &  7.5 &  6.3\\\\\n",
       "\t00:14:bf:b1:97:8a &  2.5 & -0.8\\\\\n",
       "\t00:14:bf:3b:c7:c6 & 12.8 & -2.8\\\\\n",
       "\t00:14:bf:b1:97:90 &  1.0 & 14.0\\\\\n",
       "\t00:14:bf:b1:97:8d & 33.5 &  9.3\\\\\n",
       "\t00:14:bf:b1:97:81 & 33.5 &  2.8\\\\\n",
       "\\end{tabular}\n"
      ],
      "text/markdown": [
       "\n",
       "A matrix: 6 × 2 of type dbl\n",
       "\n",
       "| <!--/--> | x | y |\n",
       "|---|---|---|\n",
       "| 00:0f:a3:39:e1:c0 |  7.5 |  6.3 |\n",
       "| 00:14:bf:b1:97:8a |  2.5 | -0.8 |\n",
       "| 00:14:bf:3b:c7:c6 | 12.8 | -2.8 |\n",
       "| 00:14:bf:b1:97:90 |  1.0 | 14.0 |\n",
       "| 00:14:bf:b1:97:8d | 33.5 |  9.3 |\n",
       "| 00:14:bf:b1:97:81 | 33.5 |  2.8 |\n",
       "\n"
      ],
      "text/plain": [
       "                  x    y   \n",
       "00:0f:a3:39:e1:c0  7.5  6.3\n",
       "00:14:bf:b1:97:8a  2.5 -0.8\n",
       "00:14:bf:3b:c7:c6 12.8 -2.8\n",
       "00:14:bf:b1:97:90  1.0 14.0\n",
       "00:14:bf:b1:97:8d 33.5  9.3\n",
       "00:14:bf:b1:97:81 33.5  2.8"
      ]
     },
     "metadata": {},
     "output_type": "display_data"
    },
    {
     "ename": "ERROR",
     "evalue": "Error in AP[offlineSummary$mac, ]: subscript out of bounds\n",
     "output_type": "error",
     "traceback": [
      "Error in AP[offlineSummary$mac, ]: subscript out of bounds\nTraceback:\n"
     ]
    }
   ],
   "source": [
    "# Look at the access points\n",
    "# signal strength vs distance\n",
    "\n",
    "AP = matrix( c( 7.5, 6.3, 2.5, -.8, 12.8, -2.8,  \n",
    "                1, 14, 33.5, 9.3,  33.5, 2.8),\n",
    "            ncol = 2, byrow = TRUE,\n",
    "            dimnames = list(subMacs[ -2 ], c(\"x\", \"y\") ))\n",
    "\n",
    "AP\n",
    "\n",
    "diffs = offlineSummary[ , c(\"posX\", \"posY\")] - \n",
    "          AP[ offlineSummary$mac, ]\n",
    "\n",
    "offlineSummary$dist = sqrt(diffs[ , 1]^2 + diffs[ , 2]^2) # Eclidean \n",
    "\n",
    "xyplot(signal ~ dist | factor(mac) + factor(angle), \n",
    "       data = offlineSummary, pch = 19, cex = 0.3,\n",
    "       xlab =\"distance\")"
   ]
  },
  {
   "cell_type": "markdown",
   "metadata": {},
   "source": [
    "### Signal strength vs Distance\n",
    "\n",
    "#### We used Eclidean distance for the calculation. The plot above indicates that the signal strength is negative correlated with the distance. Therefore, the further the access point is, the weaker the signal is."
   ]
  },
  {
   "cell_type": "markdown",
   "metadata": {},
   "source": [
    "## Prepare the test data"
   ]
  },
  {
   "cell_type": "code",
   "execution_count": 8,
   "metadata": {},
   "outputs": [
    {
     "data": {
      "text/html": [
       "60"
      ],
      "text/latex": [
       "60"
      ],
      "text/markdown": [
       "60"
      ],
      "text/plain": [
       "[1] 60"
      ]
     },
     "metadata": {},
     "output_type": "display_data"
    },
    {
     "data": {
      "text/plain": [
       "            \n",
       "               0  45  90 135 180 225 270 315\n",
       "  0-0.05       0   0   0 704   0   0   0   0\n",
       "  0.15-9.42    0   0 717   0   0   0   0   0\n",
       "  0.31-11.09   0   0   0   0   0 684   0   0\n",
       "  0.47-8.2   701   0   0   0   0   0   0   0\n",
       "  0.78-10.94 695   0   0   0   0   0   0   0\n",
       "  0.93-11.69   0   0   0   0 691   0   0   0\n",
       "  1.08-12.19   0   0   0   0   0 742   0   0"
      ]
     },
     "metadata": {},
     "output_type": "display_data"
    }
   ],
   "source": [
    "# prepare the test data\n",
    "\n",
    "# tally signal strength\n",
    "\n",
    "macs = unique(offlineSummary$mac)\n",
    "online = readData(\"online.final.trace.txt\", subMacs = macs)\n",
    "\n",
    "online$posXY = paste(online$posX, online$posY, sep = \"-\")\n",
    "\n",
    "length(unique(online$posXY))\n",
    "\n",
    "tabonlineXYA = table(online$posXY, online$angle)\n",
    "tabonlineXYA[1:7, ]\n",
    "\n",
    "keepVars = c(\"posXY\", \"posX\",\"posY\", \"orientation\", \"angle\")\n",
    "byLoc = with(online, \n",
    "             by(online, list(posXY), \n",
    "                function(x) {\n",
    "                  ans = x[1, keepVars]\n",
    "                  avgSS = tapply(x$signal, x$mac, mean)\n",
    "                  y = matrix(avgSS, nrow = 1, ncol = 7,\n",
    "                        dimnames = list(ans$posXY, names(avgSS)))\n",
    "                  cbind(ans, y)\n",
    "                }))\n",
    "\n",
    "onlineSummary = do.call(\"rbind\", byLoc)  "
   ]
  },
  {
   "cell_type": "code",
   "execution_count": 9,
   "metadata": {},
   "outputs": [],
   "source": [
    "# create data frame and functions to aggregate/select data with similar angles\n",
    "\n",
    "m = 3; angleNewObs = 230\n",
    "refs = seq(0, by = 45, length  = 8)\n",
    "nearestAngle = roundOrientation(angleNewObs)\n",
    "  \n",
    "if (m %% 2 == 1) {\n",
    "  angles = seq(-45 * (m - 1) /2, 45 * (m - 1) /2, length = m)\n",
    "} else {\n",
    "  m = m + 1\n",
    "  angles = seq(-45 * (m - 1) /2, 45 * (m - 1) /2, length = m)\n",
    "  if (sign(angleNewObs - nearestAngle) > -1) \n",
    "    angles = angles[ -1 ]\n",
    "  else \n",
    "    angles = angles[ -m ]\n",
    "}\n",
    "#Notice that we handle the case of m odd and even separately. Also, we must\n",
    "#map the angles to values in refs, e.g., -45 maps to 335 and 405 maps to 45,\n",
    "#so we adjust angles with\n",
    "angles = angles + nearestAngle\n",
    "angles[angles < 0] = angles[ angles < 0 ] + 360\n",
    "angles[angles > 360] = angles[ angles > 360 ] - 360\n",
    "#After we have the subset of the desired angles, we select the observations\n",
    "#from offlineSummary to analyze with\n",
    "offlineSubset = \n",
    "  offlineSummary[ offlineSummary$angle %in% angles, ]\n",
    "\n",
    "#Then we aggregate the signal strengths from these angles and create a data\n",
    "#structure that is similar to that of onlineSummary. Rather than repeat the\n",
    "#code again, we turn these computations into a helper function, which we\n",
    "#call reshapeSS():\n",
    "reshapeSS = function(data, varSignal = \"signal\", \n",
    "                     keepVars = c(\"posXY\", \"posX\",\"posY\")) {\n",
    "  byLocation =\n",
    "    with(data, by(data, list(posXY), \n",
    "                  function(x) {\n",
    "                    ans = x[1, keepVars]\n",
    "                    avgSS = tapply(x[ , varSignal ], x$mac, mean)\n",
    "                    y = matrix(avgSS, nrow = 1, ncol = 7,\n",
    "                               dimnames = list(ans$posXY,\n",
    "                                               names(avgSS)))\n",
    "                    cbind(ans, y)\n",
    "                  }))\n",
    "\n",
    "  newDataSS = do.call(\"rbind\", byLocation)\n",
    "  return(newDataSS)\n",
    "}"
   ]
  },
  {
   "cell_type": "code",
   "execution_count": 10,
   "metadata": {},
   "outputs": [],
   "source": [
    "reshapeSS = function(data, varSignal = \"signal\", \n",
    "                     keepVars = c(\"posXY\", \"posX\",\"posY\"),\n",
    "                     sampleAngle = FALSE, \n",
    "                     refs = seq(0, 315, by = 45)) {\n",
    "  byLocation =\n",
    "    with(data, by(data, list(posXY), \n",
    "                  function(x) {\n",
    "                    if (sampleAngle) {\n",
    "                      x = x[x$angle == sample(refs, size = 1), ]}\n",
    "                    ans = x[1, keepVars]\n",
    "                    avgSS = tapply(x[ , varSignal ], x$mac, mean)\n",
    "                    y = matrix(avgSS, nrow = 1, ncol = 7,\n",
    "                               dimnames = list(ans$posXY,\n",
    "                                               names(avgSS)))\n",
    "                    cbind(ans, y)\n",
    "                  }))\n",
    "\n",
    "  newDataSS = do.call(\"rbind\", byLocation)\n",
    "  return(newDataSS)\n",
    "}\n"
   ]
  },
  {
   "cell_type": "code",
   "execution_count": 11,
   "metadata": {},
   "outputs": [
    {
     "data": {
      "text/html": [
       "<table>\n",
       "<caption>A data.frame: 6 × 10</caption>\n",
       "<thead>\n",
       "\t<tr><th></th><th scope=col>posXY</th><th scope=col>posX</th><th scope=col>posY</th><th scope=col>00:0f:a3:39:dd:cd</th><th scope=col>00:0f:a3:39:e1:c0</th><th scope=col>00:14:bf:3b:c7:c6</th><th scope=col>00:14:bf:b1:97:81</th><th scope=col>00:14:bf:b1:97:8a</th><th scope=col>00:14:bf:b1:97:8d</th><th scope=col>00:14:bf:b1:97:90</th></tr>\n",
       "\t<tr><th></th><th scope=col>&lt;chr&gt;</th><th scope=col>&lt;dbl&gt;</th><th scope=col>&lt;dbl&gt;</th><th scope=col>&lt;dbl&gt;</th><th scope=col>&lt;dbl&gt;</th><th scope=col>&lt;dbl&gt;</th><th scope=col>&lt;dbl&gt;</th><th scope=col>&lt;dbl&gt;</th><th scope=col>&lt;dbl&gt;</th><th scope=col>&lt;dbl&gt;</th></tr>\n",
       "</thead>\n",
       "<tbody>\n",
       "\t<tr><th scope=row>0-0</th><td>0-0 </td><td>0</td><td> 0</td><td>-72</td><td>-52</td><td>-66</td><td>-63</td><td>-36</td><td>-64</td><td>-55</td></tr>\n",
       "\t<tr><th scope=row>0-1</th><td>0-1 </td><td>0</td><td> 1</td><td>-70</td><td>-53</td><td>-65</td><td>-64</td><td>-39</td><td>-65</td><td>-59</td></tr>\n",
       "\t<tr><th scope=row>0-10</th><td>0-10</td><td>0</td><td>10</td><td>-70</td><td>-56</td><td>-66</td><td>-69</td><td>-45</td><td>-67</td><td>-50</td></tr>\n",
       "\t<tr><th scope=row>0-11</th><td>0-11</td><td>0</td><td>11</td><td>-71</td><td>-55</td><td>-67</td><td>-70</td><td>-48</td><td>-67</td><td>-55</td></tr>\n",
       "\t<tr><th scope=row>0-12</th><td>0-12</td><td>0</td><td>12</td><td>-69</td><td>-56</td><td>-70</td><td>-72</td><td>-45</td><td>-67</td><td>-50</td></tr>\n",
       "\t<tr><th scope=row>0-13</th><td>0-13</td><td>0</td><td>13</td><td>-73</td><td>-55</td><td>-71</td><td>-73</td><td>-43</td><td>-69</td><td>-54</td></tr>\n",
       "</tbody>\n",
       "</table>\n"
      ],
      "text/latex": [
       "A data.frame: 6 × 10\n",
       "\\begin{tabular}{r|llllllllll}\n",
       "  & posXY & posX & posY & 00:0f:a3:39:dd:cd & 00:0f:a3:39:e1:c0 & 00:14:bf:3b:c7:c6 & 00:14:bf:b1:97:81 & 00:14:bf:b1:97:8a & 00:14:bf:b1:97:8d & 00:14:bf:b1:97:90\\\\\n",
       "  & <chr> & <dbl> & <dbl> & <dbl> & <dbl> & <dbl> & <dbl> & <dbl> & <dbl> & <dbl>\\\\\n",
       "\\hline\n",
       "\t0-0 & 0-0  & 0 &  0 & -72 & -52 & -66 & -63 & -36 & -64 & -55\\\\\n",
       "\t0-1 & 0-1  & 0 &  1 & -70 & -53 & -65 & -64 & -39 & -65 & -59\\\\\n",
       "\t0-10 & 0-10 & 0 & 10 & -70 & -56 & -66 & -69 & -45 & -67 & -50\\\\\n",
       "\t0-11 & 0-11 & 0 & 11 & -71 & -55 & -67 & -70 & -48 & -67 & -55\\\\\n",
       "\t0-12 & 0-12 & 0 & 12 & -69 & -56 & -70 & -72 & -45 & -67 & -50\\\\\n",
       "\t0-13 & 0-13 & 0 & 13 & -73 & -55 & -71 & -73 & -43 & -69 & -54\\\\\n",
       "\\end{tabular}\n"
      ],
      "text/markdown": [
       "\n",
       "A data.frame: 6 × 10\n",
       "\n",
       "| <!--/--> | posXY &lt;chr&gt; | posX &lt;dbl&gt; | posY &lt;dbl&gt; | 00:0f:a3:39:dd:cd &lt;dbl&gt; | 00:0f:a3:39:e1:c0 &lt;dbl&gt; | 00:14:bf:3b:c7:c6 &lt;dbl&gt; | 00:14:bf:b1:97:81 &lt;dbl&gt; | 00:14:bf:b1:97:8a &lt;dbl&gt; | 00:14:bf:b1:97:8d &lt;dbl&gt; | 00:14:bf:b1:97:90 &lt;dbl&gt; |\n",
       "|---|---|---|---|---|---|---|---|---|---|---|\n",
       "| 0-0 | 0-0  | 0 |  0 | -72 | -52 | -66 | -63 | -36 | -64 | -55 |\n",
       "| 0-1 | 0-1  | 0 |  1 | -70 | -53 | -65 | -64 | -39 | -65 | -59 |\n",
       "| 0-10 | 0-10 | 0 | 10 | -70 | -56 | -66 | -69 | -45 | -67 | -50 |\n",
       "| 0-11 | 0-11 | 0 | 11 | -71 | -55 | -67 | -70 | -48 | -67 | -55 |\n",
       "| 0-12 | 0-12 | 0 | 12 | -69 | -56 | -70 | -72 | -45 | -67 | -50 |\n",
       "| 0-13 | 0-13 | 0 | 13 | -73 | -55 | -71 | -73 | -43 | -69 | -54 |\n",
       "\n"
      ],
      "text/plain": [
       "     posXY posX posY 00:0f:a3:39:dd:cd 00:0f:a3:39:e1:c0 00:14:bf:3b:c7:c6\n",
       "0-0  0-0   0     0   -72               -52               -66              \n",
       "0-1  0-1   0     1   -70               -53               -65              \n",
       "0-10 0-10  0    10   -70               -56               -66              \n",
       "0-11 0-11  0    11   -71               -55               -67              \n",
       "0-12 0-12  0    12   -69               -56               -70              \n",
       "0-13 0-13  0    13   -73               -55               -71              \n",
       "     00:14:bf:b1:97:81 00:14:bf:b1:97:8a 00:14:bf:b1:97:8d 00:14:bf:b1:97:90\n",
       "0-0  -63               -36               -64               -55              \n",
       "0-1  -64               -39               -65               -59              \n",
       "0-10 -69               -45               -67               -50              \n",
       "0-11 -70               -48               -67               -55              \n",
       "0-12 -72               -45               -67               -50              \n",
       "0-13 -73               -43               -69               -54              "
      ]
     },
     "metadata": {},
     "output_type": "display_data"
    },
    {
     "data": {
      "text/html": [
       "166"
      ],
      "text/latex": [
       "166"
      ],
      "text/markdown": [
       "166"
      ],
      "text/plain": [
       "[1] 166"
      ]
     },
     "metadata": {},
     "output_type": "display_data"
    }
   ],
   "source": [
    "trainSS = reshapeSS(offlineSubset, varSignal = \"avgSignal\")\n",
    "\n",
    "selectTrain = function(angleNewObs, signals = NULL, m = 1){\n",
    "  # m is the number of angles to keep between 1 and 5\n",
    "  refs = seq(0, by = 45, length  = 8)\n",
    "  nearestAngle = roundOrientation(angleNewObs)\n",
    "  \n",
    "  if (m %% 2 == 1) \n",
    "    angles = seq(-45 * (m - 1) /2, 45 * (m - 1) /2, length = m)\n",
    "  else {\n",
    "    m = m + 1\n",
    "    angles = seq(-45 * (m - 1) /2, 45 * (m - 1) /2, length = m)\n",
    "    if (sign(angleNewObs - nearestAngle) > -1) \n",
    "      angles = angles[ -1 ]\n",
    "    else \n",
    "      angles = angles[ -m ]\n",
    "  }\n",
    "  angles = angles + nearestAngle\n",
    "  angles[angles < 0] = angles[ angles < 0 ] + 360\n",
    "  angles[angles > 360] = angles[ angles > 360 ] - 360\n",
    "  angles = sort(angles) \n",
    "  \n",
    "  offlineSubset = signals[ signals$angle %in% angles, ]\n",
    "  reshapeSS(offlineSubset, varSignal = \"avgSignal\")\n",
    "}\n",
    "\n",
    "train130 = selectTrain(130, offlineSummary, m = 3)\n",
    "\n",
    "head(train130)\n",
    "\n",
    "length(train130[[1]])"
   ]
  },
  {
   "cell_type": "code",
   "execution_count": 18,
   "metadata": {},
   "outputs": [],
   "source": [
    "# here is our NN function.\n",
    "findNN = function(newSignal, trainSubset) {\n",
    "  diffs = apply(trainSubset[ , 4:10], 1, \n",
    "                function(x) x - newSignal)\n",
    "  dists = apply(diffs, 2, function(x) sqrt(sum(x^2)) )\n",
    "  closest = order(dists)\n",
    "  return(trainSubset[closest, 1:3 ])\n",
    "}"
   ]
  },
  {
   "cell_type": "markdown",
   "metadata": {},
   "source": []
  },
  {
   "cell_type": "code",
   "execution_count": 19,
   "metadata": {},
   "outputs": [],
   "source": [
    "# predict X-Y based on the the neasest k neighbors (default 3)\n",
    "predXY = function(newSignals, newAngles, trainData, \n",
    "                  numAngles = 1, k = 3){\n",
    "  \n",
    "  closeXY = list(length = nrow(newSignals))\n",
    "  \n",
    "  for (i in 1:nrow(newSignals)) {\n",
    "    trainSS = selectTrain(newAngles[i], trainData, m = numAngles)\n",
    "    closeXY[[i]] = \n",
    "      findNN(newSignal = as.numeric(newSignals[i, ]), trainSS)\n",
    "  }\n",
    "\n",
    "  estXY = lapply(closeXY, \n",
    "                 function(x) sapply(x[ , 2:3], \n",
    "                                    function(x) mean(x[1:k])))\n",
    "  estXY = do.call(\"rbind\", estXY)\n",
    "  return(estXY)\n",
    "}\n",
    "                                    \n",
    "# nearest 3 neighbors                                    \n",
    "                                    \n",
    "estXYk3 = predXY(newSignals = onlineSummary[ , 6:12], \n",
    "                 newAngles = onlineSummary[ , 4], \n",
    "                 offlineSummary, numAngles = 3, k = 3)\n",
    "\n",
    "# nearest neighbor\n",
    "estXYk1 = predXY(newSignals = onlineSummary[ , 6:12], \n",
    "                 newAngles = onlineSummary[ , 4], \n",
    "                 offlineSummary, numAngles = 3, k = 1)"
   ]
  },
  {
   "cell_type": "markdown",
   "metadata": {},
   "source": [
    "Important to note that we have only 6 known locations though the 7th MAC is included"
   ]
  },
  {
   "cell_type": "code",
   "execution_count": 22,
   "metadata": {},
   "outputs": [
    {
     "data": {
      "image/png": "[encoded data removed]",
      "text/plain": [
       "plot without title"
      ]
     },
     "metadata": {
      "image/png": {
       "height": 420,
       "width": 420
      },
      "text/plain": {
       "height": 420,
       "width": 420
      }
     },
     "output_type": "display_data"
    },
    {
     "data": {
      "image/png": "[encoded data removed]",
      "text/plain": [
       "plot without title"
      ]
     },
     "metadata": {
      "image/png": {
       "height": 420,
       "width": 420
      },
      "text/plain": {
       "height": 420,
       "width": 420
      }
     },
     "output_type": "display_data"
    }
   ],
   "source": [
    "# predict and map errors\n",
    "floorErrorMap = function(estXY, actualXY, trainPoints = NULL, AP = NULL){\n",
    "  \n",
    "    plot(0, 0, xlim = c(0, 35), ylim = c(-3, 15), type = \"n\",\n",
    "         xlab = \"\", ylab = \"\", axes = FALSE)\n",
    "    box()\n",
    "    if ( !is.null(AP) ) points(AP, pch = 15)\n",
    "    if ( !is.null(trainPoints) )\n",
    "      points(trainPoints, pch = 19, col=\"grey\", cex = 0.6)\n",
    "    \n",
    "    points(x = actualXY[, 1], y = actualXY[, 2], \n",
    "           pch = 19, cex = 0.8 )\n",
    "    points(x = estXY[, 1], y = estXY[, 2], \n",
    "           pch = 8, cex = 0.8 )\n",
    "    segments(x0 = estXY[, 1], y0 = estXY[, 2],\n",
    "             x1 = actualXY[, 1], y1 = actualXY[ , 2],\n",
    "             lwd = 2, col = \"red\")\n",
    "}\n",
    "\n",
    "trainPoints = offlineSummary[ offlineSummary$angle == 0 & \n",
    "                              offlineSummary$mac == \"00:0f:a3:39:e1:c0\" ,\n",
    "                        c(\"posX\", \"posY\")]\n",
    "\n",
    "# 3 NN\n",
    "\n",
    "floorErrorMap(estXYk3, onlineSummary[ , c(\"posX\",\"posY\")], \n",
    "              trainPoints = trainPoints, AP = AP)\n",
    "\n",
    "\n",
    "# 1 NN\n",
    "floorErrorMap(estXYk1, onlineSummary[ , c(\"posX\",\"posY\")], \n",
    "              trainPoints = trainPoints, AP = AP)"
   ]
  },
  {
   "cell_type": "code",
   "execution_count": 23,
   "metadata": {},
   "outputs": [
    {
     "data": {
      "text/html": [
       "<ol class=list-inline>\n",
       "\t<li>478.6403</li>\n",
       "\t<li>249.426966666667</li>\n",
       "</ol>\n"
      ],
      "text/latex": [
       "\\begin{enumerate*}\n",
       "\\item 478.6403\n",
       "\\item 249.426966666667\n",
       "\\end{enumerate*}\n"
      ],
      "text/markdown": [
       "1. 478.6403\n",
       "2. 249.426966666667\n",
       "\n",
       "\n"
      ],
      "text/plain": [
       "[1] 479 249"
      ]
     },
     "metadata": {},
     "output_type": "display_data"
    },
    {
     "name": "stderr",
     "output_type": "stream",
     "text": [
      "Warning message in matrix(permuteLocs, ncol = v, nrow = floor(length(permuteLocs)/v)):\n",
      "\"data length [166] is not a sub-multiple or multiple of the number of rows [15]\"\n"
     ]
    }
   ],
   "source": [
    "options(error = recover, warn = 1)\n",
    "calcError = \n",
    "function(estXY, actualXY) \n",
    "   sum( rowSums( (estXY - actualXY)^2) )\n",
    "\n",
    "actualXY = onlineSummary[ , c(\"posX\", \"posY\")]\n",
    "sapply(list(estXYk1, estXYk3), calcError, actualXY)\n",
    "v = 11\n",
    "permuteLocs = sample(unique(offlineSummary$posXY))\n",
    "permuteLocs = matrix(permuteLocs, ncol = v, \n",
    "                     nrow = floor(length(permuteLocs)/v))\n",
    "\n",
    "onlineFold = subset(offlineSummary, posXY %in% permuteLocs[ , 1])\n",
    "\n",
    "reshapeSS = function(data, varSignal = \"signal\", \n",
    "                     keepVars = c(\"posXY\", \"posX\",\"posY\"),\n",
    "                     sampleAngle = FALSE, \n",
    "                     refs = seq(0, 315, by = 45)) {\n",
    "  byLocation =\n",
    "    with(data, by(data, list(posXY), \n",
    "                  function(x) {\n",
    "                    if (sampleAngle) {\n",
    "                      x = x[x$angle == sample(refs, size = 1), ]}\n",
    "                    ans = x[1, keepVars]\n",
    "                    avgSS = tapply(x[ , varSignal ], x$mac, mean)\n",
    "                    y = matrix(avgSS, nrow = 1, ncol = 7,\n",
    "                               dimnames = list(ans$posXY,\n",
    "                                               names(avgSS)))\n",
    "                    cbind(ans, y)\n",
    "                  }))\n",
    "\n",
    "  newDataSS = do.call(\"rbind\", byLocation)\n",
    "  return(newDataSS)\n",
    "}"
   ]
  },
  {
   "cell_type": "markdown",
   "metadata": {},
   "source": [
    "## Model with all MAC addresses"
   ]
  },
  {
   "cell_type": "code",
   "execution_count": 27,
   "metadata": {},
   "outputs": [
    {
     "data": {
      "text/html": [
       "75.8888888888889"
      ],
      "text/latex": [
       "75.8888888888889"
      ],
      "text/markdown": [
       "75.8888888888889"
      ],
      "text/plain": [
       "[1] 76"
      ]
     },
     "metadata": {},
     "output_type": "display_data"
    },
    {
     "data": {
      "image/png": "[encoded data removed]",
      "text/plain": [
       "plot without title"
      ]
     },
     "metadata": {
      "image/png": {
       "height": 420,
       "width": 420
      },
      "text/plain": {
       "height": 420,
       "width": 420
      }
     },
     "output_type": "display_data"
    }
   ],
   "source": [
    "# train model with MAC address \"00:0f:a3:39:dd:cd\" removed\n",
    "# up to 20 neighbors, 11 folds\n",
    "# this one can run for a while (5-10 mins) -- 3 min\n",
    "# this cell and the next are the same, but the angles change slightly!!\n",
    "#offline = offline[ offline$mac != \"00:0f:a3:39:dd:cd\", ]\n",
    "\n",
    "keepVars = c(\"posXY\", \"posX\",\"posY\", \"orientation\", \"angle\")\n",
    "\n",
    "onlineCVSummary = reshapeSS(offline, keepVars = keepVars, \n",
    "                            sampleAngle = FALSE) # set sampleAngle = FALSE  \n",
    "\n",
    "onlineFold = subset(onlineCVSummary, \n",
    "                    posXY %in% permuteLocs[ , 1])\n",
    "\n",
    "offlineFold = subset(offlineSummary,\n",
    "                     posXY %in% permuteLocs[ , -1])\n",
    "\n",
    "estFold = predXY(newSignals = onlineFold[ , 6:12], \n",
    "                 newAngles = onlineFold[ , 4], \n",
    "                 offlineFold, numAngles = 1, k = 3)\n",
    "\n",
    "actualFold = onlineFold[ , c(\"posX\", \"posY\")]\n",
    "calcError(estFold, actualFold)\n",
    "\n",
    "K = 10\n",
    "err = rep(0, K)\n",
    "\n",
    "for (j in 1:v) {\n",
    "  onlineFold = subset(onlineCVSummary, \n",
    "                      posXY %in% permuteLocs[ , j])\n",
    "  offlineFold = subset(offlineSummary,\n",
    "                       posXY %in% permuteLocs[ , -j])\n",
    "  actualFold = onlineFold[ , c(\"posX\", \"posY\")]\n",
    "  \n",
    "  for (k in 1:K) {\n",
    "    estFold = predXY(newSignals = onlineFold[ , 6:12],\n",
    "                     newAngles = onlineFold[ , 4], \n",
    "                     offlineFold, numAngles = 1, k = k)\n",
    "    err[k] = err[k] + calcError(estFold, actualFold)\n",
    "  }\n",
    "}\n",
    "\n",
    "\n",
    "plot(y = err, x = (1:K),  type = \"l\", lwd= 2,\n",
    "     ylim = c(800, 2100),\n",
    "     xlab = \"Number of Neighbors\",\n",
    "     ylab = \"Sum of Square Errors\")\n",
    "\n",
    "rmseMin = min(err)\n",
    "kMin = which(err == rmseMin)[1]\n",
    "segments(x0 = 0, x1 = kMin, y0 = rmseMin, col = gray(0.4), \n",
    "         lty = 2, lwd = 2)\n",
    "segments(x0 = kMin, x1 = kMin, y0 = 1100,  y1 = rmseMin, \n",
    "         col = grey(0.4), lty = 2, lwd = 2)\n",
    "\n",
    "#mtext(kMin, side = 1, line = 1, at = kMin, col = grey(0.4))\n",
    "text(x = kMin - 2, y = rmseMin + 40, \n",
    "     label = as.character(round(rmseMin)), col = grey(0.4))"
   ]
  },
  {
   "cell_type": "code",
   "execution_count": 30,
   "metadata": {},
   "outputs": [],
   "source": [
    "crossValidation <- function(train_full, train_summary, K=10, folds=11, \n",
    "                          keepVars = c(\"posXY\", \"posX\",\"posY\", \"orientation\", \"angle\"),\n",
    "                          Weighted=FALSE, distance = \"euclidean\") {\n",
    "  set.seed(25)\n",
    "  permuteLocs <- sample(unique(train_summary$posXY))\n",
    "  permuteLocs <- matrix(permuteLocs, ncol = folds, \n",
    "                       nrow = floor(length(permuteLocs)/folds))\n",
    "  onlineCVSummary <- reshapeSS(train_full, keepVars = keepVars, sampleAngle = TRUE)\n",
    "  err = rep(0, K)\n",
    "  for (j in 1:folds) {\n",
    "    onlineFold <- subset(onlineCVSummary, \n",
    "                        posXY %in% permuteLocs[ , j])\n",
    "    offlineFold <- subset(train_summary,\n",
    "                         posXY %in% permuteLocs[ , -j])\n",
    "    actualFold <- onlineFold[ , c(\"posX\", \"posY\")]\n",
    "    \n",
    "    for (k in 1:K) {\n",
    "      if(Weighted == TRUE){\n",
    "        estFold <- predXYWeighted(newSignals = onlineFold[ , 6:12],\n",
    "                            newAngles = onlineFold[ , 4], \n",
    "                            offlineFold, numAngles = 3, k = k)\n",
    "        err[k] <- err[k] + calcError(estFold, actualFold)\n",
    "        \n",
    "      } else {\n",
    "        if(distance == \"manhattan\"){\n",
    "            \n",
    "             estFold <- predXYManhattan(newSignals = onlineFold[ , 6:12],\n",
    "                         newAngles = onlineFold[ , 4], \n",
    "                         offlineFold, numAngles = 3, k = k)\n",
    "            err[k] <- err[k] + calcError(estFold, actualFold)\n",
    "            \n",
    "        } else {\n",
    "            estFold <- predXY(newSignals = onlineFold[ , 6:12],\n",
    "                             newAngles = onlineFold[ , 4], \n",
    "                             offlineFold, numAngles = 3, k = k)\n",
    "            err[k] <- err[k] + calcError(estFold, actualFold)\n",
    "            }\n",
    "      }\n",
    "    }\n",
    "  }\n",
    "  rmseMin <- min(err)\n",
    "  kMin <- which(err == rmseMin)[1]\n",
    "  return(list(rmseMin, kMin, err))\n",
    "}"
   ]
  },
  {
   "cell_type": "code",
   "execution_count": 31,
   "metadata": {},
   "outputs": [
    {
     "name": "stderr",
     "output_type": "stream",
     "text": [
      "Warning message in matrix(permuteLocs, ncol = folds, nrow = floor(length(permuteLocs)/folds)):\n",
      "\"data length [166] is not a sub-multiple or multiple of the number of rows [15]\"\n"
     ]
    }
   ],
   "source": [
    "knnResultsModel3 <- crossValidation(offline, offlineSummary, K=10)"
   ]
  },
  {
   "cell_type": "code",
   "execution_count": 32,
   "metadata": {},
   "outputs": [
    {
     "name": "stdout",
     "output_type": "stream",
     "text": [
      "[1] \"Results:\"\n",
      "[1] \"Mean Square Error:  954.204081632653  Optimal K:  7\"\n"
     ]
    }
   ],
   "source": [
    "print(\"Results:\")\n",
    "print(paste(\"Mean Square Error: \",knnResultsModel3[1],\" Optimal K: \",knnResultsModel3[2]))"
   ]
  },
  {
   "cell_type": "markdown",
   "metadata": {},
   "source": [
    "## Models Comparison"
   ]
  },
  {
   "cell_type": "code",
   "execution_count": null,
   "metadata": {},
   "outputs": [],
   "source": [
    "#plot for Model Comparison\n",
    "library(ggplot2)\n",
    "k = 10\n",
    "ggplot()+\n",
    "  geom_line(mapping=aes(x=seq(1,20,1), y=knnResultsModel1[[3]], color=\"Without 00:0f:a3:39:dd:cd\"), show.legend = TRUE)+\n",
    "  geom_line(mapping=aes(x=seq(1,20,1), y=knnResultsModel2[[3]], color=\"Without 00:0f:a3:39:e1:c0\"), show.legend = TRUE)+\n",
    "  geom_line(mapping=aes(x=seq(1,20,1), y=knnResultsModel3[[3]], color=\"With Both MACs\"),  show.legend = TRUE)+\n",
    "  ggtitle('Figure. Comparsion of Learning Curves across models')+\n",
    "  labs(y=\"MSE\")"
   ]
  },
  {
   "cell_type": "markdown",
   "metadata": {},
   "source": [
    "### Results\n",
    "#### From the plot above, we can see Model2 Without 00:0f:a3:39:e1:c0 yielded the lowest MSE.  (may need to zoom in the fig)\n",
    "#### Model3 both MAC addresses simultaneously yield less, accurate prediction of location."
   ]
  },
  {
   "cell_type": "markdown",
   "metadata": {},
   "source": [
    "## Weighted kNN for the best model above"
   ]
  },
  {
   "cell_type": "code",
   "execution_count": 33,
   "metadata": {},
   "outputs": [],
   "source": [
    "# function to calculate the distance from the test data to all of the training data and get the top 3 nearest.\n",
    "findNNWeighted <- function(newSignal, trainSubset) {\n",
    "  diffs <- apply(trainSubset[ , 4:10], 1, \n",
    "                function(x) x - newSignal)\n",
    "  dists <- apply(diffs, 2, function(x) sqrt(sum(x^2)) )\n",
    "  closest <- order(dists)\n",
    "  weight <- as.numeric(1/dists[closest])\n",
    "  closeXY <- trainSubset[closest, 1:3 ]\n",
    "  return(cbind(closeXY,weight))\n",
    "}\n",
    "                 "
   ]
  },
  {
   "cell_type": "code",
   "execution_count": 34,
   "metadata": {},
   "outputs": [],
   "source": [
    "# function to get the estimate location \n",
    "predXYWeighted <- function(newSignals, newAngles, trainData, \n",
    "                  numAngles = 1, k = 10){\n",
    "  \n",
    "  closeXY <- list(length = nrow(newSignals))\n",
    "  \n",
    "  for (i in 1:nrow(newSignals)) {\n",
    "    trainSS <- selectTrain(newAngles[i], trainData, m = numAngles)\n",
    "    base <- findNNWeighted(newSignal = as.numeric(newSignals[i, ]), trainSS)\n",
    "    weights <- append(base[1:k, 4]/sum(base[1:k, 4]), rep(0, nrow(base)-k)) \n",
    "    base[, 2:3] = base[, 2:3]*weights # multiply weights array * matrix of x,y to get weighted vals\n",
    "    closeXY[[i]] = base[,1:3] # append weighted xy, x, y values to list\n",
    "  }\n",
    "\n",
    "  estXY <- lapply(closeXY, \n",
    "                 function(x) sapply(x[ , 2:3], \n",
    "                                    function(x) sum(x)))\n",
    "  estXY <- do.call(\"rbind\", estXY)\n",
    "  return(estXY)\n",
    "}"
   ]
  },
  {
   "cell_type": "code",
   "execution_count": 35,
   "metadata": {},
   "outputs": [
    {
     "name": "stderr",
     "output_type": "stream",
     "text": [
      "Warning message in matrix(permuteLocs, ncol = folds, nrow = floor(length(permuteLocs)/folds)):\n",
      "\"data length [166] is not a sub-multiple or multiple of the number of rows [15]\"\n"
     ]
    }
   ],
   "source": [
    "knnResultsWeighted=crossValidation(offline, offlineSummary, K=10)"
   ]
  },
  {
   "cell_type": "code",
   "execution_count": 38,
   "metadata": {},
   "outputs": [
    {
     "name": "stdout",
     "output_type": "stream",
     "text": [
      "[1] \"Results:\"\n",
      "[1] \"Mean Square Error:  954.204081632653  Optimal K:  7\"\n"
     ]
    }
   ],
   "source": [
    "print(\"Results:\")\n",
    "print(paste(\"Mean Square Error: \",knnResultsWeighted[1],\" Optimal K: \",knnResultsWeighted[2]))"
   ]
  },
  {
   "cell_type": "code",
   "execution_count": 36,
   "metadata": {},
   "outputs": [
    {
     "ename": "ERROR",
     "evalue": "Error in ggplot(): could not find function \"ggplot\"\n",
     "output_type": "error",
     "traceback": [
      "Error in ggplot(): could not find function \"ggplot\"\nTraceback:\n"
     ]
    }
   ],
   "source": [
    "k = 10\n",
    "ggplot()+\n",
    "  geom_line(mapping=aes(x=seq(1,20,1), y=knnResultsModel1[[3]], color=\"Without 00:0f:a3:39:dd:cd\"), linetype=\"solid\", show.legend = TRUE)+\n",
    "  geom_line(mapping=aes(x=seq(1,20,1), y=knnResultsModel2[[3]], color=\"Without 00:0f:a3:39:e1:c0\"), linetype=\"dashed\", show.legend = TRUE)+\n",
    "  geom_line(mapping=aes(x=seq(1,20,1), y=knnResultsModel3[[3]], color=\"With Both MACs\"), linetype=\"dotted\", show.legend = TRUE)+\n",
    "  #geom_line(mapping=aes(x=seq(1,20,1), y=knnResultsManhattan[[3]], color=\"KNN using Manhattan Distance\"), linetype=\"dotdash\", show.legend = TRUE)+\n",
    "  geom_line(mapping=aes(x=seq(1,20,1), y=knnResultsWeighted[[3]], color=\"MSE of Weighted KNN\"), linetype=\"longdash\", show.legend = TRUE)+\n",
    "  ggtitle('Figure. Comparsion of Learning Curves across models')+\n",
    "  labs(y=\"MSE\")"
   ]
  }
 ],
 "metadata": {
  "kernelspec": {
   "display_name": "R",
   "language": "R",
   "name": "ir"
  },
  "language_info": {
   "codemirror_mode": "r",
   "file_extension": ".r",
   "mimetype": "text/x-r-source",
   "name": "R",
   "pygments_lexer": "r",
   "version": "3.6.2"
  }
 },
 "nbformat": 4,
 "nbformat_minor": 2
}
