{
 "cells": [
  {
   "cell_type": "code",
   "execution_count": 1,
   "metadata": {},
   "outputs": [
    {
     "name": "stderr",
     "output_type": "stream",
     "text": [
      "/anaconda3/lib/python3.6/site-packages/h5py/__init__.py:36: FutureWarning: Conversion of the second argument of issubdtype from `float` to `np.floating` is deprecated. In future, it will be treated as `np.float64 == np.dtype(float).type`.\n",
      "  from ._conv import register_converters as _register_converters\n"
     ]
    },
    {
     "name": "stdout",
     "output_type": "stream",
     "text": [
      "2.0.0\n"
     ]
    }
   ],
   "source": [
    "import tensorflow as tf\n",
    "from tensorflow.keras import layers\n",
    "from sklearn import datasets\n",
    "import pandas as pd\n",
    "import numpy as np\n",
    "print(tf.__version__)\n",
    "\n",
    "import warnings\n",
    "warnings.simplefilter(action='ignore', category=FutureWarning)"
   ]
  },
  {
   "cell_type": "markdown",
   "metadata": {},
   "source": [
    "## Load Data\n",
    "First get the data.  Sklearn presents the data in a dictionary.  \n",
    "\n",
    "The target is the price is thousands\n",
    "\n",
    "Note that X is a dataframe while y is an array!!"
   ]
  },
  {
   "cell_type": "code",
   "execution_count": 48,
   "metadata": {},
   "outputs": [],
   "source": [
    "bos = datasets.load_boston()"
   ]
  },
  {
   "cell_type": "code",
   "execution_count": 49,
   "metadata": {},
   "outputs": [
    {
     "data": {
      "text/plain": [
       "{'DESCR': \"Boston House Prices dataset\\n===========================\\n\\nNotes\\n------\\nData Set Characteristics:  \\n\\n    :Number of Instances: 506 \\n\\n    :Number of Attributes: 13 numeric/categorical predictive\\n    \\n    :Median Value (attribute 14) is usually the target\\n\\n    :Attribute Information (in order):\\n        - CRIM     per capita crime rate by town\\n        - ZN       proportion of residential land zoned for lots over 25,000 sq.ft.\\n        - INDUS    proportion of non-retail business acres per town\\n        - CHAS     Charles River dummy variable (= 1 if tract bounds river; 0 otherwise)\\n        - NOX      nitric oxides concentration (parts per 10 million)\\n        - RM       average number of rooms per dwelling\\n        - AGE      proportion of owner-occupied units built prior to 1940\\n        - DIS      weighted distances to five Boston employment centres\\n        - RAD      index of accessibility to radial highways\\n        - TAX      full-value property-tax rate per $10,000\\n        - PTRATIO  pupil-teacher ratio by town\\n        - B        1000(Bk - 0.63)^2 where Bk is the proportion of blacks by town\\n        - LSTAT    % lower status of the population\\n        - MEDV     Median value of owner-occupied homes in $1000's\\n\\n    :Missing Attribute Values: None\\n\\n    :Creator: Harrison, D. and Rubinfeld, D.L.\\n\\nThis is a copy of UCI ML housing dataset.\\nhttp://archive.ics.uci.edu/ml/datasets/Housing\\n\\n\\nThis dataset was taken from the StatLib library which is maintained at Carnegie Mellon University.\\n\\nThe Boston house-price data of Harrison, D. and Rubinfeld, D.L. 'Hedonic\\nprices and the demand for clean air', J. Environ. Economics & Management,\\nvol.5, 81-102, 1978.   Used in Belsley, Kuh & Welsch, 'Regression diagnostics\\n...', Wiley, 1980.   N.B. Various transformations are used in the table on\\npages 244-261 of the latter.\\n\\nThe Boston house-price data has been used in many machine learning papers that address regression\\nproblems.   \\n     \\n**References**\\n\\n   - Belsley, Kuh & Welsch, 'Regression diagnostics: Identifying Influential Data and Sources of Collinearity', Wiley, 1980. 244-261.\\n   - Quinlan,R. (1993). Combining Instance-Based and Model-Based Learning. In Proceedings on the Tenth International Conference of Machine Learning, 236-243, University of Massachusetts, Amherst. Morgan Kaufmann.\\n   - many more! (see http://archive.ics.uci.edu/ml/datasets/Housing)\\n\",\n",
       " 'data': array([[6.3200e-03, 1.8000e+01, 2.3100e+00, ..., 1.5300e+01, 3.9690e+02,\n",
       "         4.9800e+00],\n",
       "        [2.7310e-02, 0.0000e+00, 7.0700e+00, ..., 1.7800e+01, 3.9690e+02,\n",
       "         9.1400e+00],\n",
       "        [2.7290e-02, 0.0000e+00, 7.0700e+00, ..., 1.7800e+01, 3.9283e+02,\n",
       "         4.0300e+00],\n",
       "        ...,\n",
       "        [6.0760e-02, 0.0000e+00, 1.1930e+01, ..., 2.1000e+01, 3.9690e+02,\n",
       "         5.6400e+00],\n",
       "        [1.0959e-01, 0.0000e+00, 1.1930e+01, ..., 2.1000e+01, 3.9345e+02,\n",
       "         6.4800e+00],\n",
       "        [4.7410e-02, 0.0000e+00, 1.1930e+01, ..., 2.1000e+01, 3.9690e+02,\n",
       "         7.8800e+00]]),\n",
       " 'feature_names': array(['CRIM', 'ZN', 'INDUS', 'CHAS', 'NOX', 'RM', 'AGE', 'DIS', 'RAD',\n",
       "        'TAX', 'PTRATIO', 'B', 'LSTAT'], dtype='<U7'),\n",
       " 'target': array([24. , 21.6, 34.7, 33.4, 36.2, 28.7, 22.9, 27.1, 16.5, 18.9, 15. ,\n",
       "        18.9, 21.7, 20.4, 18.2, 19.9, 23.1, 17.5, 20.2, 18.2, 13.6, 19.6,\n",
       "        15.2, 14.5, 15.6, 13.9, 16.6, 14.8, 18.4, 21. , 12.7, 14.5, 13.2,\n",
       "        13.1, 13.5, 18.9, 20. , 21. , 24.7, 30.8, 34.9, 26.6, 25.3, 24.7,\n",
       "        21.2, 19.3, 20. , 16.6, 14.4, 19.4, 19.7, 20.5, 25. , 23.4, 18.9,\n",
       "        35.4, 24.7, 31.6, 23.3, 19.6, 18.7, 16. , 22.2, 25. , 33. , 23.5,\n",
       "        19.4, 22. , 17.4, 20.9, 24.2, 21.7, 22.8, 23.4, 24.1, 21.4, 20. ,\n",
       "        20.8, 21.2, 20.3, 28. , 23.9, 24.8, 22.9, 23.9, 26.6, 22.5, 22.2,\n",
       "        23.6, 28.7, 22.6, 22. , 22.9, 25. , 20.6, 28.4, 21.4, 38.7, 43.8,\n",
       "        33.2, 27.5, 26.5, 18.6, 19.3, 20.1, 19.5, 19.5, 20.4, 19.8, 19.4,\n",
       "        21.7, 22.8, 18.8, 18.7, 18.5, 18.3, 21.2, 19.2, 20.4, 19.3, 22. ,\n",
       "        20.3, 20.5, 17.3, 18.8, 21.4, 15.7, 16.2, 18. , 14.3, 19.2, 19.6,\n",
       "        23. , 18.4, 15.6, 18.1, 17.4, 17.1, 13.3, 17.8, 14. , 14.4, 13.4,\n",
       "        15.6, 11.8, 13.8, 15.6, 14.6, 17.8, 15.4, 21.5, 19.6, 15.3, 19.4,\n",
       "        17. , 15.6, 13.1, 41.3, 24.3, 23.3, 27. , 50. , 50. , 50. , 22.7,\n",
       "        25. , 50. , 23.8, 23.8, 22.3, 17.4, 19.1, 23.1, 23.6, 22.6, 29.4,\n",
       "        23.2, 24.6, 29.9, 37.2, 39.8, 36.2, 37.9, 32.5, 26.4, 29.6, 50. ,\n",
       "        32. , 29.8, 34.9, 37. , 30.5, 36.4, 31.1, 29.1, 50. , 33.3, 30.3,\n",
       "        34.6, 34.9, 32.9, 24.1, 42.3, 48.5, 50. , 22.6, 24.4, 22.5, 24.4,\n",
       "        20. , 21.7, 19.3, 22.4, 28.1, 23.7, 25. , 23.3, 28.7, 21.5, 23. ,\n",
       "        26.7, 21.7, 27.5, 30.1, 44.8, 50. , 37.6, 31.6, 46.7, 31.5, 24.3,\n",
       "        31.7, 41.7, 48.3, 29. , 24. , 25.1, 31.5, 23.7, 23.3, 22. , 20.1,\n",
       "        22.2, 23.7, 17.6, 18.5, 24.3, 20.5, 24.5, 26.2, 24.4, 24.8, 29.6,\n",
       "        42.8, 21.9, 20.9, 44. , 50. , 36. , 30.1, 33.8, 43.1, 48.8, 31. ,\n",
       "        36.5, 22.8, 30.7, 50. , 43.5, 20.7, 21.1, 25.2, 24.4, 35.2, 32.4,\n",
       "        32. , 33.2, 33.1, 29.1, 35.1, 45.4, 35.4, 46. , 50. , 32.2, 22. ,\n",
       "        20.1, 23.2, 22.3, 24.8, 28.5, 37.3, 27.9, 23.9, 21.7, 28.6, 27.1,\n",
       "        20.3, 22.5, 29. , 24.8, 22. , 26.4, 33.1, 36.1, 28.4, 33.4, 28.2,\n",
       "        22.8, 20.3, 16.1, 22.1, 19.4, 21.6, 23.8, 16.2, 17.8, 19.8, 23.1,\n",
       "        21. , 23.8, 23.1, 20.4, 18.5, 25. , 24.6, 23. , 22.2, 19.3, 22.6,\n",
       "        19.8, 17.1, 19.4, 22.2, 20.7, 21.1, 19.5, 18.5, 20.6, 19. , 18.7,\n",
       "        32.7, 16.5, 23.9, 31.2, 17.5, 17.2, 23.1, 24.5, 26.6, 22.9, 24.1,\n",
       "        18.6, 30.1, 18.2, 20.6, 17.8, 21.7, 22.7, 22.6, 25. , 19.9, 20.8,\n",
       "        16.8, 21.9, 27.5, 21.9, 23.1, 50. , 50. , 50. , 50. , 50. , 13.8,\n",
       "        13.8, 15. , 13.9, 13.3, 13.1, 10.2, 10.4, 10.9, 11.3, 12.3,  8.8,\n",
       "         7.2, 10.5,  7.4, 10.2, 11.5, 15.1, 23.2,  9.7, 13.8, 12.7, 13.1,\n",
       "        12.5,  8.5,  5. ,  6.3,  5.6,  7.2, 12.1,  8.3,  8.5,  5. , 11.9,\n",
       "        27.9, 17.2, 27.5, 15. , 17.2, 17.9, 16.3,  7. ,  7.2,  7.5, 10.4,\n",
       "         8.8,  8.4, 16.7, 14.2, 20.8, 13.4, 11.7,  8.3, 10.2, 10.9, 11. ,\n",
       "         9.5, 14.5, 14.1, 16.1, 14.3, 11.7, 13.4,  9.6,  8.7,  8.4, 12.8,\n",
       "        10.5, 17.1, 18.4, 15.4, 10.8, 11.8, 14.9, 12.6, 14.1, 13. , 13.4,\n",
       "        15.2, 16.1, 17.8, 14.9, 14.1, 12.7, 13.5, 14.9, 20. , 16.4, 17.7,\n",
       "        19.5, 20.2, 21.4, 19.9, 19. , 19.1, 19.1, 20.1, 19.9, 19.6, 23.2,\n",
       "        29.8, 13.8, 13.3, 16.7, 12. , 14.6, 21.4, 23. , 23.7, 25. , 21.8,\n",
       "        20.6, 21.2, 19.1, 20.6, 15.2,  7. ,  8.1, 13.6, 20.1, 21.8, 24.5,\n",
       "        23.1, 19.7, 18.3, 21.2, 17.5, 16.8, 22.4, 20.6, 23.9, 22. , 11.9])}"
      ]
     },
     "execution_count": 49,
     "metadata": {},
     "output_type": "execute_result"
    }
   ],
   "source": [
    "bos"
   ]
  },
  {
   "cell_type": "code",
   "execution_count": 50,
   "metadata": {},
   "outputs": [],
   "source": [
    "x = pd.DataFrame(bos['data'])"
   ]
  },
  {
   "cell_type": "code",
   "execution_count": 51,
   "metadata": {},
   "outputs": [],
   "source": [
    "x.columns = bos['feature_names']"
   ]
  },
  {
   "cell_type": "markdown",
   "metadata": {},
   "source": [
    "### This is a dataframe"
   ]
  },
  {
   "cell_type": "code",
   "execution_count": 52,
   "metadata": {},
   "outputs": [
    {
     "data": {
      "text/html": [
       "<div>\n",
       "<style scoped>\n",
       "    .dataframe tbody tr th:only-of-type {\n",
       "        vertical-align: middle;\n",
       "    }\n",
       "\n",
       "    .dataframe tbody tr th {\n",
       "        vertical-align: top;\n",
       "    }\n",
       "\n",
       "    .dataframe thead th {\n",
       "        text-align: right;\n",
       "    }\n",
       "</style>\n",
       "<table border=\"1\" class=\"dataframe\">\n",
       "  <thead>\n",
       "    <tr style=\"text-align: right;\">\n",
       "      <th></th>\n",
       "      <th>CRIM</th>\n",
       "      <th>ZN</th>\n",
       "      <th>INDUS</th>\n",
       "      <th>CHAS</th>\n",
       "      <th>NOX</th>\n",
       "      <th>RM</th>\n",
       "      <th>AGE</th>\n",
       "      <th>DIS</th>\n",
       "      <th>RAD</th>\n",
       "      <th>TAX</th>\n",
       "      <th>PTRATIO</th>\n",
       "      <th>B</th>\n",
       "      <th>LSTAT</th>\n",
       "    </tr>\n",
       "  </thead>\n",
       "  <tbody>\n",
       "    <tr>\n",
       "      <td>0</td>\n",
       "      <td>0.00632</td>\n",
       "      <td>18.0</td>\n",
       "      <td>2.31</td>\n",
       "      <td>0.0</td>\n",
       "      <td>0.538</td>\n",
       "      <td>6.575</td>\n",
       "      <td>65.2</td>\n",
       "      <td>4.0900</td>\n",
       "      <td>1.0</td>\n",
       "      <td>296.0</td>\n",
       "      <td>15.3</td>\n",
       "      <td>396.90</td>\n",
       "      <td>4.98</td>\n",
       "    </tr>\n",
       "    <tr>\n",
       "      <td>1</td>\n",
       "      <td>0.02731</td>\n",
       "      <td>0.0</td>\n",
       "      <td>7.07</td>\n",
       "      <td>0.0</td>\n",
       "      <td>0.469</td>\n",
       "      <td>6.421</td>\n",
       "      <td>78.9</td>\n",
       "      <td>4.9671</td>\n",
       "      <td>2.0</td>\n",
       "      <td>242.0</td>\n",
       "      <td>17.8</td>\n",
       "      <td>396.90</td>\n",
       "      <td>9.14</td>\n",
       "    </tr>\n",
       "    <tr>\n",
       "      <td>2</td>\n",
       "      <td>0.02729</td>\n",
       "      <td>0.0</td>\n",
       "      <td>7.07</td>\n",
       "      <td>0.0</td>\n",
       "      <td>0.469</td>\n",
       "      <td>7.185</td>\n",
       "      <td>61.1</td>\n",
       "      <td>4.9671</td>\n",
       "      <td>2.0</td>\n",
       "      <td>242.0</td>\n",
       "      <td>17.8</td>\n",
       "      <td>392.83</td>\n",
       "      <td>4.03</td>\n",
       "    </tr>\n",
       "    <tr>\n",
       "      <td>3</td>\n",
       "      <td>0.03237</td>\n",
       "      <td>0.0</td>\n",
       "      <td>2.18</td>\n",
       "      <td>0.0</td>\n",
       "      <td>0.458</td>\n",
       "      <td>6.998</td>\n",
       "      <td>45.8</td>\n",
       "      <td>6.0622</td>\n",
       "      <td>3.0</td>\n",
       "      <td>222.0</td>\n",
       "      <td>18.7</td>\n",
       "      <td>394.63</td>\n",
       "      <td>2.94</td>\n",
       "    </tr>\n",
       "    <tr>\n",
       "      <td>4</td>\n",
       "      <td>0.06905</td>\n",
       "      <td>0.0</td>\n",
       "      <td>2.18</td>\n",
       "      <td>0.0</td>\n",
       "      <td>0.458</td>\n",
       "      <td>7.147</td>\n",
       "      <td>54.2</td>\n",
       "      <td>6.0622</td>\n",
       "      <td>3.0</td>\n",
       "      <td>222.0</td>\n",
       "      <td>18.7</td>\n",
       "      <td>396.90</td>\n",
       "      <td>5.33</td>\n",
       "    </tr>\n",
       "  </tbody>\n",
       "</table>\n",
       "</div>"
      ],
      "text/plain": [
       "      CRIM    ZN  INDUS  CHAS    NOX     RM   AGE     DIS  RAD    TAX  \\\n",
       "0  0.00632  18.0   2.31   0.0  0.538  6.575  65.2  4.0900  1.0  296.0   \n",
       "1  0.02731   0.0   7.07   0.0  0.469  6.421  78.9  4.9671  2.0  242.0   \n",
       "2  0.02729   0.0   7.07   0.0  0.469  7.185  61.1  4.9671  2.0  242.0   \n",
       "3  0.03237   0.0   2.18   0.0  0.458  6.998  45.8  6.0622  3.0  222.0   \n",
       "4  0.06905   0.0   2.18   0.0  0.458  7.147  54.2  6.0622  3.0  222.0   \n",
       "\n",
       "   PTRATIO       B  LSTAT  \n",
       "0     15.3  396.90   4.98  \n",
       "1     17.8  396.90   9.14  \n",
       "2     17.8  392.83   4.03  \n",
       "3     18.7  394.63   2.94  \n",
       "4     18.7  396.90   5.33  "
      ]
     },
     "execution_count": 52,
     "metadata": {},
     "output_type": "execute_result"
    }
   ],
   "source": [
    "x.head()"
   ]
  },
  {
   "cell_type": "markdown",
   "metadata": {},
   "source": [
    "### This is an array"
   ]
  },
  {
   "cell_type": "code",
   "execution_count": 53,
   "metadata": {},
   "outputs": [],
   "source": [
    "y = bos['target']"
   ]
  },
  {
   "cell_type": "code",
   "execution_count": 54,
   "metadata": {},
   "outputs": [
    {
     "data": {
      "text/plain": [
       "array([24. , 21.6, 34.7, 33.4, 36.2, 28.7, 22.9, 27.1, 16.5, 18.9, 15. ,\n",
       "       18.9, 21.7, 20.4, 18.2, 19.9, 23.1, 17.5, 20.2, 18.2, 13.6, 19.6,\n",
       "       15.2, 14.5, 15.6, 13.9, 16.6, 14.8, 18.4, 21. , 12.7, 14.5, 13.2,\n",
       "       13.1, 13.5, 18.9, 20. , 21. , 24.7, 30.8, 34.9, 26.6, 25.3, 24.7,\n",
       "       21.2, 19.3, 20. , 16.6, 14.4, 19.4, 19.7, 20.5, 25. , 23.4, 18.9,\n",
       "       35.4, 24.7, 31.6, 23.3, 19.6, 18.7, 16. , 22.2, 25. , 33. , 23.5,\n",
       "       19.4, 22. , 17.4, 20.9, 24.2, 21.7, 22.8, 23.4, 24.1, 21.4, 20. ,\n",
       "       20.8, 21.2, 20.3, 28. , 23.9, 24.8, 22.9, 23.9, 26.6, 22.5, 22.2,\n",
       "       23.6, 28.7, 22.6, 22. , 22.9, 25. , 20.6, 28.4, 21.4, 38.7, 43.8,\n",
       "       33.2, 27.5, 26.5, 18.6, 19.3, 20.1, 19.5, 19.5, 20.4, 19.8, 19.4,\n",
       "       21.7, 22.8, 18.8, 18.7, 18.5, 18.3, 21.2, 19.2, 20.4, 19.3, 22. ,\n",
       "       20.3, 20.5, 17.3, 18.8, 21.4, 15.7, 16.2, 18. , 14.3, 19.2, 19.6,\n",
       "       23. , 18.4, 15.6, 18.1, 17.4, 17.1, 13.3, 17.8, 14. , 14.4, 13.4,\n",
       "       15.6, 11.8, 13.8, 15.6, 14.6, 17.8, 15.4, 21.5, 19.6, 15.3, 19.4,\n",
       "       17. , 15.6, 13.1, 41.3, 24.3, 23.3, 27. , 50. , 50. , 50. , 22.7,\n",
       "       25. , 50. , 23.8, 23.8, 22.3, 17.4, 19.1, 23.1, 23.6, 22.6, 29.4,\n",
       "       23.2, 24.6, 29.9, 37.2, 39.8, 36.2, 37.9, 32.5, 26.4, 29.6, 50. ,\n",
       "       32. , 29.8, 34.9, 37. , 30.5, 36.4, 31.1, 29.1, 50. , 33.3, 30.3,\n",
       "       34.6, 34.9, 32.9, 24.1, 42.3, 48.5, 50. , 22.6, 24.4, 22.5, 24.4,\n",
       "       20. , 21.7, 19.3, 22.4, 28.1, 23.7, 25. , 23.3, 28.7, 21.5, 23. ,\n",
       "       26.7, 21.7, 27.5, 30.1, 44.8, 50. , 37.6, 31.6, 46.7, 31.5, 24.3,\n",
       "       31.7, 41.7, 48.3, 29. , 24. , 25.1, 31.5, 23.7, 23.3, 22. , 20.1,\n",
       "       22.2, 23.7, 17.6, 18.5, 24.3, 20.5, 24.5, 26.2, 24.4, 24.8, 29.6,\n",
       "       42.8, 21.9, 20.9, 44. , 50. , 36. , 30.1, 33.8, 43.1, 48.8, 31. ,\n",
       "       36.5, 22.8, 30.7, 50. , 43.5, 20.7, 21.1, 25.2, 24.4, 35.2, 32.4,\n",
       "       32. , 33.2, 33.1, 29.1, 35.1, 45.4, 35.4, 46. , 50. , 32.2, 22. ,\n",
       "       20.1, 23.2, 22.3, 24.8, 28.5, 37.3, 27.9, 23.9, 21.7, 28.6, 27.1,\n",
       "       20.3, 22.5, 29. , 24.8, 22. , 26.4, 33.1, 36.1, 28.4, 33.4, 28.2,\n",
       "       22.8, 20.3, 16.1, 22.1, 19.4, 21.6, 23.8, 16.2, 17.8, 19.8, 23.1,\n",
       "       21. , 23.8, 23.1, 20.4, 18.5, 25. , 24.6, 23. , 22.2, 19.3, 22.6,\n",
       "       19.8, 17.1, 19.4, 22.2, 20.7, 21.1, 19.5, 18.5, 20.6, 19. , 18.7,\n",
       "       32.7, 16.5, 23.9, 31.2, 17.5, 17.2, 23.1, 24.5, 26.6, 22.9, 24.1,\n",
       "       18.6, 30.1, 18.2, 20.6, 17.8, 21.7, 22.7, 22.6, 25. , 19.9, 20.8,\n",
       "       16.8, 21.9, 27.5, 21.9, 23.1, 50. , 50. , 50. , 50. , 50. , 13.8,\n",
       "       13.8, 15. , 13.9, 13.3, 13.1, 10.2, 10.4, 10.9, 11.3, 12.3,  8.8,\n",
       "        7.2, 10.5,  7.4, 10.2, 11.5, 15.1, 23.2,  9.7, 13.8, 12.7, 13.1,\n",
       "       12.5,  8.5,  5. ,  6.3,  5.6,  7.2, 12.1,  8.3,  8.5,  5. , 11.9,\n",
       "       27.9, 17.2, 27.5, 15. , 17.2, 17.9, 16.3,  7. ,  7.2,  7.5, 10.4,\n",
       "        8.8,  8.4, 16.7, 14.2, 20.8, 13.4, 11.7,  8.3, 10.2, 10.9, 11. ,\n",
       "        9.5, 14.5, 14.1, 16.1, 14.3, 11.7, 13.4,  9.6,  8.7,  8.4, 12.8,\n",
       "       10.5, 17.1, 18.4, 15.4, 10.8, 11.8, 14.9, 12.6, 14.1, 13. , 13.4,\n",
       "       15.2, 16.1, 17.8, 14.9, 14.1, 12.7, 13.5, 14.9, 20. , 16.4, 17.7,\n",
       "       19.5, 20.2, 21.4, 19.9, 19. , 19.1, 19.1, 20.1, 19.9, 19.6, 23.2,\n",
       "       29.8, 13.8, 13.3, 16.7, 12. , 14.6, 21.4, 23. , 23.7, 25. , 21.8,\n",
       "       20.6, 21.2, 19.1, 20.6, 15.2,  7. ,  8.1, 13.6, 20.1, 21.8, 24.5,\n",
       "       23.1, 19.7, 18.3, 21.2, 17.5, 16.8, 22.4, 20.6, 23.9, 22. , 11.9])"
      ]
     },
     "execution_count": 54,
     "metadata": {},
     "output_type": "execute_result"
    }
   ],
   "source": [
    "y"
   ]
  },
  {
   "cell_type": "markdown",
   "metadata": {},
   "source": [
    "## Scale Data\n",
    "Neural Networks are especially sensitive to data scaling.  Nearly all the activation functions saturate at (0,1) or (-1,1)."
   ]
  },
  {
   "cell_type": "code",
   "execution_count": 58,
   "metadata": {},
   "outputs": [
    {
     "name": "stdout",
     "output_type": "stream",
     "text": [
      "Note: median values were scaled by multiplying by 0.0275938190 and adding -0.047737\n"
     ]
    }
   ],
   "source": [
    "from sklearn.preprocessing import MinMaxScaler\n",
    "\n",
    "scaler = MinMaxScaler(feature_range=(0,1))\n",
    "scaled_train = scaler.fit_transform(x)\n",
    "\n",
    "# Print out the adjustment that the scaler applied to the total_earnings column of data\n",
    "print(\"Note: median values were scaled by multiplying by {:.10f} and adding {:.6f}\".format(scaler.scale_[12],scaler.min_[12]))\n",
    "multiplied_by = scaler.scale_[12]\n",
    "added = scaler.min_[12]\n",
    "\n",
    "scaled_train_df = pd.DataFrame(scaled_train, columns = x.columns.values)\n"
   ]
  },
  {
   "cell_type": "code",
   "execution_count": 59,
   "metadata": {},
   "outputs": [],
   "source": [
    "import matplotlib.pyplot as plt\n",
    "%matplotlib inline"
   ]
  },
  {
   "cell_type": "code",
   "execution_count": 60,
   "metadata": {},
   "outputs": [
    {
     "data": {
      "image/png": "[encoded data removed]",
      "text/plain": [
       "<Figure size 432x288 with 1 Axes>"
      ]
     },
     "metadata": {
      "needs_background": "light"
     },
     "output_type": "display_data"
    },
    {
     "data": {
      "image/png": "[encoded data removed]",
      "text/plain": [
       "<Figure size 432x288 with 1 Axes>"
      ]
     },
     "metadata": {
      "needs_background": "light"
     },
     "output_type": "display_data"
    },
    {
     "data": {
      "image/png": "[encoded data removed]",
      "text/plain": [
       "<Figure size 432x288 with 1 Axes>"
      ]
     },
     "metadata": {
      "needs_background": "light"
     },
     "output_type": "display_data"
    },
    {
     "data": {
      "image/png": "[encoded data removed]",
      "text/plain": [
       "<Figure size 432x288 with 1 Axes>"
      ]
     },
     "metadata": {
      "needs_background": "light"
     },
     "output_type": "display_data"
    },
    {
     "data": {
      "image/png": "[encoded data removed]",
      "text/plain": [
       "<Figure size 432x288 with 1 Axes>"
      ]
     },
     "metadata": {
      "needs_background": "light"
     },
     "output_type": "display_data"
    },
    {
     "data": {
      "image/png": "[encoded data removed]",
      "text/plain": [
       "<Figure size 432x288 with 1 Axes>"
      ]
     },
     "metadata": {
      "needs_background": "light"
     },
     "output_type": "display_data"
    },
    {
     "data": {
      "image/png": "[encoded data removed]",
      "text/plain": [
       "<Figure size 432x288 with 1 Axes>"
      ]
     },
     "metadata": {
      "needs_background": "light"
     },
     "output_type": "display_data"
    },
    {
     "data": {
      "image/png": "[encoded data removed]",
      "text/plain": [
       "<Figure size 432x288 with 1 Axes>"
      ]
     },
     "metadata": {
      "needs_background": "light"
     },
     "output_type": "display_data"
    },
    {
     "data": {
      "image/png": "[encoded data removed]",
      "text/plain": [
       "<Figure size 432x288 with 1 Axes>"
      ]
     },
     "metadata": {
      "needs_background": "light"
     },
     "output_type": "display_data"
    },
    {
     "data": {
      "image/png": "[encoded data removed]",
      "text/plain": [
       "<Figure size 432x288 with 1 Axes>"
      ]
     },
     "metadata": {
      "needs_background": "light"
     },
     "output_type": "display_data"
    },
    {
     "data": {
      "image/png": "[encoded data removed]",
      "text/plain": [
       "<Figure size 432x288 with 1 Axes>"
      ]
     },
     "metadata": {
      "needs_background": "light"
     },
     "output_type": "display_data"
    },
    {
     "data": {
      "image/png": "[encoded data removed]",
      "text/plain": [
       "<Figure size 432x288 with 1 Axes>"
      ]
     },
     "metadata": {
      "needs_background": "light"
     },
     "output_type": "display_data"
    },
    {
     "data": {
      "image/png": "[encoded data removed]",
      "text/plain": [
       "<Figure size 432x288 with 1 Axes>"
      ]
     },
     "metadata": {
      "needs_background": "light"
     },
     "output_type": "display_data"
    }
   ],
   "source": [
    "for i in scaled_train_df:\n",
    "    scaled_train_df[i].hist()\n",
    "    plt.show()"
   ]
  },
  {
   "cell_type": "markdown",
   "metadata": {},
   "source": [
    "## Model\n",
    "Alright, lets get down to business.  We will use the Sequential() class to build a model.  This means we just add layer after layer to the model (in order).\n",
    "\n",
    "Note that this is NOT the keras package proper.  This is an implementation of the Keras API in TensorFlow.  They are closely related, but this IS TensorFlow (package), not Keras (package).\n",
    "\n",
    "https://www.tensorflow.org/api_docs/python/tf/keras/Model"
   ]
  },
  {
   "cell_type": "code",
   "execution_count": 45,
   "metadata": {},
   "outputs": [],
   "source": [
    "model = tf.keras.Sequential()\n",
    "\n",
    "model.add(layers.Dense(10, activation = 'sigmoid'))\n",
    "model.add(layers.Dense(1))"
   ]
  },
  {
   "cell_type": "markdown",
   "metadata": {},
   "source": [
    "## Compile Model\n",
    "The compile step adds an optimizer (solver) and your loss metrics."
   ]
  },
  {
   "cell_type": "code",
   "execution_count": 46,
   "metadata": {},
   "outputs": [],
   "source": [
    "model.compile(optimizer='sgd',\n",
    "             loss = 'mean_squared_error',\n",
    "             metrics = ['mean_squared_error'])"
   ]
  },
  {
   "cell_type": "markdown",
   "metadata": {},
   "source": [
    "## Fit Model\n",
    "Now it is time to train."
   ]
  },
  {
   "cell_type": "code",
   "execution_count": 61,
   "metadata": {},
   "outputs": [
    {
     "name": "stdout",
     "output_type": "stream",
     "text": [
      "Train on 506 samples\n",
      "Epoch 1/10\n",
      "506/506 [==============================] - 0s 472us/sample - loss: 257.3044 - mean_squared_error: 257.3044\n",
      "Epoch 2/10\n",
      "506/506 [==============================] - 0s 42us/sample - loss: 82.8855 - mean_squared_error: 82.8855\n",
      "Epoch 3/10\n",
      "506/506 [==============================] - 0s 44us/sample - loss: 74.5082 - mean_squared_error: 74.5082\n",
      "Epoch 4/10\n",
      "506/506 [==============================] - 0s 44us/sample - loss: 66.7851 - mean_squared_error: 66.7851\n",
      "Epoch 5/10\n",
      "506/506 [==============================] - 0s 48us/sample - loss: 60.7897 - mean_squared_error: 60.7897\n",
      "Epoch 6/10\n",
      "506/506 [==============================] - 0s 42us/sample - loss: 56.0027 - mean_squared_error: 56.0027\n",
      "Epoch 7/10\n",
      "506/506 [==============================] - 0s 47us/sample - loss: 52.3155 - mean_squared_error: 52.3155\n",
      "Epoch 8/10\n",
      "506/506 [==============================] - 0s 48us/sample - loss: 48.7813 - mean_squared_error: 48.7813\n",
      "Epoch 9/10\n",
      "506/506 [==============================] - 0s 53us/sample - loss: 46.2986 - mean_squared_error: 46.2986\n",
      "Epoch 10/10\n",
      "506/506 [==============================] - 0s 52us/sample - loss: 43.7129 - mean_squared_error: 43.7129\n"
     ]
    },
    {
     "data": {
      "text/plain": [
       "<tensorflow.python.keras.callbacks.History at 0x13f0a29b0>"
      ]
     },
     "execution_count": 61,
     "metadata": {},
     "output_type": "execute_result"
    }
   ],
   "source": [
    "model.fit(scaled_train_df.values, y, epochs=10, batch_size=32)"
   ]
  },
  {
   "cell_type": "markdown",
   "metadata": {},
   "source": [
    "## Visualize the data\n",
    "TensorBoard allows you to look at your training curves in real time.  All we need to do here is add a \"callback\" that is executed every epoch.  TensorBoard writes a summary of the model output.  If you manually build a neural network, you need to add tf.summary operations."
   ]
  },
  {
   "cell_type": "code",
   "execution_count": 63,
   "metadata": {},
   "outputs": [],
   "source": [
    "from tensorflow.keras.callbacks import TensorBoard\n",
    "\n",
    "log_dir = 'logs'\n",
    "tb = TensorBoard(log_dir=log_dir, histogram_freq=1)"
   ]
  },
  {
   "cell_type": "markdown",
   "metadata": {},
   "source": [
    "**In your terminal, you'll need to tell TensorBoard where your logs are being stored**\n",
    "\n",
    "Ex. CUS_C02VJ0NQHTDF:~ bblanchard006$ tensorboard --logdir /Users/bblanop/SMU/QTW/logs"
   ]
  },
  {
   "cell_type": "code",
   "execution_count": 64,
   "metadata": {},
   "outputs": [],
   "source": [
    "model.compile(optimizer=tf.optimizers.SGD(0.001),\n",
    "             loss='mean_squared_error',\n",
    "             metrics=['mean_squared_error'])"
   ]
  },
  {
   "cell_type": "code",
   "execution_count": 65,
   "metadata": {},
   "outputs": [
    {
     "name": "stdout",
     "output_type": "stream",
     "text": [
      "Train on 506 samples\n",
      "Epoch 1/100\n",
      "506/506 [==============================] - 0s 497us/sample - loss: 42.2873 - mean_squared_error: 42.2873\n",
      "Epoch 2/100\n",
      "506/506 [==============================] - 0s 66us/sample - loss: 41.8867 - mean_squared_error: 41.8867\n",
      "Epoch 3/100\n",
      "506/506 [==============================] - 0s 73us/sample - loss: 41.4994 - mean_squared_error: 41.4994\n",
      "Epoch 4/100\n",
      "506/506 [==============================] - 0s 66us/sample - loss: 41.1894 - mean_squared_error: 41.1894\n",
      "Epoch 5/100\n",
      "506/506 [==============================] - 0s 61us/sample - loss: 40.8574 - mean_squared_error: 40.8574\n",
      "Epoch 6/100\n",
      "506/506 [==============================] - 0s 65us/sample - loss: 40.5303 - mean_squared_error: 40.5303\n",
      "Epoch 7/100\n",
      "506/506 [==============================] - 0s 61us/sample - loss: 40.2342 - mean_squared_error: 40.2342\n",
      "Epoch 8/100\n",
      "506/506 [==============================] - 0s 59us/sample - loss: 39.9019 - mean_squared_error: 39.9019\n",
      "Epoch 9/100\n",
      "506/506 [==============================] - 0s 63us/sample - loss: 39.6129 - mean_squared_error: 39.6129\n",
      "Epoch 10/100\n",
      "506/506 [==============================] - 0s 64us/sample - loss: 39.2877 - mean_squared_error: 39.2877\n",
      "Epoch 11/100\n",
      "506/506 [==============================] - 0s 65us/sample - loss: 39.0133 - mean_squared_error: 39.0133\n",
      "Epoch 12/100\n",
      "506/506 [==============================] - 0s 61us/sample - loss: 38.6976 - mean_squared_error: 38.6976\n",
      "Epoch 13/100\n",
      "506/506 [==============================] - 0s 62us/sample - loss: 38.4187 - mean_squared_error: 38.4187\n",
      "Epoch 14/100\n",
      "506/506 [==============================] - 0s 62us/sample - loss: 38.1478 - mean_squared_error: 38.1478\n",
      "Epoch 15/100\n",
      "506/506 [==============================] - 0s 59us/sample - loss: 37.8382 - mean_squared_error: 37.8382\n",
      "Epoch 16/100\n",
      "506/506 [==============================] - 0s 61us/sample - loss: 37.6007 - mean_squared_error: 37.6007\n",
      "Epoch 17/100\n",
      "506/506 [==============================] - 0s 68us/sample - loss: 37.2534 - mean_squared_error: 37.2534\n",
      "Epoch 18/100\n",
      "506/506 [==============================] - 0s 65us/sample - loss: 37.0222 - mean_squared_error: 37.0222\n",
      "Epoch 19/100\n",
      "506/506 [==============================] - 0s 66us/sample - loss: 36.6846 - mean_squared_error: 36.6846\n",
      "Epoch 20/100\n",
      "506/506 [==============================] - 0s 68us/sample - loss: 36.4853 - mean_squared_error: 36.4853\n",
      "Epoch 21/100\n",
      "506/506 [==============================] - 0s 71us/sample - loss: 36.1604 - mean_squared_error: 36.1604\n",
      "Epoch 22/100\n",
      "506/506 [==============================] - 0s 77us/sample - loss: 35.9281 - mean_squared_error: 35.9281\n",
      "Epoch 23/100\n",
      "506/506 [==============================] - 0s 81us/sample - loss: 35.6582 - mean_squared_error: 35.6582\n",
      "Epoch 24/100\n",
      "506/506 [==============================] - 0s 70us/sample - loss: 35.3822 - mean_squared_error: 35.3822\n",
      "Epoch 25/100\n",
      "506/506 [==============================] - 0s 66us/sample - loss: 35.1794 - mean_squared_error: 35.1794\n",
      "Epoch 26/100\n",
      "506/506 [==============================] - 0s 66us/sample - loss: 34.9088 - mean_squared_error: 34.9088\n",
      "Epoch 27/100\n",
      "506/506 [==============================] - 0s 66us/sample - loss: 34.6529 - mean_squared_error: 34.6529\n",
      "Epoch 28/100\n",
      "506/506 [==============================] - 0s 70us/sample - loss: 34.4494 - mean_squared_error: 34.4494\n",
      "Epoch 29/100\n",
      "506/506 [==============================] - 0s 72us/sample - loss: 34.1908 - mean_squared_error: 34.1908\n",
      "Epoch 30/100\n",
      "506/506 [==============================] - 0s 78us/sample - loss: 33.9563 - mean_squared_error: 33.9563\n",
      "Epoch 31/100\n",
      "506/506 [==============================] - 0s 67us/sample - loss: 33.7268 - mean_squared_error: 33.7268\n",
      "Epoch 32/100\n",
      "506/506 [==============================] - 0s 64us/sample - loss: 33.4598 - mean_squared_error: 33.4598\n",
      "Epoch 33/100\n",
      "506/506 [==============================] - 0s 61us/sample - loss: 33.3160 - mean_squared_error: 33.3160\n",
      "Epoch 34/100\n",
      "506/506 [==============================] - 0s 65us/sample - loss: 33.0250 - mean_squared_error: 33.0250\n",
      "Epoch 35/100\n",
      "506/506 [==============================] - 0s 59us/sample - loss: 32.8320 - mean_squared_error: 32.8320\n",
      "Epoch 36/100\n",
      "506/506 [==============================] - 0s 75us/sample - loss: 32.5737 - mean_squared_error: 32.5737\n",
      "Epoch 37/100\n",
      "506/506 [==============================] - 0s 67us/sample - loss: 32.3716 - mean_squared_error: 32.3716\n",
      "Epoch 38/100\n",
      "506/506 [==============================] - 0s 63us/sample - loss: 32.1573 - mean_squared_error: 32.1573\n",
      "Epoch 39/100\n",
      "506/506 [==============================] - 0s 66us/sample - loss: 31.9963 - mean_squared_error: 31.9963\n",
      "Epoch 40/100\n",
      "506/506 [==============================] - 0s 63us/sample - loss: 31.7345 - mean_squared_error: 31.7345\n",
      "Epoch 41/100\n",
      "506/506 [==============================] - 0s 64us/sample - loss: 31.5367 - mean_squared_error: 31.5367\n",
      "Epoch 42/100\n",
      "506/506 [==============================] - 0s 60us/sample - loss: 31.3342 - mean_squared_error: 31.3342\n",
      "Epoch 43/100\n",
      "506/506 [==============================] - 0s 62us/sample - loss: 31.1963 - mean_squared_error: 31.1963\n",
      "Epoch 44/100\n",
      "506/506 [==============================] - 0s 62us/sample - loss: 30.9553 - mean_squared_error: 30.9553\n",
      "Epoch 45/100\n",
      "506/506 [==============================] - 0s 58us/sample - loss: 30.7272 - mean_squared_error: 30.7272\n",
      "Epoch 46/100\n",
      "506/506 [==============================] - 0s 62us/sample - loss: 30.5812 - mean_squared_error: 30.5812\n",
      "Epoch 47/100\n",
      "506/506 [==============================] - 0s 60us/sample - loss: 30.3388 - mean_squared_error: 30.3388\n",
      "Epoch 48/100\n",
      "506/506 [==============================] - 0s 60us/sample - loss: 30.1584 - mean_squared_error: 30.1584\n",
      "Epoch 49/100\n",
      "506/506 [==============================] - 0s 63us/sample - loss: 29.9953 - mean_squared_error: 29.9953\n",
      "Epoch 50/100\n",
      "506/506 [==============================] - 0s 60us/sample - loss: 29.8394 - mean_squared_error: 29.8394\n",
      "Epoch 51/100\n",
      "506/506 [==============================] - 0s 58us/sample - loss: 29.6144 - mean_squared_error: 29.6144\n",
      "Epoch 52/100\n",
      "506/506 [==============================] - 0s 55us/sample - loss: 29.4736 - mean_squared_error: 29.4736\n",
      "Epoch 53/100\n",
      "506/506 [==============================] - 0s 57us/sample - loss: 29.2607 - mean_squared_error: 29.2607\n",
      "Epoch 54/100\n",
      "506/506 [==============================] - 0s 60us/sample - loss: 29.0947 - mean_squared_error: 29.0947\n",
      "Epoch 55/100\n",
      "506/506 [==============================] - 0s 59us/sample - loss: 28.8922 - mean_squared_error: 28.8922\n",
      "Epoch 56/100\n",
      "506/506 [==============================] - 0s 57us/sample - loss: 28.7257 - mean_squared_error: 28.7257\n",
      "Epoch 57/100\n",
      "506/506 [==============================] - 0s 60us/sample - loss: 28.5705 - mean_squared_error: 28.5705\n",
      "Epoch 58/100\n",
      "506/506 [==============================] - 0s 69us/sample - loss: 28.4039 - mean_squared_error: 28.4039\n",
      "Epoch 59/100\n",
      "506/506 [==============================] - 0s 65us/sample - loss: 28.2482 - mean_squared_error: 28.2482\n",
      "Epoch 60/100\n",
      "506/506 [==============================] - 0s 61us/sample - loss: 28.1144 - mean_squared_error: 28.1144\n",
      "Epoch 61/100\n",
      "506/506 [==============================] - 0s 63us/sample - loss: 27.9241 - mean_squared_error: 27.9241\n",
      "Epoch 62/100\n",
      "506/506 [==============================] - 0s 63us/sample - loss: 27.7810 - mean_squared_error: 27.7810\n",
      "Epoch 63/100\n",
      "506/506 [==============================] - ETA: 0s - loss: 24.8033 - mean_squared_error: 24.80 - 0s 66us/sample - loss: 27.6124 - mean_squared_error: 27.6124\n",
      "Epoch 64/100\n",
      "506/506 [==============================] - 0s 63us/sample - loss: 27.5042 - mean_squared_error: 27.5042\n",
      "Epoch 65/100\n",
      "506/506 [==============================] - 0s 65us/sample - loss: 27.3002 - mean_squared_error: 27.3002\n",
      "Epoch 66/100\n",
      "506/506 [==============================] - 0s 62us/sample - loss: 27.1580 - mean_squared_error: 27.1580\n",
      "Epoch 67/100\n",
      "506/506 [==============================] - 0s 59us/sample - loss: 27.0237 - mean_squared_error: 27.0237\n",
      "Epoch 68/100\n",
      "506/506 [==============================] - 0s 65us/sample - loss: 26.8931 - mean_squared_error: 26.8931\n",
      "Epoch 69/100\n",
      "506/506 [==============================] - 0s 63us/sample - loss: 26.7530 - mean_squared_error: 26.7530\n",
      "Epoch 70/100\n"
     ]
    },
    {
     "name": "stdout",
     "output_type": "stream",
     "text": [
      "506/506 [==============================] - 0s 64us/sample - loss: 26.5744 - mean_squared_error: 26.5744\n",
      "Epoch 71/100\n",
      "506/506 [==============================] - 0s 62us/sample - loss: 26.4696 - mean_squared_error: 26.4696\n",
      "Epoch 72/100\n",
      "506/506 [==============================] - 0s 57us/sample - loss: 26.3596 - mean_squared_error: 26.3597\n",
      "Epoch 73/100\n",
      "506/506 [==============================] - 0s 63us/sample - loss: 26.1968 - mean_squared_error: 26.1968\n",
      "Epoch 74/100\n",
      "506/506 [==============================] - 0s 62us/sample - loss: 26.1032 - mean_squared_error: 26.1032\n",
      "Epoch 75/100\n",
      "506/506 [==============================] - 0s 63us/sample - loss: 25.9517 - mean_squared_error: 25.9517\n",
      "Epoch 76/100\n",
      "506/506 [==============================] - 0s 61us/sample - loss: 25.8241 - mean_squared_error: 25.8241\n",
      "Epoch 77/100\n",
      "506/506 [==============================] - 0s 66us/sample - loss: 25.7309 - mean_squared_error: 25.7309\n",
      "Epoch 78/100\n",
      "506/506 [==============================] - 0s 67us/sample - loss: 25.6232 - mean_squared_error: 25.6232\n",
      "Epoch 79/100\n",
      "506/506 [==============================] - 0s 72us/sample - loss: 25.4973 - mean_squared_error: 25.4973\n",
      "Epoch 80/100\n",
      "506/506 [==============================] - 0s 64us/sample - loss: 25.2860 - mean_squared_error: 25.2860\n",
      "Epoch 81/100\n",
      "506/506 [==============================] - 0s 61us/sample - loss: 25.2048 - mean_squared_error: 25.2048\n",
      "Epoch 82/100\n",
      "506/506 [==============================] - 0s 59us/sample - loss: 25.1068 - mean_squared_error: 25.1068\n",
      "Epoch 83/100\n",
      "506/506 [==============================] - 0s 55us/sample - loss: 24.9644 - mean_squared_error: 24.9644\n",
      "Epoch 84/100\n",
      "506/506 [==============================] - 0s 59us/sample - loss: 24.8485 - mean_squared_error: 24.8485\n",
      "Epoch 85/100\n",
      "506/506 [==============================] - 0s 60us/sample - loss: 24.7438 - mean_squared_error: 24.7438\n",
      "Epoch 86/100\n",
      "506/506 [==============================] - 0s 58us/sample - loss: 24.6770 - mean_squared_error: 24.6770\n",
      "Epoch 87/100\n",
      "506/506 [==============================] - 0s 56us/sample - loss: 24.5391 - mean_squared_error: 24.5391\n",
      "Epoch 88/100\n",
      "506/506 [==============================] - 0s 57us/sample - loss: 24.4379 - mean_squared_error: 24.4379\n",
      "Epoch 89/100\n",
      "506/506 [==============================] - 0s 59us/sample - loss: 24.3305 - mean_squared_error: 24.3305\n",
      "Epoch 90/100\n",
      "506/506 [==============================] - 0s 60us/sample - loss: 24.2451 - mean_squared_error: 24.2451\n",
      "Epoch 91/100\n",
      "506/506 [==============================] - 0s 59us/sample - loss: 24.1259 - mean_squared_error: 24.1259\n",
      "Epoch 92/100\n",
      "506/506 [==============================] - 0s 60us/sample - loss: 24.0544 - mean_squared_error: 24.0544\n",
      "Epoch 93/100\n",
      "506/506 [==============================] - 0s 55us/sample - loss: 23.9636 - mean_squared_error: 23.9636\n",
      "Epoch 94/100\n",
      "506/506 [==============================] - 0s 60us/sample - loss: 23.8142 - mean_squared_error: 23.8142\n",
      "Epoch 95/100\n",
      "506/506 [==============================] - 0s 59us/sample - loss: 23.8052 - mean_squared_error: 23.8052\n",
      "Epoch 96/100\n",
      "506/506 [==============================] - 0s 57us/sample - loss: 23.6925 - mean_squared_error: 23.6925\n",
      "Epoch 97/100\n",
      "506/506 [==============================] - 0s 71us/sample - loss: 23.5348 - mean_squared_error: 23.5348\n",
      "Epoch 98/100\n",
      "506/506 [==============================] - 0s 60us/sample - loss: 23.4981 - mean_squared_error: 23.4981\n",
      "Epoch 99/100\n",
      "506/506 [==============================] - 0s 59us/sample - loss: 23.4150 - mean_squared_error: 23.4150\n",
      "Epoch 100/100\n",
      "506/506 [==============================] - 0s 61us/sample - loss: 23.3040 - mean_squared_error: 23.3040\n"
     ]
    },
    {
     "data": {
      "text/plain": [
       "<tensorflow.python.keras.callbacks.History at 0x14228a438>"
      ]
     },
     "execution_count": 65,
     "metadata": {},
     "output_type": "execute_result"
    }
   ],
   "source": [
    "model.fit(scaled_train_df.values, y, epochs=100, batch_size=20, callbacks=[tb])"
   ]
  },
  {
   "cell_type": "markdown",
   "metadata": {},
   "source": [
    "## Validate!\n",
    "SO far we have used the entire dataset to train.  We know that this is not acceptable.  In Neural Networks, rather than a cross validation, a validation split is done.  Lets repeat the experiment with splits."
   ]
  },
  {
   "cell_type": "code",
   "execution_count": 66,
   "metadata": {},
   "outputs": [],
   "source": [
    "from time import time\n",
    "from tensorflow.keras.callbacks import TensorBoard\n",
    "#tb = TensorBoard(log_dir=f\"logs\\\\{time()}\")\n",
    "tb = TensorBoard(log_dir=f\"logs\")"
   ]
  },
  {
   "cell_type": "code",
   "execution_count": 67,
   "metadata": {},
   "outputs": [],
   "source": [
    "from sklearn.model_selection import train_test_split\n",
    "x_train, x_test, y_train, y_test = train_test_split(scaled_train_df, y, test_size=0.20, random_state=101)"
   ]
  },
  {
   "cell_type": "code",
   "execution_count": 68,
   "metadata": {},
   "outputs": [],
   "source": [
    "model_final = tf.keras.Sequential()\n",
    "\n",
    "model_final.add(layers.Dense(100, activation='sigmoid'))\n",
    "model_final.add(layers.Dense(100, activation='sigmoid'))\n",
    "model_final.add(layers.Dense(1))"
   ]
  },
  {
   "cell_type": "code",
   "execution_count": 69,
   "metadata": {},
   "outputs": [],
   "source": [
    "model_final.compile(optimizer=tf.optimizers.SGD(0.001),\n",
    "             loss='mean_squared_error',\n",
    "             metrics=['mean_squared_error'])"
   ]
  },
  {
   "cell_type": "code",
   "execution_count": 70,
   "metadata": {},
   "outputs": [
    {
     "name": "stdout",
     "output_type": "stream",
     "text": [
      "Train on 404 samples, validate on 102 samples\n",
      "Epoch 1/100\n",
      "404/404 [==============================] - 0s 1ms/sample - loss: 271.1727 - mean_squared_error: 271.1727 - val_loss: 140.6722 - val_mean_squared_error: 140.6722\n",
      "Epoch 2/100\n",
      "404/404 [==============================] - 0s 107us/sample - loss: 82.8569 - mean_squared_error: 82.8569 - val_loss: 113.5467 - val_mean_squared_error: 113.5467\n",
      "Epoch 3/100\n",
      "404/404 [==============================] - 0s 125us/sample - loss: 76.9996 - mean_squared_error: 76.9996 - val_loss: 111.9876 - val_mean_squared_error: 111.9876\n",
      "Epoch 4/100\n",
      "404/404 [==============================] - 0s 122us/sample - loss: 77.4081 - mean_squared_error: 77.4081 - val_loss: 113.7988 - val_mean_squared_error: 113.7988\n",
      "Epoch 5/100\n",
      "404/404 [==============================] - 0s 116us/sample - loss: 77.0823 - mean_squared_error: 77.0823 - val_loss: 111.8420 - val_mean_squared_error: 111.8420\n",
      "Epoch 6/100\n",
      "404/404 [==============================] - 0s 119us/sample - loss: 76.9305 - mean_squared_error: 76.9305 - val_loss: 111.6116 - val_mean_squared_error: 111.6116\n",
      "Epoch 7/100\n",
      "404/404 [==============================] - 0s 128us/sample - loss: 76.8676 - mean_squared_error: 76.8676 - val_loss: 113.4221 - val_mean_squared_error: 113.4221\n",
      "Epoch 8/100\n",
      "404/404 [==============================] - 0s 124us/sample - loss: 76.8593 - mean_squared_error: 76.8593 - val_loss: 112.3253 - val_mean_squared_error: 112.3253\n",
      "Epoch 9/100\n",
      "404/404 [==============================] - 0s 128us/sample - loss: 76.5973 - mean_squared_error: 76.5973 - val_loss: 112.1360 - val_mean_squared_error: 112.1360\n",
      "Epoch 10/100\n",
      "404/404 [==============================] - 0s 135us/sample - loss: 76.3725 - mean_squared_error: 76.3725 - val_loss: 110.8851 - val_mean_squared_error: 110.8851\n",
      "Epoch 11/100\n",
      "404/404 [==============================] - 0s 114us/sample - loss: 76.2371 - mean_squared_error: 76.2371 - val_loss: 110.4584 - val_mean_squared_error: 110.4584\n",
      "Epoch 12/100\n",
      "404/404 [==============================] - 0s 113us/sample - loss: 75.9955 - mean_squared_error: 75.9955 - val_loss: 113.5219 - val_mean_squared_error: 113.5219\n",
      "Epoch 13/100\n",
      "404/404 [==============================] - 0s 109us/sample - loss: 76.1783 - mean_squared_error: 76.1783 - val_loss: 112.5526 - val_mean_squared_error: 112.5526\n",
      "Epoch 14/100\n",
      "404/404 [==============================] - 0s 106us/sample - loss: 75.9233 - mean_squared_error: 75.9233 - val_loss: 110.2143 - val_mean_squared_error: 110.2143\n",
      "Epoch 15/100\n",
      "404/404 [==============================] - 0s 125us/sample - loss: 75.7761 - mean_squared_error: 75.7761 - val_loss: 110.6105 - val_mean_squared_error: 110.6105\n",
      "Epoch 16/100\n",
      "404/404 [==============================] - 0s 128us/sample - loss: 75.5958 - mean_squared_error: 75.5958 - val_loss: 110.1451 - val_mean_squared_error: 110.1451\n",
      "Epoch 17/100\n",
      "404/404 [==============================] - 0s 127us/sample - loss: 75.2743 - mean_squared_error: 75.2743 - val_loss: 110.5022 - val_mean_squared_error: 110.5022\n",
      "Epoch 18/100\n",
      "404/404 [==============================] - 0s 113us/sample - loss: 75.0437 - mean_squared_error: 75.0437 - val_loss: 110.0334 - val_mean_squared_error: 110.0334\n",
      "Epoch 19/100\n",
      "404/404 [==============================] - 0s 139us/sample - loss: 74.8927 - mean_squared_error: 74.8927 - val_loss: 111.0863 - val_mean_squared_error: 111.0863\n",
      "Epoch 20/100\n",
      "404/404 [==============================] - 0s 114us/sample - loss: 75.0268 - mean_squared_error: 75.0268 - val_loss: 109.2919 - val_mean_squared_error: 109.2919\n",
      "Epoch 21/100\n",
      "404/404 [==============================] - 0s 133us/sample - loss: 74.3439 - mean_squared_error: 74.3440 - val_loss: 111.0061 - val_mean_squared_error: 111.0061\n",
      "Epoch 22/100\n",
      "404/404 [==============================] - 0s 122us/sample - loss: 74.1837 - mean_squared_error: 74.1837 - val_loss: 107.9322 - val_mean_squared_error: 107.9323\n",
      "Epoch 23/100\n",
      "404/404 [==============================] - 0s 115us/sample - loss: 74.1224 - mean_squared_error: 74.1224 - val_loss: 109.0521 - val_mean_squared_error: 109.0521\n",
      "Epoch 24/100\n",
      "404/404 [==============================] - 0s 107us/sample - loss: 74.1147 - mean_squared_error: 74.1147 - val_loss: 109.3048 - val_mean_squared_error: 109.3048\n",
      "Epoch 25/100\n",
      "404/404 [==============================] - 0s 106us/sample - loss: 73.5066 - mean_squared_error: 73.5066 - val_loss: 108.2457 - val_mean_squared_error: 108.2457\n",
      "Epoch 26/100\n",
      "404/404 [==============================] - 0s 105us/sample - loss: 73.3539 - mean_squared_error: 73.3539 - val_loss: 108.1624 - val_mean_squared_error: 108.1624\n",
      "Epoch 27/100\n",
      "404/404 [==============================] - 0s 117us/sample - loss: 73.1105 - mean_squared_error: 73.1105 - val_loss: 108.1070 - val_mean_squared_error: 108.1070\n",
      "Epoch 28/100\n",
      "404/404 [==============================] - 0s 115us/sample - loss: 72.9486 - mean_squared_error: 72.9486 - val_loss: 107.0272 - val_mean_squared_error: 107.0272\n",
      "Epoch 29/100\n",
      "404/404 [==============================] - 0s 122us/sample - loss: 72.6240 - mean_squared_error: 72.6240 - val_loss: 105.5763 - val_mean_squared_error: 105.5763\n",
      "Epoch 30/100\n",
      "404/404 [==============================] - 0s 118us/sample - loss: 72.0803 - mean_squared_error: 72.0803 - val_loss: 104.9985 - val_mean_squared_error: 104.9985\n",
      "Epoch 31/100\n",
      "404/404 [==============================] - 0s 113us/sample - loss: 72.0815 - mean_squared_error: 72.0815 - val_loss: 106.3078 - val_mean_squared_error: 106.3078\n",
      "Epoch 32/100\n",
      "404/404 [==============================] - 0s 116us/sample - loss: 71.6859 - mean_squared_error: 71.6859 - val_loss: 104.2266 - val_mean_squared_error: 104.2266\n",
      "Epoch 33/100\n",
      "404/404 [==============================] - 0s 119us/sample - loss: 71.1998 - mean_squared_error: 71.1998 - val_loss: 104.5702 - val_mean_squared_error: 104.5702\n",
      "Epoch 34/100\n",
      "404/404 [==============================] - 0s 111us/sample - loss: 71.0790 - mean_squared_error: 71.0790 - val_loss: 104.4415 - val_mean_squared_error: 104.4415\n",
      "Epoch 35/100\n",
      "404/404 [==============================] - 0s 105us/sample - loss: 70.5886 - mean_squared_error: 70.5886 - val_loss: 102.6293 - val_mean_squared_error: 102.6293\n",
      "Epoch 36/100\n",
      "404/404 [==============================] - 0s 103us/sample - loss: 70.2093 - mean_squared_error: 70.2093 - val_loss: 102.4541 - val_mean_squared_error: 102.4541\n",
      "Epoch 37/100\n",
      "404/404 [==============================] - 0s 105us/sample - loss: 69.8268 - mean_squared_error: 69.8268 - val_loss: 103.6445 - val_mean_squared_error: 103.6445\n",
      "Epoch 38/100\n",
      "404/404 [==============================] - 0s 100us/sample - loss: 69.3797 - mean_squared_error: 69.3797 - val_loss: 101.7591 - val_mean_squared_error: 101.7591\n",
      "Epoch 39/100\n",
      "404/404 [==============================] - 0s 99us/sample - loss: 68.9473 - mean_squared_error: 68.9473 - val_loss: 102.5022 - val_mean_squared_error: 102.5022\n",
      "Epoch 40/100\n",
      "404/404 [==============================] - 0s 118us/sample - loss: 68.4462 - mean_squared_error: 68.4462 - val_loss: 101.8830 - val_mean_squared_error: 101.8830\n",
      "Epoch 41/100\n",
      "404/404 [==============================] - 0s 107us/sample - loss: 67.9376 - mean_squared_error: 67.9376 - val_loss: 99.7904 - val_mean_squared_error: 99.7904\n",
      "Epoch 42/100\n",
      "404/404 [==============================] - 0s 107us/sample - loss: 67.3167 - mean_squared_error: 67.3167 - val_loss: 99.0662 - val_mean_squared_error: 99.0662\n",
      "Epoch 43/100\n",
      "404/404 [==============================] - 0s 104us/sample - loss: 66.8051 - mean_squared_error: 66.8051 - val_loss: 97.0467 - val_mean_squared_error: 97.0467\n",
      "Epoch 44/100\n",
      "404/404 [==============================] - 0s 107us/sample - loss: 66.5861 - mean_squared_error: 66.5861 - val_loss: 98.0033 - val_mean_squared_error: 98.0032\n",
      "Epoch 45/100\n",
      "404/404 [==============================] - 0s 108us/sample - loss: 65.6596 - mean_squared_error: 65.6596 - val_loss: 96.2592 - val_mean_squared_error: 96.2592\n",
      "Epoch 46/100\n",
      "404/404 [==============================] - 0s 122us/sample - loss: 64.9870 - mean_squared_error: 64.9870 - val_loss: 94.4028 - val_mean_squared_error: 94.4028\n",
      "Epoch 47/100\n",
      "404/404 [==============================] - 0s 119us/sample - loss: 64.2665 - mean_squared_error: 64.2665 - val_loss: 96.8652 - val_mean_squared_error: 96.8652\n"
     ]
    },
    {
     "name": "stdout",
     "output_type": "stream",
     "text": [
      "Epoch 48/100\n",
      "404/404 [==============================] - 0s 120us/sample - loss: 63.9428 - mean_squared_error: 63.9428 - val_loss: 95.2285 - val_mean_squared_error: 95.2285\n",
      "Epoch 49/100\n",
      "404/404 [==============================] - 0s 123us/sample - loss: 63.1691 - mean_squared_error: 63.1691 - val_loss: 93.1726 - val_mean_squared_error: 93.1726\n",
      "Epoch 50/100\n",
      "404/404 [==============================] - 0s 122us/sample - loss: 62.4041 - mean_squared_error: 62.4041 - val_loss: 91.5706 - val_mean_squared_error: 91.5706\n",
      "Epoch 51/100\n",
      "404/404 [==============================] - 0s 118us/sample - loss: 61.6637 - mean_squared_error: 61.6637 - val_loss: 89.6418 - val_mean_squared_error: 89.6418\n",
      "Epoch 52/100\n",
      "404/404 [==============================] - 0s 113us/sample - loss: 61.1156 - mean_squared_error: 61.1156 - val_loss: 91.2868 - val_mean_squared_error: 91.2867\n",
      "Epoch 53/100\n",
      "404/404 [==============================] - 0s 110us/sample - loss: 60.5351 - mean_squared_error: 60.5351 - val_loss: 89.2610 - val_mean_squared_error: 89.2610\n",
      "Epoch 54/100\n",
      "404/404 [==============================] - 0s 96us/sample - loss: 59.4848 - mean_squared_error: 59.4848 - val_loss: 86.5962 - val_mean_squared_error: 86.5962\n",
      "Epoch 55/100\n",
      "404/404 [==============================] - 0s 103us/sample - loss: 58.9025 - mean_squared_error: 58.9025 - val_loss: 87.9099 - val_mean_squared_error: 87.9099\n",
      "Epoch 56/100\n",
      "404/404 [==============================] - 0s 104us/sample - loss: 58.2226 - mean_squared_error: 58.2226 - val_loss: 84.5993 - val_mean_squared_error: 84.5993\n",
      "Epoch 57/100\n",
      "404/404 [==============================] - 0s 122us/sample - loss: 57.4088 - mean_squared_error: 57.4088 - val_loss: 84.7482 - val_mean_squared_error: 84.7482\n",
      "Epoch 58/100\n",
      "404/404 [==============================] - 0s 114us/sample - loss: 56.8282 - mean_squared_error: 56.8282 - val_loss: 82.8708 - val_mean_squared_error: 82.8708\n",
      "Epoch 59/100\n",
      "404/404 [==============================] - 0s 122us/sample - loss: 56.0360 - mean_squared_error: 56.0360 - val_loss: 82.1372 - val_mean_squared_error: 82.1372\n",
      "Epoch 60/100\n",
      "404/404 [==============================] - 0s 122us/sample - loss: 55.3743 - mean_squared_error: 55.3743 - val_loss: 83.8460 - val_mean_squared_error: 83.8460\n",
      "Epoch 61/100\n",
      "404/404 [==============================] - 0s 126us/sample - loss: 54.7411 - mean_squared_error: 54.7411 - val_loss: 79.5634 - val_mean_squared_error: 79.5634\n",
      "Epoch 62/100\n",
      "404/404 [==============================] - 0s 116us/sample - loss: 53.9242 - mean_squared_error: 53.9242 - val_loss: 77.7951 - val_mean_squared_error: 77.7951\n",
      "Epoch 63/100\n",
      "404/404 [==============================] - 0s 108us/sample - loss: 53.1344 - mean_squared_error: 53.1344 - val_loss: 78.2850 - val_mean_squared_error: 78.2850\n",
      "Epoch 64/100\n",
      "404/404 [==============================] - 0s 95us/sample - loss: 52.5031 - mean_squared_error: 52.5031 - val_loss: 76.3654 - val_mean_squared_error: 76.3654\n",
      "Epoch 65/100\n",
      "404/404 [==============================] - 0s 106us/sample - loss: 52.1278 - mean_squared_error: 52.1278 - val_loss: 76.0724 - val_mean_squared_error: 76.0724\n",
      "Epoch 66/100\n",
      "404/404 [==============================] - 0s 104us/sample - loss: 51.2983 - mean_squared_error: 51.2983 - val_loss: 74.4396 - val_mean_squared_error: 74.4396\n",
      "Epoch 67/100\n",
      "404/404 [==============================] - 0s 95us/sample - loss: 50.7973 - mean_squared_error: 50.7973 - val_loss: 74.5288 - val_mean_squared_error: 74.5288\n",
      "Epoch 68/100\n",
      "404/404 [==============================] - 0s 98us/sample - loss: 50.1374 - mean_squared_error: 50.1374 - val_loss: 72.7947 - val_mean_squared_error: 72.7947\n",
      "Epoch 69/100\n",
      "404/404 [==============================] - 0s 96us/sample - loss: 49.6082 - mean_squared_error: 49.6082 - val_loss: 73.2691 - val_mean_squared_error: 73.2691\n",
      "Epoch 70/100\n",
      "404/404 [==============================] - 0s 99us/sample - loss: 49.0242 - mean_squared_error: 49.0242 - val_loss: 71.0400 - val_mean_squared_error: 71.0400\n",
      "Epoch 71/100\n",
      "404/404 [==============================] - 0s 91us/sample - loss: 48.3054 - mean_squared_error: 48.3054 - val_loss: 71.2762 - val_mean_squared_error: 71.2762\n",
      "Epoch 72/100\n",
      "404/404 [==============================] - 0s 89us/sample - loss: 47.9104 - mean_squared_error: 47.9104 - val_loss: 70.5270 - val_mean_squared_error: 70.5270\n",
      "Epoch 73/100\n",
      "404/404 [==============================] - 0s 90us/sample - loss: 47.4188 - mean_squared_error: 47.4188 - val_loss: 67.5429 - val_mean_squared_error: 67.5429\n",
      "Epoch 74/100\n",
      "404/404 [==============================] - 0s 97us/sample - loss: 47.3720 - mean_squared_error: 47.3720 - val_loss: 67.9518 - val_mean_squared_error: 67.9518\n",
      "Epoch 75/100\n",
      "404/404 [==============================] - 0s 91us/sample - loss: 46.8348 - mean_squared_error: 46.8348 - val_loss: 67.0058 - val_mean_squared_error: 67.0058\n",
      "Epoch 76/100\n",
      "404/404 [==============================] - 0s 105us/sample - loss: 46.1924 - mean_squared_error: 46.1924 - val_loss: 66.5806 - val_mean_squared_error: 66.5806\n",
      "Epoch 77/100\n",
      "404/404 [==============================] - 0s 99us/sample - loss: 45.6858 - mean_squared_error: 45.6858 - val_loss: 65.5129 - val_mean_squared_error: 65.5129\n",
      "Epoch 78/100\n",
      "404/404 [==============================] - 0s 101us/sample - loss: 45.2755 - mean_squared_error: 45.2755 - val_loss: 67.1124 - val_mean_squared_error: 67.1124\n",
      "Epoch 79/100\n",
      "404/404 [==============================] - 0s 101us/sample - loss: 45.2282 - mean_squared_error: 45.2282 - val_loss: 67.6926 - val_mean_squared_error: 67.6926\n",
      "Epoch 80/100\n",
      "404/404 [==============================] - 0s 105us/sample - loss: 44.7764 - mean_squared_error: 44.7764 - val_loss: 65.2979 - val_mean_squared_error: 65.2979\n",
      "Epoch 81/100\n",
      "404/404 [==============================] - 0s 96us/sample - loss: 44.1359 - mean_squared_error: 44.1359 - val_loss: 62.2118 - val_mean_squared_error: 62.2118\n",
      "Epoch 82/100\n",
      "404/404 [==============================] - 0s 110us/sample - loss: 44.2297 - mean_squared_error: 44.2297 - val_loss: 63.7100 - val_mean_squared_error: 63.7100\n",
      "Epoch 83/100\n",
      "404/404 [==============================] - 0s 96us/sample - loss: 43.5083 - mean_squared_error: 43.5083 - val_loss: 62.7168 - val_mean_squared_error: 62.7168\n",
      "Epoch 84/100\n",
      "404/404 [==============================] - 0s 95us/sample - loss: 43.4315 - mean_squared_error: 43.4315 - val_loss: 60.5833 - val_mean_squared_error: 60.5833\n",
      "Epoch 85/100\n",
      "404/404 [==============================] - 0s 95us/sample - loss: 43.0572 - mean_squared_error: 43.0572 - val_loss: 61.3568 - val_mean_squared_error: 61.3568\n",
      "Epoch 86/100\n",
      "404/404 [==============================] - 0s 94us/sample - loss: 42.8149 - mean_squared_error: 42.8149 - val_loss: 59.5693 - val_mean_squared_error: 59.5693\n",
      "Epoch 87/100\n",
      "404/404 [==============================] - 0s 93us/sample - loss: 42.6362 - mean_squared_error: 42.6362 - val_loss: 59.7663 - val_mean_squared_error: 59.7663\n",
      "Epoch 88/100\n",
      "404/404 [==============================] - 0s 100us/sample - loss: 41.7663 - mean_squared_error: 41.7663 - val_loss: 58.6958 - val_mean_squared_error: 58.6958\n",
      "Epoch 89/100\n",
      "404/404 [==============================] - 0s 99us/sample - loss: 41.5595 - mean_squared_error: 41.5595 - val_loss: 61.0195 - val_mean_squared_error: 61.0195\n",
      "Epoch 90/100\n",
      "404/404 [==============================] - 0s 100us/sample - loss: 41.4838 - mean_squared_error: 41.4838 - val_loss: 61.0012 - val_mean_squared_error: 61.0012\n",
      "Epoch 91/100\n",
      "404/404 [==============================] - ETA: 0s - loss: 61.2848 - mean_squared_error: 61.28 - 0s 97us/sample - loss: 40.9342 - mean_squared_error: 40.9342 - val_loss: 58.5016 - val_mean_squared_error: 58.5016\n",
      "Epoch 92/100\n",
      "404/404 [==============================] - 0s 96us/sample - loss: 40.4878 - mean_squared_error: 40.4878 - val_loss: 57.7789 - val_mean_squared_error: 57.7789\n",
      "Epoch 93/100\n",
      "404/404 [==============================] - 0s 90us/sample - loss: 40.0808 - mean_squared_error: 40.0808 - val_loss: 60.0126 - val_mean_squared_error: 60.0126\n",
      "Epoch 94/100\n",
      "404/404 [==============================] - 0s 89us/sample - loss: 39.7366 - mean_squared_error: 39.7366 - val_loss: 55.7870 - val_mean_squared_error: 55.7870\n",
      "Epoch 95/100\n"
     ]
    },
    {
     "name": "stdout",
     "output_type": "stream",
     "text": [
      "404/404 [==============================] - 0s 98us/sample - loss: 39.5659 - mean_squared_error: 39.5659 - val_loss: 58.7244 - val_mean_squared_error: 58.7244\n",
      "Epoch 96/100\n",
      "404/404 [==============================] - 0s 102us/sample - loss: 39.2143 - mean_squared_error: 39.2143 - val_loss: 55.2323 - val_mean_squared_error: 55.2323\n",
      "Epoch 97/100\n",
      "404/404 [==============================] - 0s 105us/sample - loss: 38.6923 - mean_squared_error: 38.6923 - val_loss: 55.0458 - val_mean_squared_error: 55.0458\n",
      "Epoch 98/100\n",
      "404/404 [==============================] - 0s 99us/sample - loss: 38.5532 - mean_squared_error: 38.5532 - val_loss: 56.0452 - val_mean_squared_error: 56.0452\n",
      "Epoch 99/100\n",
      "404/404 [==============================] - 0s 94us/sample - loss: 38.2413 - mean_squared_error: 38.2413 - val_loss: 54.1741 - val_mean_squared_error: 54.1741\n",
      "Epoch 100/100\n",
      "404/404 [==============================] - 0s 94us/sample - loss: 37.7598 - mean_squared_error: 37.7598 - val_loss: 53.0245 - val_mean_squared_error: 53.0245\n"
     ]
    },
    {
     "data": {
      "text/plain": [
       "<tensorflow.python.keras.callbacks.History at 0x1422f6978>"
      ]
     },
     "execution_count": 70,
     "metadata": {},
     "output_type": "execute_result"
    }
   ],
   "source": [
    "model_final.fit(x_train.values, y_train, validation_data=(x_test.values,y_test), epochs=100, batch_size=20, callbacks=[tb])\n"
   ]
  },
  {
   "cell_type": "markdown",
   "metadata": {},
   "source": [
    "## Classification?\n",
    "The only thing we really need to change is the final layer to predict classes."
   ]
  },
  {
   "cell_type": "code",
   "execution_count": 80,
   "metadata": {},
   "outputs": [],
   "source": [
    "model_iris = tf.keras.Sequential()\n",
    "\n",
    "model_iris.add(layers.Dense(100, activation = 'sigmoid'))\n",
    "model_iris.add(layers.Dense(100, activation = 'sigmoid'))\n",
    "model_iris.add(layers.Dense(3, activation = 'sigmoid'))\n",
    "\n",
    "model_iris.compile(optimizer=tf.optimizers.SGD(0.01),\n",
    "             loss=tf.keras.losses.SparseCategoricalCrossentropy(),\n",
    "             metrics=['accuracy'])\n",
    "\n",
    "log_dir = 'iris_logs'\n",
    "tb_iris = TensorBoard(log_dir=log_dir, histogram_freq=1)"
   ]
  },
  {
   "cell_type": "markdown",
   "metadata": {},
   "source": [
    "**In your terminal, you'll need to tell tensorboard where your logs are being stored**\n",
    "\n",
    "Ex. CUS_C02VJ0NQHTDF:~ bblanchard006$ tensorboard --logdir /Users/bblanop/SMU/QTW/iris_logs"
   ]
  },
  {
   "cell_type": "code",
   "execution_count": 81,
   "metadata": {},
   "outputs": [],
   "source": [
    "iris = datasets.load_iris()"
   ]
  },
  {
   "cell_type": "code",
   "execution_count": 82,
   "metadata": {},
   "outputs": [],
   "source": [
    "x = iris['data']\n",
    "y = iris['target']\n",
    "\n",
    "x_train, x_test, y_train, y_test = train_test_split(x, y, test_size=0.20, random_state=102)"
   ]
  },
  {
   "cell_type": "code",
   "execution_count": 83,
   "metadata": {},
   "outputs": [
    {
     "name": "stdout",
     "output_type": "stream",
     "text": [
      "Train on 120 samples, validate on 30 samples\n",
      "Epoch 1/100\n",
      "120/120 [==============================] - 0s 3ms/sample - loss: 1.1081 - accuracy: 0.3500 - val_loss: 1.1204 - val_accuracy: 0.2667\n",
      "Epoch 2/100\n",
      "120/120 [==============================] - 0s 432us/sample - loss: 1.0981 - accuracy: 0.3500 - val_loss: 1.1091 - val_accuracy: 0.2667\n",
      "Epoch 3/100\n",
      "120/120 [==============================] - 0s 511us/sample - loss: 1.0936 - accuracy: 0.3500 - val_loss: 1.1031 - val_accuracy: 0.2667\n",
      "Epoch 4/100\n",
      "120/120 [==============================] - 0s 429us/sample - loss: 1.0919 - accuracy: 0.3500 - val_loss: 1.0995 - val_accuracy: 0.2667\n",
      "Epoch 5/100\n",
      "120/120 [==============================] - 0s 479us/sample - loss: 1.0911 - accuracy: 0.3500 - val_loss: 1.0967 - val_accuracy: 0.2667\n",
      "Epoch 6/100\n",
      "120/120 [==============================] - 0s 491us/sample - loss: 1.0891 - accuracy: 0.3500 - val_loss: 1.0947 - val_accuracy: 0.2667\n",
      "Epoch 7/100\n",
      "120/120 [==============================] - 0s 480us/sample - loss: 1.0870 - accuracy: 0.3500 - val_loss: 1.0927 - val_accuracy: 0.2667\n",
      "Epoch 8/100\n",
      "120/120 [==============================] - 0s 462us/sample - loss: 1.0873 - accuracy: 0.3500 - val_loss: 1.0920 - val_accuracy: 0.2667\n",
      "Epoch 9/100\n",
      "120/120 [==============================] - 0s 466us/sample - loss: 1.0850 - accuracy: 0.3500 - val_loss: 1.0897 - val_accuracy: 0.2667\n",
      "Epoch 10/100\n",
      "120/120 [==============================] - 0s 509us/sample - loss: 1.0856 - accuracy: 0.3500 - val_loss: 1.0877 - val_accuracy: 0.2667\n",
      "Epoch 11/100\n",
      "120/120 [==============================] - 0s 585us/sample - loss: 1.0839 - accuracy: 0.3500 - val_loss: 1.0854 - val_accuracy: 0.2667\n",
      "Epoch 12/100\n",
      "120/120 [==============================] - 0s 476us/sample - loss: 1.0810 - accuracy: 0.3500 - val_loss: 1.0837 - val_accuracy: 0.2667\n",
      "Epoch 13/100\n",
      "120/120 [==============================] - 0s 437us/sample - loss: 1.0809 - accuracy: 0.3500 - val_loss: 1.0822 - val_accuracy: 0.2667\n",
      "Epoch 14/100\n",
      "120/120 [==============================] - 0s 422us/sample - loss: 1.0782 - accuracy: 0.3500 - val_loss: 1.0799 - val_accuracy: 0.2667\n",
      "Epoch 15/100\n",
      "120/120 [==============================] - 0s 466us/sample - loss: 1.0771 - accuracy: 0.3500 - val_loss: 1.0779 - val_accuracy: 0.2667\n",
      "Epoch 16/100\n",
      "120/120 [==============================] - 0s 510us/sample - loss: 1.0749 - accuracy: 0.3750 - val_loss: 1.0780 - val_accuracy: 0.2667\n",
      "Epoch 17/100\n",
      "120/120 [==============================] - 0s 483us/sample - loss: 1.0732 - accuracy: 0.3500 - val_loss: 1.0761 - val_accuracy: 0.2667\n",
      "Epoch 18/100\n",
      "120/120 [==============================] - 0s 501us/sample - loss: 1.0711 - accuracy: 0.3500 - val_loss: 1.0728 - val_accuracy: 0.2667\n",
      "Epoch 19/100\n",
      "120/120 [==============================] - 0s 532us/sample - loss: 1.0683 - accuracy: 0.3500 - val_loss: 1.0707 - val_accuracy: 0.2667\n",
      "Epoch 20/100\n",
      "120/120 [==============================] - 0s 547us/sample - loss: 1.0670 - accuracy: 0.3500 - val_loss: 1.0685 - val_accuracy: 0.2667\n",
      "Epoch 21/100\n",
      "120/120 [==============================] - 0s 567us/sample - loss: 1.0635 - accuracy: 0.5333 - val_loss: 1.0688 - val_accuracy: 0.2667\n",
      "Epoch 22/100\n",
      "120/120 [==============================] - 0s 528us/sample - loss: 1.0615 - accuracy: 0.3500 - val_loss: 1.0638 - val_accuracy: 0.2667\n",
      "Epoch 23/100\n",
      "120/120 [==============================] - 0s 459us/sample - loss: 1.0596 - accuracy: 0.3500 - val_loss: 1.0578 - val_accuracy: 0.2667\n",
      "Epoch 24/100\n",
      "120/120 [==============================] - 0s 445us/sample - loss: 1.0545 - accuracy: 0.3583 - val_loss: 1.0501 - val_accuracy: 0.4333\n",
      "Epoch 25/100\n",
      "120/120 [==============================] - 0s 532us/sample - loss: 1.0514 - accuracy: 0.3750 - val_loss: 1.0438 - val_accuracy: 1.0000\n",
      "Epoch 26/100\n",
      "120/120 [==============================] - 0s 570us/sample - loss: 1.0501 - accuracy: 0.4917 - val_loss: 1.0417 - val_accuracy: 0.5000\n",
      "Epoch 27/100\n",
      "120/120 [==============================] - 0s 656us/sample - loss: 1.0439 - accuracy: 0.5417 - val_loss: 1.0398 - val_accuracy: 0.2667\n",
      "Epoch 28/100\n",
      "120/120 [==============================] - 0s 711us/sample - loss: 1.0379 - accuracy: 0.3500 - val_loss: 1.0302 - val_accuracy: 0.9333\n",
      "Epoch 29/100\n",
      "120/120 [==============================] - 0s 587us/sample - loss: 1.0380 - accuracy: 0.6083 - val_loss: 1.0272 - val_accuracy: 0.6667\n",
      "Epoch 30/100\n",
      "120/120 [==============================] - 0s 580us/sample - loss: 1.0268 - accuracy: 0.4167 - val_loss: 1.0164 - val_accuracy: 0.9667\n",
      "Epoch 31/100\n",
      "120/120 [==============================] - 0s 503us/sample - loss: 1.0248 - accuracy: 0.6833 - val_loss: 1.0147 - val_accuracy: 0.7000\n",
      "Epoch 32/100\n",
      "120/120 [==============================] - 0s 520us/sample - loss: 1.0173 - accuracy: 0.5250 - val_loss: 1.0048 - val_accuracy: 0.8667\n",
      "Epoch 33/100\n",
      "120/120 [==============================] - 0s 546us/sample - loss: 1.0117 - accuracy: 0.5667 - val_loss: 0.9997 - val_accuracy: 0.6333\n",
      "Epoch 34/100\n",
      "120/120 [==============================] - 0s 522us/sample - loss: 1.0087 - accuracy: 0.6750 - val_loss: 0.9956 - val_accuracy: 0.6333\n",
      "Epoch 35/100\n",
      "120/120 [==============================] - 0s 530us/sample - loss: 0.9954 - accuracy: 0.6250 - val_loss: 0.9807 - val_accuracy: 0.9667\n",
      "Epoch 36/100\n",
      "120/120 [==============================] - 0s 456us/sample - loss: 0.9897 - accuracy: 0.6583 - val_loss: 0.9796 - val_accuracy: 0.6333\n",
      "Epoch 37/100\n",
      "120/120 [==============================] - 0s 478us/sample - loss: 0.9792 - accuracy: 0.6833 - val_loss: 0.9613 - val_accuracy: 0.9000\n",
      "Epoch 38/100\n",
      "120/120 [==============================] - 0s 546us/sample - loss: 0.9689 - accuracy: 0.6500 - val_loss: 0.9450 - val_accuracy: 0.7333\n",
      "Epoch 39/100\n",
      "120/120 [==============================] - 0s 489us/sample - loss: 0.9587 - accuracy: 0.7083 - val_loss: 0.9595 - val_accuracy: 0.6333\n",
      "Epoch 40/100\n",
      "120/120 [==============================] - 0s 402us/sample - loss: 0.9534 - accuracy: 0.6917 - val_loss: 0.9461 - val_accuracy: 0.6333\n",
      "Epoch 41/100\n",
      "120/120 [==============================] - 0s 411us/sample - loss: 0.9403 - accuracy: 0.6833 - val_loss: 0.9106 - val_accuracy: 0.7667\n",
      "Epoch 42/100\n",
      "120/120 [==============================] - 0s 394us/sample - loss: 0.9310 - accuracy: 0.7167 - val_loss: 0.9060 - val_accuracy: 0.8000\n",
      "Epoch 43/100\n",
      "120/120 [==============================] - 0s 388us/sample - loss: 0.9155 - accuracy: 0.7500 - val_loss: 0.8903 - val_accuracy: 0.9333\n",
      "Epoch 44/100\n",
      "120/120 [==============================] - 0s 388us/sample - loss: 0.9090 - accuracy: 0.7583 - val_loss: 0.8829 - val_accuracy: 0.8667\n",
      "Epoch 45/100\n",
      "120/120 [==============================] - 0s 393us/sample - loss: 0.8917 - accuracy: 0.7583 - val_loss: 0.8613 - val_accuracy: 0.8333\n",
      "Epoch 46/100\n",
      "120/120 [==============================] - 0s 420us/sample - loss: 0.8785 - accuracy: 0.7833 - val_loss: 0.8504 - val_accuracy: 0.8667\n",
      "Epoch 47/100\n",
      "120/120 [==============================] - 0s 390us/sample - loss: 0.8672 - accuracy: 0.7833 - val_loss: 0.8309 - val_accuracy: 0.7333\n",
      "Epoch 48/100\n",
      "120/120 [==============================] - 0s 393us/sample - loss: 0.8672 - accuracy: 0.7083 - val_loss: 0.8157 - val_accuracy: 0.8000\n",
      "Epoch 49/100\n",
      "120/120 [==============================] - 0s 412us/sample - loss: 0.8447 - accuracy: 0.7417 - val_loss: 0.8127 - val_accuracy: 0.9667\n",
      "Epoch 50/100\n",
      "120/120 [==============================] - 0s 486us/sample - loss: 0.8286 - accuracy: 0.8083 - val_loss: 0.8049 - val_accuracy: 0.7667\n",
      "Epoch 51/100\n",
      "120/120 [==============================] - 0s 395us/sample - loss: 0.8140 - accuracy: 0.7667 - val_loss: 0.7880 - val_accuracy: 0.7667\n",
      "Epoch 52/100\n",
      "120/120 [==============================] - 0s 415us/sample - loss: 0.8044 - accuracy: 0.7583 - val_loss: 0.7688 - val_accuracy: 0.8000\n",
      "Epoch 53/100\n",
      "120/120 [==============================] - 0s 422us/sample - loss: 0.7872 - accuracy: 0.7833 - val_loss: 0.7556 - val_accuracy: 0.9667\n",
      "Epoch 54/100\n",
      "120/120 [==============================] - 0s 434us/sample - loss: 0.7721 - accuracy: 0.8333 - val_loss: 0.7219 - val_accuracy: 0.7333\n",
      "Epoch 55/100\n",
      "120/120 [==============================] - 0s 432us/sample - loss: 0.7593 - accuracy: 0.7583 - val_loss: 0.7166 - val_accuracy: 0.9000\n",
      "Epoch 56/100\n"
     ]
    },
    {
     "name": "stdout",
     "output_type": "stream",
     "text": [
      "120/120 [==============================] - 0s 441us/sample - loss: 0.7425 - accuracy: 0.7917 - val_loss: 0.7170 - val_accuracy: 0.7667\n",
      "Epoch 57/100\n",
      "120/120 [==============================] - 0s 416us/sample - loss: 0.7311 - accuracy: 0.8167 - val_loss: 0.6802 - val_accuracy: 0.7667\n",
      "Epoch 58/100\n",
      "120/120 [==============================] - 0s 436us/sample - loss: 0.7217 - accuracy: 0.7917 - val_loss: 0.6671 - val_accuracy: 0.8000\n",
      "Epoch 59/100\n",
      "120/120 [==============================] - 0s 399us/sample - loss: 0.7097 - accuracy: 0.7500 - val_loss: 0.6669 - val_accuracy: 0.9667\n",
      "Epoch 60/100\n",
      "120/120 [==============================] - 0s 435us/sample - loss: 0.6872 - accuracy: 0.7917 - val_loss: 0.6728 - val_accuracy: 0.7000\n",
      "Epoch 61/100\n",
      "120/120 [==============================] - 0s 396us/sample - loss: 0.6822 - accuracy: 0.7833 - val_loss: 0.6564 - val_accuracy: 0.7667\n",
      "Epoch 62/100\n",
      "120/120 [==============================] - 0s 392us/sample - loss: 0.6652 - accuracy: 0.8167 - val_loss: 0.6254 - val_accuracy: 0.9333\n",
      "Epoch 63/100\n",
      "120/120 [==============================] - 0s 392us/sample - loss: 0.6586 - accuracy: 0.8500 - val_loss: 0.6117 - val_accuracy: 0.9000\n",
      "Epoch 64/100\n",
      "120/120 [==============================] - 0s 435us/sample - loss: 0.6456 - accuracy: 0.8000 - val_loss: 0.6017 - val_accuracy: 0.9333\n",
      "Epoch 65/100\n",
      "120/120 [==============================] - 0s 392us/sample - loss: 0.6308 - accuracy: 0.8083 - val_loss: 0.6004 - val_accuracy: 0.8333\n",
      "Epoch 66/100\n",
      "120/120 [==============================] - 0s 432us/sample - loss: 0.6219 - accuracy: 0.8417 - val_loss: 0.5738 - val_accuracy: 0.8333\n",
      "Epoch 67/100\n",
      "120/120 [==============================] - 0s 435us/sample - loss: 0.6130 - accuracy: 0.8167 - val_loss: 0.5610 - val_accuracy: 0.8000\n",
      "Epoch 68/100\n",
      "120/120 [==============================] - 0s 411us/sample - loss: 0.6032 - accuracy: 0.8083 - val_loss: 0.5570 - val_accuracy: 0.8667\n",
      "Epoch 69/100\n",
      "120/120 [==============================] - 0s 431us/sample - loss: 0.5937 - accuracy: 0.8333 - val_loss: 0.5490 - val_accuracy: 0.9000\n",
      "Epoch 70/100\n",
      "120/120 [==============================] - 0s 517us/sample - loss: 0.5877 - accuracy: 0.8833 - val_loss: 0.5433 - val_accuracy: 0.9667\n",
      "Epoch 71/100\n",
      "120/120 [==============================] - 0s 585us/sample - loss: 0.5737 - accuracy: 0.8333 - val_loss: 0.5337 - val_accuracy: 0.9333\n",
      "Epoch 72/100\n",
      "120/120 [==============================] - 0s 553us/sample - loss: 0.5624 - accuracy: 0.8833 - val_loss: 0.5163 - val_accuracy: 0.8000\n",
      "Epoch 73/100\n",
      "120/120 [==============================] - 0s 598us/sample - loss: 0.5612 - accuracy: 0.8083 - val_loss: 0.5088 - val_accuracy: 0.8333\n",
      "Epoch 74/100\n",
      "120/120 [==============================] - 0s 551us/sample - loss: 0.5522 - accuracy: 0.8583 - val_loss: 0.5095 - val_accuracy: 0.9333\n",
      "Epoch 75/100\n",
      "120/120 [==============================] - 0s 477us/sample - loss: 0.5411 - accuracy: 0.9417 - val_loss: 0.4976 - val_accuracy: 0.8667\n",
      "Epoch 76/100\n",
      "120/120 [==============================] - 0s 427us/sample - loss: 0.5355 - accuracy: 0.8250 - val_loss: 0.5116 - val_accuracy: 0.8333\n",
      "Epoch 77/100\n",
      "120/120 [==============================] - 0s 422us/sample - loss: 0.5300 - accuracy: 0.8750 - val_loss: 0.5012 - val_accuracy: 0.9667\n",
      "Epoch 78/100\n",
      "120/120 [==============================] - 0s 424us/sample - loss: 0.5228 - accuracy: 0.9083 - val_loss: 0.4945 - val_accuracy: 0.9667\n",
      "Epoch 79/100\n",
      "120/120 [==============================] - 0s 408us/sample - loss: 0.5145 - accuracy: 0.8917 - val_loss: 0.4932 - val_accuracy: 0.8333\n",
      "Epoch 80/100\n",
      "120/120 [==============================] - 0s 385us/sample - loss: 0.5080 - accuracy: 0.9083 - val_loss: 0.4736 - val_accuracy: 1.0000\n",
      "Epoch 81/100\n",
      "120/120 [==============================] - 0s 417us/sample - loss: 0.5015 - accuracy: 0.8917 - val_loss: 0.4730 - val_accuracy: 0.9667\n",
      "Epoch 82/100\n",
      "120/120 [==============================] - 0s 411us/sample - loss: 0.4942 - accuracy: 0.8417 - val_loss: 0.4601 - val_accuracy: 0.9667\n",
      "Epoch 83/100\n",
      "120/120 [==============================] - 0s 395us/sample - loss: 0.4912 - accuracy: 0.9333 - val_loss: 0.4473 - val_accuracy: 0.8667\n",
      "Epoch 84/100\n",
      "120/120 [==============================] - 0s 407us/sample - loss: 0.4883 - accuracy: 0.9000 - val_loss: 0.4411 - val_accuracy: 0.8667\n",
      "Epoch 85/100\n",
      "120/120 [==============================] - 0s 406us/sample - loss: 0.4828 - accuracy: 0.8833 - val_loss: 0.4422 - val_accuracy: 0.9333\n",
      "Epoch 86/100\n",
      "120/120 [==============================] - 0s 389us/sample - loss: 0.4719 - accuracy: 0.8500 - val_loss: 0.4760 - val_accuracy: 0.7667\n",
      "Epoch 87/100\n",
      "120/120 [==============================] - 0s 414us/sample - loss: 0.4673 - accuracy: 0.9000 - val_loss: 0.4694 - val_accuracy: 0.7667\n",
      "Epoch 88/100\n",
      "120/120 [==============================] - 0s 416us/sample - loss: 0.4663 - accuracy: 0.8750 - val_loss: 0.4392 - val_accuracy: 0.9667\n",
      "Epoch 89/100\n",
      "120/120 [==============================] - 0s 413us/sample - loss: 0.4638 - accuracy: 0.9000 - val_loss: 0.4288 - val_accuracy: 0.9667\n",
      "Epoch 90/100\n",
      "120/120 [==============================] - 0s 399us/sample - loss: 0.4543 - accuracy: 0.9500 - val_loss: 0.4172 - val_accuracy: 0.9333\n",
      "Epoch 91/100\n",
      "120/120 [==============================] - 0s 407us/sample - loss: 0.4544 - accuracy: 0.9000 - val_loss: 0.4233 - val_accuracy: 0.9667\n",
      "Epoch 92/100\n",
      "120/120 [==============================] - 0s 418us/sample - loss: 0.4534 - accuracy: 0.9083 - val_loss: 0.4099 - val_accuracy: 0.9667\n",
      "Epoch 93/100\n",
      "120/120 [==============================] - 0s 394us/sample - loss: 0.4384 - accuracy: 0.9333 - val_loss: 0.4168 - val_accuracy: 0.9667\n",
      "Epoch 94/100\n",
      "120/120 [==============================] - 0s 402us/sample - loss: 0.4351 - accuracy: 0.9583 - val_loss: 0.4130 - val_accuracy: 0.9667\n",
      "Epoch 95/100\n",
      "120/120 [==============================] - 0s 391us/sample - loss: 0.4354 - accuracy: 0.8833 - val_loss: 0.4051 - val_accuracy: 0.9667\n",
      "Epoch 96/100\n",
      "120/120 [==============================] - 0s 394us/sample - loss: 0.4321 - accuracy: 0.9000 - val_loss: 0.3966 - val_accuracy: 0.9667\n",
      "Epoch 97/100\n",
      "120/120 [==============================] - 0s 426us/sample - loss: 0.4289 - accuracy: 0.9417 - val_loss: 0.3900 - val_accuracy: 0.9667\n",
      "Epoch 98/100\n",
      "120/120 [==============================] - 0s 408us/sample - loss: 0.4197 - accuracy: 0.9250 - val_loss: 0.4123 - val_accuracy: 0.8333\n",
      "Epoch 99/100\n",
      "120/120 [==============================] - 0s 398us/sample - loss: 0.4198 - accuracy: 0.9417 - val_loss: 0.3909 - val_accuracy: 0.9667\n",
      "Epoch 100/100\n",
      "120/120 [==============================] - 0s 423us/sample - loss: 0.4106 - accuracy: 0.9417 - val_loss: 0.3751 - val_accuracy: 0.9333\n"
     ]
    },
    {
     "data": {
      "text/plain": [
       "<tensorflow.python.keras.callbacks.History at 0x14091d940>"
      ]
     },
     "execution_count": 83,
     "metadata": {},
     "output_type": "execute_result"
    }
   ],
   "source": [
    "model_iris.fit(x_train, y_train, validation_data=(x_test, y_test), epochs=100, batch_size=4, callbacks=[tb_iris])\n"
   ]
  },
  {
   "cell_type": "code",
   "execution_count": 84,
   "metadata": {},
   "outputs": [],
   "source": [
    "predictions = model_iris.predict(x_test)"
   ]
  },
  {
   "cell_type": "code",
   "execution_count": 85,
   "metadata": {},
   "outputs": [
    {
     "name": "stdout",
     "output_type": "stream",
     "text": [
      "Prediction: [0 2 1 1 2 0 0 0 1 1 2 2 0 2 2 0 0 2 0 2 0 2 1 2 0 1 2 2 2 0]\n",
      "   Actuals: [0 2 1 1 2 0 0 0 1 1 2 1 0 2 2 0 0 2 0 2 0 2 1 1 0 1 2 2 2 0]\n"
     ]
    }
   ],
   "source": [
    "print(\"Prediction: {}\".format(tf.argmax(predictions, axis=1)))\n",
    "print(\"   Actuals: {}\".format(y_test))"
   ]
  },
  {
   "cell_type": "code",
   "execution_count": 86,
   "metadata": {},
   "outputs": [
    {
     "data": {
      "text/plain": [
       "array([[0.15314516, 0.01627585, 0.00108805],\n",
       "       [0.00097525, 0.03818163, 0.07283363],\n",
       "       [0.0040122 , 0.03018385, 0.02342936],\n",
       "       [0.00534704, 0.02905965, 0.01846334],\n",
       "       [0.00062716, 0.04024807, 0.10333285],\n",
       "       [0.17052984, 0.01592308, 0.00098488],\n",
       "       [0.16635713, 0.0158059 , 0.00100204],\n",
       "       [0.22086188, 0.01484245, 0.00076216],\n",
       "       [0.01269189, 0.02520469, 0.00911462],\n",
       "       [0.00279322, 0.03201956, 0.03139827],\n",
       "       [0.00129235, 0.0367386 , 0.05881077],\n",
       "       [0.00237843, 0.03294003, 0.03582954],\n",
       "       [0.15029186, 0.0162147 , 0.00110474],\n",
       "       [0.00187385, 0.03401765, 0.04306284],\n",
       "       [0.00054428, 0.04208907, 0.11663678],\n",
       "       [0.18466899, 0.01524317, 0.0009076 ],\n",
       "       [0.19844016, 0.0153338 , 0.00084832],\n",
       "       [0.00080049, 0.03933126, 0.08604175],\n",
       "       [0.22144857, 0.01484549, 0.00076023],\n",
       "       [0.00120327, 0.03689328, 0.06156933],\n",
       "       [0.1957173 , 0.01511848, 0.00085807],\n",
       "       [0.00130418, 0.03614706, 0.05803147],\n",
       "       [0.00860944, 0.02704501, 0.01245779],\n",
       "       [0.00201324, 0.03339517, 0.04042745],\n",
       "       [0.21836874, 0.01486731, 0.00076991],\n",
       "       [0.00270817, 0.03300297, 0.03247905],\n",
       "       [0.0007318 , 0.04032478, 0.09276813],\n",
       "       [0.00120327, 0.03689328, 0.06156933],\n",
       "       [0.00114325, 0.03697783, 0.06406841],\n",
       "       [0.25696716, 0.01421742, 0.00065155]], dtype=float32)"
      ]
     },
     "execution_count": 86,
     "metadata": {},
     "output_type": "execute_result"
    }
   ],
   "source": [
    "predictions"
   ]
  },
  {
   "cell_type": "code",
   "execution_count": 87,
   "metadata": {},
   "outputs": [],
   "source": [
    "test_accuracy = tf.keras.metrics.Accuracy()\n"
   ]
  },
  {
   "cell_type": "code",
   "execution_count": 88,
   "metadata": {},
   "outputs": [
    {
     "name": "stdout",
     "output_type": "stream",
     "text": [
      "Test set accuracy: 93.333%\n"
     ]
    }
   ],
   "source": [
    "test_accuracy(tf.argmax(predictions, axis=1), y_test)\n",
    "print(\"Test set accuracy: {:.3%}\".format(test_accuracy.result()))"
   ]
  },
  {
   "cell_type": "code",
   "execution_count": 41,
   "metadata": {},
   "outputs": [
    {
     "name": "stdout",
     "output_type": "stream",
     "text": [
      "The tensorboard extension is already loaded. To reload it, use:\n",
      "  %reload_ext tensorboard\n"
     ]
    },
    {
     "data": {
      "text/plain": [
       "Reusing TensorBoard on port 6006 (pid 91060), started 0:02:50 ago. (Use '!kill 91060' to kill it.)"
      ]
     },
     "metadata": {},
     "output_type": "display_data"
    },
    {
     "data": {
      "text/html": [
       "\n",
       "      <iframe id=\"tensorboard-frame-4ed2a39a6d6a55fe\" width=\"100%\" height=\"800\" frameborder=\"0\">\n",
       "      </iframe>\n",
       "      <script>\n",
       "        (function() {\n",
       "          const frame = document.getElementById(\"tensorboard-frame-4ed2a39a6d6a55fe\");\n",
       "          const url = new URL(\"/\", window.location);\n",
       "          url.port = 6006;\n",
       "          frame.src = url;\n",
       "        })();\n",
       "      </script>\n",
       "  "
      ],
      "text/plain": [
       "<IPython.core.display.HTML object>"
      ]
     },
     "metadata": {},
     "output_type": "display_data"
    }
   ],
   "source": [
    "%load_ext tensorboard\n",
    "%tensorboard --logdir logs"
   ]
  },
  {
   "cell_type": "markdown",
   "metadata": {},
   "source": [
    "## Case Study 12"
   ]
  },
  {
   "cell_type": "code",
   "execution_count": 31,
   "metadata": {},
   "outputs": [],
   "source": [
    "df = pd.read_csv('HIGGS.csv', header=None)"
   ]
  },
  {
   "cell_type": "code",
   "execution_count": 32,
   "metadata": {},
   "outputs": [
    {
     "name": "stdout",
     "output_type": "stream",
     "text": [
      "    Shape of raw data is 11,000,000 x 29\n",
      "\n"
     ]
    }
   ],
   "source": [
    "# Verify size is as expected\n",
    "print(\"{:>25}{:>10,} x {:,}\\n\".format(\"Shape of raw data is \", df.shape[0], df.shape[1]))"
   ]
  },
  {
   "cell_type": "code",
   "execution_count": 33,
   "metadata": {},
   "outputs": [
    {
     "data": {
      "text/html": [
       "<div>\n",
       "<style scoped>\n",
       "    .dataframe tbody tr th:only-of-type {\n",
       "        vertical-align: middle;\n",
       "    }\n",
       "\n",
       "    .dataframe tbody tr th {\n",
       "        vertical-align: top;\n",
       "    }\n",
       "\n",
       "    .dataframe thead th {\n",
       "        text-align: right;\n",
       "    }\n",
       "</style>\n",
       "<table border=\"1\" class=\"dataframe\">\n",
       "  <thead>\n",
       "    <tr style=\"text-align: right;\">\n",
       "      <th></th>\n",
       "      <th>0</th>\n",
       "      <th>1</th>\n",
       "      <th>2</th>\n",
       "      <th>3</th>\n",
       "      <th>4</th>\n",
       "      <th>5</th>\n",
       "      <th>6</th>\n",
       "      <th>7</th>\n",
       "      <th>8</th>\n",
       "      <th>9</th>\n",
       "      <th>...</th>\n",
       "      <th>19</th>\n",
       "      <th>20</th>\n",
       "      <th>21</th>\n",
       "      <th>22</th>\n",
       "      <th>23</th>\n",
       "      <th>24</th>\n",
       "      <th>25</th>\n",
       "      <th>26</th>\n",
       "      <th>27</th>\n",
       "      <th>28</th>\n",
       "    </tr>\n",
       "  </thead>\n",
       "  <tbody>\n",
       "    <tr>\n",
       "      <td>0</td>\n",
       "      <td>1.0</td>\n",
       "      <td>0.869293</td>\n",
       "      <td>-0.635082</td>\n",
       "      <td>0.225690</td>\n",
       "      <td>0.327470</td>\n",
       "      <td>-0.689993</td>\n",
       "      <td>0.754202</td>\n",
       "      <td>-0.248573</td>\n",
       "      <td>-1.092064</td>\n",
       "      <td>0.000000</td>\n",
       "      <td>...</td>\n",
       "      <td>-0.010455</td>\n",
       "      <td>-0.045767</td>\n",
       "      <td>3.101961</td>\n",
       "      <td>1.353760</td>\n",
       "      <td>0.979563</td>\n",
       "      <td>0.978076</td>\n",
       "      <td>0.920005</td>\n",
       "      <td>0.721657</td>\n",
       "      <td>0.988751</td>\n",
       "      <td>0.876678</td>\n",
       "    </tr>\n",
       "    <tr>\n",
       "      <td>1</td>\n",
       "      <td>1.0</td>\n",
       "      <td>0.907542</td>\n",
       "      <td>0.329147</td>\n",
       "      <td>0.359412</td>\n",
       "      <td>1.497970</td>\n",
       "      <td>-0.313010</td>\n",
       "      <td>1.095531</td>\n",
       "      <td>-0.557525</td>\n",
       "      <td>-1.588230</td>\n",
       "      <td>2.173076</td>\n",
       "      <td>...</td>\n",
       "      <td>-1.138930</td>\n",
       "      <td>-0.000819</td>\n",
       "      <td>0.000000</td>\n",
       "      <td>0.302220</td>\n",
       "      <td>0.833048</td>\n",
       "      <td>0.985700</td>\n",
       "      <td>0.978098</td>\n",
       "      <td>0.779732</td>\n",
       "      <td>0.992356</td>\n",
       "      <td>0.798343</td>\n",
       "    </tr>\n",
       "    <tr>\n",
       "      <td>2</td>\n",
       "      <td>1.0</td>\n",
       "      <td>0.798835</td>\n",
       "      <td>1.470639</td>\n",
       "      <td>-1.635975</td>\n",
       "      <td>0.453773</td>\n",
       "      <td>0.425629</td>\n",
       "      <td>1.104875</td>\n",
       "      <td>1.282322</td>\n",
       "      <td>1.381664</td>\n",
       "      <td>0.000000</td>\n",
       "      <td>...</td>\n",
       "      <td>1.128848</td>\n",
       "      <td>0.900461</td>\n",
       "      <td>0.000000</td>\n",
       "      <td>0.909753</td>\n",
       "      <td>1.108330</td>\n",
       "      <td>0.985692</td>\n",
       "      <td>0.951331</td>\n",
       "      <td>0.803252</td>\n",
       "      <td>0.865924</td>\n",
       "      <td>0.780118</td>\n",
       "    </tr>\n",
       "    <tr>\n",
       "      <td>3</td>\n",
       "      <td>0.0</td>\n",
       "      <td>1.344385</td>\n",
       "      <td>-0.876626</td>\n",
       "      <td>0.935913</td>\n",
       "      <td>1.992050</td>\n",
       "      <td>0.882454</td>\n",
       "      <td>1.786066</td>\n",
       "      <td>-1.646778</td>\n",
       "      <td>-0.942383</td>\n",
       "      <td>0.000000</td>\n",
       "      <td>...</td>\n",
       "      <td>-0.678379</td>\n",
       "      <td>-1.360356</td>\n",
       "      <td>0.000000</td>\n",
       "      <td>0.946652</td>\n",
       "      <td>1.028704</td>\n",
       "      <td>0.998656</td>\n",
       "      <td>0.728281</td>\n",
       "      <td>0.869200</td>\n",
       "      <td>1.026736</td>\n",
       "      <td>0.957904</td>\n",
       "    </tr>\n",
       "    <tr>\n",
       "      <td>4</td>\n",
       "      <td>1.0</td>\n",
       "      <td>1.105009</td>\n",
       "      <td>0.321356</td>\n",
       "      <td>1.522401</td>\n",
       "      <td>0.882808</td>\n",
       "      <td>-1.205349</td>\n",
       "      <td>0.681466</td>\n",
       "      <td>-1.070464</td>\n",
       "      <td>-0.921871</td>\n",
       "      <td>0.000000</td>\n",
       "      <td>...</td>\n",
       "      <td>-0.373566</td>\n",
       "      <td>0.113041</td>\n",
       "      <td>0.000000</td>\n",
       "      <td>0.755856</td>\n",
       "      <td>1.361057</td>\n",
       "      <td>0.986610</td>\n",
       "      <td>0.838085</td>\n",
       "      <td>1.133295</td>\n",
       "      <td>0.872245</td>\n",
       "      <td>0.808487</td>\n",
       "    </tr>\n",
       "  </tbody>\n",
       "</table>\n",
       "<p>5 rows × 29 columns</p>\n",
       "</div>"
      ],
      "text/plain": [
       "    0         1         2         3         4         5         6         7   \\\n",
       "0  1.0  0.869293 -0.635082  0.225690  0.327470 -0.689993  0.754202 -0.248573   \n",
       "1  1.0  0.907542  0.329147  0.359412  1.497970 -0.313010  1.095531 -0.557525   \n",
       "2  1.0  0.798835  1.470639 -1.635975  0.453773  0.425629  1.104875  1.282322   \n",
       "3  0.0  1.344385 -0.876626  0.935913  1.992050  0.882454  1.786066 -1.646778   \n",
       "4  1.0  1.105009  0.321356  1.522401  0.882808 -1.205349  0.681466 -1.070464   \n",
       "\n",
       "         8         9   ...        19        20        21        22        23  \\\n",
       "0 -1.092064  0.000000  ... -0.010455 -0.045767  3.101961  1.353760  0.979563   \n",
       "1 -1.588230  2.173076  ... -1.138930 -0.000819  0.000000  0.302220  0.833048   \n",
       "2  1.381664  0.000000  ...  1.128848  0.900461  0.000000  0.909753  1.108330   \n",
       "3 -0.942383  0.000000  ... -0.678379 -1.360356  0.000000  0.946652  1.028704   \n",
       "4 -0.921871  0.000000  ... -0.373566  0.113041  0.000000  0.755856  1.361057   \n",
       "\n",
       "         24        25        26        27        28  \n",
       "0  0.978076  0.920005  0.721657  0.988751  0.876678  \n",
       "1  0.985700  0.978098  0.779732  0.992356  0.798343  \n",
       "2  0.985692  0.951331  0.803252  0.865924  0.780118  \n",
       "3  0.998656  0.728281  0.869200  1.026736  0.957904  \n",
       "4  0.986610  0.838085  1.133295  0.872245  0.808487  \n",
       "\n",
       "[5 rows x 29 columns]"
      ]
     },
     "execution_count": 33,
     "metadata": {},
     "output_type": "execute_result"
    }
   ],
   "source": [
    "df.head()"
   ]
  },
  {
   "cell_type": "code",
   "execution_count": 34,
   "metadata": {},
   "outputs": [
    {
     "data": {
      "text/plain": [
       "count    1.100000e+07\n",
       "mean     5.299203e-01\n",
       "std      4.991040e-01\n",
       "min      0.000000e+00\n",
       "25%      0.000000e+00\n",
       "50%      1.000000e+00\n",
       "75%      1.000000e+00\n",
       "max      1.000000e+00\n",
       "Name: 0, dtype: float64"
      ]
     },
     "execution_count": 34,
     "metadata": {},
     "output_type": "execute_result"
    }
   ],
   "source": [
    "df[0].describe()"
   ]
  },
  {
   "cell_type": "code",
   "execution_count": null,
   "metadata": {},
   "outputs": [],
   "source": []
  }
 ],
 "metadata": {
  "kernelspec": {
   "display_name": "Python 3",
   "language": "python",
   "name": "python3"
  },
  "language_info": {
   "codemirror_mode": {
    "name": "ipython",
    "version": 3
   },
   "file_extension": ".py",
   "mimetype": "text/x-python",
   "name": "python",
   "nbconvert_exporter": "python",
   "pygments_lexer": "ipython3",
   "version": "3.6.2"
  }
 },
 "nbformat": 4,
 "nbformat_minor": 2
}
