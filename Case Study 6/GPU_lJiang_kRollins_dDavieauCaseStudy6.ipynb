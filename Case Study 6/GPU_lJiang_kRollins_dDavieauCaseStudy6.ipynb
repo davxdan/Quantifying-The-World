{
 "cells": [
  {
   "cell_type": "markdown",
   "metadata": {},
   "source": [
    "# Test to Ensure GPU Functional and Available"
   ]
  },
  {
   "cell_type": "code",
   "execution_count": 15,
   "metadata": {},
   "outputs": [
    {
     "name": "stdout",
     "output_type": "stream",
     "text": [
      "2.1.0\n"
     ]
    }
   ],
   "source": [
    "from __future__ import absolute_import, division, print_function, unicode_literals\n",
    "from  IPython import display\n",
    "import tensorflow as tf\n",
    "from tensorflow.keras import layers\n",
    "from tensorflow.keras import regularizers\n",
    "from sklearn import datasets\n",
    "import pandas as pd\n",
    "import numpy as np\n",
    "import datetime\n",
    "import os\n",
    "from matplotlib import pyplot as plt\n",
    "import pathlib\n",
    "import shutil\n",
    "import tempfile\n",
    "\n",
    "print(tf.__version__)\n",
    "\n",
    "import warnings\n",
    "warnings.simplefilter(action='ignore', category=FutureWarning)"
   ]
  },
  {
   "cell_type": "markdown",
   "metadata": {},
   "source": [
    "__DD:__ Check to see if CUDA GPU is available:"
   ]
  },
  {
   "cell_type": "code",
   "execution_count": 2,
   "metadata": {},
   "outputs": [
    {
     "name": "stdout",
     "output_type": "stream",
     "text": [
      "WARNING:tensorflow:From <ipython-input-2-c8366cefad0a>:2: is_gpu_available (from tensorflow.python.framework.test_util) is deprecated and will be removed in a future version.\n",
      "Instructions for updating:\n",
      "Use `tf.config.list_physical_devices('GPU')` instead.\n"
     ]
    },
    {
     "data": {
      "text/plain": [
       "True"
      ]
     },
     "execution_count": 2,
     "metadata": {},
     "output_type": "execute_result"
    }
   ],
   "source": [
    "tf.test.is_gpu_available(\n",
    "    cuda_only=True, min_cuda_compute_capability=None\n",
    ")"
   ]
  },
  {
   "cell_type": "markdown",
   "metadata": {},
   "source": [
    "__DD:__ Try new function based on warnings:"
   ]
  },
  {
   "cell_type": "code",
   "execution_count": 3,
   "metadata": {},
   "outputs": [
    {
     "data": {
      "text/plain": [
       "[PhysicalDevice(name='/physical_device:CPU:0', device_type='CPU'),\n",
       " PhysicalDevice(name='/physical_device:GPU:0', device_type='GPU')]"
      ]
     },
     "execution_count": 3,
     "metadata": {},
     "output_type": "execute_result"
    }
   ],
   "source": [
    "tf.config.list_physical_devices()"
   ]
  },
  {
   "cell_type": "code",
   "execution_count": 4,
   "metadata": {},
   "outputs": [
    {
     "name": "stdout",
     "output_type": "stream",
     "text": [
      "Num GPUs Available:  1\n"
     ]
    }
   ],
   "source": [
    "print(\"Num GPUs Available: \", len(tf.config.experimental.list_physical_devices('GPU')))"
   ]
  },
  {
   "cell_type": "markdown",
   "metadata": {},
   "source": [
    "__DD:__ I was wondering how to make sure GPU does the processing rather than CPU. I found the following excerpt from Tensorflow documentation:  \n",
    "\n",
    "\"If a TensorFlow operation has both CPU and GPU implementations, by default the GPU devices will be given priority when the operation is assigned to a device. For example, tf.matmul has both CPU and GPU kernels. On a system with devices CPU:0 and GPU:0, the GPU:0 device will be selected to run tf.matmul unless you explicitly request running it on another device.\"  "
   ]
  },
  {
   "cell_type": "markdown",
   "metadata": {},
   "source": [
    "## Case Study 12"
   ]
  },
  {
   "cell_type": "code",
   "execution_count": 5,
   "metadata": {},
   "outputs": [],
   "source": [
    "\n",
    "#os.getcwd()\n",
    "#os.chdir('C:\\\\Users\\\\danie\\\\Documents\\\\GitHub\\\\Quantifying-The-World\\\\Case Study 6\\\\data')"
   ]
  },
  {
   "cell_type": "markdown",
   "metadata": {},
   "source": [
    "__DD:__ To get the tensorflow docs packages working I had to clone the github repository to my local file system and run:  \n",
    "_pip install -q C:\\Users\\danie\\Documents\\GitHub\\docs_"
   ]
  },
  {
   "cell_type": "code",
   "execution_count": 16,
   "metadata": {},
   "outputs": [],
   "source": [
    "import tensorflow_docs as tfdocs\n",
    "import tensorflow_docs.modeling\n",
    "import tensorflow_docs.plots\n",
    "\n",
    "logdir = pathlib.Path(tempfile.mkdtemp())/\"tensorboard_logs\"\n",
    "shutil.rmtree(logdir, ignore_errors=True)"
   ]
  },
  {
   "cell_type": "code",
   "execution_count": 17,
   "metadata": {},
   "outputs": [],
   "source": [
    "#get data\n",
    "gz = tf.keras.utils.get_file('HIGGS.csv.gz', 'https://archive.ics.uci.edu/ml/machine-learning-databases/00280/HIGGS.csv.gz')\n",
    "FEATURES = 28\n",
    "ds = tf.data.experimental.CsvDataset(gz,[float(),]*(FEATURES+1), compression_type=\"GZIP\")\n",
    "\n",
    "def pack_row(*row):\n",
    "  label = row[0]\n",
    "  features = tf.stack(row[1:],1)\n",
    "  return features, label\n",
    "\n",
    "packed_ds = ds.batch(10000).map(pack_row).unbatch()"
   ]
  },
  {
   "cell_type": "code",
   "execution_count": 18,
   "metadata": {},
   "outputs": [
    {
     "name": "stdout",
     "output_type": "stream",
     "text": [
      "tf.Tensor(\n",
      "[ 0.8692932  -0.6350818   0.22569026  0.32747006 -0.6899932   0.75420225\n",
      " -0.24857314 -1.0920639   0.          1.3749921  -0.6536742   0.9303491\n",
      "  1.1074361   1.1389043  -1.5781983  -1.0469854   0.          0.65792954\n",
      " -0.01045457 -0.04576717  3.1019614   1.35376     0.9795631   0.97807616\n",
      "  0.92000484  0.72165745  0.98875093  0.87667835], shape=(28,), dtype=float32)\n"
     ]
    },
    {
     "data": {
      "image/png": "[encoded data removed]",
      "text/plain": [
       "<Figure size 432x288 with 1 Axes>"
      ]
     },
     "metadata": {
      "needs_background": "light"
     },
     "output_type": "display_data"
    }
   ],
   "source": [
    "for features,label in packed_ds.batch(1000).take(1):\n",
    "  print(features[0])\n",
    "  plt.hist(features.numpy().flatten(), bins = 101)"
   ]
  },
  {
   "cell_type": "markdown",
   "metadata": {},
   "source": [
    "__DD:__ This is where we will tweek to mimic the article"
   ]
  },
  {
   "cell_type": "code",
   "execution_count": 9,
   "metadata": {},
   "outputs": [],
   "source": [
    "N_VALIDATION = int(1e3)\n",
    "N_TRAIN = int(1e4)\n",
    "BUFFER_SIZE = int(1e4)\n",
    "BATCH_SIZE = 500\n",
    "STEPS_PER_EPOCH = N_TRAIN//BATCH_SIZE"
   ]
  },
  {
   "cell_type": "code",
   "execution_count": 19,
   "metadata": {},
   "outputs": [
    {
     "data": {
      "image/png": "[encoded data removed]",
      "text/plain": [
       "<Figure size 576x432 with 1 Axes>"
      ]
     },
     "metadata": {
      "needs_background": "light"
     },
     "output_type": "display_data"
    }
   ],
   "source": [
    "#The Dataset.skip and Dataset.take methods make this easy.\n",
    "#At the same time, use the Dataset.cache method to ensure that the loader doesn't need to re-read\n",
    "#the data form the file on each epoch:\n",
    "validate_ds = packed_ds.take(N_VALIDATION).cache()\n",
    "train_ds = packed_ds.skip(N_VALIDATION).take(N_TRAIN).cache()\n",
    "\n",
    "#These datasets return individual examples. Use the .batch \n",
    "#method to create batches of an appropriate size for training.\n",
    "#Before batching also remember to .shuffle and .repeat the \n",
    "#training set.\n",
    "validate_ds = validate_ds.batch(BATCH_SIZE)\n",
    "train_ds = train_ds.shuffle(BUFFER_SIZE).repeat().batch(BATCH_SIZE)\n",
    "\n",
    "#Many models train better if you gradually reduce the \n",
    "#learning rate during training. Use optimizers.schedules to\n",
    "#reduce the learning rate over time:\n",
    "lr_schedule = tf.keras.optimizers.schedules.InverseTimeDecay(\n",
    "  0.001,\n",
    "  decay_steps=STEPS_PER_EPOCH*1000,\n",
    "  decay_rate=1,\n",
    "  staircase=False)\n",
    "\n",
    "def get_optimizer():\n",
    "  return tf.keras.optimizers.Adam(lr_schedule)\n",
    "\n",
    "#The code above sets a schedules.InverseTimeDecay to \n",
    "#hyperbolically decrease the learning rate to 1/2 of the base\n",
    "#rate at 1000 epochs, 1/3 at 2000 epochs and so on.\n",
    "step = np.linspace(0,100000)\n",
    "lr = lr_schedule(step)\n",
    "plt.figure(figsize = (8,6))\n",
    "plt.plot(step/STEPS_PER_EPOCH, lr)\n",
    "plt.ylim([0,max(plt.ylim())])\n",
    "plt.xlabel('Epoch')\n",
    "_ = plt.ylabel('Learning Rate')"
   ]
  },
  {
   "cell_type": "markdown",
   "metadata": {},
   "source": [
    "Each model in this tutorial will use the same training configuration. So set these up in a reusable way, starting with the list of callbacks.\n",
    "\n",
    "The training for this tutorial runs for many short epochs. To reduce the logging noise use the tfdocs.EpochDots which simply a . for each epoch and, and a full set of metrics every 100 epochs.\n",
    "\n",
    "Next include callbacks.EarlyStopping to avoid long and unnecessary training times. Note that this callback is set to monitor the val_binary_crossentropy, not the val_loss. This difference will be important later.\n",
    "\n",
    "Use callbacks.TensorBoard to generate TensorBoard logs for the training."
   ]
  },
  {
   "cell_type": "code",
   "execution_count": 20,
   "metadata": {},
   "outputs": [],
   "source": [
    "def get_callbacks(name):\n",
    "  return [\n",
    "    tfdocs.modeling.EpochDots(),\n",
    "    tf.keras.callbacks.EarlyStopping(monitor='val_binary_crossentropy', patience=200),\n",
    "    tf.keras.callbacks.TensorBoard(logdir/name),\n",
    "  ]"
   ]
  },
  {
   "cell_type": "code",
   "execution_count": 21,
   "metadata": {},
   "outputs": [],
   "source": [
    "#Similarly each model will use the same Model.compile and \n",
    "#Model.fit settings:\n",
    "\n",
    "def compile_and_fit(model, name, optimizer=None, max_epochs=10000):\n",
    "  if optimizer is None:\n",
    "    optimizer = get_optimizer()\n",
    "  model.compile(optimizer=optimizer,\n",
    "                loss=tf.keras.losses.BinaryCrossentropy(from_logits=True),\n",
    "                metrics=[\n",
    "                  tf.keras.losses.BinaryCrossentropy(\n",
    "                      from_logits=True, name='binary_crossentropy'),\n",
    "                  'accuracy'])\n",
    "\n",
    "  model.summary()\n",
    "\n",
    "  history = model.fit(\n",
    "    train_ds,\n",
    "    steps_per_epoch = STEPS_PER_EPOCH,\n",
    "    epochs=max_epochs,\n",
    "    validation_data=validate_ds,\n",
    "    callbacks=get_callbacks(name),\n",
    "    verbose=0)\n",
    "  return history"
   ]
  },
  {
   "cell_type": "code",
   "execution_count": null,
   "metadata": {},
   "outputs": [
    {
     "name": "stdout",
     "output_type": "stream",
     "text": [
      "Model: \"sequential_1\"\n",
      "_________________________________________________________________\n",
      "Layer (type)                 Output Shape              Param #   \n",
      "=================================================================\n",
      "dense_2 (Dense)              (None, 16)                464       \n",
      "_________________________________________________________________\n",
      "dense_3 (Dense)              (None, 1)                 17        \n",
      "=================================================================\n",
      "Total params: 481\n",
      "Trainable params: 481\n",
      "Non-trainable params: 0\n",
      "_________________________________________________________________\n",
      "\n",
      "Epoch: 0, accuracy:0.4810,  binary_crossentropy:0.8416,  loss:0.8416,  val_accuracy:0.4800,  val_binary_crossentropy:0.7615,  val_loss:0.7615,  \n",
      "....................................................................................................\n",
      "Epoch: 100, accuracy:0.5873,  binary_crossentropy:0.6265,  loss:0.6265,  val_accuracy:0.5860,  val_binary_crossentropy:0.6296,  val_loss:0.6296,  \n",
      "....................................................................................................\n",
      "Epoch: 200, accuracy:0.6177,  binary_crossentropy:0.6139,  loss:0.6139,  val_accuracy:0.5990,  val_binary_crossentropy:0.6196,  val_loss:0.6196,  \n",
      "....................................................................................................\n",
      "Epoch: 300, accuracy:0.6345,  binary_crossentropy:0.6064,  loss:0.6064,  val_accuracy:0.6200,  val_binary_crossentropy:0.6104,  val_loss:0.6104,  \n",
      "....................................................................................................\n",
      "Epoch: 400, accuracy:0.6475,  binary_crossentropy:0.5980,  loss:0.5980,  val_accuracy:0.6240,  val_binary_crossentropy:0.6062,  val_loss:0.6062,  \n",
      "....................................................................................................\n",
      "Epoch: 500, accuracy:0.6560,  binary_crossentropy:0.5911,  loss:0.5911,  val_accuracy:0.6330,  val_binary_crossentropy:0.6002,  val_loss:0.6002,  \n",
      "....................................................................................................\n",
      "Epoch: 600, accuracy:0.6649,  binary_crossentropy:0.5852,  loss:0.5852,  val_accuracy:0.6600,  val_binary_crossentropy:0.5932,  val_loss:0.5932,  \n",
      "....................................................................................................\n",
      "Epoch: 700, accuracy:0.6721,  binary_crossentropy:0.5803,  loss:0.5803,  val_accuracy:0.6660,  val_binary_crossentropy:0.5881,  val_loss:0.5881,  \n",
      "....................................................................................................\n",
      "Epoch: 800, accuracy:0.6729,  binary_crossentropy:0.5773,  loss:0.5773,  val_accuracy:0.6680,  val_binary_crossentropy:0.5855,  val_loss:0.5855,  \n",
      "....................................................................................................\n",
      "Epoch: 900, accuracy:0.6736,  binary_crossentropy:0.5753,  loss:0.5753,  val_accuracy:0.6660,  val_binary_crossentropy:0.5837,  val_loss:0.5837,  \n",
      "....................................................................................................\n",
      "Epoch: 1000, accuracy:0.6738,  binary_crossentropy:0.5733,  loss:0.5733,  val_accuracy:0.6880,  val_binary_crossentropy:0.5808,  val_loss:0.5808,  \n",
      "....................................................................................................\n",
      "Epoch: 1100, accuracy:0.6790,  binary_crossentropy:0.5717,  loss:0.5717,  val_accuracy:0.6890,  val_binary_crossentropy:0.5789,  val_loss:0.5789,  \n",
      "....................................................................................................\n",
      "Epoch: 1200, accuracy:0.6813,  binary_crossentropy:0.5707,  loss:0.5707,  val_accuracy:0.6730,  val_binary_crossentropy:0.5791,  val_loss:0.5791,  \n",
      "....................................................................................................\n",
      "Epoch: 1300, accuracy:0.6817,  binary_crossentropy:0.5700,  loss:0.5700,  val_accuracy:0.6830,  val_binary_crossentropy:0.5768,  val_loss:0.5768,  \n",
      "....................................................................................................\n",
      "Epoch: 1400, accuracy:0.6809,  binary_crossentropy:0.5687,  loss:0.5687,  val_accuracy:0.6860,  val_binary_crossentropy:0.5755,  val_loss:0.5755,  \n",
      "....................................................................................................\n",
      "Epoch: 1500, accuracy:0.6817,  binary_crossentropy:0.5674,  loss:0.5674,  val_accuracy:0.6740,  val_binary_crossentropy:0.5747,  val_loss:0.5747,  \n",
      "....................................................................................................\n",
      "Epoch: 1600, accuracy:0.6833,  binary_crossentropy:0.5670,  loss:0.5670,  val_accuracy:0.6790,  val_binary_crossentropy:0.5734,  val_loss:0.5734,  \n",
      "....................................................................................................\n",
      "Epoch: 1700, accuracy:0.6838,  binary_crossentropy:0.5660,  loss:0.5660,  val_accuracy:0.6780,  val_binary_crossentropy:0.5729,  val_loss:0.5729,  \n",
      "....................................................................................................\n",
      "Epoch: 1800, accuracy:0.6851,  binary_crossentropy:0.5650,  loss:0.5650,  val_accuracy:0.6830,  val_binary_crossentropy:0.5723,  val_loss:0.5723,  \n",
      "....................................................................................................\n",
      "Epoch: 1900, accuracy:0.6887,  binary_crossentropy:0.5643,  loss:0.5643,  val_accuracy:0.6800,  val_binary_crossentropy:0.5724,  val_loss:0.5724,  \n",
      "....................................................................................................\n",
      "Epoch: 2000, accuracy:0.6889,  binary_crossentropy:0.5638,  loss:0.5638,  val_accuracy:0.6830,  val_binary_crossentropy:0.5720,  val_loss:0.5720,  \n",
      "....................................................................................................\n",
      "Epoch: 2100, accuracy:0.6898,  binary_crossentropy:0.5634,  loss:0.5634,  val_accuracy:0.6710,  val_binary_crossentropy:0.5724,  val_loss:0.5724,  \n",
      "....................................................................................................\n",
      "Epoch: 2200, accuracy:0.6890,  binary_crossentropy:0.5627,  loss:0.5627,  val_accuracy:0.6730,  val_binary_crossentropy:0.5719,  val_loss:0.5719,  \n",
      "....................................................................................................\n",
      "Epoch: 2300, accuracy:0.6883,  binary_crossentropy:0.5625,  loss:0.5625,  val_accuracy:0.6850,  val_binary_crossentropy:0.5704,  val_loss:0.5704,  \n",
      "....................................................................................................\n",
      "Epoch: 2400, accuracy:0.6902,  binary_crossentropy:0.5617,  loss:0.5617,  val_accuracy:0.6760,  val_binary_crossentropy:0.5711,  val_loss:0.5711,  \n",
      "....................................................................................................\n",
      "Epoch: 2500, accuracy:0.6921,  binary_crossentropy:0.5611,  loss:0.5611,  val_accuracy:0.6780,  val_binary_crossentropy:0.5707,  val_loss:0.5707,  \n",
      "....................................................................................................\n",
      "Epoch: 2600, accuracy:0.6906,  binary_crossentropy:0.5608,  loss:0.5608,  val_accuracy:0.6730,  val_binary_crossentropy:0.5708,  val_loss:0.5708,  \n",
      "....................................................................................................\n",
      "Epoch: 2700, accuracy:0.6932,  binary_crossentropy:0.5602,  loss:0.5602,  val_accuracy:0.6840,  val_binary_crossentropy:0.5698,  val_loss:0.5698,  \n",
      "....................................................................................................\n",
      "Epoch: 2800, accuracy:0.6930,  binary_crossentropy:0.5597,  loss:0.5597,  val_accuracy:0.6850,  val_binary_crossentropy:0.5694,  val_loss:0.5694,  \n",
      "....................."
     ]
    }
   ],
   "source": [
    "tiny_model = tf.keras.Sequential([\n",
    "    layers.Dense(16, activation='elu', input_shape=(FEATURES,)),\n",
    "    layers.Dense(1)\n",
    "])\n",
    "\n",
    "size_histories = {}\n",
    "\n",
    "size_histories['Tiny'] = compile_and_fit(tiny_model, 'sizes/Tiny')\n",
    "\n",
    "plotter = tfdocs.plots.HistoryPlotter(metric = 'binary_crossentropy', smoothing_std=10)\n",
    "plotter.plot(size_histories)\n",
    "plt.ylim([0.5, 0.7])"
   ]
  }
 ],
 "metadata": {
  "kernelspec": {
   "display_name": "Python 3",
   "language": "python",
   "name": "python3"
  },
  "language_info": {
   "codemirror_mode": {
    "name": "ipython",
    "version": 3
   },
   "file_extension": ".py",
   "mimetype": "text/x-python",
   "name": "python",
   "nbconvert_exporter": "python",
   "pygments_lexer": "ipython3",
   "version": "3.7.6"
  }
 },
 "nbformat": 4,
 "nbformat_minor": 2
}
