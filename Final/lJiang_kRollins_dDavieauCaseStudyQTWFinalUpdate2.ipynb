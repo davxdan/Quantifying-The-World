{
 "cells": [
  {
   "cell_type": "code",
   "execution_count": 1,
   "metadata": {},
   "outputs": [],
   "source": [
    "# import pandas as pd\n",
    "# import numpy as np\n",
    "\n",
    "# import matplotlib.pyplot as plt \n",
    "# #%matplotlib inline \n",
    "\n",
    "import seaborn as sns\n",
    "sns.set(color_codes=True)\n",
    "\n",
    "from sklearn.metrics import classification_report,confusion_matrix, accuracy_score, precision_score, precision_recall_fscore_support\n",
    "\n",
    "from sklearn.pipeline import make_pipeline"
   ]
  },
  {
   "cell_type": "code",
   "execution_count": 3,
   "metadata": {},
   "outputs": [],
   "source": [
    "# All imports required for analysis are below\n",
    "from __future__ import print_function\n",
    "import pandas as pd\n",
    "import numpy as np\n",
    "import pandas_profiling\n",
    "import matplotlib.pyplot as plt\n",
    "get_ipython().run_line_magic('matplotlib', 'inline')\n",
    "import warnings\n",
    "warnings.filterwarnings(\"ignore\")\n",
    "import seaborn as sns\n",
    "import ipywidgets\n",
    "from ipywidgets import widgets as wd\n",
    "import sklearn\n",
    "# from sklearn import svm\n",
    "# from sklearn.svm import SVC\n",
    "from sklearn.model_selection import GridSearchCV, cross_val_score\n",
    "from sklearn import metrics as mt\n",
    "from sklearn import preprocessing\n",
    "from sklearn.model_selection import ShuffleSplit\n",
    "from sklearn.linear_model import LogisticRegression\n",
    "from sklearn.linear_model import SGDClassifier\n",
    "from sklearn.ensemble import RandomForestClassifier\n",
    "from sklearn.preprocessing import StandardScaler\n",
    "from sklearn.model_selection import StratifiedShuffleSplit\n",
    "from sklearn.model_selection import train_test_split\n",
    "from sklearn.metrics import accuracy_score\n",
    "from sklearn.metrics import f1_score\n",
    "from sklearn.metrics import roc_auc_score\n",
    "from sklearn.decomposition import PCA \n",
    "from sklearn.pipeline import Pipeline\n",
    "import sklearn.metrics as metrics\n",
    "from xgboost import XGBClassifier\n",
    "import xgboost as xgb\n",
    "from sklearn.model_selection import StratifiedKFold\n",
    "from sklearn.model_selection import RandomizedSearchCV\n",
    "from datetime import datetime\n",
    "import glob\n",
    "import os\n",
    "from IPython.display import Image\n",
    "\n"
   ]
  },
  {
   "cell_type": "code",
   "execution_count": 3,
   "metadata": {},
   "outputs": [
    {
     "data": {
      "text/html": [
       "<div>\n",
       "<style scoped>\n",
       "    .dataframe tbody tr th:only-of-type {\n",
       "        vertical-align: middle;\n",
       "    }\n",
       "\n",
       "    .dataframe tbody tr th {\n",
       "        vertical-align: top;\n",
       "    }\n",
       "\n",
       "    .dataframe thead th {\n",
       "        text-align: right;\n",
       "    }\n",
       "</style>\n",
       "<table border=\"1\" class=\"dataframe\">\n",
       "  <thead>\n",
       "    <tr style=\"text-align: right;\">\n",
       "      <th></th>\n",
       "      <th>x0</th>\n",
       "      <th>x1</th>\n",
       "      <th>x2</th>\n",
       "      <th>x3</th>\n",
       "      <th>x4</th>\n",
       "      <th>x5</th>\n",
       "      <th>x6</th>\n",
       "      <th>x7</th>\n",
       "      <th>x8</th>\n",
       "      <th>x9</th>\n",
       "      <th>...</th>\n",
       "      <th>x41</th>\n",
       "      <th>x42</th>\n",
       "      <th>x43</th>\n",
       "      <th>x44</th>\n",
       "      <th>x45</th>\n",
       "      <th>x46</th>\n",
       "      <th>x47</th>\n",
       "      <th>x48</th>\n",
       "      <th>x49</th>\n",
       "      <th>y</th>\n",
       "    </tr>\n",
       "  </thead>\n",
       "  <tbody>\n",
       "    <tr>\n",
       "      <th>0</th>\n",
       "      <td>-0.166563</td>\n",
       "      <td>-3.961588</td>\n",
       "      <td>4.621113</td>\n",
       "      <td>2.481908</td>\n",
       "      <td>-1.800135</td>\n",
       "      <td>0.804684</td>\n",
       "      <td>6.718751</td>\n",
       "      <td>-14.789997</td>\n",
       "      <td>-1.040673</td>\n",
       "      <td>-4.204950</td>\n",
       "      <td>...</td>\n",
       "      <td>-1.497117</td>\n",
       "      <td>5.414063</td>\n",
       "      <td>-2.325655</td>\n",
       "      <td>1.674827</td>\n",
       "      <td>-0.264332</td>\n",
       "      <td>60.781427</td>\n",
       "      <td>-7.689696</td>\n",
       "      <td>0.151589</td>\n",
       "      <td>-8.040166</td>\n",
       "      <td>0</td>\n",
       "    </tr>\n",
       "    <tr>\n",
       "      <th>1</th>\n",
       "      <td>-0.149894</td>\n",
       "      <td>-0.585676</td>\n",
       "      <td>27.839856</td>\n",
       "      <td>4.152333</td>\n",
       "      <td>6.426802</td>\n",
       "      <td>-2.426943</td>\n",
       "      <td>40.477058</td>\n",
       "      <td>-6.725709</td>\n",
       "      <td>0.896421</td>\n",
       "      <td>0.330165</td>\n",
       "      <td>...</td>\n",
       "      <td>36.292790</td>\n",
       "      <td>4.490915</td>\n",
       "      <td>0.762561</td>\n",
       "      <td>6.526662</td>\n",
       "      <td>1.007927</td>\n",
       "      <td>15.805696</td>\n",
       "      <td>-4.896678</td>\n",
       "      <td>-0.320283</td>\n",
       "      <td>16.719974</td>\n",
       "      <td>0</td>\n",
       "    </tr>\n",
       "    <tr>\n",
       "      <th>2</th>\n",
       "      <td>-0.321707</td>\n",
       "      <td>-1.429819</td>\n",
       "      <td>12.251561</td>\n",
       "      <td>6.586874</td>\n",
       "      <td>-5.304647</td>\n",
       "      <td>-11.311090</td>\n",
       "      <td>17.812850</td>\n",
       "      <td>11.060572</td>\n",
       "      <td>5.325880</td>\n",
       "      <td>-2.632984</td>\n",
       "      <td>...</td>\n",
       "      <td>-0.368491</td>\n",
       "      <td>9.088864</td>\n",
       "      <td>-0.689886</td>\n",
       "      <td>-2.731118</td>\n",
       "      <td>0.754200</td>\n",
       "      <td>30.856417</td>\n",
       "      <td>-7.428573</td>\n",
       "      <td>-2.090804</td>\n",
       "      <td>-7.869421</td>\n",
       "      <td>0</td>\n",
       "    </tr>\n",
       "    <tr>\n",
       "      <th>3</th>\n",
       "      <td>-0.245594</td>\n",
       "      <td>5.076677</td>\n",
       "      <td>-24.149632</td>\n",
       "      <td>3.637307</td>\n",
       "      <td>6.505811</td>\n",
       "      <td>2.290224</td>\n",
       "      <td>-35.111751</td>\n",
       "      <td>-18.913592</td>\n",
       "      <td>-0.337041</td>\n",
       "      <td>-5.568076</td>\n",
       "      <td>...</td>\n",
       "      <td>15.691546</td>\n",
       "      <td>-7.467775</td>\n",
       "      <td>2.940789</td>\n",
       "      <td>-6.424112</td>\n",
       "      <td>0.419776</td>\n",
       "      <td>-72.424569</td>\n",
       "      <td>5.361375</td>\n",
       "      <td>1.806070</td>\n",
       "      <td>-7.670847</td>\n",
       "      <td>0</td>\n",
       "    </tr>\n",
       "    <tr>\n",
       "      <th>4</th>\n",
       "      <td>-0.273366</td>\n",
       "      <td>0.306326</td>\n",
       "      <td>-11.352593</td>\n",
       "      <td>1.676758</td>\n",
       "      <td>2.928441</td>\n",
       "      <td>-0.616824</td>\n",
       "      <td>-16.505817</td>\n",
       "      <td>27.532281</td>\n",
       "      <td>1.199715</td>\n",
       "      <td>-4.309105</td>\n",
       "      <td>...</td>\n",
       "      <td>-13.911297</td>\n",
       "      <td>-5.229937</td>\n",
       "      <td>1.783928</td>\n",
       "      <td>3.957801</td>\n",
       "      <td>-0.096988</td>\n",
       "      <td>-14.085435</td>\n",
       "      <td>-0.208351</td>\n",
       "      <td>-0.894942</td>\n",
       "      <td>15.724742</td>\n",
       "      <td>1</td>\n",
       "    </tr>\n",
       "  </tbody>\n",
       "</table>\n",
       "<p>5 rows × 51 columns</p>\n",
       "</div>"
      ],
      "text/plain": [
       "         x0        x1         x2        x3        x4         x5         x6  \\\n",
       "0 -0.166563 -3.961588   4.621113  2.481908 -1.800135   0.804684   6.718751   \n",
       "1 -0.149894 -0.585676  27.839856  4.152333  6.426802  -2.426943  40.477058   \n",
       "2 -0.321707 -1.429819  12.251561  6.586874 -5.304647 -11.311090  17.812850   \n",
       "3 -0.245594  5.076677 -24.149632  3.637307  6.505811   2.290224 -35.111751   \n",
       "4 -0.273366  0.306326 -11.352593  1.676758  2.928441  -0.616824 -16.505817   \n",
       "\n",
       "          x7        x8        x9  ...        x41       x42       x43  \\\n",
       "0 -14.789997 -1.040673 -4.204950  ...  -1.497117  5.414063 -2.325655   \n",
       "1  -6.725709  0.896421  0.330165  ...  36.292790  4.490915  0.762561   \n",
       "2  11.060572  5.325880 -2.632984  ...  -0.368491  9.088864 -0.689886   \n",
       "3 -18.913592 -0.337041 -5.568076  ...  15.691546 -7.467775  2.940789   \n",
       "4  27.532281  1.199715 -4.309105  ... -13.911297 -5.229937  1.783928   \n",
       "\n",
       "        x44       x45        x46       x47       x48        x49  y  \n",
       "0  1.674827 -0.264332  60.781427 -7.689696  0.151589  -8.040166  0  \n",
       "1  6.526662  1.007927  15.805696 -4.896678 -0.320283  16.719974  0  \n",
       "2 -2.731118  0.754200  30.856417 -7.428573 -2.090804  -7.869421  0  \n",
       "3 -6.424112  0.419776 -72.424569  5.361375  1.806070  -7.670847  0  \n",
       "4  3.957801 -0.096988 -14.085435 -0.208351 -0.894942  15.724742  1  \n",
       "\n",
       "[5 rows x 51 columns]"
      ]
     },
     "execution_count": 3,
     "metadata": {},
     "output_type": "execute_result"
    }
   ],
   "source": [
    "directory = 'C:/Users/N1110/Desktop/QTW/QTW_Final/'\n",
    "df_raw = pd.read_csv('final_project.csv')\n",
    "df_raw.head()"
   ]
  },
  {
   "cell_type": "code",
   "execution_count": 4,
   "metadata": {},
   "outputs": [
    {
     "data": {
      "text/plain": [
       "(160000, 51)"
      ]
     },
     "execution_count": 4,
     "metadata": {},
     "output_type": "execute_result"
    }
   ],
   "source": [
    "df_raw.shape"
   ]
  },
  {
   "cell_type": "markdown",
   "metadata": {},
   "source": [
    "## Data Cleaning"
   ]
  },
  {
   "cell_type": "code",
   "execution_count": 5,
   "metadata": {},
   "outputs": [
    {
     "data": {
      "text/plain": [
       "x0     float64\n",
       "x1     float64\n",
       "x2     float64\n",
       "x3     float64\n",
       "x4     float64\n",
       "x5     float64\n",
       "x6     float64\n",
       "x7     float64\n",
       "x8     float64\n",
       "x9     float64\n",
       "x10    float64\n",
       "x11    float64\n",
       "x12    float64\n",
       "x13    float64\n",
       "x14    float64\n",
       "x15    float64\n",
       "x16    float64\n",
       "x17    float64\n",
       "x18    float64\n",
       "x19    float64\n",
       "x20    float64\n",
       "x21    float64\n",
       "x22    float64\n",
       "x23    float64\n",
       "x24     object\n",
       "x25    float64\n",
       "x26    float64\n",
       "x27    float64\n",
       "x28    float64\n",
       "x29     object\n",
       "x30     object\n",
       "x31    float64\n",
       "x32     object\n",
       "x33    float64\n",
       "x34    float64\n",
       "x35    float64\n",
       "x36    float64\n",
       "x37     object\n",
       "x38    float64\n",
       "x39    float64\n",
       "x40    float64\n",
       "x41    float64\n",
       "x42    float64\n",
       "x43    float64\n",
       "x44    float64\n",
       "x45    float64\n",
       "x46    float64\n",
       "x47    float64\n",
       "x48    float64\n",
       "x49    float64\n",
       "y        int64\n",
       "dtype: object"
      ]
     },
     "execution_count": 5,
     "metadata": {},
     "output_type": "execute_result"
    }
   ],
   "source": [
    "df_raw.dtypes\n",
    "\n",
    "# x24     object - continents -one hot encoding\n",
    "# x29     object - month-one hot encoding\n",
    "# x30     object - day-one hot encoding\n",
    "# x32     object - can be tranform to float\n",
    "# x37     object - can be tranform to float"
   ]
  },
  {
   "cell_type": "code",
   "execution_count": 6,
   "metadata": {},
   "outputs": [],
   "source": [
    "#data cleaning\n",
    "df_raw['x32'] = df_raw['x32'].str.replace('%', '')\n",
    "df_raw['x32'] = df_raw['x32'].astype(float)\n"
   ]
  },
  {
   "cell_type": "code",
   "execution_count": 7,
   "metadata": {},
   "outputs": [
    {
     "data": {
      "text/plain": [
       "0    0.00\n",
       "1   -0.02\n",
       "2   -0.01\n",
       "3    0.01\n",
       "4    0.01\n",
       "Name: x32, dtype: float64"
      ]
     },
     "execution_count": 7,
     "metadata": {},
     "output_type": "execute_result"
    }
   ],
   "source": [
    "df_raw.x32.head()"
   ]
  },
  {
   "cell_type": "code",
   "execution_count": 8,
   "metadata": {},
   "outputs": [
    {
     "data": {
      "text/plain": [
       "0    1313.96\n",
       "1    1962.78\n",
       "2     430.47\n",
       "3   -2366.29\n",
       "4    -620.66\n",
       "Name: x37, dtype: float64"
      ]
     },
     "execution_count": 8,
     "metadata": {},
     "output_type": "execute_result"
    }
   ],
   "source": [
    "df_raw['x37'] = df_raw['x37'].str.replace('$', '')\n",
    "df_raw['x37'] = df_raw['x37'].astype(float)\n",
    "df_raw.x37.head()"
   ]
  },
  {
   "cell_type": "code",
   "execution_count": 9,
   "metadata": {},
   "outputs": [
    {
     "data": {
      "text/html": [
       "<div>\n",
       "<style scoped>\n",
       "    .dataframe tbody tr th:only-of-type {\n",
       "        vertical-align: middle;\n",
       "    }\n",
       "\n",
       "    .dataframe tbody tr th {\n",
       "        vertical-align: top;\n",
       "    }\n",
       "\n",
       "    .dataframe thead th {\n",
       "        text-align: right;\n",
       "    }\n",
       "</style>\n",
       "<table border=\"1\" class=\"dataframe\">\n",
       "  <thead>\n",
       "    <tr style=\"text-align: right;\">\n",
       "      <th></th>\n",
       "      <th>x0</th>\n",
       "      <th>x1</th>\n",
       "      <th>x2</th>\n",
       "      <th>x3</th>\n",
       "      <th>x4</th>\n",
       "      <th>x5</th>\n",
       "      <th>x6</th>\n",
       "      <th>x7</th>\n",
       "      <th>x8</th>\n",
       "      <th>x9</th>\n",
       "      <th>...</th>\n",
       "      <th>x41</th>\n",
       "      <th>x42</th>\n",
       "      <th>x43</th>\n",
       "      <th>x44</th>\n",
       "      <th>x45</th>\n",
       "      <th>x46</th>\n",
       "      <th>x47</th>\n",
       "      <th>x48</th>\n",
       "      <th>x49</th>\n",
       "      <th>y</th>\n",
       "    </tr>\n",
       "  </thead>\n",
       "  <tbody>\n",
       "    <tr>\n",
       "      <th>count</th>\n",
       "      <td>159974.000000</td>\n",
       "      <td>159975.000000</td>\n",
       "      <td>159962.000000</td>\n",
       "      <td>159963.000000</td>\n",
       "      <td>159974.000000</td>\n",
       "      <td>159963.000000</td>\n",
       "      <td>159974.000000</td>\n",
       "      <td>159973.000000</td>\n",
       "      <td>159979.000000</td>\n",
       "      <td>159970.000000</td>\n",
       "      <td>...</td>\n",
       "      <td>159960.000000</td>\n",
       "      <td>159974.000000</td>\n",
       "      <td>159963.000000</td>\n",
       "      <td>159960.000000</td>\n",
       "      <td>159971.000000</td>\n",
       "      <td>159969.000000</td>\n",
       "      <td>159963.000000</td>\n",
       "      <td>159968.000000</td>\n",
       "      <td>159968.000000</td>\n",
       "      <td>160000.000000</td>\n",
       "    </tr>\n",
       "    <tr>\n",
       "      <th>mean</th>\n",
       "      <td>-0.001028</td>\n",
       "      <td>0.001358</td>\n",
       "      <td>-1.150145</td>\n",
       "      <td>-0.024637</td>\n",
       "      <td>-0.000549</td>\n",
       "      <td>0.013582</td>\n",
       "      <td>-1.670670</td>\n",
       "      <td>-7.692795</td>\n",
       "      <td>-0.030540</td>\n",
       "      <td>0.005462</td>\n",
       "      <td>...</td>\n",
       "      <td>6.701076</td>\n",
       "      <td>-1.833820</td>\n",
       "      <td>-0.002091</td>\n",
       "      <td>-0.006250</td>\n",
       "      <td>0.000885</td>\n",
       "      <td>-12.755395</td>\n",
       "      <td>0.028622</td>\n",
       "      <td>-0.000224</td>\n",
       "      <td>-0.674224</td>\n",
       "      <td>0.401231</td>\n",
       "    </tr>\n",
       "    <tr>\n",
       "      <th>std</th>\n",
       "      <td>0.371137</td>\n",
       "      <td>6.340632</td>\n",
       "      <td>13.273480</td>\n",
       "      <td>8.065032</td>\n",
       "      <td>6.382293</td>\n",
       "      <td>7.670076</td>\n",
       "      <td>19.298665</td>\n",
       "      <td>30.542264</td>\n",
       "      <td>8.901185</td>\n",
       "      <td>6.355040</td>\n",
       "      <td>...</td>\n",
       "      <td>18.680196</td>\n",
       "      <td>5.110705</td>\n",
       "      <td>1.534952</td>\n",
       "      <td>4.164595</td>\n",
       "      <td>0.396621</td>\n",
       "      <td>36.608641</td>\n",
       "      <td>4.788157</td>\n",
       "      <td>1.935501</td>\n",
       "      <td>15.036738</td>\n",
       "      <td>0.490149</td>\n",
       "    </tr>\n",
       "    <tr>\n",
       "      <th>min</th>\n",
       "      <td>-1.592635</td>\n",
       "      <td>-26.278302</td>\n",
       "      <td>-59.394048</td>\n",
       "      <td>-35.476594</td>\n",
       "      <td>-28.467536</td>\n",
       "      <td>-33.822988</td>\n",
       "      <td>-86.354483</td>\n",
       "      <td>-181.506976</td>\n",
       "      <td>-37.691045</td>\n",
       "      <td>-27.980659</td>\n",
       "      <td>...</td>\n",
       "      <td>-82.167224</td>\n",
       "      <td>-27.933750</td>\n",
       "      <td>-6.876234</td>\n",
       "      <td>-17.983487</td>\n",
       "      <td>-1.753221</td>\n",
       "      <td>-201.826828</td>\n",
       "      <td>-21.086333</td>\n",
       "      <td>-8.490155</td>\n",
       "      <td>-65.791191</td>\n",
       "      <td>0.000000</td>\n",
       "    </tr>\n",
       "    <tr>\n",
       "      <th>25%</th>\n",
       "      <td>-0.251641</td>\n",
       "      <td>-4.260973</td>\n",
       "      <td>-10.166536</td>\n",
       "      <td>-5.454438</td>\n",
       "      <td>-4.313118</td>\n",
       "      <td>-5.148130</td>\n",
       "      <td>-14.780146</td>\n",
       "      <td>-27.324771</td>\n",
       "      <td>-6.031058</td>\n",
       "      <td>-4.260619</td>\n",
       "      <td>...</td>\n",
       "      <td>-5.804080</td>\n",
       "      <td>-5.162869</td>\n",
       "      <td>-1.039677</td>\n",
       "      <td>-2.812055</td>\n",
       "      <td>-0.266518</td>\n",
       "      <td>-36.428329</td>\n",
       "      <td>-3.216016</td>\n",
       "      <td>-1.320800</td>\n",
       "      <td>-10.931753</td>\n",
       "      <td>0.000000</td>\n",
       "    </tr>\n",
       "    <tr>\n",
       "      <th>50%</th>\n",
       "      <td>-0.002047</td>\n",
       "      <td>0.004813</td>\n",
       "      <td>-1.340932</td>\n",
       "      <td>-0.031408</td>\n",
       "      <td>0.000857</td>\n",
       "      <td>0.014118</td>\n",
       "      <td>-1.948594</td>\n",
       "      <td>-6.956789</td>\n",
       "      <td>-0.016840</td>\n",
       "      <td>0.006045</td>\n",
       "      <td>...</td>\n",
       "      <td>6.840110</td>\n",
       "      <td>-1.923754</td>\n",
       "      <td>-0.004385</td>\n",
       "      <td>-0.010484</td>\n",
       "      <td>0.001645</td>\n",
       "      <td>-12.982497</td>\n",
       "      <td>0.035865</td>\n",
       "      <td>-0.011993</td>\n",
       "      <td>-0.574410</td>\n",
       "      <td>0.000000</td>\n",
       "    </tr>\n",
       "    <tr>\n",
       "      <th>75%</th>\n",
       "      <td>0.248532</td>\n",
       "      <td>4.284220</td>\n",
       "      <td>7.871676</td>\n",
       "      <td>5.445179</td>\n",
       "      <td>4.306660</td>\n",
       "      <td>5.190749</td>\n",
       "      <td>11.446931</td>\n",
       "      <td>12.217071</td>\n",
       "      <td>5.972349</td>\n",
       "      <td>4.305734</td>\n",
       "      <td>...</td>\n",
       "      <td>19.266367</td>\n",
       "      <td>1.453507</td>\n",
       "      <td>1.033275</td>\n",
       "      <td>2.783274</td>\n",
       "      <td>0.269049</td>\n",
       "      <td>11.445443</td>\n",
       "      <td>3.268028</td>\n",
       "      <td>1.317703</td>\n",
       "      <td>9.651072</td>\n",
       "      <td>1.000000</td>\n",
       "    </tr>\n",
       "    <tr>\n",
       "      <th>max</th>\n",
       "      <td>1.600849</td>\n",
       "      <td>27.988178</td>\n",
       "      <td>63.545653</td>\n",
       "      <td>38.906025</td>\n",
       "      <td>26.247812</td>\n",
       "      <td>35.550110</td>\n",
       "      <td>92.390605</td>\n",
       "      <td>149.150634</td>\n",
       "      <td>39.049831</td>\n",
       "      <td>27.377842</td>\n",
       "      <td>...</td>\n",
       "      <td>100.050432</td>\n",
       "      <td>22.668041</td>\n",
       "      <td>6.680922</td>\n",
       "      <td>19.069759</td>\n",
       "      <td>1.669205</td>\n",
       "      <td>150.859415</td>\n",
       "      <td>20.836854</td>\n",
       "      <td>8.226552</td>\n",
       "      <td>66.877604</td>\n",
       "      <td>1.000000</td>\n",
       "    </tr>\n",
       "  </tbody>\n",
       "</table>\n",
       "<p>8 rows × 48 columns</p>\n",
       "</div>"
      ],
      "text/plain": [
       "                  x0             x1             x2             x3  \\\n",
       "count  159974.000000  159975.000000  159962.000000  159963.000000   \n",
       "mean       -0.001028       0.001358      -1.150145      -0.024637   \n",
       "std         0.371137       6.340632      13.273480       8.065032   \n",
       "min        -1.592635     -26.278302     -59.394048     -35.476594   \n",
       "25%        -0.251641      -4.260973     -10.166536      -5.454438   \n",
       "50%        -0.002047       0.004813      -1.340932      -0.031408   \n",
       "75%         0.248532       4.284220       7.871676       5.445179   \n",
       "max         1.600849      27.988178      63.545653      38.906025   \n",
       "\n",
       "                  x4             x5             x6             x7  \\\n",
       "count  159974.000000  159963.000000  159974.000000  159973.000000   \n",
       "mean       -0.000549       0.013582      -1.670670      -7.692795   \n",
       "std         6.382293       7.670076      19.298665      30.542264   \n",
       "min       -28.467536     -33.822988     -86.354483    -181.506976   \n",
       "25%        -4.313118      -5.148130     -14.780146     -27.324771   \n",
       "50%         0.000857       0.014118      -1.948594      -6.956789   \n",
       "75%         4.306660       5.190749      11.446931      12.217071   \n",
       "max        26.247812      35.550110      92.390605     149.150634   \n",
       "\n",
       "                  x8             x9  ...            x41            x42  \\\n",
       "count  159979.000000  159970.000000  ...  159960.000000  159974.000000   \n",
       "mean       -0.030540       0.005462  ...       6.701076      -1.833820   \n",
       "std         8.901185       6.355040  ...      18.680196       5.110705   \n",
       "min       -37.691045     -27.980659  ...     -82.167224     -27.933750   \n",
       "25%        -6.031058      -4.260619  ...      -5.804080      -5.162869   \n",
       "50%        -0.016840       0.006045  ...       6.840110      -1.923754   \n",
       "75%         5.972349       4.305734  ...      19.266367       1.453507   \n",
       "max        39.049831      27.377842  ...     100.050432      22.668041   \n",
       "\n",
       "                 x43            x44            x45            x46  \\\n",
       "count  159963.000000  159960.000000  159971.000000  159969.000000   \n",
       "mean       -0.002091      -0.006250       0.000885     -12.755395   \n",
       "std         1.534952       4.164595       0.396621      36.608641   \n",
       "min        -6.876234     -17.983487      -1.753221    -201.826828   \n",
       "25%        -1.039677      -2.812055      -0.266518     -36.428329   \n",
       "50%        -0.004385      -0.010484       0.001645     -12.982497   \n",
       "75%         1.033275       2.783274       0.269049      11.445443   \n",
       "max         6.680922      19.069759       1.669205     150.859415   \n",
       "\n",
       "                 x47            x48            x49              y  \n",
       "count  159963.000000  159968.000000  159968.000000  160000.000000  \n",
       "mean        0.028622      -0.000224      -0.674224       0.401231  \n",
       "std         4.788157       1.935501      15.036738       0.490149  \n",
       "min       -21.086333      -8.490155     -65.791191       0.000000  \n",
       "25%        -3.216016      -1.320800     -10.931753       0.000000  \n",
       "50%         0.035865      -0.011993      -0.574410       0.000000  \n",
       "75%         3.268028       1.317703       9.651072       1.000000  \n",
       "max        20.836854       8.226552      66.877604       1.000000  \n",
       "\n",
       "[8 rows x 48 columns]"
      ]
     },
     "execution_count": 9,
     "metadata": {},
     "output_type": "execute_result"
    }
   ],
   "source": [
    "df_raw.describe()\n"
   ]
  },
  {
   "cell_type": "code",
   "execution_count": 10,
   "metadata": {},
   "outputs": [
    {
     "data": {
      "text/html": [
       "<style  type=\"text/css\" >\n",
       "    #T_76f6609c_7c7a_11ea_9da1_54ee75e982f0row0_col0 {\n",
       "            background-color:  #ffe5e5;\n",
       "            color:  #000000;\n",
       "        }    #T_76f6609c_7c7a_11ea_9da1_54ee75e982f0row0_col1 {\n",
       "            background-color:  #ffe5e5;\n",
       "            color:  #000000;\n",
       "        }    #T_76f6609c_7c7a_11ea_9da1_54ee75e982f0row1_col0 {\n",
       "            background-color:  #ffdddd;\n",
       "            color:  #000000;\n",
       "        }    #T_76f6609c_7c7a_11ea_9da1_54ee75e982f0row1_col1 {\n",
       "            background-color:  #ffe5e5;\n",
       "            color:  #000000;\n",
       "        }    #T_76f6609c_7c7a_11ea_9da1_54ee75e982f0row2_col0 {\n",
       "            background-color:  #ffd4d4;\n",
       "            color:  #000000;\n",
       "        }    #T_76f6609c_7c7a_11ea_9da1_54ee75e982f0row2_col1 {\n",
       "            background-color:  #ffe5e5;\n",
       "            color:  #000000;\n",
       "        }    #T_76f6609c_7c7a_11ea_9da1_54ee75e982f0row3_col0 {\n",
       "            background-color:  #ffd4d4;\n",
       "            color:  #000000;\n",
       "        }    #T_76f6609c_7c7a_11ea_9da1_54ee75e982f0row3_col1 {\n",
       "            background-color:  #ffe5e5;\n",
       "            color:  #000000;\n",
       "        }    #T_76f6609c_7c7a_11ea_9da1_54ee75e982f0row4_col0 {\n",
       "            background-color:  #ffc2c2;\n",
       "            color:  #000000;\n",
       "        }    #T_76f6609c_7c7a_11ea_9da1_54ee75e982f0row4_col1 {\n",
       "            background-color:  #ff7272;\n",
       "            color:  #000000;\n",
       "        }    #T_76f6609c_7c7a_11ea_9da1_54ee75e982f0row5_col0 {\n",
       "            background-color:  #ffb9b9;\n",
       "            color:  #000000;\n",
       "        }    #T_76f6609c_7c7a_11ea_9da1_54ee75e982f0row5_col1 {\n",
       "            background-color:  #ff7272;\n",
       "            color:  #000000;\n",
       "        }    #T_76f6609c_7c7a_11ea_9da1_54ee75e982f0row6_col0 {\n",
       "            background-color:  #ffb9b9;\n",
       "            color:  #000000;\n",
       "        }    #T_76f6609c_7c7a_11ea_9da1_54ee75e982f0row6_col1 {\n",
       "            background-color:  #ff7272;\n",
       "            color:  #000000;\n",
       "        }    #T_76f6609c_7c7a_11ea_9da1_54ee75e982f0row7_col0 {\n",
       "            background-color:  #ffb9b9;\n",
       "            color:  #000000;\n",
       "        }    #T_76f6609c_7c7a_11ea_9da1_54ee75e982f0row7_col1 {\n",
       "            background-color:  #ff7272;\n",
       "            color:  #000000;\n",
       "        }    #T_76f6609c_7c7a_11ea_9da1_54ee75e982f0row8_col0 {\n",
       "            background-color:  #ffb9b9;\n",
       "            color:  #000000;\n",
       "        }    #T_76f6609c_7c7a_11ea_9da1_54ee75e982f0row8_col1 {\n",
       "            background-color:  #ff7272;\n",
       "            color:  #000000;\n",
       "        }    #T_76f6609c_7c7a_11ea_9da1_54ee75e982f0row9_col0 {\n",
       "            background-color:  #ffb9b9;\n",
       "            color:  #000000;\n",
       "        }    #T_76f6609c_7c7a_11ea_9da1_54ee75e982f0row9_col1 {\n",
       "            background-color:  #ff7272;\n",
       "            color:  #000000;\n",
       "        }    #T_76f6609c_7c7a_11ea_9da1_54ee75e982f0row10_col0 {\n",
       "            background-color:  #ffb0b0;\n",
       "            color:  #000000;\n",
       "        }    #T_76f6609c_7c7a_11ea_9da1_54ee75e982f0row10_col1 {\n",
       "            background-color:  #ff7272;\n",
       "            color:  #000000;\n",
       "        }    #T_76f6609c_7c7a_11ea_9da1_54ee75e982f0row11_col0 {\n",
       "            background-color:  #ffb0b0;\n",
       "            color:  #000000;\n",
       "        }    #T_76f6609c_7c7a_11ea_9da1_54ee75e982f0row11_col1 {\n",
       "            background-color:  #ff7272;\n",
       "            color:  #000000;\n",
       "        }    #T_76f6609c_7c7a_11ea_9da1_54ee75e982f0row12_col0 {\n",
       "            background-color:  #ffb0b0;\n",
       "            color:  #000000;\n",
       "        }    #T_76f6609c_7c7a_11ea_9da1_54ee75e982f0row12_col1 {\n",
       "            background-color:  #ff7272;\n",
       "            color:  #000000;\n",
       "        }    #T_76f6609c_7c7a_11ea_9da1_54ee75e982f0row13_col0 {\n",
       "            background-color:  #ffb0b0;\n",
       "            color:  #000000;\n",
       "        }    #T_76f6609c_7c7a_11ea_9da1_54ee75e982f0row13_col1 {\n",
       "            background-color:  #ff7272;\n",
       "            color:  #000000;\n",
       "        }    #T_76f6609c_7c7a_11ea_9da1_54ee75e982f0row14_col0 {\n",
       "            background-color:  #ffa8a8;\n",
       "            color:  #000000;\n",
       "        }    #T_76f6609c_7c7a_11ea_9da1_54ee75e982f0row14_col1 {\n",
       "            background-color:  #ff7272;\n",
       "            color:  #000000;\n",
       "        }    #T_76f6609c_7c7a_11ea_9da1_54ee75e982f0row15_col0 {\n",
       "            background-color:  #ff9f9f;\n",
       "            color:  #000000;\n",
       "        }    #T_76f6609c_7c7a_11ea_9da1_54ee75e982f0row15_col1 {\n",
       "            background-color:  #ff7272;\n",
       "            color:  #000000;\n",
       "        }    #T_76f6609c_7c7a_11ea_9da1_54ee75e982f0row16_col0 {\n",
       "            background-color:  #ff9f9f;\n",
       "            color:  #000000;\n",
       "        }    #T_76f6609c_7c7a_11ea_9da1_54ee75e982f0row16_col1 {\n",
       "            background-color:  #ff7272;\n",
       "            color:  #000000;\n",
       "        }    #T_76f6609c_7c7a_11ea_9da1_54ee75e982f0row17_col0 {\n",
       "            background-color:  #ff9696;\n",
       "            color:  #000000;\n",
       "        }    #T_76f6609c_7c7a_11ea_9da1_54ee75e982f0row17_col1 {\n",
       "            background-color:  #ff7272;\n",
       "            color:  #000000;\n",
       "        }    #T_76f6609c_7c7a_11ea_9da1_54ee75e982f0row18_col0 {\n",
       "            background-color:  #ff9696;\n",
       "            color:  #000000;\n",
       "        }    #T_76f6609c_7c7a_11ea_9da1_54ee75e982f0row18_col1 {\n",
       "            background-color:  #ff7272;\n",
       "            color:  #000000;\n",
       "        }    #T_76f6609c_7c7a_11ea_9da1_54ee75e982f0row19_col0 {\n",
       "            background-color:  #ff9696;\n",
       "            color:  #000000;\n",
       "        }    #T_76f6609c_7c7a_11ea_9da1_54ee75e982f0row19_col1 {\n",
       "            background-color:  #ff7272;\n",
       "            color:  #000000;\n",
       "        }    #T_76f6609c_7c7a_11ea_9da1_54ee75e982f0row20_col0 {\n",
       "            background-color:  #ff9696;\n",
       "            color:  #000000;\n",
       "        }    #T_76f6609c_7c7a_11ea_9da1_54ee75e982f0row20_col1 {\n",
       "            background-color:  #ff7272;\n",
       "            color:  #000000;\n",
       "        }    #T_76f6609c_7c7a_11ea_9da1_54ee75e982f0row21_col0 {\n",
       "            background-color:  #ff9696;\n",
       "            color:  #000000;\n",
       "        }    #T_76f6609c_7c7a_11ea_9da1_54ee75e982f0row21_col1 {\n",
       "            background-color:  #ff7272;\n",
       "            color:  #000000;\n",
       "        }    #T_76f6609c_7c7a_11ea_9da1_54ee75e982f0row22_col0 {\n",
       "            background-color:  #ff9696;\n",
       "            color:  #000000;\n",
       "        }    #T_76f6609c_7c7a_11ea_9da1_54ee75e982f0row22_col1 {\n",
       "            background-color:  #ff7272;\n",
       "            color:  #000000;\n",
       "        }    #T_76f6609c_7c7a_11ea_9da1_54ee75e982f0row23_col0 {\n",
       "            background-color:  #ff8d8d;\n",
       "            color:  #000000;\n",
       "        }    #T_76f6609c_7c7a_11ea_9da1_54ee75e982f0row23_col1 {\n",
       "            background-color:  #ff7272;\n",
       "            color:  #000000;\n",
       "        }    #T_76f6609c_7c7a_11ea_9da1_54ee75e982f0row24_col0 {\n",
       "            background-color:  #ff8d8d;\n",
       "            color:  #000000;\n",
       "        }    #T_76f6609c_7c7a_11ea_9da1_54ee75e982f0row24_col1 {\n",
       "            background-color:  #ff7272;\n",
       "            color:  #000000;\n",
       "        }    #T_76f6609c_7c7a_11ea_9da1_54ee75e982f0row25_col0 {\n",
       "            background-color:  #ff8d8d;\n",
       "            color:  #000000;\n",
       "        }    #T_76f6609c_7c7a_11ea_9da1_54ee75e982f0row25_col1 {\n",
       "            background-color:  #ff7272;\n",
       "            color:  #000000;\n",
       "        }    #T_76f6609c_7c7a_11ea_9da1_54ee75e982f0row26_col0 {\n",
       "            background-color:  #ff8d8d;\n",
       "            color:  #000000;\n",
       "        }    #T_76f6609c_7c7a_11ea_9da1_54ee75e982f0row26_col1 {\n",
       "            background-color:  #ff7272;\n",
       "            color:  #000000;\n",
       "        }    #T_76f6609c_7c7a_11ea_9da1_54ee75e982f0row27_col0 {\n",
       "            background-color:  #ff8484;\n",
       "            color:  #000000;\n",
       "        }    #T_76f6609c_7c7a_11ea_9da1_54ee75e982f0row27_col1 {\n",
       "            background-color:  #ff7272;\n",
       "            color:  #000000;\n",
       "        }    #T_76f6609c_7c7a_11ea_9da1_54ee75e982f0row28_col0 {\n",
       "            background-color:  #ff8484;\n",
       "            color:  #000000;\n",
       "        }    #T_76f6609c_7c7a_11ea_9da1_54ee75e982f0row28_col1 {\n",
       "            background-color:  #ff7272;\n",
       "            color:  #000000;\n",
       "        }    #T_76f6609c_7c7a_11ea_9da1_54ee75e982f0row29_col0 {\n",
       "            background-color:  #ff7272;\n",
       "            color:  #000000;\n",
       "        }    #T_76f6609c_7c7a_11ea_9da1_54ee75e982f0row29_col1 {\n",
       "            background-color:  #ff7272;\n",
       "            color:  #000000;\n",
       "        }    #T_76f6609c_7c7a_11ea_9da1_54ee75e982f0row30_col0 {\n",
       "            background-color:  #ff6a6a;\n",
       "            color:  #000000;\n",
       "        }    #T_76f6609c_7c7a_11ea_9da1_54ee75e982f0row30_col1 {\n",
       "            background-color:  #ff7272;\n",
       "            color:  #000000;\n",
       "        }    #T_76f6609c_7c7a_11ea_9da1_54ee75e982f0row31_col0 {\n",
       "            background-color:  #ff6a6a;\n",
       "            color:  #000000;\n",
       "        }    #T_76f6609c_7c7a_11ea_9da1_54ee75e982f0row31_col1 {\n",
       "            background-color:  #ff7272;\n",
       "            color:  #000000;\n",
       "        }    #T_76f6609c_7c7a_11ea_9da1_54ee75e982f0row32_col0 {\n",
       "            background-color:  #ff6a6a;\n",
       "            color:  #000000;\n",
       "        }    #T_76f6609c_7c7a_11ea_9da1_54ee75e982f0row32_col1 {\n",
       "            background-color:  #ff7272;\n",
       "            color:  #000000;\n",
       "        }    #T_76f6609c_7c7a_11ea_9da1_54ee75e982f0row33_col0 {\n",
       "            background-color:  #ff6161;\n",
       "            color:  #000000;\n",
       "        }    #T_76f6609c_7c7a_11ea_9da1_54ee75e982f0row33_col1 {\n",
       "            background-color:  #ff7272;\n",
       "            color:  #000000;\n",
       "        }    #T_76f6609c_7c7a_11ea_9da1_54ee75e982f0row34_col0 {\n",
       "            background-color:  #ff6161;\n",
       "            color:  #000000;\n",
       "        }    #T_76f6609c_7c7a_11ea_9da1_54ee75e982f0row34_col1 {\n",
       "            background-color:  #ff7272;\n",
       "            color:  #000000;\n",
       "        }    #T_76f6609c_7c7a_11ea_9da1_54ee75e982f0row35_col0 {\n",
       "            background-color:  #ff6161;\n",
       "            color:  #000000;\n",
       "        }    #T_76f6609c_7c7a_11ea_9da1_54ee75e982f0row35_col1 {\n",
       "            background-color:  #ff7272;\n",
       "            color:  #000000;\n",
       "        }    #T_76f6609c_7c7a_11ea_9da1_54ee75e982f0row36_col0 {\n",
       "            background-color:  #ff5858;\n",
       "            color:  #000000;\n",
       "        }    #T_76f6609c_7c7a_11ea_9da1_54ee75e982f0row36_col1 {\n",
       "            background-color:  #ff7272;\n",
       "            color:  #000000;\n",
       "        }    #T_76f6609c_7c7a_11ea_9da1_54ee75e982f0row37_col0 {\n",
       "            background-color:  #ff5858;\n",
       "            color:  #000000;\n",
       "        }    #T_76f6609c_7c7a_11ea_9da1_54ee75e982f0row37_col1 {\n",
       "            background-color:  #ff7272;\n",
       "            color:  #000000;\n",
       "        }    #T_76f6609c_7c7a_11ea_9da1_54ee75e982f0row38_col0 {\n",
       "            background-color:  #ff5858;\n",
       "            color:  #000000;\n",
       "        }    #T_76f6609c_7c7a_11ea_9da1_54ee75e982f0row38_col1 {\n",
       "            background-color:  #ff7272;\n",
       "            color:  #000000;\n",
       "        }    #T_76f6609c_7c7a_11ea_9da1_54ee75e982f0row39_col0 {\n",
       "            background-color:  #ff5858;\n",
       "            color:  #000000;\n",
       "        }    #T_76f6609c_7c7a_11ea_9da1_54ee75e982f0row39_col1 {\n",
       "            background-color:  #ff7272;\n",
       "            color:  #000000;\n",
       "        }    #T_76f6609c_7c7a_11ea_9da1_54ee75e982f0row40_col0 {\n",
       "            background-color:  #ff4f4f;\n",
       "            color:  #000000;\n",
       "        }    #T_76f6609c_7c7a_11ea_9da1_54ee75e982f0row40_col1 {\n",
       "            background-color:  #ff7272;\n",
       "            color:  #000000;\n",
       "        }    #T_76f6609c_7c7a_11ea_9da1_54ee75e982f0row41_col0 {\n",
       "            background-color:  #ff4f4f;\n",
       "            color:  #000000;\n",
       "        }    #T_76f6609c_7c7a_11ea_9da1_54ee75e982f0row41_col1 {\n",
       "            background-color:  #ff7272;\n",
       "            color:  #000000;\n",
       "        }    #T_76f6609c_7c7a_11ea_9da1_54ee75e982f0row42_col0 {\n",
       "            background-color:  #ff4646;\n",
       "            color:  #000000;\n",
       "        }    #T_76f6609c_7c7a_11ea_9da1_54ee75e982f0row42_col1 {\n",
       "            background-color:  #ff7272;\n",
       "            color:  #000000;\n",
       "        }    #T_76f6609c_7c7a_11ea_9da1_54ee75e982f0row43_col0 {\n",
       "            background-color:  #ff3d3d;\n",
       "            color:  #f1f1f1;\n",
       "        }    #T_76f6609c_7c7a_11ea_9da1_54ee75e982f0row43_col1 {\n",
       "            background-color:  #ff7272;\n",
       "            color:  #000000;\n",
       "        }    #T_76f6609c_7c7a_11ea_9da1_54ee75e982f0row44_col0 {\n",
       "            background-color:  #ff3d3d;\n",
       "            color:  #f1f1f1;\n",
       "        }    #T_76f6609c_7c7a_11ea_9da1_54ee75e982f0row44_col1 {\n",
       "            background-color:  #ff7272;\n",
       "            color:  #000000;\n",
       "        }    #T_76f6609c_7c7a_11ea_9da1_54ee75e982f0row45_col0 {\n",
       "            background-color:  #ff3d3d;\n",
       "            color:  #f1f1f1;\n",
       "        }    #T_76f6609c_7c7a_11ea_9da1_54ee75e982f0row45_col1 {\n",
       "            background-color:  #ff7272;\n",
       "            color:  #000000;\n",
       "        }    #T_76f6609c_7c7a_11ea_9da1_54ee75e982f0row46_col0 {\n",
       "            background-color:  #ff3535;\n",
       "            color:  #f1f1f1;\n",
       "        }    #T_76f6609c_7c7a_11ea_9da1_54ee75e982f0row46_col1 {\n",
       "            background-color:  #ff0000;\n",
       "            color:  #f1f1f1;\n",
       "        }    #T_76f6609c_7c7a_11ea_9da1_54ee75e982f0row47_col0 {\n",
       "            background-color:  #ff3535;\n",
       "            color:  #f1f1f1;\n",
       "        }    #T_76f6609c_7c7a_11ea_9da1_54ee75e982f0row47_col1 {\n",
       "            background-color:  #ff0000;\n",
       "            color:  #f1f1f1;\n",
       "        }    #T_76f6609c_7c7a_11ea_9da1_54ee75e982f0row48_col0 {\n",
       "            background-color:  #ff2323;\n",
       "            color:  #f1f1f1;\n",
       "        }    #T_76f6609c_7c7a_11ea_9da1_54ee75e982f0row48_col1 {\n",
       "            background-color:  #ff0000;\n",
       "            color:  #f1f1f1;\n",
       "        }    #T_76f6609c_7c7a_11ea_9da1_54ee75e982f0row49_col0 {\n",
       "            background-color:  #ff0000;\n",
       "            color:  #f1f1f1;\n",
       "        }    #T_76f6609c_7c7a_11ea_9da1_54ee75e982f0row49_col1 {\n",
       "            background-color:  #ff0000;\n",
       "            color:  #f1f1f1;\n",
       "        }</style><table id=\"T_76f6609c_7c7a_11ea_9da1_54ee75e982f0\" ><thead>    <tr>        <th class=\"blank level0\" ></th>        <th class=\"col_heading level0 col0\" >n Missing</th>        <th class=\"col_heading level0 col1\" >% Missing</th>    </tr></thead><tbody>\n",
       "                <tr>\n",
       "                        <th id=\"T_76f6609c_7c7a_11ea_9da1_54ee75e982f0level0_row0\" class=\"row_heading level0 row0\" >x8</th>\n",
       "                        <td id=\"T_76f6609c_7c7a_11ea_9da1_54ee75e982f0row0_col0\" class=\"data row0 col0\" >21</td>\n",
       "                        <td id=\"T_76f6609c_7c7a_11ea_9da1_54ee75e982f0row0_col1\" class=\"data row0 col1\" >0.010000</td>\n",
       "            </tr>\n",
       "            <tr>\n",
       "                        <th id=\"T_76f6609c_7c7a_11ea_9da1_54ee75e982f0level0_row1\" class=\"row_heading level0 row1\" >x25</th>\n",
       "                        <td id=\"T_76f6609c_7c7a_11ea_9da1_54ee75e982f0row1_col0\" class=\"data row1 col0\" >22</td>\n",
       "                        <td id=\"T_76f6609c_7c7a_11ea_9da1_54ee75e982f0row1_col1\" class=\"data row1 col1\" >0.010000</td>\n",
       "            </tr>\n",
       "            <tr>\n",
       "                        <th id=\"T_76f6609c_7c7a_11ea_9da1_54ee75e982f0level0_row2\" class=\"row_heading level0 row2\" >x39</th>\n",
       "                        <td id=\"T_76f6609c_7c7a_11ea_9da1_54ee75e982f0row2_col0\" class=\"data row2 col0\" >23</td>\n",
       "                        <td id=\"T_76f6609c_7c7a_11ea_9da1_54ee75e982f0row2_col1\" class=\"data row2 col1\" >0.010000</td>\n",
       "            </tr>\n",
       "            <tr>\n",
       "                        <th id=\"T_76f6609c_7c7a_11ea_9da1_54ee75e982f0level0_row3\" class=\"row_heading level0 row3\" >x37</th>\n",
       "                        <td id=\"T_76f6609c_7c7a_11ea_9da1_54ee75e982f0row3_col0\" class=\"data row3 col0\" >23</td>\n",
       "                        <td id=\"T_76f6609c_7c7a_11ea_9da1_54ee75e982f0row3_col1\" class=\"data row3 col1\" >0.010000</td>\n",
       "            </tr>\n",
       "            <tr>\n",
       "                        <th id=\"T_76f6609c_7c7a_11ea_9da1_54ee75e982f0level0_row4\" class=\"row_heading level0 row4\" >x1</th>\n",
       "                        <td id=\"T_76f6609c_7c7a_11ea_9da1_54ee75e982f0row4_col0\" class=\"data row4 col0\" >25</td>\n",
       "                        <td id=\"T_76f6609c_7c7a_11ea_9da1_54ee75e982f0row4_col1\" class=\"data row4 col1\" >0.020000</td>\n",
       "            </tr>\n",
       "            <tr>\n",
       "                        <th id=\"T_76f6609c_7c7a_11ea_9da1_54ee75e982f0level0_row5\" class=\"row_heading level0 row5\" >x0</th>\n",
       "                        <td id=\"T_76f6609c_7c7a_11ea_9da1_54ee75e982f0row5_col0\" class=\"data row5 col0\" >26</td>\n",
       "                        <td id=\"T_76f6609c_7c7a_11ea_9da1_54ee75e982f0row5_col1\" class=\"data row5 col1\" >0.020000</td>\n",
       "            </tr>\n",
       "            <tr>\n",
       "                        <th id=\"T_76f6609c_7c7a_11ea_9da1_54ee75e982f0level0_row6\" class=\"row_heading level0 row6\" >x42</th>\n",
       "                        <td id=\"T_76f6609c_7c7a_11ea_9da1_54ee75e982f0row6_col0\" class=\"data row6 col0\" >26</td>\n",
       "                        <td id=\"T_76f6609c_7c7a_11ea_9da1_54ee75e982f0row6_col1\" class=\"data row6 col1\" >0.020000</td>\n",
       "            </tr>\n",
       "            <tr>\n",
       "                        <th id=\"T_76f6609c_7c7a_11ea_9da1_54ee75e982f0level0_row7\" class=\"row_heading level0 row7\" >x4</th>\n",
       "                        <td id=\"T_76f6609c_7c7a_11ea_9da1_54ee75e982f0row7_col0\" class=\"data row7 col0\" >26</td>\n",
       "                        <td id=\"T_76f6609c_7c7a_11ea_9da1_54ee75e982f0row7_col1\" class=\"data row7 col1\" >0.020000</td>\n",
       "            </tr>\n",
       "            <tr>\n",
       "                        <th id=\"T_76f6609c_7c7a_11ea_9da1_54ee75e982f0level0_row8\" class=\"row_heading level0 row8\" >x6</th>\n",
       "                        <td id=\"T_76f6609c_7c7a_11ea_9da1_54ee75e982f0row8_col0\" class=\"data row8 col0\" >26</td>\n",
       "                        <td id=\"T_76f6609c_7c7a_11ea_9da1_54ee75e982f0row8_col1\" class=\"data row8 col1\" >0.020000</td>\n",
       "            </tr>\n",
       "            <tr>\n",
       "                        <th id=\"T_76f6609c_7c7a_11ea_9da1_54ee75e982f0level0_row9\" class=\"row_heading level0 row9\" >x16</th>\n",
       "                        <td id=\"T_76f6609c_7c7a_11ea_9da1_54ee75e982f0row9_col0\" class=\"data row9 col0\" >26</td>\n",
       "                        <td id=\"T_76f6609c_7c7a_11ea_9da1_54ee75e982f0row9_col1\" class=\"data row9 col1\" >0.020000</td>\n",
       "            </tr>\n",
       "            <tr>\n",
       "                        <th id=\"T_76f6609c_7c7a_11ea_9da1_54ee75e982f0level0_row10\" class=\"row_heading level0 row10\" >x7</th>\n",
       "                        <td id=\"T_76f6609c_7c7a_11ea_9da1_54ee75e982f0row10_col0\" class=\"data row10 col0\" >27</td>\n",
       "                        <td id=\"T_76f6609c_7c7a_11ea_9da1_54ee75e982f0row10_col1\" class=\"data row10 col1\" >0.020000</td>\n",
       "            </tr>\n",
       "            <tr>\n",
       "                        <th id=\"T_76f6609c_7c7a_11ea_9da1_54ee75e982f0level0_row11\" class=\"row_heading level0 row11\" >x36</th>\n",
       "                        <td id=\"T_76f6609c_7c7a_11ea_9da1_54ee75e982f0row11_col0\" class=\"data row11 col0\" >27</td>\n",
       "                        <td id=\"T_76f6609c_7c7a_11ea_9da1_54ee75e982f0row11_col1\" class=\"data row11 col1\" >0.020000</td>\n",
       "            </tr>\n",
       "            <tr>\n",
       "                        <th id=\"T_76f6609c_7c7a_11ea_9da1_54ee75e982f0level0_row12\" class=\"row_heading level0 row12\" >x22</th>\n",
       "                        <td id=\"T_76f6609c_7c7a_11ea_9da1_54ee75e982f0row12_col0\" class=\"data row12 col0\" >27</td>\n",
       "                        <td id=\"T_76f6609c_7c7a_11ea_9da1_54ee75e982f0row12_col1\" class=\"data row12 col1\" >0.020000</td>\n",
       "            </tr>\n",
       "            <tr>\n",
       "                        <th id=\"T_76f6609c_7c7a_11ea_9da1_54ee75e982f0level0_row13\" class=\"row_heading level0 row13\" >x17</th>\n",
       "                        <td id=\"T_76f6609c_7c7a_11ea_9da1_54ee75e982f0row13_col0\" class=\"data row13 col0\" >27</td>\n",
       "                        <td id=\"T_76f6609c_7c7a_11ea_9da1_54ee75e982f0row13_col1\" class=\"data row13 col1\" >0.020000</td>\n",
       "            </tr>\n",
       "            <tr>\n",
       "                        <th id=\"T_76f6609c_7c7a_11ea_9da1_54ee75e982f0level0_row14\" class=\"row_heading level0 row14\" >x24</th>\n",
       "                        <td id=\"T_76f6609c_7c7a_11ea_9da1_54ee75e982f0row14_col0\" class=\"data row14 col0\" >28</td>\n",
       "                        <td id=\"T_76f6609c_7c7a_11ea_9da1_54ee75e982f0row14_col1\" class=\"data row14 col1\" >0.020000</td>\n",
       "            </tr>\n",
       "            <tr>\n",
       "                        <th id=\"T_76f6609c_7c7a_11ea_9da1_54ee75e982f0level0_row15\" class=\"row_heading level0 row15\" >x45</th>\n",
       "                        <td id=\"T_76f6609c_7c7a_11ea_9da1_54ee75e982f0row15_col0\" class=\"data row15 col0\" >29</td>\n",
       "                        <td id=\"T_76f6609c_7c7a_11ea_9da1_54ee75e982f0row15_col1\" class=\"data row15 col1\" >0.020000</td>\n",
       "            </tr>\n",
       "            <tr>\n",
       "                        <th id=\"T_76f6609c_7c7a_11ea_9da1_54ee75e982f0level0_row16\" class=\"row_heading level0 row16\" >x21</th>\n",
       "                        <td id=\"T_76f6609c_7c7a_11ea_9da1_54ee75e982f0row16_col0\" class=\"data row16 col0\" >29</td>\n",
       "                        <td id=\"T_76f6609c_7c7a_11ea_9da1_54ee75e982f0row16_col1\" class=\"data row16 col1\" >0.020000</td>\n",
       "            </tr>\n",
       "            <tr>\n",
       "                        <th id=\"T_76f6609c_7c7a_11ea_9da1_54ee75e982f0level0_row17\" class=\"row_heading level0 row17\" >x9</th>\n",
       "                        <td id=\"T_76f6609c_7c7a_11ea_9da1_54ee75e982f0row17_col0\" class=\"data row17 col0\" >30</td>\n",
       "                        <td id=\"T_76f6609c_7c7a_11ea_9da1_54ee75e982f0row17_col1\" class=\"data row17 col1\" >0.020000</td>\n",
       "            </tr>\n",
       "            <tr>\n",
       "                        <th id=\"T_76f6609c_7c7a_11ea_9da1_54ee75e982f0level0_row18\" class=\"row_heading level0 row18\" >x11</th>\n",
       "                        <td id=\"T_76f6609c_7c7a_11ea_9da1_54ee75e982f0row18_col0\" class=\"data row18 col0\" >30</td>\n",
       "                        <td id=\"T_76f6609c_7c7a_11ea_9da1_54ee75e982f0row18_col1\" class=\"data row18 col1\" >0.020000</td>\n",
       "            </tr>\n",
       "            <tr>\n",
       "                        <th id=\"T_76f6609c_7c7a_11ea_9da1_54ee75e982f0level0_row19\" class=\"row_heading level0 row19\" >x35</th>\n",
       "                        <td id=\"T_76f6609c_7c7a_11ea_9da1_54ee75e982f0row19_col0\" class=\"data row19 col0\" >30</td>\n",
       "                        <td id=\"T_76f6609c_7c7a_11ea_9da1_54ee75e982f0row19_col1\" class=\"data row19 col1\" >0.020000</td>\n",
       "            </tr>\n",
       "            <tr>\n",
       "                        <th id=\"T_76f6609c_7c7a_11ea_9da1_54ee75e982f0level0_row20\" class=\"row_heading level0 row20\" >x30</th>\n",
       "                        <td id=\"T_76f6609c_7c7a_11ea_9da1_54ee75e982f0row20_col0\" class=\"data row20 col0\" >30</td>\n",
       "                        <td id=\"T_76f6609c_7c7a_11ea_9da1_54ee75e982f0row20_col1\" class=\"data row20 col1\" >0.020000</td>\n",
       "            </tr>\n",
       "            <tr>\n",
       "                        <th id=\"T_76f6609c_7c7a_11ea_9da1_54ee75e982f0level0_row21\" class=\"row_heading level0 row21\" >x29</th>\n",
       "                        <td id=\"T_76f6609c_7c7a_11ea_9da1_54ee75e982f0row21_col0\" class=\"data row21 col0\" >30</td>\n",
       "                        <td id=\"T_76f6609c_7c7a_11ea_9da1_54ee75e982f0row21_col1\" class=\"data row21 col1\" >0.020000</td>\n",
       "            </tr>\n",
       "            <tr>\n",
       "                        <th id=\"T_76f6609c_7c7a_11ea_9da1_54ee75e982f0level0_row22\" class=\"row_heading level0 row22\" >x27</th>\n",
       "                        <td id=\"T_76f6609c_7c7a_11ea_9da1_54ee75e982f0row22_col0\" class=\"data row22 col0\" >30</td>\n",
       "                        <td id=\"T_76f6609c_7c7a_11ea_9da1_54ee75e982f0row22_col1\" class=\"data row22 col1\" >0.020000</td>\n",
       "            </tr>\n",
       "            <tr>\n",
       "                        <th id=\"T_76f6609c_7c7a_11ea_9da1_54ee75e982f0level0_row23\" class=\"row_heading level0 row23\" >x32</th>\n",
       "                        <td id=\"T_76f6609c_7c7a_11ea_9da1_54ee75e982f0row23_col0\" class=\"data row23 col0\" >31</td>\n",
       "                        <td id=\"T_76f6609c_7c7a_11ea_9da1_54ee75e982f0row23_col1\" class=\"data row23 col1\" >0.020000</td>\n",
       "            </tr>\n",
       "            <tr>\n",
       "                        <th id=\"T_76f6609c_7c7a_11ea_9da1_54ee75e982f0level0_row24\" class=\"row_heading level0 row24\" >x13</th>\n",
       "                        <td id=\"T_76f6609c_7c7a_11ea_9da1_54ee75e982f0row24_col0\" class=\"data row24 col0\" >31</td>\n",
       "                        <td id=\"T_76f6609c_7c7a_11ea_9da1_54ee75e982f0row24_col1\" class=\"data row24 col1\" >0.020000</td>\n",
       "            </tr>\n",
       "            <tr>\n",
       "                        <th id=\"T_76f6609c_7c7a_11ea_9da1_54ee75e982f0level0_row25\" class=\"row_heading level0 row25\" >x46</th>\n",
       "                        <td id=\"T_76f6609c_7c7a_11ea_9da1_54ee75e982f0row25_col0\" class=\"data row25 col0\" >31</td>\n",
       "                        <td id=\"T_76f6609c_7c7a_11ea_9da1_54ee75e982f0row25_col1\" class=\"data row25 col1\" >0.020000</td>\n",
       "            </tr>\n",
       "            <tr>\n",
       "                        <th id=\"T_76f6609c_7c7a_11ea_9da1_54ee75e982f0level0_row26\" class=\"row_heading level0 row26\" >x38</th>\n",
       "                        <td id=\"T_76f6609c_7c7a_11ea_9da1_54ee75e982f0row26_col0\" class=\"data row26 col0\" >31</td>\n",
       "                        <td id=\"T_76f6609c_7c7a_11ea_9da1_54ee75e982f0row26_col1\" class=\"data row26 col1\" >0.020000</td>\n",
       "            </tr>\n",
       "            <tr>\n",
       "                        <th id=\"T_76f6609c_7c7a_11ea_9da1_54ee75e982f0level0_row27\" class=\"row_heading level0 row27\" >x49</th>\n",
       "                        <td id=\"T_76f6609c_7c7a_11ea_9da1_54ee75e982f0row27_col0\" class=\"data row27 col0\" >32</td>\n",
       "                        <td id=\"T_76f6609c_7c7a_11ea_9da1_54ee75e982f0row27_col1\" class=\"data row27 col1\" >0.020000</td>\n",
       "            </tr>\n",
       "            <tr>\n",
       "                        <th id=\"T_76f6609c_7c7a_11ea_9da1_54ee75e982f0level0_row28\" class=\"row_heading level0 row28\" >x48</th>\n",
       "                        <td id=\"T_76f6609c_7c7a_11ea_9da1_54ee75e982f0row28_col0\" class=\"data row28 col0\" >32</td>\n",
       "                        <td id=\"T_76f6609c_7c7a_11ea_9da1_54ee75e982f0row28_col1\" class=\"data row28 col1\" >0.020000</td>\n",
       "            </tr>\n",
       "            <tr>\n",
       "                        <th id=\"T_76f6609c_7c7a_11ea_9da1_54ee75e982f0level0_row29\" class=\"row_heading level0 row29\" >x14</th>\n",
       "                        <td id=\"T_76f6609c_7c7a_11ea_9da1_54ee75e982f0row29_col0\" class=\"data row29 col0\" >34</td>\n",
       "                        <td id=\"T_76f6609c_7c7a_11ea_9da1_54ee75e982f0row29_col1\" class=\"data row29 col1\" >0.020000</td>\n",
       "            </tr>\n",
       "            <tr>\n",
       "                        <th id=\"T_76f6609c_7c7a_11ea_9da1_54ee75e982f0level0_row30\" class=\"row_heading level0 row30\" >x28</th>\n",
       "                        <td id=\"T_76f6609c_7c7a_11ea_9da1_54ee75e982f0row30_col0\" class=\"data row30 col0\" >35</td>\n",
       "                        <td id=\"T_76f6609c_7c7a_11ea_9da1_54ee75e982f0row30_col1\" class=\"data row30 col1\" >0.020000</td>\n",
       "            </tr>\n",
       "            <tr>\n",
       "                        <th id=\"T_76f6609c_7c7a_11ea_9da1_54ee75e982f0level0_row31\" class=\"row_heading level0 row31\" >x19</th>\n",
       "                        <td id=\"T_76f6609c_7c7a_11ea_9da1_54ee75e982f0row31_col0\" class=\"data row31 col0\" >35</td>\n",
       "                        <td id=\"T_76f6609c_7c7a_11ea_9da1_54ee75e982f0row31_col1\" class=\"data row31 col1\" >0.020000</td>\n",
       "            </tr>\n",
       "            <tr>\n",
       "                        <th id=\"T_76f6609c_7c7a_11ea_9da1_54ee75e982f0level0_row32\" class=\"row_heading level0 row32\" >x15</th>\n",
       "                        <td id=\"T_76f6609c_7c7a_11ea_9da1_54ee75e982f0row32_col0\" class=\"data row32 col0\" >35</td>\n",
       "                        <td id=\"T_76f6609c_7c7a_11ea_9da1_54ee75e982f0row32_col1\" class=\"data row32 col1\" >0.020000</td>\n",
       "            </tr>\n",
       "            <tr>\n",
       "                        <th id=\"T_76f6609c_7c7a_11ea_9da1_54ee75e982f0level0_row33\" class=\"row_heading level0 row33\" >x12</th>\n",
       "                        <td id=\"T_76f6609c_7c7a_11ea_9da1_54ee75e982f0row33_col0\" class=\"data row33 col0\" >36</td>\n",
       "                        <td id=\"T_76f6609c_7c7a_11ea_9da1_54ee75e982f0row33_col1\" class=\"data row33 col1\" >0.020000</td>\n",
       "            </tr>\n",
       "            <tr>\n",
       "                        <th id=\"T_76f6609c_7c7a_11ea_9da1_54ee75e982f0level0_row34\" class=\"row_heading level0 row34\" >x26</th>\n",
       "                        <td id=\"T_76f6609c_7c7a_11ea_9da1_54ee75e982f0row34_col0\" class=\"data row34 col0\" >36</td>\n",
       "                        <td id=\"T_76f6609c_7c7a_11ea_9da1_54ee75e982f0row34_col1\" class=\"data row34 col1\" >0.020000</td>\n",
       "            </tr>\n",
       "            <tr>\n",
       "                        <th id=\"T_76f6609c_7c7a_11ea_9da1_54ee75e982f0level0_row35\" class=\"row_heading level0 row35\" >x40</th>\n",
       "                        <td id=\"T_76f6609c_7c7a_11ea_9da1_54ee75e982f0row35_col0\" class=\"data row35 col0\" >36</td>\n",
       "                        <td id=\"T_76f6609c_7c7a_11ea_9da1_54ee75e982f0row35_col1\" class=\"data row35 col1\" >0.020000</td>\n",
       "            </tr>\n",
       "            <tr>\n",
       "                        <th id=\"T_76f6609c_7c7a_11ea_9da1_54ee75e982f0level0_row36\" class=\"row_heading level0 row36\" >x5</th>\n",
       "                        <td id=\"T_76f6609c_7c7a_11ea_9da1_54ee75e982f0row36_col0\" class=\"data row36 col0\" >37</td>\n",
       "                        <td id=\"T_76f6609c_7c7a_11ea_9da1_54ee75e982f0row36_col1\" class=\"data row36 col1\" >0.020000</td>\n",
       "            </tr>\n",
       "            <tr>\n",
       "                        <th id=\"T_76f6609c_7c7a_11ea_9da1_54ee75e982f0level0_row37\" class=\"row_heading level0 row37\" >x3</th>\n",
       "                        <td id=\"T_76f6609c_7c7a_11ea_9da1_54ee75e982f0row37_col0\" class=\"data row37 col0\" >37</td>\n",
       "                        <td id=\"T_76f6609c_7c7a_11ea_9da1_54ee75e982f0row37_col1\" class=\"data row37 col1\" >0.020000</td>\n",
       "            </tr>\n",
       "            <tr>\n",
       "                        <th id=\"T_76f6609c_7c7a_11ea_9da1_54ee75e982f0level0_row38\" class=\"row_heading level0 row38\" >x43</th>\n",
       "                        <td id=\"T_76f6609c_7c7a_11ea_9da1_54ee75e982f0row38_col0\" class=\"data row38 col0\" >37</td>\n",
       "                        <td id=\"T_76f6609c_7c7a_11ea_9da1_54ee75e982f0row38_col1\" class=\"data row38 col1\" >0.020000</td>\n",
       "            </tr>\n",
       "            <tr>\n",
       "                        <th id=\"T_76f6609c_7c7a_11ea_9da1_54ee75e982f0level0_row39\" class=\"row_heading level0 row39\" >x47</th>\n",
       "                        <td id=\"T_76f6609c_7c7a_11ea_9da1_54ee75e982f0row39_col0\" class=\"data row39 col0\" >37</td>\n",
       "                        <td id=\"T_76f6609c_7c7a_11ea_9da1_54ee75e982f0row39_col1\" class=\"data row39 col1\" >0.020000</td>\n",
       "            </tr>\n",
       "            <tr>\n",
       "                        <th id=\"T_76f6609c_7c7a_11ea_9da1_54ee75e982f0level0_row40\" class=\"row_heading level0 row40\" >x20</th>\n",
       "                        <td id=\"T_76f6609c_7c7a_11ea_9da1_54ee75e982f0row40_col0\" class=\"data row40 col0\" >38</td>\n",
       "                        <td id=\"T_76f6609c_7c7a_11ea_9da1_54ee75e982f0row40_col1\" class=\"data row40 col1\" >0.020000</td>\n",
       "            </tr>\n",
       "            <tr>\n",
       "                        <th id=\"T_76f6609c_7c7a_11ea_9da1_54ee75e982f0level0_row41\" class=\"row_heading level0 row41\" >x2</th>\n",
       "                        <td id=\"T_76f6609c_7c7a_11ea_9da1_54ee75e982f0row41_col0\" class=\"data row41 col0\" >38</td>\n",
       "                        <td id=\"T_76f6609c_7c7a_11ea_9da1_54ee75e982f0row41_col1\" class=\"data row41 col1\" >0.020000</td>\n",
       "            </tr>\n",
       "            <tr>\n",
       "                        <th id=\"T_76f6609c_7c7a_11ea_9da1_54ee75e982f0level0_row42\" class=\"row_heading level0 row42\" >x31</th>\n",
       "                        <td id=\"T_76f6609c_7c7a_11ea_9da1_54ee75e982f0row42_col0\" class=\"data row42 col0\" >39</td>\n",
       "                        <td id=\"T_76f6609c_7c7a_11ea_9da1_54ee75e982f0row42_col1\" class=\"data row42 col1\" >0.020000</td>\n",
       "            </tr>\n",
       "            <tr>\n",
       "                        <th id=\"T_76f6609c_7c7a_11ea_9da1_54ee75e982f0level0_row43\" class=\"row_heading level0 row43\" >x41</th>\n",
       "                        <td id=\"T_76f6609c_7c7a_11ea_9da1_54ee75e982f0row43_col0\" class=\"data row43 col0\" >40</td>\n",
       "                        <td id=\"T_76f6609c_7c7a_11ea_9da1_54ee75e982f0row43_col1\" class=\"data row43 col1\" >0.020000</td>\n",
       "            </tr>\n",
       "            <tr>\n",
       "                        <th id=\"T_76f6609c_7c7a_11ea_9da1_54ee75e982f0level0_row44\" class=\"row_heading level0 row44\" >x44</th>\n",
       "                        <td id=\"T_76f6609c_7c7a_11ea_9da1_54ee75e982f0row44_col0\" class=\"data row44 col0\" >40</td>\n",
       "                        <td id=\"T_76f6609c_7c7a_11ea_9da1_54ee75e982f0row44_col1\" class=\"data row44 col1\" >0.020000</td>\n",
       "            </tr>\n",
       "            <tr>\n",
       "                        <th id=\"T_76f6609c_7c7a_11ea_9da1_54ee75e982f0level0_row45\" class=\"row_heading level0 row45\" >x18</th>\n",
       "                        <td id=\"T_76f6609c_7c7a_11ea_9da1_54ee75e982f0row45_col0\" class=\"data row45 col0\" >40</td>\n",
       "                        <td id=\"T_76f6609c_7c7a_11ea_9da1_54ee75e982f0row45_col1\" class=\"data row45 col1\" >0.020000</td>\n",
       "            </tr>\n",
       "            <tr>\n",
       "                        <th id=\"T_76f6609c_7c7a_11ea_9da1_54ee75e982f0level0_row46\" class=\"row_heading level0 row46\" >x34</th>\n",
       "                        <td id=\"T_76f6609c_7c7a_11ea_9da1_54ee75e982f0row46_col0\" class=\"data row46 col0\" >41</td>\n",
       "                        <td id=\"T_76f6609c_7c7a_11ea_9da1_54ee75e982f0row46_col1\" class=\"data row46 col1\" >0.030000</td>\n",
       "            </tr>\n",
       "            <tr>\n",
       "                        <th id=\"T_76f6609c_7c7a_11ea_9da1_54ee75e982f0level0_row47\" class=\"row_heading level0 row47\" >x33</th>\n",
       "                        <td id=\"T_76f6609c_7c7a_11ea_9da1_54ee75e982f0row47_col0\" class=\"data row47 col0\" >41</td>\n",
       "                        <td id=\"T_76f6609c_7c7a_11ea_9da1_54ee75e982f0row47_col1\" class=\"data row47 col1\" >0.030000</td>\n",
       "            </tr>\n",
       "            <tr>\n",
       "                        <th id=\"T_76f6609c_7c7a_11ea_9da1_54ee75e982f0level0_row48\" class=\"row_heading level0 row48\" >x10</th>\n",
       "                        <td id=\"T_76f6609c_7c7a_11ea_9da1_54ee75e982f0row48_col0\" class=\"data row48 col0\" >43</td>\n",
       "                        <td id=\"T_76f6609c_7c7a_11ea_9da1_54ee75e982f0row48_col1\" class=\"data row48 col1\" >0.030000</td>\n",
       "            </tr>\n",
       "            <tr>\n",
       "                        <th id=\"T_76f6609c_7c7a_11ea_9da1_54ee75e982f0level0_row49\" class=\"row_heading level0 row49\" >x23</th>\n",
       "                        <td id=\"T_76f6609c_7c7a_11ea_9da1_54ee75e982f0row49_col0\" class=\"data row49 col0\" >47</td>\n",
       "                        <td id=\"T_76f6609c_7c7a_11ea_9da1_54ee75e982f0row49_col1\" class=\"data row49 col1\" >0.030000</td>\n",
       "            </tr>\n",
       "    </tbody></table>"
      ],
      "text/plain": [
       "<pandas.io.formats.style.Styler at 0x1ce9b9b25f8>"
      ]
     },
     "execution_count": 10,
     "metadata": {},
     "output_type": "execute_result"
    }
   ],
   "source": [
    "# check missing values\n",
    "df_raw_NullCols = df_raw.isnull().sum()\n",
    "df_raw_NullCols = df_raw_NullCols[df_raw_NullCols > 0]\n",
    "\n",
    "df_raw_NullCols = pd.DataFrame({'n Missing' : df_raw_NullCols,\n",
    "                                  '% Missing' : ((df_raw_NullCols / df_raw.shape[0])*100).round(2)})\n",
    "\n",
    "\n",
    "df_raw_NullCols = df_raw_NullCols.sort_values('n Missing')\n",
    "\n",
    "cm = sns.light_palette(\"red\", as_cmap=True)\n",
    "df_raw_NullCols.style.background_gradient(cmap=cm)"
   ]
  },
  {
   "cell_type": "code",
   "execution_count": 11,
   "metadata": {},
   "outputs": [],
   "source": [
    "# x34, x33, x10, x23 have 3% missing values, others have below 2%. \n",
    "# we should still have enough data after drop a small percentage of NA"
   ]
  },
  {
   "cell_type": "code",
   "execution_count": 12,
   "metadata": {},
   "outputs": [
    {
     "data": {
      "text/plain": [
       "(158392, 51)"
      ]
     },
     "execution_count": 12,
     "metadata": {},
     "output_type": "execute_result"
    }
   ],
   "source": [
    "df_raw.dropna(inplace = True)\n",
    "df_raw.shape"
   ]
  },
  {
   "cell_type": "code",
   "execution_count": 13,
   "metadata": {},
   "outputs": [],
   "source": [
    "# x29 only keep 3 characters\n",
    "df_raw['x29'].replace(to_replace='January', value='Jan',inplace=True)\n",
    "df_raw['x29'].replace(to_replace='sept.', value='Sep',inplace=True)\n",
    "df_raw['x29'].replace(to_replace='Dev', value='Dec',inplace=True)\n",
    "df_raw['x29'].replace(to_replace='July', value='Jul',inplace=True)\n",
    "# x32 change to float\n",
    "if(df_raw['x32'].dtypes!='float64'):\n",
    "    df_raw['x32'] =df_raw['x32'].str[:-1].astype(float)\n",
    "# x37 change to float\n",
    "if(df_raw['x37'].dtypes!='float64'):\n",
    "    df_raw['x37'] = df_raw['x37'].str.replace('$', '')\n",
    "    df_raw['x37'] =df_raw['x37'].str[:-1].astype(float)"
   ]
  },
  {
   "cell_type": "code",
   "execution_count": 14,
   "metadata": {},
   "outputs": [
    {
     "name": "stdout",
     "output_type": "stream",
     "text": [
      "x24\n",
      "------------------------------------------------\n",
      "america      4418\n",
      "euorpe      16378\n",
      "asia       137596\n",
      "Name: x24, dtype: int64 \n",
      "\n",
      "x29\n",
      "------------------------------------------------\n",
      "Jan        9\n",
      "Dec       23\n",
      "Feb      139\n",
      "Nov      331\n",
      "Mar     1221\n",
      "Oct     2385\n",
      "Apr     6699\n",
      "Sep    10740\n",
      "May    21708\n",
      "Aug    29115\n",
      "Jun    40900\n",
      "Jul    45122\n",
      "Name: x29, dtype: int64 \n",
      "\n",
      "x30\n",
      "------------------------------------------------\n",
      "monday          484\n",
      "friday          556\n",
      "tuesday       27690\n",
      "thurday       29164\n",
      "wednesday    100498\n",
      "Name: x30, dtype: int64 \n",
      "\n"
     ]
    }
   ],
   "source": [
    "#check all obj attributes\n",
    "for col in list(df_raw.select_dtypes(include=['object']).columns):\n",
    "    print(col)\n",
    "    print('------------------------------------------------')\n",
    "    print(df_raw[col].value_counts().sort_values(),'\\n')"
   ]
  },
  {
   "cell_type": "code",
   "execution_count": 15,
   "metadata": {},
   "outputs": [
    {
     "data": {
      "text/plain": [
       "x0     float64\n",
       "x1     float64\n",
       "x2     float64\n",
       "x3     float64\n",
       "x4     float64\n",
       "x5     float64\n",
       "x6     float64\n",
       "x7     float64\n",
       "x8     float64\n",
       "x9     float64\n",
       "x10    float64\n",
       "x11    float64\n",
       "x12    float64\n",
       "x13    float64\n",
       "x14    float64\n",
       "x15    float64\n",
       "x16    float64\n",
       "x17    float64\n",
       "x18    float64\n",
       "x19    float64\n",
       "x20    float64\n",
       "x21    float64\n",
       "x22    float64\n",
       "x23    float64\n",
       "x24     object\n",
       "x25    float64\n",
       "x26    float64\n",
       "x27    float64\n",
       "x28    float64\n",
       "x29     object\n",
       "x30     object\n",
       "x31    float64\n",
       "x32    float64\n",
       "x33    float64\n",
       "x34    float64\n",
       "x35    float64\n",
       "x36    float64\n",
       "x37    float64\n",
       "x38    float64\n",
       "x39    float64\n",
       "x40    float64\n",
       "x41    float64\n",
       "x42    float64\n",
       "x43    float64\n",
       "x44    float64\n",
       "x45    float64\n",
       "x46    float64\n",
       "x47    float64\n",
       "x48    float64\n",
       "x49    float64\n",
       "y        int64\n",
       "dtype: object"
      ]
     },
     "execution_count": 15,
     "metadata": {},
     "output_type": "execute_result"
    }
   ],
   "source": [
    "df_raw.dtypes"
   ]
  },
  {
   "cell_type": "code",
   "execution_count": 16,
   "metadata": {},
   "outputs": [
    {
     "data": {
      "text/html": [
       "<div>\n",
       "<style scoped>\n",
       "    .dataframe tbody tr th:only-of-type {\n",
       "        vertical-align: middle;\n",
       "    }\n",
       "\n",
       "    .dataframe tbody tr th {\n",
       "        vertical-align: top;\n",
       "    }\n",
       "\n",
       "    .dataframe thead th {\n",
       "        text-align: right;\n",
       "    }\n",
       "</style>\n",
       "<table border=\"1\" class=\"dataframe\">\n",
       "  <thead>\n",
       "    <tr style=\"text-align: right;\">\n",
       "      <th></th>\n",
       "      <th>x0</th>\n",
       "      <th>x1</th>\n",
       "      <th>x2</th>\n",
       "      <th>x3</th>\n",
       "      <th>x4</th>\n",
       "      <th>x5</th>\n",
       "      <th>x6</th>\n",
       "      <th>x7</th>\n",
       "      <th>x8</th>\n",
       "      <th>x9</th>\n",
       "      <th>...</th>\n",
       "      <th>x29_Jun</th>\n",
       "      <th>x29_Mar</th>\n",
       "      <th>x29_May</th>\n",
       "      <th>x29_Nov</th>\n",
       "      <th>x29_Oct</th>\n",
       "      <th>x29_Sep</th>\n",
       "      <th>x30_monday</th>\n",
       "      <th>x30_thurday</th>\n",
       "      <th>x30_tuesday</th>\n",
       "      <th>x30_wednesday</th>\n",
       "    </tr>\n",
       "  </thead>\n",
       "  <tbody>\n",
       "    <tr>\n",
       "      <th>0</th>\n",
       "      <td>-0.166563</td>\n",
       "      <td>-3.961588</td>\n",
       "      <td>4.621113</td>\n",
       "      <td>2.481908</td>\n",
       "      <td>-1.800135</td>\n",
       "      <td>0.804684</td>\n",
       "      <td>6.718751</td>\n",
       "      <td>-14.789997</td>\n",
       "      <td>-1.040673</td>\n",
       "      <td>-4.204950</td>\n",
       "      <td>...</td>\n",
       "      <td>0</td>\n",
       "      <td>0</td>\n",
       "      <td>0</td>\n",
       "      <td>0</td>\n",
       "      <td>0</td>\n",
       "      <td>0</td>\n",
       "      <td>0</td>\n",
       "      <td>0</td>\n",
       "      <td>1</td>\n",
       "      <td>0</td>\n",
       "    </tr>\n",
       "    <tr>\n",
       "      <th>1</th>\n",
       "      <td>-0.149894</td>\n",
       "      <td>-0.585676</td>\n",
       "      <td>27.839856</td>\n",
       "      <td>4.152333</td>\n",
       "      <td>6.426802</td>\n",
       "      <td>-2.426943</td>\n",
       "      <td>40.477058</td>\n",
       "      <td>-6.725709</td>\n",
       "      <td>0.896421</td>\n",
       "      <td>0.330165</td>\n",
       "      <td>...</td>\n",
       "      <td>0</td>\n",
       "      <td>0</td>\n",
       "      <td>0</td>\n",
       "      <td>0</td>\n",
       "      <td>0</td>\n",
       "      <td>0</td>\n",
       "      <td>0</td>\n",
       "      <td>0</td>\n",
       "      <td>0</td>\n",
       "      <td>1</td>\n",
       "    </tr>\n",
       "    <tr>\n",
       "      <th>2</th>\n",
       "      <td>-0.321707</td>\n",
       "      <td>-1.429819</td>\n",
       "      <td>12.251561</td>\n",
       "      <td>6.586874</td>\n",
       "      <td>-5.304647</td>\n",
       "      <td>-11.311090</td>\n",
       "      <td>17.812850</td>\n",
       "      <td>11.060572</td>\n",
       "      <td>5.325880</td>\n",
       "      <td>-2.632984</td>\n",
       "      <td>...</td>\n",
       "      <td>0</td>\n",
       "      <td>0</td>\n",
       "      <td>0</td>\n",
       "      <td>0</td>\n",
       "      <td>0</td>\n",
       "      <td>0</td>\n",
       "      <td>0</td>\n",
       "      <td>0</td>\n",
       "      <td>0</td>\n",
       "      <td>1</td>\n",
       "    </tr>\n",
       "    <tr>\n",
       "      <th>3</th>\n",
       "      <td>-0.245594</td>\n",
       "      <td>5.076677</td>\n",
       "      <td>-24.149632</td>\n",
       "      <td>3.637307</td>\n",
       "      <td>6.505811</td>\n",
       "      <td>2.290224</td>\n",
       "      <td>-35.111751</td>\n",
       "      <td>-18.913592</td>\n",
       "      <td>-0.337041</td>\n",
       "      <td>-5.568076</td>\n",
       "      <td>...</td>\n",
       "      <td>0</td>\n",
       "      <td>0</td>\n",
       "      <td>0</td>\n",
       "      <td>0</td>\n",
       "      <td>0</td>\n",
       "      <td>0</td>\n",
       "      <td>0</td>\n",
       "      <td>0</td>\n",
       "      <td>0</td>\n",
       "      <td>1</td>\n",
       "    </tr>\n",
       "    <tr>\n",
       "      <th>4</th>\n",
       "      <td>-0.273366</td>\n",
       "      <td>0.306326</td>\n",
       "      <td>-11.352593</td>\n",
       "      <td>1.676758</td>\n",
       "      <td>2.928441</td>\n",
       "      <td>-0.616824</td>\n",
       "      <td>-16.505817</td>\n",
       "      <td>27.532281</td>\n",
       "      <td>1.199715</td>\n",
       "      <td>-4.309105</td>\n",
       "      <td>...</td>\n",
       "      <td>0</td>\n",
       "      <td>0</td>\n",
       "      <td>0</td>\n",
       "      <td>0</td>\n",
       "      <td>0</td>\n",
       "      <td>0</td>\n",
       "      <td>0</td>\n",
       "      <td>0</td>\n",
       "      <td>1</td>\n",
       "      <td>0</td>\n",
       "    </tr>\n",
       "  </tbody>\n",
       "</table>\n",
       "<p>5 rows × 65 columns</p>\n",
       "</div>"
      ],
      "text/plain": [
       "         x0        x1         x2        x3        x4         x5         x6  \\\n",
       "0 -0.166563 -3.961588   4.621113  2.481908 -1.800135   0.804684   6.718751   \n",
       "1 -0.149894 -0.585676  27.839856  4.152333  6.426802  -2.426943  40.477058   \n",
       "2 -0.321707 -1.429819  12.251561  6.586874 -5.304647 -11.311090  17.812850   \n",
       "3 -0.245594  5.076677 -24.149632  3.637307  6.505811   2.290224 -35.111751   \n",
       "4 -0.273366  0.306326 -11.352593  1.676758  2.928441  -0.616824 -16.505817   \n",
       "\n",
       "          x7        x8        x9  ...  x29_Jun  x29_Mar  x29_May  x29_Nov  \\\n",
       "0 -14.789997 -1.040673 -4.204950  ...        0        0        0        0   \n",
       "1  -6.725709  0.896421  0.330165  ...        0        0        0        0   \n",
       "2  11.060572  5.325880 -2.632984  ...        0        0        0        0   \n",
       "3 -18.913592 -0.337041 -5.568076  ...        0        0        0        0   \n",
       "4  27.532281  1.199715 -4.309105  ...        0        0        0        0   \n",
       "\n",
       "   x29_Oct  x29_Sep  x30_monday  x30_thurday  x30_tuesday  x30_wednesday  \n",
       "0        0        0           0            0            1              0  \n",
       "1        0        0           0            0            0              1  \n",
       "2        0        0           0            0            0              1  \n",
       "3        0        0           0            0            0              1  \n",
       "4        0        0           0            0            1              0  \n",
       "\n",
       "[5 rows x 65 columns]"
      ]
     },
     "execution_count": 16,
     "metadata": {},
     "output_type": "execute_result"
    }
   ],
   "source": [
    "#Isolate remaining categorical variables\n",
    "begColumnCt = len(df_raw.columns)\n",
    "sD_nominal = df_raw.loc[:, (df_raw.dtypes == object)]\n",
    "\n",
    "#one hot encode categorical variables\n",
    "df_raw = pd.get_dummies(data=df_raw, \n",
    "                       columns=sD_nominal.columns, drop_first=True)\n",
    "\n",
    "#Determine change in column count\n",
    "endColumnCt = len(df_raw.columns)\n",
    "columnsAdded = endColumnCt - begColumnCt\n",
    "\n",
    "df_raw.head()"
   ]
  },
  {
   "cell_type": "code",
   "execution_count": 17,
   "metadata": {},
   "outputs": [
    {
     "data": {
      "text/plain": [
       "x0               float64\n",
       "x1               float64\n",
       "x2               float64\n",
       "x3               float64\n",
       "x4               float64\n",
       "                  ...   \n",
       "x29_Sep            uint8\n",
       "x30_monday         uint8\n",
       "x30_thurday        uint8\n",
       "x30_tuesday        uint8\n",
       "x30_wednesday      uint8\n",
       "Length: 65, dtype: object"
      ]
     },
     "execution_count": 17,
     "metadata": {},
     "output_type": "execute_result"
    }
   ],
   "source": [
    "df_raw.dtypes"
   ]
  },
  {
   "cell_type": "code",
   "execution_count": 18,
   "metadata": {},
   "outputs": [
    {
     "name": "stdout",
     "output_type": "stream",
     "text": [
      "Class 0: 94846\n",
      "Class 1: 63546\n"
     ]
    },
    {
     "data": {
      "text/plain": [
       "<Figure size 576x360 with 0 Axes>"
      ]
     },
     "metadata": {},
     "output_type": "display_data"
    },
    {
     "data": {
      "image/png": "[encoded data removed]",
      "text/plain": [
       "<Figure size 720x432 with 1 Axes>"
      ]
     },
     "metadata": {
      "needs_background": "light"
     },
     "output_type": "display_data"
    }
   ],
   "source": [
    "# check distribution of y \n",
    "\n",
    "plt.figure(figsize=(8,5))\n",
    "target_count = df_raw.y.value_counts()\n",
    "print('Class 0:', target_count[0])\n",
    "print('Class 1:', target_count[1])\n",
    "# print('Proportion:', round(target_count[0] / target_count[1], 2), ': 1')\n",
    "\n",
    "# Plot bar graph\n",
    "\n",
    "# Data to plot\n",
    "n_groups = 1\n",
    "class0=df_raw.y.value_counts()[0]\n",
    "class1=df_raw.y.value_counts()[1]\n",
    " \n",
    "# Create plot\n",
    "index = np.arange(n_groups)\n",
    "bar_width = 0.5\n",
    "opacity = 0.8\n",
    "plt.figure(figsize=(10,6))\n",
    "plt.bar(index, class0, bar_width,\n",
    "                 alpha=opacity,\n",
    "                 color='g',\n",
    "                 label='class 0')\n",
    " \n",
    "plt.bar(index + bar_width, class1, bar_width,\n",
    "                 alpha=opacity,\n",
    "                 color='r',\n",
    "                 label='class 1')\n",
    " \n",
    "plt.xlabel('Class')\n",
    "plt.ylabel('Frequence')\n",
    "plt.title('Response Variable Sampling Bar Plot')\n",
    "plt.xlim(-0.8, 2)\n",
    "plt.xticks(index + bar_width/2, (''))\n",
    "plt.legend()\n",
    " \n",
    "plt.show()"
   ]
  },
  {
   "cell_type": "code",
   "execution_count": 19,
   "metadata": {},
   "outputs": [],
   "source": [
    "# y is not too imbalanced, so would not be a concern"
   ]
  },
  {
   "cell_type": "markdown",
   "metadata": {},
   "source": [
    "## Feature Selection"
   ]
  },
  {
   "cell_type": "code",
   "execution_count": 20,
   "metadata": {},
   "outputs": [
    {
     "data": {
      "text/plain": [
       "['x6', 'x41', 'x24_euorpe']"
      ]
     },
     "execution_count": 20,
     "metadata": {},
     "output_type": "execute_result"
    }
   ],
   "source": [
    "# check corr of all attributes after transformation\n",
    "corr_matrix = df_raw.corr().abs()\n",
    "# Select upper triangle of correlation matrix\n",
    "correlated = corr_matrix.where(np.triu(np.ones(corr_matrix.shape), k=1).astype(np.bool))\n",
    "# Find index of feature columns with correlation greater than 0.5\n",
    "dropme_correlated = [column for column in correlated.columns if any(correlated[column] > 0.75)]\n",
    "dropme_correlated"
   ]
  },
  {
   "cell_type": "code",
   "execution_count": 21,
   "metadata": {},
   "outputs": [
    {
     "data": {
      "text/plain": [
       "<matplotlib.axes._subplots.AxesSubplot at 0x1ce9b106f60>"
      ]
     },
     "execution_count": 21,
     "metadata": {},
     "output_type": "execute_result"
    },
    {
     "data": {
      "image/png": "[encoded data removed]",
      "text/plain": [
       "<Figure size 2160x1440 with 2 Axes>"
      ]
     },
     "metadata": {
      "needs_background": "light"
     },
     "output_type": "display_data"
    }
   ],
   "source": [
    "danpallet= sns.diverging_palette(128, 255, l=50, n=7, center=\"light\",as_cmap=True)\n",
    "plt.figure(figsize=(30,20))\n",
    "c= df_raw.corr()\n",
    "sns.heatmap(c,annot=False, center=0, cmap=danpallet)"
   ]
  },
  {
   "cell_type": "code",
   "execution_count": 22,
   "metadata": {},
   "outputs": [],
   "source": [
    "# x20,23,40,49 seem to correlate to y relatively higher. so these could be important features.\n",
    "# many x are correlated. \n",
    "# due to the multicolinearity in the dataset, we choose RF, XGB which does not have assumptions on multicolinearity like logistic reg"
   ]
  },
  {
   "cell_type": "code",
   "execution_count": 23,
   "metadata": {},
   "outputs": [],
   "source": [
    "df_imputed=df_raw.sample(frac=0.2) #subsample 20% of data to try"
   ]
  },
  {
   "cell_type": "code",
   "execution_count": 24,
   "metadata": {},
   "outputs": [
    {
     "name": "stdout",
     "output_type": "stream",
     "text": [
      "<class 'pandas.core.frame.DataFrame'>\n",
      "Int64Index: 31678 entries, 28281 to 77287\n",
      "Data columns (total 65 columns):\n",
      " #   Column         Non-Null Count  Dtype  \n",
      "---  ------         --------------  -----  \n",
      " 0   x0             31678 non-null  float64\n",
      " 1   x1             31678 non-null  float64\n",
      " 2   x2             31678 non-null  float64\n",
      " 3   x3             31678 non-null  float64\n",
      " 4   x4             31678 non-null  float64\n",
      " 5   x5             31678 non-null  float64\n",
      " 6   x6             31678 non-null  float64\n",
      " 7   x7             31678 non-null  float64\n",
      " 8   x8             31678 non-null  float64\n",
      " 9   x9             31678 non-null  float64\n",
      " 10  x10            31678 non-null  float64\n",
      " 11  x11            31678 non-null  float64\n",
      " 12  x12            31678 non-null  float64\n",
      " 13  x13            31678 non-null  float64\n",
      " 14  x14            31678 non-null  float64\n",
      " 15  x15            31678 non-null  float64\n",
      " 16  x16            31678 non-null  float64\n",
      " 17  x17            31678 non-null  float64\n",
      " 18  x18            31678 non-null  float64\n",
      " 19  x19            31678 non-null  float64\n",
      " 20  x20            31678 non-null  float64\n",
      " 21  x21            31678 non-null  float64\n",
      " 22  x22            31678 non-null  float64\n",
      " 23  x23            31678 non-null  float64\n",
      " 24  x25            31678 non-null  float64\n",
      " 25  x26            31678 non-null  float64\n",
      " 26  x27            31678 non-null  float64\n",
      " 27  x28            31678 non-null  float64\n",
      " 28  x31            31678 non-null  float64\n",
      " 29  x32            31678 non-null  float64\n",
      " 30  x33            31678 non-null  float64\n",
      " 31  x34            31678 non-null  float64\n",
      " 32  x35            31678 non-null  float64\n",
      " 33  x36            31678 non-null  float64\n",
      " 34  x37            31678 non-null  float64\n",
      " 35  x38            31678 non-null  float64\n",
      " 36  x39            31678 non-null  float64\n",
      " 37  x40            31678 non-null  float64\n",
      " 38  x41            31678 non-null  float64\n",
      " 39  x42            31678 non-null  float64\n",
      " 40  x43            31678 non-null  float64\n",
      " 41  x44            31678 non-null  float64\n",
      " 42  x45            31678 non-null  float64\n",
      " 43  x46            31678 non-null  float64\n",
      " 44  x47            31678 non-null  float64\n",
      " 45  x48            31678 non-null  float64\n",
      " 46  x49            31678 non-null  float64\n",
      " 47  y              31678 non-null  int64  \n",
      " 48  x24_asia       31678 non-null  uint8  \n",
      " 49  x24_euorpe     31678 non-null  uint8  \n",
      " 50  x29_Aug        31678 non-null  uint8  \n",
      " 51  x29_Dec        31678 non-null  uint8  \n",
      " 52  x29_Feb        31678 non-null  uint8  \n",
      " 53  x29_Jan        31678 non-null  uint8  \n",
      " 54  x29_Jul        31678 non-null  uint8  \n",
      " 55  x29_Jun        31678 non-null  uint8  \n",
      " 56  x29_Mar        31678 non-null  uint8  \n",
      " 57  x29_May        31678 non-null  uint8  \n",
      " 58  x29_Nov        31678 non-null  uint8  \n",
      " 59  x29_Oct        31678 non-null  uint8  \n",
      " 60  x29_Sep        31678 non-null  uint8  \n",
      " 61  x30_monday     31678 non-null  uint8  \n",
      " 62  x30_thurday    31678 non-null  uint8  \n",
      " 63  x30_tuesday    31678 non-null  uint8  \n",
      " 64  x30_wednesday  31678 non-null  uint8  \n",
      "dtypes: float64(47), int64(1), uint8(17)\n",
      "memory usage: 12.4 MB\n"
     ]
    }
   ],
   "source": [
    "df_imputed.to_csv(\"df_imputed.csv\") #save 20% one hot encoded  data \n",
    "df_imputed.info()"
   ]
  },
  {
   "cell_type": "markdown",
   "metadata": {},
   "source": [
    "## Train, test split"
   ]
  },
  {
   "cell_type": "code",
   "execution_count": 25,
   "metadata": {},
   "outputs": [
    {
     "name": "stdout",
     "output_type": "stream",
     "text": [
      "ShuffleSplit(n_splits=3, random_state=None, test_size=0.2, train_size=None)\n"
     ]
    }
   ],
   "source": [
    "from sklearn.model_selection import ShuffleSplit\n",
    "\n",
    "# we want to predict the X and y data as follows:\n",
    "if 'y' in df_imputed:\n",
    "    y = df_imputed['y'].values # get the labels we want\n",
    "    del df_imputed['y'] # get rid of the class label\n",
    "    X = df_imputed.values # use everything else to predict!\n",
    "\n",
    "    ## X and y are now numpy matrices, by calling 'values' on the pandas data frames we\n",
    "    #    have converted them into simple matrices to use with scikit learn\n",
    "    \n",
    "    \n",
    "# to use the cross validation object in scikit learn, we need to grab an instance\n",
    "#    of the object and set it up. This object will be able to split our data into \n",
    "#    training and testing splits\n",
    "num_cv_iterations = 3\n",
    "num_instances = len(y)\n",
    "cv_object = ShuffleSplit(n_splits=num_cv_iterations,\n",
    "                         test_size  = 0.2)\n",
    "                         \n",
    "print(cv_object)"
   ]
  },
  {
   "cell_type": "code",
   "execution_count": 26,
   "metadata": {},
   "outputs": [],
   "source": [
    "## Training and Testing Split\n",
    "# okay, so run through the cross validation loop and set the training and testing variable for one single iteration\n",
    "for train_indices, test_indices in cv_object.split(X,y): \n",
    "    # I will create new variables here so that it is more obvious what \n",
    "    # the code is doing (you can compact this syntax and avoid duplicating memory,\n",
    "    # but it makes this code less readable)\n",
    "    X_train = X[train_indices]\n",
    "    y_train = y[train_indices]\n",
    "    \n",
    "    X_test = X[test_indices]\n",
    "    y_test = y[test_indices]\n",
    "\n",
    "    # we want to normalize the features based upon the mean and standard deviation of each column. \n",
    "# However, we do not want to accidentally use the testing data to find out the mean and std (this would be snooping)\n",
    "# to Make things easier, let's start by just using whatever was last stored in the variables:\n",
    "##    X_train , y_train , X_test, y_test (they were set in a for loop above)\n",
    "from sklearn.preprocessing import StandardScaler\n",
    "scl_obj = StandardScaler()\n",
    "\n",
    "scl_obj.fit(X_train)\n",
    "X_test_scaled = scl_obj.transform(X_test)\n",
    "\n",
    "X_train_scaled = scl_obj.transform(X_train) # apply to training\n",
    "X_test_scaled = scl_obj.transform(X_test) "
   ]
  },
  {
   "cell_type": "code",
   "execution_count": 24,
   "metadata": {},
   "outputs": [
    {
     "name": "stdout",
     "output_type": "stream",
     "text": [
      "Random Forest BASE - roc_auc_score:  0.8771989925361108\n"
     ]
    }
   ],
   "source": [
    "#RF baseline model\n",
    "#\n",
    "\n",
    "#run for 1-2 mins\n",
    "NUM_ESTIMATORS = 100\n",
    "NO_JOBS = 4\n",
    "RANDOM_STATE = 2000        \n",
    "        \n",
    "from sklearn.ensemble import RandomForestClassifier\n",
    "rf_clfBASE = RandomForestClassifier(  random_state = RANDOM_STATE, criterion = 'gini', \n",
    "                                n_estimators = NUM_ESTIMATORS, verbose = False, n_jobs = NO_JOBS)\n",
    "rf_clfBASE.fit(X_train_scaled,y_train)\n",
    "\n",
    "preds = rf_clfBASE.predict(X_test_scaled)\n",
    "print('Random Forest BASE - roc_auc_score: ', roc_auc_score(y_test, preds)) \n",
    "# Random Forest BASE - roc_auc_score:  0.8895059143941451\n",
    "# third run Random Forest BASE - roc_auc_score:  0.8771989925361108"
   ]
  },
  {
   "cell_type": "code",
   "execution_count": 25,
   "metadata": {},
   "outputs": [
    {
     "data": {
      "image/png": "[encoded data removed]",
      "text/plain": [
       "<Figure size 360x360 with 2 Axes>"
      ]
     },
     "metadata": {
      "needs_background": "light"
     },
     "output_type": "display_data"
    }
   ],
   "source": [
    "#Confusion Matrix # need to run for BASE parameter RF\n",
    "cm = pd.crosstab(y_test, preds, rownames = ['Actual'], colnames = ['Predicted'])\n",
    "fig, (ax1) = plt.subplots(ncols = 1, figsize = (5, 5))\n",
    "sns.heatmap(cm, xticklabels = ['y_0', 'y_1'], yticklabels = ['y_0', 'y_1'], \n",
    "            annot = True, ax = ax1,\n",
    "            linewidths = .2, linecolor = 'Darkblue', cmap ='Blues')\n",
    "plt.title('confusion Matrix', fontsize = 14)\n",
    "plt.show()"
   ]
  },
  {
   "cell_type": "markdown",
   "metadata": {},
   "source": [
    "## RandomizedSearchCV"
   ]
  },
  {
   "cell_type": "code",
   "execution_count": 28,
   "metadata": {},
   "outputs": [
    {
     "name": "stdout",
     "output_type": "stream",
     "text": [
      "{'n_estimators': [200, 400, 600, 800, 1000, 1200, 1400, 1600, 1800, 2000], 'max_features': ['auto', 'sqrt'], 'max_depth': [10, 20, 30, 40, 50, 60, 70, 80, 90, 100, 110, None], 'min_samples_split': [2, 5, 10], 'min_samples_leaf': [1, 2, 4], 'bootstrap': [True, False]}\n"
     ]
    }
   ],
   "source": [
    "#To use RandomizedSearchCV, we first need to create a parameter grid to sample from during fitting\n",
    "\n",
    "from sklearn.model_selection import RandomizedSearchCV\n",
    "\n",
    "# Number of trees in random forest\n",
    "n_estimators = [int(x) for x in np.linspace(start = 200, stop = 2000, num = 10)]\n",
    "# Number of features to consider at every split\n",
    "max_features = ['auto', 'sqrt']\n",
    "# Maximum number of levels in tree\n",
    "max_depth = [int(x) for x in np.linspace(10, 110, num = 11)]\n",
    "max_depth.append(None)\n",
    "# Minimum number of samples required to split a node\n",
    "min_samples_split = [2, 5, 10]\n",
    "# Minimum number of samples required at each leaf node\n",
    "min_samples_leaf = [1, 2, 4]\n",
    "# Method of selecting samples for training each tree\n",
    "bootstrap = [True, False]\n",
    "\n",
    "# Create the random grid\n",
    "random_grid = {'n_estimators': n_estimators,\n",
    "               'max_features': max_features,\n",
    "               'max_depth': max_depth,\n",
    "               'min_samples_split': min_samples_split,\n",
    "               'min_samples_leaf': min_samples_leaf,\n",
    "               'bootstrap': bootstrap}\n",
    "\n",
    "print(random_grid)"
   ]
  },
  {
   "cell_type": "code",
   "execution_count": 29,
   "metadata": {},
   "outputs": [
    {
     "data": {
      "text/plain": [
       "RandomizedSearchCV(cv=3, error_score=nan,\n",
       "                   estimator=RandomForestClassifier(bootstrap=True,\n",
       "                                                    ccp_alpha=0.0,\n",
       "                                                    class_weight=None,\n",
       "                                                    criterion='gini',\n",
       "                                                    max_depth=None,\n",
       "                                                    max_features='auto',\n",
       "                                                    max_leaf_nodes=None,\n",
       "                                                    max_samples=None,\n",
       "                                                    min_impurity_decrease=0.0,\n",
       "                                                    min_impurity_split=None,\n",
       "                                                    min_samples_leaf=1,\n",
       "                                                    min_samples_split=2,\n",
       "                                                    min_weight_fraction_leaf=0.0,\n",
       "                                                    n_estimators=100,\n",
       "                                                    n_jobs...\n",
       "                   param_distributions={'bootstrap': [True, False],\n",
       "                                        'max_depth': [10, 20, 30, 40, 50, 60,\n",
       "                                                      70, 80, 90, 100, 110,\n",
       "                                                      None],\n",
       "                                        'max_features': ['auto', 'sqrt'],\n",
       "                                        'min_samples_leaf': [1, 2, 4],\n",
       "                                        'min_samples_split': [2, 5, 10],\n",
       "                                        'n_estimators': [200, 400, 600, 800,\n",
       "                                                         1000, 1200, 1400, 1600,\n",
       "                                                         1800, 2000]},\n",
       "                   pre_dispatch='2*n_jobs', random_state=2000, refit=True,\n",
       "                   return_train_score=False, scoring=None, verbose=False)"
      ]
     },
     "execution_count": 29,
     "metadata": {},
     "output_type": "execute_result"
    }
   ],
   "source": [
    "# run for 20 min\n",
    "rf = RandomForestClassifier()\n",
    "# Random search of parameters, using 3 fold cross validation, \n",
    "# search across 100? different combinations, and (use all available cores-n job =-1)\n",
    "rf_random = RandomizedSearchCV(estimator = rf, param_distributions = random_grid, n_iter = 1, cv = 3, verbose=False, random_state=2000, n_jobs = 4)\n",
    "\n",
    "# Fit the random search model\n",
    "rf_random.fit(X_train, y_train)"
   ]
  },
  {
   "cell_type": "code",
   "execution_count": 30,
   "metadata": {},
   "outputs": [
    {
     "data": {
      "text/plain": [
       "{'n_estimators': 1800,\n",
       " 'min_samples_split': 10,\n",
       " 'min_samples_leaf': 1,\n",
       " 'max_features': 'sqrt',\n",
       " 'max_depth': 50,\n",
       " 'bootstrap': False}"
      ]
     },
     "execution_count": 30,
     "metadata": {},
     "output_type": "execute_result"
    }
   ],
   "source": [
    "rf_random.best_params_"
   ]
  },
  {
   "cell_type": "code",
   "execution_count": 117,
   "metadata": {},
   "outputs": [
    {
     "name": "stdout",
     "output_type": "stream",
     "text": [
      "{'n_estimators': [200, 400, 600, 800, 1000, 1200, 1400, 1600, 1800, 2000], 'max_features': ['auto', 'sqrt'], 'max_depth': [10, 20, 30, 40, 50, 60, 70, 80, 90, 100, 110, None], 'min_samples_split': [2, 5, 10], 'min_samples_leaf': [1, 2, 4], 'bootstrap': [True, False]}\n"
     ]
    }
   ],
   "source": [
    "#try auc as metrics\n",
    "#To use RandomizedSearchCV, we first need to create a parameter grid to sample from during fitting\n",
    "\n",
    "from sklearn.model_selection import RandomizedSearchCV\n",
    "\n",
    "# Number of trees in random forest\n",
    "n_estimators = [int(x) for x in np.linspace(start = 200, stop = 2000, num = 10)]\n",
    "# Number of features to consider at every split\n",
    "max_features = ['auto', 'sqrt']\n",
    "# Maximum number of levels in tree\n",
    "max_depth = [int(x) for x in np.linspace(10, 110, num = 11)]\n",
    "max_depth.append(None)\n",
    "# Minimum number of samples required to split a node\n",
    "min_samples_split = [2, 5, 10]\n",
    "# Minimum number of samples required at each leaf node\n",
    "min_samples_leaf = [1, 2, 4]\n",
    "# Method of selecting samples for training each tree\n",
    "bootstrap = [True, False]\n",
    "\n",
    "# Create the random grid\n",
    "random_grid = {'n_estimators': n_estimators,\n",
    "               'max_features': max_features,\n",
    "               'max_depth': max_depth,\n",
    "               'min_samples_split': min_samples_split,\n",
    "               'min_samples_leaf': min_samples_leaf,\n",
    "               'bootstrap': bootstrap}\n",
    "\n",
    "print(random_grid)"
   ]
  },
  {
   "cell_type": "code",
   "execution_count": 127,
   "metadata": {},
   "outputs": [
    {
     "data": {
      "text/plain": [
       "RandomizedSearchCV(cv=3, error_score=nan,\n",
       "                   estimator=RandomForestClassifier(bootstrap=True,\n",
       "                                                    ccp_alpha=0.0,\n",
       "                                                    class_weight=None,\n",
       "                                                    criterion='gini',\n",
       "                                                    max_depth=None,\n",
       "                                                    max_features='auto',\n",
       "                                                    max_leaf_nodes=None,\n",
       "                                                    max_samples=None,\n",
       "                                                    min_impurity_decrease=0.0,\n",
       "                                                    min_impurity_split=None,\n",
       "                                                    min_samples_leaf=1,\n",
       "                                                    min_samples_split=2,\n",
       "                                                    min_weight_fraction_leaf=0.0,\n",
       "                                                    n_estimators=100,\n",
       "                                                    n_jobs...\n",
       "                   param_distributions={'bootstrap': [True, False],\n",
       "                                        'max_depth': [10, 20, 30, 40, 50, 60,\n",
       "                                                      70, 80, 90, 100, 110,\n",
       "                                                      None],\n",
       "                                        'max_features': ['auto', 'sqrt'],\n",
       "                                        'min_samples_leaf': [1, 2, 4],\n",
       "                                        'min_samples_split': [2, 5, 10],\n",
       "                                        'n_estimators': [200, 400, 600, 800,\n",
       "                                                         1000, 1200, 1400, 1600,\n",
       "                                                         1800, 2000]},\n",
       "                   pre_dispatch='2*n_jobs', random_state=2000, refit=True,\n",
       "                   return_train_score=False, scoring='roc_auc', verbose=False)"
      ]
     },
     "execution_count": 127,
     "metadata": {},
     "output_type": "execute_result"
    }
   ],
   "source": [
    "# run for 20 min\n",
    "rf = RandomForestClassifier()\n",
    "# Random search of parameters, using 3 fold cross validation, \n",
    "# search across 100? different combinations, and (use all available cores-n job =-1)\n",
    "rf_random = RandomizedSearchCV(estimator = rf, param_distributions = random_grid, n_iter = 5, cv = 3, scoring = 'roc_auc', verbose=False, random_state=2000, n_jobs = 4)\n",
    "\n",
    "# Fit the random search model\n",
    "rf_random.fit(X_train, y_train)"
   ]
  },
  {
   "cell_type": "code",
   "execution_count": 128,
   "metadata": {},
   "outputs": [
    {
     "data": {
      "text/plain": [
       "{'n_estimators': 1800,\n",
       " 'min_samples_split': 10,\n",
       " 'min_samples_leaf': 1,\n",
       " 'max_features': 'sqrt',\n",
       " 'max_depth': 50,\n",
       " 'bootstrap': False}"
      ]
     },
     "execution_count": 128,
     "metadata": {},
     "output_type": "execute_result"
    }
   ],
   "source": [
    "rf_random.best_params_\n",
    "\n",
    "#last non metrics search\n",
    "# Out[30]:\n",
    "# {'n_estimators': 1800,\n",
    "#  'min_samples_split': 10,\n",
    "#  'min_samples_leaf': 1,\n",
    "#  'max_features': 'sqrt',\n",
    "#  'max_depth': 50,\n",
    "#  'bootstrap': False}\n",
    "\n",
    "#got the same results"
   ]
  },
  {
   "cell_type": "code",
   "execution_count": 129,
   "metadata": {},
   "outputs": [],
   "source": [
    "# alert when above done\n",
    "import winsound\n",
    "winsound.Beep(500,1000)"
   ]
  },
  {
   "cell_type": "code",
   "execution_count": null,
   "metadata": {},
   "outputs": [],
   "source": [
    "#got the same best_params_ results, so this part do not need to run\n",
    "\n",
    "# NUM_ESTIMATORS = 100\n",
    "# NO_JOBS = 4\n",
    "# RANDOM_STATE = 2000\n",
    "# from sklearn.ensemble import RandomForestClassifier\n",
    "\n",
    "# rf_clf = RandomForestClassifier(  random_state = RANDOM_STATE, criterion = 'gini', min_samples_split=10,min_samples_leaf=1,\n",
    "#                                 max_features='sqrt', max_depth=50, bootstrap = False,\n",
    "#                                 n_estimators = 1800, verbose = False, n_jobs = NO_JOBS)\n",
    "# rf_clf.fit(X_train_scaled,y_train)\n",
    "\n",
    "# preds = rf_clf.predict(X_test_scaled)\n",
    "# print('Random Forest - roc_auc_score: ', roc_auc_score(y_test, preds))"
   ]
  },
  {
   "cell_type": "code",
   "execution_count": 124,
   "metadata": {},
   "outputs": [
    {
     "data": {
      "text/plain": [
       "RandomizedSearchCV(cv=3, error_score=nan,\n",
       "                   estimator=RandomForestClassifier(bootstrap=True,\n",
       "                                                    ccp_alpha=0.0,\n",
       "                                                    class_weight=None,\n",
       "                                                    criterion='gini',\n",
       "                                                    max_depth=None,\n",
       "                                                    max_features='auto',\n",
       "                                                    max_leaf_nodes=None,\n",
       "                                                    max_samples=None,\n",
       "                                                    min_impurity_decrease=0.0,\n",
       "                                                    min_impurity_split=None,\n",
       "                                                    min_samples_leaf=1,\n",
       "                                                    min_samples_split=2,\n",
       "                                                    min_weight_fraction_leaf=0.0,\n",
       "                                                    n_estimators=100,\n",
       "                                                    n_jobs...\n",
       "                   param_distributions={'bootstrap': [True, False],\n",
       "                                        'max_depth': [10, 20, 30, 40, 50, 60,\n",
       "                                                      70, 80, 90, 100, 110,\n",
       "                                                      None],\n",
       "                                        'max_features': ['auto', 'sqrt'],\n",
       "                                        'min_samples_leaf': [1, 2, 4],\n",
       "                                        'min_samples_split': [2, 5, 10],\n",
       "                                        'n_estimators': [200, 400, 600, 800,\n",
       "                                                         1000, 1200, 1400, 1600,\n",
       "                                                         1800, 2000]},\n",
       "                   pre_dispatch='2*n_jobs', random_state=2000, refit=True,\n",
       "                   return_train_score=False, scoring='recall', verbose=False)"
      ]
     },
     "execution_count": 124,
     "metadata": {},
     "output_type": "execute_result"
    }
   ],
   "source": [
    "# try recall as metrics\n",
    "\n",
    "# run for 20 min\n",
    "rf = RandomForestClassifier()\n",
    "# Random search of parameters, using 3 fold cross validation, \n",
    "# search across 100? different combinations, and (use all available cores-n job =-1)\n",
    "rf_random = RandomizedSearchCV(estimator = rf, param_distributions = random_grid, n_iter = 5, cv = 3, scoring = 'recall', verbose=False, random_state=2000, n_jobs = 4)\n",
    "\n",
    "# Fit the random search model\n",
    "rf_random.fit(X_train, y_train)"
   ]
  },
  {
   "cell_type": "code",
   "execution_count": 125,
   "metadata": {},
   "outputs": [
    {
     "data": {
      "text/plain": [
       "{'n_estimators': 1800,\n",
       " 'min_samples_split': 10,\n",
       " 'min_samples_leaf': 1,\n",
       " 'max_features': 'sqrt',\n",
       " 'max_depth': 50,\n",
       " 'bootstrap': False}"
      ]
     },
     "execution_count": 125,
     "metadata": {},
     "output_type": "execute_result"
    }
   ],
   "source": [
    "rf_random.best_params_\n",
    "\n",
    "#last non metrics search\n",
    "# Out[30]:\n",
    "# {'n_estimators': 1800,\n",
    "#  'min_samples_split': 10,\n",
    "#  'min_samples_leaf': 1,\n",
    "#  'max_features': 'sqrt',\n",
    "#  'max_depth': 50,\n",
    "#  'bootstrap': False}\n",
    "\n",
    "# for n_iter = 1, got the same results\n",
    "# try n_iter = 5"
   ]
  },
  {
   "cell_type": "code",
   "execution_count": 126,
   "metadata": {},
   "outputs": [],
   "source": [
    "# alert when above done\n",
    "import winsound\n",
    "winsound.Beep(500,1000)"
   ]
  },
  {
   "cell_type": "code",
   "execution_count": null,
   "metadata": {},
   "outputs": [],
   "source": [
    "\n",
    "NUM_ESTIMATORS = 100\n",
    "NO_JOBS = 4\n",
    "RANDOM_STATE = 2000\n",
    "from sklearn.ensemble import RandomForestClassifier\n",
    "\n",
    "rf_clf = RandomForestClassifier(  random_state = RANDOM_STATE, criterion = 'gini', min_samples_split=10,min_samples_leaf=1,\n",
    "                                max_features='sqrt', max_depth=50, bootstrap = False,\n",
    "                                n_estimators = 1800, verbose = False, n_jobs = NO_JOBS)\n",
    "rf_clf.fit(X_train_scaled,y_train)\n",
    "\n",
    "preds = rf_clf.predict(X_test_scaled)\n",
    "print('Random Forest - roc_auc_score: ', roc_auc_score(y_test, preds))"
   ]
  },
  {
   "cell_type": "code",
   "execution_count": null,
   "metadata": {},
   "outputs": [],
   "source": [
    "# if have time, try more iterations. 5 iterations did not use 20*5 mins but 43 mins"
   ]
  },
  {
   "cell_type": "code",
   "execution_count": 81,
   "metadata": {},
   "outputs": [
    {
     "name": "stdout",
     "output_type": "stream",
     "text": [
      "Random Forest - roc_auc_score:  0.8904217258574725\n"
     ]
    }
   ],
   "source": [
    "#run best parameter RF (first run no parameter one )\n",
    "\n",
    "#rf_random = RandomizedSearchCV(estimator = rf, param_distributions = random_grid, n_iter = 1, cv = 3, verbose=False, random_state=2000, n_jobs = 4)\n",
    "\n",
    "# n_estimators = 1800 run for a few minutes\n",
    "\n",
    "NUM_ESTIMATORS = 100\n",
    "NO_JOBS = 4\n",
    "RANDOM_STATE = 2000\n",
    "from sklearn.ensemble import RandomForestClassifier\n",
    "\n",
    "rf_clf = RandomForestClassifier(  random_state = RANDOM_STATE, criterion = 'gini', min_samples_split=10,min_samples_leaf=1,\n",
    "                                max_features='sqrt', max_depth=50, bootstrap = False,\n",
    "                                n_estimators = 1800, verbose = False, n_jobs = NO_JOBS)\n",
    "rf_clf.fit(X_train_scaled,y_train)\n",
    "\n",
    "preds = rf_clf.predict(X_test_scaled)\n",
    "print('Random Forest - roc_auc_score: ', roc_auc_score(y_test, preds)) \n",
    "\n",
    "# Random Forest - roc_auc_score:  0.9043234045022768\n",
    "# RF auc improve after parameters tuning\n",
    "\n",
    "# second run Random Forest - roc_auc_score:  0.8993454200337757\n",
    "# third run Random Forest - roc_auc_score:  0.8904217258574725"
   ]
  },
  {
   "cell_type": "code",
   "execution_count": 82,
   "metadata": {},
   "outputs": [
    {
     "data": {
      "image/png": "[encoded data removed]",
      "text/plain": [
       "<Figure size 360x360 with 2 Axes>"
      ]
     },
     "metadata": {
      "needs_background": "light"
     },
     "output_type": "display_data"
    }
   ],
   "source": [
    "#Confusion Matrix # need to run for best parameter RF\n",
    "cm = pd.crosstab(y_test, preds, rownames = ['Actual'], colnames = ['Predicted'])\n",
    "fig, (ax1) = plt.subplots(ncols = 1, figsize = (5, 5))\n",
    "sns.heatmap(cm, xticklabels = ['y_0', 'y_1'], yticklabels = ['y_0', 'y_1'], \n",
    "            annot = True, ax = ax1,\n",
    "            linewidths = .2, linecolor = 'Darkblue', cmap ='Blues')\n",
    "plt.title('confusion Matrix for RF', fontsize = 14)\n",
    "plt.show()"
   ]
  },
  {
   "cell_type": "code",
   "execution_count": 83,
   "metadata": {},
   "outputs": [
    {
     "data": {
      "text/plain": [
       "array([[3476,  205],\n",
       "       [ 434, 2221]], dtype=int64)"
      ]
     },
     "execution_count": 83,
     "metadata": {},
     "output_type": "execute_result"
    }
   ],
   "source": [
    "confusion_matrix(y_test, preds)"
   ]
  },
  {
   "cell_type": "markdown",
   "metadata": {},
   "source": [
    "## Calculate cost for RF"
   ]
  },
  {
   "cell_type": "code",
   "execution_count": null,
   "metadata": {},
   "outputs": [],
   "source": [
    "\n",
    "# fn : left bottom in confusion matrix\n",
    "# fp: right upper in confusion matrix\n",
    "\n",
    "# total Cost = 10 * Count of FP + 500 * Count of FN"
   ]
  },
  {
   "cell_type": "code",
   "execution_count": null,
   "metadata": {},
   "outputs": [],
   "source": [
    "# rf cost =10*205 + 500*434= 219050"
   ]
  },
  {
   "cell_type": "code",
   "execution_count": 84,
   "metadata": {},
   "outputs": [
    {
     "data": {
      "text/plain": [
       "219050"
      ]
     },
     "execution_count": 84,
     "metadata": {},
     "output_type": "execute_result"
    }
   ],
   "source": [
    "10*205 + 500*434\n"
   ]
  },
  {
   "cell_type": "code",
   "execution_count": 29,
   "metadata": {},
   "outputs": [
    {
     "name": "stdout",
     "output_type": "stream",
     "text": [
      "RandomForest accuracy with corresponding parameter settings\n",
      "RandomForest classifier accuracy with optimal parameters is: 0.899\n",
      "RandomForest classifier precision with optimal parameters is: 0.915\n",
      "RandomForest classifier classsification report with optimal parameters is: \n",
      "               precision    recall  f1-score   support\n",
      "\n",
      "           0       0.89      0.94      0.92      3681\n",
      "           1       0.92      0.84      0.87      2655\n",
      "\n",
      "    accuracy                           0.90      6336\n",
      "   macro avg       0.90      0.89      0.90      6336\n",
      "weighted avg       0.90      0.90      0.90      6336\n",
      "\n"
     ]
    }
   ],
   "source": [
    "total_accuracy_rf = mt.accuracy_score(y_test, preds)\n",
    "total_precision_rf = precision_score(y_test, preds)\n",
    "classification_rpt_rf = classification_report(y_test, preds)\n",
    "print (\"RandomForest accuracy with corresponding parameter settings\")\n",
    "print('RandomForest classifier accuracy with optimal parameters is: %.3f'%(total_accuracy_rf))\n",
    "print('RandomForest classifier precision with optimal parameters is: %.3f'%(total_precision_rf))\n",
    "print('RandomForest classifier classsification report with optimal parameters is: \\n',(classification_rpt_rf))"
   ]
  },
  {
   "cell_type": "code",
   "execution_count": 98,
   "metadata": {},
   "outputs": [],
   "source": [
    "# from yellowbrick.classifier import ClassificationReport\n",
    "# # CLASSIFICATION REPORT\n",
    "# plt.figure(figsize=(8,6))\n",
    "# viz = ClassificationReport(ClsRandomizedSearchEst_RF)\n",
    "# viz.fit(X_train, y_train)\n",
    "# viz.score(X_test, y_test)\n",
    "# viz.poof(outpath=\"RandomForest_assification_report.png\")"
   ]
  },
  {
   "cell_type": "code",
   "execution_count": 85,
   "metadata": {},
   "outputs": [
    {
     "data": {
      "image/png": "[encoded data removed]",
      "text/plain": [
       "<Figure size 432x288 with 1 Axes>"
      ]
     },
     "metadata": {
      "needs_background": "light"
     },
     "output_type": "display_data"
    }
   ],
   "source": [
    "#This function plots an ROC curve\n",
    "def rocCurvePlot(probs, y_test1):\n",
    "    # calculate the fpr and tpr for all thresholds of the classification\n",
    "   # preds = probs[:,1]\n",
    "    preds = probs\n",
    "    fpr, tpr, threshold = metrics.roc_curve(y_test1, preds)\n",
    "    roc_auc = metrics.auc(fpr, tpr)\n",
    "\n",
    "    # method I: plt\n",
    "    import matplotlib.pyplot as plt\n",
    "    plt.title('Receiver Operating Characteristic for RF')\n",
    "    plt.plot(fpr, tpr, 'b', label = 'AUC = %0.2f' % roc_auc)\n",
    "    plt.legend(loc = 'lower right')\n",
    "    plt.plot([0, 1], [0, 1],'r--')\n",
    "    plt.xlim([0, 1])\n",
    "    plt.ylim([0, 1])\n",
    "    plt.ylabel('True Positive Rate')\n",
    "    plt.xlabel('False Positive Rate')\n",
    "    plt.show()\n",
    "    \n",
    "rocCurvePlot(preds, y_test)"
   ]
  },
  {
   "cell_type": "code",
   "execution_count": 31,
   "metadata": {},
   "outputs": [],
   "source": []
  },
  {
   "cell_type": "code",
   "execution_count": 32,
   "metadata": {},
   "outputs": [
    {
     "name": "stdout",
     "output_type": "stream",
     "text": [
      "[0.94430861 0.83653484]\n"
     ]
    },
    {
     "data": {
      "image/png": "[encoded data removed]",
      "text/plain": [
       "<Figure size 576x432 with 1 Axes>"
      ]
     },
     "metadata": {
      "needs_background": "light"
     },
     "output_type": "display_data"
    }
   ],
   "source": [
    "# get classification accuracy\n",
    "def per_class_accuracy(ytrue,yhat):\n",
    "    conf = mt.confusion_matrix(ytrue,yhat)\n",
    "    norm_conf = conf.astype('float') / conf.sum(axis=1)[:, np.newaxis]\n",
    "    return np.diag(norm_conf)\n",
    "# draw classification accuracy confusion Matrix\n",
    "def plot_class_acc(ytrue,yhat, title=''):\n",
    "    acc_list = per_class_accuracy(ytrue,yhat)\n",
    "    plt.figure(figsize=(8,6))\n",
    "    plt.bar(range(len(acc_list)), acc_list)\n",
    "    plt.xlabel('Class value')\n",
    "    plt.ylabel('Accuracy within class')\n",
    "    plt.title(title+\", Total Acc=%.1f\"%(100*mt.accuracy_score(ytrue,yhat)))\n",
    "    plt.grid()\n",
    "    plt.ylim([0,1])\n",
    "    plt.savefig(title)\n",
    "    plt.show()\n",
    "    \n",
    "print(per_class_accuracy(y_test, preds))\n",
    "plot_class_acc(y_test, preds,title=\"RandomForest Accuracy Plot\")"
   ]
  },
  {
   "cell_type": "code",
   "execution_count": 33,
   "metadata": {},
   "outputs": [
    {
     "data": {
      "text/plain": [
       "array([7.03207877e-03, 7.11970104e-03, 2.92889153e-02, 7.20606572e-03,\n",
       "       6.93792011e-03, 6.94620258e-03, 3.00360102e-02, 4.08657471e-02,\n",
       "       7.07329949e-03, 7.30021617e-03, 7.21839699e-03, 7.20451331e-03,\n",
       "       4.98941647e-02, 7.24030180e-03, 7.39025143e-03, 6.97376653e-03,\n",
       "       7.24536966e-03, 7.10250947e-03, 6.88338205e-03, 7.00084391e-03,\n",
       "       6.37173491e-02, 7.07291310e-03, 7.25185814e-03, 7.91028519e-02,\n",
       "       7.13019111e-03, 7.36601067e-03, 4.49212714e-02, 4.66402864e-02,\n",
       "       7.03494060e-03, 2.36032763e-02, 7.08570602e-03, 6.89881781e-03,\n",
       "       7.15235275e-03, 7.10019887e-03, 4.41980397e-02, 3.58637756e-02,\n",
       "       7.07522193e-03, 4.39086167e-02, 3.56912456e-02, 5.13228997e-02,\n",
       "       7.03711252e-03, 7.02864803e-03, 7.01294979e-03, 3.49944785e-02,\n",
       "       6.91338211e-03, 5.93408883e-02, 6.15240914e-02, 3.61896531e-03,\n",
       "       3.23081027e-03, 5.89421374e-04, 8.60062315e-06, 2.18534470e-05,\n",
       "       1.53177343e-06, 5.52472995e-04, 5.34037485e-04, 1.82289750e-04,\n",
       "       5.71078172e-04, 1.49226021e-04, 3.61004120e-04, 5.20884151e-04,\n",
       "       1.77537721e-04, 5.12635172e-04, 5.40907225e-04, 4.77713983e-04])"
      ]
     },
     "execution_count": 33,
     "metadata": {},
     "output_type": "execute_result"
    }
   ],
   "source": [
    "rf_clf.feature_importances_"
   ]
  },
  {
   "cell_type": "code",
   "execution_count": 34,
   "metadata": {},
   "outputs": [
    {
     "data": {
      "text/plain": [
       "Text(0.5, 1.0, 'feature_importances')"
      ]
     },
     "execution_count": 34,
     "metadata": {},
     "output_type": "execute_result"
    },
    {
     "data": {
      "image/png": "[encoded data removed]",
      "text/plain": [
       "<Figure size 432x288 with 1 Axes>"
      ]
     },
     "metadata": {
      "needs_background": "light"
     },
     "output_type": "display_data"
    }
   ],
   "source": [
    "feat_importances = pd.Series(rf_clf.feature_importances_, index=df_imputed.columns)\n",
    "feat_importances.nlargest(15).plot(kind='barh')\n",
    "plt.title('feature_importances', fontsize = 14)"
   ]
  },
  {
   "cell_type": "markdown",
   "metadata": {},
   "source": [
    "## RF feature_importances\n",
    "#### During feature selection, in the correlation matrix heatmap, we noticed x20,23,40,49 seem to correlate to y relatively higher. so these could be important features. #### From the above plot of RF model feature_importances, we can see x23,20,49 are most important features. So our guess is correct!!!!"
   ]
  },
  {
   "cell_type": "markdown",
   "metadata": {},
   "source": [
    "## RF training curves"
   ]
  },
  {
   "cell_type": "code",
   "execution_count": 86,
   "metadata": {},
   "outputs": [],
   "source": [
    "final_model=rf_clf\n",
    "#rf_clf to replace final_model"
   ]
  },
  {
   "cell_type": "code",
   "execution_count": 88,
   "metadata": {},
   "outputs": [
    {
     "ename": "KeyboardInterrupt",
     "evalue": "",
     "output_type": "error",
     "traceback": [
      "\u001b[1;31m---------------------------------------------------------------------------\u001b[0m",
      "\u001b[1;31mKeyboardInterrupt\u001b[0m                         Traceback (most recent call last)",
      "\u001b[1;32m<ipython-input-88-2f163fe8a30c>\u001b[0m in \u001b[0;36m<module>\u001b[1;34m\u001b[0m\n\u001b[0;32m     14\u001b[0m tree_grid_search = GridSearchCV(final_model, param_grid=tree_grid, verbose = False, n_jobs=4, cv = 3,\n\u001b[0;32m     15\u001b[0m                                 scoring = 'roc_auc')\n\u001b[1;32m---> 16\u001b[1;33m \u001b[0mtree_grid_search\u001b[0m\u001b[1;33m.\u001b[0m\u001b[0mfit\u001b[0m\u001b[1;33m(\u001b[0m\u001b[0mX_train_scaled\u001b[0m\u001b[1;33m,\u001b[0m\u001b[0my_train\u001b[0m\u001b[1;33m)\u001b[0m\u001b[1;33m;\u001b[0m\u001b[1;33m\u001b[0m\u001b[0m\n\u001b[0m",
      "\u001b[1;32m~\\Anaconda3\\lib\\site-packages\\sklearn\\model_selection\\_search.py\u001b[0m in \u001b[0;36mfit\u001b[1;34m(self, X, y, groups, **fit_params)\u001b[0m\n\u001b[0;32m    708\u001b[0m                 \u001b[1;32mreturn\u001b[0m \u001b[0mresults\u001b[0m\u001b[1;33m\u001b[0m\u001b[0m\n\u001b[0;32m    709\u001b[0m \u001b[1;33m\u001b[0m\u001b[0m\n\u001b[1;32m--> 710\u001b[1;33m             \u001b[0mself\u001b[0m\u001b[1;33m.\u001b[0m\u001b[0m_run_search\u001b[0m\u001b[1;33m(\u001b[0m\u001b[0mevaluate_candidates\u001b[0m\u001b[1;33m)\u001b[0m\u001b[1;33m\u001b[0m\u001b[0m\n\u001b[0m\u001b[0;32m    711\u001b[0m \u001b[1;33m\u001b[0m\u001b[0m\n\u001b[0;32m    712\u001b[0m         \u001b[1;31m# For multi-metric evaluation, store the best_index_, best_params_ and\u001b[0m\u001b[1;33m\u001b[0m\u001b[1;33m\u001b[0m\u001b[0m\n",
      "\u001b[1;32m~\\Anaconda3\\lib\\site-packages\\sklearn\\model_selection\\_search.py\u001b[0m in \u001b[0;36m_run_search\u001b[1;34m(self, evaluate_candidates)\u001b[0m\n\u001b[0;32m   1149\u001b[0m     \u001b[1;32mdef\u001b[0m \u001b[0m_run_search\u001b[0m\u001b[1;33m(\u001b[0m\u001b[0mself\u001b[0m\u001b[1;33m,\u001b[0m \u001b[0mevaluate_candidates\u001b[0m\u001b[1;33m)\u001b[0m\u001b[1;33m:\u001b[0m\u001b[1;33m\u001b[0m\u001b[0m\n\u001b[0;32m   1150\u001b[0m         \u001b[1;34m\"\"\"Search all candidates in param_grid\"\"\"\u001b[0m\u001b[1;33m\u001b[0m\u001b[0m\n\u001b[1;32m-> 1151\u001b[1;33m         \u001b[0mevaluate_candidates\u001b[0m\u001b[1;33m(\u001b[0m\u001b[0mParameterGrid\u001b[0m\u001b[1;33m(\u001b[0m\u001b[0mself\u001b[0m\u001b[1;33m.\u001b[0m\u001b[0mparam_grid\u001b[0m\u001b[1;33m)\u001b[0m\u001b[1;33m)\u001b[0m\u001b[1;33m\u001b[0m\u001b[0m\n\u001b[0m\u001b[0;32m   1152\u001b[0m \u001b[1;33m\u001b[0m\u001b[0m\n\u001b[0;32m   1153\u001b[0m \u001b[1;33m\u001b[0m\u001b[0m\n",
      "\u001b[1;32m~\\Anaconda3\\lib\\site-packages\\sklearn\\model_selection\\_search.py\u001b[0m in \u001b[0;36mevaluate_candidates\u001b[1;34m(candidate_params)\u001b[0m\n\u001b[0;32m    687\u001b[0m                                \u001b[1;32mfor\u001b[0m \u001b[0mparameters\u001b[0m\u001b[1;33m,\u001b[0m \u001b[1;33m(\u001b[0m\u001b[0mtrain\u001b[0m\u001b[1;33m,\u001b[0m \u001b[0mtest\u001b[0m\u001b[1;33m)\u001b[0m\u001b[1;33m\u001b[0m\u001b[0m\n\u001b[0;32m    688\u001b[0m                                in product(candidate_params,\n\u001b[1;32m--> 689\u001b[1;33m                                           cv.split(X, y, groups)))\n\u001b[0m\u001b[0;32m    690\u001b[0m \u001b[1;33m\u001b[0m\u001b[0m\n\u001b[0;32m    691\u001b[0m                 \u001b[1;32mif\u001b[0m \u001b[0mlen\u001b[0m\u001b[1;33m(\u001b[0m\u001b[0mout\u001b[0m\u001b[1;33m)\u001b[0m \u001b[1;33m<\u001b[0m \u001b[1;36m1\u001b[0m\u001b[1;33m:\u001b[0m\u001b[1;33m\u001b[0m\u001b[0m\n",
      "\u001b[1;32m~\\Anaconda3\\lib\\site-packages\\joblib\\parallel.py\u001b[0m in \u001b[0;36m__call__\u001b[1;34m(self, iterable)\u001b[0m\n\u001b[0;32m    928\u001b[0m \u001b[1;33m\u001b[0m\u001b[0m\n\u001b[0;32m    929\u001b[0m             \u001b[1;32mwith\u001b[0m \u001b[0mself\u001b[0m\u001b[1;33m.\u001b[0m\u001b[0m_backend\u001b[0m\u001b[1;33m.\u001b[0m\u001b[0mretrieval_context\u001b[0m\u001b[1;33m(\u001b[0m\u001b[1;33m)\u001b[0m\u001b[1;33m:\u001b[0m\u001b[1;33m\u001b[0m\u001b[0m\n\u001b[1;32m--> 930\u001b[1;33m                 \u001b[0mself\u001b[0m\u001b[1;33m.\u001b[0m\u001b[0mretrieve\u001b[0m\u001b[1;33m(\u001b[0m\u001b[1;33m)\u001b[0m\u001b[1;33m\u001b[0m\u001b[0m\n\u001b[0m\u001b[0;32m    931\u001b[0m             \u001b[1;31m# Make sure that we get a last message telling us we are done\u001b[0m\u001b[1;33m\u001b[0m\u001b[1;33m\u001b[0m\u001b[0m\n\u001b[0;32m    932\u001b[0m             \u001b[0melapsed_time\u001b[0m \u001b[1;33m=\u001b[0m \u001b[0mtime\u001b[0m\u001b[1;33m.\u001b[0m\u001b[0mtime\u001b[0m\u001b[1;33m(\u001b[0m\u001b[1;33m)\u001b[0m \u001b[1;33m-\u001b[0m \u001b[0mself\u001b[0m\u001b[1;33m.\u001b[0m\u001b[0m_start_time\u001b[0m\u001b[1;33m\u001b[0m\u001b[0m\n",
      "\u001b[1;32m~\\Anaconda3\\lib\\site-packages\\joblib\\parallel.py\u001b[0m in \u001b[0;36mretrieve\u001b[1;34m(self)\u001b[0m\n\u001b[0;32m    831\u001b[0m             \u001b[1;32mtry\u001b[0m\u001b[1;33m:\u001b[0m\u001b[1;33m\u001b[0m\u001b[0m\n\u001b[0;32m    832\u001b[0m                 \u001b[1;32mif\u001b[0m \u001b[0mgetattr\u001b[0m\u001b[1;33m(\u001b[0m\u001b[0mself\u001b[0m\u001b[1;33m.\u001b[0m\u001b[0m_backend\u001b[0m\u001b[1;33m,\u001b[0m \u001b[1;34m'supports_timeout'\u001b[0m\u001b[1;33m,\u001b[0m \u001b[1;32mFalse\u001b[0m\u001b[1;33m)\u001b[0m\u001b[1;33m:\u001b[0m\u001b[1;33m\u001b[0m\u001b[0m\n\u001b[1;32m--> 833\u001b[1;33m                     \u001b[0mself\u001b[0m\u001b[1;33m.\u001b[0m\u001b[0m_output\u001b[0m\u001b[1;33m.\u001b[0m\u001b[0mextend\u001b[0m\u001b[1;33m(\u001b[0m\u001b[0mjob\u001b[0m\u001b[1;33m.\u001b[0m\u001b[0mget\u001b[0m\u001b[1;33m(\u001b[0m\u001b[0mtimeout\u001b[0m\u001b[1;33m=\u001b[0m\u001b[0mself\u001b[0m\u001b[1;33m.\u001b[0m\u001b[0mtimeout\u001b[0m\u001b[1;33m)\u001b[0m\u001b[1;33m)\u001b[0m\u001b[1;33m\u001b[0m\u001b[0m\n\u001b[0m\u001b[0;32m    834\u001b[0m                 \u001b[1;32melse\u001b[0m\u001b[1;33m:\u001b[0m\u001b[1;33m\u001b[0m\u001b[0m\n\u001b[0;32m    835\u001b[0m                     \u001b[0mself\u001b[0m\u001b[1;33m.\u001b[0m\u001b[0m_output\u001b[0m\u001b[1;33m.\u001b[0m\u001b[0mextend\u001b[0m\u001b[1;33m(\u001b[0m\u001b[0mjob\u001b[0m\u001b[1;33m.\u001b[0m\u001b[0mget\u001b[0m\u001b[1;33m(\u001b[0m\u001b[1;33m)\u001b[0m\u001b[1;33m)\u001b[0m\u001b[1;33m\u001b[0m\u001b[0m\n",
      "\u001b[1;32m~\\Anaconda3\\lib\\site-packages\\joblib\\_parallel_backends.py\u001b[0m in \u001b[0;36mwrap_future_result\u001b[1;34m(future, timeout)\u001b[0m\n\u001b[0;32m    519\u001b[0m         AsyncResults.get from multiprocessing.\"\"\"\n\u001b[0;32m    520\u001b[0m         \u001b[1;32mtry\u001b[0m\u001b[1;33m:\u001b[0m\u001b[1;33m\u001b[0m\u001b[0m\n\u001b[1;32m--> 521\u001b[1;33m             \u001b[1;32mreturn\u001b[0m \u001b[0mfuture\u001b[0m\u001b[1;33m.\u001b[0m\u001b[0mresult\u001b[0m\u001b[1;33m(\u001b[0m\u001b[0mtimeout\u001b[0m\u001b[1;33m=\u001b[0m\u001b[0mtimeout\u001b[0m\u001b[1;33m)\u001b[0m\u001b[1;33m\u001b[0m\u001b[0m\n\u001b[0m\u001b[0;32m    522\u001b[0m         \u001b[1;32mexcept\u001b[0m \u001b[0mLokyTimeoutError\u001b[0m\u001b[1;33m:\u001b[0m\u001b[1;33m\u001b[0m\u001b[0m\n\u001b[0;32m    523\u001b[0m             \u001b[1;32mraise\u001b[0m \u001b[0mTimeoutError\u001b[0m\u001b[1;33m(\u001b[0m\u001b[1;33m)\u001b[0m\u001b[1;33m\u001b[0m\u001b[0m\n",
      "\u001b[1;32m~\\Anaconda3\\lib\\concurrent\\futures\\_base.py\u001b[0m in \u001b[0;36mresult\u001b[1;34m(self, timeout)\u001b[0m\n\u001b[0;32m    425\u001b[0m                 \u001b[1;32mreturn\u001b[0m \u001b[0mself\u001b[0m\u001b[1;33m.\u001b[0m\u001b[0m__get_result\u001b[0m\u001b[1;33m(\u001b[0m\u001b[1;33m)\u001b[0m\u001b[1;33m\u001b[0m\u001b[0m\n\u001b[0;32m    426\u001b[0m \u001b[1;33m\u001b[0m\u001b[0m\n\u001b[1;32m--> 427\u001b[1;33m             \u001b[0mself\u001b[0m\u001b[1;33m.\u001b[0m\u001b[0m_condition\u001b[0m\u001b[1;33m.\u001b[0m\u001b[0mwait\u001b[0m\u001b[1;33m(\u001b[0m\u001b[0mtimeout\u001b[0m\u001b[1;33m)\u001b[0m\u001b[1;33m\u001b[0m\u001b[0m\n\u001b[0m\u001b[0;32m    428\u001b[0m \u001b[1;33m\u001b[0m\u001b[0m\n\u001b[0;32m    429\u001b[0m             \u001b[1;32mif\u001b[0m \u001b[0mself\u001b[0m\u001b[1;33m.\u001b[0m\u001b[0m_state\u001b[0m \u001b[1;32min\u001b[0m \u001b[1;33m[\u001b[0m\u001b[0mCANCELLED\u001b[0m\u001b[1;33m,\u001b[0m \u001b[0mCANCELLED_AND_NOTIFIED\u001b[0m\u001b[1;33m]\u001b[0m\u001b[1;33m:\u001b[0m\u001b[1;33m\u001b[0m\u001b[0m\n",
      "\u001b[1;32m~\\Anaconda3\\lib\\threading.py\u001b[0m in \u001b[0;36mwait\u001b[1;34m(self, timeout)\u001b[0m\n\u001b[0;32m    293\u001b[0m         \u001b[1;32mtry\u001b[0m\u001b[1;33m:\u001b[0m    \u001b[1;31m# restore state no matter what (e.g., KeyboardInterrupt)\u001b[0m\u001b[1;33m\u001b[0m\u001b[0m\n\u001b[0;32m    294\u001b[0m             \u001b[1;32mif\u001b[0m \u001b[0mtimeout\u001b[0m \u001b[1;32mis\u001b[0m \u001b[1;32mNone\u001b[0m\u001b[1;33m:\u001b[0m\u001b[1;33m\u001b[0m\u001b[0m\n\u001b[1;32m--> 295\u001b[1;33m                 \u001b[0mwaiter\u001b[0m\u001b[1;33m.\u001b[0m\u001b[0macquire\u001b[0m\u001b[1;33m(\u001b[0m\u001b[1;33m)\u001b[0m\u001b[1;33m\u001b[0m\u001b[0m\n\u001b[0m\u001b[0;32m    296\u001b[0m                 \u001b[0mgotit\u001b[0m \u001b[1;33m=\u001b[0m \u001b[1;32mTrue\u001b[0m\u001b[1;33m\u001b[0m\u001b[0m\n\u001b[0;32m    297\u001b[0m             \u001b[1;32melse\u001b[0m\u001b[1;33m:\u001b[0m\u001b[1;33m\u001b[0m\u001b[0m\n",
      "\u001b[1;31mKeyboardInterrupt\u001b[0m: "
     ]
    }
   ],
   "source": [
    "# run for too long aborted\n",
    "from sklearn.model_selection import GridSearchCV, cross_val_score\n",
    "# Grid with only the number of trees changed\n",
    "#tree_grid = {'n_estimators': [int(x) for x in np.linspace(1, 1801, 30)]}\n",
    "\n",
    "tree_grid = {'n_estimators': [int(x) for x in np.linspace(1, 500, 30)]}\n",
    "\n",
    "# numpy.linspace(start, stop, num=50, endpoint=True, retstep=False, dtype=None, axis=0)\n",
    "\n",
    "# Create the grid search model and fit to the training data\n",
    "# tree_grid_search = GridSearchCV(final_model, param_grid=tree_grid, verbose = False, n_jobs=4, cv = 3,\n",
    "#                                 scoring = 'neg_mean_absolute_error')\n",
    "\n",
    "tree_grid_search = GridSearchCV(final_model, param_grid=tree_grid, verbose = False, n_jobs=4, cv = 3,\n",
    "                                scoring = 'roc_auc')\n",
    "tree_grid_search.fit(X_train_scaled,y_train);"
   ]
  },
  {
   "cell_type": "code",
   "execution_count": null,
   "metadata": {},
   "outputs": [],
   "source": [
    "def plot_results(model, param = 'n_estimators', name = 'Num Trees'):\n",
    "    param_name = 'param_%s' % param\n",
    "\n",
    "    # Extract information from the cross validation model\n",
    "    train_scores = model.cv_results_['mean_train_score']\n",
    "    test_scores = model.cv_results_['mean_test_score']\n",
    "    train_time = model.cv_results_['mean_fit_time']\n",
    "    param_values = list(model.cv_results_[param_name])\n",
    "    \n",
    "    # Plot the scores over the parameter\n",
    "    plt.subplots(1, 2, figsize=(10, 6))\n",
    "    plt.subplot(121)\n",
    "    plt.plot(param_values, train_scores, 'bo-', label = 'train')\n",
    "    plt.plot(param_values, test_scores, 'go-', label = 'test')\n",
    "    #plt.ylim(ymin = -2, ymax = 1)\n",
    "    plt.legend()\n",
    "    plt.xlabel(name)\n",
    "    #plt.ylabel('Neg Mean Absolute Error') \n",
    "    plt.ylabel('roc_auc')\n",
    "    \n",
    "    plt.title('Score vs %s' % name)\n",
    "    \n",
    "    plt.subplot(122)\n",
    "    plt.plot(param_values, train_time, 'ro-')\n",
    "    #plt.ylim(ymin = 0.0, ymax = 200.0)\n",
    "    plt.xlabel(name)\n",
    "    plt.ylabel('Train Time (sec)')\n",
    "    plt.title('Training Time vs %s' % name)\n",
    "    \n",
    "    \n",
    "    plt.tight_layout(pad = 4)\n",
    "    plot_results(tree_grid_search)"
   ]
  },
  {
   "cell_type": "code",
   "execution_count": null,
   "metadata": {},
   "outputs": [],
   "source": [
    "#Grid with only the 'max_depth'\n",
    "tree_grid = {'max_depth': [ 20 , 30, 40, 50, 60]}\n",
    "\n",
    "# Create the grid search model and fit to the training data\n",
    "tree_grid_search = GridSearchCV(final_model, param_grid=tree_grid, verbose = False, n_jobs=4, cv = 3,\n",
    "                                scoring = 'neg_mean_absolute_error')\n",
    "tree_grid_search.fit(X_train_scaled,y_train);\n",
    "\n",
    "def plot_results(model, param = 'max_depth', name = 'max_depth'):\n",
    "    param_name = 'param_%s' % param\n",
    "\n",
    "    # Extract information from the cross validation model\n",
    "    train_scores = model.cv_results_['mean_train_score']\n",
    "    test_scores = model.cv_results_['mean_test_score']\n",
    "    train_time = model.cv_results_['mean_fit_time']\n",
    "    param_values = list(model.cv_results_[param_name])\n",
    "    \n",
    "    # Plot the scores over the parameter\n",
    "    plt.subplots(1, 2, figsize=(10, 6))\n",
    "    plt.subplot(121)\n",
    "    plt.plot(param_values, train_scores, 'bo-', label = 'train')\n",
    "    plt.plot(param_values, test_scores, 'go-', label = 'test')\n",
    "    #plt.ylim(ymin = -10, ymax = 0)\n",
    "    plt.legend()\n",
    "    plt.xlabel(name)\n",
    "    plt.ylabel('Neg Mean Absolute Error')\n",
    "    plt.title('Score vs %s' % name)\n",
    "    \n",
    "    plt.subplot(122)\n",
    "    plt.plot(param_values, train_time, 'ro-')\n",
    "   # plt.ylim(ymin = 0.0, ymax = 200.0)\n",
    "    plt.xlabel(name)\n",
    "    plt.ylabel('Train Time (sec)')\n",
    "    plt.title('Training Time vs %s' % name)\n",
    "    \n",
    "    \n",
    "    plt.tight_layout(pad = 4)\n",
    "    \n",
    "    plot_results(tree_grid_search)"
   ]
  },
  {
   "cell_type": "code",
   "execution_count": null,
   "metadata": {},
   "outputs": [],
   "source": [
    "import winsound\n",
    "winsound.Beep(500,1000)"
   ]
  },
  {
   "cell_type": "markdown",
   "metadata": {},
   "source": [
    "## XGB"
   ]
  },
  {
   "cell_type": "code",
   "execution_count": 10,
   "metadata": {},
   "outputs": [
    {
     "data": {
      "text/html": [
       "<div>\n",
       "<style scoped>\n",
       "    .dataframe tbody tr th:only-of-type {\n",
       "        vertical-align: middle;\n",
       "    }\n",
       "\n",
       "    .dataframe tbody tr th {\n",
       "        vertical-align: top;\n",
       "    }\n",
       "\n",
       "    .dataframe thead th {\n",
       "        text-align: right;\n",
       "    }\n",
       "</style>\n",
       "<table border=\"1\" class=\"dataframe\">\n",
       "  <thead>\n",
       "    <tr style=\"text-align: right;\">\n",
       "      <th></th>\n",
       "      <th>x0</th>\n",
       "      <th>x1</th>\n",
       "      <th>x2</th>\n",
       "      <th>x3</th>\n",
       "      <th>x4</th>\n",
       "      <th>x5</th>\n",
       "      <th>x6</th>\n",
       "      <th>x7</th>\n",
       "      <th>x8</th>\n",
       "      <th>x9</th>\n",
       "      <th>...</th>\n",
       "      <th>x29_Jun</th>\n",
       "      <th>x29_Mar</th>\n",
       "      <th>x29_May</th>\n",
       "      <th>x29_Nov</th>\n",
       "      <th>x29_Oct</th>\n",
       "      <th>x29_Sep</th>\n",
       "      <th>x30_monday</th>\n",
       "      <th>x30_thurday</th>\n",
       "      <th>x30_tuesday</th>\n",
       "      <th>x30_wednesday</th>\n",
       "    </tr>\n",
       "  </thead>\n",
       "  <tbody>\n",
       "    <tr>\n",
       "      <th>0</th>\n",
       "      <td>-0.008339</td>\n",
       "      <td>15.077958</td>\n",
       "      <td>-13.152463</td>\n",
       "      <td>10.722422</td>\n",
       "      <td>7.259580</td>\n",
       "      <td>4.883844</td>\n",
       "      <td>-19.122692</td>\n",
       "      <td>-17.114259</td>\n",
       "      <td>-2.834349</td>\n",
       "      <td>-0.007674</td>\n",
       "      <td>...</td>\n",
       "      <td>0</td>\n",
       "      <td>0</td>\n",
       "      <td>0</td>\n",
       "      <td>0</td>\n",
       "      <td>0</td>\n",
       "      <td>0</td>\n",
       "      <td>0</td>\n",
       "      <td>0</td>\n",
       "      <td>0</td>\n",
       "      <td>1</td>\n",
       "    </tr>\n",
       "    <tr>\n",
       "      <th>1</th>\n",
       "      <td>0.370869</td>\n",
       "      <td>6.944400</td>\n",
       "      <td>10.000533</td>\n",
       "      <td>-2.255302</td>\n",
       "      <td>-3.072540</td>\n",
       "      <td>-11.212002</td>\n",
       "      <td>14.540023</td>\n",
       "      <td>-59.267289</td>\n",
       "      <td>2.427464</td>\n",
       "      <td>-4.026285</td>\n",
       "      <td>...</td>\n",
       "      <td>1</td>\n",
       "      <td>0</td>\n",
       "      <td>0</td>\n",
       "      <td>0</td>\n",
       "      <td>0</td>\n",
       "      <td>0</td>\n",
       "      <td>0</td>\n",
       "      <td>0</td>\n",
       "      <td>0</td>\n",
       "      <td>1</td>\n",
       "    </tr>\n",
       "    <tr>\n",
       "      <th>2</th>\n",
       "      <td>0.205853</td>\n",
       "      <td>-8.622593</td>\n",
       "      <td>27.551593</td>\n",
       "      <td>0.040916</td>\n",
       "      <td>-5.804180</td>\n",
       "      <td>17.150524</td>\n",
       "      <td>40.057946</td>\n",
       "      <td>13.417654</td>\n",
       "      <td>-7.972976</td>\n",
       "      <td>14.311147</td>\n",
       "      <td>...</td>\n",
       "      <td>0</td>\n",
       "      <td>0</td>\n",
       "      <td>0</td>\n",
       "      <td>0</td>\n",
       "      <td>0</td>\n",
       "      <td>0</td>\n",
       "      <td>0</td>\n",
       "      <td>1</td>\n",
       "      <td>0</td>\n",
       "      <td>0</td>\n",
       "    </tr>\n",
       "    <tr>\n",
       "      <th>3</th>\n",
       "      <td>-0.459270</td>\n",
       "      <td>1.837969</td>\n",
       "      <td>-13.351864</td>\n",
       "      <td>6.292096</td>\n",
       "      <td>5.555434</td>\n",
       "      <td>-2.285049</td>\n",
       "      <td>-19.412607</td>\n",
       "      <td>-24.078422</td>\n",
       "      <td>9.973933</td>\n",
       "      <td>-1.198780</td>\n",
       "      <td>...</td>\n",
       "      <td>0</td>\n",
       "      <td>0</td>\n",
       "      <td>1</td>\n",
       "      <td>0</td>\n",
       "      <td>0</td>\n",
       "      <td>0</td>\n",
       "      <td>0</td>\n",
       "      <td>0</td>\n",
       "      <td>0</td>\n",
       "      <td>1</td>\n",
       "    </tr>\n",
       "    <tr>\n",
       "      <th>4</th>\n",
       "      <td>0.371971</td>\n",
       "      <td>10.240023</td>\n",
       "      <td>16.528984</td>\n",
       "      <td>-3.589152</td>\n",
       "      <td>-12.394686</td>\n",
       "      <td>-3.107241</td>\n",
       "      <td>24.031900</td>\n",
       "      <td>-23.537346</td>\n",
       "      <td>-12.730278</td>\n",
       "      <td>-3.869508</td>\n",
       "      <td>...</td>\n",
       "      <td>0</td>\n",
       "      <td>0</td>\n",
       "      <td>0</td>\n",
       "      <td>0</td>\n",
       "      <td>0</td>\n",
       "      <td>1</td>\n",
       "      <td>0</td>\n",
       "      <td>0</td>\n",
       "      <td>0</td>\n",
       "      <td>1</td>\n",
       "    </tr>\n",
       "  </tbody>\n",
       "</table>\n",
       "<p>5 rows × 65 columns</p>\n",
       "</div>"
      ],
      "text/plain": [
       "         x0         x1         x2         x3         x4         x5         x6  \\\n",
       "0 -0.008339  15.077958 -13.152463  10.722422   7.259580   4.883844 -19.122692   \n",
       "1  0.370869   6.944400  10.000533  -2.255302  -3.072540 -11.212002  14.540023   \n",
       "2  0.205853  -8.622593  27.551593   0.040916  -5.804180  17.150524  40.057946   \n",
       "3 -0.459270   1.837969 -13.351864   6.292096   5.555434  -2.285049 -19.412607   \n",
       "4  0.371971  10.240023  16.528984  -3.589152 -12.394686  -3.107241  24.031900   \n",
       "\n",
       "          x7         x8         x9  ...  x29_Jun  x29_Mar  x29_May  x29_Nov  \\\n",
       "0 -17.114259  -2.834349  -0.007674  ...        0        0        0        0   \n",
       "1 -59.267289   2.427464  -4.026285  ...        1        0        0        0   \n",
       "2  13.417654  -7.972976  14.311147  ...        0        0        0        0   \n",
       "3 -24.078422   9.973933  -1.198780  ...        0        0        1        0   \n",
       "4 -23.537346 -12.730278  -3.869508  ...        0        0        0        0   \n",
       "\n",
       "   x29_Oct  x29_Sep  x30_monday  x30_thurday  x30_tuesday  x30_wednesday  \n",
       "0        0        0           0            0            0              1  \n",
       "1        0        0           0            0            0              1  \n",
       "2        0        0           0            1            0              0  \n",
       "3        0        0           0            0            0              1  \n",
       "4        0        1           0            0            0              1  \n",
       "\n",
       "[5 rows x 65 columns]"
      ]
     },
     "execution_count": 10,
     "metadata": {},
     "output_type": "execute_result"
    }
   ],
   "source": [
    "#in case df messed up\n",
    "#dropped y in previous code, so need to reimport data\n",
    "\n",
    "df_imputed = pd.read_csv(\"df_imputedUpdated2.csv\")  #start with window\n",
    "df_imputed.head(5)"
   ]
  },
  {
   "cell_type": "code",
   "execution_count": 11,
   "metadata": {},
   "outputs": [
    {
     "data": {
      "text/plain": [
       "(31678, 65)"
      ]
     },
     "execution_count": 11,
     "metadata": {},
     "output_type": "execute_result"
    }
   ],
   "source": [
    "df_imputed.shape"
   ]
  },
  {
   "cell_type": "code",
   "execution_count": 12,
   "metadata": {},
   "outputs": [
    {
     "name": "stdout",
     "output_type": "stream",
     "text": [
      "ShuffleSplit(n_splits=3, random_state=None, test_size=0.2, train_size=None)\n"
     ]
    }
   ],
   "source": [
    "from sklearn.model_selection import ShuffleSplit\n",
    "\n",
    "# we want to predict the X and y data as follows:\n",
    "if 'y' in df_imputed:\n",
    "    y = df_imputed['y'].values # get the labels we want\n",
    "    del df_imputed['y'] # get rid of the class label\n",
    "    X = df_imputed.values # use everything else to predict!\n",
    "\n",
    "    ## X and y are now numpy matrices, by calling 'values' on the pandas data frames we\n",
    "    #    have converted them into simple matrices to use with scikit learn\n",
    "    \n",
    "    \n",
    "# to use the cross validation object in scikit learn, we need to grab an instance\n",
    "#    of the object and set it up. This object will be able to split our data into \n",
    "#    training and testing splits\n",
    "num_cv_iterations = 3\n",
    "num_instances = len(y)\n",
    "cv_object = ShuffleSplit(n_splits=num_cv_iterations,\n",
    "                         test_size  = 0.2)\n",
    "                         \n",
    "print(cv_object)"
   ]
  },
  {
   "cell_type": "code",
   "execution_count": 13,
   "metadata": {},
   "outputs": [],
   "source": [
    "## Training and Testing Split\n",
    "# okay, so run through the cross validation loop and set the training and testing variable for one single iteration\n",
    "for train_indices, test_indices in cv_object.split(X,y): \n",
    "    # I will create new variables here so that it is more obvious what \n",
    "    # the code is doing (you can compact this syntax and avoid duplicating memory,\n",
    "    # but it makes this code less readable)\n",
    "    X_train = X[train_indices]\n",
    "    y_train = y[train_indices]\n",
    "    \n",
    "    X_test = X[test_indices]\n",
    "    y_test = y[test_indices]\n",
    "\n",
    "    # we want to normalize the features based upon the mean and standard deviation of each column. \n",
    "# However, we do not want to accidentally use the testing data to find out the mean and std (this would be snooping)\n",
    "# to Make things easier, let's start by just using whatever was last stored in the variables:\n",
    "##    X_train , y_train , X_test, y_test (they were set in a for loop above)\n",
    "from sklearn.preprocessing import StandardScaler\n",
    "scl_obj = StandardScaler()\n",
    "\n",
    "scl_obj.fit(X_train)\n",
    "X_test_scaled = scl_obj.transform(X_test)\n",
    "\n",
    "X_train_scaled = scl_obj.transform(X_train) # apply to training\n",
    "X_test_scaled = scl_obj.transform(X_test) "
   ]
  },
  {
   "cell_type": "code",
   "execution_count": 35,
   "metadata": {},
   "outputs": [],
   "source": [
    "#baseline\n",
    "import xgboost as xgb\n",
    "\n",
    "\n",
    "#XGBOOST parameters 1\n",
    "MAX_ROUNDS = 1000\n",
    "EARLY_STOP = 50\n",
    "OPT_ROUNDS = 1000\n",
    "VERBOSE_EVAL = 50\n",
    "RANDOM_STATE = 2000\n",
    "\n",
    "#XGBOOST transform data into DMatrix format for modeling\n",
    "dtrain = xgb.DMatrix(X_train_scaled, y_train)\n",
    "dvalid = xgb.DMatrix(X_test_scaled, y_test)\n",
    "type(dtrain)\n",
    "\n",
    "\n",
    "# XGBoost Parameters 2\n",
    "params = {}\n",
    "params['objective'] = 'binary:logistic'\n",
    "#params['objective'] = 'multi:softmax'\n",
    "#params['objective'] = 'reg:linear'\n",
    "params['eta'] = 0.039\n",
    "params['silent'] = True\n",
    "params['max_depth'] = 2\n",
    "params['subsample'] = 0.8\n",
    "params['colsample_bytree'] = 0.9\n",
    "params['eval_metric'] = 'auc'  #aucpr: Area under the PR curve\n",
    "params['random_state'] = RANDOM_STATE\n",
    "\n",
    "watchlist = [(dtrain, 'train'), (dvalid, 'valid')]\n",
    "\n"
   ]
  },
  {
   "cell_type": "code",
   "execution_count": 36,
   "metadata": {},
   "outputs": [
    {
     "name": "stdout",
     "output_type": "stream",
     "text": [
      "[0]\ttrain-auc:0.68954\tvalid-auc:0.67908\n",
      "Multiple eval metrics have been passed: 'valid-auc' will be used for early stopping.\n",
      "\n",
      "Will train until valid-auc hasn't improved in 50 rounds.\n",
      "[50]\ttrain-auc:0.80061\tvalid-auc:0.78059\n",
      "[100]\ttrain-auc:0.83967\tvalid-auc:0.81959\n",
      "[150]\ttrain-auc:0.85799\tvalid-auc:0.83799\n",
      "[200]\ttrain-auc:0.87327\tvalid-auc:0.85344\n",
      "[250]\ttrain-auc:0.88166\tvalid-auc:0.86205\n",
      "[300]\ttrain-auc:0.88955\tvalid-auc:0.86983\n",
      "[350]\ttrain-auc:0.89589\tvalid-auc:0.87646\n",
      "[400]\ttrain-auc:0.90074\tvalid-auc:0.88152\n",
      "[450]\ttrain-auc:0.90530\tvalid-auc:0.88621\n",
      "[500]\ttrain-auc:0.90931\tvalid-auc:0.89030\n",
      "[550]\ttrain-auc:0.91186\tvalid-auc:0.89269\n",
      "[600]\ttrain-auc:0.91435\tvalid-auc:0.89515\n",
      "[650]\ttrain-auc:0.91673\tvalid-auc:0.89740\n",
      "[700]\ttrain-auc:0.91973\tvalid-auc:0.90027\n",
      "[750]\ttrain-auc:0.92189\tvalid-auc:0.90230\n",
      "[800]\ttrain-auc:0.92349\tvalid-auc:0.90341\n",
      "[850]\ttrain-auc:0.92495\tvalid-auc:0.90454\n",
      "[900]\ttrain-auc:0.92656\tvalid-auc:0.90592\n",
      "[950]\ttrain-auc:0.92828\tvalid-auc:0.90726\n",
      "[999]\ttrain-auc:0.92957\tvalid-auc:0.90836\n"
     ]
    }
   ],
   "source": [
    "xgb_clf = xgb.train(params,\n",
    "                   dtrain,\n",
    "                   MAX_ROUNDS,\n",
    "                   watchlist,\n",
    "                   early_stopping_rounds = EARLY_STOP,\n",
    "                   maximize = True,\n",
    "                   verbose_eval = VERBOSE_EVAL)"
   ]
  },
  {
   "cell_type": "code",
   "execution_count": 37,
   "metadata": {},
   "outputs": [
    {
     "name": "stdout",
     "output_type": "stream",
     "text": [
      "XGBoost - roc_auc_score:  0.9083588499194979\n"
     ]
    }
   ],
   "source": [
    "preds = xgb_clf.predict(dvalid)\n",
    "print('XGBoost - roc_auc_score: ', roc_auc_score(y_test, preds)) \n",
    "\n",
    "# XGBoost - roc_auc_score:  0.9207827685624094\n",
    "# second run XGBoost - roc_auc_score:  0.9128279684449344\n",
    "# third run XGBoost - roc_auc_score:  0.9083588499194979"
   ]
  },
  {
   "cell_type": "code",
   "execution_count": 38,
   "metadata": {},
   "outputs": [
    {
     "data": {
      "text/plain": [
       "array([0.06989264, 0.09682994, 0.890088  , ..., 0.58533245, 0.2483872 ,\n",
       "       0.9716931 ], dtype=float32)"
      ]
     },
     "execution_count": 38,
     "metadata": {},
     "output_type": "execute_result"
    }
   ],
   "source": [
    "#type(preds)\n",
    "preds"
   ]
  },
  {
   "cell_type": "code",
   "execution_count": 63,
   "metadata": {},
   "outputs": [
    {
     "data": {
      "text/html": [
       "<div>\n",
       "<style scoped>\n",
       "    .dataframe tbody tr th:only-of-type {\n",
       "        vertical-align: middle;\n",
       "    }\n",
       "\n",
       "    .dataframe tbody tr th {\n",
       "        vertical-align: top;\n",
       "    }\n",
       "\n",
       "    .dataframe thead th {\n",
       "        text-align: right;\n",
       "    }\n",
       "</style>\n",
       "<table border=\"1\" class=\"dataframe\">\n",
       "  <thead>\n",
       "    <tr style=\"text-align: right;\">\n",
       "      <th></th>\n",
       "      <th>0</th>\n",
       "    </tr>\n",
       "  </thead>\n",
       "  <tbody>\n",
       "    <tr>\n",
       "      <th>count</th>\n",
       "      <td>6336.000000</td>\n",
       "    </tr>\n",
       "    <tr>\n",
       "      <th>mean</th>\n",
       "      <td>0.406450</td>\n",
       "    </tr>\n",
       "    <tr>\n",
       "      <th>std</th>\n",
       "      <td>0.291821</td>\n",
       "    </tr>\n",
       "    <tr>\n",
       "      <th>min</th>\n",
       "      <td>0.001464</td>\n",
       "    </tr>\n",
       "    <tr>\n",
       "      <th>25%</th>\n",
       "      <td>0.145964</td>\n",
       "    </tr>\n",
       "    <tr>\n",
       "      <th>50%</th>\n",
       "      <td>0.340828</td>\n",
       "    </tr>\n",
       "    <tr>\n",
       "      <th>75%</th>\n",
       "      <td>0.661307</td>\n",
       "    </tr>\n",
       "    <tr>\n",
       "      <th>max</th>\n",
       "      <td>0.999401</td>\n",
       "    </tr>\n",
       "  </tbody>\n",
       "</table>\n",
       "</div>"
      ],
      "text/plain": [
       "                 0\n",
       "count  6336.000000\n",
       "mean      0.406450\n",
       "std       0.291821\n",
       "min       0.001464\n",
       "25%       0.145964\n",
       "50%       0.340828\n",
       "75%       0.661307\n",
       "max       0.999401"
      ]
     },
     "execution_count": 63,
     "metadata": {},
     "output_type": "execute_result"
    }
   ],
   "source": [
    "pd.DataFrame(preds).describe()"
   ]
  },
  {
   "cell_type": "code",
   "execution_count": 47,
   "metadata": {},
   "outputs": [
    {
     "data": {
      "image/png": "[encoded data removed]",
      "text/plain": [
       "<Figure size 432x288 with 1 Axes>"
      ]
     },
     "metadata": {
      "needs_background": "light"
     },
     "output_type": "display_data"
    }
   ],
   "source": [
    "# Functions for ROC Graphs\n",
    "#https://stackoverflow.com/questions/25009284/how-to-plot-roc-curve-in-python\n",
    "#probs is the result of a model.predict_proba(x_test) call\n",
    "\n",
    "#This function plots an ROC curve\n",
    "def rocCurvePlot(probs, y_test1):\n",
    "    # calculate the fpr and tpr for all thresholds of the classification\n",
    "   # preds = probs[:,1]\n",
    "    preds = probs\n",
    "    fpr, tpr, threshold = metrics.roc_curve(y_test1, preds)\n",
    "    roc_auc = metrics.auc(fpr, tpr)\n",
    "\n",
    "    # method I: plt\n",
    "    import matplotlib.pyplot as plt\n",
    "    plt.title('Receiver Operating Characteristic for XGB')\n",
    "    plt.plot(fpr, tpr, 'b', label = 'AUC = %0.2f' % roc_auc)\n",
    "    plt.legend(loc = 'lower right')\n",
    "    plt.plot([0, 1], [0, 1],'r--')\n",
    "    plt.xlim([0, 1])\n",
    "    plt.ylim([0, 1])\n",
    "    plt.ylabel('True Positive Rate')\n",
    "    plt.xlabel('False Positive Rate')\n",
    "    plt.show()\n",
    "    \n",
    "rocCurvePlot(preds, y_test)"
   ]
  },
  {
   "cell_type": "code",
   "execution_count": 51,
   "metadata": {},
   "outputs": [],
   "source": [
    "# A function to find the optimal cutoff point from ROC curve\n",
    "\n",
    "#https://stackoverflow.com/questions/28719067/roc-curve-and-cut-off-point-python\n",
    "def Find_Optimal_Cutoff(target, predicted):\n",
    "    \"\"\"Parameters:\n",
    "    target : Matrix with dependent or target data, where rows are observations\n",
    "    predicted : Matrix with predicted data, where rows are observations\n",
    "    ----------\n",
    "    Return: list type, with optimal cutoff value\n",
    "    \"\"\"\n",
    "#     predicted = predicted[:,1]\n",
    "    predicted = predicted\n",
    "    fpr, tpr, threshold = metrics.roc_curve(target, predicted)\n",
    "    i = np.arange(len(tpr)) \n",
    "    roc = pd.DataFrame({'tf' : pd.Series(tpr-(1-fpr), index=i), 'threshold' : pd.Series(threshold, index=i)})\n",
    "    roc_t = roc.ix[(roc.tf-0).abs().argsort()[:1]]\n",
    "\n",
    "    return list(roc_t['threshold']) "
   ]
  },
  {
   "cell_type": "code",
   "execution_count": 52,
   "metadata": {},
   "outputs": [
    {
     "ename": "AttributeError",
     "evalue": "'DataFrame' object has no attribute 'ix'",
     "output_type": "error",
     "traceback": [
      "\u001b[1;31m---------------------------------------------------------------------------\u001b[0m",
      "\u001b[1;31mAttributeError\u001b[0m                            Traceback (most recent call last)",
      "\u001b[1;32m<ipython-input-52-fbbe53407b18>\u001b[0m in \u001b[0;36m<module>\u001b[1;34m\u001b[0m\n\u001b[1;32m----> 1\u001b[1;33m \u001b[0mFind_Optimal_Cutoff\u001b[0m\u001b[1;33m(\u001b[0m\u001b[0my_test\u001b[0m\u001b[1;33m,\u001b[0m \u001b[0mpreds\u001b[0m\u001b[1;33m)\u001b[0m\u001b[1;33m\u001b[0m\u001b[0m\n\u001b[0m",
      "\u001b[1;32m<ipython-input-51-380508115cda>\u001b[0m in \u001b[0;36mFind_Optimal_Cutoff\u001b[1;34m(target, predicted)\u001b[0m\n\u001b[0;32m     14\u001b[0m     \u001b[0mi\u001b[0m \u001b[1;33m=\u001b[0m \u001b[0mnp\u001b[0m\u001b[1;33m.\u001b[0m\u001b[0marange\u001b[0m\u001b[1;33m(\u001b[0m\u001b[0mlen\u001b[0m\u001b[1;33m(\u001b[0m\u001b[0mtpr\u001b[0m\u001b[1;33m)\u001b[0m\u001b[1;33m)\u001b[0m\u001b[1;33m\u001b[0m\u001b[0m\n\u001b[0;32m     15\u001b[0m     \u001b[0mroc\u001b[0m \u001b[1;33m=\u001b[0m \u001b[0mpd\u001b[0m\u001b[1;33m.\u001b[0m\u001b[0mDataFrame\u001b[0m\u001b[1;33m(\u001b[0m\u001b[1;33m{\u001b[0m\u001b[1;34m'tf'\u001b[0m \u001b[1;33m:\u001b[0m \u001b[0mpd\u001b[0m\u001b[1;33m.\u001b[0m\u001b[0mSeries\u001b[0m\u001b[1;33m(\u001b[0m\u001b[0mtpr\u001b[0m\u001b[1;33m-\u001b[0m\u001b[1;33m(\u001b[0m\u001b[1;36m1\u001b[0m\u001b[1;33m-\u001b[0m\u001b[0mfpr\u001b[0m\u001b[1;33m)\u001b[0m\u001b[1;33m,\u001b[0m \u001b[0mindex\u001b[0m\u001b[1;33m=\u001b[0m\u001b[0mi\u001b[0m\u001b[1;33m)\u001b[0m\u001b[1;33m,\u001b[0m \u001b[1;34m'threshold'\u001b[0m \u001b[1;33m:\u001b[0m \u001b[0mpd\u001b[0m\u001b[1;33m.\u001b[0m\u001b[0mSeries\u001b[0m\u001b[1;33m(\u001b[0m\u001b[0mthreshold\u001b[0m\u001b[1;33m,\u001b[0m \u001b[0mindex\u001b[0m\u001b[1;33m=\u001b[0m\u001b[0mi\u001b[0m\u001b[1;33m)\u001b[0m\u001b[1;33m}\u001b[0m\u001b[1;33m)\u001b[0m\u001b[1;33m\u001b[0m\u001b[0m\n\u001b[1;32m---> 16\u001b[1;33m     \u001b[0mroc_t\u001b[0m \u001b[1;33m=\u001b[0m \u001b[0mroc\u001b[0m\u001b[1;33m.\u001b[0m\u001b[0mix\u001b[0m\u001b[1;33m[\u001b[0m\u001b[1;33m(\u001b[0m\u001b[0mroc\u001b[0m\u001b[1;33m.\u001b[0m\u001b[0mtf\u001b[0m\u001b[1;33m-\u001b[0m\u001b[1;36m0\u001b[0m\u001b[1;33m)\u001b[0m\u001b[1;33m.\u001b[0m\u001b[0mabs\u001b[0m\u001b[1;33m(\u001b[0m\u001b[1;33m)\u001b[0m\u001b[1;33m.\u001b[0m\u001b[0margsort\u001b[0m\u001b[1;33m(\u001b[0m\u001b[1;33m)\u001b[0m\u001b[1;33m[\u001b[0m\u001b[1;33m:\u001b[0m\u001b[1;36m1\u001b[0m\u001b[1;33m]\u001b[0m\u001b[1;33m]\u001b[0m\u001b[1;33m\u001b[0m\u001b[0m\n\u001b[0m\u001b[0;32m     17\u001b[0m \u001b[1;33m\u001b[0m\u001b[0m\n\u001b[0;32m     18\u001b[0m     \u001b[1;32mreturn\u001b[0m \u001b[0mlist\u001b[0m\u001b[1;33m(\u001b[0m\u001b[0mroc_t\u001b[0m\u001b[1;33m[\u001b[0m\u001b[1;34m'threshold'\u001b[0m\u001b[1;33m]\u001b[0m\u001b[1;33m)\u001b[0m\u001b[1;33m\u001b[0m\u001b[0m\n",
      "\u001b[1;32m~\\Anaconda3\\lib\\site-packages\\pandas\\core\\generic.py\u001b[0m in \u001b[0;36m__getattr__\u001b[1;34m(self, name)\u001b[0m\n\u001b[0;32m   5271\u001b[0m             \u001b[1;32mif\u001b[0m \u001b[0mself\u001b[0m\u001b[1;33m.\u001b[0m\u001b[0m_info_axis\u001b[0m\u001b[1;33m.\u001b[0m\u001b[0m_can_hold_identifiers_and_holds_name\u001b[0m\u001b[1;33m(\u001b[0m\u001b[0mname\u001b[0m\u001b[1;33m)\u001b[0m\u001b[1;33m:\u001b[0m\u001b[1;33m\u001b[0m\u001b[0m\n\u001b[0;32m   5272\u001b[0m                 \u001b[1;32mreturn\u001b[0m \u001b[0mself\u001b[0m\u001b[1;33m[\u001b[0m\u001b[0mname\u001b[0m\u001b[1;33m]\u001b[0m\u001b[1;33m\u001b[0m\u001b[0m\n\u001b[1;32m-> 5273\u001b[1;33m             \u001b[1;32mreturn\u001b[0m \u001b[0mobject\u001b[0m\u001b[1;33m.\u001b[0m\u001b[0m__getattribute__\u001b[0m\u001b[1;33m(\u001b[0m\u001b[0mself\u001b[0m\u001b[1;33m,\u001b[0m \u001b[0mname\u001b[0m\u001b[1;33m)\u001b[0m\u001b[1;33m\u001b[0m\u001b[0m\n\u001b[0m\u001b[0;32m   5274\u001b[0m \u001b[1;33m\u001b[0m\u001b[0m\n\u001b[0;32m   5275\u001b[0m     \u001b[1;32mdef\u001b[0m \u001b[0m__setattr__\u001b[0m\u001b[1;33m(\u001b[0m\u001b[0mself\u001b[0m\u001b[1;33m,\u001b[0m \u001b[0mname\u001b[0m\u001b[1;33m:\u001b[0m \u001b[0mstr\u001b[0m\u001b[1;33m,\u001b[0m \u001b[0mvalue\u001b[0m\u001b[1;33m)\u001b[0m \u001b[1;33m->\u001b[0m \u001b[1;32mNone\u001b[0m\u001b[1;33m:\u001b[0m\u001b[1;33m\u001b[0m\u001b[0m\n",
      "\u001b[1;31mAttributeError\u001b[0m: 'DataFrame' object has no attribute 'ix'"
     ]
    }
   ],
   "source": [
    "Find_Optimal_Cutoff(y_test, preds)\n",
    "#did not work may due to pd version\n",
    "#AttributeError: 'DataFrame' object has no attribute 'ix'"
   ]
  },
  {
   "cell_type": "code",
   "execution_count": 74,
   "metadata": {},
   "outputs": [],
   "source": [
    "\n",
    "\n",
    "predsbin = preds > 0.5\n",
    "\n"
   ]
  },
  {
   "cell_type": "code",
   "execution_count": 75,
   "metadata": {},
   "outputs": [
    {
     "data": {
      "text/plain": [
       "array([[3282,  399],\n",
       "       [ 673, 1982]], dtype=int64)"
      ]
     },
     "execution_count": 75,
     "metadata": {},
     "output_type": "execute_result"
    }
   ],
   "source": [
    "\n",
    "\n",
    "confusion_matrix(y_test, predsbin)\n",
    "#o.7 threshold\n",
    "\n",
    "# Out[40]:\n",
    "# array([[3584,   97],\n",
    "#        [1382, 1273]], dtype=int64)\n"
   ]
  },
  {
   "cell_type": "code",
   "execution_count": 76,
   "metadata": {},
   "outputs": [
    {
     "data": {
      "image/png": "[encoded data removed]",
      "text/plain": [
       "<Figure size 360x360 with 2 Axes>"
      ]
     },
     "metadata": {
      "needs_background": "light"
     },
     "output_type": "display_data"
    }
   ],
   "source": [
    "#PLOT Confusion Matrix\n",
    "\n",
    "cm =pd.crosstab(y_test, predsbin, rownames = ['Actual'], colnames = ['Predicted'])\n",
    "fig, (ax1) = plt.subplots(ncols = 1, figsize = (5, 5))\n",
    "sns.heatmap(cm, xticklabels = ['y_0', 'y_1'], yticklabels = ['y_0', 'y_1'], \n",
    "            annot = True, ax = ax1,\n",
    "            linewidths = .2, linecolor = 'Darkblue', cmap ='Blues')\n",
    "plt.title('confusion Matrix for XGB', fontsize = 14)\n",
    "plt.show()"
   ]
  },
  {
   "cell_type": "code",
   "execution_count": 77,
   "metadata": {},
   "outputs": [],
   "source": [
    "# #Confusion Matrix for best XGB\n",
    "# cm = pd.crosstab(y_test, preds, rownames = ['Actual'], colnames = ['Predicted'])\n",
    "# fig, (ax1) = plt.subplots(ncols = 1, figsize = (5, 5))\n",
    "# sns.heatmap(cm, xticklabels = ['y_0', 'y_1'], yticklabels = ['y_0', 'y_1'], \n",
    "#             annot = True, ax = ax1,\n",
    "#             linewidths = .2, linecolor = 'Darkblue', cmap ='Blues')\n",
    "# plt.title('confusion Matrix', fontsize = 14)\n",
    "# plt.show()"
   ]
  },
  {
   "cell_type": "code",
   "execution_count": 78,
   "metadata": {},
   "outputs": [
    {
     "name": "stdout",
     "output_type": "stream",
     "text": [
      "XGB accuracy with corresponding parameter settings\n",
      "XGB classifier accuracy with optimal parameters is: 0.831\n",
      "XGB classifier precision with optimal parameters is: 0.832\n",
      "XGB classifier classsification report with optimal parameters is: \n",
      "               precision    recall  f1-score   support\n",
      "\n",
      "           0       0.83      0.89      0.86      3681\n",
      "           1       0.83      0.75      0.79      2655\n",
      "\n",
      "    accuracy                           0.83      6336\n",
      "   macro avg       0.83      0.82      0.82      6336\n",
      "weighted avg       0.83      0.83      0.83      6336\n",
      "\n"
     ]
    }
   ],
   "source": [
    "total_accuracy_xgb = mt.accuracy_score(y_test, predsbin)\n",
    "total_precision_xgb = precision_score(y_test, predsbin)\n",
    "classification_rpt_xgb = classification_report(y_test, predsbin)\n",
    "print (\"XGB accuracy with corresponding parameter settings\")\n",
    "print('XGB classifier accuracy with optimal parameters is: %.3f'%(total_accuracy_xgb))\n",
    "print('XGB classifier precision with optimal parameters is: %.3f'%(total_precision_xgb))\n",
    "print('XGB classifier classsification report with optimal parameters is: \\n',(classification_rpt_xgb))"
   ]
  },
  {
   "cell_type": "code",
   "execution_count": 79,
   "metadata": {},
   "outputs": [
    {
     "name": "stdout",
     "output_type": "stream",
     "text": [
      "[0.89160554 0.74651601]\n"
     ]
    },
    {
     "data": {
      "image/png": "[encoded data removed]",
      "text/plain": [
       "<Figure size 576x432 with 1 Axes>"
      ]
     },
     "metadata": {
      "needs_background": "light"
     },
     "output_type": "display_data"
    }
   ],
   "source": [
    "# get classification accuracy\n",
    "def per_class_accuracy(ytrue,yhat):\n",
    "    conf = mt.confusion_matrix(ytrue,yhat)\n",
    "    norm_conf = conf.astype('float') / conf.sum(axis=1)[:, np.newaxis]\n",
    "    return np.diag(norm_conf)\n",
    "# draw classification accuracy confusion Matrix\n",
    "def plot_class_acc(ytrue,yhat, title=''):\n",
    "    acc_list = per_class_accuracy(ytrue,yhat)\n",
    "    plt.figure(figsize=(8,6))\n",
    "    plt.bar(range(len(acc_list)), acc_list)\n",
    "    plt.xlabel('Class value')\n",
    "    plt.ylabel('Accuracy within class')\n",
    "    plt.title(title+\", Total Acc=%.1f\"%(100*mt.accuracy_score(ytrue,yhat)))\n",
    "    plt.grid()\n",
    "    plt.ylim([0,1])\n",
    "    plt.savefig(title)\n",
    "    plt.show()\n",
    "    \n",
    "print(per_class_accuracy(y_test, predsbin))\n",
    "plot_class_acc(y_test, predsbin,title=\"XGB Accuracy Plot\")"
   ]
  },
  {
   "cell_type": "markdown",
   "metadata": {},
   "source": [
    "## Calculate cost\n",
    "### cost function:\n",
    "###  Total Cost = 10 * Count of FP + 500 * Count of FN"
   ]
  },
  {
   "cell_type": "code",
   "execution_count": 53,
   "metadata": {},
   "outputs": [],
   "source": [
    "# false positive cost less, so can try higher threshold\n",
    "predsbin = preds > 0.8"
   ]
  },
  {
   "cell_type": "code",
   "execution_count": 54,
   "metadata": {},
   "outputs": [
    {
     "data": {
      "text/plain": [
       "array([[3646,   35],\n",
       "       [1814,  841]], dtype=int64)"
      ]
     },
     "execution_count": 54,
     "metadata": {},
     "output_type": "execute_result"
    }
   ],
   "source": [
    "confusion_matrix(y_test, predsbin)\n",
    "# o.8 threshold\n",
    "# array([[3646,   35],\n",
    "#        [1814,  841]], dtype=int64)"
   ]
  },
  {
   "cell_type": "code",
   "execution_count": 59,
   "metadata": {},
   "outputs": [
    {
     "data": {
      "text/plain": [
       "array([[3467,  214],\n",
       "       [ 973, 1682]], dtype=int64)"
      ]
     },
     "execution_count": 59,
     "metadata": {},
     "output_type": "execute_result"
    }
   ],
   "source": [
    "# false positive cost less, so can try higher threshold\n",
    "predsbin = preds > 0.6\n",
    "confusion_matrix(y_test, predsbin)\n",
    "#0.6 threshold\n",
    "\n",
    "# Out[59]:\n",
    "# array([[3467,  214],\n",
    "#        [ 973, 1682]], dtype=int64)"
   ]
  },
  {
   "cell_type": "code",
   "execution_count": 71,
   "metadata": {},
   "outputs": [
    {
     "data": {
      "text/plain": [
       "array([[3584,   97],\n",
       "       [1382, 1273]], dtype=int64)"
      ]
     },
     "execution_count": 71,
     "metadata": {},
     "output_type": "execute_result"
    }
   ],
   "source": [
    "predsbin = preds > 0.7\n",
    "confusion_matrix(y_test, predsbin)\n"
   ]
  },
  {
   "cell_type": "code",
   "execution_count": 73,
   "metadata": {},
   "outputs": [
    {
     "data": {
      "image/png": "[encoded data removed]",
      "text/plain": [
       "<Figure size 360x360 with 2 Axes>"
      ]
     },
     "metadata": {
      "needs_background": "light"
     },
     "output_type": "display_data"
    }
   ],
   "source": [
    "cm =pd.crosstab(y_test, predsbin, rownames = ['Actual'], colnames = ['Predicted'])\n",
    "fig, (ax1) = plt.subplots(ncols = 1, figsize = (5, 5))\n",
    "sns.heatmap(cm, xticklabels = ['y_0', 'y_1'], yticklabels = ['y_0', 'y_1'], \n",
    "            annot = True, ax = ax1,\n",
    "            linewidths = .2, linecolor = 'Darkblue', cmap ='Blues')\n",
    "plt.title('confusion Matrix for XGB, threshold=0.7', fontsize = 14)\n",
    "plt.show()"
   ]
  },
  {
   "cell_type": "code",
   "execution_count": null,
   "metadata": {},
   "outputs": [],
   "source": [
    "# 0.5 threshold\n",
    "# array([[3282,  399],\n",
    "#        [ 673, 1982]], dtype=int64)\n",
    "\n",
    "#0.6 threshold\n",
    "\n",
    "# Out[59]:\n",
    "# array([[3467,  214],\n",
    "#        [ 973, 1682]], dtype=int64)\n",
    "\n",
    "#o.7 threshold\n",
    "\n",
    "# Out[40]:\n",
    "# array([[3584,   97],\n",
    "#        [1382, 1273]], dtype=int64)\n",
    "\n",
    "\n",
    "# o.8 threshold\n",
    "# array([[3646,   35],\n",
    "#        [1814,  841]], dtype=int64)\n",
    "\n",
    "\n",
    "# calc cost\n",
    "# fn : left bottom in confusion matrix\n",
    "# fp: right upper in confusion matrix\n",
    "\n",
    "# For XGB, compare 0.5, 0.6, 0.7 and 0.8 threshold, \n",
    "\n",
    "# total Cost = 10 * Count of FP + 500 * Count of FN\n",
    "\n",
    "#0.5 cost = 10*399+500*673 =340490\n",
    "#0.6 cost = 10*214+500*973\n",
    "#0.7 cost = 10*97+500*1382 =691970\n",
    "#0.8 cost = 10*35+500*1814\n",
    "\n",
    "# threshold 0.5 has lowest cost\n",
    "\n",
    "# compare with rf\n",
    "# rf cost =10*205 + 500*434= 219050, rf is even lower in cost"
   ]
  },
  {
   "cell_type": "code",
   "execution_count": 67,
   "metadata": {},
   "outputs": [
    {
     "data": {
      "text/plain": [
       "340490"
      ]
     },
     "execution_count": 67,
     "metadata": {},
     "output_type": "execute_result"
    }
   ],
   "source": [
    "10*399+500*673"
   ]
  },
  {
   "cell_type": "code",
   "execution_count": 68,
   "metadata": {},
   "outputs": [
    {
     "data": {
      "text/plain": [
       "691970"
      ]
     },
     "execution_count": 68,
     "metadata": {},
     "output_type": "execute_result"
    }
   ],
   "source": [
    "10*97+500*1382"
   ]
  },
  {
   "cell_type": "markdown",
   "metadata": {},
   "source": [
    "## RandomizedSearchCV for XGB"
   ]
  },
  {
   "cell_type": "code",
   "execution_count": 130,
   "metadata": {},
   "outputs": [],
   "source": [
    "def timer(start_time=None):\n",
    "    if not start_time:\n",
    "        start_time = datetime.now()\n",
    "        return start_time\n",
    "    \n",
    "    elif start_time:\n",
    "        thour, temp_sec = divmod((datetime.now() - start_time).total_seconds(), 3600)\n",
    "        tmin, tsec = divmod(temp_sec, 60)\n",
    "        print('\\n Time taken: %i hours %i minutes and %s seconds.' % (thour, tmin, round(tsec, 2)))"
   ]
  },
  {
   "cell_type": "code",
   "execution_count": null,
   "metadata": {},
   "outputs": [],
   "source": [
    "# #XGBOOST parameters 1\n",
    "# MAX_ROUNDS = 1000\n",
    "# EARLY_STOP = 50\n",
    "# OPT_ROUNDS = 1000\n",
    "# VERBOSE_EVAL = 50\n",
    "# RANDOM_STATE = 2000\n",
    "\n",
    "# #XGBOOST transform data into DMatrix format for modeling\n",
    "# dtrain = xgb.DMatrix(X_train_scaled, y_train)\n",
    "# dvalid = xgb.DMatrix(X_test_scaled, y_test)\n",
    "# type(dtrain)\n",
    "\n",
    "\n",
    "# # XGBoost Parameters 2\n",
    "# params = {}\n",
    "# params['objective'] = 'binary:logistic'  #binary:hinge\n",
    "# #params['objective'] = 'multi:softmax'\n",
    "# #params['objective'] = 'reg:linear'\n",
    "# params['eta'] = 0.039\n",
    "# params['silent'] = True\n",
    "# params['max_depth'] = 2\n",
    "# params['subsample'] = 0.8\n",
    "# params['colsample_bytree'] = 0.9\n",
    "# params['eval_metric'] = 'auc'  #aucpr: Area under the PR curve\n",
    "# params['random_state'] = RANDOM_STATE"
   ]
  },
  {
   "cell_type": "code",
   "execution_count": 141,
   "metadata": {},
   "outputs": [],
   "source": [
    "# A parameter grid for XGBoost\n",
    "#at least include the parameters already included in the baseline model for chance to find one better than base model.\n",
    "params = {\n",
    "        'min_child_weight': [1,2, 5],\n",
    "        'gamma': [0.5, 1, 2],\n",
    "        'subsample': [0.6, 0.8],\n",
    "        'colsample_bytree': [0.6, 0.9],\n",
    "        'max_depth': [2,3,4, 5,8,9,10,11,12,13,14,15],\n",
    "        'eta':[0.05, 0.1, 0.3, 0.5],\n",
    "        'objective':['binary:logistic', 'binary:hinge'],\n",
    "        'eval_metric':['auc','recall','aucpr']\n",
    "    \n",
    "        }"
   ]
  },
  {
   "cell_type": "code",
   "execution_count": 142,
   "metadata": {},
   "outputs": [
    {
     "name": "stdout",
     "output_type": "stream",
     "text": [
      "Fitting 3 folds for each of 5 candidates, totalling 15 fits\n",
      "[Parallel(n_jobs=4)]: Using backend LokyBackend with 4 concurrent workers.\n",
      "[Parallel(n_jobs=4)]: Done   1 tasks      | elapsed:   16.1s\n",
      "[Parallel(n_jobs=4)]: Done   2 tasks      | elapsed:   21.2s\n",
      "[Parallel(n_jobs=4)]: Done   3 tasks      | elapsed:   21.2s\n",
      "[Parallel(n_jobs=4)]: Done   4 tasks      | elapsed:   21.4s\n",
      "[Parallel(n_jobs=4)]: Done   5 tasks      | elapsed:   33.0s\n",
      "[Parallel(n_jobs=4)]: Done   6 tasks      | elapsed:   33.8s\n",
      "[Parallel(n_jobs=4)]: Done   7 tasks      | elapsed:   34.0s\n",
      "[Parallel(n_jobs=4)]: Done   8 tasks      | elapsed:   38.9s\n",
      "[Parallel(n_jobs=4)]: Done   9 out of  15 | elapsed:   43.7s remaining:   29.1s\n",
      "[Parallel(n_jobs=4)]: Done  10 out of  15 | elapsed:   43.9s remaining:   21.9s\n",
      "[Parallel(n_jobs=4)]: Done  11 out of  15 | elapsed:   44.2s remaining:   16.0s\n",
      "[Parallel(n_jobs=4)]: Done  12 out of  15 | elapsed:   44.3s remaining:   11.0s\n",
      "[Parallel(n_jobs=4)]: Done  13 out of  15 | elapsed:  1.6min remaining:   14.5s\n",
      "[Parallel(n_jobs=4)]: Done  15 out of  15 | elapsed:  1.7min remaining:    0.0s\n",
      "[Parallel(n_jobs=4)]: Done  15 out of  15 | elapsed:  1.7min finished\n",
      "\n",
      " Time taken: 0 hours 2 minutes and 11.18 seconds.\n"
     ]
    }
   ],
   "source": [
    "#  5 param comb took 2min\n",
    "from sklearn.model_selection import StratifiedKFold\n",
    "from sklearn.model_selection import RandomizedSearchCV\n",
    "from datetime import datetime\n",
    "\n",
    "folds = 3\n",
    "param_comb = 5\n",
    "\n",
    "skf = StratifiedKFold(n_splits=folds, shuffle = True, random_state = 1001)\n",
    "\n",
    "#random_search = RandomizedSearchCV(xgb, param_distributions=params, n_iter=param_comb, scoring='roc_auc', n_jobs=4, cv=skf.split(X_train_scaled,y_train), verbose=50, random_state=2000)\n",
    "\n",
    "xgb_algo = xgb.XGBClassifier()\n",
    "random_search = RandomizedSearchCV(xgb_algo,\n",
    "                                   param_distributions=params, n_iter=param_comb, scoring='recall', n_jobs=4, cv=skf.split(X_train_scaled,y_train), verbose=50, random_state=2000)\n",
    "\n",
    "# Here we go\n",
    "start_time = timer(None) # timing starts from this point for \"start_time\" variable\n",
    "random_search.fit(X_train_scaled, y_train)\n",
    "timer(start_time) # timing ends here for \"start_time\" variable"
   ]
  },
  {
   "cell_type": "code",
   "execution_count": 143,
   "metadata": {},
   "outputs": [
    {
     "name": "stdout",
     "output_type": "stream",
     "text": [
      "\n",
      " Best estimator:\n",
      "XGBClassifier(base_score=0.5, booster=None, colsample_bylevel=1,\n",
      "              colsample_bynode=1, colsample_bytree=0.9, eta=0.5,\n",
      "              eval_metric='aucpr', gamma=1, gpu_id=-1, importance_type='gain',\n",
      "              interaction_constraints=None, learning_rate=0.5, max_delta_step=0,\n",
      "              max_depth=15, min_child_weight=1, missing=nan,\n",
      "              monotone_constraints=None, n_estimators=100, n_jobs=0,\n",
      "              num_parallel_tree=1, objective='binary:logistic', random_state=0,\n",
      "              reg_alpha=0, reg_lambda=1, scale_pos_weight=1, subsample=0.6,\n",
      "              tree_method=None, validate_parameters=False, verbosity=None)\n",
      "\n",
      " Best normalized gini score for 3-fold search with 5 parameter combinations:\n",
      "0.6879777143196224\n",
      "\n",
      " Best hyperparameters:\n",
      "{'subsample': 0.6, 'objective': 'binary:logistic', 'min_child_weight': 1, 'max_depth': 15, 'gamma': 1, 'eval_metric': 'aucpr', 'eta': 0.5, 'colsample_bytree': 0.9}\n"
     ]
    }
   ],
   "source": [
    "print('\\n Best estimator:')\n",
    "print(random_search.best_estimator_)\n",
    "print('\\n Best normalized gini score for %d-fold search with %d parameter combinations:' % (folds, param_comb))\n",
    "print(random_search.best_score_ * 2 - 1)\n",
    "print('\\n Best hyperparameters:')\n",
    "print(random_search.best_params_)"
   ]
  },
  {
   "cell_type": "code",
   "execution_count": 144,
   "metadata": {},
   "outputs": [],
   "source": [
    "\n",
    "import winsound\n",
    "winsound.Beep(500,1000)\n",
    "\n",
    "# first run with small grid param_comb = 3 0.9013276226602549"
   ]
  },
  {
   "cell_type": "code",
   "execution_count": 150,
   "metadata": {},
   "outputs": [
    {
     "name": "stdout",
     "output_type": "stream",
     "text": [
      "\n",
      " Time taken: 0 hours 0 minutes and 29.19 seconds.\n"
     ]
    }
   ],
   "source": [
    "start_time = timer(None)\n",
    "\n",
    "# xgb_best = XGBClassifier(base_score=0.5, booster=None, colsample_bylevel=1,\n",
    "#               colsample_bynode=1, colsample_bytree=0.6, gamma=2, gpu_id=-1,\n",
    "#               importance_type='gain', interaction_constraints=None,\n",
    "#               learning_rate=0.300000012, max_delta_step=0, max_depth=5,\n",
    "#               min_child_weight=1, missing= None, monotone_constraints=None,\n",
    "#               n_estimators=100, n_jobs=0, num_parallel_tree=1,\n",
    "#               objective='binary:logistic', random_state=0, reg_alpha=0,\n",
    "#               reg_lambda=1, scale_pos_weight=1, subsample=0.6, tree_method=None,\n",
    "#               validate_parameters=False, verbosity=None)\n",
    "\n",
    "# # comb=3\n",
    "# xgb_best = XGBClassifier(base_score=0.5, booster=None, colsample_bylevel=1,\n",
    "#               colsample_bynode=1, colsample_bytree=0.9, eta=0.3, gamma=0.5,\n",
    "#               gpu_id=-1, importance_type='gain', interaction_constraints=None,\n",
    "#               learning_rate=0.300000012, max_delta_step=0, max_depth=8,\n",
    "#               min_child_weight=2, missing=None, monotone_constraints=None,\n",
    "#               n_estimators=100, n_jobs=0, num_parallel_tree=1,\n",
    "#               objective='binary:logistic', random_state=0, reg_alpha=0,\n",
    "#               reg_lambda=1, scale_pos_weight=1, subsample=0.6, tree_method=None,\n",
    "#               validate_parameters=False, verbosity=None)\n",
    "\n",
    "\n",
    "# comb=5\n",
    "xgb_best = XGBClassifier(base_score=0.5, booster=None, colsample_bylevel=1,\n",
    "              colsample_bynode=1, colsample_bytree=0.9, eta=0.5,\n",
    "              eval_metric='aucpr', gamma=1, gpu_id=-1, importance_type='gain',\n",
    "              interaction_constraints=None, learning_rate=0.5, max_delta_step=0,\n",
    "              max_depth=15, min_child_weight=1, missing=None,\n",
    "              monotone_constraints=None, n_estimators=100, n_jobs=4,\n",
    "              num_parallel_tree=1, objective='binary:logistic', random_state=2000,\n",
    "              reg_alpha=0, reg_lambda=1, scale_pos_weight=1, subsample=0.6,\n",
    "              tree_method=None, validate_parameters=False, verbosity=None)\n",
    "\n",
    "xgb_best.fit(X_train_scaled, y_train)\n",
    "\n",
    "timer(start_time)"
   ]
  },
  {
   "cell_type": "code",
   "execution_count": 151,
   "metadata": {},
   "outputs": [
    {
     "name": "stdout",
     "output_type": "stream",
     "text": [
      "\n",
      " Time taken: 0 hours 0 minutes and 0.1 seconds.\n",
      "XGB - roc_auc_score:  0.8912003462581556\n"
     ]
    }
   ],
   "source": [
    "# timer the testing time\n",
    "start_time = timer(None)\n",
    "preds = xgb_best.predict(X_test_scaled)\n",
    "timer(start_time)\n",
    "print('XGB - roc_auc_score: ', roc_auc_score(y_test, preds)) \n",
    "\n",
    "# Time taken: 0 hours 0 minutes and 0.1 seconds.\n",
    "# XGB - roc_auc_score:  0.8899928907054784\n",
    "# second run even worse XGB - roc_auc_score:  0.8720253799860944\n",
    "\n",
    "# with best parameters searched XGB - roc_auc_score:  0.8887521353353685\n",
    "\n",
    "# 5 comb worse XGB - roc_auc_score:  0.8852264721727239\n",
    "\n",
    "\n",
    "# try RANDOM_STATE = 2000, much better XGB - roc_auc_score:  0.8912003462581556\n",
    "\n",
    "# try n_jobs=4, same as above"
   ]
  },
  {
   "cell_type": "code",
   "execution_count": null,
   "metadata": {},
   "outputs": [],
   "source": [
    "# parameter searching did not improve the roc auc because used very limited parameter grid."
   ]
  },
  {
   "cell_type": "markdown",
   "metadata": {},
   "source": [
    "## XGB baseline with PR as eval\n",
    "\n",
    "Precision = TruePositives / (TruePositives + FalsePositives)\n",
    "\n",
    "Recall = TruePositives / (TruePositives + FalseNegatives)\n",
    "\n",
    "Precision is a metric that calculates the percentage of correct predictions for the positive class. Recall calculates the percentage of correct predictions for the positive class out of all positive predictions that could be made."
   ]
  },
  {
   "cell_type": "code",
   "execution_count": 91,
   "metadata": {},
   "outputs": [
    {
     "name": "stdout",
     "output_type": "stream",
     "text": [
      "[0]\ttrain-aucpr:0.58452\tvalid-aucpr:0.58937\n",
      "Multiple eval metrics have been passed: 'valid-aucpr' will be used for early stopping.\n",
      "\n",
      "Will train until valid-aucpr hasn't improved in 50 rounds.\n",
      "[50]\ttrain-aucpr:0.73000\tvalid-aucpr:0.71525\n",
      "[100]\ttrain-aucpr:0.77515\tvalid-aucpr:0.75714\n",
      "[150]\ttrain-aucpr:0.79993\tvalid-aucpr:0.78141\n",
      "[200]\ttrain-aucpr:0.82201\tvalid-aucpr:0.80323\n",
      "[250]\ttrain-aucpr:0.83458\tvalid-aucpr:0.81588\n",
      "[300]\ttrain-aucpr:0.84585\tvalid-aucpr:0.82683\n",
      "[350]\ttrain-aucpr:0.85621\tvalid-aucpr:0.83716\n",
      "[400]\ttrain-aucpr:0.86394\tvalid-aucpr:0.84495\n",
      "[450]\ttrain-aucpr:0.87045\tvalid-aucpr:0.85128\n",
      "[500]\ttrain-aucpr:0.87642\tvalid-aucpr:0.85725\n",
      "[550]\ttrain-aucpr:0.88026\tvalid-aucpr:0.86054\n",
      "[600]\ttrain-aucpr:0.88376\tvalid-aucpr:0.86364\n",
      "[650]\ttrain-aucpr:0.88735\tvalid-aucpr:0.86695\n",
      "[700]\ttrain-aucpr:0.89128\tvalid-aucpr:0.87062\n",
      "[750]\ttrain-aucpr:0.89430\tvalid-aucpr:0.87333\n",
      "[800]\ttrain-aucpr:0.89665\tvalid-aucpr:0.87508\n",
      "[850]\ttrain-aucpr:0.89876\tvalid-aucpr:0.87636\n",
      "[900]\ttrain-aucpr:0.90104\tvalid-aucpr:0.87814\n",
      "[950]\ttrain-aucpr:0.90340\tvalid-aucpr:0.87983\n",
      "[999]\ttrain-aucpr:0.90509\tvalid-aucpr:0.88119\n",
      "XGBoost - roc_auc_score PR:  0.9083588499194979\n"
     ]
    }
   ],
   "source": [
    "# XGB baseline with aucpr: Area under the PR curve\n",
    "import xgboost as xgb\n",
    "\n",
    "\n",
    "#XGBOOST parameters 1\n",
    "MAX_ROUNDS = 1000\n",
    "EARLY_STOP = 50\n",
    "OPT_ROUNDS = 1000\n",
    "VERBOSE_EVAL = 50\n",
    "RANDOM_STATE = 2000\n",
    "\n",
    "#XGBOOST transform data into DMatrix format for modeling\n",
    "dtrain = xgb.DMatrix(X_train_scaled, y_train)\n",
    "dvalid = xgb.DMatrix(X_test_scaled, y_test)\n",
    "type(dtrain)\n",
    "\n",
    "\n",
    "# XGBoost Parameters 2\n",
    "params = {}\n",
    "params['objective'] = 'binary:logistic' #binary:hinge\n",
    "#params['objective'] = 'multi:softmax'\n",
    "#params['objective'] = 'reg:linear'\n",
    "params['eta'] = 0.039\n",
    "params['silent'] = True\n",
    "params['max_depth'] = 2\n",
    "params['subsample'] = 0.8\n",
    "params['colsample_bytree'] = 0.9\n",
    "params['eval_metric'] = 'aucpr'  #aucpr: Area under the PR curve\n",
    "params['random_state'] = RANDOM_STATE\n",
    "\n",
    "watchlist = [(dtrain, 'train'), (dvalid, 'valid')]\n",
    "\n",
    "xgb_clf = xgb.train(params,\n",
    "                   dtrain,\n",
    "                   MAX_ROUNDS,\n",
    "                   watchlist,\n",
    "                   early_stopping_rounds = EARLY_STOP,\n",
    "                   maximize = True,\n",
    "                   verbose_eval = VERBOSE_EVAL)\n",
    "\n",
    "\n",
    "\n",
    "preds = xgb_clf.predict(dvalid)\n",
    "print('XGBoost - roc_auc_score PR: ', roc_auc_score(y_test, preds))\n",
    "\n",
    "# XGBoost - roc_auc_score PR:  0.9083588499194979\n",
    "# same results as using AUC"
   ]
  },
  {
   "cell_type": "markdown",
   "metadata": {},
   "source": [
    "## LightGBM basline"
   ]
  },
  {
   "cell_type": "code",
   "execution_count": 93,
   "metadata": {},
   "outputs": [],
   "source": [
    "# lgb\n",
    "import lightgbm as lgb"
   ]
  },
  {
   "cell_type": "code",
   "execution_count": 94,
   "metadata": {},
   "outputs": [
    {
     "data": {
      "text/plain": [
       "lightgbm.basic.Dataset"
      ]
     },
     "execution_count": 94,
     "metadata": {},
     "output_type": "execute_result"
    }
   ],
   "source": [
    "dtrain = lgb.Dataset(X_train_scaled,\n",
    "                     label = y_train)\n",
    "\n",
    "dvalid = lgb.Dataset(X_test_scaled,\n",
    "                     label = y_test)\n",
    "\n",
    "type(dtrain)"
   ]
  },
  {
   "cell_type": "code",
   "execution_count": 96,
   "metadata": {},
   "outputs": [],
   "source": [
    "#LightGBM\n",
    "params = {\n",
    "          'boosting_type': 'gbdt',\n",
    "          'objective': 'binary',\n",
    "          'metric':'auc',\n",
    "          'learning_rate': 0.05,\n",
    "          'num_leaves': 7,  # we should let it be smaller than 2^(max_depth)\n",
    "          'max_depth': 4,  # -1 means no limit\n",
    "          'min_child_samples': 100,  # Minimum number of data need in a child(min_data_in_leaf)\n",
    "          'max_bin': 100,  # Number of bucketed bin for feature values\n",
    "          'subsample': 0.9,  # Subsample ratio of the training instance.\n",
    "          'subsample_freq': 1,  # frequence of subsample, <=0 means no enable\n",
    "          'colsample_bytree': 0.7,  # Subsample ratio of columns when constructing each tree.\n",
    "          'min_child_weight': 0,  # Minimum sum of instance weight(hessian) needed in a child(leaf)\n",
    "          'min_split_gain': 0,  # lambda_l1, lambda_l2 and min_gain_to_split to regularization\n",
    "          'nthread': 8,\n",
    "          'verbose': 0,\n",
    "          'scale_pos_weight':150, # because training data is extremely unbalanced \n",
    "         }"
   ]
  },
  {
   "cell_type": "code",
   "execution_count": 97,
   "metadata": {},
   "outputs": [
    {
     "name": "stdout",
     "output_type": "stream",
     "text": [
      "Training until validation scores don't improve for 50 rounds\n",
      "[50]\ttrain's auc: 0.804352\tvalid's auc: 0.780156\n",
      "[100]\ttrain's auc: 0.842184\tvalid's auc: 0.817945\n",
      "[150]\ttrain's auc: 0.883202\tvalid's auc: 0.861644\n",
      "[200]\ttrain's auc: 0.908775\tvalid's auc: 0.888761\n",
      "[250]\ttrain's auc: 0.923927\tvalid's auc: 0.90378\n",
      "[300]\ttrain's auc: 0.933282\tvalid's auc: 0.912263\n",
      "[350]\ttrain's auc: 0.939538\tvalid's auc: 0.917806\n",
      "[400]\ttrain's auc: 0.944384\tvalid's auc: 0.922128\n",
      "[450]\ttrain's auc: 0.948774\tvalid's auc: 0.92594\n",
      "[500]\ttrain's auc: 0.951663\tvalid's auc: 0.92836\n",
      "[550]\ttrain's auc: 0.954417\tvalid's auc: 0.93045\n",
      "[600]\ttrain's auc: 0.956874\tvalid's auc: 0.932218\n",
      "[650]\ttrain's auc: 0.959184\tvalid's auc: 0.933873\n",
      "[700]\ttrain's auc: 0.961171\tvalid's auc: 0.93551\n",
      "[750]\ttrain's auc: 0.962368\tvalid's auc: 0.936022\n",
      "[800]\ttrain's auc: 0.964234\tvalid's auc: 0.937325\n",
      "[850]\ttrain's auc: 0.965856\tvalid's auc: 0.938454\n",
      "[900]\ttrain's auc: 0.967129\tvalid's auc: 0.939342\n",
      "[950]\ttrain's auc: 0.968679\tvalid's auc: 0.940473\n",
      "[1000]\ttrain's auc: 0.969883\tvalid's auc: 0.94121\n",
      "Did not meet early stopping. Best iteration is:\n",
      "[1000]\ttrain's auc: 0.969883\tvalid's auc: 0.94121\n"
     ]
    }
   ],
   "source": [
    "evals_results = {}\n",
    "lgb_clf = lgb.train(params, dtrain, valid_sets = [dtrain, dvalid],\n",
    "                   valid_names = ['train', 'valid'], evals_result = evals_results,\n",
    "                   num_boost_round = MAX_ROUNDS, early_stopping_rounds = EARLY_STOP,\n",
    "                   verbose_eval = VERBOSE_EVAL, feval = None)"
   ]
  },
  {
   "cell_type": "code",
   "execution_count": 98,
   "metadata": {},
   "outputs": [
    {
     "name": "stdout",
     "output_type": "stream",
     "text": [
      "LightGBM - roc_auc_acore:  0.9412100924429464\n"
     ]
    }
   ],
   "source": [
    "preds = lgb_clf.predict(X_test_scaled)\n",
    "print('LightGBM - roc_auc_acore: ', roc_auc_score(y_test, preds))\n",
    "\n",
    "# LightGBM - roc_auc_acore:  0.9412100924429464"
   ]
  },
  {
   "cell_type": "code",
   "execution_count": 99,
   "metadata": {},
   "outputs": [
    {
     "data": {
      "text/plain": [
       "array([0.09386106, 0.06358224, 0.99906667, ..., 0.99611971, 0.97996669,\n",
       "       0.99984706])"
      ]
     },
     "execution_count": 99,
     "metadata": {},
     "output_type": "execute_result"
    }
   ],
   "source": [
    "preds"
   ]
  },
  {
   "cell_type": "code",
   "execution_count": 101,
   "metadata": {},
   "outputs": [
    {
     "data": {
      "image/png": "[encoded data removed]",
      "text/plain": [
       "<Figure size 432x288 with 1 Axes>"
      ]
     },
     "metadata": {
      "needs_background": "light"
     },
     "output_type": "display_data"
    }
   ],
   "source": [
    "def rocCurvePlot(probs, y_test1):\n",
    "    # calculate the fpr and tpr for all thresholds of the classification\n",
    "   # preds = probs[:,1]\n",
    "    preds = probs\n",
    "    fpr, tpr, threshold = metrics.roc_curve(y_test1, preds)\n",
    "    roc_auc = metrics.auc(fpr, tpr)\n",
    "\n",
    "    # method I: plt\n",
    "    import matplotlib.pyplot as plt\n",
    "    plt.title('Receiver Operating Characteristic for GBM')\n",
    "    plt.plot(fpr, tpr, 'b', label = 'AUC = %0.2f' % roc_auc)\n",
    "    plt.legend(loc = 'lower right')\n",
    "    plt.plot([0, 1], [0, 1],'r--')\n",
    "    plt.xlim([0, 1])\n",
    "    plt.ylim([0, 1])\n",
    "    plt.ylabel('True Positive Rate')\n",
    "    plt.xlabel('False Positive Rate')\n",
    "    plt.show()\n",
    "    \n",
    "rocCurvePlot(preds, y_test)"
   ]
  },
  {
   "cell_type": "code",
   "execution_count": 100,
   "metadata": {},
   "outputs": [],
   "source": [
    "predsbin = preds > 0.5"
   ]
  },
  {
   "cell_type": "code",
   "execution_count": 102,
   "metadata": {},
   "outputs": [
    {
     "data": {
      "text/plain": [
       "array([[1207, 2474],\n",
       "       [  14, 2641]], dtype=int64)"
      ]
     },
     "execution_count": 102,
     "metadata": {},
     "output_type": "execute_result"
    }
   ],
   "source": [
    "confusion_matrix(y_test, predsbin)"
   ]
  },
  {
   "cell_type": "code",
   "execution_count": 104,
   "metadata": {},
   "outputs": [
    {
     "data": {
      "image/png": "[encoded data removed]",
      "text/plain": [
       "<Figure size 360x360 with 2 Axes>"
      ]
     },
     "metadata": {
      "needs_background": "light"
     },
     "output_type": "display_data"
    }
   ],
   "source": [
    "#PLOT Confusion Matrix\n",
    "\n",
    "cm =pd.crosstab(y_test, predsbin, rownames = ['Actual'], colnames = ['Predicted'])\n",
    "fig, (ax1) = plt.subplots(ncols = 1, figsize = (5, 5))\n",
    "sns.heatmap(cm, xticklabels = ['y_0', 'y_1'], yticklabels = ['y_0', 'y_1'], \n",
    "            annot = True, ax = ax1,\n",
    "            linewidths = .2, linecolor = 'Darkblue', cmap ='Blues')\n",
    "plt.title('confusion Matrix for GBM', fontsize = 14)\n",
    "plt.show()"
   ]
  },
  {
   "cell_type": "code",
   "execution_count": 115,
   "metadata": {},
   "outputs": [
    {
     "name": "stdout",
     "output_type": "stream",
     "text": [
      "[0.32790003 0.99472693]\n"
     ]
    },
    {
     "data": {
      "image/png": "[encoded data removed]",
      "text/plain": [
       "<Figure size 560x420 with 1 Axes>"
      ]
     },
     "metadata": {
      "needs_background": "light"
     },
     "output_type": "display_data"
    }
   ],
   "source": [
    "mpl.rcParams['figure.dpi'] = 70\n",
    "# get classification accuracy\n",
    "def per_class_accuracy(ytrue,yhat):\n",
    "    conf = mt.confusion_matrix(ytrue,yhat)\n",
    "    norm_conf = conf.astype('float') / conf.sum(axis=1)[:, np.newaxis]\n",
    "    return np.diag(norm_conf)\n",
    "# draw classification accuracy confusion Matrix\n",
    "def plot_class_acc(ytrue,yhat, title=''):\n",
    "    acc_list = per_class_accuracy(ytrue,yhat)\n",
    "    plt.figure(figsize=(8,6))\n",
    "    plt.bar(range(len(acc_list)), acc_list)\n",
    "    plt.xlabel('Class value')\n",
    "    plt.ylabel('Accuracy within class')\n",
    "    plt.title(title+\", Total Acc=%.1f\"%(100*mt.accuracy_score(ytrue,yhat)))\n",
    "    plt.grid()\n",
    "    plt.ylim([0,1])\n",
    "    plt.savefig(title)\n",
    "    plt.show()\n",
    "    \n",
    "print(per_class_accuracy(y_test, predsbin))total_accuracy_xgb = mt.accuracy_score(y_test, predsbin)\n",
    "total_precision_xgb = precision_score(y_test, predsbin)\n",
    "classification_rpt_xgb = classification_report(y_test, predsbin)\n",
    "print (\"XGB accuracy with corresponding parameter settings\")\n",
    "print('XGB classifier accuracy with optimal parameters is: %.3f'%(total_accuracy_xgb))\n",
    "print('XGB classifier precision with optimal parameters is: %.3f'%(total_precision_xgb))\n",
    "print('XGB classifier classsification report with optimal parameters is: \\n',(classification_rpt_xgb))\n",
    "\n",
    "\n",
    "plot_class_acc(y_test, predsbin,title=\"GBM Accuracy Plot\")"
   ]
  },
  {
   "cell_type": "code",
   "execution_count": 116,
   "metadata": {},
   "outputs": [
    {
     "name": "stdout",
     "output_type": "stream",
     "text": [
      "gbm accuracy with corresponding parameter settings\n",
      "gbm classifier accuracy with optimal parameters is: 0.607\n",
      "gbm classifier precision with optimal parameters is: 0.516\n",
      "gbm classifier classsification report with optimal parameters is: \n",
      "               precision    recall  f1-score   support\n",
      "\n",
      "           0       0.99      0.33      0.49      3681\n",
      "           1       0.52      0.99      0.68      2655\n",
      "\n",
      "    accuracy                           0.61      6336\n",
      "   macro avg       0.75      0.66      0.59      6336\n",
      "weighted avg       0.79      0.61      0.57      6336\n",
      "\n"
     ]
    }
   ],
   "source": [
    "total_accuracy_gbm = mt.accuracy_score(y_test, predsbin)\n",
    "total_precision_gbm = precision_score(y_test, predsbin)\n",
    "classification_rpt_gbm = classification_report(y_test, predsbin)\n",
    "print (\"gbm accuracy with corresponding parameter settings\")\n",
    "print('gbm classifier accuracy with optimal parameters is: %.3f'%(total_accuracy_gbm))\n",
    "print('gbm classifier precision with optimal parameters is: %.3f'%(total_precision_gbm))\n",
    "print('gbm classifier classsification report with optimal parameters is: \\n',(classification_rpt_gbm))\n",
    "\n"
   ]
  },
  {
   "cell_type": "markdown",
   "metadata": {},
   "source": [
    "## Calculate cost"
   ]
  },
  {
   "cell_type": "code",
   "execution_count": 105,
   "metadata": {},
   "outputs": [],
   "source": [
    "## Calculate cost\n",
    "### cost function:\n",
    "###  Total Cost = 10 * Count of FP + 500 * Count of FN\n",
    "\n",
    "# fn : left bottom in confusion matrix\n",
    "# fp: right upper in confusion matrix\n",
    "\n",
    "# gbm cost = 10*2474+500*14 =31740\n",
    "\n",
    "# compare with rf and xgb\n",
    "# rf cost =10*205 + 500*434= 219050,\n",
    "# xgb 0.5 cost = 10*399+500*673 =340490\n",
    "\n",
    "# gbm even lower than rf. although gbm has most false positive (predict pretty bad for 0 class-  can aslo see from the within class accuracy plot), but has lowest cost"
   ]
  },
  {
   "cell_type": "code",
   "execution_count": 106,
   "metadata": {},
   "outputs": [
    {
     "data": {
      "text/plain": [
       "31740"
      ]
     },
     "execution_count": 106,
     "metadata": {},
     "output_type": "execute_result"
    }
   ],
   "source": [
    "10*2474+500*14"
   ]
  },
  {
   "cell_type": "markdown",
   "metadata": {},
   "source": [
    "## Model Cost Comparsion Plot"
   ]
  },
  {
   "cell_type": "code",
   "execution_count": 113,
   "metadata": {},
   "outputs": [
    {
     "data": {
      "image/png": "[encoded data removed]",
      "text/plain": [
       "<Figure size 3600x2400 with 1 Axes>"
      ]
     },
     "metadata": {
      "needs_background": "light"
     },
     "output_type": "display_data"
    }
   ],
   "source": [
    "#formatting for plot\n",
    "import matplotlib as mpl\n",
    "mpl.rcParams['figure.dpi'] = 300\n",
    "\n",
    "mpl.rcParams['font.sans-serif'] = \"Arial\"\n",
    "# Bring some raw data.\n",
    "ModelCOSTs = [340490, 219050, 31740]\n",
    "\n",
    "# In my original code I create a series and run on that,\n",
    "# so for consistency I create a series from the list.\n",
    "freq_series = pd.Series(ModelCOSTs)\n",
    "\n",
    "x_labels = [\"XGBoost\",\"RF\",\"lightGBM\"]\n",
    "\n",
    "# Plot the figure.\n",
    "plt.figure(figsize=(12, 8))\n",
    "ax = freq_series.plot(kind='bar')\n",
    "ax.set_title('Model Cost Comparsion')\n",
    "ax.set_xlabel('Model Name')\n",
    "ax.set_ylabel('Cost ($)')\n",
    "ax.set_xticklabels(x_labels)\n",
    "\n",
    "\n",
    "def add_value_labels(ax, spacing=5):\n",
    "    \"\"\"Add labels to the end of each bar in a bar chart.\n",
    "\n",
    "    Arguments:\n",
    "        ax (matplotlib.axes.Axes): The matplotlib object containing the axes\n",
    "            of the plot to annotate.\n",
    "        spacing (int): The distance between the labels and the bars.\n",
    "    \"\"\"\n",
    "\n",
    "    # For each bar: Place a label\n",
    "    for rect in ax.patches:\n",
    "        # Get X and Y placement of label from rect.\n",
    "        y_value = rect.get_height()\n",
    "        x_value = rect.get_x() + rect.get_width() / 2\n",
    "\n",
    "        # Number of points between bar and label. Change to your liking.\n",
    "        space = spacing\n",
    "        # Vertical alignment for positive values\n",
    "        va = 'bottom'\n",
    "\n",
    "        # If value of bar is negative: Place label below bar\n",
    "        if y_value < 0:\n",
    "            # Invert space to place label below\n",
    "            space *= -1\n",
    "            # Vertically align label at top\n",
    "            va = 'top'\n",
    "\n",
    "        # Use Y value as label and format number with one decimal place\n",
    "        label = \"{:.2f}\".format(y_value)\n",
    "\n",
    "        # Create annotation\n",
    "        ax.annotate(\n",
    "            label,                      # Use `label` as label\n",
    "            (x_value, y_value),         # Place label at end of the bar\n",
    "            xytext=(0, space),          # Vertically shift label by `space`\n",
    "            textcoords=\"offset points\", # Interpret `xytext` as offset in points\n",
    "            ha='center',                # Horizontally center label\n",
    "            va=va)                      # Vertically align label differently for\n",
    "                                        # positive and negative values.\n",
    "\n",
    "\n",
    "# Call the function above. All the magic happens there.\n",
    "add_value_labels(ax)"
   ]
  },
  {
   "cell_type": "code",
   "execution_count": 1,
   "metadata": {},
   "outputs": [
    {
     "data": {
      "text/plain": [
       "34404.0"
      ]
     },
     "execution_count": 1,
     "metadata": {},
     "output_type": "execute_result"
    }
   ],
   "source": [
    "(8602*10+172*500)/5 #daniel got this cost with RF with full dataset training run overnight"
   ]
  },
  {
   "cell_type": "code",
   "execution_count": 5,
   "metadata": {},
   "outputs": [
    {
     "data": {
      "image/png": "[encoded data removed]",
      "text/plain": [
       "<Figure size 3600x2400 with 1 Axes>"
      ]
     },
     "metadata": {
      "needs_background": "light"
     },
     "output_type": "display_data"
    }
   ],
   "source": [
    "#formatting for plot\n",
    "import matplotlib as mpl\n",
    "mpl.rcParams['figure.dpi'] = 300\n",
    "\n",
    "mpl.rcParams['font.sans-serif'] = \"Arial\"\n",
    "# Bring some raw data.\n",
    "ModelCOSTs = [340490, 219050,34404, 31740]\n",
    "\n",
    "# In my original code I create a series and run on that,\n",
    "# so for consistency I create a series from the list.\n",
    "freq_series = pd.Series(ModelCOSTs)\n",
    "\n",
    "x_labels = [\"XGBoost(20% data)\",\"RF(20% data)\",\"RF (100% data)\",\"lightGBM(20% data)\"]\n",
    "\n",
    "# Plot the figure.\n",
    "plt.figure(figsize=(12, 8))\n",
    "ax = freq_series.plot(kind='bar')\n",
    "ax.set_title('Model Cost Comparsion')\n",
    "ax.set_xlabel('Model Name')\n",
    "xticks(rotation=90)\n",
    "ax.set_ylabel('Cost ($)')\n",
    "ax.set_xticklabels(x_labels)\n",
    "\n",
    "\n",
    "def add_value_labels(ax, spacing=5):\n",
    "    \"\"\"Add labels to the end of each bar in a bar chart.\n",
    "\n",
    "    Arguments:\n",
    "        ax (matplotlib.axes.Axes): The matplotlib object containing the axes\n",
    "            of the plot to annotate.\n",
    "        spacing (int): The distance between the labels and the bars.\n",
    "    \"\"\"\n",
    "\n",
    "    # For each bar: Place a label\n",
    "    for rect in ax.patches:\n",
    "        # Get X and Y placement of label from rect.\n",
    "        y_value = rect.get_height()\n",
    "        x_value = rect.get_x() + rect.get_width() / 2\n",
    "\n",
    "        # Number of points between bar and label. Change to your liking.\n",
    "        space = spacing\n",
    "        # Vertical alignment for positive values\n",
    "        va = 'bottom'\n",
    "\n",
    "        # If value of bar is negative: Place label below bar\n",
    "        if y_value < 0:\n",
    "            # Invert space to place label below\n",
    "            space *= -1\n",
    "            # Vertically align label at top\n",
    "            va = 'top'\n",
    "\n",
    "        # Use Y value as label and format number with one decimal place\n",
    "        label = \"{:.2f}\".format(y_value)\n",
    "\n",
    "        # Create annotation\n",
    "        ax.annotate(\n",
    "            label,                      # Use `label` as label\n",
    "            (x_value, y_value),         # Place label at end of the bar\n",
    "            xytext=(0, space),          # Vertically shift label by `space`\n",
    "            textcoords=\"offset points\", # Interpret `xytext` as offset in points\n",
    "            ha='center',                # Horizontally center label\n",
    "            va=va)                      # Vertically align label differently for\n",
    "                                        # positive and negative values.\n",
    "\n",
    "\n",
    "# Call the function above. All the magic happens there.\n",
    "add_value_labels(ax)"
   ]
  },
  {
   "cell_type": "code",
   "execution_count": 8,
   "metadata": {},
   "outputs": [
    {
     "data": {
      "image/png": "[encoded data removed]",
      "text/plain": [
       "<Figure size 3600x2400 with 1 Axes>"
      ]
     },
     "metadata": {
      "needs_background": "light"
     },
     "output_type": "display_data"
    }
   ],
   "source": [
    "#formatting for plot\n",
    "import matplotlib as mpl\n",
    "mpl.rcParams['figure.dpi'] = 300\n",
    "\n",
    "mpl.rcParams['font.sans-serif'] = \"Arial\"\n",
    "# Bring some raw data.\n",
    "ModelCOSTs = [340490, 219050,34404, 31740]\n",
    "\n",
    "# In my original code I create a series and run on that,\n",
    "# so for consistency I create a series from the list.\n",
    "freq_series = pd.Series(ModelCOSTs)\n",
    "\n",
    "x_labels = [\"XGBoost(20% data)\",\"RF(20% data)\",\"RF (100% data)\",\"lightGBM(20% data)\"]\n",
    "\n",
    "# Plot the figure.\n",
    "plt.figure(figsize=(12, 8))\n",
    "ax = freq_series.plot(kind='bar')\n",
    "ax.set_title('Model Cost Comparsion')\n",
    "ax.set_xlabel('Model Name')\n",
    "plt.xticks(rotation=90) #try to rotate x labels\n",
    "ax.set_ylabel('Cost ($)')\n",
    "ax.set_xticklabels(x_labels)\n",
    "\n",
    "\n",
    "def add_value_labels(ax, spacing=5):\n",
    "    \"\"\"Add labels to the end of each bar in a bar chart.\n",
    "\n",
    "    Arguments:\n",
    "        ax (matplotlib.axes.Axes): The matplotlib object containing the axes\n",
    "            of the plot to annotate.\n",
    "        spacing (int): The distance between the labels and the bars.\n",
    "    \"\"\"\n",
    "\n",
    "    # For each bar: Place a label\n",
    "    for rect in ax.patches:\n",
    "        # Get X and Y placement of label from rect.\n",
    "        y_value = rect.get_height()\n",
    "        x_value = rect.get_x() + rect.get_width() / 2\n",
    "\n",
    "        # Number of points between bar and label. Change to your liking.\n",
    "        space = spacing\n",
    "        # Vertical alignment for positive values\n",
    "        va = 'bottom'\n",
    "\n",
    "        # If value of bar is negative: Place label below bar\n",
    "        if y_value < 0:\n",
    "            # Invert space to place label below\n",
    "            space *= -1\n",
    "            # Vertically align label at top\n",
    "            va = 'top'\n",
    "\n",
    "        # Use Y value as label and format number with one decimal place\n",
    "        label = \"{:.2f}\".format(y_value)\n",
    "\n",
    "        # Create annotation\n",
    "        ax.annotate(\n",
    "            label,                      # Use `label` as label\n",
    "            (x_value, y_value),         # Place label at end of the bar\n",
    "            xytext=(0, space),          # Vertically shift label by `space`\n",
    "            textcoords=\"offset points\", # Interpret `xytext` as offset in points\n",
    "            ha='center',                # Horizontally center label\n",
    "            va=va)                      # Vertically align label differently for\n",
    "                                        # positive and negative values.\n",
    "\n",
    "\n",
    "# Call the function above. All the magic happens there.\n",
    "add_value_labels(ax)"
   ]
  },
  {
   "cell_type": "code",
   "execution_count": null,
   "metadata": {},
   "outputs": [],
   "source": []
  }
 ],
 "metadata": {
  "kernelspec": {
   "display_name": "Python 3",
   "language": "python",
   "name": "python3"
  },
  "language_info": {
   "codemirror_mode": {
    "name": "ipython",
    "version": 3
   },
   "file_extension": ".py",
   "mimetype": "text/x-python",
   "name": "python",
   "nbconvert_exporter": "python",
   "pygments_lexer": "ipython3",
   "version": "3.6.5"
  }
 },
 "nbformat": 4,
 "nbformat_minor": 2
}
