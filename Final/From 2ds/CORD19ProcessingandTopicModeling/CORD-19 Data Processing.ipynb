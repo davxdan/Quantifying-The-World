{
 "cells": [
  {
   "cell_type": "markdown",
   "metadata": {},
   "source": [
    "# Processing the CORD-19 Dataset\n",
    "\n",
    "**Purpose:** This notebook is designed to interactively guide the user through processing the machine-readable corpus of COVID-19 research made available by the White House on 2020-03-16.  After downloading the original dataset, the user is simply required to input their directory (using the text boxes embedded in the Notebook) to read-in, process, and export the processed data.  This workflow is designed for anyone looking to leverage Python to explore and analyze the COVID-19 text.\n",
    "\n",
    "**About the Dataset:**\n",
    "In response to the COVID-19 pandemic, the Allen Institute for AI has partnered with leading research groups to prepare and distribute the COVID-19 Open Research Dataset (CORD-19), a free resource of over 29,000 scholarly articles, including over 13,000 with full text, about COVID-19 and the coronavirus family of viruses for use by the global research community.\n",
    "\n",
    "This dataset is intended to mobilize researchers to apply recent advances in natural language processing to generate new insights in support of the fight against this infectious disease. The corpus will be updated weekly as new research is published in peer-reviewed publications and archival services like bioRxiv, medRxiv, and others.\n",
    "    \n",
    "</br></br>\n",
    "- **Resources**\n",
    "    - **[Call to Action to the Tech Community on New Machine Readable COVID-19 Dataset](http://docs.h2o.ai/h2o/latest-stable/h2o-docs/automl.html)**\n",
    "    \n",
    "</br></br>\n",
    "- **Datasets**\n",
    "    - **[COVID-19 Open Research Dataset Challenge (CORD-19)](https://www.kaggle.com/allen-institute-for-ai/CORD-19-research-challenge)** - Kaggle is hosting the COVID-19 Open Research Dataset Challenge, a series of important questions designed to inspire the community to use CORD-19 to find new insights about the COVID-19 pandemic including the natural history, transmission, and diagnostics for the virus, management measures at the human-animal interface, lessons from previous epidemiological studies, and more.  You can download the full dataset on their website.\n",
    "    - **[COVID-19 Open Research Dataset (CORD-19)](https://pages.semanticscholar.org/coronavirus-research)** - The CORD-19 resource is available on the Allen Institute’s SemanticScholar.org website and will continue to be updated as new research is published in archival services and peer-reviewed publications.\n",
    "\n",
    "    \n",
    "## Table of Contents\n",
    "\n",
    "**1.0** **- Ingest Data**\n",
    "    * 1.1 - Set Your Working Directory\n",
    "    * 1.2 - Load Helper Functions\n",
    "    * 1.3 - Load Processing Functions\n",
    "    \n",
    "**2.0** **- Process Data**\n",
    "    * 2.1 - Run the Processing Function\n",
    "    * 2.2 - View a Sample of the Data \n",
    "   \n",
    "**3.0** **- Export Data**\n",
    "    * 3.1 - Load Export Functions\n",
    "    * 3.2 - Select Files and Export Locally\n",
    "\n",
    "## Dependencies\n",
    "\n",
    "This script was executed using the following version of Python:\n",
    "* **Python 3.6.2 :: Anaconda, Inc.**\n",
    "\n",
    "Use this link to install Python on your machine:\n",
    "* https://www.anaconda.com/distribution/#download-section\n",
    "\n",
    "**About Python Versions:**\n",
    "If you are running a higher-version of Python and this notebook fails to execute properly, you can downgrade your version in the terminal by running the following commands:\n",
    "* conda search python [to see which versions are available on your machine]\n",
    "* conda install python=3.6.2 [which will switch the active version to 3.6.2; if available in the list above]\n",
    "\n",
    "**About Python Packages:**\n",
    "All packages used in this notebook can be installed on your machine using the \"pip install [package_name]\" command on your terminal.  Be sure you've installed each of the packages below before attempting to execute the notebook.\n",
    "\n",
    "Current package requirements include:\n",
    "* os - https://docs.python.org/3/library/os.html\n",
    "* Pandas - https://pandas.pydata.org/\n",
    "* Numpy - http://www.numpy.org/\n",
    "* Datetime - https://docs.python.org/3/library/datetime.html\n",
    "* ipywidgets - https://ipywidgets.readthedocs.io/en/stable/user_install.html\n",
    "* ipython - https://ipython.org/ipython-doc/rel-0.10.2/html/interactive/extension_api.html\n",
    "* requests - https://2.python-requests.org/en/master/user/install/\n",
    "* io - https://docs.python.org/3/library/io.html\n",
    "* warnings - https://docs.python.org/3/library/warnings.html\n",
    "* pyarrow - https://arrow.apache.org/docs/python/parquet.html\n",
    "\n",
    "The current template uses the following versions:\n",
    "* os== module 'os' from '/anaconda3/lib/python3.6/os.py'\n",
    "* pandas==0.24.1\n",
    "* numpy==1.16.1\n",
    "* datetime== module 'datetime' from '/anaconda3/lib/python3.6/datetime.py'\n",
    "* ipywidgets==7.4.2\n",
    "* ipython==6.2.1\n",
    "* requests==2.18.4\n",
    "* io== module 'io' from '/anaconda3/lib/python3.6/io.py'\n",
    "* warnings== module 'warnings' from '/anaconda3/lib/python3.6/warnings.py'\n",
    "* pyarrow==0.16.0"
   ]
  },
  {
   "cell_type": "markdown",
   "metadata": {},
   "source": [
    "(1) Metadata for papers from these sources are combined: CZI, PMC, BioRxiv/MedRxiv. (total records 29500)\n",
    "\t- CZI 1236 records\n",
    "\t- PMC 27337\n",
    "\t- bioRxiv 566\n",
    "\t- medRxiv 361\n",
    "(2) 17K of the paper records have PDFs and the hash of the PDFs are in 'sha'\n",
    "(3) For PMC sourced papers, one paper's metadata can be associated with one or more PDFs/shas under that paper - a PDF/sha corresponding to the main article, and possibly additional PDF/shas corresponding to supporting materials for the article.\n",
    "(4)\t13K of the PDFs were processed with fulltext ('has_full_text'=True)\n",
    "(5) Various 'keys' are populated with the metadata:\n",
    "\t- 'pmcid': populated for all PMC paper records (27337 non null)\n",
    "\t- 'doi': populated for all BioRxiv/MedRxiv paper records and most of the other records (26357 non null)\n",
    "\t- 'WHO #Covidence': populated for all CZI records and none of the other records (1236 non null)\n",
    "\t- 'pubmed_id': populated for some of the records\n",
    "\t- 'Microsoft Academic Paper ID': populated for some of the records"
   ]
  },
  {
   "cell_type": "markdown",
   "metadata": {},
   "source": [
    "## Before you begin, ensure you've installed the required Python packages\n",
    "\n",
    "* See the list above and make note of the specific versions that were used in this notebook"
   ]
  },
  {
   "cell_type": "code",
   "execution_count": 33,
   "metadata": {},
   "outputs": [],
   "source": [
    "############################################\n",
    "###### Import required Python packages #####\n",
    "############################################\n",
    "\n",
    "import os\n",
    "import json\n",
    "from copy import deepcopy\n",
    "import datetime as dt\n",
    "import pyarrow\n",
    "import numpy as np\n",
    "import pandas as pd\n",
    "from ipywidgets import interact, interactive, IntSlider, Layout\n",
    "import ipywidgets as widgets\n",
    "from IPython.display import display\n",
    "import requests\n",
    "import warnings\n",
    "warnings.filterwarnings('ignore')"
   ]
  },
  {
   "cell_type": "markdown",
   "metadata": {},
   "source": [
    "## AN IMPORTANT NOTE ABOUT INTERACTIVE WIDGETS\n",
    "\n",
    "This notebook uses interactive widgets to help you make selections and inputs more conveniently.  As you work through this notebook, be sure to follow the steps below to ensure your selections are incorporated in the cells that follow:\n",
    "\n",
    "#### 1. Run the cell containing the interactive widget(s) to bring them into view\n",
    "#### 2. Apply your selections and/or inputs to the widgets that appear\n",
    "#### 3. DO NOT rerun the cell as it will erase your selections and inputs\n",
    "#### 4. To proceed, simply click on the next cell in the notebook, and Run it\n",
    "\n",
    "<br/>"
   ]
  },
  {
   "cell_type": "markdown",
   "metadata": {},
   "source": [
    "## 1.0 - Data Ingestion\n",
    "\n",
    "The series of code blocks below will walk you through the process of mapping to your working directory and uploading your dataset."
   ]
  },
  {
   "cell_type": "markdown",
   "metadata": {},
   "source": [
    "## 1.1 - Set Your Working Directory\n",
    "\n",
    "Your \"working directory\" is a folder location on your computer that will store files either read-in or written-out by this script.  This code by default will return your current, active directory.  You can change this directory by typing in a specific path into the text box provided."
   ]
  },
  {
   "cell_type": "code",
   "execution_count": 34,
   "metadata": {},
   "outputs": [
    {
     "data": {
      "application/vnd.jupyter.widget-view+json": {
       "model_id": "656170e2d63b43de8e960b4de29fa682",
       "version_major": 2,
       "version_minor": 0
      },
      "text/plain": [
       "Text(value='/Users/bblanchard006/Desktop/covid19/2020-03-13', description='Directory:', layout=Layout(width='5…"
      ]
     },
     "metadata": {},
     "output_type": "display_data"
    }
   ],
   "source": [
    "set_working_directory = widgets.Text(\n",
    "    value=os.getcwd(),\n",
    "    placeholder='/Users/bblanchard006/Desktop/covid19/2020-03-13',\n",
    "    description='Directory:',\n",
    "    disabled=False,\n",
    "    layout=Layout(width='50%')\n",
    ")\n",
    "\n",
    "display(set_working_directory)"
   ]
  },
  {
   "cell_type": "markdown",
   "metadata": {},
   "source": [
    "## Reminder: Do not rerun the cell above after applying your inputs\n",
    "\n",
    "### Click on and Run this cell to proceed\n",
    "\n",
    "After executing the cell above, you can leave the default directory or overwrite the text string that appears with your desired folder directory. **DO NOT execute the cell again after making your update.** The input above will be fed into the following code cell, where it will either successfully map to the new directory or notify you of an error."
   ]
  },
  {
   "cell_type": "code",
   "execution_count": 35,
   "metadata": {},
   "outputs": [
    {
     "name": "stdout",
     "output_type": "stream",
     "text": [
      "Changed directory to /Users/bblanchard006/Desktop/covid19/2020-03-13\n"
     ]
    }
   ],
   "source": [
    "try:\n",
    "    os.chdir(set_working_directory.value)\n",
    "    print('Changed directory to {}'.format(set_working_directory.value))\n",
    "except Exception as e:\n",
    "    print('Failed to change directory')\n",
    "    print(e)"
   ]
  },
  {
   "cell_type": "markdown",
   "metadata": {},
   "source": [
    "## 1.2 - Load Helper Functions\n",
    "\n",
    "The list of functions below will help us extract the important attributes embedded in the .json files.  Much of the source material detailed below was originally published to the Kaggle community by various supporters and has been lightly modified for the purposes of this Notebook.  You can access the original walkthrough provided on Kaggle below:\n",
    "\n",
    "[CORD-19: EDA, parse JSON and generate clean CSV](https://www.kaggle.com/xhlulu/cord-19-eda-parse-json-and-generate-clean-csv)"
   ]
  },
  {
   "cell_type": "code",
   "execution_count": 36,
   "metadata": {},
   "outputs": [],
   "source": [
    "def format_name(author):\n",
    "    middle_name = \" \".join(author['middle'])\n",
    "    \n",
    "    if author['middle']:\n",
    "        return \" \".join([author['first'], middle_name, author['last']])\n",
    "    else:\n",
    "        return \" \".join([author['first'], author['last']])\n",
    "\n",
    "def format_affiliation(affiliation):\n",
    "    text = []\n",
    "    location = affiliation.get('location')\n",
    "    if location:\n",
    "        text.extend(list(affiliation['location'].values()))\n",
    "    \n",
    "    institution = affiliation.get('institution')\n",
    "    if institution:\n",
    "        text = [institution] + text\n",
    "    return \", \".join(text)\n",
    "\n",
    "def format_authors(authors, with_affiliation=False):\n",
    "    name_ls = []\n",
    "    \n",
    "    for author in authors:\n",
    "        name = format_name(author)\n",
    "        if with_affiliation:\n",
    "            affiliation = format_affiliation(author['affiliation'])\n",
    "            if affiliation:\n",
    "                name_ls.append(f\"{name} ({affiliation})\")\n",
    "            else:\n",
    "                name_ls.append(name)\n",
    "        else:\n",
    "            name_ls.append(name)\n",
    "\n",
    "    return \", \".join(name_ls)    \n",
    "\n",
    "def format_body(body_text):\n",
    "    texts = [(di['section'], di['text']) for di in body_text]\n",
    "    texts_di = {di['section']: \"\" for di in body_text}\n",
    "    \n",
    "    for section, text in texts:\n",
    "        texts_di[section] += text\n",
    "\n",
    "    body = \"\"\n",
    "\n",
    "    for section, text in texts_di.items():\n",
    "        body += section\n",
    "        body += \"\\n\\n\"\n",
    "        body += text\n",
    "        body += \"\\n\\n\"\n",
    "    \n",
    "    return body\n",
    "\n",
    "def format_bib(bibs):\n",
    "    if type(bibs) == dict:\n",
    "        bibs = list(bibs.values())\n",
    "    bibs = deepcopy(bibs)\n",
    "    formatted = []\n",
    "    \n",
    "    for bib in bibs:\n",
    "        bib['authors'] = format_authors(\n",
    "            bib['authors'], \n",
    "            with_affiliation=False\n",
    "        )\n",
    "        formatted_ls = [str(bib[k]) for k in ['title', 'authors', 'venue', 'year']]\n",
    "        formatted.append(\", \".join(formatted_ls))\n",
    "\n",
    "    return \"; \".join(formatted)\n",
    "\n",
    "def get_bib_authors(bibs):\n",
    "    if type(bibs) == dict:\n",
    "        bibs = list(bibs.values())\n",
    "    bibs = deepcopy(bibs)\n",
    "    formatted = []\n",
    "    \n",
    "    for bib in bibs:\n",
    "        bib['authors'] = format_authors(\n",
    "            bib['authors'], \n",
    "            with_affiliation=False\n",
    "        )\n",
    "        formatted_ls = [str.upper(bib[k]) for k in ['authors']]\n",
    "        formatted.append(\", \".join(formatted_ls))\n",
    "\n",
    "    return \"; \".join(formatted)\n",
    "\n",
    "def get_bib_titles(bibs):\n",
    "    if type(bibs) == dict:\n",
    "        bibs = list(bibs.values())\n",
    "    bibs = deepcopy(bibs)\n",
    "    formatted = []\n",
    "\n",
    "    for bib in bibs:\n",
    "        formatted_ls = [str.upper(bib[k]) for k in ['title']]\n",
    "        formatted.append(\", \".join(formatted_ls))\n",
    "\n",
    "    return \"; \".join(formatted)\n",
    "\n",
    "def get_bib_count(bibs):\n",
    "    if type(bibs) == dict:\n",
    "        num_bibs = len(bibs)\n",
    "\n",
    "    return num_bibs\n"
   ]
  },
  {
   "cell_type": "markdown",
   "metadata": {},
   "source": [
    "## 1.3 - Load Processing Functions\n",
    "\n",
    "The list of functions below will leverage the helper functions above to process, consolidate, and output the full-text articles from the CORD-19 data set into a columnar structure for machine learning."
   ]
  },
  {
   "cell_type": "code",
   "execution_count": 37,
   "metadata": {},
   "outputs": [],
   "source": [
    "def load_files(dirname):\n",
    "    filenames = os.listdir(dirname)\n",
    "    raw_files = []\n",
    "\n",
    "    for filename in filenames:\n",
    "        filename = dirname + filename\n",
    "        file = json.load(open(filename, 'rb'))\n",
    "        raw_files.append(file)\n",
    "    \n",
    "    return raw_files\n",
    "\n",
    "def generate_clean_df(all_files):\n",
    "    cleaned_files = []\n",
    "\n",
    "    for file in all_files:\n",
    "        features = [\n",
    "            file['paper_id'],\n",
    "            file['metadata']['title'].upper(),\n",
    "            format_authors(file['metadata']['authors']),\n",
    "            format_authors(file['metadata']['authors'], \n",
    "                           with_affiliation=True),\n",
    "            format_body(file['abstract']),\n",
    "            format_body(file['body_text']),\n",
    "            format_bib(file['bib_entries']),\n",
    "            get_bib_titles(file['bib_entries']),\n",
    "            get_bib_count(file['bib_entries']),\n",
    "            get_bib_authors(file['bib_entries']),\n",
    "        ]\n",
    "\n",
    "        cleaned_files.append(features)\n",
    "\n",
    "    col_names = [\n",
    "                 'paper_id',\n",
    "                 'title',\n",
    "                 'authors',\n",
    "                 'affiliations',\n",
    "                 'abstract',\n",
    "                 'text', \n",
    "                 'bibliography',\n",
    "                 'bibliography_titles',\n",
    "                 'number_of_references',\n",
    "                 'bibliography_authors',\n",
    "    ]\n",
    "\n",
    "    clean_df = pd.DataFrame(cleaned_files, columns=col_names)\n",
    "    clean_df.head()\n",
    "    \n",
    "    return clean_df"
   ]
  },
  {
   "cell_type": "markdown",
   "metadata": {},
   "source": [
    "The cell below loads the main processing function"
   ]
  },
  {
   "cell_type": "code",
   "execution_count": 38,
   "metadata": {},
   "outputs": [],
   "source": [
    "def process_data():\n",
    "\n",
    "    data_dict = {}\n",
    "    \n",
    "    folder_dir = [\n",
    "            'biorxiv_medrxiv',\n",
    "            'pmc_custom_license',\n",
    "            'comm_use_subset',\n",
    "            'noncomm_use_subset'\n",
    "    ]\n",
    "    \n",
    "    for f in folder_dir:\n",
    "        dir_mapping = os.getcwd()+os.sep+f+os.sep+f+os.sep\n",
    "        temp_files = load_files(dir_mapping)\n",
    "        temp_df = generate_clean_df(temp_files)\n",
    "        temp_df = temp_df.fillna('None')\n",
    "        temp_df = temp_df.replace(r'^\\s*$', 'None', regex=True)\n",
    "        data_dict.update({f+'_full_text':temp_df})\n",
    "\n",
    "    meta_file = pd.read_csv(os.getcwd()+os.sep+'all_sources_metadata_2020-03-13.csv')      \n",
    "    data_dict.update({'metadata_file':meta_file})\n",
    "\n",
    "    full_text_frames = []\n",
    "    for key, value in data_dict.items():\n",
    "        if key != 'metadata_file':\n",
    "            value['cord_19_source'] = key\n",
    "            full_text_frames.append(value)\n",
    "            \n",
    "    stacked_df = pd.concat(full_text_frames, sort=False)\n",
    "\n",
    "    sha_list = list(set(list(data_dict['metadata_file']['sha'])))\n",
    "    paper_id_list = list(set(list(stacked_df['paper_id'])))\n",
    "    \n",
    "    stacked_df['metadata_match'] = stacked_df['paper_id'].apply(lambda x: 'yes' if x in sha_list else 'no')  \n",
    "    data_dict['metadata_file']['paper_id_match'] = data_dict['metadata_file']['sha'].apply(lambda x: 'yes' if x in paper_id_list else 'no')\n",
    "\n",
    "    data_dict.update({'consolidated_full_text':stacked_df})\n",
    "\n",
    "    return data_dict\n"
   ]
  },
  {
   "cell_type": "markdown",
   "metadata": {},
   "source": [
    "## 2.0 - Process the Raw Data\n",
    "\n",
    "This code block will read in the 13k JSON files contained in the (4) folders making up the entire CORD-19 dataset."
   ]
  },
  {
   "cell_type": "markdown",
   "metadata": {},
   "source": [
    "## 2.1 - Run the Processing Function\n",
    "\n",
    "The following cell will execute the \"process_data()\" function on the (4) data folders included in the CORD-19 dataset.  The function will return a dictionary containing (5) seperate dataframes."
   ]
  },
  {
   "cell_type": "code",
   "execution_count": 39,
   "metadata": {},
   "outputs": [],
   "source": [
    "data_dict = process_data()"
   ]
  },
  {
   "cell_type": "markdown",
   "metadata": {},
   "source": [
    "## 2.2 - View a Sample of the Data\n",
    "\n",
    "The cell below will return the dimensions of the files processed and added to the dictionary"
   ]
  },
  {
   "cell_type": "code",
   "execution_count": 40,
   "metadata": {},
   "outputs": [
    {
     "name": "stdout",
     "output_type": "stream",
     "text": [
      "biorxiv_medrxiv_full_text with 803 rows and 11 columns was successfully added to dictionary\n",
      "pmc_custom_license_full_text with 1426 rows and 11 columns was successfully added to dictionary\n",
      "comm_use_subset_full_text with 9000 rows and 11 columns was successfully added to dictionary\n",
      "noncomm_use_subset_full_text with 1973 rows and 11 columns was successfully added to dictionary\n",
      "metadata_file with 29500 rows and 15 columns was successfully added to dictionary\n",
      "consolidated_full_text with 13202 rows and 12 columns was successfully added to dictionary\n"
     ]
    }
   ],
   "source": [
    "for key, value in data_dict.items():\n",
    "    print('{} with {} rows and {} columns was successfully added to dictionary'.format(key, value.shape[0], value.shape[1]))\n",
    "    "
   ]
  },
  {
   "cell_type": "markdown",
   "metadata": {},
   "source": [
    "The cell below will return the first row of data from the **consolidated_full_text** dataframe (which contains the stacked, full-text articles contained in the (4) primary datasets)"
   ]
  },
  {
   "cell_type": "code",
   "execution_count": 41,
   "metadata": {},
   "outputs": [
    {
     "data": {
      "text/html": [
       "<div>\n",
       "<style scoped>\n",
       "    .dataframe tbody tr th:only-of-type {\n",
       "        vertical-align: middle;\n",
       "    }\n",
       "\n",
       "    .dataframe tbody tr th {\n",
       "        vertical-align: top;\n",
       "    }\n",
       "\n",
       "    .dataframe thead th {\n",
       "        text-align: right;\n",
       "    }\n",
       "</style>\n",
       "<table border=\"1\" class=\"dataframe\">\n",
       "  <thead>\n",
       "    <tr style=\"text-align: right;\">\n",
       "      <th></th>\n",
       "      <th>paper_id</th>\n",
       "      <th>title</th>\n",
       "      <th>authors</th>\n",
       "      <th>affiliations</th>\n",
       "      <th>abstract</th>\n",
       "      <th>text</th>\n",
       "      <th>bibliography</th>\n",
       "      <th>bibliography_titles</th>\n",
       "      <th>number_of_references</th>\n",
       "      <th>bibliography_authors</th>\n",
       "      <th>cord_19_source</th>\n",
       "      <th>metadata_match</th>\n",
       "    </tr>\n",
       "  </thead>\n",
       "  <tbody>\n",
       "    <tr>\n",
       "      <th>0</th>\n",
       "      <td>f905f78b32f63c6d14a79984dfb33f1b358b8ab4</td>\n",
       "      <td>MULTIMERIZATION OF HIV-1 INTEGRASE HINGES ON C...</td>\n",
       "      <td>Meytal Galilee, Akram Alian</td>\n",
       "      <td>Meytal Galilee (Technion -Israel Institute of ...</td>\n",
       "      <td>Abstract\\n\\nNew anti-AIDS treatments must be c...</td>\n",
       "      <td>\\n\\nIn the absence of a curative treatment, th...</td>\n",
       "      <td>HIV drug resistance against strand transfer in...</td>\n",
       "      <td>HIV DRUG RESISTANCE AGAINST STRAND TRANSFER IN...</td>\n",
       "      <td>38</td>\n",
       "      <td>K ANSTETT, B BRENNER, T MESPLEDE, M A WAINBERG...</td>\n",
       "      <td>biorxiv_medrxiv_full_text</td>\n",
       "      <td>yes</td>\n",
       "    </tr>\n",
       "  </tbody>\n",
       "</table>\n",
       "</div>"
      ],
      "text/plain": [
       "                                   paper_id  \\\n",
       "0  f905f78b32f63c6d14a79984dfb33f1b358b8ab4   \n",
       "\n",
       "                                               title  \\\n",
       "0  MULTIMERIZATION OF HIV-1 INTEGRASE HINGES ON C...   \n",
       "\n",
       "                       authors  \\\n",
       "0  Meytal Galilee, Akram Alian   \n",
       "\n",
       "                                        affiliations  \\\n",
       "0  Meytal Galilee (Technion -Israel Institute of ...   \n",
       "\n",
       "                                            abstract  \\\n",
       "0  Abstract\\n\\nNew anti-AIDS treatments must be c...   \n",
       "\n",
       "                                                text  \\\n",
       "0  \\n\\nIn the absence of a curative treatment, th...   \n",
       "\n",
       "                                        bibliography  \\\n",
       "0  HIV drug resistance against strand transfer in...   \n",
       "\n",
       "                                 bibliography_titles  number_of_references  \\\n",
       "0  HIV DRUG RESISTANCE AGAINST STRAND TRANSFER IN...                    38   \n",
       "\n",
       "                                bibliography_authors  \\\n",
       "0  K ANSTETT, B BRENNER, T MESPLEDE, M A WAINBERG...   \n",
       "\n",
       "              cord_19_source metadata_match  \n",
       "0  biorxiv_medrxiv_full_text            yes  "
      ]
     },
     "execution_count": 41,
     "metadata": {},
     "output_type": "execute_result"
    }
   ],
   "source": [
    "data_dict['consolidated_full_text'].head(1)"
   ]
  },
  {
   "cell_type": "markdown",
   "metadata": {},
   "source": [
    "The cell below returns the full text from the first document found in the **consolidated_full_text** dataframe"
   ]
  },
  {
   "cell_type": "code",
   "execution_count": 42,
   "metadata": {},
   "outputs": [
    {
     "data": {
      "text/plain": [
       "['Introduction\\n\\nEighteen years ago, severe acute respiratory syndrome (SARS) broke out globally, which caused more than 8000 cases with a fatality rate of 9.6% (1). Since December 2019, a pneumonia infection with 2019-nCoV, which was now named as Novel Coronavirus Pneumonia (NCP), broke out in Wuhan, Hubei Province, China, and rapidly spread throughout China and to many other countries (2) (3) (4) . As of February 9, 2020, 2019-nCoV had transmitted to 34 provinces, regions and municipal cities across China. A total of 40,235 confirmed NCP cases with 908 deaths (2.3%) and 6,484 (16.1%) critically ill cases, and there were still 23,589 suspected cases (5) .As an emerging infectious disease, we need to quickly understand its etiological, epidemiological and clinical characteristics to take prevention and control measures. Several studies have described the epidemiological and clinical characteristics of NCP, and have demonstrated that it can transmitted between humans (4, 6) . A few studies have also estimated the basic reproduction number (R0) of NCP (6) (7) (8) (9) (10) (11) . For instance, Li et al. computed the R0 of 2.2 using daily NCP data before January 4 in Wuhan. Our study using early epidemic stage data also found reproductive number of NCP was 2.9 (11) . However, most of these studies employed daily reporting cases at very early epidemic stage or were purely based on mathematical modeling. It has been suggested that epidemic size may be seriously under-reported due to the unknown etiology and lack of diagnosis protocol at early epidemic stage (12) , which may lead to underestimation of R0. In addition, for control measures to be optimized during ongoing NCP epidemics, temporal changes in reproduction number must be tracked. However, none of previous studies have estimated time-varying instantaneous reproduction number (Rt), which is author/funder. All rights reserved. No reuse allowed without permission.The copyright holder for this preprint (which was not peer-reviewed) is the . https://doi.org/10.1101/2020.01.25.919787 doi: bioRxiv preprint 4 an important parameter for assessing whether the control and prevention measures are effective or whether additional measures are needed (13) . Moreover, excerpt for Hubei Province, most of confirmed cases reporting from other provinces were imported from Hubei Province at early epidemic stage. With increasing secondary cases in those provinces, however, it is unknown how much the Rt for secondary cases is in those Provinces. Knowing this information is very helpful to assess the epidemic trend and the effects of control measures in those provinces.As a milestone of global public health events, the transmission dynamics of SARS have been well studied (14, 15) . Comparing the transmissibility of NCP with SRAS could imply decision making on the prevention and control of NCP. Therefore, in this study, we described the epidemiological characteristics of NCP using the latest data across China, and estimated the basic and time-varying reproduction numbers which were compared with SARS. Our findings are critical to optimize prevention and control measures during the ongoing epidemic of NCP, as well as guide clinical management. author/funder. All rights reserved. No reuse allowed without permission. (17) and WHO website (18) , respectively.\\n\\nEstimating and nowcasting the daily incidence of NCP\\n\\nBecause only the daily number of reporting cases were obtained from regions out of Guangdong Province, we estimated the daily number of incidences using a generalized additive model (GAM) (Section 1.2 in Supplementary materials). First, we collected each individual onset date and reporting date in Guangdong province which was treated as a sample of all confirmed cases nationwide. Second, a GAM model was used to establish the relationship between onset date and reporting date, and obtained the lagged probability distribution of daily number of incidences for the number of reporting cases. Third, we used the lagged probability distribution author/funder. All rights reserved. No reuse allowed without permission.The copyright holder for this preprint (which was not peer-reviewed) is the . https://doi.org/10.1101/2020.01.25.919787 doi: bioRxiv preprint 6 to predict the daily number of incidences based on the daily number of reporting cases in other provinces of China, which was added up to obtain the daily incidences nationwide. In order to test the validity of this approach, we randomly divided all cases in Guangdong into two groups (group A and B). Cases in group A was used to establish a GAM model, which was then used to predict the number of incidences in group B. We then estimated the correlation between the actual incidence and the estimated incidence, and the results of cross-validation showed that the R 2 was 89.7%, and the root mean square error (RMSE) was 4.11 ( Figure S1 ).The number of occurred-but-not-yet-reported cases were further estimated during the study period, which caused by reporting delays. Reasons for such delays include the time to complete diagnosis test, logistics, and overwhelmed surveillance systems. To minimize the effects of reporting delay, we applied a Bayesian nowcasting model (Nowcasting by Bayesian Smoothing) to complement the daily total number of incidences (19) . This model is characterized by its ability to deal with the uncertainty in the delay distribution and the time evolution of epidemic curve.\\n\\nBasic reproduction number (R0)\\n\\nIn the early phase of an infectious disease outbreak, the initial reproductive rate approximated an exponential growth rate (20) . We selected a period of exponential growth in the epidemic curve to calculated R0, which was defined as the expected number of secondary cases produced by a typical primary case. Since the daily incidence data is an integer, Poisson regression was used to fit the exponential growth rate. We used a prior Gamma distribution for the generation time, with a shape parameter (mean generation time of 7.5 days) and a scale parameter (standard author/funder. All rights reserved. No reuse allowed without permission.The copyright holder for this preprint (which was not peer-reviewed) is the . https://doi.org/10.1101/2020.01.25.919787 doi: bioRxiv preprint 7 deviation of 3.4 days) from a previous study (7) . We estimated R0 of all confirmed NCP cases nationwide and in Wuhan, and R0 of SARS cases in Guangdong Province, Hong Kong and Beijing. We also estimated R0 for secondary NCP cases in Guangdong Province.\\n\\nTime-varying instantaneous reproduction number (Rt)\\n\\nIn contrast to R0, time-varying instantaneous reproduction number (Rt) represents the average number of secondary cases that would be produced by a typical primary case infected at time t if conditions remained constant after time t (13) . We estimated Rt from the time series of onset cases, with the same Gamma distribution of generation time as R0. In order to maintain the accuracy of the prediction and without hiding the underlying time trend, Rt values were estimated over a 10-day moving window. For the period of estimation, the end date was selected as the latest date of the available data, and the starting date was selected as the earliest date for which the 10-day instantaneous reproduction number estimated above could be assumed constant. We estimated Rt for all confirmed NCP cases nationwide, and in Wuhan, and for secondary NCP cases in Guangdong Province.\\n\\nStatistical analysis\\n\\nWe applied frequency and percentages (%) to describe categorical variables, and used mean±SD to describe the continuous variables. The doubling time of NCP and SARS were defined and estimated using a method proposed by Galvani et al (21) .\\n\\nSensitivity analysis\\n\\nA series of sensitivity analyses were conducted to quantify the effect of parameters changes on R0 value. We changed the shape parameter of Gamma distribution from 7.0 to 8.0 days for estimating the R0 of NCP cases, and changed the same parameter from 8.0 to 9.0 for estimating author/funder. All rights reserved. No reuse allowed without permission.The copyright holder for this preprint (which was not peer-reviewed) is the . https://doi.org/10.1101/2020.01.25.919787 doi: bioRxiv preprint 8 the R0 of SARS cases. R software (version 3.6.0) was used for data analyses, with \"NobBs\" package for building nowcast model, \"R0\" for calculating R0 and \"EpiEstim\" for estimating Rt. Two tailed P<0.05were considered statistically significant for all statistical tests.\\n\\nEthics statement\\n\\nData collection and analysis of cases were determined by the National Health Commission of the People\\'s Republic of China to be part of a continuing public health outbreak investigation and were thus considered exempt from institutional review board approval.author/funder. All rights reserved. No reuse allowed without permission.The copyright holder for this preprint (which was not peer-reviewed) is the . https://doi.org/10.1101/2020.01.25.919787 doi: bioRxiv preprint\\n\\nDescription of the outbreak\\n\\nAs of February 7, 2020, a total of 34,598 confirmed cases were identified in 34 provinces, Daily numbers of reporting cases continuously increased to the peak on February 4, 2020, and slightly decreased then after nationwide and in Wuhan. The peak of daily reporting cases was on January 31, 2020 in Guangdong Province, and then significantly decreased. The daily incidence after nowcasting showed similar trend with the reporting data. The doubling time of NCP was 2.4, 2.8, and 3.6 days nationwide, in Wuhan, and in Guangdong Province, respectively (Table 1) The copyright holder for this preprint (which was not peer-reviewed) is the . https://doi.org/10.1101/2020.01.25.919787 doi: bioRxiv preprint prior to the peak, respectively ( Table 1) .\\n\\nEstimation of basic reproduction number (R0)\\n\\nThe Table 1 ).\\n\\nEstimation of time-varying reproduction number (Rt)\\n\\nDuring the epidemic, at national level, Rt values increased from 6.9 (95%CI: 5.5-8.4) before January 9 to a peak of 8.8 (95%CI: 8.3-9.4) before January 16, and then continuously decreased to 1.59 (95%CI: 1.57-1.61) before February 6. The Rt values in Wuhan continuously decreased from 6.2 (95%CI: 4.9-7.6) by January 9 to 2.10 (95%CI: 2.07-2.14) before February 6. By contrast, Rt values for secondary NCP cases in Guangdong Province was kept at a low-level ranging from 0.8 (95%CI: 0.6-1.1) to 0.2 (95%CI: 0.2-0.3) during the epidemic (Figure 3 ).\\n\\nSensitivity analyses\\n\\nThe results of sensitivity analyses showed the R0 values of NCP and SARS were robust to the changes of GT ( Figure S3 ). For example, the R0 of NCP cases nationwide changed from 4.0 (95%CI: 3.9-4.1) using GT=7.0 to 4.9 (95%CI:4.8-5.1) using GT=8.0. author/funder. All rights reserved. No reuse allowed without permission.The copyright holder for this preprint (which was not peer-reviewed) is the . https://doi.org/10.1101/2020.01.25.919787 doi: bioRxiv preprint\\n\\nDiscussion\\n\\nThe 2019-nCoV is a novel coronavirus, which is different from SARS and other SARS-like viruses(3). However the time-varying transmission dynamics of NCP during the epidemic remain unclear(22). In this study, we estimated the R0 of NCP infected with 2019-nCoV nationwide, and found that the R0 was 4.5, which means an average of 4.5 secondary cases generated by a primary case in the early stage. An approaching R0 of 4.4 was found in Wuhan.Our estimated R0 was larger than that (R0=2.2) reported by Li et al. who employed the data in Wuhan between December 10, 2019 and January 4, 2020, the very early stage of this epidemic (7) . It was debated that the number of NCP cases might be seriously underreported in the early stage (10, 23) , since 2019-nCoV was confirmed on January 7, and the official diagnosis protocol was released by WHO until January 17 (12) . In addition, the surveillance was not widely conducted, and many infections may be missed. Read et al. estimated that only 5.1% of infections in Wuhan were identified in the early period (23). Zhao et al. estimated that the R0 of NCP was larger than 5.0 using national reported data from January 10 to January 24, 2020, under the scenario that the reporting rate was not changed during that period (12) .Although the fatality rate of NCP cases was much lower than SARS(1), we observed higher R0 and much shorter doubling time of NCP than SARS (14, 24, 25) , indicating the higher transmissibility of 2019-nCoV. These differences can be due to two reasons. First, epidemiological and clinical evidences suggest that asymptomatic or mild NCP cases during their incubation periods could effectively transmit 2019-nCoV, which was different from SARS because most SARS cases were infected by \"super spreaders\", and SARS cases in incubation period and mild cases could not infected susceptible (26) . The average incubation period of author/funder. All rights reserved. No reuse allowed without permission.The copyright holder for this preprint (which was not peer-reviewed) is the . https://doi.org/10.1101/2020.01.25.919787 doi: bioRxiv preprint NCP was 4.8 days, ranging from 1 to 14 days, and the average period from onset to isolation was 2.9 days (11) broadly conducted through various channels, which has improved the general public to understand the risk of NCP, and take voluntary actions to detect, diagnose and treat cases author/funder. All rights reserved. No reuse allowed without permission.The copyright holder for this preprint (which was not peer-reviewed) is the . https://doi.org/10.1101/2020.01.25.919787 doi: bioRxiv preprint 13 infected 2019-nCoV earlier. This can be verified by decreasing period from onset to diagnosis during the epidemic in Guangdong Province ( Figure S5 ).We also observed that the R0 was less than 1, and the Rt values continuously declined after January 23 for secondary NCP cases in Guangdong Province, which demonstrates that the implemented prevention and control measures have significantly reduced the risk of indigenous outbreak of NCP, and that the increasing NCP cases were dominated by imported cases.Meanwhile, we found that two secondary cases were infected through sharing the public elevator with cases from their neighbors, which indicates the higher risk of transmission of NCP in community. Similar cases were also reported in other regions. For example, Wang et al.reported that 57 (including 40 healthcare workers and 17 patients) out of 138 hospitalized patients were presumed to have been infected with 2019-nCoV in a Wuhan hospital (29) .Therefore, more efforts are needed to prevent the transmission in communities and other public places.This study has several strengths. First, this is the first study, to date, to assess the time-varying transmission dynamics of NCP based on incidence data nationwide. We also estimated instantaneous reproduction number for secondary cases in Guangdong Province. Secondly, we compared the transmission dynamics of NCP with SARS using the same methods. Third, we initially assessed the effects of control measures previously taken by the governments. These findings could provide important information for optimizing control measures.Our study has several limitations. First, the incidence date of confirmed cases in provinces except for Guangdong Province were estimated by a GAM modeling, which may lead to misclassification bias. However, the cross-validation test indicated a good performance of our author/funder. All rights reserved. No reuse allowed without permission.The copyright holder for this preprint (which was not peer-reviewed) is the . https://doi.org/10.1101/2020.01.25.919787 doi: bioRxiv preprint 14 GAM modeling. In addition, the R0 (3.8, 95%CI: 3.4-4.2) estimated for imported cases in Guangdong Province, as a sample of the total confirmed cases nationwide, was comparable with the R0 estimated nationwide, indicating that our results are robust. Second, we are still in the early stage of this outbreak, and there is much uncertainty in epidemiological parameters that affects transmissibility of NCP. Sequential studies are urgently needed to fill-in these knowledge gaps.In summary, NCP may have a higher pandemic risk than SARS in 2003, and the efforts of containing the outbreak are taking into effect. Our findings indicate that rigorous control and prevention measures taken by Chinese governments on early detection, diagnosis and treatment of NCP cases are still needed to uphold until the time-varying reproduction number below one. author/funder. All rights reserved. No reuse allowed without permission.The copyright holder for this preprint (which was not peer-reviewed) is the . https://doi.org/10.1101/2020.01.25.919787 doi: bioRxiv preprint\\n\\nData sharing\\n\\nThe data that support the findings of this study are available from the corresponding author on reasonable request. Participant data without names and identifiers will be made available after approval from the corresponding author. After publication of study findings, the data will be available for others to request. The research team will provide an email address for communication once the data are approved to be shared with others. The proposal with detailed description of study objectives and statistical analysis plan will be needed for evaluation of the reasonability to request for our data. The corresponding author will make a decision based on these materials. Additional materials may also be required during the process.author/funder. All rights reserved. No reuse allowed without permission.The copyright holder for this preprint (which was not peer-reviewed) is the . https://doi.org/10.1101/2020.01.25.919787 doi: bioRxiv preprint *: The R value was estimated in secondary cases in Guangdong Province.author/funder. All rights reserved. No reuse allowed without permission.The copyright holder for this preprint (which was not peer-reviewed) is the . https://doi.org/10.1101/2020.01.25.919787 doi: bioRxiv preprint 22 Figure 1 . Distribution of NCP cases worldwide and in China, as of February 7, 2020Panel A: The spatial distribution of NCP cases worldwide.Panel B: The spatial distribution of NCP cases in China. author/funder. All rights reserved. No reuse allowed without permission.The copyright holder for this preprint (which was not peer-reviewed) is the . https://doi.org/10.1101/2020.01.25.919787 doi: bioRxiv preprint author/funder. All rights reserved. No reuse allowed without permission.The copyright holder for this preprint (which was not peer-reviewed) is the . https://doi.org/10.1101/2020.01.25.919787 doi: bioRxiv preprint\\n\\n',\n",
       " '\\n\\nI nfectious diseases have been an ever-present threat to mankind. From the biblical plagues and the Plague of Athens in ancient times, to the Black Death of the Middle Ages, the 1918 \"Spanish Flu\" pandemic, and more recently, the HIV/AIDS pandemic, infectious diseases have continued to emerge and reemerge in a manner that defies accurate predictions (1) (2) (3) .The past 10 years (1994) (1995) (1996) (1997) (1998) (1999) (2000) (2001) (2002) (2003) (2004) have been no exception, as many new and reemerging microbial threats have continued to challenge the public health and infectious disease research communities worldwide. Since 1994, when Emerging Infectious Diseases made its publication debut, significant strides in the global fight against the HIV/AIDS pandemic have been made. The infectious disease community has confronted several other newly emerging pathogens, such as the severe acute respiratory syndrome-associated coronavirus (SARS-CoV), henipaviruses (Hendra and Nipah), and, most recently, avian influenza viruses that have caused illness and deaths in humans with the threat of evolution into a pandemic (1) (2) (3) . In addition, historically established infectious diseases, such as West Nile fever, human monkeypox, dengue, tuberculosis, and malaria have reemerged or resurged, sometimes in populations that previously had been relatively exempt from such affronts. Over the past decade, strains of common microbes such as Staphylococcus aureus and Mycobacterium tuberculosis have continued to develop resistance to the drugs that once were effective against them (1) (2) (3) (4) . Such antimicrobial-resistant microorganisms, which defy conventional therapies and pose a threat to public health, underscore the need for a robust pipeline of new antimicrobial agents based on innovative therapeutic strategies, new vaccines, and other preventive measures (3, 4) .Perhaps most disturbing, the United States has recently experienced a deliberately spread infectious disease in the form of 22 anthrax infections, including 5 anthrax-related deaths resulting from bioterrorism in 2001 (5) . These cases were accompanied by widespread psychological sequelae and societal and economic disruptions.These emerging and reemerging infectious diseases are superimposed on a substantial baseline of established infectious diseases. Although annual deaths and lost years of healthy life from infectious diseases have decreased over the past decade, the worldwide impact from infectious diseases remains substantial. Overall, infectious diseases remain the third leading cause of death in the UnitedStates each year and the second leading cause of death worldwide (6) . As shown in Figure 1 , of the estimated 57 million deaths that occur throughout the world each year, ≈15 million, >25%, are directly caused by infectious diseases. Millions more deaths are due to secondary effects of infections (6) .Infectious diseases also lead to compromised health and disability, accounting for nearly 30% of all disabilityadjusted life years (DALYs) worldwide (1 disabilityadjusted life year is 1 lost year of healthy life) (6) . Infectious diseases that contribute to the nearly 1.5 billion total DALYs each year are categorized in Figure 2 .In the United States, the Centers for Disease Control and Prevention has devised strategies to prevent, monitor, and contain disease outbreaks. Within the National Institutes of Health, the National Institute of Allergy and Infectious Diseases (NIAID) is the lead agency for infectious disease research.Over the past decade, the NIAID budget has quadrupled; spending on emerging infectious diseases has increased from <$50 million in 1994 to >$1.7 billion projected for 2005, a boost due in large part to increases in funding for biodefense research (Figure 3 ). NIAID-supported intramural and extramural investigators have contributed substantially to the global effort to identify and characterize infectious agents, decipher the underlying pathways by which they cause disease, and develop preventive measures and treatments for many of the world\\'s most dangerous pathogens. This review briefly highlights some of the research strides made by NIAID-supported investigators during the past decade in preventing and combating emerging and reemerging infectious diseases threats.\\n\\nHIV/AIDS\\n\\nHIV/AIDS has resulted in the death of >20 million persons throughout the world and is the leading cause of death among persons 15-59 years of age. Approximately 40 million persons are estimated to be living with HIV infection (7) . In the United States, an estimated 1 million persons are infected with HIV, and 40,000 new infections occur each year. Since its recognition in 1981, the disease has killed more than half a million people in the United States (8) .Despite these grim statistics, reason for hope exists. Basic research has yielded major insights into the pathogenic mechanisms of HIV disease. This knowledge paved the way for the development of >20 antiretroviral medications approved by the Food and Drug Administration (FDA) that target HIV, as well as novel strategies for prevention and vaccine development (9) .With the use of combinations of drugs that target different proteins involved in HIV pathogenesis (a treatment strategy known as highly active antiretroviral therapy [HAART]), rates of death and illness in the United States and other industrialized countries have been dramatically reduced (7, 8) (Figure 4 ). Although the death rate due to HIV/AIDS in Europe and North America has fallen by 80% since HAART was introduced, relatively few people in poor countries have reaped these benefits. New initiatives such as the Global Fund to Fight AIDS, Tuberculosis, and Malaria and the President\\'s Emergency Plan for AIDS Relief promise to greatly reduce the disparity between rich and poor countries with regard to access to HIV treatment, care, and prevention services (7) .The greatest challenge in HIV/AIDS research remains developing a vaccine that can either prevent the transmission of the virus or, failing that, halt progression to AIDS. Since 1987, NIAID has funded >70 clinical trials evaluating >50 different HIV vaccine candidates. Unfortunately, the first large-scale phase 3 trial of an HIV vaccine reported in 2003 had disappointing results (10) . Many different vaccine strategies, including viral and bacterial vectors, DNA vaccines, viruslike particle vaccines, and peptide vaccines are being investigated, and ≈15 clinical trials in humans are under way. The effects of various adjuvants and different routes of administration also are being tested.HIV vaccine developers face formidable scientific obstacles, including the virus\\'s genetic diversity and the lack of a clear understanding of the correlates of protective immunity in HIV infection (9) . A critical and so far elusive milestone is the discovery of a stable and immunogenic conformational epitope of the HIV envelope that would elicit broadly reactive neutralizing antibodies against primary isolates of HIV (9) . To overcome these challenges, collaborations involving government, academia, industry, and philanthropies and new cross-sector partnerships such as the Global HIV Vaccine Enterprise, a virtual consortium of independent organizations, are being established to advance HIV vaccine research and foster greater collaboration among HIV vaccine researchers worldwide (11) .\\n\\nMalaria\\n\\nThe social, economic, and human toll exacted by malaria globally is widespread and profound. Each year, acute malaria occurs in >300 million people and results in >1 million deaths worldwide. Most of these deaths occur in young children who live in sub-Saharan Africa (3, 6) .In humans, the disease is caused by one of 4 species of Plasmodium, a single-cell parasite transmitted by anopheline mosquitoes. In 2002, the complete genomic sequence of Plasmodium falciparum as well as that of the mosquito vector Anopheles gambiae were completed as the result of a multinational effort (12, 13) . With the genomic sequences of the parasite and its human and mosquito hosts now available, researchers have powerful tools to further characterize the genes and proteins involved in the life cycle of the parasite, and they are using this information to design effective drugs and vaccines.Drug-resistant Plasmodium strains are widespread, as are insecticide-resistant strains of the mosquitoes that carry the parasites. Mutations in both parasites and mosquitoes that confer drug and insecticide resistance have been identified. For example, genetic analysis and molecular epidemiology studies of P. falciparum have shown that resistance to chloroquine and other antimalarials is caused by a mutation in a single gene, called pfcrt (14, 15) . This information is being used to track the spread of drugresistant strains of the parasite and identify new drug targets (16) . Researchers also are exploiting the new genomic information to create genetically altered mosquitoes that resist parasite infection and to develop new compounds that overcome or avoid resistance to existing pesticides (17) .Developing an effective antimalarial vaccine has been a challenge; however, an international research team recently developed a vaccine that shows promise in preventing malaria among children in Mozambique. The vaccine pre-vented infection and severe disease in a substantial percentage of children tested, a breakthrough with the potential of saving millions of lives (18) . Specifically, vaccine efficacy for the first clinical episodes was 29.9% (95% confidence interval [CI] 11.0-44.8, p = 0.004). Vaccine efficacy for severe malaria was 57.7% (95% CI 16.2-80.6, p = 0.019) (18) . In addition, at least 35 other malaria vaccine candidates have undergone phase 1 clinical trials in humans, and 13 have moved into more advanced clinical development (19) . Preclinical development of more than a dozen other candidates is being supported (19) .\\n\\nTuberculosis\\n\\nAnother ancient microbial scourge that has reemerged in recent years is tuberculosis (TB), caused by infection with the bacterium Mycobacterium tuberculosis. This infection is estimated to be prevalent in one third of the world\\'s population. From this reservoir, 8 million new cases of TB develop worldwide each year that carry a death toll of >2 million (3, 6) . TB is especially prevalent among persons infected with HIV. The only currently available TB vaccine, M. bovis bacillus Calmette-Guérin (BCG), offers some protection, but its effect diminishes with time (20). TB drug treatment is effective, but adherence to lengthy therapeutic regimens is difficult to maintain, and multidrug-resistant TB is on the rise in many countries (3, 4) .Researchers are applying state-of-the-art genomic and postgenomic techniques to identify key molecular pathways that could be exploited to develop improved TB interventions and vaccines (21, 22 now entering the drug pipeline (25) . Derivatives of known anti-TB drugs, such as thiolactomycin and ethambutol, are currently being screened for activity against M. tuberculosis. Preclinical development of a highly promising candidate, SQ109 is nearing completion.\\n\\nInfluenza\\n\\nEach year, influenza develops in up to 20% of all Americans, and >200,000 are hospitalized with the disease. Although influenza is commonplace and generally self-limited, an estimated 36,000 Americans die each year from complications of the disease (26) . Worldwide, severe influenza infections develop in 3-5 million people annually, and 250,000-500,000 deaths occur (27) .Outbreaks of avian influenza recently have drawn attention worldwide, particularly in Southeast Asia, where at least 55 persons have been infected and 42 have died since January 2004. The current strain of H5N1 avian influenza is highly pathogenic; it has killed millions of chickens and other birds. Although the virus can cross species to infect humans, few suspected cases of humanto-human transmission have been reported (27) . However, the virus could acquire characteristics that allow it to be readily transmitted among humans, which could cause a worldwide influenza pandemic, with the potential for killing millions of people. In 1918, a pandemic of the \"Spanish Flu\" killed 20-50 million people worldwide (26, 27) .Recently, the NIH Influenza Genomics Project was initiated; it will conduct rapid sequencing of the complete genomes of the several thousand known avian and human influenza viruses as well as those that emerge in the future. Approximately 60 genomes are expected to be sequenced each month. This project should also illuminate the molecular basis of how new strains of influenza virus emerge and provide information on characteristics that contribute to increased virulence. Many researchers believe that the H5N1 virus shows the greatest potential for evolving into the next human pandemic strain. Avian H9N2 viruses also have infected humans and have the potential to cause a pandemic. To prepare for this possibility, the development of vaccines to prevent infection with H5N1 and H9N2 viral strains is being supported (28). Researchers also are working to develop a live-attenuated vaccine candidate directed against each of the 15 hemagglutinin proteins that have been isolated, an effort that may speed the development of a vaccine against a potential pandemic strain.Using reverse genetics, researchers developed a genetically engineered vaccine candidate (called a reference virus) against H5N1 in a matter of weeks, demonstrating the power of this technology (29) . The new H5N1 candidate was tested in animals to confirm that it was no longer highly pathogenic (29) , and vaccine manufacturers are using the reference virus to develop inactivated vaccines that will be evaluated in phase 1 and 2 clinical trials. Reverse genetics also has been used to identify a specific genetic mutation in a H5N1 viral gene, called PB2, which makes the virus especially lethal. This discovery may be useful in designing antiviral drugs and vaccine candidates (30) .Experiments also are being conducted in which genes isolated from the 1918 influenza strain are cloned into avirulent influenza strains. Researchers recently showed that the hemagglutinin gene from the 1918 virus conferred a high degree of pathogenicity to avirulent influenza strains when introduced into mice (31). These recombinant viruses and others are being evaluated in various animal models, including nonhuman primates, to further determine how genes of the 1918 virus contributed to its ability to spread so rapidly and cause so many deaths, and to understand the molecular basis for its unprecedented virulence. Previous research (32) established the foundation for developing a live-attenuated nasal flu vaccine that was approved by FDA in 2003 for use in healthy adults and children 5-49 years of age (33) .\\n\\nWest Nile Virus\\n\\nWest Nile virus (WNV), long endemic in Africa, West Asia, Europe, and the Middle East, represents a reemerging disease that only recently arrived in the United States. The virus first appeared in the New York City area in 1999, where WNV-related disease was reported in 62 persons. It has continued to spread throughout the United States in subsequent summers, infecting ever larger populations, particularly in 2003 (34) . Research has led to several promising vaccine candidates against WNV (35) . One of these, based on a licensed yellow fever vaccine virus that contains 2 WNV genes, has been tested in nonhuman primates; it is currently being evaluated in human clinical trials. A second vaccine developed at NIH uses an attenuated dengue virus into which WNV genes have been inserted. This vaccine protects monkeys and horses against WNV infection, and a clinical trial is now underway. Subunit and DNA vaccines against WNV are also in various stages of development and testing. Several innovative therapies also are being tested to treat persons already infected with WNV. In a clinical trial at >60 sites across the United States and Canada, the protective effect of an immunoglobulin product is being tested in hospitalized patients who are at high risk for or who have WNV encephalitis (36) . Technology also has been developed to screen large numbers of chemical compounds for antiviral activity. As of February 28, 2005, 1,500 compounds had been screened in vitro, and 2%-3% were shown to have antiviral activity against WNV. These compounds are undergoing further evaluation in hamster and mouse models of disease. Partnerships with small biotechnology companies have been formed to develop more sensitive and rapid tests for detecting WNV infections. Other studies are ongoing to evaluate the roles of various mosquito vectors and animal reservoirs in virus transmission, to test novel mosquito control methods, and to limit the impact of insecticide resistance on mosquito control (37) .\\n\\nSARS\\n\\nThe emergence of SARS in Asia in late 2002, and the speed with which it was characterized and contained, underscores the importance of cooperation between researchers and public health officials (38) . NIAID is focusing its resources on developing diagnostics, vaccines, and novel antiviral compounds to combat SARS-CoV. Basic research on the pathogenesis of the disease to identify appropriate targets for therapeutics and vaccines, as well as clinical studies to test new therapies, is also being supported. Among many projects that have received support are the development of a \"SARS chip,\" a DNA microarray to rapidly identify SARS sequence variants, and a SARS diagnostic test based on polymerase chain reaction technology (38) .Researchers have developed 2 candidate vaccines, based on the SARS-CoV spike protein, that protect mice against SARS (39, 40) . Another promising vaccine protects against infection in monkeys when delivered intranasally (41) . Passive immunization as a treatment for SARS patients is also being investigated. Both mouse and human antibodies against SARS can prevent infection when introduced into uninfected mice (42, 43) , and an international collaboration has developed a rapid method of producing human anti-SARS antibodies (43) . In 2004, in vitro screening of >20,000 chemicals identified ≈1,500 compounds with activity against SARS-CoV, at least 1 of which has been selected by industry as a candidate for further clinical development (38) .\\n\\nPotential Bioterror Agents\\n\\nThe September 11, 2001 , attacks on the World Trade Center and Pentagon, and the subsequent anthrax attacks that infected 22 people and killed 5, propelled the U.S. government to expand its biodefense research program (44) . These studies are based on 3 approaches: basic research aimed at understanding structure, biology, and mechanisms by which potential bioweapons cause disease; studies to elucidate how the human immune system responds to these dangerous pathogens; and development of the technology to translate these basic studies into safe and effective countermeasures to detect, prevent, and treat diseases caused by such pathogens (44) .At least 60 major NIAID initiatives involving intramural and extramural scientists and industrial partners were funded in fiscal years 2002-2004. Among them are funding for 8 Regional Centers of Excellence for Biodefense and Emerging Infectious Diseases Research and construction of 2 National Biocontainment Laboratories and 9 Regional Biocontainment Laboratories. These facilities will provide the secure space needed to carry out the nation\\'s expanded biodefense research program (44) .The genomes of all biological agents considered to pose the most severe threats have been sequenced by researchers (45). In addition, programs have been expanded and contracts awarded to screen new chemical compounds as possible treatments for bioterror attacks. New animal models have been developed to test promising drugs, and repositories have been established to catalog reagents and specimens (44) .In addition, research to understand the body\\'s protective mechanisms against pathogens is being pursued. The Cooperative Centers for Translational Research on Human Immunology and Biodefense will focus on studies of the human immune response to potential agents of bioterror, while other programs are focused on the innate immune system and the development of ways to boost innate immunity (44) .NIAID also has been very active in vaccine development as a biodefense countermeasure (44) . The Institute has supported the development of a next-generation anthrax vaccine, known as recombinant protective antigen (rPA); it is undergoing clinical trials, and contracts for the Strategic National Stockpile to acquire it have recently been awarded. Several new smallpox vaccines also are being tested for safety and efficacy. Preliminary studies in mice and monkeys show that one of these, modified accinia Ankara (MVA), protects against poxvirus infections (46, 47) . Clinical trials of the MVA vaccine are ongoing at NIAID Vaccine Research Center and elsewhere (44) . A clinical trial of a novel DNA vaccine against Ebola virus also is under way; human testing of an adenovirusvectored Ebola vaccine is planned for 2005 (48) . Vaccine manufacturing and clinical trials also are planned for a new, recombinant vaccine against plague that is highly effective in mice and nonhuman primates (49) .\\n\\nChallenges for the Future\\n\\nScientists-government and academic, together with their industrial partners and international collaboratorshave made great strides over the past 10 years in understanding many of the pathogenic mechanisms of emerging and reemerging infectious diseases. Many of these discoveries have been translated into novel diagnostics, antiviral and antimicrobial compounds, and vaccines, often with extraordinary speed.However many challenges remain. Paramount among these is developing a safe and effective HIV vaccine. The evolution of pathogens with resistance to antibacterial and antiviral agents continues to challenge us to better understand the mechanisms of drug resistance and to devise new ways to circumvent the problem. These efforts will pave the way for developing countermeasures against deliberately engineered microbes.If history is our guide, we can assume that the battle between the intellect and will of the human species and the extraordinary adaptability of microbes will be never-ending. To successfully fight our microbial foes, we must continue to vigorously pursue research on the basic mechanisms that underlie microbial pathogenesis and develop novel strategies to outwit theses ingenious opponents. The past 10 years have been challenging but no more so than will be the future.\\n\\n',\n",
       " \"Result\\n\\nGeneration of rNDVs expressing S1, S2 or S protein of IBV. The expression cassettes containing the codon optimized S1, S2, S and non-codon optimized S genes of IBV were cloned into the cDNA encoding the complete antigenome of NDV strain LaSota, using the PmeI site, between P and M genes (Fig. 1) . The correct sequences of genes cloned into full length cDNA of NDV were confirmed by nucleotide sequence analysis. Infectious recombinant NDVs containing S1, S2 and S genes of IBV were recovered from all cDNAs. The sequences of S1, S2 and S genes present in the rNDVs were confirmed by RT-PCR. To evaluate genetic stability of rNDV expressing codon optimized S protein, the viruses were passaged five times in 9-day-old embryonated specific pathogen free (SPF) chicken eggs. The nucleotide sequence analysis of the S gene showed that the inserted ORF were maintained without any adventitious mutations.Evaluation of the expression of the S1, S2 and S proteins of IBV. The expression of codon optimized S2, and S proteins and non-codon optimized S protein of IBV strain Mass-41 by rNDV constructs was detected by Western blot analysis in DF-1 cells using a chicken polyclonal anti IBV serum ( Fig. 2A -upper panel and B). As the expression of non-codon optimized S was not detected clearly in the first attempt ( Fig. 2A) , we detected it in another attempt (Fig. 2B) . The expression level of codon optimized S protein of IBV was significantly higher than that of the non-codon optimized S protein of IBV. For the codon optimized S protein of IBV expressed from rNDV ( Fig probably represent uncleaved S protein (S0) or polymeric forms of S protein. The ~95 kD band represents S2 or S1 subunit of cleaved S protein of IBV. In the case of rNDV/IBV-S2 strain ( Fig. 2A-lane 1) , there are two bands (~170-220 kDa) on top, representing polymeric folded forms of S2 protein, a ~105 kDa band and a ~95 kDa band representing S2 subunit. The expression of S2 protein from a transcription cassette in which the signal peptide sequences of S protein was not fused with S2 gene was not detected (data not shown). Lane 4 of Fig. 2A and lane 3 of Fig. 2B represent rNDV as control. Lane 5 of panel A represents non-infected DF-1 cells. These results showed that codon optimized S and S2 proteins of IBV were expressed efficiently. The non-codon optimized S protein was also expressed from rNDV, but not efficiently and not consistently. A monoclonal anti-NDV/HN antibody was used to detect a ~70 kDa of HN protein of NDV in lysates, confirming similar level of NDV protein in each lane ( Fig. 2A-lower panel) . We further evaluated incorporation of IBV S and S2 proteins into NDV virions. The rNDVs expressing codon optimized S and S2 proteins and rNDV expressing non-codon optimized S protein were inoculated into eggs, 3 days after inoculation, viral particles in infected allantoic fluid were partially purified and analyzed by Western blot (Fig. 2C-upper panel) . Two bands (~170-220 kDa) on top, representing S protein, a ~95 kDa band and a ~60 kDa band representing S2 or S1 subunit of cleaved S protein, were detected in purified particles of rNDV expressing codon optimized S protein by Western blot analysis (Fig. 2C-lane 2) . The lane 4 of Fig. 2C shows two bands (~170-220 kDa) on top, representing polymeric folded of S2 protein, a ~105 kDa band and a ~95 kDa band representing S2 subunit. The lane 1 of Fig. 2C represents purified rNDV control and lane 3 of Fig. 2C shows purified rNDV expressing non-codon optimized S protein. These results suggested that the codon optimized S and S2 proteins of IBV expressed by rNDVs were incorporated into rNDV particles. A monoclonal anti-NDV/HN antibody was used to detect a ~70 kDa of HN protein of NDV in partially purified virions, confirming similar level of NDV protein in each lane (Fig. 2C-lower panel) . The expression of codon optimized S1 protein expressed from four individual rNDV constructs were detected by Western blot analysis in lysates (Fig. 3A) and supernatant (Fig. 3B ) of infected DF-1 cells, using a chicken polyclonal anti IBV serum. The lanes 1-5 represent infected DF-1 cell lysates of rNDV, rNDV/S1, rNDV/ S1 + IBV-S-TM&CT, rNDV/S1(cs−) + NDV-F-TM&CT and rNDV/S1(cs+) + NDV-F-TM&CT, respectively. A ~130 kDa band representing expression of S1 by rNDV/S1 + IBV-S-TM&CT, rNDV/S1(cs−) + NDV-F-TM&CT, and rNDV/S1(cs+) + NDV-F-TM&CT in lysate of DF-1 cells (Fig. 3A -lanes 3-5) and rNDV/S1 in infected DF-1 cell supernatant (Fig. 3B-lane 2) was observed. Our attempts to detect the incorporation of the S1 protein into NDV envelope were not successful, due to the difficulties in the detection of very low level of S1 protein by Western blot analysis (data not shown). Our results showed that the S1 protein was expressed at very low level by all the rNDVs based on Western blot analysis. Only the unmodified S1 protein was detected in the cell culture supernatant.Growth characteristics of rNDV constructs. The recovered rNDVs were passaged in 9-day-old embryonated SPF chicken eggs. All the viruses were able to replicate well in eggs (≥2 8 HAU/ml). rNDV/S1, rNDV/ S1(cs+) + NDV-F-TM&CT, rNDV/S2, rNDV/codon optimized-S and rNDV were evaluated in the presence of exogenous protease in DF-1 cells (Fig. 4) . Compared to the parental virus, rNDV expressing codon optimized S protein of IBV grew slightly less efficiently. The maximum titer of parental virus reached 10 7.5 TCID 50 /ml at 40 hours post infection, whereas the maximum titer of rNDV expressing codon optimized S gene of IBV reached 10 7.2 TCID 50 /ml at 40 hours post infection. These results indicated that presence of S, S1 and S2 genes did not significantly affect the growth characteristics of rNDV.The protective efficacy of rNDVs expressing S1, S2 or S protein of IBV in chickens against a virulent IBV challenge. IBV protection experiment 1. To evaluate the protective efficacy of rNDVs expressing S1, S2 or S protein of IBV, SPF chicks were immunized at 1-day-old age with each virus via oculanasal (ON) route. At three weeks post-immunization, chickens were challenged with virulent IBV strain Mass-41. The severity scores of IBV clinical signs were recorded twice a day for 10 days post-challenge (Fig. 5A ). Compared to chickens immunized with parental rNDV and chickens inoculated with PBS, chickens immunized with rNDVs expressing Figure 1 . Schematic diagram of recombinant NDV constructs containing IBV genes. Seven transcription cassettes including; 1-4) Four versions of codon optimized S1 subunit of S gene of IBV strain Mass-41; namely, (a) S1 subunit of S gene (1614 nt), (b) S1 subunit of S gene (1611 nt) fused with N-terminus of transmembrane and cytoplasmic tail of S gene (255 nt), (c) S1 subunit of S gene (1611 nt) containing five putative cleavage site residues of S gene fused with N-terminus of transmembrane and cytoplasmic tail of F gene of NDV (171 nt). In this construct, five C-terminus putative cleavage site residues of S1 gene (RRFRR) plus the first serine (S) residue of N-terminus of transmembrane and cytoplasmic tail of F gene of NDV provides six putative cleavage site residues of S protein of IBV strain Mass-41 (RRFRR/S). (d) S1 gene (1593 nt) without cleavage site residues of S gene fused with N-terminus of transmembrane and cytoplasmic tail of F gene of NDV (171 nt), 5) the N-terminus of codon optimized S2 gene of IBV strain Mass-41 (1878 nt) fused with C-terminus of signal peptide sequence of S gene (69 nt), 6) the codon-optimized S gene (3489 nt) and 7) the non-codon optimized S gene of IBV strain Mass-41 (3489 nt) were flanked into individual plasmids containing cDNA of LaSota between P and M genes using PmeI site. Each transcription cassette contains the ORF of foreign gene with the addition of PmeI restriction enzyme site sequence, 15 nt of NDV UTR, GE signal of NDV, one T nucleotide as intergenic sequence, GS signal of NDV, nucleotides for maintaining the rule of six and Kozak sequence.SCientifiC REPoRTS | (2018) 8:11951 | DOI:10.1038/s41598-018-30356-2 codon optimized S, S1 or S2 protein of IBV showed significantly less severe of clinical signs (P < 0.05). Among groups of chickens immunized with rNDVs expressing codon optimized S1, S2 or S protein, the group immunized with rNDV expressing codon optimized S protein showed the least severity of clinical signs (P < 0.05). In order to evaluate the efficacy of rNDVs expressing S1, S2 or S protein of IBV in preventing shedding of virulent IBV challenge virus in immunized chickens, on day five post-challenge, tracheal swab samples were collected from chickens of each group and were evaluated for the viral load by RT-qPCR. Our results did not show significant difference in virus shedding among groups of immunized chickens at day five post challenge (Fig. 5B) . However, the results of the inoculation of the tracheal swab samples into 10-day-old embrynated chicken eggs showed that 14 out of 15 (93.3%) chickens vaccinated with rNDV expressing codon optimized S protein of IBV and 0 out of 5 (0%) of non-infected chickens were shedding virus in trachea, respectively, whereas 15 out of 15 (100%) of chickens of all other groups were shedding virus in the trachea (data not shown).IBV protection experiment 2. To evaluate the protective efficacy of rNDV expressing codon optimized S protein of IBV in adult chickens, SPF chickens were immunized at 4-week-old age. The protective efficacy of rNDV Two bands (~170-220 kDa) on top represent uncleaved S protein (S0) or polymeric forms of S2 or S1 protein (C-lane 2). The ~95 kDa and the ~60 kDa band represent S2 or S1 subunit of cleaved S protein (C-lane 2). The two bands (~170-220 kDa) on top represent polymeric forms of S2 protein, the ~105 kDa band and the ~95 kDa expressing codon optimized S gene of IBV was determined by challenging the immunized chickens with the World Organization for Animal Health (OIE) recommended dose (10 3.1 EID 50 ) of virulent IBV strain Mass-41 at 3 week post-immunization 1 . The severity scores of IBV clinical signs were recorded twice a day for 10 days post-challenge (Fig. 6A ). Compared to chickens inoculated with PBS, chickens immunized with rNDV expressing codon optimized S protein of IBV and chickens immunized with a commercial live attenuated IBV vaccine showed significantly less severe clinical signs (P < 0.05). In order to evaluate the efficacy of rNDV expressing S protein of IBV in preventing shedding of virulent IBV in immunized chickens, at day 5 following challenge with a Figure 3 . Western blot analysis of rNDV expressing S1 protein of IBV. The expression of codon optimized S1 protein of IBV expressed from four individual rNDVs expressing four different expression cassettes of S1 protein were detected using Western blot in cell lysates (A) and cell supernatant (B) of infected DF-1 cells infected with rNDVs, using a chicken polyclonal anti IBV serum. The lanes 1-5 represent cell lysates of rNDV, rNDV/S1, rNDV/S1 + IBV-S-TM&CT, rNDV/S1(cs−)+NDV-F-TM&CT, rNDV/S1(cs+) + NDV-F-TM&CT, respectively. A ~130 kD band represent expression of S1 protein by rNDV/S1 + IBV-S-TM&CT, rNDV/ S1(cs−) + NDV-F-TM&CT and rNDV/S1(cs+) + NDV-F-TM&CT in infected DF-1 cell lysate (A lanes [3] [4] [5] and rNDV/S1 in infected DF-1 cell supernatant (B-lane 2). The full-length gel is presented in Supplementary Figure S1 . The severity scores of IBV clinical signs include; ocular discharge, nasal discharge and difficulty in breathing (0 = normal, 1 = presence of mild ocular discharge, mild nasal discharge and or sneezing 2 = presence of heavy ocular discharge and or heavy nasal discharge with mild tracheal rales and mouth breathing and or coughing 3 = heavy ocular discharge and heavy nasal discharge with sever tracheal rales and mouth breathing, gasping, dyspnea and or severe respiratory distress) were recorded twice a day for each chicken for 10 days after challenge. The severity scores represent as average scores of clinical signs measured for each chicken over 10 days. (B) Relative viral load determined by RT-qPCR in tracheal swab samples at day five following virulent IBV challenge. The relative viral load expressed as mean reciprocal ± SEM log 10. whereas chickens inoculated with PBS showed high levels of viral load in the trachea (P < 0.05). However, compared to chickens immunized with a commercial IBV vaccine, chickens immunized with rNDV expressing codon optimized S showed slightly less viral load in the trachea (Fig. 6B ).IBV protection experiment 3. To evaluate the protective efficacy of rNDV expressing codon optimized S protein of IBV in adult chickens against a higher dose of virulent IBV challenge, SPF chickens were immunized at 4-week-old age. The protective efficacy of rNDV expressing codon optimized S gene of IBV was determined by challenging the immunized chickens with 10 4.7 EID 50 virulent IBV strain Mass-41 at 3 week post-immunization. The severity scores of IBV clinical signs were recorded twice a day for 8 days post-challenge (Fig. 7A ). Compared to chickens immunized with rNDV and chickens inoculated with PBS, chickens immunized with rNDV expressing codon optimized S protein of IBV and chickens immunized with a commercial live attenuated IBV vaccine showed significantly less severe clinical signs (P < 0.05). In order to evaluate the efficacy of rNDV expressing S protein of IBV in preventing shedding of virulent IBV in immunized chickens, at days 4 following challenge with virulent IBV, the tracheal swab samples collected from five chickens of each group were analyzed for the IBV specific lesions in chicken embryo. Our results showed that 2 out of 5 (40%) chickens vaccinated with rNDV expressing codon optimized S protein of IBV and 1 out of 5 (20%) chickens vaccinated with a commercial IBV vaccine were shedding virus in trachea, respectively, whereas 5 out of 5 (100%) of chickens immunized with parental rNDV and 5 out of 5 (100%) of chickens inoculated with PBS were shedding virus in the trachea (Fig. 7C) . The tracheal swab samples collected from five chickens of each group were also analyzed for the viral load by RT-qPCR. Our results showed that chickens vaccinated with rNDV expressing codon optimized S protein of IBV showed low levels of viral load in the trachea and chickens vaccinated with a commercial IBV vaccine showed very low levels of viral load in the trachea, whereas chickens inoculated with PBS and rNDV showed high levels of viral load in the trachea. Compared to chickens immunized with rNDV expressing codon optimized S protein, chickens immunized with a commercial IBV vaccine showed less viral load in the trachea (P < 0.05) (Fig. 7B ).IBV protection experiment 4. To evaluate the effect of the route of inoculation of virulent IB challenge virus on the outcomes of the protective efficacy of rNDV expressing codon optimized S protein of IBV, SPF chicks were immunized at 1-day-old age. The protective efficacy of rNDV expressing codon optimized S gene of IBV was determined by challenging the immunized chickens with 10 4 EID 50 virulent IBV strain Mass-41 by the intraocular route at 3 week post-immunization. This route of challenge has been specified in USDA-CFR-9 for IBV 33 . The severity scores of IBV clinical signs were recorded twice a day for 10 days post-challenge. Compared to chickens immunized with rNDV and unvaccinated chickens, chickens immunized with rNDV expressing codon optimized S protein of IBV and chickens immunized with a commercial live attenuated IBV vaccine showed significantly less severe clinical signs. However, compared to chickens immunized with commercial IBV vaccine, chickens immunized with rNDV expressing S protein showed less severe clinical signs (P < 0.05) (Fig. 8A) . In order to evaluate the efficacy of rNDV expressing S protein of IBV in preventing shedding of virulent IBV in immunized chickens, at days 5 following challenge with virulent IBV, the tracheal swab samples collected from all chickens of each group were analyzed for the IBV specific lesions in chicken embryos. Our results showed that 2 out of 10 (20%) chickens vaccinated with rNDV expressing codon optimized S protein of IBV and 5 out of 10 (50%) chickens vaccinated with a commercial IBV vaccine were shedding virus in trachea, respectively, whereas 10 out of 10 (100%) of chickens immunized with parental rNDV and 5 out of 5 (100%) of unvaccinated chickens, infected with IBV, were shedding virus in the trachea (Fig. 8B) .The protective efficacy of rNDVs against a highly virulent NDV challenge. To evaluate the protective efficacy of rNDV expressing S gene of IBV against a virulent NDV strain, groups of five 1-day-old chicks were immunized with rNDV, rNDV expressing codon optimized S protein and PBS. Three weeks after immunization, chickens were challenged with virulent NDV strain Texas GB in our BSL-3 plus facility. Our results showed that all chickens immunized with the rNDV and rNDV expressing codon optimized S gene of IBV survived after highly virulent NDV challenge, while all chickens in PBS group died at day 5 and 6 post-challenge (Fig. 9A) . Antibodies produced against IBV and NDV. Hemagglutination inhibition (HI) assay using a standard protocol of OIE was used to assess the level of antibodies mounted against NDV in serum samples of chickens 21 days after immunization. The results showed that HI titers of NDV was detected in serum samples of all chickens immunized with rNDV and rNDV expressing codon optimized S protein. There was no significant differences observed among HI titers against NDV in serum samples of chickens from groups immunized with rNDV and rNDV expressing S protein (Fig. 9B ). Virus neutralization assay was performed according to a standard protocol of OIE to assess the level of neutralizing antibodies mounted against IBV strain Mass-41 in serum samples of chickens at 21 days after immunization. The results showed that the neutralizing antibodies against IBV were detected in serum samples of chickens immunized with rNDV expressing codon optimized S protein of IBV and with commercial live attenuated IBV vaccine (Fig. 7D) . Neutralizing antibodies against IBV were not detected in 1:8 dilution of a serum sample from a chicken immunized with empty rNDV vector. This result showed that the rNDV expressing codon optimized S protein of IBV induces neutralizing antibodies against IBV.\\n\\nDiscussion\\n\\nThis study was conducted to compare the protective efficacies of S1, S2, and S proteins of IBV using rNDV as a vaccine vector. The S1, S2, and S genes of IBV strain Mass-41 were individually inserted between the P and M genes of rNDV strain LaSota. This site was chosen because it has been identified as the optimal site for insertion of foreign genes into NDV genome 26,34-37. Four different versions of IBV S1 gene were used to identify the version that is expressed at the highest level and incorporated into NDV particles. We were able to recover all the recombinant viruses and their growth characteristics were similar to rLaSota. However, the recombinant viruses containing IBV S gene grew slightly slowly than the parental virus. The viruses were stable after passages in SPF chicken embryos. Western blot analysis showed that chicken codon optimized S2 and S proteins were expressed at much higher levels and were incorporated into NDV particles. Whereas, all the four versions of S1 protein were detected at very low levels by Western blot analysis. It is noteworthy that the unmodified S1 protein was detected in the infected cell culture supernatant, indicating that the modification of S1 protein probably caused retention of the protein in the cell. These results suggest that the S2 protein acts as a chaperone to assist in the folding of the S1 protein. The S1 protein is folded incorrectly in the absence of S2 protein and the new structure probably causes loss of some conformational epitopes for IBV antibodies.In the first IBV protection experiment, we found that 1-day-old chicks immunized with rNDV expressing the S protein of IBV conferred better protection from disease compared to 1-day-old chicks immunized with rNDVs expressing either S1 or S2 protein of IBV. Our results showed that the S protein, which contains both S1 and S2 proteins, is the best protective antigen of IBV. The S2 protein lacks major neutralizing epitopes which are present in the S1 protein, hence it is not an effective antigen. The S1 protein contains major neutralizing epitopes, but it losses some conformational epitopes when expressed separately. Although in the first study we showed that rNDV expressing S protein provided enhanced protection, it could not reduce virus shedding, indicating that we needed to determine whether the elimination of virus shedding would probably require a much higher level of immune response than that is induced by rNDV expressing S protein or would require the optimization of the IBV protection study. In this study, our results support previous reports that rNDV vectored IBV vaccines prevent disease but do not stop virus shedding 23, 24 . These results also support the recent report that a spike ectodomain subunit vaccine protects chickens against IBV 38 .In the second IBV protection experiment, we investigated whether age at immunization influences the outcome of IBV challenge. Our results showed that a single immunization of 4-week-old chickens with rNDV expressing S protein completely protected chickens against IBV challenge based on disease and viral load in tracheas. Indeed, the level of protection conferred by rNDV expressing S protein was similar to that of a commercial IBV vaccine. However chickens immunized with either commercial live attenuated IBV vaccine or rNDV expressing IBV S protein showed very low levels of tracheal viral load. This showed that protection was greater when the chickens were immunized at an age when their immune system is relatively well developed. In the third IBV protection experiment, we showed that rNDV expressing IBV S protein protects adult chickens against a higher dose of virulent IBV challenge. However, compared to standard challenge dose of virulent IBV, a higher challenge dose of virulent IBV caused higher levels of tracheal viral load in adult chickens immunized with rNDV expressing IBV S protein and low levels of tracheal viral load in chickens immunized with commercial live attenuated IBV vaccine. Our result showed that although both the age of immunization and dose of challenge virus affect the results of IBV challenge, the influence of the age of immunization is greater than the effect of the dose of challenge virus.Our results also showed that when we challenged adult immunized chickens with standard challenge dose of virulent IBV, rNDV expressing S protein showed slightly better protection than a commercial live IBV vaccine, based on disease and viral shedding in trachea, but when the adult immunized chickens were challenged with a higher dose of virulent IBV, commercial live IBV vaccine showed slightly better protection than rNDV expressing S protein. Hence to compare the efficacy of rNDV expressing S protein of IBV with the efficacy of live attenuated IBV vaccine, a large IBV protection study using commercial chickens is needed.In the fourth IBV protection experiment, we showed that rNDV expressing IBV S protein protected young chickens against virulent IBV challenge by the intraocular route. The route of challenge has been recommended by USDA-CFR-9. Our results showed that compared to infection of chickens with virulent IBV by the oculanasal route, infection of chickens with virulent IBV by the intraocular route, caused much lower levels of tracheal viral load in young chickens immunized with rNDV expressing IBV S protein and low levels of tracheal viral load in chickens immunized with commercial live attenuated IBV vaccine. Our results showed that the route of the challenge virus inoculation affected the results of the tracheal virus shedding in young chickens immunized by rNDV expressing S protein following IBV challenge; however, it did not affect the outcomes of the severity of clinical signs.Although our studies showed that the rNDV expressing the S protein and commercial live IBV vaccine provided comparable protection, rNDV expressing the S protein has several advantages over live IBV vaccines in controlling IB in the field. (i) NDV vectored IBV vaccine is highly safe in 1-day-old chicks, (ii) it will not create new vaccine derived variant viruses, which is a major concern in using live modified IBV vaccines, (iii) a single vaccine can be used to control both NDV and IBV, (iv) we believe that the level of immunity induced by the NDV vectored vaccine against IBV is probably sufficient to completely stop IBV infection in field condition, and (v) the immune response of NDV vectored vaccine can be enhanced by prime-boost vaccination strategy.In summary, we have shown that although the S1 and S2 proteins of IBV are known to contain virus neutralizing epitopes, the presence of the whole S protein is necessary for eliciting a strong protective immune response. The S protein is the antigen of choice for any vectored IBV vaccine. NDV is an attractive vaccine vector for IBV, because it can be used as a bivalent vaccine. Our results suggest that a recombinant NDV vectored IBV vaccine is the vaccine of choice for controlling IBV infection in the field.\\n\\nCells and viruses. Chicken embryo fibroblast (DF-1) cells and human epidermoid carcinoma (HEp-2)\\n\\ncells were obtained from the American Type Culture Collection (ATCC, Manassas, VA). They were grown in Dulbecco's minimal essential medium (DMEM) containing 10% fetal bovine serum (FBS). The recombinant avirulent NDV strain LaSota was generated previously in our laboratory using reverse genetics 39 . The rNDV and rNDVs expressing chicken codon optimized S1, S2 and S genes and non-codon optimized S gene of IBV strain Mass-41 were grown in 9-day-old embryonated SPF chicken eggs at 37 °C. The virulent IBV strain Mass-41 was propagated in 10-day-old SPF embryonated chicken eggs and harvested five days after infection. The titer of virus in harvested allantoic fluid was determined by 50% embryo infectious dose (EID 50 ) method. Briefly, ten-fold serial dilutions of IBV strain Mass-41 was inoculated into 10-day-old embryonated SPF chicken eggs. Seven days after inoculation, infected embryos were examined for IBV specific lesions such as stunting or curling. The titer of virus was calculated using Reed and Muench method 40 .The modified vaccinia virus strain Ankara expressing T7 RNA polymerase (MVA-T7) was propagatd in monolayer primary chicken embryo fibroblast cells.Generation of rNDVs containing S1, S2 or S gene of IBV. A plasmid containing full-length antigenomic cDNA of NDV strain LaSota has been constructed previously 39 . In order to develop an effective IBV vaccine the maximum neutralizing epitopes with correct conformation are needed to be displayed. Most neutralizing epitopes are located in the S protein. In this study seven transcription cassettes containing S, S1 or S2 genes of IBV were constructed to identify the best protective antigen for the development of NDV vectored IBV vaccines. The S, S1 and S2 genes were chicken codon optimized for higher level of expression in chickens. The following transcription cassettes were designed: (i) a transcription cassette containing the S gene of IBV strain Mass-41 (3489 nt) was designed to determine whether the expression of the whole S gene from NDV will lead to display the maximum neutralizing epitopes in correct conformation, (ii) a transcription cassette containing the S2 subunit of S gene (1878 nt) of IBV fused with C-terminus of signal peptide sequence of S gene (69 nt) was constructed for transport of the protein from the cell (iii) a transcription cassette containing the S1 subunit of S gene (1614 nt) was designed to determine the protective efficacy of S1 protein, (iv) a transcription cassette containing the S1 gene (1611 nt) fused with N-terminus of transmembrane and cytoplasmic tail of S gene (255 nt) was designed for incorporation into NDV envelop, (v) a transcription cassette containing the S1 subunit of S gene without S1 protein cleavage site residues (1593 nt) fused with N-terminus of transmembrane and cytoplasmic tail of NDV F gene (171nt) was designed for incorporation of the S1 protein into envelope of NDV. (vi) a transcription cassette containing the S1 subunit of S gene containing S1 protein cleavage site residues (1611 nt) fused with N-terminus of transmembrane and cytoplasmic tail of NDV F gene (171 nt) was designed to incorporate the S1 protein into NDV envelope and also to know whether adding the cleavage site residues has any effect on the fusion of two SCientifiC REPoRTS | (2018) 8:11951 | DOI:10.1038/s41598-018-30356-2 proteins, and (vii) a transcription cassette containing the non-codon optimized S gene (3489 nt) was constructed to compare the level of protein expression between the codon optimized and non-codon optimized S genes.NDV genome contains six genes: nucleocapsid(N), phosphoprotein(P), matrix(M), fusion(F), hemagglutinin-neuraminidase(HN) and large(L). The genes are ordered 3′-N-P-M-F-HN-L-5′. The beginning and the end of each gene contain conserved transcriptional sequences known as the gene-start (GS) and gene-end (GE), respectively. Between the genes, there are gene junctions 26 . Any of the gene junctions is a potential insertion site for the transcription cassette of a foreign gene. However, we and others have found that the intergenic region between the P and M genes is a good site for expression of most foreign genes 26, [34] [35] [36] [37] . The transcription cassettes containing IBV genes contained PmeI restriction enzyme sequence, 15 nt of untranslated region (UTR) of NDV, NDV GE signal, one T nucleotide as intergenic sequence, NDV GS signal, extra nucleotides to maintain the rule of six 26, 41 , Kozak sequence at the upstream of foreign gene ORFs and PmeI restriction enzyme sequence at downstream of foreign gene ORF. The transcription cassettes of codon optimized and non-codon optimized S gene were digested from two commercially synthesized (GenScript; pUC57-IBV-Mass-41-S syn) plasmids containing codon optimized (GenScript; optimization on Gallus Gallus codons using OptimumGene TM PSO algorithm) and non-codon optimized S gene of IBV strain Mass-41(GenBank Accession no. AY851295. 1), respectively. The transcription cassettes of codon optimized S1 and S2 genes were amplified from the commercially synthesized plasmid containing codon optimized S gene of IBV strain Mass-41 and cloned into individual shuttle vectors (pGEM ® -T Easy Vector, Promega Corporation). Then the flanking DNA of transcription cassettes were digested from shuttle vectors. The transcription cassettes derived from shuttle vectors were cloned into complete individual plasmids containing cDNA of rLaSota at P and M gene junction using PmeI site (Fig. 1) . The correct sequences of the foreign genes were confirmed by nucleotide sequence analysis. rNDVs containing the IBV genes were recovered by reverse genetics as described previously 39 .Briefly, each full length cDNA was co-transfected with three expression plasmids containing N, P or L gene of NDV strain LaSota into MVA-T7 infected HEp-2 cells. Three days post-transfection, 200 µl of supernatant of transfected cells were inoculated in 9-11 day-old SPF embryonated chicken eggs. After three days, haemaglutination test was used to detect infected allantoic fluids collected from eggs. rNDVs containing S1 gene, S1 gene fused with transmembrane and cytoplasmic tail of IBV S gene, S1 gene containing cleavage site residues of S gene of IBV fused with transmembrane and cytoplasmic tail of NDV F gene, S1 gene without cleavage site residues of S gene fused with transmembrane and cytoplasmic tail of NDV F gene, S2 gene, codon optimized S gene and non-codon optimized S gene were named rNDV/S1, rNDV/S1 + IBV-S-TM&CT, rNDV/S1(cs+) + NDV-F-TM&CT, rNDV/S1(cs−) + NDV-F-TM&CT, rNDV/S2, rNDV/codon optimized-S and rNDV/non-codon optimized-S, respectively. The IBV genes were amplified from the rNDV constructs by RT-PCR.Expression of S1, S2 and S proteins of IBV. Confluent monolayers of DF-1 cells were infected at a multiplicity of infection (MOI) of 0.01-0.1 with rNDV strain LaSota, rNDV/S1, rNDV/S1 + IBV-S-TM&CT, rNDV/ S1(cs+) + NDV-F-TM&CT, rNDV/S1(cs−) + NDV-F-TM&CT, rNDV/S2, rNDV/codon optimized-S or rNDV/ non-codon optimized-S. DF-1 cells were harvested 30 hours post-infection, lysed and analyzed by Western blot. A polyclonal chicken anti-IBV strain Mass-41 was used to detect the expression of S1, S2 and S proteins of IBV.To determine the incorporation of IBV proteins into NDV envelope, rNDV, rNDV/S2, rNDV/codon optimized-S and rNDV/non-codon optimized-S were inoculated into 9-day-old embryonated SPF chicken eggs. Three days after incubation, recombinant viral particles from infected allantoic fluids were partially purified by sucrose density gradient centrifugation and analyzed by Western blot analysis. A monoclonal anti-NDV/HN antibody also was used to detect HN protein of NDV in lysates and purified virions by one more Western blot analysis.Growth characteristics of rNDV constructs. In order to determine the growth kinetics of rNDVs expressing S1, S2 or S protein of IBV, confluent monolayers of DF-1 cells in 6-well tissue culture plates were infected at a MOI of 0.1 with rNDV, rNDV/S1(cs+) + NDV-F-TM&CT, rNDV/S2 and rNDV/codon optimized-S and adsorbed for 90 minutes at 37 °C. After adsorption, cells were washed with PBS, then incubated with DMEM containing 2% FBS and 10% fresh SPF chicken egg allantoic fluid at 37 °C in presence of 5% CO 2 . Aliquots of 200 µL of supernatant from infected cells were collected and replaced with fresh DMEM including FBS at intervals of 8 hours until 64 hours post-infection. The titer of virus in the harvested samples was determined by TCID 50 method in DF-1 cells in 96-well tissue culture plates.The protective efficacy of rNDVs expressing S1, S2 and S protein of IBV against virulent IBV challenge. Based on the level of expression of S1, S2 and S proteins of IBV from rNDVs, rNDV/ S1(cs+) + NDV-F-TM&CT, rNDV/S2, and rNDV/codon optimized-S viruses were selected for animal study to evaluate their protective efficacy against virulent IBV challenge.IBV protection experiment 1. In this study, the protective efficacy of rNDVs expressing S1, S2 or S protein of IBV strain Mass-41 were evaluated in 1-day-old SPF chicks. Briefly, a total of eighty 1-day-old chicks were divided into five groups of fifteen each and one group of five. Chicks of the first four groups were inoculated with 10 7 EID 50 of rNDV, rNDV/S1(cs+) + NDV-F-TM&CT, rNDV/S2 and rNDV/codon optimized-S strains via oculonasal route. The fifteen chicks of group five and five chicks of group six were inoculated with PBS. Three weeks after immunization, all immunized chickens, were challenged with 10 3.1 EID 50 of virulent IBV strain Mass-41. This challenge virus dose was determined by an experimental chicken infection study. The severity scores of clinical signs of IBV including, nasal discharge, ocular discharge and difficulty in breathing (0 = normal, 1 = presence of mild ocular discharge, mild nasal discharge and or sneezing 2 = presence of heavy ocular discharge and or heavy nasal discharge with mild tracheal rales and mouth breathing and or coughing 3 = heavy ocular discharge and heavy nasal discharge with sever tracheal rales and mouth breathing, gasping, dyspnea and or severe SCientifiC REPoRTS | (2018) 8:11951 | DOI:10.1038/s41598-018-30356-2 respiratory distress) were recorded twice a day for 10 days post-challenge. In order to evaluate protective efficacy of rNDVs expressing S1, S2 and S genes of IBV in preventing shedding of virulent IBV in immunized chickens, at day five post-challenge, tracheal swab samples were collected from fifteen birds of each group and placed in 1.5 mL serum free DMEM with 10 X antibiotics. The swab samples were analyzed for quantification of viral RNA using an IBV-N gene-specific RT-qPCR.IBV protection experiment 2. In this study, the protective efficacy of rNDV expressing codon optimized S protein of IBV was evaluated in 4-week-old SPF chickens against the OIE recommended dose of virulent IBV challenge 1 . A total of twenty 4-week-old SPF chickens were divided into four groups of five each. Five chickens of groups one and two were inoculated with 10 7 EID 50 of rNDV and rNDV/codon optimized-S, respectively, via oculanasal route. Five chickens of group three were inoculated with 10 recommended doses of a commercial live attenuated Mass-type IBV vaccine via oculanasal route and chickens of group four were inoculated with PBS. Three weeks after immunization, chickens of all groups were challenged with 10 3.1 EID 50 of virulent IBV strain Mass-41 by the oculonasal route. The severity scores of clinical signs of IBV, described in IBV protection experiment 1, were recorded for 10 days post-challenge. In order to evaluate the efficacy of rNDV expressing S protein of IBV in preventing shedding of virulent IBV in immunized chickens, at day 5 post-challenge, tracheal swab samples were collected from twenty chickens and placed in 1.5 ml serum free DMEM with 10 X antibiotic. The swab samples were analyzed for quantification of viral RNA using an IBV-N gene-specific RT-qPCR. IBV protection experiment 3. In this study, the protective efficacy of rNDV expressing codon optimized S protein of IBV was evaluated in 4-week-old SPF chickens against a higher dose of virulent IBV challenge. A total of thirty two 4-week-old SPF chickens were divided into four groups of eight each. Eight chickens of group one and two were inoculated with 10 7 EID 50 of rNDV and rNDV/codon optimized-S, respectively, via oculanasal route. Eight chickens of group three were inoculated with 10 recommended doses of a commercial live attenuated Mass-type IBV vaccine via oculanasal route and chickens of group four were inoculated with PBS. Three weeks after immunization, chickens of all groups were challenged with 10 4.7 EID 50 of virulent IBV strain Mass-41 by the oculonasal route. The severity scores of clinical signs of IBV, described in IBV protection experiment 1, were recorded for 8 days post-challenge. At day 4 post-challenge, three chickens from each group were euthanized for tracheal ciliostasis analysis (data not shown). In order to evaluate the efficacy of rNDV expressing S protein of IBV in preventing shedding of virulent IBV in immunized chickens, tracheal swab samples were collected from five chickens from each group and placed in 1.5 mL serum free DMEM with 10 X antibiotic. Each fluid was tested for IBV specific lesions on chicken embryo by inoculation (0.1 ml) of one 10-day-old embryonated SPF chicken egg. The swab samples were also analyzed for quantification of viral RNA using an IBV-N gene-specific RT-qPCR. The swab samples collected from two non-vaccinated SPF chickens involved in another IBV protection study also were used as control.IBV protection experiment 4. In this study, the protective efficacy of rNDV expressing codon optimized S protein of IBV was evaluated in 1-day-old SPF chicks against virulent IB challenge virus infected by the intraocular route. Intraocular route was used, because this route of IBV challenge has been specified by the USDA-CFR-9 33 . A total of forty five 1-day-old SPF chickens were divided into three groups of ten each and three groups of five each. Ten chickens of group one and two were inoculated with 10 7 EID 50 of rNDV, rNDV/ codon optimized-S, respectively, via oculanasal route. Ten chickens of group three were inoculated with one recommended dose of a commercial live attenuated Mass-type IBV vaccine via oculanasal route and chickens of groups four to six were left non-vaccinated. Three weeks after immunization, chickens of all groups one to four were challenged with 10 4 EID 50 of virulent IBV strain Mass-41 by the intraocular route, chickens of group five were challenged with 10 4 EID 50 of virulent IBV strain Mass-41 by the oculanasal route, and chickens of group six were left non-infected. The severity scores of clinical signs of IBV, described in IBV protection experiment 1, were recorded for 10 days post-challenge. In order to evaluate the efficacy of rNDV expressing S protein of IBV in preventing shedding of virulent IBV in immunized chickens, at day 5 post-challenge, tracheal swab samples were collected from all chickens of each group and placed in 3 mL serum free DMEM with 10 X antibiotic. Each fluid was tested for IBV specific lesions on chicken embryo by inoculation with 0.2 ml to each of five 10-day-old embryonated SPF chicken egg. The sample was considered positive for virus shedding, if any of the five embryos showed IBV lesions.We performed all experiments involving virulent IBV in our USDA approved Biosafety level-2 and Biosafety level-2 plus facilities following the guidelines and approval of the Animal Care and Use Committee (IACUC), University of Maryland.The protective efficacy of rNDV expressing S protein of IBV against virulent NDV challenge. The protective efficacy of rNDV expressing S protein of IBV strain Mass-41 was evaluated against a virulent NDV strain GB Texas challenge in our biosafety level 3 (BSL-3) plus facility. Briefly, a total of fifteen 1-day-old chicks were divided into three groups of five each. Chicks of two groups were inoculated with 10 7 EID 50 of rNDV and rNDV/IBV-codon optimized-S via oculonasal route. The five chickens of group three were inoculated with PBS. Three weeks after immunization, blood samples of all birds were collected for NDV antibody response analysis and challenged with one hundred 50% chicken lethal dose (CLD 50 ) of the highly virulent NDV strain GB Texas via oculonasal route. The chickens were observed daily for 10 days after challenge for mortality with clinical signs of disease (neurological signs included torticollis, paralysis, and prostration). We performed the experiment involving virulent NDV in our USDA approved Biosafety level-3 plus facility following the guidelines and approval of the Animal Care and Use Committee (IACUC), University of Maryland.SCientifiC REPoRTS | (2018) 8:11951 | DOI:10.1038/s41598-018-30356-2 Serological analysis. The level of antibodies induced against NDV and IBV were evaluated. The serum samples were collected three weeks post-immunization. Hemagglutination inhibition (HI) assay using a standard protocol OIE was used to assess the level of antibody titer mounted against NDV in chickens immunized by rNDVs 27 . The virus neutralization assay according to OIE was used to measure the level of neutralizing antibodies mounted against IBV 1 . Briefly, serum samples of three birds from the group immunized with rNDV expressing codon optimized S protein of IBV and serum samples of three birds from the group immunized with commercial IBV vaccine group were incubated at 56 °C for 30 minutes. One hundred EID 50 of IBV strain Mass-41 was mixed with 2 fold dilutions of antiserum and incubated for 1 hour at 37 °C. One hundred µL of each serum and virus mixture was inoculated into three 10-day-old embryonated SPF chicken eggs. To confirm that at least 100 EID 50 of virus was inoculated into each egg, three eggs were inoculated with 100 µl of PBS containing 100 EID 50 of IBV. Three eggs were inoculated with 100 µL of PBS as negative control. Three eggs were inoculated with a mixture of 100 EID 50 of IBV and a dilution of 1:8 of a randomly selected serum sample collected from a bird immunized with rNDV strain LaSota as vector control. The eggs were incubated at 37 °C and were observed daily for dead chicken embryos for 7 days post inoculation. The serum titers were calculated according to the method of Reed and Muench 40 , based on mortality and IBV specific lesions on chicken embryos.Quantitative reverse transcription-polymerase chain reaction (RT-qPCR). RNA was extracted using TRIzol Reagent (Invitrogen) from tracheal swab samples collected from chickens. The first strand cDNA was synthesized using Thermo Scientific RevertAid Reverse Transcriptase (RT). SYBR green RT-qPCR was performed using a specific primer pair set: (a) N gene -296 forward primer: 5′ GACCAGCCGCTAACCTGAAT 3′ and (b) N gene -445 reverse primer: 5′ GTCCTCCGTCTGAAAACCGT 3′ amplifying 150 nt of N gene of IBV strain Mass-41. PCRs were performed using a Bio-Rad CFX96 Cycler. Each 20 µl reaction was carried out using 5 µl of cDNA, 10 µl of iTaq Universal SYBR Green Supermix (Bio-Rad), 2 µl of forward and reverse primers and 3 µl of nuclease free water. Forty cycles of PCR at 95 °C for 10 s (denaturation), 58 °C for 20 s (annealing), and 72 °C for 30 s (elongation) followed by melting curve analysis that consisted of 95 °C for 5 s and 65 °C for 60 s. A serial 10 fold dilution of cDNA synthesized from extracted RNA of allantoic fluid stock of a virulent IBV strain Mass-41 with 10 7.5 EID 50 /ml was used to establish the standard curve. The cDNA synthesized from extracted RNA of allantoic fluid stock of a virulent IBV strain Mass-41 and the cDNA synthesized from extracted RNA of swab sample solution were served as positive and negative controls, respectively. Melting point analysis was used to confirm the specificity of the test.Statistical analysis. Data were analyzed among groups by One-Way-ANOVA test. The student t-test was used to compare two groups. To avoid bias, all animal experiments were designed as blinded studies.\\n\\n\",\n",
       " \"INTRODUCTION\\n\\nPandemic influenza remains a global health threat. In the setting of an outbreak, there is a need for new countermeasures that can be rapidly implemented. Plasma therapy has been used experimentally for the last 100 years to treat severe infectious diseases beginning with diphtheria in the 1890's, Spanish flu of 1917-1918, and severe acute respiratory syndrome (SARS) in 2003, Middle East respiratory syndrome (MERS), and most recently, the Ebola epidemic in West Africa. A meta-analysis of 8 non-randomized studies using convalescent blood products during the 1918 influenza pandemic calculated a case-fatality rate of 16% among 336 treated participants compared to 37% among 1219 controls. [1] A cohort study of 93 participants with severe H1N1 influenza demonstrated lower mortality in the treatment group receiving H1N1 convalescent plasma vs the control group (20·0% vs. 54·8%; P = .01), [2] although mortality in the control group was higher than expected for comparable severity of illness. [3] [4] [5] [6] Despite these encouraging data, no randomized controlled trial (RCT) of immune plasma for severe influenza has ever been conducted. In an effort to more rigorously evaluate the role of immune plasma in the treatment of severe influenza we conducted a RCT in a non-pandemic setting in participants with respiratory compromise due to influenza.\\n\\nStudy Design\\n\\nThis was a randomized, open-label, multicenter phase 2 trial conducted at 29 academic medical centers in the United States. All study participants provided written informed consent. The study protocol was approved by the institutional review board at each study site.\\n\\nParticipants\\n\\nHospitalized participants with influenza A(H1N1), A(H3N2) or B virus infections (diagnosed locally by rapid antigen or polymerase chain reaction (PCR)) who had either hypoxia (room air saturation of oxygen < 93%) or tachypnea (respiratory rate greater than 20 for adults, or age defined thresholds of between 20 and 38 for children) were eligible for enrollment. The study initially was restricted to onset of illness within 7 days, but subsequently revised to allow participants to be enrolled regardless of onset time if there was active viral replication (as evidenced by a positive diagnostic test). The study initially enrolled participants with influenza H1N1 only, but was amended to also include influenza H3N2 and B. Participants were excluded if ABO compatible plasma was not available, if the participant had received investigational antivirals in the prior 2 weeks, if they had a history of any allergic reactions to blood products, if they had medical conditions in which they could not tolerate 500 mL volume, or if there was a clinical suspicion that the etiology of acute illness was primarily due to a condition other than active influenza virus replication (e.g. primarily a bacterial superinfection). Per protocol, only non-pregnant adults were enrolled in the first year. Subsequently, after Data and Safety Monitoring Board (DSMB) review of interim data, children and pregnant women were also made eligible for enrollment.\\n\\nRandomization and masking\\n\\nParticipants were randomized by an online randomization system in a 1:1 ratio to receive either 2 units of ABO-matched plasma (volume range: 225-350 ml/unit or 8 ml/kg pediatric equivalent) on Study Day 0 in addition to standard care versus standard care alone. Standard care could vary depending upon the clinical needs of the patient but all participants were required to receive a neuraminidase inhibitor as part of their treatment. A computer generated central randomization scheme was used, with stratification by age group and pregnancy status (<2 years, ≥2 years to <8 years, ≥8 years to <18 years and not pregnant, ≥ 18 years and not pregnant, and pregnant). Randomization was not stratified by site nor measures of disease severity. The study was not blinded.\\n\\nProcedures\\n\\nThe study used units of human plasma that met all requirements for FDA licensed Fresh Frozen Plasma (FFP) and were pre-screened for hemagglutination inhibition (HAI) titer(s) by a central laboratory. All units were required to have a HAI titer of at least 1:40, though the units used for participants with influenza A had a geometric mean HAI titer for H1N1 or H3N2 of 1:259 or 1:158 respectively (range 1:80-1:1280), and for influenza B a geometric mean HAI titer of 1:101 (1:80-1:640). At the beginning of the study, plasma was collected by donor directed programs (screening participants for high titer HAI, and then serially collecting plasma from these individuals). Through the course of the study, the plasma collection was changed to screening units of plasma from blood establishments to identify units with high HAI titers to influenza A or influenza B. This allowed larger volumes of plasma to be collected to support the treatment study.Study plasma was to be administered as soon as possible, but no later than 24 hours after randomization. The rate of infusion was dictated by institutional practices. The two infusions were to be separated by at least 1 hour in order to assess for any immediate AEs from the first unit. The interval between units could be extended if clinically indicated.Participants were assessed on Study Day 0 (pre-dose), and on Study Days 1, 2, 4, 7, 14, and 28. Nasal and oropharyngeal swabs for influenza PCR were collected on Days 0, 1, 2, 4, and 7, and endotracheal aspirates were obtained when possible.\\n\\nOutcomes\\n\\nThe overall objective of the study was to evaluate the safety and efficacy of treatment with anti-influenza immune plasma in addition to standard care in subjects with influenza. The primary efficacy endpoint chosen was normalization of tachypnea or hypoxia defined as normalization of both respiratory rate (≤ 20 for adults, or below the age defined thresholds of 20-38 for children), and room air saturation of oxygen (SaO2) ≥93%. The secondary endpoints included: incidence and duration of clinical symptoms, incidence and duration of fever, time to resolution of all symptoms and fever, in-hospital, and 28-day mortality, duration of hospitalization, number of admissions and duration of admission to an intensive care unit, incidence and duration of supplemental oxygen, incidence of ARDS, incidence and duration of requiring mechanical ventilation, and disposition (home with no health care, home with health care, transferred to long-term care facility, hospitalization ongoing at Day 28, discharged to hospice care, deceased) following the last hospital discharge. All secondary analysis including subgroups were pre-specified in a formal Statistical Analysis Plan with the exception of the 6-step ordinal scale of clinical status at Day 7, which was developed for a separate anti-influenza IVIG study (ClinicalTrials.gov Identifier: NCT02287467) and was used post-hoc in this study.There were limited data available to base sample size calculations for this study. However, the sample size of 100 was calculated to be sufficient to detect a decrease in the median time to normalization of respiratory status from 14 to 7 days with 89% power at a two-sided 5% significance level.\\n\\nStatistical Analysis\\n\\nAll efficacy results are presented for the Primary Efficacy Population (PEP) unless otherwise noted. The PEP included all randomized participants with influenza infection confirmed by PCR from Day 0 by the central laboratory. Analysis is per Intention-to-Treat (ITT). The logrank test and Cox proportional hazards model were used to compare the primary endpoint between treatments using ITT approach. For the primary endpoint, participants who died without prior normalization were censored after Day 28. Participants who were not evaluable at a scheduled visit (either due to prior loss to follow-up or an incomplete or missing evaluation) were considered as not having a normalized respiratory status at that visit. Adverse event data, coded using MedDRA, are presented by treatment received.\\n\\nRole of Funding Source\\n\\nEmployees of the sponsor of the study were involved with study design, analysis, and the writing of the report. The corresponding author had full access to all the data in the study and had final responsibility for the decision to submit for publication.\\n\\nResults\\n\\nBetween January 2011 and April 2015, a total of 113 participants were screened for the study (Figure 1 ). Fifteen participants were excluded: 8 did not have a positive test for influenza at the site, 2 had blood types for which ABO matched plasma was not available, 2 were judged unable to tolerate a 500ml volume, and 3 were excluded for other reasons. Twenty of the 29 participating sites enrolled at least one participant into the trial. The study was stopped in 2015 at the end of the influenza season, after being within 2 participants of the enrollment goals.Ninety-eight participants were randomized. Eleven participants were excluded from the Primary Efficacy Population (PEP) because their initial samples were PCR negative by central laboratory testing. The median age of the randomized participants was 53 years (range 0-95 years). Eleven children and two pregnant women were enrolled ( Table 1 ). The majority of participants had underlying medical conditions, with hypertension and chronic pulmonary disease being the most common (medical conditions present in ≥ 10% of participants are presented in Table 1 ). Participants had a median 4 days of influenza illness prior to enrollment, and 61% (N=60) had received antivirals prior to randomization (median 2 days of antivirals prior to enrollment). All participants received antibiotics (the protocol did not dictate which antibiotics would be used). No participants received naproxen, and only 6 participants received azithromycin.At baseline, 79 (82%) of participants required oxygen, 56 (58%) were in the ICU, and 41 (43%) were on mechanical ventilation. Adults had a median APACHE II score of 13, reflecting an anticipated 15% mortality, [7] whereas children had a median PRISM III score of 3 reflecting an anticipated 2% mortality. [8] The participants randomized to receive standard care had slightly more severe illness at baseline compared to those randomized to plasma (oxygen requirement in 43 participants (88%) vs. 36 (77%) and mechanical ventilation in 24 participants (49%) vs. 17 (36%)). Thirty five (57%) participants had multi-lobar infiltrates on chest X-ray and was similar in both arms, and 31 (51%) had pleural effusions which were more common in the standard care arm (59% (19) vs 41% (12)). The protocol did not mandate any evaluation of the pleural effusions, though no empyema's were reported. Loss to follow up for completion of the study (Day 28) was higher in the participants that received standard care (22% (N=10) vs. 10% (4)), though follow up through the primary endpoint (or Day 28 if not reaching endpoint, or death) was similar (82% (37) vs. 86% (36)).Forty-five (92%) participants randomized to the plasma received the full planned treatment. Four participants (8%) randomized to receive plasma did not actually receive plasma (see Figure 1 for reasons). One pediatric participant randomized to standard care was inadvertently administered plasma. For participants that received plasma, the first unit of plasma was administered at a median of 3·9 hours (IQR 2·4, 6·1) following randomization, with a median 2·5 hours between units (IQR 1·7, 3·4). 99% of participants received antivirals (97% oseltamivir monotherapy).Twenty-eight (67%) participants randomized to receive plasma had documented resolution of tachypnea and hypoxia by Day 28, compared to 24 (53%) of control participants (p = 0·069) ( Figure 2A ). The hazard ratio of plasma + standard of care vs. standard of care alone was 1.71 [95% CI: 0·96, 3·06]. From the Kaplan-Meier analysis, with the caveat that the study evaluated tachypnea and hypoxia at Days 1, 2, 4, 7, 14 and 28, the estimated median time to resolution of tachypnea and hypoxia was 7 days (lower quartile 2 days) among participants randomized to receive plasma versus 28 days (lower quartile 7 days) among participants randomized to the control arm. Due to the higher than expected loss to followup, sensitivity analysis was performed with follow-up censored at last available assessment with sufficient respiratory status data (p = 0·086). Six participants randomized to receive plasma resolved the tachypnea and hypoxia present at screening by the time of baseline (prior to receiving plasma), as compared to one among participants that received standard care. With these participants excluded, 22 (61%) participants in the PEP randomized to receive plasma had resolution of tachypnea and hypoxia by Day 28, compared to 23 (52%) of controls (p = 0·26). The benefit was primarily seen in participants who were enrolled within 4 days of symptoms (treatment by subgroup interaction p-value = 0·038). ( Figure  2B ). As the participants randomized to standard care had slightly more severe disease at baseline, in order to evaluate the influence of these baseline differences, analysis was performed stratified by use of oxygen, mechanical ventilation, ICU requirement, and presence of ARDS. All demonstrated similar results as in the primary analysis (stratified logrank p=0·019 to 0·12).Participants randomized to the plasma arm had a better disposition after hospital discharge (p=0·029; Table 2 ). A similar finding (p=0·020) was noted in a post-hoc analysis using a 6step scale of clinical status at Day 7 (death, in ICU, hospitalized on oxygen, hospitalized not on oxygen, not hospitalized but not returned to normal activities, or not hospitalized and returned to normal activities).Better outcomes among participants randomized to receive plasma in the PEP across multiple other pre-specified measures of efficacy were also observed though they did not achieve statistical significance (Table 2 ). For participants randomized to receive plasma, there were fewer days in the hospital after randomization (median 6 vs. 11, p= 0·13), fewer participants with hospital readmissions (2 vs. 7, p=0·096), fewer participants with ICU admissions (57% vs. 69%, p = 0·097), and fewer days on mechanical ventilation (median 0 vs. 3, p=0·14). In contrast, the days on oxygen after randomization were not different (median 7 vs. 8, p=0·52), nor were the days in the ICU after randomization (median 2·5 vs. 3, p = 0·37). As in the case of the primary endpoint, the benefit appeared greatest in participants who had ≤ 4 of symptoms prior to randomization ( Figure 2B , proportional hazards model p = 0·038).In those without ARDS at baseline, no participant randomized to receive plasma developed ARDS, whereas 3 receiving standard care (11·5% of the standard care participants without ARDS at baseline) did so (p=0·067). No difference between the treatments was found for the time to resolution of typical influenza symptoms (p = 0·57) nor resolution of fever (p=0·99). (Supplemental Figures 1 and 2) Six participants died: 1 of 49 (2%) randomized to receive plasma compared to 5 of 49 (10%) among participants randomized to receive standard care (Randomized Population ITT analysis, p = 0·093, hazard ratio: 0·19 [95% CI: 0·02, 1·65]). The one participant that died after receiving plasma died 8 days after plasma infusion due to septic shock. All deaths were judged not related to study interventions. Analysis by treatment received (2% vs. 10%, p = 0·096), and restricted to the PEP (2% vs. 10%, p = 0·10) gave similar results.Participants randomized to receive plasma had about 1 log copies/mL lower nasal and oral influenza viral loads (detected by quantitative PCR) at baseline (nasal: median 2·8 vs. 3·8 log 10 copies/mL; oral 2·4 vs. 3·3 log 10 copies/mL), although viral loads in the 23 participants who had an endotracheal aspirate (5·0 vs. 5·1 log 10 copies/mL) were similar. (Table 3 ) There was no appreciable difference in time to virus becoming undetectable (nasal: p = 0·95; oral: p=0·56) ( Figure 3) The HAI titer achieved by infused plasma cannot be determined separately from the participant's pre-existing immunity and immune response. For H1N1 2009, which was a strain in circulation throughout the study, the geometric mean HAI titer in study participants at baseline was 1:26·4 [95% CI: Thirty percent of the study population had serious adverse events (SAEs). Fewer plasma recipients than controls had SAEs (9 (20%) vs. 20 (39%), p= 0·041). The most common SAEs were acute respiratory distress syndrome and stroke. Each of these occurred in 3 participants (3%): 1 plasma recipient, 2 controls (Table 4 ). No category of SAE appeared more frequently among plasma recipients. The most common adverse events occurring in the first 7 days were hyperglycemia, increased aspartate aminotransferase, diarrhea, anemia, and fever (Table 5 ).\\n\\nDiscussion\\n\\nThe use of immune plasma has been recommended as a primary therapy for severe respiratory infectious diseases, including influenza, SARS and MERS. [9] However, data supporting these recommendations are weak and limited to case reports, case series, and one case control study. [10] Additionally, a randomized controlled trial of hyper-immune antiinfluenza immunoglobulin did not show any benefit in mortality, ICU stay, or hospital stay. [11] A post-hoc analysis of participants treated within 5 days of symptom onset was reported as demonstrating reduced mortality (0/12 (0%) vs 4/10 (40%), OR, 0.14; p =0.04), though conversely those treated after 5 days had an increased mortality (5/5 (100%) vs 0/7 (0%), no statistical analysis reported).To our knowledge, this is the first randomized controlled trial to demonstrate potential efficacy using immune plasma in the treatment of a respiratory virus disease. Although the study was not able to conclusively demonstrate efficacy based upon the primary endpoint (resolution of tachypnea/hypoxia); the fact that 14% more patients in the treatment arm had resolution of tachypnea/hypoxia (p=0·069) coupled with the significant improvement seen in clinical status at Day 7 (p=0·020), decreased mortality (1 vs. 5, p=0·093), and multiple other secondary endpoints all suggest benefit to treatment with immune plasma. Furthermore, it appears that maximum benefit accrues to the use of plasma < 4 days of symptom onset though a definitive conclusion will require further study (see Figure 2B ). Based on this data, a larger, randomized, double blind, placebo controlled trial is currently underway (ClinicalTrials.gov Identifier: NCT02572817).Further, the intervention appears safe with fewer participants randomized to receive plasma having SAEs as compared to participants randomized to standard care (20% vs. 38%). The SAE appear to be largely related to the underlying influenza, its complications, and other comorbid conditions, and not due to the intervention, though assessment of safety can be very difficult in any seriously ill population. Given the high numbers of SAEs and AEs in participants who only received standard care, the ability to discern a subtle safety signal associated with the intervention in this very ill population is challenging.Given the morbidity of influenza in children and pregnant women, it was important to incorporate these populations in this study. Although we did not enroll sufficient numbers of children or pregnant women to make discrete statements about the efficacy in those subpopulations, we have shown it is feasible (and would argue that it is necessary) to incorporate these populations in trials of novel influenza therapeutics for severe disease.The lack of a measurable anti-viral effect is difficult to interpret. The need for virologic efficacy endpoints in influenza therapeutics has been well argued [12] but, to date, even oseltamivir has not shown conclusive efficacy in terms of decreased viral shedding. The prior study with anti-influenza convalescent plasma [2] did report a difference in rate of decrease of viral shedding, though the cohort design and high mortality in the control arm make direct comparisons to this study difficult. The prior study with hyper-immune antiinfluenza immunoglobulin did show virologic benefit on day 3 and 5, though as previously noted did not show clinical benefit for the primary analysis population. [11] Currently the FDA does not consider virologic endpoints alone to be sufficient as primary endpoints given the lack of a predictive relationship between reductions in viral titers and clinical benefit, as well as substantial variability in methods of quantifying viral shedding. [13] The use of HAI titer as a measure of immunity in the prevention of influenza is well established, [14] and therefore an increase in HAI titers by plasma might be anticipated to decrease viral shedding. Additionally, several hundred units of plasma are screened each week to support this study, so the assay needed to be scalable for high throughput. For these reasons, units for this study were screened by HAI. However, the prior cohort study with anti-influenza convalescent plasma screened units by neutralizing antibody titer (NAT). [2] While NAT and HAI are generally related, there is not sufficient data to know which is the more appropriate method for screening plasma units. Additionally, it is possible that systemically administered antibodies do not sufficiently permeate mucosal surfaces in order to affect viral replication.There was a demonstrable difference in geometric mean titers in the plasma treatment arm compared to non-treated participants in the first few days after plasma administration. The analysis of the pharmacokinetic/pharmacodynamic (PK/PD) relationship of this intervention, however, presents several challenges. The administered plasma is not discernable from the intrinsic immune response. Unlike small molecules, the baseline titer does not begin at 0 due to both pre-existing immunity (prior infections and vaccinations) as well as any immune response occurring after the illness onset. By Day 28, the titer is higher in all participants regardless of treatment due to the adaptive immune response and remains elevated above baseline for months. Given the complexity of this type of analysis, the PK/PD is beyond the scope of this paper.We were not able to record any effect of immune plasma on decreasing the symptoms of influenza illness. Given the severe nature of the illness in our study population (58% were in the ICU), the ability to ascertain symptoms reliably and reproducibly may indeed be questionable. There was also no difference between arms in the number of days during follow-up that oxygen supplementation was used despite the suggested improvement in resolution of tachypnea and hypoxia in plasma recipients. This may conceivably reflect the practice (intentional or by omission) of delayed discontinuation of supplemental oxygen despite the resolution of hypoxia.The use of an ordinal scale of clinical status, using levels of care as was done in our analysis, avoids much of the variation seen in our primary endpoint. While originally developed for use in a different influenza therapeutic study, and while not in the original analysis plan, using this scale we were encouraged to see the significant difference in outcomes between the treatment arms.The study has several limitations. There was limited prior data by which an effect size could be determined for sample size calculations and, in the end, this study was underpowered.The unblinded design was another limitation of the study. Potential placebos (e.g. saline with albumin) were debated during protocol development, although even with elaborate blinding schemes the study team is unlikely to have been effectively blinded. Ultimately it was concluded that incorporation of a placebo should await a larger, more definitive trial. One unintended consequence of this decision was the observation that losses to follow up appeared to be somewhat higher in the participants that received standard care as compared to those that received plasma. After being consented but then informed that no specific study treatment would be provided, we suspect that participants that received standard care were less motivated to complete all study visits. This however, did not compromise our ability to ascertain the primary endpoint.At baseline, there were some differences in oxygen dependency, rates of mechanical ventilation, and APACHE scores suggesting that the standard care arm may have had participants presenting with more severe disease. Due to the association of age and pregnancy with outcomes in H1N1 influenza, these were chosen as the primary stratification categories for randomization. With the limited sample size, we were concerned that additional stratification could have led to incomplete filling of blocks (over-stratification), and subsequent imbalances. The differences in the severity of illness likely also accounts for the higher viral burden in nasal and oropharyngeal swabs at baseline in the standard care arm.For a variety of reasons, a study of this type proved to be very difficult to execute. Despite engagement of established investigators in infectious diseases, intensive care, and emergency medicine at 29 academic medical centers, enrollment and randomization of 98 participants took over 4 years. Major challenges included a low incidence of influenza illness in some years of the study and the lack of experience of most blood establishments with using plasma as an investigational product. Some participants, families, and even treating physicians also expressed reluctance in using a human blood product for a disease like influenza, where morbidity and mortality is often underappreciated. There were additional challenges unique to the investigational product including the moving target of antigenic drift in circulating influenza subtypes and the need to match this evolution over time with contemporaneous plasma, and the comparatively short shelf life of plasma units necessitating frequent replenishment of expiring units.Although these results generally did not reach formal statistical significance, this trial had multiple endpoints suggestive of improved outcome among participants who received plasma compared to standard care alone. Given the need for better therapies for influenza as well as the need to have strategies in place to rapidly launch effective therapeutic countermeasures for diseases of this type, it is of critical importance to accurately determine the efficacy of immune plasma. With these considerations, we believe that this approach should be further studied in a larger randomized trial. As noted, such a trial is presently underway.\\n\\nSupplementary Material\\n\\nRefer to Web version on PubMed Central for supplementary material. \\n\\nBaseline virology\\n\\nNasal swab (log 10 copies/mL) Median (Q1, Q3), N = 81 3. Table 4 Serious Adverse Events that occurred in more than one participant by treatment actually received Adverse events that occurred between day 0 and 7 in more than one participant \\n\\n\"]"
      ]
     },
     "execution_count": 42,
     "metadata": {},
     "output_type": "execute_result"
    }
   ],
   "source": [
    "list(data_dict['consolidated_full_text']['text'][1])"
   ]
  },
  {
   "cell_type": "markdown",
   "metadata": {},
   "source": [
    "## 3.0 - Export Dataframes for Offline Analysis or Secondary Processes\n",
    "\n",
    "The following code block will allow you to select and export dataframes to a local directory.  Use the inputs below to write the files to your current directory and to apply a timestamp to the filenames to prevent the risk of overwriting prior files saved to that folder."
   ]
  },
  {
   "cell_type": "markdown",
   "metadata": {},
   "source": [
    "## 3.1 - Load Export Functions\n",
    "\n",
    "The functions below will make two types of export types available to the user.  One will allow you to export the files as .xlsx files, while the other supports exporting as parquet."
   ]
  },
  {
   "cell_type": "code",
   "execution_count": 43,
   "metadata": {},
   "outputs": [],
   "source": [
    "def dict_to_excel(dict_name, dframe, subfolder, timestamp = False):\n",
    "    \n",
    "    # Inputs: a dictionary of dataframes; timestamp = True adds an ISO-formatted suffix to the filename\n",
    "    # Description: Writes dataframes contained within a dictionary to xlsx (on your directory)\n",
    "\n",
    "    if subfolder:\n",
    "        file_path = subfolder+'/'\n",
    "        suffix = '_' + re.sub(r\"\\:+\", '', dt.datetime.now().isoformat()) + '.xlsx' if timestamp else '.xlsx'  \n",
    "        file_path = os.path.join(file_path, dframe + suffix)\n",
    "    else:\n",
    "        suffix = '_' + re.sub(r\"\\:+\", '', dt.datetime.now().isoformat()) + '.xlsx' if timestamp else '.xlsx'  \n",
    "        file_path = os.path.join(dframe + suffix)\n",
    "        \n",
    "    try:\n",
    "        dict_name[dframe].to_excel(file_path, index = False)\n",
    "        print('Successfully wrote {} with {} rows and {} columns to the directory'.format(dframe+suffix, dict_name[dframe].shape[0], dict_name[dframe].shape[1]))\n",
    "    except Exception as e:\n",
    "        print('Writing the data to the directory failed')\n",
    "        \n",
    "def dict_to_parquet(dict_name, dframe, subfolder, timestamp = False):\n",
    "    \n",
    "    # Inputs: a dictionary of dataframes; timestamp = True adds an ISO-formatted suffix to the filename\n",
    "    # Description: Writes dataframes contained within a dictionary to parquet (on your directory)\n",
    "\n",
    "    if subfolder:\n",
    "        file_path = subfolder+'/'\n",
    "        suffix = '_' + re.sub(r\"\\:+\", '', dt.datetime.now().isoformat()) + '.parquet.gzip' if timestamp else '.parquet.gzip'  \n",
    "        file_path = os.path.join(file_path, dframe + suffix)\n",
    "    else:\n",
    "        suffix = '_' + re.sub(r\"\\:+\", '', dt.datetime.now().isoformat()) + '.parquet.gzip' if timestamp else '.parquet.gzip'  \n",
    "        file_path = os.path.join(dframe + suffix)\n",
    "        \n",
    "    try:\n",
    "        dict_name[dframe].to_parquet(file_path, compression='gzip')\n",
    "        print('Successfully wrote {} with {} rows and {} columns to the directory'.format(dframe+suffix, dict_name[dframe].shape[0], dict_name[dframe].shape[1]))\n",
    "    except Exception as e:\n",
    "        print('Writing the data to the directory failed')\n"
   ]
  },
  {
   "cell_type": "markdown",
   "metadata": {},
   "source": [
    "## 3.2 - Select and Export Files\n",
    "\n",
    "The code block below will allow you to select which files you would like to extract and in what format.  If choosing to write the files to a \"subfolder\" - please ensure that the subfolder exists in your directory."
   ]
  },
  {
   "cell_type": "markdown",
   "metadata": {},
   "source": [
    "Select one or more available dataframes, then select whether or not you'd like the files saved to the current working directory or a subfolder in the directory.  Lastly, if you would like a timestamp to be added to your exported filenames, select Timestamp = 'yes' to prevent overwriting prior files saved to the folder.\n",
    "\n",
    "### Important Note:\n",
    "The **consolidate_full_text** label in the Tables-menu option below contains the \"stacked\" full-text contained in all of the original datasources (combined).  The other labels containing the **full_text** suffix contain the full text for those respective sources ONLY."
   ]
  },
  {
   "cell_type": "code",
   "execution_count": 44,
   "metadata": {},
   "outputs": [
    {
     "data": {
      "application/vnd.jupyter.widget-view+json": {
       "model_id": "f5f0526125a04dc8be56a777db0da6cf",
       "version_major": 2,
       "version_minor": 0
      },
      "text/plain": [
       "SelectMultiple(description='Tables:', layout=Layout(width='50%'), options=('biorxiv_medrxiv_full_text', 'pmc_c…"
      ]
     },
     "metadata": {},
     "output_type": "display_data"
    },
    {
     "data": {
      "application/vnd.jupyter.widget-view+json": {
       "model_id": "9f8531e7d94d4dc1aca7efceef9873b8",
       "version_major": 2,
       "version_minor": 0
      },
      "text/plain": [
       "interactive(children=(RadioButtons(description='Subfolder:', options=('no', 'yes'), value='no'), Output()), _d…"
      ]
     },
     "metadata": {},
     "output_type": "display_data"
    },
    {
     "data": {
      "application/vnd.jupyter.widget-view+json": {
       "model_id": "456517859813427a942d9509ed06a7f3",
       "version_major": 2,
       "version_minor": 0
      },
      "text/plain": [
       "RadioButtons(description='Timestamp:', options=('no', 'yes'), value='no')"
      ]
     },
     "metadata": {},
     "output_type": "display_data"
    },
    {
     "data": {
      "application/vnd.jupyter.widget-view+json": {
       "model_id": "7a7edd8ea0b9445ab726d4a53c025481",
       "version_major": 2,
       "version_minor": 0
      },
      "text/plain": [
       "RadioButtons(description='Output Type:', options=('xlsx', 'parquet'), value='xlsx')"
      ]
     },
     "metadata": {},
     "output_type": "display_data"
    }
   ],
   "source": [
    "dict_keys = widgets.SelectMultiple(\n",
    "    options=data_dict.keys(),\n",
    "    description='Tables:',\n",
    "    disabled=False,\n",
    "    layout=Layout(width='50%')\n",
    ")\n",
    "\n",
    "display(dict_keys)\n",
    "\n",
    "subfolder_option = widgets.RadioButtons(\n",
    "    options=['no','yes'],\n",
    "    value='no',\n",
    "    description='Subfolder:',\n",
    "    disabled=False\n",
    ")\n",
    "\n",
    "output_type = widgets.RadioButtons(\n",
    "    options=['xlsx','parquet'],\n",
    "    value='xlsx',\n",
    "    description='Output Type:',\n",
    "    disabled=False\n",
    ")\n",
    "\n",
    "timestamp_option = widgets.RadioButtons(\n",
    "    options=['no','yes'],\n",
    "    value='no',\n",
    "    description='Timestamp:',\n",
    "    disabled=False\n",
    ")\n",
    "\n",
    "subfolder_text = widgets.Text(\n",
    "    value='output',\n",
    "    placeholder='Subfolder name',\n",
    "    description='Subfolder:',\n",
    "    disabled=False,\n",
    "    layout=Layout(width='50%')\n",
    ")\n",
    "\n",
    "def sub_folder_edit(y):\n",
    "    if(y=='yes'):\n",
    "        display(subfolder_text)\n",
    "        subfolder_text.on_submit(subfolder_text)\n",
    "        print('Your file(s) will be written to the subfolder in {}[Your Entry Above]'.format(os.getcwd()+os.sep))\n",
    "    else:\n",
    "        print('Using {} folder'.format(os.getcwd()))\n",
    "        \n",
    "y = widgets.interactive(sub_folder_edit, y=subfolder_option)\n",
    "\n",
    "display(y, timestamp_option, output_type)"
   ]
  },
  {
   "cell_type": "markdown",
   "metadata": {},
   "source": [
    "## Reminder: Do not rerun the cell above after applying your inputs\n",
    "\n",
    "### Click on and Run this cell to proceed\n",
    "Execute the code cell below to export the csv files to your chosen directory.\n",
    "\n",
    "**NOTE:** If you have chosen to write your files to a \"subfolder\" - ensure that the folder can be found in your working directory.  The function below will \"not create a subfolder\" in your directory."
   ]
  },
  {
   "cell_type": "code",
   "execution_count": 45,
   "metadata": {},
   "outputs": [
    {
     "name": "stdout",
     "output_type": "stream",
     "text": [
      "Successfully wrote biorxiv_medrxiv_full_text.xlsx with 803 rows and 11 columns to the directory\n",
      "Successfully wrote pmc_custom_license_full_text.xlsx with 1426 rows and 11 columns to the directory\n",
      "Successfully wrote comm_use_subset_full_text.xlsx with 9000 rows and 11 columns to the directory\n",
      "Successfully wrote noncomm_use_subset_full_text.xlsx with 1973 rows and 11 columns to the directory\n",
      "Successfully wrote metadata_file.xlsx with 29500 rows and 15 columns to the directory\n",
      "Successfully wrote consolidated_full_text.xlsx with 13202 rows and 12 columns to the directory\n"
     ]
    }
   ],
   "source": [
    "if subfolder_option.value == 'yes':\n",
    "    subfolder = subfolder_text.value\n",
    "else:\n",
    "    subfolder = None\n",
    "    \n",
    "dframe_list = []\n",
    "for df in dict_keys.value:\n",
    "    dframe_list.append(df)\n",
    "\n",
    "if timestamp_option.value == 'yes':\n",
    "    timestamp_boolean = True\n",
    "else:\n",
    "    timestamp_boolean = False\n",
    " \n",
    "for df in dframe_list:\n",
    "    if output_type.value == 'parquet':\n",
    "        dict_to_parquet(data_dict, df, subfolder, timestamp = timestamp_boolean)\n",
    "    else:\n",
    "        dict_to_excel(data_dict, df, subfolder, timestamp = timestamp_boolean)"
   ]
  },
  {
   "cell_type": "code",
   "execution_count": null,
   "metadata": {},
   "outputs": [],
   "source": []
  }
 ],
 "metadata": {
  "kernelspec": {
   "display_name": "Python 3",
   "language": "python",
   "name": "python3"
  },
  "language_info": {
   "codemirror_mode": {
    "name": "ipython",
    "version": 3
   },
   "file_extension": ".py",
   "mimetype": "text/x-python",
   "name": "python",
   "nbconvert_exporter": "python",
   "pygments_lexer": "ipython3",
   "version": "3.6.2"
  }
 },
 "nbformat": 4,
 "nbformat_minor": 2
}
